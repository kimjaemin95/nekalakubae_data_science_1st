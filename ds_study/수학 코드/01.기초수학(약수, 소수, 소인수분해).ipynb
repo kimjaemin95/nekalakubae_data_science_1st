{
 "cells": [
  {
   "cell_type": "markdown",
   "id": "2445c026",
   "metadata": {},
   "source": [
    "# 기초 수학"
   ]
  },
  {
   "cell_type": "markdown",
   "id": "29d44d5a",
   "metadata": {},
   "source": [
    "### 약수와 소수\n",
    "- 약수 : 어떤 수를 나누어 떨어지게 하는 수\n",
    "- 소수 : 1과 자신만을 약수로 가지는 수(단, 1은 제외)"
   ]
  },
  {
   "cell_type": "code",
   "execution_count": 22,
   "id": "d7423ac6",
   "metadata": {},
   "outputs": [
    {
     "name": "stdout",
     "output_type": "stream",
     "text": [
      "0이 아닌 정수 입력 :1547\n",
      "1547의 약수 : 1\n",
      "1547의 약수 : 7\n",
      "1547의 약수 : 13\n",
      "1547의 약수 : 17\n",
      "1547의 약수 : 91\n",
      "1547의 약수 : 119\n",
      "1547의 약수 : 221\n",
      "1547의 약수 : 1547\n"
     ]
    }
   ],
   "source": [
    "# 약수 찾기\n",
    "input_num = int(input(\"0이 아닌 정수 입력 :\"))\n",
    "\n",
    "for num in range(1, input_num+1):\n",
    "    \n",
    "    # 입력 정수를 나눴을 때 나머지가 0인 숫자가 약수이다.\n",
    "    if input_num % num == 0:\n",
    "        print(\"{}의 약수 : {}\".format(input_num, num))\n",
    "    "
   ]
  },
  {
   "cell_type": "code",
   "execution_count": 20,
   "id": "26308800",
   "metadata": {},
   "outputs": [
    {
     "name": "stdout",
     "output_type": "stream",
     "text": [
      "0보다 큰 정수 입력 :30\n",
      "2 : 소수\n",
      "3 : 소수\n",
      "4 : 소수\n",
      "5 : \t\t합성수\n",
      "6 : 소수\n",
      "7 : 소수\n",
      "8 : 소수\n",
      "9 : 소수\n",
      "10 : \t\t합성수\n",
      "11 : 소수\n",
      "12 : 소수\n",
      "13 : 소수\n",
      "14 : 소수\n",
      "15 : \t\t합성수\n",
      "16 : 소수\n",
      "17 : 소수\n",
      "18 : 소수\n",
      "19 : 소수\n",
      "20 : \t\t합성수\n",
      "21 : 소수\n",
      "22 : 소수\n",
      "23 : 소수\n",
      "24 : 소수\n",
      "25 : \t\t합성수\n",
      "26 : 소수\n",
      "27 : 소수\n",
      "28 : 소수\n",
      "29 : 소수\n",
      "30 : \t\t합성수\n"
     ]
    }
   ],
   "source": [
    "input_num = int(input(\"0보다 큰 정수 입력 :\"))\n",
    "\n",
    "# 1은 소수가 아니기 때문에 range의 start값이 2부터 시작\n",
    "for num in range(2, input_num + 1):\n",
    "    flag = True\n",
    "    \n",
    "    for it in range(2, num):\n",
    "        if num % it == 0:\n",
    "            flag = False\n",
    "            break\n",
    "    if flag:\n",
    "        print(\"{} : 소수\".format(num))\n",
    "    else:\n",
    "        print(\"{} : \\t\\t합성수\".format(num))"
   ]
  },
  {
   "cell_type": "markdown",
   "id": "37a7fc39",
   "metadata": {},
   "source": [
    "## 소수 찾기\n",
    "# 사용자가 입력한 숫자까지의 소수 출력\n"
   ]
  },
  {
   "cell_type": "markdown",
   "id": "1abdc06e",
   "metadata": {},
   "source": [
    "### 소인수분해\n",
    "- 소인수(소수 + 인수) : 약수(인수)중에서 소수인 숫자를 소인수라고 한다.\n",
    "- 소인수분해 : 1보다 큰 정수를 소인수의 곱으로 나타낸 것을 소인수분해라고 한다."
   ]
  },
  {
   "cell_type": "markdown",
   "id": "32ab35a4",
   "metadata": {},
   "source": [
    "$ 20의 소인수분해 2^2*5 $"
   ]
  },
  {
   "cell_type": "code",
   "execution_count": 13,
   "id": "890e73c3",
   "metadata": {},
   "outputs": [
    {
     "name": "stdout",
     "output_type": "stream",
     "text": [
      "1보다 큰 정수 입력 :14\n",
      "소인수 : 2\n",
      "소인수 : 7\n"
     ]
    }
   ],
   "source": [
    "# 소인수 구하기\n",
    "input_num = int(input(\"1보다 큰 정수 입력 :\"))\n",
    "\n",
    "n = 2\n",
    "while n <= input_num:\n",
    "    if input_num % n == 0:\n",
    "        print(\"소인수 :\", n)\n",
    "        input_num /= n\n",
    "    else:\n",
    "        n += 1"
   ]
  },
  {
   "cell_type": "markdown",
   "id": "e00ded14",
   "metadata": {},
   "source": [
    "### 소인수분해와 약수"
   ]
  },
  {
   "cell_type": "markdown",
   "id": "95d676ce",
   "metadata": {},
   "source": [
    "$ 14의 약수 ? 2*7 -> (1,2), (1,7) -> (1, 2, 7, 14)$"
   ]
  },
  {
   "cell_type": "markdown",
   "id": "211fbe42",
   "metadata": {},
   "source": [
    "--- "
   ]
  },
  {
   "cell_type": "code",
   "execution_count": 13,
   "id": "44cbed24",
   "metadata": {},
   "outputs": [
    {
     "name": "stdout",
     "output_type": "stream",
     "text": [
      "1보다 큰 정수 입력 :72\n",
      "소인수 : 2\n",
      "소인수 : 2\n",
      "소인수 : 2\n",
      "소인수 : 3\n",
      "소인수 : 3\n"
     ]
    }
   ],
   "source": [
    "# N정수에 x를 곱하면 y의 제곱이 된다고 할 때, x에 해당하는 가장 작은 정수를 구하자\n",
    "input_num = int(input(\"1보다 큰 정수 입력 :\"))\n",
    "\n",
    "n = 2\n",
    "search_num = []\n",
    "while n <= input_num:\n",
    "    if input_num % n == 0:\n",
    "        print(\"소인수 :\", n)\n",
    "        if search_num.count(n) == 0:\n",
    "            search_num.append(n)\n",
    "        elif search_num.count(n) ==1:\n",
    "            search_num.remove(n)\n",
    "            \n",
    "        input_num /= n\n",
    "    else:\n",
    "        n += 1"
   ]
  },
  {
   "cell_type": "code",
   "execution_count": 14,
   "id": "b7068ecc",
   "metadata": {},
   "outputs": [
    {
     "name": "stdout",
     "output_type": "stream",
     "text": [
      "Search numbers : [2]\n"
     ]
    }
   ],
   "source": [
    "print(\"Search numbers :\",search_num)"
   ]
  },
  {
   "cell_type": "code",
   "execution_count": null,
   "id": "6e921763",
   "metadata": {},
   "outputs": [],
   "source": []
  }
 ],
 "metadata": {
  "kernelspec": {
   "display_name": "Python 3 (ipykernel)",
   "language": "python",
   "name": "python3"
  },
  "language_info": {
   "codemirror_mode": {
    "name": "ipython",
    "version": 3
   },
   "file_extension": ".py",
   "mimetype": "text/x-python",
   "name": "python",
   "nbconvert_exporter": "python",
   "pygments_lexer": "ipython3",
   "version": "3.8.11"
  }
 },
 "nbformat": 4,
 "nbformat_minor": 5
}

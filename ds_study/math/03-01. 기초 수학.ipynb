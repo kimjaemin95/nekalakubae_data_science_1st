{
 "cells": [
  {
   "cell_type": "markdown",
   "id": "3abdd737",
   "metadata": {},
   "source": [
    "# 03-01. 기초 수학"
   ]
  },
  {
   "cell_type": "markdown",
   "id": "5e8a6a15",
   "metadata": {},
   "source": [
    "## 1. 최대공약수"
   ]
  },
  {
   "cell_type": "markdown",
   "id": "5fd49a22",
   "metadata": {},
   "source": [
    "- 공약수 \n",
    "    - 두 개 이상의 수에서 공통된 약수를 공약수라고 한다.\n",
    "    - 12의 약수 : 1,2,3,4,6,12\n",
    "    - 20의 약수 : 1,2,4,5,10,12\n",
    "    - 12와 20의 공약수 : 1,2,4\n",
    "    - 12와 20의 최대공약수 : 4\n",
    "- 최대공약수 \n",
    "    - 공약수 중에 가장 큰 수를 최대 공약수라고 한다.\n",
    "- 소인수분해를 이용한 최대공약수, 공약수 구하기\n",
    "    - 12의 소인수분해 : 2^2 * 3\n",
    "    - 20의 소인수분해 : 2^2 * 5\n",
    "    - 공통인 소인수의 거듭제곱에서 지수(밑)가 작은 수를 모두 곱한다.\n",
    "    - 12와 20의 최대 공약수는 4, 공약수는 1,2,4\n"
   ]
  },
  {
   "cell_type": "code",
   "execution_count": 1,
   "id": "dd38e1bf",
   "metadata": {},
   "outputs": [
    {
     "name": "stdout",
     "output_type": "stream",
     "text": [
      "1보다 큰 정수 입력 : 12\n",
      "1보다 큰 정수 입력 : 36\n",
      "12과 36의 공약수 : 1\n",
      "12과 36의 공약수 : 2\n",
      "12과 36의 공약수 : 3\n",
      "12과 36의 공약수 : 4\n",
      "12과 36의 공약수 : 6\n",
      "12과 36의 공약수 : 12\n",
      "12과 36의 최대공약수는 12 입니다.\n"
     ]
    }
   ],
   "source": [
    "# 두 개의 수를 입력하면 공약수와 최대공약수를 출력하는 코드 작성\n",
    "# 단, num1 < num2 이다.\n",
    "num1 = int(input(\"1보다 큰 정수 입력 : \"))\n",
    "num2 = int(input(\"1보다 큰 정수 입력 : \"))\n",
    "max_num = 0\n",
    "\n",
    "for i in range(1, num1 + 1):\n",
    "    if num1 % i == 0 and num2 % i == 0:\n",
    "        print(\"{}과 {}의 공약수 : {}\".format(num1, num2, i))\n",
    "        max_num = i\n",
    "        \n",
    "print(\"{}과 {}의 최대공약수는 {} 입니다.\".format(num1, num2, max_num))"
   ]
  },
  {
   "cell_type": "code",
   "execution_count": 3,
   "id": "5f2feb13",
   "metadata": {},
   "outputs": [
    {
     "name": "stdout",
     "output_type": "stream",
     "text": [
      "1보다 큰 정수 입력 : 12\n",
      "1보다 큰 정수 입력 : 54\n",
      "1보다 큰 정수 입력 : 72\n",
      "12, 54, 72의 공약수 : 1\n",
      "12, 54, 72의 공약수 : 2\n",
      "12, 54, 72의 공약수 : 3\n",
      "12, 54, 72의 공약수 : 6\n",
      "12, 54, 72의 최대공약수 : 6\n"
     ]
    }
   ],
   "source": [
    "# 세 개의 수를 입력하면 공약수와 최대 공약수를 출력하는 코드를 작성하자.\n",
    "# 단, num1 < num2, num3\n",
    "num1 = int(input(\"1보다 큰 정수 입력 : \"))\n",
    "num2 = int(input(\"1보다 큰 정수 입력 : \"))\n",
    "num3 = int(input(\"1보다 큰 정수 입력 : \"))\n",
    "max_num = 0\n",
    "\n",
    "for i in range(1, num1 + 1):\n",
    "    if (num1 % i == 0) and (num2 % i == 0) and (num3 % i == 0):\n",
    "        print(\"{}, {}, {}의 공약수 : {}\".format(num1, num2, num3, i))\n",
    "        max_num = i\n",
    "\n",
    "print(\"{}, {}, {}의 최대공약수 : {}\".format(num1, num2, num3, max_num))\n"
   ]
  },
  {
   "cell_type": "markdown",
   "id": "7c22850d",
   "metadata": {},
   "source": [
    "### 유클리드 호제법으로 최대공약수 구하기\n",
    "- x, y의 최대공약수 y, r(x%y)의 최대공약수와 같다"
   ]
  },
  {
   "cell_type": "code",
   "execution_count": 10,
   "id": "a48667ea",
   "metadata": {},
   "outputs": [
    {
     "name": "stdout",
     "output_type": "stream",
     "text": [
      "1보다 큰 정수 :12\n",
      "1보다 큰 정수 :36\n",
      "최대공약수 : 12\n",
      "1\n",
      "2\n",
      "3\n",
      "4\n",
      "6\n",
      "12\n"
     ]
    }
   ],
   "source": [
    "num1 = int(input(\"1보다 큰 정수 :\"))\n",
    "num2 = int(input(\"1보다 큰 정수 :\"))\n",
    "\n",
    "temp1 = num1\n",
    "temp2 = num2\n",
    "\n",
    "while temp2 > 0:\n",
    "    temp = temp2\n",
    "    temp2 = temp1 % temp2\n",
    "    temp1 = temp\n",
    "print(\"최대공약수 :\", temp1)\n",
    "\n",
    "for i in range(1, temp1 + 1):\n",
    "    if temp % i ==0:\n",
    "        print(i)"
   ]
  },
  {
   "cell_type": "markdown",
   "id": "92ddd169",
   "metadata": {},
   "source": [
    "# 2. 최소공배수\n",
    "\n",
    "- 공배수 : 두 개 이상의 수에서 공통된 배수를 공배수라고 한다.\n",
    "- 최소공배수 : 두 개 이상의 수에서 공통된 배수중 가장 작은 수\n",
    "    - 공통인 소인수의 거듭제곱에서 지수가 크고 공통아닌 수를 모두 곱한다.\n",
    "    - 4의 소인수분해 : 2^2\n",
    "    - 12의 소인수분해 : 2^2*3\n",
    "    - 4와 12의 최소공배수 : 2^2*3"
   ]
  },
  {
   "cell_type": "code",
   "execution_count": 19,
   "id": "1d08b927",
   "metadata": {},
   "outputs": [
    {
     "name": "stdout",
     "output_type": "stream",
     "text": [
      "1보다 큰 정수 : 12\n",
      "1보다 큰 정수 : 32\n",
      "12과 32의 공약수 : 1\n",
      "12과 32의 공약수 : 2\n",
      "12과 32의 공약수 : 4\n",
      "최대공약수 : 4\n",
      "최대공약수 : 96\n"
     ]
    }
   ],
   "source": [
    "# 두 개의 수를 입력하면 최소공배수를 출력하는 코드\n",
    "# 단, num1 < num2\n",
    "\n",
    "num1 = int(input(\"1보다 큰 정수 : \"))\n",
    "num2 = int(input(\"1보다 큰 정수 : \"))\n",
    "max_num = 0\n",
    "\n",
    "for i in range(1, num1):\n",
    "    if (num1 % i == 0) and (num2 % i == 0):\n",
    "        print(\"{}과 {}의 공약수 : {}\".format(num1, num2, i))\n",
    "        max_num = i\n",
    "        \n",
    "        \n",
    "\n",
    "# 두 개의 수에서 최대공약수를 구한 후 입력한 숫자들의 곱에서 최대공약수를 나눈 몫을 구하면 그게 최소공배수이다.\n",
    "print(\"최대공약수 : {}\".format(max_num))\n",
    "print(\"최대공약수 : {}\".format(num1 * num2 // max_num))"
   ]
  },
  {
   "cell_type": "code",
   "execution_count": 27,
   "id": "b9ec0be0",
   "metadata": {},
   "outputs": [
    {
     "name": "stdout",
     "output_type": "stream",
     "text": [
      "1보다 큰 정수 :6\n",
      "1보다 큰 정수 :12\n",
      "1보다 큰 정수 :18\n",
      "6, 12의 최대공약수 : 6\n",
      "6, 12의 최소공배수 : 12\n",
      "6, 12, 18의 최대공약수 : 6\n",
      "6, 12, 18의 최소공배수 : 36\n"
     ]
    }
   ],
   "source": [
    "# 세 개의 수를 입력하여 최소공배수 구하기\n",
    "# 단, 입력된 세 개의 수 중에서 num1이 가장 작다\n",
    "num1 = int(input(\"1보다 큰 정수 :\"))\n",
    "num2 = int(input(\"1보다 큰 정수 :\"))\n",
    "num3 = int(input(\"1보다 큰 정수 :\"))\n",
    "max_num = 0\n",
    "\n",
    "for i in range(1, num1+1):\n",
    "    if (num1 % i == 0) and (num2 % i == 0):\n",
    "#         print(\"{}, {}의 공약수 : {}\".format(num1, num2, i))\n",
    "        max_num = i\n",
    "print(\"{}, {}의 최대공약수 : {}\".format(num1, num2, max_num))\n",
    "min_num = (num1 * num2) // max_num\n",
    "print(\"{}, {}의 최소공배수 : {}\".format(num1, num2, min_num))\n",
    "\n",
    "max_num2 = 0\n",
    "for i in range(1, min_num + 1):\n",
    "    if (min_num % i == 0) and num3 % i == 0:\n",
    "        max_num2 = i\n",
    "        \n",
    "print(\"{}, {}, {}의 최대공약수 : {}\".format(num1, num2, num3, max_num2))\n",
    "min_num2 = (min_num * num3)//max_num2\n",
    "print(\"{}, {}, {}의 최소공배수 : {}\".format(num1, num2, num3, min_num2))\n"
   ]
  },
  {
   "cell_type": "code",
   "execution_count": 32,
   "id": "591ec80d",
   "metadata": {},
   "outputs": [
    {
     "name": "stdout",
     "output_type": "stream",
     "text": [
      "3, 4의 최대공약수 : 1\n",
      "3, 4의 최소공배수 : 12\n",
      "3, 4, 5의 최대공약수 : 1\n",
      "3, 4, 5의 최소공배수 : 60\n"
     ]
    }
   ],
   "source": [
    "# 섬마을에 과일, 생선, 야채를 판매하는 배가 다음 주기로 입항한다고 할 때, 모든 배가 입항하는 날짜를 계산해 보자.\n",
    "# 과일 선박 : 3일 주기\n",
    "# 생선 선박 : 4일 주기\n",
    "# 야채 선박 : 5일 주기\n",
    "\n",
    "ship_1 = 3 ; ship_2 = 4 ; ship_3 = 5 ;\n",
    "max_day = 0\n",
    "\n",
    "for i in range(1, ship_1+1):\n",
    "    if (ship_1 % i == 0) and (ship_2 % i == 0):\n",
    "        max_day = i \n",
    "\n",
    "min_day = (ship_1 * ship_2) // max_day\n",
    "print(\"{}, {}의 최대공약수 : {}\".format(ship_1, ship_2, max_day))\n",
    "print(\"{}, {}의 최소공배수 : {}\".format(ship_1, ship_2, min_day))\n",
    "\n",
    "max_day_2 = 0 \n",
    "for i in range(1, min_day + 1):\n",
    "    if (min_day % i == 0) and (ship_3 % i == 0):\n",
    "        max_day_2 = i \n",
    "\n",
    "min_day_2 = (min_day * ship_3) // max_day_2\n",
    "print(\"{}, {}, {}의 최대공약수 : {}\".format(ship_1, ship_2, ship_3, max_day_2))\n",
    "print(\"{}, {}, {}의 최소공배수 : {}\".format(ship_1, ship_2, ship_3, min_day_2))"
   ]
  },
  {
   "cell_type": "markdown",
   "id": "0035654f",
   "metadata": {},
   "source": [
    "---"
   ]
  },
  {
   "cell_type": "markdown",
   "id": "861c23af",
   "metadata": {},
   "source": [
    "# 3. 진법"
   ]
  },
  {
   "cell_type": "markdown",
   "id": "6e373aa6",
   "metadata": {},
   "source": [
    "### 진법이란?\n",
    "- 진법이란 , 특정 숫자 몇 개를 사용하여 수를 표시하는 방법이다\n",
    "- 2진수(BIN), 8진수(OCT), 10진수(DEC), 16진수(HEX)"
   ]
  },
  {
   "cell_type": "markdown",
   "id": "b765a11b",
   "metadata": {},
   "source": [
    "#### 10진수 -> 2진수, 8진수, 16진수 변환하기\n",
    "- binary(2) : bin(), 0b\n",
    "- octal(8) : oct(), 0o\n",
    "- Hexadecimal(16) : hex(), 0x"
   ]
  },
  {
   "cell_type": "code",
   "execution_count": 37,
   "id": "bc921115",
   "metadata": {},
   "outputs": [
    {
     "name": "stdout",
     "output_type": "stream",
     "text": [
      "10진수 : 30\n",
      "2진수 : 0b11110\n",
      "8진수 : 0o36\n",
      "16진수 : 0x1e\n"
     ]
    }
   ],
   "source": [
    "num_dec = 30\n",
    "\n",
    "print(\"10진수 : {}\".format(num_dec))\n",
    "print(\"2진수 : {}\".format(bin(num_dec)))\n",
    "print(\"8진수 : {}\".format(oct(num_dec)))\n",
    "print(\"16진수 : {}\".format(hex(num_dec)))"
   ]
  },
  {
   "cell_type": "code",
   "execution_count": 38,
   "id": "ff686953",
   "metadata": {},
   "outputs": [
    {
     "name": "stdout",
     "output_type": "stream",
     "text": [
      "10진수 타입 : <class 'int'>\n",
      "2진수 타입 : <class 'str'>\n",
      "8진수 타입 : <class 'str'>\n",
      "16진수 타입 : <class 'str'>\n"
     ]
    }
   ],
   "source": [
    "num_dec = 30\n",
    "\n",
    "print(\"10진수 타입 : {}\".format(type(num_dec)))\n",
    "print(\"2진수 타입 : {}\".format(type(bin(num_dec))))\n",
    "print(\"8진수 타입 : {}\".format(type(oct(num_dec))))\n",
    "print(\"16진수 타입 : {}\".format(type(hex(num_dec))))"
   ]
  },
  {
   "cell_type": "code",
   "execution_count": 39,
   "id": "070fb88c",
   "metadata": {},
   "outputs": [
    {
     "name": "stdout",
     "output_type": "stream",
     "text": [
      "10진수 : 30\n",
      "2진수 : 0b11110\n",
      "8진수 : 0o36\n",
      "16진수 : 0x1e\n"
     ]
    }
   ],
   "source": [
    "num_dec = 30\n",
    "\n",
    "print(\"10진수 : {}\".format(num_dec))\n",
    "print(\"2진수 : {}\".format(format(num_dec, '#b')))\n",
    "print(\"8진수 : {}\".format(format(num_dec, '#o')))\n",
    "print(\"16진수 : {}\".format(format(num_dec, '#x')))"
   ]
  },
  {
   "cell_type": "code",
   "execution_count": 45,
   "id": "33e1a952",
   "metadata": {},
   "outputs": [
    {
     "name": "stdout",
     "output_type": "stream",
     "text": [
      "10진수 : 30\n",
      "2진수 : 11110\n",
      "8진수 : 36\n",
      "16진수 : 1e\n"
     ]
    }
   ],
   "source": [
    "num_dec = 30\n",
    "\n",
    "print(\"10진수 : {}\".format(num_dec))\n",
    "print(\"2진수 : {}\".format(format(num_dec, 'b')))\n",
    "print(\"8진수 : {}\".format(format(num_dec, 'o')))\n",
    "print(\"16진수 : {}\".format(format(num_dec, 'x')))"
   ]
  },
  {
   "cell_type": "code",
   "execution_count": 46,
   "id": "c1a3aa1b",
   "metadata": {},
   "outputs": [
    {
     "name": "stdout",
     "output_type": "stream",
     "text": [
      "0b11110, 0o36, 0x1e\n"
     ]
    }
   ],
   "source": [
    "num_dec = 30\n",
    "\n",
    "print(\"{0:#b}, {0:#o}, {0:#x}\".format(num_dec))"
   ]
  },
  {
   "cell_type": "markdown",
   "id": "2f82f7fb",
   "metadata": {},
   "source": [
    "#### X진수를 10진수로 변환"
   ]
  },
  {
   "cell_type": "code",
   "execution_count": 50,
   "id": "56a31a4d",
   "metadata": {},
   "outputs": [
    {
     "name": "stdout",
     "output_type": "stream",
     "text": [
      "30\n",
      "30\n",
      "30\n",
      "30\n"
     ]
    }
   ],
   "source": [
    "# 2진수를 10진수로 변환\n",
    "print(int('0b11110', 2))\n",
    "# 8진수를 10진수로 변환\n",
    "print(int('0o36', 8))\n",
    "# 16진수를 10진수로 변환\n",
    "print(int('0x1e', 16))\n",
    "# 10진수를 10진수로 변환\n",
    "print(int('30', 10))"
   ]
  },
  {
   "cell_type": "code",
   "execution_count": 53,
   "id": "9cb0792f",
   "metadata": {},
   "outputs": [
    {
     "data": {
      "text/plain": [
       "'0x1e'"
      ]
     },
     "execution_count": 53,
     "metadata": {},
     "output_type": "execute_result"
    }
   ],
   "source": [
    "hex(0b11110)"
   ]
  },
  {
   "cell_type": "code",
   "execution_count": 55,
   "id": "2d3699df",
   "metadata": {},
   "outputs": [
    {
     "data": {
      "text/plain": [
       "'0o36'"
      ]
     },
     "execution_count": 55,
     "metadata": {},
     "output_type": "execute_result"
    }
   ],
   "source": [
    "oct(0o36)"
   ]
  },
  {
   "cell_type": "code",
   "execution_count": 57,
   "id": "e96b25d4",
   "metadata": {},
   "outputs": [
    {
     "data": {
      "text/plain": [
       "'0x1e'"
      ]
     },
     "execution_count": 57,
     "metadata": {},
     "output_type": "execute_result"
    }
   ],
   "source": [
    "hex(0o36)"
   ]
  },
  {
   "cell_type": "markdown",
   "id": "25a35d16",
   "metadata": {},
   "source": [
    "---"
   ]
  },
  {
   "cell_type": "markdown",
   "id": "669a5fe9",
   "metadata": {},
   "source": [
    "# 4. 수열"
   ]
  },
  {
   "cell_type": "markdown",
   "id": "b468239f",
   "metadata": {},
   "source": [
    "### 4-1 등차수열"
   ]
  },
  {
   "cell_type": "markdown",
   "id": "e6f15645",
   "metadata": {},
   "source": [
    "#### 수열이란?\n",
    "- 규칙성을 가지고 나열되어 있는 수들"
   ]
  },
  {
   "cell_type": "markdown",
   "id": "7f695f22",
   "metadata": {},
   "source": [
    "#### 등차수열\n",
    "- 연속된 두 항의 차이가 일정한 수열\n",
    "- $ex)   a_n = 2_n + 1 : 3, 5, 7, 9, 11, 13 ...  x $"
   ]
  },
  {
   "cell_type": "markdown",
   "id": "4705cb85",
   "metadata": {},
   "source": [
    "#### ❗수열의 합\n",
    "- $ S_n = a_1 + a_2 + a_3 + ... $ \n",
    "- $ a_n = S_n - S_(n-1)$ \n",
    "- $ a_1 = S_1 $\n",
    "- $ S_n = n(a_1 + a_n)/2$"
   ]
  },
  {
   "cell_type": "markdown",
   "id": "b76994b9",
   "metadata": {},
   "source": [
    "#### ❗등차 수열과 일반항\n",
    "- 등차 수열 규칙성을 이용해서 일반항을 구할 수 있다.\n",
    "- 일반항 : $ a_n = a_1 + (n-1) * d$\n",
    "    - $ d는 공차 $"
   ]
  },
  {
   "cell_type": "markdown",
   "id": "13a1b15a",
   "metadata": {},
   "source": [
    "#### ❗등차 중항\n",
    "- 연속된 세 항에서 가운데 항\n",
    "    - 5, 9, 13, 17, 21, 25, 29, 33, 37 중\n",
    "    - 17, 21, 25 의 등차 중항은 21이다.\n",
    "    - 13, 17, 21, 25, 29의 등차 중항은 21이다.\n",
    "    - 17 + 25 = 42\n",
    "    - 42 / 2 = 21"
   ]
  },
  {
   "cell_type": "markdown",
   "id": "ec9657b0",
   "metadata": {},
   "source": [
    "#### 등차 수열의 합\n",
    "- 규칙성을 이용해서 모든 항들의 총합을 구할 수 있다."
   ]
  },
  {
   "cell_type": "markdown",
   "id": "1496feb4",
   "metadata": {},
   "source": [
    "#### 등차수열(파이썬)"
   ]
  },
  {
   "cell_type": "code",
   "execution_count": 72,
   "id": "4ddb8284",
   "metadata": {},
   "outputs": [
    {
     "name": "stdout",
     "output_type": "stream",
     "text": [
      "a1 입력 :3\n",
      "공차 d 입력 :4\n",
      "n 입력 :5\n",
      "a1의 값 : 3\n",
      "a2의 값 : 7\n",
      "a3의 값 : 11\n",
      "a4의 값 : 15\n",
      "a5의 값 : 19\n"
     ]
    }
   ],
   "source": [
    "a1 = int(input(\"a1 입력 :\"))\n",
    "d = int(input(\"공차 d 입력 :\"))\n",
    "n = int(input(\"n 입력 :\"))\n",
    "\n",
    "start_idx = 1\n",
    "values = 0\n",
    "\n",
    "while start_idx <= n:\n",
    "    \n",
    "    if start_idx == 1:\n",
    "        values = a1\n",
    "        print(\"a{}의 값 : {}\".format(start_idx, values))\n",
    "        start_idx += 1\n",
    "        continue\n",
    "        \n",
    "    values += d\n",
    "    print(\"a{}의 값 : {}\".format(start_idx, values))\n",
    "    start_idx += 1\n",
    "    "
   ]
  },
  {
   "cell_type": "code",
   "execution_count": 78,
   "id": "b11968f0",
   "metadata": {},
   "outputs": [
    {
     "name": "stdout",
     "output_type": "stream",
     "text": [
      "3\n",
      "7\n",
      "11\n",
      "15\n",
      "19\n"
     ]
    }
   ],
   "source": [
    "# 등차 수열의 일반항 공식 : an = a1 + (n-1) * d\n",
    "for i in range(1, n+1):\n",
    "    an = a1 + (i-1) * d\n",
    "    print(an)"
   ]
  },
  {
   "cell_type": "code",
   "execution_count": 87,
   "id": "bf1703d1",
   "metadata": {},
   "outputs": [
    {
     "name": "stdout",
     "output_type": "stream",
     "text": [
      "1 번째 항 : 5\n",
      "2 번째 항 : 9\n",
      "3 번째 항 : 13\n",
      "4 번째 항 : 17\n",
      "5 번째 항 : 21\n",
      "6 번째 항 : 25\n",
      "7 번째 항 : 29\n",
      "[5, 9, 13, 17, 21, 25, 29]\n",
      "7 번째 항까지의 합 : 119\n"
     ]
    }
   ],
   "source": [
    "# 등차 수열의 합 Sn = n(A1 + An) / 2\n",
    "A1 = 5\n",
    "n = 7\n",
    "d = 4\n",
    "\n",
    "Sn = []\n",
    "for i in range(1, n+1):\n",
    "    An = A1 + (i-1) * d\n",
    "    print(\"{} 번째 항 : {}\".format(i, An))\n",
    "    Sn.append(An)\n",
    "    \n",
    "print(Sn)\n",
    "print(\"{} 번째 항까지의 합 : {}\".format(n, sum(Sn)))\n",
    "# Sn = n * (A1 + An) / 2\n",
    "# An, Sn"
   ]
  },
  {
   "cell_type": "markdown",
   "id": "36f72a09",
   "metadata": {},
   "source": [
    "### 4-2 등비수열\n",
    "- 등비수열 \n",
    "    - 연속된 두 항의 비가 일정한 수열\n",
    "- ❗등비수열의 일반항\n",
    "    - $ a_n = a_1 * r^(n-1) $\n",
    "    - a_n = a_1 * r^(n-1)\n",
    "    \n",
    "- ❗등비중항\n",
    "    - 연속된 세 항에서 가운데 항\n",
    "    - 2, 6,18, 54, 162, 486, 1458에서\n",
    "    - 18, 54, 162 의 등비 중항은 54이다.\n",
    "    - $ 54^2와 18 * 162의 값은 같다. $\n",
    "    \n",
    "- ❗등비 수열의 합\n",
    "    - $ Sn = a_1 * (1-(r^n)) / (1-r) $\n",
    "    - r : 공비\n",
    "    - n : 항의 수"
   ]
  },
  {
   "cell_type": "code",
   "execution_count": 90,
   "id": "22572434",
   "metadata": {},
   "outputs": [
    {
     "data": {
      "text/plain": [
       "8"
      ]
     },
     "execution_count": 90,
     "metadata": {},
     "output_type": "execute_result"
    }
   ],
   "source": [
    "# 등비 수열의 일반항 확인하기\n",
    "data = [2,4,8,16, 32, 64]\n",
    "A1 = data[0]\n",
    "r = 2\n",
    "n = 3\n",
    "An = A1 * r**(n-1)\n",
    "An"
   ]
  },
  {
   "cell_type": "code",
   "execution_count": 94,
   "id": "370ea088",
   "metadata": {},
   "outputs": [
    {
     "data": {
      "text/plain": [
       "126"
      ]
     },
     "execution_count": 94,
     "metadata": {},
     "output_type": "execute_result"
    }
   ],
   "source": [
    "# 등비 수열의 합 확인하기!\n",
    "data = [2,4,8,16, 32, 64]\n",
    "A1 = data[0]\n",
    "r = 2\n",
    "n = len(data)\n",
    "An = int( A1 * (1-r**n) / (1 - r) )\n",
    "An"
   ]
  },
  {
   "cell_type": "code",
   "execution_count": 95,
   "id": "8c2977db",
   "metadata": {},
   "outputs": [
    {
     "data": {
      "text/plain": [
       "126"
      ]
     },
     "execution_count": 95,
     "metadata": {},
     "output_type": "execute_result"
    }
   ],
   "source": [
    "sum(data)"
   ]
  },
  {
   "cell_type": "code",
   "execution_count": 96,
   "id": "430a803c",
   "metadata": {},
   "outputs": [
    {
     "name": "stdout",
     "output_type": "stream",
     "text": [
      "첫 번째 항 a1의 값 :2\n",
      "공비 r의 값 :2\n",
      "항 n의 값 :10\n",
      "1 번째 항의 값 : 2\n",
      "2 번째 항의 값 : 4\n",
      "3 번째 항의 값 : 8\n",
      "4 번째 항의 값 : 16\n",
      "5 번째 항의 값 : 32\n",
      "6 번째 항의 값 : 64\n",
      "7 번째 항의 값 : 128\n",
      "8 번째 항의 값 : 256\n",
      "9 번째 항의 값 : 512\n",
      "10 번째 항의 값 : 1024\n"
     ]
    }
   ],
   "source": [
    "# 다음 수열을 보고 n번째 항의 값을 출력하는 프로그램을 만들어보자\n",
    "# An = {2,4,8,16,32,64,128...}\n",
    "\n",
    "a1 = int(input(\"첫 번째 항 a1의 값 :\"))\n",
    "r = int(input(\"공비 r의 값 :\"))\n",
    "n = int(input(\"항 n의 값 :\"))\n",
    "\n",
    "for i in range(1, n+1):\n",
    "    An = a1 * ( r**(i-1) )\n",
    "    print(\"{} 번째 항의 값 : {}\".format(i, An))\n",
    "    "
   ]
  },
  {
   "cell_type": "code",
   "execution_count": 100,
   "id": "cb4dd626",
   "metadata": {},
   "outputs": [
    {
     "name": "stdout",
     "output_type": "stream",
     "text": [
      "첫 번째 항 a1의 값 :5\n",
      "공비 r의 값 :7\n",
      "항 n의 값 :8\n",
      "1 행 까지의 합 : 5\n",
      "2 행 까지의 합 : 40\n",
      "3 행 까지의 합 : 285\n",
      "4 행 까지의 합 : 2000\n",
      "5 행 까지의 합 : 14005\n",
      "6 행 까지의 합 : 98040\n",
      "7 행 까지의 합 : 686285\n",
      "8 행 까지의 합 : 4804000\n"
     ]
    }
   ],
   "source": [
    "# 다음 수열을 보고 n번째 항까지의 합을 출력하는 프로그램을 작성해보자\n",
    "\n",
    "a1 = int(input(\"첫 번째 항 a1의 값 :\"))\n",
    "r = int(input(\"공비 r의 값 :\"))\n",
    "n = int(input(\"항 n의 값 :\"))\n",
    "\n",
    "for i in range(1, n + 1):\n",
    "    An = int( a1 * (1-r**i) / (1 - r) )\n",
    "    print(\"{} 행 까지의 합 : {}\".format(i, An))"
   ]
  },
  {
   "cell_type": "markdown",
   "id": "cb4f8992",
   "metadata": {},
   "source": [
    "### 5. 시그마 $ (\\sum) $란?\n",
    "- $ \\sum $란, 수열의 합을 나타내는 기호\n",
    "- $ 등차 수열의 일반항 : a_n = a_1 + (n-1) * d$\n",
    "- $ 등차 수열의 합 : S_n = n(a_1 + a_n)/2$\n",
    "- $ 등비 수열의 일반항 : a_n = a_1 * r^{n-1} $\n",
    "- $ 등비 수열의 합 : Sn = a_1 * (1-(r^n)) / (1-r) $    "
   ]
  },
  {
   "cell_type": "markdown",
   "id": "6e4016e2",
   "metadata": {},
   "source": [
    "### 6. 계차 수열\n",
    "- 어떤 수열의 인접하는 두항의 차로 이루어진 또 다른 수열\n",
    "    - $ a_n $ 수열 : {3, 7, 13, 21, 31, 43, 57}\n",
    "    - $ a_n $의 계차 수열 $ b_n $ : {4, 6, 8, 10, 12, 14} // (첫 번째 항이 4이고, 등차가 2인 수열)\n",
    "    - $ 등차 수열의 일반항 : a_n = a_1 + (n-1) * d$\n",
    "    - $ 등차 수열의 합 : S_n = n(a_1 + a_n)/2$\n",
    "    - $ \\sum_{k=1}^{n-1} b_k = a_n - a_1 $\n",
    "        - $ a_n = n^2 + n + 1 $\n",
    "    "
   ]
  },
  {
   "cell_type": "code",
   "execution_count": 105,
   "id": "4b343073",
   "metadata": {},
   "outputs": [
    {
     "name": "stdout",
     "output_type": "stream",
     "text": [
      "1번 항의 값 : 3\n",
      "2번 항의 값 : 7\n",
      "3번 항의 값 : 13\n",
      "4번 항의 값 : 21\n",
      "5번 항의 값 : 31\n",
      "6번 항의 값 : 43\n"
     ]
    }
   ],
   "source": [
    "# 위 예제의 a_n의 n번쨰 항을 출력하는 프로그램\n",
    "\n",
    "n = 6\n",
    "a1 = 3\n",
    "for i in range(1, n+1):\n",
    "    print(\"{}번 항의 값 : {}\".format(i, i**2 + i + 1))"
   ]
  },
  {
   "cell_type": "markdown",
   "id": "996d594b",
   "metadata": {},
   "source": [
    "### 7. 피보나치 수열\n",
    "- $ a_n = a_{(n-2)} + a_{(n-1)} $"
   ]
  },
  {
   "cell_type": "code",
   "execution_count": 115,
   "id": "1e994725",
   "metadata": {},
   "outputs": [
    {
     "name": "stdout",
     "output_type": "stream",
     "text": [
      " 1 이상의 정수 n 입력 : 10\n",
      "1 번째 항의 값 : 1 \t | 1 번째 항까지의 합 : 1\n",
      "2 번째 항의 값 : 1 \t | 2 번째 항까지의 합 : 2\n",
      "3 번째 항의 값 : 2 \t | 3 번째 항까지의 합 : 4\n",
      "4 번째 항의 값 : 3 \t | 4 번째 항까지의 합 : 7\n",
      "5 번째 항의 값 : 5 \t | 5 번째 항까지의 합 : 12\n",
      "6 번째 항의 값 : 8 \t | 6 번째 항까지의 합 : 20\n",
      "7 번째 항의 값 : 13 \t | 7 번째 항까지의 합 : 33\n",
      "8 번째 항의 값 : 21 \t | 8 번째 항까지의 합 : 54\n",
      "9 번째 항의 값 : 34 \t | 9 번째 항까지의 합 : 88\n",
      "10 번째 항의 값 : 55 \t | 10 번째 항까지의 합 : 143\n"
     ]
    }
   ],
   "source": [
    "def fib(n):\n",
    "    _curr, _next = 0, 1\n",
    "    for _ in range(n):\n",
    "        _curr, _next = _next, _curr + _next\n",
    "    return _curr\n",
    "\n",
    "n = int(input(\" 1 이상의 정수 n 입력 : \"))\n",
    "n_list = []\n",
    "for i in range(1, n+1):\n",
    "    data = fib(i)\n",
    "    n_list.append(data)\n",
    "    print(\"{} 번째 항의 값 : {}\".format(i, data), \"\\t | {} 번째 항까지의 합 : {}\".format(i, sum(n_list)))"
   ]
  },
  {
   "cell_type": "markdown",
   "id": "edc3f287",
   "metadata": {},
   "source": [
    "### 8. 팩토리얼(!)\n",
    "- 1부터 양의 정수 n까지의 정수를 모두 곱한 것\n",
    "- 0! -> 1 = 1\n",
    "- 1! -> 1 = 1\n",
    "- 2! -> 2 * 1 = 2\n",
    "- 3! -> 3 * 2 * 1 = 6\n",
    "- 4! -> 4 * 3 * 2 * 1 = 24"
   ]
  },
  {
   "cell_type": "code",
   "execution_count": 119,
   "id": "298ae82e",
   "metadata": {},
   "outputs": [
    {
     "name": "stdout",
     "output_type": "stream",
     "text": [
      "4팩토리얼 : 24\n"
     ]
    }
   ],
   "source": [
    "# 반복문을 이용하여 팩토리얼 구하기\n",
    "n = 4\n",
    "result = 1\n",
    "for i in range(1, n + 1):\n",
    "    result *= i\n",
    "print(\"{}팩토리얼 : {}\".format(n, result))"
   ]
  },
  {
   "cell_type": "code",
   "execution_count": 118,
   "id": "dfd0a989",
   "metadata": {},
   "outputs": [
    {
     "data": {
      "text/plain": [
       "2"
      ]
     },
     "execution_count": 118,
     "metadata": {},
     "output_type": "execute_result"
    }
   ],
   "source": [
    "# 재귀함수를 이용하는 경우\n",
    "def factorial_func(n):\n",
    "    if n == 1 :\n",
    "        return 1\n",
    "    return n * factorial_func(n - 1)\n",
    "\n",
    "factorial_func(2)"
   ]
  },
  {
   "cell_type": "code",
   "execution_count": 121,
   "id": "c986b104",
   "metadata": {},
   "outputs": [
    {
     "data": {
      "text/plain": [
       "24"
      ]
     },
     "execution_count": 121,
     "metadata": {},
     "output_type": "execute_result"
    }
   ],
   "source": [
    "# 파이썬 내장함수로 팩토리얼 사용하기\n",
    "import math\n",
    "\n",
    "math.factorial(4)"
   ]
  },
  {
   "cell_type": "markdown",
   "id": "157fa0f7",
   "metadata": {},
   "source": [
    "### 9. 군수열\n",
    "- 여러 개의 항을 묶었을 때 규칙성을 가지는 수열"
   ]
  },
  {
   "cell_type": "code",
   "execution_count": 125,
   "id": "df4b69f3",
   "metadata": {},
   "outputs": [
    {
     "name": "stdout",
     "output_type": "stream",
     "text": [
      "n항 입력 : 16\n",
      "1\n",
      "1,2\n",
      "1,2,3\n",
      "1,2,3,4\n",
      "1,2,3,4,5\n",
      "1,\n",
      "16항 : 1\n"
     ]
    }
   ],
   "source": [
    "inputN = int(input(\"n항 입력 : \"))\n",
    "\n",
    "flag = True\n",
    "n = 1 ; nCnt = 1 ; searchN = 0\n",
    "\n",
    "while flag:\n",
    "    for i in range(1, n+1):\n",
    "        if i == n:\n",
    "            print(\"{}\".format(i), end=\"\")\n",
    "        else:\n",
    "            print(\"{},\".format(i), end=\"\")\n",
    "            \n",
    "        nCnt += 1\n",
    "        if (nCnt > inputN):\n",
    "            searchN = i\n",
    "            flag = False\n",
    "            break\n",
    "            \n",
    "    print()\n",
    "    n += 1\n",
    "print(\"{}항 : {}\".format(inputN, searchN))"
   ]
  },
  {
   "cell_type": "markdown",
   "id": "a7e488ad",
   "metadata": {},
   "source": [
    "### 10. 순열\n",
    "- n개에서 r개를 택하여 나열하는 경우의 수\n",
    "- $ nP_r = n * (n-1) * (n-2) * ... * (n-r+1)$"
   ]
  },
  {
   "cell_type": "code",
   "execution_count": 127,
   "id": "96896175",
   "metadata": {},
   "outputs": [
    {
     "name": "stdout",
     "output_type": "stream",
     "text": [
      "n : 10\n",
      "n : 9\n",
      "n : 8\n",
      "720\n"
     ]
    }
   ],
   "source": [
    "n = 10\n",
    "r = 3\n",
    "\n",
    "result = 1\n",
    "for i in range(n, n-r, -1):\n",
    "    print(\"n : {}\".format(i))\n",
    "    result *= i\n",
    "print(result)"
   ]
  },
  {
   "cell_type": "code",
   "execution_count": 129,
   "id": "60d17ca6",
   "metadata": {},
   "outputs": [
    {
     "name": "stdout",
     "output_type": "stream",
     "text": [
      "(1, 2) (1, 3) (1, 4) (2, 1) (2, 3) (2, 4) (3, 1) (3, 2) (3, 4) (4, 1) (4, 2) (4, 3) 12\n"
     ]
    }
   ],
   "source": [
    "from itertools import permutations\n",
    "\n",
    "test = []\n",
    "for i in permutations([1,2,3,4], 2):\n",
    "    print(i, end=\" \")\n",
    "    test.append(i)\n",
    "    \n",
    "print(len(test))"
   ]
  },
  {
   "cell_type": "markdown",
   "id": "d829144c",
   "metadata": {},
   "source": [
    "#### 10-1 원순열\n",
    "- 시작과 끝의 구분이 없는 순열\n",
    "- $ (n-1)! $"
   ]
  },
  {
   "cell_type": "code",
   "execution_count": 131,
   "id": "05a2a1a6",
   "metadata": {},
   "outputs": [
    {
     "name": "stdout",
     "output_type": "stream",
     "text": [
      "6\n"
     ]
    }
   ],
   "source": [
    "# 4명의 친구가 원탁 테이블에 앉을 수 있는 경우의 수\n",
    "n = 4\n",
    "result = 1\n",
    "for i in range(1, n):\n",
    "    result *= i\n",
    "    \n",
    "print(result)"
   ]
  },
  {
   "cell_type": "code",
   "execution_count": 2,
   "id": "df2d3f0f",
   "metadata": {},
   "outputs": [
    {
     "name": "stdout",
     "output_type": "stream",
     "text": [
      "6\n"
     ]
    }
   ],
   "source": [
    "# 4명의 친구가 원탁 테이블에 앉을 수 있는 경우의 수\n",
    "n = 4\n",
    "result = 1\n",
    "for i in range(n-1, 1, -1):\n",
    "    result *= i\n",
    "    \n",
    "print(result)"
   ]
  },
  {
   "cell_type": "code",
   "execution_count": 3,
   "id": "15f055ee",
   "metadata": {},
   "outputs": [
    {
     "name": "stdout",
     "output_type": "stream",
     "text": [
      "군수열 다시 복습하고 조합 강의 듣기\n"
     ]
    }
   ],
   "source": [
    "print(\"군수열 다시 복습하고 조합 강의 듣기\")"
   ]
  },
  {
   "cell_type": "markdown",
   "id": "450ebcb5",
   "metadata": {},
   "source": [
    "### 11. 확률\n",
    "- 모든 사건에서 특정 사건이 일어날 수 있는 수"
   ]
  },
  {
   "cell_type": "markdown",
   "id": "5698c810",
   "metadata": {},
   "source": [
    "#### 동전 예제\n",
    "- 모든 사건(표본 사건) : 앞, 뒤 -> 2가지 경우\n",
    "- 특정 사건(사건) : 앞(1가지의 경우), 뒤(1가지의 경우)\n",
    "- 확률 : 앞 -> 1/2, 뒤 -> 1/2"
   ]
  },
  {
   "cell_type": "markdown",
   "id": "51c2f64c",
   "metadata": {},
   "source": [
    "#### 확률과 조합\n",
    "- 조합을 이용해서 확률 구하기\n",
    "    - 박스에서 \"꽝\"이 적힌 종이 4장, \"선물\"이 적힌 종이가 3장 있다.\n",
    "    - 3장을 뽑을 경우 다음 경우의 수를 구해보자\n",
    "    - 꽝,꽝,꽝,꽝,선물,선물,선물\n",
    "        - 전체 확률 : 7C3(7 콤비네이션 3) : 35\n",
    "        - 꽝 : 0, 선물 : 3 -> (1)/35\n",
    "        - 꽝 : 1, 선물 : 2 -> 4C1 x 3C2 / 35\n",
    "        - 꽝 : 2, 선물 : 1 -> 4C2 x 3C1 / 35\n",
    "        - 꽝 : 3, 선물 : 0 -> 4C3 / 35"
   ]
  },
  {
   "cell_type": "markdown",
   "id": "76ed0722",
   "metadata": {},
   "source": [
    "- 박스에 \"꽝\"이 적힌 종이가 4장 있고, \"선물\"이 적힌 종이가 3장이 있을 때, 파이썬을 이용해서 \"꽝\" 2장과 \"선물\" 1장을 뽑는 확률(%)를 출력하자\n",
    "    - 전체 사건 : 7C3 = 35\n",
    "    - 꽝 2, 선물 1 -> 4C2 x 3C1 / 35"
   ]
  },
  {
   "cell_type": "code",
   "execution_count": 8,
   "id": "80ee1590",
   "metadata": {},
   "outputs": [],
   "source": [
    "num_n = 7\n",
    "num_r = 3"
   ]
  },
  {
   "cell_type": "code",
   "execution_count": 9,
   "id": "fc25aa06",
   "metadata": {},
   "outputs": [],
   "source": [
    "res_P = 1\n",
    "res_R = 1\n",
    "res_C = 1"
   ]
  },
  {
   "cell_type": "code",
   "execution_count": 10,
   "id": "136fca08",
   "metadata": {},
   "outputs": [
    {
     "name": "stdout",
     "output_type": "stream",
     "text": [
      "res_P : 210\n"
     ]
    }
   ],
   "source": [
    "for n in range(num_n, num_n - num_r, -1):\n",
    "    res_P *= n\n",
    "print(\"res_P :\", res_P)"
   ]
  },
  {
   "cell_type": "code",
   "execution_count": 11,
   "id": "755dcfad",
   "metadata": {},
   "outputs": [
    {
     "name": "stdout",
     "output_type": "stream",
     "text": [
      "res_R : 6\n"
     ]
    }
   ],
   "source": [
    "for n in range(num_r, 0, -1):\n",
    "    res_R *= n\n",
    "print(\"res_R :\", res_R)"
   ]
  },
  {
   "cell_type": "code",
   "execution_count": 12,
   "id": "cb3adf05",
   "metadata": {},
   "outputs": [
    {
     "name": "stdout",
     "output_type": "stream",
     "text": [
      "res_C : 35\n"
     ]
    }
   ],
   "source": [
    "res_C = int(res_P/res_R)\n",
    "print(\"res_C :\", res_C)"
   ]
  },
  {
   "cell_type": "code",
   "execution_count": 13,
   "id": "2feecf39",
   "metadata": {},
   "outputs": [],
   "source": [
    "def pro_func(num_n, num_r):\n",
    "    res_P = 1\n",
    "    res_R = 1\n",
    "    res_C = 1\n",
    "\n",
    "    for n in range(num_n, num_n - num_r, -1):\n",
    "        res_P *= n\n",
    "    print(\"res_P :\", res_P)\n",
    "\n",
    "    for n in range(num_r, 0, -1):\n",
    "        res_R *= n\n",
    "    print(\"res_R :\", res_R)\n",
    "\n",
    "    res_C = int(res_P/res_R)\n",
    "    print(\"res_C :\", res_C)\n",
    "    return res_C"
   ]
  },
  {
   "cell_type": "code",
   "execution_count": 22,
   "id": "b828e980",
   "metadata": {},
   "outputs": [
    {
     "name": "stdout",
     "output_type": "stream",
     "text": [
      "res_P : 210\n",
      "res_R : 6\n",
      "res_C : 35\n"
     ]
    },
    {
     "data": {
      "text/plain": [
       "35"
      ]
     },
     "execution_count": 22,
     "metadata": {},
     "output_type": "execute_result"
    }
   ],
   "source": [
    "sample = pro_func(7, 3)\n",
    "sample"
   ]
  },
  {
   "cell_type": "code",
   "execution_count": 23,
   "id": "47b625c5",
   "metadata": {},
   "outputs": [
    {
     "name": "stdout",
     "output_type": "stream",
     "text": [
      "res_P : 12\n",
      "res_R : 2\n",
      "res_C : 6\n"
     ]
    },
    {
     "data": {
      "text/plain": [
       "6"
      ]
     },
     "execution_count": 23,
     "metadata": {},
     "output_type": "execute_result"
    }
   ],
   "source": [
    "event1 = pro_func(4,2)\n",
    "event1"
   ]
  },
  {
   "cell_type": "code",
   "execution_count": 24,
   "id": "cc73421f",
   "metadata": {},
   "outputs": [
    {
     "name": "stdout",
     "output_type": "stream",
     "text": [
      "res_P : 3\n",
      "res_R : 1\n",
      "res_C : 3\n"
     ]
    },
    {
     "data": {
      "text/plain": [
       "3"
      ]
     },
     "execution_count": 24,
     "metadata": {},
     "output_type": "execute_result"
    }
   ],
   "source": [
    "event2 = pro_func(3,1)\n",
    "event2"
   ]
  },
  {
   "cell_type": "code",
   "execution_count": 26,
   "id": "a111850b",
   "metadata": {},
   "outputs": [
    {
     "name": "stdout",
     "output_type": "stream",
     "text": [
      "51.43\n"
     ]
    }
   ],
   "source": [
    "probability = round(event1 * event2 / sample * 100, 2)\n",
    "print(probability)"
   ]
  },
  {
   "cell_type": "code",
   "execution_count": null,
   "id": "0619870e",
   "metadata": {},
   "outputs": [],
   "source": []
  }
 ],
 "metadata": {
  "kernelspec": {
   "display_name": "Python 3 (ipykernel)",
   "language": "python",
   "name": "python3"
  },
  "language_info": {
   "codemirror_mode": {
    "name": "ipython",
    "version": 3
   },
   "file_extension": ".py",
   "mimetype": "text/x-python",
   "name": "python",
   "nbconvert_exporter": "python",
   "pygments_lexer": "ipython3",
   "version": "3.8.11"
  }
 },
 "nbformat": 4,
 "nbformat_minor": 5
}

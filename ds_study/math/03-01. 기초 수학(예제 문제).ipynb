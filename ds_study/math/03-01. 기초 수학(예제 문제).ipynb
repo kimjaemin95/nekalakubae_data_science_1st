{
 "cells": [
  {
   "cell_type": "markdown",
   "id": "648ebb06",
   "metadata": {},
   "source": [
    "## 문제 1번\n",
    "- 100부터 1000사이의 난수에 대해서 약수, 소수 그리고 소인수를 출력하는 프로그램을 만들어보자.\n",
    "- 약수 : 나누어 떨어지는 수\n",
    "- 소수 : 1외에 약수가 자기 자신뿐인 수\n",
    "- 소인수 : 약수(인수)이면서 소수인 수"
   ]
  },
  {
   "cell_type": "code",
   "execution_count": 28,
   "id": "ce1a03b6",
   "metadata": {},
   "outputs": [
    {
     "name": "stdout",
     "output_type": "stream",
     "text": [
      "num : 512\n"
     ]
    }
   ],
   "source": [
    "import random\n",
    "\n",
    "num = random.randint(100, 1000)\n",
    "print(f\"num : {num}\")\n",
    "\n",
    "약수 = []\n",
    "소수 = []\n",
    "소인수 = []\n",
    "for a in range(1, num+1):\n",
    "    soinsu_flag = 0\n",
    "\n",
    "    # 약수 구하기\n",
    "    if num % a == 0:\n",
    "        soinsu_flag += 1\n",
    "        약수.append(a)\n",
    "        \n",
    "    # 소수 구하기\n",
    "    if num != 1:\n",
    "        flag = True\n",
    "        for b in range(2, a):\n",
    "            if a % b == 0:\n",
    "                flag = False\n",
    "                break\n",
    "                \n",
    "        if flag:\n",
    "            soinsu_flag += 1\n",
    "            소수.append(a)\n",
    "\n",
    "    # 소인수 구하기\n",
    "    if soinsu_flag >= 2:      \n",
    "        소인수.append(a)"
   ]
  },
  {
   "cell_type": "code",
   "execution_count": 29,
   "id": "be63eb64",
   "metadata": {},
   "outputs": [
    {
     "name": "stdout",
     "output_type": "stream",
     "text": [
      "1, 2, 4, 8, 16, 32, 64, 128, 256, 512, "
     ]
    }
   ],
   "source": [
    "for i in 약수:\n",
    "    print(i, end=\", \")"
   ]
  },
  {
   "cell_type": "code",
   "execution_count": 30,
   "id": "a20901d9",
   "metadata": {},
   "outputs": [
    {
     "name": "stdout",
     "output_type": "stream",
     "text": [
      "1, 2, 3, 5, 7, 11, 13, 17, 19, 23, 29, 31, 37, 41, 43, 47, 53, 59, 61, 67, 71, 73, 79, 83, 89, 97, 101, 103, 107, 109, 113, 127, 131, 137, 139, 149, 151, 157, 163, 167, 173, 179, 181, 191, 193, 197, 199, 211, 223, 227, 229, 233, 239, 241, 251, 257, 263, 269, 271, 277, 281, 283, 293, 307, 311, 313, 317, 331, 337, 347, 349, 353, 359, 367, 373, 379, 383, 389, 397, 401, 409, 419, 421, 431, 433, 439, 443, 449, 457, 461, 463, 467, 479, 487, 491, 499, 503, 509, "
     ]
    }
   ],
   "source": [
    "for i in 소수:\n",
    "    print(i, end=\", \")"
   ]
  },
  {
   "cell_type": "code",
   "execution_count": 31,
   "id": "dbd9084c",
   "metadata": {},
   "outputs": [
    {
     "name": "stdout",
     "output_type": "stream",
     "text": [
      "1, 2, "
     ]
    }
   ],
   "source": [
    "for i in 소인수:\n",
    "    print(i, end=\", \")"
   ]
  },
  {
   "cell_type": "markdown",
   "id": "96c12c1b",
   "metadata": {},
   "source": [
    "## 문제 2번\n",
    "- 100부터 1000사이의 난수를 소인수분해를 하고 각각의 소인수에 대한 지수를 출력하는 프로그램을 만들어보자."
   ]
  },
  {
   "cell_type": "code",
   "execution_count": 57,
   "id": "59893768",
   "metadata": {},
   "outputs": [
    {
     "name": "stdout",
     "output_type": "stream",
     "text": [
      "랜덤 난수 : 924\n",
      "소인수 : 2\n",
      "소인수 : 2\n",
      "소인수 : 3\n",
      "소인수 : 7\n",
      "소인수 : 11\n",
      "소인수 리스트 : [2, 2, 3, 7, 11]\n"
     ]
    }
   ],
   "source": [
    "import random\n",
    "\n",
    "num = random.randint(100, 1000)\n",
    "print(f\"랜덤 난수 : {num}\")\n",
    "\n",
    "tmp = 2\n",
    "soin_list = []\n",
    "while tmp <= num:\n",
    "    \n",
    "    if num % tmp == 0:\n",
    "        print(f\"소인수 : {tmp}\")\n",
    "        soin_list.append(tmp)\n",
    "        num //=  tmp\n",
    "        \n",
    "    else:\n",
    "        tmp += 1\n",
    "        \n",
    "print(f\"소인수 리스트 : {soin_list}\")\n",
    "    "
   ]
  },
  {
   "cell_type": "code",
   "execution_count": 61,
   "id": "bb0d5579",
   "metadata": {},
   "outputs": [
    {
     "name": "stdout",
     "output_type": "stream",
     "text": [
      "2의 지수 : 2\n",
      "3의 지수 : 1\n",
      "7의 지수 : 1\n",
      "11의 지수 : 1\n"
     ]
    }
   ],
   "source": [
    "soin_check = []\n",
    "\n",
    "for i in soin_list:\n",
    "    if i not in soin_check:\n",
    "        cnt = soin_list.count(i)\n",
    "        print(f\"{i}의 지수 : {cnt}\")\n",
    "        soin_check.append(i)"
   ]
  },
  {
   "cell_type": "markdown",
   "id": "dae01767",
   "metadata": {},
   "source": [
    "## 문제 3번\n",
    "- 100부터 1000사이의 2개의 난수에 대해서 공약수와 최대공약수를 출력하고, 서로소인지 출력하는 프로그램을 만들어보자"
   ]
  },
  {
   "cell_type": "code",
   "execution_count": 105,
   "id": "2f6e07a7",
   "metadata": {},
   "outputs": [
    {
     "name": "stdout",
     "output_type": "stream",
     "text": [
      "랜덤 난수 num1 : 495\n",
      "랜덤 난수 num2 : 403\n",
      "==================================================\n",
      "495와 403의 공약수 : 1\n",
      "495와 403의 최대공약수 : 1\n",
      "495와 403는 서로소입니다.\n"
     ]
    }
   ],
   "source": [
    "import random\n",
    "\n",
    "num1 = random.randint(100, 1000)\n",
    "num2 = random.randint(100, 1000)\n",
    "print(f\"랜덤 난수 num1 : {num1}\")\n",
    "print(f\"랜덤 난수 num2 : {num2}\")\n",
    "print(\"=\"*50)\n",
    "\n",
    "\n",
    "\n",
    "max_num = 0\n",
    "for a in range(1, min(num1, num2) + 1):\n",
    "    if (num1 % a == 0) and (num2 % a == 0):\n",
    "        print(f\"{num1}와 {num2}의 공약수 : {a}\")\n",
    "        max_num = a\n",
    "        \n",
    "print(f\"{num1}와 {num2}의 최대공약수 : {max_num}\")\n",
    "\n",
    "if max_num != 1:\n",
    "    print(f\"{num1}와 {num2}는 서로소가 아닙니다.\")\n",
    "else:\n",
    "    print(f\"{num1}와 {num2}는 서로소입니다.\")\n",
    "            "
   ]
  },
  {
   "cell_type": "markdown",
   "id": "03947e6d",
   "metadata": {},
   "source": [
    "## 문제 4번\n",
    "- 100부터 1000사이의 2개의 난수에 대해서 최대공약수와 최소공배수를 출력하는 프로그램을 만들어보자."
   ]
  },
  {
   "cell_type": "code",
   "execution_count": 134,
   "id": "f6f661e9",
   "metadata": {},
   "outputs": [
    {
     "name": "stdout",
     "output_type": "stream",
     "text": [
      "630와 678의 공약수 : 1\n",
      "630와 678의 공약수 : 2\n",
      "630와 678의 공약수 : 3\n",
      "630와 678의 공약수 : 6\n",
      "==================================================\n",
      "630와 678의 최대공약수 : 6\n",
      "630와 678의 최소공배수 : 71190\n"
     ]
    }
   ],
   "source": [
    "import random \n",
    "\n",
    "num1 = random.randint(100, 1000)\n",
    "num2 = random.randint(100, 1000)\n",
    "\n",
    "max_a = 0\n",
    "for a in range(1, min([num1, num2]) + 1):\n",
    "    if (num1 % a == 0) and (num2 % a == 0):\n",
    "        print(f\"{num1}와 {num2}의 공약수 : {a}\")\n",
    "        max_a = a\n",
    "        \n",
    "print(\"=\"*50)\n",
    "print(f\"{num1}와 {num2}의 최대공약수 : {max_a}\")\n",
    "print(f\"{num1}와 {num2}의 최소공배수 : {(num1 * num2) // max_a}\")"
   ]
  },
  {
   "cell_type": "markdown",
   "id": "70333044",
   "metadata": {},
   "source": [
    "## 문제 5번\n",
    "- 사용자가 입력한 수를 이용해서, 다음 내용에 따라 진법 변환하는 코드를 작성해보자\n",
    "- 10진수 -> 2, 8, 16 진수 변환\n",
    "- x진수 -> 10진수\n",
    "- x진수 -> x진수"
   ]
  },
  {
   "cell_type": "code",
   "execution_count": 139,
   "id": "091ca7df",
   "metadata": {},
   "outputs": [
    {
     "name": "stdout",
     "output_type": "stream",
     "text": [
      "10진수 입력 :10\n",
      "10의 2진수 : 0b1010\n",
      "10의 8진수 : 0o12\n",
      "10의 16진수 : 0xa\n"
     ]
    }
   ],
   "source": [
    "num1 = int(input(\"10진수 입력 :\"))\n",
    "\n",
    "print(f\"{num1}의 2진수 : {bin(num1)}\")\n",
    "print(f\"{num1}의 8진수 : {oct(num1)}\")\n",
    "print(f\"{num1}의 16진수 : {hex(num1)}\")"
   ]
  },
  {
   "cell_type": "code",
   "execution_count": 143,
   "id": "dca9cdc2",
   "metadata": {},
   "outputs": [
    {
     "name": "stdout",
     "output_type": "stream",
     "text": [
      "2진수 입력 :0b1010\n",
      "0b1010의 10진수 : 10\n"
     ]
    }
   ],
   "source": [
    "num2 = input(\"2진수 입력 :\")\n",
    "print(f\"{num2}의 10진수 : {int(num2, 2)}\")"
   ]
  },
  {
   "cell_type": "code",
   "execution_count": 145,
   "id": "d0adcdbd",
   "metadata": {},
   "outputs": [
    {
     "name": "stdout",
     "output_type": "stream",
     "text": [
      "8진수 입력 :0o12\n",
      "0o12의 10진수 : 10\n"
     ]
    }
   ],
   "source": [
    "num3 = input(\"8진수 입력 :\")\n",
    "print(f\"{num3}의 10진수 : {int(num3, 8)}\")"
   ]
  },
  {
   "cell_type": "code",
   "execution_count": 146,
   "id": "bcef40d9",
   "metadata": {},
   "outputs": [
    {
     "name": "stdout",
     "output_type": "stream",
     "text": [
      "16진수 입력 :0xa\n",
      "0xa의 10진수 : 10\n"
     ]
    }
   ],
   "source": [
    "num4 = input(\"16진수 입력 :\")\n",
    "print(f\"{num4}의 10진수 : {int(num4, 16)}\")"
   ]
  },
  {
   "cell_type": "code",
   "execution_count": 152,
   "id": "64da0b84",
   "metadata": {},
   "outputs": [
    {
     "data": {
      "text/plain": [
       "('0xa', '0o12', 10, '0b1010')"
      ]
     },
     "execution_count": 152,
     "metadata": {},
     "output_type": "execute_result"
    }
   ],
   "source": [
    "hex(0xa), oct(0xa), int(0xa), bin(0xa)"
   ]
  },
  {
   "cell_type": "markdown",
   "id": "8f29ae13",
   "metadata": {},
   "source": [
    "## 문제 6번\n",
    "- 다음 수열의 일반항을 구하고 n번째항의 값과 합을 구하는 프로그램을 만들어보자\n",
    "- 등차수열의 일반항 : $ a_n = a_1 + (n-1)*d $\n",
    "- 등차수열의 합 : $ s_n = n(a_1 + a_n)/2 $"
   ]
  },
  {
   "cell_type": "code",
   "execution_count": 158,
   "id": "962009b4",
   "metadata": {},
   "outputs": [
    {
     "name": "stdout",
     "output_type": "stream",
     "text": [
      "a1 입력 : 10\n",
      "d 입력 : 10\n",
      "b 입력 : 10\n",
      "1 번째, 항의 값: 10\n",
      "2 번째, 항의 값: 20\n",
      "3 번째, 항의 값: 30\n",
      "4 번째, 항의 값: 40\n",
      "5 번째, 항의 값: 50\n",
      "6 번째, 항의 값: 60\n",
      "7 번째, 항의 값: 70\n",
      "8 번째, 항의 값: 80\n",
      "9 번째, 항의 값: 90\n",
      "10 번째, 항의 값: 100\n",
      "10 번째, 항까지의 합: 550\n"
     ]
    }
   ],
   "source": [
    "a1 = int(input(\"a1 입력 : \"))\n",
    "d = int(input(\"d 입력 : \"))\n",
    "n = int(input(\"b 입력 : \"))\n",
    "\n",
    "for i in range(1, n+1):\n",
    "    value_n = a1 + (i-1)* d\n",
    "    print(f\"{i} 번째, 항의 값: {value_n}\")\n",
    "\n",
    "print(f\"{n} 번째, 항까지의 합: {n * (a1 + value_n) // 2}\")"
   ]
  },
  {
   "cell_type": "markdown",
   "id": "6639c1ab",
   "metadata": {},
   "source": [
    "## 문제 7번\n",
    "- 다음 수열의 일반항을 구하고 n번째 항의 값과 합을 구하는 프로그램을 만들어보자\n",
    "- 등비수열의 일반항 : $ a_n = a_1 * r^{(n-1)} $\n",
    "- 등비수열의 합 : $ s_n = a_1 * (1-r^n) / (1-r) $"
   ]
  },
  {
   "cell_type": "code",
   "execution_count": 160,
   "id": "b7f2bf40",
   "metadata": {},
   "outputs": [
    {
     "name": "stdout",
     "output_type": "stream",
     "text": [
      "a1 입력 :2\n",
      "r 입력 :3\n",
      "n 입력 :10\n",
      "1번째 항의 값 : 2\n",
      "1번째 항까지의 합 : 2\n",
      "2번째 항의 값 : 6\n",
      "2번째 항까지의 합 : 8\n",
      "3번째 항의 값 : 18\n",
      "3번째 항까지의 합 : 26\n",
      "4번째 항의 값 : 54\n",
      "4번째 항까지의 합 : 80\n",
      "5번째 항의 값 : 162\n",
      "5번째 항까지의 합 : 242\n",
      "6번째 항의 값 : 486\n",
      "6번째 항까지의 합 : 728\n",
      "7번째 항의 값 : 1458\n",
      "7번째 항까지의 합 : 2186\n",
      "8번째 항의 값 : 4374\n",
      "8번째 항까지의 합 : 6560\n",
      "9번째 항의 값 : 13122\n",
      "9번째 항까지의 합 : 19682\n",
      "10번째 항의 값 : 39366\n",
      "10번째 항까지의 합 : 59048\n"
     ]
    }
   ],
   "source": [
    "input_a1 = int(input(\"a1 입력 :\"))\n",
    "input_r = int(input(\"r 입력 :\"))\n",
    "input_n = int(input(\"n 입력 :\"))\n",
    "\n",
    "\n",
    "value_n = 0\n",
    "sum_n = 0\n",
    "n = 1\n",
    "\n",
    "while n <= input_n:\n",
    "    if n == 1:\n",
    "        value_n = input_a1\n",
    "        sum_n += value_n\n",
    "        print(f\"{n}번째 항의 값 : {value_n}\")\n",
    "        print(f\"{n}번째 항까지의 합 : {sum_n}\")\n",
    "        n += 1\n",
    "        continue\n",
    "    \n",
    "    value_n *= input_r\n",
    "    sum_n += value_n\n",
    "    print(f\"{n}번째 항의 값 : {value_n}\")\n",
    "    print(f\"{n}번째 항까지의 합 : {sum_n}\")\n",
    "    n += 1\n",
    "    "
   ]
  },
  {
   "cell_type": "code",
   "execution_count": 165,
   "id": "3426d469",
   "metadata": {},
   "outputs": [
    {
     "name": "stdout",
     "output_type": "stream",
     "text": [
      "a1 입력 :2\n",
      "r 입력 :3\n",
      "n 입력 :10\n",
      "10번째 항의 값 : 39366\n",
      "10번째 항까지의 합 : 59048\n",
      "-59048\n",
      "-2\n"
     ]
    }
   ],
   "source": [
    "input_a1 = int(input(\"a1 입력 :\"))\n",
    "input_r = int(input(\"r 입력 :\"))\n",
    "input_n = int(input(\"n 입력 :\"))\n",
    "\n",
    "\n",
    "# 등비수열의 일반항 : an = a1 * r^(n-1)\n",
    "value_n = input_a1 * input_r**(input_n - 1)\n",
    "print(f\"{input_n}번째 항의 값 : {value_n}\")\n",
    "\n",
    "sum_n = input_a1 * (1 - input_r ** input_n) // (1 - input_r)\n",
    "print(f\"{input_n}번째 항까지의 합 : {sum_n}\")\n",
    "\n",
    "print(1 - input_r ** input_n)\n",
    "print(1 - input_r)"
   ]
  },
  {
   "cell_type": "markdown",
   "id": "89c52e06",
   "metadata": {},
   "source": [
    "## 문제 8번\n",
    "- 첫 째날 쌀 두톨을 받고 둘째 날부터는 하루 전의 2배에 해당하는 쌀을 받는다고 할 때, 30일째 되는 날 받게 되는 쌀의 개수를 수열과 시그마로 나타내고 이를 출력하는 프로그램을 만들어보자."
   ]
  },
  {
   "cell_type": "markdown",
   "id": "1226ece0",
   "metadata": {},
   "source": [
    "$ \\sum $"
   ]
  },
  {
   "cell_type": "code",
   "execution_count": 170,
   "id": "26fe7928",
   "metadata": {},
   "outputs": [
    {
     "name": "stdout",
     "output_type": "stream",
     "text": [
      "1번째 항 : 2\n",
      "1번째 항까지의 합 : 2\n",
      "2번째 항 : 4\n",
      "2번째 항까지의 합 : 6\n",
      "3번째 항 : 8\n",
      "3번째 항까지의 합 : 14\n",
      "4번째 항 : 16\n",
      "4번째 항까지의 합 : 30\n",
      "5번째 항 : 32\n",
      "5번째 항까지의 합 : 62\n",
      "6번째 항 : 64\n",
      "6번째 항까지의 합 : 126\n",
      "7번째 항 : 128\n",
      "7번째 항까지의 합 : 254\n",
      "8번째 항 : 256\n",
      "8번째 항까지의 합 : 510\n",
      "9번째 항 : 512\n",
      "9번째 항까지의 합 : 1,022\n",
      "10번째 항 : 1,024\n",
      "10번째 항까지의 합 : 2,046\n",
      "11번째 항 : 2,048\n",
      "11번째 항까지의 합 : 4,094\n",
      "12번째 항 : 4,096\n",
      "12번째 항까지의 합 : 8,190\n",
      "13번째 항 : 8,192\n",
      "13번째 항까지의 합 : 16,382\n",
      "14번째 항 : 16,384\n",
      "14번째 항까지의 합 : 32,766\n",
      "15번째 항 : 32,768\n",
      "15번째 항까지의 합 : 65,534\n",
      "16번째 항 : 65,536\n",
      "16번째 항까지의 합 : 131,070\n",
      "17번째 항 : 131,072\n",
      "17번째 항까지의 합 : 262,142\n",
      "18번째 항 : 262,144\n",
      "18번째 항까지의 합 : 524,286\n",
      "19번째 항 : 524,288\n",
      "19번째 항까지의 합 : 1,048,574\n",
      "20번째 항 : 1,048,576\n",
      "20번째 항까지의 합 : 2,097,150\n",
      "21번째 항 : 2,097,152\n",
      "21번째 항까지의 합 : 4,194,302\n",
      "22번째 항 : 4,194,304\n",
      "22번째 항까지의 합 : 8,388,606\n",
      "23번째 항 : 8,388,608\n",
      "23번째 항까지의 합 : 16,777,214\n",
      "24번째 항 : 16,777,216\n",
      "24번째 항까지의 합 : 33,554,430\n",
      "25번째 항 : 33,554,432\n",
      "25번째 항까지의 합 : 67,108,862\n",
      "26번째 항 : 67,108,864\n",
      "26번째 항까지의 합 : 134,217,726\n",
      "27번째 항 : 134,217,728\n",
      "27번째 항까지의 합 : 268,435,454\n",
      "28번째 항 : 268,435,456\n",
      "28번째 항까지의 합 : 536,870,910\n",
      "29번째 항 : 536,870,912\n",
      "29번째 항까지의 합 : 1,073,741,822\n",
      "30번째 항 : 1,073,741,824\n",
      "30번째 항까지의 합 : 2,147,483,646\n"
     ]
    }
   ],
   "source": [
    "a1 = 2\n",
    "r = 2\n",
    "n = 30\n",
    "\n",
    "for i in range(1, n+1):\n",
    "    an = a1 * r ** (i - 1)\n",
    "    print(f\"{i}번째 항 : {format(an, ',')}\")\n",
    "    sn = a1 * (1 - r ** i) // (1 - r)\n",
    "    print(f\"{i}번째 항까지의 합 : {format(sn, ',')}\")"
   ]
  },
  {
   "cell_type": "markdown",
   "id": "b2ccf73d",
   "metadata": {},
   "source": [
    "## 문제 9번\n",
    "- 다음 수열의 일반항을 구하고, n항의 값을 출력하는 프로그램을 만들어보자\n",
    "- {2, 5, 11, 20, 32, 47, 65, 86, 110, 137 ...}\n",
    "- 계차수열 : {3, 6, 9, 12, 15, ....}"
   ]
  },
  {
   "cell_type": "markdown",
   "id": "3bc965fd",
   "metadata": {},
   "source": [
    "- 계차수열 : b \n",
    "- 원본수열 : a\n",
    "$$\\sum_{k=1}^{(n-1)} b_k = a_n - a_1 $$\n",
    "- 순서\n",
    "    - 계차수열 $ b_k $ 에 대한 일반항 구하기 :\n",
    "        - $ b_1 = 3, d = 3 $\n",
    "        - $ b_n = b_1 + (n-1)*d $ \n",
    "        - $ b_n = 3 + (n-1)*3 $\n",
    "        - $ b_n = 3n $\n",
    "    - 계차수열 $ b_k $ 에 대한 sum(시그마) 구하기 (단, n-1번째까지) :\n",
    "        - $ \\sum {b_k} = n * (b_1 + b_n) / 2 $\n",
    "        - $ \\sum {b_k} = (n-1) * (3 + 3(n-1)) / 2 $\n",
    "        - $ \\sum {b_k} = (n-1) * (3n) / 2 $\n",
    "        - $ \\sum {b_k} = (3n^2 - 3n) / 2 $\n",
    "    - 원본수열 $ a_n $ 에 대한 일반항 구하기\n",
    "        - $ a_n - a_1 = (3n^2 - 3n) / 2 $\n",
    "        - $ a_n = (3n^2 - 3n) / 2 + a_1 $\n",
    "        - $ a_n = (3n^2 - 3n) / 2 + 2 $\n",
    "        - $ a_n = (3n^2 - 3n + 4) / 2 $"
   ]
  },
  {
   "cell_type": "code",
   "execution_count": 176,
   "id": "b9dee72d",
   "metadata": {},
   "outputs": [
    {
     "name": "stdout",
     "output_type": "stream",
     "text": [
      "n 입력 : 10\n",
      "1번째 항 : 2\n",
      "2번째 항 : 5\n",
      "3번째 항 : 11\n",
      "4번째 항 : 20\n",
      "5번째 항 : 32\n",
      "6번째 항 : 47\n",
      "7번째 항 : 65\n",
      "8번째 항 : 86\n",
      "9번째 항 : 110\n",
      "10번째 항 : 137\n"
     ]
    }
   ],
   "source": [
    "a1 = 2\n",
    "input_n = int(input(\"n 입력 : \")) \n",
    "\n",
    "for i in range(1, input_n + 1):\n",
    "    an = (3*i**2 - 3*i + 4)//2\n",
    "    print(f\"{i}번째 항 : {an}\")\n"
   ]
  },
  {
   "cell_type": "markdown",
   "id": "d1a53333",
   "metadata": {},
   "source": [
    "## 문제 10번\n",
    "- 피보나치수열에서 n항의 값과 n항까지의 합을 출력하는 프로그램을 만들어보자.\n",
    "- {1, 1, 2, 3, 5, 8, 13, 21, 34 ...}\n",
    "- $ a_n = a * (n-2) + a * (n-1) $"
   ]
  },
  {
   "cell_type": "code",
   "execution_count": 181,
   "id": "34358934",
   "metadata": {},
   "outputs": [
    {
     "name": "stdout",
     "output_type": "stream",
     "text": [
      " 1 이상의 정수 n 입력 : 10\n",
      "1 번째 항의 값 : 1 \t | 1 번째 항까지의 합 : 1\n",
      "2 번째 항의 값 : 1 \t | 2 번째 항까지의 합 : 2\n",
      "3 번째 항의 값 : 2 \t | 3 번째 항까지의 합 : 4\n",
      "4 번째 항의 값 : 3 \t | 4 번째 항까지의 합 : 7\n",
      "5 번째 항의 값 : 5 \t | 5 번째 항까지의 합 : 12\n",
      "6 번째 항의 값 : 8 \t | 6 번째 항까지의 합 : 20\n",
      "7 번째 항의 값 : 13 \t | 7 번째 항까지의 합 : 33\n",
      "8 번째 항의 값 : 21 \t | 8 번째 항까지의 합 : 54\n",
      "9 번째 항의 값 : 34 \t | 9 번째 항까지의 합 : 88\n",
      "10 번째 항의 값 : 55 \t | 10 번째 항까지의 합 : 143\n"
     ]
    }
   ],
   "source": [
    "def fib(n):\n",
    "    _curr, _next = 0, 1\n",
    "    for _ in range(n):\n",
    "        _curr, _next = _next, _curr + _next\n",
    "    return _curr\n",
    "\n",
    "n = int(input(\" 1 이상의 정수 n 입력 : \"))\n",
    "n_list = []\n",
    "for i in range(1, n+1):\n",
    "    data = fib(i)\n",
    "    n_list.append(data)\n",
    "    print(\"{} 번째 항의 값 : {}\".format(i, data), \"\\t | {} 번째 항까지의 합 : {}\".format(i, sum(n_list)))"
   ]
  },
  {
   "cell_type": "code",
   "execution_count": null,
   "id": "689d914f",
   "metadata": {},
   "outputs": [],
   "source": []
  },
  {
   "cell_type": "code",
   "execution_count": null,
   "id": "1f49060c",
   "metadata": {},
   "outputs": [],
   "source": []
  }
 ],
 "metadata": {
  "kernelspec": {
   "display_name": "Python 3 (ipykernel)",
   "language": "python",
   "name": "python3"
  },
  "language_info": {
   "codemirror_mode": {
    "name": "ipython",
    "version": 3
   },
   "file_extension": ".py",
   "mimetype": "text/x-python",
   "name": "python",
   "nbconvert_exporter": "python",
   "pygments_lexer": "ipython3",
   "version": "3.8.11"
  }
 },
 "nbformat": 4,
 "nbformat_minor": 5
}

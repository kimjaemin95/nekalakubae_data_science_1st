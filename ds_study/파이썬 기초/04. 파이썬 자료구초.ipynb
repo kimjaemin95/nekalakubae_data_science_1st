{
 "cells": [
  {
   "cell_type": "markdown",
   "id": "4bb8e824",
   "metadata": {},
   "source": [
    "## 1. 리스트\n",
    "- 배열과 같이 여러 개의 데이터를 나열한 자료구조.\n",
    "- \"[ ]\"또는 list() 를 이용해서 선언하고 데이터 구분은 \",\"를 이용한다.\n",
    "- 리스트 내부에는 숫자형, 문자열, 리스트형, 딕셔너리형 등의 데이터가 요소로 들어갈 수 있다.\n",
    "    - 리스트 내부에 또다른 컨테이너 자료형을 요소로 넣을 수 있다.\n",
    "- 리스트 자료형에 index 호출할 경우 존재하지 않는 index를 호출할 때 index error가 발생한다."
   ]
  },
  {
   "cell_type": "code",
   "execution_count": 2,
   "id": "e8ba2e6e",
   "metadata": {},
   "outputs": [
    {
     "data": {
      "text/plain": [
       "([], [])"
      ]
     },
     "execution_count": 2,
     "metadata": {},
     "output_type": "execute_result"
    }
   ],
   "source": [
    "# 리스트 선언\n",
    "array_val1 = []\n",
    "array_val2 = list()\n",
    "array_val1, array_val2"
   ]
  },
  {
   "cell_type": "code",
   "execution_count": 4,
   "id": "490419c6",
   "metadata": {},
   "outputs": [
    {
     "data": {
      "text/plain": [
       "[1, 2, 3, 4, 5, '문자열', ['리스트형', '리스트형1'], {'key': 'value'}, 23.451]"
      ]
     },
     "execution_count": 4,
     "metadata": {},
     "output_type": "execute_result"
    }
   ],
   "source": [
    "# 다양한 데이터 타입의 리스트 요소\n",
    "array_val3 = [1,2,3,4,5,\"문자열\", [\"리스트형\", \"리스트형1\"], {\"key\":\"value\"}, 23.451]\n",
    "array_val3"
   ]
  },
  {
   "cell_type": "code",
   "execution_count": 5,
   "id": "6301b171",
   "metadata": {},
   "outputs": [
    {
     "name": "stdout",
     "output_type": "stream",
     "text": [
      "데이터 타입 <class 'int'> \t|\t 데이터 : 1\n",
      "데이터 타입 <class 'int'> \t|\t 데이터 : 2\n",
      "데이터 타입 <class 'int'> \t|\t 데이터 : 3\n",
      "데이터 타입 <class 'int'> \t|\t 데이터 : 4\n",
      "데이터 타입 <class 'int'> \t|\t 데이터 : 5\n",
      "데이터 타입 <class 'str'> \t|\t 데이터 : 문자열\n",
      "데이터 타입 <class 'list'> \t|\t 데이터 : ['리스트형', '리스트형1']\n",
      "데이터 타입 <class 'dict'> \t|\t 데이터 : {'key': 'value'}\n",
      "데이터 타입 <class 'float'> \t|\t 데이터 : 23.451\n"
     ]
    }
   ],
   "source": [
    "# 리스트를 이용한 for 반복문 사용 \n",
    "for item in array_val3:\n",
    "    print(f\"데이터 타입 {type(item)} \\t|\\t 데이터 : {item}\")"
   ]
  },
  {
   "cell_type": "code",
   "execution_count": 17,
   "id": "b0e6ea06",
   "metadata": {},
   "outputs": [
    {
     "name": "stdout",
     "output_type": "stream",
     "text": [
      "문자열\n",
      "23.451\n",
      "==================================================\n",
      "[1, 2, 3]\n",
      "[['리스트형', '리스트형1'], {'key': 'value'}]\n",
      "[1, 2, 3, 4, 5, '문자열', ['리스트형', '리스트형1'], {'key': 'value'}]\n",
      "[2, 4, '문자열', {'key': 'value'}]\n",
      "[23.451, {'key': 'value'}, ['리스트형', '리스트형1'], '문자열', 5, 4, 3, 2, 1]\n",
      "==================================================\n"
     ]
    }
   ],
   "source": [
    "# 리스트 자료형 내부의 데이터를 조회하는 방법\n",
    "\n",
    "# index로 호출하기\n",
    "print(array_val3[5])\n",
    "print(array_val3[8])\n",
    "print(\"=\"*50)\n",
    "\n",
    "# index slicing 호출하기\n",
    "print(array_val3[0:3])\n",
    "print(array_val3[6:8])\n",
    "print(array_val3[:8])\n",
    "print(array_val3[1:8:2])\n",
    "print(array_val3[::-1])\n",
    "print(\"=\"*50)\n",
    "\n"
   ]
  },
  {
   "cell_type": "code",
   "execution_count": 20,
   "id": "e101735b",
   "metadata": {},
   "outputs": [
    {
     "name": "stdout",
     "output_type": "stream",
     "text": [
      "짝수 인덱스 : A\n",
      "홀수 인덱스 : B\n",
      "짝수 인덱스 : C\n",
      "홀수 인덱스 : D\n",
      "짝수 인덱스 : E\n",
      "홀수 인덱스 : F\n",
      "짝수 인덱스 : G\n"
     ]
    }
   ],
   "source": [
    "students = [\"A\", \"B\", \"C\", \"D\", \"E\", \"F\", \"G\"]\n",
    "\n",
    "for idx, st in enumerate(students):\n",
    "    if idx % 2 == 0:\n",
    "        print(f\"짝수 인덱스 : {st}\")\n",
    "    else : \n",
    "        print(f\"홀수 인덱스 : {st}\")"
   ]
  },
  {
   "cell_type": "code",
   "execution_count": 23,
   "id": "bb74b4d1",
   "metadata": {},
   "outputs": [
    {
     "name": "stdout",
     "output_type": "stream",
     "text": [
      "리스트의 길이 : 6\n",
      "0 1\n",
      "1 2\n",
      "2 A\n",
      "3 4\n",
      "4 5\n",
      "5 6\n"
     ]
    }
   ],
   "source": [
    "# 리스트의 길이 확인하기 = 리스트 컨테이너 안에 들어있는 요소의 개수 확인하기\n",
    "list_value = [1,2,\"A\",4,5,6]\n",
    "print(f\"리스트의 길이 : {len(list_value)}\")\n",
    "\n",
    "for idx in range(len(list_value)):\n",
    "    print(idx, list_value[idx])"
   ]
  },
  {
   "cell_type": "markdown",
   "id": "e641318a",
   "metadata": {},
   "source": [
    "```\n",
    ">>> a = [1.2, 2.5, 3.7, 4.6]\n",
    ">>> a = list(map(int, a))\n",
    ">>> a\n",
    "[1, 2, 3, 4]\n",
    "```"
   ]
  },
  {
   "cell_type": "code",
   "execution_count": 24,
   "id": "10cb66e5",
   "metadata": {},
   "outputs": [
    {
     "data": {
      "text/plain": [
       "[[1, 18], [2, 20], [3, 40]]"
      ]
     },
     "execution_count": 24,
     "metadata": {},
     "output_type": "execute_result"
    }
   ],
   "source": [
    "data = [\n",
    "    [1, 18], [2, 20], [3, 40]\n",
    "]\n",
    "\n",
    "data"
   ]
  },
  {
   "cell_type": "code",
   "execution_count": 31,
   "id": "926e3073",
   "metadata": {},
   "outputs": [
    {
     "data": {
      "text/plain": [
       "(18, 40)"
      ]
     },
     "execution_count": 31,
     "metadata": {},
     "output_type": "execute_result"
    }
   ],
   "source": [
    "min(list(map(lambda x : x[1], data))), max(list(map(lambda x : x[1], data)))"
   ]
  },
  {
   "cell_type": "markdown",
   "id": "98e3a7ae",
   "metadata": {},
   "source": [
    "## enumerate() 함수"
   ]
  },
  {
   "cell_type": "code",
   "execution_count": 38,
   "id": "2aa90d73",
   "metadata": {},
   "outputs": [
    {
     "name": "stdout",
     "output_type": "stream",
     "text": [
      "인덱스 : 0 \t|\t 요소 : a\n",
      "인덱스 : 1 \t|\t 요소 : b\n",
      "인덱스 : 2 \t|\t 요소 : c\n",
      "인덱스 : 3 \t|\t 요소 : d\n",
      "인덱스 : 4 \t|\t 요소 : e\n",
      "인덱스 : 5 \t|\t 요소 : f\n",
      "인덱스 : 6 \t|\t 요소 : g\n"
     ]
    }
   ],
   "source": [
    "for idx, st in enumerate(\"abcdefg\"):\n",
    "    print(f\"인덱스 : {idx} \\t|\\t 요소 : {st}\")"
   ]
  },
  {
   "cell_type": "code",
   "execution_count": 39,
   "id": "1149a979",
   "metadata": {},
   "outputs": [
    {
     "data": {
      "text/plain": [
       "3"
      ]
     },
     "execution_count": 39,
     "metadata": {},
     "output_type": "execute_result"
    }
   ],
   "source": [
    "\"   \".count(\" \")"
   ]
  },
  {
   "cell_type": "markdown",
   "id": "43ca3c20",
   "metadata": {},
   "source": [
    "## insert() 함수"
   ]
  },
  {
   "cell_type": "code",
   "execution_count": 40,
   "id": "c73e11a7",
   "metadata": {},
   "outputs": [],
   "source": [
    "data = [1,2,3,4,5,6,7,8,9]\n",
    "data.insert(4, \"데이터 삽입\")"
   ]
  },
  {
   "cell_type": "code",
   "execution_count": 41,
   "id": "60e70318",
   "metadata": {},
   "outputs": [
    {
     "data": {
      "text/plain": [
       "[1, 2, 3, 4, '데이터 삽입', 5, 6, 7, 8, 9]"
      ]
     },
     "execution_count": 41,
     "metadata": {},
     "output_type": "execute_result"
    }
   ],
   "source": [
    "data"
   ]
  },
  {
   "cell_type": "code",
   "execution_count": 42,
   "id": "249506e5",
   "metadata": {},
   "outputs": [
    {
     "data": {
      "text/plain": [
       "[1, 2, 3, 4, 5, 6, 7, 8, 9, 10]"
      ]
     },
     "execution_count": 42,
     "metadata": {},
     "output_type": "execute_result"
    }
   ],
   "source": [
    "numbers = [1,2,3,4,6,7,8,9,10]\n",
    "target = 5\n",
    "flag = True\n",
    "\n",
    "for idx, i in enumerate(numbers):\n",
    "    if flag and target < i:\n",
    "        numbers.insert(idx, target)\n",
    "        flag = False\n",
    "numbers\n"
   ]
  },
  {
   "cell_type": "markdown",
   "id": "d8e65ec2",
   "metadata": {},
   "source": [
    "## pop() 함수\n",
    "- 리스트 자료형의 마지막 인덱스 요소값을 반환하면서 삭제한다."
   ]
  },
  {
   "cell_type": "code",
   "execution_count": 46,
   "id": "22ff6feb",
   "metadata": {},
   "outputs": [
    {
     "data": {
      "text/plain": [
       "8"
      ]
     },
     "execution_count": 46,
     "metadata": {},
     "output_type": "execute_result"
    }
   ],
   "source": [
    "data = [1,2,3,4,5,6,7,8]\n",
    "data.pop()"
   ]
  },
  {
   "cell_type": "code",
   "execution_count": 47,
   "id": "6f4724f8",
   "metadata": {},
   "outputs": [
    {
     "data": {
      "text/plain": [
       "[1, 2, 3, 4, 5, 6, 7]"
      ]
     },
     "execution_count": 47,
     "metadata": {},
     "output_type": "execute_result"
    }
   ],
   "source": [
    "data"
   ]
  },
  {
   "cell_type": "code",
   "execution_count": 50,
   "id": "7d1e7501",
   "metadata": {},
   "outputs": [],
   "source": [
    "scores = [9.5, 8.9, 9.2, 8.8, 9.0]"
   ]
  },
  {
   "cell_type": "code",
   "execution_count": 51,
   "id": "a5bed599",
   "metadata": {},
   "outputs": [
    {
     "data": {
      "text/plain": [
       "(0, 3)"
      ]
     },
     "execution_count": 51,
     "metadata": {},
     "output_type": "execute_result"
    }
   ],
   "source": [
    "scores.index(max(scores)), scores.index(min(scores))"
   ]
  },
  {
   "cell_type": "code",
   "execution_count": 52,
   "id": "997be37e",
   "metadata": {},
   "outputs": [],
   "source": [
    "del scores[scores.index(max(scores))]"
   ]
  },
  {
   "cell_type": "code",
   "execution_count": 53,
   "id": "e3e3da38",
   "metadata": {},
   "outputs": [
    {
     "data": {
      "text/plain": [
       "[8.9, 9.2, 8.8, 9.0]"
      ]
     },
     "execution_count": 53,
     "metadata": {},
     "output_type": "execute_result"
    }
   ],
   "source": [
    "scores"
   ]
  },
  {
   "cell_type": "code",
   "execution_count": 54,
   "id": "359b8a59",
   "metadata": {},
   "outputs": [
    {
     "data": {
      "text/plain": [
       "[8.9, 9.2, 9.0]"
      ]
     },
     "execution_count": 54,
     "metadata": {},
     "output_type": "execute_result"
    }
   ],
   "source": [
    "del scores[scores.index(min(scores))]\n",
    "scores"
   ]
  },
  {
   "cell_type": "code",
   "execution_count": 57,
   "id": "cd8a7d18",
   "metadata": {},
   "outputs": [
    {
     "data": {
      "text/plain": [
       "9.2"
      ]
     },
     "execution_count": 57,
     "metadata": {},
     "output_type": "execute_result"
    }
   ],
   "source": [
    "scores = [9.5, 8.9, 9.2, 8.8, 9.0]\n",
    "scores.pop(2)"
   ]
  },
  {
   "cell_type": "code",
   "execution_count": 58,
   "id": "838b0d6c",
   "metadata": {},
   "outputs": [],
   "source": [
    "test = {\"key1\":\"value1\", \"key2\":\"value2\"}"
   ]
  },
  {
   "cell_type": "code",
   "execution_count": 60,
   "id": "3f9bbe64",
   "metadata": {},
   "outputs": [
    {
     "data": {
      "text/plain": [
       "'value1'"
      ]
     },
     "execution_count": 60,
     "metadata": {},
     "output_type": "execute_result"
    }
   ],
   "source": [
    "test.pop(\"key1\")"
   ]
  },
  {
   "cell_type": "code",
   "execution_count": 62,
   "id": "14944f80",
   "metadata": {},
   "outputs": [
    {
     "data": {
      "text/plain": [
       "['A', 'C', 'D']"
      ]
     },
     "execution_count": 62,
     "metadata": {},
     "output_type": "execute_result"
    }
   ],
   "source": [
    "data = [\"A\", \"B\", \"C\", \"D\"]\n",
    "data.remove(\"B\")\n",
    "data"
   ]
  },
  {
   "cell_type": "code",
   "execution_count": 64,
   "id": "ef4eca83",
   "metadata": {},
   "outputs": [
    {
     "data": {
      "text/plain": [
       "['A', 'C', 'D']"
      ]
     },
     "execution_count": 64,
     "metadata": {},
     "output_type": "execute_result"
    }
   ],
   "source": [
    "data = [\"A\", \"B\", \"C\", \"D\"]\n",
    "del data[1]\n",
    "data"
   ]
  },
  {
   "cell_type": "markdown",
   "id": "851c1080",
   "metadata": {},
   "source": [
    "## extend() 함수"
   ]
  },
  {
   "cell_type": "code",
   "execution_count": 74,
   "id": "be663821",
   "metadata": {},
   "outputs": [],
   "source": [
    "list1 = [1,2,3,4]\n",
    "list2 = [\"5\", \"6\", \"7\", \"8\"]"
   ]
  },
  {
   "cell_type": "code",
   "execution_count": 75,
   "id": "421f5fee",
   "metadata": {},
   "outputs": [
    {
     "data": {
      "text/plain": [
       "[1, 2, 3, 4, '5', '6', '7', '8']"
      ]
     },
     "execution_count": 75,
     "metadata": {},
     "output_type": "execute_result"
    }
   ],
   "source": [
    "list3 = list1 + list2\n",
    "list3"
   ]
  },
  {
   "cell_type": "code",
   "execution_count": 76,
   "id": "986ee721",
   "metadata": {},
   "outputs": [
    {
     "data": {
      "text/plain": [
       "[1, 2, 3, 4, '5', '6', '7', '8']"
      ]
     },
     "execution_count": 76,
     "metadata": {},
     "output_type": "execute_result"
    }
   ],
   "source": [
    "list1.extend(list2)\n",
    "list1"
   ]
  },
  {
   "cell_type": "markdown",
   "id": "142020a2",
   "metadata": {},
   "source": [
    "## append() 함수"
   ]
  },
  {
   "cell_type": "code",
   "execution_count": 68,
   "id": "233fe61a",
   "metadata": {},
   "outputs": [
    {
     "data": {
      "text/plain": [
       "[1, 2, 3, 4, ['5', '6', '7', '8']]"
      ]
     },
     "execution_count": 68,
     "metadata": {},
     "output_type": "execute_result"
    }
   ],
   "source": [
    "list1 = [1,2,3,4]\n",
    "list2 = [\"5\", \"6\", \"7\", \"8\"]\n",
    "list1.append(list2)\n",
    "list1"
   ]
  },
  {
   "cell_type": "markdown",
   "id": "ed25aba5",
   "metadata": {},
   "source": [
    "## sort() 함수 "
   ]
  },
  {
   "cell_type": "code",
   "execution_count": 80,
   "id": "0921dcc9",
   "metadata": {},
   "outputs": [
    {
     "data": {
      "text/plain": [
       "[23, 14, 6, 5, 4, 2, 1]"
      ]
     },
     "execution_count": 80,
     "metadata": {},
     "output_type": "execute_result"
    }
   ],
   "source": [
    "data = [14,5,6,23,1,2,4]\n",
    "data.sort(reverse=True)\n",
    "data"
   ]
  },
  {
   "cell_type": "code",
   "execution_count": 81,
   "id": "b10ae3a9",
   "metadata": {},
   "outputs": [
    {
     "data": {
      "text/plain": [
       "[1, 2, 4, 5, 6, 14, 23]"
      ]
     },
     "execution_count": 81,
     "metadata": {},
     "output_type": "execute_result"
    }
   ],
   "source": [
    "data = [14,5,6,23,1,2,4]\n",
    "data.sort(reverse=False)\n",
    "data"
   ]
  },
  {
   "cell_type": "markdown",
   "id": "631bb3bb",
   "metadata": {},
   "source": [
    "## set() 함수"
   ]
  },
  {
   "cell_type": "code",
   "execution_count": 85,
   "id": "d79ab0bd",
   "metadata": {},
   "outputs": [
    {
     "data": {
      "text/plain": [
       "({1, 2, 3, 4, 5, 6, 7}, [1, 2, 3, 4, 5, 6, 7])"
      ]
     },
     "execution_count": 85,
     "metadata": {},
     "output_type": "execute_result"
    }
   ],
   "source": [
    "data = [1,1,1,2,3,4,4,4,4,5,6,7]\n",
    "set(data), list(set(data))"
   ]
  },
  {
   "cell_type": "code",
   "execution_count": null,
   "id": "a65f5fe6",
   "metadata": {},
   "outputs": [],
   "source": []
  }
 ],
 "metadata": {
  "kernelspec": {
   "display_name": "Python 3 (ipykernel)",
   "language": "python",
   "name": "python3"
  },
  "language_info": {
   "codemirror_mode": {
    "name": "ipython",
    "version": 3
   },
   "file_extension": ".py",
   "mimetype": "text/x-python",
   "name": "python",
   "nbconvert_exporter": "python",
   "pygments_lexer": "ipython3",
   "version": "3.9.7"
  }
 },
 "nbformat": 4,
 "nbformat_minor": 5
}

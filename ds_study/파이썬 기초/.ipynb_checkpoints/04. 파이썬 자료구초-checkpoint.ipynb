{
 "cells": [
  {
   "cell_type": "markdown",
   "id": "3f001a12",
   "metadata": {},
   "source": [
    "## 1. 리스트\n",
    "- 배열과 같이 여러 개의 데이터를 나열한 자료구조.\n",
    "- \"[ ]\"또는 list() 를 이용해서 선언하고 데이터 구분은 \",\"를 이용한다.\n",
    "- 리스트 내부에는 숫자형, 문자열, 리스트형, 딕셔너리형 등의 데이터가 요소로 들어갈 수 있다.\n",
    "    - 리스트 내부에 또다른 컨테이너 자료형을 요소로 넣을 수 있다.\n",
    "- 리스트 자료형에 index 호출할 경우 존재하지 않는 index를 호출할 때 index error가 발생한다."
   ]
  },
  {
   "cell_type": "code",
   "execution_count": 2,
   "id": "44d9f44e",
   "metadata": {},
   "outputs": [
    {
     "data": {
      "text/plain": [
       "([], [])"
      ]
     },
     "execution_count": 2,
     "metadata": {},
     "output_type": "execute_result"
    }
   ],
   "source": [
    "# 리스트 선언\n",
    "array_val1 = []\n",
    "array_val2 = list()\n",
    "array_val1, array_val2"
   ]
  },
  {
   "cell_type": "code",
   "execution_count": 4,
   "id": "1a9203bc",
   "metadata": {},
   "outputs": [
    {
     "data": {
      "text/plain": [
       "[1, 2, 3, 4, 5, '문자열', ['리스트형', '리스트형1'], {'key': 'value'}, 23.451]"
      ]
     },
     "execution_count": 4,
     "metadata": {},
     "output_type": "execute_result"
    }
   ],
   "source": [
    "# 다양한 데이터 타입의 리스트 요소\n",
    "array_val3 = [1,2,3,4,5,\"문자열\", [\"리스트형\", \"리스트형1\"], {\"key\":\"value\"}, 23.451]\n",
    "array_val3"
   ]
  },
  {
   "cell_type": "code",
   "execution_count": 5,
   "id": "af9fb74d",
   "metadata": {},
   "outputs": [
    {
     "name": "stdout",
     "output_type": "stream",
     "text": [
      "데이터 타입 <class 'int'> \t|\t 데이터 : 1\n",
      "데이터 타입 <class 'int'> \t|\t 데이터 : 2\n",
      "데이터 타입 <class 'int'> \t|\t 데이터 : 3\n",
      "데이터 타입 <class 'int'> \t|\t 데이터 : 4\n",
      "데이터 타입 <class 'int'> \t|\t 데이터 : 5\n",
      "데이터 타입 <class 'str'> \t|\t 데이터 : 문자열\n",
      "데이터 타입 <class 'list'> \t|\t 데이터 : ['리스트형', '리스트형1']\n",
      "데이터 타입 <class 'dict'> \t|\t 데이터 : {'key': 'value'}\n",
      "데이터 타입 <class 'float'> \t|\t 데이터 : 23.451\n"
     ]
    }
   ],
   "source": [
    "# 리스트를 이용한 for 반복문 사용 \n",
    "for item in array_val3:\n",
    "    print(f\"데이터 타입 {type(item)} \\t|\\t 데이터 : {item}\")"
   ]
  },
  {
   "cell_type": "code",
   "execution_count": 17,
   "id": "a930a996",
   "metadata": {},
   "outputs": [
    {
     "name": "stdout",
     "output_type": "stream",
     "text": [
      "문자열\n",
      "23.451\n",
      "==================================================\n",
      "[1, 2, 3]\n",
      "[['리스트형', '리스트형1'], {'key': 'value'}]\n",
      "[1, 2, 3, 4, 5, '문자열', ['리스트형', '리스트형1'], {'key': 'value'}]\n",
      "[2, 4, '문자열', {'key': 'value'}]\n",
      "[23.451, {'key': 'value'}, ['리스트형', '리스트형1'], '문자열', 5, 4, 3, 2, 1]\n",
      "==================================================\n"
     ]
    }
   ],
   "source": [
    "# 리스트 자료형 내부의 데이터를 조회하는 방법\n",
    "\n",
    "# index로 호출하기\n",
    "print(array_val3[5])\n",
    "print(array_val3[8])\n",
    "print(\"=\"*50)\n",
    "\n",
    "# index slicing 호출하기\n",
    "print(array_val3[0:3])\n",
    "print(array_val3[6:8])\n",
    "print(array_val3[:8])\n",
    "print(array_val3[1:8:2])\n",
    "print(array_val3[::-1])\n",
    "print(\"=\"*50)\n",
    "\n"
   ]
  },
  {
   "cell_type": "code",
   "execution_count": 20,
   "id": "24b27c44",
   "metadata": {},
   "outputs": [
    {
     "name": "stdout",
     "output_type": "stream",
     "text": [
      "짝수 인덱스 : A\n",
      "홀수 인덱스 : B\n",
      "짝수 인덱스 : C\n",
      "홀수 인덱스 : D\n",
      "짝수 인덱스 : E\n",
      "홀수 인덱스 : F\n",
      "짝수 인덱스 : G\n"
     ]
    }
   ],
   "source": [
    "students = [\"A\", \"B\", \"C\", \"D\", \"E\", \"F\", \"G\"]\n",
    "\n",
    "for idx, st in enumerate(students):\n",
    "    if idx % 2 == 0:\n",
    "        print(f\"짝수 인덱스 : {st}\")\n",
    "    else : \n",
    "        print(f\"홀수 인덱스 : {st}\")"
   ]
  },
  {
   "cell_type": "code",
   "execution_count": 23,
   "id": "3c2e8a64",
   "metadata": {},
   "outputs": [
    {
     "name": "stdout",
     "output_type": "stream",
     "text": [
      "리스트의 길이 : 6\n",
      "0 1\n",
      "1 2\n",
      "2 A\n",
      "3 4\n",
      "4 5\n",
      "5 6\n"
     ]
    }
   ],
   "source": [
    "# 리스트의 길이 확인하기 = 리스트 컨테이너 안에 들어있는 요소의 개수 확인하기\n",
    "list_value = [1,2,\"A\",4,5,6]\n",
    "print(f\"리스트의 길이 : {len(list_value)}\")\n",
    "\n",
    "for idx in range(len(list_value)):\n",
    "    print(idx, list_value[idx])"
   ]
  },
  {
   "cell_type": "markdown",
   "id": "e868bd5e",
   "metadata": {},
   "source": [
    "```\n",
    ">>> a = [1.2, 2.5, 3.7, 4.6]\n",
    ">>> a = list(map(int, a))\n",
    ">>> a\n",
    "[1, 2, 3, 4]\n",
    "```"
   ]
  },
  {
   "cell_type": "code",
   "execution_count": 24,
   "id": "5e83822d",
   "metadata": {},
   "outputs": [
    {
     "data": {
      "text/plain": [
       "[[1, 18], [2, 20], [3, 40]]"
      ]
     },
     "execution_count": 24,
     "metadata": {},
     "output_type": "execute_result"
    }
   ],
   "source": [
    "data = [\n",
    "    [1, 18], [2, 20], [3, 40]\n",
    "]\n",
    "\n",
    "data"
   ]
  },
  {
   "cell_type": "code",
   "execution_count": 31,
   "id": "56c5ea7d",
   "metadata": {},
   "outputs": [
    {
     "data": {
      "text/plain": [
       "(18, 40)"
      ]
     },
     "execution_count": 31,
     "metadata": {},
     "output_type": "execute_result"
    }
   ],
   "source": [
    "min(list(map(lambda x : x[1], data))), max(list(map(lambda x : x[1], data)))"
   ]
  },
  {
   "cell_type": "markdown",
   "id": "8fa33687",
   "metadata": {},
   "source": [
    "## enumerate() 함수"
   ]
  },
  {
   "cell_type": "code",
   "execution_count": 38,
   "id": "e724dda7",
   "metadata": {},
   "outputs": [
    {
     "name": "stdout",
     "output_type": "stream",
     "text": [
      "인덱스 : 0 \t|\t 요소 : a\n",
      "인덱스 : 1 \t|\t 요소 : b\n",
      "인덱스 : 2 \t|\t 요소 : c\n",
      "인덱스 : 3 \t|\t 요소 : d\n",
      "인덱스 : 4 \t|\t 요소 : e\n",
      "인덱스 : 5 \t|\t 요소 : f\n",
      "인덱스 : 6 \t|\t 요소 : g\n"
     ]
    }
   ],
   "source": [
    "for idx, st in enumerate(\"abcdefg\"):\n",
    "    print(f\"인덱스 : {idx} \\t|\\t 요소 : {st}\")"
   ]
  },
  {
   "cell_type": "code",
   "execution_count": 39,
   "id": "19f07c62",
   "metadata": {},
   "outputs": [
    {
     "data": {
      "text/plain": [
       "3"
      ]
     },
     "execution_count": 39,
     "metadata": {},
     "output_type": "execute_result"
    }
   ],
   "source": [
    "\"   \".count(\" \")"
   ]
  },
  {
   "cell_type": "markdown",
   "id": "8c35466a",
   "metadata": {},
   "source": [
    "## insert() 함수"
   ]
  },
  {
   "cell_type": "code",
   "execution_count": 40,
   "id": "f9abaaff",
   "metadata": {},
   "outputs": [],
   "source": [
    "data = [1,2,3,4,5,6,7,8,9]\n",
    "data.insert(4, \"데이터 삽입\")"
   ]
  },
  {
   "cell_type": "code",
   "execution_count": 41,
   "id": "2be4a0de",
   "metadata": {},
   "outputs": [
    {
     "data": {
      "text/plain": [
       "[1, 2, 3, 4, '데이터 삽입', 5, 6, 7, 8, 9]"
      ]
     },
     "execution_count": 41,
     "metadata": {},
     "output_type": "execute_result"
    }
   ],
   "source": [
    "data"
   ]
  },
  {
   "cell_type": "code",
   "execution_count": 42,
   "id": "4d2b5640",
   "metadata": {},
   "outputs": [
    {
     "data": {
      "text/plain": [
       "[1, 2, 3, 4, 5, 6, 7, 8, 9, 10]"
      ]
     },
     "execution_count": 42,
     "metadata": {},
     "output_type": "execute_result"
    }
   ],
   "source": [
    "numbers = [1,2,3,4,6,7,8,9,10]\n",
    "target = 5\n",
    "flag = True\n",
    "\n",
    "for idx, i in enumerate(numbers):\n",
    "    if flag and target < i:\n",
    "        numbers.insert(idx, target)\n",
    "        flag = False\n",
    "numbers\n"
   ]
  },
  {
   "cell_type": "markdown",
   "id": "1cbde285",
   "metadata": {},
   "source": [
    "## pop() 함수\n",
    "- 리스트 자료형의 마지막 인덱스 요소값을 반환하면서 삭제한다."
   ]
  },
  {
   "cell_type": "code",
   "execution_count": 46,
   "id": "6ed49586",
   "metadata": {},
   "outputs": [
    {
     "data": {
      "text/plain": [
       "8"
      ]
     },
     "execution_count": 46,
     "metadata": {},
     "output_type": "execute_result"
    }
   ],
   "source": [
    "data = [1,2,3,4,5,6,7,8]\n",
    "data.pop()"
   ]
  },
  {
   "cell_type": "code",
   "execution_count": 47,
   "id": "3221814e",
   "metadata": {},
   "outputs": [
    {
     "data": {
      "text/plain": [
       "[1, 2, 3, 4, 5, 6, 7]"
      ]
     },
     "execution_count": 47,
     "metadata": {},
     "output_type": "execute_result"
    }
   ],
   "source": [
    "data"
   ]
  },
  {
   "cell_type": "code",
   "execution_count": 50,
   "id": "2e4bf0a0",
   "metadata": {},
   "outputs": [],
   "source": [
    "scores = [9.5, 8.9, 9.2, 8.8, 9.0]"
   ]
  },
  {
   "cell_type": "code",
   "execution_count": 51,
   "id": "dee04ca9",
   "metadata": {},
   "outputs": [
    {
     "data": {
      "text/plain": [
       "(0, 3)"
      ]
     },
     "execution_count": 51,
     "metadata": {},
     "output_type": "execute_result"
    }
   ],
   "source": [
    "scores.index(max(scores)), scores.index(min(scores))"
   ]
  },
  {
   "cell_type": "code",
   "execution_count": 52,
   "id": "f1e7d5bc",
   "metadata": {},
   "outputs": [],
   "source": [
    "del scores[scores.index(max(scores))]"
   ]
  },
  {
   "cell_type": "code",
   "execution_count": 53,
   "id": "92553af2",
   "metadata": {},
   "outputs": [
    {
     "data": {
      "text/plain": [
       "[8.9, 9.2, 8.8, 9.0]"
      ]
     },
     "execution_count": 53,
     "metadata": {},
     "output_type": "execute_result"
    }
   ],
   "source": [
    "scores"
   ]
  },
  {
   "cell_type": "code",
   "execution_count": 54,
   "id": "18c73c7b",
   "metadata": {},
   "outputs": [
    {
     "data": {
      "text/plain": [
       "[8.9, 9.2, 9.0]"
      ]
     },
     "execution_count": 54,
     "metadata": {},
     "output_type": "execute_result"
    }
   ],
   "source": [
    "del scores[scores.index(min(scores))]\n",
    "scores"
   ]
  },
  {
   "cell_type": "code",
   "execution_count": 57,
   "id": "a2c158f9",
   "metadata": {},
   "outputs": [
    {
     "data": {
      "text/plain": [
       "9.2"
      ]
     },
     "execution_count": 57,
     "metadata": {},
     "output_type": "execute_result"
    }
   ],
   "source": [
    "scores = [9.5, 8.9, 9.2, 8.8, 9.0]\n",
    "scores.pop(2)"
   ]
  },
  {
   "cell_type": "code",
   "execution_count": 58,
   "id": "3024331e",
   "metadata": {},
   "outputs": [],
   "source": [
    "test = {\"key1\":\"value1\", \"key2\":\"value2\"}"
   ]
  },
  {
   "cell_type": "code",
   "execution_count": 60,
   "id": "aebaa024",
   "metadata": {},
   "outputs": [
    {
     "data": {
      "text/plain": [
       "'value1'"
      ]
     },
     "execution_count": 60,
     "metadata": {},
     "output_type": "execute_result"
    }
   ],
   "source": [
    "test.pop(\"key1\")"
   ]
  },
  {
   "cell_type": "code",
   "execution_count": 62,
   "id": "0f3f5026",
   "metadata": {},
   "outputs": [
    {
     "data": {
      "text/plain": [
       "['A', 'C', 'D']"
      ]
     },
     "execution_count": 62,
     "metadata": {},
     "output_type": "execute_result"
    }
   ],
   "source": [
    "data = [\"A\", \"B\", \"C\", \"D\"]\n",
    "data.remove(\"B\")\n",
    "data"
   ]
  },
  {
   "cell_type": "code",
   "execution_count": 64,
   "id": "b73a26db",
   "metadata": {},
   "outputs": [
    {
     "data": {
      "text/plain": [
       "['A', 'C', 'D']"
      ]
     },
     "execution_count": 64,
     "metadata": {},
     "output_type": "execute_result"
    }
   ],
   "source": [
    "data = [\"A\", \"B\", \"C\", \"D\"]\n",
    "del data[1]\n",
    "data"
   ]
  },
  {
   "cell_type": "markdown",
   "id": "16c799d3",
   "metadata": {},
   "source": [
    "## extend() 함수"
   ]
  },
  {
   "cell_type": "code",
   "execution_count": 74,
   "id": "c45cbaf0",
   "metadata": {},
   "outputs": [],
   "source": [
    "list1 = [1,2,3,4]\n",
    "list2 = [\"5\", \"6\", \"7\", \"8\"]"
   ]
  },
  {
   "cell_type": "code",
   "execution_count": 75,
   "id": "0a5b5e83",
   "metadata": {},
   "outputs": [
    {
     "data": {
      "text/plain": [
       "[1, 2, 3, 4, '5', '6', '7', '8']"
      ]
     },
     "execution_count": 75,
     "metadata": {},
     "output_type": "execute_result"
    }
   ],
   "source": [
    "list3 = list1 + list2\n",
    "list3"
   ]
  },
  {
   "cell_type": "code",
   "execution_count": 76,
   "id": "b0ab1b61",
   "metadata": {},
   "outputs": [
    {
     "data": {
      "text/plain": [
       "[1, 2, 3, 4, '5', '6', '7', '8']"
      ]
     },
     "execution_count": 76,
     "metadata": {},
     "output_type": "execute_result"
    }
   ],
   "source": [
    "list1.extend(list2)\n",
    "list1"
   ]
  },
  {
   "cell_type": "markdown",
   "id": "b918bdda",
   "metadata": {},
   "source": [
    "## append() 함수"
   ]
  },
  {
   "cell_type": "code",
   "execution_count": 68,
   "id": "251e8233",
   "metadata": {},
   "outputs": [
    {
     "data": {
      "text/plain": [
       "[1, 2, 3, 4, ['5', '6', '7', '8']]"
      ]
     },
     "execution_count": 68,
     "metadata": {},
     "output_type": "execute_result"
    }
   ],
   "source": [
    "list1 = [1,2,3,4]\n",
    "list2 = [\"5\", \"6\", \"7\", \"8\"]\n",
    "list1.append(list2)\n",
    "list1"
   ]
  },
  {
   "cell_type": "markdown",
   "id": "64347169",
   "metadata": {},
   "source": [
    "## sort() 함수 "
   ]
  },
  {
   "cell_type": "code",
   "execution_count": 80,
   "id": "0283e249",
   "metadata": {},
   "outputs": [
    {
     "data": {
      "text/plain": [
       "[23, 14, 6, 5, 4, 2, 1]"
      ]
     },
     "execution_count": 80,
     "metadata": {},
     "output_type": "execute_result"
    }
   ],
   "source": [
    "data = [14,5,6,23,1,2,4]\n",
    "data.sort(reverse=True)\n",
    "data"
   ]
  },
  {
   "cell_type": "code",
   "execution_count": 81,
   "id": "b80cf861",
   "metadata": {},
   "outputs": [
    {
     "data": {
      "text/plain": [
       "[1, 2, 4, 5, 6, 14, 23]"
      ]
     },
     "execution_count": 81,
     "metadata": {},
     "output_type": "execute_result"
    }
   ],
   "source": [
    "data = [14,5,6,23,1,2,4]\n",
    "data.sort(reverse=False)\n",
    "data"
   ]
  },
  {
   "cell_type": "markdown",
   "id": "45f8e1d9",
   "metadata": {},
   "source": [
    "## set() 함수"
   ]
  },
  {
   "cell_type": "code",
   "execution_count": 85,
   "id": "2a3a1f1b",
   "metadata": {},
   "outputs": [
    {
     "data": {
      "text/plain": [
       "({1, 2, 3, 4, 5, 6, 7}, [1, 2, 3, 4, 5, 6, 7])"
      ]
     },
     "execution_count": 85,
     "metadata": {},
     "output_type": "execute_result"
    }
   ],
   "source": [
    "data = [1,1,1,2,3,4,4,4,4,5,6,7]\n",
    "set(data), list(set(data))"
   ]
  },
  {
   "cell_type": "markdown",
   "id": "7c5e4954",
   "metadata": {},
   "source": [
    "## reverse() 함수"
   ]
  },
  {
   "cell_type": "code",
   "execution_count": 88,
   "id": "993153c9",
   "metadata": {},
   "outputs": [
    {
     "data": {
      "text/plain": [
       "[7, 6, 5, 4, 3, 2, 1]"
      ]
     },
     "execution_count": 88,
     "metadata": {},
     "output_type": "execute_result"
    }
   ],
   "source": [
    "data = [1,2,3,4,5,6,7]\n",
    "data.reverse()\n",
    "data"
   ]
  },
  {
   "cell_type": "markdown",
   "id": "a816337f",
   "metadata": {},
   "source": [
    "## slice() 함수"
   ]
  },
  {
   "cell_type": "code",
   "execution_count": 89,
   "id": "a05b08d1",
   "metadata": {},
   "outputs": [
    {
     "data": {
      "text/plain": [
       "[2, 3, 4]"
      ]
     },
     "execution_count": 89,
     "metadata": {},
     "output_type": "execute_result"
    }
   ],
   "source": [
    "data = [1,2,3,4,5,6,7]\n",
    "data[slice(1,4)]"
   ]
  },
  {
   "cell_type": "code",
   "execution_count": 90,
   "id": "ef042d0c",
   "metadata": {},
   "outputs": [
    {
     "data": {
      "text/plain": [
       "[2, 3, 4, 5, 6, 7]"
      ]
     },
     "execution_count": 90,
     "metadata": {},
     "output_type": "execute_result"
    }
   ],
   "source": [
    "data[slice(1,len(data))]"
   ]
  },
  {
   "cell_type": "code",
   "execution_count": 92,
   "id": "480398ec",
   "metadata": {},
   "outputs": [
    {
     "data": {
      "text/plain": [
       "[6]"
      ]
     },
     "execution_count": 92,
     "metadata": {},
     "output_type": "execute_result"
    }
   ],
   "source": [
    "data[slice(-2,-1)]"
   ]
  },
  {
   "cell_type": "markdown",
   "id": "c797d566",
   "metadata": {},
   "source": [
    "## list 자료형 곱하기"
   ]
  },
  {
   "cell_type": "code",
   "execution_count": 94,
   "id": "9b26de80",
   "metadata": {},
   "outputs": [
    {
     "data": {
      "text/plain": [
       "[1, 2, 3, 4, 1, 2, 3, 4]"
      ]
     },
     "execution_count": 94,
     "metadata": {},
     "output_type": "execute_result"
    }
   ],
   "source": [
    "[1,2,3,4] * 2"
   ]
  },
  {
   "cell_type": "code",
   "execution_count": 96,
   "id": "f432df65",
   "metadata": {},
   "outputs": [
    {
     "data": {
      "text/plain": [
       "[2, 4, 6, 8]"
      ]
     },
     "execution_count": 96,
     "metadata": {},
     "output_type": "execute_result"
    }
   ],
   "source": [
    "list(map(lambda x : x * 2, [1,2,3,4]))"
   ]
  },
  {
   "cell_type": "markdown",
   "id": "ad736e65",
   "metadata": {},
   "source": [
    "## index() 함수"
   ]
  },
  {
   "cell_type": "code",
   "execution_count": 98,
   "id": "8cd42b76",
   "metadata": {},
   "outputs": [
    {
     "data": {
      "text/plain": [
       "1"
      ]
     },
     "execution_count": 98,
     "metadata": {},
     "output_type": "execute_result"
    }
   ],
   "source": [
    "[\"1번\", \"2번\", \"3번\"].index(\"2번\")"
   ]
  },
  {
   "cell_type": "code",
   "execution_count": 141,
   "id": "b64c3eb7",
   "metadata": {},
   "outputs": [
    {
     "name": "stdout",
     "output_type": "stream",
     "text": [
      "숫자 7의 인덱스 값 : 5\n",
      "원본 리스트 값 : [8, 5, 6, 10, 3, 7, 4, 2, 9, 1]\n"
     ]
    }
   ],
   "source": [
    "# 1부터 10까지의 정수가 중복되지 않고 섞여 있을 때 행운의 숫자 7의 위치를 찾자!\n",
    "\n",
    "import random\n",
    "\n",
    "numbers = random.sample(range(1, 11), 10)\n",
    "print(f\"숫자 7의 인덱스 값 : {numbers.index(7)}\")\n",
    "print(f\"원본 리스트 값 : {numbers}\")"
   ]
  },
  {
   "cell_type": "markdown",
   "id": "07f503d9",
   "metadata": {},
   "source": [
    "## count() 함수"
   ]
  },
  {
   "cell_type": "code",
   "execution_count": 146,
   "id": "9531f261",
   "metadata": {},
   "outputs": [
    {
     "data": {
      "text/plain": [
       "7"
      ]
     },
     "execution_count": 146,
     "metadata": {},
     "output_type": "execute_result"
    }
   ],
   "source": [
    "[1,2,3,3,3,1,1,1,1,1,1].count(1)"
   ]
  },
  {
   "cell_type": "markdown",
   "id": "d09e3d6f",
   "metadata": {},
   "source": [
    "## collections.Counter 모듈로 리스트 요소 카운트하기"
   ]
  },
  {
   "cell_type": "code",
   "execution_count": 169,
   "id": "51f79b85",
   "metadata": {},
   "outputs": [
    {
     "data": {
      "text/plain": [
       "{'A': 7, 'B': 3}"
      ]
     },
     "execution_count": 169,
     "metadata": {},
     "output_type": "execute_result"
    }
   ],
   "source": [
    "import collections\n",
    "dict(collections.Counter([\"A\", \"A\", \"A\", \"A\", \"A\", \"A\", \"A\", \"B\", \"B\", \"B\" ]))"
   ]
  },
  {
   "cell_type": "markdown",
   "id": "a365a6de",
   "metadata": {},
   "source": [
    "---"
   ]
  },
  {
   "cell_type": "markdown",
   "id": "9c4b013f",
   "metadata": {},
   "source": [
    "## 튜플(Tuple) 이란?\n",
    "- 리스트(list)와 성격이 비슷하지만 한 번 선언한 요소는 변경할 수 없다.\n",
    "- \"( )\" 또는 tuple() 을 이용하여 튜플을 선언할 수 있다.\n",
    "- 데이터 요소끼리는 \",\"으로 구분한다."
   ]
  },
  {
   "cell_type": "code",
   "execution_count": 173,
   "id": "92a6c5e7",
   "metadata": {},
   "outputs": [
    {
     "name": "stdout",
     "output_type": "stream",
     "text": [
      "(1, 2, 3, 4, 5, 6)\n"
     ]
    },
    {
     "ename": "TypeError",
     "evalue": "'str' object is not callable",
     "output_type": "error",
     "traceback": [
      "\u001b[1;31m---------------------------------------------------------------------------\u001b[0m",
      "\u001b[1;31mTypeError\u001b[0m                                 Traceback (most recent call last)",
      "\u001b[1;32m~\\AppData\\Local\\Temp/ipykernel_9420/3351617368.py\u001b[0m in \u001b[0;36m<module>\u001b[1;34m\u001b[0m\n\u001b[0;32m      2\u001b[0m \u001b[0mprint\u001b[0m\u001b[1;33m(\u001b[0m\u001b[0mtuple_value\u001b[0m\u001b[1;33m)\u001b[0m\u001b[1;33m\u001b[0m\u001b[1;33m\u001b[0m\u001b[0m\n\u001b[0;32m      3\u001b[0m \u001b[1;33m\u001b[0m\u001b[0m\n\u001b[1;32m----> 4\u001b[1;33m \u001b[0mprint\u001b[0m\u001b[1;33m(\u001b[0m\u001b[0mtype\u001b[0m\u001b[1;33m(\u001b[0m\u001b[0mtuple_value\u001b[0m\u001b[1;33m)\u001b[0m\u001b[1;33m)\u001b[0m\u001b[1;33m\u001b[0m\u001b[1;33m\u001b[0m\u001b[0m\n\u001b[0m",
      "\u001b[1;31mTypeError\u001b[0m: 'str' object is not callable"
     ]
    }
   ],
   "source": [
    "tuple_value = (1,2,3,4,5,6)\n",
    "print(tuple_value)\n",
    "\n",
    "print(type(tuple_value))"
   ]
  },
  {
   "cell_type": "code",
   "execution_count": null,
   "id": "9bf5df89",
   "metadata": {},
   "outputs": [],
   "source": []
  }
 ],
 "metadata": {
  "kernelspec": {
   "display_name": "Python 3 (ipykernel)",
   "language": "python",
   "name": "python3"
  },
  "language_info": {
   "codemirror_mode": {
    "name": "ipython",
    "version": 3
   },
   "file_extension": ".py",
   "mimetype": "text/x-python",
   "name": "python",
   "nbconvert_exporter": "python",
   "pygments_lexer": "ipython3",
   "version": "3.9.7"
  }
 },
 "nbformat": 4,
 "nbformat_minor": 5
}

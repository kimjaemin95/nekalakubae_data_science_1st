{
 "cells": [
  {
   "cell_type": "markdown",
   "id": "2d0f9398",
   "metadata": {},
   "source": [
    "## 문제 1번\n",
    "- 1부터 사용자가 입력한 숫자까지의 약수와 소인수를 리스트에 각각 저장하고, 이것을 출력하는 프로그램을 만들어보자."
   ]
  },
  {
   "cell_type": "code",
   "execution_count": 5,
   "id": "517a945e",
   "metadata": {},
   "outputs": [
    {
     "name": "stdout",
     "output_type": "stream",
     "text": [
      "1보다 큰 정수 입력 : 100\n",
      "100의 약수 : 1\n",
      "100의 약수 : 2\n",
      "100의 소인수 : 2\n",
      "100의 약수 : 4\n",
      "100의 약수 : 5\n",
      "100의 소인수 : 5\n",
      "100의 약수 : 10\n",
      "100의 약수 : 20\n",
      "100의 약수 : 25\n",
      "100의 약수 : 50\n",
      "100의 약수 : 100\n"
     ]
    }
   ],
   "source": [
    "num = int(input(\"1보다 큰 정수 입력 : \"))\n",
    "\n",
    "list_a = []    # 약수 리스트\n",
    "list_b = []    # 소수 리스트\n",
    "\n",
    "for i in range(1, num+1):\n",
    "    if num % i == 0:\n",
    "        print(f\"{num}의 약수 : {i}\")\n",
    "        list_a.append(i)\n",
    "        \n",
    "        flag = True\n",
    "        if i != 1:\n",
    "            for i2 in range(2, i):\n",
    "                if i % i2 == 0:\n",
    "                    flag = False\n",
    "                    break\n",
    "\n",
    "            if flag:\n",
    "                print(f\"{num}의 소인수 : {i}\")\n",
    "                list_b.append(i)\n",
    "            \n",
    "    "
   ]
  },
  {
   "cell_type": "code",
   "execution_count": null,
   "id": "c199ccf2",
   "metadata": {},
   "outputs": [],
   "source": []
  },
  {
   "cell_type": "code",
   "execution_count": null,
   "id": "23287c97",
   "metadata": {},
   "outputs": [],
   "source": []
  }
 ],
 "metadata": {
  "kernelspec": {
   "display_name": "Python 3 (ipykernel)",
   "language": "python",
   "name": "python3"
  },
  "language_info": {
   "codemirror_mode": {
    "name": "ipython",
    "version": 3
   },
   "file_extension": ".py",
   "mimetype": "text/x-python",
   "name": "python",
   "nbconvert_exporter": "python",
   "pygments_lexer": "ipython3",
   "version": "3.9.7"
  }
 },
 "nbformat": 4,
 "nbformat_minor": 5
}

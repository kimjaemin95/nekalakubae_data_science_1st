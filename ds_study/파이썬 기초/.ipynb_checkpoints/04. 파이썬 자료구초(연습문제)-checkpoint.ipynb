{
 "cells": [
  {
   "cell_type": "markdown",
   "id": "2d0f9398",
   "metadata": {},
   "source": [
    "## 문제 1번\n",
    "- 1부터 사용자가 입력한 숫자까지의 약수와 소인수를 리스트에 각각 저장하고, 이것을 출력하는 프로그램을 만들어보자."
   ]
  },
  {
   "cell_type": "code",
   "execution_count": 5,
   "id": "517a945e",
   "metadata": {},
   "outputs": [
    {
     "name": "stdout",
     "output_type": "stream",
     "text": [
      "1보다 큰 정수 입력 : 100\n",
      "100의 약수 : 1\n",
      "100의 약수 : 2\n",
      "100의 소인수 : 2\n",
      "100의 약수 : 4\n",
      "100의 약수 : 5\n",
      "100의 소인수 : 5\n",
      "100의 약수 : 10\n",
      "100의 약수 : 20\n",
      "100의 약수 : 25\n",
      "100의 약수 : 50\n",
      "100의 약수 : 100\n"
     ]
    }
   ],
   "source": [
    "num = int(input(\"1보다 큰 정수 입력 : \"))\n",
    "\n",
    "list_a = []    # 약수 리스트\n",
    "list_b = []    # 소수 리스트\n",
    "\n",
    "for i in range(1, num+1):\n",
    "    if num % i == 0:\n",
    "        print(f\"{num}의 약수 : {i}\")\n",
    "        list_a.append(i)\n",
    "        \n",
    "        flag = True\n",
    "        if i != 1:\n",
    "            for i2 in range(2, i):\n",
    "                if i % i2 == 0:\n",
    "                    flag = False\n",
    "                    break\n",
    "\n",
    "            if flag:\n",
    "                print(f\"{num}의 소인수 : {i}\")\n",
    "                list_b.append(i)\n",
    "            \n",
    "    "
   ]
  },
  {
   "cell_type": "markdown",
   "id": "9caae9b1",
   "metadata": {},
   "source": [
    "## 문제 2번 \n",
    "- 1부터 100사이의 난수 10개를 생성한 후 짝수와 홀수를 구분해서 리스트에 저장하고 각각의 개수를 출력하는 프로그램을 만들어보자."
   ]
  },
  {
   "cell_type": "code",
   "execution_count": 7,
   "id": "23287c97",
   "metadata": {},
   "outputs": [
    {
     "name": "stdout",
     "output_type": "stream",
     "text": [
      "짝수 : 5개 \t|\t [98, 48, 84, 42, 44]\n",
      "홀수 : 5개 \t|\t [57, 95, 79, 5, 97]\n"
     ]
    }
   ],
   "source": [
    "import random\n",
    "\n",
    "numbers = random.sample(range(1,101), 10)\n",
    "\n",
    "odd = []   # 짝수\n",
    "ever = []  # 홀수\n",
    "for num in numbers:\n",
    "    if num % 2 == 0:\n",
    "        odd.append(num)\n",
    "    else:\n",
    "        ever.append(num)\n",
    "        \n",
    "print(f\"짝수 : {len(odd)}개 \\t|\\t {odd}\")\n",
    "print(f\"홀수 : {len(ever)}개 \\t|\\t {ever}\")"
   ]
  },
  {
   "cell_type": "markdown",
   "id": "c704204a",
   "metadata": {},
   "source": [
    "## 문제 3번\n",
    "- 다음은 공원 입장료를 나타낸 표이다. 1일 총 입장객이 100명이라고 할 때, 1일 전체 입장 요금을 구하는 프로그램을 만들어보자.\n",
    "- 단, 입장 고객의 나이는 난수를 이용한다.\n",
    "- 영유아 (0~7세) : 무료\n",
    "- 어린이 (8~13세) : 200원\n",
    "- 청소년 (14~19세) : 300원\n",
    "- 성인 (20~64세) : 500원\n",
    "- 어르신 (65세 이상) : 무료"
   ]
  },
  {
   "cell_type": "code",
   "execution_count": 24,
   "id": "8eadec20",
   "metadata": {},
   "outputs": [
    {
     "name": "stdout",
     "output_type": "stream",
     "text": [
      "Counter({43: 4, 23: 3, 40: 3, 13: 3, 79: 3, 24: 3, 0: 3, 91: 3, 80: 2, 63: 2, 94: 2, 67: 2, 36: 2, 50: 2, 74: 2, 7: 2, 77: 2, 75: 2, 97: 2, 22: 2, 78: 2, 53: 2, 20: 2, 1: 2, 38: 1, 72: 1, 33: 1, 48: 1, 14: 1, 28: 1, 16: 1, 71: 1, 35: 1, 70: 1, 10: 1, 11: 1, 81: 1, 32: 1, 66: 1, 98: 1, 58: 1, 54: 1, 21: 1, 9: 1, 15: 1, 82: 1, 52: 1, 88: 1, 39: 1, 64: 1, 46: 1, 29: 1, 3: 1, 5: 1, 93: 1, 26: 1, 34: 1, 2: 1, 85: 1, 37: 1, 31: 1, 60: 1, 18: 1, 25: 1, 87: 1, 30: 1, 65: 1})\n",
      "1일 방문자 수 : 100명\n",
      "1일 전체 입장 요금 : 25,400원\n"
     ]
    }
   ],
   "source": [
    "import random\n",
    "\n",
    "people = []\n",
    "money = []\n",
    "for i in range(100):\n",
    "    p = random.randint(0, 100)\n",
    "    people.append(p)\n",
    "    pay = 0\n",
    "    if (p >= 0) and (p < 8):\n",
    "        pay = 0\n",
    "    elif (p >= 8) and (p < 14):\n",
    "        pay = 200\n",
    "    elif ( p>= 14) and (p < 20):\n",
    "        pay = 300\n",
    "    elif (p >= 20) and (p < 65):\n",
    "        pay = 500\n",
    "    elif (p >= 65):\n",
    "        pay = 0\n",
    "        \n",
    "    money.append(pay)\n",
    "     \n",
    "print(f\"1일 방문자 수 : {len(people)}명\")\n",
    "print(f\"1일 전체 입장 요금 : {format(sum(money), ',')}원\")"
   ]
  },
  {
   "cell_type": "markdown",
   "id": "f9f1e0ce",
   "metadata": {},
   "source": [
    "## 문제 4번\n",
    "- 친구 이름 다섯 명을 리스트에 저장하고 오름차순과 내림차순으로 정렬해보자."
   ]
  },
  {
   "cell_type": "code",
   "execution_count": 28,
   "id": "bc4bc250",
   "metadata": {},
   "outputs": [
    {
     "name": "stdout",
     "output_type": "stream",
     "text": [
      "오름차순 ['달이', '별이', '차오', '최희연', '펄']\n",
      "내림차순 ['펄', '최희연', '차오', '별이', '달이']\n"
     ]
    }
   ],
   "source": [
    "friends = [\"최희연\", \"펄\", \"차오\", \"별이\", \"달이\"]\n",
    "\n",
    "friends.sort()\n",
    "print(f\"오름차순 {friends}\")\n",
    "print(f\"내림차순 {friends[::-1]}\")"
   ]
  },
  {
   "cell_type": "code",
   "execution_count": 35,
   "id": "7b9b25c1",
   "metadata": {},
   "outputs": [
    {
     "name": "stdout",
     "output_type": "stream",
     "text": [
      "내림차순 ['펄', '최희연', '차오', '별이', '달이']\n"
     ]
    }
   ],
   "source": [
    "friends = [\"최희연\", \"펄\", \"차오\", \"별이\", \"달이\"]\n",
    "\n",
    "friends.sort(reverse=True)\n",
    "print(f\"내림차순 {friends}\")"
   ]
  },
  {
   "cell_type": "markdown",
   "id": "b10b7c7a",
   "metadata": {},
   "source": [
    "## 문제 5번\n",
    "- 다음 리스트에서 중복 아이템(숫자)을 제거하는 프로그램을 만들어보자."
   ]
  },
  {
   "cell_type": "code",
   "execution_count": 37,
   "id": "8d1be7f2",
   "metadata": {},
   "outputs": [
    {
     "name": "stdout",
     "output_type": "stream",
     "text": [
      "numbers : [2, 22, 7, 8, 9, 2, 7, 3, 5, 2, 7, 1, 3]\n",
      "numbers sets : [1, 2, 3, 5, 7, 8, 9, 22]\n"
     ]
    }
   ],
   "source": [
    "numbers = [2, 22, 7, 8, 9, 2, 7, 3, 5, 2, 7, 1, 3]\n",
    "print(f\"numbers : {numbers}\")\n",
    "\n",
    "print(f\"numbers sets : {list(set(numbers))}\")"
   ]
  },
  {
   "cell_type": "markdown",
   "id": "ebc3ba99",
   "metadata": {},
   "source": [
    "## 문제 6번\n",
    "- 4개의 숫자 중 서로 다른 숫자 2개를 선택해서 만들 수 있는 경우의 수를 출력하는 프로그램을 만들어보자."
   ]
  },
  {
   "cell_type": "code",
   "execution_count": 44,
   "id": "d7c2f420",
   "metadata": {},
   "outputs": [
    {
     "name": "stdout",
     "output_type": "stream",
     "text": [
      "[(1, 2), (1, 3), (1, 4), (2, 1), (2, 3), (2, 4), (3, 1), (3, 2), (3, 4), (4, 1), (4, 2), (4, 3)]\n",
      "4개의 숫자중 서로 다른 숫자 2개를 선택하는 경우의 수 : 12가지\n"
     ]
    }
   ],
   "source": [
    "import itertools\n",
    "\n",
    "\n",
    "numbers = [1,2,3,4]\n",
    "\n",
    "result = 1\n",
    "for n in range(len(numbers), len(numbers)-2, -1):\n",
    "    result *= n\n",
    "    \n",
    "permu = itertools.permutations(numbers, 2)\n",
    "print(list(permu))\n",
    "print(f\"4개의 숫자중 서로 다른 숫자 2개를 선택하는 경우의 수 : {result}가지\")"
   ]
  },
  {
   "cell_type": "markdown",
   "id": "1695cdbf",
   "metadata": {},
   "source": [
    "## 문제 7번\n",
    "- 4개의 숫자 중 서로 다른 숫자 3개를 선택해서 만들 수 있는 경우의 수를 출력하는 프로그램을 만들어보자."
   ]
  },
  {
   "cell_type": "code",
   "execution_count": 45,
   "id": "ab599480",
   "metadata": {},
   "outputs": [
    {
     "name": "stdout",
     "output_type": "stream",
     "text": [
      "[(1, 2, 3), (1, 2, 4), (1, 3, 2), (1, 3, 4), (1, 4, 2), (1, 4, 3), (2, 1, 3), (2, 1, 4), (2, 3, 1), (2, 3, 4), (2, 4, 1), (2, 4, 3), (3, 1, 2), (3, 1, 4), (3, 2, 1), (3, 2, 4), (3, 4, 1), (3, 4, 2), (4, 1, 2), (4, 1, 3), (4, 2, 1), (4, 2, 3), (4, 3, 1), (4, 3, 2)]\n",
      "4개의 숫자중 서로 다른 숫자 3개를 선택하는 경우의 수 : 24가지\n"
     ]
    }
   ],
   "source": [
    "import itertools\n",
    "\n",
    "numbers = [1,2,3,4]\n",
    "permu = list(itertools.permutations(numbers, 3))\n",
    "print(permu)\n",
    "print(f\"4개의 숫자중 서로 다른 숫자 3개를 선택하는 경우의 수 : {len(permu)}가지\")"
   ]
  },
  {
   "cell_type": "markdown",
   "id": "47b295a9",
   "metadata": {},
   "source": [
    "## 문제 8번\n",
    "- 자주 접속하는 웹사이트 비번을 튜플에 저장해보자."
   ]
  },
  {
   "cell_type": "code",
   "execution_count": 47,
   "id": "7ec590e3",
   "metadata": {},
   "outputs": [
    {
     "name": "stdout",
     "output_type": "stream",
     "text": [
      "('password01', 'password02', 'password03', 'password04')\n",
      "('password01', 'password02', 'password03', 'password04')\n"
     ]
    }
   ],
   "source": [
    "passwds = ('password01', 'password02', 'password03', 'password04')\n",
    "print(passwds)\n",
    "\n",
    "passwds2 = 'password01', 'password02', 'password03', 'password04'\n",
    "print(passwds2)"
   ]
  },
  {
   "cell_type": "markdown",
   "id": "1f0617ff",
   "metadata": {},
   "source": [
    "## 문제 9번\n",
    "- 대학생 길동이의 1, 2, 3학년의 성적은 다음과 같다. 졸업할 때 4.0 이상의 학점을 받기 위해 길동이가 받아야 하는 4학년 1, 2학기의 최소 학점을 구해보자."
   ]
  },
  {
   "cell_type": "code",
   "execution_count": 58,
   "id": "a8fbf1a3",
   "metadata": {},
   "outputs": [
    {
     "name": "stdout",
     "output_type": "stream",
     "text": [
      "3학년 총 학점 : 23.4\n",
      "3학년 평균 학점 : 3.9\n",
      "4학년 1학기, 2학기의 최소 학점은 4.3\n"
     ]
    }
   ],
   "source": [
    "import numpy as np\n",
    "\n",
    "\n",
    "scores_2_lv = ((3.7, 4.2), (2.9, 4.3), (4.1, 4.2))\n",
    "scores_1_lv = list(np.array(scores).flatten()) \n",
    "\n",
    "\n",
    "print(f\"3학년 총 학점 : {round(sum(scores_1_lv) , 2)}\")\n",
    "print(f\"3학년 평균 학점 : {round(sum(scores_1_lv)/6 , 2)}\")\n",
    "\n",
    "target_scores = 4.0 * 8\n",
    "need_scores = round(target_scores - round(sum(scores_1_lv) , 2), 2)\n",
    "print(f\"4학년 1학기, 2학기의 최소 학점은 {round(need_scores/2,2)}\")"
   ]
  },
  {
   "cell_type": "markdown",
   "id": "9ab9d5eb",
   "metadata": {},
   "source": [
    "## 문제 10번\n",
    "- 다음 2개의 튜플에 대해서 합집합과 차집합을 출력해보자."
   ]
  },
  {
   "cell_type": "code",
   "execution_count": 61,
   "id": "3e92b6e6",
   "metadata": {},
   "outputs": [
    {
     "name": "stdout",
     "output_type": "stream",
     "text": [
      "1번과 2번의 교집합 : {2, 3, 5, 6, 8}\n",
      "1번과 2번의 합집합 : {0, 1, 2, 3, 5, 6, 7, 8, 9, 12, 17}\n",
      "1번과 2번의 차집합 : {1, 12, 7}\n"
     ]
    }
   ],
   "source": [
    "tuple_1 = (1, 3, 2, 6, 12, 5, 7, 8)\n",
    "tuple_2 = (0, 5, 2, 9, 8, 6, 17, 3)\n",
    "\n",
    "tuple_1_set = set(tuple_1)\n",
    "tuple_2_set = set(tuple_2)\n",
    "\n",
    "print( f\"1번과 2번의 교집합 : {tuple_1_set & tuple_2_set}\")\n",
    "print( f\"1번과 2번의 합집합 : {tuple_1_set | tuple_2_set}\")\n",
    "print( f\"1번과 2번의 차집합 : {tuple_1_set - tuple_2_set}\")"
   ]
  },
  {
   "cell_type": "markdown",
   "id": "aa4729a9",
   "metadata": {},
   "source": [
    "## 문제 11번\n",
    "- 다음 튜플을 요구 사항에 맞춰 아이템을 슬라이스 하자."
   ]
  },
  {
   "cell_type": "code",
   "execution_count": 91,
   "id": "ce831290",
   "metadata": {},
   "outputs": [
    {
     "data": {
      "text/plain": [
       "(8.7, 9.2)"
      ]
     },
     "execution_count": 91,
     "metadata": {},
     "output_type": "execute_result"
    }
   ],
   "source": [
    "numbers = 8.7, 9.0, 9.1, 9.2, 9.3\n",
    "numbers[::3]"
   ]
  },
  {
   "cell_type": "markdown",
   "id": "947c92ec",
   "metadata": {},
   "source": [
    "## 문제 12번\n",
    "- 다음 튜플의 과일 개수에 대해서 오름차순 및 내림차순으로 정렬해보자."
   ]
  },
  {
   "cell_type": "code",
   "execution_count": 96,
   "id": "bd4bd9a2",
   "metadata": {},
   "outputs": [
    {
     "name": "stdout",
     "output_type": "stream",
     "text": [
      "오름차순 :  [{'수박': 8}, {'참외': 12}, {'포도': 13}, {'자몽': 15}, {'사과': 17}, {'자두': 19}]\n",
      "내림차순 :  [{'자두': 19}, {'사과': 17}, {'자몽': 15}, {'포도': 13}, {'참외': 12}, {'수박': 8}]\n"
     ]
    }
   ],
   "source": [
    "def asc_desc(order):\n",
    "    fruits = ({\"수박\":8}, {\"포도\":13}, {\"참외\":12}, {\"사과\":17}, {\"자두\":19}, {\"자몽\":15})\n",
    "    fruits = list(fruits)\n",
    "\n",
    "    numbers = [ list(f.values())[0] for f in fruits ]\n",
    "    if order == \"오름차순\":\n",
    "        numbers.sort()\n",
    "    elif order == \"내림차순\":\n",
    "        numbers.sort(reverse=True)\n",
    "        \n",
    "    datas = []\n",
    "    for num in numbers:\n",
    "        for item in fruits:\n",
    "            if num == list(item.values())[0]:\n",
    "                datas.append(item)\n",
    "    return datas\n",
    "\n",
    "print(\"오름차순 : \", asc_desc(\"오름차순\"))\n",
    "print(\"내림차순 : \", asc_desc(\"내림차순\"))"
   ]
  },
  {
   "cell_type": "markdown",
   "id": "2a23dae8",
   "metadata": {},
   "source": [
    "## 문제 13번\n",
    "- 학급별 학생 수를 나타낸 튜플을 이용해서, 요구 사항에 맞는 데이터를 출력하는 프로그램을 만들어보자."
   ]
  },
  {
   "cell_type": "code",
   "execution_count": 109,
   "id": "9c43e378",
   "metadata": {},
   "outputs": [
    {
     "name": "stdout",
     "output_type": "stream",
     "text": [
      "전체 학생 수 : 160명\n",
      "학생 평균 : 20명\n",
      "학생수가 가장 많은 학급 :  {'cls07': 23}\n",
      "학생수가 가장 적은 학급 :  {'cls08': 17}\n",
      "{'cls01': -2}\n",
      "{'cls02': 1}\n",
      "{'cls03': 0}\n",
      "{'cls04': -1}\n",
      "{'cls05': 2}\n",
      "{'cls06': 0}\n",
      "{'cls07': 3}\n",
      "{'cls08': -3}\n"
     ]
    }
   ],
   "source": [
    "students_cnt = (\n",
    "    {\"cls01\":18},\n",
    "    {\"cls02\":21},\n",
    "    {\"cls03\":20},\n",
    "    {\"cls04\":19},\n",
    "    {\"cls05\":22},\n",
    "    {\"cls06\":20},\n",
    "    {\"cls07\":23},\n",
    "    {\"cls08\":17},\n",
    ")\n",
    "students_cnt = list(students_cnt)\n",
    "cnts = [ list(item.values())[0] for item in students_cnt ]\n",
    "\n",
    "\n",
    "print(f\"전체 학생 수 : {sum(cnts)}명\")\n",
    "print(f\"학생 평균 : {int(sum(cnts)/len(students_cnt))}명\")\n",
    "\n",
    "for item in students_cnt:\n",
    "    cnt = list(item.values())[0]\n",
    "    if cnt == max(cnts):\n",
    "        print(\"학생수가 가장 많은 학급 : \", item)\n",
    "    elif cnt == min(cnts):\n",
    "        print(\"학생수가 가장 적은 학급 : \", item)\n",
    "\n",
    "for item in students_cnt:\n",
    "    cnt = list(item.values())[0]\n",
    "    avg_cnt = int(sum(cnts)/len(students_cnt))\n",
    "    v = cnt - avg_cnt\n",
    "    key = list(item.keys())[0]\n",
    "    item[key] = v\n",
    "    print(item)"
   ]
  },
  {
   "cell_type": "markdown",
   "id": "77e83cd3",
   "metadata": {},
   "source": [
    "## 문제 14번\n",
    "- 과목별 점수를 딕셔너리에 저장하고 출력하는 프로그램을 만들어보자"
   ]
  },
  {
   "cell_type": "code",
   "execution_count": 111,
   "id": "ea57dfdd",
   "metadata": {},
   "outputs": [
    {
     "name": "stdout",
     "output_type": "stream",
     "text": [
      "국어 점수 입력 : 100\n",
      "영어 점수 입력 : 10\n",
      "수학 점수 입력 : 10\n",
      "과학 점수 입력 : 10\n",
      "국사 점수 입력 : 10\n"
     ]
    },
    {
     "data": {
      "text/plain": [
       "{'국어': 100, '영어': 10, '수학': 10, '과학': 10, '국사': 10}"
      ]
     },
     "execution_count": 111,
     "metadata": {},
     "output_type": "execute_result"
    }
   ],
   "source": [
    "subject = [\"국어\", \"영어\", \"수학\", \"과학\", \"국사\"]\n",
    "scores = {}\n",
    "\n",
    "for item in subject:\n",
    "    score = int(input(f\"{item} 점수 입력 : \"))\n",
    "    scores[item] = score\n",
    "    \n",
    "scores"
   ]
  },
  {
   "cell_type": "markdown",
   "id": "3e8d37f1",
   "metadata": {},
   "source": [
    "## 문제 15번\n",
    "- 삼각형부터 십각형까지의 내각의 합과 내각을 딕셔너리에 저장하는 프로그램을 만들어보자.\n",
    "- n각형의 내각의 합 : 180 x (n-2)"
   ]
  },
  {
   "cell_type": "code",
   "execution_count": 114,
   "id": "03170ad8",
   "metadata": {},
   "outputs": [
    {
     "data": {
      "text/plain": [
       "{3: [180, 60],\n",
       " 4: [360, 90],\n",
       " 5: [540, 108],\n",
       " 6: [720, 120],\n",
       " 7: [900, 128],\n",
       " 8: [1080, 135],\n",
       " 9: [1260, 140],\n",
       " 10: [1440, 144]}"
      ]
     },
     "execution_count": 114,
     "metadata": {},
     "output_type": "execute_result"
    }
   ],
   "source": [
    "data = {}\n",
    "\n",
    "for n in range(3, 11):\n",
    "    hap = 180 * (n - 2)\n",
    "    ang = int(hap / n)\n",
    "    data[n] = [hap, ang]\n",
    "    \n",
    "data"
   ]
  },
  {
   "cell_type": "markdown",
   "id": "b6404503",
   "metadata": {},
   "source": [
    "## 문제 16번\n",
    "- 1부터 10까지의 각각의 정수에 대한 약수를 저장하는 딕셔너리를 만들고 출력하는 프로그램을 만들어보자."
   ]
  },
  {
   "cell_type": "code",
   "execution_count": 118,
   "id": "1b803ad6",
   "metadata": {},
   "outputs": [
    {
     "data": {
      "text/plain": [
       "{1: [1],\n",
       " 2: [1, 2],\n",
       " 3: [1, 3],\n",
       " 4: [1, 2, 4],\n",
       " 5: [1, 5],\n",
       " 6: [1, 2, 3, 6],\n",
       " 7: [1, 7],\n",
       " 8: [1, 2, 4, 8],\n",
       " 9: [1, 3, 9],\n",
       " 10: [1, 2, 5, 10]}"
      ]
     },
     "execution_count": 118,
     "metadata": {},
     "output_type": "execute_result"
    }
   ],
   "source": [
    "data = {}\n",
    "\n",
    "for num in range(1, 11):\n",
    "    for n in range(1, num+1):\n",
    "        if num % n == 0:\n",
    "            if data.get(num):\n",
    "                data[num].append(n)\n",
    "            else:\n",
    "                data[num] = [n]\n",
    "\n",
    "data"
   ]
  },
  {
   "cell_type": "markdown",
   "id": "cb7179ba",
   "metadata": {},
   "source": [
    "## 문제 17번\n",
    "- 다음 문구를 공백으로 구분하여 리스트에 저장한 후, 인덱스와 단어를 이용해서 딕셔너리에 저장해보자."
   ]
  },
  {
   "cell_type": "code",
   "execution_count": 122,
   "id": "001f1889",
   "metadata": {},
   "outputs": [
    {
     "data": {
      "text/plain": [
       "{0: '파이썬은',\n",
       " 1: '1991년',\n",
       " 2: '프로그래머인',\n",
       " 3: '귀도',\n",
       " 4: '반',\n",
       " 5: '로섬이',\n",
       " 6: '발표한',\n",
       " 7: '고급',\n",
       " 8: '프로그래밍',\n",
       " 9: '언어이다.'}"
      ]
     },
     "execution_count": 122,
     "metadata": {},
     "output_type": "execute_result"
    }
   ],
   "source": [
    "text = \"파이썬은 1991년 프로그래머인 귀도 반 로섬이 발표한 고급 프로그래밍 언어이다.\"\n",
    "text_sp = text.split(\" \")\n",
    "\n",
    "data = {}\n",
    "\n",
    "for text in text_sp:\n",
    "    data[text_sp.index(text)] = text\n",
    "\n",
    "data"
   ]
  },
  {
   "cell_type": "markdown",
   "id": "98598f4a",
   "metadata": {},
   "source": [
    "## 문제 18번\n",
    "- 다음 문장에서 비속어를 찾고 비속어를 표준어로 변경하는 프로그램을 만들어보자."
   ]
  },
  {
   "cell_type": "code",
   "execution_count": 134,
   "id": "5c78bf8e",
   "metadata": {
    "scrolled": true
   },
   "outputs": [
    {
     "name": "stdout",
     "output_type": "stream",
     "text": [
      "['강도는', '서로', '쪼개다,', '짭새를', '보고', '빠르게', '따돌리며', '먹튀했다.']\n",
      "['강도는', '서로', '웃다,', '경찰관를', '보고', '빠르게', '따돌리며', '먹고 도망했다.']\n"
     ]
    }
   ],
   "source": [
    "texts = \"강도는 서로 쪼개다, 짭새를 보고 빠르게 따돌리며 먹튀했다.\"\n",
    "\n",
    "words = {\n",
    "    \"꺼지다\" : \"가다\",\n",
    "    \"쩔다\" : \"엄청나다\",\n",
    "    \"짭새\" : \"경찰관\",\n",
    "    \"꼽사리\" : \"중간에 낀 사람\",\n",
    "    \"먹튀\" : \"먹고 도망\",\n",
    "    \"지린다\" : \"겁을 먹다\",\n",
    "    \"쪼개다\" : \"웃다\",\n",
    "    \"뒷담 까다\" : \"험담하다\"\n",
    "}\n",
    "\n",
    "data = []\n",
    "for text in texts.split(\" \"):\n",
    "    for word in words.keys():\n",
    "        if word in text:\n",
    "            text = text.replace(word, words[word])\n",
    "    data.append(text)\n",
    "\n",
    "print(texts.split(\" \"))\n",
    "print(data)"
   ]
  },
  {
   "cell_type": "code",
   "execution_count": 130,
   "id": "132ac21b",
   "metadata": {},
   "outputs": [
    {
     "data": {
      "text/plain": [
       "True"
      ]
     },
     "execution_count": 130,
     "metadata": {},
     "output_type": "execute_result"
    }
   ],
   "source": [
    "1 in {1:\"a\"}"
   ]
  }
 ],
 "metadata": {
  "kernelspec": {
   "display_name": "Python 3 (ipykernel)",
   "language": "python",
   "name": "python3"
  },
  "language_info": {
   "codemirror_mode": {
    "name": "ipython",
    "version": 3
   },
   "file_extension": ".py",
   "mimetype": "text/x-python",
   "name": "python",
   "nbconvert_exporter": "python",
   "pygments_lexer": "ipython3",
   "version": "3.8.11"
  }
 },
 "nbformat": 4,
 "nbformat_minor": 5
}

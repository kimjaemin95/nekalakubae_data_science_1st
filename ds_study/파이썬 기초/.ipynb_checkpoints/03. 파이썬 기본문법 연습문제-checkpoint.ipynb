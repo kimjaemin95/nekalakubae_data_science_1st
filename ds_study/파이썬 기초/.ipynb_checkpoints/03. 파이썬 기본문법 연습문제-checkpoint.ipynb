{
 "cells": [
  {
   "cell_type": "code",
   "execution_count": 2,
   "id": "2e5b75ed",
   "metadata": {},
   "outputs": [],
   "source": [
    "name = '홍길동'\n",
    "product = '야구글러브'\n",
    "order_no = 2568956\n",
    "pay_method = '신용카드'\n",
    "product_price = 110000\n",
    "pay_price = 100000\n",
    "use_point = 10000\n",
    "pay_date = '2021/08/03 21:50:12'\n",
    "pay_div = 6\n",
    "pay_div_catetory = '무'\n",
    "phone = '02-1234-5678'"
   ]
  },
  {
   "cell_type": "code",
   "execution_count": 3,
   "id": "f31b8402",
   "metadata": {},
   "outputs": [
    {
     "name": "stdout",
     "output_type": "stream",
     "text": [
      "홍길동 고객님 안녕하세요.\n",
      "홍길동 고객님의 주문이 완료되었습니다.\n",
      "다음은 주문건에 대한 상세 내역입니다.\n",
      "--------------------------------------------------\n",
      "상품명 : 야구글러브\n",
      "주문번호 : 2568956\n",
      "결재방법 : 신용카드\n",
      "상품금액 : 110000\n",
      " : 야구글러브\n",
      "상품명 : 야구글러브\n",
      "상품명 : 야구글러브\n",
      "상품명 : 야구글러브\n",
      "상품명 : 야구글러브\n",
      "상품명 : 야구글러브\n",
      "상품명 : 야구글러브\n"
     ]
    }
   ],
   "source": [
    "print(name, '고객님 안녕하세요.')\n",
    "print(name, '고객님의 주문이 완료되었습니다.')\n",
    "print('다음은 주문건에 대한 상세 내역입니다.')\n",
    "print('-'*50)\n",
    "print('상품명 :', product)\n",
    "print('주문번호 :', order_no)\n",
    "print('결재방법 :', pay_method)\n",
    "print('상품금액 :', product_price)\n",
    "print(' :', product)\n",
    "print('상품명 :', product)\n",
    "print('상품명 :', product)\n",
    "print('상품명 :', product)\n",
    "print('상품명 :', product)\n",
    "print('상품명 :', product)\n",
    "print('상품명 :', product)"
   ]
  },
  {
   "cell_type": "code",
   "execution_count": 4,
   "id": "05928fce",
   "metadata": {},
   "outputs": [
    {
     "name": "stdout",
     "output_type": "stream",
     "text": [
      "13\n"
     ]
    }
   ],
   "source": [
    "text = '나의 길이를 맞춰보세요.'\n",
    "print(len(text))"
   ]
  },
  {
   "cell_type": "code",
   "execution_count": 7,
   "id": "79fc13a2",
   "metadata": {},
   "outputs": [
    {
     "name": "stdout",
     "output_type": "stream",
     "text": [
      "메시지 입력 :안녕하세요 오늘 날씨가 매우 좋습니다.\n",
      "21\n"
     ]
    }
   ],
   "source": [
    "user_msg = input(\"메시지 입력 :\")\n",
    "print(len(user_msg))"
   ]
  },
  {
   "cell_type": "code",
   "execution_count": 8,
   "id": "94404d2a",
   "metadata": {},
   "outputs": [
    {
     "name": "stdout",
     "output_type": "stream",
     "text": [
      "The Zen of Python, by Tim Peters\n",
      "\n",
      "Beautiful is better than ugly.\n",
      "Explicit is better than implicit.\n",
      "Simple is better than complex.\n",
      "Complex is better than complicated.\n",
      "Flat is better than nested.\n",
      "Sparse is better than dense.\n",
      "Readability counts.\n",
      "Special cases aren't special enough to break the rules.\n",
      "Although practicality beats purity.\n",
      "Errors should never pass silently.\n",
      "Unless explicitly silenced.\n",
      "In the face of ambiguity, refuse the temptation to guess.\n",
      "There should be one-- and preferably only one --obvious way to do it.\n",
      "Although that way may not be obvious at first unless you're Dutch.\n",
      "Now is better than never.\n",
      "Although never is often better than *right* now.\n",
      "If the implementation is hard to explain, it's a bad idea.\n",
      "If the implementation is easy to explain, it may be a good idea.\n",
      "Namespaces are one honking great idea -- let's do more of those!\n"
     ]
    }
   ],
   "source": [
    "import this"
   ]
  },
  {
   "cell_type": "code",
   "execution_count": 9,
   "id": "a8527b30",
   "metadata": {},
   "outputs": [
    {
     "data": {
      "text/plain": [
       "1"
      ]
     },
     "execution_count": 9,
     "metadata": {},
     "output_type": "execute_result"
    }
   ],
   "source": [
    "'testsefsefsdf'.find('e')"
   ]
  },
  {
   "cell_type": "code",
   "execution_count": 12,
   "id": "22b7fb3e",
   "metadata": {},
   "outputs": [
    {
     "name": "stdout",
     "output_type": "stream",
     "text": [
      "3\n",
      "2\n",
      "3.00\n"
     ]
    }
   ],
   "source": [
    "width = int(input())\n",
    "height = int(input())\n",
    "\n",
    "triangle = width * height / 2\n",
    "sq = width * height\n",
    "print(\"%.2f\" % triangle)"
   ]
  },
  {
   "cell_type": "code",
   "execution_count": 13,
   "id": "cb334b83",
   "metadata": {},
   "outputs": [
    {
     "data": {
      "text/plain": [
       "False"
      ]
     },
     "execution_count": 13,
     "metadata": {},
     "output_type": "execute_result"
    }
   ],
   "source": [
    "''.isdigit()"
   ]
  },
  {
   "cell_type": "code",
   "execution_count": 14,
   "id": "61ee062b",
   "metadata": {},
   "outputs": [
    {
     "name": "stdout",
     "output_type": "stream",
     "text": [
      "체중 입력(g) :\n",
      "체중 입력(g) :\n"
     ]
    }
   ],
   "source": [
    "w = input(\"체중 입력(g) :\")\n",
    "h = input(\"체중 입력(g) :\")"
   ]
  },
  {
   "cell_type": "code",
   "execution_count": 22,
   "id": "b239eaed",
   "metadata": {},
   "outputs": [
    {
     "name": "stdout",
     "output_type": "stream",
     "text": [
      "언어 선택(Choose your language) : 1.한국어,\t2.English2\n"
     ]
    }
   ],
   "source": [
    "select_num = input(\"언어 선택(Choose your language) : 1.한국어,\\t2.English\")"
   ]
  },
  {
   "cell_type": "code",
   "execution_count": 23,
   "id": "cd92246a",
   "metadata": {},
   "outputs": [
    {
     "name": "stdout",
     "output_type": "stream",
     "text": [
      "1.Sandwithc\t2.Hamburger\t3.Juice\t4.Coffee\n"
     ]
    }
   ],
   "source": [
    "if select_num == '1':\n",
    "    menu = '1.샌드위치\\t2.햄버거\\t3.쥬스\\t4.커피'\n",
    "elif select_num == '2':\n",
    "    menu = '1.Sandwithc\\t2.Hamburger\\t3.Juice\\t4.Coffee'\n",
    "print(menu)"
   ]
  },
  {
   "cell_type": "code",
   "execution_count": 25,
   "id": "9c49261b",
   "metadata": {},
   "outputs": [
    {
     "name": "stdout",
     "output_type": "stream",
     "text": [
      "나의 나이를 입력하세요 : 10\n",
      "2111년(90년후)에 100살!!\n"
     ]
    }
   ],
   "source": [
    "from datetime import datetime\n",
    "\n",
    "today = datetime.today()\n",
    "my_age = input(\"나의 나이를 입력하세요 : \")\n",
    "\n",
    "if my_age.isdigit():\n",
    "    after_age = 100 - int(my_age)\n",
    "    my_hund = today.year + after_age\n",
    "    print(\"{}년({}년후)에 100살!!\".format(my_hund, after_age))\n",
    "\n",
    "else:\n",
    "    print(\"잘못 입력했습니다.\")"
   ]
  },
  {
   "cell_type": "code",
   "execution_count": 27,
   "id": "f24e0103",
   "metadata": {},
   "outputs": [
    {
     "name": "stdout",
     "output_type": "stream",
     "text": [
      "상품 가격 입력 : 65845\n",
      "지불 금액 : 100000\n",
      "34150\n"
     ]
    }
   ],
   "source": [
    "m_50000 = 50000\n",
    "m_10000 = 10000\n",
    "m_5000 = 5000\n",
    "m_1000 = 1000\n",
    "m_500 = 500\n",
    "m_100 = 100\n",
    "m_10 = 10\n",
    "\n",
    "pro_price = int(input(\"상품 가격 입력 : \"))\n",
    "pay_price = int(input(\"지불 금액 : \"))\n",
    "\n",
    "if pay_price > pro_price:\n",
    "    change_money = pay_price - pro_price\n",
    "    change_money = (change_money // 10) * 10\n",
    "    print(change_money)"
   ]
  },
  {
   "cell_type": "code",
   "execution_count": 30,
   "id": "f361a6d5",
   "metadata": {},
   "outputs": [],
   "source": [
    "test = {\"A\":100, \"B\":10, \"C\":80}"
   ]
  },
  {
   "cell_type": "code",
   "execution_count": 31,
   "id": "70f2d6d3",
   "metadata": {},
   "outputs": [
    {
     "data": {
      "text/plain": [
       "'B'"
      ]
     },
     "execution_count": 31,
     "metadata": {},
     "output_type": "execute_result"
    }
   ],
   "source": [
    "min(test, key=test.get)"
   ]
  },
  {
   "cell_type": "code",
   "execution_count": 32,
   "id": "15be9ac7",
   "metadata": {},
   "outputs": [
    {
     "data": {
      "text/plain": [
       "'A'"
      ]
     },
     "execution_count": 32,
     "metadata": {},
     "output_type": "execute_result"
    }
   ],
   "source": [
    "max(test, key=test.get)"
   ]
  },
  {
   "cell_type": "code",
   "execution_count": 33,
   "id": "22a66889",
   "metadata": {},
   "outputs": [
    {
     "data": {
      "text/plain": [
       "'10,000'"
      ]
     },
     "execution_count": 33,
     "metadata": {},
     "output_type": "execute_result"
    }
   ],
   "source": [
    "format(10000, ',')"
   ]
  },
  {
   "cell_type": "code",
   "execution_count": 34,
   "id": "9b652cef",
   "metadata": {},
   "outputs": [
    {
     "data": {
      "text/plain": [
       "<function dict.get(key, default=None, /)>"
      ]
     },
     "execution_count": 34,
     "metadata": {},
     "output_type": "execute_result"
    }
   ],
   "source": [
    "test.get"
   ]
  },
  {
   "cell_type": "code",
   "execution_count": null,
   "id": "f70c9e96",
   "metadata": {},
   "outputs": [],
   "source": []
  }
 ],
 "metadata": {
  "kernelspec": {
   "display_name": "Python 3 (ipykernel)",
   "language": "python",
   "name": "python3"
  },
  "language_info": {
   "codemirror_mode": {
    "name": "ipython",
    "version": 3
   },
   "file_extension": ".py",
   "mimetype": "text/x-python",
   "name": "python",
   "nbconvert_exporter": "python",
   "pygments_lexer": "ipython3",
   "version": "3.8.11"
  }
 },
 "nbformat": 4,
 "nbformat_minor": 5
}

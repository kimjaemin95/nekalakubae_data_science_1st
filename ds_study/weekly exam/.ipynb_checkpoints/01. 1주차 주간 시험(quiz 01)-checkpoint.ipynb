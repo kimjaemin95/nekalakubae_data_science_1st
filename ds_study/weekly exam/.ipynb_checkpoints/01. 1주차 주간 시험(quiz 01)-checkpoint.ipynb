{
 "cells": [
  {
   "cell_type": "markdown",
   "id": "7b95ece7",
   "metadata": {},
   "source": [
    "# 문제 1번"
   ]
  },
  {
   "cell_type": "code",
   "execution_count": 56,
   "id": "363d6447",
   "metadata": {},
   "outputs": [
    {
     "data": {
      "text/plain": [
       "{'이름': ['이경규', '이승엽', '이승기', '유현주'],\n",
       " '번호': ['010-1212-7979', '010-1010-2121', '010-1211-0901', '010-3821-1231'],\n",
       " '성적': [90, 80, 100, 72]}"
      ]
     },
     "execution_count": 56,
     "metadata": {},
     "output_type": "execute_result"
    }
   ],
   "source": [
    "list_of_friends = {\n",
    "    \"이름\" : [\"이경규\", \"이승엽\", \"이승기\", \"유현주\"],\n",
    "    \"번호\" : [\"010-1212-7979\", \"010-1010-2121\", \"010-1211-0901\", \"010-3821-1231\"],\n",
    "    \"성적\" : [90, 80, 100, 72]\n",
    "}\n",
    "\n",
    "list_of_friends"
   ]
  },
  {
   "cell_type": "markdown",
   "id": "7f8ffc74",
   "metadata": {},
   "source": [
    "# 문제 2번"
   ]
  },
  {
   "cell_type": "code",
   "execution_count": 57,
   "id": "8c997f87",
   "metadata": {},
   "outputs": [
    {
     "data": {
      "text/html": [
       "<div>\n",
       "<style scoped>\n",
       "    .dataframe tbody tr th:only-of-type {\n",
       "        vertical-align: middle;\n",
       "    }\n",
       "\n",
       "    .dataframe tbody tr th {\n",
       "        vertical-align: top;\n",
       "    }\n",
       "\n",
       "    .dataframe thead th {\n",
       "        text-align: right;\n",
       "    }\n",
       "</style>\n",
       "<table border=\"1\" class=\"dataframe\">\n",
       "  <thead>\n",
       "    <tr style=\"text-align: right;\">\n",
       "      <th></th>\n",
       "      <th>이름</th>\n",
       "      <th>번호</th>\n",
       "      <th>성적</th>\n",
       "    </tr>\n",
       "  </thead>\n",
       "  <tbody>\n",
       "    <tr>\n",
       "      <th>0</th>\n",
       "      <td>이경규</td>\n",
       "      <td>010-1212-7979</td>\n",
       "      <td>90</td>\n",
       "    </tr>\n",
       "    <tr>\n",
       "      <th>1</th>\n",
       "      <td>이승엽</td>\n",
       "      <td>010-1010-2121</td>\n",
       "      <td>80</td>\n",
       "    </tr>\n",
       "    <tr>\n",
       "      <th>2</th>\n",
       "      <td>이승기</td>\n",
       "      <td>010-1211-0901</td>\n",
       "      <td>100</td>\n",
       "    </tr>\n",
       "    <tr>\n",
       "      <th>3</th>\n",
       "      <td>유현주</td>\n",
       "      <td>010-3821-1231</td>\n",
       "      <td>72</td>\n",
       "    </tr>\n",
       "  </tbody>\n",
       "</table>\n",
       "</div>"
      ],
      "text/plain": [
       "    이름             번호   성적\n",
       "0  이경규  010-1212-7979   90\n",
       "1  이승엽  010-1010-2121   80\n",
       "2  이승기  010-1211-0901  100\n",
       "3  유현주  010-3821-1231   72"
      ]
     },
     "execution_count": 57,
     "metadata": {},
     "output_type": "execute_result"
    }
   ],
   "source": [
    "import pandas as pd\n",
    "\n",
    "df = pd.DataFrame(list_of_friends)\n",
    "df"
   ]
  },
  {
   "cell_type": "markdown",
   "id": "0d515924",
   "metadata": {},
   "source": [
    "# 문제 3번"
   ]
  },
  {
   "cell_type": "code",
   "execution_count": 58,
   "id": "5e8d3524",
   "metadata": {},
   "outputs": [
    {
     "data": {
      "text/html": [
       "<div>\n",
       "<style scoped>\n",
       "    .dataframe tbody tr th:only-of-type {\n",
       "        vertical-align: middle;\n",
       "    }\n",
       "\n",
       "    .dataframe tbody tr th {\n",
       "        vertical-align: top;\n",
       "    }\n",
       "\n",
       "    .dataframe thead th {\n",
       "        text-align: right;\n",
       "    }\n",
       "</style>\n",
       "<table border=\"1\" class=\"dataframe\">\n",
       "  <thead>\n",
       "    <tr style=\"text-align: right;\">\n",
       "      <th></th>\n",
       "      <th>이름</th>\n",
       "      <th>번호</th>\n",
       "      <th>성적</th>\n",
       "      <th>이전성적</th>\n",
       "    </tr>\n",
       "  </thead>\n",
       "  <tbody>\n",
       "    <tr>\n",
       "      <th>0</th>\n",
       "      <td>이경규</td>\n",
       "      <td>010-1212-7979</td>\n",
       "      <td>90</td>\n",
       "      <td>90</td>\n",
       "    </tr>\n",
       "    <tr>\n",
       "      <th>1</th>\n",
       "      <td>이승엽</td>\n",
       "      <td>010-1010-2121</td>\n",
       "      <td>80</td>\n",
       "      <td>80</td>\n",
       "    </tr>\n",
       "    <tr>\n",
       "      <th>2</th>\n",
       "      <td>이승기</td>\n",
       "      <td>010-1211-0901</td>\n",
       "      <td>100</td>\n",
       "      <td>110</td>\n",
       "    </tr>\n",
       "    <tr>\n",
       "      <th>3</th>\n",
       "      <td>유현주</td>\n",
       "      <td>010-3821-1231</td>\n",
       "      <td>72</td>\n",
       "      <td>80</td>\n",
       "    </tr>\n",
       "  </tbody>\n",
       "</table>\n",
       "</div>"
      ],
      "text/plain": [
       "    이름             번호   성적  이전성적\n",
       "0  이경규  010-1212-7979   90    90\n",
       "1  이승엽  010-1010-2121   80    80\n",
       "2  이승기  010-1211-0901  100   110\n",
       "3  유현주  010-3821-1231   72    80"
      ]
     },
     "execution_count": 58,
     "metadata": {},
     "output_type": "execute_result"
    }
   ],
   "source": [
    "df[\"이전성적\"] = [90, 80, 110, 80]\n",
    "df"
   ]
  },
  {
   "cell_type": "markdown",
   "id": "a3f8abff",
   "metadata": {},
   "source": [
    "# 문제 4번 "
   ]
  },
  {
   "cell_type": "code",
   "execution_count": 59,
   "id": "6065d351",
   "metadata": {},
   "outputs": [
    {
     "data": {
      "text/html": [
       "<div>\n",
       "<style scoped>\n",
       "    .dataframe tbody tr th:only-of-type {\n",
       "        vertical-align: middle;\n",
       "    }\n",
       "\n",
       "    .dataframe tbody tr th {\n",
       "        vertical-align: top;\n",
       "    }\n",
       "\n",
       "    .dataframe thead th {\n",
       "        text-align: right;\n",
       "    }\n",
       "</style>\n",
       "<table border=\"1\" class=\"dataframe\">\n",
       "  <thead>\n",
       "    <tr style=\"text-align: right;\">\n",
       "      <th></th>\n",
       "      <th>이름</th>\n",
       "      <th>번호</th>\n",
       "      <th>성적</th>\n",
       "      <th>이전성적</th>\n",
       "    </tr>\n",
       "  </thead>\n",
       "  <tbody>\n",
       "    <tr>\n",
       "      <th>0</th>\n",
       "      <td>이경규</td>\n",
       "      <td>010-1212-7979</td>\n",
       "      <td>90</td>\n",
       "      <td>90</td>\n",
       "    </tr>\n",
       "  </tbody>\n",
       "</table>\n",
       "</div>"
      ],
      "text/plain": [
       "    이름             번호  성적  이전성적\n",
       "0  이경규  010-1212-7979  90    90"
      ]
     },
     "execution_count": 59,
     "metadata": {},
     "output_type": "execute_result"
    }
   ],
   "source": [
    "df[df[\"이름\"]==\"이경규\"]"
   ]
  },
  {
   "cell_type": "markdown",
   "id": "c71107d4",
   "metadata": {},
   "source": [
    "# 문제 5번"
   ]
  },
  {
   "cell_type": "code",
   "execution_count": 60,
   "id": "b6f37035",
   "metadata": {},
   "outputs": [
    {
     "data": {
      "text/html": [
       "<div>\n",
       "<style scoped>\n",
       "    .dataframe tbody tr th:only-of-type {\n",
       "        vertical-align: middle;\n",
       "    }\n",
       "\n",
       "    .dataframe tbody tr th {\n",
       "        vertical-align: top;\n",
       "    }\n",
       "\n",
       "    .dataframe thead th {\n",
       "        text-align: right;\n",
       "    }\n",
       "</style>\n",
       "<table border=\"1\" class=\"dataframe\">\n",
       "  <thead>\n",
       "    <tr style=\"text-align: right;\">\n",
       "      <th></th>\n",
       "      <th>이름</th>\n",
       "      <th>번호</th>\n",
       "      <th>성적</th>\n",
       "      <th>이전성적</th>\n",
       "    </tr>\n",
       "  </thead>\n",
       "  <tbody>\n",
       "    <tr>\n",
       "      <th>0</th>\n",
       "      <td>이경규</td>\n",
       "      <td>010-1212-7979</td>\n",
       "      <td>90</td>\n",
       "      <td>90</td>\n",
       "    </tr>\n",
       "    <tr>\n",
       "      <th>1</th>\n",
       "      <td>이승엽</td>\n",
       "      <td>010-1010-2121</td>\n",
       "      <td>80</td>\n",
       "      <td>80</td>\n",
       "    </tr>\n",
       "    <tr>\n",
       "      <th>2</th>\n",
       "      <td>이승기</td>\n",
       "      <td>010-1211-0901</td>\n",
       "      <td>100</td>\n",
       "      <td>120</td>\n",
       "    </tr>\n",
       "    <tr>\n",
       "      <th>3</th>\n",
       "      <td>유현주</td>\n",
       "      <td>010-3821-1231</td>\n",
       "      <td>72</td>\n",
       "      <td>80</td>\n",
       "    </tr>\n",
       "  </tbody>\n",
       "</table>\n",
       "</div>"
      ],
      "text/plain": [
       "    이름             번호   성적  이전성적\n",
       "0  이경규  010-1212-7979   90    90\n",
       "1  이승엽  010-1010-2121   80    80\n",
       "2  이승기  010-1211-0901  100   120\n",
       "3  유현주  010-3821-1231   72    80"
      ]
     },
     "execution_count": 60,
     "metadata": {},
     "output_type": "execute_result"
    }
   ],
   "source": [
    "df.loc[df[\"이름\"] == \"이승기\",'이전성적']= 120\n",
    "df"
   ]
  },
  {
   "cell_type": "markdown",
   "id": "6aee1f7a",
   "metadata": {},
   "source": [
    "# 문제 6번"
   ]
  },
  {
   "cell_type": "code",
   "execution_count": 61,
   "id": "2af4bc8e",
   "metadata": {},
   "outputs": [],
   "source": [
    "df.set_index(\"이름\", inplace=True)"
   ]
  },
  {
   "cell_type": "code",
   "execution_count": 62,
   "id": "0eba4cf4",
   "metadata": {},
   "outputs": [
    {
     "data": {
      "text/html": [
       "<div>\n",
       "<style scoped>\n",
       "    .dataframe tbody tr th:only-of-type {\n",
       "        vertical-align: middle;\n",
       "    }\n",
       "\n",
       "    .dataframe tbody tr th {\n",
       "        vertical-align: top;\n",
       "    }\n",
       "\n",
       "    .dataframe thead th {\n",
       "        text-align: right;\n",
       "    }\n",
       "</style>\n",
       "<table border=\"1\" class=\"dataframe\">\n",
       "  <thead>\n",
       "    <tr style=\"text-align: right;\">\n",
       "      <th></th>\n",
       "      <th>번호</th>\n",
       "      <th>성적</th>\n",
       "      <th>이전성적</th>\n",
       "    </tr>\n",
       "    <tr>\n",
       "      <th>이름</th>\n",
       "      <th></th>\n",
       "      <th></th>\n",
       "      <th></th>\n",
       "    </tr>\n",
       "  </thead>\n",
       "  <tbody>\n",
       "    <tr>\n",
       "      <th>이경규</th>\n",
       "      <td>010-1212-7979</td>\n",
       "      <td>90</td>\n",
       "      <td>90</td>\n",
       "    </tr>\n",
       "    <tr>\n",
       "      <th>이승엽</th>\n",
       "      <td>010-1010-2121</td>\n",
       "      <td>80</td>\n",
       "      <td>80</td>\n",
       "    </tr>\n",
       "    <tr>\n",
       "      <th>이승기</th>\n",
       "      <td>010-1211-0901</td>\n",
       "      <td>100</td>\n",
       "      <td>120</td>\n",
       "    </tr>\n",
       "    <tr>\n",
       "      <th>유현주</th>\n",
       "      <td>010-3821-1231</td>\n",
       "      <td>72</td>\n",
       "      <td>80</td>\n",
       "    </tr>\n",
       "  </tbody>\n",
       "</table>\n",
       "</div>"
      ],
      "text/plain": [
       "                번호   성적  이전성적\n",
       "이름                           \n",
       "이경규  010-1212-7979   90    90\n",
       "이승엽  010-1010-2121   80    80\n",
       "이승기  010-1211-0901  100   120\n",
       "유현주  010-3821-1231   72    80"
      ]
     },
     "execution_count": 62,
     "metadata": {},
     "output_type": "execute_result"
    }
   ],
   "source": [
    "df"
   ]
  },
  {
   "cell_type": "markdown",
   "id": "c8f43e2e",
   "metadata": {},
   "source": [
    "# 문제 7번"
   ]
  },
  {
   "cell_type": "code",
   "execution_count": 63,
   "id": "14326443",
   "metadata": {},
   "outputs": [
    {
     "data": {
      "image/png": "[encoded data removed]",
      "text/plain": [
       "<Figure size 720x432 with 1 Axes>"
      ]
     },
     "metadata": {
      "image/png": {
       "height": 358,
       "width": 623
      },
      "needs_background": "light"
     },
     "output_type": "display_data"
    }
   ],
   "source": [
    "df[\"성적\"].plot(kind=\"barh\", figsize=(10,6));"
   ]
  },
  {
   "cell_type": "markdown",
   "id": "2983eda3",
   "metadata": {},
   "source": [
    "# 문제 8번"
   ]
  },
  {
   "cell_type": "code",
   "execution_count": 64,
   "id": "c623680b",
   "metadata": {},
   "outputs": [
    {
     "data": {
      "image/png": "[encoded data removed]",
      "text/plain": [
       "<Figure size 720x432 with 1 Axes>"
      ]
     },
     "metadata": {
      "image/png": {
       "height": 358,
       "width": 623
      },
      "needs_background": "light"
     },
     "output_type": "display_data"
    }
   ],
   "source": [
    "res = df.sort_values(by=\"성적\", ascending=False)\n",
    "res.plot(kind=\"barh\", figsize=(10,6));"
   ]
  },
  {
   "cell_type": "markdown",
   "id": "dfa5d8fa",
   "metadata": {},
   "source": [
    "# 문제 9번"
   ]
  },
  {
   "cell_type": "code",
   "execution_count": 65,
   "id": "1eea2fab",
   "metadata": {},
   "outputs": [
    {
     "data": {
      "text/html": [
       "<div>\n",
       "<style scoped>\n",
       "    .dataframe tbody tr th:only-of-type {\n",
       "        vertical-align: middle;\n",
       "    }\n",
       "\n",
       "    .dataframe tbody tr th {\n",
       "        vertical-align: top;\n",
       "    }\n",
       "\n",
       "    .dataframe thead th {\n",
       "        text-align: right;\n",
       "    }\n",
       "</style>\n",
       "<table border=\"1\" class=\"dataframe\">\n",
       "  <thead>\n",
       "    <tr style=\"text-align: right;\">\n",
       "      <th></th>\n",
       "      <th>번호</th>\n",
       "      <th>성적</th>\n",
       "      <th>이전성적</th>\n",
       "      <th>성적상승률</th>\n",
       "    </tr>\n",
       "    <tr>\n",
       "      <th>이름</th>\n",
       "      <th></th>\n",
       "      <th></th>\n",
       "      <th></th>\n",
       "      <th></th>\n",
       "    </tr>\n",
       "  </thead>\n",
       "  <tbody>\n",
       "    <tr>\n",
       "      <th>이경규</th>\n",
       "      <td>010-1212-7979</td>\n",
       "      <td>90</td>\n",
       "      <td>90</td>\n",
       "      <td>100.000000</td>\n",
       "    </tr>\n",
       "    <tr>\n",
       "      <th>이승엽</th>\n",
       "      <td>010-1010-2121</td>\n",
       "      <td>80</td>\n",
       "      <td>80</td>\n",
       "      <td>100.000000</td>\n",
       "    </tr>\n",
       "    <tr>\n",
       "      <th>이승기</th>\n",
       "      <td>010-1211-0901</td>\n",
       "      <td>100</td>\n",
       "      <td>120</td>\n",
       "      <td>120.000000</td>\n",
       "    </tr>\n",
       "    <tr>\n",
       "      <th>유현주</th>\n",
       "      <td>010-3821-1231</td>\n",
       "      <td>72</td>\n",
       "      <td>80</td>\n",
       "      <td>111.111111</td>\n",
       "    </tr>\n",
       "  </tbody>\n",
       "</table>\n",
       "</div>"
      ],
      "text/plain": [
       "                번호   성적  이전성적       성적상승률\n",
       "이름                                       \n",
       "이경규  010-1212-7979   90    90  100.000000\n",
       "이승엽  010-1010-2121   80    80  100.000000\n",
       "이승기  010-1211-0901  100   120  120.000000\n",
       "유현주  010-3821-1231   72    80  111.111111"
      ]
     },
     "execution_count": 65,
     "metadata": {},
     "output_type": "execute_result"
    }
   ],
   "source": [
    "df[\"성적상승률\"] = df[\"이전성적\"] / df[\"성적\"] * 100\n",
    "df"
   ]
  },
  {
   "cell_type": "markdown",
   "id": "08b7b357",
   "metadata": {},
   "source": [
    "# 문제 10번"
   ]
  },
  {
   "cell_type": "code",
   "execution_count": 67,
   "id": "649754b1",
   "metadata": {},
   "outputs": [
    {
     "data": {
      "image/png": "[encoded data removed]",
      "text/plain": [
       "<Figure size 720x432 with 1 Axes>"
      ]
     },
     "metadata": {
      "image/png": {
       "height": 358,
       "width": 623
      },
      "needs_background": "light"
     },
     "output_type": "display_data"
    }
   ],
   "source": [
    "res2 = df.sort_values(by=\"성적상승률\", ascending=True)\n",
    "res2.plot(kind=\"barh\", figsize=(10,6));"
   ]
  },
  {
   "cell_type": "code",
   "execution_count": null,
   "id": "4c0e1f90",
   "metadata": {},
   "outputs": [],
   "source": []
  }
 ],
 "metadata": {
  "kernelspec": {
   "display_name": "Python 3 (ipykernel)",
   "language": "python",
   "name": "python3"
  },
  "language_info": {
   "codemirror_mode": {
    "name": "ipython",
    "version": 3
   },
   "file_extension": ".py",
   "mimetype": "text/x-python",
   "name": "python",
   "nbconvert_exporter": "python",
   "pygments_lexer": "ipython3",
   "version": "3.8.11"
  }
 },
 "nbformat": 4,
 "nbformat_minor": 5
}

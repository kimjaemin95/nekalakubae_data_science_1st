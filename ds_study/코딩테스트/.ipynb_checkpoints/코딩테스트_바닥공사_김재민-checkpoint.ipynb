{
 "cells": [
  {
   "cell_type": "markdown",
   "id": "ae281669",
   "metadata": {},
   "source": [
    "# 문제\n",
    "- 가로의 길이가 N, 세로의 길이가 2인 직사각형 형태의 얇은 바닥이 있다. 이 얇은 바닥을 덮개로 채우고자 하는데, 해울 수 있는 모든 경우의수를 구하라. 덮개는 1 X 2, 2 X 1, 2 X 2 이렇게 3가지로 구성되어있다.\n",
    "\n",
    " \n",
    "- 입력값 : 3\n",
    "\n",
    "1. (2 X 1) + (2 X 2)\n",
    "\n",
    "2. (2 X 2) + (2 X 1)\n",
    "\n",
    "3. (1 X 1) + (1 X 1) + (1 X 1)\n",
    "\n",
    "4. (2 X 1) + (1 X 2) + (1 X 2)\n",
    "\n",
    "5. (1 X 2) + (1 X 2)  + (2 X 1)\n",
    "\n",
    " \n",
    "\n",
    "- 총 5가지 경우가 나온다."
   ]
  },
  {
   "cell_type": "code",
   "execution_count": 1,
   "id": "86253698",
   "metadata": {},
   "outputs": [],
   "source": [
    "# 참고사이트 : https://devfunny.tistory.com/414"
   ]
  },
  {
   "cell_type": "code",
   "execution_count": 2,
   "id": "40bdb470",
   "metadata": {},
   "outputs": [
    {
     "name": "stdout",
     "output_type": "stream",
     "text": [
      "3\n",
      "5\n"
     ]
    }
   ],
   "source": [
    "# 정수 N을 입력 받기\n",
    "n = int(input())\n",
    "\n",
    "# 앞서 계산된 결과를 저장하기 위한 DP 테이블 초기화\n",
    "d = [0] * 1001\n",
    "\n",
    "# 다이나믹 프로그래밍(Dynamic Programming) 진행 (보텀업)\n",
    "d[1] = 1\n",
    "d[2] = 3\n",
    "for i in range(3, n + 1):\n",
    "    d[i] = (d[i - 1] + 2 * d[i - 2]) % 796796\n",
    "\n",
    "# 계산된 결과 출력\n",
    "print(d[n])"
   ]
  },
  {
   "cell_type": "code",
   "execution_count": null,
   "id": "23e82e54",
   "metadata": {},
   "outputs": [],
   "source": []
  }
 ],
 "metadata": {
  "kernelspec": {
   "display_name": "Python 3 (ipykernel)",
   "language": "python",
   "name": "python3"
  },
  "language_info": {
   "codemirror_mode": {
    "name": "ipython",
    "version": 3
   },
   "file_extension": ".py",
   "mimetype": "text/x-python",
   "name": "python",
   "nbconvert_exporter": "python",
   "pygments_lexer": "ipython3",
   "version": "3.8.11"
  }
 },
 "nbformat": 4,
 "nbformat_minor": 5
}

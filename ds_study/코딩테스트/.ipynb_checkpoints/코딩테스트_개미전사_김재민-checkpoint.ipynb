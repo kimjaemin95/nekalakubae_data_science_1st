{
 "cells": [
  {
   "cell_type": "markdown",
   "id": "c8a2d395",
   "metadata": {},
   "source": [
    "# 문제\n",
    "- 개미 전사가 정찰병에게 들키지 않고 식량창고를 약탈하기 위해서는 최소한 한 칸 이상 떨어진 식량창고를 약탈해야 한다. 개미 전사를 위해 식량창고 N개에 대한 정보가 주어졌을 때 얻을 수 있는 식량의 최댓값을 구하는 프로그램을 작성하시오.\n",
    "\n",
    "- 입력 예시\n",
    "<br>\n",
    "\n",
    "``` 4```\n",
    "<br>\n",
    "\n",
    "```1 3 1 5```\n",
    "- 출력 예시\n",
    "\n",
    "<br>\n",
    "\n",
    "```8```"
   ]
  },
  {
   "cell_type": "code",
   "execution_count": 4,
   "id": "fd7c1710",
   "metadata": {},
   "outputs": [
    {
     "name": "stdout",
     "output_type": "stream",
     "text": [
      "4\n",
      "1 3 1 5\n",
      "[0, 1, 3, 0, 0]\n",
      "8\n"
     ]
    }
   ],
   "source": [
    "N = int(input())\n",
    "input_data = list(map(int, input().split()))\n",
    "\n",
    "d = [0] * (N + 1)\n",
    "\n",
    "d[1] = input_data[0]\n",
    "d[2] = input_data[1]\n",
    "print(d)\n",
    "\n",
    "for i in range(3, N + 1):\n",
    "    max_val = 0\n",
    "    for j in range(i - 2, 0, -1):\n",
    "        \n",
    "        temp = d[j] + input_data[i-1]\n",
    "        max_val = max(max_val, temp)\n",
    "        \n",
    "    d[i] = max_val\n",
    "\n",
    "print(max(d[-1],d[-2]))"
   ]
  },
  {
   "cell_type": "code",
   "execution_count": null,
   "id": "55f31f8e",
   "metadata": {},
   "outputs": [],
   "source": []
  }
 ],
 "metadata": {
  "kernelspec": {
   "display_name": "Python 3 (ipykernel)",
   "language": "python",
   "name": "python3"
  },
  "language_info": {
   "codemirror_mode": {
    "name": "ipython",
    "version": 3
   },
   "file_extension": ".py",
   "mimetype": "text/x-python",
   "name": "python",
   "nbconvert_exporter": "python",
   "pygments_lexer": "ipython3",
   "version": "3.8.11"
  }
 },
 "nbformat": 4,
 "nbformat_minor": 5
}

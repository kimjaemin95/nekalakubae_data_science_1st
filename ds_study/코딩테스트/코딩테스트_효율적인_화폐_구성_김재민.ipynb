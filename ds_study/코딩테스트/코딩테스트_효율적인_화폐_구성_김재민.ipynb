{
 "cells": [
  {
   "cell_type": "markdown",
   "id": "3c4686d7",
   "metadata": {},
   "source": [
    "# 문제\n",
    "- N가지 종류의 화폐 중에서 화폐의 개수를 최소한으로 이용해 그 가치의 합이 M원이 되도록 한다. 화폐 갯수는 무제한이며 순서가 달라도 같은 걸로 친다.\n",
    "불가능시 -1을 출력한다."
   ]
  },
  {
   "cell_type": "code",
   "execution_count": 3,
   "id": "f75b7272",
   "metadata": {},
   "outputs": [
    {
     "name": "stdout",
     "output_type": "stream",
     "text": [
      "2 15\n",
      "2\n",
      "3\n",
      "[2, 3]\n",
      "5\n"
     ]
    }
   ],
   "source": [
    "n, m = map(int, input().split())\n",
    "val = [int(input()) for _ in range(n)]\n",
    "print(val)\n",
    "d = [10001]*10001\n",
    "d[0] = 0\n",
    "for v in val:\n",
    "    for j in range(v, m+1):\n",
    "        d[j] = min(d[j], d[j-v]+1)\n",
    "print(d[m])"
   ]
  },
  {
   "cell_type": "code",
   "execution_count": null,
   "id": "c51c5291",
   "metadata": {},
   "outputs": [],
   "source": []
  },
  {
   "cell_type": "code",
   "execution_count": 4,
   "id": "bb3ca33b",
   "metadata": {},
   "outputs": [],
   "source": [
    "# 아니 문제보고 어떻게 이런 개념이 떠오르냐고요...."
   ]
  },
  {
   "cell_type": "markdown",
   "id": "5aba2372",
   "metadata": {},
   "source": [
    "# 풀이 \n",
    "- 기본적인 그리디 문제처럼 거스름돈 문제와 동일하지만 화폐단위의 큰 단위가 작은 단위의 배수가 아니라는 점이 다르다.\n",
    "- 따라서, 그리디로 해결할 수 없으며 다이나믹 프로그래밍을 이용해야만 한다.\n",
    "- 문제에서 최소한의 화폐 갯수로 원하는 금액을 만들라고 했으므로\n",
    "\n",
    "1.  현재 화폐단위로 구성 가능한 경우 (a(i-k) 존재시 a(i) = min(a(i), a(i-k) + 1)\n",
    "2. 현재 화폐단위로 구성 불가능한 경우 a(i) = 10001 (구성할 수 있는 것보다 더 큰 수)\n",
    "- 작은 화폐 단위부터 구성할 수 있는 화폐의 갯수를 센다.\n",
    "- 화폐 단위가 점점 커지면서 더 적은 수로 값을 구성할 수 있을 때만 갱신하도록 한다."
   ]
  },
  {
   "cell_type": "code",
   "execution_count": null,
   "id": "340635d7",
   "metadata": {},
   "outputs": [],
   "source": []
  }
 ],
 "metadata": {
  "kernelspec": {
   "display_name": "Python 3 (ipykernel)",
   "language": "python",
   "name": "python3"
  },
  "language_info": {
   "codemirror_mode": {
    "name": "ipython",
    "version": 3
   },
   "file_extension": ".py",
   "mimetype": "text/x-python",
   "name": "python",
   "nbconvert_exporter": "python",
   "pygments_lexer": "ipython3",
   "version": "3.8.11"
  }
 },
 "nbformat": 4,
 "nbformat_minor": 5
}

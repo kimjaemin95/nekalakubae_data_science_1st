{
 "cells": [
  {
   "cell_type": "markdown",
   "id": "b6f7d160",
   "metadata": {},
   "source": [
    "## 함수란?\n",
    "- 파이썬의 함수는 수학의 함수와 동일하다.\n",
    "- 함수는 특정 기능을 재사용하기 위해서 사용한다.\n",
    "- 함수는 def 키워드, 함수명, :, 들여쓰기를 이용해서 선언한다.\n",
    "- 함수 내에서 또 다른 함수를 호출할 수 있다.\n",
    "- pass를 이용해서 실행문을 생략할 수 있다.\n",
    "- 함수 호출 시 함수에 데이터를 전달할 수 있다."
   ]
  },
  {
   "cell_type": "markdown",
   "id": "559652bd",
   "metadata": {},
   "source": [
    "#### 내장 함수 \n",
    "    - 함수는 파이썬에서 기본으로 제공하는 내장함수\n",
    "    \n",
    "#### 사용자 함수\n",
    "    - 사용자가 직접 선언하는 사용자 함수"
   ]
  },
  {
   "cell_type": "markdown",
   "id": "a123944d",
   "metadata": {},
   "source": [
    "#### 인수와 매개변수 개수\n",
    "- `*` (Asterisk)을 이용해서 개수가 정해지지 않은 매개 변수를 전달할 수 있다.\n",
    "- `**` 을 이용해서 key value 형태의 매개 변수를 전달할 수 있다."
   ]
  },
  {
   "cell_type": "code",
   "execution_count": 3,
   "id": "e0523626",
   "metadata": {},
   "outputs": [
    {
     "name": "stdout",
     "output_type": "stream",
     "text": [
      "(1, 2, 3, 4, 5, 6, 7) <class 'tuple'>\n"
     ]
    }
   ],
   "source": [
    "def star(*data):\n",
    "    print(data, type(data))\n",
    "    \n",
    "\n",
    "star(1,2,3,4,5,6,7)"
   ]
  },
  {
   "cell_type": "code",
   "execution_count": 6,
   "id": "5bbc0a39",
   "metadata": {},
   "outputs": [
    {
     "name": "stdout",
     "output_type": "stream",
     "text": [
      "<class 'dict'> {'key1': 10, 'key2': 20}\n"
     ]
    }
   ],
   "source": [
    "def moon(**data):\n",
    "    print(type(data), data)\n",
    "\n",
    "moon(key1=10, key2=20)"
   ]
  },
  {
   "cell_type": "markdown",
   "id": "96da82d9",
   "metadata": {},
   "source": [
    "#### 전역 변수\n",
    "- 함수 밖에 선언된 변수로 어디에서나 사용은 가능하지만 어떤 함수 안에서 전역변수의 데이터를 변경할 수 없다.\n",
    "- 하지만 함수 내에서 global 을 별도로 선언하면 함수 내에서 전역변수의 데이터를 변경할 수 있다."
   ]
  },
  {
   "cell_type": "code",
   "execution_count": 12,
   "id": "a2e25a1b",
   "metadata": {},
   "outputs": [
    {
     "name": "stdout",
     "output_type": "stream",
     "text": [
      "global_val : 20\n",
      "20\n"
     ]
    }
   ],
   "source": [
    "global_val = 10\n",
    "\n",
    "def test():\n",
    "    global global_val\n",
    "    global_val = 20\n",
    "    print(\"global_val :\", global_val)\n",
    "\n",
    "test()\n",
    "print(global_val)"
   ]
  },
  {
   "cell_type": "markdown",
   "id": "528e5134",
   "metadata": {},
   "source": [
    "#### 지역 변수 \n",
    "- 함수 안에 선언된 변수로 함수 안에서만 사용 가능하다.\n",
    "- 지역 변수를 함수 밖에서 사용 못한다."
   ]
  },
  {
   "cell_type": "markdown",
   "id": "366cf8c2",
   "metadata": {},
   "source": [
    "#### 중첩함수\n",
    "- 함수 안에 또 다른 함수가 있는 형태"
   ]
  },
  {
   "cell_type": "markdown",
   "id": "30dbfaaf",
   "metadata": {},
   "source": [
    "#### lambda 함수\n",
    "- lambda 키워드를 이용하면 함수 선언을 보다 간단하게 할 수 있다."
   ]
  },
  {
   "cell_type": "code",
   "execution_count": 16,
   "id": "3571e64b",
   "metadata": {},
   "outputs": [
    {
     "data": {
      "text/plain": [
       "(2, 3, 4)"
      ]
     },
     "execution_count": 16,
     "metadata": {},
     "output_type": "execute_result"
    }
   ],
   "source": [
    "t = lambda *x : x\n",
    "t(2,3,4)"
   ]
  },
  {
   "cell_type": "code",
   "execution_count": 18,
   "id": "984a8548",
   "metadata": {},
   "outputs": [
    {
     "data": {
      "text/plain": [
       "{'key1': 10, 'key2': 20}"
      ]
     },
     "execution_count": 18,
     "metadata": {},
     "output_type": "execute_result"
    }
   ],
   "source": [
    "t = lambda **x : x\n",
    "t(key1=10, key2=20)"
   ]
  },
  {
   "cell_type": "code",
   "execution_count": 19,
   "id": "0d084f1c",
   "metadata": {},
   "outputs": [
    {
     "data": {
      "text/plain": [
       "100"
      ]
     },
     "execution_count": 19,
     "metadata": {},
     "output_type": "execute_result"
    }
   ],
   "source": [
    "t = lambda x : x**2\n",
    "t(10)"
   ]
  },
  {
   "cell_type": "code",
   "execution_count": 26,
   "id": "ba8c7b51",
   "metadata": {},
   "outputs": [
    {
     "data": {
      "text/plain": [
       "2"
      ]
     },
     "execution_count": 26,
     "metadata": {},
     "output_type": "execute_result"
    }
   ],
   "source": [
    "(lambda x : x)(2)"
   ]
  },
  {
   "cell_type": "markdown",
   "id": "c13bd69a",
   "metadata": {},
   "source": [
    "---"
   ]
  },
  {
   "cell_type": "markdown",
   "id": "f6083859",
   "metadata": {},
   "source": [
    "## 자주 사용하는 함수들"
   ]
  },
  {
   "cell_type": "code",
   "execution_count": 2,
   "id": "dfee61dd",
   "metadata": {},
   "outputs": [],
   "source": [
    "list_data = [1,2,3,4,5,6,7,8,9,10]"
   ]
  },
  {
   "cell_type": "code",
   "execution_count": 3,
   "id": "0c573ae9",
   "metadata": {},
   "outputs": [
    {
     "data": {
      "text/plain": [
       "10"
      ]
     },
     "execution_count": 3,
     "metadata": {},
     "output_type": "execute_result"
    }
   ],
   "source": [
    "# 최대값\n",
    "max(list_data)"
   ]
  },
  {
   "cell_type": "code",
   "execution_count": 4,
   "id": "d21489d3",
   "metadata": {},
   "outputs": [
    {
     "data": {
      "text/plain": [
       "1"
      ]
     },
     "execution_count": 4,
     "metadata": {},
     "output_type": "execute_result"
    }
   ],
   "source": [
    "# 최솟값\n",
    "min(list_data)"
   ]
  },
  {
   "cell_type": "code",
   "execution_count": 7,
   "id": "75fbaaa8",
   "metadata": {},
   "outputs": [
    {
     "data": {
      "text/plain": [
       "(4, 27)"
      ]
     },
     "execution_count": 7,
     "metadata": {},
     "output_type": "execute_result"
    }
   ],
   "source": [
    "# 거듭제곱\n",
    "pow(2, 2), pow(3, 3)"
   ]
  },
  {
   "cell_type": "code",
   "execution_count": 8,
   "id": "bbd1cb20",
   "metadata": {},
   "outputs": [
    {
     "data": {
      "text/plain": [
       "3.142"
      ]
     },
     "execution_count": 8,
     "metadata": {},
     "output_type": "execute_result"
    }
   ],
   "source": [
    "# 반올림\n",
    "round(3.141592, 3)"
   ]
  },
  {
   "cell_type": "markdown",
   "id": "bd87cc30",
   "metadata": {},
   "source": [
    "### math 모듈을 이용"
   ]
  },
  {
   "cell_type": "code",
   "execution_count": 20,
   "id": "0903f79e",
   "metadata": {},
   "outputs": [
    {
     "name": "stdout",
     "output_type": "stream",
     "text": [
      "절대값 : 10.0\n",
      "올림 : 6\n",
      "내림 : 5\n",
      "버림 : 5\n",
      "최대공약수 : 2\n",
      "팩토리얼 : 24\n",
      "제곱근 : 2.0\n"
     ]
    }
   ],
   "source": [
    "import math\n",
    "\n",
    "\n",
    "print(f\"절대값 : {math.fabs(-10)}\")\n",
    "print(f\"올림 : {math.ceil(5.21)}\")\n",
    "print(f\"내림 : {math.floor(5.21)}\")\n",
    "print(f\"버림 : {math.trunc(5.21)}\")\n",
    "print(f\"최대공약수 : {math.gcd(14, 24)}\")\n",
    "print(f\"팩토리얼 : {math.factorial(4)}\")\n",
    "print(f\"제곱근 : {math.sqrt(4)}\")\n"
   ]
  },
  {
   "cell_type": "markdown",
   "id": "ceecd6f2",
   "metadata": {},
   "source": [
    "### time 모듈을 이용"
   ]
  },
  {
   "cell_type": "code",
   "execution_count": 24,
   "id": "58552b05",
   "metadata": {},
   "outputs": [
    {
     "name": "stdout",
     "output_type": "stream",
     "text": [
      "time.localtime() : time.struct_time(tm_year=2021, tm_mon=10, tm_mday=7, tm_hour=23, tm_min=39, tm_sec=28, tm_wday=3, tm_yday=280, tm_isdst=0)\n",
      "lt.tm_year : 2021\n",
      "lt.tm_mon : 10\n",
      "lt.tm_mday : 7\n",
      "lt.tm_hour : 23\n",
      "lt.tm_min : 39\n",
      "lt.tm_sec : 28\n",
      "lt.tm_wday : 3\n"
     ]
    }
   ],
   "source": [
    "import time\n",
    "\n",
    "\n",
    "lt = time.localtime()\n",
    "print(f\"time.localtime() : {lt}\")\n",
    "print(f\"lt.tm_year : {lt.tm_year}\")\n",
    "print(f\"lt.tm_mon : {lt.tm_mon}\")\n",
    "print(f\"lt.tm_mday : {lt.tm_mday}\")\n",
    "print(f\"lt.tm_hour : {lt.tm_hour}\")\n",
    "print(f\"lt.tm_min : {lt.tm_min}\")\n",
    "print(f\"lt.tm_sec : {lt.tm_sec}\")\n",
    "print(f\"lt.tm_wday : {lt.tm_wday}\")"
   ]
  },
  {
   "cell_type": "code",
   "execution_count": 26,
   "id": "57c86742",
   "metadata": {},
   "outputs": [
    {
     "name": "stdout",
     "output_type": "stream",
     "text": [
      "D:\\공부\\프로젝트\\네카라쿠배 - 데이터사이언스 1기\\nekalakubae_data_science_1st\\ds_study\\파이썬 중급\n",
      "C:\\Users\\jmkim\\miniconda3\\envs\\ds_study\\python38.zip\n",
      "C:\\Users\\jmkim\\miniconda3\\envs\\ds_study\\DLLs\n",
      "C:\\Users\\jmkim\\miniconda3\\envs\\ds_study\\lib\n",
      "C:\\Users\\jmkim\\miniconda3\\envs\\ds_study\n",
      "\n",
      "C:\\Users\\jmkim\\miniconda3\\envs\\ds_study\\lib\\site-packages\n",
      "C:\\Users\\jmkim\\miniconda3\\envs\\ds_study\\lib\\site-packages\\win32\n",
      "C:\\Users\\jmkim\\miniconda3\\envs\\ds_study\\lib\\site-packages\\win32\\lib\n",
      "C:\\Users\\jmkim\\miniconda3\\envs\\ds_study\\lib\\site-packages\\Pythonwin\n",
      "C:\\Users\\jmkim\\miniconda3\\envs\\ds_study\\lib\\site-packages\\IPython\\extensions\n",
      "C:\\Users\\jmkim\\.ipython\n"
     ]
    }
   ],
   "source": [
    "import sys\n",
    "\n",
    "for p in sys.path:\n",
    "    print(p)\n",
    "    \n",
    "# C:\\Users\\jmkim\\miniconda3\\envs\\ds_study\\lib\\site-packages\n",
    "# 해당 경로에 직접 만든 패키지나 모듈을 옮겨두면 어디서든 참조해서 사용할 수 있다."
   ]
  },
  {
   "cell_type": "markdown",
   "id": "f342b46f",
   "metadata": {},
   "source": [
    "### 객체지향 프로그래밍\n",
    "- 객체를 이용한 프로그램으로 객체는 속성과 기능으로 구성된다\n",
    "- 계산기\n",
    "    - 속성 : 숫자\n",
    "    - 기능 : 덧셈, 뺄셈 ....\n",
    "---\n",
    "- 자동차\n",
    "    - 속성 : 색상, 길이, 가격\n",
    "    - 기능 : 전진, 후진, 정지 ...\n",
    "---\n",
    "- 객체(object) = 속성(attribute) + 기능(functions)"
   ]
  },
  {
   "cell_type": "code",
   "execution_count": null,
   "id": "05fe53cc",
   "metadata": {},
   "outputs": [],
   "source": [
    "# 클래스 만들기\n"
   ]
  },
  {
   "cell_type": "code",
   "execution_count": null,
   "id": "24c131a6",
   "metadata": {},
   "outputs": [],
   "source": []
  },
  {
   "cell_type": "code",
   "execution_count": null,
   "id": "cbacbdc4",
   "metadata": {},
   "outputs": [],
   "source": []
  },
  {
   "cell_type": "code",
   "execution_count": null,
   "id": "115267e4",
   "metadata": {},
   "outputs": [],
   "source": []
  },
  {
   "cell_type": "code",
   "execution_count": null,
   "id": "9ae0cd40",
   "metadata": {},
   "outputs": [],
   "source": []
  },
  {
   "cell_type": "code",
   "execution_count": null,
   "id": "8f13c61a",
   "metadata": {},
   "outputs": [],
   "source": []
  },
  {
   "cell_type": "code",
   "execution_count": null,
   "id": "ce156447",
   "metadata": {},
   "outputs": [],
   "source": []
  }
 ],
 "metadata": {
  "kernelspec": {
   "display_name": "Python 3 (ipykernel)",
   "language": "python",
   "name": "python3"
  },
  "language_info": {
   "codemirror_mode": {
    "name": "ipython",
    "version": 3
   },
   "file_extension": ".py",
   "mimetype": "text/x-python",
   "name": "python",
   "nbconvert_exporter": "python",
   "pygments_lexer": "ipython3",
   "version": "3.8.11"
  }
 },
 "nbformat": 4,
 "nbformat_minor": 5
}

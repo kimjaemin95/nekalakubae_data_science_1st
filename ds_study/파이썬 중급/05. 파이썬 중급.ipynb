{
 "cells": [
  {
   "cell_type": "markdown",
   "id": "b6f7d160",
   "metadata": {},
   "source": [
    "## 함수란?\n",
    "- 파이썬의 함수는 수학의 함수와 동일하다.\n",
    "- 함수는 특정 기능을 재사용하기 위해서 사용한다.\n",
    "- 함수는 def 키워드, 함수명, :, 들여쓰기를 이용해서 선언한다.\n",
    "- 함수 내에서 또 다른 함수를 호출할 수 있다.\n",
    "- pass를 이용해서 실행문을 생략할 수 있다.\n",
    "- 함수 호출 시 함수에 데이터를 전달할 수 있다."
   ]
  },
  {
   "cell_type": "markdown",
   "id": "559652bd",
   "metadata": {},
   "source": [
    "#### 내장 함수 \n",
    "    - 함수는 파이썬에서 기본으로 제공하는 내장함수\n",
    "    \n",
    "#### 사용자 함수\n",
    "    - 사용자가 직접 선언하는 사용자 함수"
   ]
  },
  {
   "cell_type": "markdown",
   "id": "a123944d",
   "metadata": {},
   "source": [
    "#### 인수와 매개변수 개수\n",
    "- `*` (Asterisk)을 이용해서 개수가 정해지지 않은 매개 변수를 전달할 수 있다.\n",
    "- `**` 을 이용해서 key value 형태의 매개 변수를 전달할 수 있다."
   ]
  },
  {
   "cell_type": "code",
   "execution_count": 3,
   "id": "e0523626",
   "metadata": {},
   "outputs": [
    {
     "name": "stdout",
     "output_type": "stream",
     "text": [
      "(1, 2, 3, 4, 5, 6, 7) <class 'tuple'>\n"
     ]
    }
   ],
   "source": [
    "def star(*data):\n",
    "    print(data, type(data))\n",
    "    \n",
    "\n",
    "star(1,2,3,4,5,6,7)"
   ]
  },
  {
   "cell_type": "code",
   "execution_count": 6,
   "id": "5bbc0a39",
   "metadata": {},
   "outputs": [
    {
     "name": "stdout",
     "output_type": "stream",
     "text": [
      "<class 'dict'> {'key1': 10, 'key2': 20}\n"
     ]
    }
   ],
   "source": [
    "def moon(**data):\n",
    "    print(type(data), data)\n",
    "\n",
    "moon(key1=10, key2=20)"
   ]
  },
  {
   "cell_type": "markdown",
   "id": "96da82d9",
   "metadata": {},
   "source": [
    "#### 전역 변수\n",
    "- 함수 밖에 선언된 변수로 어디에서나 사용은 가능하지만 어떤 함수 안에서 전역변수의 데이터를 변경할 수 없다.\n",
    "- 하지만 함수 내에서 global 을 별도로 선언하면 함수 내에서 전역변수의 데이터를 변경할 수 있다."
   ]
  },
  {
   "cell_type": "code",
   "execution_count": 12,
   "id": "a2e25a1b",
   "metadata": {},
   "outputs": [
    {
     "name": "stdout",
     "output_type": "stream",
     "text": [
      "global_val : 20\n",
      "20\n"
     ]
    }
   ],
   "source": [
    "global_val = 10\n",
    "\n",
    "def test():\n",
    "    global global_val\n",
    "    global_val = 20\n",
    "    print(\"global_val :\", global_val)\n",
    "\n",
    "test()\n",
    "print(global_val)"
   ]
  },
  {
   "cell_type": "markdown",
   "id": "528e5134",
   "metadata": {},
   "source": [
    "#### 지역 변수 \n",
    "- 함수 안에 선언된 변수로 함수 안에서만 사용 가능하다.\n",
    "- 지역 변수를 함수 밖에서 사용 못한다."
   ]
  },
  {
   "cell_type": "markdown",
   "id": "366cf8c2",
   "metadata": {},
   "source": [
    "#### 중첩함수\n",
    "- 함수 안에 또 다른 함수가 있는 형태"
   ]
  },
  {
   "cell_type": "markdown",
   "id": "30dbfaaf",
   "metadata": {},
   "source": [
    "#### lambda 함수\n",
    "- lambda 키워드를 이용하면 함수 선언을 보다 간단하게 할 수 있다."
   ]
  },
  {
   "cell_type": "code",
   "execution_count": 16,
   "id": "3571e64b",
   "metadata": {},
   "outputs": [
    {
     "data": {
      "text/plain": [
       "(2, 3, 4)"
      ]
     },
     "execution_count": 16,
     "metadata": {},
     "output_type": "execute_result"
    }
   ],
   "source": [
    "t = lambda *x : x\n",
    "t(2,3,4)"
   ]
  },
  {
   "cell_type": "code",
   "execution_count": 18,
   "id": "984a8548",
   "metadata": {},
   "outputs": [
    {
     "data": {
      "text/plain": [
       "{'key1': 10, 'key2': 20}"
      ]
     },
     "execution_count": 18,
     "metadata": {},
     "output_type": "execute_result"
    }
   ],
   "source": [
    "t = lambda **x : x\n",
    "t(key1=10, key2=20)"
   ]
  },
  {
   "cell_type": "code",
   "execution_count": 19,
   "id": "0d084f1c",
   "metadata": {},
   "outputs": [
    {
     "data": {
      "text/plain": [
       "100"
      ]
     },
     "execution_count": 19,
     "metadata": {},
     "output_type": "execute_result"
    }
   ],
   "source": [
    "t = lambda x : x**2\n",
    "t(10)"
   ]
  },
  {
   "cell_type": "code",
   "execution_count": 26,
   "id": "ba8c7b51",
   "metadata": {},
   "outputs": [
    {
     "data": {
      "text/plain": [
       "2"
      ]
     },
     "execution_count": 26,
     "metadata": {},
     "output_type": "execute_result"
    }
   ],
   "source": [
    "(lambda x : x)(2)"
   ]
  },
  {
   "cell_type": "markdown",
   "id": "fb63885c",
   "metadata": {},
   "source": [
    "---"
   ]
  },
  {
   "cell_type": "markdown",
   "id": "0de0b78a",
   "metadata": {},
   "source": [
    "## 자주 사용하는 함수들"
   ]
  },
  {
   "cell_type": "code",
   "execution_count": 2,
   "id": "ff078752",
   "metadata": {},
   "outputs": [],
   "source": [
    "list_data = [1,2,3,4,5,6,7,8,9,10]"
   ]
  },
  {
   "cell_type": "code",
   "execution_count": 3,
   "id": "613c277b",
   "metadata": {},
   "outputs": [
    {
     "data": {
      "text/plain": [
       "10"
      ]
     },
     "execution_count": 3,
     "metadata": {},
     "output_type": "execute_result"
    }
   ],
   "source": [
    "# 최대값\n",
    "max(list_data)"
   ]
  },
  {
   "cell_type": "code",
   "execution_count": 4,
   "id": "dc6462bb",
   "metadata": {},
   "outputs": [
    {
     "data": {
      "text/plain": [
       "1"
      ]
     },
     "execution_count": 4,
     "metadata": {},
     "output_type": "execute_result"
    }
   ],
   "source": [
    "# 최솟값\n",
    "min(list_data)"
   ]
  },
  {
   "cell_type": "code",
   "execution_count": 7,
   "id": "f29b4cfc",
   "metadata": {},
   "outputs": [
    {
     "data": {
      "text/plain": [
       "(4, 27)"
      ]
     },
     "execution_count": 7,
     "metadata": {},
     "output_type": "execute_result"
    }
   ],
   "source": [
    "# 거듭제곱\n",
    "pow(2, 2), pow(3, 3)"
   ]
  },
  {
   "cell_type": "code",
   "execution_count": 8,
   "id": "741b8b2a",
   "metadata": {},
   "outputs": [
    {
     "data": {
      "text/plain": [
       "3.142"
      ]
     },
     "execution_count": 8,
     "metadata": {},
     "output_type": "execute_result"
    }
   ],
   "source": [
    "# 반올림\n",
    "round(3.141592, 3)"
   ]
  },
  {
   "cell_type": "markdown",
   "id": "78a4d88a",
   "metadata": {},
   "source": [
    "### math 모듈을 이용"
   ]
  },
  {
   "cell_type": "code",
   "execution_count": 20,
   "id": "c7765887",
   "metadata": {},
   "outputs": [
    {
     "name": "stdout",
     "output_type": "stream",
     "text": [
      "절대값 : 10.0\n",
      "올림 : 6\n",
      "내림 : 5\n",
      "버림 : 5\n",
      "최대공약수 : 2\n",
      "팩토리얼 : 24\n",
      "제곱근 : 2.0\n"
     ]
    }
   ],
   "source": [
    "import math\n",
    "\n",
    "\n",
    "print(f\"절대값 : {math.fabs(-10)}\")\n",
    "print(f\"올림 : {math.ceil(5.21)}\")\n",
    "print(f\"내림 : {math.floor(5.21)}\")\n",
    "print(f\"버림 : {math.trunc(5.21)}\")\n",
    "print(f\"최대공약수 : {math.gcd(14, 24)}\")\n",
    "print(f\"팩토리얼 : {math.factorial(4)}\")\n",
    "print(f\"제곱근 : {math.sqrt(4)}\")\n"
   ]
  },
  {
   "cell_type": "markdown",
   "id": "8bc1abc5",
   "metadata": {},
   "source": [
    "### time 모듈을 이용"
   ]
  },
  {
   "cell_type": "code",
   "execution_count": 24,
   "id": "18261820",
   "metadata": {},
   "outputs": [
    {
     "name": "stdout",
     "output_type": "stream",
     "text": [
      "time.localtime() : time.struct_time(tm_year=2021, tm_mon=10, tm_mday=7, tm_hour=23, tm_min=39, tm_sec=28, tm_wday=3, tm_yday=280, tm_isdst=0)\n",
      "lt.tm_year : 2021\n",
      "lt.tm_mon : 10\n",
      "lt.tm_mday : 7\n",
      "lt.tm_hour : 23\n",
      "lt.tm_min : 39\n",
      "lt.tm_sec : 28\n",
      "lt.tm_wday : 3\n"
     ]
    }
   ],
   "source": [
    "import time\n",
    "\n",
    "\n",
    "lt = time.localtime()\n",
    "print(f\"time.localtime() : {lt}\")\n",
    "print(f\"lt.tm_year : {lt.tm_year}\")\n",
    "print(f\"lt.tm_mon : {lt.tm_mon}\")\n",
    "print(f\"lt.tm_mday : {lt.tm_mday}\")\n",
    "print(f\"lt.tm_hour : {lt.tm_hour}\")\n",
    "print(f\"lt.tm_min : {lt.tm_min}\")\n",
    "print(f\"lt.tm_sec : {lt.tm_sec}\")\n",
    "print(f\"lt.tm_wday : {lt.tm_wday}\")"
   ]
  },
  {
   "cell_type": "code",
   "execution_count": 26,
   "id": "0a5ce91a",
   "metadata": {},
   "outputs": [
    {
     "name": "stdout",
     "output_type": "stream",
     "text": [
      "D:\\공부\\프로젝트\\네카라쿠배 - 데이터사이언스 1기\\nekalakubae_data_science_1st\\ds_study\\파이썬 중급\n",
      "C:\\Users\\jmkim\\miniconda3\\envs\\ds_study\\python38.zip\n",
      "C:\\Users\\jmkim\\miniconda3\\envs\\ds_study\\DLLs\n",
      "C:\\Users\\jmkim\\miniconda3\\envs\\ds_study\\lib\n",
      "C:\\Users\\jmkim\\miniconda3\\envs\\ds_study\n",
      "\n",
      "C:\\Users\\jmkim\\miniconda3\\envs\\ds_study\\lib\\site-packages\n",
      "C:\\Users\\jmkim\\miniconda3\\envs\\ds_study\\lib\\site-packages\\win32\n",
      "C:\\Users\\jmkim\\miniconda3\\envs\\ds_study\\lib\\site-packages\\win32\\lib\n",
      "C:\\Users\\jmkim\\miniconda3\\envs\\ds_study\\lib\\site-packages\\Pythonwin\n",
      "C:\\Users\\jmkim\\miniconda3\\envs\\ds_study\\lib\\site-packages\\IPython\\extensions\n",
      "C:\\Users\\jmkim\\.ipython\n"
     ]
    }
   ],
   "source": [
    "import sys\n",
    "\n",
    "for p in sys.path:\n",
    "    print(p)\n",
    "    \n",
    "# C:\\Users\\jmkim\\miniconda3\\envs\\ds_study\\lib\\site-packages\n",
    "# 해당 경로에 직접 만든 패키지나 모듈을 옮겨두면 어디서든 참조해서 사용할 수 있다."
   ]
  },
  {
   "cell_type": "markdown",
   "id": "f7ee876a",
   "metadata": {},
   "source": [
    "### 객체지향 프로그래밍\n",
    "- 객체를 이용한 프로그램으로 객체는 속성과 기능으로 구성된다\n",
    "- 계산기\n",
    "    - 속성 : 숫자\n",
    "    - 기능 : 덧셈, 뺄셈 ....\n",
    "---\n",
    "- 자동차\n",
    "    - 속성 : 색상, 길이, 가격\n",
    "    - 기능 : 전진, 후진, 정지 ...\n",
    "---\n",
    "- 객체(object) = 속성(attribute) + 기능(functions)"
   ]
  },
  {
   "cell_type": "code",
   "execution_count": 29,
   "id": "d5e6c997",
   "metadata": {},
   "outputs": [],
   "source": [
    "# 클래스 만들기\n",
    "class Car:\n",
    "    def __init__(self, color, length):\n",
    "        self.color = color\n",
    "        self.length = length\n",
    "        \n",
    "    def do_stop(self):\n",
    "        print(\"STOP!!\")\n",
    "        \n",
    "    def do_start(self):\n",
    "        print(\"START!!\")"
   ]
  },
  {
   "cell_type": "code",
   "execution_count": 30,
   "id": "cd48dedd",
   "metadata": {},
   "outputs": [
    {
     "data": {
      "text/plain": [
       "<__main__.Car at 0x1a8495504c0>"
      ]
     },
     "execution_count": 30,
     "metadata": {},
     "output_type": "execute_result"
    }
   ],
   "source": [
    "car1 = Car(\"red\", 200)\n",
    "car1"
   ]
  },
  {
   "cell_type": "code",
   "execution_count": 31,
   "id": "1816527c",
   "metadata": {},
   "outputs": [
    {
     "name": "stdout",
     "output_type": "stream",
     "text": [
      "STOP!!\n"
     ]
    }
   ],
   "source": [
    "car1.do_stop()"
   ]
  },
  {
   "cell_type": "code",
   "execution_count": 32,
   "id": "84e942df",
   "metadata": {},
   "outputs": [
    {
     "name": "stdout",
     "output_type": "stream",
     "text": [
      "START!!\n"
     ]
    }
   ],
   "source": [
    "car1.do_start()"
   ]
  },
  {
   "cell_type": "code",
   "execution_count": 38,
   "id": "7075056d",
   "metadata": {},
   "outputs": [],
   "source": [
    "class NewGenerationPC:\n",
    "    def __init__(self, name, cpu, memory, ssd):\n",
    "        self.name = name\n",
    "        self.cpu = cpu\n",
    "        self.memory = memory\n",
    "        self.ssd = ssd\n",
    "        \n",
    "    def do_excel(self):\n",
    "        print(\"EXCEL RUN!!\")\n",
    "    \n",
    "    def do_photoshop(self):\n",
    "        print(\"PHOTOSHOP RUN!!\")\n",
    "    \n",
    "    def print_pc_info(self):\n",
    "        print(f\"self.name : {self.name}\")\n",
    "        print(f\"self.cpu : {self.cpu}\")\n",
    "        print(f\"self.memory : {self.memory}\")\n",
    "        print(f\"self.ssd : {self.ssd}\")"
   ]
  },
  {
   "cell_type": "code",
   "execution_count": 39,
   "id": "508e0c49",
   "metadata": {},
   "outputs": [],
   "source": [
    "my_pc = NewGenerationPC(\"my pc\", \"i5\", \"16G\", \"256GB\")"
   ]
  },
  {
   "cell_type": "code",
   "execution_count": 40,
   "id": "2df6488e",
   "metadata": {},
   "outputs": [
    {
     "name": "stdout",
     "output_type": "stream",
     "text": [
      "self.name : my pc\n",
      "self.cpu : i5\n",
      "self.memory : 16G\n",
      "self.ssd : 256GB\n"
     ]
    }
   ],
   "source": [
    "my_pc.print_pc_info()"
   ]
  },
  {
   "cell_type": "code",
   "execution_count": 42,
   "id": "bdf4b9b3",
   "metadata": {},
   "outputs": [],
   "source": [
    "my_pc.cpu = \"i7\""
   ]
  },
  {
   "cell_type": "code",
   "execution_count": 43,
   "id": "6a1ad606",
   "metadata": {},
   "outputs": [
    {
     "name": "stdout",
     "output_type": "stream",
     "text": [
      "self.name : my pc\n",
      "self.cpu : i7\n",
      "self.memory : 16G\n",
      "self.ssd : 256GB\n"
     ]
    }
   ],
   "source": [
    "my_pc.print_pc_info()"
   ]
  },
  {
   "cell_type": "markdown",
   "id": "18360ea9",
   "metadata": {},
   "source": [
    "## 객체와 메모리\n",
    "- 변수는 객체의 메모리 주소를 저장하고 이를 이용해서 객체를 참조한다."
   ]
  },
  {
   "cell_type": "code",
   "execution_count": 44,
   "id": "ba0bb77b",
   "metadata": {},
   "outputs": [],
   "source": [
    "class Robot:\n",
    "    def __init__(self, color, height, weight):\n",
    "        self.color = color\n",
    "        self.height = height\n",
    "        self.weight = weight\n",
    "        \n",
    "    def print_robot_info(self):\n",
    "        print(f\"color : {self.color}\")\n",
    "        print(f\"height : {self.height}\")\n",
    "        print(f\"weight : {self.weight}\")\n",
    "        "
   ]
  },
  {
   "cell_type": "code",
   "execution_count": 46,
   "id": "6b342a17",
   "metadata": {},
   "outputs": [
    {
     "name": "stdout",
     "output_type": "stream",
     "text": [
      "color : red\n",
      "height : 200\n",
      "weight : 80\n"
     ]
    }
   ],
   "source": [
    "rb1 = Robot(\"red\", 200, 80)\n",
    "rb1.print_robot_info()"
   ]
  },
  {
   "cell_type": "code",
   "execution_count": 51,
   "id": "4a6d30d9",
   "metadata": {},
   "outputs": [],
   "source": [
    "a = [1,2,3]\n",
    "b = a.copy()"
   ]
  },
  {
   "cell_type": "markdown",
   "id": "f3e7f361",
   "metadata": {},
   "source": [
    "## 얕은 복사와 깊은 복사"
   ]
  },
  {
   "cell_type": "code",
   "execution_count": 52,
   "id": "d73188c6",
   "metadata": {},
   "outputs": [],
   "source": [
    "class TemCls:\n",
    "    \n",
    "    def __init__(self, n, s):\n",
    "        self.number = n\n",
    "        self.str = s\n",
    "        \n",
    "    def print_info(self):\n",
    "        print(f\"self.number : {self.number}\")\n",
    "        print(f\"self.str : {self.str}\")\n",
    "    "
   ]
  },
  {
   "cell_type": "code",
   "execution_count": 53,
   "id": "6efdfcdb",
   "metadata": {},
   "outputs": [],
   "source": [
    "tc1 = TemCls(10, \"string\")\n",
    "tc2 = tc1"
   ]
  },
  {
   "cell_type": "code",
   "execution_count": 63,
   "id": "4e6300d2",
   "metadata": {},
   "outputs": [
    {
     "name": "stdout",
     "output_type": "stream",
     "text": [
      "1822303472992\n",
      "1822303472992\n"
     ]
    }
   ],
   "source": [
    "print(id(tc1))\n",
    "print(id(tc2))"
   ]
  },
  {
   "cell_type": "code",
   "execution_count": 64,
   "id": "1474bd93",
   "metadata": {},
   "outputs": [
    {
     "data": {
      "text/plain": [
       "(<__main__.TemCls at 0x1a849c04d60>, <__main__.TemCls at 0x1a849c04d60>)"
      ]
     },
     "execution_count": 64,
     "metadata": {},
     "output_type": "execute_result"
    }
   ],
   "source": [
    "tc2, tc1"
   ]
  },
  {
   "cell_type": "markdown",
   "id": "92657b1e",
   "metadata": {},
   "source": [
    "#### 깊은 복사"
   ]
  },
  {
   "cell_type": "code",
   "execution_count": 65,
   "id": "9c174500",
   "metadata": {},
   "outputs": [
    {
     "name": "stdout",
     "output_type": "stream",
     "text": [
      "1822304879664\n",
      "1822304881200\n"
     ]
    }
   ],
   "source": [
    "import copy\n",
    "\n",
    "tc1 = TemCls(10, \"string\")\n",
    "tc2 = copy.copy(tc1)\n",
    "\n",
    "print(id(tc1))\n",
    "print(id(tc2))"
   ]
  },
  {
   "cell_type": "code",
   "execution_count": 69,
   "id": "0b1f3418",
   "metadata": {},
   "outputs": [
    {
     "name": "stdout",
     "output_type": "stream",
     "text": [
      "[9, 8, 5, 7, 6, 10] 1822297761472\n",
      "[9, 8, 5, 7, 6, 10] 1822299558016\n",
      "서로 완전히 다른 객체이다\n"
     ]
    }
   ],
   "source": [
    "scores = [9, 8, 5, 7, 6, 10]\n",
    "scores_cp = []\n",
    "\n",
    "for s in scores:\n",
    "    scores_cp.append(s)\n",
    "    \n",
    "print(scores, id(scores))\n",
    "print(scores_cp, id(scores_cp))\n",
    "print(\"같은 메모리 주소를 바라보고 있다.\" if id(scores) == id(scores_cp) else \"서로 완전히 다른 객체이다\")"
   ]
  },
  {
   "cell_type": "code",
   "execution_count": 71,
   "id": "ca838037",
   "metadata": {},
   "outputs": [],
   "source": [
    "class NormalCar:\n",
    "    \n",
    "    def drive(self):\n",
    "        print(\"NormalCar drive() called!!\")\n",
    "        \n",
    "    def back(self):\n",
    "        print(\"NormalCar back() called!!\")\n",
    "        \n",
    "class TurboCar(NormalCar):\n",
    "    \n",
    "    def turbo(self):\n",
    "        print(\"TurboCar turbo() called!!\")\n",
    "        "
   ]
  },
  {
   "cell_type": "code",
   "execution_count": 74,
   "id": "ba39233a",
   "metadata": {},
   "outputs": [],
   "source": [
    "tb = TurboCar()"
   ]
  },
  {
   "cell_type": "code",
   "execution_count": 75,
   "id": "291969bd",
   "metadata": {},
   "outputs": [
    {
     "name": "stdout",
     "output_type": "stream",
     "text": [
      "TurboCar turbo() called!!\n"
     ]
    }
   ],
   "source": [
    "tb.turbo()"
   ]
  },
  {
   "cell_type": "code",
   "execution_count": 76,
   "id": "10b92992",
   "metadata": {},
   "outputs": [
    {
     "name": "stdout",
     "output_type": "stream",
     "text": [
      "NormalCar back() called!!\n"
     ]
    }
   ],
   "source": [
    "tb.back()"
   ]
  },
  {
   "cell_type": "code",
   "execution_count": 77,
   "id": "bd674f72",
   "metadata": {},
   "outputs": [
    {
     "name": "stdout",
     "output_type": "stream",
     "text": [
      "NormalCar drive() called!!\n"
     ]
    }
   ],
   "source": [
    "tb.drive()"
   ]
  },
  {
   "cell_type": "code",
   "execution_count": 78,
   "id": "c30d7aa9",
   "metadata": {},
   "outputs": [],
   "source": [
    "class CalCulatorSuper:\n",
    "    \n",
    "    def add(self, n1, n2):\n",
    "        return n1 + n2\n",
    "    \n",
    "    def sub(self, n1, n2):\n",
    "        return n1 - n2\n",
    "    \n",
    "class CalCulatorChild(CalCulatorSuper):\n",
    "    \n",
    "    def mul(self, n1, n2):\n",
    "        return n1 * n2\n",
    "    \n",
    "    def div(self, n1, n2):\n",
    "        return n1 / n2\n",
    "    "
   ]
  },
  {
   "cell_type": "code",
   "execution_count": 79,
   "id": "796026e9",
   "metadata": {},
   "outputs": [
    {
     "data": {
      "text/plain": [
       "3"
      ]
     },
     "execution_count": 79,
     "metadata": {},
     "output_type": "execute_result"
    }
   ],
   "source": [
    "ccc = CalCulatorChild()\n",
    "ccc.add(1,2)"
   ]
  },
  {
   "cell_type": "markdown",
   "id": "5a1f0e4b",
   "metadata": {},
   "source": [
    "### 클래스 생성자\n",
    "- __init__메소드가 속성을 초기화 한다."
   ]
  },
  {
   "cell_type": "code",
   "execution_count": 80,
   "id": "7300b503",
   "metadata": {},
   "outputs": [
    {
     "name": "stdout",
     "output_type": "stream",
     "text": [
      "init 메소드 자동 생성\n"
     ]
    },
    {
     "data": {
      "text/plain": [
       "<__main__.Creator at 0x1a849e736a0>"
      ]
     },
     "execution_count": 80,
     "metadata": {},
     "output_type": "execute_result"
    }
   ],
   "source": [
    "class Creator:\n",
    "    \n",
    "    def __init__(self):\n",
    "        print(\"init 메소드 자동 생성\")\n",
    "        \n",
    "Creator()"
   ]
  },
  {
   "cell_type": "code",
   "execution_count": 82,
   "id": "e5aa3cfc",
   "metadata": {},
   "outputs": [],
   "source": [
    "class ParentsClass:\n",
    "    \n",
    "    def __init__(self, p_num1, p_num2):\n",
    "        print(\"[ParentsClass] 클래스 생성자 실행\")\n",
    "        self.p_num1 = p_num1\n",
    "        self.p_num2 = p_num2\n",
    "        \n",
    "class ChildClass(ParentsClass):\n",
    "    \n",
    "    def __init__(self, c_num1, c_num2):\n",
    "        print(\"[ChildClass] 클래스 생성자 실행\")\n",
    "        self.c_num1 = c_num1\n",
    "        self.c_num2 = c_num2\n",
    "        \n",
    "        "
   ]
  },
  {
   "cell_type": "code",
   "execution_count": 84,
   "id": "5043b99a",
   "metadata": {},
   "outputs": [
    {
     "name": "stdout",
     "output_type": "stream",
     "text": [
      "[ChildClass] 클래스 생성자 실행\n"
     ]
    }
   ],
   "source": [
    "cls = ChildClass(10, 20)"
   ]
  },
  {
   "cell_type": "code",
   "execution_count": 85,
   "id": "fbd435be",
   "metadata": {},
   "outputs": [
    {
     "data": {
      "text/plain": [
       "{'c_num1': 10, 'c_num2': 20}"
      ]
     },
     "execution_count": 85,
     "metadata": {},
     "output_type": "execute_result"
    }
   ],
   "source": [
    "cls.__dict__"
   ]
  },
  {
   "cell_type": "code",
   "execution_count": 86,
   "id": "8ed4bad6",
   "metadata": {},
   "outputs": [],
   "source": [
    "class ParentsClass:\n",
    "    \n",
    "    def __init__(self, p_num1, p_num2):\n",
    "        print(\"[ParentsClass] 클래스 생성자 실행\")\n",
    "        self.p_num1 = p_num1\n",
    "        self.p_num2 = p_num2\n",
    "        \n",
    "class ChildClass(ParentsClass):\n",
    "    \n",
    "    def __init__(self, c_num1, c_num2):\n",
    "        \n",
    "        ParentsClass.__init__(self, c_num1, c_num2)\n",
    "        \n",
    "        print(\"[ChildClass] 클래스 생성자 실행\")\n",
    "        self.c_num1 = c_num1\n",
    "        self.c_num2 = c_num2\n",
    "        \n",
    "        "
   ]
  },
  {
   "cell_type": "code",
   "execution_count": 87,
   "id": "c613231c",
   "metadata": {},
   "outputs": [
    {
     "name": "stdout",
     "output_type": "stream",
     "text": [
      "[ParentsClass] 클래스 생성자 실행\n",
      "[ChildClass] 클래스 생성자 실행\n"
     ]
    }
   ],
   "source": [
    "cls = ChildClass(10, 20)"
   ]
  },
  {
   "cell_type": "code",
   "execution_count": 88,
   "id": "be239423",
   "metadata": {},
   "outputs": [],
   "source": [
    "class ParentsClass:\n",
    "    \n",
    "    def __init__(self, p_num1, p_num2):\n",
    "        print(\"[ParentsClass] 클래스 생성자 실행\")\n",
    "        self.p_num1 = p_num1\n",
    "        self.p_num2 = p_num2\n",
    "        \n",
    "class ChildClass(ParentsClass):\n",
    "    \n",
    "    def __init__(self, c_num1, c_num2):\n",
    "        \n",
    "        super().__init__(c_num1, c_num2)\n",
    "        \n",
    "        print(\"[ChildClass] 클래스 생성자 실행\")\n",
    "        self.c_num1 = c_num1\n",
    "        self.c_num2 = c_num2\n",
    "        \n",
    "        "
   ]
  },
  {
   "cell_type": "code",
   "execution_count": 89,
   "id": "97239aea",
   "metadata": {},
   "outputs": [
    {
     "name": "stdout",
     "output_type": "stream",
     "text": [
      "[ParentsClass] 클래스 생성자 실행\n",
      "[ChildClass] 클래스 생성자 실행\n"
     ]
    }
   ],
   "source": [
    "cls = ChildClass(10, 20)"
   ]
  },
  {
   "cell_type": "markdown",
   "id": "313578c7",
   "metadata": {},
   "source": [
    "- 중간고사 클래스와 기말고사 클래스를 상속관계를 만들고 각각의 점수를 초기화하자. 또한 총점 및 평균을 반환하는 기능도 만들어보자."
   ]
  },
  {
   "cell_type": "code",
   "execution_count": 106,
   "id": "2b13cb0e",
   "metadata": {},
   "outputs": [],
   "source": [
    "class MidExam:\n",
    "    \n",
    "    def __init__(self, s1, s2, s3):\n",
    "        print(\"MidExam __init__()\")\n",
    "        \n",
    "        self.mid_kor_score = s1\n",
    "        self.mid_eng_score = s2\n",
    "        self.mid_mat_score = s3\n",
    "        \n",
    "    def print_scores(self):\n",
    "        print(f\"self.mid_kor_score : {self.mid_kor_score}\")\n",
    "        print(f\"self.mid_eng_score : {self.mid_eng_score}\")\n",
    "        print(f\"self.mid_mat_score : {self.mid_mat_score}\")\n",
    "        \n",
    "class EndExam(MidExam):\n",
    "    \n",
    "    def __init__(self, s1, s2, s3, s4, s5, s6):\n",
    "        print(\"EndExam __init__()\")\n",
    "        \n",
    "        super().__init__(s1, s2, s3)\n",
    "        \n",
    "        self.end_kor_score = s4\n",
    "        self.end_eng_score = s5\n",
    "        self.end_mat_score = s6\n",
    "        \n",
    "    def print_scores(self):\n",
    "        super().print_scores()\n",
    "        print(f\"self.end_kor_score : {self.end_kor_score}\")\n",
    "        print(f\"self.end_eng_score : {self.end_eng_score}\")\n",
    "        print(f\"self.end_mat_score : {self.end_mat_score}\")\n",
    "        \n",
    "    def get_total_score(self):\n",
    "        total = self.mid_kor_score + self.mid_eng_score + self.mid_mat_score\n",
    "        total += self.end_kor_score + self.end_eng_score + self.end_mat_score\n",
    "        return total\n",
    "        \n",
    "    def get_average_score(self):\n",
    "        return self.get_total_score() / 6"
   ]
  },
  {
   "cell_type": "code",
   "execution_count": 107,
   "id": "47ec713e",
   "metadata": {},
   "outputs": [
    {
     "name": "stdout",
     "output_type": "stream",
     "text": [
      "EndExam __init__()\n",
      "MidExam __init__()\n",
      "self.mid_kor_score : 85\n",
      "self.mid_eng_score : 90\n",
      "self.mid_mat_score : 88\n",
      "self.end_kor_score : 75\n",
      "self.end_eng_score : 85\n",
      "self.end_mat_score : 95\n"
     ]
    }
   ],
   "source": [
    "exam = EndExam(85, 90, 88, 75, 85, 95)\n",
    "exam.print_scores()"
   ]
  },
  {
   "cell_type": "code",
   "execution_count": 108,
   "id": "4d743387",
   "metadata": {},
   "outputs": [
    {
     "data": {
      "text/plain": [
       "518"
      ]
     },
     "execution_count": 108,
     "metadata": {},
     "output_type": "execute_result"
    }
   ],
   "source": [
    "exam.get_total_score()"
   ]
  },
  {
   "cell_type": "code",
   "execution_count": 110,
   "id": "8b59ecee",
   "metadata": {},
   "outputs": [
    {
     "data": {
      "text/plain": [
       "86.33"
      ]
     },
     "execution_count": 110,
     "metadata": {},
     "output_type": "execute_result"
    }
   ],
   "source": [
    "round(exam.get_average_score(), 2)"
   ]
  },
  {
   "cell_type": "markdown",
   "id": "3da187cd",
   "metadata": {},
   "source": [
    "## 클래스 다중 상속 "
   ]
  },
  {
   "cell_type": "code",
   "execution_count": 111,
   "id": "329ce0b1",
   "metadata": {},
   "outputs": [],
   "source": [
    "class Car01:\n",
    "    \n",
    "    def drive(self):\n",
    "        print(\"[Car01] drive() method called!!\")\n",
    "        \n",
    "class Car02:\n",
    "    \n",
    "    def turbo(self):\n",
    "        print(\"[Car02] turbo() method called!!\")\n",
    "        \n",
    "class Car03:\n",
    "    \n",
    "    def fly(self):\n",
    "        print(\"[Car03] fly() method called!!\")\n",
    "        \n",
    "class NewCar(Car01, Car02, Car03):\n",
    "    \n",
    "    def __init__(self):\n",
    "        pass"
   ]
  },
  {
   "cell_type": "code",
   "execution_count": 112,
   "id": "fd5852b8",
   "metadata": {},
   "outputs": [
    {
     "name": "stdout",
     "output_type": "stream",
     "text": [
      "[Car01] drive() method called!!\n"
     ]
    }
   ],
   "source": [
    "new_car = NewCar()\n",
    "\n",
    "new_car.drive()"
   ]
  },
  {
   "cell_type": "code",
   "execution_count": 113,
   "id": "6672905b",
   "metadata": {},
   "outputs": [
    {
     "name": "stdout",
     "output_type": "stream",
     "text": [
      "[Car02] turbo() method called!!\n"
     ]
    }
   ],
   "source": [
    "new_car.turbo()"
   ]
  },
  {
   "cell_type": "code",
   "execution_count": 114,
   "id": "3c69379f",
   "metadata": {},
   "outputs": [
    {
     "name": "stdout",
     "output_type": "stream",
     "text": [
      "[Car03] fly() method called!!\n"
     ]
    }
   ],
   "source": [
    "new_car.fly()"
   ]
  },
  {
   "cell_type": "code",
   "execution_count": 115,
   "id": "61ed3c2a",
   "metadata": {},
   "outputs": [],
   "source": [
    "class BasicCalculator:\n",
    "    \n",
    "    def add(self, n1, n2):\n",
    "        return n1 + n2\n",
    "    \n",
    "    def sub(self, n1, n2):\n",
    "        return n1 - n2\n",
    "    \n",
    "    def mul(self, n1, n2):\n",
    "        return n1 * n2\n",
    "    \n",
    "    def div(self, n1, n2):\n",
    "        return n1 / n2\n",
    "    \n",
    "class DeveloperCalculator:\n",
    "    \n",
    "    def mod(self, n1, n2):\n",
    "        return n1 % n2\n",
    "    \n",
    "    def flo(self, n1, n2):\n",
    "        return n1 // n2\n",
    "    \n",
    "    def exp(self, n1, n2):\n",
    "        return n1 ** n2\n",
    "    \n",
    "    \n",
    "class MyCalculator(BasicCalculator, DeveloperCalculator):\n",
    "    \n",
    "    def __init__(self):\n",
    "        pass"
   ]
  },
  {
   "cell_type": "code",
   "execution_count": 116,
   "id": "15ef88e4",
   "metadata": {},
   "outputs": [],
   "source": [
    "my_cal = MyCalculator()"
   ]
  },
  {
   "cell_type": "code",
   "execution_count": 117,
   "id": "6e2c86eb",
   "metadata": {},
   "outputs": [
    {
     "data": {
      "text/plain": [
       "50"
      ]
     },
     "execution_count": 117,
     "metadata": {},
     "output_type": "execute_result"
    }
   ],
   "source": [
    "my_cal.mul(10, 5)"
   ]
  },
  {
   "cell_type": "code",
   "execution_count": 118,
   "id": "e1569476",
   "metadata": {},
   "outputs": [
    {
     "data": {
      "text/plain": [
       "5"
      ]
     },
     "execution_count": 118,
     "metadata": {},
     "output_type": "execute_result"
    }
   ],
   "source": [
    "my_cal.flo(10, 2)"
   ]
  },
  {
   "cell_type": "code",
   "execution_count": 119,
   "id": "a67f30c7",
   "metadata": {},
   "outputs": [
    {
     "data": {
      "text/plain": [
       "10000000000"
      ]
     },
     "execution_count": 119,
     "metadata": {},
     "output_type": "execute_result"
    }
   ],
   "source": [
    "my_cal.exp(10, 10)"
   ]
  },
  {
   "cell_type": "markdown",
   "id": "57252c37",
   "metadata": {},
   "source": [
    "## 다중상속은 너무 남발하여 사용하면 안좋다.\n",
    "- 중복된 코드가 있을 경우 객체지향 면에서 좋지 않다."
   ]
  },
  {
   "cell_type": "markdown",
   "id": "30f3fac1",
   "metadata": {},
   "source": [
    "---"
   ]
  },
  {
   "cell_type": "markdown",
   "id": "b73ced67",
   "metadata": {},
   "source": [
    "## 오버라이딩\n",
    "- 하위 클래스에서 상위 클래스의 메서드를 재정의 한다."
   ]
  },
  {
   "cell_type": "code",
   "execution_count": 122,
   "id": "8cc7849c",
   "metadata": {},
   "outputs": [],
   "source": [
    "class Robot:\n",
    "    \n",
    "    def __init__(self, c, h, w):\n",
    "        self.color = c\n",
    "        self.height = h\n",
    "        self.weight = w\n",
    "        \n",
    "    def fire(self):\n",
    "        print(\"미사일 발사!!!\")\n",
    "        \n",
    "    def print_robot_info(self):\n",
    "        print(f\"self.color : {self.color}\")\n",
    "        print(f\"self.height : {self.height}\")\n",
    "        print(f\"self.weight : {self.weight}\")\n",
    "        \n",
    "class NewRobot(Robot):\n",
    "    \n",
    "    def __init__(self, c, h, w):\n",
    "        super().__init__( c, h, w)\n",
    "        \n",
    "    def fire(self):\n",
    "        print(\"레이저 발사!!!\")"
   ]
  },
  {
   "cell_type": "code",
   "execution_count": 123,
   "id": "6c970add",
   "metadata": {},
   "outputs": [],
   "source": [
    "my_rb = NewRobot(10, 10, 10)"
   ]
  },
  {
   "cell_type": "code",
   "execution_count": 124,
   "id": "6366409f",
   "metadata": {},
   "outputs": [
    {
     "name": "stdout",
     "output_type": "stream",
     "text": [
      "레이저 발사!!!\n"
     ]
    }
   ],
   "source": [
    "my_rb.fire()"
   ]
  },
  {
   "cell_type": "code",
   "execution_count": 125,
   "id": "9550b996",
   "metadata": {},
   "outputs": [],
   "source": [
    "class TriangleArea:\n",
    "    def __init__(self, w, h):\n",
    "        self.width = w\n",
    "        self.height = h\n",
    "        \n",
    "    def print_triangle_area_info(self):\n",
    "        print(f\"self.width : {self.width}\")\n",
    "        print(f\"self.height : {self.height}\")\n",
    "        \n",
    "    def get_area(self):\n",
    "        return self.width * self.height / 2"
   ]
  },
  {
   "cell_type": "code",
   "execution_count": 134,
   "id": "2025f5bd",
   "metadata": {},
   "outputs": [],
   "source": [
    "class NewTriangleArea(TriangleArea):\n",
    "    def __init__(self, w, h):\n",
    "        super().__init__(w, h)\n",
    "        \n",
    "    def get_area(self):\n",
    "        return str(super().get_area()) + \"cm™\""
   ]
  },
  {
   "cell_type": "code",
   "execution_count": 135,
   "id": "c41f6346",
   "metadata": {},
   "outputs": [
    {
     "name": "stdout",
     "output_type": "stream",
     "text": [
      "self.width : 7\n",
      "self.height : 5\n"
     ]
    }
   ],
   "source": [
    "ta = NewTriangleArea(7,5)\n",
    "ta.print_triangle_area_info()"
   ]
  },
  {
   "cell_type": "code",
   "execution_count": 136,
   "id": "4d330965",
   "metadata": {},
   "outputs": [
    {
     "data": {
      "text/plain": [
       "'17.5cm™'"
      ]
     },
     "execution_count": 136,
     "metadata": {},
     "output_type": "execute_result"
    }
   ],
   "source": [
    "ta.get_area()"
   ]
  },
  {
   "cell_type": "markdown",
   "id": "52da5815",
   "metadata": {},
   "source": [
    "## 추상클래스\n",
    "- 상위 클래스에서 하위 클레스에 메서드 구현을 강요한다."
   ]
  },
  {
   "cell_type": "code",
   "execution_count": 148,
   "id": "19bed872",
   "metadata": {},
   "outputs": [],
   "source": [
    "from abc import ABCMeta\n",
    "from abc import abstractmethod\n",
    "\n",
    "\n",
    "class AirPlane(metaclass=ABCMeta):\n",
    "    \n",
    "    @abstractmethod\n",
    "    def flight(self):\n",
    "        pass\n",
    "    \n",
    "    def forward(self):\n",
    "        print(\"전진!!\")\n",
    "        \n",
    "    def backward(self):\n",
    "        print(\"후진!!\")\n",
    "        \n",
    "class AirLiner(AirPlane):\n",
    "    \n",
    "    def __init__(self, c):\n",
    "        self.color = c\n",
    "\n",
    "    def flight(self):\n",
    "        print(\"시속 400km/h 비행!!\")\n",
    "\n",
    "class FightPlane(AirPlane):\n",
    "    \n",
    "    def __init__(self, c):\n",
    "        self.color = c\n",
    "        \n",
    "    def flight(self):\n",
    "        print(\"시속 700km/h 비행!!\")"
   ]
  },
  {
   "cell_type": "code",
   "execution_count": 149,
   "id": "1b4df67c",
   "metadata": {},
   "outputs": [
    {
     "name": "stdout",
     "output_type": "stream",
     "text": [
      "시속 400km/h 비행!!\n"
     ]
    }
   ],
   "source": [
    "al = AirLiner(\"Red\")\n",
    "al.flight()"
   ]
  },
  {
   "cell_type": "code",
   "execution_count": 150,
   "id": "831bd568",
   "metadata": {},
   "outputs": [
    {
     "name": "stdout",
     "output_type": "stream",
     "text": [
      "시속 700km/h 비행!!\n"
     ]
    }
   ],
   "source": [
    "al = FightPlane(\"Red\")\n",
    "al.flight()"
   ]
  },
  {
   "cell_type": "markdown",
   "id": "114a3dc4",
   "metadata": {},
   "source": [
    "## 예외란?\n",
    "- 예상하지 못한 문제로 프로그램이 실행이 어려운 상태\n",
    "- 예외란, 문접적인 문제는 없으나 실행 중 발생하는 예상하지 못한 문제이다."
   ]
  },
  {
   "cell_type": "markdown",
   "id": "1bed3b06",
   "metadata": {},
   "source": [
    "## 예외처리란?\n",
    "- 예상하지 못한 예외가 프로그램 실행에 영향이 없도록 한다.\n",
    "\n"
   ]
  },
  {
   "cell_type": "code",
   "execution_count": null,
   "id": "873d42d3",
   "metadata": {},
   "outputs": [],
   "source": []
  }
 ],
 "metadata": {
  "kernelspec": {
   "display_name": "Python 3 (ipykernel)",
   "language": "python",
   "name": "python3"
  },
  "language_info": {
   "codemirror_mode": {
    "name": "ipython",
    "version": 3
   },
   "file_extension": ".py",
   "mimetype": "text/x-python",
   "name": "python",
   "nbconvert_exporter": "python",
   "pygments_lexer": "ipython3",
   "version": "3.8.11"
  }
 },
 "nbformat": 4,
 "nbformat_minor": 5
}

{
 "cells": [
  {
   "cell_type": "code",
   "execution_count": 1,
   "id": "57607fc4",
   "metadata": {},
   "outputs": [],
   "source": [
    "class Car:\n",
    "    \n",
    "    def __init__(self, color, length):\n",
    "        self.color = color\n",
    "        self.length = length\n",
    "        \n",
    "    def do_stop(self):\n",
    "        print(\"Car STOP!!\")\n",
    "        \n",
    "    def do_start(self):\n",
    "        print(\"Car START!!\")\n"
   ]
  },
  {
   "cell_type": "code",
   "execution_count": 2,
   "id": "4e3776dd",
   "metadata": {},
   "outputs": [
    {
     "data": {
      "text/plain": [
       "<__main__.Car at 0x22ff6d95fa0>"
      ]
     },
     "execution_count": 2,
     "metadata": {},
     "output_type": "execute_result"
    }
   ],
   "source": [
    "car1 = Car(\"Red\", 120)\n",
    "car1"
   ]
  },
  {
   "cell_type": "code",
   "execution_count": 3,
   "id": "da82c4cc",
   "metadata": {},
   "outputs": [
    {
     "name": "stdout",
     "output_type": "stream",
     "text": [
      "Car START!!\n"
     ]
    }
   ],
   "source": [
    "car1.do_start()"
   ]
  },
  {
   "cell_type": "code",
   "execution_count": 5,
   "id": "5d43c081",
   "metadata": {},
   "outputs": [
    {
     "name": "stdout",
     "output_type": "stream",
     "text": [
      "Car STOP!!\n"
     ]
    }
   ],
   "source": [
    "car1.do_stop()"
   ]
  },
  {
   "cell_type": "code",
   "execution_count": 7,
   "id": "d7454492",
   "metadata": {},
   "outputs": [
    {
     "data": {
      "text/plain": [
       "{'color': 'Red', 'length': 120}"
      ]
     },
     "execution_count": 7,
     "metadata": {},
     "output_type": "execute_result"
    }
   ],
   "source": [
    "car1.__dict__"
   ]
  },
  {
   "cell_type": "code",
   "execution_count": 9,
   "id": "6b484472",
   "metadata": {},
   "outputs": [
    {
     "data": {
      "text/plain": [
       "'Red'"
      ]
     },
     "execution_count": 9,
     "metadata": {},
     "output_type": "execute_result"
    }
   ],
   "source": [
    "car1.color"
   ]
  },
  {
   "cell_type": "code",
   "execution_count": 10,
   "id": "105e7861",
   "metadata": {},
   "outputs": [
    {
     "data": {
      "text/plain": [
       "120"
      ]
     },
     "execution_count": 10,
     "metadata": {},
     "output_type": "execute_result"
    }
   ],
   "source": [
    "car1.length"
   ]
  },
  {
   "cell_type": "code",
   "execution_count": 11,
   "id": "72cb0bdc",
   "metadata": {},
   "outputs": [],
   "source": [
    "car1.color = \"Blue\""
   ]
  },
  {
   "cell_type": "code",
   "execution_count": 13,
   "id": "ea7555df",
   "metadata": {},
   "outputs": [
    {
     "data": {
      "text/plain": [
       "'Blue'"
      ]
     },
     "execution_count": 13,
     "metadata": {},
     "output_type": "execute_result"
    }
   ],
   "source": [
    "car1.color"
   ]
  },
  {
   "cell_type": "code",
   "execution_count": 28,
   "id": "cb1d1460",
   "metadata": {},
   "outputs": [],
   "source": [
    "class Marine:\n",
    "    def __init__(self, a, b):\n",
    "        self.a = a\n",
    "        self.b = b\n",
    "        \n",
    "    def attack(self):\n",
    "        print(\"마린 공격력 :\", self.a)\n",
    "        \n",
    "    def gard(self):\n",
    "        print(\"마린 방어력 :\", self.b)\n",
    "        \n",
    "class MarineUpdate(Marine):\n",
    "    def __init__(self, a, b):\n",
    "        super().__init__(a, b)\n",
    "        \n",
    "        "
   ]
  },
  {
   "cell_type": "code",
   "execution_count": 29,
   "id": "0e4baf7c",
   "metadata": {},
   "outputs": [
    {
     "name": "stdout",
     "output_type": "stream",
     "text": [
      "마린 공격력 : 5\n"
     ]
    }
   ],
   "source": [
    "marine_update = MarineUpdate(5, 10)\n",
    "marine_update.attack()"
   ]
  },
  {
   "cell_type": "code",
   "execution_count": 30,
   "id": "eb87320c",
   "metadata": {},
   "outputs": [],
   "source": [
    "class NormalCar:\n",
    "    \n",
    "    def drive(self):\n",
    "        print(\"[NormalCar] drive() called\")\n",
    "        \n",
    "    def back(self):\n",
    "        print(\"[NormalCar] back() called\")\n",
    "        \n",
    "class TurboCar(NormalCar):\n",
    "    \n",
    "    def turbo(self):\n",
    "        print(\"[TurboCar] turbo() called\")"
   ]
  },
  {
   "cell_type": "code",
   "execution_count": 31,
   "id": "129e361b",
   "metadata": {},
   "outputs": [
    {
     "name": "stdout",
     "output_type": "stream",
     "text": [
      "[NormalCar] back() called\n"
     ]
    }
   ],
   "source": [
    "turbo_car = TurboCar()\n",
    "turbo_car.back()"
   ]
  },
  {
   "cell_type": "code",
   "execution_count": 39,
   "id": "934b2700",
   "metadata": {},
   "outputs": [],
   "source": [
    "class P_Class:\n",
    "    def __init__(self, a, b):\n",
    "        print(\"P_Class 생성차 초기화\")\n",
    "        self.a = a\n",
    "        self.b = b\n",
    "\n",
    "class C_Class(P_Class):\n",
    "    def __init__(self, c, d):\n",
    "        P_Class.__init__(self, c, d)\n",
    "        super().__init__(c, d)\n",
    "        print(\"C_Class 생성차 초기화\")\n",
    "        self.c = c\n",
    "        self.d = d\n",
    "        "
   ]
  },
  {
   "cell_type": "code",
   "execution_count": 40,
   "id": "66cc2646",
   "metadata": {},
   "outputs": [
    {
     "name": "stdout",
     "output_type": "stream",
     "text": [
      "P_Class 생성차 초기화\n",
      "P_Class 생성차 초기화\n",
      "C_Class 생성차 초기화\n"
     ]
    }
   ],
   "source": [
    "c_class = C_Class(5, 6)"
   ]
  },
  {
   "cell_type": "code",
   "execution_count": 42,
   "id": "fa0d0425",
   "metadata": {},
   "outputs": [],
   "source": [
    "class MidExam:\n",
    "    \n",
    "    def __init__(self, s1, s2, s3):\n",
    "        print(\"[MidExam]__init__ ()\")\n",
    "        \n",
    "        self.mid_kor_score = s1\n",
    "        self.mid_eng_score = s2\n",
    "        self.mid_mat_score = s3\n",
    "        \n",
    "    def print_scores(self):\n",
    "        print(f\"self.mid_kor_score : {self.mid_kor_score}\")\n",
    "        print(f\"self.mid_eng_score : {self.mid_eng_score}\")\n",
    "        print(f\"self.mid_mat_score : {self.mid_mat_score}\")\n",
    "        \n",
    "        \n",
    "class EndExam(MidExam):\n",
    "    \n",
    "    def __init__(self, s1, s2, s3, s4, s5, s6):\n",
    "        print(\"[EndExam]__init__()\")\n",
    "        \n",
    "        super().__init__(s1, s2, s3)\n",
    "        \n",
    "        self.end_kor_score = s4\n",
    "        self.end_eng_score = s5\n",
    "        self.end_mat_score = s6\n",
    "        \n",
    "    def print_scores(self):\n",
    "        super().print_scores()\n",
    "        print(f\"self.end_kor_score : {self.end_kor_score}\")\n",
    "        print(f\"self.end_eng_score : {self.end_eng_score}\")\n",
    "        print(f\"self.end_mat_score : {self.end_mat_score}\")\n",
    "        \n",
    "    def get_total_scores(self):\n",
    "        total = [self.mid_eng_score, self.mid_kor_score, self.mid_mat_score, self.end_eng_score, self.end_kor_score, self.end_mat_score]\n",
    "        return sum(total)\n",
    "    \n",
    "    def get_avg_scores(self):\n",
    "        return round(self.get_total_scores()/6, 2)    \n",
    "        \n",
    "        "
   ]
  },
  {
   "cell_type": "code",
   "execution_count": 43,
   "id": "760a42e4",
   "metadata": {},
   "outputs": [
    {
     "name": "stdout",
     "output_type": "stream",
     "text": [
      "[EndExam]__init__()\n",
      "[MidExam]__init__ ()\n",
      "self.mid_kor_score : 85\n",
      "self.mid_eng_score : 90\n",
      "self.mid_mat_score : 88\n",
      "self.end_kor_score : 75\n",
      "self.end_eng_score : 85\n",
      "self.end_mat_score : 95\n"
     ]
    }
   ],
   "source": [
    "exam = EndExam(85, 90, 88, 75, 85, 95)\n",
    "exam.print_scores()"
   ]
  },
  {
   "cell_type": "code",
   "execution_count": 44,
   "id": "77f0ddc1",
   "metadata": {},
   "outputs": [
    {
     "data": {
      "text/plain": [
       "518"
      ]
     },
     "execution_count": 44,
     "metadata": {},
     "output_type": "execute_result"
    }
   ],
   "source": [
    "exam.get_total_scores()"
   ]
  },
  {
   "cell_type": "code",
   "execution_count": 45,
   "id": "735481b8",
   "metadata": {},
   "outputs": [
    {
     "data": {
      "text/plain": [
       "86.33"
      ]
     },
     "execution_count": 45,
     "metadata": {},
     "output_type": "execute_result"
    }
   ],
   "source": [
    "exam.get_avg_scores()"
   ]
  },
  {
   "cell_type": "markdown",
   "id": "2f867f22",
   "metadata": {},
   "source": [
    "### 추상 클래스"
   ]
  },
  {
   "cell_type": "code",
   "execution_count": 49,
   "id": "c350807e",
   "metadata": {},
   "outputs": [],
   "source": [
    "from abc import ABCMeta\n",
    "from abc import abstractmethod\n",
    "\n",
    "\n",
    "class AirPlane(metaclass=ABCMeta):\n",
    "    \n",
    "    @abstractmethod\n",
    "    def flight(self):\n",
    "        pass\n",
    "    \n",
    "class AirLiner(AirPlane):\n",
    "    \n",
    "    def __init__(self):\n",
    "        pass\n",
    "    \n",
    "    def flight(self):\n",
    "        print(\"추상클래스 생성 했습니다.\")"
   ]
  },
  {
   "cell_type": "code",
   "execution_count": 51,
   "id": "e26dbd9b",
   "metadata": {},
   "outputs": [
    {
     "name": "stdout",
     "output_type": "stream",
     "text": [
      "추상클래스 생성 했습니다.\n"
     ]
    }
   ],
   "source": [
    "test = AirLiner()\n",
    "test.flight()"
   ]
  },
  {
   "cell_type": "markdown",
   "id": "4a0b0830",
   "metadata": {},
   "source": [
    "### Exception 클래스"
   ]
  },
  {
   "cell_type": "code",
   "execution_count": 57,
   "id": "fb241a3b",
   "metadata": {},
   "outputs": [
    {
     "name": "stdout",
     "output_type": "stream",
     "text": [
      "Error : 0으로 나눌 수 없습니다.\n"
     ]
    }
   ],
   "source": [
    "class DivsionError:\n",
    "    def __init__(self):\n",
    "        Exception(\"test\")\n",
    "\n",
    "num1 = 10\n",
    "num2 = 0\n",
    "\n",
    "try:\n",
    "    if not num2:\n",
    "        raise Exception(\"0으로 나눌 수 없습니다.\")\n",
    "    \n",
    "except Exception as e:\n",
    "    print(\"Error :\", str(e))"
   ]
  },
  {
   "cell_type": "markdown",
   "id": "5f5a3b88",
   "metadata": {},
   "source": [
    "### 사용자 Exception 클래스"
   ]
  },
  {
   "cell_type": "code",
   "execution_count": 62,
   "id": "597777b1",
   "metadata": {},
   "outputs": [],
   "source": [
    "class NotUseZeroException(Exception):\n",
    "    def __init__(self, n):\n",
    "        super().__init__(f\"{n}은(는) 사용할 수 없습니다.\")\n",
    "        \n",
    "def div_cal(num1, num2):\n",
    "    if num2 == 0:\n",
    "        raise NotUseZeroException(num2)\n",
    "    else:\n",
    "        print(f\"{num1}/{num2} : {num1/num2}\")"
   ]
  },
  {
   "cell_type": "code",
   "execution_count": 65,
   "id": "b9d940ba",
   "metadata": {},
   "outputs": [
    {
     "name": "stdout",
     "output_type": "stream",
     "text": [
      "0은(는) 사용할 수 없습니다.\n"
     ]
    }
   ],
   "source": [
    "try:\n",
    "    div_cal(10, 0)\n",
    "except Exception as e:\n",
    "    print(e)"
   ]
  },
  {
   "cell_type": "code",
   "execution_count": 73,
   "id": "05d32277",
   "metadata": {},
   "outputs": [],
   "source": [
    "class PassWordLengthShortException(Exception):\n",
    "    def __init__(self, passwd):\n",
    "        super().__init__(f\"{passwd}는 너무 짧아서 사용할 수 없습니다.(5자 미만입니다.)\")\n",
    "    \n",
    "class PassWordLengthLongException(Exception):\n",
    "    def __init__(self, passwd):\n",
    "        super().__init__(f\"{passwd}는 너무 길어서 사용할 수 없습니다.(10자 초과입니다.)\")\n",
    "\n",
    "class PasswordWrongException(Exception):\n",
    "    def __init__(self, passwd):\n",
    "        super().__init__(f\"{passwd}는 일치하지 않습니다.\")\n",
    "        \n",
    "def password_check(passwd):\n",
    "    try:\n",
    "        if len(passwd) < 5:\n",
    "            raise PassWordLengthShortException(passwd)\n",
    "        elif len(passwd) > 10:\n",
    "            raise PassWordLengthLongException(passwd)\n",
    "        elif passwd != \"12345678\":\n",
    "            raise PasswordWrongException(passwd)\n",
    "        else:\n",
    "            print(\"비밀번호가 일치합니다.\")\n",
    "    except Exception as e:\n",
    "        print(e)\n"
   ]
  },
  {
   "cell_type": "code",
   "execution_count": 77,
   "id": "3735d451",
   "metadata": {},
   "outputs": [
    {
     "name": "stdout",
     "output_type": "stream",
     "text": [
      "비밀번호가 일치합니다.\n"
     ]
    }
   ],
   "source": [
    "password_check(\"12345678\")"
   ]
  },
  {
   "cell_type": "code",
   "execution_count": 78,
   "id": "59654a7a",
   "metadata": {},
   "outputs": [],
   "source": [
    "class PassWordLengthShortException(Exception):\n",
    "    def __init__(self, passwd):\n",
    "        super().__init__(f\"{passwd}는 너무 짧아서 사용할 수 없습니다.(5자 미만입니다.)\")\n",
    "    \n",
    "class PassWordLengthLongException(Exception):\n",
    "    def __init__(self, passwd):\n",
    "        super().__init__(f\"{passwd}는 너무 길어서 사용할 수 없습니다.(10자 초과입니다.)\")\n",
    "\n",
    "class PasswordWrongException(Exception):\n",
    "    def __init__(self, passwd):\n",
    "        super().__init__(f\"{passwd}는 일치하지 않습니다.\")\n",
    "        \n",
    "def password_check(passwd):\n",
    "    try:\n",
    "        if len(passwd) < 5:\n",
    "            raise PassWordLengthShortException(passwd)\n",
    "        elif len(passwd) > 10:\n",
    "            raise PassWordLengthLongException(passwd)\n",
    "        elif passwd != \"12345678\":\n",
    "            raise PasswordWrongException(passwd)\n",
    "        else:\n",
    "            print(\"비밀번호가 일치합니다.\")\n",
    "    except PassWordLengthShortException as e:\n",
    "        print(e)\n",
    "        \n",
    "    except PassWordLengthLongException as e:\n",
    "        print(e)\n",
    "        \n",
    "    except PasswordWrongException as e:\n",
    "        print(e)\n"
   ]
  },
  {
   "cell_type": "code",
   "execution_count": 81,
   "id": "e5cf826e",
   "metadata": {},
   "outputs": [
    {
     "name": "stdout",
     "output_type": "stream",
     "text": [
      "12345678123123123는 너무 길어서 사용할 수 없습니다.(10자 초과입니다.)\n",
      "123는 너무 짧아서 사용할 수 없습니다.(5자 미만입니다.)\n",
      "12345677는 일치하지 않습니다.\n"
     ]
    }
   ],
   "source": [
    "password_check(\"12345678123123123\")\n",
    "password_check(\"123\")\n",
    "password_check(\"12345677\")"
   ]
  },
  {
   "cell_type": "code",
   "execution_count": null,
   "id": "06d6fca9",
   "metadata": {},
   "outputs": [],
   "source": []
  }
 ],
 "metadata": {
  "kernelspec": {
   "display_name": "Python 3 (ipykernel)",
   "language": "python",
   "name": "python3"
  },
  "language_info": {
   "codemirror_mode": {
    "name": "ipython",
    "version": 3
   },
   "file_extension": ".py",
   "mimetype": "text/x-python",
   "name": "python",
   "nbconvert_exporter": "python",
   "pygments_lexer": "ipython3",
   "version": "3.9.7"
  }
 },
 "nbformat": 4,
 "nbformat_minor": 5
}

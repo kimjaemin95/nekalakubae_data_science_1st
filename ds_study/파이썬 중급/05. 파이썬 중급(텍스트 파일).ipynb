{
 "cells": [
  {
   "cell_type": "markdown",
   "id": "7721ce1e",
   "metadata": {},
   "source": [
    "### 기본 함수\n",
    "- open()\n",
    "- read()\n",
    "- write()\n",
    "- close()\n",
    "- 순서 \n",
    "    - 텍스트 파일 -> 파일 열기 -> 읽기 또는 쓰기 -> 파일 닫기"
   ]
  },
  {
   "cell_type": "markdown",
   "id": "bcd3c60a",
   "metadata": {},
   "source": [
    "### 파일 쓰기 연습"
   ]
  },
  {
   "cell_type": "code",
   "execution_count": 6,
   "id": "6234cf3f",
   "metadata": {},
   "outputs": [
    {
     "name": "stdout",
     "output_type": "stream",
     "text": [
      "str_cnt : 13\n"
     ]
    }
   ],
   "source": [
    "file = open(\"./text.txt\", mode=\"w\")\n",
    "\n",
    "str_cnt = file.write(\"Hello World~!\") # 쓰여진 문자열의 문자 길이를 반환\n",
    "print(f\"str_cnt : {str_cnt}\")\n",
    "\n",
    "file.close()"
   ]
  },
  {
   "cell_type": "code",
   "execution_count": 7,
   "id": "21720c60",
   "metadata": {},
   "outputs": [
    {
     "data": {
      "text/plain": [
       "13"
      ]
     },
     "execution_count": 7,
     "metadata": {},
     "output_type": "execute_result"
    }
   ],
   "source": [
    "len(\"Hello World~!\")"
   ]
  },
  {
   "cell_type": "code",
   "execution_count": 30,
   "id": "809bdd32",
   "metadata": {},
   "outputs": [],
   "source": [
    "import time\n",
    "\n",
    "\n",
    "lt = time.localtime()\n",
    "\n",
    "date_str = f\"[{lt.tm_year}년]\" + f\"[{lt.tm_mon}월]\" + f\"[{lt.tm_mday}일] : \"\n",
    "date_str = time.strftime(\"%Y-%m-%d %H:%M:%S %p\") + \" :\"\n",
    "date_str = time.strftime(\"%Y-%m-%d %I:%M:%S %p\") + \" :\"\n",
    "\n",
    "today_schedule = \"파이썬 공부\"\n",
    "\n",
    "\n",
    "file = open(\"./text.txt\", mode=\"w\")\n",
    "file.write(date_str + today_schedule)\n",
    "file.close()\n",
    "\n",
    "\n",
    "\n"
   ]
  },
  {
   "cell_type": "markdown",
   "id": "3d14ec5a",
   "metadata": {},
   "source": [
    "### 파일 읽기 연습"
   ]
  },
  {
   "cell_type": "code",
   "execution_count": 34,
   "id": "b70a51bf",
   "metadata": {},
   "outputs": [
    {
     "name": "stdout",
     "output_type": "stream",
     "text": [
      "2021-10-17 03:59:23 PM :파이썬 공부\n"
     ]
    }
   ],
   "source": [
    "file = open(\"./text.txt\", mode=\"r\", encoding=None)\n",
    "\n",
    "str_data = file.read()\n",
    "print(str_data)\n",
    "\n",
    "file.close()"
   ]
  },
  {
   "cell_type": "code",
   "execution_count": 35,
   "id": "626d661f",
   "metadata": {},
   "outputs": [
    {
     "data": {
      "text/plain": [
       "'파이썬 파이썬 Python'"
      ]
     },
     "execution_count": 35,
     "metadata": {},
     "output_type": "execute_result"
    }
   ],
   "source": [
    "str_data = \"Python Python Python\"\n",
    "str_data.replace(\"Python\", \"파이썬\", 2)"
   ]
  },
  {
   "cell_type": "markdown",
   "id": "27bdc4e4",
   "metadata": {},
   "source": [
    "### 파일 모드\n",
    "- w : 쓰기 모드(파일이 있으면 덮으 쓰기)\n",
    "- a : 쓰기 모드(파일이 있으면 덧붙임)\n",
    "- x : 쓰기 모드(파일이 있으면 에러 발생)\n",
    "- r : 읽기 전용(파일이 없으면 에러 발생)"
   ]
  },
  {
   "cell_type": "code",
   "execution_count": 38,
   "id": "a541acdd",
   "metadata": {},
   "outputs": [],
   "source": [
    "for n in range(1, 100):\n",
    "    with open(\"./num_page.txt\", \"a\") as file:\n",
    "        file.write(f\"{n}\\n\")\n",
    "        "
   ]
  },
  {
   "cell_type": "code",
   "execution_count": 40,
   "id": "fee33cfe",
   "metadata": {},
   "outputs": [],
   "source": [
    "file = open(\"./num_page.txt\", mode=\"r\", encoding=None)\n",
    "\n",
    "str_data = file.read()\n",
    "# print(str_data)\n",
    "\n",
    "file.close()"
   ]
  },
  {
   "cell_type": "markdown",
   "id": "7e58ed2a",
   "metadata": {},
   "source": [
    "### 딕셔너리값 그대로 쓰기"
   ]
  },
  {
   "cell_type": "code",
   "execution_count": 52,
   "id": "e356ce7a",
   "metadata": {},
   "outputs": [],
   "source": [
    "dict_data = {\"A\":1, \"B\":3, \"C\":3}\n",
    "with open(\"./dict_datat.txt\", mode = \"a\") as f:\n",
    "    print(dict_data, file=f)"
   ]
  },
  {
   "cell_type": "markdown",
   "id": "d7382691",
   "metadata": {},
   "source": [
    "### 리스트값 그대로 쓰기"
   ]
  },
  {
   "cell_type": "code",
   "execution_count": 53,
   "id": "c09a7559",
   "metadata": {},
   "outputs": [],
   "source": [
    "list_data = [\"A\", 1, 2 , 3]\n",
    "with open(\"./list_data.txt\", mode=\"a\") as f:\n",
    "    print(list_data, file=f)"
   ]
  },
  {
   "cell_type": "markdown",
   "id": "7e7ac8db",
   "metadata": {},
   "source": [
    "### wirtelines()"
   ]
  },
  {
   "cell_type": "code",
   "execution_count": 45,
   "id": "c23f3af5",
   "metadata": {},
   "outputs": [],
   "source": [
    "language = [\"A\", \"B\", \"C\", \"D\", \"E\"]\n",
    "\n",
    "for item in language:\n",
    "    with open(\"./write_lines.txt\", mode=\"a\") as file:\n",
    "        file.write(item + \"\\n\")"
   ]
  },
  {
   "cell_type": "code",
   "execution_count": 46,
   "id": "82fc495d",
   "metadata": {},
   "outputs": [],
   "source": [
    "language = [\"A\", \"B\", \"C\", \"D\", \"E\"]\n",
    "\n",
    "with open(\"./write_lines.txt\", mode=\"a\") as file:\n",
    "    file.writelines([item + \"\\n\" for item in language])"
   ]
  },
  {
   "cell_type": "markdown",
   "id": "eef78d3c",
   "metadata": {},
   "source": [
    "### readlines()"
   ]
  },
  {
   "cell_type": "code",
   "execution_count": 48,
   "id": "a8be4bc9",
   "metadata": {},
   "outputs": [
    {
     "name": "stdout",
     "output_type": "stream",
     "text": [
      "A\n",
      "B\n",
      "C\n",
      "D\n",
      "E\n",
      "A\n",
      "B\n",
      "C\n",
      "D\n",
      "E\n",
      "\n"
     ]
    }
   ],
   "source": [
    "with open(\"./write_lines.txt\", mode=\"r\") as file:\n",
    "    data = file.read()\n",
    "    print(data)"
   ]
  },
  {
   "cell_type": "code",
   "execution_count": 54,
   "id": "b00ba60b",
   "metadata": {},
   "outputs": [
    {
     "name": "stdout",
     "output_type": "stream",
     "text": [
      "['A\\n', 'B\\n', 'C\\n', 'D\\n', 'E\\n', 'A\\n', 'B\\n', 'C\\n', 'D\\n', 'E\\n']\n"
     ]
    }
   ],
   "source": [
    "with open(\"./write_lines.txt\", mode=\"r\") as file:\n",
    "    data = file.readlines()\n",
    "    print(data)"
   ]
  },
  {
   "cell_type": "code",
   "execution_count": 66,
   "id": "b5c265ba",
   "metadata": {},
   "outputs": [
    {
     "name": "stdout",
     "output_type": "stream",
     "text": [
      "['A', '\\n']\n",
      "['B', '\\n']\n",
      "['C', '\\n']\n",
      "['D', '\\n']\n",
      "['E', '\\n']\n",
      "['A', '\\n']\n",
      "['B', '\\n']\n",
      "['C', '\\n']\n",
      "['D', '\\n']\n"
     ]
    }
   ],
   "source": [
    "with open(\"./write_lines.txt\", mode=\"r\") as file:\n",
    "\n",
    "    for i in range(1,10):\n",
    "        data = file.readline()\n",
    "        print(list(data))"
   ]
  },
  {
   "cell_type": "code",
   "execution_count": null,
   "id": "a9820ef4",
   "metadata": {},
   "outputs": [],
   "source": []
  }
 ],
 "metadata": {
  "kernelspec": {
   "display_name": "Python 3 (ipykernel)",
   "language": "python",
   "name": "python3"
  },
  "language_info": {
   "codemirror_mode": {
    "name": "ipython",
    "version": 3
   },
   "file_extension": ".py",
   "mimetype": "text/x-python",
   "name": "python",
   "nbconvert_exporter": "python",
   "pygments_lexer": "ipython3",
   "version": "3.8.11"
  }
 },
 "nbformat": 4,
 "nbformat_minor": 5
}

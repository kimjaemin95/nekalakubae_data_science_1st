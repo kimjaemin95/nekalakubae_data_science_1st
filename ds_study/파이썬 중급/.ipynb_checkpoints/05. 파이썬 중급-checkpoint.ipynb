{
 "cells": [
  {
   "cell_type": "markdown",
   "id": "b6f7d160",
   "metadata": {},
   "source": [
    "## 함수란?\n",
    "- 파이썬의 함수는 수학의 함수와 동일하다.\n",
    "- 함수는 특정 기능을 재사용하기 위해서 사용한다.\n",
    "- 함수는 def 키워드, 함수명, :, 들여쓰기를 이용해서 선언한다.\n",
    "- 함수 내에서 또 다른 함수를 호출할 수 있다.\n",
    "- pass를 이용해서 실행문을 생략할 수 있다.\n",
    "- 함수 호출 시 함수에 데이터를 전달할 수 있다."
   ]
  },
  {
   "cell_type": "markdown",
   "id": "559652bd",
   "metadata": {},
   "source": [
    "#### 내장 함수 \n",
    "    - 함수는 파이썬에서 기본으로 제공하는 내장함수\n",
    "    \n",
    "#### 사용자 함수\n",
    "    - 사용자가 직접 선언하는 사용자 함수"
   ]
  },
  {
   "cell_type": "markdown",
   "id": "a123944d",
   "metadata": {},
   "source": [
    "#### 인수와 매개변수 개수\n",
    "- `*` (Asterisk)을 이용해서 개수가 정해지지 않은 매개 변수를 전달할 수 있다.\n",
    "- `**` 을 이용해서 key value 형태의 매개 변수를 전달할 수 있다."
   ]
  },
  {
   "cell_type": "code",
   "execution_count": 3,
   "id": "e0523626",
   "metadata": {},
   "outputs": [
    {
     "name": "stdout",
     "output_type": "stream",
     "text": [
      "(1, 2, 3, 4, 5, 6, 7) <class 'tuple'>\n"
     ]
    }
   ],
   "source": [
    "def star(*data):\n",
    "    print(data, type(data))\n",
    "    \n",
    "\n",
    "star(1,2,3,4,5,6,7)"
   ]
  },
  {
   "cell_type": "code",
   "execution_count": 6,
   "id": "5bbc0a39",
   "metadata": {},
   "outputs": [
    {
     "name": "stdout",
     "output_type": "stream",
     "text": [
      "<class 'dict'> {'key1': 10, 'key2': 20}\n"
     ]
    }
   ],
   "source": [
    "def moon(**data):\n",
    "    print(type(data), data)\n",
    "\n",
    "moon(key1=10, key2=20)"
   ]
  },
  {
   "cell_type": "markdown",
   "id": "96da82d9",
   "metadata": {},
   "source": [
    "#### 전역 변수\n",
    "- 함수 밖에 선언된 변수로 어디에서나 사용은 가능하지만 어떤 함수 안에서 전역변수의 데이터를 변경할 수 없다.\n",
    "- 하지만 함수 내에서 global 을 별도로 선언하면 함수 내에서 전역변수의 데이터를 변경할 수 있다."
   ]
  },
  {
   "cell_type": "code",
   "execution_count": 12,
   "id": "a2e25a1b",
   "metadata": {},
   "outputs": [
    {
     "name": "stdout",
     "output_type": "stream",
     "text": [
      "global_val : 20\n",
      "20\n"
     ]
    }
   ],
   "source": [
    "global_val = 10\n",
    "\n",
    "def test():\n",
    "    global global_val\n",
    "    global_val = 20\n",
    "    print(\"global_val :\", global_val)\n",
    "\n",
    "test()\n",
    "print(global_val)"
   ]
  },
  {
   "cell_type": "markdown",
   "id": "528e5134",
   "metadata": {},
   "source": [
    "#### 지역 변수 \n",
    "- 함수 안에 선언된 변수로 함수 안에서만 사용 가능하다.\n",
    "- 지역 변수를 함수 밖에서 사용 못한다."
   ]
  },
  {
   "cell_type": "markdown",
   "id": "366cf8c2",
   "metadata": {},
   "source": [
    "#### 중첩함수\n",
    "- 함수 안에 또 다른 함수가 있는 형태"
   ]
  },
  {
   "cell_type": "markdown",
   "id": "30dbfaaf",
   "metadata": {},
   "source": [
    "#### lambda 함수\n",
    "- lambda 키워드를 이용하면 함수 선언을 보다 간단하게 할 수 있다."
   ]
  },
  {
   "cell_type": "code",
   "execution_count": 16,
   "id": "3571e64b",
   "metadata": {},
   "outputs": [
    {
     "data": {
      "text/plain": [
       "(2, 3, 4)"
      ]
     },
     "execution_count": 16,
     "metadata": {},
     "output_type": "execute_result"
    }
   ],
   "source": [
    "t = lambda *x : x\n",
    "t(2,3,4)"
   ]
  },
  {
   "cell_type": "code",
   "execution_count": 18,
   "id": "984a8548",
   "metadata": {},
   "outputs": [
    {
     "data": {
      "text/plain": [
       "{'key1': 10, 'key2': 20}"
      ]
     },
     "execution_count": 18,
     "metadata": {},
     "output_type": "execute_result"
    }
   ],
   "source": [
    "t = lambda **x : x\n",
    "t(key1=10, key2=20)"
   ]
  },
  {
   "cell_type": "code",
   "execution_count": 19,
   "id": "0d084f1c",
   "metadata": {},
   "outputs": [
    {
     "data": {
      "text/plain": [
       "100"
      ]
     },
     "execution_count": 19,
     "metadata": {},
     "output_type": "execute_result"
    }
   ],
   "source": [
    "t = lambda x : x**2\n",
    "t(10)"
   ]
  },
  {
   "cell_type": "code",
   "execution_count": 26,
   "id": "ba8c7b51",
   "metadata": {},
   "outputs": [
    {
     "data": {
      "text/plain": [
       "2"
      ]
     },
     "execution_count": 26,
     "metadata": {},
     "output_type": "execute_result"
    }
   ],
   "source": [
    "(lambda x : x)(2)"
   ]
  },
  {
   "cell_type": "code",
   "execution_count": null,
   "id": "6972da69",
   "metadata": {},
   "outputs": [],
   "source": []
  }
 ],
 "metadata": {
  "kernelspec": {
   "display_name": "Python 3 (ipykernel)",
   "language": "python",
   "name": "python3"
  },
  "language_info": {
   "codemirror_mode": {
    "name": "ipython",
    "version": 3
   },
   "file_extension": ".py",
   "mimetype": "text/x-python",
   "name": "python",
   "nbconvert_exporter": "python",
   "pygments_lexer": "ipython3",
   "version": "3.8.11"
  }
 },
 "nbformat": 4,
 "nbformat_minor": 5
}

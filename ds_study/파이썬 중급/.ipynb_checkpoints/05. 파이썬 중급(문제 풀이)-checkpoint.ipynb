{
 "cells": [
  {
   "cell_type": "markdown",
   "id": "ce167453",
   "metadata": {},
   "source": [
    "### 다음과 같이 출력될 수 있도록 등비 수열의 n번째 값과 합을 출력하는 함수를 만들어보자."
   ]
  },
  {
   "cell_type": "code",
   "execution_count": 6,
   "id": "aac4e7d9",
   "metadata": {},
   "outputs": [
    {
     "name": "stdout",
     "output_type": "stream",
     "text": [
      "1번째 항의 값 : 2\n",
      "1번째 항까지의 합 : 2\n",
      "2번째 항의 값 : 6\n",
      "2번째 항까지의 합 : 8\n",
      "3번째 항의 값 : 18\n",
      "3번째 항까지의 합 : 26\n",
      "4번째 항의 값 : 54\n",
      "4번째 항까지의 합 : 80\n",
      "5번째 항의 값 : 162\n",
      "5번째 항까지의 합 : 242\n"
     ]
    }
   ],
   "source": [
    "a1 = 2\n",
    "r = 3\n",
    "n = 5\n",
    "\n",
    "for i in range(1, n+1):\n",
    "    \n",
    "    a_n = a1 * r ** (i - 1)\n",
    "    a_sum = a1 * (1 - r**i) / (1 - r) \n",
    "    print(f\"{i}번째 항의 값 : {a_n}\")\n",
    "    print(f\"{i}번째 항까지의 합 : {int(a_sum)}\")"
   ]
  },
  {
   "cell_type": "markdown",
   "id": "9517eb11",
   "metadata": {},
   "source": [
    "### 과목별 점수를 입력하면 합격 여부를 출력하는 모듈을 만들어보자.\n",
    "- 평균 60점 이상 합격\n",
    "- 과락 40으로 한다."
   ]
  },
  {
   "cell_type": "code",
   "execution_count": 9,
   "id": "1b4c7f82",
   "metadata": {},
   "outputs": [
    {
     "name": "stdout",
     "output_type": "stream",
     "text": [
      "과목1 점수 입력 : 100\n",
      "과목2 점수 입력 : 35\n",
      "과목3 점수 입력 : 85\n",
      "과목4 점수 입력 : 45\n",
      "과목5 점수 입력 : 90\n",
      "100 : Pass\n",
      "35 : Fail\n",
      "85 : Pass\n",
      "45 : Pass\n",
      "90 : Pass\n",
      "총점 : 355\n",
      "평균 : 71.0\n",
      "Final Pass!!\n"
     ]
    }
   ],
   "source": [
    "obj_list = []\n",
    "\n",
    "for num in range(1, 6):\n",
    "    obj = int(input(f\"과목{num} 점수 입력 : \"))\n",
    "    obj_list.append(obj)\n",
    "\n",
    "\n",
    "\n",
    "for score in obj_list:\n",
    "    if score >= 40:\n",
    "        print(f\"{score} : Pass\")\n",
    "    elif score < 40:\n",
    "        print(f\"{score} : Fail\")\n",
    "    \n",
    "    \n",
    "print(\"총점 :\", sum(obj_list))\n",
    "print(\"평균 :\", sum(obj_list)/5)\n",
    "\n",
    "if sum(obj_list)/5 >= 60:\n",
    "    print(\"Final Pass!!\")\n"
   ]
  },
  {
   "cell_type": "markdown",
   "id": "a0270977",
   "metadata": {},
   "source": [
    "### 상품 구매 개수에 따라 할인율이 결정되는 모듈을 만들고, 다음과 같이 계산 결과가 출력되는 프로그램을 만들어보자.\n",
    "- 1개 : 5%\n",
    "- 2개 : 10%\n",
    "- 3개 : 15%\n",
    "- 4개 : 20%\n",
    "- 5개 이상 : 25%"
   ]
  },
  {
   "cell_type": "code",
   "execution_count": 14,
   "id": "7d2bfa1f",
   "metadata": {},
   "outputs": [
    {
     "name": "stdout",
     "output_type": "stream",
     "text": [
      "상품을 구매 하시겠습니까? 1.구매, 2.종료 1\n",
      "상품 가격 입력 : 500\n",
      "상품을 구매 하시겠습니까? 1.구매, 2.종료 1\n",
      "상품 가격 입력 : 1500\n",
      "상품을 구매 하시겠습니까? 1.구매, 2.종료 1\n",
      "상품 가격 입력 : 2000\n",
      "상품을 구매 하시겠습니까? 1.구매, 2.종료 1\n",
      "상품 가격 입력 : 1500\n",
      "상품을 구매 하시겠습니까? 1.구매, 2.종료 1\n",
      "상품 가격 입력 : 2500\n",
      "상품을 구매 하시겠습니까? 1.구매, 2.종료 2\n",
      "매뉴 수량 :  5\n",
      "할인율 :  25\n",
      "합계 :  6,000원\n"
     ]
    }
   ],
   "source": [
    "item_list = []\n",
    "\n",
    "how = int(input(\"상품을 구매 하시겠습니까? 1.구매, 2.종료 \"))\n",
    "\n",
    "while how != 2:\n",
    "    price = int(input(\"상품 가격 입력 : \"))\n",
    "    item_list.append(price)\n",
    "    how = int(input(\"상품을 구매 하시겠습니까? 1.구매, 2.종료 \"))\n",
    "    \n",
    "print(\"매뉴 수량 : \", len(item_list))\n",
    "\n",
    "discound = 0\n",
    "cnt = len(item_list)\n",
    "\n",
    "if cnt == 1:\n",
    "    discound = 5\n",
    "    \n",
    "elif cnt == 2:\n",
    "    discound = 10\n",
    "    \n",
    "elif cnt == 3:\n",
    "    discound = 15\n",
    "\n",
    "elif cnt == 4:\n",
    "    discound = 20\n",
    "    \n",
    "elif cnt >= 5:\n",
    "    discound = 25\n",
    "    \n",
    "print(\"할인율 : \", discound)\n",
    "\n",
    "price_res = sum(item_list) - (sum(item_list) * discound/100)\n",
    "print(f\"합계 :  {format(int(price_res), ',')}원\")"
   ]
  },
  {
   "cell_type": "markdown",
   "id": "da8f58dc",
   "metadata": {},
   "source": [
    "### 로또 모듈을 만들고 다음과 같이 결과가 출력될 수 있도록 프로그램을 만들어보자."
   ]
  },
  {
   "cell_type": "code",
   "execution_count": 29,
   "id": "72eb714a",
   "metadata": {},
   "outputs": [
    {
     "data": {
      "text/plain": [
       "[17, 30, 45, 41, 32, 1]"
      ]
     },
     "execution_count": 29,
     "metadata": {},
     "output_type": "execute_result"
    }
   ],
   "source": [
    "import random\n",
    "\n",
    "data = list(range(1, 46))\n",
    "\n",
    "select = random.sample(data, 6)\n",
    "select"
   ]
  },
  {
   "cell_type": "code",
   "execution_count": 30,
   "id": "1ae89577",
   "metadata": {},
   "outputs": [
    {
     "name": "stdout",
     "output_type": "stream",
     "text": [
      "번호(1~45) 입력17\n",
      "번호(1~45) 입력30\n",
      "번호(1~45) 입력10\n",
      "번호(1~45) 입력5\n",
      "번호(1~45) 입력20\n",
      "번호(1~45) 입력25\n",
      "선택 번호 : [17, 30, 10, 5, 20, 25]\n",
      "기계 번호 : [17, 30, 45, 41, 32, 1]\n",
      "일치 번호 :  [32, 1, 45, 41]\n"
     ]
    }
   ],
   "source": [
    "lotto = []\n",
    "\n",
    "while len(lotto) < 6 :\n",
    "    num = int(input(\"번호(1~45) 입력\"))\n",
    "    if num not in lotto:\n",
    "        lotto.append(num)\n",
    "    else:\n",
    "        print(\"번호가 중복 되었습니다.\")\n",
    "        continue\n",
    "    \n",
    "print(f\"선택 번호 : {lotto}\")\n",
    "print(f\"기계 번호 : {select}\")\n",
    "\n",
    "if len(list(set(select) - set(lotto))) > 0:\n",
    "    print(\"일치 번호 : \", list(set(select) - set(lotto)))\n",
    "    \n",
    "elif len(list(set(lotto) - set(select))) > 0:\n",
    "    print(\"일치 번호 : \", list(set(select) - set(lotto)))\n",
    "    \n",
    "else:\n",
    "    print(\"일치 번호 : \", [])\n",
    "    "
   ]
  },
  {
   "cell_type": "markdown",
   "id": "ef7d46b4",
   "metadata": {},
   "source": [
    "### 순열 퍼뮤테이션 사용하기"
   ]
  },
  {
   "cell_type": "code",
   "execution_count": 36,
   "id": "a57bfb94",
   "metadata": {},
   "outputs": [
    {
     "name": "stdout",
     "output_type": "stream",
     "text": [
      "num N 입력 : 8\n",
      "num R 입력 : 3\n",
      "경의 수 : 336\n"
     ]
    }
   ],
   "source": [
    "def get_permutations_cnt(n, r, log=True):\n",
    "    result = 1\n",
    "    \n",
    "    for n in range(n, n-r, -1):\n",
    "        if log:\n",
    "            print(f\"n : {n}\")\n",
    "        result *= n\n",
    "        \n",
    "    return result\n",
    "\n",
    "num_n = int(input(\"num N 입력 : \"))\n",
    "num_r = int(input(\"num R 입력 : \"))\n",
    "print(f\"경의 수 : {get_permutations_cnt(num_n, num_r, False)}\")"
   ]
  },
  {
   "cell_type": "code",
   "execution_count": 37,
   "id": "00c23360",
   "metadata": {},
   "outputs": [
    {
     "name": "stdout",
     "output_type": "stream",
     "text": [
      "p_list : [(1, 2, 3, 4), (1, 2, 3, 5), (1, 2, 4, 3), (1, 2, 4, 5), (1, 2, 5, 3), (1, 2, 5, 4), (1, 3, 2, 4), (1, 3, 2, 5), (1, 3, 4, 2), (1, 3, 4, 5), (1, 3, 5, 2), (1, 3, 5, 4), (1, 4, 2, 3), (1, 4, 2, 5), (1, 4, 3, 2), (1, 4, 3, 5), (1, 4, 5, 2), (1, 4, 5, 3), (1, 5, 2, 3), (1, 5, 2, 4), (1, 5, 3, 2), (1, 5, 3, 4), (1, 5, 4, 2), (1, 5, 4, 3), (2, 1, 3, 4), (2, 1, 3, 5), (2, 1, 4, 3), (2, 1, 4, 5), (2, 1, 5, 3), (2, 1, 5, 4), (2, 3, 1, 4), (2, 3, 1, 5), (2, 3, 4, 1), (2, 3, 4, 5), (2, 3, 5, 1), (2, 3, 5, 4), (2, 4, 1, 3), (2, 4, 1, 5), (2, 4, 3, 1), (2, 4, 3, 5), (2, 4, 5, 1), (2, 4, 5, 3), (2, 5, 1, 3), (2, 5, 1, 4), (2, 5, 3, 1), (2, 5, 3, 4), (2, 5, 4, 1), (2, 5, 4, 3), (3, 1, 2, 4), (3, 1, 2, 5), (3, 1, 4, 2), (3, 1, 4, 5), (3, 1, 5, 2), (3, 1, 5, 4), (3, 2, 1, 4), (3, 2, 1, 5), (3, 2, 4, 1), (3, 2, 4, 5), (3, 2, 5, 1), (3, 2, 5, 4), (3, 4, 1, 2), (3, 4, 1, 5), (3, 4, 2, 1), (3, 4, 2, 5), (3, 4, 5, 1), (3, 4, 5, 2), (3, 5, 1, 2), (3, 5, 1, 4), (3, 5, 2, 1), (3, 5, 2, 4), (3, 5, 4, 1), (3, 5, 4, 2), (4, 1, 2, 3), (4, 1, 2, 5), (4, 1, 3, 2), (4, 1, 3, 5), (4, 1, 5, 2), (4, 1, 5, 3), (4, 2, 1, 3), (4, 2, 1, 5), (4, 2, 3, 1), (4, 2, 3, 5), (4, 2, 5, 1), (4, 2, 5, 3), (4, 3, 1, 2), (4, 3, 1, 5), (4, 3, 2, 1), (4, 3, 2, 5), (4, 3, 5, 1), (4, 3, 5, 2), (4, 5, 1, 2), (4, 5, 1, 3), (4, 5, 2, 1), (4, 5, 2, 3), (4, 5, 3, 1), (4, 5, 3, 2), (5, 1, 2, 3), (5, 1, 2, 4), (5, 1, 3, 2), (5, 1, 3, 4), (5, 1, 4, 2), (5, 1, 4, 3), (5, 2, 1, 3), (5, 2, 1, 4), (5, 2, 3, 1), (5, 2, 3, 4), (5, 2, 4, 1), (5, 2, 4, 3), (5, 3, 1, 2), (5, 3, 1, 4), (5, 3, 2, 1), (5, 3, 2, 4), (5, 3, 4, 1), (5, 3, 4, 2), (5, 4, 1, 2), (5, 4, 1, 3), (5, 4, 2, 1), (5, 4, 2, 3), (5, 4, 3, 1), (5, 4, 3, 2)]\n",
      "p_list 의 경우의 수 : 120\n"
     ]
    }
   ],
   "source": [
    "from itertools import permutations\n",
    "\n",
    "def get_permutations(ns, r):\n",
    "    \n",
    "    p_list = list(permutations(ns, r))\n",
    "    print(f\"p_list : {p_list}\")\n",
    "    print(f\"p_list 의 경우의 수 : {len(p_list)}\")\n",
    "\n",
    "    \n",
    "get_permutations([1,2,3,4,5], 4)"
   ]
  },
  {
   "cell_type": "markdown",
   "id": "839811b8",
   "metadata": {},
   "source": [
    "### 조합 계산 모듈을 만들고 다음 조합 계산 결과를 출력해 보자."
   ]
  },
  {
   "cell_type": "code",
   "execution_count": 39,
   "id": "cd124f32",
   "metadata": {},
   "outputs": [
    {
     "data": {
      "text/plain": [
       "56.0"
      ]
     },
     "execution_count": 39,
     "metadata": {},
     "output_type": "execute_result"
    }
   ],
   "source": [
    "def get_combination_cnt(n, r):\n",
    "    '''\n",
    "    nPr / r!\n",
    "    '''\n",
    "    result_p = 1\n",
    "    result_r = 1\n",
    "    result_c = 1\n",
    "    \n",
    "    for n in range(n, n-r, -1):\n",
    "        result_p *= n\n",
    "        \n",
    "    for n in range(r, 0, -1):\n",
    "        result_r *= n\n",
    "        \n",
    "    result_c = result_p / result_r\n",
    "    return result_c\n",
    "\n",
    "get_combination_cnt(8, 3)"
   ]
  },
  {
   "cell_type": "code",
   "execution_count": 41,
   "id": "af75bb2e",
   "metadata": {},
   "outputs": [
    {
     "name": "stdout",
     "output_type": "stream",
     "text": [
      "[(1, 2, 3), (1, 2, 4), (1, 2, 5), (1, 2, 6), (1, 2, 7), (1, 2, 8), (1, 3, 4), (1, 3, 5), (1, 3, 6), (1, 3, 7), (1, 3, 8), (1, 4, 5), (1, 4, 6), (1, 4, 7), (1, 4, 8), (1, 5, 6), (1, 5, 7), (1, 5, 8), (1, 6, 7), (1, 6, 8), (1, 7, 8), (2, 3, 4), (2, 3, 5), (2, 3, 6), (2, 3, 7), (2, 3, 8), (2, 4, 5), (2, 4, 6), (2, 4, 7), (2, 4, 8), (2, 5, 6), (2, 5, 7), (2, 5, 8), (2, 6, 7), (2, 6, 8), (2, 7, 8), (3, 4, 5), (3, 4, 6), (3, 4, 7), (3, 4, 8), (3, 5, 6), (3, 5, 7), (3, 5, 8), (3, 6, 7), (3, 6, 8), (3, 7, 8), (4, 5, 6), (4, 5, 7), (4, 5, 8), (4, 6, 7), (4, 6, 8), (4, 7, 8), (5, 6, 7), (5, 6, 8), (5, 7, 8), (6, 7, 8)]\n",
      "56\n"
     ]
    }
   ],
   "source": [
    "from itertools import combinations\n",
    "\n",
    "data = [1,2,3,4,5,6,7,8]\n",
    "combi = list(combinations(data, 3))\n",
    "print(combi)\n",
    "print(len(combi))"
   ]
  },
  {
   "cell_type": "markdown",
   "id": "5fc2088a",
   "metadata": {},
   "source": [
    "### 수입과 공과금을 입력하면 공과금 총액과 수입 대비 공과금 비율을 계산하는 모듈을 만들어보자.\n",
    "- 수도요금 : 15,000\n",
    "- 전기요금 : 17,500\n",
    "- 가스요금 : 125,000"
   ]
  },
  {
   "cell_type": "code",
   "execution_count": null,
   "id": "dbca7509",
   "metadata": {},
   "outputs": [],
   "source": []
  }
 ],
 "metadata": {
  "kernelspec": {
   "display_name": "Python 3 (ipykernel)",
   "language": "python",
   "name": "python3"
  },
  "language_info": {
   "codemirror_mode": {
    "name": "ipython",
    "version": 3
   },
   "file_extension": ".py",
   "mimetype": "text/x-python",
   "name": "python",
   "nbconvert_exporter": "python",
   "pygments_lexer": "ipython3",
   "version": "3.8.11"
  }
 },
 "nbformat": 4,
 "nbformat_minor": 5
}

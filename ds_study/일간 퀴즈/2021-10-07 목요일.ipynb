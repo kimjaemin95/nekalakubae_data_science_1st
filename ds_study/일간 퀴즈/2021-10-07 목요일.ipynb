{
 "cells": [
  {
   "cell_type": "code",
   "execution_count": 1,
   "id": "5b5410cb",
   "metadata": {},
   "outputs": [
    {
     "name": "stdout",
     "output_type": "stream",
     "text": [
      "D:\\공부\\프로젝트\\네카라쿠배 - 데이터사이언스 1기\\nekalakubae_data_science_1st\\ds_study\\일간 퀴즈\n",
      "C:\\Users\\jmkim\\miniconda3\\envs\\ds_study\\python38.zip\n",
      "C:\\Users\\jmkim\\miniconda3\\envs\\ds_study\\DLLs\n",
      "C:\\Users\\jmkim\\miniconda3\\envs\\ds_study\\lib\n",
      "C:\\Users\\jmkim\\miniconda3\\envs\\ds_study\n",
      "\n",
      "C:\\Users\\jmkim\\miniconda3\\envs\\ds_study\\lib\\site-packages\n",
      "C:\\Users\\jmkim\\miniconda3\\envs\\ds_study\\lib\\site-packages\\win32\n",
      "C:\\Users\\jmkim\\miniconda3\\envs\\ds_study\\lib\\site-packages\\win32\\lib\n",
      "C:\\Users\\jmkim\\miniconda3\\envs\\ds_study\\lib\\site-packages\\Pythonwin\n",
      "C:\\Users\\jmkim\\miniconda3\\envs\\ds_study\\lib\\site-packages\\IPython\\extensions\n",
      "C:\\Users\\jmkim\\.ipython\n"
     ]
    }
   ],
   "source": [
    "import sys\n",
    "\n",
    "for p in sys.path:\n",
    "    print(p)"
   ]
  },
  {
   "cell_type": "code",
   "execution_count": 2,
   "id": "33556ee2",
   "metadata": {},
   "outputs": [
    {
     "name": "stdout",
     "output_type": "stream",
     "text": [
      "\"\"\n"
     ]
    }
   ],
   "source": [
    "print('\"\"')"
   ]
  },
  {
   "cell_type": "code",
   "execution_count": 3,
   "id": "cf61a32f",
   "metadata": {},
   "outputs": [
    {
     "data": {
      "text/plain": [
       "' \"\" \\'\\' '"
      ]
     },
     "execution_count": 3,
     "metadata": {},
     "output_type": "execute_result"
    }
   ],
   "source": [
    "''' \"\" '' '''"
   ]
  },
  {
   "cell_type": "code",
   "execution_count": 4,
   "id": "30a9120e",
   "metadata": {},
   "outputs": [
    {
     "data": {
      "text/plain": [
       "True"
      ]
     },
     "execution_count": 4,
     "metadata": {},
     "output_type": "execute_result"
    }
   ],
   "source": [
    "isinstance([1,2,3], list)"
   ]
  },
  {
   "cell_type": "code",
   "execution_count": null,
   "id": "c06301bb",
   "metadata": {},
   "outputs": [],
   "source": []
  }
 ],
 "metadata": {
  "kernelspec": {
   "display_name": "Python 3 (ipykernel)",
   "language": "python",
   "name": "python3"
  },
  "language_info": {
   "codemirror_mode": {
    "name": "ipython",
    "version": 3
   },
   "file_extension": ".py",
   "mimetype": "text/x-python",
   "name": "python",
   "nbconvert_exporter": "python",
   "pygments_lexer": "ipython3",
   "version": "3.8.11"
  }
 },
 "nbformat": 4,
 "nbformat_minor": 5
}

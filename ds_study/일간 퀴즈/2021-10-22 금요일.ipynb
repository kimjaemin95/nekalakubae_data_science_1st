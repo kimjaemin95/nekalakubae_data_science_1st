{
 "cells": [
  {
   "cell_type": "code",
   "execution_count": 13,
   "id": "158c3b78",
   "metadata": {},
   "outputs": [],
   "source": [
    "class test1:\n",
    "    \n",
    "    def __init__(self, color, size):\n",
    "        self.color = color\n",
    "        self.size = size\n",
    "        \n",
    "    def call(self):\n",
    "        print(\"음성통화\")\n",
    "        \n",
    "class test2(test1):\n",
    "    \n",
    "    def __init__(self, color, size):\n",
    "        super().__init__(color, size)\n",
    "    \n",
    "    def call(self):\n",
    "        super().call()\n",
    "        print(\"화상통화\")"
   ]
  },
  {
   "cell_type": "code",
   "execution_count": 14,
   "id": "b7a4e778",
   "metadata": {},
   "outputs": [],
   "source": [
    "t = test2(\"red\", \"100\")"
   ]
  },
  {
   "cell_type": "code",
   "execution_count": 15,
   "id": "532e3b18",
   "metadata": {},
   "outputs": [
    {
     "name": "stdout",
     "output_type": "stream",
     "text": [
      "음성통화\n",
      "화상통화\n"
     ]
    }
   ],
   "source": [
    "t.call()"
   ]
  },
  {
   "cell_type": "code",
   "execution_count": null,
   "id": "d63454c7",
   "metadata": {},
   "outputs": [],
   "source": []
  },
  {
   "cell_type": "code",
   "execution_count": null,
   "id": "34058021",
   "metadata": {},
   "outputs": [],
   "source": []
  }
 ],
 "metadata": {
  "kernelspec": {
   "display_name": "Python 3 (ipykernel)",
   "language": "python",
   "name": "python3"
  },
  "language_info": {
   "codemirror_mode": {
    "name": "ipython",
    "version": 3
   },
   "file_extension": ".py",
   "mimetype": "text/x-python",
   "name": "python",
   "nbconvert_exporter": "python",
   "pygments_lexer": "ipython3",
   "version": "3.8.11"
  }
 },
 "nbformat": 4,
 "nbformat_minor": 5
}

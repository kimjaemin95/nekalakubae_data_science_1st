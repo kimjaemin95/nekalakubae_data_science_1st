{
 "cells": [
  {
   "cell_type": "code",
   "execution_count": 1,
   "id": "917ca207",
   "metadata": {},
   "outputs": [],
   "source": [
    "# 03. 4주차 주간 시험(quiz 03)"
   ]
  },
  {
   "cell_type": "code",
   "execution_count": 81,
   "id": "e2358126",
   "metadata": {},
   "outputs": [],
   "source": [
    "import pandas as pd\n",
    "import numpy as np\n",
    "import time \n",
    "import requests\n",
    "import matplotlib.pyplot as plt\n",
    "import seaborn as sns\n",
    "\n",
    "from matplotlib import font_manager\n",
    "from matplotlib import rc\n",
    "from tqdm import tqdm_notebook\n",
    "from selenium import webdriver\n",
    "from selenium.webdriver.common.by import By\n",
    "from selenium.webdriver.support.ui import WebDriverWait\n",
    "from selenium.webdriver.support import expected_conditions as EC"
   ]
  },
  {
   "cell_type": "code",
   "execution_count": 59,
   "id": "16b8d62c",
   "metadata": {},
   "outputs": [],
   "source": [
    "# 웹드라이버 설정\n",
    "chrome_options = webdriver.ChromeOptions()\n",
    "# chrome_options.add_argument('--headless')\n",
    "chrome_options.add_argument('--no-sandbox')\n",
    "chrome_options.add_argument('--disable-dev-shm-usage')\n",
    "\n",
    "driver = webdriver.Chrome(\"../driver/chromedriver.exe\", options=chrome_options)\n",
    "# 대기 함수 10초 선언\n",
    "driver.implicitly_wait(10)"
   ]
  },
  {
   "cell_type": "code",
   "execution_count": 44,
   "id": "f2e967a1",
   "metadata": {},
   "outputs": [],
   "source": [
    "# 스타벅스 지역 검색 페이지 오픈\n",
    "startbucks_map_url = \"https://www.starbucks.co.kr/store/store_map.do?disp=locale\"\n",
    "driver.get(startbucks_map_url)"
   ]
  },
  {
   "cell_type": "code",
   "execution_count": 8,
   "id": "d0d3a1e2",
   "metadata": {},
   "outputs": [],
   "source": [
    "# 윈도우 화면 최대화\n",
    "driver.maximize_window()"
   ]
  },
  {
   "cell_type": "code",
   "execution_count": 12,
   "id": "ab57e745",
   "metadata": {},
   "outputs": [],
   "source": [
    "# 스타벅스 지역 검색 > 서울 선택\n",
    "starbucks_seoul = \"#container > div > form > fieldset > div > section > article.find_store_cont > article > article:nth-child(4) > div.loca_step1 > div.loca_step1_cont > ul > li:nth-child(1) > a\"\n",
    "WebDriverWait(driver, 5).until(EC.presence_of_element_located((By.CSS_SELECTOR, starbucks_seoul))).click()"
   ]
  },
  {
   "cell_type": "code",
   "execution_count": 13,
   "id": "b7f31741",
   "metadata": {},
   "outputs": [],
   "source": [
    "# 스타벅스 지역 검색 > 서울 > 전체 선택\n",
    "starbucks_seoul_all_gu = \"#mCSB_2_container > ul > li:nth-child(1) > a\"\n",
    "WebDriverWait(driver, 5).until(EC.presence_of_element_located((By.CSS_SELECTOR, starbucks_seoul_all_gu))).click()"
   ]
  },
  {
   "cell_type": "code",
   "execution_count": 39,
   "id": "124a0dc8",
   "metadata": {},
   "outputs": [],
   "source": [
    "# 스타벅스 지역 검색 > 서울 > 전체 선택 한 결과 페이지 HTML 호출\n",
    "starbucks_html = driver.page_source\n",
    "soup = BeautifulSoup(starbucks_html, \"html.parser\")"
   ]
  },
  {
   "cell_type": "code",
   "execution_count": 21,
   "id": "02fdb3f8",
   "metadata": {},
   "outputs": [],
   "source": [
    "mCSB_3_container = soup.find(\"div\", id=\"mCSB_3_container\")\n",
    "li_res_all = mCSB_3_container.find_all(\"li\", class_=\"quickResultLstCon\")"
   ]
  },
  {
   "cell_type": "markdown",
   "id": "716dbc89",
   "metadata": {},
   "source": [
    "## 문제 1번\n",
    "- 서울시의 스타벅스 매장의 이름과 주소, 구 이름을 pandas data frame으로 정리해 두세요.."
   ]
  },
  {
   "cell_type": "code",
   "execution_count": 47,
   "id": "30263617",
   "metadata": {},
   "outputs": [
    {
     "data": {
      "text/html": [
       "<div>\n",
       "<style scoped>\n",
       "    .dataframe tbody tr th:only-of-type {\n",
       "        vertical-align: middle;\n",
       "    }\n",
       "\n",
       "    .dataframe tbody tr th {\n",
       "        vertical-align: top;\n",
       "    }\n",
       "\n",
       "    .dataframe thead th {\n",
       "        text-align: right;\n",
       "    }\n",
       "</style>\n",
       "<table border=\"1\" class=\"dataframe\">\n",
       "  <thead>\n",
       "    <tr style=\"text-align: right;\">\n",
       "      <th></th>\n",
       "      <th>매장이름</th>\n",
       "      <th>주소</th>\n",
       "      <th>구</th>\n",
       "    </tr>\n",
       "  </thead>\n",
       "  <tbody>\n",
       "    <tr>\n",
       "      <th>0</th>\n",
       "      <td>역삼아레나빌딩</td>\n",
       "      <td>서울특별시 강남구 언주로 425 (역삼동)1522-3232</td>\n",
       "      <td>강남구</td>\n",
       "    </tr>\n",
       "    <tr>\n",
       "      <th>1</th>\n",
       "      <td>논현역사거리</td>\n",
       "      <td>서울특별시 강남구 강남대로 538 (논현동)1522-3232</td>\n",
       "      <td>강남구</td>\n",
       "    </tr>\n",
       "    <tr>\n",
       "      <th>2</th>\n",
       "      <td>신사역성일빌딩</td>\n",
       "      <td>서울특별시 강남구 강남대로 584 (논현동)1522-3232</td>\n",
       "      <td>강남구</td>\n",
       "    </tr>\n",
       "    <tr>\n",
       "      <th>3</th>\n",
       "      <td>국기원사거리</td>\n",
       "      <td>서울특별시 강남구 테헤란로 125 (역삼동)1522-3232</td>\n",
       "      <td>강남구</td>\n",
       "    </tr>\n",
       "    <tr>\n",
       "      <th>4</th>\n",
       "      <td>스탈릿대치R</td>\n",
       "      <td>서울특별시 강남구 남부순환로 2947 (대치동)1522-3232</td>\n",
       "      <td>강남구</td>\n",
       "    </tr>\n",
       "    <tr>\n",
       "      <th>...</th>\n",
       "      <td>...</td>\n",
       "      <td>...</td>\n",
       "      <td>...</td>\n",
       "    </tr>\n",
       "    <tr>\n",
       "      <th>561</th>\n",
       "      <td>사가정역</td>\n",
       "      <td>서울특별시 중랑구 면목로 3101522-3232</td>\n",
       "      <td>중랑구</td>\n",
       "    </tr>\n",
       "    <tr>\n",
       "      <th>562</th>\n",
       "      <td>상봉역</td>\n",
       "      <td>서울특별시 중랑구 망우로 307 (상봉동)1522-3232</td>\n",
       "      <td>중랑구</td>\n",
       "    </tr>\n",
       "    <tr>\n",
       "      <th>563</th>\n",
       "      <td>묵동이마트</td>\n",
       "      <td>서울특별시 중랑구 동일로 932 (묵동, 묵동자이아파트) (묵동이마트 B1층)152...</td>\n",
       "      <td>중랑구</td>\n",
       "    </tr>\n",
       "    <tr>\n",
       "      <th>564</th>\n",
       "      <td>묵동</td>\n",
       "      <td>서울특별시 중랑구 동일로 952 1522-3232</td>\n",
       "      <td>중랑구</td>\n",
       "    </tr>\n",
       "    <tr>\n",
       "      <th>565</th>\n",
       "      <td>중화역</td>\n",
       "      <td>서울특별시 중랑구 봉화산로 35 1,2층1522-3232</td>\n",
       "      <td>중랑구</td>\n",
       "    </tr>\n",
       "  </tbody>\n",
       "</table>\n",
       "<p>566 rows × 3 columns</p>\n",
       "</div>"
      ],
      "text/plain": [
       "        매장이름                                                 주소    구\n",
       "0    역삼아레나빌딩                   서울특별시 강남구 언주로 425 (역삼동)1522-3232  강남구\n",
       "1     논현역사거리                  서울특별시 강남구 강남대로 538 (논현동)1522-3232  강남구\n",
       "2    신사역성일빌딩                  서울특별시 강남구 강남대로 584 (논현동)1522-3232  강남구\n",
       "3     국기원사거리                  서울특별시 강남구 테헤란로 125 (역삼동)1522-3232  강남구\n",
       "4     스탈릿대치R                서울특별시 강남구 남부순환로 2947 (대치동)1522-3232  강남구\n",
       "..       ...                                                ...  ...\n",
       "561     사가정역                         서울특별시 중랑구 면목로 3101522-3232  중랑구\n",
       "562      상봉역                   서울특별시 중랑구 망우로 307 (상봉동)1522-3232  중랑구\n",
       "563    묵동이마트  서울특별시 중랑구 동일로 932 (묵동, 묵동자이아파트) (묵동이마트 B1층)152...  중랑구\n",
       "564       묵동                        서울특별시 중랑구 동일로 952 1522-3232  중랑구\n",
       "565      중화역                    서울특별시 중랑구 봉화산로 35 1,2층1522-3232  중랑구\n",
       "\n",
       "[566 rows x 3 columns]"
      ]
     },
     "execution_count": 47,
     "metadata": {},
     "output_type": "execute_result"
    }
   ],
   "source": [
    "starbucks_datas = []\n",
    "for li in li_res_all:\n",
    "    name = li.find(\"strong\").text.strip()\n",
    "    address = li.find(\"p\", class_=\"result_details\").text.strip()\n",
    "    gu = address.split(\" \")[1]\n",
    "    each = {\n",
    "        \"매장이름\":name, \"주소\":address, \"구\":gu\n",
    "    }\n",
    "    starbucks_datas.append(each)\n",
    "#     print(name, address, gu, sep=' | ')\n",
    "    \n",
    "df_starbucks = pd.DataFrame(starbucks_datas)\n",
    "df_starbucks\n",
    "\n",
    "# 스타벅스 웹드라이버 종료\n",
    "driver.close()"
   ]
  },
  {
   "cell_type": "code",
   "execution_count": 82,
   "id": "7e2cb62c",
   "metadata": {},
   "outputs": [
    {
     "data": {
      "text/html": [
       "<div>\n",
       "<style scoped>\n",
       "    .dataframe tbody tr th:only-of-type {\n",
       "        vertical-align: middle;\n",
       "    }\n",
       "\n",
       "    .dataframe tbody tr th {\n",
       "        vertical-align: top;\n",
       "    }\n",
       "\n",
       "    .dataframe thead th {\n",
       "        text-align: right;\n",
       "    }\n",
       "</style>\n",
       "<table border=\"1\" class=\"dataframe\">\n",
       "  <thead>\n",
       "    <tr style=\"text-align: right;\">\n",
       "      <th></th>\n",
       "      <th>매장이름</th>\n",
       "      <th>주소</th>\n",
       "      <th>구</th>\n",
       "      <th>브랜드</th>\n",
       "    </tr>\n",
       "  </thead>\n",
       "  <tbody>\n",
       "    <tr>\n",
       "      <th>561</th>\n",
       "      <td>사가정역</td>\n",
       "      <td>서울특별시 중랑구 면목로 3101522-3232</td>\n",
       "      <td>중랑구</td>\n",
       "      <td>스타벅스</td>\n",
       "    </tr>\n",
       "    <tr>\n",
       "      <th>562</th>\n",
       "      <td>상봉역</td>\n",
       "      <td>서울특별시 중랑구 망우로 307 (상봉동)1522-3232</td>\n",
       "      <td>중랑구</td>\n",
       "      <td>스타벅스</td>\n",
       "    </tr>\n",
       "    <tr>\n",
       "      <th>563</th>\n",
       "      <td>묵동이마트</td>\n",
       "      <td>서울특별시 중랑구 동일로 932 (묵동, 묵동자이아파트) (묵동이마트 B1층)152...</td>\n",
       "      <td>중랑구</td>\n",
       "      <td>스타벅스</td>\n",
       "    </tr>\n",
       "    <tr>\n",
       "      <th>564</th>\n",
       "      <td>묵동</td>\n",
       "      <td>서울특별시 중랑구 동일로 952 1522-3232</td>\n",
       "      <td>중랑구</td>\n",
       "      <td>스타벅스</td>\n",
       "    </tr>\n",
       "    <tr>\n",
       "      <th>565</th>\n",
       "      <td>중화역</td>\n",
       "      <td>서울특별시 중랑구 봉화산로 35 1,2층1522-3232</td>\n",
       "      <td>중랑구</td>\n",
       "      <td>스타벅스</td>\n",
       "    </tr>\n",
       "  </tbody>\n",
       "</table>\n",
       "</div>"
      ],
      "text/plain": [
       "      매장이름                                                 주소    구   브랜드\n",
       "561   사가정역                         서울특별시 중랑구 면목로 3101522-3232  중랑구  스타벅스\n",
       "562    상봉역                   서울특별시 중랑구 망우로 307 (상봉동)1522-3232  중랑구  스타벅스\n",
       "563  묵동이마트  서울특별시 중랑구 동일로 932 (묵동, 묵동자이아파트) (묵동이마트 B1층)152...  중랑구  스타벅스\n",
       "564     묵동                        서울특별시 중랑구 동일로 952 1522-3232  중랑구  스타벅스\n",
       "565    중화역                    서울특별시 중랑구 봉화산로 35 1,2층1522-3232  중랑구  스타벅스"
      ]
     },
     "execution_count": 82,
     "metadata": {},
     "output_type": "execute_result"
    }
   ],
   "source": [
    "df_starbucks[\"브랜드\"] = \"스타벅스\"\n",
    "df_starbucks.tail()"
   ]
  },
  {
   "cell_type": "code",
   "execution_count": 51,
   "id": "3153fbab",
   "metadata": {},
   "outputs": [
    {
     "name": "stdout",
     "output_type": "stream",
     "text": [
      "강남구, 강북구, 강서구, 관악구, 광진구, 금천구, 노원구, 도봉구, 동작구, 마포구, 서대문구, 서초구, 성북구, 송파구, 양천구, 영등포구, 은평구, 종로구, 중구, 강동구, 구로구, 동대문구, 성동구, 용산구, 중랑구, "
     ]
    },
    {
     "data": {
      "text/plain": [
       "25"
      ]
     },
     "execution_count": 51,
     "metadata": {},
     "output_type": "execute_result"
    }
   ],
   "source": [
    "# 서울시 구 정보 리스트 확인\n",
    "seoul_gu_list = list(df_starbucks[\"구\"].unique())\n",
    "for i in seoul_gu_list:\n",
    "    print(i, end=', ')\n",
    "len(seoul_gu_list)"
   ]
  },
  {
   "cell_type": "code",
   "execution_count": 63,
   "id": "79cfd6a2",
   "metadata": {},
   "outputs": [],
   "source": [
    "driver = webdriver.Chrome(\"../driver/chromedriver.exe\", options=chrome_options)\n",
    "# 대기 함수 10초 선언\n",
    "driver.implicitly_wait(10)\n",
    "\n",
    "# 이디아 웹페이지 오픈\n",
    "ediya_map_url = \"https://www.ediya.com/contents/find_store.html\"\n",
    "driver.get(ediya_map_url)"
   ]
  },
  {
   "cell_type": "code",
   "execution_count": 64,
   "id": "67009653",
   "metadata": {},
   "outputs": [],
   "source": [
    "# 윈도우 화면 최대화\n",
    "driver.maximize_window()"
   ]
  },
  {
   "cell_type": "code",
   "execution_count": 65,
   "id": "48930e0c",
   "metadata": {},
   "outputs": [],
   "source": [
    "# 이디아 지도 > 주소 검색\n",
    "ediya_address = \"#contentWrap > div.contents > div > div.store_search_pop > ul > li:nth-child(2) > a\"\n",
    "WebDriverWait(driver, 5).until(EC.presence_of_element_located((By.CSS_SELECTOR, ediya_address))).click()"
   ]
  },
  {
   "cell_type": "code",
   "execution_count": 77,
   "id": "7ced1b11",
   "metadata": {},
   "outputs": [],
   "source": [
    "# 이디아 지도 서울 > 지역별 데이터 검색\n",
    "\n",
    "ediya_datas = []\n",
    "\n",
    "for area in seoul_gu_list:\n",
    "\n",
    "    # 이디아 지도 > 주소 검색 > 검색어 입력\n",
    "    ediya_search = WebDriverWait(driver, 5).until(EC.presence_of_element_located((By.ID, \"keyword\")))\n",
    "    ediya_search.clear()\n",
    "    ediya_search.send_keys(f\"서울 {area}\")\n",
    "\n",
    "    # 이디아 지도 > 주소 검색 > 검색어 입력 > 검색 버튼 클릭\n",
    "    WebDriverWait(driver, 5).until(EC.presence_of_element_located((By.CSS_SELECTOR, \"#keyword_div > form > button\"))).click()\n",
    "\n",
    "    # 검색 지역 매장이름, 주소, 구 정보 수집\n",
    "    ediya_html = driver.page_source\n",
    "    ediya_soup = BeautifulSoup(ediya_html, \"html.parser\")\n",
    "    place_list = ediya_soup.find(\"ul\", id=\"placesList\")\n",
    "    item_list = place_list.find_all(\"li\", class_=\"item\")\n",
    "    for item in item_list:\n",
    "        name = item.find(\"dt\").text.strip()\n",
    "        address = item.find(\"dd\").text.strip()\n",
    "        gu = address.split(\" \")[1]\n",
    "        each = {\n",
    "            \"매장이름\":name, \"주소\":address, \"구\":gu\n",
    "        }\n",
    "        ediya_datas.append(each)\n",
    "        \n",
    "    time.sleep(1)\n",
    "else:\n",
    "    driver.close()"
   ]
  },
  {
   "cell_type": "code",
   "execution_count": 78,
   "id": "9c197c35",
   "metadata": {},
   "outputs": [
    {
     "data": {
      "text/plain": [
       "741"
      ]
     },
     "execution_count": 78,
     "metadata": {},
     "output_type": "execute_result"
    }
   ],
   "source": [
    "len(ediya_datas)"
   ]
  },
  {
   "cell_type": "markdown",
   "id": "d1a5de05",
   "metadata": {},
   "source": [
    "## 문제 2번\n",
    "- 서울시의 이디야커피 매장의 이름과 주소, 구 이름을 pandas data frame으로 정리해 두세요."
   ]
  },
  {
   "cell_type": "code",
   "execution_count": 79,
   "id": "ad051b3c",
   "metadata": {},
   "outputs": [
    {
     "data": {
      "text/html": [
       "<div>\n",
       "<style scoped>\n",
       "    .dataframe tbody tr th:only-of-type {\n",
       "        vertical-align: middle;\n",
       "    }\n",
       "\n",
       "    .dataframe tbody tr th {\n",
       "        vertical-align: top;\n",
       "    }\n",
       "\n",
       "    .dataframe thead th {\n",
       "        text-align: right;\n",
       "    }\n",
       "</style>\n",
       "<table border=\"1\" class=\"dataframe\">\n",
       "  <thead>\n",
       "    <tr style=\"text-align: right;\">\n",
       "      <th></th>\n",
       "      <th>매장이름</th>\n",
       "      <th>주소</th>\n",
       "      <th>구</th>\n",
       "    </tr>\n",
       "  </thead>\n",
       "  <tbody>\n",
       "    <tr>\n",
       "      <th>0</th>\n",
       "      <td>강남YMCA점</td>\n",
       "      <td>서울 강남구 논현동</td>\n",
       "      <td>강남구</td>\n",
       "    </tr>\n",
       "    <tr>\n",
       "      <th>1</th>\n",
       "      <td>강남구청역아이티웨딩점</td>\n",
       "      <td>서울 강남구 학동로 338 (논현동, 강남파라곤)</td>\n",
       "      <td>강남구</td>\n",
       "    </tr>\n",
       "    <tr>\n",
       "      <th>2</th>\n",
       "      <td>강남논현학동점</td>\n",
       "      <td>서울 강남구 논현로131길 28 (논현동)</td>\n",
       "      <td>강남구</td>\n",
       "    </tr>\n",
       "    <tr>\n",
       "      <th>3</th>\n",
       "      <td>강남대치점</td>\n",
       "      <td>서울 강남구 역삼로 415 (대치동, 성진빌딩)</td>\n",
       "      <td>강남구</td>\n",
       "    </tr>\n",
       "    <tr>\n",
       "      <th>4</th>\n",
       "      <td>강남도산점</td>\n",
       "      <td>서울 강남구 도산대로37길 20 (신사동)</td>\n",
       "      <td>강남구</td>\n",
       "    </tr>\n",
       "    <tr>\n",
       "      <th>...</th>\n",
       "      <td>...</td>\n",
       "      <td>...</td>\n",
       "      <td>...</td>\n",
       "    </tr>\n",
       "    <tr>\n",
       "      <th>736</th>\n",
       "      <td>용산중앙점</td>\n",
       "      <td>서울 용산구 한강대로 52-1 (한강로3가)</td>\n",
       "      <td>용산구</td>\n",
       "    </tr>\n",
       "    <tr>\n",
       "      <th>737</th>\n",
       "      <td>용산청파점</td>\n",
       "      <td>서울 용산구 청파로71길 10 (청파동1가, 새마을금고)</td>\n",
       "      <td>용산구</td>\n",
       "    </tr>\n",
       "    <tr>\n",
       "      <th>738</th>\n",
       "      <td>용산효창점</td>\n",
       "      <td>서울 용산구 효창원로66길 2 (효창동)</td>\n",
       "      <td>용산구</td>\n",
       "    </tr>\n",
       "    <tr>\n",
       "      <th>739</th>\n",
       "      <td>용산후암점</td>\n",
       "      <td>서울 용산구 후암로 40-2 (후암동, 성원빌딩)</td>\n",
       "      <td>용산구</td>\n",
       "    </tr>\n",
       "    <tr>\n",
       "      <th>740</th>\n",
       "      <td>원효로점</td>\n",
       "      <td>서울 용산구 원효로 257 (원효로1가)</td>\n",
       "      <td>용산구</td>\n",
       "    </tr>\n",
       "  </tbody>\n",
       "</table>\n",
       "<p>741 rows × 3 columns</p>\n",
       "</div>"
      ],
      "text/plain": [
       "            매장이름                               주소    구\n",
       "0        강남YMCA점                       서울 강남구 논현동  강남구\n",
       "1    강남구청역아이티웨딩점      서울 강남구 학동로 338 (논현동, 강남파라곤)  강남구\n",
       "2        강남논현학동점          서울 강남구 논현로131길 28 (논현동)  강남구\n",
       "3          강남대치점       서울 강남구 역삼로 415 (대치동, 성진빌딩)  강남구\n",
       "4          강남도산점          서울 강남구 도산대로37길 20 (신사동)  강남구\n",
       "..           ...                              ...  ...\n",
       "736        용산중앙점         서울 용산구 한강대로 52-1 (한강로3가)  용산구\n",
       "737        용산청파점  서울 용산구 청파로71길 10 (청파동1가, 새마을금고)  용산구\n",
       "738        용산효창점           서울 용산구 효창원로66길 2 (효창동)  용산구\n",
       "739        용산후암점      서울 용산구 후암로 40-2 (후암동, 성원빌딩)  용산구\n",
       "740         원효로점           서울 용산구 원효로 257 (원효로1가)  용산구\n",
       "\n",
       "[741 rows x 3 columns]"
      ]
     },
     "execution_count": 79,
     "metadata": {},
     "output_type": "execute_result"
    }
   ],
   "source": [
    "df_ediya = pd.DataFrame(ediya_datas)\n",
    "df_ediya"
   ]
  },
  {
   "cell_type": "code",
   "execution_count": 83,
   "id": "cf2b02b8",
   "metadata": {},
   "outputs": [
    {
     "data": {
      "text/html": [
       "<div>\n",
       "<style scoped>\n",
       "    .dataframe tbody tr th:only-of-type {\n",
       "        vertical-align: middle;\n",
       "    }\n",
       "\n",
       "    .dataframe tbody tr th {\n",
       "        vertical-align: top;\n",
       "    }\n",
       "\n",
       "    .dataframe thead th {\n",
       "        text-align: right;\n",
       "    }\n",
       "</style>\n",
       "<table border=\"1\" class=\"dataframe\">\n",
       "  <thead>\n",
       "    <tr style=\"text-align: right;\">\n",
       "      <th></th>\n",
       "      <th>매장이름</th>\n",
       "      <th>주소</th>\n",
       "      <th>구</th>\n",
       "      <th>브랜드</th>\n",
       "    </tr>\n",
       "  </thead>\n",
       "  <tbody>\n",
       "    <tr>\n",
       "      <th>736</th>\n",
       "      <td>용산중앙점</td>\n",
       "      <td>서울 용산구 한강대로 52-1 (한강로3가)</td>\n",
       "      <td>용산구</td>\n",
       "      <td>이디아</td>\n",
       "    </tr>\n",
       "    <tr>\n",
       "      <th>737</th>\n",
       "      <td>용산청파점</td>\n",
       "      <td>서울 용산구 청파로71길 10 (청파동1가, 새마을금고)</td>\n",
       "      <td>용산구</td>\n",
       "      <td>이디아</td>\n",
       "    </tr>\n",
       "    <tr>\n",
       "      <th>738</th>\n",
       "      <td>용산효창점</td>\n",
       "      <td>서울 용산구 효창원로66길 2 (효창동)</td>\n",
       "      <td>용산구</td>\n",
       "      <td>이디아</td>\n",
       "    </tr>\n",
       "    <tr>\n",
       "      <th>739</th>\n",
       "      <td>용산후암점</td>\n",
       "      <td>서울 용산구 후암로 40-2 (후암동, 성원빌딩)</td>\n",
       "      <td>용산구</td>\n",
       "      <td>이디아</td>\n",
       "    </tr>\n",
       "    <tr>\n",
       "      <th>740</th>\n",
       "      <td>원효로점</td>\n",
       "      <td>서울 용산구 원효로 257 (원효로1가)</td>\n",
       "      <td>용산구</td>\n",
       "      <td>이디아</td>\n",
       "    </tr>\n",
       "  </tbody>\n",
       "</table>\n",
       "</div>"
      ],
      "text/plain": [
       "      매장이름                               주소    구  브랜드\n",
       "736  용산중앙점         서울 용산구 한강대로 52-1 (한강로3가)  용산구  이디아\n",
       "737  용산청파점  서울 용산구 청파로71길 10 (청파동1가, 새마을금고)  용산구  이디아\n",
       "738  용산효창점           서울 용산구 효창원로66길 2 (효창동)  용산구  이디아\n",
       "739  용산후암점      서울 용산구 후암로 40-2 (후암동, 성원빌딩)  용산구  이디아\n",
       "740   원효로점           서울 용산구 원효로 257 (원효로1가)  용산구  이디아"
      ]
     },
     "execution_count": 83,
     "metadata": {},
     "output_type": "execute_result"
    }
   ],
   "source": [
    "df_ediya[\"브랜드\"] = \"이디아\"\n",
    "df_ediya.tail()"
   ]
  },
  {
   "cell_type": "code",
   "execution_count": 80,
   "id": "8b9f7cfd",
   "metadata": {},
   "outputs": [],
   "source": []
  },
  {
   "cell_type": "code",
   "execution_count": null,
   "id": "4775237d",
   "metadata": {},
   "outputs": [],
   "source": []
  },
  {
   "cell_type": "code",
   "execution_count": 61,
   "id": "0f715432",
   "metadata": {},
   "outputs": [],
   "source": []
  },
  {
   "cell_type": "code",
   "execution_count": null,
   "id": "53571c7d",
   "metadata": {},
   "outputs": [],
   "source": []
  }
 ],
 "metadata": {
  "kernelspec": {
   "display_name": "Python 3 (ipykernel)",
   "language": "python",
   "name": "python3"
  },
  "language_info": {
   "codemirror_mode": {
    "name": "ipython",
    "version": 3
   },
   "file_extension": ".py",
   "mimetype": "text/x-python",
   "name": "python",
   "nbconvert_exporter": "python",
   "pygments_lexer": "ipython3",
   "version": "3.9.7"
  }
 },
 "nbformat": 4,
 "nbformat_minor": 5
}

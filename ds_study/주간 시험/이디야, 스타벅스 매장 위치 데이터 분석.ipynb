{
 "cells": [
  {
   "cell_type": "code",
   "execution_count": 37,
   "id": "bbe38a1a",
   "metadata": {},
   "outputs": [],
   "source": [
    "import pandas as pd\n",
    "import numpy as np\n",
    "import folium\n",
    "import time\n",
    "\n",
    "from bs4 import BeautifulSoup\n",
    "from tqdm import tqdm_notebook\n",
    "from selenium import webdriver\n",
    "from selenium.webdriver.common.by import By\n",
    "from selenium.webdriver.support.ui import WebDriverWait\n",
    "from selenium.webdriver.support import expected_conditions as EC"
   ]
  },
  {
   "cell_type": "code",
   "execution_count": 38,
   "id": "7ff11684",
   "metadata": {},
   "outputs": [],
   "source": [
    "# 웹드라이버 설정\n",
    "options = webdriver.ChromeOptions()\n",
    "# options.add_argument(\"headless\")\n",
    "\n",
    "driver = webdriver.Chrome(\"../driver/chromedriver.exe\", options=options)\n",
    "driver.implicitly_wait(10)"
   ]
  },
  {
   "cell_type": "code",
   "execution_count": 39,
   "id": "bbdb2260",
   "metadata": {},
   "outputs": [],
   "source": [
    "# 스타벅스 지도 페이지 오픈\n",
    "starbucks_map_url = \"https://www.starbucks.co.kr/store/store_map.do?disp=locale\"\n",
    "driver.get(starbucks_map_url)"
   ]
  },
  {
   "cell_type": "code",
   "execution_count": 40,
   "id": "34dfd2ff",
   "metadata": {},
   "outputs": [],
   "source": [
    "# 윈도우 화면 최대화\n",
    "driver.maximize_window()"
   ]
  },
  {
   "cell_type": "code",
   "execution_count": 41,
   "id": "261b188d",
   "metadata": {},
   "outputs": [],
   "source": [
    "# 서울 버튼 클릭\n",
    "starbucks_seoul_css = \"#container > div > form > fieldset > div > section > article.find_store_cont > article > article:nth-child(4) > div.loca_step1 > div.loca_step1_cont > ul > li:nth-child(1) > a\"\n",
    "WebDriverWait(driver, 5).until(EC.presence_of_element_located((By.CSS_SELECTOR, starbucks_seoul_css))).click()"
   ]
  },
  {
   "cell_type": "code",
   "execution_count": 42,
   "id": "cb87ea8a",
   "metadata": {},
   "outputs": [],
   "source": [
    "# 서울 전체 클릭\n",
    "startbucks_seoul_all_css = \"#mCSB_2_container > ul > li:nth-child(1) > a\"\n",
    "WebDriverWait(driver, 5).until(EC.presence_of_element_located((By.CSS_SELECTOR, startbucks_seoul_all_css))).click()"
   ]
  },
  {
   "cell_type": "code",
   "execution_count": 43,
   "id": "ef7e2a72",
   "metadata": {},
   "outputs": [],
   "source": [
    "html_starbucks = driver.page_source\n",
    "soup_starbucks= BeautifulSoup(html_starbucks, \"html.parser\")"
   ]
  },
  {
   "cell_type": "code",
   "execution_count": 44,
   "id": "684c8176",
   "metadata": {},
   "outputs": [
    {
     "data": {
      "text/plain": [
       "566"
      ]
     },
     "execution_count": 44,
     "metadata": {},
     "output_type": "execute_result"
    }
   ],
   "source": [
    "mcsb_3_container = soup_starbucks.find(\"div\", id=\"mCSB_3_container\")\n",
    "quick_result_lst_con = mcsb_3_container.find_all(\"li\", class_=\"quickResultLstCon\")\n",
    "len(quick_result_lst_con)"
   ]
  },
  {
   "cell_type": "code",
   "execution_count": 45,
   "id": "ab145302",
   "metadata": {},
   "outputs": [],
   "source": [
    "datas_starbucks = []\n",
    "\n",
    "for li in quick_result_lst_con:\n",
    "    name = li.find(\"strong\").text.strip()\n",
    "    address = li.find(\"p\", class_=\"result_details\").text.strip().replace(\"1522-3232\", \"\")\n",
    "    gu = address.split(\" \")[1]\n",
    "    \n",
    "    each = {\n",
    "        \"매장이름\":name, \"주소\":address, \"구\":gu, \"브랜드\":\"스타벅스\"\n",
    "    }\n",
    "    \n",
    "    datas_starbucks.append(each)\n"
   ]
  },
  {
   "cell_type": "code",
   "execution_count": 46,
   "id": "70e8afc6",
   "metadata": {},
   "outputs": [
    {
     "data": {
      "text/html": [
       "<div>\n",
       "<style scoped>\n",
       "    .dataframe tbody tr th:only-of-type {\n",
       "        vertical-align: middle;\n",
       "    }\n",
       "\n",
       "    .dataframe tbody tr th {\n",
       "        vertical-align: top;\n",
       "    }\n",
       "\n",
       "    .dataframe thead th {\n",
       "        text-align: right;\n",
       "    }\n",
       "</style>\n",
       "<table border=\"1\" class=\"dataframe\">\n",
       "  <thead>\n",
       "    <tr style=\"text-align: right;\">\n",
       "      <th></th>\n",
       "      <th>매장이름</th>\n",
       "      <th>주소</th>\n",
       "      <th>구</th>\n",
       "      <th>브랜드</th>\n",
       "    </tr>\n",
       "  </thead>\n",
       "  <tbody>\n",
       "    <tr>\n",
       "      <th>561</th>\n",
       "      <td>사가정역</td>\n",
       "      <td>서울특별시 중랑구 면목로 310</td>\n",
       "      <td>중랑구</td>\n",
       "      <td>스타벅스</td>\n",
       "    </tr>\n",
       "    <tr>\n",
       "      <th>562</th>\n",
       "      <td>상봉역</td>\n",
       "      <td>서울특별시 중랑구 망우로 307 (상봉동)</td>\n",
       "      <td>중랑구</td>\n",
       "      <td>스타벅스</td>\n",
       "    </tr>\n",
       "    <tr>\n",
       "      <th>563</th>\n",
       "      <td>묵동이마트</td>\n",
       "      <td>서울특별시 중랑구 동일로 932 (묵동, 묵동자이아파트) (묵동이마트 B1층)</td>\n",
       "      <td>중랑구</td>\n",
       "      <td>스타벅스</td>\n",
       "    </tr>\n",
       "    <tr>\n",
       "      <th>564</th>\n",
       "      <td>묵동</td>\n",
       "      <td>서울특별시 중랑구 동일로 952</td>\n",
       "      <td>중랑구</td>\n",
       "      <td>스타벅스</td>\n",
       "    </tr>\n",
       "    <tr>\n",
       "      <th>565</th>\n",
       "      <td>중화역</td>\n",
       "      <td>서울특별시 중랑구 봉화산로 35 1,2층</td>\n",
       "      <td>중랑구</td>\n",
       "      <td>스타벅스</td>\n",
       "    </tr>\n",
       "  </tbody>\n",
       "</table>\n",
       "</div>"
      ],
      "text/plain": [
       "      매장이름                                           주소    구   브랜드\n",
       "561   사가정역                            서울특별시 중랑구 면목로 310  중랑구  스타벅스\n",
       "562    상봉역                      서울특별시 중랑구 망우로 307 (상봉동)  중랑구  스타벅스\n",
       "563  묵동이마트  서울특별시 중랑구 동일로 932 (묵동, 묵동자이아파트) (묵동이마트 B1층)  중랑구  스타벅스\n",
       "564     묵동                           서울특별시 중랑구 동일로 952   중랑구  스타벅스\n",
       "565    중화역                       서울특별시 중랑구 봉화산로 35 1,2층  중랑구  스타벅스"
      ]
     },
     "execution_count": 46,
     "metadata": {},
     "output_type": "execute_result"
    }
   ],
   "source": [
    "df_starbucsk = pd.DataFrame(datas_starbucks)\n",
    "df_starbucsk.tail()"
   ]
  },
  {
   "cell_type": "code",
   "execution_count": 47,
   "id": "95b749bc",
   "metadata": {},
   "outputs": [
    {
     "data": {
      "text/plain": [
       "(array(['강남구', '강북구', '강서구', '관악구', '광진구', '금천구', '노원구', '도봉구', '동작구',\n",
       "        '마포구', '서대문구', '서초구', '성북구', '송파구', '양천구', '영등포구', '은평구', '종로구',\n",
       "        '중구', '강동구', '구로구', '동대문구', '성동구', '용산구', '중랑구'], dtype=object),\n",
       " 25)"
      ]
     },
     "execution_count": 47,
     "metadata": {},
     "output_type": "execute_result"
    }
   ],
   "source": [
    "gu_list =  df_starbucsk[\"구\"].unique()\n",
    "gu_list,len(gu_list)"
   ]
  },
  {
   "cell_type": "code",
   "execution_count": 48,
   "id": "a3b210d0",
   "metadata": {},
   "outputs": [],
   "source": [
    "ediya_drl_url = \"https://www.ediya.com/contents/find_store.html\"\n",
    "driver = driver.get(ediya_drl_url)"
   ]
  },
  {
   "cell_type": "code",
   "execution_count": null,
   "id": "5dc5ff7d",
   "metadata": {},
   "outputs": [],
   "source": []
  },
  {
   "cell_type": "code",
   "execution_count": null,
   "id": "462725ab",
   "metadata": {},
   "outputs": [],
   "source": []
  }
 ],
 "metadata": {
  "kernelspec": {
   "display_name": "Python 3 (ipykernel)",
   "language": "python",
   "name": "python3"
  },
  "language_info": {
   "codemirror_mode": {
    "name": "ipython",
    "version": 3
   },
   "file_extension": ".py",
   "mimetype": "text/x-python",
   "name": "python",
   "nbconvert_exporter": "python",
   "pygments_lexer": "ipython3",
   "version": "3.8.11"
  }
 },
 "nbformat": 4,
 "nbformat_minor": 5
}

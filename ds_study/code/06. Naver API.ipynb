{
 "cells": [
  {
   "cell_type": "markdown",
   "id": "3b08f13f",
   "metadata": {},
   "source": [
    "# 06. Naver API"
   ]
  },
  {
   "cell_type": "markdown",
   "id": "3d162182",
   "metadata": {},
   "source": [
    "## 1. 네이버 API 사용 등록\n",
    "- 네이버 개발자 센터 : https://developers.naver.com/main/\n",
    "- Application\n",
    "    - 어플리케이션 등록\n",
    "    - 어플리케이션 이름 설정 : ds_study\n",
    "    - 사용 API\n",
    "        - 검색\n",
    "        - 데이터랩(검색어트렌드)\n",
    "        - 데이터랩(쇼핑인사이트)\n",
    "        - http://localhost"
   ]
  },
  {
   "cell_type": "code",
   "execution_count": 2,
   "id": "5a81f486",
   "metadata": {},
   "outputs": [],
   "source": [
    "client_id = \"tYZU6L0DOk2rmPWDjnDK\"\n",
    "client_secret = \"aw0kxfUYO1\""
   ]
  },
  {
   "cell_type": "markdown",
   "id": "aec660e9",
   "metadata": {},
   "source": [
    "## 2. 네이버 검색 API 사용하기\n",
    "- 도큐먼트 : \n",
    "    - https://developers.naver.com/docs/serviceapi/search/blog/blog.md#%EB%B8%94%EB%A1%9C%EA%B7%B8"
   ]
  },
  {
   "cell_type": "markdown",
   "id": "a8c35200",
   "metadata": {},
   "source": [
    "- urllib : http 프로토콜에 따라서 서버의 요청/응답을 처리하기 위한 모듈\n",
    "- urllib.request : 클라이언트의 요청을 처리하는 모듈\n",
    "- urllib.parse : url 주소에 대한 분석"
   ]
  },
  {
   "cell_type": "markdown",
   "id": "9416153b",
   "metadata": {},
   "source": [
    "### 검색 : 블로그 검색하기"
   ]
  },
  {
   "cell_type": "code",
   "execution_count": 15,
   "id": "7bb012ad",
   "metadata": {},
   "outputs": [
    {
     "name": "stdout",
     "output_type": "stream",
     "text": [
      "{\n",
      "\"lastBuildDate\": \"Mon, 11 Oct 2021 23:25:41 +0900\",\n",
      "\"total\": 248472,\n",
      "\"start\": 1,\n",
      "\"display\": 10,\n",
      "\"items\": [\n",
      "{\n",
      "\"title\": \"<b>파이썬</b> 학원 실용적 커리큘럼!\",\n",
      "\"link\": \"https:\\/\\/blog.naver.com\\/ghsm486?Redirect=Log&logNo=222462898734\",\n",
      "\"description\": \"저는 원래 국제회의 분야 취직을 희망했는데, 이 시국에 신규 채용 0건이었기 때문에 <b>파이썬</b> 학원으로... 저는 이 중에서 네덜란드 개발자 귀도 반 로섬이 만든 <b>파이썬</b>을 골랐는데요. 21세기 이 시점, 모든... \",\n",
      "\"bloggername\": \"매일매일 더 행복해\",\n",
      "\"bloggerlink\": \"https://blog.naver.com/ghsm486\",\n",
      "\"postdate\": \"20210809\"\n",
      "\n",
      "},\n",
      "{\n",
      "\"title\": \"빅데이터학원 <b>파이썬</b>부터 R까지 배워보기\",\n",
      "\"link\": \"https:\\/\\/blog.naver.com\\/iamwandering?Redirect=Log&logNo=222447282929\",\n",
      "\"description\": \"수업은 <b>파이썬</b>을 기반으로 기초적인 데이터 분석과 머신러닝, 빅데이터 분석 등을 배울 수 있는... 주로 기본적으로 사용되기도하고 실무에서도 많이 활용되고 있는 <b>파이썬</b>의 기초적인 문법과 문자열, 자료구조... \",\n",
      "\"bloggername\": \"매일이 행복\",\n",
      "\"bloggerlink\": \"https://blog.naver.com/iamwandering\",\n",
      "\"postdate\": \"20210727\"\n",
      "\n",
      "},\n",
      "{\n",
      "\"title\": \"<b>파이썬</b> 학원 다니면서 기본기를 제대로 잡다!\",\n",
      "\"link\": \"https:\\/\\/blog.naver.com\\/adorable722?Redirect=Log&logNo=222390951475\",\n",
      "\"description\": \"<b>파이썬</b> 학원 다니면서 기본기를 제대로 잡다! 요즘에는 회사에서도 프로그래밍 능력을 요구하는 경우가... <b>파이썬</b> 학원에 다니면서, 더 큰 꿈을 키우고 있어요. 코딩을 해보신 분들은 모두 알고 계실 텐데요.... \",\n",
      "\"bloggername\": \"마음이 가는 그대로♡\",\n",
      "\"bloggerlink\": \"https://blog.naver.com/adorable722\",\n",
      "\"postdate\": \"20210609\"\n",
      "\n",
      "},\n",
      "{\n",
      "\"title\": \"<b>파이썬</b>학원 수월한 과정!\",\n",
      "\"link\": \"https:\\/\\/blog.naver.com\\/bredpark1004?Redirect=Log&logNo=222423051052\",\n",
      "\"description\": \"<b>파이썬</b>학원 수월한 과정! 인생을 이렇게 살아도 되나 싶을 정도로, 목표가 없었습니다. 이러한 사람들을... 어떤 걸 배울 지 여러 차례 고민을 해보다가, <b>파이썬</b>이라는 프로그래밍 언어를 알게 되었습니다.... \",\n",
      "\"bloggername\": \"핫키워드뉴스:: 공식블로그\",\n",
      "\"bloggerlink\": \"https://blog.naver.com/bredpark1004\",\n",
      "\"postdate\": \"20210707\"\n",
      "\n",
      "},\n",
      "{\n",
      "\"title\": \"<b>파이썬</b>학원 일단 시작부터 해보자!\",\n",
      "\"link\": \"https:\\/\\/blog.naver.com\\/yosuleye?Redirect=Log&logNo=222531078904\",\n",
      "\"description\": \"#<b>파이썬</b>학원 저는 어렸을 때부터 안 좋은 버릇이 있었어요. 뭘 하기 전에 생각이 너무 많고 망설임이... 그런 제가 <b>파이썬</b>학원에 등록하겠다는 용기를 내는 것도 어떻게 보면 참 쉽지 않은 결정이에요.... \",\n",
      "\"bloggername\": \"yosuleye님의 블로그\",\n",
      "\"bloggerlink\": \"https://blog.naver.com/yosuleye\",\n",
      "\"postdate\": \"20211008\"\n",
      "\n",
      "},\n",
      "{\n",
      "\"title\": \"<b>파이썬</b> 자격증 신뢰할 수 있는 체계\",\n",
      "\"link\": \"https:\\/\\/blog.naver.com\\/h_4149?Redirect=Log&logNo=222530744283\",\n",
      "\"description\": \"프로그래밍에 관심이 있는 사람으로서 그에 맞는 대학교 전공을 선택했다면 어떻게든 졸업 전에 <b>파이썬</b>... 요즘에는 난이도, 범용성, 생산성적인 면에서도 더 넓고 좋아진 프로그래밍 언어인 <b>파이썬</b>이 나오게... \",\n",
      "\"bloggername\": \"Galaxy in my mind\",\n",
      "\"bloggerlink\": \"https://blog.naver.com/h_4149\",\n",
      "\"postdate\": \"20211008\"\n",
      "\n",
      "},\n",
      "{\n",
      "\"title\": \"<b>파이썬</b> 프로그래밍 독학, 클룸 유데미 강의에서!\",\n",
      "\"link\": \"https:\\/\\/blog.naver.com\\/supapa13?Redirect=Log&logNo=222519682757\",\n",
      "\"description\": \"대표적으로 <b>파이썬</b> 프로그래밍이 있습니다. <b>파이썬</b>은 사회 각계각층 다양한 분야에서 통용되는 프로그래밍 언어입니다. 개별적으로 공부하려는 분들도 꽤 많습니다. 하지만 <b>파이썬</b>은 독학이 의외로 쉽지... \",\n",
      "\"bloggername\": \"세수하면이병헌 IT, 육아\",\n",
      "\"bloggerlink\": \"https://blog.naver.com/supapa13\",\n",
      "\"postdate\": \"20210928\"\n",
      "\n",
      "},\n",
      "{\n",
      "\"title\": \"<b>파이썬</b> 자격증 배움으로 성장하기\",\n",
      "\"link\": \"https:\\/\\/blog.naver.com\\/kyrian75?Redirect=Log&logNo=222523178783\",\n",
      "\"description\": \"제가 원하는 자리와 가장 잘 맞는 걸 고르려고 하다 보니까 <b>파이썬</b> 자격증이 필요할 거 같더라고요.... 단순히 <b>파이썬</b> 내용만 가르쳐 주는 게 아니라 기업에 지원서를 낼 때 어떤 부분을 고려해야 할지 자세하게... \",\n",
      "\"bloggername\": \"I'm still alive\",\n",
      "\"bloggerlink\": \"https://blog.naver.com/kyrian75\",\n",
      "\"postdate\": \"20211001\"\n",
      "\n",
      "},\n",
      "{\n",
      "\"title\": \"<b>파이썬</b> 자격증 전망이 좋은 이유\",\n",
      "\"link\": \"https:\\/\\/blog.naver.com\\/sky00141?Redirect=Log&logNo=222520797557\",\n",
      "\"description\": \"그래서 전공을 살려야 할지 포기해야 할지 고민이 아주 많았는데, 친구의 권유로 함께 <b>파이썬</b> 자격증... 등록부터 시작해서 <b>파이썬</b> 자격증과 관련해 어떤 교육을 할지에 대해서, 그리고 나중에 구직까지 교육... \",\n",
      "\"bloggername\": \"제이의 IT Security 블로그\",\n",
      "\"bloggerlink\": \"https://blog.naver.com/sky00141\",\n",
      "\"postdate\": \"20210929\"\n",
      "\n",
      "},\n",
      "{\n",
      "\"title\": \"<b>파이썬</b> 설치는 초보자에게 아나콘다가 편합니다.\",\n",
      "\"link\": \"https:\\/\\/blog.naver.com\\/ocmarketing?Redirect=Log&logNo=222197056590\",\n",
      "\"description\": \"안녕하세요, 오늘 부터는 <b>파이썬</b> 강의를 하나씩 해보려고 합니다. 일단 저도 배우는 입장이라... 그래서 첫번째 시간에 <b>파이썬</b> 설치를 하려고 하는데요, 어라? <b>파이썬</b>에 가서 바로 설치를 하는 것이... \",\n",
      "\"bloggername\": \"초튜터 X 오씨네학교\",\n",
      "\"bloggerlink\": \"https://blog.naver.com/ocmarketing\",\n",
      "\"postdate\": \"20210105\"\n",
      "\n",
      "}\n",
      "]\n",
      "}\n",
      "\n"
     ]
    }
   ],
   "source": [
    "# 네이버 검색 API예제는 블로그를 비롯 전문자료까지 호출방법이 동일하므로 blog검색만 대표로 예제를 올렸습니다.\n",
    "# 네이버 검색 Open API 예제 - 블로그 검색\n",
    "import os\n",
    "import sys\n",
    "import urllib.request\n",
    "# client_id = \"YOUR_CLIENT_ID\"\n",
    "# client_secret = \"YOUR_CLIENT_SECRET\"\n",
    "encText = urllib.parse.quote(\"파이썬\")\n",
    "title = \"blog\"\n",
    "url = f\"https://openapi.naver.com/v1/search/{title}?query=\" + encText # json 결과\n",
    "# url = \"https://openapi.naver.com/v1/search/blog.xml?query=\" + encText # xml 결과\n",
    "request = urllib.request.Request(url)\n",
    "request.add_header(\"X-Naver-Client-Id\",client_id)\n",
    "request.add_header(\"X-Naver-Client-Secret\",client_secret)\n",
    "response = urllib.request.urlopen(request)\n",
    "rescode = response.getcode()\n",
    "if(rescode==200):\n",
    "    response_body = response.read()\n",
    "    print(response_body.decode('utf-8'))\n",
    "else:\n",
    "    print(\"Error Code:\" + rescode)"
   ]
  },
  {
   "cell_type": "code",
   "execution_count": 9,
   "id": "78753285",
   "metadata": {},
   "outputs": [
    {
     "data": {
      "text/plain": [
       "200"
      ]
     },
     "execution_count": 9,
     "metadata": {},
     "output_type": "execute_result"
    }
   ],
   "source": [
    "response.getcode()"
   ]
  },
  {
   "cell_type": "code",
   "execution_count": 10,
   "id": "d80e683e",
   "metadata": {},
   "outputs": [
    {
     "data": {
      "text/plain": [
       "200"
      ]
     },
     "execution_count": 10,
     "metadata": {},
     "output_type": "execute_result"
    }
   ],
   "source": [
    "response.code"
   ]
  },
  {
   "cell_type": "code",
   "execution_count": 11,
   "id": "07077e00",
   "metadata": {},
   "outputs": [
    {
     "data": {
      "text/plain": [
       "200"
      ]
     },
     "execution_count": 11,
     "metadata": {},
     "output_type": "execute_result"
    }
   ],
   "source": [
    "response.status"
   ]
  },
  {
   "cell_type": "code",
   "execution_count": 14,
   "id": "8bac0830",
   "metadata": {},
   "outputs": [
    {
     "data": {
      "text/plain": [
       "'{\\n\"lastBuildDate\": \"Mon, 11 Oct 2021 23:22:11 +0900\",\\n\"total\": 248472,\\n\"start\": 1,\\n\"display\": 10,\\n\"items\": [\\n{\\n\"title\": \"<b>파이썬</b> 학원 실용적 커리큘럼!\",\\n\"link\": \"https:\\\\/\\\\/blog.naver.com\\\\/ghsm486?Redirect=Log&logNo=222462898734\",\\n\"description\": \"저는 원래 국제회의 분야 취직을 희망했는데, 이 시국에 신규 채용 0건이었기 때문에 <b>파이썬</b> 학원으로... 저는 이 중에서 네덜란드 개발자 귀도 반 로섬이 만든 <b>파이썬</b>을 골랐는데요. 21세기 이 시점, 모든... \",\\n\"bloggername\": \"매일매일 더 행복해\",\\n\"bloggerlink\": \"https://blog.naver.com/ghsm486\",\\n\"postdate\": \"20210809\"\\n\\n},\\n{\\n\"title\": \"빅데이터학원 <b>파이썬</b>부터 R까지 배워보기\",\\n\"link\": \"https:\\\\/\\\\/blog.naver.com\\\\/iamwandering?Redirect=Log&logNo=222447282929\",\\n\"description\": \"수업은 <b>파이썬</b>을 기반으로 기초적인 데이터 분석과 머신러닝, 빅데이터 분석 등을 배울 수 있는... 주로 기본적으로 사용되기도하고 실무에서도 많이 활용되고 있는 <b>파이썬</b>의 기초적인 문법과 문자열, 자료구조... \",\\n\"bloggername\": \"매일이 행복\",\\n\"bloggerlink\": \"https://blog.naver.com/iamwandering\",\\n\"postdate\": \"20210727\"\\n\\n},\\n{\\n\"title\": \"<b>파이썬</b> 학원 다니면서 기본기를 제대로 잡다!\",\\n\"link\": \"https:\\\\/\\\\/blog.naver.com\\\\/adorable722?Redirect=Log&logNo=222390951475\",\\n\"description\": \"<b>파이썬</b> 학원 다니면서 기본기를 제대로 잡다! 요즘에는 회사에서도 프로그래밍 능력을 요구하는 경우가... <b>파이썬</b> 학원에 다니면서, 더 큰 꿈을 키우고 있어요. 코딩을 해보신 분들은 모두 알고 계실 텐데요.... \",\\n\"bloggername\": \"마음이 가는 그대로♡\",\\n\"bloggerlink\": \"https://blog.naver.com/adorable722\",\\n\"postdate\": \"20210609\"\\n\\n},\\n{\\n\"title\": \"<b>파이썬</b>학원 수월한 과정!\",\\n\"link\": \"https:\\\\/\\\\/blog.naver.com\\\\/bredpark1004?Redirect=Log&logNo=222423051052\",\\n\"description\": \"<b>파이썬</b>학원 수월한 과정! 인생을 이렇게 살아도 되나 싶을 정도로, 목표가 없었습니다. 이러한 사람들을... 어떤 걸 배울 지 여러 차례 고민을 해보다가, <b>파이썬</b>이라는 프로그래밍 언어를 알게 되었습니다.... \",\\n\"bloggername\": \"핫키워드뉴스:: 공식블로그\",\\n\"bloggerlink\": \"https://blog.naver.com/bredpark1004\",\\n\"postdate\": \"20210707\"\\n\\n},\\n{\\n\"title\": \"<b>파이썬</b>학원 일단 시작부터 해보자!\",\\n\"link\": \"https:\\\\/\\\\/blog.naver.com\\\\/yosuleye?Redirect=Log&logNo=222531078904\",\\n\"description\": \"#<b>파이썬</b>학원 저는 어렸을 때부터 안 좋은 버릇이 있었어요. 뭘 하기 전에 생각이 너무 많고 망설임이... 그런 제가 <b>파이썬</b>학원에 등록하겠다는 용기를 내는 것도 어떻게 보면 참 쉽지 않은 결정이에요.... \",\\n\"bloggername\": \"yosuleye님의 블로그\",\\n\"bloggerlink\": \"https://blog.naver.com/yosuleye\",\\n\"postdate\": \"20211008\"\\n\\n},\\n{\\n\"title\": \"<b>파이썬</b> 자격증 신뢰할 수 있는 체계\",\\n\"link\": \"https:\\\\/\\\\/blog.naver.com\\\\/h_4149?Redirect=Log&logNo=222530744283\",\\n\"description\": \"프로그래밍에 관심이 있는 사람으로서 그에 맞는 대학교 전공을 선택했다면 어떻게든 졸업 전에 <b>파이썬</b>... 요즘에는 난이도, 범용성, 생산성적인 면에서도 더 넓고 좋아진 프로그래밍 언어인 <b>파이썬</b>이 나오게... \",\\n\"bloggername\": \"Galaxy in my mind\",\\n\"bloggerlink\": \"https://blog.naver.com/h_4149\",\\n\"postdate\": \"20211008\"\\n\\n},\\n{\\n\"title\": \"<b>파이썬</b> 프로그래밍 독학, 클룸 유데미 강의에서!\",\\n\"link\": \"https:\\\\/\\\\/blog.naver.com\\\\/supapa13?Redirect=Log&logNo=222519682757\",\\n\"description\": \"대표적으로 <b>파이썬</b> 프로그래밍이 있습니다. <b>파이썬</b>은 사회 각계각층 다양한 분야에서 통용되는 프로그래밍 언어입니다. 개별적으로 공부하려는 분들도 꽤 많습니다. 하지만 <b>파이썬</b>은 독학이 의외로 쉽지... \",\\n\"bloggername\": \"세수하면이병헌 IT, 육아\",\\n\"bloggerlink\": \"https://blog.naver.com/supapa13\",\\n\"postdate\": \"20210928\"\\n\\n},\\n{\\n\"title\": \"<b>파이썬</b> 자격증 배움으로 성장하기\",\\n\"link\": \"https:\\\\/\\\\/blog.naver.com\\\\/kyrian75?Redirect=Log&logNo=222523178783\",\\n\"description\": \"제가 원하는 자리와 가장 잘 맞는 걸 고르려고 하다 보니까 <b>파이썬</b> 자격증이 필요할 거 같더라고요.... 단순히 <b>파이썬</b> 내용만 가르쳐 주는 게 아니라 기업에 지원서를 낼 때 어떤 부분을 고려해야 할지 자세하게... \",\\n\"bloggername\": \"I\\'m still alive\",\\n\"bloggerlink\": \"https://blog.naver.com/kyrian75\",\\n\"postdate\": \"20211001\"\\n\\n},\\n{\\n\"title\": \"<b>파이썬</b> 자격증 전망이 좋은 이유\",\\n\"link\": \"https:\\\\/\\\\/blog.naver.com\\\\/sky00141?Redirect=Log&logNo=222520797557\",\\n\"description\": \"그래서 전공을 살려야 할지 포기해야 할지 고민이 아주 많았는데, 친구의 권유로 함께 <b>파이썬</b> 자격증... 등록부터 시작해서 <b>파이썬</b> 자격증과 관련해 어떤 교육을 할지에 대해서, 그리고 나중에 구직까지 교육... \",\\n\"bloggername\": \"제이의 IT Security 블로그\",\\n\"bloggerlink\": \"https://blog.naver.com/sky00141\",\\n\"postdate\": \"20210929\"\\n\\n},\\n{\\n\"title\": \"<b>파이썬</b> 설치는 초보자에게 아나콘다가 편합니다.\",\\n\"link\": \"https:\\\\/\\\\/blog.naver.com\\\\/ocmarketing?Redirect=Log&logNo=222197056590\",\\n\"description\": \"안녕하세요, 오늘 부터는 <b>파이썬</b> 강의를 하나씩 해보려고 합니다. 일단 저도 배우는 입장이라... 그래서 첫번째 시간에 <b>파이썬</b> 설치를 하려고 하는데요, 어라? <b>파이썬</b>에 가서 바로 설치를 하는 것이... \",\\n\"bloggername\": \"초튜터 X 오씨네학교\",\\n\"bloggerlink\": \"https://blog.naver.com/ocmarketing\",\\n\"postdate\": \"20210105\"\\n\\n}\\n]\\n}\\n'"
      ]
     },
     "execution_count": 14,
     "metadata": {},
     "output_type": "execute_result"
    }
   ],
   "source": [
    "# 글자로 읽을 경우, decode utf-8 설정\n",
    "response_body.decode(\"utf-8\")"
   ]
  },
  {
   "cell_type": "markdown",
   "id": "2952c943",
   "metadata": {},
   "source": [
    "## 검색 : 영화(movie)"
   ]
  },
  {
   "cell_type": "code",
   "execution_count": 16,
   "id": "a241383f",
   "metadata": {},
   "outputs": [
    {
     "name": "stdout",
     "output_type": "stream",
     "text": [
      "{\n",
      "\"lastBuildDate\": \"Mon, 11 Oct 2021 23:26:34 +0900\",\n",
      "\"total\": 1,\n",
      "\"start\": 1,\n",
      "\"display\": 1,\n",
      "\"items\": [\n",
      "{\n",
      "\"title\": \"<b>파이썬</b> 앤 가드\",\n",
      "\"link\": \"https://movie.naver.com/movie/bi/mi/basic.nhn?code=152070\",\n",
      "\"image\": \"https://ssl.pstatic.net/imgmovie/mdi/mit110/1520/152070_P01_145336.jpg\",\n",
      "\"subtitle\": \"PYTHON AND GUARD\",\n",
      "\"pubDate\": \"2015\",\n",
      "\"director\": \"안톤 디아코프|\",\n",
      "\"actor\": \"\",\n",
      "\"userRating\": \"0.00\"\n",
      "\n",
      "}\n",
      "]\n",
      "}\n",
      "\n"
     ]
    }
   ],
   "source": [
    "# 네이버 검색 API예제는 블로그를 비롯 전문자료까지 호출방법이 동일하므로 blog검색만 대표로 예제를 올렸습니다.\n",
    "# 네이버 검색 Open API 예제 - 블로그 검색\n",
    "import os\n",
    "import sys\n",
    "import urllib.request\n",
    "# client_id = \"YOUR_CLIENT_ID\"\n",
    "# client_secret = \"YOUR_CLIENT_SECRET\"\n",
    "encText = urllib.parse.quote(\"파이썬\")\n",
    "title = \"movie\"\n",
    "url = f\"https://openapi.naver.com/v1/search/{title}?query=\" + encText # json 결과\n",
    "# url = \"https://openapi.naver.com/v1/search/blog.xml?query=\" + encText # xml 결과\n",
    "request = urllib.request.Request(url)\n",
    "request.add_header(\"X-Naver-Client-Id\",client_id)\n",
    "request.add_header(\"X-Naver-Client-Secret\",client_secret)\n",
    "response = urllib.request.urlopen(request)\n",
    "rescode = response.getcode()\n",
    "if(rescode==200):\n",
    "    response_body = response.read()\n",
    "    print(response_body.decode('utf-8'))\n",
    "else:\n",
    "    print(\"Error Code:\" + rescode)"
   ]
  },
  {
   "cell_type": "markdown",
   "id": "356ec5c0",
   "metadata": {},
   "source": [
    "## 검색 : 카페(cafearticle)"
   ]
  },
  {
   "cell_type": "code",
   "execution_count": 17,
   "id": "a32b082a",
   "metadata": {},
   "outputs": [
    {
     "name": "stdout",
     "output_type": "stream",
     "text": [
      "{\n",
      "\"lastBuildDate\": \"Mon, 11 Oct 2021 23:26:41 +0900\",\n",
      "\"total\": 121726,\n",
      "\"start\": 1,\n",
      "\"display\": 10,\n",
      "\"items\": [\n",
      "{\n",
      "\"title\": \"<b>파이썬</b> 강의 프로그래밍 수업 무료로 듣자!\",\n",
      "\"link\": \"http://cafe.naver.com/anjun/885594\",\n",
      "\"description\": \"※이 글은 산준모카페 관리자 승인 하에 작성된 글입니다 <b>파이썬</b> 강의 프로그래밍 수업 무료로 듣자! <b>파이썬</b> 강의 프로그래밍 수업 무료로 듣자! 안녕하세요 IT전문 학습멘토 동자쌤입니다 프로그래밍을 배우기로... \",\n",
      "\"cafename\": \"산준모★산업안전기사｜위험물산업기사...\",\n",
      "\"cafeurl\": \"https://cafe.naver.com/anjun\"\n",
      "\n",
      "},\n",
      "{\n",
      "\"title\": \"<b>파이썬</b> 교재 추천해주세요\",\n",
      "\"link\": \"http://cafe.naver.com/forasteacher/158057\",\n",
      "\"description\": \"초6아이에요 다른 코딩 자격증 준비중이고 곧 마무리될 단계라서 다음 과정으로 <b>파이썬</b>해주고 싶은데 초등 애들이 사용할 만한 교재 추천 부탁드려요 그리고 혹시 아이들 중에 diat <b>파이썬</b> 자격증 시험 진행해보신분들... \",\n",
      "\"cafename\": \"방세아.방과후.돌봄.공부방.유치원\",\n",
      "\"cafeurl\": \"https://cafe.naver.com/forasteacher\"\n",
      "\n",
      "},\n",
      "{\n",
      "\"title\": \"<b>파이썬</b>기초학원 쉽게 교육받는 방법 공유합니다.\",\n",
      "\"link\": \"http://cafe.naver.com/nomacomnovels2/1985\",\n",
      "\"description\": \"오늘은 <b>파이썬</b>기초학원에서 <b>파이썬</b>과 관련된 여러가지 이야기를 나눠보도록 할건데요! 바로 시작해보도록 할게요~ Let's go! <b>파이썬</b>에 대한 간략한 소개! <b>파이썬</b>은 네덜란드 Guido van Rossum이 만든 언어로 알려져... \",\n",
      "\"cafename\": \"IT로 성공하는 사람들 - 아성사 ( IT공...\",\n",
      "\"cafeurl\": \"https://cafe.naver.com/nomacomnovels2\"\n",
      "\n",
      "},\n",
      "{\n",
      "\"title\": \"<b>파이썬</b> 도서\",\n",
      "\"link\": \"http://cafe.naver.com/mathall/2268240\",\n",
      "\"description\": \"안녕하세요~ 아이가 <b>파이썬</b>책을 사달라네요 혼자라도 해보고 싶다는데 어떤책을 사줘야할지를 모르겠네요 <b>파이썬</b> 책 활용하기 좋은것으로 아시는분 계시면 도움부탁드립니다~~♡♡\",\n",
      "\"cafename\": \"[상위1%카페] 대한민국 상위1% 교육정...\",\n",
      "\"cafeurl\": \"https://cafe.naver.com/mathall\"\n",
      "\n",
      "},\n",
      "{\n",
      "\"title\": \"<b>파이썬</b> 배우는 법\",\n",
      "\"link\": \"http://cafe.naver.com/inmacbook/2470930\",\n",
      "\"description\": \"맥북으로 <b>파이썬</b>을 배우려고 합니다. 혹시 유튜브에 맥기반으로 파이선 강의하는 사이트가 있을가요? 맥기반이 아니더라도 <b>파이썬</b> 초보가 쉽게 배울수 있는 유투버 추천 부탁드립니다.\",\n",
      "\"cafename\": \"맥 쓰는 사람들 [구 맥북을 쓰는 사람...\",\n",
      "\"cafeurl\": \"https://cafe.naver.com/inmacbook\"\n",
      "\n",
      "},\n",
      "{\n",
      "\"title\": \"반도체쪽 <b>파이썬</b> 자격증\",\n",
      "\"link\": \"http://cafe.naver.com/dokchi/11273200\",\n",
      "\"description\": \"이쪽에서도 <b>파이썬</b>이 많이 쓰인다고 하여 <b>파이썬</b>관련 자격증을 하나 취득해볼까 하는데 <b>파이썬</b> 마스터, Cos Pro Python 이 둘 중에서 고민중입니다. 혹시 어느쪽이 좀 더 도움이 될까요..? 답변... \",\n",
      "\"cafename\": \"독취사-취업,대학생,대기업,공기업,GS...\",\n",
      "\"cafeurl\": \"https://cafe.naver.com/dokchi\"\n",
      "\n",
      "},\n",
      "{\n",
      "\"title\": \"<b>파이썬</b> 독학사이트(coding-insight.com) 업데이트 소개드려요.\",\n",
      "\"link\": \"http://cafe.naver.com/pangyomommy/519978\",\n",
      "\"description\": \"낙원중학교 1학년 친구들의 '<b>파이썬</b> 팩토리' 동아리가 지난주 한국과학창의재단의 2차 온라인 자문을... 등을 <b>파이썬</b>을 통해 구현해볼 수 있는 동영상을 올리고 각 강좌 소개동영상을 올리기 시작했어요. https://youtu.... \",\n",
      "\"cafename\": \"[판교맘] 판교 엄마들의 모임\",\n",
      "\"cafeurl\": \"https://cafe.naver.com/pangyomommy\"\n",
      "\n",
      "},\n",
      "{\n",
      "\"title\": \"ADP 실기와 빅분기 실기// <b>파이썬</b> or R\",\n",
      "\"link\": \"http://cafe.naver.com/sqlpd/25148\",\n",
      "\"description\": \"예전 학부 때 복수전공하면서 계량경제학 과목을 R로 한 학기동안 만져본적 있는데(교수님이 R로만 하심), ADP나 빅분기 실기는 훨씬 더 어려울거 같아 <b>파이썬</b>으로 준비할지 R로 준비할지 고민됩니다. 사실 한 학기동안... \",\n",
      "\"cafename\": \"데이터 전문가 포럼 (빅데이터분석기사...\",\n",
      "\"cafeurl\": \"https://cafe.naver.com/sqlpd\"\n",
      "\n",
      "},\n",
      "{\n",
      "\"title\": \"<b>파이썬</b> 책을 사야할까요??\",\n",
      "\"link\": \"http://cafe.naver.com/kongdae/140672\",\n",
      "\"description\": \"2학기부터 정보시간에 <b>파이썬</b> 배우기 시작했는데 교과서에는 내용이 충분하지 않은것 같아요ㅠㅠ 컴공과를... 하나 사두고 참고하면서 이것저것 해보고 싶긴 한데 <b>파이썬</b>에 쏟을 수 있는 시간이 많이 나지는 않을것... \",\n",
      "\"cafename\": \"[이공계의 별★서울대,KAIST,POSTECH,...\",\n",
      "\"cafeurl\": \"https://cafe.naver.com/kongdae\"\n",
      "\n",
      "},\n",
      "{\n",
      "\"title\": \"<b>파이썬</b>으로 plc 데이터 받아서 db에 저장하는게 가능한가요?\",\n",
      "\"link\": \"http://cafe.naver.com/cplc/297952\",\n",
      "\"description\": \"일반적으로 c#을 많이쓰는걸로 알고 있는데 <b>파이썬</b>으로 가능한지해서... 잘 안쓰면 왜안쓰는지...질문을 남겨봅니다.!\",\n",
      "\"cafename\": \"컴퓨터일반과PLC\",\n",
      "\"cafeurl\": \"https://cafe.naver.com/cplc\"\n",
      "\n",
      "}\n",
      "]\n",
      "}\n",
      "\n"
     ]
    }
   ],
   "source": [
    "# 네이버 검색 API예제는 블로그를 비롯 전문자료까지 호출방법이 동일하므로 blog검색만 대표로 예제를 올렸습니다.\n",
    "# 네이버 검색 Open API 예제 - 블로그 검색\n",
    "import os\n",
    "import sys\n",
    "import urllib.request\n",
    "# client_id = \"YOUR_CLIENT_ID\"\n",
    "# client_secret = \"YOUR_CLIENT_SECRET\"\n",
    "encText = urllib.parse.quote(\"파이썬\")\n",
    "title = \"cafearticle\"\n",
    "url = f\"https://openapi.naver.com/v1/search/{title}?query=\" + encText # json 결과\n",
    "# url = \"https://openapi.naver.com/v1/search/blog.xml?query=\" + encText # xml 결과\n",
    "request = urllib.request.Request(url)\n",
    "request.add_header(\"X-Naver-Client-Id\",client_id)\n",
    "request.add_header(\"X-Naver-Client-Secret\",client_secret)\n",
    "response = urllib.request.urlopen(request)\n",
    "rescode = response.getcode()\n",
    "if(rescode==200):\n",
    "    response_body = response.read()\n",
    "    print(response_body.decode('utf-8'))\n",
    "else:\n",
    "    print(\"Error Code:\" + rescode)"
   ]
  },
  {
   "cell_type": "markdown",
   "id": "3c932007",
   "metadata": {},
   "source": [
    "## 검색 : 쇼핑(shop)"
   ]
  },
  {
   "cell_type": "code",
   "execution_count": 18,
   "id": "706e9282",
   "metadata": {},
   "outputs": [
    {
     "name": "stdout",
     "output_type": "stream",
     "text": [
      "{\n",
      "\"lastBuildDate\": \"Mon, 11 Oct 2021 23:27:14 +0900\",\n",
      "\"total\": 346627,\n",
      "\"start\": 1,\n",
      "\"display\": 10,\n",
      "\"items\": [\n",
      "{\n",
      "\"title\": \"골든구스 슈퍼스타 <b>파이톤</b> 여자 스니커즈 GWF00102 F000761 10402\",\n",
      "\"link\": \"https://search.shopping.naver.com/gate.nhn?id=27539981407\",\n",
      "\"image\": \"https://shopping-phinf.pstatic.net/main_2753998/27539981407.20210612003415.jpg\",\n",
      "\"lprice\": \"366840\",\n",
      "\"hprice\": \"\",\n",
      "\"mallName\": \"네이버\",\n",
      "\"productId\": \"27539981407\",\n",
      "\"productType\": \"1\",\n",
      "\"brand\": \"골든구스\",\n",
      "\"maker\": \"골든구스\",\n",
      "\"category1\": \"패션잡화\",\n",
      "\"category2\": \"여성신발\",\n",
      "\"category3\": \"단화\",\n",
      "\"category4\": \"스니커즈\"\n",
      "\n",
      "},\n",
      "{\n",
      "\"title\": \"칼린 모드 H79163010\",\n",
      "\"link\": \"https://search.shopping.naver.com/gate.nhn?id=18402726379\",\n",
      "\"image\": \"https://shopping-phinf.pstatic.net/main_1840272/18402726379.20210604103232.jpg\",\n",
      "\"lprice\": \"68710\",\n",
      "\"hprice\": \"\",\n",
      "\"mallName\": \"네이버\",\n",
      "\"productId\": \"18402726379\",\n",
      "\"productType\": \"1\",\n",
      "\"brand\": \"칼린\",\n",
      "\"maker\": \"\",\n",
      "\"category1\": \"패션잡화\",\n",
      "\"category2\": \"여성가방\",\n",
      "\"category3\": \"크로스백\",\n",
      "\"category4\": \"\"\n",
      "\n",
      "},\n",
      "{\n",
      "\"title\": \"샌디 <b>파이톤</b> 핸드백 LTZ-5194\",\n",
      "\"link\": \"https://search.shopping.naver.com/gate.nhn?id=23455192579\",\n",
      "\"image\": \"https://shopping-phinf.pstatic.net/main_2345519/23455192579.20200714190521.jpg\",\n",
      "\"lprice\": \"98280\",\n",
      "\"hprice\": \"\",\n",
      "\"mallName\": \"네이버\",\n",
      "\"productId\": \"23455192579\",\n",
      "\"productType\": \"1\",\n",
      "\"brand\": \"\",\n",
      "\"maker\": \"\",\n",
      "\"category1\": \"패션잡화\",\n",
      "\"category2\": \"여성가방\",\n",
      "\"category3\": \"토트백\",\n",
      "\"category4\": \"\"\n",
      "\n",
      "},\n",
      "{\n",
      "\"title\": \"샤를리즈 <b>파이톤</b>백 POWT-1027\",\n",
      "\"link\": \"https://search.shopping.naver.com/gate.nhn?id=23134625806\",\n",
      "\"image\": \"https://shopping-phinf.pstatic.net/main_2313462/23134625806.20200613171707.jpg\",\n",
      "\"lprice\": \"88290\",\n",
      "\"hprice\": \"\",\n",
      "\"mallName\": \"네이버\",\n",
      "\"productId\": \"23134625806\",\n",
      "\"productType\": \"1\",\n",
      "\"brand\": \"\",\n",
      "\"maker\": \"\",\n",
      "\"category1\": \"패션잡화\",\n",
      "\"category2\": \"여성가방\",\n",
      "\"category3\": \"토트백\",\n",
      "\"category4\": \"\"\n",
      "\n",
      "},\n",
      "{\n",
      "\"title\": \"잘모이 셀리나 리얼 <b>파이톤</b> 스마트백 LTZ-5217\",\n",
      "\"link\": \"https://search.shopping.naver.com/gate.nhn?id=29034170281\",\n",
      "\"image\": \"https://shopping-phinf.pstatic.net/main_2903417/29034170281.20210929210506.jpg\",\n",
      "\"lprice\": \"88200\",\n",
      "\"hprice\": \"\",\n",
      "\"mallName\": \"네이버\",\n",
      "\"productId\": \"29034170281\",\n",
      "\"productType\": \"1\",\n",
      "\"brand\": \"잘모이\",\n",
      "\"maker\": \"\",\n",
      "\"category1\": \"패션잡화\",\n",
      "\"category2\": \"여성가방\",\n",
      "\"category3\": \"토트백\",\n",
      "\"category4\": \"\"\n",
      "\n",
      "},\n",
      "{\n",
      "\"title\": \"르까프 여성 <b>파이썬</b>18 PP 1118ST151\",\n",
      "\"link\": \"https://search.shopping.naver.com/gate.nhn?id=27397012345\",\n",
      "\"image\": \"https://shopping-phinf.pstatic.net/main_2739701/27397012345.20210602025256.jpg\",\n",
      "\"lprice\": \"20230\",\n",
      "\"hprice\": \"\",\n",
      "\"mallName\": \"네이버\",\n",
      "\"productId\": \"27397012345\",\n",
      "\"productType\": \"1\",\n",
      "\"brand\": \"르까프\",\n",
      "\"maker\": \"\",\n",
      "\"category1\": \"패션잡화\",\n",
      "\"category2\": \"여성신발\",\n",
      "\"category3\": \"운동화\",\n",
      "\"category4\": \"러닝화\"\n",
      "\n",
      "},\n",
      "{\n",
      "\"title\": \"사만사타바사 럭키 Lucky 미니백 15371MI68\",\n",
      "\"link\": \"https://search.shopping.naver.com/gate.nhn?id=24143307710\",\n",
      "\"image\": \"https://shopping-phinf.pstatic.net/main_2414330/24143307710.20211004002608.jpg\",\n",
      "\"lprice\": \"73370\",\n",
      "\"hprice\": \"\",\n",
      "\"mallName\": \"네이버\",\n",
      "\"productId\": \"24143307710\",\n",
      "\"productType\": \"1\",\n",
      "\"brand\": \"사만사타바사\",\n",
      "\"maker\": \"\",\n",
      "\"category1\": \"패션잡화\",\n",
      "\"category2\": \"여성가방\",\n",
      "\"category3\": \"크로스백\",\n",
      "\"category4\": \"\"\n",
      "\n",
      "},\n",
      "{\n",
      "\"title\": \"줄리아 <b>파이톤</b> 백팩 ZA-1100\",\n",
      "\"link\": \"https://search.shopping.naver.com/gate.nhn?id=24088641327\",\n",
      "\"image\": \"https://shopping-phinf.pstatic.net/main_2408864/24088641327.20200909020255.jpg\",\n",
      "\"lprice\": \"111780\",\n",
      "\"hprice\": \"\",\n",
      "\"mallName\": \"네이버\",\n",
      "\"productId\": \"24088641327\",\n",
      "\"productType\": \"1\",\n",
      "\"brand\": \"\",\n",
      "\"maker\": \"\",\n",
      "\"category1\": \"패션잡화\",\n",
      "\"category2\": \"여성가방\",\n",
      "\"category3\": \"백팩\",\n",
      "\"category4\": \"\"\n",
      "\n",
      "},\n",
      "{\n",
      "\"title\": \"젬므 <b>파이톤</b>백 스카프 LTZ-5181\",\n",
      "\"link\": \"https://search.shopping.naver.com/gate.nhn?id=22164931999\",\n",
      "\"image\": \"https://shopping-phinf.pstatic.net/main_2216493/22164931999.20200310151009.jpg\",\n",
      "\"lprice\": \"98990\",\n",
      "\"hprice\": \"\",\n",
      "\"mallName\": \"네이버\",\n",
      "\"productId\": \"22164931999\",\n",
      "\"productType\": \"1\",\n",
      "\"brand\": \"\",\n",
      "\"maker\": \"\",\n",
      "\"category1\": \"패션잡화\",\n",
      "\"category2\": \"여성가방\",\n",
      "\"category3\": \"토트백\",\n",
      "\"category4\": \"\"\n",
      "\n",
      "},\n",
      "{\n",
      "\"title\": \"국내제작 미니 반달 투웨이 숄더 크로스 호보백\",\n",
      "\"link\": \"https://search.shopping.naver.com/gate.nhn?id=22883016920\",\n",
      "\"image\": \"https://shopping-phinf.pstatic.net/main_2288301/22883016920.20200517143913.jpg\",\n",
      "\"lprice\": \"16900\",\n",
      "\"hprice\": \"\",\n",
      "\"mallName\": \"네이버\",\n",
      "\"productId\": \"22883016920\",\n",
      "\"productType\": \"1\",\n",
      "\"brand\": \"\",\n",
      "\"maker\": \"\",\n",
      "\"category1\": \"패션잡화\",\n",
      "\"category2\": \"여성가방\",\n",
      "\"category3\": \"크로스백\",\n",
      "\"category4\": \"\"\n",
      "\n",
      "}\n",
      "]\n",
      "}\n",
      "\n"
     ]
    }
   ],
   "source": [
    "\n",
    "# 네이버 검색 API예제는 블로그를 비롯 전문자료까지 호출방법이 동일하므로 blog검색만 대표로 예제를 올렸습니다.\n",
    "# 네이버 검색 Open API 예제 - 블로그 검색\n",
    "import os\n",
    "import sys\n",
    "import urllib.request\n",
    "# client_id = \"YOUR_CLIENT_ID\"\n",
    "# client_secret = \"YOUR_CLIENT_SECRET\"\n",
    "encText = urllib.parse.quote(\"파이썬\")\n",
    "title = \"shop\"\n",
    "url = f\"https://openapi.naver.com/v1/search/{title}?query=\" + encText # json 결과\n",
    "# url = \"https://openapi.naver.com/v1/search/blog.xml?query=\" + encText # xml 결과\n",
    "request = urllib.request.Request(url)\n",
    "request.add_header(\"X-Naver-Client-Id\",client_id)\n",
    "request.add_header(\"X-Naver-Client-Secret\",client_secret)\n",
    "response = urllib.request.urlopen(request)\n",
    "rescode = response.getcode()\n",
    "if(rescode==200):\n",
    "    response_body = response.read()\n",
    "    print(response_body.decode('utf-8'))\n",
    "else:\n",
    "    print(\"Error Code:\" + rescode)"
   ]
  },
  {
   "cell_type": "markdown",
   "id": "221f8aae",
   "metadata": {},
   "source": [
    "## 검색 : 백과사전(encyc)"
   ]
  },
  {
   "cell_type": "code",
   "execution_count": 20,
   "id": "77d728ed",
   "metadata": {},
   "outputs": [
    {
     "name": "stdout",
     "output_type": "stream",
     "text": [
      "{\n",
      "\"lastBuildDate\": \"Mon, 11 Oct 2021 23:27:35 +0900\",\n",
      "\"total\": 444,\n",
      "\"start\": 1,\n",
      "\"display\": 10,\n",
      "\"items\": [\n",
      "{\n",
      "\"title\": \"<b>파이썬</b>\",\n",
      "\"link\": \"https://terms.naver.com/entry.naver?docId=3580815&cid=59088&categoryId=59096\",\n",
      "\"description\": \"‘<b>파이썬</b>’이다. 간결한 문법으로 입문자가 이해하기 쉽고, 다양한 분야에 활용할 수 있기 때문이다. 이 외에도 <b>파이썬</b>은 머신러닝, 그래픽, 웹 개발 등 여러 업계에서 선호하는 언어로 꾸준히... \",\n",
      "\"thumbnail\": \"http://openapi-dbscthumb.phinf.naver.net/4749_000_1/20170118193349632_0CHSSS5Y6.png/01_16.png?type=m160_160\"\n",
      "\n",
      "},\n",
      "{\n",
      "\"title\": \"<b>파이썬</b>\",\n",
      "\"link\": \"https://terms.naver.com/entry.naver?docId=3607513&cid=58598&categoryId=59316\",\n",
      "\"description\": \" 컴퓨터 언어의 일종으로 간결하고 생산성 높은 프로그래밍 언어.  <b>파이썬</b>(python)은 프로그램을 설계하는 프로그래밍 언어 중 하나입니다. 컴퓨터는 0과 1을(이진수) 인식하여 작동하기 때문에 과거에는... \",\n",
      "\"thumbnail\": \"http://openapi-dbscthumb.phinf.naver.net/4751_000_3/20170710213206672_OPHLG2VOW.jpg/992_170575_10034.jpg?type=m160_160\"\n",
      "\n",
      "},\n",
      "{\n",
      "\"title\": \"<b>파이썬</b>\",\n",
      "\"link\": \"https://terms.naver.com/entry.naver?docId=3533295&cid=40942&categoryId=32838\",\n",
      "\"description\": \" 오픈소스 고급 프로그래밍 언어 중 하나이다.  C언어를 기반으로 한 오픈소스 고급 프로그래밍 언어로, 1991년 귀도 반 로섬(Guido van Rossum)에 의해 설계 및 개발되었다. <b>파이썬</b>이라는 이름은 <b>파이썬</b>을... \",\n",
      "\"thumbnail\": \"\"\n",
      "\n",
      "},\n",
      "{\n",
      "\"title\": \"<b>파이썬</b>\",\n",
      "\"link\": \"https://ko.wikipedia.org/wiki/%ED%8C%8C%EC%9D%B4%EC%8D%AC\",\n",
      "\"description\": \"<b>파이썬</b> ( 영어: Python )은 1991년 프로그래머인 귀도 반 로섬이 발표한 고급 프로그래밍 언어로, 플랫폼에 독립적이며 인터프리터식, 객체지향적, 동적 타이핑(dynamically typed) 대화형 언어이다.... \",\n",
      "\"thumbnail\": \"\"\n",
      "\n",
      "},\n",
      "{\n",
      "\"title\": \"C<b>파이썬</b>\",\n",
      "\"link\": \"https://ko.wikipedia.org/wiki/C%ED%8C%8C%EC%9D%B4%EC%8D%AC\",\n",
      "\"description\": \"C<b>파이썬</b> (CPython)은 <b>파이썬</b> 프로그래밍 언어의 참조 구현체이다. C와 <b>파이썬</b>으로 작성된 C<b>파이썬</b>은 이 언어에 가장 널리 사용되는 기본 구현체이다. C<b>파이썬</b>은 인터프리트 과정 이전에 <b>파이썬</b> 코드를... \",\n",
      "\"thumbnail\": \"\"\n",
      "\n",
      "},\n",
      "{\n",
      "\"title\": \"바이오<b>파이썬</b>\",\n",
      "\"link\": \"https://ko.wikipedia.org/wiki/%EB%B0%94%EC%9D%B4%EC%98%A4%ED%8C%8C%EC%9D%B4%EC%8D%AC\",\n",
      "\"description\": \"바이오<b>파이썬</b> (Biopython) 프로젝트는 분자생물학 계산에 자유롭게 사용하기 위한 <b>파이썬</b> 라이브러리 구축 프로젝트이다. 같이 보기 바이오자바 바이오펄 외부 링크 biopython.org\",\n",
      "\"thumbnail\": \"\"\n",
      "\n",
      "},\n",
      "{\n",
      "\"title\": \"<b>파이썬</b>의 역사\",\n",
      "\"link\": \"https://ko.wikipedia.org/wiki/%ED%8C%8C%EC%9D%B4%EC%8D%AC%EC%9D%98_%EC%97%AD%EC%82%AC\",\n",
      "\"description\": \"프로그래밍 언어 <b>파이썬</b>은 1980년대 말에 구상되었으며 그 구현체는 1989년 12월 예외 처리가 가능하고 아메바 운영 체제와 통신이 가능한 ABC의 후속 프로그래밍 언어로서 CWI(Centrum Wiskunde... \",\n",
      "\"thumbnail\": \"\"\n",
      "\n",
      "},\n",
      "{\n",
      "\"title\": \"아나콘다 (<b>파이썬</b> 배포판)\",\n",
      "\"link\": \"https://ko.wikipedia.org/wiki/%EC%95%84%EB%82%98%EC%BD%98%EB%8B%A4_(%ED%8C%8C%EC%9D%B4%EC%8D%AC_%EB%B0%B0%ED%8F%AC%ED%8C%90)\",\n",
      "\"description\": \"아나콘다 (Anaconda)는 패키지 관리와 디플로이를 단순케 할 목적으로 과학 계산(데이터 과학, 기계 학습 애플리케이션, 대규모 데이터 처리, 예측 분석 등)을 위해 <b>파이썬</b>과 R 프로그래밍 언어의 자유... \",\n",
      "\"thumbnail\": \"\"\n",
      "\n",
      "},\n",
      "{\n",
      "\"title\": \"<b>파이썬</b> 소프트웨어 재단\",\n",
      "\"link\": \"https://ko.wikipedia.org/wiki/%ED%8C%8C%EC%9D%B4%EC%8D%AC_%EC%86%8C%ED%94%84%ED%8A%B8%EC%9B%A8%EC%96%B4_%EC%9E%AC%EB%8B%A8\",\n",
      "\"description\": \"<b>파이썬</b> 소프트웨어 재단 (Python Software Foundation, PSF)은 <b>파이썬</b> 프로그래밍 언어에 헌신하는 비영리 단체로서, 2001년 3월 6일 런칭했다. 이 단체의 임무는 <b>파이썬</b> 공동체의 개발을 발전시키고... \",\n",
      "\"thumbnail\": \"\"\n",
      "\n",
      "},\n",
      "{\n",
      "\"title\": \"자이썬\",\n",
      "\"link\": \"https://ko.wikipedia.org/wiki/%EC%9E%90%EC%9D%B4%EC%8D%AC\",\n",
      "\"description\": \"자이썬 ( Jython )은 <b>파이썬</b>의 자바 구현으로, Jim Hugunin에 의해 처음으로 만들어졌다. 처음에는 <b>파이썬</b> 표준 구현의 이름(CPython)을 따라 JPython 라는 이름을 썼다. 자이썬은 자바 언어로만 작성되었기... \",\n",
      "\"thumbnail\": \"\"\n",
      "\n",
      "}\n",
      "]\n",
      "}\n",
      "\n"
     ]
    }
   ],
   "source": [
    "# 네이버 검색 API예제는 블로그를 비롯 전문자료까지 호출방법이 동일하므로 blog검색만 대표로 예제를 올렸습니다.\n",
    "# 네이버 검색 Open API 예제 - 블로그 검색\n",
    "import os\n",
    "import sys\n",
    "import urllib.request\n",
    "# client_id = \"YOUR_CLIENT_ID\"\n",
    "# client_secret = \"YOUR_CLIENT_SECRET\"\n",
    "encText = urllib.parse.quote(\"파이썬\")\n",
    "title = \"encyc\"\n",
    "url = f\"https://openapi.naver.com/v1/search/{title}?query=\" + encText # json 결과\n",
    "# url = \"https://openapi.naver.com/v1/search/blog.xml?query=\" + encText # xml 결과\n",
    "request = urllib.request.Request(url)\n",
    "request.add_header(\"X-Naver-Client-Id\",client_id)\n",
    "request.add_header(\"X-Naver-Client-Secret\",client_secret)\n",
    "response = urllib.request.urlopen(request)\n",
    "rescode = response.getcode()\n",
    "if(rescode==200):\n",
    "    response_body = response.read()\n",
    "    print(response_body.decode('utf-8'))\n",
    "else:\n",
    "    print(\"Error Code:\" + rescode)"
   ]
  },
  {
   "cell_type": "markdown",
   "id": "60fe36fb",
   "metadata": {},
   "source": [
    "## 3. 상품 검색\n",
    "- \"몰스킨\""
   ]
  },
  {
   "cell_type": "code",
   "execution_count": 3,
   "id": "417ce8a6",
   "metadata": {},
   "outputs": [
    {
     "name": "stdout",
     "output_type": "stream",
     "text": [
      "{\n",
      "\"lastBuildDate\": \"Mon, 11 Oct 2021 23:54:06 +0900\",\n",
      "\"total\": 29635,\n",
      "\"start\": 1,\n",
      "\"display\": 10,\n",
      "\"items\": [\n",
      "{\n",
      "\"title\": \"한정판 <b>몰스킨</b> 2022 해리포터 데일리 다이어리 포캣\",\n",
      "\"link\": \"https://search.shopping.naver.com/gate.nhn?id=28719894754\",\n",
      "\"image\": \"https://shopping-phinf.pstatic.net/main_2871989/28719894754.20210906035419.jpg\",\n",
      "\"lprice\": \"31620\",\n",
      "\"hprice\": \"\",\n",
      "\"mallName\": \"네이버\",\n",
      "\"productId\": \"28719894754\",\n",
      "\"productType\": \"1\",\n",
      "\"brand\": \"몰스킨\",\n",
      "\"maker\": \"몰스킨\",\n",
      "\"category1\": \"생활/건강\",\n",
      "\"category2\": \"문구/사무용품\",\n",
      "\"category3\": \"다이어리/플래너\",\n",
      "\"category4\": \"다이어리\"\n",
      "\n",
      "},\n",
      "{\n",
      "\"title\": \"한정판 <b>몰스킨</b> 2022 피너츠 위클리 다이어리 포켓\",\n",
      "\"link\": \"https://search.shopping.naver.com/gate.nhn?id=28763297998\",\n",
      "\"image\": \"https://shopping-phinf.pstatic.net/main_2876329/28763297998.20210908210546.jpg\",\n",
      "\"lprice\": \"29500\",\n",
      "\"hprice\": \"\",\n",
      "\"mallName\": \"네이버\",\n",
      "\"productId\": \"28763297998\",\n",
      "\"productType\": \"1\",\n",
      "\"brand\": \"몰스킨\",\n",
      "\"maker\": \"몰스킨\",\n",
      "\"category1\": \"생활/건강\",\n",
      "\"category2\": \"문구/사무용품\",\n",
      "\"category3\": \"다이어리/플래너\",\n",
      "\"category4\": \"다이어리\"\n",
      "\n",
      "},\n",
      "{\n",
      "\"title\": \"<b>몰스킨</b> 2022 다이어리 데일리 위클리 포켓 고급 명품 감성 휴대용 여자 각인 해리포터\",\n",
      "\"link\": \"https://search.shopping.naver.com/gate.nhn?id=83374268420\",\n",
      "\"image\": \"https://shopping-phinf.pstatic.net/main_8337426/83374268420.jpg\",\n",
      "\"lprice\": \"26800\",\n",
      "\"hprice\": \"\",\n",
      "\"mallName\": \"에코펜\",\n",
      "\"productId\": \"83374268420\",\n",
      "\"productType\": \"2\",\n",
      "\"brand\": \"몰스킨\",\n",
      "\"maker\": \"몰스킨\",\n",
      "\"category1\": \"생활/건강\",\n",
      "\"category2\": \"문구/사무용품\",\n",
      "\"category3\": \"다이어리/플래너\",\n",
      "\"category4\": \"다이어리\"\n",
      "\n",
      "},\n",
      "{\n",
      "\"title\": \"<b>몰스킨</b> 클래식 노트 소프트커버 도트 포켓 머틀그린\",\n",
      "\"link\": \"https://search.shopping.naver.com/gate.nhn?id=24014924801\",\n",
      "\"image\": \"https://shopping-phinf.pstatic.net/main_2401492/24014924801.20200903021703.jpg\",\n",
      "\"lprice\": \"18810\",\n",
      "\"hprice\": \"\",\n",
      "\"mallName\": \"네이버\",\n",
      "\"productId\": \"24014924801\",\n",
      "\"productType\": \"1\",\n",
      "\"brand\": \"몰스킨\",\n",
      "\"maker\": \"몰스킨\",\n",
      "\"category1\": \"생활/건강\",\n",
      "\"category2\": \"문구/사무용품\",\n",
      "\"category3\": \"노트/수첩\",\n",
      "\"category4\": \"노트\"\n",
      "\n",
      "},\n",
      "{\n",
      "\"title\": \"<b>몰스킨</b> 클래식노트 플레인 하드 L\",\n",
      "\"link\": \"https://search.shopping.naver.com/gate.nhn?id=24031381534\",\n",
      "\"image\": \"https://shopping-phinf.pstatic.net/main_2403138/24031381534.20200904012957.jpg\",\n",
      "\"lprice\": \"19930\",\n",
      "\"hprice\": \"\",\n",
      "\"mallName\": \"네이버\",\n",
      "\"productId\": \"24031381534\",\n",
      "\"productType\": \"1\",\n",
      "\"brand\": \"몰스킨\",\n",
      "\"maker\": \"몰스킨\",\n",
      "\"category1\": \"생활/건강\",\n",
      "\"category2\": \"문구/사무용품\",\n",
      "\"category3\": \"노트/수첩\",\n",
      "\"category4\": \"노트\"\n",
      "\n",
      "},\n",
      "{\n",
      "\"title\": \"<b>몰스킨</b> 2022 데일리 다이어리 하드커버 포켓 4색상\",\n",
      "\"link\": \"https://search.shopping.naver.com/gate.nhn?id=28719036749\",\n",
      "\"image\": \"https://shopping-phinf.pstatic.net/main_2871903/28719036749.20210906011032.jpg\",\n",
      "\"lprice\": \"26230\",\n",
      "\"hprice\": \"\",\n",
      "\"mallName\": \"네이버\",\n",
      "\"productId\": \"28719036749\",\n",
      "\"productType\": \"1\",\n",
      "\"brand\": \"몰스킨\",\n",
      "\"maker\": \"몰스킨\",\n",
      "\"category1\": \"생활/건강\",\n",
      "\"category2\": \"문구/사무용품\",\n",
      "\"category3\": \"다이어리/플래너\",\n",
      "\"category4\": \"다이어리\"\n",
      "\n",
      "},\n",
      "{\n",
      "\"title\": \"<b>몰스킨</b> 클래식노트 SOFT 하이드레인저\",\n",
      "\"link\": \"https://search.shopping.naver.com/gate.nhn?id=27370038858\",\n",
      "\"image\": \"https://shopping-phinf.pstatic.net/main_2737003/27370038858.20210530181457.jpg\",\n",
      "\"lprice\": \"18100\",\n",
      "\"hprice\": \"\",\n",
      "\"mallName\": \"네이버\",\n",
      "\"productId\": \"27370038858\",\n",
      "\"productType\": \"1\",\n",
      "\"brand\": \"몰스킨\",\n",
      "\"maker\": \"몰스킨\",\n",
      "\"category1\": \"생활/건강\",\n",
      "\"category2\": \"문구/사무용품\",\n",
      "\"category3\": \"노트/수첩\",\n",
      "\"category4\": \"노트\"\n",
      "\n",
      "},\n",
      "{\n",
      "\"title\": \"<b>몰스킨</b> 2021 위클리 소프트 P-\",\n",
      "\"link\": \"https://search.shopping.naver.com/gate.nhn?id=25430082807\",\n",
      "\"image\": \"https://shopping-phinf.pstatic.net/main_2543008/25430082807.20201230215155.jpg\",\n",
      "\"lprice\": \"20480\",\n",
      "\"hprice\": \"\",\n",
      "\"mallName\": \"네이버\",\n",
      "\"productId\": \"25430082807\",\n",
      "\"productType\": \"1\",\n",
      "\"brand\": \"몰스킨\",\n",
      "\"maker\": \"몰스킨\",\n",
      "\"category1\": \"생활/건강\",\n",
      "\"category2\": \"문구/사무용품\",\n",
      "\"category3\": \"다이어리/플래너\",\n",
      "\"category4\": \"다이어리\"\n",
      "\n",
      "},\n",
      "{\n",
      "\"title\": \"한정판 <b>몰스킨</b> 2022 어린왕자 데일리 다이어리 포켓\",\n",
      "\"link\": \"https://search.shopping.naver.com/gate.nhn?id=28745540468\",\n",
      "\"image\": \"https://shopping-phinf.pstatic.net/main_2874554/28745540468.20210907204153.jpg\",\n",
      "\"lprice\": \"31620\",\n",
      "\"hprice\": \"\",\n",
      "\"mallName\": \"네이버\",\n",
      "\"productId\": \"28745540468\",\n",
      "\"productType\": \"1\",\n",
      "\"brand\": \"몰스킨\",\n",
      "\"maker\": \"몰스킨\",\n",
      "\"category1\": \"생활/건강\",\n",
      "\"category2\": \"문구/사무용품\",\n",
      "\"category3\": \"다이어리/플래너\",\n",
      "\"category4\": \"다이어리\"\n",
      "\n",
      "},\n",
      "{\n",
      "\"title\": \"<b>몰스킨</b> <b>몰스킨</b> 2022 위클리 18개월 다이어리 소프트커버 라지 색상선택\",\n",
      "\"link\": \"https://search.shopping.naver.com/gate.nhn?id=27137560168\",\n",
      "\"image\": \"https://shopping-phinf.pstatic.net/main_2713756/27137560168.20210513175845.jpg\",\n",
      "\"lprice\": \"34000\",\n",
      "\"hprice\": \"\",\n",
      "\"mallName\": \"네이버\",\n",
      "\"productId\": \"27137560168\",\n",
      "\"productType\": \"1\",\n",
      "\"brand\": \"몰스킨\",\n",
      "\"maker\": \"몰스킨\",\n",
      "\"category1\": \"생활/건강\",\n",
      "\"category2\": \"문구/사무용품\",\n",
      "\"category3\": \"다이어리/플래너\",\n",
      "\"category4\": \"다이어리\"\n",
      "\n",
      "}\n",
      "]\n",
      "}\n",
      "\n"
     ]
    }
   ],
   "source": [
    "# 네이버 검색 API예제는 블로그를 비롯 전문자료까지 호출방법이 동일하므로 blog검색만 대표로 예제를 올렸습니다.\n",
    "# 네이버 검색 Open API 예제 - 블로그 검색\n",
    "import os\n",
    "import sys\n",
    "import urllib.request\n",
    "# client_id = \"YOUR_CLIENT_ID\"\n",
    "# client_secret = \"YOUR_CLIENT_SECRET\"\n",
    "encText = urllib.parse.quote(\"몰스킨\")\n",
    "title = \"shop\"\n",
    "url = f\"https://openapi.naver.com/v1/search/{title}?query=\" + encText # json 결과\n",
    "# url = \"https://openapi.naver.com/v1/search/blog.xml?query=\" + encText # xml 결과\n",
    "request = urllib.request.Request(url)\n",
    "request.add_header(\"X-Naver-Client-Id\",client_id)\n",
    "request.add_header(\"X-Naver-Client-Secret\",client_secret)\n",
    "response = urllib.request.urlopen(request)\n",
    "rescode = response.getcode()\n",
    "if(rescode==200):\n",
    "    response_body = response.read()\n",
    "    print(response_body.decode('utf-8'))\n",
    "else:\n",
    "    print(\"Error Code:\" + rescode)"
   ]
  },
  {
   "cell_type": "markdown",
   "id": "4560b1c5",
   "metadata": {},
   "source": [
    "## (1) gen_search_url()\n",
    "- https://developers.naver.com/docs/serviceapi/search/shopping/shopping.md#%EC%87%BC%ED%95%91"
   ]
  },
  {
   "cell_type": "code",
   "execution_count": 23,
   "id": "52a84fba",
   "metadata": {},
   "outputs": [],
   "source": [
    "def gen_search_url(api_node, search_text, start_num, disp_num):\n",
    "    base = \"https://openapi.naver.com/v1/search\"\n",
    "    node = \"/\" + api_node + \".json\"\n",
    "    param_query = \"?query=\" + urllib.parse.quote(search_text)\n",
    "    param_start = \"&start=\" + str(start_num)\n",
    "    param_disp = \"&display=\" + str(disp_num)\n",
    "    \n",
    "    return base + node + param_query + param_start + param_disp"
   ]
  },
  {
   "cell_type": "code",
   "execution_count": 24,
   "id": "5d6ef635",
   "metadata": {},
   "outputs": [
    {
     "data": {
      "text/plain": [
       "'https://openapi.naver.com/v1/search/shop.json?query=TEST&start=10&display=3'"
      ]
     },
     "execution_count": 24,
     "metadata": {},
     "output_type": "execute_result"
    }
   ],
   "source": [
    "gen_search_url(\"shop\", \"TEST\", 10, \"3\")"
   ]
  },
  {
   "cell_type": "markdown",
   "id": "6f05ad5b",
   "metadata": {},
   "source": [
    "## (2) get_result_onepage()"
   ]
  },
  {
   "cell_type": "code",
   "execution_count": 25,
   "id": "1c95ff8a",
   "metadata": {},
   "outputs": [],
   "source": [
    "import json\n",
    "import datetime\n",
    "\n",
    "def get_result_onpage(url):\n",
    "    request = urllib.request.Request(url)\n",
    "    request.add_header(\"X-Naver-Client-Id\",client_id)\n",
    "    request.add_header(\"X-Naver-Client-Secret\",client_secret)\n",
    "    response = urllib.request.urlopen(request)\n",
    "    print(\"[%s] Url Request Success\" % datetime.datetime.now())\n",
    "    \n",
    "    return json.loads(response.read().decode(\"utf-8\"))\n",
    "    "
   ]
  },
  {
   "cell_type": "code",
   "execution_count": 26,
   "id": "5ca20151",
   "metadata": {},
   "outputs": [
    {
     "name": "stdout",
     "output_type": "stream",
     "text": [
      "[2021-10-12 00:13:16.211490] Url Request Success\n"
     ]
    }
   ],
   "source": [
    "url = gen_search_url(\"shop\", \"몰스킨\", 1, 5)\n",
    "one_result = get_result_onpage(url)"
   ]
  },
  {
   "cell_type": "code",
   "execution_count": 27,
   "id": "e9c505a6",
   "metadata": {},
   "outputs": [
    {
     "data": {
      "text/plain": [
       "{'lastBuildDate': 'Tue, 12 Oct 2021 00:13:16 +0900',\n",
       " 'total': 29638,\n",
       " 'start': 1,\n",
       " 'display': 5,\n",
       " 'items': [{'title': '한정판 <b>몰스킨</b> 2022 해리포터 데일리 다이어리 포캣',\n",
       "   'link': 'https://search.shopping.naver.com/gate.nhn?id=28719894754',\n",
       "   'image': 'https://shopping-phinf.pstatic.net/main_2871989/28719894754.20210906035419.jpg',\n",
       "   'lprice': '31620',\n",
       "   'hprice': '',\n",
       "   'mallName': '네이버',\n",
       "   'productId': '28719894754',\n",
       "   'productType': '1',\n",
       "   'brand': '몰스킨',\n",
       "   'maker': '몰스킨',\n",
       "   'category1': '생활/건강',\n",
       "   'category2': '문구/사무용품',\n",
       "   'category3': '다이어리/플래너',\n",
       "   'category4': '다이어리'},\n",
       "  {'title': '한정판 <b>몰스킨</b> 2022 피너츠 위클리 다이어리 포켓',\n",
       "   'link': 'https://search.shopping.naver.com/gate.nhn?id=28763297998',\n",
       "   'image': 'https://shopping-phinf.pstatic.net/main_2876329/28763297998.20210908210546.jpg',\n",
       "   'lprice': '29500',\n",
       "   'hprice': '',\n",
       "   'mallName': '네이버',\n",
       "   'productId': '28763297998',\n",
       "   'productType': '1',\n",
       "   'brand': '몰스킨',\n",
       "   'maker': '몰스킨',\n",
       "   'category1': '생활/건강',\n",
       "   'category2': '문구/사무용품',\n",
       "   'category3': '다이어리/플래너',\n",
       "   'category4': '다이어리'},\n",
       "  {'title': '<b>몰스킨</b> 2022 다이어리 데일리 위클리 포켓 고급 명품 감성 휴대용 여자 각인 해리포터',\n",
       "   'link': 'https://search.shopping.naver.com/gate.nhn?id=83374268420',\n",
       "   'image': 'https://shopping-phinf.pstatic.net/main_8337426/83374268420.jpg',\n",
       "   'lprice': '26800',\n",
       "   'hprice': '',\n",
       "   'mallName': '에코펜',\n",
       "   'productId': '83374268420',\n",
       "   'productType': '2',\n",
       "   'brand': '몰스킨',\n",
       "   'maker': '몰스킨',\n",
       "   'category1': '생활/건강',\n",
       "   'category2': '문구/사무용품',\n",
       "   'category3': '다이어리/플래너',\n",
       "   'category4': '다이어리'},\n",
       "  {'title': '<b>몰스킨</b> 클래식 노트 소프트커버 도트 포켓 머틀그린',\n",
       "   'link': 'https://search.shopping.naver.com/gate.nhn?id=24014924801',\n",
       "   'image': 'https://shopping-phinf.pstatic.net/main_2401492/24014924801.20200903021703.jpg',\n",
       "   'lprice': '18810',\n",
       "   'hprice': '',\n",
       "   'mallName': '네이버',\n",
       "   'productId': '24014924801',\n",
       "   'productType': '1',\n",
       "   'brand': '몰스킨',\n",
       "   'maker': '몰스킨',\n",
       "   'category1': '생활/건강',\n",
       "   'category2': '문구/사무용품',\n",
       "   'category3': '노트/수첩',\n",
       "   'category4': '노트'},\n",
       "  {'title': '<b>몰스킨</b> 클래식노트 플레인 하드 L',\n",
       "   'link': 'https://search.shopping.naver.com/gate.nhn?id=24031381534',\n",
       "   'image': 'https://shopping-phinf.pstatic.net/main_2403138/24031381534.20200904012957.jpg',\n",
       "   'lprice': '19930',\n",
       "   'hprice': '',\n",
       "   'mallName': '네이버',\n",
       "   'productId': '24031381534',\n",
       "   'productType': '1',\n",
       "   'brand': '몰스킨',\n",
       "   'maker': '몰스킨',\n",
       "   'category1': '생활/건강',\n",
       "   'category2': '문구/사무용품',\n",
       "   'category3': '노트/수첩',\n",
       "   'category4': '노트'}]}"
      ]
     },
     "execution_count": 27,
     "metadata": {},
     "output_type": "execute_result"
    }
   ],
   "source": [
    "one_result"
   ]
  },
  {
   "cell_type": "code",
   "execution_count": 28,
   "id": "a2378de1",
   "metadata": {},
   "outputs": [
    {
     "data": {
      "text/plain": [
       "'한정판 몰스킨 2022 해리포터 데일리 다이어리 포캣'"
      ]
     },
     "execution_count": 28,
     "metadata": {},
     "output_type": "execute_result"
    }
   ],
   "source": [
    "one_result[\"items\"][0][\"title\"].replace(\"<b>\", \"\").replace(\"</b>\", \"\")"
   ]
  },
  {
   "cell_type": "code",
   "execution_count": 29,
   "id": "2ebcde6d",
   "metadata": {},
   "outputs": [
    {
     "data": {
      "text/plain": [
       "'https://search.shopping.naver.com/gate.nhn?id=28719894754'"
      ]
     },
     "execution_count": 29,
     "metadata": {},
     "output_type": "execute_result"
    }
   ],
   "source": [
    "one_result[\"items\"][0][\"link\"]"
   ]
  },
  {
   "cell_type": "code",
   "execution_count": 30,
   "id": "f54cfc72",
   "metadata": {},
   "outputs": [
    {
     "data": {
      "text/plain": [
       "'31620'"
      ]
     },
     "execution_count": 30,
     "metadata": {},
     "output_type": "execute_result"
    }
   ],
   "source": [
    "one_result[\"items\"][0][\"lprice\"]"
   ]
  },
  {
   "cell_type": "code",
   "execution_count": 31,
   "id": "d4a597af",
   "metadata": {},
   "outputs": [
    {
     "data": {
      "text/plain": [
       "'네이버'"
      ]
     },
     "execution_count": 31,
     "metadata": {},
     "output_type": "execute_result"
    }
   ],
   "source": [
    "one_result[\"items\"][0][\"mallName\"]"
   ]
  },
  {
   "cell_type": "markdown",
   "id": "f70d8c7f",
   "metadata": {},
   "source": [
    "## (3) get_fields()"
   ]
  },
  {
   "cell_type": "code",
   "execution_count": 33,
   "id": "a86596cc",
   "metadata": {},
   "outputs": [
    {
     "data": {
      "text/plain": [
       "{'title': '한정판 <b>몰스킨</b> 2022 해리포터 데일리 다이어리 포캣',\n",
       " 'link': 'https://search.shopping.naver.com/gate.nhn?id=28719894754',\n",
       " 'image': 'https://shopping-phinf.pstatic.net/main_2871989/28719894754.20210906035419.jpg',\n",
       " 'lprice': '31620',\n",
       " 'hprice': '',\n",
       " 'mallName': '네이버',\n",
       " 'productId': '28719894754',\n",
       " 'productType': '1',\n",
       " 'brand': '몰스킨',\n",
       " 'maker': '몰스킨',\n",
       " 'category1': '생활/건강',\n",
       " 'category2': '문구/사무용품',\n",
       " 'category3': '다이어리/플래너',\n",
       " 'category4': '다이어리'}"
      ]
     },
     "execution_count": 33,
     "metadata": {},
     "output_type": "execute_result"
    }
   ],
   "source": [
    "one_result[\"items\"][0]"
   ]
  },
  {
   "cell_type": "code",
   "execution_count": 34,
   "id": "4ffaecd8",
   "metadata": {},
   "outputs": [],
   "source": [
    "import pandas as pd\n",
    "\n",
    "def get_fields(json_data):\n",
    "    title = [each[\"title\"] for each in json_data[\"items\"]]\n",
    "    link = [each[\"link\"] for each in json_data[\"items\"]]\n",
    "    lprice = [each[\"lprice\"] for each in json_data[\"items\"]]\n",
    "    mall_name = [each[\"mallName\"] for each in json_data[\"items\"]]\n",
    "    \n",
    "    result_pd = pd.DataFrame({\n",
    "        \"title\":title,\n",
    "        \"link\":link,\n",
    "        \"lprice\":lprice,\n",
    "        \"mall_name\":mall_name\n",
    "    }, columns=[\"title\", \"lprice\", \"link\", \"mall_name\"])\n",
    "    return result_pd"
   ]
  },
  {
   "cell_type": "code",
   "execution_count": 35,
   "id": "ddde7b35",
   "metadata": {},
   "outputs": [
    {
     "data": {
      "text/html": [
       "<div>\n",
       "<style scoped>\n",
       "    .dataframe tbody tr th:only-of-type {\n",
       "        vertical-align: middle;\n",
       "    }\n",
       "\n",
       "    .dataframe tbody tr th {\n",
       "        vertical-align: top;\n",
       "    }\n",
       "\n",
       "    .dataframe thead th {\n",
       "        text-align: right;\n",
       "    }\n",
       "</style>\n",
       "<table border=\"1\" class=\"dataframe\">\n",
       "  <thead>\n",
       "    <tr style=\"text-align: right;\">\n",
       "      <th></th>\n",
       "      <th>title</th>\n",
       "      <th>lprice</th>\n",
       "      <th>link</th>\n",
       "      <th>mall_name</th>\n",
       "    </tr>\n",
       "  </thead>\n",
       "  <tbody>\n",
       "    <tr>\n",
       "      <th>0</th>\n",
       "      <td>한정판 &lt;b&gt;몰스킨&lt;/b&gt; 2022 해리포터 데일리 다이어리 포캣</td>\n",
       "      <td>31620</td>\n",
       "      <td>https://search.shopping.naver.com/gate.nhn?id=...</td>\n",
       "      <td>네이버</td>\n",
       "    </tr>\n",
       "    <tr>\n",
       "      <th>1</th>\n",
       "      <td>한정판 &lt;b&gt;몰스킨&lt;/b&gt; 2022 피너츠 위클리 다이어리 포켓</td>\n",
       "      <td>29500</td>\n",
       "      <td>https://search.shopping.naver.com/gate.nhn?id=...</td>\n",
       "      <td>네이버</td>\n",
       "    </tr>\n",
       "    <tr>\n",
       "      <th>2</th>\n",
       "      <td>&lt;b&gt;몰스킨&lt;/b&gt; 2022 다이어리 데일리 위클리 포켓 고급 명품 감성 휴대용 여...</td>\n",
       "      <td>26800</td>\n",
       "      <td>https://search.shopping.naver.com/gate.nhn?id=...</td>\n",
       "      <td>에코펜</td>\n",
       "    </tr>\n",
       "    <tr>\n",
       "      <th>3</th>\n",
       "      <td>&lt;b&gt;몰스킨&lt;/b&gt; 클래식 노트 소프트커버 도트 포켓 머틀그린</td>\n",
       "      <td>18810</td>\n",
       "      <td>https://search.shopping.naver.com/gate.nhn?id=...</td>\n",
       "      <td>네이버</td>\n",
       "    </tr>\n",
       "    <tr>\n",
       "      <th>4</th>\n",
       "      <td>&lt;b&gt;몰스킨&lt;/b&gt; 클래식노트 플레인 하드 L</td>\n",
       "      <td>19930</td>\n",
       "      <td>https://search.shopping.naver.com/gate.nhn?id=...</td>\n",
       "      <td>네이버</td>\n",
       "    </tr>\n",
       "  </tbody>\n",
       "</table>\n",
       "</div>"
      ],
      "text/plain": [
       "                                               title lprice  \\\n",
       "0               한정판 <b>몰스킨</b> 2022 해리포터 데일리 다이어리 포캣  31620   \n",
       "1                한정판 <b>몰스킨</b> 2022 피너츠 위클리 다이어리 포켓  29500   \n",
       "2  <b>몰스킨</b> 2022 다이어리 데일리 위클리 포켓 고급 명품 감성 휴대용 여...  26800   \n",
       "3                 <b>몰스킨</b> 클래식 노트 소프트커버 도트 포켓 머틀그린  18810   \n",
       "4                          <b>몰스킨</b> 클래식노트 플레인 하드 L  19930   \n",
       "\n",
       "                                                link mall_name  \n",
       "0  https://search.shopping.naver.com/gate.nhn?id=...       네이버  \n",
       "1  https://search.shopping.naver.com/gate.nhn?id=...       네이버  \n",
       "2  https://search.shopping.naver.com/gate.nhn?id=...       에코펜  \n",
       "3  https://search.shopping.naver.com/gate.nhn?id=...       네이버  \n",
       "4  https://search.shopping.naver.com/gate.nhn?id=...       네이버  "
      ]
     },
     "execution_count": 35,
     "metadata": {},
     "output_type": "execute_result"
    }
   ],
   "source": [
    "get_fields(one_result)"
   ]
  },
  {
   "cell_type": "markdown",
   "id": "7ce0ff74",
   "metadata": {},
   "source": [
    "## (4) delete_tag()"
   ]
  },
  {
   "cell_type": "code",
   "execution_count": 1,
   "id": "43fc3abd",
   "metadata": {},
   "outputs": [],
   "source": [
    "def delete_tag(input_str):\n",
    "    input_str = input_str.replace(\"<b>\", \"\")\n",
    "    input_str = input_str.replace(\"</b>\", \"\")\n",
    "    return input_str"
   ]
  },
  {
   "cell_type": "code",
   "execution_count": 37,
   "id": "61b14838",
   "metadata": {},
   "outputs": [],
   "source": [
    "import pandas as pd\n",
    "\n",
    "def get_fields(json_data):\n",
    "    title = [delete_tag(each[\"title\"]) for each in json_data[\"items\"]]\n",
    "    link = [each[\"link\"] for each in json_data[\"items\"]]\n",
    "    lprice = [each[\"lprice\"] for each in json_data[\"items\"]]\n",
    "    mall_name = [each[\"mallName\"] for each in json_data[\"items\"]]\n",
    "    \n",
    "    result_pd = pd.DataFrame({\n",
    "        \"title\":title,\n",
    "        \"link\":link,\n",
    "        \"lprice\":lprice,\n",
    "        \"mall_name\":mall_name\n",
    "    }, columns=[\"title\", \"lprice\", \"link\", \"mall_name\"])\n",
    "    return result_pd"
   ]
  },
  {
   "cell_type": "code",
   "execution_count": 38,
   "id": "6f6e6aa4",
   "metadata": {},
   "outputs": [
    {
     "data": {
      "text/html": [
       "<div>\n",
       "<style scoped>\n",
       "    .dataframe tbody tr th:only-of-type {\n",
       "        vertical-align: middle;\n",
       "    }\n",
       "\n",
       "    .dataframe tbody tr th {\n",
       "        vertical-align: top;\n",
       "    }\n",
       "\n",
       "    .dataframe thead th {\n",
       "        text-align: right;\n",
       "    }\n",
       "</style>\n",
       "<table border=\"1\" class=\"dataframe\">\n",
       "  <thead>\n",
       "    <tr style=\"text-align: right;\">\n",
       "      <th></th>\n",
       "      <th>title</th>\n",
       "      <th>lprice</th>\n",
       "      <th>link</th>\n",
       "      <th>mall_name</th>\n",
       "    </tr>\n",
       "  </thead>\n",
       "  <tbody>\n",
       "    <tr>\n",
       "      <th>0</th>\n",
       "      <td>한정판 몰스킨 2022 해리포터 데일리 다이어리 포캣</td>\n",
       "      <td>31620</td>\n",
       "      <td>https://search.shopping.naver.com/gate.nhn?id=...</td>\n",
       "      <td>네이버</td>\n",
       "    </tr>\n",
       "    <tr>\n",
       "      <th>1</th>\n",
       "      <td>한정판 몰스킨 2022 피너츠 위클리 다이어리 포켓</td>\n",
       "      <td>29500</td>\n",
       "      <td>https://search.shopping.naver.com/gate.nhn?id=...</td>\n",
       "      <td>네이버</td>\n",
       "    </tr>\n",
       "    <tr>\n",
       "      <th>2</th>\n",
       "      <td>몰스킨 2022 다이어리 데일리 위클리 포켓 고급 명품 감성 휴대용 여자 각인 해리포터</td>\n",
       "      <td>26800</td>\n",
       "      <td>https://search.shopping.naver.com/gate.nhn?id=...</td>\n",
       "      <td>에코펜</td>\n",
       "    </tr>\n",
       "    <tr>\n",
       "      <th>3</th>\n",
       "      <td>몰스킨 클래식 노트 소프트커버 도트 포켓 머틀그린</td>\n",
       "      <td>18810</td>\n",
       "      <td>https://search.shopping.naver.com/gate.nhn?id=...</td>\n",
       "      <td>네이버</td>\n",
       "    </tr>\n",
       "    <tr>\n",
       "      <th>4</th>\n",
       "      <td>몰스킨 클래식노트 플레인 하드 L</td>\n",
       "      <td>19930</td>\n",
       "      <td>https://search.shopping.naver.com/gate.nhn?id=...</td>\n",
       "      <td>네이버</td>\n",
       "    </tr>\n",
       "  </tbody>\n",
       "</table>\n",
       "</div>"
      ],
      "text/plain": [
       "                                              title lprice  \\\n",
       "0                     한정판 몰스킨 2022 해리포터 데일리 다이어리 포캣  31620   \n",
       "1                      한정판 몰스킨 2022 피너츠 위클리 다이어리 포켓  29500   \n",
       "2  몰스킨 2022 다이어리 데일리 위클리 포켓 고급 명품 감성 휴대용 여자 각인 해리포터  26800   \n",
       "3                       몰스킨 클래식 노트 소프트커버 도트 포켓 머틀그린  18810   \n",
       "4                                몰스킨 클래식노트 플레인 하드 L  19930   \n",
       "\n",
       "                                                link mall_name  \n",
       "0  https://search.shopping.naver.com/gate.nhn?id=...       네이버  \n",
       "1  https://search.shopping.naver.com/gate.nhn?id=...       네이버  \n",
       "2  https://search.shopping.naver.com/gate.nhn?id=...       에코펜  \n",
       "3  https://search.shopping.naver.com/gate.nhn?id=...       네이버  \n",
       "4  https://search.shopping.naver.com/gate.nhn?id=...       네이버  "
      ]
     },
     "execution_count": 38,
     "metadata": {},
     "output_type": "execute_result"
    }
   ],
   "source": [
    "get_fields(one_result)"
   ]
  },
  {
   "cell_type": "code",
   "execution_count": 39,
   "id": "b68ed9b6",
   "metadata": {},
   "outputs": [
    {
     "name": "stdout",
     "output_type": "stream",
     "text": [
      "[2021-10-12 00:19:46.421082] Url Request Success\n"
     ]
    },
    {
     "data": {
      "text/html": [
       "<div>\n",
       "<style scoped>\n",
       "    .dataframe tbody tr th:only-of-type {\n",
       "        vertical-align: middle;\n",
       "    }\n",
       "\n",
       "    .dataframe tbody tr th {\n",
       "        vertical-align: top;\n",
       "    }\n",
       "\n",
       "    .dataframe thead th {\n",
       "        text-align: right;\n",
       "    }\n",
       "</style>\n",
       "<table border=\"1\" class=\"dataframe\">\n",
       "  <thead>\n",
       "    <tr style=\"text-align: right;\">\n",
       "      <th></th>\n",
       "      <th>title</th>\n",
       "      <th>lprice</th>\n",
       "      <th>link</th>\n",
       "      <th>mall_name</th>\n",
       "    </tr>\n",
       "  </thead>\n",
       "  <tbody>\n",
       "    <tr>\n",
       "      <th>0</th>\n",
       "      <td>한정판 몰스킨 2022 해리포터 데일리 다이어리 포캣</td>\n",
       "      <td>31620</td>\n",
       "      <td>https://search.shopping.naver.com/gate.nhn?id=...</td>\n",
       "      <td>네이버</td>\n",
       "    </tr>\n",
       "    <tr>\n",
       "      <th>1</th>\n",
       "      <td>한정판 몰스킨 2022 피너츠 위클리 다이어리 포켓</td>\n",
       "      <td>29500</td>\n",
       "      <td>https://search.shopping.naver.com/gate.nhn?id=...</td>\n",
       "      <td>네이버</td>\n",
       "    </tr>\n",
       "    <tr>\n",
       "      <th>2</th>\n",
       "      <td>몰스킨 2022 다이어리 데일리 위클리 포켓 고급 명품 감성 휴대용 여자 각인 해리포터</td>\n",
       "      <td>26800</td>\n",
       "      <td>https://search.shopping.naver.com/gate.nhn?id=...</td>\n",
       "      <td>에코펜</td>\n",
       "    </tr>\n",
       "    <tr>\n",
       "      <th>3</th>\n",
       "      <td>몰스킨 클래식 노트 소프트커버 도트 포켓 머틀그린</td>\n",
       "      <td>18810</td>\n",
       "      <td>https://search.shopping.naver.com/gate.nhn?id=...</td>\n",
       "      <td>네이버</td>\n",
       "    </tr>\n",
       "    <tr>\n",
       "      <th>4</th>\n",
       "      <td>몰스킨 클래식노트 플레인 하드 L</td>\n",
       "      <td>19930</td>\n",
       "      <td>https://search.shopping.naver.com/gate.nhn?id=...</td>\n",
       "      <td>네이버</td>\n",
       "    </tr>\n",
       "  </tbody>\n",
       "</table>\n",
       "</div>"
      ],
      "text/plain": [
       "                                              title lprice  \\\n",
       "0                     한정판 몰스킨 2022 해리포터 데일리 다이어리 포캣  31620   \n",
       "1                      한정판 몰스킨 2022 피너츠 위클리 다이어리 포켓  29500   \n",
       "2  몰스킨 2022 다이어리 데일리 위클리 포켓 고급 명품 감성 휴대용 여자 각인 해리포터  26800   \n",
       "3                       몰스킨 클래식 노트 소프트커버 도트 포켓 머틀그린  18810   \n",
       "4                                몰스킨 클래식노트 플레인 하드 L  19930   \n",
       "\n",
       "                                                link mall_name  \n",
       "0  https://search.shopping.naver.com/gate.nhn?id=...       네이버  \n",
       "1  https://search.shopping.naver.com/gate.nhn?id=...       네이버  \n",
       "2  https://search.shopping.naver.com/gate.nhn?id=...       에코펜  \n",
       "3  https://search.shopping.naver.com/gate.nhn?id=...       네이버  \n",
       "4  https://search.shopping.naver.com/gate.nhn?id=...       네이버  "
      ]
     },
     "execution_count": 39,
     "metadata": {},
     "output_type": "execute_result"
    }
   ],
   "source": [
    "url = gen_search_url(\"shop\", \"몰스킨\", 1, 5)\n",
    "json_result = get_result_onpage(url)\n",
    "pd_result = get_fields(json_result)\n",
    "pd_result"
   ]
  },
  {
   "cell_type": "markdown",
   "id": "b843e9d1",
   "metadata": {},
   "source": [
    "## (5) actMain()"
   ]
  },
  {
   "cell_type": "code",
   "execution_count": 40,
   "id": "77aa7f6e",
   "metadata": {},
   "outputs": [
    {
     "name": "stdout",
     "output_type": "stream",
     "text": [
      "[2021-10-12 00:21:52.234092] Url Request Success\n",
      "[2021-10-12 00:21:52.701833] Url Request Success\n",
      "[2021-10-12 00:21:53.014012] Url Request Success\n",
      "[2021-10-12 00:21:53.359231] Url Request Success\n",
      "[2021-10-12 00:21:53.777270] Url Request Success\n",
      "[2021-10-12 00:21:54.189862] Url Request Success\n",
      "[2021-10-12 00:21:54.600360] Url Request Success\n",
      "[2021-10-12 00:21:55.091454] Url Request Success\n",
      "[2021-10-12 00:21:55.418896] Url Request Success\n",
      "[2021-10-12 00:21:55.821280] Url Request Success\n",
      "Wall time: 4.1 s\n"
     ]
    }
   ],
   "source": [
    "%%time\n",
    "result_mol = []\n",
    "\n",
    "for n in range(1, 1000, 100):\n",
    "    url = gen_search_url(\"shop\", \"몰스킨\", n, 100)\n",
    "    json_result = get_result_onpage(url)\n",
    "    pd_result = get_fields(json_result)\n",
    "    result_mol.append(pd_result)\n",
    "    \n",
    "result = pd.concat(result_mol)"
   ]
  },
  {
   "cell_type": "code",
   "execution_count": 41,
   "id": "b3d9e102",
   "metadata": {},
   "outputs": [
    {
     "name": "stdout",
     "output_type": "stream",
     "text": [
      "<class 'pandas.core.frame.DataFrame'>\n",
      "Int64Index: 1000 entries, 0 to 99\n",
      "Data columns (total 4 columns):\n",
      " #   Column     Non-Null Count  Dtype \n",
      "---  ------     --------------  ----- \n",
      " 0   title      1000 non-null   object\n",
      " 1   lprice     1000 non-null   object\n",
      " 2   link       1000 non-null   object\n",
      " 3   mall_name  1000 non-null   object\n",
      "dtypes: object(4)\n",
      "memory usage: 39.1+ KB\n"
     ]
    }
   ],
   "source": [
    "result.info()"
   ]
  },
  {
   "cell_type": "code",
   "execution_count": 43,
   "id": "9e85f51b",
   "metadata": {},
   "outputs": [],
   "source": [
    "result.reset_index(inplace=True, drop=True)"
   ]
  },
  {
   "cell_type": "code",
   "execution_count": 44,
   "id": "83db153e",
   "metadata": {},
   "outputs": [
    {
     "name": "stdout",
     "output_type": "stream",
     "text": [
      "<class 'pandas.core.frame.DataFrame'>\n",
      "RangeIndex: 1000 entries, 0 to 999\n",
      "Data columns (total 4 columns):\n",
      " #   Column     Non-Null Count  Dtype \n",
      "---  ------     --------------  ----- \n",
      " 0   title      1000 non-null   object\n",
      " 1   lprice     1000 non-null   object\n",
      " 2   link       1000 non-null   object\n",
      " 3   mall_name  1000 non-null   object\n",
      "dtypes: object(4)\n",
      "memory usage: 31.4+ KB\n"
     ]
    }
   ],
   "source": [
    "result.info()"
   ]
  },
  {
   "cell_type": "code",
   "execution_count": 45,
   "id": "a05921c1",
   "metadata": {},
   "outputs": [
    {
     "data": {
      "text/html": [
       "<div>\n",
       "<style scoped>\n",
       "    .dataframe tbody tr th:only-of-type {\n",
       "        vertical-align: middle;\n",
       "    }\n",
       "\n",
       "    .dataframe tbody tr th {\n",
       "        vertical-align: top;\n",
       "    }\n",
       "\n",
       "    .dataframe thead th {\n",
       "        text-align: right;\n",
       "    }\n",
       "</style>\n",
       "<table border=\"1\" class=\"dataframe\">\n",
       "  <thead>\n",
       "    <tr style=\"text-align: right;\">\n",
       "      <th></th>\n",
       "      <th>title</th>\n",
       "      <th>lprice</th>\n",
       "      <th>link</th>\n",
       "      <th>mall_name</th>\n",
       "    </tr>\n",
       "  </thead>\n",
       "  <tbody>\n",
       "    <tr>\n",
       "      <th>995</th>\n",
       "      <td>[몰스킨] 클래식 클러치 블랙 스몰</td>\n",
       "      <td>113000</td>\n",
       "      <td>https://search.shopping.naver.com/gate.nhn?id=...</td>\n",
       "      <td>리미티드 아재</td>\n",
       "    </tr>\n",
       "    <tr>\n",
       "      <th>996</th>\n",
       "      <td>몰스킨 클래식노트 스퀘어드/사파이어블루 하드 M</td>\n",
       "      <td>24900</td>\n",
       "      <td>https://search.shopping.naver.com/gate.nhn?id=...</td>\n",
       "      <td>교보핫트랙스</td>\n",
       "    </tr>\n",
       "    <tr>\n",
       "      <th>997</th>\n",
       "      <td>[몰스킨] T 아이폰XR 소프트 케이스/스칼렛 레드</td>\n",
       "      <td>39900</td>\n",
       "      <td>https://search.shopping.naver.com/gate.nhn?id=...</td>\n",
       "      <td>핫트랙스</td>\n",
       "    </tr>\n",
       "    <tr>\n",
       "      <th>998</th>\n",
       "      <td>몰스킨 마징가Z 하드커버 라지 노트(색상선택)</td>\n",
       "      <td>41000</td>\n",
       "      <td>https://search.shopping.naver.com/gate.nhn?id=...</td>\n",
       "      <td>펜카페</td>\n",
       "    </tr>\n",
       "    <tr>\n",
       "      <th>999</th>\n",
       "      <td>몰스킨 T 아이폰7 하드케이스 케이스/블루</td>\n",
       "      <td>39900</td>\n",
       "      <td>https://search.shopping.naver.com/gate.nhn?id=...</td>\n",
       "      <td>교보핫트랙스</td>\n",
       "    </tr>\n",
       "  </tbody>\n",
       "</table>\n",
       "</div>"
      ],
      "text/plain": [
       "                            title  lprice  \\\n",
       "995           [몰스킨] 클래식 클러치 블랙 스몰  113000   \n",
       "996    몰스킨 클래식노트 스퀘어드/사파이어블루 하드 M   24900   \n",
       "997  [몰스킨] T 아이폰XR 소프트 케이스/스칼렛 레드   39900   \n",
       "998     몰스킨 마징가Z 하드커버 라지 노트(색상선택)   41000   \n",
       "999       몰스킨 T 아이폰7 하드케이스 케이스/블루   39900   \n",
       "\n",
       "                                                  link mall_name  \n",
       "995  https://search.shopping.naver.com/gate.nhn?id=...   리미티드 아재  \n",
       "996  https://search.shopping.naver.com/gate.nhn?id=...    교보핫트랙스  \n",
       "997  https://search.shopping.naver.com/gate.nhn?id=...      핫트랙스  \n",
       "998  https://search.shopping.naver.com/gate.nhn?id=...       펜카페  \n",
       "999  https://search.shopping.naver.com/gate.nhn?id=...    교보핫트랙스  "
      ]
     },
     "execution_count": 45,
     "metadata": {},
     "output_type": "execute_result"
    }
   ],
   "source": [
    "result.tail()"
   ]
  },
  {
   "cell_type": "code",
   "execution_count": 46,
   "id": "59a9b468",
   "metadata": {},
   "outputs": [],
   "source": [
    "result[\"lprice\"] = result[\"lprice\"].astype(\"float\")"
   ]
  },
  {
   "cell_type": "markdown",
   "id": "6a6b6938",
   "metadata": {},
   "source": [
    "## (5) to_excel()"
   ]
  },
  {
   "cell_type": "code",
   "execution_count": 47,
   "id": "0fb7b290",
   "metadata": {},
   "outputs": [
    {
     "name": "stdout",
     "output_type": "stream",
     "text": [
      "Requirement already satisfied: xlsxwriter in c:\\users\\jmkim\\miniconda3\\envs\\ds_study\\lib\\site-packages (3.0.1)\n"
     ]
    }
   ],
   "source": [
    "# !pip install xlsxwriter"
   ]
  },
  {
   "cell_type": "code",
   "execution_count": 49,
   "id": "e6c68e78",
   "metadata": {},
   "outputs": [],
   "source": [
    "writer = pd.ExcelWriter(\"../data/06_molskin_diary_in_naver_shop.xlsx\", engine=\"xlsxwriter\")\n",
    "result.to_excel(writer, sheet_name=\"Sheet1\")\n",
    "\n",
    "workbook = writer.book\n",
    "worksheet = writer.sheets[\"Sheet1\"]\n",
    "worksheet.set_column(\"A:A\", 4)\n",
    "worksheet.set_column(\"B:B\", 60)\n",
    "worksheet.set_column(\"C:C\", 10)\n",
    "worksheet.set_column(\"D:D\", 10)\n",
    "worksheet.set_column(\"E:E\", 50)\n",
    "worksheet.set_column(\"F:F\", 10)\n",
    "\n",
    "worksheet.conditional_format(\"C2:C1001\", {\"type\":\"3_color_scale\"})\n",
    "writer.save()"
   ]
  },
  {
   "cell_type": "code",
   "execution_count": 51,
   "id": "011641c5",
   "metadata": {},
   "outputs": [
    {
     "name": "stdout",
     "output_type": "stream",
     "text": [
      " D 드라이브의 볼륨에는 이름이 없습니다.\n",
      " 볼륨 일련 번호: A479-D011\n",
      "\n",
      " D:\\공부\\프로젝트\\네카라쿠배 - 데이터사이언스 1기\\nekalakubae_data_science_1st\\ds_study\\data 디렉터리\n",
      "\n",
      "2021-10-12  오전 12:28                 0 06_molskin_diary_in_naver_shop.xlsx\n",
      "               1개 파일                   0 바이트\n",
      "               0개 디렉터리  1,943,022,444,544 바이트 남음\n"
     ]
    }
   ],
   "source": [
    "! dir \"../data/06_molskin_diary_in_naver_shop.xlsx\""
   ]
  },
  {
   "cell_type": "code",
   "execution_count": 54,
   "id": "31439b7b",
   "metadata": {},
   "outputs": [],
   "source": [
    "## (6) 시각화\n",
    "import set_matplotlib_hangul\n",
    "import seaborn as sns"
   ]
  },
  {
   "cell_type": "code",
   "execution_count": 63,
   "id": "ce453ccb",
   "metadata": {},
   "outputs": [
    {
     "name": "stderr",
     "output_type": "stream",
     "text": [
      "C:\\Users\\jmkim\\miniconda3\\envs\\ds_study\\lib\\site-packages\\seaborn\\_decorators.py:36: FutureWarning: Pass the following variable as a keyword arg: x. From version 0.12, the only valid positional argument will be `data`, and passing other arguments without an explicit keyword will result in an error or misinterpretation.\n",
      "  warnings.warn(\n"
     ]
    },
    {
     "data": {
      "image/png": "[encoded data removed]",
      "text/plain": [
       "<Figure size 1296x432 with 1 Axes>"
      ]
     },
     "metadata": {
      "image/png": {
       "height": 487,
       "width": 1062
      }
     },
     "output_type": "display_data"
    }
   ],
   "source": [
    "plt.figure(figsize=(18, 6))\n",
    "sns.countplot(\n",
    "    result[\"mall_name\"], \n",
    "    data=result,\n",
    "    palette=\"RdYlGn\",\n",
    "    order=result[\"mall_name\"].value_counts().index\n",
    ")\n",
    "plt.xticks(rotation=90)\n",
    "plt.show()"
   ]
  },
  {
   "cell_type": "code",
   "execution_count": 60,
   "id": "0b6cf871",
   "metadata": {},
   "outputs": [
    {
     "data": {
      "text/plain": [
       "네이버             663\n",
       "펜카페              60\n",
       "몰스킨스토어           59\n",
       "옥션               49\n",
       "G마켓              44\n",
       "펜샵코리아            25\n",
       "교보핫트랙스           19\n",
       "홍길동              17\n",
       "핫트랙스             12\n",
       "몰스킨공식온라인스토어       6\n",
       "1300K             5\n",
       "11번가              4\n",
       "N펀키보이             3\n",
       "무난                3\n",
       "Songsongshop      2\n",
       "까만돌코리아            2\n",
       "에코펜               2\n",
       "리미티드 아재           2\n",
       "현대Hmall           2\n",
       "럭스키친              1\n",
       "오피스투어             1\n",
       "미국오빠              1\n",
       "블루 사파이어           1\n",
       "EZ오피스             1\n",
       "롯데ON              1\n",
       "Buytop            1\n",
       "유에스몰코리아           1\n",
       "꿈꾸는 멀라이언          1\n",
       "SHOP IVY          1\n",
       "유닛808             1\n",
       "StreetMap         1\n",
       "취향독특              1\n",
       "까이슈               1\n",
       "파이영               1\n",
       "몰스킨샵              1\n",
       "홀세일스토어            1\n",
       "텐바이텐              1\n",
       "올비샵               1\n",
       "인스월드              1\n",
       "GSSHOP            1\n",
       "Name: mall_name, dtype: int64"
      ]
     },
     "execution_count": 60,
     "metadata": {},
     "output_type": "execute_result"
    }
   ],
   "source": [
    "result[\"mall_name\"].value_counts()"
   ]
  },
  {
   "cell_type": "code",
   "execution_count": 61,
   "id": "2f62a787",
   "metadata": {},
   "outputs": [
    {
     "data": {
      "text/plain": [
       "Index(['네이버', '펜카페', '몰스킨스토어', '옥션', 'G마켓', '펜샵코리아', '교보핫트랙스', '홍길동', '핫트랙스',\n",
       "       '몰스킨공식온라인스토어', '1300K', '11번가', 'N펀키보이', '무난', 'Songsongshop', '까만돌코리아',\n",
       "       '에코펜', '리미티드 아재', '현대Hmall', '럭스키친', '오피스투어', '미국오빠', '블루 사파이어',\n",
       "       'EZ오피스', '롯데ON', 'Buytop', '유에스몰코리아', '꿈꾸는 멀라이언', 'SHOP IVY', '유닛808',\n",
       "       'StreetMap', '취향독특', '까이슈', '파이영', '몰스킨샵', '홀세일스토어', '텐바이텐', '올비샵',\n",
       "       '인스월드', 'GSSHOP'],\n",
       "      dtype='object')"
      ]
     },
     "execution_count": 61,
     "metadata": {},
     "output_type": "execute_result"
    }
   ],
   "source": [
    "result[\"mall_name\"].value_counts().index"
   ]
  },
  {
   "cell_type": "code",
   "execution_count": null,
   "id": "3d8bc55b",
   "metadata": {},
   "outputs": [],
   "source": []
  }
 ],
 "metadata": {
  "kernelspec": {
   "display_name": "Python 3",
   "language": "python",
   "name": "python3"
  },
  "language_info": {
   "codemirror_mode": {
    "name": "ipython",
    "version": 3
   },
   "file_extension": ".py",
   "mimetype": "text/x-python",
   "name": "python",
   "nbconvert_exporter": "python",
   "pygments_lexer": "ipython3",
   "version": "3.8.8"
  }
 },
 "nbformat": 4,
 "nbformat_minor": 5
}

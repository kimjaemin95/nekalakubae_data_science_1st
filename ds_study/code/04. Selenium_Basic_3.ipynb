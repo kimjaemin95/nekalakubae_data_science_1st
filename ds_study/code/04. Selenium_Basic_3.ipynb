{
 "cells": [
  {
   "cell_type": "markdown",
   "id": "20f8b7a7",
   "metadata": {},
   "source": [
    "## Wait\n",
    "- time.sleep(5) : 물리적으로 5초 동안 멈추고 기다림\n",
    "- implicityly_wait(10)\n",
    "    - 전체 페이지 로딩을 최대 10초간 기다리고, 10초 안에 페이지 로딩이 완료 되면 다음 코드 실행\n",
    "    - 한 번만 실행하면, 전역(global)로 실행이 가능\n",
    "- explicitly wait\n",
    "    - 지정한 태그 부분이 로딩 완료 되면, 바로 다음 코드 실행"
   ]
  },
  {
   "cell_type": "markdown",
   "id": "23b378bb",
   "metadata": {},
   "source": [
    "- 무신사 스토어\n",
    "- https://store.musinsa.com/app/\n",
    "- 인기탭 > 후드 집업\n",
    "    - 단독상품, 세일상품, 최소, 최대 금액 조건 설정\n",
    "    - 옷 이름, 가격, 할인율, 링크, 이미지 수집"
   ]
  },
  {
   "cell_type": "code",
   "execution_count": 1,
   "id": "515d4e57",
   "metadata": {},
   "outputs": [],
   "source": [
    "import pandas as pd\n",
    "import time \n",
    "from selenium import webdriver\n",
    "\n",
    "# explicitly wait\n",
    "from selenium.webdriver.common.by import By\n",
    "from selenium.webdriver.support.ui import WebDriverWait\n",
    "from selenium.webdriver.support import expected_conditions as EC"
   ]
  },
  {
   "cell_type": "code",
   "execution_count": 95,
   "id": "36127bcf",
   "metadata": {},
   "outputs": [],
   "source": [
    "url = \"https://store.musinsa.com/app/\"\n",
    "driver = webdriver.Chrome(\"../driver/chromedriver.exe\")\n",
    "driver.implicitly_wait(10) # 웹 페이지 전체가 로딩 될 때까지 10초간 대기하고, 10초 안에 페이지 로딩이 완료 되면 다음 코드 실행\n",
    "driver.get(url)"
   ]
  },
  {
   "cell_type": "code",
   "execution_count": 89,
   "id": "385d7d2a",
   "metadata": {},
   "outputs": [],
   "source": [
    "# 로그인 버튼 클릭\n",
    "driver.find_element_by_css_selector(\"#default_top > div.header-member > button\").click()"
   ]
  },
  {
   "cell_type": "code",
   "execution_count": 90,
   "id": "b3631483",
   "metadata": {},
   "outputs": [],
   "source": [
    "# 아이디 입력\n",
    "driver.find_element_by_css_selector(\"body > div.musinsa-wrapper.wrapper-member.devicePC > div > form > input:nth-child(2)\").send_keys(\"myid\")"
   ]
  },
  {
   "cell_type": "code",
   "execution_count": 91,
   "id": "6ae79f4f",
   "metadata": {},
   "outputs": [],
   "source": [
    "# 비밀번호 입력\n",
    "driver.find_element_by_css_selector(\"body > div.musinsa-wrapper.wrapper-member.devicePC > div > form > input:nth-child(3)\").send_keys(\"myid\")"
   ]
  },
  {
   "cell_type": "code",
   "execution_count": 11,
   "id": "b1da8080",
   "metadata": {},
   "outputs": [],
   "source": [
    "# 로그인 버튼 클릭\n",
    "driver.find_element_by_css_selector(\"body > div.musinsa-wrapper.wrapper-member.devicePC > div > form > button\").click()"
   ]
  },
  {
   "cell_type": "code",
   "execution_count": 12,
   "id": "a2242e6a",
   "metadata": {},
   "outputs": [],
   "source": [
    "# alert(로그인 오류 alert 창 확인 누르기)\n",
    "alert = driver.switch_to.alert\n",
    "alert.accept()"
   ]
  },
  {
   "cell_type": "code",
   "execution_count": 96,
   "id": "5f68bd5a",
   "metadata": {},
   "outputs": [],
   "source": [
    "# 최대 5초까지 기다림\n",
    "# CSS_SELECTOR를 이용해서 \"#default_top > div.header-member > button\" 확인\n",
    "# 태그가 로딩 되고 나면 다음 동작 실행\n",
    "\n",
    "WebDriverWait(driver, 5).\\\n",
    "until(\n",
    "    EC.presence_of_element_located(\n",
    "        (By.CSS_SELECTOR, \"#default_top > div.header-member > button\")\n",
    "    )\n",
    ").click()"
   ]
  },
  {
   "cell_type": "code",
   "execution_count": 97,
   "id": "9e0ce1c8",
   "metadata": {},
   "outputs": [],
   "source": [
    "# 최대 5초까지 기다림\n",
    "# 아이디 입력\n",
    "\n",
    "WebDriverWait(driver, 5).\\\n",
    "until(\n",
    "    EC.presence_of_element_located(\n",
    "        (By.CSS_SELECTOR, \"body > div.musinsa-wrapper.wrapper-member.devicePC > div > form > input:nth-child(2)\")\n",
    "    )\n",
    ").send_keys(\"todaybow\")"
   ]
  },
  {
   "cell_type": "code",
   "execution_count": 98,
   "id": "d630947a",
   "metadata": {},
   "outputs": [],
   "source": [
    "# 최대 5초까지 기다림\n",
    "# 비밀번호 입력\n",
    "\n",
    "WebDriverWait(driver, 5).\\\n",
    "until(\n",
    "    EC.presence_of_element_located(\n",
    "        (By.CSS_SELECTOR, \"body > div.musinsa-wrapper.wrapper-member.devicePC > div > form > input:nth-child(3)\")\n",
    "    )\n",
    ").send_keys(\"woalszla1@\")"
   ]
  },
  {
   "cell_type": "code",
   "execution_count": 99,
   "id": "9fe237c7",
   "metadata": {},
   "outputs": [],
   "source": [
    "# 최대 5초까지 기다림\n",
    "# 로그인 클릭\n",
    "\n",
    "WebDriverWait(driver, 5).\\\n",
    "until(\n",
    "    EC.presence_of_element_located(\n",
    "        (By.CSS_SELECTOR, \"body > div.musinsa-wrapper.wrapper-member.devicePC > div > form > button\")\n",
    "    )\n",
    ").click()"
   ]
  },
  {
   "cell_type": "code",
   "execution_count": 100,
   "id": "7c1a4456",
   "metadata": {},
   "outputs": [
    {
     "data": {
      "text/plain": [
       "'https://search.musinsa.com/category/002022'"
      ]
     },
     "execution_count": 100,
     "metadata": {},
     "output_type": "execute_result"
    }
   ],
   "source": [
    "# 인기 탭 => 후드 집업\n",
    "best_link = driver.find_element_by_css_selector(\"#ui-id-2 > ul:nth-child(1) > li:nth-child(1) > a\").get_attribute(\"href\")\n",
    "best_link"
   ]
  },
  {
   "cell_type": "code",
   "execution_count": 101,
   "id": "ca6b219e",
   "metadata": {},
   "outputs": [],
   "source": [
    "# 후드 집업 링크를 새 탭으로 열기\n",
    "driver.execute_script(f\"window.open('{best_link}')\")"
   ]
  },
  {
   "cell_type": "code",
   "execution_count": 102,
   "id": "74fbed4d",
   "metadata": {},
   "outputs": [],
   "source": [
    "# 후드 딥업 탭으로 이동\n",
    "driver.switch_to.window(driver.window_handles[1])"
   ]
  },
  {
   "cell_type": "code",
   "execution_count": 103,
   "id": "436a4e17",
   "metadata": {},
   "outputs": [],
   "source": [
    "# 단독 상품 조건 클릭\n",
    "# driver.find_element_by_id(\"btn_exclusive\").click()\n",
    "\n",
    "WebDriverWait(driver, 5).\\\n",
    "until(\n",
    "    EC.presence_of_element_located(\n",
    "        (By.ID, \"btn_exclusive\")\n",
    "    )\n",
    ").click()"
   ]
  },
  {
   "cell_type": "code",
   "execution_count": 104,
   "id": "d3755408",
   "metadata": {},
   "outputs": [],
   "source": [
    "# 세일 상품 조건 클릭\n",
    "# driver.find_element_by_id(\"btn_sale\").click()\n",
    "\n",
    "WebDriverWait(driver, 5).\\\n",
    "until(\n",
    "    EC.presence_of_element_located(\n",
    "        (By.ID, \"btn_sale\")\n",
    "    )\n",
    ").click()"
   ]
  },
  {
   "cell_type": "code",
   "execution_count": 105,
   "id": "3678a770",
   "metadata": {},
   "outputs": [],
   "source": [
    "# 최소 금액 설정\n",
    "WebDriverWait(driver, 5).\\\n",
    "until(\n",
    "    EC.presence_of_element_located(\n",
    "        (By.ID, \"minPrice\")\n",
    "    )\n",
    ").send_keys(\"10000\")"
   ]
  },
  {
   "cell_type": "code",
   "execution_count": 106,
   "id": "efd4f3b4",
   "metadata": {},
   "outputs": [],
   "source": [
    "# 최대 금액 설정\n",
    "WebDriverWait(driver, 5).\\\n",
    "until(\n",
    "    EC.presence_of_element_located(\n",
    "        (By.ID, \"maxPrice\")\n",
    "    )\n",
    ").send_keys(\"100000\")"
   ]
  },
  {
   "cell_type": "code",
   "execution_count": 107,
   "id": "f71b6dfb",
   "metadata": {},
   "outputs": [],
   "source": [
    "# 검색 버튼 클릭\n",
    "WebDriverWait(driver, 5).\\\n",
    "until(\n",
    "    EC.presence_of_element_located(\n",
    "        (By.ID, \"btn_price_search\")\n",
    "    )\n",
    ").click()"
   ]
  },
  {
   "cell_type": "code",
   "execution_count": 108,
   "id": "731af9e0",
   "metadata": {},
   "outputs": [
    {
     "data": {
      "text/plain": [
       "90"
      ]
     },
     "execution_count": 108,
     "metadata": {},
     "output_type": "execute_result"
    }
   ],
   "source": [
    "# 부모 태그\n",
    "outers = driver.find_elements_by_css_selector(\"#searchList > li\")\n",
    "len(outers)"
   ]
  },
  {
   "cell_type": "code",
   "execution_count": 57,
   "id": "a568cf7a",
   "metadata": {},
   "outputs": [
    {
     "data": {
      "text/plain": [
       "'2WAY 스웻 후드 집업 (MELANGE GREY)'"
      ]
     },
     "execution_count": 57,
     "metadata": {},
     "output_type": "execute_result"
    }
   ],
   "source": [
    "# 자식 태그\n",
    "# 상품 이름\n",
    "outers[0].find_element_by_css_selector(\"p.list_info > a\").get_attribute(\"title\")"
   ]
  },
  {
   "cell_type": "code",
   "execution_count": 61,
   "id": "6c506649",
   "metadata": {},
   "outputs": [
    {
     "data": {
      "text/plain": [
       "['45,000원', '39,000원']"
      ]
     },
     "execution_count": 61,
     "metadata": {},
     "output_type": "execute_result"
    }
   ],
   "source": [
    "# 자식 태그\n",
    "# 가격 이름\n",
    "outers[0].find_element_by_css_selector(\"p.price\").text.split(\" \")"
   ]
  },
  {
   "cell_type": "code",
   "execution_count": 65,
   "id": "0e9338c4",
   "metadata": {},
   "outputs": [
    {
     "data": {
      "text/plain": [
       "'10/13 배송'"
      ]
     },
     "execution_count": 65,
     "metadata": {},
     "output_type": "execute_result"
    }
   ],
   "source": [
    "# 자식 태그\n",
    "# 배송 정보\n",
    "outers[0].find_element_by_css_selector(\"p.list_info > a > strong\").text"
   ]
  },
  {
   "cell_type": "code",
   "execution_count": 66,
   "id": "caf88aff",
   "metadata": {},
   "outputs": [
    {
     "data": {
      "text/plain": [
       "['SALE', '13%']"
      ]
     },
     "execution_count": 66,
     "metadata": {},
     "output_type": "execute_result"
    }
   ],
   "source": [
    "# 자식 태그\n",
    "# 세일 정보\n",
    "outers[0].find_element_by_css_selector(\".icon_new\").text.split(\" \")"
   ]
  },
  {
   "cell_type": "code",
   "execution_count": 67,
   "id": "bf2dbe19",
   "metadata": {},
   "outputs": [
    {
     "data": {
      "text/plain": [
       "'https://store.musinsa.com/app/goods/1778404'"
      ]
     },
     "execution_count": 67,
     "metadata": {},
     "output_type": "execute_result"
    }
   ],
   "source": [
    "# 자식 태그\n",
    "# 상품 링크\n",
    "outers[0].find_element_by_css_selector(\"p.list_info > a\").get_attribute(\"href\")"
   ]
  },
  {
   "cell_type": "code",
   "execution_count": 74,
   "id": "613e3355",
   "metadata": {},
   "outputs": [
    {
     "data": {
      "text/plain": [
       "'https://image.msscdn.net/images/goods_img/20210204/1778404/1778404_1_125.jpg'"
      ]
     },
     "execution_count": 74,
     "metadata": {},
     "output_type": "execute_result"
    }
   ],
   "source": [
    "# 자식 태그\n",
    "# 상품 링크\n",
    "outers[0].find_element_by_css_selector(\"img\").get_attribute(\"src\")"
   ]
  },
  {
   "cell_type": "code",
   "execution_count": 75,
   "id": "3fbd5298",
   "metadata": {},
   "outputs": [
    {
     "name": "stdout",
     "output_type": "stream",
     "text": [
      " D 드라이브의 볼륨에는 이름이 없습니다.\n",
      " 볼륨 일련 번호: A479-D011\n",
      "\n",
      " D:\\공부\\프로젝트\\네카라쿠배 - 데이터사이언스 1기\\nekalakubae_data_science_1st\\ds_study\\code 디렉터리\n",
      "\n",
      "2021-10-05  오전 01:15    <DIR>          .\n",
      "2021-10-05  오전 01:15    <DIR>          ..\n",
      "2021-10-04  오후 11:43    <DIR>          .ipynb_checkpoints\n",
      "2021-09-30  오후 10:31         1,082,859 01. Analysis Seoul CCTV.ipynb\n",
      "2021-10-01  오후 07:03         7,247,916 02. Analysis Seoul Crime.ipynb\n",
      "2021-09-11  오전 09:50       106,266,277 02. Analysis Seoul Crime.pdf\n",
      "2021-10-01  오후 06:47           313,481 03. Naver Movie Ranking.ipynb\n",
      "2021-10-04  오후 05:38           336,662 03. Web Data.ipynb\n",
      "2021-10-04  오후 11:23           235,339 04. Oil Price Analysis and Green construnction.ipynb\n",
      "2021-10-04  오후 05:44            73,167 04. Selenium_Basic_1.ipynb\n",
      "2021-10-04  오후 11:41             1,485 04. Selenium_Basic_2-2.py\n",
      "2021-10-04  오후 11:23            45,093 04. Selenium_Basic_2.ipynb\n",
      "2021-10-05  오전 01:15            12,270 04. Selenium_Basic_3.ipynb\n",
      "2021-09-28  오후 02:15             3,010 folium.html\n",
      "2021-09-28  오후 02:15             3,010 folium2.html\n",
      "2021-09-27  오후 07:52               267 google_api_key.zip\n",
      "2021-09-29  오전 12:36               219 naver.py\n",
      "2021-10-04  오후 05:38             4,760 naver_finance.xlsx\n",
      "2021-10-04  오후 11:36             5,144 sel_naver_finance.xlsx\n",
      "              16개 파일         115,630,959 바이트\n",
      "               3개 디렉터리  1,943,085,441,024 바이트 남음\n"
     ]
    }
   ],
   "source": [
    "! dir"
   ]
  },
  {
   "cell_type": "code",
   "execution_count": 76,
   "id": "25f037ba",
   "metadata": {},
   "outputs": [],
   "source": [
    "! mkdir musinsa"
   ]
  },
  {
   "cell_type": "code",
   "execution_count": 77,
   "id": "6960e623",
   "metadata": {},
   "outputs": [],
   "source": [
    "import requests"
   ]
  },
  {
   "cell_type": "code",
   "execution_count": 78,
   "id": "cf33647d",
   "metadata": {},
   "outputs": [
    {
     "data": {
      "text/plain": [
       "<Response [200]>"
      ]
     },
     "execution_count": 78,
     "metadata": {},
     "output_type": "execute_result"
    }
   ],
   "source": [
    "res = requests.get(outers[0].find_element_by_css_selector(\"img\").get_attribute(\"src\"))\n",
    "res"
   ]
  },
  {
   "cell_type": "code",
   "execution_count": 82,
   "id": "e5d794f1",
   "metadata": {},
   "outputs": [
    {
     "data": {
      "text/plain": [
       "b'\\xff\\xd8\\xff\\xe0\\x00\\x10JFIF'"
      ]
     },
     "execution_count": 82,
     "metadata": {},
     "output_type": "execute_result"
    }
   ],
   "source": [
    "res.content[:10]"
   ]
  },
  {
   "cell_type": "code",
   "execution_count": 83,
   "id": "4e78fb5e",
   "metadata": {},
   "outputs": [],
   "source": [
    "with open(\"./musinsa/outer.png\", \"wb\") as f:\n",
    "    f.write(res.content)"
   ]
  },
  {
   "cell_type": "code",
   "execution_count": 110,
   "id": "00e8ab8d",
   "metadata": {},
   "outputs": [
    {
     "name": "stderr",
     "output_type": "stream",
     "text": [
      "C:\\Users\\jmkim\\AppData\\Local\\Temp/ipykernel_17404/4029843052.py:7: TqdmDeprecationWarning: This function will be removed in tqdm==5.0.0\n",
      "Please use `tqdm.notebook.tqdm` instead of `tqdm.tqdm_notebook`\n",
      "  for outer in tqdm_notebook(outers):\n"
     ]
    },
    {
     "data": {
      "application/vnd.jupyter.widget-view+json": {
       "model_id": "f7c52452998f4f3d93432f7585dcf64a",
       "version_major": 2,
       "version_minor": 0
      },
      "text/plain": [
       "  0%|          | 0/90 [00:00<?, ?it/s]"
      ]
     },
     "metadata": {},
     "output_type": "display_data"
    }
   ],
   "source": [
    "# 전체 데이터 크롤링\n",
    "\n",
    "from tqdm import tqdm_notebook\n",
    "\n",
    "datas = []\n",
    "\n",
    "for outer in tqdm_notebook(outers):\n",
    "    title = outer.find_element_by_css_selector(\"p.list_info > a\").get_attribute(\"title\")\n",
    "    price = outer.find_element_by_css_selector(\"p.price\").text.split(\" \")[1][:-1]\n",
    "    link = outer.find_element_by_css_selector(\"p.list_info > a\").get_attribute(\"href\")\n",
    "    img = outer.find_element_by_css_selector(\"img\").get_attribute(\"src\")\n",
    "    \n",
    "    try:\n",
    "        sale = outer.find_element_by_css_selector(\".icon_new\").text.split(\" \")[1][:-1]\n",
    "    except:\n",
    "        sale = \"0\"    \n",
    "    \n",
    "    datas.append({\n",
    "        \"title\" : title,\n",
    "        \"price\" : price,\n",
    "        \"sale\" : sale,\n",
    "        \"link\" : link,\n",
    "        \"img\" : img\n",
    "    })"
   ]
  },
  {
   "cell_type": "code",
   "execution_count": 113,
   "id": "c9b7a01b",
   "metadata": {},
   "outputs": [
    {
     "data": {
      "text/html": [
       "<div>\n",
       "<style scoped>\n",
       "    .dataframe tbody tr th:only-of-type {\n",
       "        vertical-align: middle;\n",
       "    }\n",
       "\n",
       "    .dataframe tbody tr th {\n",
       "        vertical-align: top;\n",
       "    }\n",
       "\n",
       "    .dataframe thead th {\n",
       "        text-align: right;\n",
       "    }\n",
       "</style>\n",
       "<table border=\"1\" class=\"dataframe\">\n",
       "  <thead>\n",
       "    <tr style=\"text-align: right;\">\n",
       "      <th></th>\n",
       "      <th>title</th>\n",
       "      <th>price</th>\n",
       "      <th>sale</th>\n",
       "      <th>link</th>\n",
       "      <th>img</th>\n",
       "    </tr>\n",
       "  </thead>\n",
       "  <tbody>\n",
       "    <tr>\n",
       "      <th>0</th>\n",
       "      <td>2WAY 스웻 후드 집업 (MELANGE GREY)</td>\n",
       "      <td>39,000</td>\n",
       "      <td>13</td>\n",
       "      <td>https://store.musinsa.com/app/goods/1778404</td>\n",
       "      <td>https://image.msscdn.net/images/goods_img/2021...</td>\n",
       "    </tr>\n",
       "    <tr>\n",
       "      <th>1</th>\n",
       "      <td>스탠다드 후드 스웨트 집업 - 멜란지 그레이</td>\n",
       "      <td>35,890</td>\n",
       "      <td>10</td>\n",
       "      <td>https://store.musinsa.com/app/goods/640839</td>\n",
       "      <td>https://image.msscdn.net/images/goods_img/2017...</td>\n",
       "    </tr>\n",
       "    <tr>\n",
       "      <th>2</th>\n",
       "      <td>엔젤 와펜 집업 후드 그레이</td>\n",
       "      <td>63,200</td>\n",
       "      <td>20</td>\n",
       "      <td>https://store.musinsa.com/app/goods/1134355</td>\n",
       "      <td>https://image.msscdn.net/images/goods_img/2019...</td>\n",
       "    </tr>\n",
       "    <tr>\n",
       "      <th>3</th>\n",
       "      <td>코드 후드 집업 자켓 스모크 그레이</td>\n",
       "      <td>54,900</td>\n",
       "      <td>11</td>\n",
       "      <td>https://store.musinsa.com/app/goods/1280576</td>\n",
       "      <td>https://image.msscdn.net/images/goods_img/2020...</td>\n",
       "    </tr>\n",
       "    <tr>\n",
       "      <th>4</th>\n",
       "      <td>2WAY 스웻 후드 집업 (BLACK)</td>\n",
       "      <td>39,000</td>\n",
       "      <td>13</td>\n",
       "      <td>https://store.musinsa.com/app/goods/1778408</td>\n",
       "      <td>https://image.msscdn.net/images/goods_img/2021...</td>\n",
       "    </tr>\n",
       "  </tbody>\n",
       "</table>\n",
       "</div>"
      ],
      "text/plain": [
       "                          title   price sale  \\\n",
       "0  2WAY 스웻 후드 집업 (MELANGE GREY)  39,000   13   \n",
       "1      스탠다드 후드 스웨트 집업 - 멜란지 그레이  35,890   10   \n",
       "2               엔젤 와펜 집업 후드 그레이  63,200   20   \n",
       "3           코드 후드 집업 자켓 스모크 그레이  54,900   11   \n",
       "4         2WAY 스웻 후드 집업 (BLACK)  39,000   13   \n",
       "\n",
       "                                          link  \\\n",
       "0  https://store.musinsa.com/app/goods/1778404   \n",
       "1   https://store.musinsa.com/app/goods/640839   \n",
       "2  https://store.musinsa.com/app/goods/1134355   \n",
       "3  https://store.musinsa.com/app/goods/1280576   \n",
       "4  https://store.musinsa.com/app/goods/1778408   \n",
       "\n",
       "                                                 img  \n",
       "0  https://image.msscdn.net/images/goods_img/2021...  \n",
       "1  https://image.msscdn.net/images/goods_img/2017...  \n",
       "2  https://image.msscdn.net/images/goods_img/2019...  \n",
       "3  https://image.msscdn.net/images/goods_img/2020...  \n",
       "4  https://image.msscdn.net/images/goods_img/2021...  "
      ]
     },
     "execution_count": 113,
     "metadata": {},
     "output_type": "execute_result"
    }
   ],
   "source": [
    "df = pd.DataFrame(datas)\n",
    "df.head()"
   ]
  },
  {
   "cell_type": "code",
   "execution_count": 114,
   "id": "393ee47a",
   "metadata": {},
   "outputs": [],
   "source": [
    "driver.close()"
   ]
  },
  {
   "cell_type": "code",
   "execution_count": 131,
   "id": "aaed948e",
   "metadata": {},
   "outputs": [
    {
     "name": "stderr",
     "output_type": "stream",
     "text": [
      "C:\\Users\\jmkim\\AppData\\Local\\Temp/ipykernel_17404/275542720.py:2: TqdmDeprecationWarning: This function will be removed in tqdm==5.0.0\n",
      "Please use `tqdm.notebook.tqdm` instead of `tqdm.tqdm_notebook`\n",
      "  for idx, rows in tqdm_notebook(df.iterrows()):\n"
     ]
    },
    {
     "data": {
      "application/vnd.jupyter.widget-view+json": {
       "model_id": "8634111a6687492b8124f3f985314f34",
       "version_major": 2,
       "version_minor": 0
      },
      "text/plain": [
       "0it [00:00, ?it/s]"
      ]
     },
     "metadata": {},
     "output_type": "display_data"
    }
   ],
   "source": [
    "# 이미지 다운로드\n",
    "for idx, rows in tqdm_notebook(df.iterrows()):\n",
    "    thumb_link = rows[\"img\"]\n",
    "    response = requests.get(thumb_link)\n",
    "    name = str(idx) + \"_\" + rows[\"title\"]\n",
    "    name = name.replace(\"/\", \"\" )\n",
    "    with open(f\"./musinsa/{name}.png\", \"wb\") as f:\n",
    "        f.write(response.content)"
   ]
  },
  {
   "cell_type": "markdown",
   "id": "9c260803",
   "metadata": {},
   "source": [
    "### musinsa.py 파일 정리하기"
   ]
  },
  {
   "cell_type": "code",
   "execution_count": 4,
   "id": "6a29f42b",
   "metadata": {},
   "outputs": [
    {
     "name": "stdout",
     "output_type": "stream",
     "text": [
      "Overwriting ./musinsa.py\n"
     ]
    }
   ],
   "source": [
    "%%writefile ./musinsa.py\n",
    "\n",
    "import pandas as pd\n",
    "import time \n",
    "import requests\n",
    "\n",
    "from tqdm import tqdm_notebook\n",
    "from selenium import webdriver\n",
    "# explicitly wait\n",
    "from selenium.webdriver.common.by import By\n",
    "from selenium.webdriver.support.ui import WebDriverWait\n",
    "from selenium.webdriver.support import expected_conditions as EC\n",
    "\n",
    "\n",
    "# 옵션 설정\n",
    "options = webdriver.ChromeOptions()\n",
    "options.add_argument(\"headless\")\n",
    "\n",
    "url = \"https://store.musinsa.com/app/\"\n",
    "driver = webdriver.Chrome(\"../driver/chromedriver.exe\", options=options)\n",
    "driver.implicitly_wait(10) # 웹 페이지 전체가 로딩 될 때까지 10초간 대기하고, 10초 안에 페이지 로딩이 완료 되면 다음 코드 실행\n",
    "driver.get(url)\n",
    "\n",
    "# 화면 최대화\n",
    "driver.maximize_window()\n",
    "\n",
    "# 인기 탭 > 후드 집업\n",
    "best_link = driver.find_element_by_css_selector(\"#ui-id-2 > ul:nth-child(1) > li:nth-child(1) > a\").get_attribute(\"href\")\n",
    "\n",
    "# 후드 집업 링크를 새 탭으로 열기\n",
    "driver.execute_script(f\"window.open('{best_link}')\")\n",
    "\n",
    "# 후드 집업 탭으로 이동\n",
    "driver.switch_to.window(driver.window_handles[1])\n",
    "\n",
    "# 단독 상품 조건 클릭\n",
    "WebDriverWait(driver, 5).until(EC.presence_of_element_located((By.ID, \"btn_exclusive\"))).click()\n",
    "\n",
    "# 세일 상품 조건 클릭\n",
    "WebDriverWait(driver, 5).until(EC.presence_of_element_located((By.ID, \"btn_sale\"))).click()\n",
    "\n",
    "# 최소 금액 설정\n",
    "WebDriverWait(driver, 5).until(EC.presence_of_element_located((By.ID, \"minPrice\"))).send_keys(\"10000\")\n",
    "\n",
    "# 최대 금액 설정\n",
    "WebDriverWait(driver, 5).until(EC.presence_of_element_located((By.ID, \"maxPrice\"))).send_keys(\"100000\")\n",
    "\n",
    "# 검색 버튼 클릭\n",
    "WebDriverWait(driver, 5).until(EC.presence_of_element_located((By.ID, \"btn_price_search\"))).click()\n",
    "\n",
    "# 부모 태그\n",
    "outers = driver.find_elements_by_css_selector(\"#searchList > li\")\n",
    "\n",
    "# 전체 데이터 크롤링\n",
    "datas = []\n",
    "for outer in tqdm_notebook(outers):\n",
    "    title = outer.find_element_by_css_selector(\"p.list_info > a\").get_attribute(\"title\")\n",
    "    price = outer.find_element_by_css_selector(\"p.price\").text.split(\" \")[1][:-1]\n",
    "    link = outer.find_element_by_css_selector(\"p.list_info > a\").get_attribute(\"href\")\n",
    "    img = outer.find_element_by_css_selector(\"img\").get_attribute(\"src\")\n",
    "    \n",
    "    try:sale = outer.find_element_by_css_selector(\".icon_new\").text.split(\" \")[1][:-1]\n",
    "    except:sale = \"0\"    \n",
    "    \n",
    "    datas.append({\n",
    "        \"title\" : title,\n",
    "        \"price\" : price,\n",
    "        \"sale\" : sale,\n",
    "        \"link\" : link,\n",
    "        \"img\" : img\n",
    "    })\n",
    "    print(f\"title:{title} \\t|\\t price:{price}\")\n",
    "else:\n",
    "    driver.close()\n",
    "\n",
    "df = pd.DataFrame(datas)\n",
    "df.to_excel(\"./musinsa/musinsa.xlsx\", encoding=\"utf-8\")\n",
    "print(\"Success save to excel\")\n",
    "\n",
    "# 이미지 다운로드\n",
    "for idx, rows in tqdm_notebook(df.iterrows()):\n",
    "    thumb_link = rows[\"img\"]\n",
    "    response = requests.get(thumb_link)\n",
    "    name = str(idx) + \"_\" + rows[\"title\"]\n",
    "    name = name.replace(\"/\", \"\" )\n",
    "    with open(f\"./musinsa/{name}.png\", \"wb\") as f:\n",
    "        f.write(response.content)\n",
    "\n",
    "# 메인 윈도우 이동\n",
    "driver.switch_to.window(driver.window_handles[0])\n",
    "driver.close()\n",
    "print(\"작업 종료!!!\")"
   ]
  },
  {
   "cell_type": "code",
   "execution_count": 161,
   "id": "38d4923e",
   "metadata": {},
   "outputs": [
    {
     "name": "stderr",
     "output_type": "stream",
     "text": [
      "하위 디렉터리 또는 파일 musinsa이(가) 이미 있습니다.\n"
     ]
    }
   ],
   "source": [
    "!mkdir musinsa"
   ]
  },
  {
   "cell_type": "code",
   "execution_count": 5,
   "id": "1b7573c0",
   "metadata": {},
   "outputs": [],
   "source": [
    "!python musinsa.py"
   ]
  },
  {
   "cell_type": "code",
   "execution_count": 7,
   "id": "64c2533c",
   "metadata": {},
   "outputs": [
    {
     "name": "stderr",
     "output_type": "stream",
     "text": [
      "C:\\Users\\today\\AppData\\Local\\Temp/ipykernel_15060/1747450444.py:54: TqdmDeprecationWarning: This function will be removed in tqdm==5.0.0\n",
      "Please use `tqdm.notebook.tqdm` instead of `tqdm.tqdm_notebook`\n",
      "  for outer in tqdm_notebook(outers):\n"
     ]
    },
    {
     "data": {
      "application/vnd.jupyter.widget-view+json": {
       "model_id": "40eded3b905f408891264ced4c4d8055",
       "version_major": 2,
       "version_minor": 0
      },
      "text/plain": [
       "  0%|          | 0/28 [00:00<?, ?it/s]"
      ]
     },
     "metadata": {},
     "output_type": "display_data"
    },
    {
     "name": "stdout",
     "output_type": "stream",
     "text": [
      "title:2WAY 스웻 후드 집업 (MELANGE GREY) \t|\t price:39,000\n",
      "title:스탠다드 후드 스웨트 집업 - 멜란지 그레이 \t|\t price:35,890\n",
      "title:엔젤 와펜 집업 후드 그레이 \t|\t price:63,200\n",
      "title:코드 후드 집업 자켓 스모크 그레이 \t|\t price:54,900\n",
      "title:2WAY 스웻 후드 집업 (BLACK) \t|\t price:39,000\n",
      "title:엔젤 와펜 집업 후드 블랙 \t|\t price:63,200\n",
      "title:트위치 로고 스탠다드 후드 집업 그레이 \t|\t price:63,200\n",
      "title:2WAY 스웻 후드 집업 (CHARCOAL) \t|\t price:39,000\n",
      "title:트위치 로고 스탠다드 후드 집업 블랙 \t|\t price:63,200\n",
      "title:스몰 어센틱 로고 후디 집업 그레이 \t|\t price:63,200\n",
      "title:EMBROIDERY HANDSOME DAN HOODIE ZIP UP BLACK \t|\t price:75,650\n",
      "title:스탠다드 후드 스웨트 집업 - 블랙 \t|\t price:35,890\n",
      "title:코드 후드 집업 자켓 블랙 \t|\t price:54,900\n",
      "title:사인 로고 집업 후드 블랙 \t|\t price:63,200\n",
      "title:[패키지] BASIC LOGO EMB HOOD ZIP-UP [LRPWCTZ341M] \t|\t price:79,000\n",
      "title:사인 로고 집업 후드 그레이 \t|\t price:63,200\n",
      "title:2WAY 스웻 후드 집업 (OATMEAL) \t|\t price:39,000\n",
      "title:유니섹스 오버핏 듀얼라이즈 로고 후드 집 업-그레이 \t|\t price:51,750\n",
      "title:EMBROIDERY HANDSOME DAN HOODIE ZIP UP PG CHARCOAL \t|\t price:89,100\n",
      "title:[SET]트래블러 피그먼트 트레이닝 셋업 블랙 차콜 \t|\t price:65,900\n",
      "title:로고&스마일리 후드 집업_그레이(IK2BFMM480A) \t|\t price:63,200\n",
      "title:[블랙 워치] 코드 후드 집업 자켓 \t|\t price:51,200\n",
      "title:[송필드pick] TAG ZIP-UP HOODIE - GREY \t|\t price:59,000\n",
      "title:더블택 오버핏 2Way 후드집업 (멜란지) \t|\t price:33,900\n",
      "title:Hotfix Velour Tracksuit Beige \t|\t price:93,100\n",
      "title:Carpe Diem 자수 후드 집업 블랙 \t|\t price:49,400\n",
      "title:Hotfix Velour Tracksuit Khaki \t|\t price:93,100\n",
      "title:Carpe Diem 자수 후드 집업 그레이 \t|\t price:49,400\n",
      "Success save to excel\n"
     ]
    },
    {
     "name": "stderr",
     "output_type": "stream",
     "text": [
      "C:\\Users\\today\\AppData\\Local\\Temp/ipykernel_15060/1747450444.py:79: TqdmDeprecationWarning: This function will be removed in tqdm==5.0.0\n",
      "Please use `tqdm.notebook.tqdm` instead of `tqdm.tqdm_notebook`\n",
      "  for idx, rows in tqdm_notebook(df.iterrows()):\n"
     ]
    },
    {
     "data": {
      "application/vnd.jupyter.widget-view+json": {
       "model_id": "0d9e584181e0436ea5f1ad1f1272d8eb",
       "version_major": 2,
       "version_minor": 0
      },
      "text/plain": [
       "0it [00:00, ?it/s]"
      ]
     },
     "metadata": {},
     "output_type": "display_data"
    },
    {
     "name": "stdout",
     "output_type": "stream",
     "text": [
      "작업 종료!!!\n"
     ]
    }
   ],
   "source": [
    "import pandas as pd\n",
    "import time \n",
    "import requests\n",
    "\n",
    "from tqdm import tqdm_notebook\n",
    "from selenium import webdriver\n",
    "# explicitly wait\n",
    "from selenium.webdriver.common.by import By\n",
    "from selenium.webdriver.support.ui import WebDriverWait\n",
    "from selenium.webdriver.support import expected_conditions as EC\n",
    "\n",
    "\n",
    "# 옵션 설정\n",
    "options = webdriver.ChromeOptions()\n",
    "options.add_argument(\"headless\")\n",
    "\n",
    "url = \"https://store.musinsa.com/app/\"\n",
    "driver = webdriver.Chrome(\"../driver/chromedriver.exe\", options=options)\n",
    "driver.implicitly_wait(10) # 웹 페이지 전체가 로딩 될 때까지 10초간 대기하고, 10초 안에 페이지 로딩이 완료 되면 다음 코드 실행\n",
    "driver.get(url)\n",
    "\n",
    "# 화면 최대화\n",
    "driver.maximize_window()\n",
    "\n",
    "# 인기 탭 > 후드 집업\n",
    "best_link = driver.find_element_by_css_selector(\"#ui-id-2 > ul:nth-child(1) > li:nth-child(1) > a\").get_attribute(\"href\")\n",
    "\n",
    "# 후드 집업 링크를 새 탭으로 열기\n",
    "driver.execute_script(f\"window.open('{best_link}')\")\n",
    "\n",
    "# 후드 집업 탭으로 이동\n",
    "driver.switch_to.window(driver.window_handles[1])\n",
    "\n",
    "# 단독 상품 조건 클릭\n",
    "WebDriverWait(driver, 5).until(EC.presence_of_element_located((By.ID, \"btn_exclusive\"))).click()\n",
    "\n",
    "# 세일 상품 조건 클릭\n",
    "WebDriverWait(driver, 5).until(EC.presence_of_element_located((By.ID, \"btn_sale\"))).click()\n",
    "\n",
    "# 최소 금액 설정\n",
    "WebDriverWait(driver, 5).until(EC.presence_of_element_located((By.ID, \"minPrice\"))).send_keys(\"10000\")\n",
    "\n",
    "# 최대 금액 설정\n",
    "WebDriverWait(driver, 5).until(EC.presence_of_element_located((By.ID, \"maxPrice\"))).send_keys(\"100000\")\n",
    "\n",
    "# 검색 버튼 클릭\n",
    "WebDriverWait(driver, 5).until(EC.presence_of_element_located((By.ID, \"btn_price_search\"))).click()\n",
    "\n",
    "# 부모 태그\n",
    "outers = driver.find_elements_by_css_selector(\"#searchList > li\")\n",
    "\n",
    "# 전체 데이터 크롤링\n",
    "datas = []\n",
    "for outer in tqdm_notebook(outers):\n",
    "    title = outer.find_element_by_css_selector(\"p.list_info > a\").get_attribute(\"title\")\n",
    "    price = outer.find_element_by_css_selector(\"p.price\").text.split(\" \")[1][:-1]\n",
    "    link = outer.find_element_by_css_selector(\"p.list_info > a\").get_attribute(\"href\")\n",
    "    img = outer.find_element_by_css_selector(\"img\").get_attribute(\"src\")\n",
    "    \n",
    "    try:sale = outer.find_element_by_css_selector(\".icon_new\").text.split(\" \")[1][:-1]\n",
    "    except:sale = \"0\"    \n",
    "    \n",
    "    datas.append({\n",
    "        \"title\" : title,\n",
    "        \"price\" : price,\n",
    "        \"sale\" : sale,\n",
    "        \"link\" : link,\n",
    "        \"img\" : img\n",
    "    })\n",
    "    print(f\"title:{title} \\t|\\t price:{price}\")\n",
    "else:\n",
    "    driver.close()\n",
    "\n",
    "df = pd.DataFrame(datas)\n",
    "df.to_excel(\"./musinsa/musinsa.xlsx\", encoding=\"utf-8\")\n",
    "print(\"Success save to excel\")\n",
    "\n",
    "# 이미지 다운로드\n",
    "for idx, rows in tqdm_notebook(df.iterrows()):\n",
    "    thumb_link = rows[\"img\"]\n",
    "    response = requests.get(thumb_link)\n",
    "    name = str(idx) + \"_\" + rows[\"title\"]\n",
    "    name = name.replace(\"/\", \"\" )\n",
    "    with open(f\"./musinsa/{name}.png\", \"wb\") as f:\n",
    "        f.write(response.content)\n",
    "\n",
    "# 메인 윈도우 이동\n",
    "driver.switch_to.window(driver.window_handles[0])\n",
    "driver.close()\n",
    "print(\"작업 종료!!!\")"
   ]
  },
  {
   "cell_type": "code",
   "execution_count": 10,
   "id": "93a9fc08",
   "metadata": {},
   "outputs": [
    {
     "data": {
      "text/plain": [
       "[2, 3, 4, 5, 1, 1, 1]"
      ]
     },
     "execution_count": 10,
     "metadata": {},
     "output_type": "execute_result"
    }
   ],
   "source": [
    "data = [1,2,3,4,5,1,1,1]\n",
    "data.remove(1)\n",
    "data"
   ]
  },
  {
   "cell_type": "code",
   "execution_count": 11,
   "id": "3d34f0d2",
   "metadata": {},
   "outputs": [
    {
     "data": {
      "text/plain": [
       "['성기훈', '오일남', '알리', '새벽', '미녀', '상우']"
      ]
     },
     "execution_count": 11,
     "metadata": {},
     "output_type": "execute_result"
    }
   ],
   "source": [
    "actors_1 = [\"성기훈\", \"오일남\", \"알리\"]\n",
    "actors_2 = [\"새벽\", \"미녀\", \"상우\"] \n",
    "actors_1.extend(actors_2)\n",
    "actors_1"
   ]
  },
  {
   "cell_type": "code",
   "execution_count": 12,
   "id": "09969e94",
   "metadata": {},
   "outputs": [
    {
     "data": {
      "text/plain": [
       "[49, 44, 39, 34, 29, 24, 19, 14]"
      ]
     },
     "execution_count": 12,
     "metadata": {},
     "output_type": "execute_result"
    }
   ],
   "source": [
    "nums = list(range(50))\n",
    "nums[:10:-5]"
   ]
  },
  {
   "cell_type": "code",
   "execution_count": null,
   "id": "cdabf780",
   "metadata": {},
   "outputs": [],
   "source": []
  }
 ],
 "metadata": {
  "kernelspec": {
   "display_name": "Python 3 (ipykernel)",
   "language": "python",
   "name": "python3"
  },
  "language_info": {
   "codemirror_mode": {
    "name": "ipython",
    "version": 3
   },
   "file_extension": ".py",
   "mimetype": "text/x-python",
   "name": "python",
   "nbconvert_exporter": "python",
   "pygments_lexer": "ipython3",
   "version": "3.8.11"
  }
 },
 "nbformat": 4,
 "nbformat_minor": 5
}

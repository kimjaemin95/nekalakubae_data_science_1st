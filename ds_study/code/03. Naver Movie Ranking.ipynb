{
 "cells": [
  {
   "cell_type": "markdown",
   "id": "9330518d",
   "metadata": {},
   "source": [
    "# 03. Naver Movie Ranking"
   ]
  },
  {
   "cell_type": "markdown",
   "id": "cfeeb196",
   "metadata": {},
   "source": [
    "## 1. 네이버 영화 평점 사이트 분석\n",
    "- \"https://movie.naver.com/\"\n",
    "- 영화랭킹 탭 이동\n",
    "- 영화랭킹에서 평점순(현재상영영화)\n",
    "- https://movie.naver.com/movie/sdb/rank/rmovie.naver?sel=cur&date=20210928"
   ]
  },
  {
   "cell_type": "markdown",
   "id": "5555597b",
   "metadata": {},
   "source": [
    "- 웹페이지 주소에는 많은 정보가 담겨 있습니다.\n",
    "- 원하는 정보를 얻기 위해서 변화시켜줘야 하는 주소의 규칙을 찾을 수 있습니다.\n",
    "- 여기에서는 날짜 정보를 변경해주면 해당 페이지에 접근이 가능합니다.\n"
   ]
  },
  {
   "cell_type": "code",
   "execution_count": 3,
   "id": "d5cf6a71",
   "metadata": {},
   "outputs": [],
   "source": [
    "import pandas as pd\n",
    "from urllib.request import urlopen\n",
    "from bs4 import BeautifulSoup as bs4"
   ]
  },
  {
   "cell_type": "code",
   "execution_count": 79,
   "id": "9387b501",
   "metadata": {},
   "outputs": [
    {
     "ename": "TypeError",
     "evalue": "'NoneType' object is not callable",
     "output_type": "error",
     "traceback": [
      "\u001b[1;31m---------------------------------------------------------------------------\u001b[0m",
      "\u001b[1;31mTypeError\u001b[0m                                 Traceback (most recent call last)",
      "\u001b[1;32m~\\AppData\\Local\\Temp/ipykernel_29100/3750209608.py\u001b[0m in \u001b[0;36m<module>\u001b[1;34m\u001b[0m\n\u001b[0;32m      2\u001b[0m \u001b[0mresponse\u001b[0m \u001b[1;33m=\u001b[0m \u001b[0murlopen\u001b[0m\u001b[1;33m(\u001b[0m\u001b[0murl\u001b[0m\u001b[1;33m)\u001b[0m\u001b[1;33m\u001b[0m\u001b[1;33m\u001b[0m\u001b[0m\n\u001b[0;32m      3\u001b[0m \u001b[0msoup\u001b[0m \u001b[1;33m=\u001b[0m \u001b[0mbs4\u001b[0m\u001b[1;33m(\u001b[0m\u001b[0mresponse\u001b[0m\u001b[1;33m.\u001b[0m\u001b[0mread\u001b[0m\u001b[1;33m(\u001b[0m\u001b[1;33m)\u001b[0m\u001b[1;33m,\u001b[0m \u001b[1;34m\"html.parser\"\u001b[0m\u001b[1;33m)\u001b[0m\u001b[1;33m\u001b[0m\u001b[1;33m\u001b[0m\u001b[0m\n\u001b[1;32m----> 4\u001b[1;33m \u001b[0msoup\u001b[0m\u001b[1;33m.\u001b[0m\u001b[0mfind\u001b[0m\u001b[1;33m(\u001b[0m\u001b[1;34m\"div\"\u001b[0m\u001b[1;33m)\u001b[0m\u001b[1;33m.\u001b[0m\u001b[0mstring\u001b[0m\u001b[1;33m(\u001b[0m\u001b[1;33m)\u001b[0m\u001b[1;33m\u001b[0m\u001b[1;33m\u001b[0m\u001b[0m\n\u001b[0m",
      "\u001b[1;31mTypeError\u001b[0m: 'NoneType' object is not callable"
     ]
    }
   ],
   "source": [
    "url = \"https://movie.naver.com/movie/sdb/rank/rmovie.naver?sel=cur&date=20210914\"\n",
    "response = urlopen(url)\n",
    "soup = bs4(response.read(), \"html.parser\")\n",
    "soup.find(\"div\").string()"
   ]
  },
  {
   "cell_type": "code",
   "execution_count": 17,
   "id": "ccbde5e5",
   "metadata": {},
   "outputs": [
    {
     "name": "stdout",
     "output_type": "stream",
     "text": [
      "/movie/bi/mi/basic.naver?code=174830 | 가버나움\n",
      "/movie/bi/mi/basic.naver?code=201073 | 코다\n",
      "/movie/bi/mi/basic.naver?code=10249 | 모던 타임즈\n",
      "/movie/bi/mi/basic.naver?code=10341 | 위대한 독재자\n",
      "/movie/bi/mi/basic.naver?code=19335 | 해피 투게더\n"
     ]
    }
   ],
   "source": [
    "for item in soup.find_all(\"div\", class_=\"tit5\")[:5]:\n",
    "    href = item.find(\"a\").get(\"href\").strip()\n",
    "    title = item.find(\"a\").get(\"title\").strip()\n",
    "    print(href, title, sep=\" | \")"
   ]
  },
  {
   "cell_type": "code",
   "execution_count": 25,
   "id": "f3f1660e",
   "metadata": {},
   "outputs": [],
   "source": [
    "urls = []\n",
    "titles = []\n",
    "\n",
    "for item in soup.select(\"div.tit5\"):\n",
    "    href = item.find(\"a\").get(\"href\").strip()\n",
    "    title = item.find(\"a\").get(\"title\").strip()\n",
    "    \n",
    "    urls.append(href)\n",
    "    titles.append(title)"
   ]
  },
  {
   "cell_type": "code",
   "execution_count": 29,
   "id": "8aa98c66",
   "metadata": {},
   "outputs": [],
   "source": [
    "rankes = []\n",
    "\n",
    "for item in soup.find_all(\"td\", class_=\"point\"):\n",
    "    rank = item.get_text()\n",
    "    rankes.append(rank)"
   ]
  },
  {
   "cell_type": "code",
   "execution_count": 30,
   "id": "72337c96",
   "metadata": {},
   "outputs": [
    {
     "data": {
      "text/plain": [
       "(47, 47)"
      ]
     },
     "execution_count": 30,
     "metadata": {},
     "output_type": "execute_result"
    }
   ],
   "source": [
    "len(soup.find_all(\"div\", class_=\"tit5\")), len(soup.find_all(\"td\", class_=\"point\"))"
   ]
  },
  {
   "cell_type": "code",
   "execution_count": 31,
   "id": "992c55b2",
   "metadata": {},
   "outputs": [
    {
     "data": {
      "text/plain": [
       "(47, 47, 47)"
      ]
     },
     "execution_count": 31,
     "metadata": {},
     "output_type": "execute_result"
    }
   ],
   "source": [
    "len(urls), len(titles), len(rankes)"
   ]
  },
  {
   "cell_type": "code",
   "execution_count": 33,
   "id": "8fa24a3f",
   "metadata": {},
   "outputs": [
    {
     "data": {
      "text/html": [
       "<div>\n",
       "<style scoped>\n",
       "    .dataframe tbody tr th:only-of-type {\n",
       "        vertical-align: middle;\n",
       "    }\n",
       "\n",
       "    .dataframe tbody tr th {\n",
       "        vertical-align: top;\n",
       "    }\n",
       "\n",
       "    .dataframe thead th {\n",
       "        text-align: right;\n",
       "    }\n",
       "</style>\n",
       "<table border=\"1\" class=\"dataframe\">\n",
       "  <thead>\n",
       "    <tr style=\"text-align: right;\">\n",
       "      <th></th>\n",
       "      <th>Title</th>\n",
       "      <th>Rank</th>\n",
       "      <th>Url</th>\n",
       "    </tr>\n",
       "  </thead>\n",
       "  <tbody>\n",
       "    <tr>\n",
       "      <th>0</th>\n",
       "      <td>가버나움</td>\n",
       "      <td>9.59</td>\n",
       "      <td>/movie/bi/mi/basic.naver?code=174830</td>\n",
       "    </tr>\n",
       "    <tr>\n",
       "      <th>1</th>\n",
       "      <td>코다</td>\n",
       "      <td>9.36</td>\n",
       "      <td>/movie/bi/mi/basic.naver?code=201073</td>\n",
       "    </tr>\n",
       "    <tr>\n",
       "      <th>2</th>\n",
       "      <td>모던 타임즈</td>\n",
       "      <td>9.32</td>\n",
       "      <td>/movie/bi/mi/basic.naver?code=10249</td>\n",
       "    </tr>\n",
       "    <tr>\n",
       "      <th>3</th>\n",
       "      <td>위대한 독재자</td>\n",
       "      <td>9.23</td>\n",
       "      <td>/movie/bi/mi/basic.naver?code=10341</td>\n",
       "    </tr>\n",
       "    <tr>\n",
       "      <th>4</th>\n",
       "      <td>해피 투게더</td>\n",
       "      <td>9.19</td>\n",
       "      <td>/movie/bi/mi/basic.naver?code=19335</td>\n",
       "    </tr>\n",
       "  </tbody>\n",
       "</table>\n",
       "</div>"
      ],
      "text/plain": [
       "     Title  Rank                                   Url\n",
       "0     가버나움  9.59  /movie/bi/mi/basic.naver?code=174830\n",
       "1       코다  9.36  /movie/bi/mi/basic.naver?code=201073\n",
       "2   모던 타임즈  9.32   /movie/bi/mi/basic.naver?code=10249\n",
       "3  위대한 독재자  9.23   /movie/bi/mi/basic.naver?code=10341\n",
       "4   해피 투게더  9.19   /movie/bi/mi/basic.naver?code=19335"
      ]
     },
     "execution_count": 33,
     "metadata": {},
     "output_type": "execute_result"
    }
   ],
   "source": [
    "data = {\n",
    "    \"Title\" : titles,\n",
    "    \"Rank\" : rankes,\n",
    "    \"Url\" : urls\n",
    "}\n",
    "pd.DataFrame(data).head()"
   ]
  },
  {
   "cell_type": "markdown",
   "id": "5f77efb6",
   "metadata": {},
   "source": [
    "---"
   ]
  },
  {
   "cell_type": "markdown",
   "id": "0c8a4f33",
   "metadata": {},
   "source": [
    "## 2. 자동화를 위한 코드"
   ]
  },
  {
   "cell_type": "markdown",
   "id": "cbce6979",
   "metadata": {},
   "source": [
    "```\n",
    "https://movie.naver.com/movie/sdb/rank/rmovie.naver?sel=cur&date=20210914\n",
    "```\n",
    "- 날짜만 변경하면 원하는 기간 만큼 데이터를 얻을 수 있습니다."
   ]
  },
  {
   "cell_type": "code",
   "execution_count": 37,
   "id": "351e92da",
   "metadata": {},
   "outputs": [],
   "source": [
    "import pandas as pd\n",
    "import numpy as np\n",
    "import time\n",
    "from tqdm import tqdm\n",
    "from urllib.request import urlopen\n",
    "from bs4 import BeautifulSoup as bs4"
   ]
  },
  {
   "cell_type": "code",
   "execution_count": 3,
   "id": "a42415ba",
   "metadata": {},
   "outputs": [
    {
     "data": {
      "text/plain": [
       "DatetimeIndex(['2021-01-01', '2021-01-02', '2021-01-03', '2021-01-04',\n",
       "               '2021-01-05', '2021-01-06', '2021-01-07', '2021-01-08',\n",
       "               '2021-01-09', '2021-01-10', '2021-01-11', '2021-01-12',\n",
       "               '2021-01-13', '2021-01-14', '2021-01-15', '2021-01-16',\n",
       "               '2021-01-17', '2021-01-18', '2021-01-19', '2021-01-20',\n",
       "               '2021-01-21', '2021-01-22', '2021-01-23', '2021-01-24',\n",
       "               '2021-01-25', '2021-01-26', '2021-01-27', '2021-01-28',\n",
       "               '2021-01-29', '2021-01-30', '2021-01-31', '2021-02-01',\n",
       "               '2021-02-02', '2021-02-03', '2021-02-04', '2021-02-05',\n",
       "               '2021-02-06', '2021-02-07', '2021-02-08', '2021-02-09',\n",
       "               '2021-02-10', '2021-02-11', '2021-02-12', '2021-02-13',\n",
       "               '2021-02-14', '2021-02-15', '2021-02-16', '2021-02-17',\n",
       "               '2021-02-18', '2021-02-19', '2021-02-20', '2021-02-21',\n",
       "               '2021-02-22', '2021-02-23', '2021-02-24', '2021-02-25',\n",
       "               '2021-02-26', '2021-02-27', '2021-02-28', '2021-03-01',\n",
       "               '2021-03-02', '2021-03-03', '2021-03-04', '2021-03-05',\n",
       "               '2021-03-06', '2021-03-07', '2021-03-08', '2021-03-09',\n",
       "               '2021-03-10', '2021-03-11', '2021-03-12', '2021-03-13',\n",
       "               '2021-03-14', '2021-03-15', '2021-03-16', '2021-03-17',\n",
       "               '2021-03-18', '2021-03-19', '2021-03-20', '2021-03-21',\n",
       "               '2021-03-22', '2021-03-23', '2021-03-24', '2021-03-25',\n",
       "               '2021-03-26', '2021-03-27', '2021-03-28', '2021-03-29',\n",
       "               '2021-03-30', '2021-03-31', '2021-04-01', '2021-04-02',\n",
       "               '2021-04-03', '2021-04-04', '2021-04-05', '2021-04-06',\n",
       "               '2021-04-07', '2021-04-08', '2021-04-09', '2021-04-10'],\n",
       "              dtype='datetime64[ns]', freq='D')"
      ]
     },
     "execution_count": 3,
     "metadata": {},
     "output_type": "execute_result"
    }
   ],
   "source": [
    "dates = pd.date_range(\"2021.01.01\", periods=100, freq=\"D\")\n",
    "dates"
   ]
  },
  {
   "cell_type": "code",
   "execution_count": 3,
   "id": "96116180",
   "metadata": {},
   "outputs": [
    {
     "data": {
      "text/plain": [
       "Timestamp('2021-01-01 00:00:00', freq='D')"
      ]
     },
     "execution_count": 3,
     "metadata": {},
     "output_type": "execute_result"
    }
   ],
   "source": [
    "dates[0]"
   ]
  },
  {
   "cell_type": "code",
   "execution_count": 6,
   "id": "7fb0c1fa",
   "metadata": {},
   "outputs": [
    {
     "data": {
      "text/plain": [
       "'2021-01-01'"
      ]
     },
     "execution_count": 6,
     "metadata": {},
     "output_type": "execute_result"
    }
   ],
   "source": [
    "dates[0].strftime(\"%Y-%m-%d\")"
   ]
  },
  {
   "cell_type": "code",
   "execution_count": 28,
   "id": "7457b51a",
   "metadata": {},
   "outputs": [
    {
     "name": "stderr",
     "output_type": "stream",
     "text": [
      "100%|██████████████████████████████████████████████| 100/100 [01:58<00:00,  1.19s/it]\n"
     ]
    }
   ],
   "source": [
    "movie_dates = []\n",
    "movie_names = []\n",
    "movie_points = []\n",
    "\n",
    "for today in tqdm(dates):\n",
    "    url = \"https://movie.naver.com/movie/sdb/rank/rmovie.naver?sel=cur&date={date}\".format(date = today.strftime(\"%Y%m%d\"))\n",
    "    response = urlopen(url)\n",
    "    soup = bs4(response, \"html.parser\")\n",
    "    \n",
    "    movie_date = [ today for _ in range(len(soup.find_all(\"div\", class_=\"tit5\"))) ]\n",
    "    movie_name = [ item.find(\"a\").get(\"title\") for item in soup.find_all(\"div\", class_=\"tit5\") ]\n",
    "    movie_point = [ td.text.strip() for td in soup.find_all(\"td\", class_=\"point\") ]\n",
    "    movie_dates.extend(movie_date)\n",
    "    movie_names.extend(movie_name)\n",
    "    movie_points.extend(movie_point)\n",
    "    \n",
    "    time.sleep(1)\n",
    "    "
   ]
  },
  {
   "cell_type": "code",
   "execution_count": 31,
   "id": "1d5beef6",
   "metadata": {},
   "outputs": [
    {
     "data": {
      "text/plain": [
       "(4793, 4793, 4793)"
      ]
     },
     "execution_count": 31,
     "metadata": {},
     "output_type": "execute_result"
    }
   ],
   "source": [
    "len(movie_dates), len(movie_names), len(movie_points)"
   ]
  },
  {
   "cell_type": "code",
   "execution_count": 32,
   "id": "7b25331f",
   "metadata": {},
   "outputs": [
    {
     "data": {
      "text/html": [
       "<div>\n",
       "<style scoped>\n",
       "    .dataframe tbody tr th:only-of-type {\n",
       "        vertical-align: middle;\n",
       "    }\n",
       "\n",
       "    .dataframe tbody tr th {\n",
       "        vertical-align: top;\n",
       "    }\n",
       "\n",
       "    .dataframe thead th {\n",
       "        text-align: right;\n",
       "    }\n",
       "</style>\n",
       "<table border=\"1\" class=\"dataframe\">\n",
       "  <thead>\n",
       "    <tr style=\"text-align: right;\">\n",
       "      <th></th>\n",
       "      <th>date</th>\n",
       "      <th>name</th>\n",
       "      <th>point</th>\n",
       "    </tr>\n",
       "  </thead>\n",
       "  <tbody>\n",
       "    <tr>\n",
       "      <th>0</th>\n",
       "      <td>2021-01-01</td>\n",
       "      <td>가나의 혼인잔치: 언약</td>\n",
       "      <td>9.59</td>\n",
       "    </tr>\n",
       "    <tr>\n",
       "      <th>1</th>\n",
       "      <td>2021-01-01</td>\n",
       "      <td>언플랜드</td>\n",
       "      <td>9.52</td>\n",
       "    </tr>\n",
       "    <tr>\n",
       "      <th>2</th>\n",
       "      <td>2021-01-01</td>\n",
       "      <td>극장판 바이올렛 에버가든</td>\n",
       "      <td>9.49</td>\n",
       "    </tr>\n",
       "    <tr>\n",
       "      <th>3</th>\n",
       "      <td>2021-01-01</td>\n",
       "      <td>부활: 그 증거</td>\n",
       "      <td>9.40</td>\n",
       "    </tr>\n",
       "    <tr>\n",
       "      <th>4</th>\n",
       "      <td>2021-01-01</td>\n",
       "      <td>소년시절의 너</td>\n",
       "      <td>9.39</td>\n",
       "    </tr>\n",
       "  </tbody>\n",
       "</table>\n",
       "</div>"
      ],
      "text/plain": [
       "        date           name point\n",
       "0 2021-01-01   가나의 혼인잔치: 언약  9.59\n",
       "1 2021-01-01           언플랜드  9.52\n",
       "2 2021-01-01  극장판 바이올렛 에버가든  9.49\n",
       "3 2021-01-01       부활: 그 증거  9.40\n",
       "4 2021-01-01        소년시절의 너  9.39"
      ]
     },
     "execution_count": 32,
     "metadata": {},
     "output_type": "execute_result"
    }
   ],
   "source": [
    "data = {\n",
    "    \"date\":movie_dates,\n",
    "    \"name\":movie_names,\n",
    "    \"point\":movie_points\n",
    "}\n",
    "df = pd.DataFrame(data)\n",
    "df.head()"
   ]
  },
  {
   "cell_type": "code",
   "execution_count": 33,
   "id": "2c69da5f",
   "metadata": {},
   "outputs": [],
   "source": [
    "df.to_csv(\n",
    "    \"../data/03. naver_moive_data.csv\", sep=\",\", encoding=\"utf-8\"\n",
    ")"
   ]
  },
  {
   "cell_type": "markdown",
   "id": "d779c57d",
   "metadata": {},
   "source": [
    "## 3. 영화 평점 데이터 정리"
   ]
  },
  {
   "cell_type": "code",
   "execution_count": 47,
   "id": "d917cfbd",
   "metadata": {},
   "outputs": [],
   "source": [
    "import pandas as pd\n",
    "import numpy as np\n",
    "import time\n",
    "from tqdm import tqdm"
   ]
  },
  {
   "cell_type": "code",
   "execution_count": 48,
   "id": "392fd99e",
   "metadata": {},
   "outputs": [
    {
     "data": {
      "text/html": [
       "<div>\n",
       "<style scoped>\n",
       "    .dataframe tbody tr th:only-of-type {\n",
       "        vertical-align: middle;\n",
       "    }\n",
       "\n",
       "    .dataframe tbody tr th {\n",
       "        vertical-align: top;\n",
       "    }\n",
       "\n",
       "    .dataframe thead th {\n",
       "        text-align: right;\n",
       "    }\n",
       "</style>\n",
       "<table border=\"1\" class=\"dataframe\">\n",
       "  <thead>\n",
       "    <tr style=\"text-align: right;\">\n",
       "      <th></th>\n",
       "      <th>date</th>\n",
       "      <th>name</th>\n",
       "      <th>point</th>\n",
       "    </tr>\n",
       "  </thead>\n",
       "  <tbody>\n",
       "    <tr>\n",
       "      <th>0</th>\n",
       "      <td>2021-01-01</td>\n",
       "      <td>가나의 혼인잔치: 언약</td>\n",
       "      <td>9.59</td>\n",
       "    </tr>\n",
       "    <tr>\n",
       "      <th>1</th>\n",
       "      <td>2021-01-01</td>\n",
       "      <td>언플랜드</td>\n",
       "      <td>9.52</td>\n",
       "    </tr>\n",
       "    <tr>\n",
       "      <th>2</th>\n",
       "      <td>2021-01-01</td>\n",
       "      <td>극장판 바이올렛 에버가든</td>\n",
       "      <td>9.49</td>\n",
       "    </tr>\n",
       "    <tr>\n",
       "      <th>3</th>\n",
       "      <td>2021-01-01</td>\n",
       "      <td>부활: 그 증거</td>\n",
       "      <td>9.40</td>\n",
       "    </tr>\n",
       "    <tr>\n",
       "      <th>4</th>\n",
       "      <td>2021-01-01</td>\n",
       "      <td>소년시절의 너</td>\n",
       "      <td>9.39</td>\n",
       "    </tr>\n",
       "  </tbody>\n",
       "</table>\n",
       "</div>"
      ],
      "text/plain": [
       "         date           name  point\n",
       "0  2021-01-01   가나의 혼인잔치: 언약   9.59\n",
       "1  2021-01-01           언플랜드   9.52\n",
       "2  2021-01-01  극장판 바이올렛 에버가든   9.49\n",
       "3  2021-01-01       부활: 그 증거   9.40\n",
       "4  2021-01-01        소년시절의 너   9.39"
      ]
     },
     "execution_count": 48,
     "metadata": {},
     "output_type": "execute_result"
    }
   ],
   "source": [
    "movie = pd.read_csv(\"../data/03. naver_moive_data.csv\", index_col=0)\n",
    "movie.head()"
   ]
  },
  {
   "cell_type": "markdown",
   "id": "3f0b2ad7",
   "metadata": {},
   "source": [
    "-  영화 이름으로 인덱스를 잡습니다.\n",
    "- 점수의 합산을 구합니다.\n",
    "- 100일 간 네이버 영화 평점 합산 기준 베스트 & 워스크 10 선정"
   ]
  },
  {
   "cell_type": "code",
   "execution_count": 49,
   "id": "a21b2b44",
   "metadata": {},
   "outputs": [
    {
     "data": {
      "text/html": [
       "<div>\n",
       "<style scoped>\n",
       "    .dataframe tbody tr th:only-of-type {\n",
       "        vertical-align: middle;\n",
       "    }\n",
       "\n",
       "    .dataframe tbody tr th {\n",
       "        vertical-align: top;\n",
       "    }\n",
       "\n",
       "    .dataframe thead th {\n",
       "        text-align: right;\n",
       "    }\n",
       "</style>\n",
       "<table border=\"1\" class=\"dataframe\">\n",
       "  <thead>\n",
       "    <tr style=\"text-align: right;\">\n",
       "      <th></th>\n",
       "      <th>point</th>\n",
       "    </tr>\n",
       "    <tr>\n",
       "      <th>name</th>\n",
       "      <th></th>\n",
       "    </tr>\n",
       "  </thead>\n",
       "  <tbody>\n",
       "    <tr>\n",
       "      <th>120BPM</th>\n",
       "      <td>2.76</td>\n",
       "    </tr>\n",
       "    <tr>\n",
       "      <th>1917</th>\n",
       "      <td>62.09</td>\n",
       "    </tr>\n",
       "    <tr>\n",
       "      <th>800</th>\n",
       "      <td>25.27</td>\n",
       "    </tr>\n",
       "    <tr>\n",
       "      <th>가나의 혼인잔치: 언약</th>\n",
       "      <td>501.68</td>\n",
       "    </tr>\n",
       "    <tr>\n",
       "      <th>건축학개론</th>\n",
       "      <td>78.03</td>\n",
       "    </tr>\n",
       "  </tbody>\n",
       "</table>\n",
       "</div>"
      ],
      "text/plain": [
       "               point\n",
       "name                \n",
       "120BPM          2.76\n",
       "1917           62.09\n",
       "800            25.27\n",
       "가나의 혼인잔치: 언약  501.68\n",
       "건축학개론          78.03"
      ]
     },
     "execution_count": 49,
     "metadata": {},
     "output_type": "execute_result"
    }
   ],
   "source": [
    "movie_unique = movie.pivot_table(index=\"name\", aggfunc=np.sum)\n",
    "movie_unique.head()"
   ]
  },
  {
   "cell_type": "code",
   "execution_count": 50,
   "id": "90245436",
   "metadata": {},
   "outputs": [
    {
     "data": {
      "text/html": [
       "<div>\n",
       "<style scoped>\n",
       "    .dataframe tbody tr th:only-of-type {\n",
       "        vertical-align: middle;\n",
       "    }\n",
       "\n",
       "    .dataframe tbody tr th {\n",
       "        vertical-align: top;\n",
       "    }\n",
       "\n",
       "    .dataframe thead th {\n",
       "        text-align: right;\n",
       "    }\n",
       "</style>\n",
       "<table border=\"1\" class=\"dataframe\">\n",
       "  <thead>\n",
       "    <tr style=\"text-align: right;\">\n",
       "      <th></th>\n",
       "      <th>point</th>\n",
       "    </tr>\n",
       "    <tr>\n",
       "      <th>name</th>\n",
       "      <th></th>\n",
       "    </tr>\n",
       "  </thead>\n",
       "  <tbody>\n",
       "    <tr>\n",
       "      <th>너의 췌장을 먹고 싶어</th>\n",
       "      <td>959.59</td>\n",
       "    </tr>\n",
       "    <tr>\n",
       "      <th>극장판 바이올렛 에버가든</th>\n",
       "      <td>949.98</td>\n",
       "    </tr>\n",
       "    <tr>\n",
       "      <th>부활: 그 증거</th>\n",
       "      <td>936.44</td>\n",
       "    </tr>\n",
       "    <tr>\n",
       "      <th>러브 액츄얼리</th>\n",
       "      <td>893.02</td>\n",
       "    </tr>\n",
       "    <tr>\n",
       "      <th>화양연화</th>\n",
       "      <td>877.12</td>\n",
       "    </tr>\n",
       "  </tbody>\n",
       "</table>\n",
       "</div>"
      ],
      "text/plain": [
       "                point\n",
       "name                 \n",
       "너의 췌장을 먹고 싶어   959.59\n",
       "극장판 바이올렛 에버가든  949.98\n",
       "부활: 그 증거       936.44\n",
       "러브 액츄얼리        893.02\n",
       "화양연화           877.12"
      ]
     },
     "execution_count": 50,
     "metadata": {},
     "output_type": "execute_result"
    }
   ],
   "source": [
    "movie_best = movie_unique.sort_values(by=\"point\", ascending=False)\n",
    "movie_best.head()"
   ]
  },
  {
   "cell_type": "code",
   "execution_count": 58,
   "id": "75440876",
   "metadata": {},
   "outputs": [
    {
     "data": {
      "text/html": [
       "<div>\n",
       "<style scoped>\n",
       "    .dataframe tbody tr th:only-of-type {\n",
       "        vertical-align: middle;\n",
       "    }\n",
       "\n",
       "    .dataframe tbody tr th {\n",
       "        vertical-align: top;\n",
       "    }\n",
       "\n",
       "    .dataframe thead th {\n",
       "        text-align: right;\n",
       "    }\n",
       "</style>\n",
       "<table border=\"1\" class=\"dataframe\">\n",
       "  <thead>\n",
       "    <tr style=\"text-align: right;\">\n",
       "      <th></th>\n",
       "      <th>date</th>\n",
       "      <th>name</th>\n",
       "      <th>point</th>\n",
       "    </tr>\n",
       "  </thead>\n",
       "  <tbody>\n",
       "    <tr>\n",
       "      <th>22</th>\n",
       "      <td>2021-01-01</td>\n",
       "      <td>화양연화</td>\n",
       "      <td>8.80</td>\n",
       "    </tr>\n",
       "    <tr>\n",
       "      <th>70</th>\n",
       "      <td>2021-01-02</td>\n",
       "      <td>화양연화</td>\n",
       "      <td>8.79</td>\n",
       "    </tr>\n",
       "    <tr>\n",
       "      <th>117</th>\n",
       "      <td>2021-01-03</td>\n",
       "      <td>화양연화</td>\n",
       "      <td>8.75</td>\n",
       "    </tr>\n",
       "    <tr>\n",
       "      <th>162</th>\n",
       "      <td>2021-01-04</td>\n",
       "      <td>화양연화</td>\n",
       "      <td>8.76</td>\n",
       "    </tr>\n",
       "    <tr>\n",
       "      <th>205</th>\n",
       "      <td>2021-01-05</td>\n",
       "      <td>화양연화</td>\n",
       "      <td>8.76</td>\n",
       "    </tr>\n",
       "    <tr>\n",
       "      <th>...</th>\n",
       "      <td>...</td>\n",
       "      <td>...</td>\n",
       "      <td>...</td>\n",
       "    </tr>\n",
       "    <tr>\n",
       "      <th>4571</th>\n",
       "      <td>2021-04-06</td>\n",
       "      <td>화양연화</td>\n",
       "      <td>8.79</td>\n",
       "    </tr>\n",
       "    <tr>\n",
       "      <th>4621</th>\n",
       "      <td>2021-04-07</td>\n",
       "      <td>화양연화</td>\n",
       "      <td>8.79</td>\n",
       "    </tr>\n",
       "    <tr>\n",
       "      <th>4668</th>\n",
       "      <td>2021-04-08</td>\n",
       "      <td>화양연화</td>\n",
       "      <td>8.79</td>\n",
       "    </tr>\n",
       "    <tr>\n",
       "      <th>4719</th>\n",
       "      <td>2021-04-09</td>\n",
       "      <td>화양연화</td>\n",
       "      <td>8.79</td>\n",
       "    </tr>\n",
       "    <tr>\n",
       "      <th>4769</th>\n",
       "      <td>2021-04-10</td>\n",
       "      <td>화양연화</td>\n",
       "      <td>8.79</td>\n",
       "    </tr>\n",
       "  </tbody>\n",
       "</table>\n",
       "<p>100 rows × 3 columns</p>\n",
       "</div>"
      ],
      "text/plain": [
       "            date  name  point\n",
       "22    2021-01-01  화양연화   8.80\n",
       "70    2021-01-02  화양연화   8.79\n",
       "117   2021-01-03  화양연화   8.75\n",
       "162   2021-01-04  화양연화   8.76\n",
       "205   2021-01-05  화양연화   8.76\n",
       "...          ...   ...    ...\n",
       "4571  2021-04-06  화양연화   8.79\n",
       "4621  2021-04-07  화양연화   8.79\n",
       "4668  2021-04-08  화양연화   8.79\n",
       "4719  2021-04-09  화양연화   8.79\n",
       "4769  2021-04-10  화양연화   8.79\n",
       "\n",
       "[100 rows x 3 columns]"
      ]
     },
     "execution_count": 58,
     "metadata": {},
     "output_type": "execute_result"
    }
   ],
   "source": [
    "tmp = movie.query(\"name == ['화양연화']\")\n",
    "tmp"
   ]
  },
  {
   "cell_type": "code",
   "execution_count": 59,
   "id": "21aab54d",
   "metadata": {},
   "outputs": [],
   "source": [
    "# 시각화\n",
    " \n",
    "import matplotlib.pyplot as plt\n",
    "from matplotlib import rc\n",
    "\n",
    "rc(\"font\", family=\"Malgun Gothic\")\n",
    "get_ipython().run_line_magic(\"matplotlib\", \"inline\")"
   ]
  },
  {
   "cell_type": "code",
   "execution_count": 65,
   "id": "436c1966",
   "metadata": {},
   "outputs": [
    {
     "data": {
      "image/png": "[encoded data removed]",
      "text/plain": [
       "<Figure size 1440x576 with 1 Axes>"
      ]
     },
     "metadata": {
      "needs_background": "light"
     },
     "output_type": "display_data"
    }
   ],
   "source": [
    "plt.figure(figsize=(20, 8))\n",
    "plt.plot(tmp[\"date\"], tmp[\"point\"]) # 선 그래프 -> x축 날짜, y축 평점 -> 날짜에 따른 평점 변화를 선그래프로 표현(시계열)\n",
    "plt.title(\"날짜별 평점\")\n",
    "plt.xlabel(\"날짜\")\n",
    "plt.ylabel(\"평점\")\n",
    "plt.xticks(rotation=\"vertical\")\n",
    "plt.legend(labels=[\"평점 추이\"], loc=\"best\")\n",
    "plt.grid(True)\n",
    "plt.show()"
   ]
  },
  {
   "cell_type": "code",
   "execution_count": 66,
   "id": "904fa41f",
   "metadata": {},
   "outputs": [
    {
     "data": {
      "text/html": [
       "<div>\n",
       "<style scoped>\n",
       "    .dataframe tbody tr th:only-of-type {\n",
       "        vertical-align: middle;\n",
       "    }\n",
       "\n",
       "    .dataframe tbody tr th {\n",
       "        vertical-align: top;\n",
       "    }\n",
       "\n",
       "    .dataframe thead th {\n",
       "        text-align: right;\n",
       "    }\n",
       "</style>\n",
       "<table border=\"1\" class=\"dataframe\">\n",
       "  <thead>\n",
       "    <tr style=\"text-align: right;\">\n",
       "      <th></th>\n",
       "      <th>point</th>\n",
       "    </tr>\n",
       "    <tr>\n",
       "      <th>name</th>\n",
       "      <th></th>\n",
       "    </tr>\n",
       "  </thead>\n",
       "  <tbody>\n",
       "    <tr>\n",
       "      <th>너의 췌장을 먹고 싶어</th>\n",
       "      <td>959.59</td>\n",
       "    </tr>\n",
       "    <tr>\n",
       "      <th>극장판 바이올렛 에버가든</th>\n",
       "      <td>949.98</td>\n",
       "    </tr>\n",
       "    <tr>\n",
       "      <th>부활: 그 증거</th>\n",
       "      <td>936.44</td>\n",
       "    </tr>\n",
       "    <tr>\n",
       "      <th>러브 액츄얼리</th>\n",
       "      <td>893.02</td>\n",
       "    </tr>\n",
       "    <tr>\n",
       "      <th>화양연화</th>\n",
       "      <td>877.12</td>\n",
       "    </tr>\n",
       "    <tr>\n",
       "      <th>타오르는 여인의 초상</th>\n",
       "      <td>833.51</td>\n",
       "    </tr>\n",
       "    <tr>\n",
       "      <th>너의 이름은.</th>\n",
       "      <td>817.40</td>\n",
       "    </tr>\n",
       "    <tr>\n",
       "      <th>아비정전</th>\n",
       "      <td>814.83</td>\n",
       "    </tr>\n",
       "    <tr>\n",
       "      <th>찬실이는 복도 많지</th>\n",
       "      <td>785.58</td>\n",
       "    </tr>\n",
       "    <tr>\n",
       "      <th>러브레터</th>\n",
       "      <td>784.32</td>\n",
       "    </tr>\n",
       "  </tbody>\n",
       "</table>\n",
       "</div>"
      ],
      "text/plain": [
       "                point\n",
       "name                 \n",
       "너의 췌장을 먹고 싶어   959.59\n",
       "극장판 바이올렛 에버가든  949.98\n",
       "부활: 그 증거       936.44\n",
       "러브 액츄얼리        893.02\n",
       "화양연화           877.12\n",
       "타오르는 여인의 초상    833.51\n",
       "너의 이름은.        817.40\n",
       "아비정전           814.83\n",
       "찬실이는 복도 많지     785.58\n",
       "러브레터           784.32"
      ]
     },
     "execution_count": 66,
     "metadata": {},
     "output_type": "execute_result"
    }
   ],
   "source": [
    "# 평점 상위 10\n",
    "movie_best.head(10)"
   ]
  },
  {
   "cell_type": "code",
   "execution_count": 67,
   "id": "3ca4728e",
   "metadata": {},
   "outputs": [
    {
     "data": {
      "text/html": [
       "<div>\n",
       "<style scoped>\n",
       "    .dataframe tbody tr th:only-of-type {\n",
       "        vertical-align: middle;\n",
       "    }\n",
       "\n",
       "    .dataframe tbody tr th {\n",
       "        vertical-align: top;\n",
       "    }\n",
       "\n",
       "    .dataframe thead th {\n",
       "        text-align: right;\n",
       "    }\n",
       "</style>\n",
       "<table border=\"1\" class=\"dataframe\">\n",
       "  <thead>\n",
       "    <tr style=\"text-align: right;\">\n",
       "      <th></th>\n",
       "      <th>point</th>\n",
       "    </tr>\n",
       "    <tr>\n",
       "      <th>name</th>\n",
       "      <th></th>\n",
       "    </tr>\n",
       "  </thead>\n",
       "  <tbody>\n",
       "    <tr>\n",
       "      <th>최악의 하루</th>\n",
       "      <td>23.40</td>\n",
       "    </tr>\n",
       "    <tr>\n",
       "      <th>열혈남아</th>\n",
       "      <td>23.16</td>\n",
       "    </tr>\n",
       "    <tr>\n",
       "      <th>영웅본색</th>\n",
       "      <td>18.36</td>\n",
       "    </tr>\n",
       "    <tr>\n",
       "      <th>너는 여기에 없었다</th>\n",
       "      <td>15.64</td>\n",
       "    </tr>\n",
       "    <tr>\n",
       "      <th>협상</th>\n",
       "      <td>14.64</td>\n",
       "    </tr>\n",
       "    <tr>\n",
       "      <th>고질라</th>\n",
       "      <td>13.34</td>\n",
       "    </tr>\n",
       "    <tr>\n",
       "      <th>초미의 관심사</th>\n",
       "      <td>7.37</td>\n",
       "    </tr>\n",
       "    <tr>\n",
       "      <th>레이니 데이 인 뉴욕</th>\n",
       "      <td>5.54</td>\n",
       "    </tr>\n",
       "    <tr>\n",
       "      <th>신 고질라</th>\n",
       "      <td>4.97</td>\n",
       "    </tr>\n",
       "    <tr>\n",
       "      <th>120BPM</th>\n",
       "      <td>2.76</td>\n",
       "    </tr>\n",
       "  </tbody>\n",
       "</table>\n",
       "</div>"
      ],
      "text/plain": [
       "             point\n",
       "name              \n",
       "최악의 하루       23.40\n",
       "열혈남아         23.16\n",
       "영웅본색         18.36\n",
       "너는 여기에 없었다   15.64\n",
       "협상           14.64\n",
       "고질라          13.34\n",
       "초미의 관심사       7.37\n",
       "레이니 데이 인 뉴욕   5.54\n",
       "신 고질라         4.97\n",
       "120BPM        2.76"
      ]
     },
     "execution_count": 67,
     "metadata": {},
     "output_type": "execute_result"
    }
   ],
   "source": [
    "# 평점 하위 10\n",
    "movie_best.tail(10)"
   ]
  },
  {
   "cell_type": "code",
   "execution_count": 68,
   "id": "2889bf46",
   "metadata": {},
   "outputs": [
    {
     "data": {
      "text/html": [
       "<div>\n",
       "<style scoped>\n",
       "    .dataframe tbody tr th:only-of-type {\n",
       "        vertical-align: middle;\n",
       "    }\n",
       "\n",
       "    .dataframe tbody tr th {\n",
       "        vertical-align: top;\n",
       "    }\n",
       "\n",
       "    .dataframe thead th {\n",
       "        text-align: right;\n",
       "    }\n",
       "</style>\n",
       "<table border=\"1\" class=\"dataframe\">\n",
       "  <thead>\n",
       "    <tr style=\"text-align: right;\">\n",
       "      <th>name</th>\n",
       "      <th>120BPM</th>\n",
       "      <th>1917</th>\n",
       "      <th>800</th>\n",
       "      <th>가나의 혼인잔치: 언약</th>\n",
       "      <th>건축학개론</th>\n",
       "      <th>고질라</th>\n",
       "      <th>고질라 VS. 콩</th>\n",
       "      <th>국가부도의 날</th>\n",
       "      <th>굿바이</th>\n",
       "      <th>귀여운 여인</th>\n",
       "      <th>...</th>\n",
       "      <th>피아노</th>\n",
       "      <th>피아니스트의 전설</th>\n",
       "      <th>하나와 앨리스</th>\n",
       "      <th>해리 포터와 불의 잔</th>\n",
       "      <th>해리가 샐리를 만났을 때</th>\n",
       "      <th>해피 투게더</th>\n",
       "      <th>허트 로커</th>\n",
       "      <th>현기증</th>\n",
       "      <th>협상</th>\n",
       "      <th>화양연화</th>\n",
       "    </tr>\n",
       "    <tr>\n",
       "      <th>date</th>\n",
       "      <th></th>\n",
       "      <th></th>\n",
       "      <th></th>\n",
       "      <th></th>\n",
       "      <th></th>\n",
       "      <th></th>\n",
       "      <th></th>\n",
       "      <th></th>\n",
       "      <th></th>\n",
       "      <th></th>\n",
       "      <th></th>\n",
       "      <th></th>\n",
       "      <th></th>\n",
       "      <th></th>\n",
       "      <th></th>\n",
       "      <th></th>\n",
       "      <th></th>\n",
       "      <th></th>\n",
       "      <th></th>\n",
       "      <th></th>\n",
       "      <th></th>\n",
       "    </tr>\n",
       "  </thead>\n",
       "  <tbody>\n",
       "    <tr>\n",
       "      <th>2021-01-01</th>\n",
       "      <td>NaN</td>\n",
       "      <td>NaN</td>\n",
       "      <td>3.60</td>\n",
       "      <td>9.59</td>\n",
       "      <td>NaN</td>\n",
       "      <td>NaN</td>\n",
       "      <td>NaN</td>\n",
       "      <td>NaN</td>\n",
       "      <td>9.04</td>\n",
       "      <td>8.7</td>\n",
       "      <td>...</td>\n",
       "      <td>8.66</td>\n",
       "      <td>NaN</td>\n",
       "      <td>8.11</td>\n",
       "      <td>NaN</td>\n",
       "      <td>8.89</td>\n",
       "      <td>NaN</td>\n",
       "      <td>NaN</td>\n",
       "      <td>NaN</td>\n",
       "      <td>NaN</td>\n",
       "      <td>8.80</td>\n",
       "    </tr>\n",
       "    <tr>\n",
       "      <th>2021-01-02</th>\n",
       "      <td>NaN</td>\n",
       "      <td>NaN</td>\n",
       "      <td>3.60</td>\n",
       "      <td>9.56</td>\n",
       "      <td>NaN</td>\n",
       "      <td>NaN</td>\n",
       "      <td>NaN</td>\n",
       "      <td>NaN</td>\n",
       "      <td>9.04</td>\n",
       "      <td>8.7</td>\n",
       "      <td>...</td>\n",
       "      <td>8.66</td>\n",
       "      <td>NaN</td>\n",
       "      <td>8.11</td>\n",
       "      <td>NaN</td>\n",
       "      <td>8.89</td>\n",
       "      <td>NaN</td>\n",
       "      <td>NaN</td>\n",
       "      <td>NaN</td>\n",
       "      <td>NaN</td>\n",
       "      <td>8.79</td>\n",
       "    </tr>\n",
       "    <tr>\n",
       "      <th>2021-01-03</th>\n",
       "      <td>NaN</td>\n",
       "      <td>NaN</td>\n",
       "      <td>3.60</td>\n",
       "      <td>9.54</td>\n",
       "      <td>NaN</td>\n",
       "      <td>NaN</td>\n",
       "      <td>NaN</td>\n",
       "      <td>NaN</td>\n",
       "      <td>9.04</td>\n",
       "      <td>8.7</td>\n",
       "      <td>...</td>\n",
       "      <td>8.66</td>\n",
       "      <td>NaN</td>\n",
       "      <td>8.11</td>\n",
       "      <td>NaN</td>\n",
       "      <td>8.88</td>\n",
       "      <td>NaN</td>\n",
       "      <td>NaN</td>\n",
       "      <td>NaN</td>\n",
       "      <td>NaN</td>\n",
       "      <td>8.75</td>\n",
       "    </tr>\n",
       "    <tr>\n",
       "      <th>2021-01-04</th>\n",
       "      <td>NaN</td>\n",
       "      <td>NaN</td>\n",
       "      <td>3.61</td>\n",
       "      <td>9.51</td>\n",
       "      <td>NaN</td>\n",
       "      <td>NaN</td>\n",
       "      <td>NaN</td>\n",
       "      <td>NaN</td>\n",
       "      <td>9.04</td>\n",
       "      <td>8.7</td>\n",
       "      <td>...</td>\n",
       "      <td>NaN</td>\n",
       "      <td>NaN</td>\n",
       "      <td>8.11</td>\n",
       "      <td>NaN</td>\n",
       "      <td>8.88</td>\n",
       "      <td>NaN</td>\n",
       "      <td>NaN</td>\n",
       "      <td>NaN</td>\n",
       "      <td>NaN</td>\n",
       "      <td>8.76</td>\n",
       "    </tr>\n",
       "    <tr>\n",
       "      <th>2021-01-05</th>\n",
       "      <td>NaN</td>\n",
       "      <td>NaN</td>\n",
       "      <td>3.62</td>\n",
       "      <td>9.52</td>\n",
       "      <td>NaN</td>\n",
       "      <td>NaN</td>\n",
       "      <td>NaN</td>\n",
       "      <td>NaN</td>\n",
       "      <td>9.04</td>\n",
       "      <td>NaN</td>\n",
       "      <td>...</td>\n",
       "      <td>NaN</td>\n",
       "      <td>NaN</td>\n",
       "      <td>NaN</td>\n",
       "      <td>NaN</td>\n",
       "      <td>8.88</td>\n",
       "      <td>NaN</td>\n",
       "      <td>NaN</td>\n",
       "      <td>NaN</td>\n",
       "      <td>NaN</td>\n",
       "      <td>8.76</td>\n",
       "    </tr>\n",
       "    <tr>\n",
       "      <th>...</th>\n",
       "      <td>...</td>\n",
       "      <td>...</td>\n",
       "      <td>...</td>\n",
       "      <td>...</td>\n",
       "      <td>...</td>\n",
       "      <td>...</td>\n",
       "      <td>...</td>\n",
       "      <td>...</td>\n",
       "      <td>...</td>\n",
       "      <td>...</td>\n",
       "      <td>...</td>\n",
       "      <td>...</td>\n",
       "      <td>...</td>\n",
       "      <td>...</td>\n",
       "      <td>...</td>\n",
       "      <td>...</td>\n",
       "      <td>...</td>\n",
       "      <td>...</td>\n",
       "      <td>...</td>\n",
       "      <td>...</td>\n",
       "      <td>...</td>\n",
       "    </tr>\n",
       "    <tr>\n",
       "      <th>2021-04-06</th>\n",
       "      <td>NaN</td>\n",
       "      <td>NaN</td>\n",
       "      <td>NaN</td>\n",
       "      <td>9.42</td>\n",
       "      <td>8.67</td>\n",
       "      <td>NaN</td>\n",
       "      <td>8.37</td>\n",
       "      <td>NaN</td>\n",
       "      <td>NaN</td>\n",
       "      <td>NaN</td>\n",
       "      <td>...</td>\n",
       "      <td>NaN</td>\n",
       "      <td>NaN</td>\n",
       "      <td>8.11</td>\n",
       "      <td>NaN</td>\n",
       "      <td>NaN</td>\n",
       "      <td>9.2</td>\n",
       "      <td>NaN</td>\n",
       "      <td>NaN</td>\n",
       "      <td>NaN</td>\n",
       "      <td>8.79</td>\n",
       "    </tr>\n",
       "    <tr>\n",
       "      <th>2021-04-07</th>\n",
       "      <td>NaN</td>\n",
       "      <td>NaN</td>\n",
       "      <td>NaN</td>\n",
       "      <td>9.42</td>\n",
       "      <td>8.67</td>\n",
       "      <td>NaN</td>\n",
       "      <td>8.36</td>\n",
       "      <td>NaN</td>\n",
       "      <td>NaN</td>\n",
       "      <td>NaN</td>\n",
       "      <td>...</td>\n",
       "      <td>NaN</td>\n",
       "      <td>NaN</td>\n",
       "      <td>8.11</td>\n",
       "      <td>NaN</td>\n",
       "      <td>NaN</td>\n",
       "      <td>9.2</td>\n",
       "      <td>NaN</td>\n",
       "      <td>NaN</td>\n",
       "      <td>NaN</td>\n",
       "      <td>8.79</td>\n",
       "    </tr>\n",
       "    <tr>\n",
       "      <th>2021-04-08</th>\n",
       "      <td>NaN</td>\n",
       "      <td>NaN</td>\n",
       "      <td>NaN</td>\n",
       "      <td>9.42</td>\n",
       "      <td>8.67</td>\n",
       "      <td>NaN</td>\n",
       "      <td>8.33</td>\n",
       "      <td>NaN</td>\n",
       "      <td>NaN</td>\n",
       "      <td>NaN</td>\n",
       "      <td>...</td>\n",
       "      <td>NaN</td>\n",
       "      <td>NaN</td>\n",
       "      <td>8.11</td>\n",
       "      <td>NaN</td>\n",
       "      <td>NaN</td>\n",
       "      <td>9.2</td>\n",
       "      <td>NaN</td>\n",
       "      <td>NaN</td>\n",
       "      <td>NaN</td>\n",
       "      <td>8.79</td>\n",
       "    </tr>\n",
       "    <tr>\n",
       "      <th>2021-04-09</th>\n",
       "      <td>NaN</td>\n",
       "      <td>NaN</td>\n",
       "      <td>NaN</td>\n",
       "      <td>9.42</td>\n",
       "      <td>8.67</td>\n",
       "      <td>NaN</td>\n",
       "      <td>8.32</td>\n",
       "      <td>NaN</td>\n",
       "      <td>NaN</td>\n",
       "      <td>NaN</td>\n",
       "      <td>...</td>\n",
       "      <td>NaN</td>\n",
       "      <td>NaN</td>\n",
       "      <td>8.11</td>\n",
       "      <td>NaN</td>\n",
       "      <td>NaN</td>\n",
       "      <td>9.2</td>\n",
       "      <td>NaN</td>\n",
       "      <td>NaN</td>\n",
       "      <td>NaN</td>\n",
       "      <td>8.79</td>\n",
       "    </tr>\n",
       "    <tr>\n",
       "      <th>2021-04-10</th>\n",
       "      <td>NaN</td>\n",
       "      <td>NaN</td>\n",
       "      <td>NaN</td>\n",
       "      <td>9.42</td>\n",
       "      <td>8.67</td>\n",
       "      <td>NaN</td>\n",
       "      <td>8.31</td>\n",
       "      <td>NaN</td>\n",
       "      <td>NaN</td>\n",
       "      <td>NaN</td>\n",
       "      <td>...</td>\n",
       "      <td>NaN</td>\n",
       "      <td>NaN</td>\n",
       "      <td>8.11</td>\n",
       "      <td>NaN</td>\n",
       "      <td>NaN</td>\n",
       "      <td>9.2</td>\n",
       "      <td>NaN</td>\n",
       "      <td>NaN</td>\n",
       "      <td>NaN</td>\n",
       "      <td>8.79</td>\n",
       "    </tr>\n",
       "  </tbody>\n",
       "</table>\n",
       "<p>100 rows × 190 columns</p>\n",
       "</div>"
      ],
      "text/plain": [
       "name        120BPM  1917   800  가나의 혼인잔치: 언약  건축학개론  고질라  고질라 VS. 콩  국가부도의 날  \\\n",
       "date                                                                           \n",
       "2021-01-01     NaN   NaN  3.60          9.59    NaN  NaN        NaN      NaN   \n",
       "2021-01-02     NaN   NaN  3.60          9.56    NaN  NaN        NaN      NaN   \n",
       "2021-01-03     NaN   NaN  3.60          9.54    NaN  NaN        NaN      NaN   \n",
       "2021-01-04     NaN   NaN  3.61          9.51    NaN  NaN        NaN      NaN   \n",
       "2021-01-05     NaN   NaN  3.62          9.52    NaN  NaN        NaN      NaN   \n",
       "...            ...   ...   ...           ...    ...  ...        ...      ...   \n",
       "2021-04-06     NaN   NaN   NaN          9.42   8.67  NaN       8.37      NaN   \n",
       "2021-04-07     NaN   NaN   NaN          9.42   8.67  NaN       8.36      NaN   \n",
       "2021-04-08     NaN   NaN   NaN          9.42   8.67  NaN       8.33      NaN   \n",
       "2021-04-09     NaN   NaN   NaN          9.42   8.67  NaN       8.32      NaN   \n",
       "2021-04-10     NaN   NaN   NaN          9.42   8.67  NaN       8.31      NaN   \n",
       "\n",
       "name         굿바이  귀여운 여인  ...   피아노  피아니스트의 전설  하나와 앨리스  해리 포터와 불의 잔  \\\n",
       "date                      ...                                          \n",
       "2021-01-01  9.04     8.7  ...  8.66        NaN     8.11          NaN   \n",
       "2021-01-02  9.04     8.7  ...  8.66        NaN     8.11          NaN   \n",
       "2021-01-03  9.04     8.7  ...  8.66        NaN     8.11          NaN   \n",
       "2021-01-04  9.04     8.7  ...   NaN        NaN     8.11          NaN   \n",
       "2021-01-05  9.04     NaN  ...   NaN        NaN      NaN          NaN   \n",
       "...          ...     ...  ...   ...        ...      ...          ...   \n",
       "2021-04-06   NaN     NaN  ...   NaN        NaN     8.11          NaN   \n",
       "2021-04-07   NaN     NaN  ...   NaN        NaN     8.11          NaN   \n",
       "2021-04-08   NaN     NaN  ...   NaN        NaN     8.11          NaN   \n",
       "2021-04-09   NaN     NaN  ...   NaN        NaN     8.11          NaN   \n",
       "2021-04-10   NaN     NaN  ...   NaN        NaN     8.11          NaN   \n",
       "\n",
       "name        해리가 샐리를 만났을 때  해피 투게더  허트 로커  현기증  협상  화양연화  \n",
       "date                                                     \n",
       "2021-01-01           8.89     NaN    NaN  NaN NaN  8.80  \n",
       "2021-01-02           8.89     NaN    NaN  NaN NaN  8.79  \n",
       "2021-01-03           8.88     NaN    NaN  NaN NaN  8.75  \n",
       "2021-01-04           8.88     NaN    NaN  NaN NaN  8.76  \n",
       "2021-01-05           8.88     NaN    NaN  NaN NaN  8.76  \n",
       "...                   ...     ...    ...  ...  ..   ...  \n",
       "2021-04-06            NaN     9.2    NaN  NaN NaN  8.79  \n",
       "2021-04-07            NaN     9.2    NaN  NaN NaN  8.79  \n",
       "2021-04-08            NaN     9.2    NaN  NaN NaN  8.79  \n",
       "2021-04-09            NaN     9.2    NaN  NaN NaN  8.79  \n",
       "2021-04-10            NaN     9.2    NaN  NaN NaN  8.79  \n",
       "\n",
       "[100 rows x 190 columns]"
      ]
     },
     "execution_count": 68,
     "metadata": {},
     "output_type": "execute_result"
    }
   ],
   "source": [
    "movie_pivot = movie.pivot_table(index=\"date\", columns=\"name\", values=\"point\")\n",
    "movie_pivot"
   ]
  },
  {
   "cell_type": "code",
   "execution_count": 70,
   "id": "8ca04a01",
   "metadata": {},
   "outputs": [],
   "source": [
    "movie_pivot.to_excel(\"../data/03. movie_pivot.xlsx\")"
   ]
  },
  {
   "cell_type": "code",
   "execution_count": 71,
   "id": "ac1a3830",
   "metadata": {},
   "outputs": [],
   "source": [
    "import platform\n",
    "import seaborn as sns\n",
    "from matplotlib import font_manager, rc\n",
    "\n",
    "f_path = \"C:/Windows/Fonts/malgun.ttf\"\n",
    "\n",
    "if platform.system() == \"Darwin\":\n",
    "    rc(\"font\", family=\"Arial Unicode MS\")\n",
    "elif platform.system() == \"Windows\":\n",
    "    font_name = font_manager.FontProperties(fname=f_path).get_name()\n",
    "    rc('font', family=font_name)\n",
    "    rc('axes', unicode_minus=False)\n",
    "else:\n",
    "    print(\"Unknown system. sorry\")\n",
    "\n",
    "get_ipython().run_line_magic(\"matplotlib\", \"inline\")"
   ]
  },
  {
   "cell_type": "code",
   "execution_count": 74,
   "id": "012de2da",
   "metadata": {},
   "outputs": [
    {
     "data": {
      "image/png": "[encoded data removed]",
      "text/plain": [
       "<Figure size 1440x576 with 1 Axes>"
      ]
     },
     "metadata": {
      "needs_background": "light"
     },
     "output_type": "display_data"
    }
   ],
   "source": [
    "target_col = [\"화양연화\", \"국가부도의 날\", \"하나와 앨리스\", \"가나의 혼인잔치: 언약\", \"피아노\"]\n",
    "plt.figure(figsize=(20, 8))\n",
    "plt.title(\"날짜별 평점\")\n",
    "plt.xlabel(\"날짜\")\n",
    "plt.ylabel(\"평점\")\n",
    "plt.xticks(rotation=\"vertical\")\n",
    "plt.tick_params(bottom=\"off\", labelbottom=\"off\")\n",
    "plt.plot(movie_pivot[target_col])\n",
    "plt.legend(target_col, loc=\"best\")\n",
    "plt.grid(True)\n",
    "plt.show()"
   ]
  },
  {
   "cell_type": "code",
   "execution_count": 75,
   "id": "d8865bad",
   "metadata": {},
   "outputs": [
    {
     "data": {
      "image/png": "[encoded data removed]",
      "text/plain": [
       "<Figure size 1440x576 with 1 Axes>"
      ]
     },
     "metadata": {
      "needs_background": "light"
     },
     "output_type": "display_data"
    }
   ],
   "source": [
    "target_col = [\"화양연화\", \"국가부도의 날\", \"하나와 앨리스\", \"가나의 혼인잔치: 언약\", \"피아노\"]\n",
    "plt.figure(figsize=(20, 8))\n",
    "plt.title(\"날짜별 평점\")\n",
    "plt.xlabel(\"날짜\")\n",
    "plt.ylabel(\"평점\")\n",
    "plt.xticks(rotation=\"vertical\")\n",
    "plt.plot(movie_pivot[target_col])\n",
    "plt.legend(target_col, loc=\"best\")\n",
    "plt.grid(True)\n",
    "plt.show()"
   ]
  },
  {
   "cell_type": "code",
   "execution_count": null,
   "id": "1a18f234",
   "metadata": {},
   "outputs": [],
   "source": []
  }
 ],
 "metadata": {
  "kernelspec": {
   "display_name": "Python 3 (ipykernel)",
   "language": "python",
   "name": "python3"
  },
  "language_info": {
   "codemirror_mode": {
    "name": "ipython",
    "version": 3
   },
   "file_extension": ".py",
   "mimetype": "text/x-python",
   "name": "python",
   "nbconvert_exporter": "python",
   "pygments_lexer": "ipython3",
   "version": "3.9.7"
  }
 },
 "nbformat": 4,
 "nbformat_minor": 5
}

{
 "cells": [
  {
   "cell_type": "markdown",
   "id": "8d5863a0",
   "metadata": {},
   "source": [
    "# 05. forecast(시계열 분석)"
   ]
  },
  {
   "cell_type": "markdown",
   "id": "25bbf236",
   "metadata": {},
   "source": [
    "## 1. 배경 및 설치"
   ]
  },
  {
   "cell_type": "markdown",
   "id": "a8e23839",
   "metadata": {},
   "source": [
    "- install\n",
    "    - 윈도우 유저는 Visual C++ Build Tool 을 먼저 설치\n",
    "        - https://visualstudio.microsoft.com/visual-cpp-build-tools/\n",
    "        - 위 경로 URL이 error 날 경우 : https://www.microsoft.com/ko-KR/download/details.aspx?id=48159\n",
    "    - conda install pandas-datareader\n",
    "    - conda install -c conda-forge fbprophet\n",
    "    - pip install fbprophet\n",
    "    "
   ]
  },
  {
   "cell_type": "code",
   "execution_count": 2,
   "id": "292bb686",
   "metadata": {},
   "outputs": [],
   "source": [
    "from fbprophet import Prophet"
   ]
  },
  {
   "cell_type": "code",
   "execution_count": null,
   "id": "f67f403e",
   "metadata": {},
   "outputs": [],
   "source": []
  }
 ],
 "metadata": {
  "kernelspec": {
   "display_name": "Python 3 (ipykernel)",
   "language": "python",
   "name": "python3"
  },
  "language_info": {
   "codemirror_mode": {
    "name": "ipython",
    "version": 3
   },
   "file_extension": ".py",
   "mimetype": "text/x-python",
   "name": "python",
   "nbconvert_exporter": "python",
   "pygments_lexer": "ipython3",
   "version": "3.8.11"
  }
 },
 "nbformat": 4,
 "nbformat_minor": 5
}

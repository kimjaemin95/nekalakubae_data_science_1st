{
 "cells": [
  {
   "cell_type": "markdown",
   "id": "6ccbdb36",
   "metadata": {},
   "source": [
    "# 01. Analysis Seoul CCTV"
   ]
  },
  {
   "cell_type": "markdown",
   "id": "30d89232",
   "metadata": {},
   "source": [
    "## 1. 데이터 읽기"
   ]
  },
  {
   "cell_type": "code",
   "execution_count": 1,
   "id": "d2be5f38",
   "metadata": {},
   "outputs": [],
   "source": [
    "import pandas as pd\n",
    "import numpy as np"
   ]
  },
  {
   "cell_type": "markdown",
   "id": "b1651f55",
   "metadata": {},
   "source": [
    "- CCTV 데이터"
   ]
  },
  {
   "cell_type": "code",
   "execution_count": 2,
   "id": "e9c8aa3e",
   "metadata": {},
   "outputs": [
    {
     "data": {
      "text/html": [
       "<div>\n",
       "<style scoped>\n",
       "    .dataframe tbody tr th:only-of-type {\n",
       "        vertical-align: middle;\n",
       "    }\n",
       "\n",
       "    .dataframe tbody tr th {\n",
       "        vertical-align: top;\n",
       "    }\n",
       "\n",
       "    .dataframe thead th {\n",
       "        text-align: right;\n",
       "    }\n",
       "</style>\n",
       "<table border=\"1\" class=\"dataframe\">\n",
       "  <thead>\n",
       "    <tr style=\"text-align: right;\">\n",
       "      <th></th>\n",
       "      <th>기관명</th>\n",
       "      <th>소계</th>\n",
       "      <th>2013년도 이전</th>\n",
       "      <th>2014년</th>\n",
       "      <th>2015년</th>\n",
       "      <th>2016년</th>\n",
       "    </tr>\n",
       "  </thead>\n",
       "  <tbody>\n",
       "    <tr>\n",
       "      <th>0</th>\n",
       "      <td>강남구</td>\n",
       "      <td>3238</td>\n",
       "      <td>1292</td>\n",
       "      <td>430</td>\n",
       "      <td>584</td>\n",
       "      <td>932</td>\n",
       "    </tr>\n",
       "    <tr>\n",
       "      <th>1</th>\n",
       "      <td>강동구</td>\n",
       "      <td>1010</td>\n",
       "      <td>379</td>\n",
       "      <td>99</td>\n",
       "      <td>155</td>\n",
       "      <td>377</td>\n",
       "    </tr>\n",
       "    <tr>\n",
       "      <th>2</th>\n",
       "      <td>강북구</td>\n",
       "      <td>831</td>\n",
       "      <td>369</td>\n",
       "      <td>120</td>\n",
       "      <td>138</td>\n",
       "      <td>204</td>\n",
       "    </tr>\n",
       "  </tbody>\n",
       "</table>\n",
       "</div>"
      ],
      "text/plain": [
       "   기관명    소계  2013년도 이전  2014년  2015년  2016년\n",
       "0  강남구  3238       1292    430    584    932\n",
       "1  강동구  1010        379     99    155    377\n",
       "2  강북구   831        369    120    138    204"
      ]
     },
     "execution_count": 2,
     "metadata": {},
     "output_type": "execute_result"
    }
   ],
   "source": [
    "cctv_seoul = pd.read_csv(\"../data/01. Seoul_CCTV.csv\", encoding=\"utf-8\")\n",
    "cctv_seoul.head(3)"
   ]
  },
  {
   "cell_type": "code",
   "execution_count": 3,
   "id": "c8b923f9",
   "metadata": {},
   "outputs": [
    {
     "data": {
      "text/plain": [
       "['기관명', '소계', '2013년도 이전', '2014년', '2015년', '2016년']"
      ]
     },
     "execution_count": 3,
     "metadata": {},
     "output_type": "execute_result"
    }
   ],
   "source": [
    "list(cctv_seoul.columns)"
   ]
  },
  {
   "cell_type": "code",
   "execution_count": 4,
   "id": "aece3fef",
   "metadata": {},
   "outputs": [
    {
     "data": {
      "text/plain": [
       "'기관명'"
      ]
     },
     "execution_count": 4,
     "metadata": {},
     "output_type": "execute_result"
    }
   ],
   "source": [
    "cctv_seoul.columns[0]"
   ]
  },
  {
   "cell_type": "code",
   "execution_count": 5,
   "id": "5ff8155b",
   "metadata": {},
   "outputs": [
    {
     "data": {
      "text/html": [
       "<div>\n",
       "<style scoped>\n",
       "    .dataframe tbody tr th:only-of-type {\n",
       "        vertical-align: middle;\n",
       "    }\n",
       "\n",
       "    .dataframe tbody tr th {\n",
       "        vertical-align: top;\n",
       "    }\n",
       "\n",
       "    .dataframe thead th {\n",
       "        text-align: right;\n",
       "    }\n",
       "</style>\n",
       "<table border=\"1\" class=\"dataframe\">\n",
       "  <thead>\n",
       "    <tr style=\"text-align: right;\">\n",
       "      <th></th>\n",
       "      <th>구별</th>\n",
       "      <th>소계</th>\n",
       "      <th>2013년도 이전</th>\n",
       "      <th>2014년</th>\n",
       "      <th>2015년</th>\n",
       "      <th>2016년</th>\n",
       "    </tr>\n",
       "  </thead>\n",
       "  <tbody>\n",
       "    <tr>\n",
       "      <th>22</th>\n",
       "      <td>종로구</td>\n",
       "      <td>1619</td>\n",
       "      <td>464</td>\n",
       "      <td>314</td>\n",
       "      <td>211</td>\n",
       "      <td>630</td>\n",
       "    </tr>\n",
       "    <tr>\n",
       "      <th>23</th>\n",
       "      <td>중구</td>\n",
       "      <td>1023</td>\n",
       "      <td>413</td>\n",
       "      <td>190</td>\n",
       "      <td>72</td>\n",
       "      <td>348</td>\n",
       "    </tr>\n",
       "    <tr>\n",
       "      <th>24</th>\n",
       "      <td>중랑구</td>\n",
       "      <td>916</td>\n",
       "      <td>509</td>\n",
       "      <td>121</td>\n",
       "      <td>177</td>\n",
       "      <td>109</td>\n",
       "    </tr>\n",
       "  </tbody>\n",
       "</table>\n",
       "</div>"
      ],
      "text/plain": [
       "     구별    소계  2013년도 이전  2014년  2015년  2016년\n",
       "22  종로구  1619        464    314    211    630\n",
       "23   중구  1023        413    190     72    348\n",
       "24  중랑구   916        509    121    177    109"
      ]
     },
     "execution_count": 5,
     "metadata": {},
     "output_type": "execute_result"
    }
   ],
   "source": [
    "cctv_seoul.rename(\n",
    "    columns={cctv_seoul.columns[0]:\"구별\"}, \n",
    "    inplace=True\n",
    ")\n",
    "cctv_seoul.tail(3)"
   ]
  },
  {
   "cell_type": "markdown",
   "id": "d2e025cc",
   "metadata": {},
   "source": [
    "- 인구수 데이터"
   ]
  },
  {
   "cell_type": "code",
   "execution_count": 6,
   "id": "a4875534",
   "metadata": {},
   "outputs": [
    {
     "data": {
      "text/html": [
       "<div>\n",
       "<style scoped>\n",
       "    .dataframe tbody tr th:only-of-type {\n",
       "        vertical-align: middle;\n",
       "    }\n",
       "\n",
       "    .dataframe tbody tr th {\n",
       "        vertical-align: top;\n",
       "    }\n",
       "\n",
       "    .dataframe thead th {\n",
       "        text-align: right;\n",
       "    }\n",
       "</style>\n",
       "<table border=\"1\" class=\"dataframe\">\n",
       "  <thead>\n",
       "    <tr style=\"text-align: right;\">\n",
       "      <th></th>\n",
       "      <th>자치구</th>\n",
       "      <th>계</th>\n",
       "      <th>계.1</th>\n",
       "      <th>계.2</th>\n",
       "      <th>65세이상고령자</th>\n",
       "    </tr>\n",
       "  </thead>\n",
       "  <tbody>\n",
       "    <tr>\n",
       "      <th>0</th>\n",
       "      <td>합계</td>\n",
       "      <td>10124579</td>\n",
       "      <td>9857426</td>\n",
       "      <td>267153</td>\n",
       "      <td>1365126</td>\n",
       "    </tr>\n",
       "    <tr>\n",
       "      <th>1</th>\n",
       "      <td>종로구</td>\n",
       "      <td>164257</td>\n",
       "      <td>154770</td>\n",
       "      <td>9487</td>\n",
       "      <td>26182</td>\n",
       "    </tr>\n",
       "    <tr>\n",
       "      <th>2</th>\n",
       "      <td>중구</td>\n",
       "      <td>134593</td>\n",
       "      <td>125709</td>\n",
       "      <td>8884</td>\n",
       "      <td>21384</td>\n",
       "    </tr>\n",
       "    <tr>\n",
       "      <th>3</th>\n",
       "      <td>용산구</td>\n",
       "      <td>244444</td>\n",
       "      <td>229161</td>\n",
       "      <td>15283</td>\n",
       "      <td>36882</td>\n",
       "    </tr>\n",
       "    <tr>\n",
       "      <th>4</th>\n",
       "      <td>성동구</td>\n",
       "      <td>312711</td>\n",
       "      <td>304808</td>\n",
       "      <td>7903</td>\n",
       "      <td>41273</td>\n",
       "    </tr>\n",
       "  </tbody>\n",
       "</table>\n",
       "</div>"
      ],
      "text/plain": [
       "   자치구         계      계.1     계.2  65세이상고령자\n",
       "0   합계  10124579  9857426  267153   1365126\n",
       "1  종로구    164257   154770    9487     26182\n",
       "2   중구    134593   125709    8884     21384\n",
       "3  용산구    244444   229161   15283     36882\n",
       "4  성동구    312711   304808    7903     41273"
      ]
     },
     "execution_count": 6,
     "metadata": {},
     "output_type": "execute_result"
    }
   ],
   "source": [
    "pop_seoul = pd.read_excel(\n",
    "    \"../data/01. Seoul_Population.xls\", \n",
    "    header=2, \n",
    "    usecols=\"B, D, G, J, N\"\n",
    ")\n",
    "pop_seoul.head(5)"
   ]
  },
  {
   "cell_type": "code",
   "execution_count": 7,
   "id": "28b31b5a",
   "metadata": {},
   "outputs": [
    {
     "data": {
      "text/html": [
       "<div>\n",
       "<style scoped>\n",
       "    .dataframe tbody tr th:only-of-type {\n",
       "        vertical-align: middle;\n",
       "    }\n",
       "\n",
       "    .dataframe tbody tr th {\n",
       "        vertical-align: top;\n",
       "    }\n",
       "\n",
       "    .dataframe thead th {\n",
       "        text-align: right;\n",
       "    }\n",
       "</style>\n",
       "<table border=\"1\" class=\"dataframe\">\n",
       "  <thead>\n",
       "    <tr style=\"text-align: right;\">\n",
       "      <th></th>\n",
       "      <th>구별</th>\n",
       "      <th>인구수</th>\n",
       "      <th>한국인</th>\n",
       "      <th>외국인</th>\n",
       "      <th>고령자</th>\n",
       "    </tr>\n",
       "  </thead>\n",
       "  <tbody>\n",
       "    <tr>\n",
       "      <th>0</th>\n",
       "      <td>합계</td>\n",
       "      <td>10124579</td>\n",
       "      <td>9857426</td>\n",
       "      <td>267153</td>\n",
       "      <td>1365126</td>\n",
       "    </tr>\n",
       "    <tr>\n",
       "      <th>1</th>\n",
       "      <td>종로구</td>\n",
       "      <td>164257</td>\n",
       "      <td>154770</td>\n",
       "      <td>9487</td>\n",
       "      <td>26182</td>\n",
       "    </tr>\n",
       "    <tr>\n",
       "      <th>2</th>\n",
       "      <td>중구</td>\n",
       "      <td>134593</td>\n",
       "      <td>125709</td>\n",
       "      <td>8884</td>\n",
       "      <td>21384</td>\n",
       "    </tr>\n",
       "    <tr>\n",
       "      <th>3</th>\n",
       "      <td>용산구</td>\n",
       "      <td>244444</td>\n",
       "      <td>229161</td>\n",
       "      <td>15283</td>\n",
       "      <td>36882</td>\n",
       "    </tr>\n",
       "    <tr>\n",
       "      <th>4</th>\n",
       "      <td>성동구</td>\n",
       "      <td>312711</td>\n",
       "      <td>304808</td>\n",
       "      <td>7903</td>\n",
       "      <td>41273</td>\n",
       "    </tr>\n",
       "  </tbody>\n",
       "</table>\n",
       "</div>"
      ],
      "text/plain": [
       "    구별       인구수      한국인     외국인      고령자\n",
       "0   합계  10124579  9857426  267153  1365126\n",
       "1  종로구    164257   154770    9487    26182\n",
       "2   중구    134593   125709    8884    21384\n",
       "3  용산구    244444   229161   15283    36882\n",
       "4  성동구    312711   304808    7903    41273"
      ]
     },
     "execution_count": 7,
     "metadata": {},
     "output_type": "execute_result"
    }
   ],
   "source": [
    "pop_seoul.rename(\n",
    "    columns={\n",
    "        pop_seoul.columns[0] : \"구별\",\n",
    "        pop_seoul.columns[1] : \"인구수\",\n",
    "        pop_seoul.columns[2] : \"한국인\",\n",
    "        pop_seoul.columns[3] : \"외국인\",\n",
    "        pop_seoul.columns[4] : \"고령자\"\n",
    "    },\n",
    "    inplace=True\n",
    ")\n",
    "pop_seoul.head(5)"
   ]
  },
  {
   "cell_type": "markdown",
   "id": "e7c0214c",
   "metadata": {},
   "source": [
    "---"
   ]
  },
  {
   "cell_type": "markdown",
   "id": "6c2d360d",
   "metadata": {},
   "source": [
    "## Pandas 기초 \n",
    "- Python 에서 R만큼의 강력한 데이터 핸들링 성능을 제공하는 모듈\n",
    "- 단일 프로세스에서는 최대 효율\n",
    "- 코딩 가능하고 응용 가능한 엑셀로 받아들여도 됨\n",
    "- 누군가 스테로이드 맞은 엑셀로 표현"
   ]
  },
  {
   "cell_type": "markdown",
   "id": "838b4ceb",
   "metadata": {},
   "source": [
    "#### Series\n",
    "- index와 value로 이루어져 있습니다.\n",
    "- 한 가지 데이터 타입만 가질 수 있습니다."
   ]
  },
  {
   "cell_type": "code",
   "execution_count": 8,
   "id": "d5c5147a",
   "metadata": {},
   "outputs": [],
   "source": [
    "import pandas as pd\n",
    "import numpy as np"
   ]
  },
  {
   "cell_type": "markdown",
   "id": "05498df0",
   "metadata": {},
   "source": [
    "- pandas는 통상 pd\n",
    "- numpy는 통상 np"
   ]
  },
  {
   "cell_type": "code",
   "execution_count": 9,
   "id": "9d679038",
   "metadata": {},
   "outputs": [
    {
     "data": {
      "text/plain": [
       "A    1.0\n",
       "B    2.0\n",
       "C    3.0\n",
       "dtype: float64"
      ]
     },
     "execution_count": 9,
     "metadata": {},
     "output_type": "execute_result"
    }
   ],
   "source": [
    "data = {\"A\":1, \"B\":2, \"C\":3}\n",
    "pd.Series(data=data, index=list(data.keys()), dtype=\"float\")"
   ]
  },
  {
   "cell_type": "code",
   "execution_count": 10,
   "id": "8f204763",
   "metadata": {},
   "outputs": [
    {
     "data": {
      "text/plain": [
       "1    1\n",
       "2    2\n",
       "3    3\n",
       "4    4\n",
       "5    5\n",
       "6    6\n",
       "dtype: object"
      ]
     },
     "execution_count": 10,
     "metadata": {},
     "output_type": "execute_result"
    }
   ],
   "source": [
    "pd.Series(index=[1,2,3,4,5,6], data=[1,2,3,4,5,6], dtype=str)"
   ]
  },
  {
   "cell_type": "code",
   "execution_count": 11,
   "id": "e9edf74d",
   "metadata": {},
   "outputs": [
    {
     "data": {
      "text/plain": [
       "key1    value1\n",
       "key2    value2\n",
       "key3    value3\n",
       "dtype: object"
      ]
     },
     "execution_count": 11,
     "metadata": {},
     "output_type": "execute_result"
    }
   ],
   "source": [
    "pd.Series({\"key1\":\"value1\", \"key2\":\"value2\", \"key3\":\"value3\"})"
   ]
  },
  {
   "cell_type": "code",
   "execution_count": 12,
   "id": "1b64acb0",
   "metadata": {},
   "outputs": [
    {
     "name": "stderr",
     "output_type": "stream",
     "text": [
      "C:\\Users\\jmkim\\anaconda3\\envs\\ds_study\\lib\\site-packages\\numpy\\core\\numeric.py:2453: FutureWarning: elementwise comparison failed; returning scalar instead, but in the future will perform elementwise comparison\n",
      "  return bool(asarray(a1 == a2).all())\n",
      "C:\\Users\\jmkim\\AppData\\Local\\Temp/ipykernel_30460/1746814934.py:1: FutureWarning: Values are too large to be losslessly cast to int32. In a future version this will raise OverflowError. To retain the old behavior, use pd.Series(values).astype(int32)\n",
      "  data = pd.Series([1, 2, 3, 4, \"5\"], dtype=int)\n"
     ]
    },
    {
     "data": {
      "text/plain": [
       "0    1\n",
       "1    2\n",
       "2    3\n",
       "3    4\n",
       "4    5\n",
       "dtype: int32"
      ]
     },
     "execution_count": 12,
     "metadata": {},
     "output_type": "execute_result"
    }
   ],
   "source": [
    "data = pd.Series([1, 2, 3, 4, \"5\"], dtype=int)\n",
    "data"
   ]
  },
  {
   "cell_type": "code",
   "execution_count": 13,
   "id": "3af85e7d",
   "metadata": {},
   "outputs": [
    {
     "data": {
      "text/plain": [
       "0    1\n",
       "1    0\n",
       "2    1\n",
       "3    0\n",
       "4    1\n",
       "dtype: int32"
      ]
     },
     "execution_count": 13,
     "metadata": {},
     "output_type": "execute_result"
    }
   ],
   "source": [
    "data % 2"
   ]
  },
  {
   "cell_type": "code",
   "execution_count": 14,
   "id": "f890962d",
   "metadata": {},
   "outputs": [
    {
     "data": {
      "text/plain": [
       "DatetimeIndex(['2013-01-01 00:00:00', '2013-01-01 01:00:00',\n",
       "               '2013-01-01 02:00:00', '2013-01-01 03:00:00',\n",
       "               '2013-01-01 04:00:00', '2013-01-01 05:00:00',\n",
       "               '2013-01-01 06:00:00'],\n",
       "              dtype='datetime64[ns]', freq='H')"
      ]
     },
     "execution_count": 14,
     "metadata": {},
     "output_type": "execute_result"
    }
   ],
   "source": [
    "pd.date_range(\"2013-01-01 00:00:00\", periods=7, freq=\"H\")"
   ]
  },
  {
   "cell_type": "code",
   "execution_count": 15,
   "id": "ad3dd841",
   "metadata": {},
   "outputs": [
    {
     "data": {
      "text/plain": [
       "DatetimeIndex(['2021-09-16 00:00:00', '2021-09-16 02:00:00',\n",
       "               '2021-09-16 04:00:00', '2021-09-16 06:00:00',\n",
       "               '2021-09-16 08:00:00', '2021-09-16 10:00:00',\n",
       "               '2021-09-16 12:00:00', '2021-09-16 14:00:00',\n",
       "               '2021-09-16 16:00:00', '2021-09-16 18:00:00',\n",
       "               '2021-09-16 20:00:00', '2021-09-16 22:00:00',\n",
       "               '2021-09-17 00:00:00'],\n",
       "              dtype='datetime64[ns]', freq='2H')"
      ]
     },
     "execution_count": 15,
     "metadata": {},
     "output_type": "execute_result"
    }
   ],
   "source": [
    "pd.date_range(start=\"2021-09-16 00:00:00\", end=\"2021-09-17 00:00:00\", freq=\"2H\")"
   ]
  },
  {
   "cell_type": "markdown",
   "id": "4d9665be",
   "metadata": {},
   "source": [
    "#### DataFrame\n",
    "- pd.Series()\n",
    "    - index, value\n",
    "- pd.DataFrame()\n",
    "    - index. value, column"
   ]
  },
  {
   "cell_type": "code",
   "execution_count": 16,
   "id": "a6152bc2",
   "metadata": {},
   "outputs": [
    {
     "data": {
      "text/plain": [
       "array([[-1.38853498, -1.44093454, -0.69183781,  0.31361694],\n",
       "       [ 0.07885291, -0.95763596,  0.7472927 ,  1.00040222],\n",
       "       [-0.35188578, -0.94312396, -0.06922078,  0.39998499],\n",
       "       [ 0.96221969,  0.08573279,  0.08032719, -0.21973451],\n",
       "       [ 0.763137  , -0.65345877,  1.29410781,  0.78931354],\n",
       "       [ 0.52047076, -0.16524258, -1.44446634, -1.73717601]])"
      ]
     },
     "execution_count": 16,
     "metadata": {},
     "output_type": "execute_result"
    }
   ],
   "source": [
    "data = np.random.randn(6, 4)\n",
    "data"
   ]
  },
  {
   "cell_type": "code",
   "execution_count": 17,
   "id": "e79fd7d9",
   "metadata": {},
   "outputs": [
    {
     "data": {
      "text/plain": [
       "DatetimeIndex(['2021-09-16', '2021-09-17', '2021-09-18', '2021-09-19',\n",
       "               '2021-09-20', '2021-09-21'],\n",
       "              dtype='datetime64[ns]', freq='D')"
      ]
     },
     "execution_count": 17,
     "metadata": {},
     "output_type": "execute_result"
    }
   ],
   "source": [
    "index = pd.date_range('2021-09-16', periods=6)\n",
    "index"
   ]
  },
  {
   "cell_type": "code",
   "execution_count": 18,
   "id": "83189974",
   "metadata": {},
   "outputs": [
    {
     "data": {
      "text/html": [
       "<div>\n",
       "<style scoped>\n",
       "    .dataframe tbody tr th:only-of-type {\n",
       "        vertical-align: middle;\n",
       "    }\n",
       "\n",
       "    .dataframe tbody tr th {\n",
       "        vertical-align: top;\n",
       "    }\n",
       "\n",
       "    .dataframe thead th {\n",
       "        text-align: right;\n",
       "    }\n",
       "</style>\n",
       "<table border=\"1\" class=\"dataframe\">\n",
       "  <thead>\n",
       "    <tr style=\"text-align: right;\">\n",
       "      <th></th>\n",
       "      <th>A</th>\n",
       "      <th>B</th>\n",
       "      <th>C</th>\n",
       "      <th>D</th>\n",
       "    </tr>\n",
       "  </thead>\n",
       "  <tbody>\n",
       "    <tr>\n",
       "      <th>2021-09-16</th>\n",
       "      <td>-1.388535</td>\n",
       "      <td>-1.440935</td>\n",
       "      <td>-0.691838</td>\n",
       "      <td>0.313617</td>\n",
       "    </tr>\n",
       "    <tr>\n",
       "      <th>2021-09-17</th>\n",
       "      <td>0.078853</td>\n",
       "      <td>-0.957636</td>\n",
       "      <td>0.747293</td>\n",
       "      <td>1.000402</td>\n",
       "    </tr>\n",
       "    <tr>\n",
       "      <th>2021-09-18</th>\n",
       "      <td>-0.351886</td>\n",
       "      <td>-0.943124</td>\n",
       "      <td>-0.069221</td>\n",
       "      <td>0.399985</td>\n",
       "    </tr>\n",
       "    <tr>\n",
       "      <th>2021-09-19</th>\n",
       "      <td>0.962220</td>\n",
       "      <td>0.085733</td>\n",
       "      <td>0.080327</td>\n",
       "      <td>-0.219735</td>\n",
       "    </tr>\n",
       "    <tr>\n",
       "      <th>2021-09-20</th>\n",
       "      <td>0.763137</td>\n",
       "      <td>-0.653459</td>\n",
       "      <td>1.294108</td>\n",
       "      <td>0.789314</td>\n",
       "    </tr>\n",
       "    <tr>\n",
       "      <th>2021-09-21</th>\n",
       "      <td>0.520471</td>\n",
       "      <td>-0.165243</td>\n",
       "      <td>-1.444466</td>\n",
       "      <td>-1.737176</td>\n",
       "    </tr>\n",
       "  </tbody>\n",
       "</table>\n",
       "</div>"
      ],
      "text/plain": [
       "                   A         B         C         D\n",
       "2021-09-16 -1.388535 -1.440935 -0.691838  0.313617\n",
       "2021-09-17  0.078853 -0.957636  0.747293  1.000402\n",
       "2021-09-18 -0.351886 -0.943124 -0.069221  0.399985\n",
       "2021-09-19  0.962220  0.085733  0.080327 -0.219735\n",
       "2021-09-20  0.763137 -0.653459  1.294108  0.789314\n",
       "2021-09-21  0.520471 -0.165243 -1.444466 -1.737176"
      ]
     },
     "execution_count": 18,
     "metadata": {},
     "output_type": "execute_result"
    }
   ],
   "source": [
    "df = pd.DataFrame(data=data, index=index, columns=[\"A\", \"B\", \"C\", \"D\"])\n",
    "df"
   ]
  },
  {
   "cell_type": "markdown",
   "id": "80660cb7",
   "metadata": {},
   "source": [
    "### 데이터프레임 정보 탐색\n",
    "- df.head()"
   ]
  },
  {
   "cell_type": "code",
   "execution_count": 19,
   "id": "7c0aed96",
   "metadata": {},
   "outputs": [
    {
     "data": {
      "text/html": [
       "<div>\n",
       "<style scoped>\n",
       "    .dataframe tbody tr th:only-of-type {\n",
       "        vertical-align: middle;\n",
       "    }\n",
       "\n",
       "    .dataframe tbody tr th {\n",
       "        vertical-align: top;\n",
       "    }\n",
       "\n",
       "    .dataframe thead th {\n",
       "        text-align: right;\n",
       "    }\n",
       "</style>\n",
       "<table border=\"1\" class=\"dataframe\">\n",
       "  <thead>\n",
       "    <tr style=\"text-align: right;\">\n",
       "      <th></th>\n",
       "      <th>A</th>\n",
       "      <th>B</th>\n",
       "      <th>C</th>\n",
       "      <th>D</th>\n",
       "    </tr>\n",
       "  </thead>\n",
       "  <tbody>\n",
       "    <tr>\n",
       "      <th>2021-09-16</th>\n",
       "      <td>-1.388535</td>\n",
       "      <td>-1.440935</td>\n",
       "      <td>-0.691838</td>\n",
       "      <td>0.313617</td>\n",
       "    </tr>\n",
       "    <tr>\n",
       "      <th>2021-09-17</th>\n",
       "      <td>0.078853</td>\n",
       "      <td>-0.957636</td>\n",
       "      <td>0.747293</td>\n",
       "      <td>1.000402</td>\n",
       "    </tr>\n",
       "    <tr>\n",
       "      <th>2021-09-18</th>\n",
       "      <td>-0.351886</td>\n",
       "      <td>-0.943124</td>\n",
       "      <td>-0.069221</td>\n",
       "      <td>0.399985</td>\n",
       "    </tr>\n",
       "  </tbody>\n",
       "</table>\n",
       "</div>"
      ],
      "text/plain": [
       "                   A         B         C         D\n",
       "2021-09-16 -1.388535 -1.440935 -0.691838  0.313617\n",
       "2021-09-17  0.078853 -0.957636  0.747293  1.000402\n",
       "2021-09-18 -0.351886 -0.943124 -0.069221  0.399985"
      ]
     },
     "execution_count": 19,
     "metadata": {},
     "output_type": "execute_result"
    }
   ],
   "source": [
    "df.head(3)"
   ]
  },
  {
   "cell_type": "code",
   "execution_count": 20,
   "id": "06b0e725",
   "metadata": {},
   "outputs": [
    {
     "data": {
      "text/html": [
       "<div>\n",
       "<style scoped>\n",
       "    .dataframe tbody tr th:only-of-type {\n",
       "        vertical-align: middle;\n",
       "    }\n",
       "\n",
       "    .dataframe tbody tr th {\n",
       "        vertical-align: top;\n",
       "    }\n",
       "\n",
       "    .dataframe thead th {\n",
       "        text-align: right;\n",
       "    }\n",
       "</style>\n",
       "<table border=\"1\" class=\"dataframe\">\n",
       "  <thead>\n",
       "    <tr style=\"text-align: right;\">\n",
       "      <th></th>\n",
       "      <th>A</th>\n",
       "      <th>B</th>\n",
       "      <th>C</th>\n",
       "      <th>D</th>\n",
       "    </tr>\n",
       "  </thead>\n",
       "  <tbody>\n",
       "    <tr>\n",
       "      <th>2021-09-19</th>\n",
       "      <td>0.962220</td>\n",
       "      <td>0.085733</td>\n",
       "      <td>0.080327</td>\n",
       "      <td>-0.219735</td>\n",
       "    </tr>\n",
       "    <tr>\n",
       "      <th>2021-09-20</th>\n",
       "      <td>0.763137</td>\n",
       "      <td>-0.653459</td>\n",
       "      <td>1.294108</td>\n",
       "      <td>0.789314</td>\n",
       "    </tr>\n",
       "    <tr>\n",
       "      <th>2021-09-21</th>\n",
       "      <td>0.520471</td>\n",
       "      <td>-0.165243</td>\n",
       "      <td>-1.444466</td>\n",
       "      <td>-1.737176</td>\n",
       "    </tr>\n",
       "  </tbody>\n",
       "</table>\n",
       "</div>"
      ],
      "text/plain": [
       "                   A         B         C         D\n",
       "2021-09-19  0.962220  0.085733  0.080327 -0.219735\n",
       "2021-09-20  0.763137 -0.653459  1.294108  0.789314\n",
       "2021-09-21  0.520471 -0.165243 -1.444466 -1.737176"
      ]
     },
     "execution_count": 20,
     "metadata": {},
     "output_type": "execute_result"
    }
   ],
   "source": [
    "df.tail(3)"
   ]
  },
  {
   "cell_type": "code",
   "execution_count": 21,
   "id": "95b3650e",
   "metadata": {},
   "outputs": [
    {
     "data": {
      "text/plain": [
       "DatetimeIndex(['2021-09-16', '2021-09-17', '2021-09-18', '2021-09-19',\n",
       "               '2021-09-20', '2021-09-21'],\n",
       "              dtype='datetime64[ns]', freq='D')"
      ]
     },
     "execution_count": 21,
     "metadata": {},
     "output_type": "execute_result"
    }
   ],
   "source": [
    "df.index"
   ]
  },
  {
   "cell_type": "code",
   "execution_count": 22,
   "id": "31e2bee9",
   "metadata": {},
   "outputs": [
    {
     "data": {
      "text/plain": [
       "Index(['A', 'B', 'C', 'D'], dtype='object')"
      ]
     },
     "execution_count": 22,
     "metadata": {},
     "output_type": "execute_result"
    }
   ],
   "source": [
    "df.columns"
   ]
  },
  {
   "cell_type": "code",
   "execution_count": 23,
   "id": "2e96b502",
   "metadata": {},
   "outputs": [
    {
     "data": {
      "text/plain": [
       "array([[-1.38853498, -1.44093454, -0.69183781,  0.31361694],\n",
       "       [ 0.07885291, -0.95763596,  0.7472927 ,  1.00040222],\n",
       "       [-0.35188578, -0.94312396, -0.06922078,  0.39998499],\n",
       "       [ 0.96221969,  0.08573279,  0.08032719, -0.21973451],\n",
       "       [ 0.763137  , -0.65345877,  1.29410781,  0.78931354],\n",
       "       [ 0.52047076, -0.16524258, -1.44446634, -1.73717601]])"
      ]
     },
     "execution_count": 23,
     "metadata": {},
     "output_type": "execute_result"
    }
   ],
   "source": [
    "df.values"
   ]
  },
  {
   "cell_type": "code",
   "execution_count": 24,
   "id": "8cbe06bd",
   "metadata": {},
   "outputs": [
    {
     "name": "stdout",
     "output_type": "stream",
     "text": [
      "<class 'pandas.core.frame.DataFrame'>\n",
      "DatetimeIndex: 6 entries, 2021-09-16 to 2021-09-21\n",
      "Freq: D\n",
      "Data columns (total 4 columns):\n",
      " #   Column  Non-Null Count  Dtype  \n",
      "---  ------  --------------  -----  \n",
      " 0   A       6 non-null      float64\n",
      " 1   B       6 non-null      float64\n",
      " 2   C       6 non-null      float64\n",
      " 3   D       6 non-null      float64\n",
      "dtypes: float64(4)\n",
      "memory usage: 240.0 bytes\n"
     ]
    }
   ],
   "source": [
    "df.info()"
   ]
  },
  {
   "cell_type": "markdown",
   "id": "4e680ce3",
   "metadata": {},
   "source": [
    "- df.describe() 데이터프레임의 기술 통계 정보 확인"
   ]
  },
  {
   "cell_type": "code",
   "execution_count": 25,
   "id": "311b293f",
   "metadata": {},
   "outputs": [
    {
     "data": {
      "text/html": [
       "<div>\n",
       "<style scoped>\n",
       "    .dataframe tbody tr th:only-of-type {\n",
       "        vertical-align: middle;\n",
       "    }\n",
       "\n",
       "    .dataframe tbody tr th {\n",
       "        vertical-align: top;\n",
       "    }\n",
       "\n",
       "    .dataframe thead th {\n",
       "        text-align: right;\n",
       "    }\n",
       "</style>\n",
       "<table border=\"1\" class=\"dataframe\">\n",
       "  <thead>\n",
       "    <tr style=\"text-align: right;\">\n",
       "      <th></th>\n",
       "      <th>A</th>\n",
       "      <th>B</th>\n",
       "      <th>C</th>\n",
       "      <th>D</th>\n",
       "    </tr>\n",
       "  </thead>\n",
       "  <tbody>\n",
       "    <tr>\n",
       "      <th>count</th>\n",
       "      <td>6.000000</td>\n",
       "      <td>6.000000</td>\n",
       "      <td>6.000000</td>\n",
       "      <td>6.000000</td>\n",
       "    </tr>\n",
       "    <tr>\n",
       "      <th>mean</th>\n",
       "      <td>0.097377</td>\n",
       "      <td>-0.679111</td>\n",
       "      <td>-0.013966</td>\n",
       "      <td>0.091068</td>\n",
       "    </tr>\n",
       "    <tr>\n",
       "      <th>std</th>\n",
       "      <td>0.869519</td>\n",
       "      <td>0.561669</td>\n",
       "      <td>0.980649</td>\n",
       "      <td>0.989795</td>\n",
       "    </tr>\n",
       "    <tr>\n",
       "      <th>min</th>\n",
       "      <td>-1.388535</td>\n",
       "      <td>-1.440935</td>\n",
       "      <td>-1.444466</td>\n",
       "      <td>-1.737176</td>\n",
       "    </tr>\n",
       "    <tr>\n",
       "      <th>25%</th>\n",
       "      <td>-0.244201</td>\n",
       "      <td>-0.954008</td>\n",
       "      <td>-0.536184</td>\n",
       "      <td>-0.086397</td>\n",
       "    </tr>\n",
       "    <tr>\n",
       "      <th>50%</th>\n",
       "      <td>0.299662</td>\n",
       "      <td>-0.798291</td>\n",
       "      <td>0.005553</td>\n",
       "      <td>0.356801</td>\n",
       "    </tr>\n",
       "    <tr>\n",
       "      <th>75%</th>\n",
       "      <td>0.702470</td>\n",
       "      <td>-0.287297</td>\n",
       "      <td>0.580551</td>\n",
       "      <td>0.691981</td>\n",
       "    </tr>\n",
       "    <tr>\n",
       "      <th>max</th>\n",
       "      <td>0.962220</td>\n",
       "      <td>0.085733</td>\n",
       "      <td>1.294108</td>\n",
       "      <td>1.000402</td>\n",
       "    </tr>\n",
       "  </tbody>\n",
       "</table>\n",
       "</div>"
      ],
      "text/plain": [
       "              A         B         C         D\n",
       "count  6.000000  6.000000  6.000000  6.000000\n",
       "mean   0.097377 -0.679111 -0.013966  0.091068\n",
       "std    0.869519  0.561669  0.980649  0.989795\n",
       "min   -1.388535 -1.440935 -1.444466 -1.737176\n",
       "25%   -0.244201 -0.954008 -0.536184 -0.086397\n",
       "50%    0.299662 -0.798291  0.005553  0.356801\n",
       "75%    0.702470 -0.287297  0.580551  0.691981\n",
       "max    0.962220  0.085733  1.294108  1.000402"
      ]
     },
     "execution_count": 25,
     "metadata": {},
     "output_type": "execute_result"
    }
   ],
   "source": [
    "df.describe()"
   ]
  },
  {
   "cell_type": "markdown",
   "id": "d6c49af1",
   "metadata": {},
   "source": [
    "### 데이터 정렬\n",
    "- sort_values()"
   ]
  },
  {
   "cell_type": "code",
   "execution_count": 26,
   "id": "2babe7aa",
   "metadata": {},
   "outputs": [
    {
     "data": {
      "text/html": [
       "<div>\n",
       "<style scoped>\n",
       "    .dataframe tbody tr th:only-of-type {\n",
       "        vertical-align: middle;\n",
       "    }\n",
       "\n",
       "    .dataframe tbody tr th {\n",
       "        vertical-align: top;\n",
       "    }\n",
       "\n",
       "    .dataframe thead th {\n",
       "        text-align: right;\n",
       "    }\n",
       "</style>\n",
       "<table border=\"1\" class=\"dataframe\">\n",
       "  <thead>\n",
       "    <tr style=\"text-align: right;\">\n",
       "      <th></th>\n",
       "      <th>A</th>\n",
       "      <th>B</th>\n",
       "      <th>C</th>\n",
       "      <th>D</th>\n",
       "    </tr>\n",
       "  </thead>\n",
       "  <tbody>\n",
       "    <tr>\n",
       "      <th>2021-09-16</th>\n",
       "      <td>-1.388535</td>\n",
       "      <td>-1.440935</td>\n",
       "      <td>-0.691838</td>\n",
       "      <td>0.313617</td>\n",
       "    </tr>\n",
       "    <tr>\n",
       "      <th>2021-09-17</th>\n",
       "      <td>0.078853</td>\n",
       "      <td>-0.957636</td>\n",
       "      <td>0.747293</td>\n",
       "      <td>1.000402</td>\n",
       "    </tr>\n",
       "    <tr>\n",
       "      <th>2021-09-18</th>\n",
       "      <td>-0.351886</td>\n",
       "      <td>-0.943124</td>\n",
       "      <td>-0.069221</td>\n",
       "      <td>0.399985</td>\n",
       "    </tr>\n",
       "    <tr>\n",
       "      <th>2021-09-19</th>\n",
       "      <td>0.962220</td>\n",
       "      <td>0.085733</td>\n",
       "      <td>0.080327</td>\n",
       "      <td>-0.219735</td>\n",
       "    </tr>\n",
       "    <tr>\n",
       "      <th>2021-09-20</th>\n",
       "      <td>0.763137</td>\n",
       "      <td>-0.653459</td>\n",
       "      <td>1.294108</td>\n",
       "      <td>0.789314</td>\n",
       "    </tr>\n",
       "    <tr>\n",
       "      <th>2021-09-21</th>\n",
       "      <td>0.520471</td>\n",
       "      <td>-0.165243</td>\n",
       "      <td>-1.444466</td>\n",
       "      <td>-1.737176</td>\n",
       "    </tr>\n",
       "  </tbody>\n",
       "</table>\n",
       "</div>"
      ],
      "text/plain": [
       "                   A         B         C         D\n",
       "2021-09-16 -1.388535 -1.440935 -0.691838  0.313617\n",
       "2021-09-17  0.078853 -0.957636  0.747293  1.000402\n",
       "2021-09-18 -0.351886 -0.943124 -0.069221  0.399985\n",
       "2021-09-19  0.962220  0.085733  0.080327 -0.219735\n",
       "2021-09-20  0.763137 -0.653459  1.294108  0.789314\n",
       "2021-09-21  0.520471 -0.165243 -1.444466 -1.737176"
      ]
     },
     "execution_count": 26,
     "metadata": {},
     "output_type": "execute_result"
    }
   ],
   "source": [
    "df"
   ]
  },
  {
   "cell_type": "code",
   "execution_count": 27,
   "id": "bc97f710",
   "metadata": {},
   "outputs": [],
   "source": [
    "df.sort_values(by=[\"A\"], ascending=False, inplace=True)"
   ]
  },
  {
   "cell_type": "code",
   "execution_count": 28,
   "id": "f79cf1e1",
   "metadata": {},
   "outputs": [
    {
     "data": {
      "text/html": [
       "<div>\n",
       "<style scoped>\n",
       "    .dataframe tbody tr th:only-of-type {\n",
       "        vertical-align: middle;\n",
       "    }\n",
       "\n",
       "    .dataframe tbody tr th {\n",
       "        vertical-align: top;\n",
       "    }\n",
       "\n",
       "    .dataframe thead th {\n",
       "        text-align: right;\n",
       "    }\n",
       "</style>\n",
       "<table border=\"1\" class=\"dataframe\">\n",
       "  <thead>\n",
       "    <tr style=\"text-align: right;\">\n",
       "      <th></th>\n",
       "      <th>A</th>\n",
       "      <th>B</th>\n",
       "      <th>C</th>\n",
       "      <th>D</th>\n",
       "    </tr>\n",
       "  </thead>\n",
       "  <tbody>\n",
       "    <tr>\n",
       "      <th>2021-09-19</th>\n",
       "      <td>0.962220</td>\n",
       "      <td>0.085733</td>\n",
       "      <td>0.080327</td>\n",
       "      <td>-0.219735</td>\n",
       "    </tr>\n",
       "    <tr>\n",
       "      <th>2021-09-20</th>\n",
       "      <td>0.763137</td>\n",
       "      <td>-0.653459</td>\n",
       "      <td>1.294108</td>\n",
       "      <td>0.789314</td>\n",
       "    </tr>\n",
       "    <tr>\n",
       "      <th>2021-09-21</th>\n",
       "      <td>0.520471</td>\n",
       "      <td>-0.165243</td>\n",
       "      <td>-1.444466</td>\n",
       "      <td>-1.737176</td>\n",
       "    </tr>\n",
       "    <tr>\n",
       "      <th>2021-09-17</th>\n",
       "      <td>0.078853</td>\n",
       "      <td>-0.957636</td>\n",
       "      <td>0.747293</td>\n",
       "      <td>1.000402</td>\n",
       "    </tr>\n",
       "    <tr>\n",
       "      <th>2021-09-18</th>\n",
       "      <td>-0.351886</td>\n",
       "      <td>-0.943124</td>\n",
       "      <td>-0.069221</td>\n",
       "      <td>0.399985</td>\n",
       "    </tr>\n",
       "    <tr>\n",
       "      <th>2021-09-16</th>\n",
       "      <td>-1.388535</td>\n",
       "      <td>-1.440935</td>\n",
       "      <td>-0.691838</td>\n",
       "      <td>0.313617</td>\n",
       "    </tr>\n",
       "  </tbody>\n",
       "</table>\n",
       "</div>"
      ],
      "text/plain": [
       "                   A         B         C         D\n",
       "2021-09-19  0.962220  0.085733  0.080327 -0.219735\n",
       "2021-09-20  0.763137 -0.653459  1.294108  0.789314\n",
       "2021-09-21  0.520471 -0.165243 -1.444466 -1.737176\n",
       "2021-09-17  0.078853 -0.957636  0.747293  1.000402\n",
       "2021-09-18 -0.351886 -0.943124 -0.069221  0.399985\n",
       "2021-09-16 -1.388535 -1.440935 -0.691838  0.313617"
      ]
     },
     "execution_count": 28,
     "metadata": {},
     "output_type": "execute_result"
    }
   ],
   "source": [
    "df"
   ]
  },
  {
   "cell_type": "code",
   "execution_count": 29,
   "id": "16aa10fd",
   "metadata": {},
   "outputs": [
    {
     "data": {
      "text/plain": [
       "2021-09-19    0.962220\n",
       "2021-09-20    0.763137\n",
       "2021-09-21    0.520471\n",
       "2021-09-17    0.078853\n",
       "2021-09-18   -0.351886\n",
       "2021-09-16   -1.388535\n",
       "Name: A, dtype: float64"
      ]
     },
     "execution_count": 29,
     "metadata": {},
     "output_type": "execute_result"
    }
   ],
   "source": [
    "# 한 개 컬럼 선택\n",
    "df[\"A\"]"
   ]
  },
  {
   "cell_type": "code",
   "execution_count": 30,
   "id": "d8a66bc9",
   "metadata": {},
   "outputs": [
    {
     "data": {
      "text/plain": [
       "pandas.core.series.Series"
      ]
     },
     "execution_count": 30,
     "metadata": {},
     "output_type": "execute_result"
    }
   ],
   "source": [
    "type(df.A)"
   ]
  },
  {
   "cell_type": "code",
   "execution_count": 31,
   "id": "388e193f",
   "metadata": {},
   "outputs": [
    {
     "data": {
      "text/html": [
       "<div>\n",
       "<style scoped>\n",
       "    .dataframe tbody tr th:only-of-type {\n",
       "        vertical-align: middle;\n",
       "    }\n",
       "\n",
       "    .dataframe tbody tr th {\n",
       "        vertical-align: top;\n",
       "    }\n",
       "\n",
       "    .dataframe thead th {\n",
       "        text-align: right;\n",
       "    }\n",
       "</style>\n",
       "<table border=\"1\" class=\"dataframe\">\n",
       "  <thead>\n",
       "    <tr style=\"text-align: right;\">\n",
       "      <th></th>\n",
       "      <th>A</th>\n",
       "      <th>B</th>\n",
       "    </tr>\n",
       "  </thead>\n",
       "  <tbody>\n",
       "    <tr>\n",
       "      <th>2021-09-19</th>\n",
       "      <td>0.962220</td>\n",
       "      <td>0.085733</td>\n",
       "    </tr>\n",
       "    <tr>\n",
       "      <th>2021-09-20</th>\n",
       "      <td>0.763137</td>\n",
       "      <td>-0.653459</td>\n",
       "    </tr>\n",
       "    <tr>\n",
       "      <th>2021-09-21</th>\n",
       "      <td>0.520471</td>\n",
       "      <td>-0.165243</td>\n",
       "    </tr>\n",
       "    <tr>\n",
       "      <th>2021-09-17</th>\n",
       "      <td>0.078853</td>\n",
       "      <td>-0.957636</td>\n",
       "    </tr>\n",
       "    <tr>\n",
       "      <th>2021-09-18</th>\n",
       "      <td>-0.351886</td>\n",
       "      <td>-0.943124</td>\n",
       "    </tr>\n",
       "    <tr>\n",
       "      <th>2021-09-16</th>\n",
       "      <td>-1.388535</td>\n",
       "      <td>-1.440935</td>\n",
       "    </tr>\n",
       "  </tbody>\n",
       "</table>\n",
       "</div>"
      ],
      "text/plain": [
       "                   A         B\n",
       "2021-09-19  0.962220  0.085733\n",
       "2021-09-20  0.763137 -0.653459\n",
       "2021-09-21  0.520471 -0.165243\n",
       "2021-09-17  0.078853 -0.957636\n",
       "2021-09-18 -0.351886 -0.943124\n",
       "2021-09-16 -1.388535 -1.440935"
      ]
     },
     "execution_count": 31,
     "metadata": {},
     "output_type": "execute_result"
    }
   ],
   "source": [
    "# 두 개 이상 컬럼 선택\n",
    "df[[\"A\", \"B\"]]"
   ]
  },
  {
   "cell_type": "markdown",
   "id": "7607792b",
   "metadata": {},
   "source": [
    "### offset index\n",
    "- [n:m] : n부터 m-1까지\n",
    "- 인덱스나 컬럼의 이름으로 slice 하는 경우 끝을 포함"
   ]
  },
  {
   "cell_type": "code",
   "execution_count": 32,
   "id": "a8cbb696",
   "metadata": {},
   "outputs": [
    {
     "data": {
      "text/html": [
       "<div>\n",
       "<style scoped>\n",
       "    .dataframe tbody tr th:only-of-type {\n",
       "        vertical-align: middle;\n",
       "    }\n",
       "\n",
       "    .dataframe tbody tr th {\n",
       "        vertical-align: top;\n",
       "    }\n",
       "\n",
       "    .dataframe thead th {\n",
       "        text-align: right;\n",
       "    }\n",
       "</style>\n",
       "<table border=\"1\" class=\"dataframe\">\n",
       "  <thead>\n",
       "    <tr style=\"text-align: right;\">\n",
       "      <th></th>\n",
       "      <th>A</th>\n",
       "      <th>B</th>\n",
       "      <th>C</th>\n",
       "      <th>D</th>\n",
       "    </tr>\n",
       "  </thead>\n",
       "  <tbody>\n",
       "    <tr>\n",
       "      <th>2021-09-19</th>\n",
       "      <td>0.962220</td>\n",
       "      <td>0.085733</td>\n",
       "      <td>0.080327</td>\n",
       "      <td>-0.219735</td>\n",
       "    </tr>\n",
       "    <tr>\n",
       "      <th>2021-09-20</th>\n",
       "      <td>0.763137</td>\n",
       "      <td>-0.653459</td>\n",
       "      <td>1.294108</td>\n",
       "      <td>0.789314</td>\n",
       "    </tr>\n",
       "    <tr>\n",
       "      <th>2021-09-21</th>\n",
       "      <td>0.520471</td>\n",
       "      <td>-0.165243</td>\n",
       "      <td>-1.444466</td>\n",
       "      <td>-1.737176</td>\n",
       "    </tr>\n",
       "    <tr>\n",
       "      <th>2021-09-17</th>\n",
       "      <td>0.078853</td>\n",
       "      <td>-0.957636</td>\n",
       "      <td>0.747293</td>\n",
       "      <td>1.000402</td>\n",
       "    </tr>\n",
       "    <tr>\n",
       "      <th>2021-09-18</th>\n",
       "      <td>-0.351886</td>\n",
       "      <td>-0.943124</td>\n",
       "      <td>-0.069221</td>\n",
       "      <td>0.399985</td>\n",
       "    </tr>\n",
       "    <tr>\n",
       "      <th>2021-09-16</th>\n",
       "      <td>-1.388535</td>\n",
       "      <td>-1.440935</td>\n",
       "      <td>-0.691838</td>\n",
       "      <td>0.313617</td>\n",
       "    </tr>\n",
       "  </tbody>\n",
       "</table>\n",
       "</div>"
      ],
      "text/plain": [
       "                   A         B         C         D\n",
       "2021-09-19  0.962220  0.085733  0.080327 -0.219735\n",
       "2021-09-20  0.763137 -0.653459  1.294108  0.789314\n",
       "2021-09-21  0.520471 -0.165243 -1.444466 -1.737176\n",
       "2021-09-17  0.078853 -0.957636  0.747293  1.000402\n",
       "2021-09-18 -0.351886 -0.943124 -0.069221  0.399985\n",
       "2021-09-16 -1.388535 -1.440935 -0.691838  0.313617"
      ]
     },
     "execution_count": 32,
     "metadata": {},
     "output_type": "execute_result"
    }
   ],
   "source": [
    "df"
   ]
  },
  {
   "cell_type": "code",
   "execution_count": 33,
   "id": "2b23cf7a",
   "metadata": {},
   "outputs": [
    {
     "data": {
      "text/html": [
       "<div>\n",
       "<style scoped>\n",
       "    .dataframe tbody tr th:only-of-type {\n",
       "        vertical-align: middle;\n",
       "    }\n",
       "\n",
       "    .dataframe tbody tr th {\n",
       "        vertical-align: top;\n",
       "    }\n",
       "\n",
       "    .dataframe thead th {\n",
       "        text-align: right;\n",
       "    }\n",
       "</style>\n",
       "<table border=\"1\" class=\"dataframe\">\n",
       "  <thead>\n",
       "    <tr style=\"text-align: right;\">\n",
       "      <th></th>\n",
       "      <th>A</th>\n",
       "      <th>B</th>\n",
       "      <th>C</th>\n",
       "      <th>D</th>\n",
       "    </tr>\n",
       "  </thead>\n",
       "  <tbody>\n",
       "    <tr>\n",
       "      <th>2021-09-20</th>\n",
       "      <td>0.763137</td>\n",
       "      <td>-0.653459</td>\n",
       "      <td>1.294108</td>\n",
       "      <td>0.789314</td>\n",
       "    </tr>\n",
       "    <tr>\n",
       "      <th>2021-09-21</th>\n",
       "      <td>0.520471</td>\n",
       "      <td>-0.165243</td>\n",
       "      <td>-1.444466</td>\n",
       "      <td>-1.737176</td>\n",
       "    </tr>\n",
       "  </tbody>\n",
       "</table>\n",
       "</div>"
      ],
      "text/plain": [
       "                   A         B         C         D\n",
       "2021-09-20  0.763137 -0.653459  1.294108  0.789314\n",
       "2021-09-21  0.520471 -0.165243 -1.444466 -1.737176"
      ]
     },
     "execution_count": 33,
     "metadata": {},
     "output_type": "execute_result"
    }
   ],
   "source": [
    "df[1:3]"
   ]
  },
  {
   "cell_type": "code",
   "execution_count": 34,
   "id": "d45f59dd",
   "metadata": {},
   "outputs": [
    {
     "data": {
      "text/html": [
       "<div>\n",
       "<style scoped>\n",
       "    .dataframe tbody tr th:only-of-type {\n",
       "        vertical-align: middle;\n",
       "    }\n",
       "\n",
       "    .dataframe tbody tr th {\n",
       "        vertical-align: top;\n",
       "    }\n",
       "\n",
       "    .dataframe thead th {\n",
       "        text-align: right;\n",
       "    }\n",
       "</style>\n",
       "<table border=\"1\" class=\"dataframe\">\n",
       "  <thead>\n",
       "    <tr style=\"text-align: right;\">\n",
       "      <th></th>\n",
       "      <th>A</th>\n",
       "      <th>B</th>\n",
       "      <th>C</th>\n",
       "      <th>D</th>\n",
       "    </tr>\n",
       "  </thead>\n",
       "  <tbody>\n",
       "    <tr>\n",
       "      <th>2021-09-17</th>\n",
       "      <td>0.078853</td>\n",
       "      <td>-0.957636</td>\n",
       "      <td>0.747293</td>\n",
       "      <td>1.000402</td>\n",
       "    </tr>\n",
       "  </tbody>\n",
       "</table>\n",
       "</div>"
      ],
      "text/plain": [
       "                   A         B         C         D\n",
       "2021-09-17  0.078853 -0.957636  0.747293  1.000402"
      ]
     },
     "execution_count": 34,
     "metadata": {},
     "output_type": "execute_result"
    }
   ],
   "source": [
    "df[\"20210917\":\"20210917\"]"
   ]
  },
  {
   "cell_type": "markdown",
   "id": "36dd543c",
   "metadata": {},
   "source": [
    "- loc : location\n",
    "- index 이름으로 특정, 행, 열을 선택합니다."
   ]
  },
  {
   "cell_type": "code",
   "execution_count": 35,
   "id": "bff86a5d",
   "metadata": {},
   "outputs": [
    {
     "name": "stderr",
     "output_type": "stream",
     "text": [
      "C:\\Users\\jmkim\\anaconda3\\envs\\ds_study\\lib\\site-packages\\pandas\\core\\indexing.py:1109: FutureWarning: Value based partial slicing on non-monotonic DatetimeIndexes with non-existing keys is deprecated and will raise a KeyError in a future Version.\n",
      "  return self._getitem_tuple_same_dim(tup)\n"
     ]
    },
    {
     "data": {
      "text/html": [
       "<div>\n",
       "<style scoped>\n",
       "    .dataframe tbody tr th:only-of-type {\n",
       "        vertical-align: middle;\n",
       "    }\n",
       "\n",
       "    .dataframe tbody tr th {\n",
       "        vertical-align: top;\n",
       "    }\n",
       "\n",
       "    .dataframe thead th {\n",
       "        text-align: right;\n",
       "    }\n",
       "</style>\n",
       "<table border=\"1\" class=\"dataframe\">\n",
       "  <thead>\n",
       "    <tr style=\"text-align: right;\">\n",
       "      <th></th>\n",
       "      <th>A</th>\n",
       "      <th>B</th>\n",
       "    </tr>\n",
       "  </thead>\n",
       "  <tbody>\n",
       "    <tr>\n",
       "      <th>2021-09-17</th>\n",
       "      <td>0.078853</td>\n",
       "      <td>-0.957636</td>\n",
       "    </tr>\n",
       "    <tr>\n",
       "      <th>2021-09-16</th>\n",
       "      <td>-1.388535</td>\n",
       "      <td>-1.440935</td>\n",
       "    </tr>\n",
       "  </tbody>\n",
       "</table>\n",
       "</div>"
      ],
      "text/plain": [
       "                   A         B\n",
       "2021-09-17  0.078853 -0.957636\n",
       "2021-09-16 -1.388535 -1.440935"
      ]
     },
     "execution_count": 35,
     "metadata": {},
     "output_type": "execute_result"
    }
   ],
   "source": [
    "df.loc[\"20210915\":\"20210917\", [\"A\",\"B\"]]"
   ]
  },
  {
   "cell_type": "code",
   "execution_count": 36,
   "id": "5b5e41b1",
   "metadata": {},
   "outputs": [
    {
     "data": {
      "text/html": [
       "<div>\n",
       "<style scoped>\n",
       "    .dataframe tbody tr th:only-of-type {\n",
       "        vertical-align: middle;\n",
       "    }\n",
       "\n",
       "    .dataframe tbody tr th {\n",
       "        vertical-align: top;\n",
       "    }\n",
       "\n",
       "    .dataframe thead th {\n",
       "        text-align: right;\n",
       "    }\n",
       "</style>\n",
       "<table border=\"1\" class=\"dataframe\">\n",
       "  <thead>\n",
       "    <tr style=\"text-align: right;\">\n",
       "      <th></th>\n",
       "      <th>A</th>\n",
       "      <th>B</th>\n",
       "      <th>C</th>\n",
       "    </tr>\n",
       "  </thead>\n",
       "  <tbody>\n",
       "    <tr>\n",
       "      <th>2021-09-16</th>\n",
       "      <td>-1.388535</td>\n",
       "      <td>-1.440935</td>\n",
       "      <td>-0.691838</td>\n",
       "    </tr>\n",
       "  </tbody>\n",
       "</table>\n",
       "</div>"
      ],
      "text/plain": [
       "                   A         B         C\n",
       "2021-09-16 -1.388535 -1.440935 -0.691838"
      ]
     },
     "execution_count": 36,
     "metadata": {},
     "output_type": "execute_result"
    }
   ],
   "source": [
    "df.loc[\"20210916\", [\"A\", \"B\", \"C\"]]"
   ]
  },
  {
   "cell_type": "markdown",
   "id": "827c7f8b",
   "metadata": {},
   "source": [
    "- iloc : inter location\n",
    "    - 컴퓨터가 인식하는 인덱스 값으로 선택"
   ]
  },
  {
   "cell_type": "code",
   "execution_count": 37,
   "id": "d1c403ba",
   "metadata": {},
   "outputs": [
    {
     "data": {
      "text/html": [
       "<div>\n",
       "<style scoped>\n",
       "    .dataframe tbody tr th:only-of-type {\n",
       "        vertical-align: middle;\n",
       "    }\n",
       "\n",
       "    .dataframe tbody tr th {\n",
       "        vertical-align: top;\n",
       "    }\n",
       "\n",
       "    .dataframe thead th {\n",
       "        text-align: right;\n",
       "    }\n",
       "</style>\n",
       "<table border=\"1\" class=\"dataframe\">\n",
       "  <thead>\n",
       "    <tr style=\"text-align: right;\">\n",
       "      <th></th>\n",
       "      <th>A</th>\n",
       "      <th>B</th>\n",
       "      <th>C</th>\n",
       "      <th>D</th>\n",
       "    </tr>\n",
       "  </thead>\n",
       "  <tbody>\n",
       "    <tr>\n",
       "      <th>2021-09-19</th>\n",
       "      <td>0.962220</td>\n",
       "      <td>0.085733</td>\n",
       "      <td>0.080327</td>\n",
       "      <td>-0.219735</td>\n",
       "    </tr>\n",
       "    <tr>\n",
       "      <th>2021-09-20</th>\n",
       "      <td>0.763137</td>\n",
       "      <td>-0.653459</td>\n",
       "      <td>1.294108</td>\n",
       "      <td>0.789314</td>\n",
       "    </tr>\n",
       "    <tr>\n",
       "      <th>2021-09-21</th>\n",
       "      <td>0.520471</td>\n",
       "      <td>-0.165243</td>\n",
       "      <td>-1.444466</td>\n",
       "      <td>-1.737176</td>\n",
       "    </tr>\n",
       "    <tr>\n",
       "      <th>2021-09-17</th>\n",
       "      <td>0.078853</td>\n",
       "      <td>-0.957636</td>\n",
       "      <td>0.747293</td>\n",
       "      <td>1.000402</td>\n",
       "    </tr>\n",
       "    <tr>\n",
       "      <th>2021-09-18</th>\n",
       "      <td>-0.351886</td>\n",
       "      <td>-0.943124</td>\n",
       "      <td>-0.069221</td>\n",
       "      <td>0.399985</td>\n",
       "    </tr>\n",
       "    <tr>\n",
       "      <th>2021-09-16</th>\n",
       "      <td>-1.388535</td>\n",
       "      <td>-1.440935</td>\n",
       "      <td>-0.691838</td>\n",
       "      <td>0.313617</td>\n",
       "    </tr>\n",
       "  </tbody>\n",
       "</table>\n",
       "</div>"
      ],
      "text/plain": [
       "                   A         B         C         D\n",
       "2021-09-19  0.962220  0.085733  0.080327 -0.219735\n",
       "2021-09-20  0.763137 -0.653459  1.294108  0.789314\n",
       "2021-09-21  0.520471 -0.165243 -1.444466 -1.737176\n",
       "2021-09-17  0.078853 -0.957636  0.747293  1.000402\n",
       "2021-09-18 -0.351886 -0.943124 -0.069221  0.399985\n",
       "2021-09-16 -1.388535 -1.440935 -0.691838  0.313617"
      ]
     },
     "execution_count": 37,
     "metadata": {},
     "output_type": "execute_result"
    }
   ],
   "source": [
    "df"
   ]
  },
  {
   "cell_type": "code",
   "execution_count": 38,
   "id": "1d350f0b",
   "metadata": {},
   "outputs": [
    {
     "data": {
      "text/html": [
       "<div>\n",
       "<style scoped>\n",
       "    .dataframe tbody tr th:only-of-type {\n",
       "        vertical-align: middle;\n",
       "    }\n",
       "\n",
       "    .dataframe tbody tr th {\n",
       "        vertical-align: top;\n",
       "    }\n",
       "\n",
       "    .dataframe thead th {\n",
       "        text-align: right;\n",
       "    }\n",
       "</style>\n",
       "<table border=\"1\" class=\"dataframe\">\n",
       "  <thead>\n",
       "    <tr style=\"text-align: right;\">\n",
       "      <th></th>\n",
       "      <th>B</th>\n",
       "      <th>D</th>\n",
       "    </tr>\n",
       "  </thead>\n",
       "  <tbody>\n",
       "    <tr>\n",
       "      <th>2021-09-20</th>\n",
       "      <td>-0.653459</td>\n",
       "      <td>0.789314</td>\n",
       "    </tr>\n",
       "    <tr>\n",
       "      <th>2021-09-21</th>\n",
       "      <td>-0.165243</td>\n",
       "      <td>-1.737176</td>\n",
       "    </tr>\n",
       "  </tbody>\n",
       "</table>\n",
       "</div>"
      ],
      "text/plain": [
       "                   B         D\n",
       "2021-09-20 -0.653459  0.789314\n",
       "2021-09-21 -0.165243 -1.737176"
      ]
     },
     "execution_count": 38,
     "metadata": {},
     "output_type": "execute_result"
    }
   ],
   "source": [
    "df.iloc[1:3, [1,3]] # 1행부터 3행까지, 1열, 3열의 데이터"
   ]
  },
  {
   "cell_type": "code",
   "execution_count": 39,
   "id": "f1d65e5f",
   "metadata": {},
   "outputs": [
    {
     "data": {
      "text/plain": [
       "0.7472926985395456"
      ]
     },
     "execution_count": 39,
     "metadata": {},
     "output_type": "execute_result"
    }
   ],
   "source": [
    "df.iloc[3,2] # 3행 2열의 데이터"
   ]
  },
  {
   "cell_type": "code",
   "execution_count": 40,
   "id": "b89c28bf",
   "metadata": {},
   "outputs": [
    {
     "data": {
      "text/html": [
       "<div>\n",
       "<style scoped>\n",
       "    .dataframe tbody tr th:only-of-type {\n",
       "        vertical-align: middle;\n",
       "    }\n",
       "\n",
       "    .dataframe tbody tr th {\n",
       "        vertical-align: top;\n",
       "    }\n",
       "\n",
       "    .dataframe thead th {\n",
       "        text-align: right;\n",
       "    }\n",
       "</style>\n",
       "<table border=\"1\" class=\"dataframe\">\n",
       "  <thead>\n",
       "    <tr style=\"text-align: right;\">\n",
       "      <th></th>\n",
       "      <th>B</th>\n",
       "      <th>C</th>\n",
       "    </tr>\n",
       "  </thead>\n",
       "  <tbody>\n",
       "    <tr>\n",
       "      <th>2021-09-20</th>\n",
       "      <td>-0.653459</td>\n",
       "      <td>1.294108</td>\n",
       "    </tr>\n",
       "    <tr>\n",
       "      <th>2021-09-21</th>\n",
       "      <td>-0.165243</td>\n",
       "      <td>-1.444466</td>\n",
       "    </tr>\n",
       "    <tr>\n",
       "      <th>2021-09-18</th>\n",
       "      <td>-0.943124</td>\n",
       "      <td>-0.069221</td>\n",
       "    </tr>\n",
       "  </tbody>\n",
       "</table>\n",
       "</div>"
      ],
      "text/plain": [
       "                   B         C\n",
       "2021-09-20 -0.653459  1.294108\n",
       "2021-09-21 -0.165243 -1.444466\n",
       "2021-09-18 -0.943124 -0.069221"
      ]
     },
     "execution_count": 40,
     "metadata": {},
     "output_type": "execute_result"
    }
   ],
   "source": [
    "df.iloc[[1,2,4],[1,2]]"
   ]
  },
  {
   "cell_type": "code",
   "execution_count": 41,
   "id": "ecb60b89",
   "metadata": {},
   "outputs": [
    {
     "data": {
      "text/html": [
       "<div>\n",
       "<style scoped>\n",
       "    .dataframe tbody tr th:only-of-type {\n",
       "        vertical-align: middle;\n",
       "    }\n",
       "\n",
       "    .dataframe tbody tr th {\n",
       "        vertical-align: top;\n",
       "    }\n",
       "\n",
       "    .dataframe thead th {\n",
       "        text-align: right;\n",
       "    }\n",
       "</style>\n",
       "<table border=\"1\" class=\"dataframe\">\n",
       "  <thead>\n",
       "    <tr style=\"text-align: right;\">\n",
       "      <th></th>\n",
       "      <th>A</th>\n",
       "      <th>B</th>\n",
       "      <th>C</th>\n",
       "      <th>D</th>\n",
       "    </tr>\n",
       "  </thead>\n",
       "  <tbody>\n",
       "    <tr>\n",
       "      <th>2021-09-19</th>\n",
       "      <td>0.962220</td>\n",
       "      <td>0.085733</td>\n",
       "      <td>0.080327</td>\n",
       "      <td>-0.219735</td>\n",
       "    </tr>\n",
       "    <tr>\n",
       "      <th>2021-09-20</th>\n",
       "      <td>0.763137</td>\n",
       "      <td>-0.653459</td>\n",
       "      <td>1.294108</td>\n",
       "      <td>0.789314</td>\n",
       "    </tr>\n",
       "    <tr>\n",
       "      <th>2021-09-21</th>\n",
       "      <td>0.520471</td>\n",
       "      <td>-0.165243</td>\n",
       "      <td>-1.444466</td>\n",
       "      <td>-1.737176</td>\n",
       "    </tr>\n",
       "    <tr>\n",
       "      <th>2021-09-17</th>\n",
       "      <td>0.078853</td>\n",
       "      <td>-0.957636</td>\n",
       "      <td>0.747293</td>\n",
       "      <td>1.000402</td>\n",
       "    </tr>\n",
       "    <tr>\n",
       "      <th>2021-09-18</th>\n",
       "      <td>-0.351886</td>\n",
       "      <td>-0.943124</td>\n",
       "      <td>-0.069221</td>\n",
       "      <td>0.399985</td>\n",
       "    </tr>\n",
       "    <tr>\n",
       "      <th>2021-09-16</th>\n",
       "      <td>-1.388535</td>\n",
       "      <td>-1.440935</td>\n",
       "      <td>-0.691838</td>\n",
       "      <td>0.313617</td>\n",
       "    </tr>\n",
       "  </tbody>\n",
       "</table>\n",
       "</div>"
      ],
      "text/plain": [
       "                   A         B         C         D\n",
       "2021-09-19  0.962220  0.085733  0.080327 -0.219735\n",
       "2021-09-20  0.763137 -0.653459  1.294108  0.789314\n",
       "2021-09-21  0.520471 -0.165243 -1.444466 -1.737176\n",
       "2021-09-17  0.078853 -0.957636  0.747293  1.000402\n",
       "2021-09-18 -0.351886 -0.943124 -0.069221  0.399985\n",
       "2021-09-16 -1.388535 -1.440935 -0.691838  0.313617"
      ]
     },
     "execution_count": 41,
     "metadata": {},
     "output_type": "execute_result"
    }
   ],
   "source": [
    "df"
   ]
  },
  {
   "cell_type": "code",
   "execution_count": 42,
   "id": "92706e1a",
   "metadata": {},
   "outputs": [
    {
     "data": {
      "text/html": [
       "<div>\n",
       "<style scoped>\n",
       "    .dataframe tbody tr th:only-of-type {\n",
       "        vertical-align: middle;\n",
       "    }\n",
       "\n",
       "    .dataframe tbody tr th {\n",
       "        vertical-align: top;\n",
       "    }\n",
       "\n",
       "    .dataframe thead th {\n",
       "        text-align: right;\n",
       "    }\n",
       "</style>\n",
       "<table border=\"1\" class=\"dataframe\">\n",
       "  <thead>\n",
       "    <tr style=\"text-align: right;\">\n",
       "      <th></th>\n",
       "      <th>A</th>\n",
       "      <th>B</th>\n",
       "      <th>C</th>\n",
       "      <th>D</th>\n",
       "    </tr>\n",
       "  </thead>\n",
       "  <tbody>\n",
       "    <tr>\n",
       "      <th>2021-09-19</th>\n",
       "      <td>0.962220</td>\n",
       "      <td>0.085733</td>\n",
       "      <td>0.080327</td>\n",
       "      <td>-0.219735</td>\n",
       "    </tr>\n",
       "    <tr>\n",
       "      <th>2021-09-20</th>\n",
       "      <td>0.763137</td>\n",
       "      <td>-0.653459</td>\n",
       "      <td>1.294108</td>\n",
       "      <td>0.789314</td>\n",
       "    </tr>\n",
       "    <tr>\n",
       "      <th>2021-09-21</th>\n",
       "      <td>0.520471</td>\n",
       "      <td>-0.165243</td>\n",
       "      <td>-1.444466</td>\n",
       "      <td>-1.737176</td>\n",
       "    </tr>\n",
       "    <tr>\n",
       "      <th>2021-09-17</th>\n",
       "      <td>0.078853</td>\n",
       "      <td>-0.957636</td>\n",
       "      <td>0.747293</td>\n",
       "      <td>1.000402</td>\n",
       "    </tr>\n",
       "  </tbody>\n",
       "</table>\n",
       "</div>"
      ],
      "text/plain": [
       "                   A         B         C         D\n",
       "2021-09-19  0.962220  0.085733  0.080327 -0.219735\n",
       "2021-09-20  0.763137 -0.653459  1.294108  0.789314\n",
       "2021-09-21  0.520471 -0.165243 -1.444466 -1.737176\n",
       "2021-09-17  0.078853 -0.957636  0.747293  1.000402"
      ]
     },
     "execution_count": 42,
     "metadata": {},
     "output_type": "execute_result"
    }
   ],
   "source": [
    "# A컬럼에서 양수만 선택\n",
    "# 마스킹이라 표현\n",
    "df[df[\"A\"] > 0]"
   ]
  },
  {
   "cell_type": "code",
   "execution_count": 43,
   "id": "86ab5aff",
   "metadata": {},
   "outputs": [
    {
     "data": {
      "text/html": [
       "<div>\n",
       "<style scoped>\n",
       "    .dataframe tbody tr th:only-of-type {\n",
       "        vertical-align: middle;\n",
       "    }\n",
       "\n",
       "    .dataframe tbody tr th {\n",
       "        vertical-align: top;\n",
       "    }\n",
       "\n",
       "    .dataframe thead th {\n",
       "        text-align: right;\n",
       "    }\n",
       "</style>\n",
       "<table border=\"1\" class=\"dataframe\">\n",
       "  <thead>\n",
       "    <tr style=\"text-align: right;\">\n",
       "      <th></th>\n",
       "      <th>A</th>\n",
       "      <th>B</th>\n",
       "      <th>C</th>\n",
       "      <th>D</th>\n",
       "    </tr>\n",
       "  </thead>\n",
       "  <tbody>\n",
       "    <tr>\n",
       "      <th>2021-09-19</th>\n",
       "      <td>0.962220</td>\n",
       "      <td>0.085733</td>\n",
       "      <td>0.080327</td>\n",
       "      <td>NaN</td>\n",
       "    </tr>\n",
       "    <tr>\n",
       "      <th>2021-09-20</th>\n",
       "      <td>0.763137</td>\n",
       "      <td>NaN</td>\n",
       "      <td>1.294108</td>\n",
       "      <td>0.789314</td>\n",
       "    </tr>\n",
       "    <tr>\n",
       "      <th>2021-09-21</th>\n",
       "      <td>0.520471</td>\n",
       "      <td>NaN</td>\n",
       "      <td>NaN</td>\n",
       "      <td>NaN</td>\n",
       "    </tr>\n",
       "    <tr>\n",
       "      <th>2021-09-17</th>\n",
       "      <td>0.078853</td>\n",
       "      <td>NaN</td>\n",
       "      <td>0.747293</td>\n",
       "      <td>1.000402</td>\n",
       "    </tr>\n",
       "    <tr>\n",
       "      <th>2021-09-18</th>\n",
       "      <td>NaN</td>\n",
       "      <td>NaN</td>\n",
       "      <td>NaN</td>\n",
       "      <td>0.399985</td>\n",
       "    </tr>\n",
       "    <tr>\n",
       "      <th>2021-09-16</th>\n",
       "      <td>NaN</td>\n",
       "      <td>NaN</td>\n",
       "      <td>NaN</td>\n",
       "      <td>0.313617</td>\n",
       "    </tr>\n",
       "  </tbody>\n",
       "</table>\n",
       "</div>"
      ],
      "text/plain": [
       "                   A         B         C         D\n",
       "2021-09-19  0.962220  0.085733  0.080327       NaN\n",
       "2021-09-20  0.763137       NaN  1.294108  0.789314\n",
       "2021-09-21  0.520471       NaN       NaN       NaN\n",
       "2021-09-17  0.078853       NaN  0.747293  1.000402\n",
       "2021-09-18       NaN       NaN       NaN  0.399985\n",
       "2021-09-16       NaN       NaN       NaN  0.313617"
      ]
     },
     "execution_count": 43,
     "metadata": {},
     "output_type": "execute_result"
    }
   ],
   "source": [
    "# NaN : Not a number\n",
    "df[df>0]"
   ]
  },
  {
   "cell_type": "markdown",
   "id": "99c5ce51",
   "metadata": {},
   "source": [
    "### 컬럼 추가\n",
    "- 기존 컬럼이 없으면 추가\n",
    "- 기존 컬럼이 있으면 수정"
   ]
  },
  {
   "cell_type": "code",
   "execution_count": 44,
   "id": "029786dc",
   "metadata": {},
   "outputs": [
    {
     "data": {
      "text/html": [
       "<div>\n",
       "<style scoped>\n",
       "    .dataframe tbody tr th:only-of-type {\n",
       "        vertical-align: middle;\n",
       "    }\n",
       "\n",
       "    .dataframe tbody tr th {\n",
       "        vertical-align: top;\n",
       "    }\n",
       "\n",
       "    .dataframe thead th {\n",
       "        text-align: right;\n",
       "    }\n",
       "</style>\n",
       "<table border=\"1\" class=\"dataframe\">\n",
       "  <thead>\n",
       "    <tr style=\"text-align: right;\">\n",
       "      <th></th>\n",
       "      <th>A</th>\n",
       "      <th>B</th>\n",
       "      <th>C</th>\n",
       "      <th>D</th>\n",
       "    </tr>\n",
       "  </thead>\n",
       "  <tbody>\n",
       "    <tr>\n",
       "      <th>2021-09-19</th>\n",
       "      <td>0.962220</td>\n",
       "      <td>0.085733</td>\n",
       "      <td>0.080327</td>\n",
       "      <td>-0.219735</td>\n",
       "    </tr>\n",
       "    <tr>\n",
       "      <th>2021-09-20</th>\n",
       "      <td>0.763137</td>\n",
       "      <td>-0.653459</td>\n",
       "      <td>1.294108</td>\n",
       "      <td>0.789314</td>\n",
       "    </tr>\n",
       "    <tr>\n",
       "      <th>2021-09-21</th>\n",
       "      <td>0.520471</td>\n",
       "      <td>-0.165243</td>\n",
       "      <td>-1.444466</td>\n",
       "      <td>-1.737176</td>\n",
       "    </tr>\n",
       "    <tr>\n",
       "      <th>2021-09-17</th>\n",
       "      <td>0.078853</td>\n",
       "      <td>-0.957636</td>\n",
       "      <td>0.747293</td>\n",
       "      <td>1.000402</td>\n",
       "    </tr>\n",
       "    <tr>\n",
       "      <th>2021-09-18</th>\n",
       "      <td>-0.351886</td>\n",
       "      <td>-0.943124</td>\n",
       "      <td>-0.069221</td>\n",
       "      <td>0.399985</td>\n",
       "    </tr>\n",
       "    <tr>\n",
       "      <th>2021-09-16</th>\n",
       "      <td>-1.388535</td>\n",
       "      <td>-1.440935</td>\n",
       "      <td>-0.691838</td>\n",
       "      <td>0.313617</td>\n",
       "    </tr>\n",
       "  </tbody>\n",
       "</table>\n",
       "</div>"
      ],
      "text/plain": [
       "                   A         B         C         D\n",
       "2021-09-19  0.962220  0.085733  0.080327 -0.219735\n",
       "2021-09-20  0.763137 -0.653459  1.294108  0.789314\n",
       "2021-09-21  0.520471 -0.165243 -1.444466 -1.737176\n",
       "2021-09-17  0.078853 -0.957636  0.747293  1.000402\n",
       "2021-09-18 -0.351886 -0.943124 -0.069221  0.399985\n",
       "2021-09-16 -1.388535 -1.440935 -0.691838  0.313617"
      ]
     },
     "execution_count": 44,
     "metadata": {},
     "output_type": "execute_result"
    }
   ],
   "source": [
    "df"
   ]
  },
  {
   "cell_type": "code",
   "execution_count": 45,
   "id": "657f377c",
   "metadata": {},
   "outputs": [
    {
     "data": {
      "text/html": [
       "<div>\n",
       "<style scoped>\n",
       "    .dataframe tbody tr th:only-of-type {\n",
       "        vertical-align: middle;\n",
       "    }\n",
       "\n",
       "    .dataframe tbody tr th {\n",
       "        vertical-align: top;\n",
       "    }\n",
       "\n",
       "    .dataframe thead th {\n",
       "        text-align: right;\n",
       "    }\n",
       "</style>\n",
       "<table border=\"1\" class=\"dataframe\">\n",
       "  <thead>\n",
       "    <tr style=\"text-align: right;\">\n",
       "      <th></th>\n",
       "      <th>A</th>\n",
       "      <th>B</th>\n",
       "      <th>C</th>\n",
       "      <th>D</th>\n",
       "      <th>E</th>\n",
       "    </tr>\n",
       "  </thead>\n",
       "  <tbody>\n",
       "    <tr>\n",
       "      <th>2021-09-19</th>\n",
       "      <td>0.962220</td>\n",
       "      <td>0.085733</td>\n",
       "      <td>0.080327</td>\n",
       "      <td>-0.219735</td>\n",
       "      <td>Zero</td>\n",
       "    </tr>\n",
       "    <tr>\n",
       "      <th>2021-09-20</th>\n",
       "      <td>0.763137</td>\n",
       "      <td>-0.653459</td>\n",
       "      <td>1.294108</td>\n",
       "      <td>0.789314</td>\n",
       "      <td>One</td>\n",
       "    </tr>\n",
       "    <tr>\n",
       "      <th>2021-09-21</th>\n",
       "      <td>0.520471</td>\n",
       "      <td>-0.165243</td>\n",
       "      <td>-1.444466</td>\n",
       "      <td>-1.737176</td>\n",
       "      <td>Two</td>\n",
       "    </tr>\n",
       "    <tr>\n",
       "      <th>2021-09-17</th>\n",
       "      <td>0.078853</td>\n",
       "      <td>-0.957636</td>\n",
       "      <td>0.747293</td>\n",
       "      <td>1.000402</td>\n",
       "      <td>Three</td>\n",
       "    </tr>\n",
       "    <tr>\n",
       "      <th>2021-09-18</th>\n",
       "      <td>-0.351886</td>\n",
       "      <td>-0.943124</td>\n",
       "      <td>-0.069221</td>\n",
       "      <td>0.399985</td>\n",
       "      <td>Four</td>\n",
       "    </tr>\n",
       "    <tr>\n",
       "      <th>2021-09-16</th>\n",
       "      <td>-1.388535</td>\n",
       "      <td>-1.440935</td>\n",
       "      <td>-0.691838</td>\n",
       "      <td>0.313617</td>\n",
       "      <td>Five</td>\n",
       "    </tr>\n",
       "  </tbody>\n",
       "</table>\n",
       "</div>"
      ],
      "text/plain": [
       "                   A         B         C         D      E\n",
       "2021-09-19  0.962220  0.085733  0.080327 -0.219735   Zero\n",
       "2021-09-20  0.763137 -0.653459  1.294108  0.789314    One\n",
       "2021-09-21  0.520471 -0.165243 -1.444466 -1.737176    Two\n",
       "2021-09-17  0.078853 -0.957636  0.747293  1.000402  Three\n",
       "2021-09-18 -0.351886 -0.943124 -0.069221  0.399985   Four\n",
       "2021-09-16 -1.388535 -1.440935 -0.691838  0.313617   Five"
      ]
     },
     "execution_count": 45,
     "metadata": {},
     "output_type": "execute_result"
    }
   ],
   "source": [
    "df[\"E\"] = [\"Zero\", \"One\", \"Two\", \"Three\", \"Four\", \"Five\"]\n",
    "df"
   ]
  },
  {
   "cell_type": "code",
   "execution_count": 46,
   "id": "9d80e0c9",
   "metadata": {},
   "outputs": [
    {
     "data": {
      "text/plain": [
       "6"
      ]
     },
     "execution_count": 46,
     "metadata": {},
     "output_type": "execute_result"
    }
   ],
   "source": [
    "len(df.index)"
   ]
  },
  {
   "cell_type": "markdown",
   "id": "a8c5abd5",
   "metadata": {},
   "source": [
    "- isin()\n",
    "- 특정 요소가 있는지 확인"
   ]
  },
  {
   "cell_type": "code",
   "execution_count": 47,
   "id": "a2968bf0",
   "metadata": {},
   "outputs": [
    {
     "data": {
      "text/plain": [
       "2021-09-19    False\n",
       "2021-09-20    False\n",
       "2021-09-21     True\n",
       "2021-09-17     True\n",
       "2021-09-18    False\n",
       "2021-09-16    False\n",
       "Name: E, dtype: bool"
      ]
     },
     "execution_count": 47,
     "metadata": {},
     "output_type": "execute_result"
    }
   ],
   "source": [
    "df[\"E\"].isin([\"Two\", \"Three\"])"
   ]
  },
  {
   "cell_type": "code",
   "execution_count": 48,
   "id": "71a51e62",
   "metadata": {},
   "outputs": [
    {
     "data": {
      "text/html": [
       "<div>\n",
       "<style scoped>\n",
       "    .dataframe tbody tr th:only-of-type {\n",
       "        vertical-align: middle;\n",
       "    }\n",
       "\n",
       "    .dataframe tbody tr th {\n",
       "        vertical-align: top;\n",
       "    }\n",
       "\n",
       "    .dataframe thead th {\n",
       "        text-align: right;\n",
       "    }\n",
       "</style>\n",
       "<table border=\"1\" class=\"dataframe\">\n",
       "  <thead>\n",
       "    <tr style=\"text-align: right;\">\n",
       "      <th></th>\n",
       "      <th>A</th>\n",
       "      <th>B</th>\n",
       "      <th>C</th>\n",
       "      <th>D</th>\n",
       "      <th>E</th>\n",
       "    </tr>\n",
       "  </thead>\n",
       "  <tbody>\n",
       "    <tr>\n",
       "      <th>2021-09-21</th>\n",
       "      <td>0.520471</td>\n",
       "      <td>-0.165243</td>\n",
       "      <td>-1.444466</td>\n",
       "      <td>-1.737176</td>\n",
       "      <td>Two</td>\n",
       "    </tr>\n",
       "    <tr>\n",
       "      <th>2021-09-17</th>\n",
       "      <td>0.078853</td>\n",
       "      <td>-0.957636</td>\n",
       "      <td>0.747293</td>\n",
       "      <td>1.000402</td>\n",
       "      <td>Three</td>\n",
       "    </tr>\n",
       "  </tbody>\n",
       "</table>\n",
       "</div>"
      ],
      "text/plain": [
       "                   A         B         C         D      E\n",
       "2021-09-21  0.520471 -0.165243 -1.444466 -1.737176    Two\n",
       "2021-09-17  0.078853 -0.957636  0.747293  1.000402  Three"
      ]
     },
     "execution_count": 48,
     "metadata": {},
     "output_type": "execute_result"
    }
   ],
   "source": [
    "df[df[\"E\"].isin([\"Two\", \"Three\"])]"
   ]
  },
  {
   "cell_type": "markdown",
   "id": "8fcd82f7",
   "metadata": {},
   "source": [
    "### 특정 컬럼 제거\n",
    "- del\n",
    "- drop"
   ]
  },
  {
   "cell_type": "code",
   "execution_count": 49,
   "id": "eb3e9ba4",
   "metadata": {},
   "outputs": [
    {
     "data": {
      "text/html": [
       "<div>\n",
       "<style scoped>\n",
       "    .dataframe tbody tr th:only-of-type {\n",
       "        vertical-align: middle;\n",
       "    }\n",
       "\n",
       "    .dataframe tbody tr th {\n",
       "        vertical-align: top;\n",
       "    }\n",
       "\n",
       "    .dataframe thead th {\n",
       "        text-align: right;\n",
       "    }\n",
       "</style>\n",
       "<table border=\"1\" class=\"dataframe\">\n",
       "  <thead>\n",
       "    <tr style=\"text-align: right;\">\n",
       "      <th></th>\n",
       "      <th>A</th>\n",
       "      <th>B</th>\n",
       "      <th>C</th>\n",
       "      <th>D</th>\n",
       "    </tr>\n",
       "  </thead>\n",
       "  <tbody>\n",
       "    <tr>\n",
       "      <th>2021-09-19</th>\n",
       "      <td>0.962220</td>\n",
       "      <td>0.085733</td>\n",
       "      <td>0.080327</td>\n",
       "      <td>-0.219735</td>\n",
       "    </tr>\n",
       "    <tr>\n",
       "      <th>2021-09-20</th>\n",
       "      <td>0.763137</td>\n",
       "      <td>-0.653459</td>\n",
       "      <td>1.294108</td>\n",
       "      <td>0.789314</td>\n",
       "    </tr>\n",
       "    <tr>\n",
       "      <th>2021-09-21</th>\n",
       "      <td>0.520471</td>\n",
       "      <td>-0.165243</td>\n",
       "      <td>-1.444466</td>\n",
       "      <td>-1.737176</td>\n",
       "    </tr>\n",
       "    <tr>\n",
       "      <th>2021-09-17</th>\n",
       "      <td>0.078853</td>\n",
       "      <td>-0.957636</td>\n",
       "      <td>0.747293</td>\n",
       "      <td>1.000402</td>\n",
       "    </tr>\n",
       "    <tr>\n",
       "      <th>2021-09-18</th>\n",
       "      <td>-0.351886</td>\n",
       "      <td>-0.943124</td>\n",
       "      <td>-0.069221</td>\n",
       "      <td>0.399985</td>\n",
       "    </tr>\n",
       "    <tr>\n",
       "      <th>2021-09-16</th>\n",
       "      <td>-1.388535</td>\n",
       "      <td>-1.440935</td>\n",
       "      <td>-0.691838</td>\n",
       "      <td>0.313617</td>\n",
       "    </tr>\n",
       "  </tbody>\n",
       "</table>\n",
       "</div>"
      ],
      "text/plain": [
       "                   A         B         C         D\n",
       "2021-09-19  0.962220  0.085733  0.080327 -0.219735\n",
       "2021-09-20  0.763137 -0.653459  1.294108  0.789314\n",
       "2021-09-21  0.520471 -0.165243 -1.444466 -1.737176\n",
       "2021-09-17  0.078853 -0.957636  0.747293  1.000402\n",
       "2021-09-18 -0.351886 -0.943124 -0.069221  0.399985\n",
       "2021-09-16 -1.388535 -1.440935 -0.691838  0.313617"
      ]
     },
     "execution_count": 49,
     "metadata": {},
     "output_type": "execute_result"
    }
   ],
   "source": [
    "del df[\"E\"]\n",
    "df"
   ]
  },
  {
   "cell_type": "code",
   "execution_count": 50,
   "id": "ae7b1b35",
   "metadata": {},
   "outputs": [
    {
     "data": {
      "text/html": [
       "<div>\n",
       "<style scoped>\n",
       "    .dataframe tbody tr th:only-of-type {\n",
       "        vertical-align: middle;\n",
       "    }\n",
       "\n",
       "    .dataframe tbody tr th {\n",
       "        vertical-align: top;\n",
       "    }\n",
       "\n",
       "    .dataframe thead th {\n",
       "        text-align: right;\n",
       "    }\n",
       "</style>\n",
       "<table border=\"1\" class=\"dataframe\">\n",
       "  <thead>\n",
       "    <tr style=\"text-align: right;\">\n",
       "      <th></th>\n",
       "      <th>A</th>\n",
       "      <th>B</th>\n",
       "      <th>C</th>\n",
       "    </tr>\n",
       "  </thead>\n",
       "  <tbody>\n",
       "    <tr>\n",
       "      <th>2021-09-19</th>\n",
       "      <td>0.962220</td>\n",
       "      <td>0.085733</td>\n",
       "      <td>0.080327</td>\n",
       "    </tr>\n",
       "    <tr>\n",
       "      <th>2021-09-20</th>\n",
       "      <td>0.763137</td>\n",
       "      <td>-0.653459</td>\n",
       "      <td>1.294108</td>\n",
       "    </tr>\n",
       "    <tr>\n",
       "      <th>2021-09-21</th>\n",
       "      <td>0.520471</td>\n",
       "      <td>-0.165243</td>\n",
       "      <td>-1.444466</td>\n",
       "    </tr>\n",
       "    <tr>\n",
       "      <th>2021-09-17</th>\n",
       "      <td>0.078853</td>\n",
       "      <td>-0.957636</td>\n",
       "      <td>0.747293</td>\n",
       "    </tr>\n",
       "    <tr>\n",
       "      <th>2021-09-18</th>\n",
       "      <td>-0.351886</td>\n",
       "      <td>-0.943124</td>\n",
       "      <td>-0.069221</td>\n",
       "    </tr>\n",
       "    <tr>\n",
       "      <th>2021-09-16</th>\n",
       "      <td>-1.388535</td>\n",
       "      <td>-1.440935</td>\n",
       "      <td>-0.691838</td>\n",
       "    </tr>\n",
       "  </tbody>\n",
       "</table>\n",
       "</div>"
      ],
      "text/plain": [
       "                   A         B         C\n",
       "2021-09-19  0.962220  0.085733  0.080327\n",
       "2021-09-20  0.763137 -0.653459  1.294108\n",
       "2021-09-21  0.520471 -0.165243 -1.444466\n",
       "2021-09-17  0.078853 -0.957636  0.747293\n",
       "2021-09-18 -0.351886 -0.943124 -0.069221\n",
       "2021-09-16 -1.388535 -1.440935 -0.691838"
      ]
     },
     "execution_count": 50,
     "metadata": {},
     "output_type": "execute_result"
    }
   ],
   "source": [
    "df.drop([\"D\"], axis=1)"
   ]
  },
  {
   "cell_type": "code",
   "execution_count": 51,
   "id": "e12e5044",
   "metadata": {},
   "outputs": [
    {
     "data": {
      "text/html": [
       "<div>\n",
       "<style scoped>\n",
       "    .dataframe tbody tr th:only-of-type {\n",
       "        vertical-align: middle;\n",
       "    }\n",
       "\n",
       "    .dataframe tbody tr th {\n",
       "        vertical-align: top;\n",
       "    }\n",
       "\n",
       "    .dataframe thead th {\n",
       "        text-align: right;\n",
       "    }\n",
       "</style>\n",
       "<table border=\"1\" class=\"dataframe\">\n",
       "  <thead>\n",
       "    <tr style=\"text-align: right;\">\n",
       "      <th></th>\n",
       "      <th>A</th>\n",
       "      <th>B</th>\n",
       "      <th>C</th>\n",
       "    </tr>\n",
       "  </thead>\n",
       "  <tbody>\n",
       "    <tr>\n",
       "      <th>2021-09-19</th>\n",
       "      <td>0.962220</td>\n",
       "      <td>0.085733</td>\n",
       "      <td>0.080327</td>\n",
       "    </tr>\n",
       "    <tr>\n",
       "      <th>2021-09-20</th>\n",
       "      <td>0.763137</td>\n",
       "      <td>-0.653459</td>\n",
       "      <td>1.294108</td>\n",
       "    </tr>\n",
       "    <tr>\n",
       "      <th>2021-09-21</th>\n",
       "      <td>0.520471</td>\n",
       "      <td>-0.165243</td>\n",
       "      <td>-1.444466</td>\n",
       "    </tr>\n",
       "    <tr>\n",
       "      <th>2021-09-17</th>\n",
       "      <td>0.078853</td>\n",
       "      <td>-0.957636</td>\n",
       "      <td>0.747293</td>\n",
       "    </tr>\n",
       "    <tr>\n",
       "      <th>2021-09-18</th>\n",
       "      <td>-0.351886</td>\n",
       "      <td>-0.943124</td>\n",
       "      <td>-0.069221</td>\n",
       "    </tr>\n",
       "    <tr>\n",
       "      <th>2021-09-16</th>\n",
       "      <td>-1.388535</td>\n",
       "      <td>-1.440935</td>\n",
       "      <td>-0.691838</td>\n",
       "    </tr>\n",
       "  </tbody>\n",
       "</table>\n",
       "</div>"
      ],
      "text/plain": [
       "                   A         B         C\n",
       "2021-09-19  0.962220  0.085733  0.080327\n",
       "2021-09-20  0.763137 -0.653459  1.294108\n",
       "2021-09-21  0.520471 -0.165243 -1.444466\n",
       "2021-09-17  0.078853 -0.957636  0.747293\n",
       "2021-09-18 -0.351886 -0.943124 -0.069221\n",
       "2021-09-16 -1.388535 -1.440935 -0.691838"
      ]
     },
     "execution_count": 51,
     "metadata": {},
     "output_type": "execute_result"
    }
   ],
   "source": [
    "df.drop(columns=[\"D\"])"
   ]
  },
  {
   "cell_type": "markdown",
   "id": "1f07e677",
   "metadata": {},
   "source": [
    "### apply()"
   ]
  },
  {
   "cell_type": "code",
   "execution_count": 52,
   "id": "44410c95",
   "metadata": {},
   "outputs": [
    {
     "data": {
      "text/html": [
       "<div>\n",
       "<style scoped>\n",
       "    .dataframe tbody tr th:only-of-type {\n",
       "        vertical-align: middle;\n",
       "    }\n",
       "\n",
       "    .dataframe tbody tr th {\n",
       "        vertical-align: top;\n",
       "    }\n",
       "\n",
       "    .dataframe thead th {\n",
       "        text-align: right;\n",
       "    }\n",
       "</style>\n",
       "<table border=\"1\" class=\"dataframe\">\n",
       "  <thead>\n",
       "    <tr style=\"text-align: right;\">\n",
       "      <th></th>\n",
       "      <th>A</th>\n",
       "      <th>B</th>\n",
       "      <th>C</th>\n",
       "      <th>D</th>\n",
       "    </tr>\n",
       "  </thead>\n",
       "  <tbody>\n",
       "    <tr>\n",
       "      <th>2021-09-19</th>\n",
       "      <td>0.962220</td>\n",
       "      <td>0.085733</td>\n",
       "      <td>0.080327</td>\n",
       "      <td>-0.219735</td>\n",
       "    </tr>\n",
       "    <tr>\n",
       "      <th>2021-09-20</th>\n",
       "      <td>0.763137</td>\n",
       "      <td>-0.653459</td>\n",
       "      <td>1.294108</td>\n",
       "      <td>0.789314</td>\n",
       "    </tr>\n",
       "    <tr>\n",
       "      <th>2021-09-21</th>\n",
       "      <td>0.520471</td>\n",
       "      <td>-0.165243</td>\n",
       "      <td>-1.444466</td>\n",
       "      <td>-1.737176</td>\n",
       "    </tr>\n",
       "    <tr>\n",
       "      <th>2021-09-17</th>\n",
       "      <td>0.078853</td>\n",
       "      <td>-0.957636</td>\n",
       "      <td>0.747293</td>\n",
       "      <td>1.000402</td>\n",
       "    </tr>\n",
       "    <tr>\n",
       "      <th>2021-09-18</th>\n",
       "      <td>-0.351886</td>\n",
       "      <td>-0.943124</td>\n",
       "      <td>-0.069221</td>\n",
       "      <td>0.399985</td>\n",
       "    </tr>\n",
       "    <tr>\n",
       "      <th>2021-09-16</th>\n",
       "      <td>-1.388535</td>\n",
       "      <td>-1.440935</td>\n",
       "      <td>-0.691838</td>\n",
       "      <td>0.313617</td>\n",
       "    </tr>\n",
       "  </tbody>\n",
       "</table>\n",
       "</div>"
      ],
      "text/plain": [
       "                   A         B         C         D\n",
       "2021-09-19  0.962220  0.085733  0.080327 -0.219735\n",
       "2021-09-20  0.763137 -0.653459  1.294108  0.789314\n",
       "2021-09-21  0.520471 -0.165243 -1.444466 -1.737176\n",
       "2021-09-17  0.078853 -0.957636  0.747293  1.000402\n",
       "2021-09-18 -0.351886 -0.943124 -0.069221  0.399985\n",
       "2021-09-16 -1.388535 -1.440935 -0.691838  0.313617"
      ]
     },
     "execution_count": 52,
     "metadata": {},
     "output_type": "execute_result"
    }
   ],
   "source": [
    "df"
   ]
  },
  {
   "cell_type": "code",
   "execution_count": 53,
   "id": "d7861e5c",
   "metadata": {},
   "outputs": [
    {
     "data": {
      "text/plain": [
       "0.5842595958729602"
      ]
     },
     "execution_count": 53,
     "metadata": {},
     "output_type": "execute_result"
    }
   ],
   "source": [
    "df[\"A\"].apply(\"sum\")"
   ]
  },
  {
   "cell_type": "code",
   "execution_count": 54,
   "id": "bc326b5e",
   "metadata": {},
   "outputs": [
    {
     "data": {
      "text/plain": [
       "0.09737659931216003"
      ]
     },
     "execution_count": 54,
     "metadata": {},
     "output_type": "execute_result"
    }
   ],
   "source": [
    "df[\"A\"].apply(\"mean\")"
   ]
  },
  {
   "cell_type": "code",
   "execution_count": 55,
   "id": "f9cc6537",
   "metadata": {},
   "outputs": [
    {
     "data": {
      "text/plain": [
       "0.9622196850899212"
      ]
     },
     "execution_count": 55,
     "metadata": {},
     "output_type": "execute_result"
    }
   ],
   "source": [
    "df[\"A\"].apply(\"max\")"
   ]
  },
  {
   "cell_type": "code",
   "execution_count": 56,
   "id": "a7b5f2ab",
   "metadata": {},
   "outputs": [
    {
     "data": {
      "text/plain": [
       "-1.3885349839517418"
      ]
     },
     "execution_count": 56,
     "metadata": {},
     "output_type": "execute_result"
    }
   ],
   "source": [
    "df[\"A\"].apply(\"min\")"
   ]
  },
  {
   "cell_type": "code",
   "execution_count": 57,
   "id": "90255268",
   "metadata": {},
   "outputs": [
    {
     "data": {
      "text/plain": [
       "A    0.584260\n",
       "B   -4.074663\n",
       "dtype: float64"
      ]
     },
     "execution_count": 57,
     "metadata": {},
     "output_type": "execute_result"
    }
   ],
   "source": [
    "df[[\"A\", \"B\"]].apply(\"sum\")"
   ]
  },
  {
   "cell_type": "code",
   "execution_count": 58,
   "id": "e6e3160a",
   "metadata": {},
   "outputs": [
    {
     "data": {
      "text/plain": [
       "2021-09-19    0.962220\n",
       "2021-09-20    0.763137\n",
       "2021-09-21    0.520471\n",
       "2021-09-17    0.078853\n",
       "2021-09-18   -0.351886\n",
       "2021-09-16   -1.388535\n",
       "Name: A, dtype: float64"
      ]
     },
     "execution_count": 58,
     "metadata": {},
     "output_type": "execute_result"
    }
   ],
   "source": [
    "df[\"A\"].apply(np.sum)"
   ]
  },
  {
   "cell_type": "code",
   "execution_count": 59,
   "id": "c67ace8b",
   "metadata": {},
   "outputs": [
    {
     "data": {
      "text/plain": [
       "A    0.097377\n",
       "B   -0.679111\n",
       "C   -0.013966\n",
       "D    0.091068\n",
       "dtype: float64"
      ]
     },
     "execution_count": 59,
     "metadata": {},
     "output_type": "execute_result"
    }
   ],
   "source": [
    "df.apply(np.mean)"
   ]
  },
  {
   "cell_type": "code",
   "execution_count": 60,
   "id": "7be58168",
   "metadata": {},
   "outputs": [
    {
     "data": {
      "text/plain": [
       "2021-09-19     plus\n",
       "2021-09-20     plus\n",
       "2021-09-21     plus\n",
       "2021-09-17     plus\n",
       "2021-09-18    minus\n",
       "2021-09-16    minus\n",
       "Name: A, dtype: object"
      ]
     },
     "execution_count": 60,
     "metadata": {},
     "output_type": "execute_result"
    }
   ],
   "source": [
    "def plus_minus(num):\n",
    "    return \"plus\" if num > 0 else \"minus\"\n",
    "\n",
    "df[\"A\"].apply(plus_minus)"
   ]
  },
  {
   "cell_type": "code",
   "execution_count": 61,
   "id": "f1bad107",
   "metadata": {},
   "outputs": [
    {
     "data": {
      "text/plain": [
       "2021-09-19    minus\n",
       "2021-09-20    minus\n",
       "2021-09-21    minus\n",
       "2021-09-17    minus\n",
       "2021-09-18     plus\n",
       "2021-09-16     plus\n",
       "Name: A, dtype: object"
      ]
     },
     "execution_count": 61,
     "metadata": {},
     "output_type": "execute_result"
    }
   ],
   "source": [
    "df[\"A\"].apply(lambda num : \"plus\" if num < 0 else \"minus\")"
   ]
  },
  {
   "cell_type": "markdown",
   "id": "e800a5e8",
   "metadata": {},
   "source": [
    "---"
   ]
  },
  {
   "cell_type": "markdown",
   "id": "a14dd363",
   "metadata": {},
   "source": [
    "## 2. CCTV 데이터 훑어보기"
   ]
  },
  {
   "cell_type": "code",
   "execution_count": 62,
   "id": "769c3030",
   "metadata": {},
   "outputs": [
    {
     "data": {
      "text/html": [
       "<div>\n",
       "<style scoped>\n",
       "    .dataframe tbody tr th:only-of-type {\n",
       "        vertical-align: middle;\n",
       "    }\n",
       "\n",
       "    .dataframe tbody tr th {\n",
       "        vertical-align: top;\n",
       "    }\n",
       "\n",
       "    .dataframe thead th {\n",
       "        text-align: right;\n",
       "    }\n",
       "</style>\n",
       "<table border=\"1\" class=\"dataframe\">\n",
       "  <thead>\n",
       "    <tr style=\"text-align: right;\">\n",
       "      <th></th>\n",
       "      <th>구별</th>\n",
       "      <th>소계</th>\n",
       "      <th>2013년도 이전</th>\n",
       "      <th>2014년</th>\n",
       "      <th>2015년</th>\n",
       "      <th>2016년</th>\n",
       "    </tr>\n",
       "  </thead>\n",
       "  <tbody>\n",
       "    <tr>\n",
       "      <th>0</th>\n",
       "      <td>강남구</td>\n",
       "      <td>3238</td>\n",
       "      <td>1292</td>\n",
       "      <td>430</td>\n",
       "      <td>584</td>\n",
       "      <td>932</td>\n",
       "    </tr>\n",
       "    <tr>\n",
       "      <th>1</th>\n",
       "      <td>강동구</td>\n",
       "      <td>1010</td>\n",
       "      <td>379</td>\n",
       "      <td>99</td>\n",
       "      <td>155</td>\n",
       "      <td>377</td>\n",
       "    </tr>\n",
       "    <tr>\n",
       "      <th>2</th>\n",
       "      <td>강북구</td>\n",
       "      <td>831</td>\n",
       "      <td>369</td>\n",
       "      <td>120</td>\n",
       "      <td>138</td>\n",
       "      <td>204</td>\n",
       "    </tr>\n",
       "  </tbody>\n",
       "</table>\n",
       "</div>"
      ],
      "text/plain": [
       "    구별    소계  2013년도 이전  2014년  2015년  2016년\n",
       "0  강남구  3238       1292    430    584    932\n",
       "1  강동구  1010        379     99    155    377\n",
       "2  강북구   831        369    120    138    204"
      ]
     },
     "execution_count": 62,
     "metadata": {},
     "output_type": "execute_result"
    }
   ],
   "source": [
    "cctv_seoul.head(3)"
   ]
  },
  {
   "cell_type": "code",
   "execution_count": 63,
   "id": "acbbc54f",
   "metadata": {},
   "outputs": [
    {
     "data": {
      "text/html": [
       "<div>\n",
       "<style scoped>\n",
       "    .dataframe tbody tr th:only-of-type {\n",
       "        vertical-align: middle;\n",
       "    }\n",
       "\n",
       "    .dataframe tbody tr th {\n",
       "        vertical-align: top;\n",
       "    }\n",
       "\n",
       "    .dataframe thead th {\n",
       "        text-align: right;\n",
       "    }\n",
       "</style>\n",
       "<table border=\"1\" class=\"dataframe\">\n",
       "  <thead>\n",
       "    <tr style=\"text-align: right;\">\n",
       "      <th></th>\n",
       "      <th>구별</th>\n",
       "      <th>소계</th>\n",
       "      <th>2013년도 이전</th>\n",
       "      <th>2014년</th>\n",
       "      <th>2015년</th>\n",
       "      <th>2016년</th>\n",
       "    </tr>\n",
       "  </thead>\n",
       "  <tbody>\n",
       "    <tr>\n",
       "      <th>22</th>\n",
       "      <td>종로구</td>\n",
       "      <td>1619</td>\n",
       "      <td>464</td>\n",
       "      <td>314</td>\n",
       "      <td>211</td>\n",
       "      <td>630</td>\n",
       "    </tr>\n",
       "    <tr>\n",
       "      <th>23</th>\n",
       "      <td>중구</td>\n",
       "      <td>1023</td>\n",
       "      <td>413</td>\n",
       "      <td>190</td>\n",
       "      <td>72</td>\n",
       "      <td>348</td>\n",
       "    </tr>\n",
       "    <tr>\n",
       "      <th>24</th>\n",
       "      <td>중랑구</td>\n",
       "      <td>916</td>\n",
       "      <td>509</td>\n",
       "      <td>121</td>\n",
       "      <td>177</td>\n",
       "      <td>109</td>\n",
       "    </tr>\n",
       "  </tbody>\n",
       "</table>\n",
       "</div>"
      ],
      "text/plain": [
       "     구별    소계  2013년도 이전  2014년  2015년  2016년\n",
       "22  종로구  1619        464    314    211    630\n",
       "23   중구  1023        413    190     72    348\n",
       "24  중랑구   916        509    121    177    109"
      ]
     },
     "execution_count": 63,
     "metadata": {},
     "output_type": "execute_result"
    }
   ],
   "source": [
    "cctv_seoul.tail(3)"
   ]
  },
  {
   "cell_type": "code",
   "execution_count": 64,
   "id": "19775f91",
   "metadata": {},
   "outputs": [
    {
     "data": {
      "text/html": [
       "<div>\n",
       "<style scoped>\n",
       "    .dataframe tbody tr th:only-of-type {\n",
       "        vertical-align: middle;\n",
       "    }\n",
       "\n",
       "    .dataframe tbody tr th {\n",
       "        vertical-align: top;\n",
       "    }\n",
       "\n",
       "    .dataframe thead th {\n",
       "        text-align: right;\n",
       "    }\n",
       "</style>\n",
       "<table border=\"1\" class=\"dataframe\">\n",
       "  <thead>\n",
       "    <tr style=\"text-align: right;\">\n",
       "      <th></th>\n",
       "      <th>구별</th>\n",
       "      <th>소계</th>\n",
       "      <th>2013년도 이전</th>\n",
       "      <th>2014년</th>\n",
       "      <th>2015년</th>\n",
       "      <th>2016년</th>\n",
       "    </tr>\n",
       "  </thead>\n",
       "  <tbody>\n",
       "    <tr>\n",
       "      <th>9</th>\n",
       "      <td>도봉구</td>\n",
       "      <td>825</td>\n",
       "      <td>238</td>\n",
       "      <td>159</td>\n",
       "      <td>42</td>\n",
       "      <td>386</td>\n",
       "    </tr>\n",
       "    <tr>\n",
       "      <th>2</th>\n",
       "      <td>강북구</td>\n",
       "      <td>831</td>\n",
       "      <td>369</td>\n",
       "      <td>120</td>\n",
       "      <td>138</td>\n",
       "      <td>204</td>\n",
       "    </tr>\n",
       "    <tr>\n",
       "      <th>5</th>\n",
       "      <td>광진구</td>\n",
       "      <td>878</td>\n",
       "      <td>573</td>\n",
       "      <td>78</td>\n",
       "      <td>53</td>\n",
       "      <td>174</td>\n",
       "    </tr>\n",
       "    <tr>\n",
       "      <th>3</th>\n",
       "      <td>강서구</td>\n",
       "      <td>911</td>\n",
       "      <td>388</td>\n",
       "      <td>258</td>\n",
       "      <td>184</td>\n",
       "      <td>81</td>\n",
       "    </tr>\n",
       "    <tr>\n",
       "      <th>24</th>\n",
       "      <td>중랑구</td>\n",
       "      <td>916</td>\n",
       "      <td>509</td>\n",
       "      <td>121</td>\n",
       "      <td>177</td>\n",
       "      <td>109</td>\n",
       "    </tr>\n",
       "  </tbody>\n",
       "</table>\n",
       "</div>"
      ],
      "text/plain": [
       "     구별   소계  2013년도 이전  2014년  2015년  2016년\n",
       "9   도봉구  825        238    159     42    386\n",
       "2   강북구  831        369    120    138    204\n",
       "5   광진구  878        573     78     53    174\n",
       "3   강서구  911        388    258    184     81\n",
       "24  중랑구  916        509    121    177    109"
      ]
     },
     "execution_count": 64,
     "metadata": {},
     "output_type": "execute_result"
    }
   ],
   "source": [
    "cctv_seoul.sort_values(by=\"소계\", ascending=True).head(5)"
   ]
  },
  {
   "cell_type": "code",
   "execution_count": 65,
   "id": "2b83679a",
   "metadata": {},
   "outputs": [
    {
     "data": {
      "text/html": [
       "<div>\n",
       "<style scoped>\n",
       "    .dataframe tbody tr th:only-of-type {\n",
       "        vertical-align: middle;\n",
       "    }\n",
       "\n",
       "    .dataframe tbody tr th {\n",
       "        vertical-align: top;\n",
       "    }\n",
       "\n",
       "    .dataframe thead th {\n",
       "        text-align: right;\n",
       "    }\n",
       "</style>\n",
       "<table border=\"1\" class=\"dataframe\">\n",
       "  <thead>\n",
       "    <tr style=\"text-align: right;\">\n",
       "      <th></th>\n",
       "      <th>구별</th>\n",
       "      <th>소계</th>\n",
       "      <th>2013년도 이전</th>\n",
       "      <th>2014년</th>\n",
       "      <th>2015년</th>\n",
       "      <th>2016년</th>\n",
       "    </tr>\n",
       "  </thead>\n",
       "  <tbody>\n",
       "    <tr>\n",
       "      <th>0</th>\n",
       "      <td>강남구</td>\n",
       "      <td>3238</td>\n",
       "      <td>1292</td>\n",
       "      <td>430</td>\n",
       "      <td>584</td>\n",
       "      <td>932</td>\n",
       "    </tr>\n",
       "    <tr>\n",
       "      <th>18</th>\n",
       "      <td>양천구</td>\n",
       "      <td>2482</td>\n",
       "      <td>1843</td>\n",
       "      <td>142</td>\n",
       "      <td>30</td>\n",
       "      <td>467</td>\n",
       "    </tr>\n",
       "    <tr>\n",
       "      <th>14</th>\n",
       "      <td>서초구</td>\n",
       "      <td>2297</td>\n",
       "      <td>1406</td>\n",
       "      <td>157</td>\n",
       "      <td>336</td>\n",
       "      <td>398</td>\n",
       "    </tr>\n",
       "    <tr>\n",
       "      <th>4</th>\n",
       "      <td>관악구</td>\n",
       "      <td>2109</td>\n",
       "      <td>846</td>\n",
       "      <td>260</td>\n",
       "      <td>390</td>\n",
       "      <td>613</td>\n",
       "    </tr>\n",
       "    <tr>\n",
       "      <th>21</th>\n",
       "      <td>은평구</td>\n",
       "      <td>2108</td>\n",
       "      <td>1138</td>\n",
       "      <td>224</td>\n",
       "      <td>278</td>\n",
       "      <td>468</td>\n",
       "    </tr>\n",
       "  </tbody>\n",
       "</table>\n",
       "</div>"
      ],
      "text/plain": [
       "     구별    소계  2013년도 이전  2014년  2015년  2016년\n",
       "0   강남구  3238       1292    430    584    932\n",
       "18  양천구  2482       1843    142     30    467\n",
       "14  서초구  2297       1406    157    336    398\n",
       "4   관악구  2109        846    260    390    613\n",
       "21  은평구  2108       1138    224    278    468"
      ]
     },
     "execution_count": 65,
     "metadata": {},
     "output_type": "execute_result"
    }
   ],
   "source": [
    "cctv_seoul.sort_values(by=\"소계\", ascending=False).head(5)"
   ]
  },
  {
   "cell_type": "code",
   "execution_count": 66,
   "id": "559cd0e3",
   "metadata": {},
   "outputs": [
    {
     "data": {
      "text/html": [
       "<div>\n",
       "<style scoped>\n",
       "    .dataframe tbody tr th:only-of-type {\n",
       "        vertical-align: middle;\n",
       "    }\n",
       "\n",
       "    .dataframe tbody tr th {\n",
       "        vertical-align: top;\n",
       "    }\n",
       "\n",
       "    .dataframe thead th {\n",
       "        text-align: right;\n",
       "    }\n",
       "</style>\n",
       "<table border=\"1\" class=\"dataframe\">\n",
       "  <thead>\n",
       "    <tr style=\"text-align: right;\">\n",
       "      <th></th>\n",
       "      <th>구별</th>\n",
       "      <th>소계</th>\n",
       "      <th>2013년도 이전</th>\n",
       "      <th>2014년</th>\n",
       "      <th>2015년</th>\n",
       "      <th>2016년</th>\n",
       "      <th>최근증가율</th>\n",
       "    </tr>\n",
       "  </thead>\n",
       "  <tbody>\n",
       "    <tr>\n",
       "      <th>22</th>\n",
       "      <td>종로구</td>\n",
       "      <td>1619</td>\n",
       "      <td>464</td>\n",
       "      <td>314</td>\n",
       "      <td>211</td>\n",
       "      <td>630</td>\n",
       "      <td>248.922414</td>\n",
       "    </tr>\n",
       "    <tr>\n",
       "      <th>9</th>\n",
       "      <td>도봉구</td>\n",
       "      <td>825</td>\n",
       "      <td>238</td>\n",
       "      <td>159</td>\n",
       "      <td>42</td>\n",
       "      <td>386</td>\n",
       "      <td>246.638655</td>\n",
       "    </tr>\n",
       "    <tr>\n",
       "      <th>12</th>\n",
       "      <td>마포구</td>\n",
       "      <td>980</td>\n",
       "      <td>314</td>\n",
       "      <td>118</td>\n",
       "      <td>169</td>\n",
       "      <td>379</td>\n",
       "      <td>212.101911</td>\n",
       "    </tr>\n",
       "    <tr>\n",
       "      <th>8</th>\n",
       "      <td>노원구</td>\n",
       "      <td>1566</td>\n",
       "      <td>542</td>\n",
       "      <td>57</td>\n",
       "      <td>451</td>\n",
       "      <td>516</td>\n",
       "      <td>188.929889</td>\n",
       "    </tr>\n",
       "    <tr>\n",
       "      <th>1</th>\n",
       "      <td>강동구</td>\n",
       "      <td>1010</td>\n",
       "      <td>379</td>\n",
       "      <td>99</td>\n",
       "      <td>155</td>\n",
       "      <td>377</td>\n",
       "      <td>166.490765</td>\n",
       "    </tr>\n",
       "  </tbody>\n",
       "</table>\n",
       "</div>"
      ],
      "text/plain": [
       "     구별    소계  2013년도 이전  2014년  2015년  2016년       최근증가율\n",
       "22  종로구  1619        464    314    211    630  248.922414\n",
       "9   도봉구   825        238    159     42    386  246.638655\n",
       "12  마포구   980        314    118    169    379  212.101911\n",
       "8   노원구  1566        542     57    451    516  188.929889\n",
       "1   강동구  1010        379     99    155    377  166.490765"
      ]
     },
     "execution_count": 66,
     "metadata": {},
     "output_type": "execute_result"
    }
   ],
   "source": [
    "cctv_seoul[\"최근증가율\"] = (\n",
    "    (cctv_seoul[\"2016년\"] + cctv_seoul[\"2015년\"] + cctv_seoul[\"2014년\"])  / cctv_seoul[\"2013년도 이전\"] * 100\n",
    ")\n",
    "cctv_seoul.sort_values(by=\"최근증가율\", ascending=False).head(5)"
   ]
  },
  {
   "cell_type": "markdown",
   "id": "c6abc878",
   "metadata": {},
   "source": [
    "## 3. 인구데이터 훑어보기"
   ]
  },
  {
   "cell_type": "code",
   "execution_count": 67,
   "id": "1928cc03",
   "metadata": {},
   "outputs": [
    {
     "data": {
      "text/html": [
       "<div>\n",
       "<style scoped>\n",
       "    .dataframe tbody tr th:only-of-type {\n",
       "        vertical-align: middle;\n",
       "    }\n",
       "\n",
       "    .dataframe tbody tr th {\n",
       "        vertical-align: top;\n",
       "    }\n",
       "\n",
       "    .dataframe thead th {\n",
       "        text-align: right;\n",
       "    }\n",
       "</style>\n",
       "<table border=\"1\" class=\"dataframe\">\n",
       "  <thead>\n",
       "    <tr style=\"text-align: right;\">\n",
       "      <th></th>\n",
       "      <th>구별</th>\n",
       "      <th>인구수</th>\n",
       "      <th>한국인</th>\n",
       "      <th>외국인</th>\n",
       "      <th>고령자</th>\n",
       "    </tr>\n",
       "  </thead>\n",
       "  <tbody>\n",
       "    <tr>\n",
       "      <th>0</th>\n",
       "      <td>합계</td>\n",
       "      <td>10124579</td>\n",
       "      <td>9857426</td>\n",
       "      <td>267153</td>\n",
       "      <td>1365126</td>\n",
       "    </tr>\n",
       "    <tr>\n",
       "      <th>1</th>\n",
       "      <td>종로구</td>\n",
       "      <td>164257</td>\n",
       "      <td>154770</td>\n",
       "      <td>9487</td>\n",
       "      <td>26182</td>\n",
       "    </tr>\n",
       "    <tr>\n",
       "      <th>2</th>\n",
       "      <td>중구</td>\n",
       "      <td>134593</td>\n",
       "      <td>125709</td>\n",
       "      <td>8884</td>\n",
       "      <td>21384</td>\n",
       "    </tr>\n",
       "  </tbody>\n",
       "</table>\n",
       "</div>"
      ],
      "text/plain": [
       "    구별       인구수      한국인     외국인      고령자\n",
       "0   합계  10124579  9857426  267153  1365126\n",
       "1  종로구    164257   154770    9487    26182\n",
       "2   중구    134593   125709    8884    21384"
      ]
     },
     "execution_count": 67,
     "metadata": {},
     "output_type": "execute_result"
    }
   ],
   "source": [
    "pop_seoul.head(3)"
   ]
  },
  {
   "cell_type": "code",
   "execution_count": 68,
   "id": "37c1cbf4",
   "metadata": {},
   "outputs": [
    {
     "data": {
      "text/html": [
       "<div>\n",
       "<style scoped>\n",
       "    .dataframe tbody tr th:only-of-type {\n",
       "        vertical-align: middle;\n",
       "    }\n",
       "\n",
       "    .dataframe tbody tr th {\n",
       "        vertical-align: top;\n",
       "    }\n",
       "\n",
       "    .dataframe thead th {\n",
       "        text-align: right;\n",
       "    }\n",
       "</style>\n",
       "<table border=\"1\" class=\"dataframe\">\n",
       "  <thead>\n",
       "    <tr style=\"text-align: right;\">\n",
       "      <th></th>\n",
       "      <th>구별</th>\n",
       "      <th>인구수</th>\n",
       "      <th>한국인</th>\n",
       "      <th>외국인</th>\n",
       "      <th>고령자</th>\n",
       "    </tr>\n",
       "  </thead>\n",
       "  <tbody>\n",
       "    <tr>\n",
       "      <th>23</th>\n",
       "      <td>강남구</td>\n",
       "      <td>561052</td>\n",
       "      <td>556164</td>\n",
       "      <td>4888</td>\n",
       "      <td>65060</td>\n",
       "    </tr>\n",
       "    <tr>\n",
       "      <th>24</th>\n",
       "      <td>송파구</td>\n",
       "      <td>671173</td>\n",
       "      <td>664496</td>\n",
       "      <td>6677</td>\n",
       "      <td>76582</td>\n",
       "    </tr>\n",
       "    <tr>\n",
       "      <th>25</th>\n",
       "      <td>강동구</td>\n",
       "      <td>440359</td>\n",
       "      <td>436223</td>\n",
       "      <td>4136</td>\n",
       "      <td>56161</td>\n",
       "    </tr>\n",
       "  </tbody>\n",
       "</table>\n",
       "</div>"
      ],
      "text/plain": [
       "     구별     인구수     한국인   외국인    고령자\n",
       "23  강남구  561052  556164  4888  65060\n",
       "24  송파구  671173  664496  6677  76582\n",
       "25  강동구  440359  436223  4136  56161"
      ]
     },
     "execution_count": 68,
     "metadata": {},
     "output_type": "execute_result"
    }
   ],
   "source": [
    "pop_seoul.tail(3)"
   ]
  },
  {
   "cell_type": "code",
   "execution_count": 69,
   "id": "1b69ec22",
   "metadata": {},
   "outputs": [],
   "source": [
    "pop_seoul.drop(index=0, inplace=True)"
   ]
  },
  {
   "cell_type": "code",
   "execution_count": 70,
   "id": "ca5afa63",
   "metadata": {},
   "outputs": [
    {
     "data": {
      "text/html": [
       "<div>\n",
       "<style scoped>\n",
       "    .dataframe tbody tr th:only-of-type {\n",
       "        vertical-align: middle;\n",
       "    }\n",
       "\n",
       "    .dataframe tbody tr th {\n",
       "        vertical-align: top;\n",
       "    }\n",
       "\n",
       "    .dataframe thead th {\n",
       "        text-align: right;\n",
       "    }\n",
       "</style>\n",
       "<table border=\"1\" class=\"dataframe\">\n",
       "  <thead>\n",
       "    <tr style=\"text-align: right;\">\n",
       "      <th></th>\n",
       "      <th>구별</th>\n",
       "      <th>인구수</th>\n",
       "      <th>한국인</th>\n",
       "      <th>외국인</th>\n",
       "      <th>고령자</th>\n",
       "    </tr>\n",
       "  </thead>\n",
       "  <tbody>\n",
       "    <tr>\n",
       "      <th>23</th>\n",
       "      <td>강남구</td>\n",
       "      <td>561052</td>\n",
       "      <td>556164</td>\n",
       "      <td>4888</td>\n",
       "      <td>65060</td>\n",
       "    </tr>\n",
       "    <tr>\n",
       "      <th>24</th>\n",
       "      <td>송파구</td>\n",
       "      <td>671173</td>\n",
       "      <td>664496</td>\n",
       "      <td>6677</td>\n",
       "      <td>76582</td>\n",
       "    </tr>\n",
       "    <tr>\n",
       "      <th>25</th>\n",
       "      <td>강동구</td>\n",
       "      <td>440359</td>\n",
       "      <td>436223</td>\n",
       "      <td>4136</td>\n",
       "      <td>56161</td>\n",
       "    </tr>\n",
       "  </tbody>\n",
       "</table>\n",
       "</div>"
      ],
      "text/plain": [
       "     구별     인구수     한국인   외국인    고령자\n",
       "23  강남구  561052  556164  4888  65060\n",
       "24  송파구  671173  664496  6677  76582\n",
       "25  강동구  440359  436223  4136  56161"
      ]
     },
     "execution_count": 70,
     "metadata": {},
     "output_type": "execute_result"
    }
   ],
   "source": [
    "pop_seoul.tail(3)"
   ]
  },
  {
   "cell_type": "code",
   "execution_count": 71,
   "id": "08f14011",
   "metadata": {},
   "outputs": [
    {
     "data": {
      "text/plain": [
       "array(['종로구', '중구', '용산구', '성동구', '광진구', '동대문구', '중랑구', '성북구', '강북구',\n",
       "       '도봉구', '노원구', '은평구', '서대문구', '마포구', '양천구', '강서구', '구로구', '금천구',\n",
       "       '영등포구', '동작구', '관악구', '서초구', '강남구', '송파구', '강동구'], dtype=object)"
      ]
     },
     "execution_count": 71,
     "metadata": {},
     "output_type": "execute_result"
    }
   ],
   "source": [
    "pop_seoul[\"구별\"].unique()"
   ]
  },
  {
   "cell_type": "code",
   "execution_count": 72,
   "id": "24c2617b",
   "metadata": {},
   "outputs": [
    {
     "data": {
      "text/plain": [
       "25"
      ]
     },
     "execution_count": 72,
     "metadata": {},
     "output_type": "execute_result"
    }
   ],
   "source": [
    "len(pop_seoul[\"구별\"].unique())"
   ]
  },
  {
   "cell_type": "code",
   "execution_count": 73,
   "id": "cf822827",
   "metadata": {},
   "outputs": [],
   "source": [
    "# 외국인 비율, 고령자 비율\n",
    "pop_seoul[\"외국인비율\"] = pop_seoul[\"외국인\"] / pop_seoul[\"인구수\"] * 100\n",
    "pop_seoul[\"고령자비율\"] = pop_seoul[\"고령자\"] / pop_seoul[\"인구수\"] * 100"
   ]
  },
  {
   "cell_type": "code",
   "execution_count": 74,
   "id": "c0e28805",
   "metadata": {},
   "outputs": [
    {
     "data": {
      "text/html": [
       "<div>\n",
       "<style scoped>\n",
       "    .dataframe tbody tr th:only-of-type {\n",
       "        vertical-align: middle;\n",
       "    }\n",
       "\n",
       "    .dataframe tbody tr th {\n",
       "        vertical-align: top;\n",
       "    }\n",
       "\n",
       "    .dataframe thead th {\n",
       "        text-align: right;\n",
       "    }\n",
       "</style>\n",
       "<table border=\"1\" class=\"dataframe\">\n",
       "  <thead>\n",
       "    <tr style=\"text-align: right;\">\n",
       "      <th></th>\n",
       "      <th>구별</th>\n",
       "      <th>인구수</th>\n",
       "      <th>한국인</th>\n",
       "      <th>외국인</th>\n",
       "      <th>고령자</th>\n",
       "      <th>외국인비율</th>\n",
       "      <th>고령자비율</th>\n",
       "    </tr>\n",
       "  </thead>\n",
       "  <tbody>\n",
       "    <tr>\n",
       "      <th>1</th>\n",
       "      <td>종로구</td>\n",
       "      <td>164257</td>\n",
       "      <td>154770</td>\n",
       "      <td>9487</td>\n",
       "      <td>26182</td>\n",
       "      <td>5.775705</td>\n",
       "      <td>15.939656</td>\n",
       "    </tr>\n",
       "    <tr>\n",
       "      <th>2</th>\n",
       "      <td>중구</td>\n",
       "      <td>134593</td>\n",
       "      <td>125709</td>\n",
       "      <td>8884</td>\n",
       "      <td>21384</td>\n",
       "      <td>6.600640</td>\n",
       "      <td>15.887899</td>\n",
       "    </tr>\n",
       "    <tr>\n",
       "      <th>3</th>\n",
       "      <td>용산구</td>\n",
       "      <td>244444</td>\n",
       "      <td>229161</td>\n",
       "      <td>15283</td>\n",
       "      <td>36882</td>\n",
       "      <td>6.252148</td>\n",
       "      <td>15.088118</td>\n",
       "    </tr>\n",
       "    <tr>\n",
       "      <th>4</th>\n",
       "      <td>성동구</td>\n",
       "      <td>312711</td>\n",
       "      <td>304808</td>\n",
       "      <td>7903</td>\n",
       "      <td>41273</td>\n",
       "      <td>2.527254</td>\n",
       "      <td>13.198448</td>\n",
       "    </tr>\n",
       "    <tr>\n",
       "      <th>5</th>\n",
       "      <td>광진구</td>\n",
       "      <td>372298</td>\n",
       "      <td>357703</td>\n",
       "      <td>14595</td>\n",
       "      <td>43953</td>\n",
       "      <td>3.920247</td>\n",
       "      <td>11.805865</td>\n",
       "    </tr>\n",
       "  </tbody>\n",
       "</table>\n",
       "</div>"
      ],
      "text/plain": [
       "    구별     인구수     한국인    외국인    고령자     외국인비율      고령자비율\n",
       "1  종로구  164257  154770   9487  26182  5.775705  15.939656\n",
       "2   중구  134593  125709   8884  21384  6.600640  15.887899\n",
       "3  용산구  244444  229161  15283  36882  6.252148  15.088118\n",
       "4  성동구  312711  304808   7903  41273  2.527254  13.198448\n",
       "5  광진구  372298  357703  14595  43953  3.920247  11.805865"
      ]
     },
     "execution_count": 74,
     "metadata": {},
     "output_type": "execute_result"
    }
   ],
   "source": [
    "pop_seoul.head()"
   ]
  },
  {
   "cell_type": "code",
   "execution_count": 75,
   "id": "8e3052a5",
   "metadata": {},
   "outputs": [
    {
     "data": {
      "text/html": [
       "<div>\n",
       "<style scoped>\n",
       "    .dataframe tbody tr th:only-of-type {\n",
       "        vertical-align: middle;\n",
       "    }\n",
       "\n",
       "    .dataframe tbody tr th {\n",
       "        vertical-align: top;\n",
       "    }\n",
       "\n",
       "    .dataframe thead th {\n",
       "        text-align: right;\n",
       "    }\n",
       "</style>\n",
       "<table border=\"1\" class=\"dataframe\">\n",
       "  <thead>\n",
       "    <tr style=\"text-align: right;\">\n",
       "      <th></th>\n",
       "      <th>구별</th>\n",
       "      <th>인구수</th>\n",
       "      <th>한국인</th>\n",
       "      <th>외국인</th>\n",
       "      <th>고령자</th>\n",
       "      <th>외국인비율</th>\n",
       "      <th>고령자비율</th>\n",
       "    </tr>\n",
       "  </thead>\n",
       "  <tbody>\n",
       "    <tr>\n",
       "      <th>24</th>\n",
       "      <td>송파구</td>\n",
       "      <td>671173</td>\n",
       "      <td>664496</td>\n",
       "      <td>6677</td>\n",
       "      <td>76582</td>\n",
       "      <td>0.994825</td>\n",
       "      <td>11.410173</td>\n",
       "    </tr>\n",
       "    <tr>\n",
       "      <th>16</th>\n",
       "      <td>강서구</td>\n",
       "      <td>608255</td>\n",
       "      <td>601691</td>\n",
       "      <td>6564</td>\n",
       "      <td>76032</td>\n",
       "      <td>1.079153</td>\n",
       "      <td>12.500021</td>\n",
       "    </tr>\n",
       "    <tr>\n",
       "      <th>23</th>\n",
       "      <td>강남구</td>\n",
       "      <td>561052</td>\n",
       "      <td>556164</td>\n",
       "      <td>4888</td>\n",
       "      <td>65060</td>\n",
       "      <td>0.871220</td>\n",
       "      <td>11.596073</td>\n",
       "    </tr>\n",
       "    <tr>\n",
       "      <th>11</th>\n",
       "      <td>노원구</td>\n",
       "      <td>558075</td>\n",
       "      <td>554403</td>\n",
       "      <td>3672</td>\n",
       "      <td>74243</td>\n",
       "      <td>0.657976</td>\n",
       "      <td>13.303409</td>\n",
       "    </tr>\n",
       "    <tr>\n",
       "      <th>21</th>\n",
       "      <td>관악구</td>\n",
       "      <td>520929</td>\n",
       "      <td>503297</td>\n",
       "      <td>17632</td>\n",
       "      <td>70046</td>\n",
       "      <td>3.384722</td>\n",
       "      <td>13.446362</td>\n",
       "    </tr>\n",
       "  </tbody>\n",
       "</table>\n",
       "</div>"
      ],
      "text/plain": [
       "     구별     인구수     한국인    외국인    고령자     외국인비율      고령자비율\n",
       "24  송파구  671173  664496   6677  76582  0.994825  11.410173\n",
       "16  강서구  608255  601691   6564  76032  1.079153  12.500021\n",
       "23  강남구  561052  556164   4888  65060  0.871220  11.596073\n",
       "11  노원구  558075  554403   3672  74243  0.657976  13.303409\n",
       "21  관악구  520929  503297  17632  70046  3.384722  13.446362"
      ]
     },
     "execution_count": 75,
     "metadata": {},
     "output_type": "execute_result"
    }
   ],
   "source": [
    "pop_seoul.sort_values(by=\"인구수\", ascending=False).head()"
   ]
  },
  {
   "cell_type": "code",
   "execution_count": 76,
   "id": "34912bec",
   "metadata": {},
   "outputs": [
    {
     "data": {
      "text/html": [
       "<div>\n",
       "<style scoped>\n",
       "    .dataframe tbody tr th:only-of-type {\n",
       "        vertical-align: middle;\n",
       "    }\n",
       "\n",
       "    .dataframe tbody tr th {\n",
       "        vertical-align: top;\n",
       "    }\n",
       "\n",
       "    .dataframe thead th {\n",
       "        text-align: right;\n",
       "    }\n",
       "</style>\n",
       "<table border=\"1\" class=\"dataframe\">\n",
       "  <thead>\n",
       "    <tr style=\"text-align: right;\">\n",
       "      <th></th>\n",
       "      <th>구별</th>\n",
       "      <th>인구수</th>\n",
       "      <th>한국인</th>\n",
       "      <th>외국인</th>\n",
       "      <th>고령자</th>\n",
       "      <th>외국인비율</th>\n",
       "      <th>고령자비율</th>\n",
       "    </tr>\n",
       "  </thead>\n",
       "  <tbody>\n",
       "    <tr>\n",
       "      <th>19</th>\n",
       "      <td>영등포구</td>\n",
       "      <td>402024</td>\n",
       "      <td>368550</td>\n",
       "      <td>33474</td>\n",
       "      <td>53981</td>\n",
       "      <td>8.326369</td>\n",
       "      <td>13.427308</td>\n",
       "    </tr>\n",
       "    <tr>\n",
       "      <th>17</th>\n",
       "      <td>구로구</td>\n",
       "      <td>441559</td>\n",
       "      <td>410742</td>\n",
       "      <td>30817</td>\n",
       "      <td>58794</td>\n",
       "      <td>6.979135</td>\n",
       "      <td>13.315095</td>\n",
       "    </tr>\n",
       "    <tr>\n",
       "      <th>18</th>\n",
       "      <td>금천구</td>\n",
       "      <td>253491</td>\n",
       "      <td>235154</td>\n",
       "      <td>18337</td>\n",
       "      <td>34170</td>\n",
       "      <td>7.233787</td>\n",
       "      <td>13.479769</td>\n",
       "    </tr>\n",
       "    <tr>\n",
       "      <th>21</th>\n",
       "      <td>관악구</td>\n",
       "      <td>520929</td>\n",
       "      <td>503297</td>\n",
       "      <td>17632</td>\n",
       "      <td>70046</td>\n",
       "      <td>3.384722</td>\n",
       "      <td>13.446362</td>\n",
       "    </tr>\n",
       "    <tr>\n",
       "      <th>6</th>\n",
       "      <td>동대문구</td>\n",
       "      <td>366011</td>\n",
       "      <td>350647</td>\n",
       "      <td>15364</td>\n",
       "      <td>55718</td>\n",
       "      <td>4.197688</td>\n",
       "      <td>15.223040</td>\n",
       "    </tr>\n",
       "  </tbody>\n",
       "</table>\n",
       "</div>"
      ],
      "text/plain": [
       "      구별     인구수     한국인    외국인    고령자     외국인비율      고령자비율\n",
       "19  영등포구  402024  368550  33474  53981  8.326369  13.427308\n",
       "17   구로구  441559  410742  30817  58794  6.979135  13.315095\n",
       "18   금천구  253491  235154  18337  34170  7.233787  13.479769\n",
       "21   관악구  520929  503297  17632  70046  3.384722  13.446362\n",
       "6   동대문구  366011  350647  15364  55718  4.197688  15.223040"
      ]
     },
     "execution_count": 76,
     "metadata": {},
     "output_type": "execute_result"
    }
   ],
   "source": [
    "pop_seoul.sort_values(by=\"외국인\", ascending=False).head()"
   ]
  },
  {
   "cell_type": "code",
   "execution_count": 77,
   "id": "257a25af",
   "metadata": {},
   "outputs": [
    {
     "data": {
      "text/html": [
       "<div>\n",
       "<style scoped>\n",
       "    .dataframe tbody tr th:only-of-type {\n",
       "        vertical-align: middle;\n",
       "    }\n",
       "\n",
       "    .dataframe tbody tr th {\n",
       "        vertical-align: top;\n",
       "    }\n",
       "\n",
       "    .dataframe thead th {\n",
       "        text-align: right;\n",
       "    }\n",
       "</style>\n",
       "<table border=\"1\" class=\"dataframe\">\n",
       "  <thead>\n",
       "    <tr style=\"text-align: right;\">\n",
       "      <th></th>\n",
       "      <th>구별</th>\n",
       "      <th>인구수</th>\n",
       "      <th>한국인</th>\n",
       "      <th>외국인</th>\n",
       "      <th>고령자</th>\n",
       "      <th>외국인비율</th>\n",
       "      <th>고령자비율</th>\n",
       "    </tr>\n",
       "  </thead>\n",
       "  <tbody>\n",
       "    <tr>\n",
       "      <th>19</th>\n",
       "      <td>영등포구</td>\n",
       "      <td>402024</td>\n",
       "      <td>368550</td>\n",
       "      <td>33474</td>\n",
       "      <td>53981</td>\n",
       "      <td>8.326369</td>\n",
       "      <td>13.427308</td>\n",
       "    </tr>\n",
       "    <tr>\n",
       "      <th>18</th>\n",
       "      <td>금천구</td>\n",
       "      <td>253491</td>\n",
       "      <td>235154</td>\n",
       "      <td>18337</td>\n",
       "      <td>34170</td>\n",
       "      <td>7.233787</td>\n",
       "      <td>13.479769</td>\n",
       "    </tr>\n",
       "    <tr>\n",
       "      <th>17</th>\n",
       "      <td>구로구</td>\n",
       "      <td>441559</td>\n",
       "      <td>410742</td>\n",
       "      <td>30817</td>\n",
       "      <td>58794</td>\n",
       "      <td>6.979135</td>\n",
       "      <td>13.315095</td>\n",
       "    </tr>\n",
       "    <tr>\n",
       "      <th>2</th>\n",
       "      <td>중구</td>\n",
       "      <td>134593</td>\n",
       "      <td>125709</td>\n",
       "      <td>8884</td>\n",
       "      <td>21384</td>\n",
       "      <td>6.600640</td>\n",
       "      <td>15.887899</td>\n",
       "    </tr>\n",
       "    <tr>\n",
       "      <th>3</th>\n",
       "      <td>용산구</td>\n",
       "      <td>244444</td>\n",
       "      <td>229161</td>\n",
       "      <td>15283</td>\n",
       "      <td>36882</td>\n",
       "      <td>6.252148</td>\n",
       "      <td>15.088118</td>\n",
       "    </tr>\n",
       "  </tbody>\n",
       "</table>\n",
       "</div>"
      ],
      "text/plain": [
       "      구별     인구수     한국인    외국인    고령자     외국인비율      고령자비율\n",
       "19  영등포구  402024  368550  33474  53981  8.326369  13.427308\n",
       "18   금천구  253491  235154  18337  34170  7.233787  13.479769\n",
       "17   구로구  441559  410742  30817  58794  6.979135  13.315095\n",
       "2     중구  134593  125709   8884  21384  6.600640  15.887899\n",
       "3    용산구  244444  229161  15283  36882  6.252148  15.088118"
      ]
     },
     "execution_count": 77,
     "metadata": {},
     "output_type": "execute_result"
    }
   ],
   "source": [
    "pop_seoul.sort_values(by=\"외국인비율\", ascending=False).head()"
   ]
  },
  {
   "cell_type": "code",
   "execution_count": 78,
   "id": "5fe99419",
   "metadata": {},
   "outputs": [
    {
     "data": {
      "text/html": [
       "<div>\n",
       "<style scoped>\n",
       "    .dataframe tbody tr th:only-of-type {\n",
       "        vertical-align: middle;\n",
       "    }\n",
       "\n",
       "    .dataframe tbody tr th {\n",
       "        vertical-align: top;\n",
       "    }\n",
       "\n",
       "    .dataframe thead th {\n",
       "        text-align: right;\n",
       "    }\n",
       "</style>\n",
       "<table border=\"1\" class=\"dataframe\">\n",
       "  <thead>\n",
       "    <tr style=\"text-align: right;\">\n",
       "      <th></th>\n",
       "      <th>구별</th>\n",
       "      <th>인구수</th>\n",
       "      <th>한국인</th>\n",
       "      <th>외국인</th>\n",
       "      <th>고령자</th>\n",
       "      <th>외국인비율</th>\n",
       "      <th>고령자비율</th>\n",
       "    </tr>\n",
       "  </thead>\n",
       "  <tbody>\n",
       "    <tr>\n",
       "      <th>24</th>\n",
       "      <td>송파구</td>\n",
       "      <td>671173</td>\n",
       "      <td>664496</td>\n",
       "      <td>6677</td>\n",
       "      <td>76582</td>\n",
       "      <td>0.994825</td>\n",
       "      <td>11.410173</td>\n",
       "    </tr>\n",
       "    <tr>\n",
       "      <th>16</th>\n",
       "      <td>강서구</td>\n",
       "      <td>608255</td>\n",
       "      <td>601691</td>\n",
       "      <td>6564</td>\n",
       "      <td>76032</td>\n",
       "      <td>1.079153</td>\n",
       "      <td>12.500021</td>\n",
       "    </tr>\n",
       "    <tr>\n",
       "      <th>12</th>\n",
       "      <td>은평구</td>\n",
       "      <td>491202</td>\n",
       "      <td>486794</td>\n",
       "      <td>4408</td>\n",
       "      <td>74559</td>\n",
       "      <td>0.897390</td>\n",
       "      <td>15.178888</td>\n",
       "    </tr>\n",
       "    <tr>\n",
       "      <th>11</th>\n",
       "      <td>노원구</td>\n",
       "      <td>558075</td>\n",
       "      <td>554403</td>\n",
       "      <td>3672</td>\n",
       "      <td>74243</td>\n",
       "      <td>0.657976</td>\n",
       "      <td>13.303409</td>\n",
       "    </tr>\n",
       "    <tr>\n",
       "      <th>21</th>\n",
       "      <td>관악구</td>\n",
       "      <td>520929</td>\n",
       "      <td>503297</td>\n",
       "      <td>17632</td>\n",
       "      <td>70046</td>\n",
       "      <td>3.384722</td>\n",
       "      <td>13.446362</td>\n",
       "    </tr>\n",
       "  </tbody>\n",
       "</table>\n",
       "</div>"
      ],
      "text/plain": [
       "     구별     인구수     한국인    외국인    고령자     외국인비율      고령자비율\n",
       "24  송파구  671173  664496   6677  76582  0.994825  11.410173\n",
       "16  강서구  608255  601691   6564  76032  1.079153  12.500021\n",
       "12  은평구  491202  486794   4408  74559  0.897390  15.178888\n",
       "11  노원구  558075  554403   3672  74243  0.657976  13.303409\n",
       "21  관악구  520929  503297  17632  70046  3.384722  13.446362"
      ]
     },
     "execution_count": 78,
     "metadata": {},
     "output_type": "execute_result"
    }
   ],
   "source": [
    "pop_seoul.sort_values(by=\"고령자\", ascending=False).head()"
   ]
  },
  {
   "cell_type": "code",
   "execution_count": 79,
   "id": "e344a446",
   "metadata": {},
   "outputs": [
    {
     "data": {
      "text/html": [
       "<div>\n",
       "<style scoped>\n",
       "    .dataframe tbody tr th:only-of-type {\n",
       "        vertical-align: middle;\n",
       "    }\n",
       "\n",
       "    .dataframe tbody tr th {\n",
       "        vertical-align: top;\n",
       "    }\n",
       "\n",
       "    .dataframe thead th {\n",
       "        text-align: right;\n",
       "    }\n",
       "</style>\n",
       "<table border=\"1\" class=\"dataframe\">\n",
       "  <thead>\n",
       "    <tr style=\"text-align: right;\">\n",
       "      <th></th>\n",
       "      <th>구별</th>\n",
       "      <th>인구수</th>\n",
       "      <th>한국인</th>\n",
       "      <th>외국인</th>\n",
       "      <th>고령자</th>\n",
       "      <th>외국인비율</th>\n",
       "      <th>고령자비율</th>\n",
       "    </tr>\n",
       "  </thead>\n",
       "  <tbody>\n",
       "    <tr>\n",
       "      <th>9</th>\n",
       "      <td>강북구</td>\n",
       "      <td>328002</td>\n",
       "      <td>324479</td>\n",
       "      <td>3523</td>\n",
       "      <td>56530</td>\n",
       "      <td>1.074079</td>\n",
       "      <td>17.234651</td>\n",
       "    </tr>\n",
       "    <tr>\n",
       "      <th>1</th>\n",
       "      <td>종로구</td>\n",
       "      <td>164257</td>\n",
       "      <td>154770</td>\n",
       "      <td>9487</td>\n",
       "      <td>26182</td>\n",
       "      <td>5.775705</td>\n",
       "      <td>15.939656</td>\n",
       "    </tr>\n",
       "    <tr>\n",
       "      <th>2</th>\n",
       "      <td>중구</td>\n",
       "      <td>134593</td>\n",
       "      <td>125709</td>\n",
       "      <td>8884</td>\n",
       "      <td>21384</td>\n",
       "      <td>6.600640</td>\n",
       "      <td>15.887899</td>\n",
       "    </tr>\n",
       "    <tr>\n",
       "      <th>10</th>\n",
       "      <td>도봉구</td>\n",
       "      <td>346234</td>\n",
       "      <td>344166</td>\n",
       "      <td>2068</td>\n",
       "      <td>53488</td>\n",
       "      <td>0.597284</td>\n",
       "      <td>15.448512</td>\n",
       "    </tr>\n",
       "    <tr>\n",
       "      <th>6</th>\n",
       "      <td>동대문구</td>\n",
       "      <td>366011</td>\n",
       "      <td>350647</td>\n",
       "      <td>15364</td>\n",
       "      <td>55718</td>\n",
       "      <td>4.197688</td>\n",
       "      <td>15.223040</td>\n",
       "    </tr>\n",
       "  </tbody>\n",
       "</table>\n",
       "</div>"
      ],
      "text/plain": [
       "      구별     인구수     한국인    외국인    고령자     외국인비율      고령자비율\n",
       "9    강북구  328002  324479   3523  56530  1.074079  17.234651\n",
       "1    종로구  164257  154770   9487  26182  5.775705  15.939656\n",
       "2     중구  134593  125709   8884  21384  6.600640  15.887899\n",
       "10   도봉구  346234  344166   2068  53488  0.597284  15.448512\n",
       "6   동대문구  366011  350647  15364  55718  4.197688  15.223040"
      ]
     },
     "execution_count": 79,
     "metadata": {},
     "output_type": "execute_result"
    }
   ],
   "source": [
    "pop_seoul.sort_values(by=\"고령자비율\", ascending=False).head()"
   ]
  },
  {
   "cell_type": "markdown",
   "id": "05eb16ae",
   "metadata": {},
   "source": [
    "---"
   ]
  },
  {
   "cell_type": "markdown",
   "id": "ed737e3f",
   "metadata": {},
   "source": [
    "## 4. 두 데이터 합치기"
   ]
  },
  {
   "cell_type": "markdown",
   "id": "29ff802e",
   "metadata": {},
   "source": [
    "---"
   ]
  },
  {
   "cell_type": "markdown",
   "id": "9aca324d",
   "metadata": {},
   "source": [
    "### Pandas에서 데이터 프레임을 합치는 방법\n",
    "- pd.concat()\n",
    "- pd.merge()\n",
    "- pd.join()"
   ]
  },
  {
   "cell_type": "code",
   "execution_count": 80,
   "id": "02e225d6",
   "metadata": {},
   "outputs": [
    {
     "data": {
      "text/html": [
       "<div>\n",
       "<style scoped>\n",
       "    .dataframe tbody tr th:only-of-type {\n",
       "        vertical-align: middle;\n",
       "    }\n",
       "\n",
       "    .dataframe tbody tr th {\n",
       "        vertical-align: top;\n",
       "    }\n",
       "\n",
       "    .dataframe thead th {\n",
       "        text-align: right;\n",
       "    }\n",
       "</style>\n",
       "<table border=\"1\" class=\"dataframe\">\n",
       "  <thead>\n",
       "    <tr style=\"text-align: right;\">\n",
       "      <th></th>\n",
       "      <th>key</th>\n",
       "      <th>A</th>\n",
       "      <th>B</th>\n",
       "    </tr>\n",
       "  </thead>\n",
       "  <tbody>\n",
       "    <tr>\n",
       "      <th>0</th>\n",
       "      <td>K0</td>\n",
       "      <td>A0</td>\n",
       "      <td>B0</td>\n",
       "    </tr>\n",
       "    <tr>\n",
       "      <th>1</th>\n",
       "      <td>K4</td>\n",
       "      <td>A1</td>\n",
       "      <td>B1</td>\n",
       "    </tr>\n",
       "    <tr>\n",
       "      <th>2</th>\n",
       "      <td>K2</td>\n",
       "      <td>A2</td>\n",
       "      <td>B2</td>\n",
       "    </tr>\n",
       "    <tr>\n",
       "      <th>3</th>\n",
       "      <td>K3</td>\n",
       "      <td>A3</td>\n",
       "      <td>B3</td>\n",
       "    </tr>\n",
       "  </tbody>\n",
       "</table>\n",
       "</div>"
      ],
      "text/plain": [
       "  key   A   B\n",
       "0  K0  A0  B0\n",
       "1  K4  A1  B1\n",
       "2  K2  A2  B2\n",
       "3  K3  A3  B3"
      ]
     },
     "execution_count": 80,
     "metadata": {},
     "output_type": "execute_result"
    }
   ],
   "source": [
    "df_left = pd.DataFrame(\n",
    "    {\n",
    "        \"key\":[\"K0\",\"K4\",\"K2\",\"K3\"],\n",
    "        \"A\":[\"A0\",\"A1\", \"A2\", \"A3\"],\n",
    "        \"B\":[\"B0\",\"B1\", \"B2\", \"B3\"],\n",
    "    }\n",
    ")\n",
    "df_left"
   ]
  },
  {
   "cell_type": "code",
   "execution_count": 81,
   "id": "27ebe3f4",
   "metadata": {},
   "outputs": [
    {
     "data": {
      "text/html": [
       "<div>\n",
       "<style scoped>\n",
       "    .dataframe tbody tr th:only-of-type {\n",
       "        vertical-align: middle;\n",
       "    }\n",
       "\n",
       "    .dataframe tbody tr th {\n",
       "        vertical-align: top;\n",
       "    }\n",
       "\n",
       "    .dataframe thead th {\n",
       "        text-align: right;\n",
       "    }\n",
       "</style>\n",
       "<table border=\"1\" class=\"dataframe\">\n",
       "  <thead>\n",
       "    <tr style=\"text-align: right;\">\n",
       "      <th></th>\n",
       "      <th>key</th>\n",
       "      <th>C</th>\n",
       "      <th>D</th>\n",
       "    </tr>\n",
       "  </thead>\n",
       "  <tbody>\n",
       "    <tr>\n",
       "      <th>0</th>\n",
       "      <td>K0</td>\n",
       "      <td>C0</td>\n",
       "      <td>DO</td>\n",
       "    </tr>\n",
       "    <tr>\n",
       "      <th>1</th>\n",
       "      <td>K1</td>\n",
       "      <td>C1</td>\n",
       "      <td>D1</td>\n",
       "    </tr>\n",
       "    <tr>\n",
       "      <th>2</th>\n",
       "      <td>K2</td>\n",
       "      <td>C2</td>\n",
       "      <td>D2</td>\n",
       "    </tr>\n",
       "    <tr>\n",
       "      <th>3</th>\n",
       "      <td>K3</td>\n",
       "      <td>C3</td>\n",
       "      <td>D3</td>\n",
       "    </tr>\n",
       "  </tbody>\n",
       "</table>\n",
       "</div>"
      ],
      "text/plain": [
       "  key   C   D\n",
       "0  K0  C0  DO\n",
       "1  K1  C1  D1\n",
       "2  K2  C2  D2\n",
       "3  K3  C3  D3"
      ]
     },
     "execution_count": 81,
     "metadata": {},
     "output_type": "execute_result"
    }
   ],
   "source": [
    "df_right = pd.DataFrame(\n",
    "    [\n",
    "        {\"key\":\"K0\", \"C\":\"C0\", \"D\":\"DO\"},\n",
    "        {\"key\":\"K1\", \"C\":\"C1\", \"D\":\"D1\"},\n",
    "        {\"key\":\"K2\", \"C\":\"C2\", \"D\":\"D2\"},\n",
    "        {\"key\":\"K3\", \"C\":\"C3\", \"D\":\"D3\"},\n",
    "    ]\n",
    ")\n",
    "df_right"
   ]
  },
  {
   "cell_type": "markdown",
   "id": "f751a47d",
   "metadata": {},
   "source": [
    "#### pd.merge()\n",
    "- 두 데이터 프레임에서 컬럼이나 인덱스를 기준으로 잡고 병합하는 방법\n",
    "- 기준이 되는 컬럼이나 인덱스를 키값이라고 합니다\n",
    "- 기준이 되는 키값은 두 데이터 프레임에 모두 포함되어 있어야 합니다."
   ]
  },
  {
   "cell_type": "code",
   "execution_count": 82,
   "id": "b4763375",
   "metadata": {},
   "outputs": [
    {
     "data": {
      "text/html": [
       "<div>\n",
       "<style scoped>\n",
       "    .dataframe tbody tr th:only-of-type {\n",
       "        vertical-align: middle;\n",
       "    }\n",
       "\n",
       "    .dataframe tbody tr th {\n",
       "        vertical-align: top;\n",
       "    }\n",
       "\n",
       "    .dataframe thead th {\n",
       "        text-align: right;\n",
       "    }\n",
       "</style>\n",
       "<table border=\"1\" class=\"dataframe\">\n",
       "  <thead>\n",
       "    <tr style=\"text-align: right;\">\n",
       "      <th></th>\n",
       "      <th>key</th>\n",
       "      <th>A</th>\n",
       "      <th>B</th>\n",
       "      <th>C</th>\n",
       "      <th>D</th>\n",
       "    </tr>\n",
       "  </thead>\n",
       "  <tbody>\n",
       "    <tr>\n",
       "      <th>0</th>\n",
       "      <td>K0</td>\n",
       "      <td>A0</td>\n",
       "      <td>B0</td>\n",
       "      <td>C0</td>\n",
       "      <td>DO</td>\n",
       "    </tr>\n",
       "    <tr>\n",
       "      <th>1</th>\n",
       "      <td>K4</td>\n",
       "      <td>A1</td>\n",
       "      <td>B1</td>\n",
       "      <td>NaN</td>\n",
       "      <td>NaN</td>\n",
       "    </tr>\n",
       "    <tr>\n",
       "      <th>2</th>\n",
       "      <td>K2</td>\n",
       "      <td>A2</td>\n",
       "      <td>B2</td>\n",
       "      <td>C2</td>\n",
       "      <td>D2</td>\n",
       "    </tr>\n",
       "    <tr>\n",
       "      <th>3</th>\n",
       "      <td>K3</td>\n",
       "      <td>A3</td>\n",
       "      <td>B3</td>\n",
       "      <td>C3</td>\n",
       "      <td>D3</td>\n",
       "    </tr>\n",
       "  </tbody>\n",
       "</table>\n",
       "</div>"
      ],
      "text/plain": [
       "  key   A   B    C    D\n",
       "0  K0  A0  B0   C0   DO\n",
       "1  K4  A1  B1  NaN  NaN\n",
       "2  K2  A2  B2   C2   D2\n",
       "3  K3  A3  B3   C3   D3"
      ]
     },
     "execution_count": 82,
     "metadata": {},
     "output_type": "execute_result"
    }
   ],
   "source": [
    "pd.merge(left=df_left, right=df_right, how=\"left\", on=\"key\")"
   ]
  },
  {
   "cell_type": "code",
   "execution_count": 83,
   "id": "aa3fce69",
   "metadata": {},
   "outputs": [
    {
     "data": {
      "text/html": [
       "<div>\n",
       "<style scoped>\n",
       "    .dataframe tbody tr th:only-of-type {\n",
       "        vertical-align: middle;\n",
       "    }\n",
       "\n",
       "    .dataframe tbody tr th {\n",
       "        vertical-align: top;\n",
       "    }\n",
       "\n",
       "    .dataframe thead th {\n",
       "        text-align: right;\n",
       "    }\n",
       "</style>\n",
       "<table border=\"1\" class=\"dataframe\">\n",
       "  <thead>\n",
       "    <tr style=\"text-align: right;\">\n",
       "      <th></th>\n",
       "      <th>key</th>\n",
       "      <th>A</th>\n",
       "      <th>B</th>\n",
       "      <th>C</th>\n",
       "      <th>D</th>\n",
       "    </tr>\n",
       "  </thead>\n",
       "  <tbody>\n",
       "    <tr>\n",
       "      <th>0</th>\n",
       "      <td>K0</td>\n",
       "      <td>A0</td>\n",
       "      <td>B0</td>\n",
       "      <td>C0</td>\n",
       "      <td>DO</td>\n",
       "    </tr>\n",
       "    <tr>\n",
       "      <th>1</th>\n",
       "      <td>K1</td>\n",
       "      <td>NaN</td>\n",
       "      <td>NaN</td>\n",
       "      <td>C1</td>\n",
       "      <td>D1</td>\n",
       "    </tr>\n",
       "    <tr>\n",
       "      <th>2</th>\n",
       "      <td>K2</td>\n",
       "      <td>A2</td>\n",
       "      <td>B2</td>\n",
       "      <td>C2</td>\n",
       "      <td>D2</td>\n",
       "    </tr>\n",
       "    <tr>\n",
       "      <th>3</th>\n",
       "      <td>K3</td>\n",
       "      <td>A3</td>\n",
       "      <td>B3</td>\n",
       "      <td>C3</td>\n",
       "      <td>D3</td>\n",
       "    </tr>\n",
       "  </tbody>\n",
       "</table>\n",
       "</div>"
      ],
      "text/plain": [
       "  key    A    B   C   D\n",
       "0  K0   A0   B0  C0  DO\n",
       "1  K1  NaN  NaN  C1  D1\n",
       "2  K2   A2   B2  C2  D2\n",
       "3  K3   A3   B3  C3  D3"
      ]
     },
     "execution_count": 83,
     "metadata": {},
     "output_type": "execute_result"
    }
   ],
   "source": [
    "pd.merge(left=df_left, right=df_right, how=\"right\", on=\"key\")"
   ]
  },
  {
   "cell_type": "code",
   "execution_count": 84,
   "id": "736a7831",
   "metadata": {},
   "outputs": [
    {
     "data": {
      "text/html": [
       "<div>\n",
       "<style scoped>\n",
       "    .dataframe tbody tr th:only-of-type {\n",
       "        vertical-align: middle;\n",
       "    }\n",
       "\n",
       "    .dataframe tbody tr th {\n",
       "        vertical-align: top;\n",
       "    }\n",
       "\n",
       "    .dataframe thead th {\n",
       "        text-align: right;\n",
       "    }\n",
       "</style>\n",
       "<table border=\"1\" class=\"dataframe\">\n",
       "  <thead>\n",
       "    <tr style=\"text-align: right;\">\n",
       "      <th></th>\n",
       "      <th>key</th>\n",
       "      <th>A</th>\n",
       "      <th>B</th>\n",
       "      <th>C</th>\n",
       "      <th>D</th>\n",
       "    </tr>\n",
       "  </thead>\n",
       "  <tbody>\n",
       "    <tr>\n",
       "      <th>0</th>\n",
       "      <td>K0</td>\n",
       "      <td>A0</td>\n",
       "      <td>B0</td>\n",
       "      <td>C0</td>\n",
       "      <td>DO</td>\n",
       "    </tr>\n",
       "    <tr>\n",
       "      <th>1</th>\n",
       "      <td>K2</td>\n",
       "      <td>A2</td>\n",
       "      <td>B2</td>\n",
       "      <td>C2</td>\n",
       "      <td>D2</td>\n",
       "    </tr>\n",
       "    <tr>\n",
       "      <th>2</th>\n",
       "      <td>K3</td>\n",
       "      <td>A3</td>\n",
       "      <td>B3</td>\n",
       "      <td>C3</td>\n",
       "      <td>D3</td>\n",
       "    </tr>\n",
       "  </tbody>\n",
       "</table>\n",
       "</div>"
      ],
      "text/plain": [
       "  key   A   B   C   D\n",
       "0  K0  A0  B0  C0  DO\n",
       "1  K2  A2  B2  C2  D2\n",
       "2  K3  A3  B3  C3  D3"
      ]
     },
     "execution_count": 84,
     "metadata": {},
     "output_type": "execute_result"
    }
   ],
   "source": [
    "pd.merge(left=df_left, right=df_right, how=\"inner\", on=\"key\")"
   ]
  },
  {
   "cell_type": "code",
   "execution_count": 85,
   "id": "2da9aeed",
   "metadata": {},
   "outputs": [
    {
     "data": {
      "text/html": [
       "<div>\n",
       "<style scoped>\n",
       "    .dataframe tbody tr th:only-of-type {\n",
       "        vertical-align: middle;\n",
       "    }\n",
       "\n",
       "    .dataframe tbody tr th {\n",
       "        vertical-align: top;\n",
       "    }\n",
       "\n",
       "    .dataframe thead th {\n",
       "        text-align: right;\n",
       "    }\n",
       "</style>\n",
       "<table border=\"1\" class=\"dataframe\">\n",
       "  <thead>\n",
       "    <tr style=\"text-align: right;\">\n",
       "      <th></th>\n",
       "      <th>key</th>\n",
       "      <th>A</th>\n",
       "      <th>B</th>\n",
       "      <th>C</th>\n",
       "      <th>D</th>\n",
       "    </tr>\n",
       "  </thead>\n",
       "  <tbody>\n",
       "    <tr>\n",
       "      <th>0</th>\n",
       "      <td>K0</td>\n",
       "      <td>A0</td>\n",
       "      <td>B0</td>\n",
       "      <td>C0</td>\n",
       "      <td>DO</td>\n",
       "    </tr>\n",
       "    <tr>\n",
       "      <th>1</th>\n",
       "      <td>K4</td>\n",
       "      <td>A1</td>\n",
       "      <td>B1</td>\n",
       "      <td>NaN</td>\n",
       "      <td>NaN</td>\n",
       "    </tr>\n",
       "    <tr>\n",
       "      <th>2</th>\n",
       "      <td>K2</td>\n",
       "      <td>A2</td>\n",
       "      <td>B2</td>\n",
       "      <td>C2</td>\n",
       "      <td>D2</td>\n",
       "    </tr>\n",
       "    <tr>\n",
       "      <th>3</th>\n",
       "      <td>K3</td>\n",
       "      <td>A3</td>\n",
       "      <td>B3</td>\n",
       "      <td>C3</td>\n",
       "      <td>D3</td>\n",
       "    </tr>\n",
       "    <tr>\n",
       "      <th>4</th>\n",
       "      <td>K1</td>\n",
       "      <td>NaN</td>\n",
       "      <td>NaN</td>\n",
       "      <td>C1</td>\n",
       "      <td>D1</td>\n",
       "    </tr>\n",
       "  </tbody>\n",
       "</table>\n",
       "</div>"
      ],
      "text/plain": [
       "  key    A    B    C    D\n",
       "0  K0   A0   B0   C0   DO\n",
       "1  K4   A1   B1  NaN  NaN\n",
       "2  K2   A2   B2   C2   D2\n",
       "3  K3   A3   B3   C3   D3\n",
       "4  K1  NaN  NaN   C1   D1"
      ]
     },
     "execution_count": 85,
     "metadata": {},
     "output_type": "execute_result"
    }
   ],
   "source": [
    "pd.merge(left=df_left, right=df_right, how=\"outer\", on=\"key\")"
   ]
  },
  {
   "cell_type": "markdown",
   "id": "b9fab6fe",
   "metadata": {},
   "source": [
    "---"
   ]
  },
  {
   "cell_type": "code",
   "execution_count": 86,
   "id": "e55d1099",
   "metadata": {},
   "outputs": [
    {
     "data": {
      "text/html": [
       "<div>\n",
       "<style scoped>\n",
       "    .dataframe tbody tr th:only-of-type {\n",
       "        vertical-align: middle;\n",
       "    }\n",
       "\n",
       "    .dataframe tbody tr th {\n",
       "        vertical-align: top;\n",
       "    }\n",
       "\n",
       "    .dataframe thead th {\n",
       "        text-align: right;\n",
       "    }\n",
       "</style>\n",
       "<table border=\"1\" class=\"dataframe\">\n",
       "  <thead>\n",
       "    <tr style=\"text-align: right;\">\n",
       "      <th></th>\n",
       "      <th>구별</th>\n",
       "      <th>소계</th>\n",
       "      <th>2013년도 이전</th>\n",
       "      <th>2014년</th>\n",
       "      <th>2015년</th>\n",
       "      <th>2016년</th>\n",
       "      <th>최근증가율</th>\n",
       "    </tr>\n",
       "  </thead>\n",
       "  <tbody>\n",
       "    <tr>\n",
       "      <th>0</th>\n",
       "      <td>강남구</td>\n",
       "      <td>3238</td>\n",
       "      <td>1292</td>\n",
       "      <td>430</td>\n",
       "      <td>584</td>\n",
       "      <td>932</td>\n",
       "      <td>150.619195</td>\n",
       "    </tr>\n",
       "    <tr>\n",
       "      <th>1</th>\n",
       "      <td>강동구</td>\n",
       "      <td>1010</td>\n",
       "      <td>379</td>\n",
       "      <td>99</td>\n",
       "      <td>155</td>\n",
       "      <td>377</td>\n",
       "      <td>166.490765</td>\n",
       "    </tr>\n",
       "    <tr>\n",
       "      <th>2</th>\n",
       "      <td>강북구</td>\n",
       "      <td>831</td>\n",
       "      <td>369</td>\n",
       "      <td>120</td>\n",
       "      <td>138</td>\n",
       "      <td>204</td>\n",
       "      <td>125.203252</td>\n",
       "    </tr>\n",
       "  </tbody>\n",
       "</table>\n",
       "</div>"
      ],
      "text/plain": [
       "    구별    소계  2013년도 이전  2014년  2015년  2016년       최근증가율\n",
       "0  강남구  3238       1292    430    584    932  150.619195\n",
       "1  강동구  1010        379     99    155    377  166.490765\n",
       "2  강북구   831        369    120    138    204  125.203252"
      ]
     },
     "execution_count": 86,
     "metadata": {},
     "output_type": "execute_result"
    }
   ],
   "source": [
    "cctv_seoul.head(3)"
   ]
  },
  {
   "cell_type": "code",
   "execution_count": 87,
   "id": "510c91de",
   "metadata": {},
   "outputs": [
    {
     "data": {
      "text/html": [
       "<div>\n",
       "<style scoped>\n",
       "    .dataframe tbody tr th:only-of-type {\n",
       "        vertical-align: middle;\n",
       "    }\n",
       "\n",
       "    .dataframe tbody tr th {\n",
       "        vertical-align: top;\n",
       "    }\n",
       "\n",
       "    .dataframe thead th {\n",
       "        text-align: right;\n",
       "    }\n",
       "</style>\n",
       "<table border=\"1\" class=\"dataframe\">\n",
       "  <thead>\n",
       "    <tr style=\"text-align: right;\">\n",
       "      <th></th>\n",
       "      <th>구별</th>\n",
       "      <th>인구수</th>\n",
       "      <th>한국인</th>\n",
       "      <th>외국인</th>\n",
       "      <th>고령자</th>\n",
       "      <th>외국인비율</th>\n",
       "      <th>고령자비율</th>\n",
       "    </tr>\n",
       "  </thead>\n",
       "  <tbody>\n",
       "    <tr>\n",
       "      <th>1</th>\n",
       "      <td>종로구</td>\n",
       "      <td>164257</td>\n",
       "      <td>154770</td>\n",
       "      <td>9487</td>\n",
       "      <td>26182</td>\n",
       "      <td>5.775705</td>\n",
       "      <td>15.939656</td>\n",
       "    </tr>\n",
       "    <tr>\n",
       "      <th>2</th>\n",
       "      <td>중구</td>\n",
       "      <td>134593</td>\n",
       "      <td>125709</td>\n",
       "      <td>8884</td>\n",
       "      <td>21384</td>\n",
       "      <td>6.600640</td>\n",
       "      <td>15.887899</td>\n",
       "    </tr>\n",
       "    <tr>\n",
       "      <th>3</th>\n",
       "      <td>용산구</td>\n",
       "      <td>244444</td>\n",
       "      <td>229161</td>\n",
       "      <td>15283</td>\n",
       "      <td>36882</td>\n",
       "      <td>6.252148</td>\n",
       "      <td>15.088118</td>\n",
       "    </tr>\n",
       "  </tbody>\n",
       "</table>\n",
       "</div>"
      ],
      "text/plain": [
       "    구별     인구수     한국인    외국인    고령자     외국인비율      고령자비율\n",
       "1  종로구  164257  154770   9487  26182  5.775705  15.939656\n",
       "2   중구  134593  125709   8884  21384  6.600640  15.887899\n",
       "3  용산구  244444  229161  15283  36882  6.252148  15.088118"
      ]
     },
     "execution_count": 87,
     "metadata": {},
     "output_type": "execute_result"
    }
   ],
   "source": [
    "pop_seoul.head(3)"
   ]
  },
  {
   "cell_type": "code",
   "execution_count": 88,
   "id": "d73760f8",
   "metadata": {},
   "outputs": [
    {
     "data": {
      "text/html": [
       "<div>\n",
       "<style scoped>\n",
       "    .dataframe tbody tr th:only-of-type {\n",
       "        vertical-align: middle;\n",
       "    }\n",
       "\n",
       "    .dataframe tbody tr th {\n",
       "        vertical-align: top;\n",
       "    }\n",
       "\n",
       "    .dataframe thead th {\n",
       "        text-align: right;\n",
       "    }\n",
       "</style>\n",
       "<table border=\"1\" class=\"dataframe\">\n",
       "  <thead>\n",
       "    <tr style=\"text-align: right;\">\n",
       "      <th></th>\n",
       "      <th>구별</th>\n",
       "      <th>소계</th>\n",
       "      <th>2013년도 이전</th>\n",
       "      <th>2014년</th>\n",
       "      <th>2015년</th>\n",
       "      <th>2016년</th>\n",
       "      <th>최근증가율</th>\n",
       "      <th>인구수</th>\n",
       "      <th>한국인</th>\n",
       "      <th>외국인</th>\n",
       "      <th>고령자</th>\n",
       "      <th>외국인비율</th>\n",
       "      <th>고령자비율</th>\n",
       "    </tr>\n",
       "  </thead>\n",
       "  <tbody>\n",
       "    <tr>\n",
       "      <th>0</th>\n",
       "      <td>강남구</td>\n",
       "      <td>3238</td>\n",
       "      <td>1292</td>\n",
       "      <td>430</td>\n",
       "      <td>584</td>\n",
       "      <td>932</td>\n",
       "      <td>150.619195</td>\n",
       "      <td>561052</td>\n",
       "      <td>556164</td>\n",
       "      <td>4888</td>\n",
       "      <td>65060</td>\n",
       "      <td>0.871220</td>\n",
       "      <td>11.596073</td>\n",
       "    </tr>\n",
       "    <tr>\n",
       "      <th>1</th>\n",
       "      <td>강동구</td>\n",
       "      <td>1010</td>\n",
       "      <td>379</td>\n",
       "      <td>99</td>\n",
       "      <td>155</td>\n",
       "      <td>377</td>\n",
       "      <td>166.490765</td>\n",
       "      <td>440359</td>\n",
       "      <td>436223</td>\n",
       "      <td>4136</td>\n",
       "      <td>56161</td>\n",
       "      <td>0.939234</td>\n",
       "      <td>12.753458</td>\n",
       "    </tr>\n",
       "    <tr>\n",
       "      <th>2</th>\n",
       "      <td>강북구</td>\n",
       "      <td>831</td>\n",
       "      <td>369</td>\n",
       "      <td>120</td>\n",
       "      <td>138</td>\n",
       "      <td>204</td>\n",
       "      <td>125.203252</td>\n",
       "      <td>328002</td>\n",
       "      <td>324479</td>\n",
       "      <td>3523</td>\n",
       "      <td>56530</td>\n",
       "      <td>1.074079</td>\n",
       "      <td>17.234651</td>\n",
       "    </tr>\n",
       "    <tr>\n",
       "      <th>3</th>\n",
       "      <td>강서구</td>\n",
       "      <td>911</td>\n",
       "      <td>388</td>\n",
       "      <td>258</td>\n",
       "      <td>184</td>\n",
       "      <td>81</td>\n",
       "      <td>134.793814</td>\n",
       "      <td>608255</td>\n",
       "      <td>601691</td>\n",
       "      <td>6564</td>\n",
       "      <td>76032</td>\n",
       "      <td>1.079153</td>\n",
       "      <td>12.500021</td>\n",
       "    </tr>\n",
       "    <tr>\n",
       "      <th>4</th>\n",
       "      <td>관악구</td>\n",
       "      <td>2109</td>\n",
       "      <td>846</td>\n",
       "      <td>260</td>\n",
       "      <td>390</td>\n",
       "      <td>613</td>\n",
       "      <td>149.290780</td>\n",
       "      <td>520929</td>\n",
       "      <td>503297</td>\n",
       "      <td>17632</td>\n",
       "      <td>70046</td>\n",
       "      <td>3.384722</td>\n",
       "      <td>13.446362</td>\n",
       "    </tr>\n",
       "  </tbody>\n",
       "</table>\n",
       "</div>"
      ],
      "text/plain": [
       "    구별    소계  2013년도 이전  2014년  2015년  2016년       최근증가율     인구수     한국인  \\\n",
       "0  강남구  3238       1292    430    584    932  150.619195  561052  556164   \n",
       "1  강동구  1010        379     99    155    377  166.490765  440359  436223   \n",
       "2  강북구   831        369    120    138    204  125.203252  328002  324479   \n",
       "3  강서구   911        388    258    184     81  134.793814  608255  601691   \n",
       "4  관악구  2109        846    260    390    613  149.290780  520929  503297   \n",
       "\n",
       "     외국인    고령자     외국인비율      고령자비율  \n",
       "0   4888  65060  0.871220  11.596073  \n",
       "1   4136  56161  0.939234  12.753458  \n",
       "2   3523  56530  1.074079  17.234651  \n",
       "3   6564  76032  1.079153  12.500021  \n",
       "4  17632  70046  3.384722  13.446362  "
      ]
     },
     "execution_count": 88,
     "metadata": {},
     "output_type": "execute_result"
    }
   ],
   "source": [
    "result = pd.merge(left=cctv_seoul, right=pop_seoul, on=\"구별\", how=\"inner\")\n",
    "result.head()"
   ]
  },
  {
   "cell_type": "markdown",
   "id": "145c1b5c",
   "metadata": {},
   "source": [
    "#### 년도별 데이터 컬럼 삭제\n",
    "- del\n",
    "- drop"
   ]
  },
  {
   "cell_type": "code",
   "execution_count": 89,
   "id": "ad3b4d79",
   "metadata": {},
   "outputs": [],
   "source": [
    "del result[\"2013년도 이전\"]"
   ]
  },
  {
   "cell_type": "code",
   "execution_count": 90,
   "id": "3831cc8e",
   "metadata": {},
   "outputs": [
    {
     "data": {
      "text/html": [
       "<div>\n",
       "<style scoped>\n",
       "    .dataframe tbody tr th:only-of-type {\n",
       "        vertical-align: middle;\n",
       "    }\n",
       "\n",
       "    .dataframe tbody tr th {\n",
       "        vertical-align: top;\n",
       "    }\n",
       "\n",
       "    .dataframe thead th {\n",
       "        text-align: right;\n",
       "    }\n",
       "</style>\n",
       "<table border=\"1\" class=\"dataframe\">\n",
       "  <thead>\n",
       "    <tr style=\"text-align: right;\">\n",
       "      <th></th>\n",
       "      <th>구별</th>\n",
       "      <th>소계</th>\n",
       "      <th>2014년</th>\n",
       "      <th>2015년</th>\n",
       "      <th>2016년</th>\n",
       "      <th>최근증가율</th>\n",
       "      <th>인구수</th>\n",
       "      <th>한국인</th>\n",
       "      <th>외국인</th>\n",
       "      <th>고령자</th>\n",
       "      <th>외국인비율</th>\n",
       "      <th>고령자비율</th>\n",
       "    </tr>\n",
       "  </thead>\n",
       "  <tbody>\n",
       "    <tr>\n",
       "      <th>0</th>\n",
       "      <td>강남구</td>\n",
       "      <td>3238</td>\n",
       "      <td>430</td>\n",
       "      <td>584</td>\n",
       "      <td>932</td>\n",
       "      <td>150.619195</td>\n",
       "      <td>561052</td>\n",
       "      <td>556164</td>\n",
       "      <td>4888</td>\n",
       "      <td>65060</td>\n",
       "      <td>0.871220</td>\n",
       "      <td>11.596073</td>\n",
       "    </tr>\n",
       "    <tr>\n",
       "      <th>1</th>\n",
       "      <td>강동구</td>\n",
       "      <td>1010</td>\n",
       "      <td>99</td>\n",
       "      <td>155</td>\n",
       "      <td>377</td>\n",
       "      <td>166.490765</td>\n",
       "      <td>440359</td>\n",
       "      <td>436223</td>\n",
       "      <td>4136</td>\n",
       "      <td>56161</td>\n",
       "      <td>0.939234</td>\n",
       "      <td>12.753458</td>\n",
       "    </tr>\n",
       "    <tr>\n",
       "      <th>2</th>\n",
       "      <td>강북구</td>\n",
       "      <td>831</td>\n",
       "      <td>120</td>\n",
       "      <td>138</td>\n",
       "      <td>204</td>\n",
       "      <td>125.203252</td>\n",
       "      <td>328002</td>\n",
       "      <td>324479</td>\n",
       "      <td>3523</td>\n",
       "      <td>56530</td>\n",
       "      <td>1.074079</td>\n",
       "      <td>17.234651</td>\n",
       "    </tr>\n",
       "    <tr>\n",
       "      <th>3</th>\n",
       "      <td>강서구</td>\n",
       "      <td>911</td>\n",
       "      <td>258</td>\n",
       "      <td>184</td>\n",
       "      <td>81</td>\n",
       "      <td>134.793814</td>\n",
       "      <td>608255</td>\n",
       "      <td>601691</td>\n",
       "      <td>6564</td>\n",
       "      <td>76032</td>\n",
       "      <td>1.079153</td>\n",
       "      <td>12.500021</td>\n",
       "    </tr>\n",
       "    <tr>\n",
       "      <th>4</th>\n",
       "      <td>관악구</td>\n",
       "      <td>2109</td>\n",
       "      <td>260</td>\n",
       "      <td>390</td>\n",
       "      <td>613</td>\n",
       "      <td>149.290780</td>\n",
       "      <td>520929</td>\n",
       "      <td>503297</td>\n",
       "      <td>17632</td>\n",
       "      <td>70046</td>\n",
       "      <td>3.384722</td>\n",
       "      <td>13.446362</td>\n",
       "    </tr>\n",
       "  </tbody>\n",
       "</table>\n",
       "</div>"
      ],
      "text/plain": [
       "    구별    소계  2014년  2015년  2016년       최근증가율     인구수     한국인    외국인    고령자  \\\n",
       "0  강남구  3238    430    584    932  150.619195  561052  556164   4888  65060   \n",
       "1  강동구  1010     99    155    377  166.490765  440359  436223   4136  56161   \n",
       "2  강북구   831    120    138    204  125.203252  328002  324479   3523  56530   \n",
       "3  강서구   911    258    184     81  134.793814  608255  601691   6564  76032   \n",
       "4  관악구  2109    260    390    613  149.290780  520929  503297  17632  70046   \n",
       "\n",
       "      외국인비율      고령자비율  \n",
       "0  0.871220  11.596073  \n",
       "1  0.939234  12.753458  \n",
       "2  1.074079  17.234651  \n",
       "3  1.079153  12.500021  \n",
       "4  3.384722  13.446362  "
      ]
     },
     "execution_count": 90,
     "metadata": {},
     "output_type": "execute_result"
    }
   ],
   "source": [
    "result.head()"
   ]
  },
  {
   "cell_type": "code",
   "execution_count": 91,
   "id": "0eac6556",
   "metadata": {},
   "outputs": [],
   "source": [
    "del result[\"2014년\"]"
   ]
  },
  {
   "cell_type": "code",
   "execution_count": 92,
   "id": "8e37ee7e",
   "metadata": {},
   "outputs": [],
   "source": [
    "result.drop(columns=[\"2015년\", \"2016년\"], inplace=True)"
   ]
  },
  {
   "cell_type": "code",
   "execution_count": 93,
   "id": "0ed5db69",
   "metadata": {},
   "outputs": [
    {
     "data": {
      "text/html": [
       "<div>\n",
       "<style scoped>\n",
       "    .dataframe tbody tr th:only-of-type {\n",
       "        vertical-align: middle;\n",
       "    }\n",
       "\n",
       "    .dataframe tbody tr th {\n",
       "        vertical-align: top;\n",
       "    }\n",
       "\n",
       "    .dataframe thead th {\n",
       "        text-align: right;\n",
       "    }\n",
       "</style>\n",
       "<table border=\"1\" class=\"dataframe\">\n",
       "  <thead>\n",
       "    <tr style=\"text-align: right;\">\n",
       "      <th></th>\n",
       "      <th>구별</th>\n",
       "      <th>소계</th>\n",
       "      <th>최근증가율</th>\n",
       "      <th>인구수</th>\n",
       "      <th>한국인</th>\n",
       "      <th>외국인</th>\n",
       "      <th>고령자</th>\n",
       "      <th>외국인비율</th>\n",
       "      <th>고령자비율</th>\n",
       "    </tr>\n",
       "  </thead>\n",
       "  <tbody>\n",
       "    <tr>\n",
       "      <th>0</th>\n",
       "      <td>강남구</td>\n",
       "      <td>3238</td>\n",
       "      <td>150.619195</td>\n",
       "      <td>561052</td>\n",
       "      <td>556164</td>\n",
       "      <td>4888</td>\n",
       "      <td>65060</td>\n",
       "      <td>0.871220</td>\n",
       "      <td>11.596073</td>\n",
       "    </tr>\n",
       "    <tr>\n",
       "      <th>1</th>\n",
       "      <td>강동구</td>\n",
       "      <td>1010</td>\n",
       "      <td>166.490765</td>\n",
       "      <td>440359</td>\n",
       "      <td>436223</td>\n",
       "      <td>4136</td>\n",
       "      <td>56161</td>\n",
       "      <td>0.939234</td>\n",
       "      <td>12.753458</td>\n",
       "    </tr>\n",
       "    <tr>\n",
       "      <th>2</th>\n",
       "      <td>강북구</td>\n",
       "      <td>831</td>\n",
       "      <td>125.203252</td>\n",
       "      <td>328002</td>\n",
       "      <td>324479</td>\n",
       "      <td>3523</td>\n",
       "      <td>56530</td>\n",
       "      <td>1.074079</td>\n",
       "      <td>17.234651</td>\n",
       "    </tr>\n",
       "    <tr>\n",
       "      <th>3</th>\n",
       "      <td>강서구</td>\n",
       "      <td>911</td>\n",
       "      <td>134.793814</td>\n",
       "      <td>608255</td>\n",
       "      <td>601691</td>\n",
       "      <td>6564</td>\n",
       "      <td>76032</td>\n",
       "      <td>1.079153</td>\n",
       "      <td>12.500021</td>\n",
       "    </tr>\n",
       "    <tr>\n",
       "      <th>4</th>\n",
       "      <td>관악구</td>\n",
       "      <td>2109</td>\n",
       "      <td>149.290780</td>\n",
       "      <td>520929</td>\n",
       "      <td>503297</td>\n",
       "      <td>17632</td>\n",
       "      <td>70046</td>\n",
       "      <td>3.384722</td>\n",
       "      <td>13.446362</td>\n",
       "    </tr>\n",
       "  </tbody>\n",
       "</table>\n",
       "</div>"
      ],
      "text/plain": [
       "    구별    소계       최근증가율     인구수     한국인    외국인    고령자     외국인비율      고령자비율\n",
       "0  강남구  3238  150.619195  561052  556164   4888  65060  0.871220  11.596073\n",
       "1  강동구  1010  166.490765  440359  436223   4136  56161  0.939234  12.753458\n",
       "2  강북구   831  125.203252  328002  324479   3523  56530  1.074079  17.234651\n",
       "3  강서구   911  134.793814  608255  601691   6564  76032  1.079153  12.500021\n",
       "4  관악구  2109  149.290780  520929  503297  17632  70046  3.384722  13.446362"
      ]
     },
     "execution_count": 93,
     "metadata": {},
     "output_type": "execute_result"
    }
   ],
   "source": [
    "result.head()"
   ]
  },
  {
   "cell_type": "markdown",
   "id": "95298ed3",
   "metadata": {},
   "source": [
    "#### 인덱스 변경\n",
    "- set_index()\n",
    "- 선택한 컬럼을 데이터 프레임의 인덱스로 지정"
   ]
  },
  {
   "cell_type": "code",
   "execution_count": 94,
   "id": "feec0990",
   "metadata": {},
   "outputs": [],
   "source": [
    "result.set_index(keys=\"구별\", inplace=True)"
   ]
  },
  {
   "cell_type": "code",
   "execution_count": 95,
   "id": "61566ee3",
   "metadata": {},
   "outputs": [
    {
     "data": {
      "text/html": [
       "<div>\n",
       "<style scoped>\n",
       "    .dataframe tbody tr th:only-of-type {\n",
       "        vertical-align: middle;\n",
       "    }\n",
       "\n",
       "    .dataframe tbody tr th {\n",
       "        vertical-align: top;\n",
       "    }\n",
       "\n",
       "    .dataframe thead th {\n",
       "        text-align: right;\n",
       "    }\n",
       "</style>\n",
       "<table border=\"1\" class=\"dataframe\">\n",
       "  <thead>\n",
       "    <tr style=\"text-align: right;\">\n",
       "      <th></th>\n",
       "      <th>소계</th>\n",
       "      <th>최근증가율</th>\n",
       "      <th>인구수</th>\n",
       "      <th>한국인</th>\n",
       "      <th>외국인</th>\n",
       "      <th>고령자</th>\n",
       "      <th>외국인비율</th>\n",
       "      <th>고령자비율</th>\n",
       "    </tr>\n",
       "    <tr>\n",
       "      <th>구별</th>\n",
       "      <th></th>\n",
       "      <th></th>\n",
       "      <th></th>\n",
       "      <th></th>\n",
       "      <th></th>\n",
       "      <th></th>\n",
       "      <th></th>\n",
       "      <th></th>\n",
       "    </tr>\n",
       "  </thead>\n",
       "  <tbody>\n",
       "    <tr>\n",
       "      <th>강남구</th>\n",
       "      <td>3238</td>\n",
       "      <td>150.619195</td>\n",
       "      <td>561052</td>\n",
       "      <td>556164</td>\n",
       "      <td>4888</td>\n",
       "      <td>65060</td>\n",
       "      <td>0.871220</td>\n",
       "      <td>11.596073</td>\n",
       "    </tr>\n",
       "    <tr>\n",
       "      <th>강동구</th>\n",
       "      <td>1010</td>\n",
       "      <td>166.490765</td>\n",
       "      <td>440359</td>\n",
       "      <td>436223</td>\n",
       "      <td>4136</td>\n",
       "      <td>56161</td>\n",
       "      <td>0.939234</td>\n",
       "      <td>12.753458</td>\n",
       "    </tr>\n",
       "    <tr>\n",
       "      <th>강북구</th>\n",
       "      <td>831</td>\n",
       "      <td>125.203252</td>\n",
       "      <td>328002</td>\n",
       "      <td>324479</td>\n",
       "      <td>3523</td>\n",
       "      <td>56530</td>\n",
       "      <td>1.074079</td>\n",
       "      <td>17.234651</td>\n",
       "    </tr>\n",
       "    <tr>\n",
       "      <th>강서구</th>\n",
       "      <td>911</td>\n",
       "      <td>134.793814</td>\n",
       "      <td>608255</td>\n",
       "      <td>601691</td>\n",
       "      <td>6564</td>\n",
       "      <td>76032</td>\n",
       "      <td>1.079153</td>\n",
       "      <td>12.500021</td>\n",
       "    </tr>\n",
       "    <tr>\n",
       "      <th>관악구</th>\n",
       "      <td>2109</td>\n",
       "      <td>149.290780</td>\n",
       "      <td>520929</td>\n",
       "      <td>503297</td>\n",
       "      <td>17632</td>\n",
       "      <td>70046</td>\n",
       "      <td>3.384722</td>\n",
       "      <td>13.446362</td>\n",
       "    </tr>\n",
       "  </tbody>\n",
       "</table>\n",
       "</div>"
      ],
      "text/plain": [
       "       소계       최근증가율     인구수     한국인    외국인    고령자     외국인비율      고령자비율\n",
       "구별                                                                      \n",
       "강남구  3238  150.619195  561052  556164   4888  65060  0.871220  11.596073\n",
       "강동구  1010  166.490765  440359  436223   4136  56161  0.939234  12.753458\n",
       "강북구   831  125.203252  328002  324479   3523  56530  1.074079  17.234651\n",
       "강서구   911  134.793814  608255  601691   6564  76032  1.079153  12.500021\n",
       "관악구  2109  149.290780  520929  503297  17632  70046  3.384722  13.446362"
      ]
     },
     "execution_count": 95,
     "metadata": {},
     "output_type": "execute_result"
    }
   ],
   "source": [
    "result.head()"
   ]
  },
  {
   "cell_type": "markdown",
   "id": "d7e2ca83",
   "metadata": {},
   "source": [
    "#### 상관계수\n",
    "- corr()\n",
    "- correlation의 약자 입니다.\n",
    "- 상관계수가 0.2 이상인 데이터를 비교"
   ]
  },
  {
   "cell_type": "code",
   "execution_count": 96,
   "id": "5654c1bd",
   "metadata": {},
   "outputs": [
    {
     "data": {
      "text/html": [
       "<div>\n",
       "<style scoped>\n",
       "    .dataframe tbody tr th:only-of-type {\n",
       "        vertical-align: middle;\n",
       "    }\n",
       "\n",
       "    .dataframe tbody tr th {\n",
       "        vertical-align: top;\n",
       "    }\n",
       "\n",
       "    .dataframe thead th {\n",
       "        text-align: right;\n",
       "    }\n",
       "</style>\n",
       "<table border=\"1\" class=\"dataframe\">\n",
       "  <thead>\n",
       "    <tr style=\"text-align: right;\">\n",
       "      <th></th>\n",
       "      <th>소계</th>\n",
       "      <th>최근증가율</th>\n",
       "      <th>인구수</th>\n",
       "      <th>한국인</th>\n",
       "      <th>외국인</th>\n",
       "      <th>고령자</th>\n",
       "      <th>외국인비율</th>\n",
       "      <th>고령자비율</th>\n",
       "    </tr>\n",
       "  </thead>\n",
       "  <tbody>\n",
       "    <tr>\n",
       "      <th>소계</th>\n",
       "      <td>1.000000</td>\n",
       "      <td>-0.264378</td>\n",
       "      <td>0.232555</td>\n",
       "      <td>0.227852</td>\n",
       "      <td>0.030421</td>\n",
       "      <td>0.163905</td>\n",
       "      <td>-0.045956</td>\n",
       "      <td>-0.267841</td>\n",
       "    </tr>\n",
       "    <tr>\n",
       "      <th>최근증가율</th>\n",
       "      <td>-0.264378</td>\n",
       "      <td>1.000000</td>\n",
       "      <td>-0.097165</td>\n",
       "      <td>-0.086341</td>\n",
       "      <td>-0.156421</td>\n",
       "      <td>-0.072251</td>\n",
       "      <td>-0.047102</td>\n",
       "      <td>0.190396</td>\n",
       "    </tr>\n",
       "    <tr>\n",
       "      <th>인구수</th>\n",
       "      <td>0.232555</td>\n",
       "      <td>-0.097165</td>\n",
       "      <td>1.000000</td>\n",
       "      <td>0.998151</td>\n",
       "      <td>-0.167243</td>\n",
       "      <td>0.936737</td>\n",
       "      <td>-0.601076</td>\n",
       "      <td>-0.637414</td>\n",
       "    </tr>\n",
       "    <tr>\n",
       "      <th>한국인</th>\n",
       "      <td>0.227852</td>\n",
       "      <td>-0.086341</td>\n",
       "      <td>0.998151</td>\n",
       "      <td>1.000000</td>\n",
       "      <td>-0.226853</td>\n",
       "      <td>0.936155</td>\n",
       "      <td>-0.645463</td>\n",
       "      <td>-0.628360</td>\n",
       "    </tr>\n",
       "    <tr>\n",
       "      <th>외국인</th>\n",
       "      <td>0.030421</td>\n",
       "      <td>-0.156421</td>\n",
       "      <td>-0.167243</td>\n",
       "      <td>-0.226853</td>\n",
       "      <td>1.000000</td>\n",
       "      <td>-0.175318</td>\n",
       "      <td>0.838612</td>\n",
       "      <td>-0.021147</td>\n",
       "    </tr>\n",
       "    <tr>\n",
       "      <th>고령자</th>\n",
       "      <td>0.163905</td>\n",
       "      <td>-0.072251</td>\n",
       "      <td>0.936737</td>\n",
       "      <td>0.936155</td>\n",
       "      <td>-0.175318</td>\n",
       "      <td>1.000000</td>\n",
       "      <td>-0.620300</td>\n",
       "      <td>-0.348840</td>\n",
       "    </tr>\n",
       "    <tr>\n",
       "      <th>외국인비율</th>\n",
       "      <td>-0.045956</td>\n",
       "      <td>-0.047102</td>\n",
       "      <td>-0.601076</td>\n",
       "      <td>-0.645463</td>\n",
       "      <td>0.838612</td>\n",
       "      <td>-0.620300</td>\n",
       "      <td>1.000000</td>\n",
       "      <td>0.242816</td>\n",
       "    </tr>\n",
       "    <tr>\n",
       "      <th>고령자비율</th>\n",
       "      <td>-0.267841</td>\n",
       "      <td>0.190396</td>\n",
       "      <td>-0.637414</td>\n",
       "      <td>-0.628360</td>\n",
       "      <td>-0.021147</td>\n",
       "      <td>-0.348840</td>\n",
       "      <td>0.242816</td>\n",
       "      <td>1.000000</td>\n",
       "    </tr>\n",
       "  </tbody>\n",
       "</table>\n",
       "</div>"
      ],
      "text/plain": [
       "             소계     최근증가율       인구수       한국인       외국인       고령자     외국인비율  \\\n",
       "소계     1.000000 -0.264378  0.232555  0.227852  0.030421  0.163905 -0.045956   \n",
       "최근증가율 -0.264378  1.000000 -0.097165 -0.086341 -0.156421 -0.072251 -0.047102   \n",
       "인구수    0.232555 -0.097165  1.000000  0.998151 -0.167243  0.936737 -0.601076   \n",
       "한국인    0.227852 -0.086341  0.998151  1.000000 -0.226853  0.936155 -0.645463   \n",
       "외국인    0.030421 -0.156421 -0.167243 -0.226853  1.000000 -0.175318  0.838612   \n",
       "고령자    0.163905 -0.072251  0.936737  0.936155 -0.175318  1.000000 -0.620300   \n",
       "외국인비율 -0.045956 -0.047102 -0.601076 -0.645463  0.838612 -0.620300  1.000000   \n",
       "고령자비율 -0.267841  0.190396 -0.637414 -0.628360 -0.021147 -0.348840  0.242816   \n",
       "\n",
       "          고령자비율  \n",
       "소계    -0.267841  \n",
       "최근증가율  0.190396  \n",
       "인구수   -0.637414  \n",
       "한국인   -0.628360  \n",
       "외국인   -0.021147  \n",
       "고령자   -0.348840  \n",
       "외국인비율  0.242816  \n",
       "고령자비율  1.000000  "
      ]
     },
     "execution_count": 96,
     "metadata": {},
     "output_type": "execute_result"
    }
   ],
   "source": [
    "result.corr()"
   ]
  },
  {
   "cell_type": "code",
   "execution_count": 97,
   "id": "589912e0",
   "metadata": {},
   "outputs": [
    {
     "data": {
      "text/html": [
       "<div>\n",
       "<style scoped>\n",
       "    .dataframe tbody tr th:only-of-type {\n",
       "        vertical-align: middle;\n",
       "    }\n",
       "\n",
       "    .dataframe tbody tr th {\n",
       "        vertical-align: top;\n",
       "    }\n",
       "\n",
       "    .dataframe thead th {\n",
       "        text-align: right;\n",
       "    }\n",
       "</style>\n",
       "<table border=\"1\" class=\"dataframe\">\n",
       "  <thead>\n",
       "    <tr style=\"text-align: right;\">\n",
       "      <th></th>\n",
       "      <th>소계</th>\n",
       "      <th>최근증가율</th>\n",
       "      <th>인구수</th>\n",
       "      <th>한국인</th>\n",
       "      <th>외국인</th>\n",
       "      <th>고령자</th>\n",
       "      <th>외국인비율</th>\n",
       "      <th>고령자비율</th>\n",
       "      <th>CCTV비율</th>\n",
       "    </tr>\n",
       "    <tr>\n",
       "      <th>구별</th>\n",
       "      <th></th>\n",
       "      <th></th>\n",
       "      <th></th>\n",
       "      <th></th>\n",
       "      <th></th>\n",
       "      <th></th>\n",
       "      <th></th>\n",
       "      <th></th>\n",
       "      <th></th>\n",
       "    </tr>\n",
       "  </thead>\n",
       "  <tbody>\n",
       "    <tr>\n",
       "      <th>강남구</th>\n",
       "      <td>3238</td>\n",
       "      <td>150.619195</td>\n",
       "      <td>561052</td>\n",
       "      <td>556164</td>\n",
       "      <td>4888</td>\n",
       "      <td>65060</td>\n",
       "      <td>0.871220</td>\n",
       "      <td>11.596073</td>\n",
       "      <td>0.577130</td>\n",
       "    </tr>\n",
       "    <tr>\n",
       "      <th>강동구</th>\n",
       "      <td>1010</td>\n",
       "      <td>166.490765</td>\n",
       "      <td>440359</td>\n",
       "      <td>436223</td>\n",
       "      <td>4136</td>\n",
       "      <td>56161</td>\n",
       "      <td>0.939234</td>\n",
       "      <td>12.753458</td>\n",
       "      <td>0.229358</td>\n",
       "    </tr>\n",
       "    <tr>\n",
       "      <th>강북구</th>\n",
       "      <td>831</td>\n",
       "      <td>125.203252</td>\n",
       "      <td>328002</td>\n",
       "      <td>324479</td>\n",
       "      <td>3523</td>\n",
       "      <td>56530</td>\n",
       "      <td>1.074079</td>\n",
       "      <td>17.234651</td>\n",
       "      <td>0.253352</td>\n",
       "    </tr>\n",
       "    <tr>\n",
       "      <th>강서구</th>\n",
       "      <td>911</td>\n",
       "      <td>134.793814</td>\n",
       "      <td>608255</td>\n",
       "      <td>601691</td>\n",
       "      <td>6564</td>\n",
       "      <td>76032</td>\n",
       "      <td>1.079153</td>\n",
       "      <td>12.500021</td>\n",
       "      <td>0.149773</td>\n",
       "    </tr>\n",
       "    <tr>\n",
       "      <th>관악구</th>\n",
       "      <td>2109</td>\n",
       "      <td>149.290780</td>\n",
       "      <td>520929</td>\n",
       "      <td>503297</td>\n",
       "      <td>17632</td>\n",
       "      <td>70046</td>\n",
       "      <td>3.384722</td>\n",
       "      <td>13.446362</td>\n",
       "      <td>0.404854</td>\n",
       "    </tr>\n",
       "  </tbody>\n",
       "</table>\n",
       "</div>"
      ],
      "text/plain": [
       "       소계       최근증가율     인구수     한국인    외국인    고령자     외국인비율      고령자비율  \\\n",
       "구별                                                                         \n",
       "강남구  3238  150.619195  561052  556164   4888  65060  0.871220  11.596073   \n",
       "강동구  1010  166.490765  440359  436223   4136  56161  0.939234  12.753458   \n",
       "강북구   831  125.203252  328002  324479   3523  56530  1.074079  17.234651   \n",
       "강서구   911  134.793814  608255  601691   6564  76032  1.079153  12.500021   \n",
       "관악구  2109  149.290780  520929  503297  17632  70046  3.384722  13.446362   \n",
       "\n",
       "       CCTV비율  \n",
       "구별             \n",
       "강남구  0.577130  \n",
       "강동구  0.229358  \n",
       "강북구  0.253352  \n",
       "강서구  0.149773  \n",
       "관악구  0.404854  "
      ]
     },
     "execution_count": 97,
     "metadata": {},
     "output_type": "execute_result"
    }
   ],
   "source": [
    "result[\"CCTV비율\"] = result[\"소계\"] / result[\"인구수\"] * 100\n",
    "result.head()"
   ]
  },
  {
   "cell_type": "code",
   "execution_count": 98,
   "id": "d8cfd60e",
   "metadata": {},
   "outputs": [
    {
     "data": {
      "text/html": [
       "<div>\n",
       "<style scoped>\n",
       "    .dataframe tbody tr th:only-of-type {\n",
       "        vertical-align: middle;\n",
       "    }\n",
       "\n",
       "    .dataframe tbody tr th {\n",
       "        vertical-align: top;\n",
       "    }\n",
       "\n",
       "    .dataframe thead th {\n",
       "        text-align: right;\n",
       "    }\n",
       "</style>\n",
       "<table border=\"1\" class=\"dataframe\">\n",
       "  <thead>\n",
       "    <tr style=\"text-align: right;\">\n",
       "      <th></th>\n",
       "      <th>소계</th>\n",
       "      <th>최근증가율</th>\n",
       "      <th>인구수</th>\n",
       "      <th>한국인</th>\n",
       "      <th>외국인</th>\n",
       "      <th>고령자</th>\n",
       "      <th>외국인비율</th>\n",
       "      <th>고령자비율</th>\n",
       "      <th>CCTV비율</th>\n",
       "    </tr>\n",
       "    <tr>\n",
       "      <th>구별</th>\n",
       "      <th></th>\n",
       "      <th></th>\n",
       "      <th></th>\n",
       "      <th></th>\n",
       "      <th></th>\n",
       "      <th></th>\n",
       "      <th></th>\n",
       "      <th></th>\n",
       "      <th></th>\n",
       "    </tr>\n",
       "  </thead>\n",
       "  <tbody>\n",
       "    <tr>\n",
       "      <th>종로구</th>\n",
       "      <td>1619</td>\n",
       "      <td>248.922414</td>\n",
       "      <td>164257</td>\n",
       "      <td>154770</td>\n",
       "      <td>9487</td>\n",
       "      <td>26182</td>\n",
       "      <td>5.775705</td>\n",
       "      <td>15.939656</td>\n",
       "      <td>0.985651</td>\n",
       "    </tr>\n",
       "    <tr>\n",
       "      <th>용산구</th>\n",
       "      <td>2096</td>\n",
       "      <td>53.216374</td>\n",
       "      <td>244444</td>\n",
       "      <td>229161</td>\n",
       "      <td>15283</td>\n",
       "      <td>36882</td>\n",
       "      <td>6.252148</td>\n",
       "      <td>15.088118</td>\n",
       "      <td>0.857456</td>\n",
       "    </tr>\n",
       "    <tr>\n",
       "      <th>중구</th>\n",
       "      <td>1023</td>\n",
       "      <td>147.699758</td>\n",
       "      <td>134593</td>\n",
       "      <td>125709</td>\n",
       "      <td>8884</td>\n",
       "      <td>21384</td>\n",
       "      <td>6.600640</td>\n",
       "      <td>15.887899</td>\n",
       "      <td>0.760069</td>\n",
       "    </tr>\n",
       "    <tr>\n",
       "      <th>강남구</th>\n",
       "      <td>3238</td>\n",
       "      <td>150.619195</td>\n",
       "      <td>561052</td>\n",
       "      <td>556164</td>\n",
       "      <td>4888</td>\n",
       "      <td>65060</td>\n",
       "      <td>0.871220</td>\n",
       "      <td>11.596073</td>\n",
       "      <td>0.577130</td>\n",
       "    </tr>\n",
       "    <tr>\n",
       "      <th>금천구</th>\n",
       "      <td>1348</td>\n",
       "      <td>100.000000</td>\n",
       "      <td>253491</td>\n",
       "      <td>235154</td>\n",
       "      <td>18337</td>\n",
       "      <td>34170</td>\n",
       "      <td>7.233787</td>\n",
       "      <td>13.479769</td>\n",
       "      <td>0.531774</td>\n",
       "    </tr>\n",
       "  </tbody>\n",
       "</table>\n",
       "</div>"
      ],
      "text/plain": [
       "       소계       최근증가율     인구수     한국인    외국인    고령자     외국인비율      고령자비율  \\\n",
       "구별                                                                         \n",
       "종로구  1619  248.922414  164257  154770   9487  26182  5.775705  15.939656   \n",
       "용산구  2096   53.216374  244444  229161  15283  36882  6.252148  15.088118   \n",
       "중구   1023  147.699758  134593  125709   8884  21384  6.600640  15.887899   \n",
       "강남구  3238  150.619195  561052  556164   4888  65060  0.871220  11.596073   \n",
       "금천구  1348  100.000000  253491  235154  18337  34170  7.233787  13.479769   \n",
       "\n",
       "       CCTV비율  \n",
       "구별             \n",
       "종로구  0.985651  \n",
       "용산구  0.857456  \n",
       "중구   0.760069  \n",
       "강남구  0.577130  \n",
       "금천구  0.531774  "
      ]
     },
     "execution_count": 98,
     "metadata": {},
     "output_type": "execute_result"
    }
   ],
   "source": [
    "result.sort_values(by=\"CCTV비율\", ascending=False).head()"
   ]
  },
  {
   "cell_type": "code",
   "execution_count": 99,
   "id": "aab3392c",
   "metadata": {},
   "outputs": [
    {
     "data": {
      "text/html": [
       "<div>\n",
       "<style scoped>\n",
       "    .dataframe tbody tr th:only-of-type {\n",
       "        vertical-align: middle;\n",
       "    }\n",
       "\n",
       "    .dataframe tbody tr th {\n",
       "        vertical-align: top;\n",
       "    }\n",
       "\n",
       "    .dataframe thead th {\n",
       "        text-align: right;\n",
       "    }\n",
       "</style>\n",
       "<table border=\"1\" class=\"dataframe\">\n",
       "  <thead>\n",
       "    <tr style=\"text-align: right;\">\n",
       "      <th></th>\n",
       "      <th>소계</th>\n",
       "      <th>최근증가율</th>\n",
       "      <th>인구수</th>\n",
       "      <th>한국인</th>\n",
       "      <th>외국인</th>\n",
       "      <th>고령자</th>\n",
       "      <th>외국인비율</th>\n",
       "      <th>고령자비율</th>\n",
       "      <th>CCTV비율</th>\n",
       "    </tr>\n",
       "    <tr>\n",
       "      <th>구별</th>\n",
       "      <th></th>\n",
       "      <th></th>\n",
       "      <th></th>\n",
       "      <th></th>\n",
       "      <th></th>\n",
       "      <th></th>\n",
       "      <th></th>\n",
       "      <th></th>\n",
       "      <th></th>\n",
       "    </tr>\n",
       "  </thead>\n",
       "  <tbody>\n",
       "    <tr>\n",
       "      <th>강서구</th>\n",
       "      <td>911</td>\n",
       "      <td>134.793814</td>\n",
       "      <td>608255</td>\n",
       "      <td>601691</td>\n",
       "      <td>6564</td>\n",
       "      <td>76032</td>\n",
       "      <td>1.079153</td>\n",
       "      <td>12.500021</td>\n",
       "      <td>0.149773</td>\n",
       "    </tr>\n",
       "    <tr>\n",
       "      <th>송파구</th>\n",
       "      <td>1081</td>\n",
       "      <td>104.347826</td>\n",
       "      <td>671173</td>\n",
       "      <td>664496</td>\n",
       "      <td>6677</td>\n",
       "      <td>76582</td>\n",
       "      <td>0.994825</td>\n",
       "      <td>11.410173</td>\n",
       "      <td>0.161061</td>\n",
       "    </tr>\n",
       "    <tr>\n",
       "      <th>중랑구</th>\n",
       "      <td>916</td>\n",
       "      <td>79.960707</td>\n",
       "      <td>412780</td>\n",
       "      <td>408226</td>\n",
       "      <td>4554</td>\n",
       "      <td>59262</td>\n",
       "      <td>1.103251</td>\n",
       "      <td>14.356800</td>\n",
       "      <td>0.221910</td>\n",
       "    </tr>\n",
       "    <tr>\n",
       "      <th>강동구</th>\n",
       "      <td>1010</td>\n",
       "      <td>166.490765</td>\n",
       "      <td>440359</td>\n",
       "      <td>436223</td>\n",
       "      <td>4136</td>\n",
       "      <td>56161</td>\n",
       "      <td>0.939234</td>\n",
       "      <td>12.753458</td>\n",
       "      <td>0.229358</td>\n",
       "    </tr>\n",
       "    <tr>\n",
       "      <th>광진구</th>\n",
       "      <td>878</td>\n",
       "      <td>53.228621</td>\n",
       "      <td>372298</td>\n",
       "      <td>357703</td>\n",
       "      <td>14595</td>\n",
       "      <td>43953</td>\n",
       "      <td>3.920247</td>\n",
       "      <td>11.805865</td>\n",
       "      <td>0.235833</td>\n",
       "    </tr>\n",
       "  </tbody>\n",
       "</table>\n",
       "</div>"
      ],
      "text/plain": [
       "       소계       최근증가율     인구수     한국인    외국인    고령자     외국인비율      고령자비율  \\\n",
       "구별                                                                         \n",
       "강서구   911  134.793814  608255  601691   6564  76032  1.079153  12.500021   \n",
       "송파구  1081  104.347826  671173  664496   6677  76582  0.994825  11.410173   \n",
       "중랑구   916   79.960707  412780  408226   4554  59262  1.103251  14.356800   \n",
       "강동구  1010  166.490765  440359  436223   4136  56161  0.939234  12.753458   \n",
       "광진구   878   53.228621  372298  357703  14595  43953  3.920247  11.805865   \n",
       "\n",
       "       CCTV비율  \n",
       "구별             \n",
       "강서구  0.149773  \n",
       "송파구  0.161061  \n",
       "중랑구  0.221910  \n",
       "강동구  0.229358  \n",
       "광진구  0.235833  "
      ]
     },
     "execution_count": 99,
     "metadata": {},
     "output_type": "execute_result"
    }
   ],
   "source": [
    "result.sort_values(by=\"CCTV비율\", ascending=True).head()"
   ]
  },
  {
   "cell_type": "markdown",
   "id": "c3223178",
   "metadata": {},
   "source": [
    "---"
   ]
  },
  {
   "cell_type": "markdown",
   "id": "6434f411",
   "metadata": {},
   "source": [
    "## matplotlib 기초"
   ]
  },
  {
   "cell_type": "markdown",
   "id": "e7851eb3",
   "metadata": {},
   "source": [
    "- Windows matplotlib 한글 설정"
   ]
  },
  {
   "cell_type": "code",
   "execution_count": 100,
   "id": "169f140b",
   "metadata": {},
   "outputs": [
    {
     "data": {
      "text/plain": [
       "'Malgun Gothic'"
      ]
     },
     "execution_count": 100,
     "metadata": {},
     "output_type": "execute_result"
    }
   ],
   "source": [
    "from matplotlib import font_manager\n",
    "from matplotlib import rc\n",
    "import matplotlib.pyplot as plt\n",
    "import matplotlib\n",
    "\n",
    "f_path = \"C:/Windows/Fonts/malgun.ttf\"\n",
    "font_name = font_manager.FontProperties(fname=f_path).get_name()\n",
    "font_name"
   ]
  },
  {
   "cell_type": "code",
   "execution_count": 101,
   "id": "54d43932",
   "metadata": {},
   "outputs": [],
   "source": [
    "# rc('font', family=font_name)\n",
    "# get_ipython().run_line_magic(\"matplotlib\", \"inline\")\n",
    "%matplotlib inline\n",
    "rc('font', family=font_name)"
   ]
  },
  {
   "cell_type": "markdown",
   "id": "7ffb6b8b",
   "metadata": {},
   "source": [
    "- matplotlib 그래프 기본 형태\n",
    "```\n",
    "plt.figure(figsize=(10,6))\n",
    "plt.plot(x, y)\n",
    "plt.show()\n",
    "```"
   ]
  },
  {
   "cell_type": "code",
   "execution_count": 102,
   "id": "48f64775",
   "metadata": {},
   "outputs": [
    {
     "data": {
      "image/png": "[encoded data removed]",
      "text/plain": [
       "<Figure size 720x432 with 1 Axes>"
      ]
     },
     "metadata": {
      "image/png": {
       "height": 358,
       "width": 590
      },
      "needs_background": "light"
     },
     "output_type": "display_data"
    }
   ],
   "source": [
    "plt.figure(figsize=(10,6))\n",
    "plt.plot([0,1,2,3,4,5,6,7,8,9], [1,2,3,4,2,3,4,5,6,10])\n",
    "plt.show()"
   ]
  },
  {
   "cell_type": "markdown",
   "id": "8a0b7833",
   "metadata": {},
   "source": [
    "### 예제1: 그래프 기초"
   ]
  },
  {
   "cell_type": "markdown",
   "id": "333d2d0d",
   "metadata": {},
   "source": [
    "#### 삼각함수 그리기\n",
    "- np.arange(a,b,s) : a부터 b까지 s간격\n",
    "- np.sin(value)"
   ]
  },
  {
   "cell_type": "code",
   "execution_count": 103,
   "id": "b8276ed6",
   "metadata": {},
   "outputs": [],
   "source": [
    "import numpy as np\n",
    "\n",
    "x = np.arange(0, 12, 0.01)\n",
    "y1 = np.sin(x)\n",
    "y2 = np.cos(x)"
   ]
  },
  {
   "cell_type": "code",
   "execution_count": 104,
   "id": "4eedcd9a",
   "metadata": {},
   "outputs": [
    {
     "data": {
      "text/plain": [
       "array([0.000e+00, 1.000e-02, 2.000e-02, ..., 1.197e+01, 1.198e+01,\n",
       "       1.199e+01])"
      ]
     },
     "execution_count": 104,
     "metadata": {},
     "output_type": "execute_result"
    }
   ],
   "source": [
    "x"
   ]
  },
  {
   "cell_type": "code",
   "execution_count": 105,
   "id": "050908e9",
   "metadata": {},
   "outputs": [
    {
     "data": {
      "text/plain": [
       "array([ 0.        ,  0.00999983,  0.01999867, ..., -0.5616433 ,\n",
       "       -0.55334156, -0.54498449])"
      ]
     },
     "execution_count": 105,
     "metadata": {},
     "output_type": "execute_result"
    }
   ],
   "source": [
    "y1"
   ]
  },
  {
   "cell_type": "code",
   "execution_count": 106,
   "id": "2a0777ea",
   "metadata": {},
   "outputs": [
    {
     "name": "stderr",
     "output_type": "stream",
     "text": [
      "C:\\Users\\jmkim\\anaconda3\\envs\\ds_study\\lib\\site-packages\\matplotlib\\backends\\backend_agg.py:240: RuntimeWarning: Glyph 8722 missing from current font.\n",
      "  font.set_text(s, 0.0, flags=flags)\n",
      "C:\\Users\\jmkim\\anaconda3\\envs\\ds_study\\lib\\site-packages\\matplotlib\\backends\\backend_agg.py:203: RuntimeWarning: Glyph 8722 missing from current font.\n",
      "  font.set_text(s, 0, flags=flags)\n"
     ]
    },
    {
     "data": {
      "image/png": "[encoded data removed]",
      "text/plain": [
       "<Figure size 720x432 with 1 Axes>"
      ]
     },
     "metadata": {
      "image/png": {
       "height": 358,
       "width": 604
      },
      "needs_background": "light"
     },
     "output_type": "display_data"
    }
   ],
   "source": [
    "plt.figure(figsize=(10, 6))\n",
    "plt.plot(x, y1, label='LG Electronics')\n",
    "plt.plot(x, y2, label='LG Electronics')\n",
    "plt.show()"
   ]
  },
  {
   "cell_type": "markdown",
   "id": "1b781314",
   "metadata": {},
   "source": [
    "- 1. 격자무늬 추가\n",
    "- 2. 그래프 제목 추가\n",
    "- 3. x축, y축 제목 추가\n",
    "- 4. 주황색, 파란색 선 데이터 의미 구분"
   ]
  },
  {
   "cell_type": "code",
   "execution_count": 107,
   "id": "67a73303",
   "metadata": {},
   "outputs": [
    {
     "name": "stderr",
     "output_type": "stream",
     "text": [
      "C:\\Users\\jmkim\\anaconda3\\envs\\ds_study\\lib\\site-packages\\matplotlib\\backends\\backend_agg.py:240: RuntimeWarning: Glyph 8722 missing from current font.\n",
      "  font.set_text(s, 0.0, flags=flags)\n",
      "C:\\Users\\jmkim\\anaconda3\\envs\\ds_study\\lib\\site-packages\\matplotlib\\backends\\backend_agg.py:203: RuntimeWarning: Glyph 8722 missing from current font.\n",
      "  font.set_text(s, 0, flags=flags)\n"
     ]
    },
    {
     "data": {
      "image/png": "[encoded data removed]",
      "text/plain": [
       "<Figure size 720x432 with 1 Axes>"
      ]
     },
     "metadata": {
      "image/png": {
       "height": 388,
       "width": 619
      },
      "needs_background": "light"
     },
     "output_type": "display_data"
    }
   ],
   "source": [
    "plt.figure(figsize=(10, 6))\n",
    "plt.plot(x, y1)\n",
    "plt.plot(x, y2)\n",
    "plt.grid(True)\n",
    "plt.legend(labels=[\"사인\", \"코사인\"])\n",
    "plt.title(\"Example of sinewave\")\n",
    "plt.xlabel(\"Time\")\n",
    "plt.ylabel(\"Amlitude\") # 진폭\n",
    "plt.show()"
   ]
  },
  {
   "cell_type": "code",
   "execution_count": 108,
   "id": "76a50180",
   "metadata": {},
   "outputs": [
    {
     "name": "stderr",
     "output_type": "stream",
     "text": [
      "C:\\Users\\jmkim\\anaconda3\\envs\\ds_study\\lib\\site-packages\\matplotlib\\backends\\backend_agg.py:240: RuntimeWarning: Glyph 8722 missing from current font.\n",
      "  font.set_text(s, 0.0, flags=flags)\n",
      "C:\\Users\\jmkim\\anaconda3\\envs\\ds_study\\lib\\site-packages\\matplotlib\\backends\\backend_agg.py:203: RuntimeWarning: Glyph 8722 missing from current font.\n",
      "  font.set_text(s, 0, flags=flags)\n"
     ]
    },
    {
     "data": {
      "image/png": "[encoded data removed]",
      "text/plain": [
       "<Figure size 720x432 with 1 Axes>"
      ]
     },
     "metadata": {
      "image/png": {
       "height": 388,
       "width": 619
      },
      "needs_background": "light"
     },
     "output_type": "display_data"
    }
   ],
   "source": [
    "plt.figure(figsize=(10, 6))\n",
    "plt.plot(x, y1, label=\"sin\")\n",
    "plt.plot(x, y2, label=\"cos\")\n",
    "plt.grid(True)\n",
    "plt.title(\"Example of sinewave\")\n",
    "plt.xlabel(\"Time\")\n",
    "plt.ylabel(\"Amlitude\") # 진폭\n",
    "plt.show()"
   ]
  },
  {
   "cell_type": "code",
   "execution_count": null,
   "id": "7005fb65",
   "metadata": {},
   "outputs": [],
   "source": []
  },
  {
   "cell_type": "code",
   "execution_count": null,
   "id": "2b91b2e2",
   "metadata": {},
   "outputs": [],
   "source": []
  },
  {
   "cell_type": "code",
   "execution_count": null,
   "id": "55c1e44e",
   "metadata": {},
   "outputs": [],
   "source": []
  }
 ],
 "metadata": {
  "kernelspec": {
   "display_name": "Python 3 (ipykernel)",
   "language": "python",
   "name": "python3"
  },
  "language_info": {
   "codemirror_mode": {
    "name": "ipython",
    "version": 3
   },
   "file_extension": ".py",
   "mimetype": "text/x-python",
   "name": "python",
   "nbconvert_exporter": "python",
   "pygments_lexer": "ipython3",
   "version": "3.8.11"
  }
 },
 "nbformat": 4,
 "nbformat_minor": 5
}

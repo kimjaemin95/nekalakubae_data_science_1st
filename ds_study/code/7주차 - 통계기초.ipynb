{
 "cells": [
  {
   "cell_type": "code",
   "execution_count": 1,
   "id": "11f74d87",
   "metadata": {},
   "outputs": [],
   "source": [
    "import numpy as np\n",
    "import pandas as pd\n",
    "\n",
    "import matplotlib.pyplot as plt\n",
    "import seaborn as sns\n",
    "\n",
    "%matplotlib inline"
   ]
  },
  {
   "cell_type": "code",
   "execution_count": 2,
   "id": "6dc2595c",
   "metadata": {},
   "outputs": [],
   "source": [
    "data = np.array([2,3,3,4,4,4,4,5,5,6])"
   ]
  },
  {
   "cell_type": "code",
   "execution_count": 3,
   "id": "349fb081",
   "metadata": {},
   "outputs": [
    {
     "data": {
      "text/plain": [
       "(4.0, 4.0)"
      ]
     },
     "execution_count": 3,
     "metadata": {},
     "output_type": "execute_result"
    }
   ],
   "source": [
    "# 평균\n",
    "mu_1 = np.sum(data) / len(data)\n",
    "mu_2 = np.mean(data)\n",
    "mu_1, mu_2"
   ]
  },
  {
   "cell_type": "code",
   "execution_count": 4,
   "id": "bb8682d7",
   "metadata": {},
   "outputs": [
    {
     "data": {
      "text/plain": [
       "(1.2, 1.2)"
      ]
     },
     "execution_count": 4,
     "metadata": {},
     "output_type": "execute_result"
    }
   ],
   "source": [
    "# 분산\n",
    "var_1 = np.sum((data - mu_1)**2) / len(data)\n",
    "var_2 = np.var(data)\n",
    "var_1, var_2"
   ]
  },
  {
   "cell_type": "code",
   "execution_count": 5,
   "id": "e9869870",
   "metadata": {},
   "outputs": [
    {
     "data": {
      "text/plain": [
       "1.3333333333333333"
      ]
     },
     "execution_count": 5,
     "metadata": {},
     "output_type": "execute_result"
    }
   ],
   "source": [
    "# 표본의 분산(불편분산)\n",
    "var_3 = np.var(data, ddof=1)\n",
    "var_3"
   ]
  },
  {
   "cell_type": "code",
   "execution_count": 6,
   "id": "4ea0069b",
   "metadata": {},
   "outputs": [
    {
     "data": {
      "text/plain": [
       "(1.0954451150103321, 1.0954451150103321)"
      ]
     },
     "execution_count": 6,
     "metadata": {},
     "output_type": "execute_result"
    }
   ],
   "source": [
    "# 표준편차\n",
    "std_1 = np.sqrt(var_1)\n",
    "std_2 = np.std(data)\n",
    "std_1, std_2"
   ]
  },
  {
   "cell_type": "code",
   "execution_count": 7,
   "id": "d179e983",
   "metadata": {},
   "outputs": [
    {
     "data": {
      "text/plain": [
       "(1.1547005383792515, 1.1547005383792515)"
      ]
     },
     "execution_count": 7,
     "metadata": {},
     "output_type": "execute_result"
    }
   ],
   "source": [
    "# 불편분산의 표준편차\n",
    "std_3 = np.sqrt(var_3)\n",
    "std_4 = np.std(data, ddof=1)\n",
    "std_3, std_4"
   ]
  },
  {
   "cell_type": "code",
   "execution_count": 8,
   "id": "3653f3ef",
   "metadata": {},
   "outputs": [
    {
     "data": {
      "image/png": "[encoded data removed]",
      "text/plain": [
       "<Figure size 360x360 with 1 Axes>"
      ]
     },
     "metadata": {
      "needs_background": "light"
     },
     "output_type": "display_data"
    }
   ],
   "source": [
    "sns.displot(data, bins=5, color=\"blue\", kde=True);"
   ]
  },
  {
   "cell_type": "markdown",
   "id": "7cb31606",
   "metadata": {},
   "source": [
    "---"
   ]
  },
  {
   "cell_type": "code",
   "execution_count": 9,
   "id": "76bd4d5d",
   "metadata": {},
   "outputs": [],
   "source": [
    "import pandas as pd"
   ]
  },
  {
   "cell_type": "code",
   "execution_count": 10,
   "id": "726f4f59",
   "metadata": {},
   "outputs": [
    {
     "data": {
      "text/html": [
       "<div>\n",
       "<style scoped>\n",
       "    .dataframe tbody tr th:only-of-type {\n",
       "        vertical-align: middle;\n",
       "    }\n",
       "\n",
       "    .dataframe tbody tr th {\n",
       "        vertical-align: top;\n",
       "    }\n",
       "\n",
       "    .dataframe thead th {\n",
       "        text-align: right;\n",
       "    }\n",
       "</style>\n",
       "<table border=\"1\" class=\"dataframe\">\n",
       "  <thead>\n",
       "    <tr style=\"text-align: right;\">\n",
       "      <th></th>\n",
       "      <th>species</th>\n",
       "      <th>length</th>\n",
       "    </tr>\n",
       "  </thead>\n",
       "  <tbody>\n",
       "    <tr>\n",
       "      <th>15</th>\n",
       "      <td>B</td>\n",
       "      <td>7</td>\n",
       "    </tr>\n",
       "    <tr>\n",
       "      <th>16</th>\n",
       "      <td>B</td>\n",
       "      <td>7</td>\n",
       "    </tr>\n",
       "    <tr>\n",
       "      <th>17</th>\n",
       "      <td>B</td>\n",
       "      <td>8</td>\n",
       "    </tr>\n",
       "    <tr>\n",
       "      <th>18</th>\n",
       "      <td>B</td>\n",
       "      <td>8</td>\n",
       "    </tr>\n",
       "    <tr>\n",
       "      <th>19</th>\n",
       "      <td>B</td>\n",
       "      <td>9</td>\n",
       "    </tr>\n",
       "  </tbody>\n",
       "</table>\n",
       "</div>"
      ],
      "text/plain": [
       "   species  length\n",
       "15       B       7\n",
       "16       B       7\n",
       "17       B       8\n",
       "18       B       8\n",
       "19       B       9"
      ]
     },
     "execution_count": 10,
     "metadata": {},
     "output_type": "execute_result"
    }
   ],
   "source": [
    "fish_multi = pd.read_csv(\"../data/3-3-2-fish_multi_2.csv\")\n",
    "fish_multi.tail()"
   ]
  },
  {
   "cell_type": "code",
   "execution_count": 11,
   "id": "1dbc51fe",
   "metadata": {},
   "outputs": [
    {
     "data": {
      "text/html": [
       "<div>\n",
       "<style scoped>\n",
       "    .dataframe tbody tr th:only-of-type {\n",
       "        vertical-align: middle;\n",
       "    }\n",
       "\n",
       "    .dataframe tbody tr th {\n",
       "        vertical-align: top;\n",
       "    }\n",
       "\n",
       "    .dataframe thead tr th {\n",
       "        text-align: left;\n",
       "    }\n",
       "\n",
       "    .dataframe thead tr:last-of-type th {\n",
       "        text-align: right;\n",
       "    }\n",
       "</style>\n",
       "<table border=\"1\" class=\"dataframe\">\n",
       "  <thead>\n",
       "    <tr>\n",
       "      <th></th>\n",
       "      <th colspan=\"8\" halign=\"left\">length</th>\n",
       "    </tr>\n",
       "    <tr>\n",
       "      <th></th>\n",
       "      <th>count</th>\n",
       "      <th>mean</th>\n",
       "      <th>std</th>\n",
       "      <th>min</th>\n",
       "      <th>25%</th>\n",
       "      <th>50%</th>\n",
       "      <th>75%</th>\n",
       "      <th>max</th>\n",
       "    </tr>\n",
       "    <tr>\n",
       "      <th>species</th>\n",
       "      <th></th>\n",
       "      <th></th>\n",
       "      <th></th>\n",
       "      <th></th>\n",
       "      <th></th>\n",
       "      <th></th>\n",
       "      <th></th>\n",
       "      <th></th>\n",
       "    </tr>\n",
       "  </thead>\n",
       "  <tbody>\n",
       "    <tr>\n",
       "      <th>A</th>\n",
       "      <td>10.0</td>\n",
       "      <td>4.0</td>\n",
       "      <td>1.154701</td>\n",
       "      <td>2.0</td>\n",
       "      <td>3.25</td>\n",
       "      <td>4.0</td>\n",
       "      <td>4.75</td>\n",
       "      <td>6.0</td>\n",
       "    </tr>\n",
       "    <tr>\n",
       "      <th>B</th>\n",
       "      <td>10.0</td>\n",
       "      <td>7.0</td>\n",
       "      <td>1.154701</td>\n",
       "      <td>5.0</td>\n",
       "      <td>6.25</td>\n",
       "      <td>7.0</td>\n",
       "      <td>7.75</td>\n",
       "      <td>9.0</td>\n",
       "    </tr>\n",
       "  </tbody>\n",
       "</table>\n",
       "</div>"
      ],
      "text/plain": [
       "        length                                          \n",
       "         count mean       std  min   25%  50%   75%  max\n",
       "species                                                 \n",
       "A         10.0  4.0  1.154701  2.0  3.25  4.0  4.75  6.0\n",
       "B         10.0  7.0  1.154701  5.0  6.25  7.0  7.75  9.0"
      ]
     },
     "execution_count": 11,
     "metadata": {},
     "output_type": "execute_result"
    }
   ],
   "source": [
    "fish_multi.groupby(\"species\").describe()"
   ]
  },
  {
   "cell_type": "code",
   "execution_count": 12,
   "id": "020e493c",
   "metadata": {},
   "outputs": [],
   "source": [
    "len_a = fish_multi.query(\"species == 'A'\")[\"length\"]\n",
    "len_b = fish_multi.query(\"species == 'B'\")[\"length\"]"
   ]
  },
  {
   "cell_type": "code",
   "execution_count": 13,
   "id": "4f943148",
   "metadata": {},
   "outputs": [
    {
     "name": "stderr",
     "output_type": "stream",
     "text": [
      "C:\\ProgramData\\Anaconda3\\lib\\site-packages\\seaborn\\distributions.py:2557: FutureWarning: `distplot` is a deprecated function and will be removed in a future version. Please adapt your code to use either `displot` (a figure-level function with similar flexibility) or `histplot` (an axes-level function for histograms).\n",
      "  warnings.warn(msg, FutureWarning)\n",
      "C:\\ProgramData\\Anaconda3\\lib\\site-packages\\seaborn\\distributions.py:2557: FutureWarning: `distplot` is a deprecated function and will be removed in a future version. Please adapt your code to use either `displot` (a figure-level function with similar flexibility) or `histplot` (an axes-level function for histograms).\n",
      "  warnings.warn(msg, FutureWarning)\n"
     ]
    },
    {
     "data": {
      "image/png": "[encoded data removed]",
      "text/plain": [
       "<Figure size 432x288 with 1 Axes>"
      ]
     },
     "metadata": {
      "needs_background": "light"
     },
     "output_type": "display_data"
    }
   ],
   "source": [
    "sns.distplot(len_a, bins=5, color=\"red\", kde=True);\n",
    "sns.distplot(len_b, bins=5, color=\"blue\", kde=True);"
   ]
  },
  {
   "cell_type": "code",
   "execution_count": 14,
   "id": "d3792fd8",
   "metadata": {},
   "outputs": [
    {
     "data": {
      "text/plain": [
       "<AxesSubplot:xlabel='species', ylabel='length'>"
      ]
     },
     "execution_count": 14,
     "metadata": {},
     "output_type": "execute_result"
    },
    {
     "data": {
      "image/png": "[encoded data removed]",
      "text/plain": [
       "<Figure size 432x288 with 1 Axes>"
      ]
     },
     "metadata": {
      "needs_background": "light"
     },
     "output_type": "display_data"
    }
   ],
   "source": [
    "sns.boxplot(x = \"species\", y = \"length\", data = fish_multi, color=\"blue\")"
   ]
  },
  {
   "cell_type": "code",
   "execution_count": 15,
   "id": "12010ea9",
   "metadata": {},
   "outputs": [
    {
     "data": {
      "text/plain": [
       "<AxesSubplot:xlabel='species', ylabel='length'>"
      ]
     },
     "execution_count": 15,
     "metadata": {},
     "output_type": "execute_result"
    },
    {
     "data": {
      "image/png": "[encoded data removed]",
      "text/plain": [
       "<Figure size 432x288 with 1 Axes>"
      ]
     },
     "metadata": {
      "needs_background": "light"
     },
     "output_type": "display_data"
    }
   ],
   "source": [
    "sns.violinplot(x = \"species\", y = \"length\", data = fish_multi, color = \"red\")"
   ]
  },
  {
   "cell_type": "code",
   "execution_count": 16,
   "id": "d3fa8687",
   "metadata": {},
   "outputs": [],
   "source": [
    "cov_data = pd.read_csv(\"../data/3-2-3-cov.csv\")"
   ]
  },
  {
   "cell_type": "code",
   "execution_count": 17,
   "id": "70946aee",
   "metadata": {},
   "outputs": [
    {
     "data": {
      "text/html": [
       "<div>\n",
       "<style scoped>\n",
       "    .dataframe tbody tr th:only-of-type {\n",
       "        vertical-align: middle;\n",
       "    }\n",
       "\n",
       "    .dataframe tbody tr th {\n",
       "        vertical-align: top;\n",
       "    }\n",
       "\n",
       "    .dataframe thead th {\n",
       "        text-align: right;\n",
       "    }\n",
       "</style>\n",
       "<table border=\"1\" class=\"dataframe\">\n",
       "  <thead>\n",
       "    <tr style=\"text-align: right;\">\n",
       "      <th></th>\n",
       "      <th>x</th>\n",
       "      <th>y</th>\n",
       "    </tr>\n",
       "  </thead>\n",
       "  <tbody>\n",
       "    <tr>\n",
       "      <th>5</th>\n",
       "      <td>21.7</td>\n",
       "      <td>41</td>\n",
       "    </tr>\n",
       "    <tr>\n",
       "      <th>6</th>\n",
       "      <td>21.8</td>\n",
       "      <td>52</td>\n",
       "    </tr>\n",
       "    <tr>\n",
       "      <th>7</th>\n",
       "      <td>22.0</td>\n",
       "      <td>44</td>\n",
       "    </tr>\n",
       "    <tr>\n",
       "      <th>8</th>\n",
       "      <td>23.4</td>\n",
       "      <td>44</td>\n",
       "    </tr>\n",
       "    <tr>\n",
       "      <th>9</th>\n",
       "      <td>23.8</td>\n",
       "      <td>49</td>\n",
       "    </tr>\n",
       "  </tbody>\n",
       "</table>\n",
       "</div>"
      ],
      "text/plain": [
       "      x   y\n",
       "5  21.7  41\n",
       "6  21.8  52\n",
       "7  22.0  44\n",
       "8  23.4  44\n",
       "9  23.8  49"
      ]
     },
     "execution_count": 17,
     "metadata": {},
     "output_type": "execute_result"
    }
   ],
   "source": [
    "cov_data.tail()"
   ]
  },
  {
   "cell_type": "code",
   "execution_count": 18,
   "id": "b1a04dcb",
   "metadata": {},
   "outputs": [
    {
     "data": {
      "image/png": "[encoded data removed]",
      "text/plain": [
       "<Figure size 432x432 with 3 Axes>"
      ]
     },
     "metadata": {
      "needs_background": "light"
     },
     "output_type": "display_data"
    }
   ],
   "source": [
    "sns.jointplot(x=\"x\", y=\"y\", data=cov_data, color=\"blue\");"
   ]
  },
  {
   "cell_type": "markdown",
   "id": "b2834ed3",
   "metadata": {},
   "source": [
    "---"
   ]
  },
  {
   "cell_type": "code",
   "execution_count": 19,
   "id": "ed69cf2f",
   "metadata": {},
   "outputs": [],
   "source": [
    "import numpy as np\n",
    "import pandas as pd\n",
    "import scipy as sp\n",
    "import seaborn as sns\n",
    "\n",
    "from scipy import stats\n",
    "from matplotlib import pyplot as plt\n",
    "\n",
    "%matplotlib inline"
   ]
  },
  {
   "cell_type": "code",
   "execution_count": 20,
   "id": "f1f177cf",
   "metadata": {},
   "outputs": [],
   "source": [
    "fish_5  = np.array([2,3,4,5,6])"
   ]
  },
  {
   "cell_type": "code",
   "execution_count": 21,
   "id": "e8ded034",
   "metadata": {},
   "outputs": [
    {
     "data": {
      "text/plain": [
       "array([3])"
      ]
     },
     "execution_count": 21,
     "metadata": {},
     "output_type": "execute_result"
    }
   ],
   "source": [
    "# 비복원 추출\n",
    "np.random.choice(fish_5, size=1, replace=False)"
   ]
  },
  {
   "cell_type": "code",
   "execution_count": 22,
   "id": "0421cd45",
   "metadata": {},
   "outputs": [
    {
     "data": {
      "text/plain": [
       "array([4, 3, 6])"
      ]
     },
     "execution_count": 22,
     "metadata": {},
     "output_type": "execute_result"
    }
   ],
   "source": [
    "np.random.choice(fish_5, size=3, replace=False)"
   ]
  },
  {
   "cell_type": "code",
   "execution_count": 23,
   "id": "e262cd6a",
   "metadata": {},
   "outputs": [
    {
     "data": {
      "text/plain": [
       "array([3, 5, 6])"
      ]
     },
     "execution_count": 23,
     "metadata": {},
     "output_type": "execute_result"
    }
   ],
   "source": [
    "np.random.seed(13)\n",
    "data = np.random.choice(fish_5, size=3, replace=False)\n",
    "data"
   ]
  },
  {
   "cell_type": "code",
   "execution_count": 24,
   "id": "a996c0a1",
   "metadata": {},
   "outputs": [
    {
     "data": {
      "text/plain": [
       "4.666666666666667"
      ]
     },
     "execution_count": 24,
     "metadata": {},
     "output_type": "execute_result"
    }
   ],
   "source": [
    "np.mean(data)"
   ]
  },
  {
   "cell_type": "code",
   "execution_count": 25,
   "id": "12e62f9d",
   "metadata": {},
   "outputs": [
    {
     "data": {
      "text/plain": [
       "0        5.297442\n",
       "1        3.505566\n",
       "2        3.572546\n",
       "3        3.135979\n",
       "4        4.689275\n",
       "           ...   \n",
       "99995    4.158780\n",
       "99996    4.818718\n",
       "99997    4.060880\n",
       "99998    4.271488\n",
       "99999    3.396745\n",
       "Name: length, Length: 100000, dtype: float64"
      ]
     },
     "execution_count": 25,
     "metadata": {},
     "output_type": "execute_result"
    }
   ],
   "source": [
    "fish_1000000 = pd.read_csv(\"../data/3-4-1-fish_length_100000.csv\")[\"length\"]\n",
    "fish_1000000"
   ]
  },
  {
   "cell_type": "code",
   "execution_count": 26,
   "id": "e906fb9d",
   "metadata": {},
   "outputs": [],
   "source": [
    "sampling_res = np.random.choice(fish_1000000, size=10, replace=False)"
   ]
  },
  {
   "cell_type": "code",
   "execution_count": 27,
   "id": "5a3ef1ee",
   "metadata": {},
   "outputs": [
    {
     "data": {
      "text/plain": [
       "array([4.75108188, 4.37498586, 3.78013026, 2.96949093, 2.68097807,\n",
       "       5.00637838, 4.31302466, 3.46929683, 5.16443516, 3.2858849 ])"
      ]
     },
     "execution_count": 27,
     "metadata": {},
     "output_type": "execute_result"
    }
   ],
   "source": [
    "sampling_res"
   ]
  },
  {
   "cell_type": "code",
   "execution_count": 28,
   "id": "65808626",
   "metadata": {},
   "outputs": [
    {
     "data": {
      "text/plain": [
       "3.9795686948818956"
      ]
     },
     "execution_count": 28,
     "metadata": {},
     "output_type": "execute_result"
    }
   ],
   "source": [
    "np.mean(sampling_res)"
   ]
  },
  {
   "cell_type": "code",
   "execution_count": 29,
   "id": "8c9ace5b",
   "metadata": {},
   "outputs": [
    {
     "data": {
      "text/plain": [
       "4.000000000000023"
      ]
     },
     "execution_count": 29,
     "metadata": {},
     "output_type": "execute_result"
    }
   ],
   "source": [
    "np.mean(fish_1000000)"
   ]
  },
  {
   "cell_type": "code",
   "execution_count": 30,
   "id": "63cb4d58",
   "metadata": {},
   "outputs": [
    {
     "name": "stderr",
     "output_type": "stream",
     "text": [
      "C:\\ProgramData\\Anaconda3\\lib\\site-packages\\seaborn\\distributions.py:2557: FutureWarning: `distplot` is a deprecated function and will be removed in a future version. Please adapt your code to use either `displot` (a figure-level function with similar flexibility) or `histplot` (an axes-level function for histograms).\n",
      "  warnings.warn(msg, FutureWarning)\n"
     ]
    },
    {
     "data": {
      "text/plain": [
       "<AxesSubplot:xlabel='length', ylabel='Density'>"
      ]
     },
     "execution_count": 30,
     "metadata": {},
     "output_type": "execute_result"
    },
    {
     "data": {
      "image/png": "[encoded data removed]",
      "text/plain": [
       "<Figure size 432x288 with 1 Axes>"
      ]
     },
     "metadata": {
      "needs_background": "light"
     },
     "output_type": "display_data"
    }
   ],
   "source": [
    "sns.distplot(fish_1000000, kde=True, color=\"blue\")"
   ]
  },
  {
   "cell_type": "code",
   "execution_count": 31,
   "id": "ffedeb5a",
   "metadata": {},
   "outputs": [
    {
     "data": {
      "text/plain": [
       "4.000000000000023"
      ]
     },
     "execution_count": 31,
     "metadata": {},
     "output_type": "execute_result"
    }
   ],
   "source": [
    "# 모집단의 평균\n",
    "np.mean(fish_1000000)"
   ]
  },
  {
   "cell_type": "code",
   "execution_count": 32,
   "id": "b61fd739",
   "metadata": {},
   "outputs": [
    {
     "data": {
      "text/plain": [
       "0.8000000000000054"
      ]
     },
     "execution_count": 32,
     "metadata": {},
     "output_type": "execute_result"
    }
   ],
   "source": [
    "# 모집단의 분포\n",
    "np.std(fish_1000000, ddof=0)"
   ]
  },
  {
   "cell_type": "code",
   "execution_count": 33,
   "id": "1cc05677",
   "metadata": {},
   "outputs": [
    {
     "data": {
      "text/plain": [
       "array([1. , 1.1, 1.2, 1.3, 1.4, 1.5, 1.6, 1.7, 1.8, 1.9, 2. , 2.1, 2.2,\n",
       "       2.3, 2.4, 2.5, 2.6, 2.7, 2.8, 2.9, 3. , 3.1, 3.2, 3.3, 3.4, 3.5,\n",
       "       3.6, 3.7, 3.8, 3.9, 4. , 4.1, 4.2, 4.3, 4.4, 4.5, 4.6, 4.7, 4.8,\n",
       "       4.9, 5. , 5.1, 5.2, 5.3, 5.4, 5.5, 5.6, 5.7, 5.8, 5.9, 6. , 6.1,\n",
       "       6.2, 6.3, 6.4, 6.5, 6.6, 6.7, 6.8, 6.9, 7. ])"
      ]
     },
     "execution_count": 33,
     "metadata": {},
     "output_type": "execute_result"
    }
   ],
   "source": [
    "# 1부터 7까지 0.1간격의 데이터 추출\n",
    "x = np.arange(1, 7.1, 0.1)\n",
    "x"
   ]
  },
  {
   "cell_type": "code",
   "execution_count": 34,
   "id": "b48733d9",
   "metadata": {},
   "outputs": [
    {
     "data": {
      "text/plain": [
       "[<matplotlib.lines.Line2D at 0x2c0dbe08cd0>]"
      ]
     },
     "execution_count": 34,
     "metadata": {},
     "output_type": "execute_result"
    },
    {
     "data": {
      "image/png": "[encoded data removed]",
      "text/plain": [
       "<Figure size 432x288 with 1 Axes>"
      ]
     },
     "metadata": {
      "needs_background": "light"
     },
     "output_type": "display_data"
    }
   ],
   "source": [
    "# 정규분포(평균이 4이고, 표준편차이 0.8인 정규분포)\n",
    "# 참고 : https://m.blog.naver.com/pmw9440/221805677577\n",
    "stats.norm.pdf(x=x, loc=4, scale=0.8)\n",
    "plt.plot(x, stats.norm.pdf(x=x, loc=4, scale=0.8), color=\"blue\")"
   ]
  },
  {
   "cell_type": "code",
   "execution_count": 35,
   "id": "bb991013",
   "metadata": {},
   "outputs": [
    {
     "name": "stderr",
     "output_type": "stream",
     "text": [
      "C:\\ProgramData\\Anaconda3\\lib\\site-packages\\seaborn\\distributions.py:2557: FutureWarning: `distplot` is a deprecated function and will be removed in a future version. Please adapt your code to use either `displot` (a figure-level function with similar flexibility) or `histplot` (an axes-level function for histograms).\n",
      "  warnings.warn(msg, FutureWarning)\n"
     ]
    },
    {
     "data": {
      "image/png": "[encoded data removed]",
      "text/plain": [
       "<Figure size 432x288 with 1 Axes>"
      ]
     },
     "metadata": {
      "needs_background": "light"
     },
     "output_type": "display_data"
    }
   ],
   "source": [
    "sns.distplot(fish_1000000, kde=True, color=\"blue\", norm_hist=True);\n",
    "plt.plot(x, stats.norm.pdf(x=x, loc=4, scale=0.8), color=\"blue\");"
   ]
  },
  {
   "cell_type": "markdown",
   "id": "d166c6cf",
   "metadata": {},
   "source": [
    "---"
   ]
  },
  {
   "cell_type": "markdown",
   "id": "f4cf257d",
   "metadata": {},
   "source": [
    "## 표본 통계"
   ]
  },
  {
   "cell_type": "code",
   "execution_count": 36,
   "id": "7337f5e4",
   "metadata": {},
   "outputs": [],
   "source": [
    "import numpy as np\n",
    "import pandas as pd\n",
    "import scipy as sp\n",
    "import seaborn as sns\n",
    "\n",
    "from scipy import stats\n",
    "from matplotlib import pyplot as plt\n",
    "\n",
    "%matplotlib inline"
   ]
  },
  {
   "cell_type": "code",
   "execution_count": 37,
   "id": "9f849971",
   "metadata": {},
   "outputs": [],
   "source": [
    "# 평균이 4이고, 표준편차가 0.8인 정규분포를 따르는 모집단 선언\n",
    "population = stats.norm(loc=4, scale=0.8)"
   ]
  },
  {
   "cell_type": "code",
   "execution_count": 38,
   "id": "0519948f",
   "metadata": {},
   "outputs": [
    {
     "data": {
      "text/plain": [
       "<scipy.stats._distn_infrastructure.rv_frozen at 0x2c0dbab5910>"
      ]
     },
     "execution_count": 38,
     "metadata": {},
     "output_type": "execute_result"
    }
   ],
   "source": [
    "population"
   ]
  },
  {
   "cell_type": "code",
   "execution_count": 39,
   "id": "0fa0ef2d",
   "metadata": {},
   "outputs": [
    {
     "data": {
      "text/plain": [
       "array([4.18898812, 4.79061943, 4.28772989, 4.04296001, 4.09719955,\n",
       "       2.05939026, 3.07932599, 3.74287471, 3.19586343, 4.63246982])"
      ]
     },
     "execution_count": 39,
     "metadata": {},
     "output_type": "execute_result"
    }
   ],
   "source": [
    "# 평균이 4이고, 표준편차가 0.8인 정규분포를 따르는 모집단에서 10개의 데이터를 추출\n",
    "population.rvs(size=10)"
   ]
  },
  {
   "cell_type": "code",
   "execution_count": 40,
   "id": "e7a508f5",
   "metadata": {},
   "outputs": [
    {
     "data": {
      "text/plain": [
       "(array([0., 0., 0., ..., 0., 0., 0.]), 10000)"
      ]
     },
     "execution_count": 40,
     "metadata": {},
     "output_type": "execute_result"
    }
   ],
   "source": [
    "sample_mean_array = np.zeros(10000)\n",
    "sample_mean_array, len(sample_mean_array)"
   ]
  },
  {
   "cell_type": "code",
   "execution_count": 41,
   "id": "d7a94c46",
   "metadata": {},
   "outputs": [],
   "source": [
    "np.random.seed(13)\n",
    "for i in range(0, len(sample_mean_array)):\n",
    "    sample = population.rvs(size = 10)\n",
    "    sample_mean_array[i] = np.mean(sample)"
   ]
  },
  {
   "cell_type": "code",
   "execution_count": 42,
   "id": "a893fb54",
   "metadata": {},
   "outputs": [
    {
     "data": {
      "text/plain": [
       "array([4.3976666 , 4.18857764, 3.8425394 , ..., 4.12495865, 4.12127892,\n",
       "       4.05054023])"
      ]
     },
     "execution_count": 42,
     "metadata": {},
     "output_type": "execute_result"
    }
   ],
   "source": [
    "sample_mean_array"
   ]
  },
  {
   "cell_type": "code",
   "execution_count": 43,
   "id": "dc686c87",
   "metadata": {},
   "outputs": [
    {
     "data": {
      "text/plain": [
       "4.003651723722899"
      ]
     },
     "execution_count": 43,
     "metadata": {},
     "output_type": "execute_result"
    }
   ],
   "source": [
    "np.mean(sample_mean_array)"
   ]
  },
  {
   "cell_type": "code",
   "execution_count": 44,
   "id": "710f6cf4",
   "metadata": {},
   "outputs": [
    {
     "data": {
      "text/plain": [
       "0.25328735533634056"
      ]
     },
     "execution_count": 44,
     "metadata": {},
     "output_type": "execute_result"
    }
   ],
   "source": [
    "np.std(sample_mean_array, ddof=0)"
   ]
  },
  {
   "cell_type": "code",
   "execution_count": 45,
   "id": "771889b2",
   "metadata": {},
   "outputs": [
    {
     "data": {
      "text/plain": [
       "0.25330002065401414"
      ]
     },
     "execution_count": 45,
     "metadata": {},
     "output_type": "execute_result"
    }
   ],
   "source": [
    "np.std(sample_mean_array, ddof=1)"
   ]
  },
  {
   "cell_type": "code",
   "execution_count": 46,
   "id": "eab7ba7b",
   "metadata": {},
   "outputs": [
    {
     "name": "stderr",
     "output_type": "stream",
     "text": [
      "C:\\ProgramData\\Anaconda3\\lib\\site-packages\\seaborn\\distributions.py:2557: FutureWarning: `distplot` is a deprecated function and will be removed in a future version. Please adapt your code to use either `displot` (a figure-level function with similar flexibility) or `histplot` (an axes-level function for histograms).\n",
      "  warnings.warn(msg, FutureWarning)\n"
     ]
    },
    {
     "data": {
      "image/png": "[encoded data removed]",
      "text/plain": [
       "<Figure size 432x288 with 1 Axes>"
      ]
     },
     "metadata": {
      "needs_background": "light"
     },
     "output_type": "display_data"
    }
   ],
   "source": [
    "sns.distplot(sample_mean_array, color=\"blue\");"
   ]
  },
  {
   "cell_type": "code",
   "execution_count": 68,
   "id": "a08617be",
   "metadata": {},
   "outputs": [
    {
     "data": {
      "text/plain": [
       "(1001, array([    10,    110,    210, ...,  99810,  99910, 100010]))"
      ]
     },
     "execution_count": 68,
     "metadata": {},
     "output_type": "execute_result"
    }
   ],
   "source": [
    "# 샘플사이즈를 다양하게 다시 시도해보자\n",
    "size_array = np.arange(10, 100100, 100)\n",
    "len(size_array), size_array"
   ]
  },
  {
   "cell_type": "code",
   "execution_count": 69,
   "id": "919a1537",
   "metadata": {},
   "outputs": [],
   "source": [
    "sample_mean_array_size = np.zeros(len(size_array))"
   ]
  },
  {
   "cell_type": "code",
   "execution_count": 70,
   "id": "d55cd0e8",
   "metadata": {},
   "outputs": [
    {
     "data": {
      "text/plain": [
       "(1001, array([0., 0., 0., ..., 0., 0., 0.]))"
      ]
     },
     "execution_count": 70,
     "metadata": {},
     "output_type": "execute_result"
    }
   ],
   "source": [
    "len(sample_mean_array_size), sample_mean_array_size"
   ]
  },
  {
   "cell_type": "code",
   "execution_count": 71,
   "id": "588df112",
   "metadata": {},
   "outputs": [
    {
     "name": "stdout",
     "output_type": "stream",
     "text": [
      "모집단에서 10 개수만큼 추출해주세요.\n",
      "모집단에서 10 개수만큼 추출한 데이터의 평균을 만들어주세요.\n",
      "모집단에서 110 개수만큼 추출해주세요.\n",
      "모집단에서 110 개수만큼 추출한 데이터의 평균을 만들어주세요.\n",
      "모집단에서 210 개수만큼 추출해주세요.\n",
      "모집단에서 210 개수만큼 추출한 데이터의 평균을 만들어주세요.\n",
      "모집단에서 310 개수만큼 추출해주세요.\n",
      "모집단에서 310 개수만큼 추출한 데이터의 평균을 만들어주세요.\n",
      "모집단에서 410 개수만큼 추출해주세요.\n",
      "모집단에서 410 개수만큼 추출한 데이터의 평균을 만들어주세요.\n",
      "모집단에서 510 개수만큼 추출해주세요.\n",
      "모집단에서 510 개수만큼 추출한 데이터의 평균을 만들어주세요.\n",
      "모집단에서 610 개수만큼 추출해주세요.\n",
      "모집단에서 610 개수만큼 추출한 데이터의 평균을 만들어주세요.\n",
      "모집단에서 710 개수만큼 추출해주세요.\n",
      "모집단에서 710 개수만큼 추출한 데이터의 평균을 만들어주세요.\n",
      "모집단에서 810 개수만큼 추출해주세요.\n",
      "모집단에서 810 개수만큼 추출한 데이터의 평균을 만들어주세요.\n",
      "모집단에서 910 개수만큼 추출해주세요.\n",
      "모집단에서 910 개수만큼 추출한 데이터의 평균을 만들어주세요.\n",
      "모집단에서 1010 개수만큼 추출해주세요.\n",
      "모집단에서 1010 개수만큼 추출한 데이터의 평균을 만들어주세요.\n",
      "모집단에서 1110 개수만큼 추출해주세요.\n",
      "모집단에서 1110 개수만큼 추출한 데이터의 평균을 만들어주세요.\n",
      "모집단에서 1210 개수만큼 추출해주세요.\n",
      "모집단에서 1210 개수만큼 추출한 데이터의 평균을 만들어주세요.\n",
      "모집단에서 1310 개수만큼 추출해주세요.\n",
      "모집단에서 1310 개수만큼 추출한 데이터의 평균을 만들어주세요.\n",
      "모집단에서 1410 개수만큼 추출해주세요.\n",
      "모집단에서 1410 개수만큼 추출한 데이터의 평균을 만들어주세요.\n",
      "모집단에서 1510 개수만큼 추출해주세요.\n",
      "모집단에서 1510 개수만큼 추출한 데이터의 평균을 만들어주세요.\n",
      "모집단에서 1610 개수만큼 추출해주세요.\n",
      "모집단에서 1610 개수만큼 추출한 데이터의 평균을 만들어주세요.\n",
      "모집단에서 1710 개수만큼 추출해주세요.\n",
      "모집단에서 1710 개수만큼 추출한 데이터의 평균을 만들어주세요.\n",
      "모집단에서 1810 개수만큼 추출해주세요.\n",
      "모집단에서 1810 개수만큼 추출한 데이터의 평균을 만들어주세요.\n",
      "모집단에서 1910 개수만큼 추출해주세요.\n",
      "모집단에서 1910 개수만큼 추출한 데이터의 평균을 만들어주세요.\n",
      "모집단에서 2010 개수만큼 추출해주세요.\n",
      "모집단에서 2010 개수만큼 추출한 데이터의 평균을 만들어주세요.\n",
      "모집단에서 2110 개수만큼 추출해주세요.\n",
      "모집단에서 2110 개수만큼 추출한 데이터의 평균을 만들어주세요.\n",
      "모집단에서 2210 개수만큼 추출해주세요.\n",
      "모집단에서 2210 개수만큼 추출한 데이터의 평균을 만들어주세요.\n",
      "모집단에서 2310 개수만큼 추출해주세요.\n",
      "모집단에서 2310 개수만큼 추출한 데이터의 평균을 만들어주세요.\n",
      "모집단에서 2410 개수만큼 추출해주세요.\n",
      "모집단에서 2410 개수만큼 추출한 데이터의 평균을 만들어주세요.\n",
      "모집단에서 2510 개수만큼 추출해주세요.\n",
      "모집단에서 2510 개수만큼 추출한 데이터의 평균을 만들어주세요.\n",
      "모집단에서 2610 개수만큼 추출해주세요.\n",
      "모집단에서 2610 개수만큼 추출한 데이터의 평균을 만들어주세요.\n",
      "모집단에서 2710 개수만큼 추출해주세요.\n",
      "모집단에서 2710 개수만큼 추출한 데이터의 평균을 만들어주세요.\n",
      "모집단에서 2810 개수만큼 추출해주세요.\n",
      "모집단에서 2810 개수만큼 추출한 데이터의 평균을 만들어주세요.\n",
      "모집단에서 2910 개수만큼 추출해주세요.\n",
      "모집단에서 2910 개수만큼 추출한 데이터의 평균을 만들어주세요.\n",
      "모집단에서 3010 개수만큼 추출해주세요.\n",
      "모집단에서 3010 개수만큼 추출한 데이터의 평균을 만들어주세요.\n",
      "모집단에서 3110 개수만큼 추출해주세요.\n",
      "모집단에서 3110 개수만큼 추출한 데이터의 평균을 만들어주세요.\n",
      "모집단에서 3210 개수만큼 추출해주세요.\n",
      "모집단에서 3210 개수만큼 추출한 데이터의 평균을 만들어주세요.\n",
      "모집단에서 3310 개수만큼 추출해주세요.\n",
      "모집단에서 3310 개수만큼 추출한 데이터의 평균을 만들어주세요.\n",
      "모집단에서 3410 개수만큼 추출해주세요.\n",
      "모집단에서 3410 개수만큼 추출한 데이터의 평균을 만들어주세요.\n",
      "모집단에서 3510 개수만큼 추출해주세요.\n",
      "모집단에서 3510 개수만큼 추출한 데이터의 평균을 만들어주세요.\n",
      "모집단에서 3610 개수만큼 추출해주세요.\n",
      "모집단에서 3610 개수만큼 추출한 데이터의 평균을 만들어주세요.\n",
      "모집단에서 3710 개수만큼 추출해주세요.\n",
      "모집단에서 3710 개수만큼 추출한 데이터의 평균을 만들어주세요.\n",
      "모집단에서 3810 개수만큼 추출해주세요.\n",
      "모집단에서 3810 개수만큼 추출한 데이터의 평균을 만들어주세요.\n",
      "모집단에서 3910 개수만큼 추출해주세요.\n",
      "모집단에서 3910 개수만큼 추출한 데이터의 평균을 만들어주세요.\n",
      "모집단에서 4010 개수만큼 추출해주세요.\n",
      "모집단에서 4010 개수만큼 추출한 데이터의 평균을 만들어주세요.\n",
      "모집단에서 4110 개수만큼 추출해주세요.\n",
      "모집단에서 4110 개수만큼 추출한 데이터의 평균을 만들어주세요.\n",
      "모집단에서 4210 개수만큼 추출해주세요.\n",
      "모집단에서 4210 개수만큼 추출한 데이터의 평균을 만들어주세요.\n",
      "모집단에서 4310 개수만큼 추출해주세요.\n",
      "모집단에서 4310 개수만큼 추출한 데이터의 평균을 만들어주세요.\n",
      "모집단에서 4410 개수만큼 추출해주세요.\n",
      "모집단에서 4410 개수만큼 추출한 데이터의 평균을 만들어주세요.\n",
      "모집단에서 4510 개수만큼 추출해주세요.\n",
      "모집단에서 4510 개수만큼 추출한 데이터의 평균을 만들어주세요.\n",
      "모집단에서 4610 개수만큼 추출해주세요.\n",
      "모집단에서 4610 개수만큼 추출한 데이터의 평균을 만들어주세요.\n",
      "모집단에서 4710 개수만큼 추출해주세요.\n",
      "모집단에서 4710 개수만큼 추출한 데이터의 평균을 만들어주세요.\n",
      "모집단에서 4810 개수만큼 추출해주세요.\n",
      "모집단에서 4810 개수만큼 추출한 데이터의 평균을 만들어주세요.\n",
      "모집단에서 4910 개수만큼 추출해주세요.\n",
      "모집단에서 4910 개수만큼 추출한 데이터의 평균을 만들어주세요.\n",
      "모집단에서 5010 개수만큼 추출해주세요.\n",
      "모집단에서 5010 개수만큼 추출한 데이터의 평균을 만들어주세요.\n",
      "모집단에서 5110 개수만큼 추출해주세요.\n",
      "모집단에서 5110 개수만큼 추출한 데이터의 평균을 만들어주세요.\n",
      "모집단에서 5210 개수만큼 추출해주세요.\n",
      "모집단에서 5210 개수만큼 추출한 데이터의 평균을 만들어주세요.\n",
      "모집단에서 5310 개수만큼 추출해주세요.\n",
      "모집단에서 5310 개수만큼 추출한 데이터의 평균을 만들어주세요.\n",
      "모집단에서 5410 개수만큼 추출해주세요.\n",
      "모집단에서 5410 개수만큼 추출한 데이터의 평균을 만들어주세요.\n",
      "모집단에서 5510 개수만큼 추출해주세요.\n",
      "모집단에서 5510 개수만큼 추출한 데이터의 평균을 만들어주세요.\n",
      "모집단에서 5610 개수만큼 추출해주세요.\n",
      "모집단에서 5610 개수만큼 추출한 데이터의 평균을 만들어주세요.\n",
      "모집단에서 5710 개수만큼 추출해주세요.\n",
      "모집단에서 5710 개수만큼 추출한 데이터의 평균을 만들어주세요.\n",
      "모집단에서 5810 개수만큼 추출해주세요.\n",
      "모집단에서 5810 개수만큼 추출한 데이터의 평균을 만들어주세요.\n",
      "모집단에서 5910 개수만큼 추출해주세요.\n",
      "모집단에서 5910 개수만큼 추출한 데이터의 평균을 만들어주세요.\n",
      "모집단에서 6010 개수만큼 추출해주세요.\n",
      "모집단에서 6010 개수만큼 추출한 데이터의 평균을 만들어주세요.\n",
      "모집단에서 6110 개수만큼 추출해주세요.\n",
      "모집단에서 6110 개수만큼 추출한 데이터의 평균을 만들어주세요.\n",
      "모집단에서 6210 개수만큼 추출해주세요.\n",
      "모집단에서 6210 개수만큼 추출한 데이터의 평균을 만들어주세요.\n",
      "모집단에서 6310 개수만큼 추출해주세요.\n",
      "모집단에서 6310 개수만큼 추출한 데이터의 평균을 만들어주세요.\n",
      "모집단에서 6410 개수만큼 추출해주세요.\n",
      "모집단에서 6410 개수만큼 추출한 데이터의 평균을 만들어주세요.\n",
      "모집단에서 6510 개수만큼 추출해주세요.\n",
      "모집단에서 6510 개수만큼 추출한 데이터의 평균을 만들어주세요.\n",
      "모집단에서 6610 개수만큼 추출해주세요.\n",
      "모집단에서 6610 개수만큼 추출한 데이터의 평균을 만들어주세요.\n",
      "모집단에서 6710 개수만큼 추출해주세요.\n",
      "모집단에서 6710 개수만큼 추출한 데이터의 평균을 만들어주세요.\n",
      "모집단에서 6810 개수만큼 추출해주세요.\n",
      "모집단에서 6810 개수만큼 추출한 데이터의 평균을 만들어주세요.\n",
      "모집단에서 6910 개수만큼 추출해주세요.\n",
      "모집단에서 6910 개수만큼 추출한 데이터의 평균을 만들어주세요.\n",
      "모집단에서 7010 개수만큼 추출해주세요.\n",
      "모집단에서 7010 개수만큼 추출한 데이터의 평균을 만들어주세요.\n",
      "모집단에서 7110 개수만큼 추출해주세요.\n",
      "모집단에서 7110 개수만큼 추출한 데이터의 평균을 만들어주세요.\n",
      "모집단에서 7210 개수만큼 추출해주세요.\n",
      "모집단에서 7210 개수만큼 추출한 데이터의 평균을 만들어주세요.\n",
      "모집단에서 7310 개수만큼 추출해주세요.\n",
      "모집단에서 7310 개수만큼 추출한 데이터의 평균을 만들어주세요.\n",
      "모집단에서 7410 개수만큼 추출해주세요.\n",
      "모집단에서 7410 개수만큼 추출한 데이터의 평균을 만들어주세요.\n",
      "모집단에서 7510 개수만큼 추출해주세요.\n",
      "모집단에서 7510 개수만큼 추출한 데이터의 평균을 만들어주세요.\n",
      "모집단에서 7610 개수만큼 추출해주세요.\n",
      "모집단에서 7610 개수만큼 추출한 데이터의 평균을 만들어주세요.\n",
      "모집단에서 7710 개수만큼 추출해주세요.\n",
      "모집단에서 7710 개수만큼 추출한 데이터의 평균을 만들어주세요.\n",
      "모집단에서 7810 개수만큼 추출해주세요.\n",
      "모집단에서 7810 개수만큼 추출한 데이터의 평균을 만들어주세요.\n",
      "모집단에서 7910 개수만큼 추출해주세요.\n",
      "모집단에서 7910 개수만큼 추출한 데이터의 평균을 만들어주세요.\n",
      "모집단에서 8010 개수만큼 추출해주세요.\n",
      "모집단에서 8010 개수만큼 추출한 데이터의 평균을 만들어주세요.\n",
      "모집단에서 8110 개수만큼 추출해주세요.\n",
      "모집단에서 8110 개수만큼 추출한 데이터의 평균을 만들어주세요.\n",
      "모집단에서 8210 개수만큼 추출해주세요.\n",
      "모집단에서 8210 개수만큼 추출한 데이터의 평균을 만들어주세요.\n",
      "모집단에서 8310 개수만큼 추출해주세요.\n",
      "모집단에서 8310 개수만큼 추출한 데이터의 평균을 만들어주세요.\n",
      "모집단에서 8410 개수만큼 추출해주세요.\n",
      "모집단에서 8410 개수만큼 추출한 데이터의 평균을 만들어주세요.\n",
      "모집단에서 8510 개수만큼 추출해주세요.\n",
      "모집단에서 8510 개수만큼 추출한 데이터의 평균을 만들어주세요.\n",
      "모집단에서 8610 개수만큼 추출해주세요.\n",
      "모집단에서 8610 개수만큼 추출한 데이터의 평균을 만들어주세요.\n",
      "모집단에서 8710 개수만큼 추출해주세요.\n",
      "모집단에서 8710 개수만큼 추출한 데이터의 평균을 만들어주세요.\n",
      "모집단에서 8810 개수만큼 추출해주세요.\n",
      "모집단에서 8810 개수만큼 추출한 데이터의 평균을 만들어주세요.\n",
      "모집단에서 8910 개수만큼 추출해주세요.\n",
      "모집단에서 8910 개수만큼 추출한 데이터의 평균을 만들어주세요.\n",
      "모집단에서 9010 개수만큼 추출해주세요.\n",
      "모집단에서 9010 개수만큼 추출한 데이터의 평균을 만들어주세요.\n",
      "모집단에서 9110 개수만큼 추출해주세요.\n",
      "모집단에서 9110 개수만큼 추출한 데이터의 평균을 만들어주세요.\n",
      "모집단에서 9210 개수만큼 추출해주세요.\n",
      "모집단에서 9210 개수만큼 추출한 데이터의 평균을 만들어주세요.\n",
      "모집단에서 9310 개수만큼 추출해주세요.\n",
      "모집단에서 9310 개수만큼 추출한 데이터의 평균을 만들어주세요.\n",
      "모집단에서 9410 개수만큼 추출해주세요.\n",
      "모집단에서 9410 개수만큼 추출한 데이터의 평균을 만들어주세요.\n",
      "모집단에서 9510 개수만큼 추출해주세요.\n",
      "모집단에서 9510 개수만큼 추출한 데이터의 평균을 만들어주세요.\n",
      "모집단에서 9610 개수만큼 추출해주세요.\n",
      "모집단에서 9610 개수만큼 추출한 데이터의 평균을 만들어주세요.\n",
      "모집단에서 9710 개수만큼 추출해주세요.\n",
      "모집단에서 9710 개수만큼 추출한 데이터의 평균을 만들어주세요.\n",
      "모집단에서 9810 개수만큼 추출해주세요.\n",
      "모집단에서 9810 개수만큼 추출한 데이터의 평균을 만들어주세요.\n",
      "모집단에서 9910 개수만큼 추출해주세요.\n",
      "모집단에서 9910 개수만큼 추출한 데이터의 평균을 만들어주세요.\n",
      "모집단에서 10010 개수만큼 추출해주세요.\n",
      "모집단에서 10010 개수만큼 추출한 데이터의 평균을 만들어주세요.\n",
      "모집단에서 10110 개수만큼 추출해주세요.\n",
      "모집단에서 10110 개수만큼 추출한 데이터의 평균을 만들어주세요.\n",
      "모집단에서 10210 개수만큼 추출해주세요.\n",
      "모집단에서 10210 개수만큼 추출한 데이터의 평균을 만들어주세요.\n",
      "모집단에서 10310 개수만큼 추출해주세요.\n",
      "모집단에서 10310 개수만큼 추출한 데이터의 평균을 만들어주세요.\n",
      "모집단에서 10410 개수만큼 추출해주세요.\n",
      "모집단에서 10410 개수만큼 추출한 데이터의 평균을 만들어주세요.\n",
      "모집단에서 10510 개수만큼 추출해주세요.\n",
      "모집단에서 10510 개수만큼 추출한 데이터의 평균을 만들어주세요.\n",
      "모집단에서 10610 개수만큼 추출해주세요.\n",
      "모집단에서 10610 개수만큼 추출한 데이터의 평균을 만들어주세요.\n",
      "모집단에서 10710 개수만큼 추출해주세요.\n",
      "모집단에서 10710 개수만큼 추출한 데이터의 평균을 만들어주세요.\n",
      "모집단에서 10810 개수만큼 추출해주세요.\n",
      "모집단에서 10810 개수만큼 추출한 데이터의 평균을 만들어주세요.\n",
      "모집단에서 10910 개수만큼 추출해주세요.\n",
      "모집단에서 10910 개수만큼 추출한 데이터의 평균을 만들어주세요.\n",
      "모집단에서 11010 개수만큼 추출해주세요.\n",
      "모집단에서 11010 개수만큼 추출한 데이터의 평균을 만들어주세요.\n",
      "모집단에서 11110 개수만큼 추출해주세요.\n",
      "모집단에서 11110 개수만큼 추출한 데이터의 평균을 만들어주세요.\n",
      "모집단에서 11210 개수만큼 추출해주세요.\n",
      "모집단에서 11210 개수만큼 추출한 데이터의 평균을 만들어주세요.\n",
      "모집단에서 11310 개수만큼 추출해주세요.\n",
      "모집단에서 11310 개수만큼 추출한 데이터의 평균을 만들어주세요.\n",
      "모집단에서 11410 개수만큼 추출해주세요.\n",
      "모집단에서 11410 개수만큼 추출한 데이터의 평균을 만들어주세요.\n",
      "모집단에서 11510 개수만큼 추출해주세요.\n",
      "모집단에서 11510 개수만큼 추출한 데이터의 평균을 만들어주세요.\n",
      "모집단에서 11610 개수만큼 추출해주세요.\n",
      "모집단에서 11610 개수만큼 추출한 데이터의 평균을 만들어주세요.\n",
      "모집단에서 11710 개수만큼 추출해주세요.\n",
      "모집단에서 11710 개수만큼 추출한 데이터의 평균을 만들어주세요.\n",
      "모집단에서 11810 개수만큼 추출해주세요.\n",
      "모집단에서 11810 개수만큼 추출한 데이터의 평균을 만들어주세요.\n",
      "모집단에서 11910 개수만큼 추출해주세요.\n",
      "모집단에서 11910 개수만큼 추출한 데이터의 평균을 만들어주세요.\n",
      "모집단에서 12010 개수만큼 추출해주세요.\n",
      "모집단에서 12010 개수만큼 추출한 데이터의 평균을 만들어주세요.\n",
      "모집단에서 12110 개수만큼 추출해주세요.\n",
      "모집단에서 12110 개수만큼 추출한 데이터의 평균을 만들어주세요.\n",
      "모집단에서 12210 개수만큼 추출해주세요.\n",
      "모집단에서 12210 개수만큼 추출한 데이터의 평균을 만들어주세요.\n",
      "모집단에서 12310 개수만큼 추출해주세요.\n",
      "모집단에서 12310 개수만큼 추출한 데이터의 평균을 만들어주세요.\n",
      "모집단에서 12410 개수만큼 추출해주세요.\n",
      "모집단에서 12410 개수만큼 추출한 데이터의 평균을 만들어주세요.\n",
      "모집단에서 12510 개수만큼 추출해주세요.\n",
      "모집단에서 12510 개수만큼 추출한 데이터의 평균을 만들어주세요.\n",
      "모집단에서 12610 개수만큼 추출해주세요.\n",
      "모집단에서 12610 개수만큼 추출한 데이터의 평균을 만들어주세요.\n",
      "모집단에서 12710 개수만큼 추출해주세요.\n",
      "모집단에서 12710 개수만큼 추출한 데이터의 평균을 만들어주세요.\n",
      "모집단에서 12810 개수만큼 추출해주세요.\n",
      "모집단에서 12810 개수만큼 추출한 데이터의 평균을 만들어주세요.\n",
      "모집단에서 12910 개수만큼 추출해주세요.\n",
      "모집단에서 12910 개수만큼 추출한 데이터의 평균을 만들어주세요.\n",
      "모집단에서 13010 개수만큼 추출해주세요.\n",
      "모집단에서 13010 개수만큼 추출한 데이터의 평균을 만들어주세요.\n",
      "모집단에서 13110 개수만큼 추출해주세요.\n",
      "모집단에서 13110 개수만큼 추출한 데이터의 평균을 만들어주세요.\n",
      "모집단에서 13210 개수만큼 추출해주세요.\n",
      "모집단에서 13210 개수만큼 추출한 데이터의 평균을 만들어주세요.\n",
      "모집단에서 13310 개수만큼 추출해주세요.\n",
      "모집단에서 13310 개수만큼 추출한 데이터의 평균을 만들어주세요.\n",
      "모집단에서 13410 개수만큼 추출해주세요.\n",
      "모집단에서 13410 개수만큼 추출한 데이터의 평균을 만들어주세요.\n",
      "모집단에서 13510 개수만큼 추출해주세요.\n",
      "모집단에서 13510 개수만큼 추출한 데이터의 평균을 만들어주세요.\n",
      "모집단에서 13610 개수만큼 추출해주세요.\n",
      "모집단에서 13610 개수만큼 추출한 데이터의 평균을 만들어주세요.\n",
      "모집단에서 13710 개수만큼 추출해주세요.\n",
      "모집단에서 13710 개수만큼 추출한 데이터의 평균을 만들어주세요.\n",
      "모집단에서 13810 개수만큼 추출해주세요.\n",
      "모집단에서 13810 개수만큼 추출한 데이터의 평균을 만들어주세요.\n",
      "모집단에서 13910 개수만큼 추출해주세요.\n",
      "모집단에서 13910 개수만큼 추출한 데이터의 평균을 만들어주세요.\n",
      "모집단에서 14010 개수만큼 추출해주세요.\n",
      "모집단에서 14010 개수만큼 추출한 데이터의 평균을 만들어주세요.\n",
      "모집단에서 14110 개수만큼 추출해주세요.\n",
      "모집단에서 14110 개수만큼 추출한 데이터의 평균을 만들어주세요.\n",
      "모집단에서 14210 개수만큼 추출해주세요.\n",
      "모집단에서 14210 개수만큼 추출한 데이터의 평균을 만들어주세요.\n",
      "모집단에서 14310 개수만큼 추출해주세요.\n",
      "모집단에서 14310 개수만큼 추출한 데이터의 평균을 만들어주세요.\n",
      "모집단에서 14410 개수만큼 추출해주세요.\n",
      "모집단에서 14410 개수만큼 추출한 데이터의 평균을 만들어주세요.\n",
      "모집단에서 14510 개수만큼 추출해주세요.\n",
      "모집단에서 14510 개수만큼 추출한 데이터의 평균을 만들어주세요.\n",
      "모집단에서 14610 개수만큼 추출해주세요.\n",
      "모집단에서 14610 개수만큼 추출한 데이터의 평균을 만들어주세요.\n",
      "모집단에서 14710 개수만큼 추출해주세요.\n",
      "모집단에서 14710 개수만큼 추출한 데이터의 평균을 만들어주세요.\n",
      "모집단에서 14810 개수만큼 추출해주세요.\n",
      "모집단에서 14810 개수만큼 추출한 데이터의 평균을 만들어주세요.\n",
      "모집단에서 14910 개수만큼 추출해주세요.\n",
      "모집단에서 14910 개수만큼 추출한 데이터의 평균을 만들어주세요.\n",
      "모집단에서 15010 개수만큼 추출해주세요.\n",
      "모집단에서 15010 개수만큼 추출한 데이터의 평균을 만들어주세요.\n",
      "모집단에서 15110 개수만큼 추출해주세요.\n",
      "모집단에서 15110 개수만큼 추출한 데이터의 평균을 만들어주세요.\n",
      "모집단에서 15210 개수만큼 추출해주세요.\n",
      "모집단에서 15210 개수만큼 추출한 데이터의 평균을 만들어주세요.\n",
      "모집단에서 15310 개수만큼 추출해주세요.\n",
      "모집단에서 15310 개수만큼 추출한 데이터의 평균을 만들어주세요.\n",
      "모집단에서 15410 개수만큼 추출해주세요.\n",
      "모집단에서 15410 개수만큼 추출한 데이터의 평균을 만들어주세요.\n",
      "모집단에서 15510 개수만큼 추출해주세요.\n",
      "모집단에서 15510 개수만큼 추출한 데이터의 평균을 만들어주세요.\n",
      "모집단에서 15610 개수만큼 추출해주세요.\n",
      "모집단에서 15610 개수만큼 추출한 데이터의 평균을 만들어주세요.\n",
      "모집단에서 15710 개수만큼 추출해주세요.\n",
      "모집단에서 15710 개수만큼 추출한 데이터의 평균을 만들어주세요.\n",
      "모집단에서 15810 개수만큼 추출해주세요.\n",
      "모집단에서 15810 개수만큼 추출한 데이터의 평균을 만들어주세요.\n",
      "모집단에서 15910 개수만큼 추출해주세요.\n",
      "모집단에서 15910 개수만큼 추출한 데이터의 평균을 만들어주세요.\n",
      "모집단에서 16010 개수만큼 추출해주세요.\n",
      "모집단에서 16010 개수만큼 추출한 데이터의 평균을 만들어주세요.\n",
      "모집단에서 16110 개수만큼 추출해주세요.\n",
      "모집단에서 16110 개수만큼 추출한 데이터의 평균을 만들어주세요.\n",
      "모집단에서 16210 개수만큼 추출해주세요.\n",
      "모집단에서 16210 개수만큼 추출한 데이터의 평균을 만들어주세요.\n",
      "모집단에서 16310 개수만큼 추출해주세요.\n",
      "모집단에서 16310 개수만큼 추출한 데이터의 평균을 만들어주세요.\n",
      "모집단에서 16410 개수만큼 추출해주세요.\n",
      "모집단에서 16410 개수만큼 추출한 데이터의 평균을 만들어주세요.\n",
      "모집단에서 16510 개수만큼 추출해주세요.\n",
      "모집단에서 16510 개수만큼 추출한 데이터의 평균을 만들어주세요.\n",
      "모집단에서 16610 개수만큼 추출해주세요.\n",
      "모집단에서 16610 개수만큼 추출한 데이터의 평균을 만들어주세요.\n",
      "모집단에서 16710 개수만큼 추출해주세요.\n",
      "모집단에서 16710 개수만큼 추출한 데이터의 평균을 만들어주세요.\n",
      "모집단에서 16810 개수만큼 추출해주세요.\n",
      "모집단에서 16810 개수만큼 추출한 데이터의 평균을 만들어주세요.\n",
      "모집단에서 16910 개수만큼 추출해주세요.\n",
      "모집단에서 16910 개수만큼 추출한 데이터의 평균을 만들어주세요.\n",
      "모집단에서 17010 개수만큼 추출해주세요.\n",
      "모집단에서 17010 개수만큼 추출한 데이터의 평균을 만들어주세요.\n",
      "모집단에서 17110 개수만큼 추출해주세요.\n",
      "모집단에서 17110 개수만큼 추출한 데이터의 평균을 만들어주세요.\n",
      "모집단에서 17210 개수만큼 추출해주세요.\n",
      "모집단에서 17210 개수만큼 추출한 데이터의 평균을 만들어주세요.\n",
      "모집단에서 17310 개수만큼 추출해주세요.\n",
      "모집단에서 17310 개수만큼 추출한 데이터의 평균을 만들어주세요.\n",
      "모집단에서 17410 개수만큼 추출해주세요.\n",
      "모집단에서 17410 개수만큼 추출한 데이터의 평균을 만들어주세요.\n",
      "모집단에서 17510 개수만큼 추출해주세요.\n",
      "모집단에서 17510 개수만큼 추출한 데이터의 평균을 만들어주세요.\n",
      "모집단에서 17610 개수만큼 추출해주세요.\n",
      "모집단에서 17610 개수만큼 추출한 데이터의 평균을 만들어주세요.\n",
      "모집단에서 17710 개수만큼 추출해주세요.\n",
      "모집단에서 17710 개수만큼 추출한 데이터의 평균을 만들어주세요.\n",
      "모집단에서 17810 개수만큼 추출해주세요.\n",
      "모집단에서 17810 개수만큼 추출한 데이터의 평균을 만들어주세요.\n",
      "모집단에서 17910 개수만큼 추출해주세요.\n",
      "모집단에서 17910 개수만큼 추출한 데이터의 평균을 만들어주세요.\n",
      "모집단에서 18010 개수만큼 추출해주세요.\n",
      "모집단에서 18010 개수만큼 추출한 데이터의 평균을 만들어주세요.\n",
      "모집단에서 18110 개수만큼 추출해주세요.\n",
      "모집단에서 18110 개수만큼 추출한 데이터의 평균을 만들어주세요.\n",
      "모집단에서 18210 개수만큼 추출해주세요.\n",
      "모집단에서 18210 개수만큼 추출한 데이터의 평균을 만들어주세요.\n",
      "모집단에서 18310 개수만큼 추출해주세요.\n",
      "모집단에서 18310 개수만큼 추출한 데이터의 평균을 만들어주세요.\n",
      "모집단에서 18410 개수만큼 추출해주세요.\n",
      "모집단에서 18410 개수만큼 추출한 데이터의 평균을 만들어주세요.\n",
      "모집단에서 18510 개수만큼 추출해주세요.\n",
      "모집단에서 18510 개수만큼 추출한 데이터의 평균을 만들어주세요.\n",
      "모집단에서 18610 개수만큼 추출해주세요.\n",
      "모집단에서 18610 개수만큼 추출한 데이터의 평균을 만들어주세요.\n",
      "모집단에서 18710 개수만큼 추출해주세요.\n",
      "모집단에서 18710 개수만큼 추출한 데이터의 평균을 만들어주세요.\n",
      "모집단에서 18810 개수만큼 추출해주세요.\n",
      "모집단에서 18810 개수만큼 추출한 데이터의 평균을 만들어주세요.\n",
      "모집단에서 18910 개수만큼 추출해주세요.\n",
      "모집단에서 18910 개수만큼 추출한 데이터의 평균을 만들어주세요.\n",
      "모집단에서 19010 개수만큼 추출해주세요.\n",
      "모집단에서 19010 개수만큼 추출한 데이터의 평균을 만들어주세요.\n",
      "모집단에서 19110 개수만큼 추출해주세요.\n",
      "모집단에서 19110 개수만큼 추출한 데이터의 평균을 만들어주세요.\n",
      "모집단에서 19210 개수만큼 추출해주세요.\n",
      "모집단에서 19210 개수만큼 추출한 데이터의 평균을 만들어주세요.\n",
      "모집단에서 19310 개수만큼 추출해주세요.\n",
      "모집단에서 19310 개수만큼 추출한 데이터의 평균을 만들어주세요.\n",
      "모집단에서 19410 개수만큼 추출해주세요.\n",
      "모집단에서 19410 개수만큼 추출한 데이터의 평균을 만들어주세요.\n",
      "모집단에서 19510 개수만큼 추출해주세요.\n",
      "모집단에서 19510 개수만큼 추출한 데이터의 평균을 만들어주세요.\n",
      "모집단에서 19610 개수만큼 추출해주세요.\n",
      "모집단에서 19610 개수만큼 추출한 데이터의 평균을 만들어주세요.\n",
      "모집단에서 19710 개수만큼 추출해주세요.\n",
      "모집단에서 19710 개수만큼 추출한 데이터의 평균을 만들어주세요.\n",
      "모집단에서 19810 개수만큼 추출해주세요.\n",
      "모집단에서 19810 개수만큼 추출한 데이터의 평균을 만들어주세요.\n",
      "모집단에서 19910 개수만큼 추출해주세요.\n",
      "모집단에서 19910 개수만큼 추출한 데이터의 평균을 만들어주세요.\n",
      "모집단에서 20010 개수만큼 추출해주세요.\n",
      "모집단에서 20010 개수만큼 추출한 데이터의 평균을 만들어주세요.\n",
      "모집단에서 20110 개수만큼 추출해주세요.\n",
      "모집단에서 20110 개수만큼 추출한 데이터의 평균을 만들어주세요.\n",
      "모집단에서 20210 개수만큼 추출해주세요.\n",
      "모집단에서 20210 개수만큼 추출한 데이터의 평균을 만들어주세요.\n",
      "모집단에서 20310 개수만큼 추출해주세요.\n",
      "모집단에서 20310 개수만큼 추출한 데이터의 평균을 만들어주세요.\n",
      "모집단에서 20410 개수만큼 추출해주세요.\n",
      "모집단에서 20410 개수만큼 추출한 데이터의 평균을 만들어주세요.\n",
      "모집단에서 20510 개수만큼 추출해주세요.\n",
      "모집단에서 20510 개수만큼 추출한 데이터의 평균을 만들어주세요.\n",
      "모집단에서 20610 개수만큼 추출해주세요.\n",
      "모집단에서 20610 개수만큼 추출한 데이터의 평균을 만들어주세요.\n",
      "모집단에서 20710 개수만큼 추출해주세요.\n",
      "모집단에서 20710 개수만큼 추출한 데이터의 평균을 만들어주세요.\n",
      "모집단에서 20810 개수만큼 추출해주세요.\n",
      "모집단에서 20810 개수만큼 추출한 데이터의 평균을 만들어주세요.\n",
      "모집단에서 20910 개수만큼 추출해주세요.\n",
      "모집단에서 20910 개수만큼 추출한 데이터의 평균을 만들어주세요.\n",
      "모집단에서 21010 개수만큼 추출해주세요.\n",
      "모집단에서 21010 개수만큼 추출한 데이터의 평균을 만들어주세요.\n",
      "모집단에서 21110 개수만큼 추출해주세요.\n",
      "모집단에서 21110 개수만큼 추출한 데이터의 평균을 만들어주세요.\n",
      "모집단에서 21210 개수만큼 추출해주세요.\n",
      "모집단에서 21210 개수만큼 추출한 데이터의 평균을 만들어주세요.\n",
      "모집단에서 21310 개수만큼 추출해주세요.\n",
      "모집단에서 21310 개수만큼 추출한 데이터의 평균을 만들어주세요.\n",
      "모집단에서 21410 개수만큼 추출해주세요.\n",
      "모집단에서 21410 개수만큼 추출한 데이터의 평균을 만들어주세요.\n",
      "모집단에서 21510 개수만큼 추출해주세요.\n",
      "모집단에서 21510 개수만큼 추출한 데이터의 평균을 만들어주세요.\n",
      "모집단에서 21610 개수만큼 추출해주세요.\n",
      "모집단에서 21610 개수만큼 추출한 데이터의 평균을 만들어주세요.\n",
      "모집단에서 21710 개수만큼 추출해주세요.\n",
      "모집단에서 21710 개수만큼 추출한 데이터의 평균을 만들어주세요.\n",
      "모집단에서 21810 개수만큼 추출해주세요.\n",
      "모집단에서 21810 개수만큼 추출한 데이터의 평균을 만들어주세요.\n",
      "모집단에서 21910 개수만큼 추출해주세요.\n",
      "모집단에서 21910 개수만큼 추출한 데이터의 평균을 만들어주세요.\n",
      "모집단에서 22010 개수만큼 추출해주세요.\n",
      "모집단에서 22010 개수만큼 추출한 데이터의 평균을 만들어주세요.\n",
      "모집단에서 22110 개수만큼 추출해주세요.\n",
      "모집단에서 22110 개수만큼 추출한 데이터의 평균을 만들어주세요.\n",
      "모집단에서 22210 개수만큼 추출해주세요.\n",
      "모집단에서 22210 개수만큼 추출한 데이터의 평균을 만들어주세요.\n",
      "모집단에서 22310 개수만큼 추출해주세요.\n",
      "모집단에서 22310 개수만큼 추출한 데이터의 평균을 만들어주세요.\n",
      "모집단에서 22410 개수만큼 추출해주세요.\n",
      "모집단에서 22410 개수만큼 추출한 데이터의 평균을 만들어주세요.\n",
      "모집단에서 22510 개수만큼 추출해주세요.\n",
      "모집단에서 22510 개수만큼 추출한 데이터의 평균을 만들어주세요.\n",
      "모집단에서 22610 개수만큼 추출해주세요.\n",
      "모집단에서 22610 개수만큼 추출한 데이터의 평균을 만들어주세요.\n",
      "모집단에서 22710 개수만큼 추출해주세요.\n",
      "모집단에서 22710 개수만큼 추출한 데이터의 평균을 만들어주세요.\n",
      "모집단에서 22810 개수만큼 추출해주세요.\n",
      "모집단에서 22810 개수만큼 추출한 데이터의 평균을 만들어주세요.\n",
      "모집단에서 22910 개수만큼 추출해주세요.\n",
      "모집단에서 22910 개수만큼 추출한 데이터의 평균을 만들어주세요.\n",
      "모집단에서 23010 개수만큼 추출해주세요.\n",
      "모집단에서 23010 개수만큼 추출한 데이터의 평균을 만들어주세요.\n",
      "모집단에서 23110 개수만큼 추출해주세요.\n",
      "모집단에서 23110 개수만큼 추출한 데이터의 평균을 만들어주세요.\n",
      "모집단에서 23210 개수만큼 추출해주세요.\n",
      "모집단에서 23210 개수만큼 추출한 데이터의 평균을 만들어주세요.\n",
      "모집단에서 23310 개수만큼 추출해주세요.\n",
      "모집단에서 23310 개수만큼 추출한 데이터의 평균을 만들어주세요.\n",
      "모집단에서 23410 개수만큼 추출해주세요.\n",
      "모집단에서 23410 개수만큼 추출한 데이터의 평균을 만들어주세요.\n",
      "모집단에서 23510 개수만큼 추출해주세요.\n",
      "모집단에서 23510 개수만큼 추출한 데이터의 평균을 만들어주세요.\n",
      "모집단에서 23610 개수만큼 추출해주세요.\n",
      "모집단에서 23610 개수만큼 추출한 데이터의 평균을 만들어주세요.\n",
      "모집단에서 23710 개수만큼 추출해주세요.\n",
      "모집단에서 23710 개수만큼 추출한 데이터의 평균을 만들어주세요.\n",
      "모집단에서 23810 개수만큼 추출해주세요.\n",
      "모집단에서 23810 개수만큼 추출한 데이터의 평균을 만들어주세요.\n",
      "모집단에서 23910 개수만큼 추출해주세요.\n",
      "모집단에서 23910 개수만큼 추출한 데이터의 평균을 만들어주세요.\n",
      "모집단에서 24010 개수만큼 추출해주세요.\n",
      "모집단에서 24010 개수만큼 추출한 데이터의 평균을 만들어주세요.\n",
      "모집단에서 24110 개수만큼 추출해주세요.\n",
      "모집단에서 24110 개수만큼 추출한 데이터의 평균을 만들어주세요.\n",
      "모집단에서 24210 개수만큼 추출해주세요.\n",
      "모집단에서 24210 개수만큼 추출한 데이터의 평균을 만들어주세요.\n",
      "모집단에서 24310 개수만큼 추출해주세요.\n",
      "모집단에서 24310 개수만큼 추출한 데이터의 평균을 만들어주세요.\n",
      "모집단에서 24410 개수만큼 추출해주세요.\n",
      "모집단에서 24410 개수만큼 추출한 데이터의 평균을 만들어주세요.\n",
      "모집단에서 24510 개수만큼 추출해주세요.\n",
      "모집단에서 24510 개수만큼 추출한 데이터의 평균을 만들어주세요.\n",
      "모집단에서 24610 개수만큼 추출해주세요.\n",
      "모집단에서 24610 개수만큼 추출한 데이터의 평균을 만들어주세요.\n",
      "모집단에서 24710 개수만큼 추출해주세요.\n",
      "모집단에서 24710 개수만큼 추출한 데이터의 평균을 만들어주세요.\n",
      "모집단에서 24810 개수만큼 추출해주세요.\n",
      "모집단에서 24810 개수만큼 추출한 데이터의 평균을 만들어주세요.\n",
      "모집단에서 24910 개수만큼 추출해주세요.\n",
      "모집단에서 24910 개수만큼 추출한 데이터의 평균을 만들어주세요.\n",
      "모집단에서 25010 개수만큼 추출해주세요.\n",
      "모집단에서 25010 개수만큼 추출한 데이터의 평균을 만들어주세요.\n",
      "모집단에서 25110 개수만큼 추출해주세요.\n",
      "모집단에서 25110 개수만큼 추출한 데이터의 평균을 만들어주세요.\n",
      "모집단에서 25210 개수만큼 추출해주세요.\n",
      "모집단에서 25210 개수만큼 추출한 데이터의 평균을 만들어주세요.\n",
      "모집단에서 25310 개수만큼 추출해주세요.\n",
      "모집단에서 25310 개수만큼 추출한 데이터의 평균을 만들어주세요.\n",
      "모집단에서 25410 개수만큼 추출해주세요.\n",
      "모집단에서 25410 개수만큼 추출한 데이터의 평균을 만들어주세요.\n",
      "모집단에서 25510 개수만큼 추출해주세요.\n",
      "모집단에서 25510 개수만큼 추출한 데이터의 평균을 만들어주세요.\n",
      "모집단에서 25610 개수만큼 추출해주세요.\n",
      "모집단에서 25610 개수만큼 추출한 데이터의 평균을 만들어주세요.\n",
      "모집단에서 25710 개수만큼 추출해주세요.\n",
      "모집단에서 25710 개수만큼 추출한 데이터의 평균을 만들어주세요.\n",
      "모집단에서 25810 개수만큼 추출해주세요.\n",
      "모집단에서 25810 개수만큼 추출한 데이터의 평균을 만들어주세요.\n",
      "모집단에서 25910 개수만큼 추출해주세요.\n",
      "모집단에서 25910 개수만큼 추출한 데이터의 평균을 만들어주세요.\n",
      "모집단에서 26010 개수만큼 추출해주세요.\n",
      "모집단에서 26010 개수만큼 추출한 데이터의 평균을 만들어주세요.\n",
      "모집단에서 26110 개수만큼 추출해주세요.\n",
      "모집단에서 26110 개수만큼 추출한 데이터의 평균을 만들어주세요.\n",
      "모집단에서 26210 개수만큼 추출해주세요.\n",
      "모집단에서 26210 개수만큼 추출한 데이터의 평균을 만들어주세요.\n",
      "모집단에서 26310 개수만큼 추출해주세요.\n",
      "모집단에서 26310 개수만큼 추출한 데이터의 평균을 만들어주세요.\n",
      "모집단에서 26410 개수만큼 추출해주세요.\n",
      "모집단에서 26410 개수만큼 추출한 데이터의 평균을 만들어주세요.\n",
      "모집단에서 26510 개수만큼 추출해주세요.\n",
      "모집단에서 26510 개수만큼 추출한 데이터의 평균을 만들어주세요.\n",
      "모집단에서 26610 개수만큼 추출해주세요.\n",
      "모집단에서 26610 개수만큼 추출한 데이터의 평균을 만들어주세요.\n",
      "모집단에서 26710 개수만큼 추출해주세요.\n",
      "모집단에서 26710 개수만큼 추출한 데이터의 평균을 만들어주세요.\n",
      "모집단에서 26810 개수만큼 추출해주세요.\n",
      "모집단에서 26810 개수만큼 추출한 데이터의 평균을 만들어주세요.\n",
      "모집단에서 26910 개수만큼 추출해주세요.\n",
      "모집단에서 26910 개수만큼 추출한 데이터의 평균을 만들어주세요.\n",
      "모집단에서 27010 개수만큼 추출해주세요.\n",
      "모집단에서 27010 개수만큼 추출한 데이터의 평균을 만들어주세요.\n",
      "모집단에서 27110 개수만큼 추출해주세요.\n",
      "모집단에서 27110 개수만큼 추출한 데이터의 평균을 만들어주세요.\n",
      "모집단에서 27210 개수만큼 추출해주세요.\n",
      "모집단에서 27210 개수만큼 추출한 데이터의 평균을 만들어주세요.\n",
      "모집단에서 27310 개수만큼 추출해주세요.\n",
      "모집단에서 27310 개수만큼 추출한 데이터의 평균을 만들어주세요.\n",
      "모집단에서 27410 개수만큼 추출해주세요.\n",
      "모집단에서 27410 개수만큼 추출한 데이터의 평균을 만들어주세요.\n",
      "모집단에서 27510 개수만큼 추출해주세요.\n",
      "모집단에서 27510 개수만큼 추출한 데이터의 평균을 만들어주세요.\n",
      "모집단에서 27610 개수만큼 추출해주세요.\n",
      "모집단에서 27610 개수만큼 추출한 데이터의 평균을 만들어주세요.\n",
      "모집단에서 27710 개수만큼 추출해주세요.\n",
      "모집단에서 27710 개수만큼 추출한 데이터의 평균을 만들어주세요.\n",
      "모집단에서 27810 개수만큼 추출해주세요.\n",
      "모집단에서 27810 개수만큼 추출한 데이터의 평균을 만들어주세요.\n",
      "모집단에서 27910 개수만큼 추출해주세요.\n",
      "모집단에서 27910 개수만큼 추출한 데이터의 평균을 만들어주세요.\n",
      "모집단에서 28010 개수만큼 추출해주세요.\n",
      "모집단에서 28010 개수만큼 추출한 데이터의 평균을 만들어주세요.\n",
      "모집단에서 28110 개수만큼 추출해주세요.\n",
      "모집단에서 28110 개수만큼 추출한 데이터의 평균을 만들어주세요.\n",
      "모집단에서 28210 개수만큼 추출해주세요.\n",
      "모집단에서 28210 개수만큼 추출한 데이터의 평균을 만들어주세요.\n",
      "모집단에서 28310 개수만큼 추출해주세요.\n",
      "모집단에서 28310 개수만큼 추출한 데이터의 평균을 만들어주세요.\n",
      "모집단에서 28410 개수만큼 추출해주세요.\n",
      "모집단에서 28410 개수만큼 추출한 데이터의 평균을 만들어주세요.\n",
      "모집단에서 28510 개수만큼 추출해주세요.\n",
      "모집단에서 28510 개수만큼 추출한 데이터의 평균을 만들어주세요.\n",
      "모집단에서 28610 개수만큼 추출해주세요.\n",
      "모집단에서 28610 개수만큼 추출한 데이터의 평균을 만들어주세요.\n",
      "모집단에서 28710 개수만큼 추출해주세요.\n",
      "모집단에서 28710 개수만큼 추출한 데이터의 평균을 만들어주세요.\n",
      "모집단에서 28810 개수만큼 추출해주세요.\n",
      "모집단에서 28810 개수만큼 추출한 데이터의 평균을 만들어주세요.\n",
      "모집단에서 28910 개수만큼 추출해주세요.\n",
      "모집단에서 28910 개수만큼 추출한 데이터의 평균을 만들어주세요.\n",
      "모집단에서 29010 개수만큼 추출해주세요.\n",
      "모집단에서 29010 개수만큼 추출한 데이터의 평균을 만들어주세요.\n",
      "모집단에서 29110 개수만큼 추출해주세요.\n",
      "모집단에서 29110 개수만큼 추출한 데이터의 평균을 만들어주세요.\n",
      "모집단에서 29210 개수만큼 추출해주세요.\n",
      "모집단에서 29210 개수만큼 추출한 데이터의 평균을 만들어주세요.\n",
      "모집단에서 29310 개수만큼 추출해주세요.\n",
      "모집단에서 29310 개수만큼 추출한 데이터의 평균을 만들어주세요.\n",
      "모집단에서 29410 개수만큼 추출해주세요.\n",
      "모집단에서 29410 개수만큼 추출한 데이터의 평균을 만들어주세요.\n",
      "모집단에서 29510 개수만큼 추출해주세요.\n",
      "모집단에서 29510 개수만큼 추출한 데이터의 평균을 만들어주세요.\n",
      "모집단에서 29610 개수만큼 추출해주세요.\n",
      "모집단에서 29610 개수만큼 추출한 데이터의 평균을 만들어주세요.\n",
      "모집단에서 29710 개수만큼 추출해주세요.\n",
      "모집단에서 29710 개수만큼 추출한 데이터의 평균을 만들어주세요.\n",
      "모집단에서 29810 개수만큼 추출해주세요.\n",
      "모집단에서 29810 개수만큼 추출한 데이터의 평균을 만들어주세요.\n",
      "모집단에서 29910 개수만큼 추출해주세요.\n",
      "모집단에서 29910 개수만큼 추출한 데이터의 평균을 만들어주세요.\n",
      "모집단에서 30010 개수만큼 추출해주세요.\n",
      "모집단에서 30010 개수만큼 추출한 데이터의 평균을 만들어주세요.\n",
      "모집단에서 30110 개수만큼 추출해주세요.\n",
      "모집단에서 30110 개수만큼 추출한 데이터의 평균을 만들어주세요.\n",
      "모집단에서 30210 개수만큼 추출해주세요.\n",
      "모집단에서 30210 개수만큼 추출한 데이터의 평균을 만들어주세요.\n",
      "모집단에서 30310 개수만큼 추출해주세요.\n",
      "모집단에서 30310 개수만큼 추출한 데이터의 평균을 만들어주세요.\n",
      "모집단에서 30410 개수만큼 추출해주세요.\n",
      "모집단에서 30410 개수만큼 추출한 데이터의 평균을 만들어주세요.\n",
      "모집단에서 30510 개수만큼 추출해주세요.\n",
      "모집단에서 30510 개수만큼 추출한 데이터의 평균을 만들어주세요.\n",
      "모집단에서 30610 개수만큼 추출해주세요.\n",
      "모집단에서 30610 개수만큼 추출한 데이터의 평균을 만들어주세요.\n",
      "모집단에서 30710 개수만큼 추출해주세요.\n",
      "모집단에서 30710 개수만큼 추출한 데이터의 평균을 만들어주세요.\n",
      "모집단에서 30810 개수만큼 추출해주세요.\n",
      "모집단에서 30810 개수만큼 추출한 데이터의 평균을 만들어주세요.\n"
     ]
    },
    {
     "name": "stdout",
     "output_type": "stream",
     "text": [
      "모집단에서 30910 개수만큼 추출해주세요.\n",
      "모집단에서 30910 개수만큼 추출한 데이터의 평균을 만들어주세요.\n",
      "모집단에서 31010 개수만큼 추출해주세요.\n",
      "모집단에서 31010 개수만큼 추출한 데이터의 평균을 만들어주세요.\n",
      "모집단에서 31110 개수만큼 추출해주세요.\n",
      "모집단에서 31110 개수만큼 추출한 데이터의 평균을 만들어주세요.\n",
      "모집단에서 31210 개수만큼 추출해주세요.\n",
      "모집단에서 31210 개수만큼 추출한 데이터의 평균을 만들어주세요.\n",
      "모집단에서 31310 개수만큼 추출해주세요.\n",
      "모집단에서 31310 개수만큼 추출한 데이터의 평균을 만들어주세요.\n",
      "모집단에서 31410 개수만큼 추출해주세요.\n",
      "모집단에서 31410 개수만큼 추출한 데이터의 평균을 만들어주세요.\n",
      "모집단에서 31510 개수만큼 추출해주세요.\n",
      "모집단에서 31510 개수만큼 추출한 데이터의 평균을 만들어주세요.\n",
      "모집단에서 31610 개수만큼 추출해주세요.\n",
      "모집단에서 31610 개수만큼 추출한 데이터의 평균을 만들어주세요.\n",
      "모집단에서 31710 개수만큼 추출해주세요.\n",
      "모집단에서 31710 개수만큼 추출한 데이터의 평균을 만들어주세요.\n",
      "모집단에서 31810 개수만큼 추출해주세요.\n",
      "모집단에서 31810 개수만큼 추출한 데이터의 평균을 만들어주세요.\n",
      "모집단에서 31910 개수만큼 추출해주세요.\n",
      "모집단에서 31910 개수만큼 추출한 데이터의 평균을 만들어주세요.\n",
      "모집단에서 32010 개수만큼 추출해주세요.\n",
      "모집단에서 32010 개수만큼 추출한 데이터의 평균을 만들어주세요.\n",
      "모집단에서 32110 개수만큼 추출해주세요.\n",
      "모집단에서 32110 개수만큼 추출한 데이터의 평균을 만들어주세요.\n",
      "모집단에서 32210 개수만큼 추출해주세요.\n",
      "모집단에서 32210 개수만큼 추출한 데이터의 평균을 만들어주세요.\n",
      "모집단에서 32310 개수만큼 추출해주세요.\n",
      "모집단에서 32310 개수만큼 추출한 데이터의 평균을 만들어주세요.\n",
      "모집단에서 32410 개수만큼 추출해주세요.\n",
      "모집단에서 32410 개수만큼 추출한 데이터의 평균을 만들어주세요.\n",
      "모집단에서 32510 개수만큼 추출해주세요.\n",
      "모집단에서 32510 개수만큼 추출한 데이터의 평균을 만들어주세요.\n",
      "모집단에서 32610 개수만큼 추출해주세요.\n",
      "모집단에서 32610 개수만큼 추출한 데이터의 평균을 만들어주세요.\n",
      "모집단에서 32710 개수만큼 추출해주세요.\n",
      "모집단에서 32710 개수만큼 추출한 데이터의 평균을 만들어주세요.\n",
      "모집단에서 32810 개수만큼 추출해주세요.\n",
      "모집단에서 32810 개수만큼 추출한 데이터의 평균을 만들어주세요.\n",
      "모집단에서 32910 개수만큼 추출해주세요.\n",
      "모집단에서 32910 개수만큼 추출한 데이터의 평균을 만들어주세요.\n",
      "모집단에서 33010 개수만큼 추출해주세요.\n",
      "모집단에서 33010 개수만큼 추출한 데이터의 평균을 만들어주세요.\n",
      "모집단에서 33110 개수만큼 추출해주세요.\n",
      "모집단에서 33110 개수만큼 추출한 데이터의 평균을 만들어주세요.\n",
      "모집단에서 33210 개수만큼 추출해주세요.\n",
      "모집단에서 33210 개수만큼 추출한 데이터의 평균을 만들어주세요.\n",
      "모집단에서 33310 개수만큼 추출해주세요.\n",
      "모집단에서 33310 개수만큼 추출한 데이터의 평균을 만들어주세요.\n",
      "모집단에서 33410 개수만큼 추출해주세요.\n",
      "모집단에서 33410 개수만큼 추출한 데이터의 평균을 만들어주세요.\n",
      "모집단에서 33510 개수만큼 추출해주세요.\n",
      "모집단에서 33510 개수만큼 추출한 데이터의 평균을 만들어주세요.\n",
      "모집단에서 33610 개수만큼 추출해주세요.\n",
      "모집단에서 33610 개수만큼 추출한 데이터의 평균을 만들어주세요.\n",
      "모집단에서 33710 개수만큼 추출해주세요.\n",
      "모집단에서 33710 개수만큼 추출한 데이터의 평균을 만들어주세요.\n",
      "모집단에서 33810 개수만큼 추출해주세요.\n",
      "모집단에서 33810 개수만큼 추출한 데이터의 평균을 만들어주세요.\n",
      "모집단에서 33910 개수만큼 추출해주세요.\n",
      "모집단에서 33910 개수만큼 추출한 데이터의 평균을 만들어주세요.\n",
      "모집단에서 34010 개수만큼 추출해주세요.\n",
      "모집단에서 34010 개수만큼 추출한 데이터의 평균을 만들어주세요.\n",
      "모집단에서 34110 개수만큼 추출해주세요.\n",
      "모집단에서 34110 개수만큼 추출한 데이터의 평균을 만들어주세요.\n",
      "모집단에서 34210 개수만큼 추출해주세요.\n",
      "모집단에서 34210 개수만큼 추출한 데이터의 평균을 만들어주세요.\n",
      "모집단에서 34310 개수만큼 추출해주세요.\n",
      "모집단에서 34310 개수만큼 추출한 데이터의 평균을 만들어주세요.\n",
      "모집단에서 34410 개수만큼 추출해주세요.\n",
      "모집단에서 34410 개수만큼 추출한 데이터의 평균을 만들어주세요.\n",
      "모집단에서 34510 개수만큼 추출해주세요.\n",
      "모집단에서 34510 개수만큼 추출한 데이터의 평균을 만들어주세요.\n",
      "모집단에서 34610 개수만큼 추출해주세요.\n",
      "모집단에서 34610 개수만큼 추출한 데이터의 평균을 만들어주세요.\n",
      "모집단에서 34710 개수만큼 추출해주세요.\n",
      "모집단에서 34710 개수만큼 추출한 데이터의 평균을 만들어주세요.\n",
      "모집단에서 34810 개수만큼 추출해주세요.\n",
      "모집단에서 34810 개수만큼 추출한 데이터의 평균을 만들어주세요.\n",
      "모집단에서 34910 개수만큼 추출해주세요.\n",
      "모집단에서 34910 개수만큼 추출한 데이터의 평균을 만들어주세요.\n",
      "모집단에서 35010 개수만큼 추출해주세요.\n",
      "모집단에서 35010 개수만큼 추출한 데이터의 평균을 만들어주세요.\n",
      "모집단에서 35110 개수만큼 추출해주세요.\n",
      "모집단에서 35110 개수만큼 추출한 데이터의 평균을 만들어주세요.\n",
      "모집단에서 35210 개수만큼 추출해주세요.\n",
      "모집단에서 35210 개수만큼 추출한 데이터의 평균을 만들어주세요.\n",
      "모집단에서 35310 개수만큼 추출해주세요.\n",
      "모집단에서 35310 개수만큼 추출한 데이터의 평균을 만들어주세요.\n",
      "모집단에서 35410 개수만큼 추출해주세요.\n",
      "모집단에서 35410 개수만큼 추출한 데이터의 평균을 만들어주세요.\n",
      "모집단에서 35510 개수만큼 추출해주세요.\n",
      "모집단에서 35510 개수만큼 추출한 데이터의 평균을 만들어주세요.\n",
      "모집단에서 35610 개수만큼 추출해주세요.\n",
      "모집단에서 35610 개수만큼 추출한 데이터의 평균을 만들어주세요.\n",
      "모집단에서 35710 개수만큼 추출해주세요.\n",
      "모집단에서 35710 개수만큼 추출한 데이터의 평균을 만들어주세요.\n",
      "모집단에서 35810 개수만큼 추출해주세요.\n",
      "모집단에서 35810 개수만큼 추출한 데이터의 평균을 만들어주세요.\n",
      "모집단에서 35910 개수만큼 추출해주세요.\n",
      "모집단에서 35910 개수만큼 추출한 데이터의 평균을 만들어주세요.\n",
      "모집단에서 36010 개수만큼 추출해주세요.\n",
      "모집단에서 36010 개수만큼 추출한 데이터의 평균을 만들어주세요.\n",
      "모집단에서 36110 개수만큼 추출해주세요.\n",
      "모집단에서 36110 개수만큼 추출한 데이터의 평균을 만들어주세요.\n",
      "모집단에서 36210 개수만큼 추출해주세요.\n",
      "모집단에서 36210 개수만큼 추출한 데이터의 평균을 만들어주세요.\n",
      "모집단에서 36310 개수만큼 추출해주세요.\n",
      "모집단에서 36310 개수만큼 추출한 데이터의 평균을 만들어주세요.\n",
      "모집단에서 36410 개수만큼 추출해주세요.\n",
      "모집단에서 36410 개수만큼 추출한 데이터의 평균을 만들어주세요.\n",
      "모집단에서 36510 개수만큼 추출해주세요.\n",
      "모집단에서 36510 개수만큼 추출한 데이터의 평균을 만들어주세요.\n",
      "모집단에서 36610 개수만큼 추출해주세요.\n",
      "모집단에서 36610 개수만큼 추출한 데이터의 평균을 만들어주세요.\n",
      "모집단에서 36710 개수만큼 추출해주세요.\n",
      "모집단에서 36710 개수만큼 추출한 데이터의 평균을 만들어주세요.\n",
      "모집단에서 36810 개수만큼 추출해주세요.\n",
      "모집단에서 36810 개수만큼 추출한 데이터의 평균을 만들어주세요.\n",
      "모집단에서 36910 개수만큼 추출해주세요.\n",
      "모집단에서 36910 개수만큼 추출한 데이터의 평균을 만들어주세요.\n",
      "모집단에서 37010 개수만큼 추출해주세요.\n",
      "모집단에서 37010 개수만큼 추출한 데이터의 평균을 만들어주세요.\n",
      "모집단에서 37110 개수만큼 추출해주세요.\n",
      "모집단에서 37110 개수만큼 추출한 데이터의 평균을 만들어주세요.\n",
      "모집단에서 37210 개수만큼 추출해주세요.\n",
      "모집단에서 37210 개수만큼 추출한 데이터의 평균을 만들어주세요.\n",
      "모집단에서 37310 개수만큼 추출해주세요.\n",
      "모집단에서 37310 개수만큼 추출한 데이터의 평균을 만들어주세요.\n",
      "모집단에서 37410 개수만큼 추출해주세요.\n",
      "모집단에서 37410 개수만큼 추출한 데이터의 평균을 만들어주세요.\n",
      "모집단에서 37510 개수만큼 추출해주세요.\n",
      "모집단에서 37510 개수만큼 추출한 데이터의 평균을 만들어주세요.\n",
      "모집단에서 37610 개수만큼 추출해주세요.\n",
      "모집단에서 37610 개수만큼 추출한 데이터의 평균을 만들어주세요.\n",
      "모집단에서 37710 개수만큼 추출해주세요.\n",
      "모집단에서 37710 개수만큼 추출한 데이터의 평균을 만들어주세요.\n",
      "모집단에서 37810 개수만큼 추출해주세요.\n",
      "모집단에서 37810 개수만큼 추출한 데이터의 평균을 만들어주세요.\n",
      "모집단에서 37910 개수만큼 추출해주세요.\n",
      "모집단에서 37910 개수만큼 추출한 데이터의 평균을 만들어주세요.\n",
      "모집단에서 38010 개수만큼 추출해주세요.\n",
      "모집단에서 38010 개수만큼 추출한 데이터의 평균을 만들어주세요.\n",
      "모집단에서 38110 개수만큼 추출해주세요.\n",
      "모집단에서 38110 개수만큼 추출한 데이터의 평균을 만들어주세요.\n",
      "모집단에서 38210 개수만큼 추출해주세요.\n",
      "모집단에서 38210 개수만큼 추출한 데이터의 평균을 만들어주세요.\n",
      "모집단에서 38310 개수만큼 추출해주세요.\n",
      "모집단에서 38310 개수만큼 추출한 데이터의 평균을 만들어주세요.\n",
      "모집단에서 38410 개수만큼 추출해주세요.\n",
      "모집단에서 38410 개수만큼 추출한 데이터의 평균을 만들어주세요.\n",
      "모집단에서 38510 개수만큼 추출해주세요.\n",
      "모집단에서 38510 개수만큼 추출한 데이터의 평균을 만들어주세요.\n",
      "모집단에서 38610 개수만큼 추출해주세요.\n",
      "모집단에서 38610 개수만큼 추출한 데이터의 평균을 만들어주세요.\n",
      "모집단에서 38710 개수만큼 추출해주세요.\n",
      "모집단에서 38710 개수만큼 추출한 데이터의 평균을 만들어주세요.\n",
      "모집단에서 38810 개수만큼 추출해주세요.\n",
      "모집단에서 38810 개수만큼 추출한 데이터의 평균을 만들어주세요.\n",
      "모집단에서 38910 개수만큼 추출해주세요.\n",
      "모집단에서 38910 개수만큼 추출한 데이터의 평균을 만들어주세요.\n",
      "모집단에서 39010 개수만큼 추출해주세요.\n",
      "모집단에서 39010 개수만큼 추출한 데이터의 평균을 만들어주세요.\n",
      "모집단에서 39110 개수만큼 추출해주세요.\n",
      "모집단에서 39110 개수만큼 추출한 데이터의 평균을 만들어주세요.\n",
      "모집단에서 39210 개수만큼 추출해주세요.\n",
      "모집단에서 39210 개수만큼 추출한 데이터의 평균을 만들어주세요.\n",
      "모집단에서 39310 개수만큼 추출해주세요.\n",
      "모집단에서 39310 개수만큼 추출한 데이터의 평균을 만들어주세요.\n",
      "모집단에서 39410 개수만큼 추출해주세요.\n",
      "모집단에서 39410 개수만큼 추출한 데이터의 평균을 만들어주세요.\n",
      "모집단에서 39510 개수만큼 추출해주세요.\n",
      "모집단에서 39510 개수만큼 추출한 데이터의 평균을 만들어주세요.\n",
      "모집단에서 39610 개수만큼 추출해주세요.\n",
      "모집단에서 39610 개수만큼 추출한 데이터의 평균을 만들어주세요.\n",
      "모집단에서 39710 개수만큼 추출해주세요.\n",
      "모집단에서 39710 개수만큼 추출한 데이터의 평균을 만들어주세요.\n",
      "모집단에서 39810 개수만큼 추출해주세요.\n",
      "모집단에서 39810 개수만큼 추출한 데이터의 평균을 만들어주세요.\n",
      "모집단에서 39910 개수만큼 추출해주세요.\n",
      "모집단에서 39910 개수만큼 추출한 데이터의 평균을 만들어주세요.\n",
      "모집단에서 40010 개수만큼 추출해주세요.\n",
      "모집단에서 40010 개수만큼 추출한 데이터의 평균을 만들어주세요.\n",
      "모집단에서 40110 개수만큼 추출해주세요.\n",
      "모집단에서 40110 개수만큼 추출한 데이터의 평균을 만들어주세요.\n",
      "모집단에서 40210 개수만큼 추출해주세요.\n",
      "모집단에서 40210 개수만큼 추출한 데이터의 평균을 만들어주세요.\n",
      "모집단에서 40310 개수만큼 추출해주세요.\n",
      "모집단에서 40310 개수만큼 추출한 데이터의 평균을 만들어주세요.\n",
      "모집단에서 40410 개수만큼 추출해주세요.\n",
      "모집단에서 40410 개수만큼 추출한 데이터의 평균을 만들어주세요.\n",
      "모집단에서 40510 개수만큼 추출해주세요.\n",
      "모집단에서 40510 개수만큼 추출한 데이터의 평균을 만들어주세요.\n",
      "모집단에서 40610 개수만큼 추출해주세요.\n",
      "모집단에서 40610 개수만큼 추출한 데이터의 평균을 만들어주세요.\n",
      "모집단에서 40710 개수만큼 추출해주세요.\n",
      "모집단에서 40710 개수만큼 추출한 데이터의 평균을 만들어주세요.\n",
      "모집단에서 40810 개수만큼 추출해주세요.\n",
      "모집단에서 40810 개수만큼 추출한 데이터의 평균을 만들어주세요.\n",
      "모집단에서 40910 개수만큼 추출해주세요.\n",
      "모집단에서 40910 개수만큼 추출한 데이터의 평균을 만들어주세요.\n",
      "모집단에서 41010 개수만큼 추출해주세요.\n",
      "모집단에서 41010 개수만큼 추출한 데이터의 평균을 만들어주세요.\n",
      "모집단에서 41110 개수만큼 추출해주세요.\n",
      "모집단에서 41110 개수만큼 추출한 데이터의 평균을 만들어주세요.\n",
      "모집단에서 41210 개수만큼 추출해주세요.\n",
      "모집단에서 41210 개수만큼 추출한 데이터의 평균을 만들어주세요.\n",
      "모집단에서 41310 개수만큼 추출해주세요.\n",
      "모집단에서 41310 개수만큼 추출한 데이터의 평균을 만들어주세요.\n",
      "모집단에서 41410 개수만큼 추출해주세요.\n",
      "모집단에서 41410 개수만큼 추출한 데이터의 평균을 만들어주세요.\n",
      "모집단에서 41510 개수만큼 추출해주세요.\n",
      "모집단에서 41510 개수만큼 추출한 데이터의 평균을 만들어주세요.\n",
      "모집단에서 41610 개수만큼 추출해주세요.\n",
      "모집단에서 41610 개수만큼 추출한 데이터의 평균을 만들어주세요.\n",
      "모집단에서 41710 개수만큼 추출해주세요.\n",
      "모집단에서 41710 개수만큼 추출한 데이터의 평균을 만들어주세요.\n",
      "모집단에서 41810 개수만큼 추출해주세요.\n",
      "모집단에서 41810 개수만큼 추출한 데이터의 평균을 만들어주세요.\n",
      "모집단에서 41910 개수만큼 추출해주세요.\n",
      "모집단에서 41910 개수만큼 추출한 데이터의 평균을 만들어주세요.\n",
      "모집단에서 42010 개수만큼 추출해주세요.\n",
      "모집단에서 42010 개수만큼 추출한 데이터의 평균을 만들어주세요.\n",
      "모집단에서 42110 개수만큼 추출해주세요.\n",
      "모집단에서 42110 개수만큼 추출한 데이터의 평균을 만들어주세요.\n",
      "모집단에서 42210 개수만큼 추출해주세요.\n",
      "모집단에서 42210 개수만큼 추출한 데이터의 평균을 만들어주세요.\n",
      "모집단에서 42310 개수만큼 추출해주세요.\n",
      "모집단에서 42310 개수만큼 추출한 데이터의 평균을 만들어주세요.\n",
      "모집단에서 42410 개수만큼 추출해주세요.\n",
      "모집단에서 42410 개수만큼 추출한 데이터의 평균을 만들어주세요.\n",
      "모집단에서 42510 개수만큼 추출해주세요.\n",
      "모집단에서 42510 개수만큼 추출한 데이터의 평균을 만들어주세요.\n",
      "모집단에서 42610 개수만큼 추출해주세요.\n",
      "모집단에서 42610 개수만큼 추출한 데이터의 평균을 만들어주세요.\n",
      "모집단에서 42710 개수만큼 추출해주세요.\n",
      "모집단에서 42710 개수만큼 추출한 데이터의 평균을 만들어주세요.\n",
      "모집단에서 42810 개수만큼 추출해주세요.\n",
      "모집단에서 42810 개수만큼 추출한 데이터의 평균을 만들어주세요.\n",
      "모집단에서 42910 개수만큼 추출해주세요.\n",
      "모집단에서 42910 개수만큼 추출한 데이터의 평균을 만들어주세요.\n",
      "모집단에서 43010 개수만큼 추출해주세요.\n",
      "모집단에서 43010 개수만큼 추출한 데이터의 평균을 만들어주세요.\n",
      "모집단에서 43110 개수만큼 추출해주세요.\n",
      "모집단에서 43110 개수만큼 추출한 데이터의 평균을 만들어주세요.\n",
      "모집단에서 43210 개수만큼 추출해주세요.\n",
      "모집단에서 43210 개수만큼 추출한 데이터의 평균을 만들어주세요.\n",
      "모집단에서 43310 개수만큼 추출해주세요.\n",
      "모집단에서 43310 개수만큼 추출한 데이터의 평균을 만들어주세요.\n",
      "모집단에서 43410 개수만큼 추출해주세요.\n",
      "모집단에서 43410 개수만큼 추출한 데이터의 평균을 만들어주세요.\n",
      "모집단에서 43510 개수만큼 추출해주세요.\n",
      "모집단에서 43510 개수만큼 추출한 데이터의 평균을 만들어주세요.\n",
      "모집단에서 43610 개수만큼 추출해주세요.\n",
      "모집단에서 43610 개수만큼 추출한 데이터의 평균을 만들어주세요.\n",
      "모집단에서 43710 개수만큼 추출해주세요.\n",
      "모집단에서 43710 개수만큼 추출한 데이터의 평균을 만들어주세요.\n",
      "모집단에서 43810 개수만큼 추출해주세요.\n",
      "모집단에서 43810 개수만큼 추출한 데이터의 평균을 만들어주세요.\n",
      "모집단에서 43910 개수만큼 추출해주세요.\n",
      "모집단에서 43910 개수만큼 추출한 데이터의 평균을 만들어주세요.\n",
      "모집단에서 44010 개수만큼 추출해주세요.\n",
      "모집단에서 44010 개수만큼 추출한 데이터의 평균을 만들어주세요.\n",
      "모집단에서 44110 개수만큼 추출해주세요.\n",
      "모집단에서 44110 개수만큼 추출한 데이터의 평균을 만들어주세요.\n",
      "모집단에서 44210 개수만큼 추출해주세요.\n",
      "모집단에서 44210 개수만큼 추출한 데이터의 평균을 만들어주세요.\n",
      "모집단에서 44310 개수만큼 추출해주세요.\n",
      "모집단에서 44310 개수만큼 추출한 데이터의 평균을 만들어주세요.\n",
      "모집단에서 44410 개수만큼 추출해주세요.\n",
      "모집단에서 44410 개수만큼 추출한 데이터의 평균을 만들어주세요.\n",
      "모집단에서 44510 개수만큼 추출해주세요.\n",
      "모집단에서 44510 개수만큼 추출한 데이터의 평균을 만들어주세요.\n",
      "모집단에서 44610 개수만큼 추출해주세요.\n",
      "모집단에서 44610 개수만큼 추출한 데이터의 평균을 만들어주세요.\n",
      "모집단에서 44710 개수만큼 추출해주세요.\n",
      "모집단에서 44710 개수만큼 추출한 데이터의 평균을 만들어주세요.\n",
      "모집단에서 44810 개수만큼 추출해주세요.\n",
      "모집단에서 44810 개수만큼 추출한 데이터의 평균을 만들어주세요.\n",
      "모집단에서 44910 개수만큼 추출해주세요.\n",
      "모집단에서 44910 개수만큼 추출한 데이터의 평균을 만들어주세요.\n",
      "모집단에서 45010 개수만큼 추출해주세요.\n",
      "모집단에서 45010 개수만큼 추출한 데이터의 평균을 만들어주세요.\n",
      "모집단에서 45110 개수만큼 추출해주세요.\n",
      "모집단에서 45110 개수만큼 추출한 데이터의 평균을 만들어주세요.\n",
      "모집단에서 45210 개수만큼 추출해주세요.\n",
      "모집단에서 45210 개수만큼 추출한 데이터의 평균을 만들어주세요.\n",
      "모집단에서 45310 개수만큼 추출해주세요.\n",
      "모집단에서 45310 개수만큼 추출한 데이터의 평균을 만들어주세요.\n",
      "모집단에서 45410 개수만큼 추출해주세요.\n",
      "모집단에서 45410 개수만큼 추출한 데이터의 평균을 만들어주세요.\n",
      "모집단에서 45510 개수만큼 추출해주세요.\n",
      "모집단에서 45510 개수만큼 추출한 데이터의 평균을 만들어주세요.\n",
      "모집단에서 45610 개수만큼 추출해주세요.\n",
      "모집단에서 45610 개수만큼 추출한 데이터의 평균을 만들어주세요.\n",
      "모집단에서 45710 개수만큼 추출해주세요.\n",
      "모집단에서 45710 개수만큼 추출한 데이터의 평균을 만들어주세요.\n",
      "모집단에서 45810 개수만큼 추출해주세요.\n",
      "모집단에서 45810 개수만큼 추출한 데이터의 평균을 만들어주세요.\n",
      "모집단에서 45910 개수만큼 추출해주세요.\n",
      "모집단에서 45910 개수만큼 추출한 데이터의 평균을 만들어주세요.\n",
      "모집단에서 46010 개수만큼 추출해주세요.\n",
      "모집단에서 46010 개수만큼 추출한 데이터의 평균을 만들어주세요.\n",
      "모집단에서 46110 개수만큼 추출해주세요.\n",
      "모집단에서 46110 개수만큼 추출한 데이터의 평균을 만들어주세요.\n",
      "모집단에서 46210 개수만큼 추출해주세요.\n",
      "모집단에서 46210 개수만큼 추출한 데이터의 평균을 만들어주세요.\n",
      "모집단에서 46310 개수만큼 추출해주세요.\n",
      "모집단에서 46310 개수만큼 추출한 데이터의 평균을 만들어주세요.\n",
      "모집단에서 46410 개수만큼 추출해주세요.\n",
      "모집단에서 46410 개수만큼 추출한 데이터의 평균을 만들어주세요.\n",
      "모집단에서 46510 개수만큼 추출해주세요.\n",
      "모집단에서 46510 개수만큼 추출한 데이터의 평균을 만들어주세요.\n",
      "모집단에서 46610 개수만큼 추출해주세요.\n",
      "모집단에서 46610 개수만큼 추출한 데이터의 평균을 만들어주세요.\n",
      "모집단에서 46710 개수만큼 추출해주세요.\n",
      "모집단에서 46710 개수만큼 추출한 데이터의 평균을 만들어주세요.\n",
      "모집단에서 46810 개수만큼 추출해주세요.\n",
      "모집단에서 46810 개수만큼 추출한 데이터의 평균을 만들어주세요.\n",
      "모집단에서 46910 개수만큼 추출해주세요.\n",
      "모집단에서 46910 개수만큼 추출한 데이터의 평균을 만들어주세요.\n",
      "모집단에서 47010 개수만큼 추출해주세요.\n",
      "모집단에서 47010 개수만큼 추출한 데이터의 평균을 만들어주세요.\n",
      "모집단에서 47110 개수만큼 추출해주세요.\n",
      "모집단에서 47110 개수만큼 추출한 데이터의 평균을 만들어주세요.\n"
     ]
    },
    {
     "name": "stdout",
     "output_type": "stream",
     "text": [
      "모집단에서 47210 개수만큼 추출해주세요.\n",
      "모집단에서 47210 개수만큼 추출한 데이터의 평균을 만들어주세요.\n",
      "모집단에서 47310 개수만큼 추출해주세요.\n",
      "모집단에서 47310 개수만큼 추출한 데이터의 평균을 만들어주세요.\n",
      "모집단에서 47410 개수만큼 추출해주세요.\n",
      "모집단에서 47410 개수만큼 추출한 데이터의 평균을 만들어주세요.\n",
      "모집단에서 47510 개수만큼 추출해주세요.\n",
      "모집단에서 47510 개수만큼 추출한 데이터의 평균을 만들어주세요.\n",
      "모집단에서 47610 개수만큼 추출해주세요.\n",
      "모집단에서 47610 개수만큼 추출한 데이터의 평균을 만들어주세요.\n",
      "모집단에서 47710 개수만큼 추출해주세요.\n",
      "모집단에서 47710 개수만큼 추출한 데이터의 평균을 만들어주세요.\n",
      "모집단에서 47810 개수만큼 추출해주세요.\n",
      "모집단에서 47810 개수만큼 추출한 데이터의 평균을 만들어주세요.\n",
      "모집단에서 47910 개수만큼 추출해주세요.\n",
      "모집단에서 47910 개수만큼 추출한 데이터의 평균을 만들어주세요.\n",
      "모집단에서 48010 개수만큼 추출해주세요.\n",
      "모집단에서 48010 개수만큼 추출한 데이터의 평균을 만들어주세요.\n",
      "모집단에서 48110 개수만큼 추출해주세요.\n",
      "모집단에서 48110 개수만큼 추출한 데이터의 평균을 만들어주세요.\n",
      "모집단에서 48210 개수만큼 추출해주세요.\n",
      "모집단에서 48210 개수만큼 추출한 데이터의 평균을 만들어주세요.\n",
      "모집단에서 48310 개수만큼 추출해주세요.\n",
      "모집단에서 48310 개수만큼 추출한 데이터의 평균을 만들어주세요.\n",
      "모집단에서 48410 개수만큼 추출해주세요.\n",
      "모집단에서 48410 개수만큼 추출한 데이터의 평균을 만들어주세요.\n",
      "모집단에서 48510 개수만큼 추출해주세요.\n",
      "모집단에서 48510 개수만큼 추출한 데이터의 평균을 만들어주세요.\n",
      "모집단에서 48610 개수만큼 추출해주세요.\n",
      "모집단에서 48610 개수만큼 추출한 데이터의 평균을 만들어주세요.\n",
      "모집단에서 48710 개수만큼 추출해주세요.\n",
      "모집단에서 48710 개수만큼 추출한 데이터의 평균을 만들어주세요.\n",
      "모집단에서 48810 개수만큼 추출해주세요.\n",
      "모집단에서 48810 개수만큼 추출한 데이터의 평균을 만들어주세요.\n",
      "모집단에서 48910 개수만큼 추출해주세요.\n",
      "모집단에서 48910 개수만큼 추출한 데이터의 평균을 만들어주세요.\n",
      "모집단에서 49010 개수만큼 추출해주세요.\n",
      "모집단에서 49010 개수만큼 추출한 데이터의 평균을 만들어주세요.\n",
      "모집단에서 49110 개수만큼 추출해주세요.\n",
      "모집단에서 49110 개수만큼 추출한 데이터의 평균을 만들어주세요.\n",
      "모집단에서 49210 개수만큼 추출해주세요.\n",
      "모집단에서 49210 개수만큼 추출한 데이터의 평균을 만들어주세요.\n",
      "모집단에서 49310 개수만큼 추출해주세요.\n",
      "모집단에서 49310 개수만큼 추출한 데이터의 평균을 만들어주세요.\n",
      "모집단에서 49410 개수만큼 추출해주세요.\n",
      "모집단에서 49410 개수만큼 추출한 데이터의 평균을 만들어주세요.\n",
      "모집단에서 49510 개수만큼 추출해주세요.\n",
      "모집단에서 49510 개수만큼 추출한 데이터의 평균을 만들어주세요.\n",
      "모집단에서 49610 개수만큼 추출해주세요.\n",
      "모집단에서 49610 개수만큼 추출한 데이터의 평균을 만들어주세요.\n",
      "모집단에서 49710 개수만큼 추출해주세요.\n",
      "모집단에서 49710 개수만큼 추출한 데이터의 평균을 만들어주세요.\n",
      "모집단에서 49810 개수만큼 추출해주세요.\n",
      "모집단에서 49810 개수만큼 추출한 데이터의 평균을 만들어주세요.\n",
      "모집단에서 49910 개수만큼 추출해주세요.\n",
      "모집단에서 49910 개수만큼 추출한 데이터의 평균을 만들어주세요.\n",
      "모집단에서 50010 개수만큼 추출해주세요.\n",
      "모집단에서 50010 개수만큼 추출한 데이터의 평균을 만들어주세요.\n",
      "모집단에서 50110 개수만큼 추출해주세요.\n",
      "모집단에서 50110 개수만큼 추출한 데이터의 평균을 만들어주세요.\n",
      "모집단에서 50210 개수만큼 추출해주세요.\n",
      "모집단에서 50210 개수만큼 추출한 데이터의 평균을 만들어주세요.\n",
      "모집단에서 50310 개수만큼 추출해주세요.\n",
      "모집단에서 50310 개수만큼 추출한 데이터의 평균을 만들어주세요.\n",
      "모집단에서 50410 개수만큼 추출해주세요.\n",
      "모집단에서 50410 개수만큼 추출한 데이터의 평균을 만들어주세요.\n",
      "모집단에서 50510 개수만큼 추출해주세요.\n",
      "모집단에서 50510 개수만큼 추출한 데이터의 평균을 만들어주세요.\n",
      "모집단에서 50610 개수만큼 추출해주세요.\n",
      "모집단에서 50610 개수만큼 추출한 데이터의 평균을 만들어주세요.\n",
      "모집단에서 50710 개수만큼 추출해주세요.\n",
      "모집단에서 50710 개수만큼 추출한 데이터의 평균을 만들어주세요.\n",
      "모집단에서 50810 개수만큼 추출해주세요.\n",
      "모집단에서 50810 개수만큼 추출한 데이터의 평균을 만들어주세요.\n",
      "모집단에서 50910 개수만큼 추출해주세요.\n",
      "모집단에서 50910 개수만큼 추출한 데이터의 평균을 만들어주세요.\n",
      "모집단에서 51010 개수만큼 추출해주세요.\n",
      "모집단에서 51010 개수만큼 추출한 데이터의 평균을 만들어주세요.\n",
      "모집단에서 51110 개수만큼 추출해주세요.\n",
      "모집단에서 51110 개수만큼 추출한 데이터의 평균을 만들어주세요.\n",
      "모집단에서 51210 개수만큼 추출해주세요.\n",
      "모집단에서 51210 개수만큼 추출한 데이터의 평균을 만들어주세요.\n",
      "모집단에서 51310 개수만큼 추출해주세요.\n",
      "모집단에서 51310 개수만큼 추출한 데이터의 평균을 만들어주세요.\n",
      "모집단에서 51410 개수만큼 추출해주세요.\n",
      "모집단에서 51410 개수만큼 추출한 데이터의 평균을 만들어주세요.\n",
      "모집단에서 51510 개수만큼 추출해주세요.\n",
      "모집단에서 51510 개수만큼 추출한 데이터의 평균을 만들어주세요.\n",
      "모집단에서 51610 개수만큼 추출해주세요.\n",
      "모집단에서 51610 개수만큼 추출한 데이터의 평균을 만들어주세요.\n",
      "모집단에서 51710 개수만큼 추출해주세요.\n",
      "모집단에서 51710 개수만큼 추출한 데이터의 평균을 만들어주세요.\n",
      "모집단에서 51810 개수만큼 추출해주세요.\n",
      "모집단에서 51810 개수만큼 추출한 데이터의 평균을 만들어주세요.\n",
      "모집단에서 51910 개수만큼 추출해주세요.\n",
      "모집단에서 51910 개수만큼 추출한 데이터의 평균을 만들어주세요.\n",
      "모집단에서 52010 개수만큼 추출해주세요.\n",
      "모집단에서 52010 개수만큼 추출한 데이터의 평균을 만들어주세요.\n",
      "모집단에서 52110 개수만큼 추출해주세요.\n",
      "모집단에서 52110 개수만큼 추출한 데이터의 평균을 만들어주세요.\n",
      "모집단에서 52210 개수만큼 추출해주세요.\n",
      "모집단에서 52210 개수만큼 추출한 데이터의 평균을 만들어주세요.\n",
      "모집단에서 52310 개수만큼 추출해주세요.\n",
      "모집단에서 52310 개수만큼 추출한 데이터의 평균을 만들어주세요.\n",
      "모집단에서 52410 개수만큼 추출해주세요.\n",
      "모집단에서 52410 개수만큼 추출한 데이터의 평균을 만들어주세요.\n",
      "모집단에서 52510 개수만큼 추출해주세요.\n",
      "모집단에서 52510 개수만큼 추출한 데이터의 평균을 만들어주세요.\n",
      "모집단에서 52610 개수만큼 추출해주세요.\n",
      "모집단에서 52610 개수만큼 추출한 데이터의 평균을 만들어주세요.\n",
      "모집단에서 52710 개수만큼 추출해주세요.\n",
      "모집단에서 52710 개수만큼 추출한 데이터의 평균을 만들어주세요.\n",
      "모집단에서 52810 개수만큼 추출해주세요.\n",
      "모집단에서 52810 개수만큼 추출한 데이터의 평균을 만들어주세요.\n",
      "모집단에서 52910 개수만큼 추출해주세요.\n",
      "모집단에서 52910 개수만큼 추출한 데이터의 평균을 만들어주세요.\n",
      "모집단에서 53010 개수만큼 추출해주세요.\n",
      "모집단에서 53010 개수만큼 추출한 데이터의 평균을 만들어주세요.\n",
      "모집단에서 53110 개수만큼 추출해주세요.\n",
      "모집단에서 53110 개수만큼 추출한 데이터의 평균을 만들어주세요.\n",
      "모집단에서 53210 개수만큼 추출해주세요.\n",
      "모집단에서 53210 개수만큼 추출한 데이터의 평균을 만들어주세요.\n",
      "모집단에서 53310 개수만큼 추출해주세요.\n",
      "모집단에서 53310 개수만큼 추출한 데이터의 평균을 만들어주세요.\n",
      "모집단에서 53410 개수만큼 추출해주세요.\n",
      "모집단에서 53410 개수만큼 추출한 데이터의 평균을 만들어주세요.\n",
      "모집단에서 53510 개수만큼 추출해주세요.\n",
      "모집단에서 53510 개수만큼 추출한 데이터의 평균을 만들어주세요.\n",
      "모집단에서 53610 개수만큼 추출해주세요.\n",
      "모집단에서 53610 개수만큼 추출한 데이터의 평균을 만들어주세요.\n",
      "모집단에서 53710 개수만큼 추출해주세요.\n",
      "모집단에서 53710 개수만큼 추출한 데이터의 평균을 만들어주세요.\n",
      "모집단에서 53810 개수만큼 추출해주세요.\n",
      "모집단에서 53810 개수만큼 추출한 데이터의 평균을 만들어주세요.\n",
      "모집단에서 53910 개수만큼 추출해주세요.\n",
      "모집단에서 53910 개수만큼 추출한 데이터의 평균을 만들어주세요.\n",
      "모집단에서 54010 개수만큼 추출해주세요.\n",
      "모집단에서 54010 개수만큼 추출한 데이터의 평균을 만들어주세요.\n",
      "모집단에서 54110 개수만큼 추출해주세요.\n",
      "모집단에서 54110 개수만큼 추출한 데이터의 평균을 만들어주세요.\n",
      "모집단에서 54210 개수만큼 추출해주세요.\n",
      "모집단에서 54210 개수만큼 추출한 데이터의 평균을 만들어주세요.\n",
      "모집단에서 54310 개수만큼 추출해주세요.\n",
      "모집단에서 54310 개수만큼 추출한 데이터의 평균을 만들어주세요.\n",
      "모집단에서 54410 개수만큼 추출해주세요.\n",
      "모집단에서 54410 개수만큼 추출한 데이터의 평균을 만들어주세요.\n",
      "모집단에서 54510 개수만큼 추출해주세요.\n",
      "모집단에서 54510 개수만큼 추출한 데이터의 평균을 만들어주세요.\n",
      "모집단에서 54610 개수만큼 추출해주세요.\n",
      "모집단에서 54610 개수만큼 추출한 데이터의 평균을 만들어주세요.\n",
      "모집단에서 54710 개수만큼 추출해주세요.\n",
      "모집단에서 54710 개수만큼 추출한 데이터의 평균을 만들어주세요.\n",
      "모집단에서 54810 개수만큼 추출해주세요.\n",
      "모집단에서 54810 개수만큼 추출한 데이터의 평균을 만들어주세요.\n",
      "모집단에서 54910 개수만큼 추출해주세요.\n",
      "모집단에서 54910 개수만큼 추출한 데이터의 평균을 만들어주세요.\n",
      "모집단에서 55010 개수만큼 추출해주세요.\n",
      "모집단에서 55010 개수만큼 추출한 데이터의 평균을 만들어주세요.\n",
      "모집단에서 55110 개수만큼 추출해주세요.\n",
      "모집단에서 55110 개수만큼 추출한 데이터의 평균을 만들어주세요.\n",
      "모집단에서 55210 개수만큼 추출해주세요.\n",
      "모집단에서 55210 개수만큼 추출한 데이터의 평균을 만들어주세요.\n",
      "모집단에서 55310 개수만큼 추출해주세요.\n",
      "모집단에서 55310 개수만큼 추출한 데이터의 평균을 만들어주세요.\n",
      "모집단에서 55410 개수만큼 추출해주세요.\n",
      "모집단에서 55410 개수만큼 추출한 데이터의 평균을 만들어주세요.\n",
      "모집단에서 55510 개수만큼 추출해주세요.\n",
      "모집단에서 55510 개수만큼 추출한 데이터의 평균을 만들어주세요.\n",
      "모집단에서 55610 개수만큼 추출해주세요.\n",
      "모집단에서 55610 개수만큼 추출한 데이터의 평균을 만들어주세요.\n",
      "모집단에서 55710 개수만큼 추출해주세요.\n",
      "모집단에서 55710 개수만큼 추출한 데이터의 평균을 만들어주세요.\n",
      "모집단에서 55810 개수만큼 추출해주세요.\n",
      "모집단에서 55810 개수만큼 추출한 데이터의 평균을 만들어주세요.\n",
      "모집단에서 55910 개수만큼 추출해주세요.\n",
      "모집단에서 55910 개수만큼 추출한 데이터의 평균을 만들어주세요.\n",
      "모집단에서 56010 개수만큼 추출해주세요.\n",
      "모집단에서 56010 개수만큼 추출한 데이터의 평균을 만들어주세요.\n",
      "모집단에서 56110 개수만큼 추출해주세요.\n",
      "모집단에서 56110 개수만큼 추출한 데이터의 평균을 만들어주세요.\n",
      "모집단에서 56210 개수만큼 추출해주세요.\n",
      "모집단에서 56210 개수만큼 추출한 데이터의 평균을 만들어주세요.\n",
      "모집단에서 56310 개수만큼 추출해주세요.\n",
      "모집단에서 56310 개수만큼 추출한 데이터의 평균을 만들어주세요.\n",
      "모집단에서 56410 개수만큼 추출해주세요.\n",
      "모집단에서 56410 개수만큼 추출한 데이터의 평균을 만들어주세요.\n",
      "모집단에서 56510 개수만큼 추출해주세요.\n",
      "모집단에서 56510 개수만큼 추출한 데이터의 평균을 만들어주세요.\n",
      "모집단에서 56610 개수만큼 추출해주세요.\n",
      "모집단에서 56610 개수만큼 추출한 데이터의 평균을 만들어주세요.\n",
      "모집단에서 56710 개수만큼 추출해주세요.\n",
      "모집단에서 56710 개수만큼 추출한 데이터의 평균을 만들어주세요.\n",
      "모집단에서 56810 개수만큼 추출해주세요.\n",
      "모집단에서 56810 개수만큼 추출한 데이터의 평균을 만들어주세요.\n",
      "모집단에서 56910 개수만큼 추출해주세요.\n",
      "모집단에서 56910 개수만큼 추출한 데이터의 평균을 만들어주세요.\n",
      "모집단에서 57010 개수만큼 추출해주세요.\n",
      "모집단에서 57010 개수만큼 추출한 데이터의 평균을 만들어주세요.\n",
      "모집단에서 57110 개수만큼 추출해주세요.\n",
      "모집단에서 57110 개수만큼 추출한 데이터의 평균을 만들어주세요.\n",
      "모집단에서 57210 개수만큼 추출해주세요.\n",
      "모집단에서 57210 개수만큼 추출한 데이터의 평균을 만들어주세요.\n",
      "모집단에서 57310 개수만큼 추출해주세요.\n",
      "모집단에서 57310 개수만큼 추출한 데이터의 평균을 만들어주세요.\n",
      "모집단에서 57410 개수만큼 추출해주세요.\n",
      "모집단에서 57410 개수만큼 추출한 데이터의 평균을 만들어주세요.\n",
      "모집단에서 57510 개수만큼 추출해주세요.\n",
      "모집단에서 57510 개수만큼 추출한 데이터의 평균을 만들어주세요.\n",
      "모집단에서 57610 개수만큼 추출해주세요.\n",
      "모집단에서 57610 개수만큼 추출한 데이터의 평균을 만들어주세요.\n",
      "모집단에서 57710 개수만큼 추출해주세요.\n",
      "모집단에서 57710 개수만큼 추출한 데이터의 평균을 만들어주세요.\n",
      "모집단에서 57810 개수만큼 추출해주세요.\n",
      "모집단에서 57810 개수만큼 추출한 데이터의 평균을 만들어주세요.\n",
      "모집단에서 57910 개수만큼 추출해주세요.\n",
      "모집단에서 57910 개수만큼 추출한 데이터의 평균을 만들어주세요.\n",
      "모집단에서 58010 개수만큼 추출해주세요.\n",
      "모집단에서 58010 개수만큼 추출한 데이터의 평균을 만들어주세요.\n",
      "모집단에서 58110 개수만큼 추출해주세요.\n",
      "모집단에서 58110 개수만큼 추출한 데이터의 평균을 만들어주세요.\n",
      "모집단에서 58210 개수만큼 추출해주세요.\n",
      "모집단에서 58210 개수만큼 추출한 데이터의 평균을 만들어주세요.\n",
      "모집단에서 58310 개수만큼 추출해주세요.\n",
      "모집단에서 58310 개수만큼 추출한 데이터의 평균을 만들어주세요.\n",
      "모집단에서 58410 개수만큼 추출해주세요.\n",
      "모집단에서 58410 개수만큼 추출한 데이터의 평균을 만들어주세요.\n",
      "모집단에서 58510 개수만큼 추출해주세요.\n",
      "모집단에서 58510 개수만큼 추출한 데이터의 평균을 만들어주세요.\n",
      "모집단에서 58610 개수만큼 추출해주세요.\n",
      "모집단에서 58610 개수만큼 추출한 데이터의 평균을 만들어주세요.\n",
      "모집단에서 58710 개수만큼 추출해주세요.\n",
      "모집단에서 58710 개수만큼 추출한 데이터의 평균을 만들어주세요.\n",
      "모집단에서 58810 개수만큼 추출해주세요.\n",
      "모집단에서 58810 개수만큼 추출한 데이터의 평균을 만들어주세요.\n",
      "모집단에서 58910 개수만큼 추출해주세요.\n",
      "모집단에서 58910 개수만큼 추출한 데이터의 평균을 만들어주세요.\n",
      "모집단에서 59010 개수만큼 추출해주세요.\n",
      "모집단에서 59010 개수만큼 추출한 데이터의 평균을 만들어주세요.\n",
      "모집단에서 59110 개수만큼 추출해주세요.\n",
      "모집단에서 59110 개수만큼 추출한 데이터의 평균을 만들어주세요.\n",
      "모집단에서 59210 개수만큼 추출해주세요.\n",
      "모집단에서 59210 개수만큼 추출한 데이터의 평균을 만들어주세요.\n",
      "모집단에서 59310 개수만큼 추출해주세요.\n",
      "모집단에서 59310 개수만큼 추출한 데이터의 평균을 만들어주세요.\n",
      "모집단에서 59410 개수만큼 추출해주세요.\n",
      "모집단에서 59410 개수만큼 추출한 데이터의 평균을 만들어주세요.\n",
      "모집단에서 59510 개수만큼 추출해주세요.\n",
      "모집단에서 59510 개수만큼 추출한 데이터의 평균을 만들어주세요.\n",
      "모집단에서 59610 개수만큼 추출해주세요.\n",
      "모집단에서 59610 개수만큼 추출한 데이터의 평균을 만들어주세요.\n",
      "모집단에서 59710 개수만큼 추출해주세요.\n",
      "모집단에서 59710 개수만큼 추출한 데이터의 평균을 만들어주세요.\n",
      "모집단에서 59810 개수만큼 추출해주세요.\n",
      "모집단에서 59810 개수만큼 추출한 데이터의 평균을 만들어주세요.\n",
      "모집단에서 59910 개수만큼 추출해주세요.\n",
      "모집단에서 59910 개수만큼 추출한 데이터의 평균을 만들어주세요.\n",
      "모집단에서 60010 개수만큼 추출해주세요.\n",
      "모집단에서 60010 개수만큼 추출한 데이터의 평균을 만들어주세요.\n",
      "모집단에서 60110 개수만큼 추출해주세요.\n",
      "모집단에서 60110 개수만큼 추출한 데이터의 평균을 만들어주세요.\n",
      "모집단에서 60210 개수만큼 추출해주세요.\n",
      "모집단에서 60210 개수만큼 추출한 데이터의 평균을 만들어주세요.\n",
      "모집단에서 60310 개수만큼 추출해주세요.\n",
      "모집단에서 60310 개수만큼 추출한 데이터의 평균을 만들어주세요.\n",
      "모집단에서 60410 개수만큼 추출해주세요.\n",
      "모집단에서 60410 개수만큼 추출한 데이터의 평균을 만들어주세요.\n",
      "모집단에서 60510 개수만큼 추출해주세요.\n",
      "모집단에서 60510 개수만큼 추출한 데이터의 평균을 만들어주세요.\n",
      "모집단에서 60610 개수만큼 추출해주세요.\n",
      "모집단에서 60610 개수만큼 추출한 데이터의 평균을 만들어주세요.\n",
      "모집단에서 60710 개수만큼 추출해주세요.\n",
      "모집단에서 60710 개수만큼 추출한 데이터의 평균을 만들어주세요.\n",
      "모집단에서 60810 개수만큼 추출해주세요.\n",
      "모집단에서 60810 개수만큼 추출한 데이터의 평균을 만들어주세요.\n",
      "모집단에서 60910 개수만큼 추출해주세요.\n",
      "모집단에서 60910 개수만큼 추출한 데이터의 평균을 만들어주세요.\n",
      "모집단에서 61010 개수만큼 추출해주세요.\n",
      "모집단에서 61010 개수만큼 추출한 데이터의 평균을 만들어주세요.\n",
      "모집단에서 61110 개수만큼 추출해주세요.\n",
      "모집단에서 61110 개수만큼 추출한 데이터의 평균을 만들어주세요.\n",
      "모집단에서 61210 개수만큼 추출해주세요.\n",
      "모집단에서 61210 개수만큼 추출한 데이터의 평균을 만들어주세요.\n",
      "모집단에서 61310 개수만큼 추출해주세요.\n",
      "모집단에서 61310 개수만큼 추출한 데이터의 평균을 만들어주세요.\n",
      "모집단에서 61410 개수만큼 추출해주세요.\n",
      "모집단에서 61410 개수만큼 추출한 데이터의 평균을 만들어주세요.\n",
      "모집단에서 61510 개수만큼 추출해주세요.\n",
      "모집단에서 61510 개수만큼 추출한 데이터의 평균을 만들어주세요.\n",
      "모집단에서 61610 개수만큼 추출해주세요.\n",
      "모집단에서 61610 개수만큼 추출한 데이터의 평균을 만들어주세요.\n",
      "모집단에서 61710 개수만큼 추출해주세요.\n",
      "모집단에서 61710 개수만큼 추출한 데이터의 평균을 만들어주세요.\n",
      "모집단에서 61810 개수만큼 추출해주세요.\n",
      "모집단에서 61810 개수만큼 추출한 데이터의 평균을 만들어주세요.\n",
      "모집단에서 61910 개수만큼 추출해주세요.\n",
      "모집단에서 61910 개수만큼 추출한 데이터의 평균을 만들어주세요.\n",
      "모집단에서 62010 개수만큼 추출해주세요.\n",
      "모집단에서 62010 개수만큼 추출한 데이터의 평균을 만들어주세요.\n",
      "모집단에서 62110 개수만큼 추출해주세요.\n",
      "모집단에서 62110 개수만큼 추출한 데이터의 평균을 만들어주세요.\n",
      "모집단에서 62210 개수만큼 추출해주세요.\n",
      "모집단에서 62210 개수만큼 추출한 데이터의 평균을 만들어주세요.\n",
      "모집단에서 62310 개수만큼 추출해주세요.\n",
      "모집단에서 62310 개수만큼 추출한 데이터의 평균을 만들어주세요.\n",
      "모집단에서 62410 개수만큼 추출해주세요.\n",
      "모집단에서 62410 개수만큼 추출한 데이터의 평균을 만들어주세요.\n",
      "모집단에서 62510 개수만큼 추출해주세요.\n",
      "모집단에서 62510 개수만큼 추출한 데이터의 평균을 만들어주세요.\n",
      "모집단에서 62610 개수만큼 추출해주세요.\n",
      "모집단에서 62610 개수만큼 추출한 데이터의 평균을 만들어주세요.\n",
      "모집단에서 62710 개수만큼 추출해주세요.\n",
      "모집단에서 62710 개수만큼 추출한 데이터의 평균을 만들어주세요.\n",
      "모집단에서 62810 개수만큼 추출해주세요.\n",
      "모집단에서 62810 개수만큼 추출한 데이터의 평균을 만들어주세요.\n",
      "모집단에서 62910 개수만큼 추출해주세요.\n",
      "모집단에서 62910 개수만큼 추출한 데이터의 평균을 만들어주세요.\n",
      "모집단에서 63010 개수만큼 추출해주세요.\n",
      "모집단에서 63010 개수만큼 추출한 데이터의 평균을 만들어주세요.\n",
      "모집단에서 63110 개수만큼 추출해주세요.\n",
      "모집단에서 63110 개수만큼 추출한 데이터의 평균을 만들어주세요.\n",
      "모집단에서 63210 개수만큼 추출해주세요.\n",
      "모집단에서 63210 개수만큼 추출한 데이터의 평균을 만들어주세요.\n",
      "모집단에서 63310 개수만큼 추출해주세요.\n",
      "모집단에서 63310 개수만큼 추출한 데이터의 평균을 만들어주세요.\n",
      "모집단에서 63410 개수만큼 추출해주세요.\n",
      "모집단에서 63410 개수만큼 추출한 데이터의 평균을 만들어주세요.\n",
      "모집단에서 63510 개수만큼 추출해주세요.\n",
      "모집단에서 63510 개수만큼 추출한 데이터의 평균을 만들어주세요.\n",
      "모집단에서 63610 개수만큼 추출해주세요.\n",
      "모집단에서 63610 개수만큼 추출한 데이터의 평균을 만들어주세요.\n",
      "모집단에서 63710 개수만큼 추출해주세요.\n",
      "모집단에서 63710 개수만큼 추출한 데이터의 평균을 만들어주세요.\n",
      "모집단에서 63810 개수만큼 추출해주세요.\n",
      "모집단에서 63810 개수만큼 추출한 데이터의 평균을 만들어주세요.\n",
      "모집단에서 63910 개수만큼 추출해주세요.\n",
      "모집단에서 63910 개수만큼 추출한 데이터의 평균을 만들어주세요.\n",
      "모집단에서 64010 개수만큼 추출해주세요.\n",
      "모집단에서 64010 개수만큼 추출한 데이터의 평균을 만들어주세요.\n",
      "모집단에서 64110 개수만큼 추출해주세요.\n",
      "모집단에서 64110 개수만큼 추출한 데이터의 평균을 만들어주세요.\n",
      "모집단에서 64210 개수만큼 추출해주세요.\n",
      "모집단에서 64210 개수만큼 추출한 데이터의 평균을 만들어주세요.\n",
      "모집단에서 64310 개수만큼 추출해주세요.\n",
      "모집단에서 64310 개수만큼 추출한 데이터의 평균을 만들어주세요.\n",
      "모집단에서 64410 개수만큼 추출해주세요.\n",
      "모집단에서 64410 개수만큼 추출한 데이터의 평균을 만들어주세요.\n",
      "모집단에서 64510 개수만큼 추출해주세요.\n",
      "모집단에서 64510 개수만큼 추출한 데이터의 평균을 만들어주세요.\n",
      "모집단에서 64610 개수만큼 추출해주세요.\n",
      "모집단에서 64610 개수만큼 추출한 데이터의 평균을 만들어주세요.\n",
      "모집단에서 64710 개수만큼 추출해주세요.\n",
      "모집단에서 64710 개수만큼 추출한 데이터의 평균을 만들어주세요.\n",
      "모집단에서 64810 개수만큼 추출해주세요.\n",
      "모집단에서 64810 개수만큼 추출한 데이터의 평균을 만들어주세요.\n",
      "모집단에서 64910 개수만큼 추출해주세요.\n",
      "모집단에서 64910 개수만큼 추출한 데이터의 평균을 만들어주세요.\n",
      "모집단에서 65010 개수만큼 추출해주세요.\n",
      "모집단에서 65010 개수만큼 추출한 데이터의 평균을 만들어주세요.\n",
      "모집단에서 65110 개수만큼 추출해주세요.\n",
      "모집단에서 65110 개수만큼 추출한 데이터의 평균을 만들어주세요.\n",
      "모집단에서 65210 개수만큼 추출해주세요.\n",
      "모집단에서 65210 개수만큼 추출한 데이터의 평균을 만들어주세요.\n",
      "모집단에서 65310 개수만큼 추출해주세요.\n",
      "모집단에서 65310 개수만큼 추출한 데이터의 평균을 만들어주세요.\n",
      "모집단에서 65410 개수만큼 추출해주세요.\n",
      "모집단에서 65410 개수만큼 추출한 데이터의 평균을 만들어주세요.\n",
      "모집단에서 65510 개수만큼 추출해주세요.\n",
      "모집단에서 65510 개수만큼 추출한 데이터의 평균을 만들어주세요.\n",
      "모집단에서 65610 개수만큼 추출해주세요.\n",
      "모집단에서 65610 개수만큼 추출한 데이터의 평균을 만들어주세요.\n",
      "모집단에서 65710 개수만큼 추출해주세요.\n",
      "모집단에서 65710 개수만큼 추출한 데이터의 평균을 만들어주세요.\n",
      "모집단에서 65810 개수만큼 추출해주세요.\n",
      "모집단에서 65810 개수만큼 추출한 데이터의 평균을 만들어주세요.\n",
      "모집단에서 65910 개수만큼 추출해주세요.\n",
      "모집단에서 65910 개수만큼 추출한 데이터의 평균을 만들어주세요.\n",
      "모집단에서 66010 개수만큼 추출해주세요.\n",
      "모집단에서 66010 개수만큼 추출한 데이터의 평균을 만들어주세요.\n",
      "모집단에서 66110 개수만큼 추출해주세요.\n",
      "모집단에서 66110 개수만큼 추출한 데이터의 평균을 만들어주세요.\n",
      "모집단에서 66210 개수만큼 추출해주세요.\n",
      "모집단에서 66210 개수만큼 추출한 데이터의 평균을 만들어주세요.\n",
      "모집단에서 66310 개수만큼 추출해주세요.\n",
      "모집단에서 66310 개수만큼 추출한 데이터의 평균을 만들어주세요.\n",
      "모집단에서 66410 개수만큼 추출해주세요.\n",
      "모집단에서 66410 개수만큼 추출한 데이터의 평균을 만들어주세요.\n",
      "모집단에서 66510 개수만큼 추출해주세요.\n",
      "모집단에서 66510 개수만큼 추출한 데이터의 평균을 만들어주세요.\n",
      "모집단에서 66610 개수만큼 추출해주세요.\n",
      "모집단에서 66610 개수만큼 추출한 데이터의 평균을 만들어주세요.\n",
      "모집단에서 66710 개수만큼 추출해주세요.\n",
      "모집단에서 66710 개수만큼 추출한 데이터의 평균을 만들어주세요.\n",
      "모집단에서 66810 개수만큼 추출해주세요.\n",
      "모집단에서 66810 개수만큼 추출한 데이터의 평균을 만들어주세요.\n",
      "모집단에서 66910 개수만큼 추출해주세요.\n",
      "모집단에서 66910 개수만큼 추출한 데이터의 평균을 만들어주세요.\n",
      "모집단에서 67010 개수만큼 추출해주세요.\n",
      "모집단에서 67010 개수만큼 추출한 데이터의 평균을 만들어주세요.\n",
      "모집단에서 67110 개수만큼 추출해주세요.\n",
      "모집단에서 67110 개수만큼 추출한 데이터의 평균을 만들어주세요.\n",
      "모집단에서 67210 개수만큼 추출해주세요.\n",
      "모집단에서 67210 개수만큼 추출한 데이터의 평균을 만들어주세요.\n",
      "모집단에서 67310 개수만큼 추출해주세요.\n",
      "모집단에서 67310 개수만큼 추출한 데이터의 평균을 만들어주세요.\n",
      "모집단에서 67410 개수만큼 추출해주세요.\n",
      "모집단에서 67410 개수만큼 추출한 데이터의 평균을 만들어주세요.\n",
      "모집단에서 67510 개수만큼 추출해주세요.\n",
      "모집단에서 67510 개수만큼 추출한 데이터의 평균을 만들어주세요.\n",
      "모집단에서 67610 개수만큼 추출해주세요.\n",
      "모집단에서 67610 개수만큼 추출한 데이터의 평균을 만들어주세요.\n",
      "모집단에서 67710 개수만큼 추출해주세요.\n",
      "모집단에서 67710 개수만큼 추출한 데이터의 평균을 만들어주세요.\n",
      "모집단에서 67810 개수만큼 추출해주세요.\n",
      "모집단에서 67810 개수만큼 추출한 데이터의 평균을 만들어주세요.\n",
      "모집단에서 67910 개수만큼 추출해주세요.\n",
      "모집단에서 67910 개수만큼 추출한 데이터의 평균을 만들어주세요.\n",
      "모집단에서 68010 개수만큼 추출해주세요.\n",
      "모집단에서 68010 개수만큼 추출한 데이터의 평균을 만들어주세요.\n",
      "모집단에서 68110 개수만큼 추출해주세요.\n",
      "모집단에서 68110 개수만큼 추출한 데이터의 평균을 만들어주세요.\n",
      "모집단에서 68210 개수만큼 추출해주세요.\n",
      "모집단에서 68210 개수만큼 추출한 데이터의 평균을 만들어주세요.\n",
      "모집단에서 68310 개수만큼 추출해주세요.\n",
      "모집단에서 68310 개수만큼 추출한 데이터의 평균을 만들어주세요.\n",
      "모집단에서 68410 개수만큼 추출해주세요.\n",
      "모집단에서 68410 개수만큼 추출한 데이터의 평균을 만들어주세요.\n",
      "모집단에서 68510 개수만큼 추출해주세요.\n",
      "모집단에서 68510 개수만큼 추출한 데이터의 평균을 만들어주세요.\n"
     ]
    },
    {
     "name": "stdout",
     "output_type": "stream",
     "text": [
      "모집단에서 68610 개수만큼 추출해주세요.\n",
      "모집단에서 68610 개수만큼 추출한 데이터의 평균을 만들어주세요.\n",
      "모집단에서 68710 개수만큼 추출해주세요.\n",
      "모집단에서 68710 개수만큼 추출한 데이터의 평균을 만들어주세요.\n",
      "모집단에서 68810 개수만큼 추출해주세요.\n",
      "모집단에서 68810 개수만큼 추출한 데이터의 평균을 만들어주세요.\n",
      "모집단에서 68910 개수만큼 추출해주세요.\n",
      "모집단에서 68910 개수만큼 추출한 데이터의 평균을 만들어주세요.\n",
      "모집단에서 69010 개수만큼 추출해주세요.\n",
      "모집단에서 69010 개수만큼 추출한 데이터의 평균을 만들어주세요.\n",
      "모집단에서 69110 개수만큼 추출해주세요.\n",
      "모집단에서 69110 개수만큼 추출한 데이터의 평균을 만들어주세요.\n",
      "모집단에서 69210 개수만큼 추출해주세요.\n",
      "모집단에서 69210 개수만큼 추출한 데이터의 평균을 만들어주세요.\n",
      "모집단에서 69310 개수만큼 추출해주세요.\n",
      "모집단에서 69310 개수만큼 추출한 데이터의 평균을 만들어주세요.\n",
      "모집단에서 69410 개수만큼 추출해주세요.\n",
      "모집단에서 69410 개수만큼 추출한 데이터의 평균을 만들어주세요.\n",
      "모집단에서 69510 개수만큼 추출해주세요.\n",
      "모집단에서 69510 개수만큼 추출한 데이터의 평균을 만들어주세요.\n",
      "모집단에서 69610 개수만큼 추출해주세요.\n",
      "모집단에서 69610 개수만큼 추출한 데이터의 평균을 만들어주세요.\n",
      "모집단에서 69710 개수만큼 추출해주세요.\n",
      "모집단에서 69710 개수만큼 추출한 데이터의 평균을 만들어주세요.\n",
      "모집단에서 69810 개수만큼 추출해주세요.\n",
      "모집단에서 69810 개수만큼 추출한 데이터의 평균을 만들어주세요.\n",
      "모집단에서 69910 개수만큼 추출해주세요.\n",
      "모집단에서 69910 개수만큼 추출한 데이터의 평균을 만들어주세요.\n",
      "모집단에서 70010 개수만큼 추출해주세요.\n",
      "모집단에서 70010 개수만큼 추출한 데이터의 평균을 만들어주세요.\n",
      "모집단에서 70110 개수만큼 추출해주세요.\n",
      "모집단에서 70110 개수만큼 추출한 데이터의 평균을 만들어주세요.\n",
      "모집단에서 70210 개수만큼 추출해주세요.\n",
      "모집단에서 70210 개수만큼 추출한 데이터의 평균을 만들어주세요.\n",
      "모집단에서 70310 개수만큼 추출해주세요.\n",
      "모집단에서 70310 개수만큼 추출한 데이터의 평균을 만들어주세요.\n",
      "모집단에서 70410 개수만큼 추출해주세요.\n",
      "모집단에서 70410 개수만큼 추출한 데이터의 평균을 만들어주세요.\n",
      "모집단에서 70510 개수만큼 추출해주세요.\n",
      "모집단에서 70510 개수만큼 추출한 데이터의 평균을 만들어주세요.\n",
      "모집단에서 70610 개수만큼 추출해주세요.\n",
      "모집단에서 70610 개수만큼 추출한 데이터의 평균을 만들어주세요.\n",
      "모집단에서 70710 개수만큼 추출해주세요.\n",
      "모집단에서 70710 개수만큼 추출한 데이터의 평균을 만들어주세요.\n",
      "모집단에서 70810 개수만큼 추출해주세요.\n",
      "모집단에서 70810 개수만큼 추출한 데이터의 평균을 만들어주세요.\n",
      "모집단에서 70910 개수만큼 추출해주세요.\n",
      "모집단에서 70910 개수만큼 추출한 데이터의 평균을 만들어주세요.\n",
      "모집단에서 71010 개수만큼 추출해주세요.\n",
      "모집단에서 71010 개수만큼 추출한 데이터의 평균을 만들어주세요.\n",
      "모집단에서 71110 개수만큼 추출해주세요.\n",
      "모집단에서 71110 개수만큼 추출한 데이터의 평균을 만들어주세요.\n",
      "모집단에서 71210 개수만큼 추출해주세요.\n",
      "모집단에서 71210 개수만큼 추출한 데이터의 평균을 만들어주세요.\n",
      "모집단에서 71310 개수만큼 추출해주세요.\n",
      "모집단에서 71310 개수만큼 추출한 데이터의 평균을 만들어주세요.\n",
      "모집단에서 71410 개수만큼 추출해주세요.\n",
      "모집단에서 71410 개수만큼 추출한 데이터의 평균을 만들어주세요.\n",
      "모집단에서 71510 개수만큼 추출해주세요.\n",
      "모집단에서 71510 개수만큼 추출한 데이터의 평균을 만들어주세요.\n",
      "모집단에서 71610 개수만큼 추출해주세요.\n",
      "모집단에서 71610 개수만큼 추출한 데이터의 평균을 만들어주세요.\n",
      "모집단에서 71710 개수만큼 추출해주세요.\n",
      "모집단에서 71710 개수만큼 추출한 데이터의 평균을 만들어주세요.\n",
      "모집단에서 71810 개수만큼 추출해주세요.\n",
      "모집단에서 71810 개수만큼 추출한 데이터의 평균을 만들어주세요.\n",
      "모집단에서 71910 개수만큼 추출해주세요.\n",
      "모집단에서 71910 개수만큼 추출한 데이터의 평균을 만들어주세요.\n",
      "모집단에서 72010 개수만큼 추출해주세요.\n",
      "모집단에서 72010 개수만큼 추출한 데이터의 평균을 만들어주세요.\n",
      "모집단에서 72110 개수만큼 추출해주세요.\n",
      "모집단에서 72110 개수만큼 추출한 데이터의 평균을 만들어주세요.\n",
      "모집단에서 72210 개수만큼 추출해주세요.\n",
      "모집단에서 72210 개수만큼 추출한 데이터의 평균을 만들어주세요.\n",
      "모집단에서 72310 개수만큼 추출해주세요.\n",
      "모집단에서 72310 개수만큼 추출한 데이터의 평균을 만들어주세요.\n",
      "모집단에서 72410 개수만큼 추출해주세요.\n",
      "모집단에서 72410 개수만큼 추출한 데이터의 평균을 만들어주세요.\n",
      "모집단에서 72510 개수만큼 추출해주세요.\n",
      "모집단에서 72510 개수만큼 추출한 데이터의 평균을 만들어주세요.\n",
      "모집단에서 72610 개수만큼 추출해주세요.\n",
      "모집단에서 72610 개수만큼 추출한 데이터의 평균을 만들어주세요.\n",
      "모집단에서 72710 개수만큼 추출해주세요.\n",
      "모집단에서 72710 개수만큼 추출한 데이터의 평균을 만들어주세요.\n",
      "모집단에서 72810 개수만큼 추출해주세요.\n",
      "모집단에서 72810 개수만큼 추출한 데이터의 평균을 만들어주세요.\n",
      "모집단에서 72910 개수만큼 추출해주세요.\n",
      "모집단에서 72910 개수만큼 추출한 데이터의 평균을 만들어주세요.\n",
      "모집단에서 73010 개수만큼 추출해주세요.\n",
      "모집단에서 73010 개수만큼 추출한 데이터의 평균을 만들어주세요.\n",
      "모집단에서 73110 개수만큼 추출해주세요.\n",
      "모집단에서 73110 개수만큼 추출한 데이터의 평균을 만들어주세요.\n",
      "모집단에서 73210 개수만큼 추출해주세요.\n",
      "모집단에서 73210 개수만큼 추출한 데이터의 평균을 만들어주세요.\n",
      "모집단에서 73310 개수만큼 추출해주세요.\n",
      "모집단에서 73310 개수만큼 추출한 데이터의 평균을 만들어주세요.\n",
      "모집단에서 73410 개수만큼 추출해주세요.\n",
      "모집단에서 73410 개수만큼 추출한 데이터의 평균을 만들어주세요.\n",
      "모집단에서 73510 개수만큼 추출해주세요.\n",
      "모집단에서 73510 개수만큼 추출한 데이터의 평균을 만들어주세요.\n",
      "모집단에서 73610 개수만큼 추출해주세요.\n",
      "모집단에서 73610 개수만큼 추출한 데이터의 평균을 만들어주세요.\n",
      "모집단에서 73710 개수만큼 추출해주세요.\n",
      "모집단에서 73710 개수만큼 추출한 데이터의 평균을 만들어주세요.\n",
      "모집단에서 73810 개수만큼 추출해주세요.\n",
      "모집단에서 73810 개수만큼 추출한 데이터의 평균을 만들어주세요.\n",
      "모집단에서 73910 개수만큼 추출해주세요.\n",
      "모집단에서 73910 개수만큼 추출한 데이터의 평균을 만들어주세요.\n",
      "모집단에서 74010 개수만큼 추출해주세요.\n",
      "모집단에서 74010 개수만큼 추출한 데이터의 평균을 만들어주세요.\n",
      "모집단에서 74110 개수만큼 추출해주세요.\n",
      "모집단에서 74110 개수만큼 추출한 데이터의 평균을 만들어주세요.\n",
      "모집단에서 74210 개수만큼 추출해주세요.\n",
      "모집단에서 74210 개수만큼 추출한 데이터의 평균을 만들어주세요.\n",
      "모집단에서 74310 개수만큼 추출해주세요.\n",
      "모집단에서 74310 개수만큼 추출한 데이터의 평균을 만들어주세요.\n",
      "모집단에서 74410 개수만큼 추출해주세요.\n",
      "모집단에서 74410 개수만큼 추출한 데이터의 평균을 만들어주세요.\n",
      "모집단에서 74510 개수만큼 추출해주세요.\n",
      "모집단에서 74510 개수만큼 추출한 데이터의 평균을 만들어주세요.\n",
      "모집단에서 74610 개수만큼 추출해주세요.\n",
      "모집단에서 74610 개수만큼 추출한 데이터의 평균을 만들어주세요.\n",
      "모집단에서 74710 개수만큼 추출해주세요.\n",
      "모집단에서 74710 개수만큼 추출한 데이터의 평균을 만들어주세요.\n",
      "모집단에서 74810 개수만큼 추출해주세요.\n",
      "모집단에서 74810 개수만큼 추출한 데이터의 평균을 만들어주세요.\n",
      "모집단에서 74910 개수만큼 추출해주세요.\n",
      "모집단에서 74910 개수만큼 추출한 데이터의 평균을 만들어주세요.\n",
      "모집단에서 75010 개수만큼 추출해주세요.\n",
      "모집단에서 75010 개수만큼 추출한 데이터의 평균을 만들어주세요.\n",
      "모집단에서 75110 개수만큼 추출해주세요.\n",
      "모집단에서 75110 개수만큼 추출한 데이터의 평균을 만들어주세요.\n",
      "모집단에서 75210 개수만큼 추출해주세요.\n",
      "모집단에서 75210 개수만큼 추출한 데이터의 평균을 만들어주세요.\n",
      "모집단에서 75310 개수만큼 추출해주세요.\n",
      "모집단에서 75310 개수만큼 추출한 데이터의 평균을 만들어주세요.\n",
      "모집단에서 75410 개수만큼 추출해주세요.\n",
      "모집단에서 75410 개수만큼 추출한 데이터의 평균을 만들어주세요.\n",
      "모집단에서 75510 개수만큼 추출해주세요.\n",
      "모집단에서 75510 개수만큼 추출한 데이터의 평균을 만들어주세요.\n",
      "모집단에서 75610 개수만큼 추출해주세요.\n",
      "모집단에서 75610 개수만큼 추출한 데이터의 평균을 만들어주세요.\n",
      "모집단에서 75710 개수만큼 추출해주세요.\n",
      "모집단에서 75710 개수만큼 추출한 데이터의 평균을 만들어주세요.\n",
      "모집단에서 75810 개수만큼 추출해주세요.\n",
      "모집단에서 75810 개수만큼 추출한 데이터의 평균을 만들어주세요.\n",
      "모집단에서 75910 개수만큼 추출해주세요.\n",
      "모집단에서 75910 개수만큼 추출한 데이터의 평균을 만들어주세요.\n",
      "모집단에서 76010 개수만큼 추출해주세요.\n",
      "모집단에서 76010 개수만큼 추출한 데이터의 평균을 만들어주세요.\n",
      "모집단에서 76110 개수만큼 추출해주세요.\n",
      "모집단에서 76110 개수만큼 추출한 데이터의 평균을 만들어주세요.\n",
      "모집단에서 76210 개수만큼 추출해주세요.\n",
      "모집단에서 76210 개수만큼 추출한 데이터의 평균을 만들어주세요.\n",
      "모집단에서 76310 개수만큼 추출해주세요.\n",
      "모집단에서 76310 개수만큼 추출한 데이터의 평균을 만들어주세요.\n",
      "모집단에서 76410 개수만큼 추출해주세요.\n",
      "모집단에서 76410 개수만큼 추출한 데이터의 평균을 만들어주세요.\n",
      "모집단에서 76510 개수만큼 추출해주세요.\n",
      "모집단에서 76510 개수만큼 추출한 데이터의 평균을 만들어주세요.\n",
      "모집단에서 76610 개수만큼 추출해주세요.\n",
      "모집단에서 76610 개수만큼 추출한 데이터의 평균을 만들어주세요.\n",
      "모집단에서 76710 개수만큼 추출해주세요.\n",
      "모집단에서 76710 개수만큼 추출한 데이터의 평균을 만들어주세요.\n",
      "모집단에서 76810 개수만큼 추출해주세요.\n",
      "모집단에서 76810 개수만큼 추출한 데이터의 평균을 만들어주세요.\n",
      "모집단에서 76910 개수만큼 추출해주세요.\n",
      "모집단에서 76910 개수만큼 추출한 데이터의 평균을 만들어주세요.\n",
      "모집단에서 77010 개수만큼 추출해주세요.\n",
      "모집단에서 77010 개수만큼 추출한 데이터의 평균을 만들어주세요.\n",
      "모집단에서 77110 개수만큼 추출해주세요.\n",
      "모집단에서 77110 개수만큼 추출한 데이터의 평균을 만들어주세요.\n",
      "모집단에서 77210 개수만큼 추출해주세요.\n",
      "모집단에서 77210 개수만큼 추출한 데이터의 평균을 만들어주세요.\n",
      "모집단에서 77310 개수만큼 추출해주세요.\n",
      "모집단에서 77310 개수만큼 추출한 데이터의 평균을 만들어주세요.\n",
      "모집단에서 77410 개수만큼 추출해주세요.\n",
      "모집단에서 77410 개수만큼 추출한 데이터의 평균을 만들어주세요.\n",
      "모집단에서 77510 개수만큼 추출해주세요.\n",
      "모집단에서 77510 개수만큼 추출한 데이터의 평균을 만들어주세요.\n",
      "모집단에서 77610 개수만큼 추출해주세요.\n",
      "모집단에서 77610 개수만큼 추출한 데이터의 평균을 만들어주세요.\n",
      "모집단에서 77710 개수만큼 추출해주세요.\n",
      "모집단에서 77710 개수만큼 추출한 데이터의 평균을 만들어주세요.\n",
      "모집단에서 77810 개수만큼 추출해주세요.\n",
      "모집단에서 77810 개수만큼 추출한 데이터의 평균을 만들어주세요.\n",
      "모집단에서 77910 개수만큼 추출해주세요.\n",
      "모집단에서 77910 개수만큼 추출한 데이터의 평균을 만들어주세요.\n",
      "모집단에서 78010 개수만큼 추출해주세요.\n",
      "모집단에서 78010 개수만큼 추출한 데이터의 평균을 만들어주세요.\n",
      "모집단에서 78110 개수만큼 추출해주세요.\n",
      "모집단에서 78110 개수만큼 추출한 데이터의 평균을 만들어주세요.\n",
      "모집단에서 78210 개수만큼 추출해주세요.\n",
      "모집단에서 78210 개수만큼 추출한 데이터의 평균을 만들어주세요.\n",
      "모집단에서 78310 개수만큼 추출해주세요.\n",
      "모집단에서 78310 개수만큼 추출한 데이터의 평균을 만들어주세요.\n",
      "모집단에서 78410 개수만큼 추출해주세요.\n",
      "모집단에서 78410 개수만큼 추출한 데이터의 평균을 만들어주세요.\n",
      "모집단에서 78510 개수만큼 추출해주세요.\n",
      "모집단에서 78510 개수만큼 추출한 데이터의 평균을 만들어주세요.\n",
      "모집단에서 78610 개수만큼 추출해주세요.\n",
      "모집단에서 78610 개수만큼 추출한 데이터의 평균을 만들어주세요.\n",
      "모집단에서 78710 개수만큼 추출해주세요.\n",
      "모집단에서 78710 개수만큼 추출한 데이터의 평균을 만들어주세요.\n",
      "모집단에서 78810 개수만큼 추출해주세요.\n",
      "모집단에서 78810 개수만큼 추출한 데이터의 평균을 만들어주세요.\n",
      "모집단에서 78910 개수만큼 추출해주세요.\n",
      "모집단에서 78910 개수만큼 추출한 데이터의 평균을 만들어주세요.\n",
      "모집단에서 79010 개수만큼 추출해주세요.\n",
      "모집단에서 79010 개수만큼 추출한 데이터의 평균을 만들어주세요.\n",
      "모집단에서 79110 개수만큼 추출해주세요.\n",
      "모집단에서 79110 개수만큼 추출한 데이터의 평균을 만들어주세요.\n",
      "모집단에서 79210 개수만큼 추출해주세요.\n",
      "모집단에서 79210 개수만큼 추출한 데이터의 평균을 만들어주세요.\n",
      "모집단에서 79310 개수만큼 추출해주세요.\n",
      "모집단에서 79310 개수만큼 추출한 데이터의 평균을 만들어주세요.\n",
      "모집단에서 79410 개수만큼 추출해주세요.\n",
      "모집단에서 79410 개수만큼 추출한 데이터의 평균을 만들어주세요.\n",
      "모집단에서 79510 개수만큼 추출해주세요.\n",
      "모집단에서 79510 개수만큼 추출한 데이터의 평균을 만들어주세요.\n",
      "모집단에서 79610 개수만큼 추출해주세요.\n",
      "모집단에서 79610 개수만큼 추출한 데이터의 평균을 만들어주세요.\n",
      "모집단에서 79710 개수만큼 추출해주세요.\n",
      "모집단에서 79710 개수만큼 추출한 데이터의 평균을 만들어주세요.\n",
      "모집단에서 79810 개수만큼 추출해주세요.\n",
      "모집단에서 79810 개수만큼 추출한 데이터의 평균을 만들어주세요.\n",
      "모집단에서 79910 개수만큼 추출해주세요.\n",
      "모집단에서 79910 개수만큼 추출한 데이터의 평균을 만들어주세요.\n",
      "모집단에서 80010 개수만큼 추출해주세요.\n",
      "모집단에서 80010 개수만큼 추출한 데이터의 평균을 만들어주세요.\n",
      "모집단에서 80110 개수만큼 추출해주세요.\n",
      "모집단에서 80110 개수만큼 추출한 데이터의 평균을 만들어주세요.\n",
      "모집단에서 80210 개수만큼 추출해주세요.\n",
      "모집단에서 80210 개수만큼 추출한 데이터의 평균을 만들어주세요.\n",
      "모집단에서 80310 개수만큼 추출해주세요.\n",
      "모집단에서 80310 개수만큼 추출한 데이터의 평균을 만들어주세요.\n",
      "모집단에서 80410 개수만큼 추출해주세요.\n",
      "모집단에서 80410 개수만큼 추출한 데이터의 평균을 만들어주세요.\n",
      "모집단에서 80510 개수만큼 추출해주세요.\n",
      "모집단에서 80510 개수만큼 추출한 데이터의 평균을 만들어주세요.\n",
      "모집단에서 80610 개수만큼 추출해주세요.\n",
      "모집단에서 80610 개수만큼 추출한 데이터의 평균을 만들어주세요.\n",
      "모집단에서 80710 개수만큼 추출해주세요.\n",
      "모집단에서 80710 개수만큼 추출한 데이터의 평균을 만들어주세요.\n",
      "모집단에서 80810 개수만큼 추출해주세요.\n",
      "모집단에서 80810 개수만큼 추출한 데이터의 평균을 만들어주세요.\n",
      "모집단에서 80910 개수만큼 추출해주세요.\n",
      "모집단에서 80910 개수만큼 추출한 데이터의 평균을 만들어주세요.\n",
      "모집단에서 81010 개수만큼 추출해주세요.\n",
      "모집단에서 81010 개수만큼 추출한 데이터의 평균을 만들어주세요.\n",
      "모집단에서 81110 개수만큼 추출해주세요.\n",
      "모집단에서 81110 개수만큼 추출한 데이터의 평균을 만들어주세요.\n",
      "모집단에서 81210 개수만큼 추출해주세요.\n",
      "모집단에서 81210 개수만큼 추출한 데이터의 평균을 만들어주세요.\n",
      "모집단에서 81310 개수만큼 추출해주세요.\n",
      "모집단에서 81310 개수만큼 추출한 데이터의 평균을 만들어주세요.\n",
      "모집단에서 81410 개수만큼 추출해주세요.\n",
      "모집단에서 81410 개수만큼 추출한 데이터의 평균을 만들어주세요.\n",
      "모집단에서 81510 개수만큼 추출해주세요.\n",
      "모집단에서 81510 개수만큼 추출한 데이터의 평균을 만들어주세요.\n",
      "모집단에서 81610 개수만큼 추출해주세요.\n",
      "모집단에서 81610 개수만큼 추출한 데이터의 평균을 만들어주세요.\n",
      "모집단에서 81710 개수만큼 추출해주세요.\n",
      "모집단에서 81710 개수만큼 추출한 데이터의 평균을 만들어주세요.\n",
      "모집단에서 81810 개수만큼 추출해주세요.\n",
      "모집단에서 81810 개수만큼 추출한 데이터의 평균을 만들어주세요.\n",
      "모집단에서 81910 개수만큼 추출해주세요.\n",
      "모집단에서 81910 개수만큼 추출한 데이터의 평균을 만들어주세요.\n",
      "모집단에서 82010 개수만큼 추출해주세요.\n",
      "모집단에서 82010 개수만큼 추출한 데이터의 평균을 만들어주세요.\n",
      "모집단에서 82110 개수만큼 추출해주세요.\n",
      "모집단에서 82110 개수만큼 추출한 데이터의 평균을 만들어주세요.\n",
      "모집단에서 82210 개수만큼 추출해주세요.\n",
      "모집단에서 82210 개수만큼 추출한 데이터의 평균을 만들어주세요.\n",
      "모집단에서 82310 개수만큼 추출해주세요.\n",
      "모집단에서 82310 개수만큼 추출한 데이터의 평균을 만들어주세요.\n",
      "모집단에서 82410 개수만큼 추출해주세요.\n",
      "모집단에서 82410 개수만큼 추출한 데이터의 평균을 만들어주세요.\n",
      "모집단에서 82510 개수만큼 추출해주세요.\n",
      "모집단에서 82510 개수만큼 추출한 데이터의 평균을 만들어주세요.\n",
      "모집단에서 82610 개수만큼 추출해주세요.\n",
      "모집단에서 82610 개수만큼 추출한 데이터의 평균을 만들어주세요.\n",
      "모집단에서 82710 개수만큼 추출해주세요.\n",
      "모집단에서 82710 개수만큼 추출한 데이터의 평균을 만들어주세요.\n",
      "모집단에서 82810 개수만큼 추출해주세요.\n",
      "모집단에서 82810 개수만큼 추출한 데이터의 평균을 만들어주세요.\n",
      "모집단에서 82910 개수만큼 추출해주세요.\n",
      "모집단에서 82910 개수만큼 추출한 데이터의 평균을 만들어주세요.\n",
      "모집단에서 83010 개수만큼 추출해주세요.\n",
      "모집단에서 83010 개수만큼 추출한 데이터의 평균을 만들어주세요.\n",
      "모집단에서 83110 개수만큼 추출해주세요.\n",
      "모집단에서 83110 개수만큼 추출한 데이터의 평균을 만들어주세요.\n",
      "모집단에서 83210 개수만큼 추출해주세요.\n",
      "모집단에서 83210 개수만큼 추출한 데이터의 평균을 만들어주세요.\n"
     ]
    },
    {
     "name": "stdout",
     "output_type": "stream",
     "text": [
      "모집단에서 83310 개수만큼 추출해주세요.\n",
      "모집단에서 83310 개수만큼 추출한 데이터의 평균을 만들어주세요.\n",
      "모집단에서 83410 개수만큼 추출해주세요.\n",
      "모집단에서 83410 개수만큼 추출한 데이터의 평균을 만들어주세요.\n",
      "모집단에서 83510 개수만큼 추출해주세요.\n",
      "모집단에서 83510 개수만큼 추출한 데이터의 평균을 만들어주세요.\n",
      "모집단에서 83610 개수만큼 추출해주세요.\n",
      "모집단에서 83610 개수만큼 추출한 데이터의 평균을 만들어주세요.\n",
      "모집단에서 83710 개수만큼 추출해주세요.\n",
      "모집단에서 83710 개수만큼 추출한 데이터의 평균을 만들어주세요.\n",
      "모집단에서 83810 개수만큼 추출해주세요.\n",
      "모집단에서 83810 개수만큼 추출한 데이터의 평균을 만들어주세요.\n",
      "모집단에서 83910 개수만큼 추출해주세요.\n",
      "모집단에서 83910 개수만큼 추출한 데이터의 평균을 만들어주세요.\n",
      "모집단에서 84010 개수만큼 추출해주세요.\n",
      "모집단에서 84010 개수만큼 추출한 데이터의 평균을 만들어주세요.\n",
      "모집단에서 84110 개수만큼 추출해주세요.\n",
      "모집단에서 84110 개수만큼 추출한 데이터의 평균을 만들어주세요.\n",
      "모집단에서 84210 개수만큼 추출해주세요.\n",
      "모집단에서 84210 개수만큼 추출한 데이터의 평균을 만들어주세요.\n",
      "모집단에서 84310 개수만큼 추출해주세요.\n",
      "모집단에서 84310 개수만큼 추출한 데이터의 평균을 만들어주세요.\n",
      "모집단에서 84410 개수만큼 추출해주세요.\n",
      "모집단에서 84410 개수만큼 추출한 데이터의 평균을 만들어주세요.\n",
      "모집단에서 84510 개수만큼 추출해주세요.\n",
      "모집단에서 84510 개수만큼 추출한 데이터의 평균을 만들어주세요.\n",
      "모집단에서 84610 개수만큼 추출해주세요.\n",
      "모집단에서 84610 개수만큼 추출한 데이터의 평균을 만들어주세요.\n",
      "모집단에서 84710 개수만큼 추출해주세요.\n",
      "모집단에서 84710 개수만큼 추출한 데이터의 평균을 만들어주세요.\n",
      "모집단에서 84810 개수만큼 추출해주세요.\n",
      "모집단에서 84810 개수만큼 추출한 데이터의 평균을 만들어주세요.\n",
      "모집단에서 84910 개수만큼 추출해주세요.\n",
      "모집단에서 84910 개수만큼 추출한 데이터의 평균을 만들어주세요.\n",
      "모집단에서 85010 개수만큼 추출해주세요.\n",
      "모집단에서 85010 개수만큼 추출한 데이터의 평균을 만들어주세요.\n",
      "모집단에서 85110 개수만큼 추출해주세요.\n",
      "모집단에서 85110 개수만큼 추출한 데이터의 평균을 만들어주세요.\n",
      "모집단에서 85210 개수만큼 추출해주세요.\n",
      "모집단에서 85210 개수만큼 추출한 데이터의 평균을 만들어주세요.\n",
      "모집단에서 85310 개수만큼 추출해주세요.\n",
      "모집단에서 85310 개수만큼 추출한 데이터의 평균을 만들어주세요.\n",
      "모집단에서 85410 개수만큼 추출해주세요.\n",
      "모집단에서 85410 개수만큼 추출한 데이터의 평균을 만들어주세요.\n",
      "모집단에서 85510 개수만큼 추출해주세요.\n",
      "모집단에서 85510 개수만큼 추출한 데이터의 평균을 만들어주세요.\n",
      "모집단에서 85610 개수만큼 추출해주세요.\n",
      "모집단에서 85610 개수만큼 추출한 데이터의 평균을 만들어주세요.\n",
      "모집단에서 85710 개수만큼 추출해주세요.\n",
      "모집단에서 85710 개수만큼 추출한 데이터의 평균을 만들어주세요.\n",
      "모집단에서 85810 개수만큼 추출해주세요.\n",
      "모집단에서 85810 개수만큼 추출한 데이터의 평균을 만들어주세요.\n",
      "모집단에서 85910 개수만큼 추출해주세요.\n",
      "모집단에서 85910 개수만큼 추출한 데이터의 평균을 만들어주세요.\n",
      "모집단에서 86010 개수만큼 추출해주세요.\n",
      "모집단에서 86010 개수만큼 추출한 데이터의 평균을 만들어주세요.\n",
      "모집단에서 86110 개수만큼 추출해주세요.\n",
      "모집단에서 86110 개수만큼 추출한 데이터의 평균을 만들어주세요.\n",
      "모집단에서 86210 개수만큼 추출해주세요.\n",
      "모집단에서 86210 개수만큼 추출한 데이터의 평균을 만들어주세요.\n",
      "모집단에서 86310 개수만큼 추출해주세요.\n",
      "모집단에서 86310 개수만큼 추출한 데이터의 평균을 만들어주세요.\n",
      "모집단에서 86410 개수만큼 추출해주세요.\n",
      "모집단에서 86410 개수만큼 추출한 데이터의 평균을 만들어주세요.\n",
      "모집단에서 86510 개수만큼 추출해주세요.\n",
      "모집단에서 86510 개수만큼 추출한 데이터의 평균을 만들어주세요.\n",
      "모집단에서 86610 개수만큼 추출해주세요.\n",
      "모집단에서 86610 개수만큼 추출한 데이터의 평균을 만들어주세요.\n",
      "모집단에서 86710 개수만큼 추출해주세요.\n",
      "모집단에서 86710 개수만큼 추출한 데이터의 평균을 만들어주세요.\n",
      "모집단에서 86810 개수만큼 추출해주세요.\n",
      "모집단에서 86810 개수만큼 추출한 데이터의 평균을 만들어주세요.\n",
      "모집단에서 86910 개수만큼 추출해주세요.\n",
      "모집단에서 86910 개수만큼 추출한 데이터의 평균을 만들어주세요.\n",
      "모집단에서 87010 개수만큼 추출해주세요.\n",
      "모집단에서 87010 개수만큼 추출한 데이터의 평균을 만들어주세요.\n",
      "모집단에서 87110 개수만큼 추출해주세요.\n",
      "모집단에서 87110 개수만큼 추출한 데이터의 평균을 만들어주세요.\n",
      "모집단에서 87210 개수만큼 추출해주세요.\n",
      "모집단에서 87210 개수만큼 추출한 데이터의 평균을 만들어주세요.\n",
      "모집단에서 87310 개수만큼 추출해주세요.\n",
      "모집단에서 87310 개수만큼 추출한 데이터의 평균을 만들어주세요.\n",
      "모집단에서 87410 개수만큼 추출해주세요.\n",
      "모집단에서 87410 개수만큼 추출한 데이터의 평균을 만들어주세요.\n",
      "모집단에서 87510 개수만큼 추출해주세요.\n",
      "모집단에서 87510 개수만큼 추출한 데이터의 평균을 만들어주세요.\n",
      "모집단에서 87610 개수만큼 추출해주세요.\n",
      "모집단에서 87610 개수만큼 추출한 데이터의 평균을 만들어주세요.\n",
      "모집단에서 87710 개수만큼 추출해주세요.\n",
      "모집단에서 87710 개수만큼 추출한 데이터의 평균을 만들어주세요.\n",
      "모집단에서 87810 개수만큼 추출해주세요.\n",
      "모집단에서 87810 개수만큼 추출한 데이터의 평균을 만들어주세요.\n",
      "모집단에서 87910 개수만큼 추출해주세요.\n",
      "모집단에서 87910 개수만큼 추출한 데이터의 평균을 만들어주세요.\n",
      "모집단에서 88010 개수만큼 추출해주세요.\n",
      "모집단에서 88010 개수만큼 추출한 데이터의 평균을 만들어주세요.\n",
      "모집단에서 88110 개수만큼 추출해주세요.\n",
      "모집단에서 88110 개수만큼 추출한 데이터의 평균을 만들어주세요.\n",
      "모집단에서 88210 개수만큼 추출해주세요.\n",
      "모집단에서 88210 개수만큼 추출한 데이터의 평균을 만들어주세요.\n",
      "모집단에서 88310 개수만큼 추출해주세요.\n",
      "모집단에서 88310 개수만큼 추출한 데이터의 평균을 만들어주세요.\n",
      "모집단에서 88410 개수만큼 추출해주세요.\n",
      "모집단에서 88410 개수만큼 추출한 데이터의 평균을 만들어주세요.\n",
      "모집단에서 88510 개수만큼 추출해주세요.\n",
      "모집단에서 88510 개수만큼 추출한 데이터의 평균을 만들어주세요.\n",
      "모집단에서 88610 개수만큼 추출해주세요.\n",
      "모집단에서 88610 개수만큼 추출한 데이터의 평균을 만들어주세요.\n",
      "모집단에서 88710 개수만큼 추출해주세요.\n",
      "모집단에서 88710 개수만큼 추출한 데이터의 평균을 만들어주세요.\n",
      "모집단에서 88810 개수만큼 추출해주세요.\n",
      "모집단에서 88810 개수만큼 추출한 데이터의 평균을 만들어주세요.\n",
      "모집단에서 88910 개수만큼 추출해주세요.\n",
      "모집단에서 88910 개수만큼 추출한 데이터의 평균을 만들어주세요.\n",
      "모집단에서 89010 개수만큼 추출해주세요.\n",
      "모집단에서 89010 개수만큼 추출한 데이터의 평균을 만들어주세요.\n",
      "모집단에서 89110 개수만큼 추출해주세요.\n",
      "모집단에서 89110 개수만큼 추출한 데이터의 평균을 만들어주세요.\n",
      "모집단에서 89210 개수만큼 추출해주세요.\n",
      "모집단에서 89210 개수만큼 추출한 데이터의 평균을 만들어주세요.\n",
      "모집단에서 89310 개수만큼 추출해주세요.\n",
      "모집단에서 89310 개수만큼 추출한 데이터의 평균을 만들어주세요.\n",
      "모집단에서 89410 개수만큼 추출해주세요.\n",
      "모집단에서 89410 개수만큼 추출한 데이터의 평균을 만들어주세요.\n",
      "모집단에서 89510 개수만큼 추출해주세요.\n",
      "모집단에서 89510 개수만큼 추출한 데이터의 평균을 만들어주세요.\n",
      "모집단에서 89610 개수만큼 추출해주세요.\n",
      "모집단에서 89610 개수만큼 추출한 데이터의 평균을 만들어주세요.\n",
      "모집단에서 89710 개수만큼 추출해주세요.\n",
      "모집단에서 89710 개수만큼 추출한 데이터의 평균을 만들어주세요.\n",
      "모집단에서 89810 개수만큼 추출해주세요.\n",
      "모집단에서 89810 개수만큼 추출한 데이터의 평균을 만들어주세요.\n",
      "모집단에서 89910 개수만큼 추출해주세요.\n",
      "모집단에서 89910 개수만큼 추출한 데이터의 평균을 만들어주세요.\n",
      "모집단에서 90010 개수만큼 추출해주세요.\n",
      "모집단에서 90010 개수만큼 추출한 데이터의 평균을 만들어주세요.\n",
      "모집단에서 90110 개수만큼 추출해주세요.\n",
      "모집단에서 90110 개수만큼 추출한 데이터의 평균을 만들어주세요.\n",
      "모집단에서 90210 개수만큼 추출해주세요.\n",
      "모집단에서 90210 개수만큼 추출한 데이터의 평균을 만들어주세요.\n",
      "모집단에서 90310 개수만큼 추출해주세요.\n",
      "모집단에서 90310 개수만큼 추출한 데이터의 평균을 만들어주세요.\n",
      "모집단에서 90410 개수만큼 추출해주세요.\n",
      "모집단에서 90410 개수만큼 추출한 데이터의 평균을 만들어주세요.\n",
      "모집단에서 90510 개수만큼 추출해주세요.\n",
      "모집단에서 90510 개수만큼 추출한 데이터의 평균을 만들어주세요.\n",
      "모집단에서 90610 개수만큼 추출해주세요.\n",
      "모집단에서 90610 개수만큼 추출한 데이터의 평균을 만들어주세요.\n",
      "모집단에서 90710 개수만큼 추출해주세요.\n",
      "모집단에서 90710 개수만큼 추출한 데이터의 평균을 만들어주세요.\n",
      "모집단에서 90810 개수만큼 추출해주세요.\n",
      "모집단에서 90810 개수만큼 추출한 데이터의 평균을 만들어주세요.\n",
      "모집단에서 90910 개수만큼 추출해주세요.\n",
      "모집단에서 90910 개수만큼 추출한 데이터의 평균을 만들어주세요.\n",
      "모집단에서 91010 개수만큼 추출해주세요.\n",
      "모집단에서 91010 개수만큼 추출한 데이터의 평균을 만들어주세요.\n",
      "모집단에서 91110 개수만큼 추출해주세요.\n",
      "모집단에서 91110 개수만큼 추출한 데이터의 평균을 만들어주세요.\n",
      "모집단에서 91210 개수만큼 추출해주세요.\n",
      "모집단에서 91210 개수만큼 추출한 데이터의 평균을 만들어주세요.\n",
      "모집단에서 91310 개수만큼 추출해주세요.\n",
      "모집단에서 91310 개수만큼 추출한 데이터의 평균을 만들어주세요.\n",
      "모집단에서 91410 개수만큼 추출해주세요.\n",
      "모집단에서 91410 개수만큼 추출한 데이터의 평균을 만들어주세요.\n",
      "모집단에서 91510 개수만큼 추출해주세요.\n",
      "모집단에서 91510 개수만큼 추출한 데이터의 평균을 만들어주세요.\n",
      "모집단에서 91610 개수만큼 추출해주세요.\n",
      "모집단에서 91610 개수만큼 추출한 데이터의 평균을 만들어주세요.\n",
      "모집단에서 91710 개수만큼 추출해주세요.\n",
      "모집단에서 91710 개수만큼 추출한 데이터의 평균을 만들어주세요.\n",
      "모집단에서 91810 개수만큼 추출해주세요.\n",
      "모집단에서 91810 개수만큼 추출한 데이터의 평균을 만들어주세요.\n",
      "모집단에서 91910 개수만큼 추출해주세요.\n",
      "모집단에서 91910 개수만큼 추출한 데이터의 평균을 만들어주세요.\n",
      "모집단에서 92010 개수만큼 추출해주세요.\n",
      "모집단에서 92010 개수만큼 추출한 데이터의 평균을 만들어주세요.\n",
      "모집단에서 92110 개수만큼 추출해주세요.\n",
      "모집단에서 92110 개수만큼 추출한 데이터의 평균을 만들어주세요.\n",
      "모집단에서 92210 개수만큼 추출해주세요.\n",
      "모집단에서 92210 개수만큼 추출한 데이터의 평균을 만들어주세요.\n",
      "모집단에서 92310 개수만큼 추출해주세요.\n",
      "모집단에서 92310 개수만큼 추출한 데이터의 평균을 만들어주세요.\n",
      "모집단에서 92410 개수만큼 추출해주세요.\n",
      "모집단에서 92410 개수만큼 추출한 데이터의 평균을 만들어주세요.\n",
      "모집단에서 92510 개수만큼 추출해주세요.\n",
      "모집단에서 92510 개수만큼 추출한 데이터의 평균을 만들어주세요.\n",
      "모집단에서 92610 개수만큼 추출해주세요.\n",
      "모집단에서 92610 개수만큼 추출한 데이터의 평균을 만들어주세요.\n",
      "모집단에서 92710 개수만큼 추출해주세요.\n",
      "모집단에서 92710 개수만큼 추출한 데이터의 평균을 만들어주세요.\n",
      "모집단에서 92810 개수만큼 추출해주세요.\n",
      "모집단에서 92810 개수만큼 추출한 데이터의 평균을 만들어주세요.\n",
      "모집단에서 92910 개수만큼 추출해주세요.\n",
      "모집단에서 92910 개수만큼 추출한 데이터의 평균을 만들어주세요.\n",
      "모집단에서 93010 개수만큼 추출해주세요.\n",
      "모집단에서 93010 개수만큼 추출한 데이터의 평균을 만들어주세요.\n",
      "모집단에서 93110 개수만큼 추출해주세요.\n",
      "모집단에서 93110 개수만큼 추출한 데이터의 평균을 만들어주세요.\n",
      "모집단에서 93210 개수만큼 추출해주세요.\n",
      "모집단에서 93210 개수만큼 추출한 데이터의 평균을 만들어주세요.\n",
      "모집단에서 93310 개수만큼 추출해주세요.\n",
      "모집단에서 93310 개수만큼 추출한 데이터의 평균을 만들어주세요.\n",
      "모집단에서 93410 개수만큼 추출해주세요.\n",
      "모집단에서 93410 개수만큼 추출한 데이터의 평균을 만들어주세요.\n",
      "모집단에서 93510 개수만큼 추출해주세요.\n",
      "모집단에서 93510 개수만큼 추출한 데이터의 평균을 만들어주세요.\n",
      "모집단에서 93610 개수만큼 추출해주세요.\n",
      "모집단에서 93610 개수만큼 추출한 데이터의 평균을 만들어주세요.\n",
      "모집단에서 93710 개수만큼 추출해주세요.\n",
      "모집단에서 93710 개수만큼 추출한 데이터의 평균을 만들어주세요.\n",
      "모집단에서 93810 개수만큼 추출해주세요.\n",
      "모집단에서 93810 개수만큼 추출한 데이터의 평균을 만들어주세요.\n",
      "모집단에서 93910 개수만큼 추출해주세요.\n",
      "모집단에서 93910 개수만큼 추출한 데이터의 평균을 만들어주세요.\n",
      "모집단에서 94010 개수만큼 추출해주세요.\n",
      "모집단에서 94010 개수만큼 추출한 데이터의 평균을 만들어주세요.\n",
      "모집단에서 94110 개수만큼 추출해주세요.\n",
      "모집단에서 94110 개수만큼 추출한 데이터의 평균을 만들어주세요.\n",
      "모집단에서 94210 개수만큼 추출해주세요.\n",
      "모집단에서 94210 개수만큼 추출한 데이터의 평균을 만들어주세요.\n",
      "모집단에서 94310 개수만큼 추출해주세요.\n",
      "모집단에서 94310 개수만큼 추출한 데이터의 평균을 만들어주세요.\n",
      "모집단에서 94410 개수만큼 추출해주세요.\n",
      "모집단에서 94410 개수만큼 추출한 데이터의 평균을 만들어주세요.\n",
      "모집단에서 94510 개수만큼 추출해주세요.\n",
      "모집단에서 94510 개수만큼 추출한 데이터의 평균을 만들어주세요.\n",
      "모집단에서 94610 개수만큼 추출해주세요.\n",
      "모집단에서 94610 개수만큼 추출한 데이터의 평균을 만들어주세요.\n",
      "모집단에서 94710 개수만큼 추출해주세요.\n",
      "모집단에서 94710 개수만큼 추출한 데이터의 평균을 만들어주세요.\n",
      "모집단에서 94810 개수만큼 추출해주세요.\n",
      "모집단에서 94810 개수만큼 추출한 데이터의 평균을 만들어주세요.\n",
      "모집단에서 94910 개수만큼 추출해주세요.\n",
      "모집단에서 94910 개수만큼 추출한 데이터의 평균을 만들어주세요.\n",
      "모집단에서 95010 개수만큼 추출해주세요.\n",
      "모집단에서 95010 개수만큼 추출한 데이터의 평균을 만들어주세요.\n",
      "모집단에서 95110 개수만큼 추출해주세요.\n",
      "모집단에서 95110 개수만큼 추출한 데이터의 평균을 만들어주세요.\n",
      "모집단에서 95210 개수만큼 추출해주세요.\n",
      "모집단에서 95210 개수만큼 추출한 데이터의 평균을 만들어주세요.\n",
      "모집단에서 95310 개수만큼 추출해주세요.\n",
      "모집단에서 95310 개수만큼 추출한 데이터의 평균을 만들어주세요.\n",
      "모집단에서 95410 개수만큼 추출해주세요.\n",
      "모집단에서 95410 개수만큼 추출한 데이터의 평균을 만들어주세요.\n",
      "모집단에서 95510 개수만큼 추출해주세요.\n",
      "모집단에서 95510 개수만큼 추출한 데이터의 평균을 만들어주세요.\n",
      "모집단에서 95610 개수만큼 추출해주세요.\n",
      "모집단에서 95610 개수만큼 추출한 데이터의 평균을 만들어주세요.\n",
      "모집단에서 95710 개수만큼 추출해주세요.\n",
      "모집단에서 95710 개수만큼 추출한 데이터의 평균을 만들어주세요.\n",
      "모집단에서 95810 개수만큼 추출해주세요.\n",
      "모집단에서 95810 개수만큼 추출한 데이터의 평균을 만들어주세요.\n",
      "모집단에서 95910 개수만큼 추출해주세요.\n",
      "모집단에서 95910 개수만큼 추출한 데이터의 평균을 만들어주세요.\n",
      "모집단에서 96010 개수만큼 추출해주세요.\n",
      "모집단에서 96010 개수만큼 추출한 데이터의 평균을 만들어주세요.\n",
      "모집단에서 96110 개수만큼 추출해주세요.\n",
      "모집단에서 96110 개수만큼 추출한 데이터의 평균을 만들어주세요.\n",
      "모집단에서 96210 개수만큼 추출해주세요.\n",
      "모집단에서 96210 개수만큼 추출한 데이터의 평균을 만들어주세요.\n",
      "모집단에서 96310 개수만큼 추출해주세요.\n",
      "모집단에서 96310 개수만큼 추출한 데이터의 평균을 만들어주세요.\n",
      "모집단에서 96410 개수만큼 추출해주세요.\n",
      "모집단에서 96410 개수만큼 추출한 데이터의 평균을 만들어주세요.\n",
      "모집단에서 96510 개수만큼 추출해주세요.\n",
      "모집단에서 96510 개수만큼 추출한 데이터의 평균을 만들어주세요.\n",
      "모집단에서 96610 개수만큼 추출해주세요.\n",
      "모집단에서 96610 개수만큼 추출한 데이터의 평균을 만들어주세요.\n",
      "모집단에서 96710 개수만큼 추출해주세요.\n",
      "모집단에서 96710 개수만큼 추출한 데이터의 평균을 만들어주세요.\n",
      "모집단에서 96810 개수만큼 추출해주세요.\n",
      "모집단에서 96810 개수만큼 추출한 데이터의 평균을 만들어주세요.\n",
      "모집단에서 96910 개수만큼 추출해주세요.\n",
      "모집단에서 96910 개수만큼 추출한 데이터의 평균을 만들어주세요.\n",
      "모집단에서 97010 개수만큼 추출해주세요.\n",
      "모집단에서 97010 개수만큼 추출한 데이터의 평균을 만들어주세요.\n",
      "모집단에서 97110 개수만큼 추출해주세요.\n",
      "모집단에서 97110 개수만큼 추출한 데이터의 평균을 만들어주세요.\n",
      "모집단에서 97210 개수만큼 추출해주세요.\n",
      "모집단에서 97210 개수만큼 추출한 데이터의 평균을 만들어주세요.\n",
      "모집단에서 97310 개수만큼 추출해주세요.\n",
      "모집단에서 97310 개수만큼 추출한 데이터의 평균을 만들어주세요.\n",
      "모집단에서 97410 개수만큼 추출해주세요.\n",
      "모집단에서 97410 개수만큼 추출한 데이터의 평균을 만들어주세요.\n",
      "모집단에서 97510 개수만큼 추출해주세요.\n",
      "모집단에서 97510 개수만큼 추출한 데이터의 평균을 만들어주세요.\n",
      "모집단에서 97610 개수만큼 추출해주세요.\n",
      "모집단에서 97610 개수만큼 추출한 데이터의 평균을 만들어주세요.\n",
      "모집단에서 97710 개수만큼 추출해주세요.\n",
      "모집단에서 97710 개수만큼 추출한 데이터의 평균을 만들어주세요.\n",
      "모집단에서 97810 개수만큼 추출해주세요.\n",
      "모집단에서 97810 개수만큼 추출한 데이터의 평균을 만들어주세요.\n",
      "모집단에서 97910 개수만큼 추출해주세요.\n",
      "모집단에서 97910 개수만큼 추출한 데이터의 평균을 만들어주세요.\n",
      "모집단에서 98010 개수만큼 추출해주세요.\n",
      "모집단에서 98010 개수만큼 추출한 데이터의 평균을 만들어주세요.\n",
      "모집단에서 98110 개수만큼 추출해주세요.\n",
      "모집단에서 98110 개수만큼 추출한 데이터의 평균을 만들어주세요.\n",
      "모집단에서 98210 개수만큼 추출해주세요.\n",
      "모집단에서 98210 개수만큼 추출한 데이터의 평균을 만들어주세요.\n",
      "모집단에서 98310 개수만큼 추출해주세요.\n",
      "모집단에서 98310 개수만큼 추출한 데이터의 평균을 만들어주세요.\n",
      "모집단에서 98410 개수만큼 추출해주세요.\n",
      "모집단에서 98410 개수만큼 추출한 데이터의 평균을 만들어주세요.\n",
      "모집단에서 98510 개수만큼 추출해주세요.\n",
      "모집단에서 98510 개수만큼 추출한 데이터의 평균을 만들어주세요.\n",
      "모집단에서 98610 개수만큼 추출해주세요.\n",
      "모집단에서 98610 개수만큼 추출한 데이터의 평균을 만들어주세요.\n",
      "모집단에서 98710 개수만큼 추출해주세요.\n",
      "모집단에서 98710 개수만큼 추출한 데이터의 평균을 만들어주세요.\n",
      "모집단에서 98810 개수만큼 추출해주세요.\n",
      "모집단에서 98810 개수만큼 추출한 데이터의 평균을 만들어주세요.\n",
      "모집단에서 98910 개수만큼 추출해주세요.\n",
      "모집단에서 98910 개수만큼 추출한 데이터의 평균을 만들어주세요.\n",
      "모집단에서 99010 개수만큼 추출해주세요.\n",
      "모집단에서 99010 개수만큼 추출한 데이터의 평균을 만들어주세요.\n",
      "모집단에서 99110 개수만큼 추출해주세요.\n",
      "모집단에서 99110 개수만큼 추출한 데이터의 평균을 만들어주세요.\n",
      "모집단에서 99210 개수만큼 추출해주세요.\n",
      "모집단에서 99210 개수만큼 추출한 데이터의 평균을 만들어주세요.\n",
      "모집단에서 99310 개수만큼 추출해주세요.\n",
      "모집단에서 99310 개수만큼 추출한 데이터의 평균을 만들어주세요.\n",
      "모집단에서 99410 개수만큼 추출해주세요.\n",
      "모집단에서 99410 개수만큼 추출한 데이터의 평균을 만들어주세요.\n",
      "모집단에서 99510 개수만큼 추출해주세요.\n",
      "모집단에서 99510 개수만큼 추출한 데이터의 평균을 만들어주세요.\n",
      "모집단에서 99610 개수만큼 추출해주세요.\n",
      "모집단에서 99610 개수만큼 추출한 데이터의 평균을 만들어주세요.\n",
      "모집단에서 99710 개수만큼 추출해주세요.\n",
      "모집단에서 99710 개수만큼 추출한 데이터의 평균을 만들어주세요.\n",
      "모집단에서 99810 개수만큼 추출해주세요.\n",
      "모집단에서 99810 개수만큼 추출한 데이터의 평균을 만들어주세요.\n",
      "모집단에서 99910 개수만큼 추출해주세요.\n",
      "모집단에서 99910 개수만큼 추출한 데이터의 평균을 만들어주세요.\n",
      "모집단에서 100010 개수만큼 추출해주세요.\n",
      "모집단에서 100010 개수만큼 추출한 데이터의 평균을 만들어주세요.\n"
     ]
    }
   ],
   "source": [
    "for i in range(0, len(size_array)):\n",
    "    print(f\"모집단에서 {size_array[i]} 개수만큼 추출해주세요.\" )\n",
    "    sample = population.rvs(size=size_array[i])\n",
    "    print(f\"모집단에서 {size_array[i]} 개수만큼 추출한 데이터의 평균을 만들어주세요.\" )\n",
    "    sample_mean_array_size[i] = np.mean(sample)"
   ]
  },
  {
   "cell_type": "code",
   "execution_count": 72,
   "id": "8e23775f",
   "metadata": {},
   "outputs": [
    {
     "data": {
      "text/plain": [
       "3.9997492800678525"
      ]
     },
     "execution_count": 72,
     "metadata": {},
     "output_type": "execute_result"
    }
   ],
   "source": [
    "np.mean(sample_mean_array_size)"
   ]
  },
  {
   "cell_type": "code",
   "execution_count": 73,
   "id": "8816c337",
   "metadata": {},
   "outputs": [
    {
     "data": {
      "text/plain": [
       "0.00673814919308431"
      ]
     },
     "execution_count": 73,
     "metadata": {},
     "output_type": "execute_result"
    }
   ],
   "source": [
    "np.std(sample_mean_array_size, ddof=0)"
   ]
  },
  {
   "cell_type": "code",
   "execution_count": 74,
   "id": "d8973ce3",
   "metadata": {},
   "outputs": [
    {
     "data": {
      "text/plain": [
       "0.006741517425833075"
      ]
     },
     "execution_count": 74,
     "metadata": {},
     "output_type": "execute_result"
    }
   ],
   "source": [
    "np.std(sample_mean_array_size, ddof=1)"
   ]
  },
  {
   "cell_type": "code",
   "execution_count": 81,
   "id": "9250275e",
   "metadata": {},
   "outputs": [
    {
     "data": {
      "image/png": "[encoded data removed]",
      "text/plain": [
       "<Figure size 864x432 with 1 Axes>"
      ]
     },
     "metadata": {
      "needs_background": "light"
     },
     "output_type": "display_data"
    }
   ],
   "source": [
    "plt.figure(figsize=(12, 6))\n",
    "plt.plot(size_array, sample_mean_array_size, color=\"yellow\", lw=0.5)\n",
    "# y=4, x는 0부터 size_array의 최대값까지\n",
    "plt.hlines(4, 0, max(size_array), color=\"red\", linestyles=\"dashed\", lw=4)\n",
    "plt.xlabel('sample size')\n",
    "plt.ylabel('sample mean')\n",
    "plt.show()"
   ]
  },
  {
   "cell_type": "markdown",
   "id": "89d1f4e0",
   "metadata": {},
   "source": [
    "### 평균을 계산하는 함수"
   ]
  },
  {
   "cell_type": "code",
   "execution_count": 83,
   "id": "945b8a87",
   "metadata": {},
   "outputs": [],
   "source": [
    "def calc_sample_mean(size, n_trail):\n",
    "    \n",
    "    # 평균이 4이고, 표준편차가 0.8인 정규분포를 따르는 모집단 선언\n",
    "    population = stats.norm(loc=4, scale=0.8)\n",
    "    \n",
    "    # 요소가 0이고 길이가 n_trail인 numpy.array 반환\n",
    "    sample_mean_array = np.zeros(n_trail)\n",
    "    \n",
    "    for i in range(0, n_trail):\n",
    "        \n",
    "        # 평균이 4이고, 표준편차가 0.8인 정규분포를 따르는 모집단에서 10개의 데이터를 추출\n",
    "        sample = population.rvs(size=size)\n",
    "        sample_mean_array[i] = np.mean(sample)\n",
    "        \n",
    "    return(sample_mean_array)"
   ]
  },
  {
   "cell_type": "code",
   "execution_count": 84,
   "id": "a208de0e",
   "metadata": {},
   "outputs": [
    {
     "data": {
      "text/plain": [
       "array([4.12242933, 4.05977834, 3.87314501, ..., 4.05526546, 4.01260048,\n",
       "       4.04033323])"
      ]
     },
     "execution_count": 84,
     "metadata": {},
     "output_type": "execute_result"
    }
   ],
   "source": [
    "calc_sample_mean(100, 10000)"
   ]
  },
  {
   "cell_type": "code",
   "execution_count": 87,
   "id": "ec6c9060",
   "metadata": {},
   "outputs": [
    {
     "data": {
      "text/plain": [
       "(50,\n",
       " array([  2,   4,   6,   8,  10,  12,  14,  16,  18,  20,  22,  24,  26,\n",
       "         28,  30,  32,  34,  36,  38,  40,  42,  44,  46,  48,  50,  52,\n",
       "         54,  56,  58,  60,  62,  64,  66,  68,  70,  72,  74,  76,  78,\n",
       "         80,  82,  84,  86,  88,  90,  92,  94,  96,  98, 100]))"
      ]
     },
     "execution_count": 87,
     "metadata": {},
     "output_type": "execute_result"
    }
   ],
   "source": [
    "size_array = np.arange(2, 102, 2)\n",
    "len(size_array), size_array"
   ]
  },
  {
   "cell_type": "code",
   "execution_count": 91,
   "id": "b6730ca6",
   "metadata": {},
   "outputs": [],
   "source": [
    "sample_mean_std_array = np.zeros(len(size_array))\n",
    "np.random.seed(13)\n",
    "\n",
    "for i in range(0, len(size_array)):\n",
    "    sample_mean = calc_sample_mean(size=size_array[i], n_trail=100)\n",
    "    sample_mean_std_array[i] = np.std(sample_mean, ddof=1)"
   ]
  },
  {
   "cell_type": "markdown",
   "id": "191638e7",
   "metadata": {},
   "source": [
    "### 결과 : 표본의 샘플이 많아질 수록 표준편차가 작아진다"
   ]
  },
  {
   "cell_type": "code",
   "execution_count": 98,
   "id": "1aca0c13",
   "metadata": {},
   "outputs": [
    {
     "data": {
      "text/plain": [
       "Text(0, 0.5, 'maen_std value')"
      ]
     },
     "execution_count": 98,
     "metadata": {},
     "output_type": "execute_result"
    },
    {
     "data": {
      "image/png": "[encoded data removed]",
      "text/plain": [
       "<Figure size 720x360 with 1 Axes>"
      ]
     },
     "metadata": {
      "needs_background": "light"
     },
     "output_type": "display_data"
    }
   ],
   "source": [
    "plt.figure(figsize=(10,5))\n",
    "plt.plot(size_array, sample_mean_std_array, color=\"blue\")\n",
    "plt.xlabel(\"sample size\")\n",
    "plt.ylabel(\"maen_std value\")"
   ]
  },
  {
   "cell_type": "code",
   "execution_count": 99,
   "id": "e19b67b0",
   "metadata": {},
   "outputs": [
    {
     "data": {
      "text/plain": [
       "array([  2,   4,   6,   8,  10,  12,  14,  16,  18,  20,  22,  24,  26,\n",
       "        28,  30,  32,  34,  36,  38,  40,  42,  44,  46,  48,  50,  52,\n",
       "        54,  56,  58,  60,  62,  64,  66,  68,  70,  72,  74,  76,  78,\n",
       "        80,  82,  84,  86,  88,  90,  92,  94,  96,  98, 100])"
      ]
     },
     "execution_count": 99,
     "metadata": {},
     "output_type": "execute_result"
    }
   ],
   "source": [
    "size_array"
   ]
  },
  {
   "cell_type": "code",
   "execution_count": 100,
   "id": "1e6b5f8b",
   "metadata": {},
   "outputs": [],
   "source": [
    "se = 0.8 / np.sqrt(size_array)"
   ]
  },
  {
   "cell_type": "code",
   "execution_count": 101,
   "id": "eee9b3f4",
   "metadata": {},
   "outputs": [
    {
     "data": {
      "text/plain": [
       "array([0.56568542, 0.4       , 0.32659863, 0.28284271, 0.25298221,\n",
       "       0.23094011, 0.21380899, 0.2       , 0.18856181, 0.17888544,\n",
       "       0.17056057, 0.16329932, 0.15689291, 0.15118579, 0.14605935,\n",
       "       0.14142136, 0.13719887, 0.13333333, 0.12977714, 0.12649111,\n",
       "       0.12344268, 0.12060454, 0.11795356, 0.11547005, 0.11313708,\n",
       "       0.11094004, 0.10886621, 0.1069045 , 0.10504515, 0.10327956,\n",
       "       0.1016001 , 0.1       , 0.09847319, 0.09701425, 0.09561829,\n",
       "       0.0942809 , 0.09299811, 0.09176629, 0.09058216, 0.08944272,\n",
       "       0.08834522, 0.08728716, 0.08626622, 0.08528029, 0.0843274 ,\n",
       "       0.08340577, 0.0825137 , 0.08164966, 0.0808122 , 0.08      ])"
      ]
     },
     "execution_count": 101,
     "metadata": {},
     "output_type": "execute_result"
    }
   ],
   "source": [
    "se"
   ]
  },
  {
   "cell_type": "code",
   "execution_count": 107,
   "id": "881a2ecf",
   "metadata": {},
   "outputs": [
    {
     "data": {
      "text/plain": [
       "[<matplotlib.lines.Line2D at 0x2c0de604fa0>]"
      ]
     },
     "execution_count": 107,
     "metadata": {},
     "output_type": "execute_result"
    },
    {
     "data": {
      "image/png": "[encoded data removed]",
      "text/plain": [
       "<Figure size 864x576 with 1 Axes>"
      ]
     },
     "metadata": {
      "needs_background": "light"
     },
     "output_type": "display_data"
    }
   ],
   "source": [
    "plt.figure(figsize=(12,8))\n",
    "plt.plot(size_array, sample_mean_std_array, color=\"black\");\n",
    "plt.plot(size_array, se, color=\"red\", ls=\"dotted\")"
   ]
  },
  {
   "cell_type": "markdown",
   "id": "dfec79f7",
   "metadata": {},
   "source": [
    "### 표본분산의 평균값은 모분산과 차이가 있다."
   ]
  },
  {
   "cell_type": "code",
   "execution_count": 114,
   "id": "63e543b3",
   "metadata": {},
   "outputs": [
    {
     "data": {
      "text/plain": [
       "0.5792337629333761"
      ]
     },
     "execution_count": 114,
     "metadata": {},
     "output_type": "execute_result"
    }
   ],
   "source": [
    "# 분산\n",
    "sample_var_array = np.zeros(10000)\n",
    "np.random.seed(13)\n",
    "\n",
    "for i in range(0, 10000):\n",
    "    sample = population.rvs(size=10)\n",
    "    sample_var_array[i] = np.var(sample, ddof=0)\n",
    "    \n",
    "np.mean(sample_var_array)"
   ]
  },
  {
   "cell_type": "code",
   "execution_count": 115,
   "id": "6171abf0",
   "metadata": {},
   "outputs": [
    {
     "data": {
      "text/plain": [
       "0.6435930699259735"
      ]
     },
     "execution_count": 115,
     "metadata": {},
     "output_type": "execute_result"
    }
   ],
   "source": [
    "# 불편분산\n",
    "unbias_var_array = np.zeros(10000)\n",
    "np.random.seed(13)\n",
    "\n",
    "for i in range(0, 10000):\n",
    "    sample = population.rvs(size=10)\n",
    "    unbias_var_array[i] = np.var(sample, ddof=1)\n",
    "    \n",
    "np.mean(unbias_var_array)"
   ]
  },
  {
   "cell_type": "code",
   "execution_count": 117,
   "id": "07b1028c",
   "metadata": {},
   "outputs": [],
   "source": [
    "size_array = np.arange(10, 100100, 100)\n",
    "\n",
    "unbias_var_array_size = np.zeros(len(size_array))\n",
    "for i in range(0, len(size_array)):\n",
    "    sample = population.rvs(size=size_array[i])\n",
    "    unbias_var_array_size[i] = np.var(sample, ddof=1)"
   ]
  },
  {
   "cell_type": "code",
   "execution_count": 123,
   "id": "1a3447e7",
   "metadata": {},
   "outputs": [
    {
     "data": {
      "image/png": "[encoded data removed]",
      "text/plain": [
       "<Figure size 864x432 with 1 Axes>"
      ]
     },
     "metadata": {
      "needs_background": "light"
     },
     "output_type": "display_data"
    }
   ],
   "source": [
    "plt.figure(figsize=(12, 6))\n",
    "plt.plot(size_array, unbias_var_array_size, color=\"black\", lw=0.8)\n",
    "# y=4, x는 0부터 size_array의 최대값까지\n",
    "plt.hlines(0.64, 0, max(size_array), color=\"red\", lw=4)\n",
    "plt.xlabel('sample size')\n",
    "plt.ylabel('sample mean')\n",
    "plt.show()"
   ]
  },
  {
   "cell_type": "markdown",
   "id": "31b5d81e",
   "metadata": {},
   "source": [
    "## 정규분포"
   ]
  },
  {
   "cell_type": "code",
   "execution_count": 124,
   "id": "f464a0f3",
   "metadata": {},
   "outputs": [],
   "source": [
    "import numpy as np\n",
    "import pandas as pd\n",
    "import scipy as sp\n",
    "import seaborn as sns\n",
    "\n",
    "from scipy import stats\n",
    "from matplotlib import pyplot as plt\n",
    "\n",
    "%matplotlib inline"
   ]
  },
  {
   "cell_type": "code",
   "execution_count": null,
   "id": "24b86da7",
   "metadata": {},
   "outputs": [],
   "source": []
  }
 ],
 "metadata": {
  "kernelspec": {
   "display_name": "Python 3",
   "language": "python",
   "name": "python3"
  },
  "language_info": {
   "codemirror_mode": {
    "name": "ipython",
    "version": 3
   },
   "file_extension": ".py",
   "mimetype": "text/x-python",
   "name": "python",
   "nbconvert_exporter": "python",
   "pygments_lexer": "ipython3",
   "version": "3.8.8"
  }
 },
 "nbformat": 4,
 "nbformat_minor": 5
}

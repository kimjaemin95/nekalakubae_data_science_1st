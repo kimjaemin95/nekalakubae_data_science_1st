{
 "cells": [
  {
   "cell_type": "markdown",
   "id": "a67ab056",
   "metadata": {},
   "source": [
    "# 05. forecast(시계열 분석)"
   ]
  },
  {
   "cell_type": "markdown",
   "id": "b4684251",
   "metadata": {},
   "source": [
    "## 1. 배경 및 설치"
   ]
  },
  {
   "cell_type": "markdown",
   "id": "f9e95c57",
   "metadata": {},
   "source": [
    "- install\n",
    "    - 윈도우 유저는 Visual C++ Build Tool 을 먼저 설치\n",
    "        - https://visualstudio.microsoft.com/visual-cpp-build-tools/\n",
    "        - 위 경로 URL이 error 날 경우 : https://www.microsoft.com/ko-KR/download/details.aspx?id=48159\n",
    "    - conda install pandas-datareader\n",
    "    - conda install -c conda-forge fbprophet\n",
    "    - pip install fbprophet\n",
    "    "
   ]
  },
  {
   "cell_type": "code",
   "execution_count": 2,
   "id": "c217679d",
   "metadata": {},
   "outputs": [],
   "source": [
    "from pandas_datareader import data"
   ]
  },
  {
   "cell_type": "code",
   "execution_count": null,
   "id": "61b6088f",
   "metadata": {},
   "outputs": [],
   "source": []
  }
 ],
 "metadata": {
  "kernelspec": {
   "display_name": "Python 3 (ipykernel)",
   "language": "python",
   "name": "python3"
  },
  "language_info": {
   "codemirror_mode": {
    "name": "ipython",
    "version": 3
   },
   "file_extension": ".py",
   "mimetype": "text/x-python",
   "name": "python",
   "nbconvert_exporter": "python",
   "pygments_lexer": "ipython3",
   "version": "3.9.7"
  }
 },
 "nbformat": 4,
 "nbformat_minor": 5
}

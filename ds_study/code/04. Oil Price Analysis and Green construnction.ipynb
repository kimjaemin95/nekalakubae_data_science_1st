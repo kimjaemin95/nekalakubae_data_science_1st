{
 "cells": [
  {
   "cell_type": "markdown",
   "id": "7cc77ff1",
   "metadata": {},
   "source": [
    "# 04. Oil Price Analysis and Green construnction"
   ]
  },
  {
   "cell_type": "markdown",
   "id": "15a8b34f",
   "metadata": {},
   "source": [
    "## 1. 셀레니움(Selenium) 설치\n",
    "- 윈도우, mac(intel)\n",
    "    - conda install selenium\n",
    "- mac(m1)\n",
    "    - pip install selenium"
   ]
  },
  {
   "cell_type": "markdown",
   "id": "822f1009",
   "metadata": {},
   "source": [
    "## 2. 크롬 드라이버 설치\n",
    "- https://chromedriver.chromium.org/downloads"
   ]
  },
  {
   "cell_type": "code",
   "execution_count": 8,
   "id": "519554f4",
   "metadata": {},
   "outputs": [],
   "source": [
    "from selenium import webdriver"
   ]
  },
  {
   "cell_type": "code",
   "execution_count": 17,
   "id": "4ff33afc",
   "metadata": {},
   "outputs": [],
   "source": [
    "driver = webdriver.Chrome(\"../driver/chromedriver.exe\")\n",
    "driver.get(\"http://www.pinkwink.kr\")\n",
    "\n",
    "import time\n",
    "\n",
    "time.sleep(10)\n",
    "driver.quit()"
   ]
  },
  {
   "cell_type": "markdown",
   "id": "29be591f",
   "metadata": {},
   "source": [
    "---"
   ]
  },
  {
   "cell_type": "markdown",
   "id": "91bf89d7",
   "metadata": {},
   "source": [
    "## 2. 셀프 주유소가 정말 저렴하나요? - 데이터 확보하기 작업\n",
    "- https://www.opinet.co.kr/searRgSelect.do\n",
    "- 사이트 구조 확인\n",
    "- 목표 데이터\n",
    "    - 브랜드\n",
    "    - 가격\n",
    "    - 셀프 주유 여부\n",
    "    - 위치"
   ]
  },
  {
   "cell_type": "markdown",
   "id": "389989f2",
   "metadata": {},
   "source": [
    "## 3. 셀리니움으로 접근"
   ]
  },
  {
   "cell_type": "code",
   "execution_count": 86,
   "id": "e061a025",
   "metadata": {},
   "outputs": [],
   "source": [
    "import time\n",
    "from selenium import webdriver\n",
    "\n",
    "url = \"https://www.opinet.co.kr/searRgSelect.do\"\n",
    "driver = webdriver.Chrome(\"../driver/chromedriver.exe\")\n",
    "driver.get(url)"
   ]
  },
  {
   "cell_type": "code",
   "execution_count": 87,
   "id": "27fbce86",
   "metadata": {},
   "outputs": [
    {
     "name": "stdout",
     "output_type": "stream",
     "text": [
      "활성화된 윈도우 창 : 2개\n"
     ]
    }
   ],
   "source": [
    "# 팝업창 화면 개수 확인\n",
    "print(\"활성화된 윈도우 창 : {0}개\".format(len(driver.window_handles)))"
   ]
  },
  {
   "cell_type": "code",
   "execution_count": 88,
   "id": "9fef48cf",
   "metadata": {},
   "outputs": [],
   "source": [
    "# 팝업창 화면 종료하고 메인 화면만 활성화 하기\n",
    "# 참고 : https://m.blog.naver.com/tkdtjdtkddms/221976262160\n",
    "\n",
    "for index in range(len(driver.window_handles)):\n",
    "    if index != 0 :\n",
    "        driver.switch_to.window(driver.window_handles[index]) \n",
    "        driver.close()\n",
    "        time.sleep(2)\n",
    "else:\n",
    "    driver.switch_to.window(driver.window_handles[0])\n",
    "    # 싼 주유소 화면이 나올 수 있도록 다시 한 번 driver.get()\n",
    "    driver.get(url)"
   ]
  },
  {
   "cell_type": "code",
   "execution_count": 89,
   "id": "76ff7787",
   "metadata": {},
   "outputs": [],
   "source": [
    "# 지역 : 시/도\n",
    "sido_list_html = driver.find_element_by_id(\"SIDO_NM0\")"
   ]
  },
  {
   "cell_type": "code",
   "execution_count": 90,
   "id": "5d87c2c0",
   "metadata": {},
   "outputs": [
    {
     "name": "stdout",
     "output_type": "stream",
     "text": [
      "시/도 \t|\t \n",
      "서울 \t|\t 서울특별시\n",
      "부산 \t|\t 부산광역시\n",
      "대구 \t|\t 대구광역시\n",
      "인천 \t|\t 인천광역시\n",
      "광주 \t|\t 광주광역시\n",
      "대전 \t|\t 대전광역시\n",
      "울산 \t|\t 울산광역시\n",
      "세종 \t|\t 세종특별자치시\n",
      "경기 \t|\t 경기도\n",
      "강원 \t|\t 강원도\n",
      "충북 \t|\t 충청북도\n",
      "충남 \t|\t 충청남도\n",
      "전북 \t|\t 전라북도\n",
      "전남 \t|\t 전라남도\n",
      "경북 \t|\t 경상북도\n",
      "경남 \t|\t 경상남도\n",
      "제주 \t|\t 제주특별자치도\n"
     ]
    }
   ],
   "source": [
    "# 지역 : 시/도 데이터 확인\n",
    "sido_list_option = sido_list_html.find_elements_by_tag_name(\"option\")\n",
    "for i in range(len(sido_list_option)):\n",
    "    print(sido_list_option[i].text, sido_list_option[i].get_attribute(\"value\"), sep=\" \\t|\\t \" )"
   ]
  },
  {
   "cell_type": "code",
   "execution_count": 91,
   "id": "65c4074f",
   "metadata": {},
   "outputs": [
    {
     "name": "stdout",
     "output_type": "stream",
     "text": [
      "['서울특별시', '부산광역시', '대구광역시', '인천광역시', '광주광역시', '대전광역시', '울산광역시', '세종특별자치시', '경기도', '강원도', '충청북도', '충청남도', '전라북도', '전라남도', '경상북도', '경상남도', '제주특별자치도']\n"
     ]
    }
   ],
   "source": [
    "# 지역 : 시/도 데이터 리스트 변수 선언\n",
    "sido_names = [ sido_list_option[i].get_attribute(\"value\") for i in range(len(sido_list_option))][1:]\n",
    "print(sido_names)"
   ]
  },
  {
   "cell_type": "code",
   "execution_count": 96,
   "id": "df734f47",
   "metadata": {},
   "outputs": [
    {
     "name": "stdout",
     "output_type": "stream",
     "text": [
      "서울특별시\n"
     ]
    }
   ],
   "source": [
    "# 지역 : 시/도 셀렉트박스에 지역 데이터 입력\n",
    "# 지역 : 서울 선택\n",
    "sido_list_html.send_keys(sido_names[0])\n",
    "print(sido_names[0])"
   ]
  },
  {
   "cell_type": "code",
   "execution_count": 98,
   "id": "ed19e62b",
   "metadata": {},
   "outputs": [
    {
     "name": "stdout",
     "output_type": "stream",
     "text": [
      "강남구, 강동구, 강북구, 강서구, 관악구, 광진구, 구로구, 금천구, 노원구, 도봉구, 동대문구, 동작구, 마포구, 서대문구, 서초구, 성동구, 성북구, 송파구, 양천구, 영등포구, 용산구, 은평구, 종로구, 중구, 중랑구, "
     ]
    }
   ],
   "source": [
    "# 지역 : 시/군/구 \n",
    "# 지역 : 서울의 시/군/구 데이터 가져오기\n",
    "sigungu_list_html = driver.find_element_by_id(\"SIGUNGU_NM0\")\n",
    "sigungu_list_option = sigungu_list_html.find_elements_by_tag_name(\"option\")\n",
    "sigungu_names = [ sigungu_list_option[i].get_attribute(\"value\") for i in range(len(sigungu_list_option))][1:]\n",
    "\n",
    "for i in range(len(sigungu_names)):\n",
    "    print(sigungu_names[i], end=\", \")"
   ]
  },
  {
   "cell_type": "code",
   "execution_count": 99,
   "id": "7799acaf",
   "metadata": {},
   "outputs": [],
   "source": [
    "sigungu_list_html.send_keys(sigungu_names[0])"
   ]
  },
  {
   "cell_type": "code",
   "execution_count": 100,
   "id": "55973173",
   "metadata": {},
   "outputs": [],
   "source": [
    "# 엑셀저장 버튼 \n",
    "# css\n",
    "driver.find_element_by_css_selector(\"#glopopd_excel\").click()"
   ]
  },
  {
   "cell_type": "code",
   "execution_count": 101,
   "id": "c4840dfd",
   "metadata": {},
   "outputs": [],
   "source": [
    "# 엑셀저장 버튼\n",
    "# xpath\n",
    "driver.find_element_by_xpath('''//*[@id=\"glopopd_excel\"]''').click()"
   ]
  },
  {
   "cell_type": "code",
   "execution_count": 108,
   "id": "e7c3f478",
   "metadata": {},
   "outputs": [
    {
     "name": "stderr",
     "output_type": "stream",
     "text": [
      "C:\\Users\\jmkim\\AppData\\Local\\Temp/ipykernel_28928/3393846760.py:6: TqdmDeprecationWarning: This function will be removed in tqdm==5.0.0\n",
      "Please use `tqdm.notebook.tqdm` instead of `tqdm.tqdm_notebook`\n",
      "  for sigungu in tqdm_notebook(sigungu_names):\n"
     ]
    },
    {
     "data": {
      "application/vnd.jupyter.widget-view+json": {
       "model_id": "4b3111c863b346b981a69ad8e480e762",
       "version_major": 2,
       "version_minor": 0
      },
      "text/plain": [
       "  0%|          | 0/25 [00:00<?, ?it/s]"
      ]
     },
     "metadata": {},
     "output_type": "display_data"
    }
   ],
   "source": [
    "# 반복문을 이용하여 서울시의 모든 시/군/구 엑셀 데이터 다운로드 받기\n",
    "\n",
    "import time\n",
    "from tqdm import tqdm_notebook\n",
    "\n",
    "for sigungu in tqdm_notebook(sigungu_names):\n",
    "    sigungu_list_html = driver.find_element_by_id(\"SIGUNGU_NM0\")\n",
    "    sigungu_list_html.send_keys(sigungu )\n",
    "    time.sleep(2)\n",
    "    \n",
    "    driver.find_element_by_xpath('''//*[@id=\"glopopd_excel\"]''').click()\n",
    "    time.sleep(2)\n",
    "else:\n",
    "    driver.close()\n",
    "    "
   ]
  },
  {
   "cell_type": "markdown",
   "id": "a3d5de20",
   "metadata": {},
   "source": [
    "## 4. 데이터 정리하기"
   ]
  },
  {
   "cell_type": "code",
   "execution_count": 113,
   "id": "f16c40b6",
   "metadata": {},
   "outputs": [
    {
     "data": {
      "text/plain": [
       "'../data\\\\지역_위치별(주유소) (1).xls'"
      ]
     },
     "execution_count": 113,
     "metadata": {},
     "output_type": "execute_result"
    }
   ],
   "source": [
    "import pandas as pd\n",
    "from glob import glob\n",
    "\n",
    "files = glob(\"../data/지역_*.xls\")\n",
    "files[0]"
   ]
  },
  {
   "cell_type": "code",
   "execution_count": 120,
   "id": "7f56cfb8",
   "metadata": {},
   "outputs": [
    {
     "data": {
      "text/html": [
       "<div>\n",
       "<style scoped>\n",
       "    .dataframe tbody tr th:only-of-type {\n",
       "        vertical-align: middle;\n",
       "    }\n",
       "\n",
       "    .dataframe tbody tr th {\n",
       "        vertical-align: top;\n",
       "    }\n",
       "\n",
       "    .dataframe thead th {\n",
       "        text-align: right;\n",
       "    }\n",
       "</style>\n",
       "<table border=\"1\" class=\"dataframe\">\n",
       "  <thead>\n",
       "    <tr style=\"text-align: right;\">\n",
       "      <th></th>\n",
       "      <th>지역</th>\n",
       "      <th>상호</th>\n",
       "      <th>주소</th>\n",
       "      <th>상표</th>\n",
       "      <th>전화번호</th>\n",
       "      <th>셀프여부</th>\n",
       "      <th>고급휘발유</th>\n",
       "      <th>휘발유</th>\n",
       "      <th>경유</th>\n",
       "      <th>실내등유</th>\n",
       "    </tr>\n",
       "  </thead>\n",
       "  <tbody>\n",
       "    <tr>\n",
       "      <th>0</th>\n",
       "      <td>서울특별시</td>\n",
       "      <td>재건에너지 재정제2주유소 고속셀프지점</td>\n",
       "      <td>서울특별시 강동구  천호대로 1246 (둔촌제2동)</td>\n",
       "      <td>현대오일뱅크</td>\n",
       "      <td>02-487-2030</td>\n",
       "      <td>Y</td>\n",
       "      <td>-</td>\n",
       "      <td>1648</td>\n",
       "      <td>1448</td>\n",
       "      <td>-</td>\n",
       "    </tr>\n",
       "    <tr>\n",
       "      <th>1</th>\n",
       "      <td>서울특별시</td>\n",
       "      <td>구천면주유소</td>\n",
       "      <td>서울 강동구 구천면로 357 (암사동)</td>\n",
       "      <td>현대오일뱅크</td>\n",
       "      <td>02-441-0536</td>\n",
       "      <td>N</td>\n",
       "      <td>-</td>\n",
       "      <td>1693</td>\n",
       "      <td>1487</td>\n",
       "      <td>-</td>\n",
       "    </tr>\n",
       "    <tr>\n",
       "      <th>2</th>\n",
       "      <td>서울특별시</td>\n",
       "      <td>지에스칼텍스㈜ 동서울주유소</td>\n",
       "      <td>서울 강동구 천호대로 1456 (상일동)</td>\n",
       "      <td>GS칼텍스</td>\n",
       "      <td>02-426-5372</td>\n",
       "      <td>Y</td>\n",
       "      <td>-</td>\n",
       "      <td>1712</td>\n",
       "      <td>1512</td>\n",
       "      <td>-</td>\n",
       "    </tr>\n",
       "    <tr>\n",
       "      <th>3</th>\n",
       "      <td>서울특별시</td>\n",
       "      <td>현대오일뱅크㈜직영 명일셀프주유소</td>\n",
       "      <td>서울 강동구 고덕로 168 (명일동)</td>\n",
       "      <td>현대오일뱅크</td>\n",
       "      <td>02-3428-1739</td>\n",
       "      <td>Y</td>\n",
       "      <td>1939</td>\n",
       "      <td>1719</td>\n",
       "      <td>1519</td>\n",
       "      <td>-</td>\n",
       "    </tr>\n",
       "    <tr>\n",
       "      <th>4</th>\n",
       "      <td>서울특별시</td>\n",
       "      <td>방아다리주유소</td>\n",
       "      <td>서울 강동구 동남로 811 (명일동)</td>\n",
       "      <td>SK에너지</td>\n",
       "      <td>02-442-5145</td>\n",
       "      <td>Y</td>\n",
       "      <td>-</td>\n",
       "      <td>1720</td>\n",
       "      <td>1520</td>\n",
       "      <td>-</td>\n",
       "    </tr>\n",
       "  </tbody>\n",
       "</table>\n",
       "</div>"
      ],
      "text/plain": [
       "      지역                    상호                            주소      상표  \\\n",
       "0  서울특별시  재건에너지 재정제2주유소 고속셀프지점  서울특별시 강동구  천호대로 1246 (둔촌제2동)  현대오일뱅크   \n",
       "1  서울특별시                구천면주유소         서울 강동구 구천면로 357 (암사동)  현대오일뱅크   \n",
       "2  서울특별시        지에스칼텍스㈜ 동서울주유소        서울 강동구 천호대로 1456 (상일동)   GS칼텍스   \n",
       "3  서울특별시     현대오일뱅크㈜직영 명일셀프주유소          서울 강동구 고덕로 168 (명일동)  현대오일뱅크   \n",
       "4  서울특별시               방아다리주유소          서울 강동구 동남로 811 (명일동)   SK에너지   \n",
       "\n",
       "           전화번호 셀프여부 고급휘발유   휘발유    경유 실내등유  \n",
       "0   02-487-2030    Y     -  1648  1448    -  \n",
       "1   02-441-0536    N     -  1693  1487    -  \n",
       "2   02-426-5372    Y     -  1712  1512    -  \n",
       "3  02-3428-1739    Y  1939  1719  1519    -  \n",
       "4   02-442-5145    Y     -  1720  1520    -  "
      ]
     },
     "execution_count": 120,
     "metadata": {},
     "output_type": "execute_result"
    }
   ],
   "source": [
    "# 데이터 하나만 확인하기\n",
    "pd.read_excel(files[0], header=2).head()"
   ]
  },
  {
   "cell_type": "code",
   "execution_count": 121,
   "id": "5003e089",
   "metadata": {},
   "outputs": [],
   "source": [
    "df_raws = []\n",
    "\n",
    "for file in files:\n",
    "    df = pd.read_excel(file, header=2)\n",
    "    df_raws.append(df)"
   ]
  },
  {
   "cell_type": "code",
   "execution_count": 124,
   "id": "03a14f41",
   "metadata": {},
   "outputs": [
    {
     "data": {
      "text/html": [
       "<div>\n",
       "<style scoped>\n",
       "    .dataframe tbody tr th:only-of-type {\n",
       "        vertical-align: middle;\n",
       "    }\n",
       "\n",
       "    .dataframe tbody tr th {\n",
       "        vertical-align: top;\n",
       "    }\n",
       "\n",
       "    .dataframe thead th {\n",
       "        text-align: right;\n",
       "    }\n",
       "</style>\n",
       "<table border=\"1\" class=\"dataframe\">\n",
       "  <thead>\n",
       "    <tr style=\"text-align: right;\">\n",
       "      <th></th>\n",
       "      <th>지역</th>\n",
       "      <th>상호</th>\n",
       "      <th>주소</th>\n",
       "      <th>상표</th>\n",
       "      <th>전화번호</th>\n",
       "      <th>셀프여부</th>\n",
       "      <th>고급휘발유</th>\n",
       "      <th>휘발유</th>\n",
       "      <th>경유</th>\n",
       "      <th>실내등유</th>\n",
       "    </tr>\n",
       "  </thead>\n",
       "  <tbody>\n",
       "    <tr>\n",
       "      <th>0</th>\n",
       "      <td>서울특별시</td>\n",
       "      <td>재건에너지 재정제2주유소 고속셀프지점</td>\n",
       "      <td>서울특별시 강동구  천호대로 1246 (둔촌제2동)</td>\n",
       "      <td>현대오일뱅크</td>\n",
       "      <td>02-487-2030</td>\n",
       "      <td>Y</td>\n",
       "      <td>-</td>\n",
       "      <td>1648</td>\n",
       "      <td>1448</td>\n",
       "      <td>-</td>\n",
       "    </tr>\n",
       "    <tr>\n",
       "      <th>1</th>\n",
       "      <td>서울특별시</td>\n",
       "      <td>구천면주유소</td>\n",
       "      <td>서울 강동구 구천면로 357 (암사동)</td>\n",
       "      <td>현대오일뱅크</td>\n",
       "      <td>02-441-0536</td>\n",
       "      <td>N</td>\n",
       "      <td>-</td>\n",
       "      <td>1693</td>\n",
       "      <td>1487</td>\n",
       "      <td>-</td>\n",
       "    </tr>\n",
       "    <tr>\n",
       "      <th>2</th>\n",
       "      <td>서울특별시</td>\n",
       "      <td>지에스칼텍스㈜ 동서울주유소</td>\n",
       "      <td>서울 강동구 천호대로 1456 (상일동)</td>\n",
       "      <td>GS칼텍스</td>\n",
       "      <td>02-426-5372</td>\n",
       "      <td>Y</td>\n",
       "      <td>-</td>\n",
       "      <td>1712</td>\n",
       "      <td>1512</td>\n",
       "      <td>-</td>\n",
       "    </tr>\n",
       "    <tr>\n",
       "      <th>3</th>\n",
       "      <td>서울특별시</td>\n",
       "      <td>현대오일뱅크㈜직영 명일셀프주유소</td>\n",
       "      <td>서울 강동구 고덕로 168 (명일동)</td>\n",
       "      <td>현대오일뱅크</td>\n",
       "      <td>02-3428-1739</td>\n",
       "      <td>Y</td>\n",
       "      <td>1939</td>\n",
       "      <td>1719</td>\n",
       "      <td>1519</td>\n",
       "      <td>-</td>\n",
       "    </tr>\n",
       "    <tr>\n",
       "      <th>4</th>\n",
       "      <td>서울특별시</td>\n",
       "      <td>방아다리주유소</td>\n",
       "      <td>서울 강동구 동남로 811 (명일동)</td>\n",
       "      <td>SK에너지</td>\n",
       "      <td>02-442-5145</td>\n",
       "      <td>Y</td>\n",
       "      <td>-</td>\n",
       "      <td>1720</td>\n",
       "      <td>1520</td>\n",
       "      <td>-</td>\n",
       "    </tr>\n",
       "    <tr>\n",
       "      <th>...</th>\n",
       "      <td>...</td>\n",
       "      <td>...</td>\n",
       "      <td>...</td>\n",
       "      <td>...</td>\n",
       "      <td>...</td>\n",
       "      <td>...</td>\n",
       "      <td>...</td>\n",
       "      <td>...</td>\n",
       "      <td>...</td>\n",
       "      <td>...</td>\n",
       "    </tr>\n",
       "    <tr>\n",
       "      <th>33</th>\n",
       "      <td>서울특별시</td>\n",
       "      <td>(주)만정에너지</td>\n",
       "      <td>서울 강남구 봉은사로 433 (삼성동)</td>\n",
       "      <td>GS칼텍스</td>\n",
       "      <td>02-518-5141</td>\n",
       "      <td>N</td>\n",
       "      <td>2358</td>\n",
       "      <td>2158</td>\n",
       "      <td>1904</td>\n",
       "      <td>1359</td>\n",
       "    </tr>\n",
       "    <tr>\n",
       "      <th>34</th>\n",
       "      <td>서울특별시</td>\n",
       "      <td>뉴서울(강남)</td>\n",
       "      <td>서울 강남구 언주로 716</td>\n",
       "      <td>SK에너지</td>\n",
       "      <td>02-518-5631</td>\n",
       "      <td>N</td>\n",
       "      <td>2495</td>\n",
       "      <td>2275</td>\n",
       "      <td>1995</td>\n",
       "      <td>-</td>\n",
       "    </tr>\n",
       "    <tr>\n",
       "      <th>35</th>\n",
       "      <td>서울특별시</td>\n",
       "      <td>동우주유소</td>\n",
       "      <td>서울특별시 강남구  봉은사로 311 (논현동)</td>\n",
       "      <td>SK에너지</td>\n",
       "      <td>02-542-6726</td>\n",
       "      <td>N</td>\n",
       "      <td>-</td>\n",
       "      <td>-</td>\n",
       "      <td>-</td>\n",
       "      <td>-</td>\n",
       "    </tr>\n",
       "    <tr>\n",
       "      <th>36</th>\n",
       "      <td>서울특별시</td>\n",
       "      <td>학여울주유소</td>\n",
       "      <td>서울 강남구 남부순환로 3170 (일원2동)</td>\n",
       "      <td>GS칼텍스</td>\n",
       "      <td>02-3411-3271</td>\n",
       "      <td>N</td>\n",
       "      <td>-</td>\n",
       "      <td>-</td>\n",
       "      <td>-</td>\n",
       "      <td>-</td>\n",
       "    </tr>\n",
       "    <tr>\n",
       "      <th>37</th>\n",
       "      <td>서울특별시</td>\n",
       "      <td>삼성주유소</td>\n",
       "      <td>서울 강남구 삼성로 521 (삼성동)</td>\n",
       "      <td>SK에너지</td>\n",
       "      <td>02-538-0809</td>\n",
       "      <td>N</td>\n",
       "      <td>-</td>\n",
       "      <td>-</td>\n",
       "      <td>-</td>\n",
       "      <td>-</td>\n",
       "    </tr>\n",
       "  </tbody>\n",
       "</table>\n",
       "<p>478 rows × 10 columns</p>\n",
       "</div>"
      ],
      "text/plain": [
       "       지역                    상호                            주소      상표  \\\n",
       "0   서울특별시  재건에너지 재정제2주유소 고속셀프지점  서울특별시 강동구  천호대로 1246 (둔촌제2동)  현대오일뱅크   \n",
       "1   서울특별시                구천면주유소         서울 강동구 구천면로 357 (암사동)  현대오일뱅크   \n",
       "2   서울특별시        지에스칼텍스㈜ 동서울주유소        서울 강동구 천호대로 1456 (상일동)   GS칼텍스   \n",
       "3   서울특별시     현대오일뱅크㈜직영 명일셀프주유소          서울 강동구 고덕로 168 (명일동)  현대오일뱅크   \n",
       "4   서울특별시               방아다리주유소          서울 강동구 동남로 811 (명일동)   SK에너지   \n",
       "..    ...                   ...                           ...     ...   \n",
       "33  서울특별시              (주)만정에너지         서울 강남구 봉은사로 433 (삼성동)   GS칼텍스   \n",
       "34  서울특별시               뉴서울(강남)                서울 강남구 언주로 716   SK에너지   \n",
       "35  서울특별시                 동우주유소     서울특별시 강남구  봉은사로 311 (논현동)   SK에너지   \n",
       "36  서울특별시                학여울주유소      서울 강남구 남부순환로 3170 (일원2동)   GS칼텍스   \n",
       "37  서울특별시                 삼성주유소          서울 강남구 삼성로 521 (삼성동)   SK에너지   \n",
       "\n",
       "            전화번호 셀프여부 고급휘발유   휘발유    경유  실내등유  \n",
       "0    02-487-2030    Y     -  1648  1448     -  \n",
       "1    02-441-0536    N     -  1693  1487     -  \n",
       "2    02-426-5372    Y     -  1712  1512     -  \n",
       "3   02-3428-1739    Y  1939  1719  1519     -  \n",
       "4    02-442-5145    Y     -  1720  1520     -  \n",
       "..           ...  ...   ...   ...   ...   ...  \n",
       "33   02-518-5141    N  2358  2158  1904  1359  \n",
       "34   02-518-5631    N  2495  2275  1995     -  \n",
       "35   02-542-6726    N     -     -     -     -  \n",
       "36  02-3411-3271    N     -     -     -     -  \n",
       "37   02-538-0809    N     -     -     -     -  \n",
       "\n",
       "[478 rows x 10 columns]"
      ]
     },
     "execution_count": 124,
     "metadata": {},
     "output_type": "execute_result"
    }
   ],
   "source": [
    "stations_raw = pd.concat(df_raws)\n",
    "stations_raw"
   ]
  },
  {
   "cell_type": "code",
   "execution_count": 125,
   "id": "19c56262",
   "metadata": {},
   "outputs": [
    {
     "name": "stdout",
     "output_type": "stream",
     "text": [
      "<class 'pandas.core.frame.DataFrame'>\n",
      "Int64Index: 478 entries, 0 to 37\n",
      "Data columns (total 10 columns):\n",
      " #   Column  Non-Null Count  Dtype \n",
      "---  ------  --------------  ----- \n",
      " 0   지역      478 non-null    object\n",
      " 1   상호      478 non-null    object\n",
      " 2   주소      478 non-null    object\n",
      " 3   상표      478 non-null    object\n",
      " 4   전화번호    478 non-null    object\n",
      " 5   셀프여부    478 non-null    object\n",
      " 6   고급휘발유   478 non-null    object\n",
      " 7   휘발유     478 non-null    object\n",
      " 8   경유      478 non-null    object\n",
      " 9   실내등유    478 non-null    object\n",
      "dtypes: object(10)\n",
      "memory usage: 41.1+ KB\n"
     ]
    }
   ],
   "source": [
    "stations_raw.info()"
   ]
  },
  {
   "cell_type": "code",
   "execution_count": 160,
   "id": "2719458c",
   "metadata": {},
   "outputs": [
    {
     "data": {
      "text/html": [
       "<div>\n",
       "<style scoped>\n",
       "    .dataframe tbody tr th:only-of-type {\n",
       "        vertical-align: middle;\n",
       "    }\n",
       "\n",
       "    .dataframe tbody tr th {\n",
       "        vertical-align: top;\n",
       "    }\n",
       "\n",
       "    .dataframe thead th {\n",
       "        text-align: right;\n",
       "    }\n",
       "</style>\n",
       "<table border=\"1\" class=\"dataframe\">\n",
       "  <thead>\n",
       "    <tr style=\"text-align: right;\">\n",
       "      <th></th>\n",
       "      <th>상호</th>\n",
       "      <th>주소</th>\n",
       "      <th>가격</th>\n",
       "      <th>셀프여부</th>\n",
       "      <th>상표</th>\n",
       "    </tr>\n",
       "  </thead>\n",
       "  <tbody>\n",
       "    <tr>\n",
       "      <th>33</th>\n",
       "      <td>(주)만정에너지</td>\n",
       "      <td>서울 강남구 봉은사로 433 (삼성동)</td>\n",
       "      <td>2158</td>\n",
       "      <td>N</td>\n",
       "      <td>GS칼텍스</td>\n",
       "    </tr>\n",
       "    <tr>\n",
       "      <th>34</th>\n",
       "      <td>뉴서울(강남)</td>\n",
       "      <td>서울 강남구 언주로 716</td>\n",
       "      <td>2275</td>\n",
       "      <td>N</td>\n",
       "      <td>SK에너지</td>\n",
       "    </tr>\n",
       "    <tr>\n",
       "      <th>35</th>\n",
       "      <td>동우주유소</td>\n",
       "      <td>서울특별시 강남구  봉은사로 311 (논현동)</td>\n",
       "      <td>-</td>\n",
       "      <td>N</td>\n",
       "      <td>SK에너지</td>\n",
       "    </tr>\n",
       "    <tr>\n",
       "      <th>36</th>\n",
       "      <td>학여울주유소</td>\n",
       "      <td>서울 강남구 남부순환로 3170 (일원2동)</td>\n",
       "      <td>-</td>\n",
       "      <td>N</td>\n",
       "      <td>GS칼텍스</td>\n",
       "    </tr>\n",
       "    <tr>\n",
       "      <th>37</th>\n",
       "      <td>삼성주유소</td>\n",
       "      <td>서울 강남구 삼성로 521 (삼성동)</td>\n",
       "      <td>-</td>\n",
       "      <td>N</td>\n",
       "      <td>SK에너지</td>\n",
       "    </tr>\n",
       "  </tbody>\n",
       "</table>\n",
       "</div>"
      ],
      "text/plain": [
       "          상호                         주소    가격 셀프여부     상표\n",
       "33  (주)만정에너지      서울 강남구 봉은사로 433 (삼성동)  2158    N  GS칼텍스\n",
       "34   뉴서울(강남)             서울 강남구 언주로 716  2275    N  SK에너지\n",
       "35     동우주유소  서울특별시 강남구  봉은사로 311 (논현동)     -    N  SK에너지\n",
       "36    학여울주유소   서울 강남구 남부순환로 3170 (일원2동)     -    N  GS칼텍스\n",
       "37     삼성주유소       서울 강남구 삼성로 521 (삼성동)     -    N  SK에너지"
      ]
     },
     "execution_count": 160,
     "metadata": {},
     "output_type": "execute_result"
    }
   ],
   "source": [
    "stations = pd.DataFrame({\n",
    "    \"상호\" : stations_raw[\"상호\"],\n",
    "    \"주소\" : stations_raw[\"주소\"],\n",
    "    \"가격\" : stations_raw[\"휘발유\"],\n",
    "    \"셀프여부\" : stations_raw[\"셀프여부\"],\n",
    "    \"상표\" : stations_raw[\"상표\"],\n",
    "})\n",
    "stations.tail()"
   ]
  },
  {
   "cell_type": "code",
   "execution_count": 161,
   "id": "3cd6d040",
   "metadata": {},
   "outputs": [
    {
     "name": "stdout",
     "output_type": "stream",
     "text": [
      "강동구\n"
     ]
    }
   ],
   "source": [
    "for address in stations[\"주소\"]:\n",
    "    print(address.split()[1])\n",
    "    break"
   ]
  },
  {
   "cell_type": "code",
   "execution_count": 162,
   "id": "a9eaf3c0",
   "metadata": {},
   "outputs": [],
   "source": [
    "stations[\"구\"] = [ address.split()[1] for address in stations[\"주소\"] ]"
   ]
  },
  {
   "cell_type": "code",
   "execution_count": 163,
   "id": "0722ac23",
   "metadata": {},
   "outputs": [
    {
     "data": {
      "text/plain": [
       "(25,\n",
       " array(['강동구', '동대문구', '동작구', '마포구', '서대문구', '서초구', '성동구', '성북구', '송파구',\n",
       "        '양천구', '영등포구', '강북구', '용산구', '은평구', '종로구', '중구', '중랑구', '강서구',\n",
       "        '관악구', '광진구', '구로구', '금천구', '노원구', '도봉구', '강남구'], dtype=object))"
      ]
     },
     "execution_count": 163,
     "metadata": {},
     "output_type": "execute_result"
    }
   ],
   "source": [
    "len(stations[\"구\"].unique()), stations[\"구\"].unique()"
   ]
  },
  {
   "cell_type": "code",
   "execution_count": 164,
   "id": "e2fcbaa0",
   "metadata": {},
   "outputs": [],
   "source": [
    "# stations.loc[stations[\"구\"] == \"서울특별시\", \"구\"] = \"성동구\"\n",
    "# stations.loc[stations[\"구\"] == \"특별시\", \"구\"] = \"도봉구\""
   ]
  },
  {
   "cell_type": "code",
   "execution_count": 165,
   "id": "2e6ad83c",
   "metadata": {},
   "outputs": [
    {
     "data": {
      "text/html": [
       "<div>\n",
       "<style scoped>\n",
       "    .dataframe tbody tr th:only-of-type {\n",
       "        vertical-align: middle;\n",
       "    }\n",
       "\n",
       "    .dataframe tbody tr th {\n",
       "        vertical-align: top;\n",
       "    }\n",
       "\n",
       "    .dataframe thead th {\n",
       "        text-align: right;\n",
       "    }\n",
       "</style>\n",
       "<table border=\"1\" class=\"dataframe\">\n",
       "  <thead>\n",
       "    <tr style=\"text-align: right;\">\n",
       "      <th></th>\n",
       "      <th>상호</th>\n",
       "      <th>주소</th>\n",
       "      <th>가격</th>\n",
       "      <th>셀프여부</th>\n",
       "      <th>상표</th>\n",
       "      <th>구</th>\n",
       "    </tr>\n",
       "  </thead>\n",
       "  <tbody>\n",
       "    <tr>\n",
       "      <th>33</th>\n",
       "      <td>(주)만정에너지</td>\n",
       "      <td>서울 강남구 봉은사로 433 (삼성동)</td>\n",
       "      <td>2158</td>\n",
       "      <td>N</td>\n",
       "      <td>GS칼텍스</td>\n",
       "      <td>강남구</td>\n",
       "    </tr>\n",
       "    <tr>\n",
       "      <th>34</th>\n",
       "      <td>뉴서울(강남)</td>\n",
       "      <td>서울 강남구 언주로 716</td>\n",
       "      <td>2275</td>\n",
       "      <td>N</td>\n",
       "      <td>SK에너지</td>\n",
       "      <td>강남구</td>\n",
       "    </tr>\n",
       "    <tr>\n",
       "      <th>35</th>\n",
       "      <td>동우주유소</td>\n",
       "      <td>서울특별시 강남구  봉은사로 311 (논현동)</td>\n",
       "      <td>-</td>\n",
       "      <td>N</td>\n",
       "      <td>SK에너지</td>\n",
       "      <td>강남구</td>\n",
       "    </tr>\n",
       "    <tr>\n",
       "      <th>36</th>\n",
       "      <td>학여울주유소</td>\n",
       "      <td>서울 강남구 남부순환로 3170 (일원2동)</td>\n",
       "      <td>-</td>\n",
       "      <td>N</td>\n",
       "      <td>GS칼텍스</td>\n",
       "      <td>강남구</td>\n",
       "    </tr>\n",
       "    <tr>\n",
       "      <th>37</th>\n",
       "      <td>삼성주유소</td>\n",
       "      <td>서울 강남구 삼성로 521 (삼성동)</td>\n",
       "      <td>-</td>\n",
       "      <td>N</td>\n",
       "      <td>SK에너지</td>\n",
       "      <td>강남구</td>\n",
       "    </tr>\n",
       "  </tbody>\n",
       "</table>\n",
       "</div>"
      ],
      "text/plain": [
       "          상호                         주소    가격 셀프여부     상표    구\n",
       "33  (주)만정에너지      서울 강남구 봉은사로 433 (삼성동)  2158    N  GS칼텍스  강남구\n",
       "34   뉴서울(강남)             서울 강남구 언주로 716  2275    N  SK에너지  강남구\n",
       "35     동우주유소  서울특별시 강남구  봉은사로 311 (논현동)     -    N  SK에너지  강남구\n",
       "36    학여울주유소   서울 강남구 남부순환로 3170 (일원2동)     -    N  GS칼텍스  강남구\n",
       "37     삼성주유소       서울 강남구 삼성로 521 (삼성동)     -    N  SK에너지  강남구"
      ]
     },
     "execution_count": 165,
     "metadata": {},
     "output_type": "execute_result"
    }
   ],
   "source": [
    "stations.tail()"
   ]
  },
  {
   "cell_type": "code",
   "execution_count": 166,
   "id": "7ea0389d",
   "metadata": {},
   "outputs": [
    {
     "data": {
      "text/html": [
       "<div>\n",
       "<style scoped>\n",
       "    .dataframe tbody tr th:only-of-type {\n",
       "        vertical-align: middle;\n",
       "    }\n",
       "\n",
       "    .dataframe tbody tr th {\n",
       "        vertical-align: top;\n",
       "    }\n",
       "\n",
       "    .dataframe thead th {\n",
       "        text-align: right;\n",
       "    }\n",
       "</style>\n",
       "<table border=\"1\" class=\"dataframe\">\n",
       "  <thead>\n",
       "    <tr style=\"text-align: right;\">\n",
       "      <th></th>\n",
       "      <th>상호</th>\n",
       "      <th>주소</th>\n",
       "      <th>가격</th>\n",
       "      <th>셀프여부</th>\n",
       "      <th>상표</th>\n",
       "      <th>구</th>\n",
       "    </tr>\n",
       "  </thead>\n",
       "  <tbody>\n",
       "    <tr>\n",
       "      <th>30</th>\n",
       "      <td>경원주유소</td>\n",
       "      <td>서울 강남구 도산대로 428 (청담동)</td>\n",
       "      <td>2125.0</td>\n",
       "      <td>N</td>\n",
       "      <td>S-OIL</td>\n",
       "      <td>강남구</td>\n",
       "    </tr>\n",
       "    <tr>\n",
       "      <th>31</th>\n",
       "      <td>SK논현주유소</td>\n",
       "      <td>서울 강남구 논현로 747 (논현동)</td>\n",
       "      <td>2155.0</td>\n",
       "      <td>N</td>\n",
       "      <td>SK에너지</td>\n",
       "      <td>강남구</td>\n",
       "    </tr>\n",
       "    <tr>\n",
       "      <th>32</th>\n",
       "      <td>(주)소모에너지 쎈트럴주유소</td>\n",
       "      <td>서울 강남구 삼성로 335</td>\n",
       "      <td>2158.0</td>\n",
       "      <td>N</td>\n",
       "      <td>GS칼텍스</td>\n",
       "      <td>강남구</td>\n",
       "    </tr>\n",
       "    <tr>\n",
       "      <th>33</th>\n",
       "      <td>(주)만정에너지</td>\n",
       "      <td>서울 강남구 봉은사로 433 (삼성동)</td>\n",
       "      <td>2158.0</td>\n",
       "      <td>N</td>\n",
       "      <td>GS칼텍스</td>\n",
       "      <td>강남구</td>\n",
       "    </tr>\n",
       "    <tr>\n",
       "      <th>34</th>\n",
       "      <td>뉴서울(강남)</td>\n",
       "      <td>서울 강남구 언주로 716</td>\n",
       "      <td>2275.0</td>\n",
       "      <td>N</td>\n",
       "      <td>SK에너지</td>\n",
       "      <td>강남구</td>\n",
       "    </tr>\n",
       "  </tbody>\n",
       "</table>\n",
       "</div>"
      ],
      "text/plain": [
       "                 상호                     주소      가격 셀프여부     상표    구\n",
       "30            경원주유소  서울 강남구 도산대로 428 (청담동)  2125.0    N  S-OIL  강남구\n",
       "31          SK논현주유소   서울 강남구 논현로 747 (논현동)  2155.0    N  SK에너지  강남구\n",
       "32  (주)소모에너지 쎈트럴주유소         서울 강남구 삼성로 335  2158.0    N  GS칼텍스  강남구\n",
       "33         (주)만정에너지  서울 강남구 봉은사로 433 (삼성동)  2158.0    N  GS칼텍스  강남구\n",
       "34          뉴서울(강남)         서울 강남구 언주로 716  2275.0    N  SK에너지  강남구"
      ]
     },
     "execution_count": 166,
     "metadata": {},
     "output_type": "execute_result"
    }
   ],
   "source": [
    "# 휘발유 가격 데이터 변환 object(string) -> float\n",
    "# 가격정보가 있는 주유소만 사용\n",
    "stations = stations[stations[\"가격\"] != \"-\"]\n",
    "stations[\"가격\"] = stations[\"가격\"].astype(\"float\")\n",
    "stations.tail()"
   ]
  },
  {
   "cell_type": "code",
   "execution_count": 167,
   "id": "f107fa65",
   "metadata": {},
   "outputs": [
    {
     "name": "stdout",
     "output_type": "stream",
     "text": [
      "<class 'pandas.core.frame.DataFrame'>\n",
      "Int64Index: 467 entries, 0 to 34\n",
      "Data columns (total 6 columns):\n",
      " #   Column  Non-Null Count  Dtype  \n",
      "---  ------  --------------  -----  \n",
      " 0   상호      467 non-null    object \n",
      " 1   주소      467 non-null    object \n",
      " 2   가격      467 non-null    float64\n",
      " 3   셀프여부    467 non-null    object \n",
      " 4   상표      467 non-null    object \n",
      " 5   구       467 non-null    object \n",
      "dtypes: float64(1), object(5)\n",
      "memory usage: 25.5+ KB\n"
     ]
    }
   ],
   "source": [
    "stations.info()"
   ]
  },
  {
   "cell_type": "code",
   "execution_count": 168,
   "id": "4e86a7cf",
   "metadata": {},
   "outputs": [
    {
     "data": {
      "text/html": [
       "<div>\n",
       "<style scoped>\n",
       "    .dataframe tbody tr th:only-of-type {\n",
       "        vertical-align: middle;\n",
       "    }\n",
       "\n",
       "    .dataframe tbody tr th {\n",
       "        vertical-align: top;\n",
       "    }\n",
       "\n",
       "    .dataframe thead th {\n",
       "        text-align: right;\n",
       "    }\n",
       "</style>\n",
       "<table border=\"1\" class=\"dataframe\">\n",
       "  <thead>\n",
       "    <tr style=\"text-align: right;\">\n",
       "      <th></th>\n",
       "      <th>상호</th>\n",
       "      <th>주소</th>\n",
       "      <th>가격</th>\n",
       "      <th>셀프여부</th>\n",
       "      <th>상표</th>\n",
       "      <th>구</th>\n",
       "    </tr>\n",
       "  </thead>\n",
       "  <tbody>\n",
       "    <tr>\n",
       "      <th>30</th>\n",
       "      <td>경원주유소</td>\n",
       "      <td>서울 강남구 도산대로 428 (청담동)</td>\n",
       "      <td>2125.0</td>\n",
       "      <td>N</td>\n",
       "      <td>S-OIL</td>\n",
       "      <td>강남구</td>\n",
       "    </tr>\n",
       "    <tr>\n",
       "      <th>31</th>\n",
       "      <td>SK논현주유소</td>\n",
       "      <td>서울 강남구 논현로 747 (논현동)</td>\n",
       "      <td>2155.0</td>\n",
       "      <td>N</td>\n",
       "      <td>SK에너지</td>\n",
       "      <td>강남구</td>\n",
       "    </tr>\n",
       "    <tr>\n",
       "      <th>32</th>\n",
       "      <td>(주)소모에너지 쎈트럴주유소</td>\n",
       "      <td>서울 강남구 삼성로 335</td>\n",
       "      <td>2158.0</td>\n",
       "      <td>N</td>\n",
       "      <td>GS칼텍스</td>\n",
       "      <td>강남구</td>\n",
       "    </tr>\n",
       "    <tr>\n",
       "      <th>33</th>\n",
       "      <td>(주)만정에너지</td>\n",
       "      <td>서울 강남구 봉은사로 433 (삼성동)</td>\n",
       "      <td>2158.0</td>\n",
       "      <td>N</td>\n",
       "      <td>GS칼텍스</td>\n",
       "      <td>강남구</td>\n",
       "    </tr>\n",
       "    <tr>\n",
       "      <th>34</th>\n",
       "      <td>뉴서울(강남)</td>\n",
       "      <td>서울 강남구 언주로 716</td>\n",
       "      <td>2275.0</td>\n",
       "      <td>N</td>\n",
       "      <td>SK에너지</td>\n",
       "      <td>강남구</td>\n",
       "    </tr>\n",
       "  </tbody>\n",
       "</table>\n",
       "</div>"
      ],
      "text/plain": [
       "                 상호                     주소      가격 셀프여부     상표    구\n",
       "30            경원주유소  서울 강남구 도산대로 428 (청담동)  2125.0    N  S-OIL  강남구\n",
       "31          SK논현주유소   서울 강남구 논현로 747 (논현동)  2155.0    N  SK에너지  강남구\n",
       "32  (주)소모에너지 쎈트럴주유소         서울 강남구 삼성로 335  2158.0    N  GS칼텍스  강남구\n",
       "33         (주)만정에너지  서울 강남구 봉은사로 433 (삼성동)  2158.0    N  GS칼텍스  강남구\n",
       "34          뉴서울(강남)         서울 강남구 언주로 716  2275.0    N  SK에너지  강남구"
      ]
     },
     "execution_count": 168,
     "metadata": {},
     "output_type": "execute_result"
    }
   ],
   "source": [
    "stations.tail()"
   ]
  },
  {
   "cell_type": "code",
   "execution_count": 169,
   "id": "2e7795f9",
   "metadata": {},
   "outputs": [],
   "source": [
    "stations.reset_index(inplace=True, drop=True)"
   ]
  },
  {
   "cell_type": "code",
   "execution_count": 170,
   "id": "ef43d6e1",
   "metadata": {},
   "outputs": [
    {
     "data": {
      "text/html": [
       "<div>\n",
       "<style scoped>\n",
       "    .dataframe tbody tr th:only-of-type {\n",
       "        vertical-align: middle;\n",
       "    }\n",
       "\n",
       "    .dataframe tbody tr th {\n",
       "        vertical-align: top;\n",
       "    }\n",
       "\n",
       "    .dataframe thead th {\n",
       "        text-align: right;\n",
       "    }\n",
       "</style>\n",
       "<table border=\"1\" class=\"dataframe\">\n",
       "  <thead>\n",
       "    <tr style=\"text-align: right;\">\n",
       "      <th></th>\n",
       "      <th>상호</th>\n",
       "      <th>주소</th>\n",
       "      <th>가격</th>\n",
       "      <th>셀프여부</th>\n",
       "      <th>상표</th>\n",
       "      <th>구</th>\n",
       "    </tr>\n",
       "  </thead>\n",
       "  <tbody>\n",
       "    <tr>\n",
       "      <th>462</th>\n",
       "      <td>경원주유소</td>\n",
       "      <td>서울 강남구 도산대로 428 (청담동)</td>\n",
       "      <td>2125.0</td>\n",
       "      <td>N</td>\n",
       "      <td>S-OIL</td>\n",
       "      <td>강남구</td>\n",
       "    </tr>\n",
       "    <tr>\n",
       "      <th>463</th>\n",
       "      <td>SK논현주유소</td>\n",
       "      <td>서울 강남구 논현로 747 (논현동)</td>\n",
       "      <td>2155.0</td>\n",
       "      <td>N</td>\n",
       "      <td>SK에너지</td>\n",
       "      <td>강남구</td>\n",
       "    </tr>\n",
       "    <tr>\n",
       "      <th>464</th>\n",
       "      <td>(주)소모에너지 쎈트럴주유소</td>\n",
       "      <td>서울 강남구 삼성로 335</td>\n",
       "      <td>2158.0</td>\n",
       "      <td>N</td>\n",
       "      <td>GS칼텍스</td>\n",
       "      <td>강남구</td>\n",
       "    </tr>\n",
       "    <tr>\n",
       "      <th>465</th>\n",
       "      <td>(주)만정에너지</td>\n",
       "      <td>서울 강남구 봉은사로 433 (삼성동)</td>\n",
       "      <td>2158.0</td>\n",
       "      <td>N</td>\n",
       "      <td>GS칼텍스</td>\n",
       "      <td>강남구</td>\n",
       "    </tr>\n",
       "    <tr>\n",
       "      <th>466</th>\n",
       "      <td>뉴서울(강남)</td>\n",
       "      <td>서울 강남구 언주로 716</td>\n",
       "      <td>2275.0</td>\n",
       "      <td>N</td>\n",
       "      <td>SK에너지</td>\n",
       "      <td>강남구</td>\n",
       "    </tr>\n",
       "  </tbody>\n",
       "</table>\n",
       "</div>"
      ],
      "text/plain": [
       "                  상호                     주소      가격 셀프여부     상표    구\n",
       "462            경원주유소  서울 강남구 도산대로 428 (청담동)  2125.0    N  S-OIL  강남구\n",
       "463          SK논현주유소   서울 강남구 논현로 747 (논현동)  2155.0    N  SK에너지  강남구\n",
       "464  (주)소모에너지 쎈트럴주유소         서울 강남구 삼성로 335  2158.0    N  GS칼텍스  강남구\n",
       "465         (주)만정에너지  서울 강남구 봉은사로 433 (삼성동)  2158.0    N  GS칼텍스  강남구\n",
       "466          뉴서울(강남)         서울 강남구 언주로 716  2275.0    N  SK에너지  강남구"
      ]
     },
     "execution_count": 170,
     "metadata": {},
     "output_type": "execute_result"
    }
   ],
   "source": [
    "stations.tail()"
   ]
  },
  {
   "cell_type": "markdown",
   "id": "5d8fc7d9",
   "metadata": {},
   "source": [
    "## 5. 주오 가격 정보 시각화"
   ]
  },
  {
   "cell_type": "code",
   "execution_count": 173,
   "id": "c4b3d570",
   "metadata": {},
   "outputs": [],
   "source": [
    "# 한글 설정\n",
    "import matplotlib.pyplot as plt\n",
    "import seaborn as sns\n",
    "import platform\n",
    "from matplotlib import font_manager, rc\n",
    "\n",
    "get_ipython().run_line_magic(\"matplotlib\", \"inline\")\n",
    "# %matplotlib inline\n",
    "\n",
    "path = \"C:/Windows/Fonts/malgun.ttf\"\n",
    "\n",
    "if platform.system() == \"Darwin\":\n",
    "    rc(\"font\", family=\"Arial Unicode MS\")\n",
    "elif platform.system() == \"Windows\":\n",
    "    font_name = font_manager.FontProperties(fname=path).get_name()\n",
    "    rc(\"font\", family=font_name)"
   ]
  },
  {
   "cell_type": "code",
   "execution_count": 175,
   "id": "b58f322a",
   "metadata": {},
   "outputs": [
    {
     "data": {
      "text/plain": [
       "<AxesSubplot:title={'center':'가격'}, xlabel='셀프여부'>"
      ]
     },
     "execution_count": 175,
     "metadata": {},
     "output_type": "execute_result"
    },
    {
     "data": {
      "image/png": "[encoded data removed]",
      "text/plain": [
       "<Figure size 720x576 with 1 Axes>"
      ]
     },
     "metadata": {
      "image/png": {
       "height": 529,
       "width": 624
      },
      "needs_background": "light"
     },
     "output_type": "display_data"
    }
   ],
   "source": [
    "# boxplot(feat.pandas)\n",
    "\n",
    "stations.boxplot(column=\"가격\", by=\"셀프여부\", figsize=(10,8))"
   ]
  },
  {
   "cell_type": "code",
   "execution_count": 177,
   "id": "51a4ff52",
   "metadata": {},
   "outputs": [
    {
     "data": {
      "image/png": "[encoded data removed]",
      "text/plain": [
       "<Figure size 720x576 with 1 Axes>"
      ]
     },
     "metadata": {
      "image/png": {
       "height": 486,
       "width": 622
      },
      "needs_background": "light"
     },
     "output_type": "display_data"
    }
   ],
   "source": [
    "# boxplot(feat. seaborn)\n",
    "\n",
    "plt.figure(figsize=(10,8))\n",
    "sns.boxplot(x=\"셀프여부\", y=\"가격\", data=stations, palette=\"Set1\")\n",
    "plt.grid(True)\n",
    "plt.show()"
   ]
  },
  {
   "cell_type": "code",
   "execution_count": 178,
   "id": "0b0ca9f6",
   "metadata": {},
   "outputs": [
    {
     "data": {
      "image/png": "[encoded data removed]",
      "text/plain": [
       "<Figure size 720x576 with 1 Axes>"
      ]
     },
     "metadata": {
      "image/png": {
       "height": 486,
       "width": 622
      },
      "needs_background": "light"
     },
     "output_type": "display_data"
    }
   ],
   "source": [
    "# boxplot(feat. seaborn)\n",
    "plt.figure(figsize=(10, 8))\n",
    "sns.boxplot(x=\"상표\", y=\"가격\", hue=\"셀프여부\", data=stations, palette=\"Set1\")\n",
    "plt.grid(True)\n",
    "plt.show()"
   ]
  },
  {
   "cell_type": "markdown",
   "id": "98b900d3",
   "metadata": {},
   "source": [
    "# 지도 시각화"
   ]
  },
  {
   "cell_type": "code",
   "execution_count": 183,
   "id": "d2d108e4",
   "metadata": {},
   "outputs": [],
   "source": [
    "import json\n",
    "import folium\n",
    "import warnings\n",
    "import numpy as np\n",
    "warnings.simplefilter(action=\"ignore\", category=FutureWarning)"
   ]
  },
  {
   "cell_type": "code",
   "execution_count": 184,
   "id": "41c4b574",
   "metadata": {},
   "outputs": [
    {
     "data": {
      "text/html": [
       "<div>\n",
       "<style scoped>\n",
       "    .dataframe tbody tr th:only-of-type {\n",
       "        vertical-align: middle;\n",
       "    }\n",
       "\n",
       "    .dataframe tbody tr th {\n",
       "        vertical-align: top;\n",
       "    }\n",
       "\n",
       "    .dataframe thead th {\n",
       "        text-align: right;\n",
       "    }\n",
       "</style>\n",
       "<table border=\"1\" class=\"dataframe\">\n",
       "  <thead>\n",
       "    <tr style=\"text-align: right;\">\n",
       "      <th></th>\n",
       "      <th>상호</th>\n",
       "      <th>주소</th>\n",
       "      <th>가격</th>\n",
       "      <th>셀프여부</th>\n",
       "      <th>상표</th>\n",
       "      <th>구</th>\n",
       "    </tr>\n",
       "  </thead>\n",
       "  <tbody>\n",
       "    <tr>\n",
       "      <th>291</th>\n",
       "      <td>서남주유소</td>\n",
       "      <td>서울 중구 통일로 30</td>\n",
       "      <td>2522.0</td>\n",
       "      <td>N</td>\n",
       "      <td>SK에너지</td>\n",
       "      <td>중구</td>\n",
       "    </tr>\n",
       "    <tr>\n",
       "      <th>256</th>\n",
       "      <td>서계주유소</td>\n",
       "      <td>서울 용산구 청파로 367 (서계동)</td>\n",
       "      <td>2473.0</td>\n",
       "      <td>N</td>\n",
       "      <td>GS칼텍스</td>\n",
       "      <td>용산구</td>\n",
       "    </tr>\n",
       "    <tr>\n",
       "      <th>290</th>\n",
       "      <td>필동주유소</td>\n",
       "      <td>서울 중구  퇴계로 196 (필동2가)</td>\n",
       "      <td>2349.0</td>\n",
       "      <td>N</td>\n",
       "      <td>GS칼텍스</td>\n",
       "      <td>중구</td>\n",
       "    </tr>\n",
       "    <tr>\n",
       "      <th>289</th>\n",
       "      <td>SK에너지(주) 퇴계로주유소</td>\n",
       "      <td>서울 중구 퇴계로 228 (필동2가)</td>\n",
       "      <td>2310.0</td>\n",
       "      <td>N</td>\n",
       "      <td>SK에너지</td>\n",
       "      <td>중구</td>\n",
       "    </tr>\n",
       "    <tr>\n",
       "      <th>255</th>\n",
       "      <td>동자동주유소</td>\n",
       "      <td>서울 용산구 한강대로104길 6 (동자동)</td>\n",
       "      <td>2290.0</td>\n",
       "      <td>N</td>\n",
       "      <td>SK에너지</td>\n",
       "      <td>용산구</td>\n",
       "    </tr>\n",
       "    <tr>\n",
       "      <th>466</th>\n",
       "      <td>뉴서울(강남)</td>\n",
       "      <td>서울 강남구 언주로 716</td>\n",
       "      <td>2275.0</td>\n",
       "      <td>N</td>\n",
       "      <td>SK에너지</td>\n",
       "      <td>강남구</td>\n",
       "    </tr>\n",
       "    <tr>\n",
       "      <th>288</th>\n",
       "      <td>약수주유소</td>\n",
       "      <td>서울 중구 다산로 173</td>\n",
       "      <td>2258.0</td>\n",
       "      <td>N</td>\n",
       "      <td>GS칼텍스</td>\n",
       "      <td>중구</td>\n",
       "    </tr>\n",
       "    <tr>\n",
       "      <th>389</th>\n",
       "      <td>구로주유소</td>\n",
       "      <td>서울 구로구 구로동로 137 (구로동)</td>\n",
       "      <td>2198.0</td>\n",
       "      <td>N</td>\n",
       "      <td>GS칼텍스</td>\n",
       "      <td>구로구</td>\n",
       "    </tr>\n",
       "    <tr>\n",
       "      <th>281</th>\n",
       "      <td>(주)중앙에너비스 혜화주유소</td>\n",
       "      <td>서울 종로구 창경궁로35길 1</td>\n",
       "      <td>2198.0</td>\n",
       "      <td>N</td>\n",
       "      <td>SK에너지</td>\n",
       "      <td>종로구</td>\n",
       "    </tr>\n",
       "    <tr>\n",
       "      <th>253</th>\n",
       "      <td>에너비스</td>\n",
       "      <td>서울 용산구 한남대로 82 (한남동)</td>\n",
       "      <td>2198.0</td>\n",
       "      <td>N</td>\n",
       "      <td>SK에너지</td>\n",
       "      <td>용산구</td>\n",
       "    </tr>\n",
       "  </tbody>\n",
       "</table>\n",
       "</div>"
      ],
      "text/plain": [
       "                  상호                       주소      가격 셀프여부     상표    구\n",
       "291            서남주유소             서울 중구 통일로 30  2522.0    N  SK에너지   중구\n",
       "256            서계주유소     서울 용산구 청파로 367 (서계동)  2473.0    N  GS칼텍스  용산구\n",
       "290            필동주유소    서울 중구  퇴계로 196 (필동2가)  2349.0    N  GS칼텍스   중구\n",
       "289  SK에너지(주) 퇴계로주유소     서울 중구 퇴계로 228 (필동2가)  2310.0    N  SK에너지   중구\n",
       "255           동자동주유소  서울 용산구 한강대로104길 6 (동자동)  2290.0    N  SK에너지  용산구\n",
       "466          뉴서울(강남)           서울 강남구 언주로 716  2275.0    N  SK에너지  강남구\n",
       "288            약수주유소            서울 중구 다산로 173  2258.0    N  GS칼텍스   중구\n",
       "389            구로주유소    서울 구로구 구로동로 137 (구로동)  2198.0    N  GS칼텍스  구로구\n",
       "281  (주)중앙에너비스 혜화주유소         서울 종로구 창경궁로35길 1  2198.0    N  SK에너지  종로구\n",
       "253             에너비스     서울 용산구 한남대로 82 (한남동)  2198.0    N  SK에너지  용산구"
      ]
     },
     "execution_count": 184,
     "metadata": {},
     "output_type": "execute_result"
    }
   ],
   "source": [
    "# 가장 비싼 주유소 10개\n",
    "stations.sort_values(by=\"가격\", ascending=False).head(10)"
   ]
  },
  {
   "cell_type": "code",
   "execution_count": 185,
   "id": "59774b05",
   "metadata": {},
   "outputs": [
    {
     "data": {
      "text/html": [
       "<div>\n",
       "<style scoped>\n",
       "    .dataframe tbody tr th:only-of-type {\n",
       "        vertical-align: middle;\n",
       "    }\n",
       "\n",
       "    .dataframe tbody tr th {\n",
       "        vertical-align: top;\n",
       "    }\n",
       "\n",
       "    .dataframe thead th {\n",
       "        text-align: right;\n",
       "    }\n",
       "</style>\n",
       "<table border=\"1\" class=\"dataframe\">\n",
       "  <thead>\n",
       "    <tr style=\"text-align: right;\">\n",
       "      <th></th>\n",
       "      <th>상호</th>\n",
       "      <th>주소</th>\n",
       "      <th>가격</th>\n",
       "      <th>셀프여부</th>\n",
       "      <th>상표</th>\n",
       "      <th>구</th>\n",
       "    </tr>\n",
       "  </thead>\n",
       "  <tbody>\n",
       "    <tr>\n",
       "      <th>402</th>\n",
       "      <td>화랑대주유소</td>\n",
       "      <td>서울 노원구 화랑로 483</td>\n",
       "      <td>1595.0</td>\n",
       "      <td>Y</td>\n",
       "      <td>현대오일뱅크</td>\n",
       "      <td>노원구</td>\n",
       "    </tr>\n",
       "    <tr>\n",
       "      <th>16</th>\n",
       "      <td>동서울고속주유소</td>\n",
       "      <td>서울 동대문구 한천로 414</td>\n",
       "      <td>1595.0</td>\n",
       "      <td>Y</td>\n",
       "      <td>SK에너지</td>\n",
       "      <td>동대문구</td>\n",
       "    </tr>\n",
       "    <tr>\n",
       "      <th>401</th>\n",
       "      <td>배꽃나라주유소</td>\n",
       "      <td>서울 노원구 화랑로 466 (공릉동)</td>\n",
       "      <td>1595.0</td>\n",
       "      <td>Y</td>\n",
       "      <td>GS칼텍스</td>\n",
       "      <td>노원구</td>\n",
       "    </tr>\n",
       "    <tr>\n",
       "      <th>205</th>\n",
       "      <td>도림주유소</td>\n",
       "      <td>서울 영등포구 도림로 343 (도림동)</td>\n",
       "      <td>1598.0</td>\n",
       "      <td>Y</td>\n",
       "      <td>알뜰주유소</td>\n",
       "      <td>영등포구</td>\n",
       "    </tr>\n",
       "    <tr>\n",
       "      <th>206</th>\n",
       "      <td>남서울고속주유소</td>\n",
       "      <td>서울 영등포구 가마산로 367 (대림동)</td>\n",
       "      <td>1598.0</td>\n",
       "      <td>Y</td>\n",
       "      <td>SK에너지</td>\n",
       "      <td>영등포구</td>\n",
       "    </tr>\n",
       "    <tr>\n",
       "      <th>207</th>\n",
       "      <td>영등포제일셀프주유소</td>\n",
       "      <td>서울 영등포구 가마산로 379</td>\n",
       "      <td>1598.0</td>\n",
       "      <td>Y</td>\n",
       "      <td>현대오일뱅크</td>\n",
       "      <td>영등포구</td>\n",
       "    </tr>\n",
       "    <tr>\n",
       "      <th>204</th>\n",
       "      <td>성락주유소</td>\n",
       "      <td>서울 영등포구 가마산로 414 (신길동)</td>\n",
       "      <td>1598.0</td>\n",
       "      <td>Y</td>\n",
       "      <td>S-OIL</td>\n",
       "      <td>영등포구</td>\n",
       "    </tr>\n",
       "    <tr>\n",
       "      <th>231</th>\n",
       "      <td>수유동주유소</td>\n",
       "      <td>서울 강북구 도봉로 395 (수유동)</td>\n",
       "      <td>1608.0</td>\n",
       "      <td>Y</td>\n",
       "      <td>GS칼텍스</td>\n",
       "      <td>강북구</td>\n",
       "    </tr>\n",
       "    <tr>\n",
       "      <th>208</th>\n",
       "      <td>(주)대청에너지 대청주유소</td>\n",
       "      <td>서울 영등포구 가마산로 328 (대림동)</td>\n",
       "      <td>1609.0</td>\n",
       "      <td>N</td>\n",
       "      <td>GS칼텍스</td>\n",
       "      <td>영등포구</td>\n",
       "    </tr>\n",
       "    <tr>\n",
       "      <th>181</th>\n",
       "      <td>현대주유소</td>\n",
       "      <td>서울 양천구 남부순환로 372 (신월동)</td>\n",
       "      <td>1609.0</td>\n",
       "      <td>Y</td>\n",
       "      <td>S-OIL</td>\n",
       "      <td>양천구</td>\n",
       "    </tr>\n",
       "  </tbody>\n",
       "</table>\n",
       "</div>"
      ],
      "text/plain": [
       "                 상호                      주소      가격 셀프여부      상표     구\n",
       "402          화랑대주유소          서울 노원구 화랑로 483  1595.0    Y  현대오일뱅크   노원구\n",
       "16         동서울고속주유소         서울 동대문구 한천로 414  1595.0    Y   SK에너지  동대문구\n",
       "401         배꽃나라주유소    서울 노원구 화랑로 466 (공릉동)  1595.0    Y   GS칼텍스   노원구\n",
       "205           도림주유소   서울 영등포구 도림로 343 (도림동)  1598.0    Y   알뜰주유소  영등포구\n",
       "206        남서울고속주유소  서울 영등포구 가마산로 367 (대림동)  1598.0    Y   SK에너지  영등포구\n",
       "207      영등포제일셀프주유소        서울 영등포구 가마산로 379  1598.0    Y  현대오일뱅크  영등포구\n",
       "204           성락주유소  서울 영등포구 가마산로 414 (신길동)  1598.0    Y   S-OIL  영등포구\n",
       "231          수유동주유소    서울 강북구 도봉로 395 (수유동)  1608.0    Y   GS칼텍스   강북구\n",
       "208  (주)대청에너지 대청주유소  서울 영등포구 가마산로 328 (대림동)  1609.0    N   GS칼텍스  영등포구\n",
       "181           현대주유소  서울 양천구 남부순환로 372 (신월동)  1609.0    Y   S-OIL   양천구"
      ]
     },
     "execution_count": 185,
     "metadata": {},
     "output_type": "execute_result"
    }
   ],
   "source": [
    "# 가장 싼 주유소 10개\n",
    "stations.sort_values(by=\"가격\", ascending=True).head(10)"
   ]
  },
  {
   "cell_type": "code",
   "execution_count": 188,
   "id": "69dddac2",
   "metadata": {},
   "outputs": [
    {
     "data": {
      "text/html": [
       "<div>\n",
       "<style scoped>\n",
       "    .dataframe tbody tr th:only-of-type {\n",
       "        vertical-align: middle;\n",
       "    }\n",
       "\n",
       "    .dataframe tbody tr th {\n",
       "        vertical-align: top;\n",
       "    }\n",
       "\n",
       "    .dataframe thead th {\n",
       "        text-align: right;\n",
       "    }\n",
       "</style>\n",
       "<table border=\"1\" class=\"dataframe\">\n",
       "  <thead>\n",
       "    <tr style=\"text-align: right;\">\n",
       "      <th></th>\n",
       "      <th>가격</th>\n",
       "    </tr>\n",
       "    <tr>\n",
       "      <th>구</th>\n",
       "      <th></th>\n",
       "    </tr>\n",
       "  </thead>\n",
       "  <tbody>\n",
       "    <tr>\n",
       "      <th>강남구</th>\n",
       "      <td>1874.971429</td>\n",
       "    </tr>\n",
       "    <tr>\n",
       "      <th>강동구</th>\n",
       "      <td>1770.625000</td>\n",
       "    </tr>\n",
       "    <tr>\n",
       "      <th>강북구</th>\n",
       "      <td>1639.076923</td>\n",
       "    </tr>\n",
       "    <tr>\n",
       "      <th>강서구</th>\n",
       "      <td>1689.218750</td>\n",
       "    </tr>\n",
       "    <tr>\n",
       "      <th>관악구</th>\n",
       "      <td>1720.533333</td>\n",
       "    </tr>\n",
       "  </tbody>\n",
       "</table>\n",
       "</div>"
      ],
      "text/plain": [
       "              가격\n",
       "구               \n",
       "강남구  1874.971429\n",
       "강동구  1770.625000\n",
       "강북구  1639.076923\n",
       "강서구  1689.218750\n",
       "관악구  1720.533333"
      ]
     },
     "execution_count": 188,
     "metadata": {},
     "output_type": "execute_result"
    }
   ],
   "source": [
    "sigungu_table = pd.pivot_table(data=stations, index=\"구\", values=\"가격\", aggfunc=np.mean)\n",
    "sigungu_table.head()"
   ]
  },
  {
   "cell_type": "code",
   "execution_count": 195,
   "id": "491f34d6",
   "metadata": {},
   "outputs": [
    {
     "data": {
      "text/html": [
       "<div style=\"width:100%;\"><div style=\"position:relative;width:100%;height:0;padding-bottom:60%;\"><span style=\"color:#565656\">Make this Notebook Trusted to load map: File -> Trust Notebook</span><iframe src=\"about:blank\" style=\"position:absolute;width:100%;height:100%;left:0;top:0;border:none !important;\" data-html=%3C%21DOCTYPE%20html%3E%0A%3Chead%3E%20%20%20%20%0A%20%20%20%20%3Cmeta%20http-equiv%3D%22content-type%22%20content%3D%22text/html%3B%20charset%3DUTF-8%22%20/%3E%0A%20%20%20%20%0A%20%20%20%20%20%20%20%20%3Cscript%3E%0A%20%20%20%20%20%20%20%20%20%20%20%20L_NO_TOUCH%20%3D%20false%3B%0A%20%20%20%20%20%20%20%20%20%20%20%20L_DISABLE_3D%20%3D%20false%3B%0A%20%20%20%20%20%20%20%20%3C/script%3E%0A%20%20%20%20%0A%20%20%20%20%3Cstyle%3Ehtml%2C%20body%20%7Bwidth%3A%20100%25%3Bheight%3A%20100%25%3Bmargin%3A%200%3Bpadding%3A%200%3B%7D%3C/style%3E%0A%20%20%20%20%3Cstyle%3E%23map%20%7Bposition%3Aabsolute%3Btop%3A0%3Bbottom%3A0%3Bright%3A0%3Bleft%3A0%3B%7D%3C/style%3E%0A%20%20%20%20%3Cscript%20src%3D%22https%3A//cdn.jsdelivr.net/npm/leaflet%401.6.0/dist/leaflet.js%22%3E%3C/script%3E%0A%20%20%20%20%3Cscript%20src%3D%22https%3A//code.jquery.com/jquery-1.12.4.min.js%22%3E%3C/script%3E%0A%20%20%20%20%3Cscript%20src%3D%22https%3A//maxcdn.bootstrapcdn.com/bootstrap/3.2.0/js/bootstrap.min.js%22%3E%3C/script%3E%0A%20%20%20%20%3Cscript%20src%3D%22https%3A//cdnjs.cloudflare.com/ajax/libs/Leaflet.awesome-markers/2.0.2/leaflet.awesome-markers.js%22%3E%3C/script%3E%0A%20%20%20%20%3Clink%20rel%3D%22stylesheet%22%20href%3D%22https%3A//cdn.jsdelivr.net/npm/leaflet%401.6.0/dist/leaflet.css%22/%3E%0A%20%20%20%20%3Clink%20rel%3D%22stylesheet%22%20href%3D%22https%3A//maxcdn.bootstrapcdn.com/bootstrap/3.2.0/css/bootstrap.min.css%22/%3E%0A%20%20%20%20%3Clink%20rel%3D%22stylesheet%22%20href%3D%22https%3A//maxcdn.bootstrapcdn.com/bootstrap/3.2.0/css/bootstrap-theme.min.css%22/%3E%0A%20%20%20%20%3Clink%20rel%3D%22stylesheet%22%20href%3D%22https%3A//maxcdn.bootstrapcdn.com/font-awesome/4.6.3/css/font-awesome.min.css%22/%3E%0A%20%20%20%20%3Clink%20rel%3D%22stylesheet%22%20href%3D%22https%3A//cdnjs.cloudflare.com/ajax/libs/Leaflet.awesome-markers/2.0.2/leaflet.awesome-markers.css%22/%3E%0A%20%20%20%20%3Clink%20rel%3D%22stylesheet%22%20href%3D%22https%3A//cdn.jsdelivr.net/gh/python-visualization/folium/folium/templates/leaflet.awesome.rotate.min.css%22/%3E%0A%20%20%20%20%0A%20%20%20%20%20%20%20%20%20%20%20%20%3Cmeta%20name%3D%22viewport%22%20content%3D%22width%3Ddevice-width%2C%0A%20%20%20%20%20%20%20%20%20%20%20%20%20%20%20%20initial-scale%3D1.0%2C%20maximum-scale%3D1.0%2C%20user-scalable%3Dno%22%20/%3E%0A%20%20%20%20%20%20%20%20%20%20%20%20%3Cstyle%3E%0A%20%20%20%20%20%20%20%20%20%20%20%20%20%20%20%20%23map_69259ce5d50842f1aa208d3777814aab%20%7B%0A%20%20%20%20%20%20%20%20%20%20%20%20%20%20%20%20%20%20%20%20position%3A%20relative%3B%0A%20%20%20%20%20%20%20%20%20%20%20%20%20%20%20%20%20%20%20%20width%3A%20100.0%25%3B%0A%20%20%20%20%20%20%20%20%20%20%20%20%20%20%20%20%20%20%20%20height%3A%20100.0%25%3B%0A%20%20%20%20%20%20%20%20%20%20%20%20%20%20%20%20%20%20%20%20left%3A%200.0%25%3B%0A%20%20%20%20%20%20%20%20%20%20%20%20%20%20%20%20%20%20%20%20top%3A%200.0%25%3B%0A%20%20%20%20%20%20%20%20%20%20%20%20%20%20%20%20%7D%0A%20%20%20%20%20%20%20%20%20%20%20%20%3C/style%3E%0A%20%20%20%20%20%20%20%20%0A%20%20%20%20%3Cscript%20src%3D%22https%3A//cdnjs.cloudflare.com/ajax/libs/d3/3.5.5/d3.min.js%22%3E%3C/script%3E%0A%3C/head%3E%0A%3Cbody%3E%20%20%20%20%0A%20%20%20%20%0A%20%20%20%20%20%20%20%20%20%20%20%20%3Cdiv%20class%3D%22folium-map%22%20id%3D%22map_69259ce5d50842f1aa208d3777814aab%22%20%3E%3C/div%3E%0A%20%20%20%20%20%20%20%20%0A%3C/body%3E%0A%3Cscript%3E%20%20%20%20%0A%20%20%20%20%0A%20%20%20%20%20%20%20%20%20%20%20%20var%20map_69259ce5d50842f1aa208d3777814aab%20%3D%20L.map%28%0A%20%20%20%20%20%20%20%20%20%20%20%20%20%20%20%20%22map_69259ce5d50842f1aa208d3777814aab%22%2C%0A%20%20%20%20%20%20%20%20%20%20%20%20%20%20%20%20%7B%0A%20%20%20%20%20%20%20%20%20%20%20%20%20%20%20%20%20%20%20%20center%3A%20%5B37.5502%2C%20126.982%5D%2C%0A%20%20%20%20%20%20%20%20%20%20%20%20%20%20%20%20%20%20%20%20crs%3A%20L.CRS.EPSG3857%2C%0A%20%20%20%20%20%20%20%20%20%20%20%20%20%20%20%20%20%20%20%20zoom%3A%2010.5%2C%0A%20%20%20%20%20%20%20%20%20%20%20%20%20%20%20%20%20%20%20%20zoomControl%3A%20true%2C%0A%20%20%20%20%20%20%20%20%20%20%20%20%20%20%20%20%20%20%20%20preferCanvas%3A%20false%2C%0A%20%20%20%20%20%20%20%20%20%20%20%20%20%20%20%20%7D%0A%20%20%20%20%20%20%20%20%20%20%20%20%29%3B%0A%0A%20%20%20%20%20%20%20%20%20%20%20%20%0A%0A%20%20%20%20%20%20%20%20%0A%20%20%20%20%0A%20%20%20%20%20%20%20%20%20%20%20%20var%20tile_layer_7fb98dc6c1c043acb201a5cbf703f8ab%20%3D%20L.tileLayer%28%0A%20%20%20%20%20%20%20%20%20%20%20%20%20%20%20%20%22https%3A//stamen-tiles-%7Bs%7D.a.ssl.fastly.net/toner/%7Bz%7D/%7Bx%7D/%7By%7D.png%22%2C%0A%20%20%20%20%20%20%20%20%20%20%20%20%20%20%20%20%7B%22attribution%22%3A%20%22Map%20tiles%20by%20%5Cu003ca%20href%3D%5C%22http%3A//stamen.com%5C%22%5Cu003eStamen%20Design%5Cu003c/a%5Cu003e%2C%20under%20%5Cu003ca%20href%3D%5C%22http%3A//creativecommons.org/licenses/by/3.0%5C%22%5Cu003eCC%20BY%203.0%5Cu003c/a%5Cu003e.%20Data%20by%20%5Cu0026copy%3B%20%5Cu003ca%20href%3D%5C%22http%3A//openstreetmap.org%5C%22%5Cu003eOpenStreetMap%5Cu003c/a%5Cu003e%2C%20under%20%5Cu003ca%20href%3D%5C%22http%3A//www.openstreetmap.org/copyright%5C%22%5Cu003eODbL%5Cu003c/a%5Cu003e.%22%2C%20%22detectRetina%22%3A%20false%2C%20%22maxNativeZoom%22%3A%2018%2C%20%22maxZoom%22%3A%2018%2C%20%22minZoom%22%3A%200%2C%20%22noWrap%22%3A%20false%2C%20%22opacity%22%3A%201%2C%20%22subdomains%22%3A%20%22abc%22%2C%20%22tms%22%3A%20false%7D%0A%20%20%20%20%20%20%20%20%20%20%20%20%29.addTo%28map_69259ce5d50842f1aa208d3777814aab%29%3B%0A%20%20%20%20%20%20%20%20%0A%20%20%20%20%0A%20%20%20%20%20%20%20%20%20%20%20%20var%20choropleth_33dc83d146aa468d9bc8162975180864%20%3D%20L.featureGroup%28%0A%20%20%20%20%20%20%20%20%20%20%20%20%20%20%20%20%7B%7D%0A%20%20%20%20%20%20%20%20%20%20%20%20%29.addTo%28map_69259ce5d50842f1aa208d3777814aab%29%3B%0A%20%20%20%20%20%20%20%20%0A%20%20%20%20%0A%20%20%20%20%20%20%20%20function%20geo_json_8140cc36011a4d10854fb46b5cbfebc4_styler%28feature%29%20%7B%0A%20%20%20%20%20%20%20%20%20%20%20%20switch%28feature.id%29%20%7B%0A%20%20%20%20%20%20%20%20%20%20%20%20%20%20%20%20case%20%22%5Cuac15%5Cub3d9%5Cuad6c%22%3A%20case%20%22%5Cuc11c%5Cucd08%5Cuad6c%22%3A%20case%20%22%5Cuad00%5Cuc545%5Cuad6c%22%3A%20case%20%22%5Cuc601%5Cub4f1%5Cud3ec%5Cuad6c%22%3A%20case%20%22%5Cub9c8%5Cud3ec%5Cuad6c%22%3A%20case%20%22%5Cuc131%5Cub3d9%5Cuad6c%22%3A%20%0A%20%20%20%20%20%20%20%20%20%20%20%20%20%20%20%20%20%20%20%20return%20%7B%22color%22%3A%20%22black%22%2C%20%22fillColor%22%3A%20%22%23d4b9da%22%2C%20%22fillOpacity%22%3A%200.6%2C%20%22opacity%22%3A%201%2C%20%22weight%22%3A%201%7D%3B%0A%20%20%20%20%20%20%20%20%20%20%20%20%20%20%20%20case%20%22%5Cuac15%5Cub0a8%5Cuad6c%22%3A%20%0A%20%20%20%20%20%20%20%20%20%20%20%20%20%20%20%20%20%20%20%20return%20%7B%22color%22%3A%20%22black%22%2C%20%22fillColor%22%3A%20%22%23c994c7%22%2C%20%22fillOpacity%22%3A%200.6%2C%20%22opacity%22%3A%201%2C%20%22weight%22%3A%201%7D%3B%0A%20%20%20%20%20%20%20%20%20%20%20%20%20%20%20%20case%20%22%5Cuc6a9%5Cuc0b0%5Cuad6c%22%3A%20case%20%22%5Cuc911%5Cuad6c%22%3A%20%0A%20%20%20%20%20%20%20%20%20%20%20%20%20%20%20%20%20%20%20%20return%20%7B%22color%22%3A%20%22black%22%2C%20%22fillColor%22%3A%20%22%23980043%22%2C%20%22fillOpacity%22%3A%200.6%2C%20%22opacity%22%3A%201%2C%20%22weight%22%3A%201%7D%3B%0A%20%20%20%20%20%20%20%20%20%20%20%20%20%20%20%20case%20%22%5Cuc885%5Cub85c%5Cuad6c%22%3A%20%0A%20%20%20%20%20%20%20%20%20%20%20%20%20%20%20%20%20%20%20%20return%20%7B%22color%22%3A%20%22black%22%2C%20%22fillColor%22%3A%20%22%23dd1c77%22%2C%20%22fillOpacity%22%3A%200.6%2C%20%22opacity%22%3A%201%2C%20%22weight%22%3A%201%7D%3B%0A%20%20%20%20%20%20%20%20%20%20%20%20%20%20%20%20default%3A%0A%20%20%20%20%20%20%20%20%20%20%20%20%20%20%20%20%20%20%20%20return%20%7B%22color%22%3A%20%22black%22%2C%20%22fillColor%22%3A%20%22%23f1eef6%22%2C%20%22fillOpacity%22%3A%200.6%2C%20%22opacity%22%3A%201%2C%20%22weight%22%3A%201%7D%3B%0A%20%20%20%20%20%20%20%20%20%20%20%20%7D%0A%20%20%20%20%20%20%20%20%7D%0A%0A%20%20%20%20%20%20%20%20function%20geo_json_8140cc36011a4d10854fb46b5cbfebc4_onEachFeature%28feature%2C%20layer%29%20%7B%0A%20%20%20%20%20%20%20%20%20%20%20%20layer.on%28%7B%0A%20%20%20%20%20%20%20%20%20%20%20%20%7D%29%3B%0A%20%20%20%20%20%20%20%20%7D%3B%0A%20%20%20%20%20%20%20%20var%20geo_json_8140cc36011a4d10854fb46b5cbfebc4%20%3D%20L.geoJson%28null%2C%20%7B%0A%20%20%20%20%20%20%20%20%20%20%20%20%20%20%20%20onEachFeature%3A%20geo_json_8140cc36011a4d10854fb46b5cbfebc4_onEachFeature%2C%0A%20%20%20%20%20%20%20%20%20%20%20%20%0A%20%20%20%20%20%20%20%20%20%20%20%20%20%20%20%20style%3A%20geo_json_8140cc36011a4d10854fb46b5cbfebc4_styler%2C%0A%20%20%20%20%20%20%20%20%7D%29%3B%0A%0A%20%20%20%20%20%20%20%20function%20geo_json_8140cc36011a4d10854fb46b5cbfebc4_add%20%28data%29%20%7B%0A%20%20%20%20%20%20%20%20%20%20%20%20geo_json_8140cc36011a4d10854fb46b5cbfebc4%0A%20%20%20%20%20%20%20%20%20%20%20%20%20%20%20%20.addData%28data%29%0A%20%20%20%20%20%20%20%20%20%20%20%20%20%20%20%20.addTo%28choropleth_33dc83d146aa468d9bc8162975180864%29%3B%0A%20%20%20%20%20%20%20%20%7D%0A%20%20%20%20%20%20%20%20%20%20%20%20geo_json_8140cc36011a4d10854fb46b5cbfebc4_add%28%7B%22features%22%3A%20%5B%7B%22geometry%22%3A%20%7B%22coordinates%22%3A%20%5B%5B%5B127.11519584981606%2C%2037.557533180704915%5D%2C%20%5B127.16683184366129%2C%2037.57672487388627%5D%2C%20%5B127.18408792330152%2C%2037.55814280369575%5D%2C%20%5B127.16530984307447%2C%2037.54221851258693%5D%2C%20%5B127.14672806823502%2C%2037.51415680680291%5D%2C%20%5B127.12123165719615%2C%2037.52528270089%5D%2C%20%5B127.1116764203608%2C%2037.540669955324965%5D%2C%20%5B127.11519584981606%2C%2037.557533180704915%5D%5D%5D%2C%20%22type%22%3A%20%22Polygon%22%7D%2C%20%22id%22%3A%20%22%5Cuac15%5Cub3d9%5Cuad6c%22%2C%20%22properties%22%3A%20%7B%22base_year%22%3A%20%222013%22%2C%20%22code%22%3A%20%2211250%22%2C%20%22name%22%3A%20%22%5Cuac15%5Cub3d9%5Cuad6c%22%2C%20%22name_eng%22%3A%20%22Gangdong-gu%22%7D%2C%20%22type%22%3A%20%22Feature%22%7D%2C%20%7B%22geometry%22%3A%20%7B%22coordinates%22%3A%20%5B%5B%5B127.0690698130372%2C%2037.522279423505026%5D%2C%20%5B127.10087519791962%2C%2037.524841220167055%5D%2C%20%5B127.1116764203608%2C%2037.540669955324965%5D%2C%20%5B127.12123165719615%2C%2037.52528270089%5D%2C%20%5B127.14672806823502%2C%2037.51415680680291%5D%2C%20%5B127.1634944215765%2C%2037.497445406097484%5D%2C%20%5B127.14206058413274%2C%2037.47089819098501%5D%2C%20%5B127.12440571080893%2C%2037.46240445587048%5D%2C%20%5B127.11117085201238%2C%2037.485708381512445%5D%2C%20%5B127.0719146000724%2C%2037.50224013587669%5D%2C%20%5B127.0690698130372%2C%2037.522279423505026%5D%5D%5D%2C%20%22type%22%3A%20%22Polygon%22%7D%2C%20%22id%22%3A%20%22%5Cuc1a1%5Cud30c%5Cuad6c%22%2C%20%22properties%22%3A%20%7B%22base_year%22%3A%20%222013%22%2C%20%22code%22%3A%20%2211240%22%2C%20%22name%22%3A%20%22%5Cuc1a1%5Cud30c%5Cuad6c%22%2C%20%22name_eng%22%3A%20%22Songpa-gu%22%7D%2C%20%22type%22%3A%20%22Feature%22%7D%2C%20%7B%22geometry%22%3A%20%7B%22coordinates%22%3A%20%5B%5B%5B127.05867359288398%2C%2037.52629974922568%5D%2C%20%5B127.0690698130372%2C%2037.522279423505026%5D%2C%20%5B127.0719146000724%2C%2037.50224013587669%5D%2C%20%5B127.11117085201238%2C%2037.485708381512445%5D%2C%20%5B127.12440571080893%2C%2037.46240445587048%5D%2C%20%5B127.09842759318751%2C%2037.45862253857461%5D%2C%20%5B127.08640440578156%2C%2037.472697935184655%5D%2C%20%5B127.0559170481904%2C%2037.4659228914077%5D%2C%20%5B127.03621915098798%2C%2037.48175802427603%5D%2C%20%5B127.01397119667513%2C%2037.52503988289669%5D%2C%20%5B127.02302831890559%2C%2037.53231899582663%5D%2C%20%5B127.05867359288398%2C%2037.52629974922568%5D%5D%5D%2C%20%22type%22%3A%20%22Polygon%22%7D%2C%20%22id%22%3A%20%22%5Cuac15%5Cub0a8%5Cuad6c%22%2C%20%22properties%22%3A%20%7B%22base_year%22%3A%20%222013%22%2C%20%22code%22%3A%20%2211230%22%2C%20%22name%22%3A%20%22%5Cuac15%5Cub0a8%5Cuad6c%22%2C%20%22name_eng%22%3A%20%22Gangnam-gu%22%7D%2C%20%22type%22%3A%20%22Feature%22%7D%2C%20%7B%22geometry%22%3A%20%7B%22coordinates%22%3A%20%5B%5B%5B127.01397119667513%2C%2037.52503988289669%5D%2C%20%5B127.03621915098798%2C%2037.48175802427603%5D%2C%20%5B127.0559170481904%2C%2037.4659228914077%5D%2C%20%5B127.08640440578156%2C%2037.472697935184655%5D%2C%20%5B127.09842759318751%2C%2037.45862253857461%5D%2C%20%5B127.09046928565951%2C%2037.44296826114185%5D%2C%20%5B127.06778107605433%2C%2037.426197424057314%5D%2C%20%5B127.04957232987142%2C%2037.42805836845694%5D%2C%20%5B127.03881782597922%2C%2037.45382039851715%5D%2C%20%5B126.99072073195462%2C%2037.455326143310025%5D%2C%20%5B126.98367668291802%2C%2037.473856492692086%5D%2C%20%5B126.98223807916081%2C%2037.509314966770326%5D%2C%20%5B127.01397119667513%2C%2037.52503988289669%5D%5D%5D%2C%20%22type%22%3A%20%22Polygon%22%7D%2C%20%22id%22%3A%20%22%5Cuc11c%5Cucd08%5Cuad6c%22%2C%20%22properties%22%3A%20%7B%22base_year%22%3A%20%222013%22%2C%20%22code%22%3A%20%2211220%22%2C%20%22name%22%3A%20%22%5Cuc11c%5Cucd08%5Cuad6c%22%2C%20%22name_eng%22%3A%20%22Seocho-gu%22%7D%2C%20%22type%22%3A%20%22Feature%22%7D%2C%20%7B%22geometry%22%3A%20%7B%22coordinates%22%3A%20%5B%5B%5B126.98367668291802%2C%2037.473856492692086%5D%2C%20%5B126.99072073195462%2C%2037.455326143310025%5D%2C%20%5B126.96520439085143%2C%2037.438249784006246%5D%2C%20%5B126.95000001010182%2C%2037.43613451165719%5D%2C%20%5B126.93084408056525%2C%2037.447382928333994%5D%2C%20%5B126.9167728146601%2C%2037.45490566423789%5D%2C%20%5B126.90156094129895%2C%2037.47753842789901%5D%2C%20%5B126.90531975801812%2C%2037.48218087575429%5D%2C%20%5B126.94922661389508%2C%2037.49125437495649%5D%2C%20%5B126.9725891850662%2C%2037.472561363278125%5D%2C%20%5B126.98367668291802%2C%2037.473856492692086%5D%5D%5D%2C%20%22type%22%3A%20%22Polygon%22%7D%2C%20%22id%22%3A%20%22%5Cuad00%5Cuc545%5Cuad6c%22%2C%20%22properties%22%3A%20%7B%22base_year%22%3A%20%222013%22%2C%20%22code%22%3A%20%2211210%22%2C%20%22name%22%3A%20%22%5Cuad00%5Cuc545%5Cuad6c%22%2C%20%22name_eng%22%3A%20%22Gwanak-gu%22%7D%2C%20%22type%22%3A%20%22Feature%22%7D%2C%20%7B%22geometry%22%3A%20%7B%22coordinates%22%3A%20%5B%5B%5B126.98223807916081%2C%2037.509314966770326%5D%2C%20%5B126.98367668291802%2C%2037.473856492692086%5D%2C%20%5B126.9725891850662%2C%2037.472561363278125%5D%2C%20%5B126.94922661389508%2C%2037.49125437495649%5D%2C%20%5B126.90531975801812%2C%2037.48218087575429%5D%2C%20%5B126.92177893174825%2C%2037.494889877415176%5D%2C%20%5B126.92810628828279%2C%2037.51329595732015%5D%2C%20%5B126.95249990298159%2C%2037.51722500741813%5D%2C%20%5B126.98223807916081%2C%2037.509314966770326%5D%5D%5D%2C%20%22type%22%3A%20%22Polygon%22%7D%2C%20%22id%22%3A%20%22%5Cub3d9%5Cuc791%5Cuad6c%22%2C%20%22properties%22%3A%20%7B%22base_year%22%3A%20%222013%22%2C%20%22code%22%3A%20%2211200%22%2C%20%22name%22%3A%20%22%5Cub3d9%5Cuc791%5Cuad6c%22%2C%20%22name_eng%22%3A%20%22Dongjak-gu%22%7D%2C%20%22type%22%3A%20%22Feature%22%7D%2C%20%7B%22geometry%22%3A%20%7B%22coordinates%22%3A%20%5B%5B%5B126.89184663862764%2C%2037.547373974997114%5D%2C%20%5B126.94566733083212%2C%2037.526617542453366%5D%2C%20%5B126.95249990298159%2C%2037.51722500741813%5D%2C%20%5B126.92810628828279%2C%2037.51329595732015%5D%2C%20%5B126.92177893174825%2C%2037.494889877415176%5D%2C%20%5B126.90531975801812%2C%2037.48218087575429%5D%2C%20%5B126.89594776782485%2C%2037.504675281309176%5D%2C%20%5B126.88156402353862%2C%2037.513970034765684%5D%2C%20%5B126.88825757860099%2C%2037.54079733630232%5D%2C%20%5B126.89184663862764%2C%2037.547373974997114%5D%5D%5D%2C%20%22type%22%3A%20%22Polygon%22%7D%2C%20%22id%22%3A%20%22%5Cuc601%5Cub4f1%5Cud3ec%5Cuad6c%22%2C%20%22properties%22%3A%20%7B%22base_year%22%3A%20%222013%22%2C%20%22code%22%3A%20%2211190%22%2C%20%22name%22%3A%20%22%5Cuc601%5Cub4f1%5Cud3ec%5Cuad6c%22%2C%20%22name_eng%22%3A%20%22Yeongdeungpo-gu%22%7D%2C%20%22type%22%3A%20%22Feature%22%7D%2C%20%7B%22geometry%22%3A%20%7B%22coordinates%22%3A%20%5B%5B%5B126.90156094129895%2C%2037.47753842789901%5D%2C%20%5B126.9167728146601%2C%2037.45490566423789%5D%2C%20%5B126.93084408056525%2C%2037.447382928333994%5D%2C%20%5B126.9025831711697%2C%2037.434549366349124%5D%2C%20%5B126.87683271502428%2C%2037.482576591607305%5D%2C%20%5B126.90156094129895%2C%2037.47753842789901%5D%5D%5D%2C%20%22type%22%3A%20%22Polygon%22%7D%2C%20%22id%22%3A%20%22%5Cuae08%5Cucc9c%5Cuad6c%22%2C%20%22properties%22%3A%20%7B%22base_year%22%3A%20%222013%22%2C%20%22code%22%3A%20%2211180%22%2C%20%22name%22%3A%20%22%5Cuae08%5Cucc9c%5Cuad6c%22%2C%20%22name_eng%22%3A%20%22Geumcheon-gu%22%7D%2C%20%22type%22%3A%20%22Feature%22%7D%2C%20%7B%22geometry%22%3A%20%7B%22coordinates%22%3A%20%5B%5B%5B126.82688081517314%2C%2037.50548972232896%5D%2C%20%5B126.88156402353862%2C%2037.513970034765684%5D%2C%20%5B126.89594776782485%2C%2037.504675281309176%5D%2C%20%5B126.90531975801812%2C%2037.48218087575429%5D%2C%20%5B126.90156094129895%2C%2037.47753842789901%5D%2C%20%5B126.87683271502428%2C%2037.482576591607305%5D%2C%20%5B126.84762676054953%2C%2037.47146723936323%5D%2C%20%5B126.83549485076196%2C%2037.474098236975095%5D%2C%20%5B126.82264796791348%2C%2037.4878476492147%5D%2C%20%5B126.82504736331406%2C%2037.50302612640443%5D%2C%20%5B126.82688081517314%2C%2037.50548972232896%5D%5D%5D%2C%20%22type%22%3A%20%22Polygon%22%7D%2C%20%22id%22%3A%20%22%5Cuad6c%5Cub85c%5Cuad6c%22%2C%20%22properties%22%3A%20%7B%22base_year%22%3A%20%222013%22%2C%20%22code%22%3A%20%2211170%22%2C%20%22name%22%3A%20%22%5Cuad6c%5Cub85c%5Cuad6c%22%2C%20%22name_eng%22%3A%20%22Guro-gu%22%7D%2C%20%22type%22%3A%20%22Feature%22%7D%2C%20%7B%22geometry%22%3A%20%7B%22coordinates%22%3A%20%5B%5B%5B126.79575768552907%2C%2037.57881087633202%5D%2C%20%5B126.80702115023597%2C%2037.60123001013228%5D%2C%20%5B126.82251438477105%2C%2037.5880430810082%5D%2C%20%5B126.85984199399667%2C%2037.571847855292745%5D%2C%20%5B126.89184663862764%2C%2037.547373974997114%5D%2C%20%5B126.88825757860099%2C%2037.54079733630232%5D%2C%20%5B126.86637464321238%2C%2037.54859191094823%5D%2C%20%5B126.86610073476395%2C%2037.52699964144669%5D%2C%20%5B126.84257291943153%2C%2037.52373707805596%5D%2C%20%5B126.8242331426722%2C%2037.53788078753248%5D%2C%20%5B126.77324417717703%2C%2037.5459123450554%5D%2C%20%5B126.76979180579352%2C%2037.55139183008809%5D%2C%20%5B126.79575768552907%2C%2037.57881087633202%5D%5D%5D%2C%20%22type%22%3A%20%22Polygon%22%7D%2C%20%22id%22%3A%20%22%5Cuac15%5Cuc11c%5Cuad6c%22%2C%20%22properties%22%3A%20%7B%22base_year%22%3A%20%222013%22%2C%20%22code%22%3A%20%2211160%22%2C%20%22name%22%3A%20%22%5Cuac15%5Cuc11c%5Cuad6c%22%2C%20%22name_eng%22%3A%20%22Gangseo-gu%22%7D%2C%20%22type%22%3A%20%22Feature%22%7D%2C%20%7B%22geometry%22%3A%20%7B%22coordinates%22%3A%20%5B%5B%5B126.8242331426722%2C%2037.53788078753248%5D%2C%20%5B126.84257291943153%2C%2037.52373707805596%5D%2C%20%5B126.86610073476395%2C%2037.52699964144669%5D%2C%20%5B126.86637464321238%2C%2037.54859191094823%5D%2C%20%5B126.88825757860099%2C%2037.54079733630232%5D%2C%20%5B126.88156402353862%2C%2037.513970034765684%5D%2C%20%5B126.82688081517314%2C%2037.50548972232896%5D%2C%20%5B126.8242331426722%2C%2037.53788078753248%5D%5D%5D%2C%20%22type%22%3A%20%22Polygon%22%7D%2C%20%22id%22%3A%20%22%5Cuc591%5Cucc9c%5Cuad6c%22%2C%20%22properties%22%3A%20%7B%22base_year%22%3A%20%222013%22%2C%20%22code%22%3A%20%2211150%22%2C%20%22name%22%3A%20%22%5Cuc591%5Cucc9c%5Cuad6c%22%2C%20%22name_eng%22%3A%20%22Yangcheon-gu%22%7D%2C%20%22type%22%3A%20%22Feature%22%7D%2C%20%7B%22geometry%22%3A%20%7B%22coordinates%22%3A%20%5B%5B%5B126.90522065831053%2C%2037.57409700522574%5D%2C%20%5B126.93898161798973%2C%2037.552310003728124%5D%2C%20%5B126.96358226710812%2C%2037.55605635475154%5D%2C%20%5B126.96448570553055%2C%2037.548705692021635%5D%2C%20%5B126.94566733083212%2C%2037.526617542453366%5D%2C%20%5B126.89184663862764%2C%2037.547373974997114%5D%2C%20%5B126.85984199399667%2C%2037.571847855292745%5D%2C%20%5B126.88433284773288%2C%2037.588143322880526%5D%2C%20%5B126.90522065831053%2C%2037.57409700522574%5D%5D%5D%2C%20%22type%22%3A%20%22Polygon%22%7D%2C%20%22id%22%3A%20%22%5Cub9c8%5Cud3ec%5Cuad6c%22%2C%20%22properties%22%3A%20%7B%22base_year%22%3A%20%222013%22%2C%20%22code%22%3A%20%2211140%22%2C%20%22name%22%3A%20%22%5Cub9c8%5Cud3ec%5Cuad6c%22%2C%20%22name_eng%22%3A%20%22Mapo-gu%22%7D%2C%20%22type%22%3A%20%22Feature%22%7D%2C%20%7B%22geometry%22%3A%20%7B%22coordinates%22%3A%20%5B%5B%5B126.9524752030572%2C%2037.60508692737045%5D%2C%20%5B126.95565425846463%2C%2037.576080790881456%5D%2C%20%5B126.96873633279075%2C%2037.56313604690827%5D%2C%20%5B126.96358226710812%2C%2037.55605635475154%5D%2C%20%5B126.93898161798973%2C%2037.552310003728124%5D%2C%20%5B126.90522065831053%2C%2037.57409700522574%5D%2C%20%5B126.9524752030572%2C%2037.60508692737045%5D%5D%5D%2C%20%22type%22%3A%20%22Polygon%22%7D%2C%20%22id%22%3A%20%22%5Cuc11c%5Cub300%5Cubb38%5Cuad6c%22%2C%20%22properties%22%3A%20%7B%22base_year%22%3A%20%222013%22%2C%20%22code%22%3A%20%2211130%22%2C%20%22name%22%3A%20%22%5Cuc11c%5Cub300%5Cubb38%5Cuad6c%22%2C%20%22name_eng%22%3A%20%22Seodaemun-gu%22%7D%2C%20%22type%22%3A%20%22Feature%22%7D%2C%20%7B%22geometry%22%3A%20%7B%22coordinates%22%3A%20%5B%5B%5B126.9738864128702%2C%2037.62949634786888%5D%2C%20%5B126.95427017006129%2C%2037.622033431339425%5D%2C%20%5B126.9524752030572%2C%2037.60508692737045%5D%2C%20%5B126.90522065831053%2C%2037.57409700522574%5D%2C%20%5B126.88433284773288%2C%2037.588143322880526%5D%2C%20%5B126.90396681003595%2C%2037.59227403419942%5D%2C%20%5B126.90303066177668%2C%2037.609977911401344%5D%2C%20%5B126.91455481429648%2C%2037.64150050996935%5D%2C%20%5B126.956473797387%2C%2037.652480737339445%5D%2C%20%5B126.9738864128702%2C%2037.62949634786888%5D%5D%5D%2C%20%22type%22%3A%20%22Polygon%22%7D%2C%20%22id%22%3A%20%22%5Cuc740%5Cud3c9%5Cuad6c%22%2C%20%22properties%22%3A%20%7B%22base_year%22%3A%20%222013%22%2C%20%22code%22%3A%20%2211120%22%2C%20%22name%22%3A%20%22%5Cuc740%5Cud3c9%5Cuad6c%22%2C%20%22name_eng%22%3A%20%22Eunpyeong-gu%22%7D%2C%20%22type%22%3A%20%22Feature%22%7D%2C%20%7B%22geometry%22%3A%20%7B%22coordinates%22%3A%20%5B%5B%5B127.0838752703195%2C%2037.69359534202034%5D%2C%20%5B127.09706391309695%2C%2037.686383719372294%5D%2C%20%5B127.09440766298717%2C%2037.64713490473045%5D%2C%20%5B127.11326795855199%2C%2037.639622905315925%5D%2C%20%5B127.10782277688129%2C%2037.61804244241069%5D%2C%20%5B127.07351243825278%2C%2037.61283660342313%5D%2C%20%5B127.05209373568619%2C%2037.62164065487782%5D%2C%20%5B127.04358800895609%2C%2037.62848931298715%5D%2C%20%5B127.05800075220091%2C%2037.64318263878276%5D%2C%20%5B127.05288479710485%2C%2037.68423857084347%5D%2C%20%5B127.0838752703195%2C%2037.69359534202034%5D%5D%5D%2C%20%22type%22%3A%20%22Polygon%22%7D%2C%20%22id%22%3A%20%22%5Cub178%5Cuc6d0%5Cuad6c%22%2C%20%22properties%22%3A%20%7B%22base_year%22%3A%20%222013%22%2C%20%22code%22%3A%20%2211110%22%2C%20%22name%22%3A%20%22%5Cub178%5Cuc6d0%5Cuad6c%22%2C%20%22name_eng%22%3A%20%22Nowon-gu%22%7D%2C%20%22type%22%3A%20%22Feature%22%7D%2C%20%7B%22geometry%22%3A%20%7B%22coordinates%22%3A%20%5B%5B%5B127.05288479710485%2C%2037.68423857084347%5D%2C%20%5B127.05800075220091%2C%2037.64318263878276%5D%2C%20%5B127.04358800895609%2C%2037.62848931298715%5D%2C%20%5B127.01465935892466%2C%2037.64943687496812%5D%2C%20%5B127.02062116141389%2C%2037.667173575971205%5D%2C%20%5B127.01039666042071%2C%2037.681894589603594%5D%2C%20%5B127.01795099203432%2C%2037.69824412775662%5D%2C%20%5B127.05288479710485%2C%2037.68423857084347%5D%5D%5D%2C%20%22type%22%3A%20%22Polygon%22%7D%2C%20%22id%22%3A%20%22%5Cub3c4%5Cubd09%5Cuad6c%22%2C%20%22properties%22%3A%20%7B%22base_year%22%3A%20%222013%22%2C%20%22code%22%3A%20%2211100%22%2C%20%22name%22%3A%20%22%5Cub3c4%5Cubd09%5Cuad6c%22%2C%20%22name_eng%22%3A%20%22Dobong-gu%22%7D%2C%20%22type%22%3A%20%22Feature%22%7D%2C%20%7B%22geometry%22%3A%20%7B%22coordinates%22%3A%20%5B%5B%5B126.99383903424%2C%2037.676681761199085%5D%2C%20%5B127.01039666042071%2C%2037.681894589603594%5D%2C%20%5B127.02062116141389%2C%2037.667173575971205%5D%2C%20%5B127.01465935892466%2C%2037.64943687496812%5D%2C%20%5B127.04358800895609%2C%2037.62848931298715%5D%2C%20%5B127.05209373568619%2C%2037.62164065487782%5D%2C%20%5B127.03892400992301%2C%2037.609715611023816%5D%2C%20%5B127.0128154749523%2C%2037.613652243470256%5D%2C%20%5B126.98672705513869%2C%2037.63377641288196%5D%2C%20%5B126.9817452676551%2C%2037.65209769387776%5D%2C%20%5B126.99383903424%2C%2037.676681761199085%5D%5D%5D%2C%20%22type%22%3A%20%22Polygon%22%7D%2C%20%22id%22%3A%20%22%5Cuac15%5Cubd81%5Cuad6c%22%2C%20%22properties%22%3A%20%7B%22base_year%22%3A%20%222013%22%2C%20%22code%22%3A%20%2211090%22%2C%20%22name%22%3A%20%22%5Cuac15%5Cubd81%5Cuad6c%22%2C%20%22name_eng%22%3A%20%22Gangbuk-gu%22%7D%2C%20%22type%22%3A%20%22Feature%22%7D%2C%20%7B%22geometry%22%3A%20%7B%22coordinates%22%3A%20%5B%5B%5B126.977175406416%2C%2037.62859715400388%5D%2C%20%5B126.98672705513869%2C%2037.63377641288196%5D%2C%20%5B127.0128154749523%2C%2037.613652243470256%5D%2C%20%5B127.03892400992301%2C%2037.609715611023816%5D%2C%20%5B127.05209373568619%2C%2037.62164065487782%5D%2C%20%5B127.07351243825278%2C%2037.61283660342313%5D%2C%20%5B127.07382707099227%2C%2037.60401928986419%5D%2C%20%5B127.042705222094%2C%2037.59239437593391%5D%2C%20%5B127.02527254528003%2C%2037.57524616245249%5D%2C%20%5B126.99348293358314%2C%2037.588565457216156%5D%2C%20%5B126.98879865992384%2C%2037.6118927319756%5D%2C%20%5B126.977175406416%2C%2037.62859715400388%5D%5D%5D%2C%20%22type%22%3A%20%22Polygon%22%7D%2C%20%22id%22%3A%20%22%5Cuc131%5Cubd81%5Cuad6c%22%2C%20%22properties%22%3A%20%7B%22base_year%22%3A%20%222013%22%2C%20%22code%22%3A%20%2211080%22%2C%20%22name%22%3A%20%22%5Cuc131%5Cubd81%5Cuad6c%22%2C%20%22name_eng%22%3A%20%22Seongbuk-gu%22%7D%2C%20%22type%22%3A%20%22Feature%22%7D%2C%20%7B%22geometry%22%3A%20%7B%22coordinates%22%3A%20%5B%5B%5B127.07351243825278%2C%2037.61283660342313%5D%2C%20%5B127.10782277688129%2C%2037.61804244241069%5D%2C%20%5B127.1201246020114%2C%2037.60178457598188%5D%2C%20%5B127.10304174249214%2C%2037.57076342290955%5D%2C%20%5B127.08068541280403%2C%2037.56906425519017%5D%2C%20%5B127.07382707099227%2C%2037.60401928986419%5D%2C%20%5B127.07351243825278%2C%2037.61283660342313%5D%5D%5D%2C%20%22type%22%3A%20%22Polygon%22%7D%2C%20%22id%22%3A%20%22%5Cuc911%5Cub791%5Cuad6c%22%2C%20%22properties%22%3A%20%7B%22base_year%22%3A%20%222013%22%2C%20%22code%22%3A%20%2211070%22%2C%20%22name%22%3A%20%22%5Cuc911%5Cub791%5Cuad6c%22%2C%20%22name_eng%22%3A%20%22Jungnang-gu%22%7D%2C%20%22type%22%3A%20%22Feature%22%7D%2C%20%7B%22geometry%22%3A%20%7B%22coordinates%22%3A%20%5B%5B%5B127.02527254528003%2C%2037.57524616245249%5D%2C%20%5B127.042705222094%2C%2037.59239437593391%5D%2C%20%5B127.07382707099227%2C%2037.60401928986419%5D%2C%20%5B127.08068541280403%2C%2037.56906425519017%5D%2C%20%5B127.07421053024362%2C%2037.55724769712085%5D%2C%20%5B127.05005601081567%2C%2037.567577612590846%5D%2C%20%5B127.02547266349976%2C%2037.568943552237734%5D%2C%20%5B127.02527254528003%2C%2037.57524616245249%5D%5D%5D%2C%20%22type%22%3A%20%22Polygon%22%7D%2C%20%22id%22%3A%20%22%5Cub3d9%5Cub300%5Cubb38%5Cuad6c%22%2C%20%22properties%22%3A%20%7B%22base_year%22%3A%20%222013%22%2C%20%22code%22%3A%20%2211060%22%2C%20%22name%22%3A%20%22%5Cub3d9%5Cub300%5Cubb38%5Cuad6c%22%2C%20%22name_eng%22%3A%20%22Dongdaemun-gu%22%7D%2C%20%22type%22%3A%20%22Feature%22%7D%2C%20%7B%22geometry%22%3A%20%7B%22coordinates%22%3A%20%5B%5B%5B127.08068541280403%2C%2037.56906425519017%5D%2C%20%5B127.10304174249214%2C%2037.57076342290955%5D%2C%20%5B127.11519584981606%2C%2037.557533180704915%5D%2C%20%5B127.1116764203608%2C%2037.540669955324965%5D%2C%20%5B127.10087519791962%2C%2037.524841220167055%5D%2C%20%5B127.0690698130372%2C%2037.522279423505026%5D%2C%20%5B127.05867359288398%2C%2037.52629974922568%5D%2C%20%5B127.07421053024362%2C%2037.55724769712085%5D%2C%20%5B127.08068541280403%2C%2037.56906425519017%5D%5D%5D%2C%20%22type%22%3A%20%22Polygon%22%7D%2C%20%22id%22%3A%20%22%5Cuad11%5Cuc9c4%5Cuad6c%22%2C%20%22properties%22%3A%20%7B%22base_year%22%3A%20%222013%22%2C%20%22code%22%3A%20%2211050%22%2C%20%22name%22%3A%20%22%5Cuad11%5Cuc9c4%5Cuad6c%22%2C%20%22name_eng%22%3A%20%22Gwangjin-gu%22%7D%2C%20%22type%22%3A%20%22Feature%22%7D%2C%20%7B%22geometry%22%3A%20%7B%22coordinates%22%3A%20%5B%5B%5B127.02547266349976%2C%2037.568943552237734%5D%2C%20%5B127.05005601081567%2C%2037.567577612590846%5D%2C%20%5B127.07421053024362%2C%2037.55724769712085%5D%2C%20%5B127.05867359288398%2C%2037.52629974922568%5D%2C%20%5B127.02302831890559%2C%2037.53231899582663%5D%2C%20%5B127.01070894177482%2C%2037.54118048964762%5D%2C%20%5B127.02547266349976%2C%2037.568943552237734%5D%5D%5D%2C%20%22type%22%3A%20%22Polygon%22%7D%2C%20%22id%22%3A%20%22%5Cuc131%5Cub3d9%5Cuad6c%22%2C%20%22properties%22%3A%20%7B%22base_year%22%3A%20%222013%22%2C%20%22code%22%3A%20%2211040%22%2C%20%22name%22%3A%20%22%5Cuc131%5Cub3d9%5Cuad6c%22%2C%20%22name_eng%22%3A%20%22Seongdong-gu%22%7D%2C%20%22type%22%3A%20%22Feature%22%7D%2C%20%7B%22geometry%22%3A%20%7B%22coordinates%22%3A%20%5B%5B%5B127.01070894177482%2C%2037.54118048964762%5D%2C%20%5B127.02302831890559%2C%2037.53231899582663%5D%2C%20%5B127.01397119667513%2C%2037.52503988289669%5D%2C%20%5B126.98223807916081%2C%2037.509314966770326%5D%2C%20%5B126.95249990298159%2C%2037.51722500741813%5D%2C%20%5B126.94566733083212%2C%2037.526617542453366%5D%2C%20%5B126.96448570553055%2C%2037.548705692021635%5D%2C%20%5B126.98752996903328%2C%2037.55094818807139%5D%2C%20%5B127.01070894177482%2C%2037.54118048964762%5D%5D%5D%2C%20%22type%22%3A%20%22Polygon%22%7D%2C%20%22id%22%3A%20%22%5Cuc6a9%5Cuc0b0%5Cuad6c%22%2C%20%22properties%22%3A%20%7B%22base_year%22%3A%20%222013%22%2C%20%22code%22%3A%20%2211030%22%2C%20%22name%22%3A%20%22%5Cuc6a9%5Cuc0b0%5Cuad6c%22%2C%20%22name_eng%22%3A%20%22Yongsan-gu%22%7D%2C%20%22type%22%3A%20%22Feature%22%7D%2C%20%7B%22geometry%22%3A%20%7B%22coordinates%22%3A%20%5B%5B%5B127.02547266349976%2C%2037.568943552237734%5D%2C%20%5B127.01070894177482%2C%2037.54118048964762%5D%2C%20%5B126.98752996903328%2C%2037.55094818807139%5D%2C%20%5B126.96448570553055%2C%2037.548705692021635%5D%2C%20%5B126.96358226710812%2C%2037.55605635475154%5D%2C%20%5B126.96873633279075%2C%2037.56313604690827%5D%2C%20%5B127.02547266349976%2C%2037.568943552237734%5D%5D%5D%2C%20%22type%22%3A%20%22Polygon%22%7D%2C%20%22id%22%3A%20%22%5Cuc911%5Cuad6c%22%2C%20%22properties%22%3A%20%7B%22base_year%22%3A%20%222013%22%2C%20%22code%22%3A%20%2211020%22%2C%20%22name%22%3A%20%22%5Cuc911%5Cuad6c%22%2C%20%22name_eng%22%3A%20%22Jung-gu%22%7D%2C%20%22type%22%3A%20%22Feature%22%7D%2C%20%7B%22geometry%22%3A%20%7B%22coordinates%22%3A%20%5B%5B%5B126.9738864128702%2C%2037.62949634786888%5D%2C%20%5B126.977175406416%2C%2037.62859715400388%5D%2C%20%5B126.98879865992384%2C%2037.6118927319756%5D%2C%20%5B126.99348293358314%2C%2037.588565457216156%5D%2C%20%5B127.02527254528003%2C%2037.57524616245249%5D%2C%20%5B127.02547266349976%2C%2037.568943552237734%5D%2C%20%5B126.96873633279075%2C%2037.56313604690827%5D%2C%20%5B126.95565425846463%2C%2037.576080790881456%5D%2C%20%5B126.9524752030572%2C%2037.60508692737045%5D%2C%20%5B126.95427017006129%2C%2037.622033431339425%5D%2C%20%5B126.9738864128702%2C%2037.62949634786888%5D%5D%5D%2C%20%22type%22%3A%20%22Polygon%22%7D%2C%20%22id%22%3A%20%22%5Cuc885%5Cub85c%5Cuad6c%22%2C%20%22properties%22%3A%20%7B%22base_year%22%3A%20%222013%22%2C%20%22code%22%3A%20%2211010%22%2C%20%22name%22%3A%20%22%5Cuc885%5Cub85c%5Cuad6c%22%2C%20%22name_eng%22%3A%20%22Jongno-gu%22%7D%2C%20%22type%22%3A%20%22Feature%22%7D%5D%2C%20%22type%22%3A%20%22FeatureCollection%22%7D%29%3B%0A%0A%20%20%20%20%20%20%20%20%0A%20%20%20%20%0A%20%20%20%20var%20color_map_76bab77d093a4d5eb64d431d6319f6c9%20%3D%20%7B%7D%3B%0A%0A%20%20%20%20%0A%20%20%20%20color_map_76bab77d093a4d5eb64d431d6319f6c9.color%20%3D%20d3.scale.threshold%28%29%0A%20%20%20%20%20%20%20%20%20%20%20%20%20%20.domain%28%5B1639.076923076923%2C%201640.052119623863%2C%201641.0273161708033%2C%201642.0025127177432%2C%201642.9777092646832%2C%201643.9529058116232%2C%201644.9281023585634%2C%201645.9032989055033%2C%201646.8784954524433%2C%201647.8536919993835%2C%201648.8288885463235%2C%201649.8040850932634%2C%201650.7792816402034%2C%201651.7544781871436%2C%201652.7296747340836%2C%201653.7048712810235%2C%201654.6800678279637%2C%201655.6552643749037%2C%201656.6304609218437%2C%201657.6056574687836%2C%201658.5808540157238%2C%201659.5560505626638%2C%201660.5312471096038%2C%201661.506443656544%2C%201662.481640203484%2C%201663.456836750424%2C%201664.432033297364%2C%201665.407229844304%2C%201666.382426391244%2C%201667.357622938184%2C%201668.332819485124%2C%201669.3080160320642%2C%201670.2832125790042%2C%201671.2584091259441%2C%201672.2336056728843%2C%201673.2088022198243%2C%201674.1839987667643%2C%201675.1591953137042%2C%201676.1343918606444%2C%201677.1095884075844%2C%201678.0847849545244%2C%201679.0599815014646%2C%201680.0351780484045%2C%201681.0103745953445%2C%201681.9855711422845%2C%201682.9607676892247%2C%201683.9359642361646%2C%201684.9111607831046%2C%201685.8863573300448%2C%201686.8615538769848%2C%201687.8367504239247%2C%201688.8119469708647%2C%201689.787143517805%2C%201690.7623400647449%2C%201691.7375366116848%2C%201692.712733158625%2C%201693.687929705565%2C%201694.663126252505%2C%201695.638322799445%2C%201696.6135193463851%2C%201697.5887158933251%2C%201698.563912440265%2C%201699.539108987205%2C%201700.5143055341453%2C%201701.4895020810852%2C%201702.4646986280252%2C%201703.4398951749654%2C%201704.4150917219054%2C%201705.3902882688453%2C%201706.3654848157853%2C%201707.3406813627255%2C%201708.3158779096655%2C%201709.2910744566054%2C%201710.2662710035456%2C%201711.2414675504856%2C%201712.2166640974256%2C%201713.1918606443655%2C%201714.1670571913057%2C%201715.1422537382457%2C%201716.1174502851857%2C%201717.0926468321259%2C%201718.0678433790658%2C%201719.0430399260058%2C%201720.0182364729458%2C%201720.993433019886%2C%201721.968629566826%2C%201722.943826113766%2C%201723.919022660706%2C%201724.894219207646%2C%201725.869415754586%2C%201726.844612301526%2C%201727.8198088484662%2C%201728.7950053954062%2C%201729.7702019423461%2C%201730.7453984892863%2C%201731.7205950362263%2C%201732.6957915831663%2C%201733.6709881301063%2C%201734.6461846770464%2C%201735.6213812239864%2C%201736.5965777709264%2C%201737.5717743178666%2C%201738.5469708648066%2C%201739.5221674117465%2C%201740.4973639586865%2C%201741.4725605056267%2C%201742.4477570525667%2C%201743.4229535995066%2C%201744.3981501464468%2C%201745.3733466933868%2C%201746.3485432403268%2C%201747.3237397872667%2C%201748.298936334207%2C%201749.274132881147%2C%201750.2493294280869%2C%201751.224525975027%2C%201752.199722521967%2C%201753.174919068907%2C%201754.150115615847%2C%201755.1253121627872%2C%201756.1005087097271%2C%201757.075705256667%2C%201758.0509018036073%2C%201759.0260983505473%2C%201760.0012948974872%2C%201760.9764914444272%2C%201761.9516879913674%2C%201762.9268845383074%2C%201763.9020810852473%2C%201764.8772776321873%2C%201765.8524741791275%2C%201766.8276707260675%2C%201767.8028672730075%2C%201768.7780638199476%2C%201769.7532603668876%2C%201770.7284569138276%2C%201771.7036534607678%2C%201772.6788500077078%2C%201773.6540465546477%2C%201774.6292431015877%2C%201775.6044396485277%2C%201776.5796361954679%2C%201777.5548327424078%2C%201778.530029289348%2C%201779.505225836288%2C%201780.480422383228%2C%201781.455618930168%2C%201782.430815477108%2C%201783.406012024048%2C%201784.381208570988%2C%201785.356405117928%2C%201786.3316016648682%2C%201787.3067982118082%2C%201788.2819947587482%2C%201789.2571913056881%2C%201790.2323878526283%2C%201791.2075843995683%2C%201792.1827809465083%2C%201793.1579774934485%2C%201794.1331740403884%2C%201795.1083705873284%2C%201796.0835671342684%2C%201797.0587636812086%2C%201798.0339602281485%2C%201799.0091567750885%2C%201799.9843533220287%2C%201800.9595498689687%2C%201801.9347464159086%2C%201802.9099429628486%2C%201803.8851395097888%2C%201804.8603360567288%2C%201805.8355326036688%2C%201806.810729150609%2C%201807.785925697549%2C%201808.761122244489%2C%201809.7363187914289%2C%201810.711515338369%2C%201811.686711885309%2C%201812.661908432249%2C%201813.6371049791892%2C%201814.6123015261292%2C%201815.5874980730691%2C%201816.562694620009%2C%201817.5378911669493%2C%201818.5130877138893%2C%201819.4882842608292%2C%201820.4634808077694%2C%201821.4386773547094%2C%201822.4138739016494%2C%201823.3890704485893%2C%201824.3642669955295%2C%201825.3394635424695%2C%201826.3146600894095%2C%201827.2898566363497%2C%201828.2650531832896%2C%201829.2402497302296%2C%201830.2154462771696%2C%201831.1906428241098%2C%201832.1658393710497%2C%201833.1410359179897%2C%201834.11623246493%2C%201835.0914290118699%2C%201836.0666255588098%2C%201837.0418221057498%2C%201838.01701865269%2C%201838.99221519963%2C%201839.96741174657%2C%201840.9426082935101%2C%201841.9178048404501%2C%201842.89300138739%2C%201843.86819793433%2C%201844.8433944812703%2C%201845.8185910282102%2C%201846.7937875751502%2C%201847.7689841220902%2C%201848.7441806690304%2C%201849.7193772159703%2C%201850.6945737629103%2C%201851.6697703098505%2C%201852.6449668567905%2C%201853.6201634037304%2C%201854.5953599506704%2C%201855.5705564976106%2C%201856.5457530445506%2C%201857.5209495914905%2C%201858.4961461384307%2C%201859.4713426853707%2C%201860.4465392323107%2C%201861.4217357792506%2C%201862.3969323261908%2C%201863.3721288731308%2C%201864.3473254200708%2C%201865.3225219670107%2C%201866.297718513951%2C%201867.272915060891%2C%201868.248111607831%2C%201869.223308154771%2C%201870.198504701711%2C%201871.173701248651%2C%201872.148897795591%2C%201873.1240943425312%2C%201874.0992908894711%2C%201875.0744874364111%2C%201876.0496839833513%2C%201877.0248805302913%2C%201878.0000770772313%2C%201878.9752736241712%2C%201879.9504701711114%2C%201880.9256667180514%2C%201881.9008632649914%2C%201882.8760598119316%2C%201883.8512563588715%2C%201884.8264529058115%2C%201885.8016494527515%2C%201886.7768459996917%2C%201887.7520425466316%2C%201888.7272390935716%2C%201889.7024356405118%2C%201890.6776321874518%2C%201891.6528287343917%2C%201892.6280252813317%2C%201893.603221828272%2C%201894.5784183752119%2C%201895.5536149221518%2C%201896.528811469092%2C%201897.504008016032%2C%201898.479204562972%2C%201899.454401109912%2C%201900.4295976568521%2C%201901.404794203792%2C%201902.379990750732%2C%201903.3551872976723%2C%201904.3303838446122%2C%201905.3055803915522%2C%201906.2807769384922%2C%201907.2559734854324%2C%201908.2311700323723%2C%201909.2063665793123%2C%201910.1815631262525%2C%201911.1567596731925%2C%201912.1319562201325%2C%201913.1071527670724%2C%201914.0823493140124%2C%201915.0575458609526%2C%201916.0327424078926%2C%201917.0079389548328%2C%201917.9831355017727%2C%201918.9583320487127%2C%201919.9335285956527%2C%201920.9087251425929%2C%201921.8839216895328%2C%201922.8591182364728%2C%201923.834314783413%2C%201924.809511330353%2C%201925.784707877293%2C%201926.759904424233%2C%201927.7351009711729%2C%201928.710297518113%2C%201929.685494065053%2C%201930.6606906119932%2C%201931.6358871589332%2C%201932.6110837058732%2C%201933.5862802528131%2C%201934.5614767997533%2C%201935.5366733466933%2C%201936.5118698936333%2C%201937.4870664405735%2C%201938.4622629875134%2C%201939.4374595344534%2C%201940.4126560813934%2C%201941.3878526283333%2C%201942.3630491752735%2C%201943.3382457222135%2C%201944.3134422691537%2C%201945.2886388160937%2C%201946.2638353630336%2C%201947.2390319099736%2C%201948.2142284569136%2C%201949.1894250038538%2C%201950.1646215507938%2C%201951.139818097734%2C%201952.115014644674%2C%201953.090211191614%2C%201954.0654077385539%2C%201955.0406042854938%2C%201956.015800832434%2C%201956.990997379374%2C%201957.9661939263142%2C%201958.9413904732542%2C%201959.9165870201941%2C%201960.891783567134%2C%201961.866980114074%2C%201962.8421766610143%2C%201963.8173732079542%2C%201964.7925697548942%2C%201965.7677663018344%2C%201966.7429628487744%2C%201967.7181593957143%2C%201968.6933559426543%2C%201969.6685524895945%2C%201970.6437490365345%2C%201971.6189455834747%2C%201972.5941421304146%2C%201973.5693386773546%2C%201974.5445352242946%2C%201975.5197317712345%2C%201976.4949283181747%2C%201977.4701248651147%2C%201978.4453214120547%2C%201979.4205179589949%2C%201980.3957145059348%2C%201981.3709110528748%2C%201982.3461075998148%2C%201983.321304146755%2C%201984.296500693695%2C%201985.271697240635%2C%201986.2468937875751%2C%201987.222090334515%2C%201988.197286881455%2C%201989.172483428395%2C%201990.1476799753352%2C%201991.1228765222752%2C%201992.0980730692152%2C%201993.0732696161554%2C%201994.0484661630953%2C%201995.0236627100353%2C%201995.9988592569753%2C%201996.9740558039155%2C%201997.9492523508554%2C%201998.9244488977954%2C%201999.8996454447356%2C%202000.8748419916756%2C%202001.8500385386155%2C%202002.8252350855555%2C%202003.8004316324955%2C%202004.7756281794357%2C%202005.7508247263756%2C%202006.7260212733158%2C%202007.7012178202558%2C%202008.6764143671958%2C%202009.6516109141357%2C%202010.626807461076%2C%202011.602004008016%2C%202012.5772005549559%2C%202013.552397101896%2C%202014.527593648836%2C%202015.502790195776%2C%202016.477986742716%2C%202017.453183289656%2C%202018.4283798365962%2C%202019.4035763835361%2C%202020.3787729304763%2C%202021.3539694774163%2C%202022.3291660243563%2C%202023.3043625712962%2C%202024.2795591182364%2C%202025.2547556651764%2C%202026.2299522121164%2C%202027.2051487590566%2C%202028.1803453059965%2C%202029.1555418529365%2C%202030.1307383998765%2C%202031.1059349468164%2C%202032.0811314937566%2C%202033.0563280406966%2C%202034.0315245876368%2C%202035.0067211345768%2C%202035.9819176815167%2C%202036.9571142284567%2C%202037.9323107753967%2C%202038.9075073223369%2C%202039.8827038692768%2C%202040.857900416217%2C%202041.833096963157%2C%202042.808293510097%2C%202043.783490057037%2C%202044.758686603977%2C%202045.733883150917%2C%202046.709079697857%2C%202047.6842762447973%2C%202048.6594727917372%2C%202049.634669338677%2C%202050.609865885617%2C%202051.585062432557%2C%202052.560258979497%2C%202053.5354555264375%2C%202054.5106520733775%2C%202055.4858486203175%2C%202056.4610451672575%2C%202057.4362417141974%2C%202058.4114382611374%2C%202059.3866348080774%2C%202060.361831355018%2C%202061.3370279019578%2C%202062.3122244488977%2C%202063.2874209958377%2C%202064.2626175427777%2C%202065.2378140897176%2C%202066.2130106366576%2C%202067.188207183598%2C%202068.163403730538%2C%202069.138600277478%2C%202070.113796824418%2C%202071.088993371358%2C%202072.064189918298%2C%202073.039386465238%2C%202074.0145830121783%2C%202074.9897795591182%2C%202075.964976106058%2C%202076.940172652998%2C%202077.915369199938%2C%202078.890565746878%2C%202079.865762293818%2C%202080.8409588407585%2C%202081.8161553876985%2C%202082.7913519346384%2C%202083.7665484815784%2C%202084.7417450285184%2C%202085.7169415754583%2C%202086.6921381223983%2C%202087.6673346693387%2C%202088.6425312162787%2C%202089.6177277632187%2C%202090.5929243101587%2C%202091.5681208570986%2C%202092.5433174040386%2C%202093.5185139509786%2C%202094.493710497919%2C%202095.468907044859%2C%202096.444103591799%2C%202097.419300138739%2C%202098.394496685679%2C%202099.369693232619%2C%202100.344889779559%2C%202101.320086326499%2C%202102.295282873439%2C%202103.270479420379%2C%202104.245675967319%2C%202105.220872514259%2C%202106.196069061199%2C%202107.171265608139%2C%202108.146462155079%2C%202109.121658702019%2C%202110.0968552489594%2C%202111.0720517958994%2C%202112.0472483428393%2C%202113.0224448897793%2C%202113.9976414367193%2C%202114.9728379836597%2C%202115.9480345305997%2C%202116.9232310775396%2C%202117.8984276244796%2C%202118.8736241714196%2C%202119.8488207183595%2C%202120.8240172652995%2C%202121.7992138122395%2C%202122.7744103591795%2C%202123.74960690612%2C%202124.72480345306%2C%202125.7%5D%29%0A%20%20%20%20%20%20%20%20%20%20%20%20%20%20.range%28%5B%27%23f1eef6ff%27%2C%20%27%23f1eef6ff%27%2C%20%27%23f1eef6ff%27%2C%20%27%23f1eef6ff%27%2C%20%27%23f1eef6ff%27%2C%20%27%23f1eef6ff%27%2C%20%27%23f1eef6ff%27%2C%20%27%23f1eef6ff%27%2C%20%27%23f1eef6ff%27%2C%20%27%23f1eef6ff%27%2C%20%27%23f1eef6ff%27%2C%20%27%23f1eef6ff%27%2C%20%27%23f1eef6ff%27%2C%20%27%23f1eef6ff%27%2C%20%27%23f1eef6ff%27%2C%20%27%23f1eef6ff%27%2C%20%27%23f1eef6ff%27%2C%20%27%23f1eef6ff%27%2C%20%27%23f1eef6ff%27%2C%20%27%23f1eef6ff%27%2C%20%27%23f1eef6ff%27%2C%20%27%23f1eef6ff%27%2C%20%27%23f1eef6ff%27%2C%20%27%23f1eef6ff%27%2C%20%27%23f1eef6ff%27%2C%20%27%23f1eef6ff%27%2C%20%27%23f1eef6ff%27%2C%20%27%23f1eef6ff%27%2C%20%27%23f1eef6ff%27%2C%20%27%23f1eef6ff%27%2C%20%27%23f1eef6ff%27%2C%20%27%23f1eef6ff%27%2C%20%27%23f1eef6ff%27%2C%20%27%23f1eef6ff%27%2C%20%27%23f1eef6ff%27%2C%20%27%23f1eef6ff%27%2C%20%27%23f1eef6ff%27%2C%20%27%23f1eef6ff%27%2C%20%27%23f1eef6ff%27%2C%20%27%23f1eef6ff%27%2C%20%27%23f1eef6ff%27%2C%20%27%23f1eef6ff%27%2C%20%27%23f1eef6ff%27%2C%20%27%23f1eef6ff%27%2C%20%27%23f1eef6ff%27%2C%20%27%23f1eef6ff%27%2C%20%27%23f1eef6ff%27%2C%20%27%23f1eef6ff%27%2C%20%27%23f1eef6ff%27%2C%20%27%23f1eef6ff%27%2C%20%27%23f1eef6ff%27%2C%20%27%23f1eef6ff%27%2C%20%27%23f1eef6ff%27%2C%20%27%23f1eef6ff%27%2C%20%27%23f1eef6ff%27%2C%20%27%23f1eef6ff%27%2C%20%27%23f1eef6ff%27%2C%20%27%23f1eef6ff%27%2C%20%27%23f1eef6ff%27%2C%20%27%23f1eef6ff%27%2C%20%27%23f1eef6ff%27%2C%20%27%23f1eef6ff%27%2C%20%27%23f1eef6ff%27%2C%20%27%23f1eef6ff%27%2C%20%27%23f1eef6ff%27%2C%20%27%23f1eef6ff%27%2C%20%27%23f1eef6ff%27%2C%20%27%23f1eef6ff%27%2C%20%27%23f1eef6ff%27%2C%20%27%23f1eef6ff%27%2C%20%27%23f1eef6ff%27%2C%20%27%23f1eef6ff%27%2C%20%27%23f1eef6ff%27%2C%20%27%23f1eef6ff%27%2C%20%27%23f1eef6ff%27%2C%20%27%23f1eef6ff%27%2C%20%27%23f1eef6ff%27%2C%20%27%23f1eef6ff%27%2C%20%27%23f1eef6ff%27%2C%20%27%23f1eef6ff%27%2C%20%27%23f1eef6ff%27%2C%20%27%23f1eef6ff%27%2C%20%27%23f1eef6ff%27%2C%20%27%23f1eef6ff%27%2C%20%27%23d4b9daff%27%2C%20%27%23d4b9daff%27%2C%20%27%23d4b9daff%27%2C%20%27%23d4b9daff%27%2C%20%27%23d4b9daff%27%2C%20%27%23d4b9daff%27%2C%20%27%23d4b9daff%27%2C%20%27%23d4b9daff%27%2C%20%27%23d4b9daff%27%2C%20%27%23d4b9daff%27%2C%20%27%23d4b9daff%27%2C%20%27%23d4b9daff%27%2C%20%27%23d4b9daff%27%2C%20%27%23d4b9daff%27%2C%20%27%23d4b9daff%27%2C%20%27%23d4b9daff%27%2C%20%27%23d4b9daff%27%2C%20%27%23d4b9daff%27%2C%20%27%23d4b9daff%27%2C%20%27%23d4b9daff%27%2C%20%27%23d4b9daff%27%2C%20%27%23d4b9daff%27%2C%20%27%23d4b9daff%27%2C%20%27%23d4b9daff%27%2C%20%27%23d4b9daff%27%2C%20%27%23d4b9daff%27%2C%20%27%23d4b9daff%27%2C%20%27%23d4b9daff%27%2C%20%27%23d4b9daff%27%2C%20%27%23d4b9daff%27%2C%20%27%23d4b9daff%27%2C%20%27%23d4b9daff%27%2C%20%27%23d4b9daff%27%2C%20%27%23d4b9daff%27%2C%20%27%23d4b9daff%27%2C%20%27%23d4b9daff%27%2C%20%27%23d4b9daff%27%2C%20%27%23d4b9daff%27%2C%20%27%23d4b9daff%27%2C%20%27%23d4b9daff%27%2C%20%27%23d4b9daff%27%2C%20%27%23d4b9daff%27%2C%20%27%23d4b9daff%27%2C%20%27%23d4b9daff%27%2C%20%27%23d4b9daff%27%2C%20%27%23d4b9daff%27%2C%20%27%23d4b9daff%27%2C%20%27%23d4b9daff%27%2C%20%27%23d4b9daff%27%2C%20%27%23d4b9daff%27%2C%20%27%23d4b9daff%27%2C%20%27%23d4b9daff%27%2C%20%27%23d4b9daff%27%2C%20%27%23d4b9daff%27%2C%20%27%23d4b9daff%27%2C%20%27%23d4b9daff%27%2C%20%27%23d4b9daff%27%2C%20%27%23d4b9daff%27%2C%20%27%23d4b9daff%27%2C%20%27%23d4b9daff%27%2C%20%27%23d4b9daff%27%2C%20%27%23d4b9daff%27%2C%20%27%23d4b9daff%27%2C%20%27%23d4b9daff%27%2C%20%27%23d4b9daff%27%2C%20%27%23d4b9daff%27%2C%20%27%23d4b9daff%27%2C%20%27%23d4b9daff%27%2C%20%27%23d4b9daff%27%2C%20%27%23d4b9daff%27%2C%20%27%23d4b9daff%27%2C%20%27%23d4b9daff%27%2C%20%27%23d4b9daff%27%2C%20%27%23d4b9daff%27%2C%20%27%23d4b9daff%27%2C%20%27%23d4b9daff%27%2C%20%27%23d4b9daff%27%2C%20%27%23d4b9daff%27%2C%20%27%23d4b9daff%27%2C%20%27%23d4b9daff%27%2C%20%27%23d4b9daff%27%2C%20%27%23d4b9daff%27%2C%20%27%23d4b9daff%27%2C%20%27%23c994c7ff%27%2C%20%27%23c994c7ff%27%2C%20%27%23c994c7ff%27%2C%20%27%23c994c7ff%27%2C%20%27%23c994c7ff%27%2C%20%27%23c994c7ff%27%2C%20%27%23c994c7ff%27%2C%20%27%23c994c7ff%27%2C%20%27%23c994c7ff%27%2C%20%27%23c994c7ff%27%2C%20%27%23c994c7ff%27%2C%20%27%23c994c7ff%27%2C%20%27%23c994c7ff%27%2C%20%27%23c994c7ff%27%2C%20%27%23c994c7ff%27%2C%20%27%23c994c7ff%27%2C%20%27%23c994c7ff%27%2C%20%27%23c994c7ff%27%2C%20%27%23c994c7ff%27%2C%20%27%23c994c7ff%27%2C%20%27%23c994c7ff%27%2C%20%27%23c994c7ff%27%2C%20%27%23c994c7ff%27%2C%20%27%23c994c7ff%27%2C%20%27%23c994c7ff%27%2C%20%27%23c994c7ff%27%2C%20%27%23c994c7ff%27%2C%20%27%23c994c7ff%27%2C%20%27%23c994c7ff%27%2C%20%27%23c994c7ff%27%2C%20%27%23c994c7ff%27%2C%20%27%23c994c7ff%27%2C%20%27%23c994c7ff%27%2C%20%27%23c994c7ff%27%2C%20%27%23c994c7ff%27%2C%20%27%23c994c7ff%27%2C%20%27%23c994c7ff%27%2C%20%27%23c994c7ff%27%2C%20%27%23c994c7ff%27%2C%20%27%23c994c7ff%27%2C%20%27%23c994c7ff%27%2C%20%27%23c994c7ff%27%2C%20%27%23c994c7ff%27%2C%20%27%23c994c7ff%27%2C%20%27%23c994c7ff%27%2C%20%27%23c994c7ff%27%2C%20%27%23c994c7ff%27%2C%20%27%23c994c7ff%27%2C%20%27%23c994c7ff%27%2C%20%27%23c994c7ff%27%2C%20%27%23c994c7ff%27%2C%20%27%23c994c7ff%27%2C%20%27%23c994c7ff%27%2C%20%27%23c994c7ff%27%2C%20%27%23c994c7ff%27%2C%20%27%23c994c7ff%27%2C%20%27%23c994c7ff%27%2C%20%27%23c994c7ff%27%2C%20%27%23c994c7ff%27%2C%20%27%23c994c7ff%27%2C%20%27%23c994c7ff%27%2C%20%27%23c994c7ff%27%2C%20%27%23c994c7ff%27%2C%20%27%23c994c7ff%27%2C%20%27%23c994c7ff%27%2C%20%27%23c994c7ff%27%2C%20%27%23c994c7ff%27%2C%20%27%23c994c7ff%27%2C%20%27%23c994c7ff%27%2C%20%27%23c994c7ff%27%2C%20%27%23c994c7ff%27%2C%20%27%23c994c7ff%27%2C%20%27%23c994c7ff%27%2C%20%27%23c994c7ff%27%2C%20%27%23c994c7ff%27%2C%20%27%23c994c7ff%27%2C%20%27%23c994c7ff%27%2C%20%27%23c994c7ff%27%2C%20%27%23c994c7ff%27%2C%20%27%23c994c7ff%27%2C%20%27%23c994c7ff%27%2C%20%27%23c994c7ff%27%2C%20%27%23c994c7ff%27%2C%20%27%23df65b0ff%27%2C%20%27%23df65b0ff%27%2C%20%27%23df65b0ff%27%2C%20%27%23df65b0ff%27%2C%20%27%23df65b0ff%27%2C%20%27%23df65b0ff%27%2C%20%27%23df65b0ff%27%2C%20%27%23df65b0ff%27%2C%20%27%23df65b0ff%27%2C%20%27%23df65b0ff%27%2C%20%27%23df65b0ff%27%2C%20%27%23df65b0ff%27%2C%20%27%23df65b0ff%27%2C%20%27%23df65b0ff%27%2C%20%27%23df65b0ff%27%2C%20%27%23df65b0ff%27%2C%20%27%23df65b0ff%27%2C%20%27%23df65b0ff%27%2C%20%27%23df65b0ff%27%2C%20%27%23df65b0ff%27%2C%20%27%23df65b0ff%27%2C%20%27%23df65b0ff%27%2C%20%27%23df65b0ff%27%2C%20%27%23df65b0ff%27%2C%20%27%23df65b0ff%27%2C%20%27%23df65b0ff%27%2C%20%27%23df65b0ff%27%2C%20%27%23df65b0ff%27%2C%20%27%23df65b0ff%27%2C%20%27%23df65b0ff%27%2C%20%27%23df65b0ff%27%2C%20%27%23df65b0ff%27%2C%20%27%23df65b0ff%27%2C%20%27%23df65b0ff%27%2C%20%27%23df65b0ff%27%2C%20%27%23df65b0ff%27%2C%20%27%23df65b0ff%27%2C%20%27%23df65b0ff%27%2C%20%27%23df65b0ff%27%2C%20%27%23df65b0ff%27%2C%20%27%23df65b0ff%27%2C%20%27%23df65b0ff%27%2C%20%27%23df65b0ff%27%2C%20%27%23df65b0ff%27%2C%20%27%23df65b0ff%27%2C%20%27%23df65b0ff%27%2C%20%27%23df65b0ff%27%2C%20%27%23df65b0ff%27%2C%20%27%23df65b0ff%27%2C%20%27%23df65b0ff%27%2C%20%27%23df65b0ff%27%2C%20%27%23df65b0ff%27%2C%20%27%23df65b0ff%27%2C%20%27%23df65b0ff%27%2C%20%27%23df65b0ff%27%2C%20%27%23df65b0ff%27%2C%20%27%23df65b0ff%27%2C%20%27%23df65b0ff%27%2C%20%27%23df65b0ff%27%2C%20%27%23df65b0ff%27%2C%20%27%23df65b0ff%27%2C%20%27%23df65b0ff%27%2C%20%27%23df65b0ff%27%2C%20%27%23df65b0ff%27%2C%20%27%23df65b0ff%27%2C%20%27%23df65b0ff%27%2C%20%27%23df65b0ff%27%2C%20%27%23df65b0ff%27%2C%20%27%23df65b0ff%27%2C%20%27%23df65b0ff%27%2C%20%27%23df65b0ff%27%2C%20%27%23df65b0ff%27%2C%20%27%23df65b0ff%27%2C%20%27%23df65b0ff%27%2C%20%27%23df65b0ff%27%2C%20%27%23df65b0ff%27%2C%20%27%23df65b0ff%27%2C%20%27%23df65b0ff%27%2C%20%27%23df65b0ff%27%2C%20%27%23df65b0ff%27%2C%20%27%23df65b0ff%27%2C%20%27%23df65b0ff%27%2C%20%27%23df65b0ff%27%2C%20%27%23dd1c77ff%27%2C%20%27%23dd1c77ff%27%2C%20%27%23dd1c77ff%27%2C%20%27%23dd1c77ff%27%2C%20%27%23dd1c77ff%27%2C%20%27%23dd1c77ff%27%2C%20%27%23dd1c77ff%27%2C%20%27%23dd1c77ff%27%2C%20%27%23dd1c77ff%27%2C%20%27%23dd1c77ff%27%2C%20%27%23dd1c77ff%27%2C%20%27%23dd1c77ff%27%2C%20%27%23dd1c77ff%27%2C%20%27%23dd1c77ff%27%2C%20%27%23dd1c77ff%27%2C%20%27%23dd1c77ff%27%2C%20%27%23dd1c77ff%27%2C%20%27%23dd1c77ff%27%2C%20%27%23dd1c77ff%27%2C%20%27%23dd1c77ff%27%2C%20%27%23dd1c77ff%27%2C%20%27%23dd1c77ff%27%2C%20%27%23dd1c77ff%27%2C%20%27%23dd1c77ff%27%2C%20%27%23dd1c77ff%27%2C%20%27%23dd1c77ff%27%2C%20%27%23dd1c77ff%27%2C%20%27%23dd1c77ff%27%2C%20%27%23dd1c77ff%27%2C%20%27%23dd1c77ff%27%2C%20%27%23dd1c77ff%27%2C%20%27%23dd1c77ff%27%2C%20%27%23dd1c77ff%27%2C%20%27%23dd1c77ff%27%2C%20%27%23dd1c77ff%27%2C%20%27%23dd1c77ff%27%2C%20%27%23dd1c77ff%27%2C%20%27%23dd1c77ff%27%2C%20%27%23dd1c77ff%27%2C%20%27%23dd1c77ff%27%2C%20%27%23dd1c77ff%27%2C%20%27%23dd1c77ff%27%2C%20%27%23dd1c77ff%27%2C%20%27%23dd1c77ff%27%2C%20%27%23dd1c77ff%27%2C%20%27%23dd1c77ff%27%2C%20%27%23dd1c77ff%27%2C%20%27%23dd1c77ff%27%2C%20%27%23dd1c77ff%27%2C%20%27%23dd1c77ff%27%2C%20%27%23dd1c77ff%27%2C%20%27%23dd1c77ff%27%2C%20%27%23dd1c77ff%27%2C%20%27%23dd1c77ff%27%2C%20%27%23dd1c77ff%27%2C%20%27%23dd1c77ff%27%2C%20%27%23dd1c77ff%27%2C%20%27%23dd1c77ff%27%2C%20%27%23dd1c77ff%27%2C%20%27%23dd1c77ff%27%2C%20%27%23dd1c77ff%27%2C%20%27%23dd1c77ff%27%2C%20%27%23dd1c77ff%27%2C%20%27%23dd1c77ff%27%2C%20%27%23dd1c77ff%27%2C%20%27%23dd1c77ff%27%2C%20%27%23dd1c77ff%27%2C%20%27%23dd1c77ff%27%2C%20%27%23dd1c77ff%27%2C%20%27%23dd1c77ff%27%2C%20%27%23dd1c77ff%27%2C%20%27%23dd1c77ff%27%2C%20%27%23dd1c77ff%27%2C%20%27%23dd1c77ff%27%2C%20%27%23dd1c77ff%27%2C%20%27%23dd1c77ff%27%2C%20%27%23dd1c77ff%27%2C%20%27%23dd1c77ff%27%2C%20%27%23dd1c77ff%27%2C%20%27%23dd1c77ff%27%2C%20%27%23dd1c77ff%27%2C%20%27%23dd1c77ff%27%2C%20%27%23dd1c77ff%27%2C%20%27%23980043ff%27%2C%20%27%23980043ff%27%2C%20%27%23980043ff%27%2C%20%27%23980043ff%27%2C%20%27%23980043ff%27%2C%20%27%23980043ff%27%2C%20%27%23980043ff%27%2C%20%27%23980043ff%27%2C%20%27%23980043ff%27%2C%20%27%23980043ff%27%2C%20%27%23980043ff%27%2C%20%27%23980043ff%27%2C%20%27%23980043ff%27%2C%20%27%23980043ff%27%2C%20%27%23980043ff%27%2C%20%27%23980043ff%27%2C%20%27%23980043ff%27%2C%20%27%23980043ff%27%2C%20%27%23980043ff%27%2C%20%27%23980043ff%27%2C%20%27%23980043ff%27%2C%20%27%23980043ff%27%2C%20%27%23980043ff%27%2C%20%27%23980043ff%27%2C%20%27%23980043ff%27%2C%20%27%23980043ff%27%2C%20%27%23980043ff%27%2C%20%27%23980043ff%27%2C%20%27%23980043ff%27%2C%20%27%23980043ff%27%2C%20%27%23980043ff%27%2C%20%27%23980043ff%27%2C%20%27%23980043ff%27%2C%20%27%23980043ff%27%2C%20%27%23980043ff%27%2C%20%27%23980043ff%27%2C%20%27%23980043ff%27%2C%20%27%23980043ff%27%2C%20%27%23980043ff%27%2C%20%27%23980043ff%27%2C%20%27%23980043ff%27%2C%20%27%23980043ff%27%2C%20%27%23980043ff%27%2C%20%27%23980043ff%27%2C%20%27%23980043ff%27%2C%20%27%23980043ff%27%2C%20%27%23980043ff%27%2C%20%27%23980043ff%27%2C%20%27%23980043ff%27%2C%20%27%23980043ff%27%2C%20%27%23980043ff%27%2C%20%27%23980043ff%27%2C%20%27%23980043ff%27%2C%20%27%23980043ff%27%2C%20%27%23980043ff%27%2C%20%27%23980043ff%27%2C%20%27%23980043ff%27%2C%20%27%23980043ff%27%2C%20%27%23980043ff%27%2C%20%27%23980043ff%27%2C%20%27%23980043ff%27%2C%20%27%23980043ff%27%2C%20%27%23980043ff%27%2C%20%27%23980043ff%27%2C%20%27%23980043ff%27%2C%20%27%23980043ff%27%2C%20%27%23980043ff%27%2C%20%27%23980043ff%27%2C%20%27%23980043ff%27%2C%20%27%23980043ff%27%2C%20%27%23980043ff%27%2C%20%27%23980043ff%27%2C%20%27%23980043ff%27%2C%20%27%23980043ff%27%2C%20%27%23980043ff%27%2C%20%27%23980043ff%27%2C%20%27%23980043ff%27%2C%20%27%23980043ff%27%2C%20%27%23980043ff%27%2C%20%27%23980043ff%27%2C%20%27%23980043ff%27%2C%20%27%23980043ff%27%2C%20%27%23980043ff%27%2C%20%27%23980043ff%27%5D%29%3B%0A%20%20%20%20%0A%0A%20%20%20%20color_map_76bab77d093a4d5eb64d431d6319f6c9.x%20%3D%20d3.scale.linear%28%29%0A%20%20%20%20%20%20%20%20%20%20%20%20%20%20.domain%28%5B1639.076923076923%2C%202125.7%5D%29%0A%20%20%20%20%20%20%20%20%20%20%20%20%20%20.range%28%5B0%2C%20400%5D%29%3B%0A%0A%20%20%20%20color_map_76bab77d093a4d5eb64d431d6319f6c9.legend%20%3D%20L.control%28%7Bposition%3A%20%27topright%27%7D%29%3B%0A%20%20%20%20color_map_76bab77d093a4d5eb64d431d6319f6c9.legend.onAdd%20%3D%20function%20%28map%29%20%7Bvar%20div%20%3D%20L.DomUtil.create%28%27div%27%2C%20%27legend%27%29%3B%20return%20div%7D%3B%0A%20%20%20%20color_map_76bab77d093a4d5eb64d431d6319f6c9.legend.addTo%28map_69259ce5d50842f1aa208d3777814aab%29%3B%0A%0A%20%20%20%20color_map_76bab77d093a4d5eb64d431d6319f6c9.xAxis%20%3D%20d3.svg.axis%28%29%0A%20%20%20%20%20%20%20%20.scale%28color_map_76bab77d093a4d5eb64d431d6319f6c9.x%29%0A%20%20%20%20%20%20%20%20.orient%28%22top%22%29%0A%20%20%20%20%20%20%20%20.tickSize%281%29%0A%20%20%20%20%20%20%20%20.tickValues%28%5B1639.076923076923%2C%201720.1807692307693%2C%201801.2846153846153%2C%201882.3884615384613%2C%201963.4923076923076%2C%202044.5961538461538%2C%202125.7%5D%29%3B%0A%0A%20%20%20%20color_map_76bab77d093a4d5eb64d431d6319f6c9.svg%20%3D%20d3.select%28%22.legend.leaflet-control%22%29.append%28%22svg%22%29%0A%20%20%20%20%20%20%20%20.attr%28%22id%22%2C%20%27legend%27%29%0A%20%20%20%20%20%20%20%20.attr%28%22width%22%2C%20450%29%0A%20%20%20%20%20%20%20%20.attr%28%22height%22%2C%2040%29%3B%0A%0A%20%20%20%20color_map_76bab77d093a4d5eb64d431d6319f6c9.g%20%3D%20color_map_76bab77d093a4d5eb64d431d6319f6c9.svg.append%28%22g%22%29%0A%20%20%20%20%20%20%20%20.attr%28%22class%22%2C%20%22key%22%29%0A%20%20%20%20%20%20%20%20.attr%28%22transform%22%2C%20%22translate%2825%2C16%29%22%29%3B%0A%0A%20%20%20%20color_map_76bab77d093a4d5eb64d431d6319f6c9.g.selectAll%28%22rect%22%29%0A%20%20%20%20%20%20%20%20.data%28color_map_76bab77d093a4d5eb64d431d6319f6c9.color.range%28%29.map%28function%28d%2C%20i%29%20%7B%0A%20%20%20%20%20%20%20%20%20%20return%20%7B%0A%20%20%20%20%20%20%20%20%20%20%20%20x0%3A%20i%20%3F%20color_map_76bab77d093a4d5eb64d431d6319f6c9.x%28color_map_76bab77d093a4d5eb64d431d6319f6c9.color.domain%28%29%5Bi%20-%201%5D%29%20%3A%20color_map_76bab77d093a4d5eb64d431d6319f6c9.x.range%28%29%5B0%5D%2C%0A%20%20%20%20%20%20%20%20%20%20%20%20x1%3A%20i%20%3C%20color_map_76bab77d093a4d5eb64d431d6319f6c9.color.domain%28%29.length%20%3F%20color_map_76bab77d093a4d5eb64d431d6319f6c9.x%28color_map_76bab77d093a4d5eb64d431d6319f6c9.color.domain%28%29%5Bi%5D%29%20%3A%20color_map_76bab77d093a4d5eb64d431d6319f6c9.x.range%28%29%5B1%5D%2C%0A%20%20%20%20%20%20%20%20%20%20%20%20z%3A%20d%0A%20%20%20%20%20%20%20%20%20%20%7D%3B%0A%20%20%20%20%20%20%20%20%7D%29%29%0A%20%20%20%20%20%20.enter%28%29.append%28%22rect%22%29%0A%20%20%20%20%20%20%20%20.attr%28%22height%22%2C%2010%29%0A%20%20%20%20%20%20%20%20.attr%28%22x%22%2C%20function%28d%29%20%7B%20return%20d.x0%3B%20%7D%29%0A%20%20%20%20%20%20%20%20.attr%28%22width%22%2C%20function%28d%29%20%7B%20return%20d.x1%20-%20d.x0%3B%20%7D%29%0A%20%20%20%20%20%20%20%20.style%28%22fill%22%2C%20function%28d%29%20%7B%20return%20d.z%3B%20%7D%29%3B%0A%0A%20%20%20%20color_map_76bab77d093a4d5eb64d431d6319f6c9.g.call%28color_map_76bab77d093a4d5eb64d431d6319f6c9.xAxis%29.append%28%22text%22%29%0A%20%20%20%20%20%20%20%20.attr%28%22class%22%2C%20%22caption%22%29%0A%20%20%20%20%20%20%20%20.attr%28%22y%22%2C%2021%29%0A%20%20%20%20%20%20%20%20.text%28%27%27%29%3B%0A%3C/script%3E onload=\"this.contentDocument.open();this.contentDocument.write(    decodeURIComponent(this.getAttribute('data-html')));this.contentDocument.close();\" allowfullscreen webkitallowfullscreen mozallowfullscreen></iframe></div></div>"
      ],
      "text/plain": [
       "<folium.folium.Map at 0x152dbe88310>"
      ]
     },
     "execution_count": 195,
     "metadata": {},
     "output_type": "execute_result"
    }
   ],
   "source": [
    "geo_path = \"../data/02. skorea_municipalities_geo_simple.json\"\n",
    "geo_str = json.load(open(geo_path, encoding=\"utf-8\"))\n",
    "\n",
    "my_map = folium.Map(\n",
    "    location=[37.5502, 126.982],\n",
    "    zoom_start=10.5,\n",
    "    tiles=\"Stamen Toner\"\n",
    ")\n",
    "my_map.choropleth(\n",
    "    geo_data = geo_str,\n",
    "    data = sigungu_table,\n",
    "    columns = [sigungu_table.index, \"가격\"],\n",
    "    key_on = \"feature.id\",\n",
    "    fill_color = \"PuRd\"\n",
    ")\n",
    "my_map"
   ]
  },
  {
   "cell_type": "code",
   "execution_count": null,
   "id": "9bd4c78f",
   "metadata": {},
   "outputs": [],
   "source": []
  }
 ],
 "metadata": {
  "kernelspec": {
   "display_name": "Python 3 (ipykernel)",
   "language": "python",
   "name": "python3"
  },
  "language_info": {
   "codemirror_mode": {
    "name": "ipython",
    "version": 3
   },
   "file_extension": ".py",
   "mimetype": "text/x-python",
   "name": "python",
   "nbconvert_exporter": "python",
   "pygments_lexer": "ipython3",
   "version": "3.9.7"
  }
 },
 "nbformat": 4,
 "nbformat_minor": 5
}

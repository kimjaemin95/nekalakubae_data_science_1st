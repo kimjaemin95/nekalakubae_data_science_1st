{
 "cells": [
  {
   "cell_type": "markdown",
   "id": "7cc77ff1",
   "metadata": {},
   "source": [
    "# 04. Oil Price Analysis and Green construnction"
   ]
  },
  {
   "cell_type": "markdown",
   "id": "15a8b34f",
   "metadata": {},
   "source": [
    "## 1. 셀레니움(Selenium) 설치\n",
    "- 윈도우, mac(intel)\n",
    "    - conda install selenium\n",
    "- mac(m1)\n",
    "    - pip install selenium"
   ]
  },
  {
   "cell_type": "markdown",
   "id": "822f1009",
   "metadata": {},
   "source": [
    "## 2. 크롬 드라이버 설치\n",
    "- https://chromedriver.chromium.org/downloads"
   ]
  },
  {
   "cell_type": "code",
   "execution_count": 8,
   "id": "519554f4",
   "metadata": {},
   "outputs": [],
   "source": [
    "from selenium import webdriver"
   ]
  },
  {
   "cell_type": "code",
   "execution_count": 17,
   "id": "4ff33afc",
   "metadata": {},
   "outputs": [],
   "source": [
    "driver = webdriver.Chrome(\"../driver/chromedriver.exe\")\n",
    "driver.get(\"http://www.pinkwink.kr\")\n",
    "\n",
    "import time\n",
    "\n",
    "time.sleep(10)\n",
    "driver.quit()"
   ]
  },
  {
   "cell_type": "code",
   "execution_count": null,
   "id": "ce453f4c",
   "metadata": {},
   "outputs": [],
   "source": []
  },
  {
   "cell_type": "code",
   "execution_count": null,
   "id": "ef0bd07e",
   "metadata": {},
   "outputs": [],
   "source": []
  },
  {
   "cell_type": "code",
   "execution_count": null,
   "id": "e061a025",
   "metadata": {},
   "outputs": [],
   "source": []
  }
 ],
 "metadata": {
  "kernelspec": {
   "display_name": "Python 3 (ipykernel)",
   "language": "python",
   "name": "python3"
  },
  "language_info": {
   "codemirror_mode": {
    "name": "ipython",
    "version": 3
   },
   "file_extension": ".py",
   "mimetype": "text/x-python",
   "name": "python",
   "nbconvert_exporter": "python",
   "pygments_lexer": "ipython3",
   "version": "3.9.7"
  }
 },
 "nbformat": 4,
 "nbformat_minor": 5
}

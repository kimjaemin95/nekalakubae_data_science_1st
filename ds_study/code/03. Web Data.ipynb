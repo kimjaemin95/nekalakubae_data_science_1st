{
 "cells": [
  {
   "cell_type": "markdown",
   "metadata": {},
   "source": [
    "# 03. Web Data"
   ]
  },
  {
   "cell_type": "markdown",
   "metadata": {},
   "source": [
    "## 1. BeautifulSoup for web data"
   ]
  },
  {
   "cell_type": "markdown",
   "metadata": {},
   "source": [
    "---"
   ]
  },
  {
   "cell_type": "markdown",
   "metadata": {},
   "source": [
    "## BeautifulSoup Basic\n",
    "- install\n",
    "    - conda install -c anaconda beautifulsoup4\n",
    "    - pip install beautifulsoup4\n",
    "- data\n",
    "    - 03.test_first.html\n",
    "\n",
    "- Docs \n",
    "    - https://www.crummy.com/software/BeautifulSoup/bs4/doc/#"
   ]
  },
  {
   "cell_type": "code",
   "execution_count": 11,
   "metadata": {},
   "outputs": [],
   "source": [
    "# 모듈 import\n",
    "from bs4 import BeautifulSoup"
   ]
  },
  {
   "cell_type": "code",
   "execution_count": 14,
   "metadata": {},
   "outputs": [
    {
     "data": {
      "text/plain": [
       "'<!doctype html>\\n<html>\\n    <head>\\n        <title>Very Simple HTML Code by PinkWink</title>\\n    </head>\\n    <body>\\n        <div>\\n            <p class=\"inner-text first-item\" id=\"first\">\\n                Happy PinkWink.\\n                <a href=\"http://www.pinkwink.kr\" id=\"pw-link\">PinkWink</a>\\n            </p>\\n            <p class=\"inner-text second-item\">\\n                Happy Data Science.\\n                <a href=\"https://www.python.org\" id=\"py-link\">Python</a>\\n            </p>\\n        </div>\\n        <p class=\"outer-text first-item\" id=\"second\">\\n            <b>\\n                Data Science is funny.\\n            </b>\\n        </p>\\n        <p class=\"outer-text\">\\n            <b>\\n                All I need is Love.\\n            </b>\\n        </p>\\n    </body>\\n</html>'"
      ]
     },
     "execution_count": 14,
     "metadata": {},
     "output_type": "execute_result"
    }
   ],
   "source": [
    "page = open(\"../data/03. test_first.html\", \"r\").read()\n",
    "page"
   ]
  },
  {
   "cell_type": "code",
   "execution_count": 15,
   "metadata": {},
   "outputs": [
    {
     "data": {
      "text/plain": [
       "<!DOCTYPE html>\n",
       "\n",
       "<html>\n",
       "<head>\n",
       "<title>Very Simple HTML Code by PinkWink</title>\n",
       "</head>\n",
       "<body>\n",
       "<div>\n",
       "<p class=\"inner-text first-item\" id=\"first\">\n",
       "                Happy PinkWink.\n",
       "                <a href=\"http://www.pinkwink.kr\" id=\"pw-link\">PinkWink</a>\n",
       "</p>\n",
       "<p class=\"inner-text second-item\">\n",
       "                Happy Data Science.\n",
       "                <a href=\"https://www.python.org\" id=\"py-link\">Python</a>\n",
       "</p>\n",
       "</div>\n",
       "<p class=\"outer-text first-item\" id=\"second\">\n",
       "<b>\n",
       "                Data Science is funny.\n",
       "            </b>\n",
       "</p>\n",
       "<p class=\"outer-text\">\n",
       "<b>\n",
       "                All I need is Love.\n",
       "            </b>\n",
       "</p>\n",
       "</body>\n",
       "</html>"
      ]
     },
     "execution_count": 15,
     "metadata": {},
     "output_type": "execute_result"
    }
   ],
   "source": [
    "soup = BeautifulSoup(page, \"html.parser\")\n",
    "soup"
   ]
  },
  {
   "cell_type": "code",
   "execution_count": 19,
   "metadata": {},
   "outputs": [
    {
     "data": {
      "text/plain": [
       "<head>\n",
       "<title>Very Simple HTML Code by PinkWink</title>\n",
       "</head>"
      ]
     },
     "execution_count": 19,
     "metadata": {},
     "output_type": "execute_result"
    }
   ],
   "source": [
    "# head 태그 가져오기\n",
    "soup.head"
   ]
  },
  {
   "cell_type": "code",
   "execution_count": 20,
   "metadata": {},
   "outputs": [
    {
     "data": {
      "text/plain": [
       "<title>Very Simple HTML Code by PinkWink</title>"
      ]
     },
     "execution_count": 20,
     "metadata": {},
     "output_type": "execute_result"
    }
   ],
   "source": [
    "# title 태그 가져오기\n",
    "soup.title"
   ]
  },
  {
   "cell_type": "code",
   "execution_count": 21,
   "metadata": {},
   "outputs": [
    {
     "data": {
      "text/plain": [
       "<p class=\"inner-text first-item\" id=\"first\">\n",
       "                Happy PinkWink.\n",
       "                <a href=\"http://www.pinkwink.kr\" id=\"pw-link\">PinkWink</a>\n",
       "</p>"
      ]
     },
     "execution_count": 21,
     "metadata": {},
     "output_type": "execute_result"
    }
   ],
   "source": [
    "soup.p"
   ]
  },
  {
   "cell_type": "code",
   "execution_count": 25,
   "metadata": {},
   "outputs": [
    {
     "data": {
      "text/plain": [
       "<p class=\"inner-text first-item\" id=\"first\">\n",
       "                Happy PinkWink.\n",
       "                <a href=\"http://www.pinkwink.kr\" id=\"pw-link\">PinkWink</a>\n",
       "</p>"
      ]
     },
     "execution_count": 25,
     "metadata": {},
     "output_type": "execute_result"
    }
   ],
   "source": [
    "# find() 함수\n",
    "soup.find(\"p\")"
   ]
  },
  {
   "cell_type": "code",
   "execution_count": 24,
   "metadata": {},
   "outputs": [
    {
     "data": {
      "text/plain": [
       "[<p class=\"inner-text first-item\" id=\"first\">\n",
       "                 Happy PinkWink.\n",
       "                 <a href=\"http://www.pinkwink.kr\" id=\"pw-link\">PinkWink</a>\n",
       " </p>,\n",
       " <p class=\"inner-text second-item\">\n",
       "                 Happy Data Science.\n",
       "                 <a href=\"https://www.python.org\" id=\"py-link\">Python</a>\n",
       " </p>,\n",
       " <p class=\"outer-text first-item\" id=\"second\">\n",
       " <b>\n",
       "                 Data Science is funny.\n",
       "             </b>\n",
       " </p>,\n",
       " <p class=\"outer-text\">\n",
       " <b>\n",
       "                 All I need is Love.\n",
       "             </b>\n",
       " </p>]"
      ]
     },
     "execution_count": 24,
     "metadata": {},
     "output_type": "execute_result"
    }
   ],
   "source": [
    "# find_all() 함수\n",
    "soup.find_all(\"p\")"
   ]
  },
  {
   "cell_type": "code",
   "execution_count": 26,
   "metadata": {},
   "outputs": [
    {
     "data": {
      "text/plain": [
       "<p class=\"inner-text second-item\">\n",
       "                Happy Data Science.\n",
       "                <a href=\"https://www.python.org\" id=\"py-link\">Python</a>\n",
       "</p>"
      ]
     },
     "execution_count": 26,
     "metadata": {},
     "output_type": "execute_result"
    }
   ],
   "source": [
    "soup.find(\"p\", class_=\"inner-text second-item\")"
   ]
  },
  {
   "cell_type": "code",
   "execution_count": 30,
   "metadata": {},
   "outputs": [
    {
     "data": {
      "text/plain": [
       "<p class=\"outer-text first-item\" id=\"second\">\n",
       "<b>\n",
       "                Data Science is funny.\n",
       "            </b>\n",
       "</p>"
      ]
     },
     "execution_count": 30,
     "metadata": {},
     "output_type": "execute_result"
    }
   ],
   "source": [
    "data1 = soup.find(\"p\", {\"class\":\"outer-text first-item\"})\n",
    "data1"
   ]
  },
  {
   "cell_type": "code",
   "execution_count": 32,
   "metadata": {},
   "outputs": [
    {
     "data": {
      "text/plain": [
       "'\\n\\n                Data Science is funny.\\n            \\n'"
      ]
     },
     "execution_count": 32,
     "metadata": {},
     "output_type": "execute_result"
    }
   ],
   "source": [
    "data1.text"
   ]
  },
  {
   "cell_type": "code",
   "execution_count": 33,
   "metadata": {},
   "outputs": [
    {
     "data": {
      "text/plain": [
       "'Data Science is funny.'"
      ]
     },
     "execution_count": 33,
     "metadata": {},
     "output_type": "execute_result"
    }
   ],
   "source": [
    "data1.text.strip()"
   ]
  },
  {
   "cell_type": "code",
   "execution_count": 35,
   "metadata": {},
   "outputs": [
    {
     "data": {
      "text/plain": [
       "<p class=\"inner-text first-item\" id=\"first\">\n",
       "                Happy PinkWink.\n",
       "                <a href=\"http://www.pinkwink.kr\" id=\"pw-link\">PinkWink</a>\n",
       "</p>"
      ]
     },
     "execution_count": 35,
     "metadata": {},
     "output_type": "execute_result"
    }
   ],
   "source": [
    "# 다중 조건\n",
    "soup.find(\n",
    "    \"p\", {\n",
    "        \"class\":\"inner-text first-item\", \n",
    "        \"id\":\"first\"\n",
    "        }\n",
    "    )"
   ]
  },
  {
   "cell_type": "code",
   "execution_count": 40,
   "metadata": {},
   "outputs": [
    {
     "name": "stdout",
     "output_type": "stream",
     "text": [
      "Data Science is funny.\n",
      "--------------------------------------------------\n",
      "All I need is Love.\n",
      "--------------------------------------------------\n"
     ]
    }
   ],
   "source": [
    "# find_all()\n",
    "p_all = soup.find_all(\"b\")\n",
    "for p in p_all:\n",
    "    print(p.text.strip())\n",
    "    print(\"-\"*50)"
   ]
  },
  {
   "cell_type": "code",
   "execution_count": 42,
   "metadata": {},
   "outputs": [
    {
     "data": {
      "text/plain": [
       "[<p class=\"outer-text first-item\" id=\"second\">\n",
       " <b>\n",
       "                 Data Science is funny.\n",
       "             </b>\n",
       " </p>,\n",
       " <p class=\"outer-text\">\n",
       " <b>\n",
       "                 All I need is Love.\n",
       "             </b>\n",
       " </p>]"
      ]
     },
     "execution_count": 42,
     "metadata": {},
     "output_type": "execute_result"
    }
   ],
   "source": [
    "# 특정 태그 확인\n",
    "soup.find_all(class_=\"outer-text\")"
   ]
  },
  {
   "cell_type": "code",
   "execution_count": 44,
   "metadata": {},
   "outputs": [
    {
     "name": "stdout",
     "output_type": "stream",
     "text": [
      "PinkWink\n"
     ]
    }
   ],
   "source": [
    "# 특정 태그 확인\n",
    "for data in soup.find_all(id=\"pw-link\"):\n",
    "    print(data.text)"
   ]
  },
  {
   "cell_type": "code",
   "execution_count": 46,
   "metadata": {},
   "outputs": [
    {
     "name": "stdout",
     "output_type": "stream",
     "text": [
      "Happy PinkWink.\n",
      "                PinkWink\n",
      "--------------------------------------------------\n",
      "Happy Data Science.\n",
      "                Python\n",
      "--------------------------------------------------\n",
      "Data Science is funny.\n",
      "--------------------------------------------------\n",
      "All I need is Love.\n",
      "--------------------------------------------------\n"
     ]
    }
   ],
   "source": [
    "p_all = soup.find_all(\"p\")\n",
    "for p in p_all:\n",
    "    print(p.text.strip())\n",
    "    print(\"-\"*50)"
   ]
  },
  {
   "cell_type": "code",
   "execution_count": 47,
   "metadata": {},
   "outputs": [
    {
     "data": {
      "text/plain": [
       "[<a href=\"http://www.pinkwink.kr\" id=\"pw-link\">PinkWink</a>,\n",
       " <a href=\"https://www.python.org\" id=\"py-link\">Python</a>]"
      ]
     },
     "execution_count": 47,
     "metadata": {},
     "output_type": "execute_result"
    }
   ],
   "source": [
    "# a 태그에서 href 속성값 추출\n",
    "links = soup.find_all(\"a\")\n",
    "links"
   ]
  },
  {
   "cell_type": "code",
   "execution_count": 51,
   "metadata": {},
   "outputs": [
    {
     "name": "stdout",
     "output_type": "stream",
     "text": [
      "PinkWink => http://www.pinkwink.kr\n",
      "PinkWink => http://www.pinkwink.kr\n",
      "\n",
      "Python => https://www.python.org\n",
      "Python => https://www.python.org\n",
      "\n"
     ]
    }
   ],
   "source": [
    "for link in links:\n",
    "    print(link.text, \"=>\", link.get(\"href\"))\n",
    "    print(link.text, \"=>\", link[\"href\"])\n",
    "    print()"
   ]
  },
  {
   "cell_type": "markdown",
   "metadata": {},
   "source": [
    "## BeautifulSoup 예제 1-1 - 네이버 금융"
   ]
  },
  {
   "cell_type": "code",
   "execution_count": 57,
   "metadata": {},
   "outputs": [],
   "source": [
    "from urllib.request import urlopen\n",
    "from bs4 import BeautifulSoup as bs4"
   ]
  },
  {
   "cell_type": "code",
   "execution_count": 59,
   "metadata": {},
   "outputs": [
    {
     "name": "stdout",
     "output_type": "stream",
     "text": [
      "\n",
      "<script language=\"javascript\" src=\"/template/head_js.naver?referer=info.finance.naver.com&amp;menu=marketindex&amp;submenu=market\"></script>\n",
      "<script src=\"https://ssl.pstatic.net/imgstock/static.pc/20210916165954/js/info/jindo.min.ns.1.5.3.euckr.js\" type=\"text/javascript\"></script>\n",
      "<script src=\"https://ssl.pstatic.net/imgstock/static.pc/20210916165954/js/jindo.1.5.3.element-text-patch.js\" type=\"text/javascript\"></script>\n",
      "<div id=\"container\" style=\"padding-bottom:0px;\">\n",
      "<div class=\"market_include\">\n",
      "<div class=\"market_data\">\n",
      "<div class=\"market1\">\n",
      "<div class=\"title\">\n",
      "<h2 class=\"h_market1\"><span>환전 고시 환율</span></h2>\n",
      "</div>\n",
      "<!-- data -->\n",
      "<div class=\"data\">\n",
      "<ul class=\"data_lst\" id=\"exchangeList\">\n",
      "<li class=\"on\">\n",
      "<a class=\"head usd\" href=\"/marketindex/exchangeDetail.naver?marketindexCd=FX_USDKRW\" onclick=\"clickcr(this, 'fr1.usdt', '', '', event);\">\n",
      "<h3 class=\"h_lst\"><span class=\"blind\">미국 USD</span></h3>\n",
      "<div class=\"head_info point_up\">\n",
      "<span class=\"value\">1,187.00</span>\n",
      "<span class=\"txt_krw\"><span class=\"blind\">원</span></span>\n",
      "<span class=\"change\">6.00</span>\n",
      "<span class=\"blind\">상승</span>\n",
      "</div>\n",
      "</a>\n",
      "<a class=\"graph_img\" href=\"/marketindex/exchangeDetail.naver?marketindexCd=FX_USDKRW\" onclick=\"clickcr(this, 'fr1.usdc', '', '', event);\">\n",
      "<img alt=\"\" height=\"153\" src=\"https://ssl.pstatic.net/imgfinance/chart/marketindex/FX_USDKRW.png\" width=\"295\"/>\n",
      "</a>\n",
      "<div class=\"graph_info\">\n",
      "<span class=\"time\">2021.09.28 20:04</span>\n",
      "<span class=\"source\">하나은행 기준</span>\n",
      "<span class=\"count\">고시회차<span class=\"num\">318</span>회</span>\n",
      "</div>\n",
      "</li>\n",
      "<li class=\"\">\n",
      "<a class=\"head jpy\" href=\"/marketindex/exchangeDetail.naver?marketindexCd=FX_JPYKRW\" onclick=\"clickcr(this, 'fr1.jpyt', '', '', event);\">\n",
      "<h3 class=\"h_lst\"><span class=\"blind\">일본 JPY(100엔)</span></h3>\n",
      "<div class=\"head_info point_up\">\n",
      "<span class=\"value\">1,065.15</span>\n",
      "<span class=\"txt_krw\"><span class=\"blind\">원</span></span>\n",
      "<span class=\"change\">0.32</span>\n",
      "<span class=\"blind\">상승</span>\n",
      "</div>\n",
      "</a>\n",
      "<a class=\"graph_img\" href=\"/marketindex/exchangeDetail.naver?marketindexCd=FX_JPYKRW\" onclick=\"clickcr(this, 'fr1.jpyc', '', '', event);\">\n",
      "<img alt=\"\" height=\"153\" src=\"https://ssl.pstatic.net/imgfinance/chart/marketindex/FX_JPYKRW.png\" width=\"295\"/>\n",
      "</a>\n",
      "<div class=\"graph_info\">\n",
      "<span class=\"time\">2021.09.28 20:04</span>\n",
      "<span class=\"source\">하나은행 기준</span>\n",
      "<span class=\"count\">고시회차<span class=\"num\">318</span>회</span>\n",
      "</div>\n",
      "</li>\n",
      "<li class=\"\">\n",
      "<a class=\"head eur\" href=\"/marketindex/exchangeDetail.naver?marketindexCd=FX_EURKRW\" onclick=\"clickcr(this, 'fr1.eurt', '', '', event);\">\n",
      "<h3 class=\"h_lst\"><span class=\"blind\">유럽연합 EUR</span></h3>\n",
      "<div class=\"head_info point_up\">\n",
      "<span class=\"value\">1,386.42</span>\n",
      "<span class=\"txt_krw\"><span class=\"blind\">원</span></span>\n",
      "<span class=\"change\">3.65</span>\n",
      "<span class=\"blind\">상승</span>\n",
      "</div>\n",
      "</a>\n",
      "<a class=\"graph_img\" href=\"/marketindex/exchangeDetail.naver?marketindexCd=FX_EURKRW\" onclick=\"clickcr(this, 'fr1.eurc', '', '', event);\">\n",
      "<img alt=\"\" height=\"153\" src=\"https://ssl.pstatic.net/imgfinance/chart/marketindex/FX_EURKRW.png\" width=\"295\"/>\n",
      "</a>\n",
      "<div class=\"graph_info\">\n",
      "<span class=\"time\">2021.09.28 20:04</span>\n",
      "<span class=\"source\">하나은행 기준</span>\n",
      "<span class=\"count\">고시회차<span class=\"num\">318</span>회</span>\n",
      "</div>\n",
      "</li>\n",
      "<li class=\"\">\n",
      "<a class=\"head cny\" href=\"/marketindex/exchangeDetail.naver?marketindexCd=FX_CNYKRW\" onclick=\"clickcr(this, 'fr1.cnyt', '', '', event);\">\n",
      "<h3 class=\"h_lst\"><span class=\"blind\">중국 CNY</span></h3>\n",
      "<div class=\"head_info point_up\">\n",
      "<span class=\"value\">183.63</span>\n",
      "<span class=\"txt_krw\"><span class=\"blind\">원</span></span>\n",
      "<span class=\"change\">0.94</span>\n",
      "<span class=\"blind\">상승</span>\n",
      "</div>\n",
      "</a>\n",
      "<a class=\"graph_img\" href=\"/marketindex/exchangeDetail.naver?marketindexCd=FX_CNYKRW\" onclick=\"clickcr(this, 'fr1.cnyc', '', '', event);\">\n",
      "<img alt=\"\" height=\"153\" src=\"https://ssl.pstatic.net/imgfinance/chart/marketindex/FX_CNYKRW.png\" width=\"295\"/>\n",
      "</a>\n",
      "<div class=\"graph_info\">\n",
      "<span class=\"time\">2021.09.28 20:04</span>\n",
      "<span class=\"source\">하나은행 기준</span>\n",
      "<span class=\"count\">고시회차<span class=\"num\">318</span>회</span>\n",
      "</div>\n",
      "</li>\n",
      "</ul>\n",
      "</div>\n",
      "<!-- //data -->\n",
      "</div>\n",
      "<div class=\"market2\">\n",
      "<div class=\"title\">\n",
      "<h2 class=\"h_market2\"><span>국제 시장 환율</span></h2>\n",
      "</div>\n",
      "<!-- data -->\n",
      "<div class=\"data\">\n",
      "<ul class=\"data_lst\" id=\"worldExchangeList\">\n",
      "<li class=\"on\">\n",
      "<a class=\"head jpy_usd\" href=\"/marketindex/worldExchangeDetail.naver?marketindexCd=FX_USDJPY\" onclick=\"clickcr(this, 'fr2.jpyut', '', '', event);\">\n",
      "<h3 class=\"h_lst\"><span class=\"blind\">달러/일본 엔</span></h3>\n",
      "<div class=\"head_info point_up\">\n",
      "<span class=\"value\">110.9700</span>\n",
      "<span class=\"txt_jpy\"><span class=\"blind\">엔</span></span>\n",
      "<span class=\"change\">0.2300</span>\n",
      "<span class=\"blind\">상승</span>\n",
      "</div>\n",
      "</a>\n",
      "<a class=\"graph_img\" href=\"/marketindex/worldExchangeDetail.naver?marketindexCd=FX_USDJPY\" onclick=\"clickcr(this, 'fr2.jpyuc', '', '', event);\">\n",
      "<img alt=\"\" height=\"153\" src=\"https://ssl.pstatic.net/imgfinance/chart/marketindex/FX_USDJPY.png\" width=\"295\"/>\n",
      "</a>\n",
      "<div class=\"graph_info\">\n",
      "<span class=\"time\">2021.09.27</span>\n",
      "<span class=\"source\">모닝스타 기준</span>\n",
      "</div>\n",
      "</li>\n",
      "<li class=\"\">\n",
      "<a class=\"head usd_eur\" href=\"/marketindex/worldExchangeDetail.naver?marketindexCd=FX_EURUSD\" onclick=\"clickcr(this, 'fr2.eurdt', '', '', event);\">\n",
      "<h3 class=\"h_lst\"><span class=\"blind\">유로/달러</span></h3>\n",
      "<div class=\"head_info point_dn\">\n",
      "<span class=\"value\">1.1700</span>\n",
      "<span class=\"txt_usd\"><span class=\"blind\">달러</span></span>\n",
      "<span class=\"change\"> 0.0019</span>\n",
      "<span class=\"blind\">하락</span>\n",
      "</div>\n",
      "</a>\n",
      "<a class=\"graph_img\" href=\"/marketindex/worldExchangeDetail.naver?marketindexCd=FX_EURUSD\" onclick=\"clickcr(this, 'fr2.eurdc', '', '', event);\">\n",
      "<img alt=\"\" height=\"153\" src=\"https://ssl.pstatic.net/imgfinance/chart/marketindex/FX_EURUSD.png\" width=\"295\"/>\n",
      "</a>\n",
      "<div class=\"graph_info\">\n",
      "<span class=\"time\">2021.09.27</span>\n",
      "<span class=\"source\">모닝스타 기준</span>\n",
      "</div>\n",
      "</li>\n",
      "<li class=\"\">\n",
      "<a class=\"head usd_gbp\" href=\"/marketindex/worldExchangeDetail.naver?marketindexCd=FX_GBPUSD\" onclick=\"clickcr(this, 'fr2.gbpdt', '', '', event);\">\n",
      "<h3 class=\"h_lst\"><span class=\"blind\">영국 파운드/달러</span></h3>\n",
      "<div class=\"head_info point_up\">\n",
      "<span class=\"value\">1.3707</span>\n",
      "<span class=\"txt_usd\"><span class=\"blind\">달러</span></span>\n",
      "<span class=\"change\">0.0033</span>\n",
      "<span class=\"blind\">상승</span>\n",
      "</div>\n",
      "</a>\n",
      "<a class=\"graph_img\" href=\"/marketindex/worldExchangeDetail.naver?marketindexCd=FX_GBPUSD\" onclick=\"clickcr(this, 'fr2.gbpdc', '', '', event);\">\n",
      "<img alt=\"\" height=\"153\" src=\"https://ssl.pstatic.net/imgfinance/chart/marketindex/FX_GBPUSD.png\" width=\"295\"/>\n",
      "</a>\n",
      "<div class=\"graph_info\">\n",
      "<span class=\"time\">2021.09.27</span>\n",
      "<span class=\"source\">모닝스타 기준</span>\n",
      "</div>\n",
      "</li>\n",
      "<li class=\"\">\n",
      "<a class=\"head usd_idx\" href=\"/marketindex/worldExchangeDetail.naver?marketindexCd=FX_USDX\" onclick=\"clickcr(this, 'fr2.indt', '', '', event);\">\n",
      "<h3 class=\"h_lst\"><span class=\"blind\">달러인덱스</span></h3>\n",
      "<div class=\"head_info point_up\">\n",
      "<span class=\"value\">93.3800</span>\n",
      "<span class=\"change\">0.0500</span>\n",
      "<span class=\"blind\">상승</span>\n",
      "</div>\n",
      "</a>\n",
      "<a class=\"graph_img\" href=\"/marketindex/worldExchangeDetail.naver?marketindexCd=FX_USDX\" onclick=\"clickcr(this, 'fr2.indc', '', '', event);\">\n",
      "<img alt=\"\" height=\"153\" src=\"https://ssl.pstatic.net/imgfinance/chart/marketindex/FX_USDX.png\" width=\"295\"/>\n",
      "</a>\n",
      "<div class=\"graph_info\">\n",
      "<span class=\"time\">2021.09.27</span>\n",
      "<span class=\"source\">ICE 기준</span>\n",
      "</div>\n",
      "</li>\n",
      "</ul>\n",
      "</div>\n",
      "<!-- //data -->\n",
      "</div>\n",
      "<div class=\"market3\">\n",
      "<div class=\"title\">\n",
      "<h2 class=\"h_market3\"><span>유가·금시세</span></h2>\n",
      "</div>\n",
      "<!-- data -->\n",
      "<div class=\"data\">\n",
      "<ul class=\"data_lst\" id=\"oilGoldList\">\n",
      "<li class=\"on\">\n",
      "<a class=\"head wti\" href=\"/marketindex/worldOilDetail.naver?marketindexCd=OIL_CL&amp;fdtc=2\" onclick=\"clickcr(this, 'fr3.wtit', '', '', event);\">\n",
      "<h3 class=\"h_lst\"><span class=\"blind\">WTI</span></h3>\n",
      "<div class=\"head_info point_up\">\n",
      "<span class=\"value\">75.45</span>\n",
      "<span class=\"txt_usd\"><span class=\"blind\">달러</span></span>\n",
      "<span class=\"change\">1.47</span>\n",
      "<span class=\"blind\">상승</span>\n",
      "</div>\n",
      "</a>\n",
      "<a class=\"graph_img\" href=\"/marketindex/worldOilDetail.naver?marketindexCd=OIL_CL&amp;fdtc=2\" onclick=\"clickcr(this, 'fr3.wtic', '', '', event);\">\n",
      "<img alt=\"\" height=\"153\" src=\"https://ssl.pstatic.net/imgfinance/chart/marketindex/OIL_CL.png\" width=\"295\"/>\n",
      "</a>\n",
      "<div class=\"graph_info\">\n",
      "<span class=\"time\">2021.09.27</span>\n",
      "<span class=\"source\">NYMEX(뉴욕상업거래소) 기준</span>\n",
      "</div>\n",
      "</li>\n",
      "<li class=\"\">\n",
      "<a class=\"head gasoline\" href=\"/marketindex/oilDetail.naver?marketindexCd=OIL_GSL\" onclick=\"clickcr(this, 'fr3.oilt', '', '', event);\">\n",
      "<h3 class=\"h_lst\"><span class=\"blind\">휘발유</span></h3>\n",
      "<div class=\"head_info point_up\">\n",
      "<span class=\"value\">1644.42</span>\n",
      "<span class=\"txt_krw\"><span class=\"blind\">원</span></span>\n",
      "<span class=\"change\">0.49</span>\n",
      "<span class=\"blind\">상승</span>\n",
      "</div>\n",
      "</a>\n",
      "<a class=\"graph_img\" href=\"/marketindex/oilDetail.naver?marketindexCd=OIL_GSL\" onclick=\"clickcr(this, 'fr3.oilc', '', '', event);\">\n",
      "<img alt=\"\" height=\"153\" src=\"https://ssl.pstatic.net/imgfinance/chart/marketindex/OIL_GSL.png\" width=\"295\"/>\n",
      "</a>\n",
      "<div class=\"graph_info\">\n",
      "<span class=\"time\">2021.09.28</span>\n",
      "<span class=\"source\">한국석유공사 Opinet 기준</span>\n",
      "</div>\n",
      "</li>\n",
      "<li class=\"\">\n",
      "<a class=\"head gold_inter\" href=\"/marketindex/worldGoldDetail.naver?marketindexCd=CMDT_GC&amp;fdtc=2\" onclick=\"clickcr(this, 'fr3.agoldt', '', '', event);\">\n",
      "<h3 class=\"h_lst\"><span class=\"blind\">국제 금</span></h3>\n",
      "<div class=\"head_info point_up\">\n",
      "<span class=\"value\">1750.0</span>\n",
      "<span class=\"txt_usd\"><span class=\"blind\">달러</span></span>\n",
      "<span class=\"change\">0.30</span>\n",
      "<span class=\"blind\">상승</span>\n",
      "</div>\n",
      "</a>\n",
      "<a class=\"graph_img\" href=\"/marketindex/worldGoldDetail.naver?marketindexCd=CMDT_GC&amp;fdtc=2\" onclick=\"clickcr(this, 'fr3.agoldc', '', '', event);\">\n",
      "<img alt=\"\" height=\"153\" src=\"https://ssl.pstatic.net/imgfinance/chart/marketindex/CMDT_GC.png\" width=\"295\"/>\n",
      "</a>\n",
      "<div class=\"graph_info\">\n",
      "<span class=\"time\">2021.09.27</span>\n",
      "<span class=\"source\">COMEX(뉴욕상품거래소) 기준</span>\n",
      "</div>\n",
      "</li>\n",
      "<li class=\"\">\n",
      "<a class=\"head gold_domestic\" href=\"/marketindex/goldDetail.naver\" onclick=\"clickcr(this, 'fr3.kgoldt', '', '', event);\">\n",
      "<h3 class=\"h_lst\"><span class=\"blind\">국내 금</span></h3>\n",
      "<div class=\"head_info point_dn\">\n",
      "<span class=\"value\">66465.57</span>\n",
      "<span class=\"txt_krw\"><span class=\"blind\">원</span></span>\n",
      "<span class=\"change\"> 1.11</span>\n",
      "<span class=\"blind\">하락</span>\n",
      "</div>\n",
      "</a>\n",
      "<a class=\"graph_img\" href=\"/marketindex/goldDetail.naver\" onclick=\"clickcr(this, 'fr3.kgoldc', '', '', event);\">\n",
      "<img alt=\"\" height=\"153\" src=\"https://ssl.pstatic.net/imgfinance/chart/marketindex/CMDT_GD.png\" width=\"295\"/>\n",
      "</a>\n",
      "<div class=\"graph_info\">\n",
      "<span class=\"time\">2021.09.28 18:00</span>\n",
      "<span class=\"source\">신한은행 기준</span>\n",
      "\t\t\t\t\t\t\t(<span class=\"num\">179</span>회차)\t\t\t\n",
      "\t\t\t\t\t</div>\n",
      "</li>\n",
      "</ul>\n",
      "</div>\n",
      "<!-- //data -->\n",
      "</div>\n",
      "</div>\n",
      "</div>\n",
      "<div class=\"marketindex_content\" id=\"content\">\n",
      "<div class=\"section_news\">\n",
      "<h3 class=\"h_news2\"><span>주요 뉴스</span></h3>\n",
      "<div class=\"list_area\">\n",
      "<ul>\n",
      "<li>\n",
      "<p><a href=\"/marketindex/news/newsRead.naver?officeId=018&amp;articleId=0005046870&amp;category=\" onclick=\"clickcr(this, 'mhn.list', '018_0005046870', '0', event);\">'코로나·원자재·금리 3중고에 입법리스크까</a><img alt=\"NEW\" height=\"8\" src=\"https://ssl.pstatic.net/static/nfinance/ico_new.gif\" width=\"8\"/></p>\n",
      "<span>09.28 22:02</span>\n",
      "</li>\n",
      "<li>\n",
      "<p><a href=\"/marketindex/news/newsRead.naver?officeId=421&amp;articleId=0005626189&amp;category=\" onclick=\"clickcr(this, 'mhn.list', '421_0005626189', '1', event);\">대구 제조업 경기 2분기 연속 하락세…“코</a><img alt=\"NEW\" height=\"8\" src=\"https://ssl.pstatic.net/static/nfinance/ico_new.gif\" width=\"8\"/></p>\n",
      "<span>09.28 17:25</span>\n",
      "</li>\n",
      "<li>\n",
      "<p><a href=\"/marketindex/news/newsRead.naver?officeId=032&amp;articleId=0003100410&amp;category=\" onclick=\"clickcr(this, 'mhn.list', '032_0003100410', '2', event);\">코스피 한 달 만에 3100선 아래로...</a><img alt=\"NEW\" height=\"8\" src=\"https://ssl.pstatic.net/static/nfinance/ico_new.gif\" width=\"8\"/></p>\n",
      "<span>09.28 16:33</span>\n",
      "</li>\n",
      "<li>\n",
      "<p><a href=\"/marketindex/news/newsRead.naver?officeId=018&amp;articleId=0005046663&amp;category=\" onclick=\"clickcr(this, 'mhn.list', '018_0005046663', '3', event);\">[외환마감]국내증시 하락에 원화 약세…환율</a><img alt=\"NEW\" height=\"8\" src=\"https://ssl.pstatic.net/static/nfinance/ico_new.gif\" width=\"8\"/></p>\n",
      "<span>09.28 15:55</span>\n",
      "</li>\n",
      "<li>\n",
      "<p><a href=\"/marketindex/news/newsRead.naver?officeId=032&amp;articleId=0003100330&amp;category=\" onclick=\"clickcr(this, 'mhn.list', '032_0003100330', '4', event);\">코로나 재확산·원자재 값 상승에 제조업 경</a><img alt=\"NEW\" height=\"8\" src=\"https://ssl.pstatic.net/static/nfinance/ico_new.gif\" width=\"8\"/></p>\n",
      "<span>09.28 11:09</span>\n",
      "</li>\n",
      "<li>\n",
      "<p><a href=\"/marketindex/news/newsRead.naver?officeId=277&amp;articleId=0004975016&amp;category=\" onclick=\"clickcr(this, 'mhn.list', '277_0004975016', '5', event);\">국제유가 3년만에 최고…\"90달러까지 간다</a><img alt=\"NEW\" height=\"8\" src=\"https://ssl.pstatic.net/static/nfinance/ico_new.gif\" width=\"8\"/></p>\n",
      "<span>09.28 10:48</span>\n",
      "</li>\n",
      "<li>\n",
      "<p><a href=\"/marketindex/news/newsRead.naver?officeId=277&amp;articleId=0004974982&amp;category=\" onclick=\"clickcr(this, 'mhn.list', '277_0004974982', '6', event);\">[특징주]S-Oil, 유가 강세에 신고가</a><img alt=\"NEW\" height=\"8\" src=\"https://ssl.pstatic.net/static/nfinance/ico_new.gif\" width=\"8\"/></p>\n",
      "<span>09.28 10:17</span>\n",
      "</li>\n",
      "<li>\n",
      "<p><a href=\"/marketindex/news/newsRead.naver?officeId=008&amp;articleId=0004649556&amp;category=\" onclick=\"clickcr(this, 'mhn.list', '008_0004649556', '7', event);\">계속 뛰는 국제유가에 정유주 강세…S-Oi</a><img alt=\"NEW\" height=\"8\" src=\"https://ssl.pstatic.net/static/nfinance/ico_new.gif\" width=\"8\"/></p>\n",
      "<span>09.28 09:47</span>\n",
      "</li>\n",
      "<li>\n",
      "<p><a href=\"/marketindex/news/newsRead.naver?officeId=018&amp;articleId=0005046258&amp;category=\" onclick=\"clickcr(this, 'mhn.list', '018_0005046258', '8', event);\">[특징주]LX인터내셔널, 원자재 가격 급등</a><img alt=\"NEW\" height=\"8\" src=\"https://ssl.pstatic.net/static/nfinance/ico_new.gif\" width=\"8\"/></p>\n",
      "<span>09.28 09:34</span>\n",
      "</li>\n",
      "<li>\n",
      "<p><a href=\"/marketindex/news/newsRead.naver?officeId=011&amp;articleId=0003966636&amp;category=\" onclick=\"clickcr(this, 'mhn.list', '011_0003966636', '9', event);\">[특징주] 국제 유가 3년래 최고치...에</a><img alt=\"NEW\" height=\"8\" src=\"https://ssl.pstatic.net/static/nfinance/ico_new.gif\" width=\"8\"/></p>\n",
      "<span>09.28 09:24</span>\n",
      "</li>\n",
      "</ul>\n",
      "</div>\n",
      "<a class=\"btn_more\" href=\"/marketindex/news/newsList.naver\" onclick=\"clickcr(this, 'mhn.more', '', '', event);\"><img alt=\"더보기\" height=\"18\" src=\"https://ssl.pstatic.net/static/nfinance/btn_more.gif\" width=\"34\"/></a>\n",
      "</div>\n",
      "<div class=\"tab_default1\" id=\"tab_section\">\n",
      "<ul>\n",
      "<li class=\"on\"><a href=\"./?tabSel=exchange#tab_section\" onclick=\"clickcr(this, 'mtb.exnoti', '', '', event);\"><span class=\"tab1\">환전고시 환율</span></a></li>\n",
      "<li class=\"\"><a href=\"./?tabSel=worldExchange#tab_section\" onclick=\"clickcr(this, 'mtb.interex', '', '', event);\"><span class=\"tab2\">국제시장 환율</span></a></li>\n",
      "<li class=\"\"><a href=\"./?tabSel=gold#tab_section\" onclick=\"clickcr(this, 'mtb.oilgold', '', '', event);\"><span class=\"tab3\">유가 금시세</span></a></li>\n",
      "<li class=\"\"><a href=\"./?tabSel=materials#tab_section\" onclick=\"clickcr(this, 'mtb.material', '', '', event);\"><span class=\"tab4\">원자재</span></a></li>\n",
      "</ul>\n",
      "<h2 class=\"blind\">환전고시 환율</h2>\n",
      "</div>\n",
      "<div class=\"section_calculator\">\n",
      "<h3 class=\"h_calculator\"><span>환율계산기 (매매기준율 기준)</span></h3>\n",
      "<div class=\"calculator\">\n",
      "<div class=\"inner\">\n",
      "<div class=\"input\">\n",
      "<div class=\"selectbox-noscript\" id=\"sInput\">\n",
      "<select class=\"selectbox-source\" id=\"select_from\">\n",
      "<option label=\"1\" value=\"1\">대한민국 원 KRW</option>\n",
      "<option class=\"selectbox-default\" label=\"1\" selected=\"selected\" value=\"1187.0\"> 미국 달러 USD</option>\n",
      "<option label=\"1\" value=\"1187.0\"> 미국 달러 USD</option>\n",
      "<option label=\"1\" value=\"1386.42\"> 유럽연합 유로 EUR</option>\n",
      "<option label=\"100\" value=\"10.6515\"> 일본 엔 JPY</option>\n",
      "<option label=\"1\" value=\"183.63\"> 중국 위안 CNY</option>\n",
      "<option label=\"1\" value=\"152.53\"> 홍콩 달러 HKD</option>\n",
      "<option label=\"1\" value=\"42.73\"> 대만 달러 TWD</option>\n",
      "<option label=\"1\" value=\"1614.08\"> 영국 파운드 GBP</option>\n",
      "<option label=\"1\" value=\"3083.04\"> 오만 리알 OMR</option>\n",
      "<option label=\"1\" value=\"938.34\"> 캐나다 달러 CAD</option>\n",
      "<option label=\"1\" value=\"1278.68\"> 스위스 프랑 CHF</option>\n",
      "<option label=\"1\" value=\"135.94\"> 스웨덴 크로나 SEK</option>\n",
      "<option label=\"1\" value=\"859.74\"> 호주 달러 AUD</option>\n",
      "<option label=\"1\" value=\"826.03\"> 뉴질랜드 달러 NZD</option>\n",
      "<option label=\"1\" value=\"54.32\"> 체코 코루나 CZK</option>\n",
      "<option label=\"1\" value=\"1.49\"> 칠레 페소 CLP</option>\n",
      "<option label=\"1\" value=\"133.56\"> 터키 리라 TRY</option>\n",
      "<option label=\"1\" value=\"0.42\"> 몽골 투그릭 MNT</option>\n",
      "<option label=\"1\" value=\"369.83\"> 이스라엘 세켈 ILS</option>\n",
      "<option label=\"1\" value=\"186.45\"> 덴마크 크로네 DKK</option>\n",
      "<option label=\"1\" value=\"137.29\"> 노르웨이 크로네 NOK</option>\n",
      "<option label=\"1\" value=\"316.44\"> 사우디아라비아 리얄 SAR</option>\n",
      "<option label=\"1\" value=\"3938.29\"> 쿠웨이트 디나르 KWD</option>\n",
      "<option label=\"1\" value=\"3148.71\"> 바레인 디나르 BHD</option>\n",
      "<option label=\"1\" value=\"323.16\"> 아랍에미리트 디르함 AED</option>\n",
      "<option label=\"1\" value=\"1674.19\"> 요르단 디나르 JOD</option>\n",
      "<option label=\"1\" value=\"75.41\"> 이집트 파운드 EGP</option>\n",
      "<option label=\"1\" value=\"35.14\"> 태국 바트 THB</option>\n",
      "<option label=\"1\" value=\"874.43\"> 싱가포르 달러 SGD</option>\n",
      "<option label=\"1\" value=\"283.8\"> 말레이시아 링깃 MYR</option>\n",
      "<option label=\"100\" value=\"0.0834\"> 인도네시아 루피아 IDR</option>\n",
      "<option label=\"1\" value=\"325.97\"> 카타르 리얄 QAR</option>\n",
      "<option label=\"1\" value=\"2.79\"> 카자흐스탄 텡게 KZT</option>\n",
      "<option label=\"1\" value=\"874.43\"> 브루나이 달러 BND</option>\n",
      "<option label=\"1\" value=\"16.02\"> 인도 루피 INR</option>\n",
      "<option label=\"1\" value=\"6.97\"> 파키스탄 루피 PKR</option>\n",
      "<option label=\"1\" value=\"13.86\"> 방글라데시 타카 BDT</option>\n",
      "<option label=\"1\" value=\"23.26\"> 필리핀 페소 PHP</option>\n",
      "<option label=\"1\" value=\"58.68\"> 멕시코 페소 MXN</option>\n",
      "<option label=\"1\" value=\"220.14\"> 브라질 레알 BRL</option>\n",
      "<option label=\"100\" value=\"0.0521\"> 베트남 동 VND</option>\n",
      "<option label=\"1\" value=\"78.5\"> 남아프리카 공화국 랜드 ZAR</option>\n",
      "<option label=\"1\" value=\"16.34\"> 러시아 루블 RUB</option>\n",
      "<option label=\"1\" value=\"3.86\"> 헝가리 포린트 HUF</option>\n",
      "<option label=\"1\" value=\"300.14\"> 폴란드 즈워티 PLN</option>\n",
      "</select>\n",
      "<div class=\"selectbox-box\" onclick=\"clickcr(this, 'exl*c.clist1', '', '', event);\">\n",
      "<div class=\"selectbox-label\"></div>\n",
      "</div>\n",
      "<div class=\"selectbox-layer ly_calculator\">\n",
      "<div class=\"selectbox-list\"></div>\n",
      "</div>\n",
      "</div>\n",
      "<div class=\"input_area\" id=\"input_from\">\n",
      "<input id=\"input_from_money\" maxlength=\"10\" onclick=\"clickcr(this, 'exl*c.unit1', '', '', event);\" onfocus=\"changeActiveInput('from', 'to'); return false;\" onkeyup=\"calcExchange('from', 'to', 'on', event);\" type=\"text\" value=\"1\"/>\n",
      "<img alt=\"\" height=\"13\" id=\"img_from_monetary\" src=\"https://ssl.pstatic.net/static/nfinance/img_money_USD.gif\" width=\"26\"/>\n",
      "</div>\n",
      "</div>\n",
      "<div class=\"same\"><img alt=\"\" height=\"15\" src=\"https://ssl.pstatic.net/static/nfinance/ico_same.gif\" width=\"28\"/></div>\n",
      "<div class=\"view\">\n",
      "<div class=\"selectbox-noscript\" id=\"sView\">\n",
      "<select class=\"selectbox-source\" id=\"select_to\">\n",
      "<option class=\"selectbox-default\" label=\"1\" value=\"1\">대한민국 원 KRW</option>\n",
      "<option label=\"1\" value=\"1\">대한민국 원 KRW</option>\n",
      "<option label=\"1\" value=\"1187.0\">미국 달러 USD</option>\n",
      "<option label=\"1\" value=\"1386.42\">유럽연합 유로 EUR</option>\n",
      "<option label=\"100\" value=\"10.6515\">일본 엔 JPY</option>\n",
      "<option label=\"1\" value=\"183.63\">중국 위안 CNY</option>\n",
      "<option label=\"1\" value=\"152.53\">홍콩 달러 HKD</option>\n",
      "<option label=\"1\" value=\"42.73\">대만 달러 TWD</option>\n",
      "<option label=\"1\" value=\"1614.08\">영국 파운드 GBP</option>\n",
      "<option label=\"1\" value=\"3083.04\">오만 리알 OMR</option>\n",
      "<option label=\"1\" value=\"938.34\">캐나다 달러 CAD</option>\n",
      "<option label=\"1\" value=\"1278.68\">스위스 프랑 CHF</option>\n",
      "<option label=\"1\" value=\"135.94\">스웨덴 크로나 SEK</option>\n",
      "<option label=\"1\" value=\"859.74\">호주 달러 AUD</option>\n",
      "<option label=\"1\" value=\"826.03\">뉴질랜드 달러 NZD</option>\n",
      "<option label=\"1\" value=\"54.32\">체코 코루나 CZK</option>\n",
      "<option label=\"1\" value=\"1.49\">칠레 페소 CLP</option>\n",
      "<option label=\"1\" value=\"133.56\">터키 리라 TRY</option>\n",
      "<option label=\"1\" value=\"0.42\">몽골 투그릭 MNT</option>\n",
      "<option label=\"1\" value=\"369.83\">이스라엘 세켈 ILS</option>\n",
      "<option label=\"1\" value=\"186.45\">덴마크 크로네 DKK</option>\n",
      "<option label=\"1\" value=\"137.29\">노르웨이 크로네 NOK</option>\n",
      "<option label=\"1\" value=\"316.44\">사우디아라비아 리얄 SAR</option>\n",
      "<option label=\"1\" value=\"3938.29\">쿠웨이트 디나르 KWD</option>\n",
      "<option label=\"1\" value=\"3148.71\">바레인 디나르 BHD</option>\n",
      "<option label=\"1\" value=\"323.16\">아랍에미리트 디르함 AED</option>\n",
      "<option label=\"1\" value=\"1674.19\">요르단 디나르 JOD</option>\n",
      "<option label=\"1\" value=\"75.41\">이집트 파운드 EGP</option>\n",
      "<option label=\"1\" value=\"35.14\">태국 바트 THB</option>\n",
      "<option label=\"1\" value=\"874.43\">싱가포르 달러 SGD</option>\n",
      "<option label=\"1\" value=\"283.8\">말레이시아 링깃 MYR</option>\n",
      "<option label=\"100\" value=\"0.0834\">인도네시아 루피아 IDR</option>\n",
      "<option label=\"1\" value=\"325.97\">카타르 리얄 QAR</option>\n",
      "<option label=\"1\" value=\"2.79\">카자흐스탄 텡게 KZT</option>\n",
      "<option label=\"1\" value=\"874.43\">브루나이 달러 BND</option>\n",
      "<option label=\"1\" value=\"16.02\">인도 루피 INR</option>\n",
      "<option label=\"1\" value=\"6.97\">파키스탄 루피 PKR</option>\n",
      "<option label=\"1\" value=\"13.86\">방글라데시 타카 BDT</option>\n",
      "<option label=\"1\" value=\"23.26\">필리핀 페소 PHP</option>\n",
      "<option label=\"1\" value=\"58.68\">멕시코 페소 MXN</option>\n",
      "<option label=\"1\" value=\"220.14\">브라질 레알 BRL</option>\n",
      "<option label=\"100\" value=\"0.0521\">베트남 동 VND</option>\n",
      "<option label=\"1\" value=\"78.5\">남아프리카 공화국 랜드 ZAR</option>\n",
      "<option label=\"1\" value=\"16.34\">러시아 루블 RUB</option>\n",
      "<option label=\"1\" value=\"3.86\">헝가리 포린트 HUF</option>\n",
      "<option label=\"1\" value=\"300.14\">폴란드 즈워티 PLN</option>\n",
      "</select>\n",
      "<div class=\"selectbox-box\" onclick=\"clickcr(this, 'exl*c.clist2', '', '', event);\">\n",
      "<div class=\"selectbox-label\"></div>\n",
      "</div>\n",
      "<div class=\"selectbox-layer ly_calculator\">\n",
      "<div class=\"selectbox-list\"></div>\n",
      "</div>\n",
      "</div>\n",
      "<div class=\"input_area\" id=\"input_to\">\n",
      "<input id=\"input_to_money\" maxlength=\"10\" onclick=\"clickcr(this, 'exl*c.unit2', '', '', event);\" onfocus=\"changeActiveInput('to', 'from'); return false;\" onkeyup=\"calcExchange('to', 'from', 'on', event);\" type=\"text\"/>\n",
      "<img alt=\"\" height=\"13\" id=\"img_to_monetary\" src=\"https://ssl.pstatic.net/static/nfinance/img_money_KRW.gif\" width=\"26\"/>\n",
      "</div>\n",
      "</div>\n",
      "</div>\n",
      "</div>\n",
      "</div>\n",
      "<div class=\"section_exchange\">\n",
      "<div id=\"section_ex1\">\n",
      "<h3 class=\"blind\" id=\"exchange1\">환전 고시 환율</h3>\n",
      "<div class=\"exchange_info\">\n",
      "<span class=\"date\">2021.09.28 20:04</span>\n",
      "<span class=\"standard\">하나은행 기준</span>\n",
      "<span class=\"round\">고시회차 <em>318</em>회</span>\n",
      "</div>\n",
      "<iframe frameborder=\"0\" height=\"1378px\" id=\"frame_ex1\" marginheight=\"0\" marginwidth=\"0\" scrolling=\"no\" src=\"/marketindex/exchangeList.naver\" title=\"환전 고시 환율\" width=\"100%\"></iframe>\n",
      "</div>\n",
      "<ul class=\"tbl_info\">\n",
      "<li>통화명과 심볼은 앞에 위치한 통화에 1이 생략된 형태로, 달러/일본 엔(심볼: USDJPY)인 경우 1 USD(달러)가 JPY(일본 엔)으로 얼마인가를 의미합니다.</li>\n",
      "</ul>\n",
      "</div>\n",
      "<script language=\"javascript\" src=\"https://ssl.pstatic.net/imgstock/static.pc/20210916165954/js/jindoComponent/jindo.Component.1.0.3.js\" type=\"text/javascript\"></script>\n",
      "<script language=\"javascript\" src=\"https://ssl.pstatic.net/imgstock/static.pc/20210916165954/js/jindoComponent/jindo.UIComponent.1.0.1.js\" type=\"text/javascript\"></script>\n",
      "<script language=\"javascript\" src=\"https://ssl.pstatic.net/imgstock/static.pc/20210916165954/js/jindoComponent/jindo.HTMLComponent.1.0.1.js\" type=\"text/javascript\"></script>\n",
      "<script language=\"javascript\" src=\"https://ssl.pstatic.net/imgstock/static.pc/20210916165954/js/jindoComponent/jindo.Timer.1.0.3.js\" type=\"text/javascript\"></script>\n",
      "<script language=\"javascript\" src=\"https://ssl.pstatic.net/imgstock/static.pc/20210916165954/js/jindoComponent/jindo.LayerManager.1.0.1.js\" type=\"text/javascript\"></script>\n",
      "<script language=\"javascript\" src=\"https://ssl.pstatic.net/imgstock/static.pc/20210916165954/js/jindoComponent/jindo.LayerPosition.1.0.1.js\" type=\"text/javascript\"></script>\n",
      "<script language=\"javascript\" src=\"https://ssl.pstatic.net/imgstock/static.pc/20210916165954/js/jindoComponent/jindo.RolloverArea.1.0.1.js\" type=\"text/javascript\"></script>\n",
      "<script language=\"javascript\" src=\"https://ssl.pstatic.net/imgstock/static.pc/20210916165954/js/jindoComponent/jindo.RolloverClick.1.0.1.js\" type=\"text/javascript\"></script>\n",
      "<script language=\"javascript\" src=\"https://ssl.pstatic.net/imgstock/static.pc/20210916165954/js/jindoComponent/jindo.SelectBox.1.0.1.js\" type=\"text/javascript\"></script>\n",
      "<script charset=\"euckr\" language=\"javascript\" src=\"https://ssl.pstatic.net/imgstock/static.pc/20210916165954/js/jindoComponent/jindo.TextRange.1.0.1.js\" type=\"text/javascript\"></script>\n",
      "<script charset=\"euckr\" language=\"javascript\" src=\"https://ssl.pstatic.net/imgstock/static.pc/20210916165954/js/jindoComponent/jindo.WatchInput.1.0.1.js\" type=\"text/javascript\"></script>\n",
      "<script charset=\"euckr\" language=\"javascript\" src=\"https://ssl.pstatic.net/imgstock/static.pc/20210916165954/js/jindoComponent/jindo.Formatter.1.1.0.js\" type=\"text/javascript\"></script>\n",
      "<script charset=\"euckr\" language=\"javascript\" src=\"https://ssl.pstatic.net/imgstock/static.pc/20210916165954/js/jindoComponent/jindo.NumberFormatter.1.0.1.js\" type=\"text/javascript\"></script>\n",
      "<script language=\"javascript\" src=\"https://ssl.pstatic.net/imgstock/static.pc/20210916165954/js/exchange.js\" type=\"text/javascript\"></script>\n",
      "<script type=\"text/javascript\">\n",
      "// exchangeDetail.jsp에도 동일 스크립트 있음 - 로딩시 디자인이 0.5초간 디자인이 안뜬다는 이슈로 include하지 않고 같은 스크립트를 두벌로 관리함\n",
      "\n",
      "//환율 계산\n",
      "function calcExchange(str1, str2, cssOn, event) {\n",
      "\tvar oEvent = event || window.event;\n",
      "    var sKeyCode = (undefined === oEvent) ? undefined : jindo.$Event(oEvent).key().keyCode;\n",
      "\t\n",
      "\tif (sKeyCode != 13 && sKeyCode != 27 && sKeyCode != 37 && sKeyCode != 38 && sKeyCode != 110 && sKeyCode != 229) {\n",
      "\t\tif (str1 == '' && str2 == '') {\n",
      "\t\t\tif (jindo.$('input_to').className == 'input_area') {\n",
      "\t\t\t\tstr1 = 'from';\n",
      "\t\t\t\tstr2 = 'to';\n",
      "\t\t\t} else {\n",
      "\t\t\t\tstr1 = 'to';\n",
      "\t\t\t\tstr2 = 'from';\n",
      "\t\t\t}\n",
      "\t\t}\n",
      "\t\t\n",
      "\t\tvar regExp = new RegExp(\"[^0-9\\.\\,]\");\n",
      "\t    var sInputValue = jindo.$('input_' + str1 + '_money').value;\n",
      "\t\t\n",
      "\t    if(regExp.test(sInputValue)){\n",
      "\t\t\talert('숫자, 소수점(.)만 입력하실 수 있습니다.');\n",
      "\t\t\tjindo.$('input_' + str1 + '_money').value = revertInputText(sInputValue);\n",
      "\t\t\treturn false;\n",
      "\t\t}\n",
      "\t\t\n",
      "\t\t// 사용자가 입력한 콤마(,) 제거\n",
      "\t    if (sInputValue.substr(sInputValue.length - 1, 1) == ',') {\n",
      "\t    \tjindo.$('input_' + str1 + '_money').value = revertInputText(sInputValue);\n",
      "\t    \treturn false;\n",
      "\t    }\n",
      "\t\t\n",
      "\t\t// 맨 앞에 있는 숫자 0 없애기\n",
      "\t\tif (sInputValue == '0' || sInputValue == '.' || sInputValue == ',') {\n",
      "\t\t\tjindo.$('input_' + str1 + '_money').value = revertInputText(sInputValue);\n",
      "\t\t\treturn false;\n",
      "\t\t}\n",
      "\t\t\n",
      "\t\t// 소수점 2개가 없도록\n",
      "\t\tvar match = sInputValue.match(/\\./g);\n",
      "\t\tif (match != null && match.length >= 2) {\n",
      "\t\t\tjindo.$('input_' + str1 + '_money').value = revertInputText(sInputValue);\n",
      "\t\t\treturn false;\n",
      "\t\t}\n",
      "\t\t\n",
      "\t\t// 소수점을 입력한 경우, 일단 대기\n",
      "\t\tvar pointPosIndex = sInputValue.indexOf('.');\n",
      "\t\tif (pointPosIndex != -1 && pointPosIndex == sInputValue.length - 1) {\n",
      "\t\t\treturn false;\n",
      "\t\t}\n",
      "\t\t\n",
      "\t\t// 소수점 2자리 유지\n",
      "\t\tif (pointPosIndex != -1 && sInputValue.substring(pointPosIndex + 1, sInputValue.length).length > 2) {\n",
      "\t\t\tjindo.$('input_' + str1 + '_money').value = revertInputText(sInputValue);\n",
      "\t\t\treturn false;\n",
      "\t\t}\n",
      "\t\t\n",
      "\t\tvar e_select_from\t= jindo.$('select_'+str1);\n",
      "\t\tvar e_select_to\t= jindo.$('select_'+str2);\n",
      "\t\n",
      "\t\tvar input_from_money\t= jindo.$('input_'+str1+'_money').value ;\n",
      "\t\tvar input_from\t\t= e_select_from.options[e_select_from.selectedIndex].value ;\n",
      "\t\tvar input_to\t\t= e_select_to.options[e_select_to.selectedIndex].value ;\n",
      "\t\tvar unit_from\t= e_select_from.options[e_select_from.selectedIndex].text ;\n",
      "\t\tvar unit_to\t\t= e_select_to.options[e_select_to.selectedIndex].text ;\n",
      "\t\tinput_from_money = input_from_money.replace(/ |,|\\t/g, \"\") ;\n",
      "\t\tinput_from\t= input_from.replace(/ |,|\\t/g, \"\") ;\n",
      "\t\tinput_to\t= input_to.replace(/ |,|\\t/g, \"\") ;\n",
      "\t\tunit_from = unit_from.substr(unit_from.length-3, 3);\n",
      "\t\tunit_to = unit_to.substr(unit_to.length-3, 3);\n",
      "\t\n",
      "\t\tvar str1_result = input_from_money * 1 ;\n",
      "\t\tvar str1_str\t= str1_result.toFixed(0) ;\n",
      "\t\tvar str1_len = str1_str.length ;\n",
      "\t\tvar str1_result_str = new String(\"\") ;\n",
      "\t\n",
      "\t\tif(str1_str > str1_result)\n",
      "\t\t\tstr1_str = new String(str1_str-1) ;\n",
      "\t\n",
      "\t\tif (str1_len >= 3) {\n",
      "\t\t\tfor (i = str1_len - 3; i > 0; i-=3)\n",
      "\t\t\t\tstr1_result_str = \",\" + str1_str.substr(i, 3) + str1_result_str ;\n",
      "\t\n",
      "\t\t\tstr1_result_str = str1_str.substr(0, 3+i) + str1_result_str ;\n",
      "\t\n",
      "\t\t\tfor (var i=0; i<input_from_money.length; i++) {\n",
      "\t\t\t\tif (input_from_money.substr(i,1) != '0') {\n",
      "\t\t\t\t\tinput_from_money = input_from_money.substring(i,input_from_money.length) ;\n",
      "\t\t\t\t\tbreak;\n",
      "\t\t\t\t}\n",
      "\t\t\t}\n",
      "\t\n",
      "\t\t\tif (str1_str != input_from_money) {\n",
      "\t\t\t\tstr1_result_str += str1_result.toFixed(input_from_money.split(\".\")[1].length).substr(str1_len, input_from_money.split(\".\")[1].length + 1) ;\n",
      "\t\t\t}\n",
      "\t\t} else\n",
      "\t\t\tstr1_result_str = input_from_money ;\n",
      "\t\n",
      "\t\tvar str2_result = input_from_money * input_from / input_to ;\n",
      "\t\tvar str2_str\t= str2_result.toFixed(0) ;\n",
      "\t\tvar str2_len = str2_str.length ;\n",
      "\t\tvar str2_result_str = new String(\"\") ;\n",
      "\t\n",
      "\t\tif (str2_str > str2_result)\n",
      "\t\t\tstr2_str = new String(str2_str-1) ;\n",
      "\t\n",
      "\t\tif (str2_len >= 3) {\n",
      "\t\t\tfor (i = str2_len - 3; i > 0; i-=3)\n",
      "\t\t\t\tstr2_result_str = \",\" + str2_str.substr(i, 3) + str2_result_str ;\n",
      "\t\n",
      "\t\t\tstr2_result_str = str2_str.substr(0, 3+i) + str2_result_str ;\n",
      "\t\t\tstr2_result_str += str2_result.toFixed(2).substr(str2_len, 3) ;\n",
      "\t\t} else\n",
      "\t\t\tstr2_result_str = str2_result.toFixed(2) ;\n",
      "\t\n",
      "\t\tjindo.$('input_'+str1+'_money').value = str1_result_str;\n",
      "\t\tjindo.$('input_'+str2+'_money').value = str2_result_str;\n",
      "\t\tjindo.$('img_'+str1+'_monetary').src = \"https://ssl.pstatic.net/static/nfinance/img_money_\"+unit_from+\".gif\";\n",
      "\t\tjindo.$('img_'+str2+'_monetary').src = \"https://ssl.pstatic.net/static/nfinance/img_money_\"+unit_to+\".gif\";\n",
      "\t\tjindo.$Element(jindo.$('input_'+str1)).addClass(\"on\");\n",
      "\t\tjindo.$Element(jindo.$('input_'+str2)).removeClass(\"on\");\n",
      "\t\tif (cssOn == \"off\"){\n",
      "\t\t\tjindo.$Element(jindo.$('input_'+str1)).removeClass(\"on\");\n",
      "\t\t}\n",
      "\t}\n",
      "}\n",
      "\n",
      "function revertInputText(sOrgText) {\n",
      "\tvar sResult = sOrgText;\n",
      "\t\n",
      "\tif (sOrgText != '') {\n",
      "\t\tsResult = sOrgText.substr(0, sOrgText.length - 1);\n",
      "\t}\n",
      "\t\n",
      "\treturn sResult;\n",
      "}\n",
      "\n",
      "jindo.$Fn(function(){\n",
      "\tchartMouseOverEvent('exchangeList');\t\t\n",
      "   }).attach(document, \"domready\");\n",
      "</script>\n",
      "</div>\n",
      "<script language=\"javascript\" src=\"https://ssl.pstatic.net/imgstock/static.pc/20210916165954/js/jindo_ellipse.js\"></script>\n",
      "<script language=\"javascript\" src=\"https://ssl.pstatic.net/imgstock/static.pc/20210916165954/js/util.js\"></script>\n",
      "<script type=\"text/javascript\">\n",
      "\n",
      "function ellipseTopNewsTitle() {\n",
      "\tjindo.EllipseText.factory(jindo.$$(\".news_list ul li\"), {nAssistWidth: 10});\n",
      "}\n",
      "\n",
      "var basicDates;\n",
      "\n",
      "function initDate() {\n",
      "\tbasicDates = jindo.$H();\n",
      "\tbasicDates.add('', '');\n",
      "\tbasicDates.add('', '');\n",
      "\tbasicDates.add('', '');\n",
      "\tbasicDates.add('', '');\n",
      "\tbasicDates.add('', '');\n",
      "\tbasicDates.add('', '');\n",
      "}\n",
      "\n",
      "var basicDescriptions;\n",
      "\n",
      "function initDescription() {\n",
      "\tbasicDescriptions = jindo.$H();\n",
      "\tbasicDescriptions.add('CMDT_CDY','<em></em>  기준<span>단위:</span>');\n",
      "\tbasicDescriptions.add('CMDT_PDY','<em></em>  기준<span>단위:</span>');\n",
      "\tbasicDescriptions.add('CMDT_NG','<em></em>  기준<span>단위:</span>');\n",
      "\tbasicDescriptions.add('CMDT_S','<em></em>  기준<span>단위:</span>');\n",
      "\tbasicDescriptions.add('CMDT_C','<em></em>  기준<span>단위:</span>');\n",
      "\tbasicDescriptions.add('CMDT_SB','<em></em>  기준<span>단위:</span>');\n",
      "}\n",
      "\n",
      "function setEvent(num, imgChartUrl){\t\n",
      "\tvar parentElemnt = jindo.$$('.tbl_market')[num];\n",
      "\tvar elementList = jindo.$$('tr',parentElemnt);\n",
      "\t\n",
      "\tjindo.$Fn(function(e){\t\n",
      "\t\tvar elementListSize = elementList.length;\n",
      "\t\t\n",
      "\t\tfor(var i = 0 ; i < elementListSize ; i ++)\n",
      "\t\t{\n",
      "\t\t\tvar selectedElement = jindo.$Element(elementList[i]);\n",
      "\t\t\tvar selectedClassName = selectedElement.className();\n",
      "\t\t\tif (selectedClassName != \"\") {\n",
      "\t\t\t\tselectedElement.removeClass(selectedClassName);\n",
      "\t\t\t\tselectedElement.addClass(selectedClassName.replace(\"on\",\"\"));\n",
      "\t\t\t}\n",
      "\t\t} \n",
      "\t\t\n",
      "\t\tvar ele = jindo.$Element(jindo.$Event(e).currentElement);\n",
      "\t\tvar linkUrl = jindo.$$.getSingle('a' , ele.$value()).href;\n",
      "\t\tvar marketindexCd = linkUrl.split('=')[1];\n",
      "\t\tvar className = ele.className();\n",
      "\t\tele.removeClass(className);\n",
      "\t\tele.addClass(className+\" on\");\n",
      "\t\tvar graphElement = jindo.$Element(jindo.$$('.thum')[num]);\n",
      "\t\tgraphElement.html('<a href=\\\"'+linkUrl+'\\\"><img src=\\\"https://ssl.pstatic.net/imgfinance/chart/marketindex/' + marketindexCd + '.png\\\" width=\\\"295\\\" height=\\\"153\\\" alt=\"\"></a>');\n",
      "\t\t\n",
      "\t\tif (basicDates.hasKey(marketindexCd)) {\n",
      "\t\t\tjindo.$Element(\"basicDate\").text(basicDates.$(marketindexCd));\n",
      "\t\t}\n",
      "\t\tif (basicDescriptions.hasKey(marketindexCd)) {\n",
      "\t\t\tjindo.$Element(\"basicDescription\").html(basicDescriptions.$(marketindexCd));\n",
      "\t\t}\n",
      "\t\n",
      "\t}).attach(elementList, \"mouseover\");\t\n",
      "}\n",
      "\n",
      "jindo.$Fn(function(){\n",
      "\t\tinitDate();\n",
      "\t\tinitDescription();\n",
      "\t\tchartMouseOverEvent('exchangeList');\n",
      "\t\tchartMouseOverEvent('worldExchangeList');\n",
      "\t\tchartMouseOverEvent('oilGoldList');\n",
      "\t\tjindo.$$('title')[0].innerHTML = \"시장지표 : 네이버 금융\";\n",
      "}).attach(document, \"domready\");\n",
      "\n",
      "</script>\n",
      "<div class=\"aside\" id=\"marketindex_aside\">\n",
      "<div class=\"section_aside\">\n",
      "<h3 class=\"h_interest\"><span>국내시장금리</span></h3>\n",
      "<table class=\"tbl_exchange market\" summary=\"국제시장 환율 리스트\">\n",
      "<caption>국내시장금리</caption>\n",
      "<colgroup>\n",
      "<col width=\"94\"/>\n",
      "<col width=\"50\"/>\n",
      "<col width=\"75\"/>\n",
      "</colgroup>\n",
      "<thead>\n",
      "<tr>\n",
      "<th>구분</th>\n",
      "<th>금리</th>\n",
      "<th>등락율</th>\n",
      "</tr>\n",
      "</thead>\n",
      "<tbody>\n",
      "<tr class=\"up\">\n",
      "<th class=\"th_inter4\"><a href=\"/marketindex/interestDetail.naver?marketindexCd=IRR_CD91\" onclick=\"clickcr(this, 'rid.local', 'IRR_CD91', '1', event);\"><span>CD금리(91일)</span></a></th>\n",
      "<td>1.04</td>\n",
      "<td><img alt=\"상승\" height=\"6\" src=\"https://ssl.pstatic.net/static/nfinance/ico_up.gif\" width=\"7\"/> 0.01</td>\n",
      "</tr>\n",
      "<tr class=\"down\">\n",
      "<th class=\"th_inter1\"><a href=\"/marketindex/interestDetail.naver?marketindexCd=IRR_CALL\" onclick=\"clickcr(this, 'met.8', 'IRR_CALL', '2', event);\"><span>콜 금리</span></a></th>\n",
      "<td>0.72</td>\n",
      "<td><img alt=\"하락\" height=\"6\" src=\"https://ssl.pstatic.net/static/nfinance/ico_down.gif\" width=\"7\"/> 0.03</td>\n",
      "</tr>\n",
      "<tr class=\"up\">\n",
      "<th class=\"th_inter2\"><a href=\"/marketindex/interestDetail.naver?marketindexCd=IRR_GOVT03Y\" onclick=\"clickcr(this, 'met.8', 'IRR_GOVT03Y', '3', event);\"><span>국고채 (3년)</span></a></th>\n",
      "<td>1.60</td>\n",
      "<td><img alt=\"상승\" height=\"6\" src=\"https://ssl.pstatic.net/static/nfinance/ico_up.gif\" width=\"7\"/> 0.04</td>\n",
      "</tr>\n",
      "<tr class=\"up\">\n",
      "<th class=\"th_inter3\"><a href=\"/marketindex/interestDetail.naver?marketindexCd=IRR_CORP03Y\" onclick=\"clickcr(this, 'met.8', 'IRR_CORP03Y', '4', event);\"><span>회사채 (3년)</span></a></th>\n",
      "<td>2.06</td>\n",
      "<td><img alt=\"상승\" height=\"6\" src=\"https://ssl.pstatic.net/static/nfinance/ico_up.gif\" width=\"7\"/> 0.05</td>\n",
      "</tr>\n",
      "<tr class=\"same\">\n",
      "<th class=\"th_inter5\"><a href=\"/marketindex/interestDetail.naver?marketindexCd=IRR_COFIXBAL\" onclick=\"clickcr(this, 'met.8', 'IRR_COFIXBAL', '5', event);\"><span>COFIX 잔액</span></a></th>\n",
      "<td>1.02</td>\n",
      "<td><img alt=\"보합\" height=\"6\" src=\"https://ssl.pstatic.net/static/nfinance/ico_same2.gif\" width=\"7\"/> 0.00</td>\n",
      "</tr>\n",
      "<tr class=\"up\">\n",
      "<th class=\"th_inter6\"><a href=\"/marketindex/interestDetail.naver?marketindexCd=IRR_COFIXNEW\" onclick=\"clickcr(this, 'met.8', 'IRR_COFIXNEW', '6', event);\"><span>COFIX 신규취급액</span></a></th>\n",
      "<td>0.95</td>\n",
      "<td><img alt=\"상승\" height=\"6\" src=\"https://ssl.pstatic.net/static/nfinance/ico_up.gif\" width=\"7\"/> 0.03</td>\n",
      "</tr>\n",
      "</tbody>\n",
      "</table>\n",
      "<table class=\"tbl_exchange tbl_exchange_v1 market\" style=\"margin-top:10px;\" summary=\"달러 인덱스\">\n",
      "<caption>달러 인덱스</caption>\n",
      "<colgroup>\n",
      "<col width=\"88\"/>\n",
      "<col width=\"46\"/>\n",
      "<col width=\"66\"/>\n",
      "</colgroup>\n",
      "<thead>\n",
      "<tr>\n",
      "<th>구분</th>\n",
      "<th>금리</th>\n",
      "<th>등락율</th>\n",
      "</tr>\n",
      "</thead>\n",
      "<tbody>\n",
      "<tr class=\"other_t1 up\">\n",
      "<th class=\"th_inter7\"><a href=\"/marketindex/worldExchangeDetail.naver?marketindexCd=FX_USDX&amp;fdtc=4\" onclick=\"clickcr(this, 'rid.dollar', 'FX_USDX', '', event);\"><span>달러 인덱스</span></a></th>\n",
      "<td>93.3800</td>\n",
      "<td><img alt=\"상승\" height=\"6\" src=\"https://ssl.pstatic.net/static/nfinance/ico_up.gif\" width=\"7\"/> 0.0500</td>\n",
      "</tr>\n",
      "</tbody>\n",
      "</table>\n",
      "</div>\n",
      "<div class=\"section_aside\">\n",
      "<div class=\"tab_search search3\">\n",
      "<a href=\"#\" onclick=\"clickcr(this, 'rch.1', '', '', event); return false;\"><span>최근조회</span></a>\n",
      "<a href=\"#\" onclick=\"clickcr(this, 'rch.3', '', '', event); return false;\"><span>MY STOCK</span></a>\n",
      "</div>\n",
      "<h3 class=\"blind\">최근조회</h3>\n",
      "<table class=\"tbl_search\" summary=\"최근조회 리스트\">\n",
      "<caption>최근조회</caption>\n",
      "<colgroup>\n",
      "<col/>\n",
      "<col width=\"55\"/>\n",
      "<col width=\"87\"/>\n",
      "</colgroup>\n",
      "<thead>\n",
      "<tr>\n",
      "<th>업체명</th>\n",
      "<th>거래량</th>\n",
      "<th>전일비</th>\n",
      "</tr>\n",
      "</thead>\n",
      "<tbody>\n",
      "</tbody>\n",
      "</table>\n",
      "<div class=\"more_info\">\n",
      "<span>\n",
      "<a href=\"#\" onclick=\"clickcr(this, 'rch.5', '', '', event); return false;\"><img alt=\"이전\" height=\"15\" src=\"https://ssl.pstatic.net/static/nfinance/btn_prev2.gif\" width=\"17\"/></a>\n",
      "<a href=\"#\" onclick=\"clickcr(this, 'rch.6', '', '', event); return false;\"><img alt=\"다음\" height=\"15\" src=\"https://ssl.pstatic.net/static/nfinance/btn_next2.gif\" width=\"17\"/></a>\n",
      "</span>\n",
      "<a class=\"btn_more _mystock_more_info\" href=\"#\" onclick=\"javascript:openMyitemNew('https://finance.naver.com'); clickcr(this, 'rch.7', '', '', event);\"><img alt=\"더보기\" height=\"10\" src=\"https://ssl.pstatic.net/static/nfinance/btn_more5.gif\" width=\"33\"/></a>\n",
      "</div>\n",
      "</div>\n",
      "<div class=\"section_aside\">\n",
      "<h3 class=\"h_report\"><span>경제분석 리포트 </span></h3>\n",
      "<ul class=\"list_report\">\n",
      "<li><a href=\"/research/economy_read.naver?nid=7420\" onclick=\"clickcr(this, 'rer.list', '', '', event);\">국내외 경제이슈</a></li>\n",
      "<li><a href=\"/research/economy_read.naver?nid=7419\" onclick=\"clickcr(this, 'rer.list', '', '', event);\">국내외 경제이슈</a></li>\n",
      "<li><a href=\"/research/economy_read.naver?nid=7418\" onclick=\"clickcr(this, 'rer.list', '', '', event);\">미국 높은 수준의 인플레이션율 유...</a></li>\n",
      "<li><a href=\"/research/economy_read.naver?nid=7417\" onclick=\"clickcr(this, 'rer.list', '', '', event);\">9월 FOMC: 빨라지는 정상화,...</a></li>\n",
      "<li><a href=\"/research/economy_read.naver?nid=7416\" onclick=\"clickcr(this, 'rer.list', '', '', event);\">미국과 중국의 각각 채무불이행 위...</a></li>\n",
      "</ul>\n",
      "<a class=\"btn_more\" href=\"/research/economy_list.naver\" onclick=\"clickcr(this, 'rer.more', '', '', event);\"><img alt=\"경제분석 리포트 더보기\" height=\"18\" src=\"https://ssl.pstatic.net/static/nfinance/btn_more.gif\" width=\"34\"/></a>\n",
      "</div>\n",
      "</div>\n",
      "<script language=\"javascript\" src=\"https://ssl.pstatic.net/imgstock/static.pc/20210916165954/js/info/myStock.js\" type=\"text/javascript\"></script>\n",
      "<script language=\"javascript\" src=\"https://ssl.pstatic.net/imgstock/static.pc/20210916165954/js/util.js\" type=\"text/javascript\"></script>\n",
      "<script language=\"javascript\">\n",
      "\n",
      "function toggleTabSearch(e){\n",
      "\tvar currentElement = jindo.$Element(jindo.$Event(e).currentElement);\n",
      "\tvar parentElement = currentElement.parent();\n",
      "\tvar id = currentElement.className();\n",
      "\tvar order = parentElement.indexOf(currentElement) + 3;\n",
      "\tparentElement.className(\"tab_search search\"+ order);\n",
      "\n",
      "\t// 페이징을 위해서 order값에 따라 최근조회인지 mystock인지 type을 저장\n",
      "\tif (order == 3) {\n",
      "\t\tcurrentType = \"recent\";\n",
      "\t} else {\n",
      "\t\tcurrentType = \"mystock\";\n",
      "\t}\n",
      "}\n",
      "\n",
      "jindo.$Fn(function(){\n",
      "\tif ('true' == 'true') {\n",
      "\t\tgetStockRightMenuData('000000', 'recent', 1, 'https://finance.naver.com', 'https://ssl.pstatic.net/static/nfinance');\n",
      "\n",
      "\t\tvar tabSearchArea = jindo.$$.getSingle('.tab_search');\n",
      "\t\tvar moreInfoArea = jindo.$Element(jindo.$$.getSingle('.tbl_search')).next().$value();\n",
      "\n",
      "\t\tjindo.$Fn(function(e) {toggleTabSearch(e); getStockRightMenuData('000000', 'recent', 1, 'https://finance.naver.com', 'https://ssl.pstatic.net/static/nfinance'); }).attach(jindo.$$.getSingle('a' ,tabSearchArea), 'click');\n",
      "\t\tjindo.$Fn(function(e) {toggleTabSearch(e); getStockRightMenuData('000000', 'mystock', 1, 'https://finance.naver.com', 'https://ssl.pstatic.net/static/nfinance'); }).attach(jindo.$$('a' ,tabSearchArea)[1], 'click');\n",
      "\t\tjindo.$Fn(function(e) {updatePageForPaging (currentType, 'up', 'https://finance.naver.com', 'https://ssl.pstatic.net/static/nfinance'); }).attach(jindo.$$.getSingle('a', moreInfoArea), 'click');\n",
      "\t\tjindo.$Fn(function(e) {updatePageForPaging (currentType, 'down', 'https://finance.naver.com', 'https://ssl.pstatic.net/static/nfinance'); }).attach(jindo.$$('a', moreInfoArea)[1], 'click');\n",
      "\t}\n",
      "\n",
      "}).attach(document,\"domready\");\n",
      "\n",
      "function openMyitemNew(stockHost) {\n",
      "\tvar selectedElement = jindo.$Element(jindo.$$.getSingle(\".tab_search\"));\n",
      "\tif (selectedElement != null) {\n",
      "\t\tif (selectedElement.hasClass(\"search1\")) {\n",
      "\t\t\tdocument.location.href = stockHost + '/mystock/recentSearchItemList.naver';\n",
      "\t\t} else {\n",
      "\t\t\tdocument.location.href = stockHost + '/mystock/itemList.naver';\n",
      "\t\t}\n",
      "\t}\n",
      "}\n",
      "\n",
      "</script>\n",
      "</div>\n",
      "<div id=\"footer\">\n",
      "<ul>\n",
      "<li class=\"first\">\n",
      "<a href=\"https://www.naver.com/rules/service.html\" onclick=\"clickcr(this, 'fot.service', '', '', event);\" target=\"_blank\">이용약관</a>\n",
      "</li>\n",
      "<li>\n",
      "<a href=\"/rules.naver\" onclick=\"clickcr(this, 'fot.policy', '', '', event);\" target=\"_blank\">금융게시판 운영원칙</a>\n",
      "</li>\n",
      "<li>\n",
      "<a href=\"https://www.naver.com/rules/privacy.html\" onclick=\"clickcr(this, 'fot.privacy', '', '', event);\" target=\"_blank\"><strong>개인정보처리방침</strong></a>\n",
      "</li>\n",
      "<li>\n",
      "<a href=\"https://www.naver.com/rules/disclaimer.html\" onclick=\"clickcr(this, 'fot.limit', '', '', event);\" target=\"_blank\">책임의 한계와 법적고지</a>\n",
      "</li>\n",
      "<li>\n",
      "<a href=\"https://help.naver.com/support/alias/contents2/finance/finance_1.naver\" onclick=\"clickcr(this, 'fot.help', '', '', event);\" target=\"_blank\">금융 고객센터</a>\n",
      "</li>\n",
      "</ul>\n",
      "<p class=\"desc\">네이버(주)가 제공하는 금융 정보는 각 콘텐츠 제공업체로부터 받는 투자 참고사항이며, 오류가 발생하거나 지연될 수 있습니다.<br/>네이버(주)와 콘텐츠 제공업체는 제공된 정보에 의한 투자 결과에 법적인 책임을 지지 않습니다. 게시된 정보는 무단으로 배포할 수 없습니다.</p>\n",
      "<address>\n",
      "<a class=\"logo\" href=\"https://www.navercorp.com/\" onclick=\"clickcr(this, 'fot.nhn', '', '', event);\" target=\"_blank\"><img alt=\"NAVER\" height=\"11\" src=\"https://ssl.pstatic.net/static/nfinance/2019/02/22/ci_naver.png\" width=\"58\"/></a>\n",
      "<em>Copyright ©</em>\n",
      "<a href=\"https://www.navercorp.com/\" onclick=\"clickcr(this, 'fot.nhn', '', '', event);\" target=\"_blank\">NAVER Corp.</a>\n",
      "<span>All Rights Reserved.</span>\n",
      "</address>\n",
      "</div>\n",
      "<script type=\"text/javascript\">\n",
      "function isVisible(obj) {\n",
      "    if (obj == document) return true\n",
      " \n",
      "    if (!obj) return false\n",
      "    if (!obj.parentNode) return false\n",
      "    if (obj.style) {\n",
      "        if (obj.style.display == 'none') return false\n",
      "        if (obj.style.visibility == 'hidden') return false\n",
      "    }\n",
      " \n",
      "    if (window.getComputedStyle) {\n",
      "        var style = window.getComputedStyle(obj, \"\")\n",
      "        if (style.display == 'none') return false\n",
      "        if (style.visibility == 'hidden') return false\n",
      "    }\n",
      " \n",
      "    var style = obj.currentStyle\n",
      "    if (style) {\n",
      "        if (style['display'] == 'none') return false\n",
      "        if (style['visibility'] == 'hidden') return false\n",
      "    }\n",
      " \n",
      "    return isVisible(obj.parentNode)\n",
      "}\n",
      "\n",
      "function isChildOf(myobj, containerObj) {\n",
      "\twhile(myobj != undefined) {\n",
      "\t\tif (myobj == document.body) {\n",
      "\t\t\tbreak;\n",
      "\t\t} \n",
      "\t\tif (myobj == containerObj) {\n",
      "\t\t\treturn true;\n",
      "\t\t}\n",
      "\t\tmyobj = myobj.parentElement;\n",
      "\t}\n",
      "\treturn false;\t\n",
      "}\n",
      "\n",
      "function gnbLayerClose(e){\n",
      "\tvar target = e.target ? e.target : e.srcElement;\n",
      "\tif (isVisible(document.getElementById('gnb_service_lyr')) || isVisible(document.getElementById('gnb_notice_lyr')) ||isVisible(document.getElementById('gnb_my_lyr')) ) {\n",
      "\t\tif (!isChildOf(target, document.getElementById('gnb'))) {\n",
      "\t\t\tgnbAllLayerClose();\n",
      "\t\t}\n",
      "\t}\t\n",
      "}\n",
      "\n",
      "var isIE = (navigator.userAgent.toLowerCase().indexOf(\"msie\")!=-1 && window.document.all) ? true:false;\n",
      "if (isIE) {\n",
      "\tdocument.attachEvent('onmousedown', gnbLayerClose);\n",
      "} else {\n",
      "\twindow.addEventListener('mousedown', gnbLayerClose);\n",
      "}\n",
      "</script>\n",
      "\n",
      "\n",
      "\n"
     ]
    }
   ],
   "source": [
    "url = \"https://finance.naver.com/marketindex/\"\n",
    "page = urlopen(url)\n",
    "soup = bs4(page, \"html.parser\")\n",
    "print(soup)"
   ]
  },
  {
   "cell_type": "code",
   "execution_count": 64,
   "metadata": {},
   "outputs": [
    {
     "name": "stdout",
     "output_type": "stream",
     "text": [
      "0 1,187.00\n",
      "1 1,065.15\n",
      "2 1,386.42\n",
      "3 183.63\n",
      "4 110.9700\n",
      "5 1.1700\n",
      "6 1.3707\n",
      "7 93.3800\n",
      "8 75.45\n",
      "9 1644.42\n",
      "10 1750.0\n",
      "11 66465.57\n"
     ]
    }
   ],
   "source": [
    "money_datas = soup.find_all(\"span\", {\"class\":\"value\"})\n",
    "for idx, money in enumerate(money_datas):\n",
    "    print(idx, money.text)"
   ]
  },
  {
   "cell_type": "code",
   "execution_count": 68,
   "metadata": {},
   "outputs": [
    {
     "name": "stdout",
     "output_type": "stream",
     "text": [
      "0 미국 USD\n",
      "1 일본 JPY(100엔)\n",
      "2 유럽연합 EUR\n",
      "3 중국 CNY\n",
      "4 달러/일본 엔\n",
      "5 유로/달러\n",
      "6 영국 파운드/달러\n",
      "7 달러인덱스\n",
      "8 달러\n",
      "9 원\n",
      "10 달러\n",
      "11 원\n"
     ]
    }
   ],
   "source": [
    "text_datas = soup.find_all(\"span\", {\"class\":\"blind\"})\n",
    "for idx, text in enumerate(text_datas[::3]):\n",
    "    print(idx, text.text)"
   ]
  },
  {
   "cell_type": "markdown",
   "metadata": {},
   "source": [
    "## BeautifulSoup 예제 1-2 - 네이버 금융\n",
    "- find, find_all\n",
    "- select, select_one\n",
    "- find, select_one : 단일 선택\n",
    "- find_all, select_one : 다중 선택"
   ]
  },
  {
   "cell_type": "code",
   "execution_count": 72,
   "metadata": {},
   "outputs": [
    {
     "name": "stdout",
     "output_type": "stream",
     "text": [
      "<script language=\"javascript\" src=\"/template/head_js.naver?referer=info.finance.naver.com&amp;menu=marketindex&amp;submenu=market\">\n",
      "</script>\n",
      "<script src=\"https://ssl.pstatic.net/imgstock/static.pc/20210916165954/js/info/jindo.min.ns.1.5.3.euckr.js\" type=\"text/javascript\">\n",
      "</script>\n",
      "<script src=\"https://ssl.pstatic.net/imgstock/static.pc/20210916165954/js/jindo.1.5.3.element-text-patch.js\" type=\"text/javascript\">\n",
      "</script>\n",
      "<div id=\"container\" style=\"padding-bottom:0px;\">\n",
      " <div class=\"market_include\">\n",
      "  <div class=\"market_data\">\n",
      "   <div class=\"market1\">\n",
      "    <div class=\"title\">\n",
      "     <h2 class=\"h_market1\">\n",
      "      <span>\n",
      "       환전 고시 환율\n",
      "      </span>\n",
      "     </h2>\n",
      "    </div>\n",
      "    <!-- data -->\n",
      "    <div class=\"data\">\n",
      "     <ul class=\"data_lst\" id=\"exchangeList\">\n",
      "      <li class=\"on\">\n",
      "       <a class=\"head usd\" href=\"/marketindex/exchangeDetail.naver?marketindexCd=FX_USDKRW\" onclick=\"clickcr(this, 'fr1.usdt', '', '', event);\">\n",
      "        <h3 class=\"h_lst\">\n",
      "         <span class=\"blind\">\n",
      "          미국 USD\n",
      "         </span>\n",
      "        </h3>\n",
      "        <div class=\"head_info point_up\">\n",
      "         <span class=\"value\">\n",
      "          1,187.00\n",
      "         </span>\n",
      "         <span class=\"txt_krw\">\n",
      "          <span class=\"blind\">\n",
      "           원\n",
      "          </span>\n",
      "         </span>\n",
      "         <span class=\"change\">\n",
      "          6.00\n",
      "         </span>\n",
      "         <span class=\"blind\">\n",
      "          상승\n",
      "         </span>\n",
      "        </div>\n",
      "       </a>\n",
      "       <a class=\"graph_img\" href=\"/marketindex/exchangeDetail.naver?marketindexCd=FX_USDKRW\" onclick=\"clickcr(this, 'fr1.usdc', '', '', event);\">\n",
      "        <img alt=\"\" height=\"153\" src=\"https://ssl.pstatic.net/imgfinance/chart/marketindex/FX_USDKRW.png\" width=\"295\"/>\n",
      "       </a>\n",
      "       <div class=\"graph_info\">\n",
      "        <span class=\"time\">\n",
      "         2021.09.28 20:04\n",
      "        </span>\n",
      "        <span class=\"source\">\n",
      "         하나은행 기준\n",
      "        </span>\n",
      "        <span class=\"count\">\n",
      "         고시회차\n",
      "         <span class=\"num\">\n",
      "          318\n",
      "         </span>\n",
      "         회\n",
      "        </span>\n",
      "       </div>\n",
      "      </li>\n",
      "      <li class=\"\">\n",
      "       <a class=\"head jpy\" href=\"/marketindex/exchangeDetail.naver?marketindexCd=FX_JPYKRW\" onclick=\"clickcr(this, 'fr1.jpyt', '', '', event);\">\n",
      "        <h3 class=\"h_lst\">\n",
      "         <span class=\"blind\">\n",
      "          일본 JPY(100엔)\n",
      "         </span>\n",
      "        </h3>\n",
      "        <div class=\"head_info point_up\">\n",
      "         <span class=\"value\">\n",
      "          1,065.15\n",
      "         </span>\n",
      "         <span class=\"txt_krw\">\n",
      "          <span class=\"blind\">\n",
      "           원\n",
      "          </span>\n",
      "         </span>\n",
      "         <span class=\"change\">\n",
      "          0.32\n",
      "         </span>\n",
      "         <span class=\"blind\">\n",
      "          상승\n",
      "         </span>\n",
      "        </div>\n",
      "       </a>\n",
      "       <a class=\"graph_img\" href=\"/marketindex/exchangeDetail.naver?marketindexCd=FX_JPYKRW\" onclick=\"clickcr(this, 'fr1.jpyc', '', '', event);\">\n",
      "        <img alt=\"\" height=\"153\" src=\"https://ssl.pstatic.net/imgfinance/chart/marketindex/FX_JPYKRW.png\" width=\"295\"/>\n",
      "       </a>\n",
      "       <div class=\"graph_info\">\n",
      "        <span class=\"time\">\n",
      "         2021.09.28 20:04\n",
      "        </span>\n",
      "        <span class=\"source\">\n",
      "         하나은행 기준\n",
      "        </span>\n",
      "        <span class=\"count\">\n",
      "         고시회차\n",
      "         <span class=\"num\">\n",
      "          318\n",
      "         </span>\n",
      "         회\n",
      "        </span>\n",
      "       </div>\n",
      "      </li>\n",
      "      <li class=\"\">\n",
      "       <a class=\"head eur\" href=\"/marketindex/exchangeDetail.naver?marketindexCd=FX_EURKRW\" onclick=\"clickcr(this, 'fr1.eurt', '', '', event);\">\n",
      "        <h3 class=\"h_lst\">\n",
      "         <span class=\"blind\">\n",
      "          유럽연합 EUR\n",
      "         </span>\n",
      "        </h3>\n",
      "        <div class=\"head_info point_up\">\n",
      "         <span class=\"value\">\n",
      "          1,386.42\n",
      "         </span>\n",
      "         <span class=\"txt_krw\">\n",
      "          <span class=\"blind\">\n",
      "           원\n",
      "          </span>\n",
      "         </span>\n",
      "         <span class=\"change\">\n",
      "          3.65\n",
      "         </span>\n",
      "         <span class=\"blind\">\n",
      "          상승\n",
      "         </span>\n",
      "        </div>\n",
      "       </a>\n",
      "       <a class=\"graph_img\" href=\"/marketindex/exchangeDetail.naver?marketindexCd=FX_EURKRW\" onclick=\"clickcr(this, 'fr1.eurc', '', '', event);\">\n",
      "        <img alt=\"\" height=\"153\" src=\"https://ssl.pstatic.net/imgfinance/chart/marketindex/FX_EURKRW.png\" width=\"295\"/>\n",
      "       </a>\n",
      "       <div class=\"graph_info\">\n",
      "        <span class=\"time\">\n",
      "         2021.09.28 20:04\n",
      "        </span>\n",
      "        <span class=\"source\">\n",
      "         하나은행 기준\n",
      "        </span>\n",
      "        <span class=\"count\">\n",
      "         고시회차\n",
      "         <span class=\"num\">\n",
      "          318\n",
      "         </span>\n",
      "         회\n",
      "        </span>\n",
      "       </div>\n",
      "      </li>\n",
      "      <li class=\"\">\n",
      "       <a class=\"head cny\" href=\"/marketindex/exchangeDetail.naver?marketindexCd=FX_CNYKRW\" onclick=\"clickcr(this, 'fr1.cnyt', '', '', event);\">\n",
      "        <h3 class=\"h_lst\">\n",
      "         <span class=\"blind\">\n",
      "          중국 CNY\n",
      "         </span>\n",
      "        </h3>\n",
      "        <div class=\"head_info point_up\">\n",
      "         <span class=\"value\">\n",
      "          183.63\n",
      "         </span>\n",
      "         <span class=\"txt_krw\">\n",
      "          <span class=\"blind\">\n",
      "           원\n",
      "          </span>\n",
      "         </span>\n",
      "         <span class=\"change\">\n",
      "          0.94\n",
      "         </span>\n",
      "         <span class=\"blind\">\n",
      "          상승\n",
      "         </span>\n",
      "        </div>\n",
      "       </a>\n",
      "       <a class=\"graph_img\" href=\"/marketindex/exchangeDetail.naver?marketindexCd=FX_CNYKRW\" onclick=\"clickcr(this, 'fr1.cnyc', '', '', event);\">\n",
      "        <img alt=\"\" height=\"153\" src=\"https://ssl.pstatic.net/imgfinance/chart/marketindex/FX_CNYKRW.png\" width=\"295\"/>\n",
      "       </a>\n",
      "       <div class=\"graph_info\">\n",
      "        <span class=\"time\">\n",
      "         2021.09.28 20:04\n",
      "        </span>\n",
      "        <span class=\"source\">\n",
      "         하나은행 기준\n",
      "        </span>\n",
      "        <span class=\"count\">\n",
      "         고시회차\n",
      "         <span class=\"num\">\n",
      "          318\n",
      "         </span>\n",
      "         회\n",
      "        </span>\n",
      "       </div>\n",
      "      </li>\n",
      "     </ul>\n",
      "    </div>\n",
      "    <!-- //data -->\n",
      "   </div>\n",
      "   <div class=\"market2\">\n",
      "    <div class=\"title\">\n",
      "     <h2 class=\"h_market2\">\n",
      "      <span>\n",
      "       국제 시장 환율\n",
      "      </span>\n",
      "     </h2>\n",
      "    </div>\n",
      "    <!-- data -->\n",
      "    <div class=\"data\">\n",
      "     <ul class=\"data_lst\" id=\"worldExchangeList\">\n",
      "      <li class=\"on\">\n",
      "       <a class=\"head jpy_usd\" href=\"/marketindex/worldExchangeDetail.naver?marketindexCd=FX_USDJPY\" onclick=\"clickcr(this, 'fr2.jpyut', '', '', event);\">\n",
      "        <h3 class=\"h_lst\">\n",
      "         <span class=\"blind\">\n",
      "          달러/일본 엔\n",
      "         </span>\n",
      "        </h3>\n",
      "        <div class=\"head_info point_up\">\n",
      "         <span class=\"value\">\n",
      "          110.9700\n",
      "         </span>\n",
      "         <span class=\"txt_jpy\">\n",
      "          <span class=\"blind\">\n",
      "           엔\n",
      "          </span>\n",
      "         </span>\n",
      "         <span class=\"change\">\n",
      "          0.2300\n",
      "         </span>\n",
      "         <span class=\"blind\">\n",
      "          상승\n",
      "         </span>\n",
      "        </div>\n",
      "       </a>\n",
      "       <a class=\"graph_img\" href=\"/marketindex/worldExchangeDetail.naver?marketindexCd=FX_USDJPY\" onclick=\"clickcr(this, 'fr2.jpyuc', '', '', event);\">\n",
      "        <img alt=\"\" height=\"153\" src=\"https://ssl.pstatic.net/imgfinance/chart/marketindex/FX_USDJPY.png\" width=\"295\"/>\n",
      "       </a>\n",
      "       <div class=\"graph_info\">\n",
      "        <span class=\"time\">\n",
      "         2021.09.27\n",
      "        </span>\n",
      "        <span class=\"source\">\n",
      "         모닝스타 기준\n",
      "        </span>\n",
      "       </div>\n",
      "      </li>\n",
      "      <li class=\"\">\n",
      "       <a class=\"head usd_eur\" href=\"/marketindex/worldExchangeDetail.naver?marketindexCd=FX_EURUSD\" onclick=\"clickcr(this, 'fr2.eurdt', '', '', event);\">\n",
      "        <h3 class=\"h_lst\">\n",
      "         <span class=\"blind\">\n",
      "          유로/달러\n",
      "         </span>\n",
      "        </h3>\n",
      "        <div class=\"head_info point_dn\">\n",
      "         <span class=\"value\">\n",
      "          1.1700\n",
      "         </span>\n",
      "         <span class=\"txt_usd\">\n",
      "          <span class=\"blind\">\n",
      "           달러\n",
      "          </span>\n",
      "         </span>\n",
      "         <span class=\"change\">\n",
      "          0.0019\n",
      "         </span>\n",
      "         <span class=\"blind\">\n",
      "          하락\n",
      "         </span>\n",
      "        </div>\n",
      "       </a>\n",
      "       <a class=\"graph_img\" href=\"/marketindex/worldExchangeDetail.naver?marketindexCd=FX_EURUSD\" onclick=\"clickcr(this, 'fr2.eurdc', '', '', event);\">\n",
      "        <img alt=\"\" height=\"153\" src=\"https://ssl.pstatic.net/imgfinance/chart/marketindex/FX_EURUSD.png\" width=\"295\"/>\n",
      "       </a>\n",
      "       <div class=\"graph_info\">\n",
      "        <span class=\"time\">\n",
      "         2021.09.27\n",
      "        </span>\n",
      "        <span class=\"source\">\n",
      "         모닝스타 기준\n",
      "        </span>\n",
      "       </div>\n",
      "      </li>\n",
      "      <li class=\"\">\n",
      "       <a class=\"head usd_gbp\" href=\"/marketindex/worldExchangeDetail.naver?marketindexCd=FX_GBPUSD\" onclick=\"clickcr(this, 'fr2.gbpdt', '', '', event);\">\n",
      "        <h3 class=\"h_lst\">\n",
      "         <span class=\"blind\">\n",
      "          영국 파운드/달러\n",
      "         </span>\n",
      "        </h3>\n",
      "        <div class=\"head_info point_up\">\n",
      "         <span class=\"value\">\n",
      "          1.3707\n",
      "         </span>\n",
      "         <span class=\"txt_usd\">\n",
      "          <span class=\"blind\">\n",
      "           달러\n",
      "          </span>\n",
      "         </span>\n",
      "         <span class=\"change\">\n",
      "          0.0033\n",
      "         </span>\n",
      "         <span class=\"blind\">\n",
      "          상승\n",
      "         </span>\n",
      "        </div>\n",
      "       </a>\n",
      "       <a class=\"graph_img\" href=\"/marketindex/worldExchangeDetail.naver?marketindexCd=FX_GBPUSD\" onclick=\"clickcr(this, 'fr2.gbpdc', '', '', event);\">\n",
      "        <img alt=\"\" height=\"153\" src=\"https://ssl.pstatic.net/imgfinance/chart/marketindex/FX_GBPUSD.png\" width=\"295\"/>\n",
      "       </a>\n",
      "       <div class=\"graph_info\">\n",
      "        <span class=\"time\">\n",
      "         2021.09.27\n",
      "        </span>\n",
      "        <span class=\"source\">\n",
      "         모닝스타 기준\n",
      "        </span>\n",
      "       </div>\n",
      "      </li>\n",
      "      <li class=\"\">\n",
      "       <a class=\"head usd_idx\" href=\"/marketindex/worldExchangeDetail.naver?marketindexCd=FX_USDX\" onclick=\"clickcr(this, 'fr2.indt', '', '', event);\">\n",
      "        <h3 class=\"h_lst\">\n",
      "         <span class=\"blind\">\n",
      "          달러인덱스\n",
      "         </span>\n",
      "        </h3>\n",
      "        <div class=\"head_info point_up\">\n",
      "         <span class=\"value\">\n",
      "          93.3800\n",
      "         </span>\n",
      "         <span class=\"change\">\n",
      "          0.0500\n",
      "         </span>\n",
      "         <span class=\"blind\">\n",
      "          상승\n",
      "         </span>\n",
      "        </div>\n",
      "       </a>\n",
      "       <a class=\"graph_img\" href=\"/marketindex/worldExchangeDetail.naver?marketindexCd=FX_USDX\" onclick=\"clickcr(this, 'fr2.indc', '', '', event);\">\n",
      "        <img alt=\"\" height=\"153\" src=\"https://ssl.pstatic.net/imgfinance/chart/marketindex/FX_USDX.png\" width=\"295\"/>\n",
      "       </a>\n",
      "       <div class=\"graph_info\">\n",
      "        <span class=\"time\">\n",
      "         2021.09.27\n",
      "        </span>\n",
      "        <span class=\"source\">\n",
      "         ICE 기준\n",
      "        </span>\n",
      "       </div>\n",
      "      </li>\n",
      "     </ul>\n",
      "    </div>\n",
      "    <!-- //data -->\n",
      "   </div>\n",
      "   <div class=\"market3\">\n",
      "    <div class=\"title\">\n",
      "     <h2 class=\"h_market3\">\n",
      "      <span>\n",
      "       유가·금시세\n",
      "      </span>\n",
      "     </h2>\n",
      "    </div>\n",
      "    <!-- data -->\n",
      "    <div class=\"data\">\n",
      "     <ul class=\"data_lst\" id=\"oilGoldList\">\n",
      "      <li class=\"on\">\n",
      "       <a class=\"head wti\" href=\"/marketindex/worldOilDetail.naver?marketindexCd=OIL_CL&amp;fdtc=2\" onclick=\"clickcr(this, 'fr3.wtit', '', '', event);\">\n",
      "        <h3 class=\"h_lst\">\n",
      "         <span class=\"blind\">\n",
      "          WTI\n",
      "         </span>\n",
      "        </h3>\n",
      "        <div class=\"head_info point_up\">\n",
      "         <span class=\"value\">\n",
      "          75.45\n",
      "         </span>\n",
      "         <span class=\"txt_usd\">\n",
      "          <span class=\"blind\">\n",
      "           달러\n",
      "          </span>\n",
      "         </span>\n",
      "         <span class=\"change\">\n",
      "          1.47\n",
      "         </span>\n",
      "         <span class=\"blind\">\n",
      "          상승\n",
      "         </span>\n",
      "        </div>\n",
      "       </a>\n",
      "       <a class=\"graph_img\" href=\"/marketindex/worldOilDetail.naver?marketindexCd=OIL_CL&amp;fdtc=2\" onclick=\"clickcr(this, 'fr3.wtic', '', '', event);\">\n",
      "        <img alt=\"\" height=\"153\" src=\"https://ssl.pstatic.net/imgfinance/chart/marketindex/OIL_CL.png\" width=\"295\"/>\n",
      "       </a>\n",
      "       <div class=\"graph_info\">\n",
      "        <span class=\"time\">\n",
      "         2021.09.27\n",
      "        </span>\n",
      "        <span class=\"source\">\n",
      "         NYMEX(뉴욕상업거래소) 기준\n",
      "        </span>\n",
      "       </div>\n",
      "      </li>\n",
      "      <li class=\"\">\n",
      "       <a class=\"head gasoline\" href=\"/marketindex/oilDetail.naver?marketindexCd=OIL_GSL\" onclick=\"clickcr(this, 'fr3.oilt', '', '', event);\">\n",
      "        <h3 class=\"h_lst\">\n",
      "         <span class=\"blind\">\n",
      "          휘발유\n",
      "         </span>\n",
      "        </h3>\n",
      "        <div class=\"head_info point_up\">\n",
      "         <span class=\"value\">\n",
      "          1644.42\n",
      "         </span>\n",
      "         <span class=\"txt_krw\">\n",
      "          <span class=\"blind\">\n",
      "           원\n",
      "          </span>\n",
      "         </span>\n",
      "         <span class=\"change\">\n",
      "          0.49\n",
      "         </span>\n",
      "         <span class=\"blind\">\n",
      "          상승\n",
      "         </span>\n",
      "        </div>\n",
      "       </a>\n",
      "       <a class=\"graph_img\" href=\"/marketindex/oilDetail.naver?marketindexCd=OIL_GSL\" onclick=\"clickcr(this, 'fr3.oilc', '', '', event);\">\n",
      "        <img alt=\"\" height=\"153\" src=\"https://ssl.pstatic.net/imgfinance/chart/marketindex/OIL_GSL.png\" width=\"295\"/>\n",
      "       </a>\n",
      "       <div class=\"graph_info\">\n",
      "        <span class=\"time\">\n",
      "         2021.09.28\n",
      "        </span>\n",
      "        <span class=\"source\">\n",
      "         한국석유공사 Opinet 기준\n",
      "        </span>\n",
      "       </div>\n",
      "      </li>\n",
      "      <li class=\"\">\n",
      "       <a class=\"head gold_inter\" href=\"/marketindex/worldGoldDetail.naver?marketindexCd=CMDT_GC&amp;fdtc=2\" onclick=\"clickcr(this, 'fr3.agoldt', '', '', event);\">\n",
      "        <h3 class=\"h_lst\">\n",
      "         <span class=\"blind\">\n",
      "          국제 금\n",
      "         </span>\n",
      "        </h3>\n",
      "        <div class=\"head_info point_up\">\n",
      "         <span class=\"value\">\n",
      "          1750.0\n",
      "         </span>\n",
      "         <span class=\"txt_usd\">\n",
      "          <span class=\"blind\">\n",
      "           달러\n",
      "          </span>\n",
      "         </span>\n",
      "         <span class=\"change\">\n",
      "          0.30\n",
      "         </span>\n",
      "         <span class=\"blind\">\n",
      "          상승\n",
      "         </span>\n",
      "        </div>\n",
      "       </a>\n",
      "       <a class=\"graph_img\" href=\"/marketindex/worldGoldDetail.naver?marketindexCd=CMDT_GC&amp;fdtc=2\" onclick=\"clickcr(this, 'fr3.agoldc', '', '', event);\">\n",
      "        <img alt=\"\" height=\"153\" src=\"https://ssl.pstatic.net/imgfinance/chart/marketindex/CMDT_GC.png\" width=\"295\"/>\n",
      "       </a>\n",
      "       <div class=\"graph_info\">\n",
      "        <span class=\"time\">\n",
      "         2021.09.27\n",
      "        </span>\n",
      "        <span class=\"source\">\n",
      "         COMEX(뉴욕상품거래소) 기준\n",
      "        </span>\n",
      "       </div>\n",
      "      </li>\n",
      "      <li class=\"\">\n",
      "       <a class=\"head gold_domestic\" href=\"/marketindex/goldDetail.naver\" onclick=\"clickcr(this, 'fr3.kgoldt', '', '', event);\">\n",
      "        <h3 class=\"h_lst\">\n",
      "         <span class=\"blind\">\n",
      "          국내 금\n",
      "         </span>\n",
      "        </h3>\n",
      "        <div class=\"head_info point_dn\">\n",
      "         <span class=\"value\">\n",
      "          66465.57\n",
      "         </span>\n",
      "         <span class=\"txt_krw\">\n",
      "          <span class=\"blind\">\n",
      "           원\n",
      "          </span>\n",
      "         </span>\n",
      "         <span class=\"change\">\n",
      "          1.11\n",
      "         </span>\n",
      "         <span class=\"blind\">\n",
      "          하락\n",
      "         </span>\n",
      "        </div>\n",
      "       </a>\n",
      "       <a class=\"graph_img\" href=\"/marketindex/goldDetail.naver\" onclick=\"clickcr(this, 'fr3.kgoldc', '', '', event);\">\n",
      "        <img alt=\"\" height=\"153\" src=\"https://ssl.pstatic.net/imgfinance/chart/marketindex/CMDT_GD.png\" width=\"295\"/>\n",
      "       </a>\n",
      "       <div class=\"graph_info\">\n",
      "        <span class=\"time\">\n",
      "         2021.09.28 18:00\n",
      "        </span>\n",
      "        <span class=\"source\">\n",
      "         신한은행 기준\n",
      "        </span>\n",
      "        (\n",
      "        <span class=\"num\">\n",
      "         179\n",
      "        </span>\n",
      "        회차)\n",
      "       </div>\n",
      "      </li>\n",
      "     </ul>\n",
      "    </div>\n",
      "    <!-- //data -->\n",
      "   </div>\n",
      "  </div>\n",
      " </div>\n",
      " <div class=\"marketindex_content\" id=\"content\">\n",
      "  <div class=\"section_news\">\n",
      "   <h3 class=\"h_news2\">\n",
      "    <span>\n",
      "     주요 뉴스\n",
      "    </span>\n",
      "   </h3>\n",
      "   <div class=\"list_area\">\n",
      "    <ul>\n",
      "     <li>\n",
      "      <p>\n",
      "       <a href=\"/marketindex/news/newsRead.naver?officeId=018&amp;articleId=0005046870&amp;category=\" onclick=\"clickcr(this, 'mhn.list', '018_0005046870', '0', event);\">\n",
      "        '코로나·원자재·금리 3중고에 입법리스크까\n",
      "       </a>\n",
      "       <img alt=\"NEW\" height=\"8\" src=\"https://ssl.pstatic.net/static/nfinance/ico_new.gif\" width=\"8\"/>\n",
      "      </p>\n",
      "      <span>\n",
      "       09.28 22:02\n",
      "      </span>\n",
      "     </li>\n",
      "     <li>\n",
      "      <p>\n",
      "       <a href=\"/marketindex/news/newsRead.naver?officeId=421&amp;articleId=0005626189&amp;category=\" onclick=\"clickcr(this, 'mhn.list', '421_0005626189', '1', event);\">\n",
      "        대구 제조업 경기 2분기 연속 하락세…“코\n",
      "       </a>\n",
      "       <img alt=\"NEW\" height=\"8\" src=\"https://ssl.pstatic.net/static/nfinance/ico_new.gif\" width=\"8\"/>\n",
      "      </p>\n",
      "      <span>\n",
      "       09.28 17:25\n",
      "      </span>\n",
      "     </li>\n",
      "     <li>\n",
      "      <p>\n",
      "       <a href=\"/marketindex/news/newsRead.naver?officeId=032&amp;articleId=0003100410&amp;category=\" onclick=\"clickcr(this, 'mhn.list', '032_0003100410', '2', event);\">\n",
      "        코스피 한 달 만에 3100선 아래로...\n",
      "       </a>\n",
      "       <img alt=\"NEW\" height=\"8\" src=\"https://ssl.pstatic.net/static/nfinance/ico_new.gif\" width=\"8\"/>\n",
      "      </p>\n",
      "      <span>\n",
      "       09.28 16:33\n",
      "      </span>\n",
      "     </li>\n",
      "     <li>\n",
      "      <p>\n",
      "       <a href=\"/marketindex/news/newsRead.naver?officeId=018&amp;articleId=0005046663&amp;category=\" onclick=\"clickcr(this, 'mhn.list', '018_0005046663', '3', event);\">\n",
      "        [외환마감]국내증시 하락에 원화 약세…환율\n",
      "       </a>\n",
      "       <img alt=\"NEW\" height=\"8\" src=\"https://ssl.pstatic.net/static/nfinance/ico_new.gif\" width=\"8\"/>\n",
      "      </p>\n",
      "      <span>\n",
      "       09.28 15:55\n",
      "      </span>\n",
      "     </li>\n",
      "     <li>\n",
      "      <p>\n",
      "       <a href=\"/marketindex/news/newsRead.naver?officeId=032&amp;articleId=0003100330&amp;category=\" onclick=\"clickcr(this, 'mhn.list', '032_0003100330', '4', event);\">\n",
      "        코로나 재확산·원자재 값 상승에 제조업 경\n",
      "       </a>\n",
      "       <img alt=\"NEW\" height=\"8\" src=\"https://ssl.pstatic.net/static/nfinance/ico_new.gif\" width=\"8\"/>\n",
      "      </p>\n",
      "      <span>\n",
      "       09.28 11:09\n",
      "      </span>\n",
      "     </li>\n",
      "     <li>\n",
      "      <p>\n",
      "       <a href=\"/marketindex/news/newsRead.naver?officeId=277&amp;articleId=0004975016&amp;category=\" onclick=\"clickcr(this, 'mhn.list', '277_0004975016', '5', event);\">\n",
      "        국제유가 3년만에 최고…\"90달러까지 간다\n",
      "       </a>\n",
      "       <img alt=\"NEW\" height=\"8\" src=\"https://ssl.pstatic.net/static/nfinance/ico_new.gif\" width=\"8\"/>\n",
      "      </p>\n",
      "      <span>\n",
      "       09.28 10:48\n",
      "      </span>\n",
      "     </li>\n",
      "     <li>\n",
      "      <p>\n",
      "       <a href=\"/marketindex/news/newsRead.naver?officeId=277&amp;articleId=0004974982&amp;category=\" onclick=\"clickcr(this, 'mhn.list', '277_0004974982', '6', event);\">\n",
      "        [특징주]S-Oil, 유가 강세에 신고가\n",
      "       </a>\n",
      "       <img alt=\"NEW\" height=\"8\" src=\"https://ssl.pstatic.net/static/nfinance/ico_new.gif\" width=\"8\"/>\n",
      "      </p>\n",
      "      <span>\n",
      "       09.28 10:17\n",
      "      </span>\n",
      "     </li>\n",
      "     <li>\n",
      "      <p>\n",
      "       <a href=\"/marketindex/news/newsRead.naver?officeId=008&amp;articleId=0004649556&amp;category=\" onclick=\"clickcr(this, 'mhn.list', '008_0004649556', '7', event);\">\n",
      "        계속 뛰는 국제유가에 정유주 강세…S-Oi\n",
      "       </a>\n",
      "       <img alt=\"NEW\" height=\"8\" src=\"https://ssl.pstatic.net/static/nfinance/ico_new.gif\" width=\"8\"/>\n",
      "      </p>\n",
      "      <span>\n",
      "       09.28 09:47\n",
      "      </span>\n",
      "     </li>\n",
      "     <li>\n",
      "      <p>\n",
      "       <a href=\"/marketindex/news/newsRead.naver?officeId=018&amp;articleId=0005046258&amp;category=\" onclick=\"clickcr(this, 'mhn.list', '018_0005046258', '8', event);\">\n",
      "        [특징주]LX인터내셔널, 원자재 가격 급등\n",
      "       </a>\n",
      "       <img alt=\"NEW\" height=\"8\" src=\"https://ssl.pstatic.net/static/nfinance/ico_new.gif\" width=\"8\"/>\n",
      "      </p>\n",
      "      <span>\n",
      "       09.28 09:34\n",
      "      </span>\n",
      "     </li>\n",
      "     <li>\n",
      "      <p>\n",
      "       <a href=\"/marketindex/news/newsRead.naver?officeId=011&amp;articleId=0003966636&amp;category=\" onclick=\"clickcr(this, 'mhn.list', '011_0003966636', '9', event);\">\n",
      "        [특징주] 국제 유가 3년래 최고치...에\n",
      "       </a>\n",
      "       <img alt=\"NEW\" height=\"8\" src=\"https://ssl.pstatic.net/static/nfinance/ico_new.gif\" width=\"8\"/>\n",
      "      </p>\n",
      "      <span>\n",
      "       09.28 09:24\n",
      "      </span>\n",
      "     </li>\n",
      "    </ul>\n",
      "   </div>\n",
      "   <a class=\"btn_more\" href=\"/marketindex/news/newsList.naver\" onclick=\"clickcr(this, 'mhn.more', '', '', event);\">\n",
      "    <img alt=\"더보기\" height=\"18\" src=\"https://ssl.pstatic.net/static/nfinance/btn_more.gif\" width=\"34\"/>\n",
      "   </a>\n",
      "  </div>\n",
      "  <div class=\"tab_default1\" id=\"tab_section\">\n",
      "   <ul>\n",
      "    <li class=\"on\">\n",
      "     <a href=\"./?tabSel=exchange#tab_section\" onclick=\"clickcr(this, 'mtb.exnoti', '', '', event);\">\n",
      "      <span class=\"tab1\">\n",
      "       환전고시 환율\n",
      "      </span>\n",
      "     </a>\n",
      "    </li>\n",
      "    <li class=\"\">\n",
      "     <a href=\"./?tabSel=worldExchange#tab_section\" onclick=\"clickcr(this, 'mtb.interex', '', '', event);\">\n",
      "      <span class=\"tab2\">\n",
      "       국제시장 환율\n",
      "      </span>\n",
      "     </a>\n",
      "    </li>\n",
      "    <li class=\"\">\n",
      "     <a href=\"./?tabSel=gold#tab_section\" onclick=\"clickcr(this, 'mtb.oilgold', '', '', event);\">\n",
      "      <span class=\"tab3\">\n",
      "       유가 금시세\n",
      "      </span>\n",
      "     </a>\n",
      "    </li>\n",
      "    <li class=\"\">\n",
      "     <a href=\"./?tabSel=materials#tab_section\" onclick=\"clickcr(this, 'mtb.material', '', '', event);\">\n",
      "      <span class=\"tab4\">\n",
      "       원자재\n",
      "      </span>\n",
      "     </a>\n",
      "    </li>\n",
      "   </ul>\n",
      "   <h2 class=\"blind\">\n",
      "    환전고시 환율\n",
      "   </h2>\n",
      "  </div>\n",
      "  <div class=\"section_calculator\">\n",
      "   <h3 class=\"h_calculator\">\n",
      "    <span>\n",
      "     환율계산기 (매매기준율 기준)\n",
      "    </span>\n",
      "   </h3>\n",
      "   <div class=\"calculator\">\n",
      "    <div class=\"inner\">\n",
      "     <div class=\"input\">\n",
      "      <div class=\"selectbox-noscript\" id=\"sInput\">\n",
      "       <select class=\"selectbox-source\" id=\"select_from\">\n",
      "        <option label=\"1\" value=\"1\">\n",
      "         대한민국 원 KRW\n",
      "        </option>\n",
      "        <option class=\"selectbox-default\" label=\"1\" selected=\"selected\" value=\"1187.0\">\n",
      "         미국 달러 USD\n",
      "        </option>\n",
      "        <option label=\"1\" value=\"1187.0\">\n",
      "         미국 달러 USD\n",
      "        </option>\n",
      "        <option label=\"1\" value=\"1386.42\">\n",
      "         유럽연합 유로 EUR\n",
      "        </option>\n",
      "        <option label=\"100\" value=\"10.6515\">\n",
      "         일본 엔 JPY\n",
      "        </option>\n",
      "        <option label=\"1\" value=\"183.63\">\n",
      "         중국 위안 CNY\n",
      "        </option>\n",
      "        <option label=\"1\" value=\"152.53\">\n",
      "         홍콩 달러 HKD\n",
      "        </option>\n",
      "        <option label=\"1\" value=\"42.73\">\n",
      "         대만 달러 TWD\n",
      "        </option>\n",
      "        <option label=\"1\" value=\"1614.08\">\n",
      "         영국 파운드 GBP\n",
      "        </option>\n",
      "        <option label=\"1\" value=\"3083.04\">\n",
      "         오만 리알 OMR\n",
      "        </option>\n",
      "        <option label=\"1\" value=\"938.34\">\n",
      "         캐나다 달러 CAD\n",
      "        </option>\n",
      "        <option label=\"1\" value=\"1278.68\">\n",
      "         스위스 프랑 CHF\n",
      "        </option>\n",
      "        <option label=\"1\" value=\"135.94\">\n",
      "         스웨덴 크로나 SEK\n",
      "        </option>\n",
      "        <option label=\"1\" value=\"859.74\">\n",
      "         호주 달러 AUD\n",
      "        </option>\n",
      "        <option label=\"1\" value=\"826.03\">\n",
      "         뉴질랜드 달러 NZD\n",
      "        </option>\n",
      "        <option label=\"1\" value=\"54.32\">\n",
      "         체코 코루나 CZK\n",
      "        </option>\n",
      "        <option label=\"1\" value=\"1.49\">\n",
      "         칠레 페소 CLP\n",
      "        </option>\n",
      "        <option label=\"1\" value=\"133.56\">\n",
      "         터키 리라 TRY\n",
      "        </option>\n",
      "        <option label=\"1\" value=\"0.42\">\n",
      "         몽골 투그릭 MNT\n",
      "        </option>\n",
      "        <option label=\"1\" value=\"369.83\">\n",
      "         이스라엘 세켈 ILS\n",
      "        </option>\n",
      "        <option label=\"1\" value=\"186.45\">\n",
      "         덴마크 크로네 DKK\n",
      "        </option>\n",
      "        <option label=\"1\" value=\"137.29\">\n",
      "         노르웨이 크로네 NOK\n",
      "        </option>\n",
      "        <option label=\"1\" value=\"316.44\">\n",
      "         사우디아라비아 리얄 SAR\n",
      "        </option>\n",
      "        <option label=\"1\" value=\"3938.29\">\n",
      "         쿠웨이트 디나르 KWD\n",
      "        </option>\n",
      "        <option label=\"1\" value=\"3148.71\">\n",
      "         바레인 디나르 BHD\n",
      "        </option>\n",
      "        <option label=\"1\" value=\"323.16\">\n",
      "         아랍에미리트 디르함 AED\n",
      "        </option>\n",
      "        <option label=\"1\" value=\"1674.19\">\n",
      "         요르단 디나르 JOD\n",
      "        </option>\n",
      "        <option label=\"1\" value=\"75.41\">\n",
      "         이집트 파운드 EGP\n",
      "        </option>\n",
      "        <option label=\"1\" value=\"35.14\">\n",
      "         태국 바트 THB\n",
      "        </option>\n",
      "        <option label=\"1\" value=\"874.43\">\n",
      "         싱가포르 달러 SGD\n",
      "        </option>\n",
      "        <option label=\"1\" value=\"283.8\">\n",
      "         말레이시아 링깃 MYR\n",
      "        </option>\n",
      "        <option label=\"100\" value=\"0.0834\">\n",
      "         인도네시아 루피아 IDR\n",
      "        </option>\n",
      "        <option label=\"1\" value=\"325.97\">\n",
      "         카타르 리얄 QAR\n",
      "        </option>\n",
      "        <option label=\"1\" value=\"2.79\">\n",
      "         카자흐스탄 텡게 KZT\n",
      "        </option>\n",
      "        <option label=\"1\" value=\"874.43\">\n",
      "         브루나이 달러 BND\n",
      "        </option>\n",
      "        <option label=\"1\" value=\"16.02\">\n",
      "         인도 루피 INR\n",
      "        </option>\n",
      "        <option label=\"1\" value=\"6.97\">\n",
      "         파키스탄 루피 PKR\n",
      "        </option>\n",
      "        <option label=\"1\" value=\"13.86\">\n",
      "         방글라데시 타카 BDT\n",
      "        </option>\n",
      "        <option label=\"1\" value=\"23.26\">\n",
      "         필리핀 페소 PHP\n",
      "        </option>\n",
      "        <option label=\"1\" value=\"58.68\">\n",
      "         멕시코 페소 MXN\n",
      "        </option>\n",
      "        <option label=\"1\" value=\"220.14\">\n",
      "         브라질 레알 BRL\n",
      "        </option>\n",
      "        <option label=\"100\" value=\"0.0521\">\n",
      "         베트남 동 VND\n",
      "        </option>\n",
      "        <option label=\"1\" value=\"78.5\">\n",
      "         남아프리카 공화국 랜드 ZAR\n",
      "        </option>\n",
      "        <option label=\"1\" value=\"16.34\">\n",
      "         러시아 루블 RUB\n",
      "        </option>\n",
      "        <option label=\"1\" value=\"3.86\">\n",
      "         헝가리 포린트 HUF\n",
      "        </option>\n",
      "        <option label=\"1\" value=\"300.14\">\n",
      "         폴란드 즈워티 PLN\n",
      "        </option>\n",
      "       </select>\n",
      "       <div class=\"selectbox-box\" onclick=\"clickcr(this, 'exl*c.clist1', '', '', event);\">\n",
      "        <div class=\"selectbox-label\">\n",
      "        </div>\n",
      "       </div>\n",
      "       <div class=\"selectbox-layer ly_calculator\">\n",
      "        <div class=\"selectbox-list\">\n",
      "        </div>\n",
      "       </div>\n",
      "      </div>\n",
      "      <div class=\"input_area\" id=\"input_from\">\n",
      "       <input id=\"input_from_money\" maxlength=\"10\" onclick=\"clickcr(this, 'exl*c.unit1', '', '', event);\" onfocus=\"changeActiveInput('from', 'to'); return false;\" onkeyup=\"calcExchange('from', 'to', 'on', event);\" type=\"text\" value=\"1\"/>\n",
      "       <img alt=\"\" height=\"13\" id=\"img_from_monetary\" src=\"https://ssl.pstatic.net/static/nfinance/img_money_USD.gif\" width=\"26\"/>\n",
      "      </div>\n",
      "     </div>\n",
      "     <div class=\"same\">\n",
      "      <img alt=\"\" height=\"15\" src=\"https://ssl.pstatic.net/static/nfinance/ico_same.gif\" width=\"28\"/>\n",
      "     </div>\n",
      "     <div class=\"view\">\n",
      "      <div class=\"selectbox-noscript\" id=\"sView\">\n",
      "       <select class=\"selectbox-source\" id=\"select_to\">\n",
      "        <option class=\"selectbox-default\" label=\"1\" value=\"1\">\n",
      "         대한민국 원 KRW\n",
      "        </option>\n",
      "        <option label=\"1\" value=\"1\">\n",
      "         대한민국 원 KRW\n",
      "        </option>\n",
      "        <option label=\"1\" value=\"1187.0\">\n",
      "         미국 달러 USD\n",
      "        </option>\n",
      "        <option label=\"1\" value=\"1386.42\">\n",
      "         유럽연합 유로 EUR\n",
      "        </option>\n",
      "        <option label=\"100\" value=\"10.6515\">\n",
      "         일본 엔 JPY\n",
      "        </option>\n",
      "        <option label=\"1\" value=\"183.63\">\n",
      "         중국 위안 CNY\n",
      "        </option>\n",
      "        <option label=\"1\" value=\"152.53\">\n",
      "         홍콩 달러 HKD\n",
      "        </option>\n",
      "        <option label=\"1\" value=\"42.73\">\n",
      "         대만 달러 TWD\n",
      "        </option>\n",
      "        <option label=\"1\" value=\"1614.08\">\n",
      "         영국 파운드 GBP\n",
      "        </option>\n",
      "        <option label=\"1\" value=\"3083.04\">\n",
      "         오만 리알 OMR\n",
      "        </option>\n",
      "        <option label=\"1\" value=\"938.34\">\n",
      "         캐나다 달러 CAD\n",
      "        </option>\n",
      "        <option label=\"1\" value=\"1278.68\">\n",
      "         스위스 프랑 CHF\n",
      "        </option>\n",
      "        <option label=\"1\" value=\"135.94\">\n",
      "         스웨덴 크로나 SEK\n",
      "        </option>\n",
      "        <option label=\"1\" value=\"859.74\">\n",
      "         호주 달러 AUD\n",
      "        </option>\n",
      "        <option label=\"1\" value=\"826.03\">\n",
      "         뉴질랜드 달러 NZD\n",
      "        </option>\n",
      "        <option label=\"1\" value=\"54.32\">\n",
      "         체코 코루나 CZK\n",
      "        </option>\n",
      "        <option label=\"1\" value=\"1.49\">\n",
      "         칠레 페소 CLP\n",
      "        </option>\n",
      "        <option label=\"1\" value=\"133.56\">\n",
      "         터키 리라 TRY\n",
      "        </option>\n",
      "        <option label=\"1\" value=\"0.42\">\n",
      "         몽골 투그릭 MNT\n",
      "        </option>\n",
      "        <option label=\"1\" value=\"369.83\">\n",
      "         이스라엘 세켈 ILS\n",
      "        </option>\n",
      "        <option label=\"1\" value=\"186.45\">\n",
      "         덴마크 크로네 DKK\n",
      "        </option>\n",
      "        <option label=\"1\" value=\"137.29\">\n",
      "         노르웨이 크로네 NOK\n",
      "        </option>\n",
      "        <option label=\"1\" value=\"316.44\">\n",
      "         사우디아라비아 리얄 SAR\n",
      "        </option>\n",
      "        <option label=\"1\" value=\"3938.29\">\n",
      "         쿠웨이트 디나르 KWD\n",
      "        </option>\n",
      "        <option label=\"1\" value=\"3148.71\">\n",
      "         바레인 디나르 BHD\n",
      "        </option>\n",
      "        <option label=\"1\" value=\"323.16\">\n",
      "         아랍에미리트 디르함 AED\n",
      "        </option>\n",
      "        <option label=\"1\" value=\"1674.19\">\n",
      "         요르단 디나르 JOD\n",
      "        </option>\n",
      "        <option label=\"1\" value=\"75.41\">\n",
      "         이집트 파운드 EGP\n",
      "        </option>\n",
      "        <option label=\"1\" value=\"35.14\">\n",
      "         태국 바트 THB\n",
      "        </option>\n",
      "        <option label=\"1\" value=\"874.43\">\n",
      "         싱가포르 달러 SGD\n",
      "        </option>\n",
      "        <option label=\"1\" value=\"283.8\">\n",
      "         말레이시아 링깃 MYR\n",
      "        </option>\n",
      "        <option label=\"100\" value=\"0.0834\">\n",
      "         인도네시아 루피아 IDR\n",
      "        </option>\n",
      "        <option label=\"1\" value=\"325.97\">\n",
      "         카타르 리얄 QAR\n",
      "        </option>\n",
      "        <option label=\"1\" value=\"2.79\">\n",
      "         카자흐스탄 텡게 KZT\n",
      "        </option>\n",
      "        <option label=\"1\" value=\"874.43\">\n",
      "         브루나이 달러 BND\n",
      "        </option>\n",
      "        <option label=\"1\" value=\"16.02\">\n",
      "         인도 루피 INR\n",
      "        </option>\n",
      "        <option label=\"1\" value=\"6.97\">\n",
      "         파키스탄 루피 PKR\n",
      "        </option>\n",
      "        <option label=\"1\" value=\"13.86\">\n",
      "         방글라데시 타카 BDT\n",
      "        </option>\n",
      "        <option label=\"1\" value=\"23.26\">\n",
      "         필리핀 페소 PHP\n",
      "        </option>\n",
      "        <option label=\"1\" value=\"58.68\">\n",
      "         멕시코 페소 MXN\n",
      "        </option>\n",
      "        <option label=\"1\" value=\"220.14\">\n",
      "         브라질 레알 BRL\n",
      "        </option>\n",
      "        <option label=\"100\" value=\"0.0521\">\n",
      "         베트남 동 VND\n",
      "        </option>\n",
      "        <option label=\"1\" value=\"78.5\">\n",
      "         남아프리카 공화국 랜드 ZAR\n",
      "        </option>\n",
      "        <option label=\"1\" value=\"16.34\">\n",
      "         러시아 루블 RUB\n",
      "        </option>\n",
      "        <option label=\"1\" value=\"3.86\">\n",
      "         헝가리 포린트 HUF\n",
      "        </option>\n",
      "        <option label=\"1\" value=\"300.14\">\n",
      "         폴란드 즈워티 PLN\n",
      "        </option>\n",
      "       </select>\n",
      "       <div class=\"selectbox-box\" onclick=\"clickcr(this, 'exl*c.clist2', '', '', event);\">\n",
      "        <div class=\"selectbox-label\">\n",
      "        </div>\n",
      "       </div>\n",
      "       <div class=\"selectbox-layer ly_calculator\">\n",
      "        <div class=\"selectbox-list\">\n",
      "        </div>\n",
      "       </div>\n",
      "      </div>\n",
      "      <div class=\"input_area\" id=\"input_to\">\n",
      "       <input id=\"input_to_money\" maxlength=\"10\" onclick=\"clickcr(this, 'exl*c.unit2', '', '', event);\" onfocus=\"changeActiveInput('to', 'from'); return false;\" onkeyup=\"calcExchange('to', 'from', 'on', event);\" type=\"text\"/>\n",
      "       <img alt=\"\" height=\"13\" id=\"img_to_monetary\" src=\"https://ssl.pstatic.net/static/nfinance/img_money_KRW.gif\" width=\"26\"/>\n",
      "      </div>\n",
      "     </div>\n",
      "    </div>\n",
      "   </div>\n",
      "  </div>\n",
      "  <div class=\"section_exchange\">\n",
      "   <div id=\"section_ex1\">\n",
      "    <h3 class=\"blind\" id=\"exchange1\">\n",
      "     환전 고시 환율\n",
      "    </h3>\n",
      "    <div class=\"exchange_info\">\n",
      "     <span class=\"date\">\n",
      "      2021.09.28 20:04\n",
      "     </span>\n",
      "     <span class=\"standard\">\n",
      "      하나은행 기준\n",
      "     </span>\n",
      "     <span class=\"round\">\n",
      "      고시회차\n",
      "      <em>\n",
      "       318\n",
      "      </em>\n",
      "      회\n",
      "     </span>\n",
      "    </div>\n",
      "    <iframe frameborder=\"0\" height=\"1378px\" id=\"frame_ex1\" marginheight=\"0\" marginwidth=\"0\" scrolling=\"no\" src=\"/marketindex/exchangeList.naver\" title=\"환전 고시 환율\" width=\"100%\">\n",
      "    </iframe>\n",
      "   </div>\n",
      "   <ul class=\"tbl_info\">\n",
      "    <li>\n",
      "     통화명과 심볼은 앞에 위치한 통화에 1이 생략된 형태로, 달러/일본 엔(심볼: USDJPY)인 경우 1 USD(달러)가 JPY(일본 엔)으로 얼마인가를 의미합니다.\n",
      "    </li>\n",
      "   </ul>\n",
      "  </div>\n",
      "  <script language=\"javascript\" src=\"https://ssl.pstatic.net/imgstock/static.pc/20210916165954/js/jindoComponent/jindo.Component.1.0.3.js\" type=\"text/javascript\">\n",
      "  </script>\n",
      "  <script language=\"javascript\" src=\"https://ssl.pstatic.net/imgstock/static.pc/20210916165954/js/jindoComponent/jindo.UIComponent.1.0.1.js\" type=\"text/javascript\">\n",
      "  </script>\n",
      "  <script language=\"javascript\" src=\"https://ssl.pstatic.net/imgstock/static.pc/20210916165954/js/jindoComponent/jindo.HTMLComponent.1.0.1.js\" type=\"text/javascript\">\n",
      "  </script>\n",
      "  <script language=\"javascript\" src=\"https://ssl.pstatic.net/imgstock/static.pc/20210916165954/js/jindoComponent/jindo.Timer.1.0.3.js\" type=\"text/javascript\">\n",
      "  </script>\n",
      "  <script language=\"javascript\" src=\"https://ssl.pstatic.net/imgstock/static.pc/20210916165954/js/jindoComponent/jindo.LayerManager.1.0.1.js\" type=\"text/javascript\">\n",
      "  </script>\n",
      "  <script language=\"javascript\" src=\"https://ssl.pstatic.net/imgstock/static.pc/20210916165954/js/jindoComponent/jindo.LayerPosition.1.0.1.js\" type=\"text/javascript\">\n",
      "  </script>\n",
      "  <script language=\"javascript\" src=\"https://ssl.pstatic.net/imgstock/static.pc/20210916165954/js/jindoComponent/jindo.RolloverArea.1.0.1.js\" type=\"text/javascript\">\n",
      "  </script>\n",
      "  <script language=\"javascript\" src=\"https://ssl.pstatic.net/imgstock/static.pc/20210916165954/js/jindoComponent/jindo.RolloverClick.1.0.1.js\" type=\"text/javascript\">\n",
      "  </script>\n",
      "  <script language=\"javascript\" src=\"https://ssl.pstatic.net/imgstock/static.pc/20210916165954/js/jindoComponent/jindo.SelectBox.1.0.1.js\" type=\"text/javascript\">\n",
      "  </script>\n",
      "  <script charset=\"euckr\" language=\"javascript\" src=\"https://ssl.pstatic.net/imgstock/static.pc/20210916165954/js/jindoComponent/jindo.TextRange.1.0.1.js\" type=\"text/javascript\">\n",
      "  </script>\n",
      "  <script charset=\"euckr\" language=\"javascript\" src=\"https://ssl.pstatic.net/imgstock/static.pc/20210916165954/js/jindoComponent/jindo.WatchInput.1.0.1.js\" type=\"text/javascript\">\n",
      "  </script>\n",
      "  <script charset=\"euckr\" language=\"javascript\" src=\"https://ssl.pstatic.net/imgstock/static.pc/20210916165954/js/jindoComponent/jindo.Formatter.1.1.0.js\" type=\"text/javascript\">\n",
      "  </script>\n",
      "  <script charset=\"euckr\" language=\"javascript\" src=\"https://ssl.pstatic.net/imgstock/static.pc/20210916165954/js/jindoComponent/jindo.NumberFormatter.1.0.1.js\" type=\"text/javascript\">\n",
      "  </script>\n",
      "  <script language=\"javascript\" src=\"https://ssl.pstatic.net/imgstock/static.pc/20210916165954/js/exchange.js\" type=\"text/javascript\">\n",
      "  </script>\n",
      "  <script type=\"text/javascript\">\n",
      "   // exchangeDetail.jsp에도 동일 스크립트 있음 - 로딩시 디자인이 0.5초간 디자인이 안뜬다는 이슈로 include하지 않고 같은 스크립트를 두벌로 관리함\n",
      "\n",
      "//환율 계산\n",
      "function calcExchange(str1, str2, cssOn, event) {\n",
      "\tvar oEvent = event || window.event;\n",
      "    var sKeyCode = (undefined === oEvent) ? undefined : jindo.$Event(oEvent).key().keyCode;\n",
      "\t\n",
      "\tif (sKeyCode != 13 && sKeyCode != 27 && sKeyCode != 37 && sKeyCode != 38 && sKeyCode != 110 && sKeyCode != 229) {\n",
      "\t\tif (str1 == '' && str2 == '') {\n",
      "\t\t\tif (jindo.$('input_to').className == 'input_area') {\n",
      "\t\t\t\tstr1 = 'from';\n",
      "\t\t\t\tstr2 = 'to';\n",
      "\t\t\t} else {\n",
      "\t\t\t\tstr1 = 'to';\n",
      "\t\t\t\tstr2 = 'from';\n",
      "\t\t\t}\n",
      "\t\t}\n",
      "\t\t\n",
      "\t\tvar regExp = new RegExp(\"[^0-9\\.\\,]\");\n",
      "\t    var sInputValue = jindo.$('input_' + str1 + '_money').value;\n",
      "\t\t\n",
      "\t    if(regExp.test(sInputValue)){\n",
      "\t\t\talert('숫자, 소수점(.)만 입력하실 수 있습니다.');\n",
      "\t\t\tjindo.$('input_' + str1 + '_money').value = revertInputText(sInputValue);\n",
      "\t\t\treturn false;\n",
      "\t\t}\n",
      "\t\t\n",
      "\t\t// 사용자가 입력한 콤마(,) 제거\n",
      "\t    if (sInputValue.substr(sInputValue.length - 1, 1) == ',') {\n",
      "\t    \tjindo.$('input_' + str1 + '_money').value = revertInputText(sInputValue);\n",
      "\t    \treturn false;\n",
      "\t    }\n",
      "\t\t\n",
      "\t\t// 맨 앞에 있는 숫자 0 없애기\n",
      "\t\tif (sInputValue == '0' || sInputValue == '.' || sInputValue == ',') {\n",
      "\t\t\tjindo.$('input_' + str1 + '_money').value = revertInputText(sInputValue);\n",
      "\t\t\treturn false;\n",
      "\t\t}\n",
      "\t\t\n",
      "\t\t// 소수점 2개가 없도록\n",
      "\t\tvar match = sInputValue.match(/\\./g);\n",
      "\t\tif (match != null && match.length >= 2) {\n",
      "\t\t\tjindo.$('input_' + str1 + '_money').value = revertInputText(sInputValue);\n",
      "\t\t\treturn false;\n",
      "\t\t}\n",
      "\t\t\n",
      "\t\t// 소수점을 입력한 경우, 일단 대기\n",
      "\t\tvar pointPosIndex = sInputValue.indexOf('.');\n",
      "\t\tif (pointPosIndex != -1 && pointPosIndex == sInputValue.length - 1) {\n",
      "\t\t\treturn false;\n",
      "\t\t}\n",
      "\t\t\n",
      "\t\t// 소수점 2자리 유지\n",
      "\t\tif (pointPosIndex != -1 && sInputValue.substring(pointPosIndex + 1, sInputValue.length).length > 2) {\n",
      "\t\t\tjindo.$('input_' + str1 + '_money').value = revertInputText(sInputValue);\n",
      "\t\t\treturn false;\n",
      "\t\t}\n",
      "\t\t\n",
      "\t\tvar e_select_from\t= jindo.$('select_'+str1);\n",
      "\t\tvar e_select_to\t= jindo.$('select_'+str2);\n",
      "\t\n",
      "\t\tvar input_from_money\t= jindo.$('input_'+str1+'_money').value ;\n",
      "\t\tvar input_from\t\t= e_select_from.options[e_select_from.selectedIndex].value ;\n",
      "\t\tvar input_to\t\t= e_select_to.options[e_select_to.selectedIndex].value ;\n",
      "\t\tvar unit_from\t= e_select_from.options[e_select_from.selectedIndex].text ;\n",
      "\t\tvar unit_to\t\t= e_select_to.options[e_select_to.selectedIndex].text ;\n",
      "\t\tinput_from_money = input_from_money.replace(/ |,|\\t/g, \"\") ;\n",
      "\t\tinput_from\t= input_from.replace(/ |,|\\t/g, \"\") ;\n",
      "\t\tinput_to\t= input_to.replace(/ |,|\\t/g, \"\") ;\n",
      "\t\tunit_from = unit_from.substr(unit_from.length-3, 3);\n",
      "\t\tunit_to = unit_to.substr(unit_to.length-3, 3);\n",
      "\t\n",
      "\t\tvar str1_result = input_from_money * 1 ;\n",
      "\t\tvar str1_str\t= str1_result.toFixed(0) ;\n",
      "\t\tvar str1_len = str1_str.length ;\n",
      "\t\tvar str1_result_str = new String(\"\") ;\n",
      "\t\n",
      "\t\tif(str1_str > str1_result)\n",
      "\t\t\tstr1_str = new String(str1_str-1) ;\n",
      "\t\n",
      "\t\tif (str1_len >= 3) {\n",
      "\t\t\tfor (i = str1_len - 3; i > 0; i-=3)\n",
      "\t\t\t\tstr1_result_str = \",\" + str1_str.substr(i, 3) + str1_result_str ;\n",
      "\t\n",
      "\t\t\tstr1_result_str = str1_str.substr(0, 3+i) + str1_result_str ;\n",
      "\t\n",
      "\t\t\tfor (var i=0; i<input_from_money.length; i++) {\n",
      "\t\t\t\tif (input_from_money.substr(i,1) != '0') {\n",
      "\t\t\t\t\tinput_from_money = input_from_money.substring(i,input_from_money.length) ;\n",
      "\t\t\t\t\tbreak;\n",
      "\t\t\t\t}\n",
      "\t\t\t}\n",
      "\t\n",
      "\t\t\tif (str1_str != input_from_money) {\n",
      "\t\t\t\tstr1_result_str += str1_result.toFixed(input_from_money.split(\".\")[1].length).substr(str1_len, input_from_money.split(\".\")[1].length + 1) ;\n",
      "\t\t\t}\n",
      "\t\t} else\n",
      "\t\t\tstr1_result_str = input_from_money ;\n",
      "\t\n",
      "\t\tvar str2_result = input_from_money * input_from / input_to ;\n",
      "\t\tvar str2_str\t= str2_result.toFixed(0) ;\n",
      "\t\tvar str2_len = str2_str.length ;\n",
      "\t\tvar str2_result_str = new String(\"\") ;\n",
      "\t\n",
      "\t\tif (str2_str > str2_result)\n",
      "\t\t\tstr2_str = new String(str2_str-1) ;\n",
      "\t\n",
      "\t\tif (str2_len >= 3) {\n",
      "\t\t\tfor (i = str2_len - 3; i > 0; i-=3)\n",
      "\t\t\t\tstr2_result_str = \",\" + str2_str.substr(i, 3) + str2_result_str ;\n",
      "\t\n",
      "\t\t\tstr2_result_str = str2_str.substr(0, 3+i) + str2_result_str ;\n",
      "\t\t\tstr2_result_str += str2_result.toFixed(2).substr(str2_len, 3) ;\n",
      "\t\t} else\n",
      "\t\t\tstr2_result_str = str2_result.toFixed(2) ;\n",
      "\t\n",
      "\t\tjindo.$('input_'+str1+'_money').value = str1_result_str;\n",
      "\t\tjindo.$('input_'+str2+'_money').value = str2_result_str;\n",
      "\t\tjindo.$('img_'+str1+'_monetary').src = \"https://ssl.pstatic.net/static/nfinance/img_money_\"+unit_from+\".gif\";\n",
      "\t\tjindo.$('img_'+str2+'_monetary').src = \"https://ssl.pstatic.net/static/nfinance/img_money_\"+unit_to+\".gif\";\n",
      "\t\tjindo.$Element(jindo.$('input_'+str1)).addClass(\"on\");\n",
      "\t\tjindo.$Element(jindo.$('input_'+str2)).removeClass(\"on\");\n",
      "\t\tif (cssOn == \"off\"){\n",
      "\t\t\tjindo.$Element(jindo.$('input_'+str1)).removeClass(\"on\");\n",
      "\t\t}\n",
      "\t}\n",
      "}\n",
      "\n",
      "function revertInputText(sOrgText) {\n",
      "\tvar sResult = sOrgText;\n",
      "\t\n",
      "\tif (sOrgText != '') {\n",
      "\t\tsResult = sOrgText.substr(0, sOrgText.length - 1);\n",
      "\t}\n",
      "\t\n",
      "\treturn sResult;\n",
      "}\n",
      "\n",
      "jindo.$Fn(function(){\n",
      "\tchartMouseOverEvent('exchangeList');\t\t\n",
      "   }).attach(document, \"domready\");\n",
      "  </script>\n",
      " </div>\n",
      " <script language=\"javascript\" src=\"https://ssl.pstatic.net/imgstock/static.pc/20210916165954/js/jindo_ellipse.js\">\n",
      " </script>\n",
      " <script language=\"javascript\" src=\"https://ssl.pstatic.net/imgstock/static.pc/20210916165954/js/util.js\">\n",
      " </script>\n",
      " <script type=\"text/javascript\">\n",
      "  function ellipseTopNewsTitle() {\n",
      "\tjindo.EllipseText.factory(jindo.$$(\".news_list ul li\"), {nAssistWidth: 10});\n",
      "}\n",
      "\n",
      "var basicDates;\n",
      "\n",
      "function initDate() {\n",
      "\tbasicDates = jindo.$H();\n",
      "\tbasicDates.add('', '');\n",
      "\tbasicDates.add('', '');\n",
      "\tbasicDates.add('', '');\n",
      "\tbasicDates.add('', '');\n",
      "\tbasicDates.add('', '');\n",
      "\tbasicDates.add('', '');\n",
      "}\n",
      "\n",
      "var basicDescriptions;\n",
      "\n",
      "function initDescription() {\n",
      "\tbasicDescriptions = jindo.$H();\n",
      "\tbasicDescriptions.add('CMDT_CDY','<em></em>  기준<span>단위:</span>');\n",
      "\tbasicDescriptions.add('CMDT_PDY','<em></em>  기준<span>단위:</span>');\n",
      "\tbasicDescriptions.add('CMDT_NG','<em></em>  기준<span>단위:</span>');\n",
      "\tbasicDescriptions.add('CMDT_S','<em></em>  기준<span>단위:</span>');\n",
      "\tbasicDescriptions.add('CMDT_C','<em></em>  기준<span>단위:</span>');\n",
      "\tbasicDescriptions.add('CMDT_SB','<em></em>  기준<span>단위:</span>');\n",
      "}\n",
      "\n",
      "function setEvent(num, imgChartUrl){\t\n",
      "\tvar parentElemnt = jindo.$$('.tbl_market')[num];\n",
      "\tvar elementList = jindo.$$('tr',parentElemnt);\n",
      "\t\n",
      "\tjindo.$Fn(function(e){\t\n",
      "\t\tvar elementListSize = elementList.length;\n",
      "\t\t\n",
      "\t\tfor(var i = 0 ; i < elementListSize ; i ++)\n",
      "\t\t{\n",
      "\t\t\tvar selectedElement = jindo.$Element(elementList[i]);\n",
      "\t\t\tvar selectedClassName = selectedElement.className();\n",
      "\t\t\tif (selectedClassName != \"\") {\n",
      "\t\t\t\tselectedElement.removeClass(selectedClassName);\n",
      "\t\t\t\tselectedElement.addClass(selectedClassName.replace(\"on\",\"\"));\n",
      "\t\t\t}\n",
      "\t\t} \n",
      "\t\t\n",
      "\t\tvar ele = jindo.$Element(jindo.$Event(e).currentElement);\n",
      "\t\tvar linkUrl = jindo.$$.getSingle('a' , ele.$value()).href;\n",
      "\t\tvar marketindexCd = linkUrl.split('=')[1];\n",
      "\t\tvar className = ele.className();\n",
      "\t\tele.removeClass(className);\n",
      "\t\tele.addClass(className+\" on\");\n",
      "\t\tvar graphElement = jindo.$Element(jindo.$$('.thum')[num]);\n",
      "\t\tgraphElement.html('<a href=\\\"'+linkUrl+'\\\"><img src=\\\"https://ssl.pstatic.net/imgfinance/chart/marketindex/' + marketindexCd + '.png\\\" width=\\\"295\\\" height=\\\"153\\\" alt=\"\"></a>');\n",
      "\t\t\n",
      "\t\tif (basicDates.hasKey(marketindexCd)) {\n",
      "\t\t\tjindo.$Element(\"basicDate\").text(basicDates.$(marketindexCd));\n",
      "\t\t}\n",
      "\t\tif (basicDescriptions.hasKey(marketindexCd)) {\n",
      "\t\t\tjindo.$Element(\"basicDescription\").html(basicDescriptions.$(marketindexCd));\n",
      "\t\t}\n",
      "\t\n",
      "\t}).attach(elementList, \"mouseover\");\t\n",
      "}\n",
      "\n",
      "jindo.$Fn(function(){\n",
      "\t\tinitDate();\n",
      "\t\tinitDescription();\n",
      "\t\tchartMouseOverEvent('exchangeList');\n",
      "\t\tchartMouseOverEvent('worldExchangeList');\n",
      "\t\tchartMouseOverEvent('oilGoldList');\n",
      "\t\tjindo.$$('title')[0].innerHTML = \"시장지표 : 네이버 금융\";\n",
      "}).attach(document, \"domready\");\n",
      " </script>\n",
      " <div class=\"aside\" id=\"marketindex_aside\">\n",
      "  <div class=\"section_aside\">\n",
      "   <h3 class=\"h_interest\">\n",
      "    <span>\n",
      "     국내시장금리\n",
      "    </span>\n",
      "   </h3>\n",
      "   <table class=\"tbl_exchange market\" summary=\"국제시장 환율 리스트\">\n",
      "    <caption>\n",
      "     국내시장금리\n",
      "    </caption>\n",
      "    <colgroup>\n",
      "     <col width=\"94\"/>\n",
      "     <col width=\"50\"/>\n",
      "     <col width=\"75\"/>\n",
      "    </colgroup>\n",
      "    <thead>\n",
      "     <tr>\n",
      "      <th>\n",
      "       구분\n",
      "      </th>\n",
      "      <th>\n",
      "       금리\n",
      "      </th>\n",
      "      <th>\n",
      "       등락율\n",
      "      </th>\n",
      "     </tr>\n",
      "    </thead>\n",
      "    <tbody>\n",
      "     <tr class=\"up\">\n",
      "      <th class=\"th_inter4\">\n",
      "       <a href=\"/marketindex/interestDetail.naver?marketindexCd=IRR_CD91\" onclick=\"clickcr(this, 'rid.local', 'IRR_CD91', '1', event);\">\n",
      "        <span>\n",
      "         CD금리(91일)\n",
      "        </span>\n",
      "       </a>\n",
      "      </th>\n",
      "      <td>\n",
      "       1.04\n",
      "      </td>\n",
      "      <td>\n",
      "       <img alt=\"상승\" height=\"6\" src=\"https://ssl.pstatic.net/static/nfinance/ico_up.gif\" width=\"7\"/>\n",
      "       0.01\n",
      "      </td>\n",
      "     </tr>\n",
      "     <tr class=\"down\">\n",
      "      <th class=\"th_inter1\">\n",
      "       <a href=\"/marketindex/interestDetail.naver?marketindexCd=IRR_CALL\" onclick=\"clickcr(this, 'met.8', 'IRR_CALL', '2', event);\">\n",
      "        <span>\n",
      "         콜 금리\n",
      "        </span>\n",
      "       </a>\n",
      "      </th>\n",
      "      <td>\n",
      "       0.72\n",
      "      </td>\n",
      "      <td>\n",
      "       <img alt=\"하락\" height=\"6\" src=\"https://ssl.pstatic.net/static/nfinance/ico_down.gif\" width=\"7\"/>\n",
      "       0.03\n",
      "      </td>\n",
      "     </tr>\n",
      "     <tr class=\"up\">\n",
      "      <th class=\"th_inter2\">\n",
      "       <a href=\"/marketindex/interestDetail.naver?marketindexCd=IRR_GOVT03Y\" onclick=\"clickcr(this, 'met.8', 'IRR_GOVT03Y', '3', event);\">\n",
      "        <span>\n",
      "         국고채 (3년)\n",
      "        </span>\n",
      "       </a>\n",
      "      </th>\n",
      "      <td>\n",
      "       1.60\n",
      "      </td>\n",
      "      <td>\n",
      "       <img alt=\"상승\" height=\"6\" src=\"https://ssl.pstatic.net/static/nfinance/ico_up.gif\" width=\"7\"/>\n",
      "       0.04\n",
      "      </td>\n",
      "     </tr>\n",
      "     <tr class=\"up\">\n",
      "      <th class=\"th_inter3\">\n",
      "       <a href=\"/marketindex/interestDetail.naver?marketindexCd=IRR_CORP03Y\" onclick=\"clickcr(this, 'met.8', 'IRR_CORP03Y', '4', event);\">\n",
      "        <span>\n",
      "         회사채 (3년)\n",
      "        </span>\n",
      "       </a>\n",
      "      </th>\n",
      "      <td>\n",
      "       2.06\n",
      "      </td>\n",
      "      <td>\n",
      "       <img alt=\"상승\" height=\"6\" src=\"https://ssl.pstatic.net/static/nfinance/ico_up.gif\" width=\"7\"/>\n",
      "       0.05\n",
      "      </td>\n",
      "     </tr>\n",
      "     <tr class=\"same\">\n",
      "      <th class=\"th_inter5\">\n",
      "       <a href=\"/marketindex/interestDetail.naver?marketindexCd=IRR_COFIXBAL\" onclick=\"clickcr(this, 'met.8', 'IRR_COFIXBAL', '5', event);\">\n",
      "        <span>\n",
      "         COFIX 잔액\n",
      "        </span>\n",
      "       </a>\n",
      "      </th>\n",
      "      <td>\n",
      "       1.02\n",
      "      </td>\n",
      "      <td>\n",
      "       <img alt=\"보합\" height=\"6\" src=\"https://ssl.pstatic.net/static/nfinance/ico_same2.gif\" width=\"7\"/>\n",
      "       0.00\n",
      "      </td>\n",
      "     </tr>\n",
      "     <tr class=\"up\">\n",
      "      <th class=\"th_inter6\">\n",
      "       <a href=\"/marketindex/interestDetail.naver?marketindexCd=IRR_COFIXNEW\" onclick=\"clickcr(this, 'met.8', 'IRR_COFIXNEW', '6', event);\">\n",
      "        <span>\n",
      "         COFIX 신규취급액\n",
      "        </span>\n",
      "       </a>\n",
      "      </th>\n",
      "      <td>\n",
      "       0.95\n",
      "      </td>\n",
      "      <td>\n",
      "       <img alt=\"상승\" height=\"6\" src=\"https://ssl.pstatic.net/static/nfinance/ico_up.gif\" width=\"7\"/>\n",
      "       0.03\n",
      "      </td>\n",
      "     </tr>\n",
      "    </tbody>\n",
      "   </table>\n",
      "   <table class=\"tbl_exchange tbl_exchange_v1 market\" style=\"margin-top:10px;\" summary=\"달러 인덱스\">\n",
      "    <caption>\n",
      "     달러 인덱스\n",
      "    </caption>\n",
      "    <colgroup>\n",
      "     <col width=\"88\"/>\n",
      "     <col width=\"46\"/>\n",
      "     <col width=\"66\"/>\n",
      "    </colgroup>\n",
      "    <thead>\n",
      "     <tr>\n",
      "      <th>\n",
      "       구분\n",
      "      </th>\n",
      "      <th>\n",
      "       금리\n",
      "      </th>\n",
      "      <th>\n",
      "       등락율\n",
      "      </th>\n",
      "     </tr>\n",
      "    </thead>\n",
      "    <tbody>\n",
      "     <tr class=\"other_t1 up\">\n",
      "      <th class=\"th_inter7\">\n",
      "       <a href=\"/marketindex/worldExchangeDetail.naver?marketindexCd=FX_USDX&amp;fdtc=4\" onclick=\"clickcr(this, 'rid.dollar', 'FX_USDX', '', event);\">\n",
      "        <span>\n",
      "         달러 인덱스\n",
      "        </span>\n",
      "       </a>\n",
      "      </th>\n",
      "      <td>\n",
      "       93.3800\n",
      "      </td>\n",
      "      <td>\n",
      "       <img alt=\"상승\" height=\"6\" src=\"https://ssl.pstatic.net/static/nfinance/ico_up.gif\" width=\"7\"/>\n",
      "       0.0500\n",
      "      </td>\n",
      "     </tr>\n",
      "    </tbody>\n",
      "   </table>\n",
      "  </div>\n",
      "  <div class=\"section_aside\">\n",
      "   <div class=\"tab_search search3\">\n",
      "    <a href=\"#\" onclick=\"clickcr(this, 'rch.1', '', '', event); return false;\">\n",
      "     <span>\n",
      "      최근조회\n",
      "     </span>\n",
      "    </a>\n",
      "    <a href=\"#\" onclick=\"clickcr(this, 'rch.3', '', '', event); return false;\">\n",
      "     <span>\n",
      "      MY STOCK\n",
      "     </span>\n",
      "    </a>\n",
      "   </div>\n",
      "   <h3 class=\"blind\">\n",
      "    최근조회\n",
      "   </h3>\n",
      "   <table class=\"tbl_search\" summary=\"최근조회 리스트\">\n",
      "    <caption>\n",
      "     최근조회\n",
      "    </caption>\n",
      "    <colgroup>\n",
      "     <col/>\n",
      "     <col width=\"55\"/>\n",
      "     <col width=\"87\"/>\n",
      "    </colgroup>\n",
      "    <thead>\n",
      "     <tr>\n",
      "      <th>\n",
      "       업체명\n",
      "      </th>\n",
      "      <th>\n",
      "       거래량\n",
      "      </th>\n",
      "      <th>\n",
      "       전일비\n",
      "      </th>\n",
      "     </tr>\n",
      "    </thead>\n",
      "    <tbody>\n",
      "    </tbody>\n",
      "   </table>\n",
      "   <div class=\"more_info\">\n",
      "    <span>\n",
      "     <a href=\"#\" onclick=\"clickcr(this, 'rch.5', '', '', event); return false;\">\n",
      "      <img alt=\"이전\" height=\"15\" src=\"https://ssl.pstatic.net/static/nfinance/btn_prev2.gif\" width=\"17\"/>\n",
      "     </a>\n",
      "     <a href=\"#\" onclick=\"clickcr(this, 'rch.6', '', '', event); return false;\">\n",
      "      <img alt=\"다음\" height=\"15\" src=\"https://ssl.pstatic.net/static/nfinance/btn_next2.gif\" width=\"17\"/>\n",
      "     </a>\n",
      "    </span>\n",
      "    <a class=\"btn_more _mystock_more_info\" href=\"#\" onclick=\"javascript:openMyitemNew('https://finance.naver.com'); clickcr(this, 'rch.7', '', '', event);\">\n",
      "     <img alt=\"더보기\" height=\"10\" src=\"https://ssl.pstatic.net/static/nfinance/btn_more5.gif\" width=\"33\"/>\n",
      "    </a>\n",
      "   </div>\n",
      "  </div>\n",
      "  <div class=\"section_aside\">\n",
      "   <h3 class=\"h_report\">\n",
      "    <span>\n",
      "     경제분석 리포트\n",
      "    </span>\n",
      "   </h3>\n",
      "   <ul class=\"list_report\">\n",
      "    <li>\n",
      "     <a href=\"/research/economy_read.naver?nid=7420\" onclick=\"clickcr(this, 'rer.list', '', '', event);\">\n",
      "      국내외 경제이슈\n",
      "     </a>\n",
      "    </li>\n",
      "    <li>\n",
      "     <a href=\"/research/economy_read.naver?nid=7419\" onclick=\"clickcr(this, 'rer.list', '', '', event);\">\n",
      "      국내외 경제이슈\n",
      "     </a>\n",
      "    </li>\n",
      "    <li>\n",
      "     <a href=\"/research/economy_read.naver?nid=7418\" onclick=\"clickcr(this, 'rer.list', '', '', event);\">\n",
      "      미국 높은 수준의 인플레이션율 유...\n",
      "     </a>\n",
      "    </li>\n",
      "    <li>\n",
      "     <a href=\"/research/economy_read.naver?nid=7417\" onclick=\"clickcr(this, 'rer.list', '', '', event);\">\n",
      "      9월 FOMC: 빨라지는 정상화,...\n",
      "     </a>\n",
      "    </li>\n",
      "    <li>\n",
      "     <a href=\"/research/economy_read.naver?nid=7416\" onclick=\"clickcr(this, 'rer.list', '', '', event);\">\n",
      "      미국과 중국의 각각 채무불이행 위...\n",
      "     </a>\n",
      "    </li>\n",
      "   </ul>\n",
      "   <a class=\"btn_more\" href=\"/research/economy_list.naver\" onclick=\"clickcr(this, 'rer.more', '', '', event);\">\n",
      "    <img alt=\"경제분석 리포트 더보기\" height=\"18\" src=\"https://ssl.pstatic.net/static/nfinance/btn_more.gif\" width=\"34\"/>\n",
      "   </a>\n",
      "  </div>\n",
      " </div>\n",
      " <script language=\"javascript\" src=\"https://ssl.pstatic.net/imgstock/static.pc/20210916165954/js/info/myStock.js\" type=\"text/javascript\">\n",
      " </script>\n",
      " <script language=\"javascript\" src=\"https://ssl.pstatic.net/imgstock/static.pc/20210916165954/js/util.js\" type=\"text/javascript\">\n",
      " </script>\n",
      " <script language=\"javascript\">\n",
      "  function toggleTabSearch(e){\n",
      "\tvar currentElement = jindo.$Element(jindo.$Event(e).currentElement);\n",
      "\tvar parentElement = currentElement.parent();\n",
      "\tvar id = currentElement.className();\n",
      "\tvar order = parentElement.indexOf(currentElement) + 3;\n",
      "\tparentElement.className(\"tab_search search\"+ order);\n",
      "\n",
      "\t// 페이징을 위해서 order값에 따라 최근조회인지 mystock인지 type을 저장\n",
      "\tif (order == 3) {\n",
      "\t\tcurrentType = \"recent\";\n",
      "\t} else {\n",
      "\t\tcurrentType = \"mystock\";\n",
      "\t}\n",
      "}\n",
      "\n",
      "jindo.$Fn(function(){\n",
      "\tif ('true' == 'true') {\n",
      "\t\tgetStockRightMenuData('000000', 'recent', 1, 'https://finance.naver.com', 'https://ssl.pstatic.net/static/nfinance');\n",
      "\n",
      "\t\tvar tabSearchArea = jindo.$$.getSingle('.tab_search');\n",
      "\t\tvar moreInfoArea = jindo.$Element(jindo.$$.getSingle('.tbl_search')).next().$value();\n",
      "\n",
      "\t\tjindo.$Fn(function(e) {toggleTabSearch(e); getStockRightMenuData('000000', 'recent', 1, 'https://finance.naver.com', 'https://ssl.pstatic.net/static/nfinance'); }).attach(jindo.$$.getSingle('a' ,tabSearchArea), 'click');\n",
      "\t\tjindo.$Fn(function(e) {toggleTabSearch(e); getStockRightMenuData('000000', 'mystock', 1, 'https://finance.naver.com', 'https://ssl.pstatic.net/static/nfinance'); }).attach(jindo.$$('a' ,tabSearchArea)[1], 'click');\n",
      "\t\tjindo.$Fn(function(e) {updatePageForPaging (currentType, 'up', 'https://finance.naver.com', 'https://ssl.pstatic.net/static/nfinance'); }).attach(jindo.$$.getSingle('a', moreInfoArea), 'click');\n",
      "\t\tjindo.$Fn(function(e) {updatePageForPaging (currentType, 'down', 'https://finance.naver.com', 'https://ssl.pstatic.net/static/nfinance'); }).attach(jindo.$$('a', moreInfoArea)[1], 'click');\n",
      "\t}\n",
      "\n",
      "}).attach(document,\"domready\");\n",
      "\n",
      "function openMyitemNew(stockHost) {\n",
      "\tvar selectedElement = jindo.$Element(jindo.$$.getSingle(\".tab_search\"));\n",
      "\tif (selectedElement != null) {\n",
      "\t\tif (selectedElement.hasClass(\"search1\")) {\n",
      "\t\t\tdocument.location.href = stockHost + '/mystock/recentSearchItemList.naver';\n",
      "\t\t} else {\n",
      "\t\t\tdocument.location.href = stockHost + '/mystock/itemList.naver';\n",
      "\t\t}\n",
      "\t}\n",
      "}\n",
      " </script>\n",
      "</div>\n",
      "<div id=\"footer\">\n",
      " <ul>\n",
      "  <li class=\"first\">\n",
      "   <a href=\"https://www.naver.com/rules/service.html\" onclick=\"clickcr(this, 'fot.service', '', '', event);\" target=\"_blank\">\n",
      "    이용약관\n",
      "   </a>\n",
      "  </li>\n",
      "  <li>\n",
      "   <a href=\"/rules.naver\" onclick=\"clickcr(this, 'fot.policy', '', '', event);\" target=\"_blank\">\n",
      "    금융게시판 운영원칙\n",
      "   </a>\n",
      "  </li>\n",
      "  <li>\n",
      "   <a href=\"https://www.naver.com/rules/privacy.html\" onclick=\"clickcr(this, 'fot.privacy', '', '', event);\" target=\"_blank\">\n",
      "    <strong>\n",
      "     개인정보처리방침\n",
      "    </strong>\n",
      "   </a>\n",
      "  </li>\n",
      "  <li>\n",
      "   <a href=\"https://www.naver.com/rules/disclaimer.html\" onclick=\"clickcr(this, 'fot.limit', '', '', event);\" target=\"_blank\">\n",
      "    책임의 한계와 법적고지\n",
      "   </a>\n",
      "  </li>\n",
      "  <li>\n",
      "   <a href=\"https://help.naver.com/support/alias/contents2/finance/finance_1.naver\" onclick=\"clickcr(this, 'fot.help', '', '', event);\" target=\"_blank\">\n",
      "    금융 고객센터\n",
      "   </a>\n",
      "  </li>\n",
      " </ul>\n",
      " <p class=\"desc\">\n",
      "  네이버(주)가 제공하는 금융 정보는 각 콘텐츠 제공업체로부터 받는 투자 참고사항이며, 오류가 발생하거나 지연될 수 있습니다.\n",
      "  <br/>\n",
      "  네이버(주)와 콘텐츠 제공업체는 제공된 정보에 의한 투자 결과에 법적인 책임을 지지 않습니다. 게시된 정보는 무단으로 배포할 수 없습니다.\n",
      " </p>\n",
      " <address>\n",
      "  <a class=\"logo\" href=\"https://www.navercorp.com/\" onclick=\"clickcr(this, 'fot.nhn', '', '', event);\" target=\"_blank\">\n",
      "   <img alt=\"NAVER\" height=\"11\" src=\"https://ssl.pstatic.net/static/nfinance/2019/02/22/ci_naver.png\" width=\"58\"/>\n",
      "  </a>\n",
      "  <em>\n",
      "   Copyright ©\n",
      "  </em>\n",
      "  <a href=\"https://www.navercorp.com/\" onclick=\"clickcr(this, 'fot.nhn', '', '', event);\" target=\"_blank\">\n",
      "   NAVER Corp.\n",
      "  </a>\n",
      "  <span>\n",
      "   All Rights Reserved.\n",
      "  </span>\n",
      " </address>\n",
      "</div>\n",
      "<script type=\"text/javascript\">\n",
      " function isVisible(obj) {\n",
      "    if (obj == document) return true\n",
      " \n",
      "    if (!obj) return false\n",
      "    if (!obj.parentNode) return false\n",
      "    if (obj.style) {\n",
      "        if (obj.style.display == 'none') return false\n",
      "        if (obj.style.visibility == 'hidden') return false\n",
      "    }\n",
      " \n",
      "    if (window.getComputedStyle) {\n",
      "        var style = window.getComputedStyle(obj, \"\")\n",
      "        if (style.display == 'none') return false\n",
      "        if (style.visibility == 'hidden') return false\n",
      "    }\n",
      " \n",
      "    var style = obj.currentStyle\n",
      "    if (style) {\n",
      "        if (style['display'] == 'none') return false\n",
      "        if (style['visibility'] == 'hidden') return false\n",
      "    }\n",
      " \n",
      "    return isVisible(obj.parentNode)\n",
      "}\n",
      "\n",
      "function isChildOf(myobj, containerObj) {\n",
      "\twhile(myobj != undefined) {\n",
      "\t\tif (myobj == document.body) {\n",
      "\t\t\tbreak;\n",
      "\t\t} \n",
      "\t\tif (myobj == containerObj) {\n",
      "\t\t\treturn true;\n",
      "\t\t}\n",
      "\t\tmyobj = myobj.parentElement;\n",
      "\t}\n",
      "\treturn false;\t\n",
      "}\n",
      "\n",
      "function gnbLayerClose(e){\n",
      "\tvar target = e.target ? e.target : e.srcElement;\n",
      "\tif (isVisible(document.getElementById('gnb_service_lyr')) || isVisible(document.getElementById('gnb_notice_lyr')) ||isVisible(document.getElementById('gnb_my_lyr')) ) {\n",
      "\t\tif (!isChildOf(target, document.getElementById('gnb'))) {\n",
      "\t\t\tgnbAllLayerClose();\n",
      "\t\t}\n",
      "\t}\t\n",
      "}\n",
      "\n",
      "var isIE = (navigator.userAgent.toLowerCase().indexOf(\"msie\")!=-1 && window.document.all) ? true:false;\n",
      "if (isIE) {\n",
      "\tdocument.attachEvent('onmousedown', gnbLayerClose);\n",
      "} else {\n",
      "\twindow.addEventListener('mousedown', gnbLayerClose);\n",
      "}\n",
      "</script>\n",
      "\n"
     ]
    }
   ],
   "source": [
    "import requests\n",
    "from bs4 import BeautifulSoup as bs4\n",
    "\n",
    "url = \"https://finance.naver.com/marketindex/\"\n",
    "response = requests.get(url)\n",
    "text = response.text\n",
    "soup = bs4(text, \"html.parser\")\n",
    "print(soup.prettify())"
   ]
  },
  {
   "cell_type": "code",
   "execution_count": 78,
   "metadata": {},
   "outputs": [
    {
     "data": {
      "text/plain": [
       "[<li class=\"on\">\n",
       " <a class=\"head usd\" href=\"/marketindex/exchangeDetail.naver?marketindexCd=FX_USDKRW\" onclick=\"clickcr(this, 'fr1.usdt', '', '', event);\">\n",
       " <h3 class=\"h_lst\"><span class=\"blind\">미국 USD</span></h3>\n",
       " <div class=\"head_info point_up\">\n",
       " <span class=\"value\">1,187.00</span>\n",
       " <span class=\"txt_krw\"><span class=\"blind\">원</span></span>\n",
       " <span class=\"change\">6.00</span>\n",
       " <span class=\"blind\">상승</span>\n",
       " </div>\n",
       " </a>\n",
       " <a class=\"graph_img\" href=\"/marketindex/exchangeDetail.naver?marketindexCd=FX_USDKRW\" onclick=\"clickcr(this, 'fr1.usdc', '', '', event);\">\n",
       " <img alt=\"\" height=\"153\" src=\"https://ssl.pstatic.net/imgfinance/chart/marketindex/FX_USDKRW.png\" width=\"295\"/>\n",
       " </a>\n",
       " <div class=\"graph_info\">\n",
       " <span class=\"time\">2021.09.28 20:04</span>\n",
       " <span class=\"source\">하나은행 기준</span>\n",
       " <span class=\"count\">고시회차<span class=\"num\">318</span>회</span>\n",
       " </div>\n",
       " </li>,\n",
       " <li class=\"\">\n",
       " <a class=\"head jpy\" href=\"/marketindex/exchangeDetail.naver?marketindexCd=FX_JPYKRW\" onclick=\"clickcr(this, 'fr1.jpyt', '', '', event);\">\n",
       " <h3 class=\"h_lst\"><span class=\"blind\">일본 JPY(100엔)</span></h3>\n",
       " <div class=\"head_info point_up\">\n",
       " <span class=\"value\">1,065.15</span>\n",
       " <span class=\"txt_krw\"><span class=\"blind\">원</span></span>\n",
       " <span class=\"change\">0.32</span>\n",
       " <span class=\"blind\">상승</span>\n",
       " </div>\n",
       " </a>\n",
       " <a class=\"graph_img\" href=\"/marketindex/exchangeDetail.naver?marketindexCd=FX_JPYKRW\" onclick=\"clickcr(this, 'fr1.jpyc', '', '', event);\">\n",
       " <img alt=\"\" height=\"153\" src=\"https://ssl.pstatic.net/imgfinance/chart/marketindex/FX_JPYKRW.png\" width=\"295\"/>\n",
       " </a>\n",
       " <div class=\"graph_info\">\n",
       " <span class=\"time\">2021.09.28 20:04</span>\n",
       " <span class=\"source\">하나은행 기준</span>\n",
       " <span class=\"count\">고시회차<span class=\"num\">318</span>회</span>\n",
       " </div>\n",
       " </li>,\n",
       " <li class=\"\">\n",
       " <a class=\"head eur\" href=\"/marketindex/exchangeDetail.naver?marketindexCd=FX_EURKRW\" onclick=\"clickcr(this, 'fr1.eurt', '', '', event);\">\n",
       " <h3 class=\"h_lst\"><span class=\"blind\">유럽연합 EUR</span></h3>\n",
       " <div class=\"head_info point_up\">\n",
       " <span class=\"value\">1,386.42</span>\n",
       " <span class=\"txt_krw\"><span class=\"blind\">원</span></span>\n",
       " <span class=\"change\">3.65</span>\n",
       " <span class=\"blind\">상승</span>\n",
       " </div>\n",
       " </a>\n",
       " <a class=\"graph_img\" href=\"/marketindex/exchangeDetail.naver?marketindexCd=FX_EURKRW\" onclick=\"clickcr(this, 'fr1.eurc', '', '', event);\">\n",
       " <img alt=\"\" height=\"153\" src=\"https://ssl.pstatic.net/imgfinance/chart/marketindex/FX_EURKRW.png\" width=\"295\"/>\n",
       " </a>\n",
       " <div class=\"graph_info\">\n",
       " <span class=\"time\">2021.09.28 20:04</span>\n",
       " <span class=\"source\">하나은행 기준</span>\n",
       " <span class=\"count\">고시회차<span class=\"num\">318</span>회</span>\n",
       " </div>\n",
       " </li>,\n",
       " <li class=\"\">\n",
       " <a class=\"head cny\" href=\"/marketindex/exchangeDetail.naver?marketindexCd=FX_CNYKRW\" onclick=\"clickcr(this, 'fr1.cnyt', '', '', event);\">\n",
       " <h3 class=\"h_lst\"><span class=\"blind\">중국 CNY</span></h3>\n",
       " <div class=\"head_info point_up\">\n",
       " <span class=\"value\">183.63</span>\n",
       " <span class=\"txt_krw\"><span class=\"blind\">원</span></span>\n",
       " <span class=\"change\">0.94</span>\n",
       " <span class=\"blind\">상승</span>\n",
       " </div>\n",
       " </a>\n",
       " <a class=\"graph_img\" href=\"/marketindex/exchangeDetail.naver?marketindexCd=FX_CNYKRW\" onclick=\"clickcr(this, 'fr1.cnyc', '', '', event);\">\n",
       " <img alt=\"\" height=\"153\" src=\"https://ssl.pstatic.net/imgfinance/chart/marketindex/FX_CNYKRW.png\" width=\"295\"/>\n",
       " </a>\n",
       " <div class=\"graph_info\">\n",
       " <span class=\"time\">2021.09.28 20:04</span>\n",
       " <span class=\"source\">하나은행 기준</span>\n",
       " <span class=\"count\">고시회차<span class=\"num\">318</span>회</span>\n",
       " </div>\n",
       " </li>]"
      ]
     },
     "execution_count": 78,
     "metadata": {},
     "output_type": "execute_result"
    }
   ],
   "source": [
    "exchange_list = soup.select(\"#exchangeList > li\")\n",
    "exchange_list"
   ]
  },
  {
   "cell_type": "code",
   "execution_count": 105,
   "metadata": {},
   "outputs": [
    {
     "name": "stdout",
     "output_type": "stream",
     "text": [
      "미국 USD | 1,187.00 | 6.00 | 상승\n"
     ]
    }
   ],
   "source": [
    "title = exchange_list[0].select_one(\".h_lst\").text\n",
    "exchange = exchange_list[0].select_one(\".value\").text\n",
    "change = exchange_list[0].select_one(\".change\").text\n",
    "updown = exchange_list[0].select_one(\".head_info.point_up > .blind\").text\n",
    "\n",
    "print(title, exchange, change, updown, sep=\" | \")\n"
   ]
  },
  {
   "cell_type": "code",
   "execution_count": 111,
   "metadata": {},
   "outputs": [
    {
     "name": "stdout",
     "output_type": "stream",
     "text": [
      "미국 USD | 1,187.00 | 6.00 | 상승 | https://finance.naver.com/marketindex/exchangeDetail.naver?marketindexCd=FX_USDKRW\n",
      "일본 JPY(100엔) | 1,065.15 | 0.32 | 상승 | https://finance.naver.com/marketindex/exchangeDetail.naver?marketindexCd=FX_JPYKRW\n",
      "유럽연합 EUR | 1,386.42 | 3.65 | 상승 | https://finance.naver.com/marketindex/exchangeDetail.naver?marketindexCd=FX_EURKRW\n",
      "중국 CNY | 183.63 | 0.94 | 상승 | https://finance.naver.com/marketindex/exchangeDetail.naver?marketindexCd=FX_CNYKRW\n"
     ]
    }
   ],
   "source": [
    "base_url = \"https://finance.naver.com\"\n",
    "for data in exchange_list:\n",
    "    sub_url = data.select_one(\"a\").get(\"href\")\n",
    "    title = data.select_one(\".h_lst\").text\n",
    "    exchange = data.select_one(\".value\").text\n",
    "    change = data.select_one(\".change\").text\n",
    "    updown = data.select_one(\".head_info.point_up > .blind\").text\n",
    "\n",
    "    print(title, exchange, change, updown, base_url+sub_url ,sep=\" | \")"
   ]
  },
  {
   "cell_type": "code",
   "execution_count": null,
   "metadata": {},
   "outputs": [],
   "source": [
    "\n",
    "exchange_list = []\n",
    "base_url = \"https://finance.naver.com\"\n",
    "\n",
    "for data in exchange_list:\n",
    "    data = {\n",
    "        \"title\" : data.select_one(\".h_lst\").text,\n",
    "        \"exchange\" : data.select_one(\".value\").text, \n",
    "        \"change\" : data.select_one(\".change\").text,  \n",
    "        \"updown\" :  data.select_one(\".head_info.point_up > .blind\").text, \n",
    "        \"link\" : data.select_one(\"a\").get(\"href\")\n",
    "    }\n",
    "    exchange_list.append(data)"
   ]
  },
  {
   "cell_type": "code",
   "execution_count": 113,
   "metadata": {},
   "outputs": [
    {
     "name": "stderr",
     "output_type": "stream",
     "text": [
      "C:\\Users\\jmkim\\miniconda3\\envs\\ds_study\\lib\\site-packages\\pandas\\core\\internals\\construction.py:540: VisibleDeprecationWarning: Creating an ndarray from ragged nested sequences (which is a list-or-tuple of lists-or-tuples-or ndarrays with different lengths or shapes) is deprecated. If you meant to do this, you must specify 'dtype=object' when creating the ndarray.\n",
      "  values = np.array([convert(v) for v in values])\n"
     ]
    }
   ],
   "source": [
    "df = pd.DataFrame(exchange_list)\n",
    "df.to_excel(\"./naver_finance.xlsx\", encoding=\"utf-8\")"
   ]
  },
  {
   "cell_type": "code",
   "execution_count": 114,
   "metadata": {
    "scrolled": true
   },
   "outputs": [
    {
     "name": "stdout",
     "output_type": "stream",
     "text": [
      " D ����̺��� �������� �̸��� �����ϴ�.\n",
      " ���� �Ϸ� ��ȣ: A479-D011\n",
      "\n",
      " d:\\����\\������Ʈ\\��ī������ - �����ͻ��̾� 1��\\nekalakubae_data_science_1st\\ds_study\\code ���͸�\n",
      "\n",
      "2021-09-29  ���� 12:32    <DIR>          .\n",
      "2021-09-29  ���� 12:32    <DIR>          ..\n",
      "2021-09-28  ���� 10:00    <DIR>          .ipynb_checkpoints\n",
      "2021-09-17  ���� 02:26         1,073,844 .~01. Analysis Seoul CCTV.ipynb\n",
      "2021-09-24  ���� 12:15         1,073,844 01. Analysis Seoul CCTV.ipynb\n",
      "2021-09-28  ���� 05:11         7,242,128 02. Analysis Seoul Crime.ipynb\n",
      "2021-09-11  ���� 09:50       106,266,277 02. Analysis Seoul Crime.pdf\n",
      "2021-09-28  ���� 11:34             7,001 03. Web Data.ipynb\n",
      "2021-09-28  ���� 02:15             3,010 folium.html\n",
      "2021-09-28  ���� 02:15             3,010 folium2.html\n",
      "2021-09-27  ���� 07:52               267 google_api_key.zip\n",
      "2021-09-29  ���� 12:32             5,715 naver_finance.xlsx\n",
      "               9�� ����         115,675,096 ����Ʈ\n",
      "               3�� ���͸�  1,943,315,070,976 ����Ʈ ����\n"
     ]
    }
   ],
   "source": [
    "! dir"
   ]
  },
  {
   "cell_type": "markdown",
   "metadata": {},
   "source": [
    "---"
   ]
  },
  {
   "cell_type": "markdown",
   "metadata": {},
   "source": [
    "## BeautifulSoup 예제 2 - 여명의 눈동자(위키백과 데이터 가져오기)\n",
    "- urllib 을 이용한 URL 인코딩 참고 자료 \n",
    "    - https://brownbears.tistory.com/501"
   ]
  },
  {
   "cell_type": "code",
   "execution_count": 7,
   "metadata": {},
   "outputs": [],
   "source": [
    "from urllib import parse\n",
    "from urllib.request import urlopen, Request\n",
    "from bs4 import BeautifulSoup as bs4"
   ]
  },
  {
   "cell_type": "code",
   "execution_count": 16,
   "metadata": {},
   "outputs": [],
   "source": [
    "url = 'https://ko.wikipedia.org/wiki/{search_words}'\n",
    "req = Request(\n",
    "        url.format(\n",
    "            search_words=parse.quote(\"여명의_눈동자\") # 한글을 URL로 인코딩\n",
    "        )\n",
    "    )\n",
    "response = urlopen(req)\n",
    "soup = bs4(response, \"html.parser\")"
   ]
  },
  {
   "cell_type": "code",
   "execution_count": 38,
   "metadata": {},
   "outputs": [
    {
     "name": "stdout",
     "output_type": "stream",
     "text": [
      "==============================> 번 라인 : 15\n",
      "채시라 : 윤여옥 역 (아역: 김민정)\n",
      "박상원 : 장하림(하리모토 나츠오) 역 (아역: 김태진)\n",
      "최재성 : 최대치(사카이) 역 (아역: 장덕수)\n",
      "==============================> 번 라인 : 24\n",
      "1991년 MBC 연기대상 남자 최우수상 - 최재성\n",
      "1991년 MBC 연기대상 여자 최우수상 - 채시라\n",
      "1992년 제28회 백상예술대상 TV부문 대상\n",
      "1992년 제28회 백상예술대상 TV부문 작품상\n",
      "1992년 제28회 백상예술대상 TV부문 남자 연기상 - 최재성\n",
      "1992년 제28회 백상예술대상 TV부문 여자 연기상 - 채시라\n",
      "1992년 제28회 백상예술대상 TV부문 연출상 - 김종학\n",
      "1992년 제28회 백상예술대상 TV부문 기술상(촬영) - 조수현\n",
      "1992년 제28회 백상예술대상 TV부문 남자 인기상 - 박상원\n",
      "1992년 제19회 한국방송대상 드라마TV부문 최우수 작품상\n",
      "1992년 제19회 한국방송대상 TV부문 프로듀서상 - 김종학\n",
      "1992년 제19회 한국방송대상 TV부문 미술상 - 윤상준\n",
      "==============================> 번 라인 : 25\n",
      "당초 윤여옥 역은 김미숙, 안명지 역은 배종옥이 맡을 뻔 했지만 개인사정으로 고사하였다.\n",
      "줄곧 KBS 드라마에 출연해 오던  최재성이 1990년 KBS 사태 후 다른 방송사로 옮겨 처음 출연한 드라마이기도 했으며[7] 최재성은 《여명의 눈동자》 이후 타방송사에서만 활동해 오다가 <아씨>로 KBS 복귀를 했다.\n",
      "총 제작기간이 2년 4개월, 출연자와 엑스트라가 모두 21,000명이다.\n",
      "처음으로 제주4.3사건, 위안부 등을 다루었으며 또한 연출기법 등에 화제가 되었다.[8]\n",
      "극중 최대치가 뱀을 뜯어먹는 장면은 실제로 배우 최재성이 살아있는 뱀을 뜯는 법을 배워서 직접 껍질을 벗기면서 먹는 장면을 촬영하였으며, 그 후 뱀의 비린내로 고생하였다 한다.\n",
      "최대치와 윤여옥이 난징에서 헤어지기 전 철조망을 사이에 두고 나눈 키스신, 소위 '철조망 키스신'은 아직까지도 많은 이들로부터 명장면으로 꼽힌다.[9][10]\n",
      "1992년 2월 25일 채시라는 모교 동국대학교 졸업식에서 '여옥 역을 맡아 학교의 명예를 드높인 점'을 인정받아 민병천 당시 동국대 총장으로부터 공로상을 받았다.[11]\n",
      "한 고등학교에서는 시청을 권장하는 내용의 훈화가 있었으며, 일부 학교에서는 역사교육 자료의 일환으로 녹화테이프 제공 요청이 있었다.[12]\n",
      "4·3항쟁을 다룬 내용이 방영된 뒤 문화방송에 제주도민들로부터 “이 사건을 TV에서 다루어준 것만으로도 감사한다”라는 격려의 전화가 쇄도하였다.[13]\n",
      "극 중 일본어, 중국어, 영어가 나올 때 자막처리를 함으로써 ‘국제적 수준의 드라마로구나’라는 쾌감을 느끼게 했다는 평가도 있다.[13] 당시 《여명의 눈동자》 스페셜 다큐멘터리에 출연해 인터뷰를 한 중앙대학교 영화학과 김정옥 교수는 시간에 쫓기지 않고 미리 3분의 2 이상의 분량을 만들어서 완벽성을 추구하려 했다는 점에서 높은 점수를 주었다고 말했다.\n",
      "구성에 있어서는 몇 가지 상투적 기법이 사용되었고, 또한 위안부의 모습을 너무 감상적으로 그렸다는 평가까지 나왔다. 또한 당시 흔하지 않았던 드라마 속의 키스신, 731부대의 잔인한 생체실험 장면이나, 뱀을 산 채로 뜯어먹는 등의 자극적이고 참혹한 장면이 과연 안방드라마로 적합한가에 대한 논란이 있었으며 방송위원회가 각종 제재조치를 가하기도 했다.[13]\n",
      "소설가 김성종의 《여명의 눈동자》를 원작으로 제작되었다. 총 36부작으로 회당 50분 내외로 방영되었지만 중국과 필리핀 등에서 현지 로케이션으로 총 제작비 72억 원, 회당 제작비 2억 원이 들었다.[2]\n",
      "대한민국-일본 공동 케이블 KNTV를 통해서 방송된 바 있다.\n"
     ]
    }
   ],
   "source": [
    "for idx, ul in enumerate(soup.find_all(\"ul\")):\n",
    "    if \"채시라\" in ul.text:\n",
    "        print(\"=\"*30 + \"> 번 라인 :\",idx)\n",
    "        print(ul.text)"
   ]
  },
  {
   "cell_type": "code",
   "execution_count": 44,
   "metadata": {},
   "outputs": [
    {
     "name": "stdout",
     "output_type": "stream",
     "text": [
      "채시라: 윤여옥 역 (아역: 김민정)\n",
      "박상원: 장하림(하리모토 나츠오) 역 (아역: 김태진)\n",
      "최재성: 최대치(사카이) 역 (아역: 장덕수)\n"
     ]
    }
   ],
   "source": [
    "main_actor = soup.find_all(\"ul\")[15]\n",
    "for li in main_actor.find_all(\"li\"):\n",
    "    data = li.text.strip().replace(\"\\xa0\", \"\")\n",
    "    print(data, end=\"\\n\")"
   ]
  },
  {
   "cell_type": "markdown",
   "metadata": {},
   "source": [
    "- 인스턴트타입 확인하기"
   ]
  },
  {
   "cell_type": "code",
   "execution_count": 47,
   "metadata": {},
   "outputs": [
    {
     "data": {
      "text/plain": [
       "True"
      ]
     },
     "execution_count": 47,
     "metadata": {},
     "output_type": "execute_result"
    }
   ],
   "source": [
    "isinstance([\"\\xa0\",1,2,3,4,5], list)"
   ]
  },
  {
   "cell_type": "markdown",
   "metadata": {},
   "source": [
    "- 얕은 복사"
   ]
  },
  {
   "cell_type": "code",
   "execution_count": 48,
   "metadata": {},
   "outputs": [],
   "source": [
    "data = [1,2,3,4,5,6]"
   ]
  },
  {
   "cell_type": "code",
   "execution_count": 50,
   "metadata": {},
   "outputs": [
    {
     "data": {
      "text/plain": [
       "[1, 2, 3, 4, 5, 6]"
      ]
     },
     "execution_count": 50,
     "metadata": {},
     "output_type": "execute_result"
    }
   ],
   "source": [
    "data_cp = data\n",
    "data_cp"
   ]
  },
  {
   "cell_type": "code",
   "execution_count": 51,
   "metadata": {},
   "outputs": [
    {
     "data": {
      "text/plain": [
       "[1, 2, '데이터교체', 4, 5, 6]"
      ]
     },
     "execution_count": 51,
     "metadata": {},
     "output_type": "execute_result"
    }
   ],
   "source": [
    "data_cp[2] = \"데이터교체\"\n",
    "data_cp"
   ]
  },
  {
   "cell_type": "code",
   "execution_count": 52,
   "metadata": {},
   "outputs": [
    {
     "data": {
      "text/plain": [
       "[1, 2, '데이터교체', 4, 5, 6]"
      ]
     },
     "execution_count": 52,
     "metadata": {},
     "output_type": "execute_result"
    }
   ],
   "source": [
    "data"
   ]
  },
  {
   "cell_type": "markdown",
   "metadata": {},
   "source": [
    "- 깊은 복사"
   ]
  },
  {
   "cell_type": "code",
   "execution_count": 53,
   "metadata": {},
   "outputs": [],
   "source": [
    "data_2 = [9,10,11,12,13]"
   ]
  },
  {
   "cell_type": "code",
   "execution_count": 54,
   "metadata": {},
   "outputs": [
    {
     "data": {
      "text/plain": [
       "[9, 10, 11, 12, 13]"
      ]
     },
     "execution_count": 54,
     "metadata": {},
     "output_type": "execute_result"
    }
   ],
   "source": [
    "data_cp_deep = data_2.copy()\n",
    "data_cp_deep"
   ]
  },
  {
   "cell_type": "code",
   "execution_count": 56,
   "metadata": {},
   "outputs": [
    {
     "data": {
      "text/plain": [
       "[9, 10, '데이터교체', 12, 13]"
      ]
     },
     "execution_count": 56,
     "metadata": {},
     "output_type": "execute_result"
    }
   ],
   "source": [
    "data_cp_deep[2] = \"데이터교체\"\n",
    "data_cp_deep"
   ]
  },
  {
   "cell_type": "code",
   "execution_count": 57,
   "metadata": {},
   "outputs": [
    {
     "data": {
      "text/plain": [
       "[9, 10, 11, 12, 13]"
      ]
     },
     "execution_count": 57,
     "metadata": {},
     "output_type": "execute_result"
    }
   ],
   "source": [
    "data_2"
   ]
  },
  {
   "cell_type": "code",
   "execution_count": 58,
   "metadata": {},
   "outputs": [],
   "source": [
    "data_2.insert(2, \"인덱스2번에추가\")"
   ]
  },
  {
   "cell_type": "code",
   "execution_count": 59,
   "metadata": {},
   "outputs": [
    {
     "data": {
      "text/plain": [
       "[9, 10, '인덱스2번에추가', 11, 12, 13]"
      ]
     },
     "execution_count": 59,
     "metadata": {},
     "output_type": "execute_result"
    }
   ],
   "source": [
    "data_2"
   ]
  },
  {
   "cell_type": "markdown",
   "metadata": {},
   "source": [
    "---"
   ]
  },
  {
   "cell_type": "markdown",
   "metadata": {},
   "source": [
    "## 2. 시카고 맛집 데이터 분석 - 개요\n",
    "- https://www.chicagomag.com/Chicago-Magazine/November-2012/Best-Sandwiches-Chicago/\n",
    "- chicago magazine the 50 best sandwiches\n",
    "\n",
    "```\n",
    "최종목표\n",
    "총 51개 페이지에서 각 가게의 정보를 가져온다.\n",
    "- 가게 이름\n",
    "- 대표 메뉴\n",
    "- 대표 메뉴의 가격\n",
    "- 가게 주소\n",
    "```"
   ]
  },
  {
   "cell_type": "markdown",
   "metadata": {},
   "source": [
    "## 3. 시카고 맛집 데이터 분석 - \n",
    "- HTTP 403 Forbidden 클라이언트 오류 상태 응답 코드는 서버에 요청이 전달되었지만, 권한 때문에 거절되었다는 것을 의미합니다.\n",
    "- user agent 랜덤 생성\n",
    "    - conda install -c conda-forge fake-useragent\n",
    "    - pip install fake-useragent"
   ]
  },
  {
   "cell_type": "code",
   "execution_count": 1,
   "metadata": {},
   "outputs": [],
   "source": [
    "from urllib.request import Request, urlopen\n",
    "from bs4 import BeautifulSoup as bs4\n",
    "from fake_useragent import UserAgent"
   ]
  },
  {
   "cell_type": "code",
   "execution_count": 2,
   "metadata": {},
   "outputs": [
    {
     "data": {
      "text/plain": [
       "'https://www.chicagomag.com/Chicago-Magazine/November-2012/Best-Sandwiches-Chicago/'"
      ]
     },
     "execution_count": 2,
     "metadata": {},
     "output_type": "execute_result"
    }
   ],
   "source": [
    "url_base = \"https://www.chicagomag.com/\"\n",
    "url_sub = \"Chicago-Magazine/November-2012/Best-Sandwiches-Chicago/\"\n",
    "url = url_base + url_sub\n",
    "url "
   ]
  },
  {
   "cell_type": "code",
   "execution_count": 9,
   "metadata": {},
   "outputs": [],
   "source": [
    "# headers = {\"User-Agent\":\"Mozilla/5.0 (Windows NT 10.0; Win64; x64) AppleWebKit/537.36 (KHTML, like Gecko) Chrome/93.0.4577.63 Safari/537.36\"}\n",
    "ua = UserAgent()\n",
    "headers = {\"User-Agent\":ua.ie}\n",
    "req = Request(url, headers=headers)\n",
    "response = urlopen(req)\n",
    "soup = bs4(response, \"html.parser\")"
   ]
  },
  {
   "cell_type": "code",
   "execution_count": 19,
   "metadata": {},
   "outputs": [
    {
     "data": {
      "text/plain": [
       "50"
      ]
     },
     "execution_count": 19,
     "metadata": {},
     "output_type": "execute_result"
    }
   ],
   "source": [
    "div_all = soup.find_all(\"div\", {\"class\":\"sammy\"})\n",
    "len(div_all)"
   ]
  },
  {
   "cell_type": "code",
   "execution_count": 21,
   "metadata": {},
   "outputs": [
    {
     "data": {
      "text/plain": [
       "<div class=\"sammy\" style=\"position: relative;\">\n",
       "<div class=\"sammyRank\">1</div>\n",
       "<div class=\"sammyListing\"><a href=\"/Chicago-Magazine/November-2012/Best-Sandwiches-in-Chicago-Old-Oak-Tap-BLT/\"><b>BLT</b><br/>\n",
       "Old Oak Tap<br/>\n",
       "<em>Read more</em> </a></div>\n",
       "</div>"
      ]
     },
     "execution_count": 21,
     "metadata": {},
     "output_type": "execute_result"
    }
   ],
   "source": [
    "tmp_one = div_all[0]\n",
    "tmp_one"
   ]
  },
  {
   "cell_type": "code",
   "execution_count": 24,
   "metadata": {},
   "outputs": [
    {
     "data": {
      "text/plain": [
       "'1'"
      ]
     },
     "execution_count": 24,
     "metadata": {},
     "output_type": "execute_result"
    }
   ],
   "source": [
    "tmp_one.find(\"div\", {\"class\":\"sammyRank\"}).get_text()"
   ]
  },
  {
   "cell_type": "code",
   "execution_count": 28,
   "metadata": {},
   "outputs": [
    {
     "data": {
      "text/plain": [
       "<div class=\"sammyListing\"><a href=\"/Chicago-Magazine/November-2012/Best-Sandwiches-in-Chicago-Old-Oak-Tap-BLT/\"><b>BLT</b><br/>\n",
       "Old Oak Tap<br/>\n",
       "<em>Read more</em> </a></div>"
      ]
     },
     "execution_count": 28,
     "metadata": {},
     "output_type": "execute_result"
    }
   ],
   "source": [
    "tmp_one.find(\"div\", class_=\"sammyListing\")"
   ]
  },
  {
   "cell_type": "code",
   "execution_count": 33,
   "metadata": {},
   "outputs": [
    {
     "data": {
      "text/plain": [
       "'BLT\\nOld Oak Tap\\nRead more '"
      ]
     },
     "execution_count": 33,
     "metadata": {},
     "output_type": "execute_result"
    }
   ],
   "source": [
    "tmp_one.select_one(\".sammyListing\").text"
   ]
  },
  {
   "cell_type": "code",
   "execution_count": 31,
   "metadata": {},
   "outputs": [
    {
     "data": {
      "text/plain": [
       "'/Chicago-Magazine/November-2012/Best-Sandwiches-in-Chicago-Old-Oak-Tap-BLT/'"
      ]
     },
     "execution_count": 31,
     "metadata": {},
     "output_type": "execute_result"
    }
   ],
   "source": [
    "tmp_one.find(\"div\", class_=\"sammyListing\").find(\"a\").get(\"href\")"
   ]
  },
  {
   "cell_type": "code",
   "execution_count": 34,
   "metadata": {},
   "outputs": [
    {
     "data": {
      "text/plain": [
       "['BLT', 'Old Oak Tap', 'Read more ']"
      ]
     },
     "execution_count": 34,
     "metadata": {},
     "output_type": "execute_result"
    }
   ],
   "source": [
    "import re\n",
    "\n",
    "tmp_string = tmp_one.find(\"div\", class_=\"sammyListing\").text\n",
    "re.split((\"\\n|\\r\\n\"), tmp_string)"
   ]
  },
  {
   "cell_type": "code",
   "execution_count": 35,
   "metadata": {},
   "outputs": [
    {
     "name": "stdout",
     "output_type": "stream",
     "text": [
      "BLT\n",
      "Old Oak Tap\n"
     ]
    }
   ],
   "source": [
    "print(re.split((\"\\n|\\r\\n\"), tmp_string)[0])\n",
    "print(re.split((\"\\n|\\r\\n\"), tmp_string)[1])"
   ]
  },
  {
   "cell_type": "code",
   "execution_count": 43,
   "metadata": {},
   "outputs": [
    {
     "data": {
      "text/plain": [
       "50"
      ]
     },
     "execution_count": 43,
     "metadata": {},
     "output_type": "execute_result"
    }
   ],
   "source": [
    "from urllib.request import Request, urlopen\n",
    "from bs4 import BeautifulSoup as bs4\n",
    "from fake_useragent import UserAgent\n",
    "from urllib.parse import urljoin\n",
    "import re\n",
    "\n",
    "url_base = \"https://www.chicagomag.com/\"\n",
    "\n",
    "# 필요한 내용을 담을 빈 리스트\n",
    "# 리스트로 하나씩 컬럼을 만들고, DataFrame으로 합칠 예정\n",
    "rank = []\n",
    "main_menu = []\n",
    "cafe_name = []\n",
    "url_add = []\n",
    "\n",
    "list_soup = soup.find_all(\"div\", {\"class\":\"sammy\"}) # soup.select(\".sammy\")\n",
    "len(list_soup)"
   ]
  },
  {
   "cell_type": "code",
   "execution_count": 50,
   "metadata": {},
   "outputs": [],
   "source": [
    "for item in list_soup:\n",
    "    # 랭킹\n",
    "    rank.append(item.find(class_=\"sammyRank\").get_text())\n",
    "    tmp_string = item.find(class_=\"sammyListing\").get_text()\n",
    "    tmp_string_split = re.split((\"\\n|\\r\\n\"), tmp_string)\n",
    "    # 메인 메뉴 이름\n",
    "    main_menu.append(tmp_string_split[0])\n",
    "    # 카페 이름\n",
    "    cafe_name.append(tmp_string_split[1])\n",
    "    # URL 정보\n",
    "    url_add.append(urljoin(url_base, item.find(\"a\").get(\"href\")))"
   ]
  },
  {
   "cell_type": "code",
   "execution_count": 51,
   "metadata": {},
   "outputs": [
    {
     "data": {
      "text/plain": [
       "(50, 50, 50, 50)"
      ]
     },
     "execution_count": 51,
     "metadata": {},
     "output_type": "execute_result"
    }
   ],
   "source": [
    "len(rank), len(main_menu), len(cafe_name), len(url_add)"
   ]
  },
  {
   "cell_type": "code",
   "execution_count": 54,
   "metadata": {},
   "outputs": [
    {
     "data": {
      "text/html": [
       "<div>\n",
       "<style scoped>\n",
       "    .dataframe tbody tr th:only-of-type {\n",
       "        vertical-align: middle;\n",
       "    }\n",
       "\n",
       "    .dataframe tbody tr th {\n",
       "        vertical-align: top;\n",
       "    }\n",
       "\n",
       "    .dataframe thead th {\n",
       "        text-align: right;\n",
       "    }\n",
       "</style>\n",
       "<table border=\"1\" class=\"dataframe\">\n",
       "  <thead>\n",
       "    <tr style=\"text-align: right;\">\n",
       "      <th></th>\n",
       "      <th>Rank</th>\n",
       "      <th>Cafe</th>\n",
       "      <th>Menu</th>\n",
       "      <th>URL</th>\n",
       "    </tr>\n",
       "  </thead>\n",
       "  <tbody>\n",
       "    <tr>\n",
       "      <th>0</th>\n",
       "      <td>1</td>\n",
       "      <td>Old Oak Tap</td>\n",
       "      <td>BLT</td>\n",
       "      <td>https://www.chicagomag.com/Chicago-Magazine/No...</td>\n",
       "    </tr>\n",
       "    <tr>\n",
       "      <th>1</th>\n",
       "      <td>2</td>\n",
       "      <td>Au Cheval</td>\n",
       "      <td>Fried Bologna</td>\n",
       "      <td>https://www.chicagomag.com/Chicago-Magazine/No...</td>\n",
       "    </tr>\n",
       "    <tr>\n",
       "      <th>2</th>\n",
       "      <td>3</td>\n",
       "      <td>Xoco</td>\n",
       "      <td>Woodland Mushroom</td>\n",
       "      <td>https://www.chicagomag.com/Chicago-Magazine/No...</td>\n",
       "    </tr>\n",
       "    <tr>\n",
       "      <th>3</th>\n",
       "      <td>4</td>\n",
       "      <td>Al’s Deli</td>\n",
       "      <td>Roast Beef</td>\n",
       "      <td>https://www.chicagomag.com/Chicago-Magazine/No...</td>\n",
       "    </tr>\n",
       "    <tr>\n",
       "      <th>4</th>\n",
       "      <td>5</td>\n",
       "      <td>Publican Quality Meats</td>\n",
       "      <td>PB&amp;L</td>\n",
       "      <td>https://www.chicagomag.com/Chicago-Magazine/No...</td>\n",
       "    </tr>\n",
       "  </tbody>\n",
       "</table>\n",
       "</div>"
      ],
      "text/plain": [
       "  Rank                    Cafe               Menu  \\\n",
       "0    1             Old Oak Tap                BLT   \n",
       "1    2               Au Cheval      Fried Bologna   \n",
       "2    3                    Xoco  Woodland Mushroom   \n",
       "3    4               Al’s Deli         Roast Beef   \n",
       "4    5  Publican Quality Meats               PB&L   \n",
       "\n",
       "                                                 URL  \n",
       "0  https://www.chicagomag.com/Chicago-Magazine/No...  \n",
       "1  https://www.chicagomag.com/Chicago-Magazine/No...  \n",
       "2  https://www.chicagomag.com/Chicago-Magazine/No...  \n",
       "3  https://www.chicagomag.com/Chicago-Magazine/No...  \n",
       "4  https://www.chicagomag.com/Chicago-Magazine/No...  "
      ]
     },
     "execution_count": 54,
     "metadata": {},
     "output_type": "execute_result"
    }
   ],
   "source": [
    "import pandas as pd\n",
    "\n",
    "data = {\n",
    "    \"Rank\":rank,\n",
    "    \"Menu\":main_menu,\n",
    "    \"Cafe\":cafe_name,\n",
    "    \"URL\":url_add\n",
    "}\n",
    "df = pd.DataFrame(data, columns=[\"Rank\", \"Cafe\", \"Menu\", \"URL\"])\n",
    "df.head()"
   ]
  },
  {
   "cell_type": "code",
   "execution_count": 55,
   "metadata": {},
   "outputs": [],
   "source": [
    "# 데이터 저장\n",
    "df.to_csv(\"../data/03. best_sandwiches_list_chicago.csv\", sep=\",\", encoding=\"utf-8\")"
   ]
  },
  {
   "cell_type": "code",
   "execution_count": 63,
   "metadata": {},
   "outputs": [
    {
     "data": {
      "text/html": [
       "<div>\n",
       "<style scoped>\n",
       "    .dataframe tbody tr th:only-of-type {\n",
       "        vertical-align: middle;\n",
       "    }\n",
       "\n",
       "    .dataframe tbody tr th {\n",
       "        vertical-align: top;\n",
       "    }\n",
       "\n",
       "    .dataframe thead th {\n",
       "        text-align: right;\n",
       "    }\n",
       "</style>\n",
       "<table border=\"1\" class=\"dataframe\">\n",
       "  <thead>\n",
       "    <tr style=\"text-align: right;\">\n",
       "      <th></th>\n",
       "      <th>Unnamed: 0</th>\n",
       "      <th>Rank</th>\n",
       "      <th>Cafe</th>\n",
       "      <th>Menu</th>\n",
       "      <th>URL</th>\n",
       "    </tr>\n",
       "  </thead>\n",
       "  <tbody>\n",
       "    <tr>\n",
       "      <th>0</th>\n",
       "      <td>0</td>\n",
       "      <td>1</td>\n",
       "      <td>Old Oak Tap</td>\n",
       "      <td>BLT</td>\n",
       "      <td>https://www.chicagomag.com/Chicago-Magazine/No...</td>\n",
       "    </tr>\n",
       "    <tr>\n",
       "      <th>1</th>\n",
       "      <td>1</td>\n",
       "      <td>2</td>\n",
       "      <td>Au Cheval</td>\n",
       "      <td>Fried Bologna</td>\n",
       "      <td>https://www.chicagomag.com/Chicago-Magazine/No...</td>\n",
       "    </tr>\n",
       "    <tr>\n",
       "      <th>2</th>\n",
       "      <td>2</td>\n",
       "      <td>3</td>\n",
       "      <td>Xoco</td>\n",
       "      <td>Woodland Mushroom</td>\n",
       "      <td>https://www.chicagomag.com/Chicago-Magazine/No...</td>\n",
       "    </tr>\n",
       "    <tr>\n",
       "      <th>3</th>\n",
       "      <td>3</td>\n",
       "      <td>4</td>\n",
       "      <td>Al’s Deli</td>\n",
       "      <td>Roast Beef</td>\n",
       "      <td>https://www.chicagomag.com/Chicago-Magazine/No...</td>\n",
       "    </tr>\n",
       "    <tr>\n",
       "      <th>4</th>\n",
       "      <td>4</td>\n",
       "      <td>5</td>\n",
       "      <td>Publican Quality Meats</td>\n",
       "      <td>PB&amp;L</td>\n",
       "      <td>https://www.chicagomag.com/Chicago-Magazine/No...</td>\n",
       "    </tr>\n",
       "  </tbody>\n",
       "</table>\n",
       "</div>"
      ],
      "text/plain": [
       "   Unnamed: 0  Rank                    Cafe               Menu  \\\n",
       "0           0     1             Old Oak Tap                BLT   \n",
       "1           1     2               Au Cheval      Fried Bologna   \n",
       "2           2     3                    Xoco  Woodland Mushroom   \n",
       "3           3     4               Al’s Deli         Roast Beef   \n",
       "4           4     5  Publican Quality Meats               PB&L   \n",
       "\n",
       "                                                 URL  \n",
       "0  https://www.chicagomag.com/Chicago-Magazine/No...  \n",
       "1  https://www.chicagomag.com/Chicago-Magazine/No...  \n",
       "2  https://www.chicagomag.com/Chicago-Magazine/No...  \n",
       "3  https://www.chicagomag.com/Chicago-Magazine/No...  \n",
       "4  https://www.chicagomag.com/Chicago-Magazine/No...  "
      ]
     },
     "execution_count": 63,
     "metadata": {},
     "output_type": "execute_result"
    }
   ],
   "source": [
    "pd.read_csv(\"../data/03. best_sandwiches_list_chicago.csv\", sep=\",\", encoding=\"utf-8\").head()"
   ]
  },
  {
   "cell_type": "markdown",
   "metadata": {},
   "source": [
    "---"
   ]
  },
  {
   "cell_type": "markdown",
   "metadata": {},
   "source": [
    "## 04. 시카고 맛집 데이터 분석 - 하위 페이지"
   ]
  },
  {
   "cell_type": "code",
   "execution_count": 28,
   "metadata": {},
   "outputs": [],
   "source": [
    "import pandas as pd\n",
    "from urllib.request import urlopen, Request\n",
    "from fake_useragent import UserAgent\n",
    "from bs4 import BeautifulSoup as bs4"
   ]
  },
  {
   "cell_type": "code",
   "execution_count": 29,
   "metadata": {},
   "outputs": [
    {
     "data": {
      "text/html": [
       "<div>\n",
       "<style scoped>\n",
       "    .dataframe tbody tr th:only-of-type {\n",
       "        vertical-align: middle;\n",
       "    }\n",
       "\n",
       "    .dataframe tbody tr th {\n",
       "        vertical-align: top;\n",
       "    }\n",
       "\n",
       "    .dataframe thead th {\n",
       "        text-align: right;\n",
       "    }\n",
       "</style>\n",
       "<table border=\"1\" class=\"dataframe\">\n",
       "  <thead>\n",
       "    <tr style=\"text-align: right;\">\n",
       "      <th></th>\n",
       "      <th>Rank</th>\n",
       "      <th>Cafe</th>\n",
       "      <th>Menu</th>\n",
       "      <th>URL</th>\n",
       "    </tr>\n",
       "  </thead>\n",
       "  <tbody>\n",
       "    <tr>\n",
       "      <th>45</th>\n",
       "      <td>46</td>\n",
       "      <td>Chickpea</td>\n",
       "      <td>Kufta</td>\n",
       "      <td>https://www.chicagomag.com/Chicago-Magazine/No...</td>\n",
       "    </tr>\n",
       "    <tr>\n",
       "      <th>46</th>\n",
       "      <td>47</td>\n",
       "      <td>The Goddess and Grocer</td>\n",
       "      <td>Debbie’s Egg Salad</td>\n",
       "      <td>https://www.chicagomag.com/Chicago-Magazine/No...</td>\n",
       "    </tr>\n",
       "    <tr>\n",
       "      <th>47</th>\n",
       "      <td>48</td>\n",
       "      <td>Zenwich</td>\n",
       "      <td>Beef Curry</td>\n",
       "      <td>https://www.chicagomag.com/Chicago-Magazine/No...</td>\n",
       "    </tr>\n",
       "    <tr>\n",
       "      <th>48</th>\n",
       "      <td>49</td>\n",
       "      <td>Toni Patisserie</td>\n",
       "      <td>Le Végétarien</td>\n",
       "      <td>https://www.chicagomag.com/Chicago-Magazine/No...</td>\n",
       "    </tr>\n",
       "    <tr>\n",
       "      <th>49</th>\n",
       "      <td>50</td>\n",
       "      <td>Phoebe’s Bakery</td>\n",
       "      <td>The Gatsby</td>\n",
       "      <td>https://www.chicagomag.com/Chicago-Magazine/No...</td>\n",
       "    </tr>\n",
       "  </tbody>\n",
       "</table>\n",
       "</div>"
      ],
      "text/plain": [
       "    Rank                    Cafe                Menu  \\\n",
       "45    46                Chickpea               Kufta   \n",
       "46    47  The Goddess and Grocer  Debbie’s Egg Salad   \n",
       "47    48                 Zenwich          Beef Curry   \n",
       "48    49         Toni Patisserie       Le Végétarien   \n",
       "49    50         Phoebe’s Bakery          The Gatsby   \n",
       "\n",
       "                                                  URL  \n",
       "45  https://www.chicagomag.com/Chicago-Magazine/No...  \n",
       "46  https://www.chicagomag.com/Chicago-Magazine/No...  \n",
       "47  https://www.chicagomag.com/Chicago-Magazine/No...  \n",
       "48  https://www.chicagomag.com/Chicago-Magazine/No...  \n",
       "49  https://www.chicagomag.com/Chicago-Magazine/No...  "
      ]
     },
     "execution_count": 29,
     "metadata": {},
     "output_type": "execute_result"
    }
   ],
   "source": [
    "df = pd.read_csv(\"../data/03. best_sandwiches_list_chicago.csv\", sep=\",\", encoding=\"utf-8\", index_col=0)\n",
    "df.tail()"
   ]
  },
  {
   "cell_type": "code",
   "execution_count": 30,
   "metadata": {},
   "outputs": [
    {
     "data": {
      "text/plain": [
       "'https://www.chicagomag.com/Chicago-Magazine/November-2012/Best-Sandwiches-in-Chicago-Old-Oak-Tap-BLT/'"
      ]
     },
     "execution_count": 30,
     "metadata": {},
     "output_type": "execute_result"
    }
   ],
   "source": [
    "df[\"URL\"][0]"
   ]
  },
  {
   "cell_type": "code",
   "execution_count": 31,
   "metadata": {},
   "outputs": [],
   "source": [
    "ua = UserAgent()\n",
    "headers = {\"user-agent\":ua.ie}\n",
    "req = Request(df[\"URL\"][0], headers=headers)\n",
    "html = urlopen(req).read()\n",
    "soup = bs4(html, \"html.parser\")"
   ]
  },
  {
   "cell_type": "code",
   "execution_count": 32,
   "metadata": {},
   "outputs": [
    {
     "data": {
      "text/plain": [
       "<p class=\"addy\">\n",
       "<em>$10. 2109 W. Chicago Ave., 773-772-0406, <a href=\"http://www.theoldoaktap.com/\">theoldoaktap.com</a></em></p>"
      ]
     },
     "execution_count": 32,
     "metadata": {},
     "output_type": "execute_result"
    }
   ],
   "source": [
    "tmp_data = soup.find(\"p\", {\"class\":\"addy\"})\n",
    "tmp_data"
   ]
  },
  {
   "cell_type": "markdown",
   "metadata": {},
   "source": [
    "### reqular expression\n",
    "- import re\n",
    "- re.search\n",
    "- re.split\n",
    "- .x : 임의의 한 문자를 표현(x가 마지막으로 끝납니다.)\n",
    "- x+ : x가 1번 이상 반복합니다.\n",
    "- x? : x가 존재하거나 존재하지 않을 수 있습니다.\n",
    "- x* : x가 0번 이상 반복합니다.\n",
    "- x|y : x또는 y를 찾습니다.(or연산자 의미) "
   ]
  },
  {
   "cell_type": "code",
   "execution_count": 33,
   "metadata": {},
   "outputs": [],
   "source": [
    "import re"
   ]
  },
  {
   "cell_type": "code",
   "execution_count": 34,
   "metadata": {},
   "outputs": [
    {
     "data": {
      "text/plain": [
       "'\\n$10. 2109 W. Chicago Ave., 773-772-0406, theoldoaktap.com'"
      ]
     },
     "execution_count": 34,
     "metadata": {},
     "output_type": "execute_result"
    }
   ],
   "source": [
    "price_tmp = tmp_data.text\n",
    "price_tmp"
   ]
  },
  {
   "cell_type": "code",
   "execution_count": 35,
   "metadata": {},
   "outputs": [
    {
     "data": {
      "text/plain": [
       "['\\n$10. 2109 W. Chicago Ave', ' 773-772-040', ' theoldoaktap.com']"
      ]
     },
     "execution_count": 35,
     "metadata": {},
     "output_type": "execute_result"
    }
   ],
   "source": [
    "price_tmp = re.split((\".,\"), price_tmp)\n",
    "price_tmp"
   ]
  },
  {
   "cell_type": "code",
   "execution_count": 36,
   "metadata": {},
   "outputs": [
    {
     "data": {
      "text/plain": [
       "'\\n$10. 2109 W. Chicago Ave'"
      ]
     },
     "execution_count": 36,
     "metadata": {},
     "output_type": "execute_result"
    }
   ],
   "source": [
    "price_tmp = price_tmp[0]\n",
    "price_tmp"
   ]
  },
  {
   "cell_type": "code",
   "execution_count": 37,
   "metadata": {},
   "outputs": [
    {
     "data": {
      "text/plain": [
       "'$10.'"
      ]
     },
     "execution_count": 37,
     "metadata": {},
     "output_type": "execute_result"
    }
   ],
   "source": [
    "tmp = re.search(\"\\$\\d+\\.(\\d+)?\", price_tmp).group()\n",
    "tmp"
   ]
  },
  {
   "cell_type": "code",
   "execution_count": 38,
   "metadata": {},
   "outputs": [
    {
     "data": {
      "text/plain": [
       "'2109 W. Chicago Ave'"
      ]
     },
     "execution_count": 38,
     "metadata": {},
     "output_type": "execute_result"
    }
   ],
   "source": [
    "address = price_tmp[len(tmp) + 2:]\n",
    "address "
   ]
  },
  {
   "cell_type": "markdown",
   "metadata": {},
   "source": [
    "- DataFrame의 index로 반복문 사용하기"
   ]
  },
  {
   "cell_type": "code",
   "execution_count": 39,
   "metadata": {},
   "outputs": [
    {
     "name": "stdout",
     "output_type": "stream",
     "text": [
      "$10. | 2109 W. Chicago Ave\n",
      "$9. | 800 W. Randolph St\n",
      "$9.50 |  445 N. Clark St\n"
     ]
    }
   ],
   "source": [
    "price = []\n",
    "address = []\n",
    "\n",
    "for n in df.index[:3]:\n",
    "    req = Request(df[\"URL\"][n], headers={\"user-agent\":ua.ie})\n",
    "    html = urlopen(req).read()\n",
    "    soup = bs4(html, \"html.parser\")\n",
    "    \n",
    "    gettings = soup.find(\"p\", \"addy\").get_text()\n",
    "    \n",
    "    tmp = re.split(\".,\", gettings)[0]\n",
    "    price = re.search(\"\\$\\d+\\.(\\d+)?\", tmp).group()\n",
    "    address = tmp[len(price) + 2:]\n",
    "#     print(gettings, price, address, sep=' | ')\n",
    "    print(price, address, sep=\" | \")\n",
    "    "
   ]
  },
  {
   "cell_type": "code",
   "execution_count": 41,
   "metadata": {},
   "outputs": [
    {
     "name": "stderr",
     "output_type": "stream",
     "text": [
      "1it [00:01,  1.90s/it]"
     ]
    },
    {
     "name": "stdout",
     "output_type": "stream",
     "text": [
      "0 | 1 | Old Oak Tap | BLT | https://www.chicagomag.com/Chicago-Magazine/November-2012/Best-Sandwiches-in-Chicago-Old-Oak-Tap-BLT/\n",
      "$10. | 2109 W. Chicago Ave\n",
      "==================================================\n"
     ]
    },
    {
     "name": "stderr",
     "output_type": "stream",
     "text": [
      "\r",
      "2it [00:03,  1.49s/it]"
     ]
    },
    {
     "name": "stdout",
     "output_type": "stream",
     "text": [
      "1 | 2 | Au Cheval | Fried Bologna | https://www.chicagomag.com/Chicago-Magazine/November-2012/Best-Sandwiches-in-Chicago-Au-Cheval-Fried-Bologna/\n",
      "$9. | 800 W. Randolph St\n",
      "==================================================\n"
     ]
    },
    {
     "name": "stderr",
     "output_type": "stream",
     "text": [
      "\r",
      "3it [00:04,  1.33s/it]"
     ]
    },
    {
     "name": "stdout",
     "output_type": "stream",
     "text": [
      "2 | 3 | Xoco | Woodland Mushroom | https://www.chicagomag.com/Chicago-Magazine/November-2012/Best-Sandwiches-in-Chicago-Xoco-Woodland-Mushroom/\n",
      "$9.50 |  445 N. Clark St\n",
      "==================================================\n"
     ]
    },
    {
     "name": "stderr",
     "output_type": "stream",
     "text": [
      "\r",
      "4it [00:05,  1.27s/it]"
     ]
    },
    {
     "name": "stdout",
     "output_type": "stream",
     "text": [
      "3 | 4 | Al’s Deli | Roast Beef | https://www.chicagomag.com/Chicago-Magazine/November-2012/Best-Sandwiches-in-Chicago-Als-Deli-Roast-Beef/\n",
      "$9.40 |  914 Noyes St\n",
      "==================================================\n"
     ]
    },
    {
     "name": "stderr",
     "output_type": "stream",
     "text": [
      "\r",
      "5it [00:06,  1.22s/it]"
     ]
    },
    {
     "name": "stdout",
     "output_type": "stream",
     "text": [
      "4 | 5 | Publican Quality Meats | PB&L | https://www.chicagomag.com/Chicago-Magazine/November-2012/Best-Sandwiches-in-Chicago-Publican-Quality-Meats-PB-L/\n",
      "$10. | 825 W. Fulton Mkt\n",
      "==================================================\n"
     ]
    },
    {
     "name": "stderr",
     "output_type": "stream",
     "text": [
      "\r",
      "6it [00:07,  1.22s/it]"
     ]
    },
    {
     "name": "stdout",
     "output_type": "stream",
     "text": [
      "5 | 6 | Hendrickx Belgian Bread Crafter | Belgian Chicken Curry Salad | https://www.chicagomag.com/Chicago-Magazine/November-2012/Best-Sandwiches-in-Chicago-Hendrickx-Belgian-Bread-Crafter-Belgian-Chicken-Curry-Salad/\n",
      "$7.25 |  100 E. Walton St\n",
      "==================================================\n"
     ]
    },
    {
     "name": "stderr",
     "output_type": "stream",
     "text": [
      "\r",
      "7it [00:08,  1.20s/it]"
     ]
    },
    {
     "name": "stdout",
     "output_type": "stream",
     "text": [
      "6 | 7 | Acadia | Lobster Roll | https://www.chicagomag.com/Chicago-Magazine/November-2012/Best-Sandwiches-in-Chicago-Acadia-Lobster-Roll/\n",
      "$16. | 1639 S. Wabash Ave\n",
      "==================================================\n"
     ]
    },
    {
     "name": "stderr",
     "output_type": "stream",
     "text": [
      "\r",
      "8it [00:09,  1.16s/it]"
     ]
    },
    {
     "name": "stdout",
     "output_type": "stream",
     "text": [
      "7 | 8 | Birchwood Kitchen | Smoked Salmon Salad | https://www.chicagomag.com/Chicago-Magazine/November-2012/Best-Sandwiches-in-Chicago-Birchwood-Kitchen-Smoked-Salmon-Salad/\n",
      "$10. | 2211 W. North Ave\n",
      "==================================================\n"
     ]
    },
    {
     "name": "stderr",
     "output_type": "stream",
     "text": [
      "\r",
      "9it [00:11,  1.16s/it]"
     ]
    },
    {
     "name": "stdout",
     "output_type": "stream",
     "text": [
      "8 | 9 | Cemitas Puebla | Atomica Cemitas | https://www.chicagomag.com/Chicago-Magazine/November-2012/Best-Sandwiches-in-Chicago-Cemitas-Puebla-Atomica-Cemitas/\n",
      "$9. | 3619 W. North Ave\n",
      "==================================================\n"
     ]
    },
    {
     "name": "stderr",
     "output_type": "stream",
     "text": [
      "\r",
      "10it [00:12,  1.15s/it]"
     ]
    },
    {
     "name": "stdout",
     "output_type": "stream",
     "text": [
      "9 | 10 | Nana | Grilled Laughing Bird Shrimp and Fried Po’ Boy | https://www.chicagomag.com/Chicago-Magazine/November-2012/Best-Sandwiches-in-Chicago-Nana-Grilled-Laughing-Bird-Shrimp-and-Fried-Oyster-Po-Boy/\n",
      "$17. | 3267 S. Halsted St\n",
      "==================================================\n"
     ]
    },
    {
     "name": "stderr",
     "output_type": "stream",
     "text": [
      "\r",
      "11it [00:13,  1.15s/it]"
     ]
    },
    {
     "name": "stdout",
     "output_type": "stream",
     "text": [
      "10 | 11 | Lula Cafe | Ham and Raclette Panino | https://www.chicagomag.com/Chicago-Magazine/November-2012/Best-Sandwiches-in-Chicago-Lula-Cafe-Ham-and-Raclette-Panino/\n",
      "$11. | 2537 N. Kedzie Blvd\n",
      "==================================================\n"
     ]
    },
    {
     "name": "stderr",
     "output_type": "stream",
     "text": [
      "\r",
      "12it [00:14,  1.16s/it]"
     ]
    },
    {
     "name": "stdout",
     "output_type": "stream",
     "text": [
      "11 | 12 | Ricobene’s | Breaded Steak | https://www.chicagomag.com/Chicago-Magazine/November-2012/Best-Sandwiches-in-Chicago-Ricobenes-Breaded-Steak/\n",
      "$5.49 |  Multiple location\n",
      "==================================================\n"
     ]
    },
    {
     "name": "stderr",
     "output_type": "stream",
     "text": [
      "\r",
      "13it [00:15,  1.15s/it]"
     ]
    },
    {
     "name": "stdout",
     "output_type": "stream",
     "text": [
      "12 | 13 | Frog n Snail | The Hawkeye | https://www.chicagomag.com/Chicago-Magazine/November-2012/Best-Sandwiches-in-Chicago-Frog-n-Snail-The-Hawkeye/\n",
      "$14. | 3124 N. Broadwa\n",
      "==================================================\n"
     ]
    },
    {
     "name": "stderr",
     "output_type": "stream",
     "text": [
      "\r",
      "14it [00:17,  1.27s/it]"
     ]
    },
    {
     "name": "stdout",
     "output_type": "stream",
     "text": [
      "13 | 14 | Crosby’s Kitchen | Chicken Dip | https://www.chicagomag.com/Chicago-Magazine/November-2012/Best-Sandwiches-in-Chicago-Crosbys-Kitchen-Chicken-Dip/\n",
      "$10. | 3455 N. Southport Ave\n",
      "==================================================\n"
     ]
    },
    {
     "name": "stderr",
     "output_type": "stream",
     "text": [
      "\r",
      "15it [00:18,  1.22s/it]"
     ]
    },
    {
     "name": "stdout",
     "output_type": "stream",
     "text": [
      "14 | 15 | Longman & Eagle | Wild Boar Sloppy Joe | https://www.chicagomag.com/Chicago-Magazine/November-2012/Best-Sandwiches-in-Chicago-Longman-and-Eagle-Wild-Boar-Sloppy-Joe/\n",
      "$13. | 2657 N. Kedzie Ave\n",
      "==================================================\n"
     ]
    },
    {
     "name": "stderr",
     "output_type": "stream",
     "text": [
      "\r",
      "16it [00:19,  1.20s/it]"
     ]
    },
    {
     "name": "stdout",
     "output_type": "stream",
     "text": [
      "15 | 16 | Bari | Meatball Sub | https://www.chicagomag.com/Chicago-Magazine/November-2012/Best-Sandwiches-in-Chicago-Bari-Meatball-Sub/\n",
      "$4.50 |  1120 W. Grand Ave\n",
      "==================================================\n"
     ]
    },
    {
     "name": "stderr",
     "output_type": "stream",
     "text": [
      "\r",
      "17it [00:20,  1.19s/it]"
     ]
    },
    {
     "name": "stdout",
     "output_type": "stream",
     "text": [
      "16 | 17 | Manny’s | Corned Beef | https://www.chicagomag.com/Chicago-Magazine/November-2012/Best-Sandwiches-in-Chicago-Mannys-Corned-Beef/\n",
      "$11.95 |  1141 S. Jefferson St\n",
      "==================================================\n"
     ]
    },
    {
     "name": "stderr",
     "output_type": "stream",
     "text": [
      "\r",
      "18it [00:21,  1.19s/it]"
     ]
    },
    {
     "name": "stdout",
     "output_type": "stream",
     "text": [
      "17 | 18 | Eggy’s | Turkey Club | https://www.chicagomag.com/Chicago-Magazine/November-2012/Best-Sandwiches-in-Chicago-Eggys-Turkey-Club/\n",
      "$11.50 |  333 E. Benton Pl\n",
      "==================================================\n"
     ]
    },
    {
     "name": "stderr",
     "output_type": "stream",
     "text": [
      "\r",
      "19it [00:22,  1.16s/it]"
     ]
    },
    {
     "name": "stdout",
     "output_type": "stream",
     "text": [
      "18 | 19 | Old Jerusalem | Falafel | https://www.chicagomag.com/Chicago-Magazine/November-2012/Best-Sandwiches-in-Chicago-Old-Jerusalem-Falafel/\n",
      "$6.25 |  1411 N. Wells St\n",
      "==================================================\n"
     ]
    },
    {
     "name": "stderr",
     "output_type": "stream",
     "text": [
      "\r",
      "20it [00:24,  1.15s/it]"
     ]
    },
    {
     "name": "stdout",
     "output_type": "stream",
     "text": [
      "19 | 20 | Mindy’s HotChocolate | Crab Cake | https://www.chicagomag.com/Chicago-Magazine/November-2012/Best-Sandwiches-in-Chicago-Mindys-HotChocolate-Crab-Cake/\n",
      "$15. | 1747 N. Damen Ave\n",
      "==================================================\n"
     ]
    },
    {
     "name": "stderr",
     "output_type": "stream",
     "text": [
      "\r",
      "21it [00:25,  1.15s/it]"
     ]
    },
    {
     "name": "stdout",
     "output_type": "stream",
     "text": [
      "20 | 21 | Olga’s Delicatessen | Chicken Schnitzel | https://www.chicagomag.com/Chicago-Magazine/November-2012/Best-Sandwiches-in-Chicago-Olgas-Delicatessen-Chicken-Schnitzel/\n",
      "$5. | 3209 W. Irving Park Rd\n",
      "==================================================\n"
     ]
    },
    {
     "name": "stderr",
     "output_type": "stream",
     "text": [
      "\r",
      "22it [00:26,  1.31s/it]"
     ]
    },
    {
     "name": "stdout",
     "output_type": "stream",
     "text": [
      "21 | 22 | Dawali Mediterranean Kitchen | Shawarma | https://www.chicagomag.com/Chicago-Magazine/November-2012/Best-Sandwiches-in-Chicago-Dawali-Mediterranean-Kitchen-Shawarma/\n",
      "$6. | Multiple location\n",
      "==================================================\n"
     ]
    },
    {
     "name": "stderr",
     "output_type": "stream",
     "text": [
      "\r",
      "23it [00:28,  1.47s/it]"
     ]
    },
    {
     "name": "stdout",
     "output_type": "stream",
     "text": [
      "22 | 23 | Big Jones | Toasted Pimiento Cheese | https://www.chicagomag.com/Chicago-Magazine/November-2012/Best-Sandwiches-in-Chicago-Big-Jones-Toasted-Pimiento-Cheese/\n",
      "$8. | 5347 N. Clark St\n",
      "==================================================\n"
     ]
    },
    {
     "name": "stderr",
     "output_type": "stream",
     "text": [
      "\r",
      "24it [00:29,  1.36s/it]"
     ]
    },
    {
     "name": "stdout",
     "output_type": "stream",
     "text": [
      "23 | 24 | La Pane | Vegetarian Panino | https://www.chicagomag.com/Chicago-Magazine/November-2012/Best-Sandwiches-in-Chicago-La-Pane-Vegetarian-Panino/\n",
      "$5.99 |  2954 W. Irving Park Rd\n",
      "==================================================\n"
     ]
    },
    {
     "name": "stderr",
     "output_type": "stream",
     "text": [
      "\r",
      "25it [00:31,  1.29s/it]"
     ]
    },
    {
     "name": "stdout",
     "output_type": "stream",
     "text": [
      "24 | 25 | Pastoral | Cali Chèvre | https://www.chicagomag.com/Chicago-Magazine/November-2012/Best-Sandwiches-in-Chicago-Pastoral-Cali-Chevre/\n",
      "$7.52 |  Multiple location\n",
      "==================================================\n"
     ]
    },
    {
     "name": "stderr",
     "output_type": "stream",
     "text": [
      "\r",
      "26it [00:32,  1.40s/it]"
     ]
    },
    {
     "name": "stdout",
     "output_type": "stream",
     "text": [
      "25 | 26 | Max’s Deli | Pastrami | https://www.chicagomag.com/Chicago-Magazine/November-2012/Best-Sandwiches-in-Chicago-Maxs-Deli-Pastrami/\n",
      "$11.95 |  191 Skokie Valley Rd\n",
      "==================================================\n"
     ]
    },
    {
     "name": "stderr",
     "output_type": "stream",
     "text": [
      "\r",
      "27it [00:33,  1.31s/it]"
     ]
    },
    {
     "name": "stdout",
     "output_type": "stream",
     "text": [
      "26 | 27 | Lucky’s Sandwich Co. | The Fredo | https://www.chicagomag.com/Chicago-Magazine/November-2012/Best-Sandwiches-in-Chicago-Luckys-Sandwich-Co-The-Fredo/\n",
      "$7.50 |  Multiple location\n",
      "==================================================\n"
     ]
    },
    {
     "name": "stderr",
     "output_type": "stream",
     "text": [
      "\r",
      "28it [00:35,  1.43s/it]"
     ]
    },
    {
     "name": "stdout",
     "output_type": "stream",
     "text": [
      "27 | 28 | City Provisions | Smoked Ham | https://www.chicagomag.com/Chicago-Magazine/November-2012/Best-Sandwiches-in-Chicago-City-Provisions-Smoked-Ham/\n",
      "$12.95 |  1818 W. Wilson Ave\n",
      "==================================================\n"
     ]
    },
    {
     "name": "stderr",
     "output_type": "stream",
     "text": [
      "\r",
      "29it [00:36,  1.37s/it]"
     ]
    },
    {
     "name": "stdout",
     "output_type": "stream",
     "text": [
      "28 | 29 | Papa’s Cache Sabroso | Jibarito | https://www.chicagomag.com/Chicago-Magazine/November-2012/Best-Sandwiches-in-Chicago-Papas-Cache-Sabroso-Jibarito/\n",
      "$7. | 2517 W. Division St\n",
      "==================================================\n"
     ]
    },
    {
     "name": "stderr",
     "output_type": "stream",
     "text": [
      "\r",
      "30it [00:37,  1.33s/it]"
     ]
    },
    {
     "name": "stdout",
     "output_type": "stream",
     "text": [
      "29 | 30 | Bavette’s Bar & Boeuf | Shaved Prime Rib | https://www.chicagomag.com/Chicago-Magazine/November-2012/Best-Sandwiches-in-Chicago-Bavettes-Bar-and-Boeuf-Shaved-Prime-Rib/\n",
      "$21. | 218 W. Kinzie St\n",
      "==================================================\n"
     ]
    },
    {
     "name": "stderr",
     "output_type": "stream",
     "text": [
      "\r",
      "31it [00:39,  1.37s/it]"
     ]
    },
    {
     "name": "stdout",
     "output_type": "stream",
     "text": [
      "30 | 31 | Hannah’s Bretzel | Serrano Ham and Manchego Cheese | https://www.chicagomag.com/Chicago-Magazine/November-2012/Best-Sandwiches-in-Chicago-Hannahs-Bretzel-Serrano-Ham-and-Manchego-Cheese/\n",
      "$9.79 |  Multiple location\n",
      "==================================================\n"
     ]
    },
    {
     "name": "stderr",
     "output_type": "stream",
     "text": [
      "\r",
      "32it [00:40,  1.33s/it]"
     ]
    },
    {
     "name": "stdout",
     "output_type": "stream",
     "text": [
      "31 | 32 | La Fournette | Tuna Salad | https://www.chicagomag.com/Chicago-Magazine/November-2012/Best-Sandwiches-in-Chicago-La-Fournette-Tuna-Salad/\n",
      "$9.75 |  1547 N. Wells St\n",
      "==================================================\n"
     ]
    },
    {
     "name": "stderr",
     "output_type": "stream",
     "text": [
      "\r",
      "33it [00:41,  1.28s/it]"
     ]
    },
    {
     "name": "stdout",
     "output_type": "stream",
     "text": [
      "32 | 33 | Paramount Room | Paramount Reuben | https://www.chicagomag.com/Chicago-Magazine/November-2012/Best-Sandwiches-in-Chicago-Paramount-Room-Paramount-Reuben/\n",
      "$13. | 415 N. Milwaukee Ave\n",
      "==================================================\n"
     ]
    },
    {
     "name": "stderr",
     "output_type": "stream",
     "text": [
      "\r",
      "34it [00:43,  1.36s/it]"
     ]
    },
    {
     "name": "stdout",
     "output_type": "stream",
     "text": [
      "33 | 34 | Melt Sandwich Shoppe | The Istanbul | https://www.chicagomag.com/Chicago-Magazine/November-2012/Best-Sandwiches-in-Chicago-Melt-Sandwich-Shoppe-The-Istanbul/\n",
      "$7.95 |  1840 N. Damen Ave\n",
      "==================================================\n"
     ]
    },
    {
     "name": "stderr",
     "output_type": "stream",
     "text": [
      "\r",
      "35it [00:44,  1.35s/it]"
     ]
    },
    {
     "name": "stdout",
     "output_type": "stream",
     "text": [
      "34 | 35 | Floriole Cafe & Bakery | B.A.D. | https://www.chicagomag.com/Chicago-Magazine/November-2012/Best-Sandwiches-in-Chicago-Floriole-Cafe-and-Bakery-BAD/\n",
      "$9. | 1220 W. Webster Ave\n",
      "==================================================\n"
     ]
    },
    {
     "name": "stderr",
     "output_type": "stream",
     "text": [
      "\r",
      "36it [00:45,  1.27s/it]"
     ]
    },
    {
     "name": "stdout",
     "output_type": "stream",
     "text": [
      "35 | 36 | First Slice Pie Café | Duck Confit and Mozzarella | https://www.chicagomag.com/Chicago-Magazine/November-2012/Best-Sandwiches-in-Chicago-First-Slice-Pie-Cafe-Duck-Confit-and-Mozzarella/\n",
      "$9. | 5357 N. Ashland Ave\n",
      "==================================================\n"
     ]
    },
    {
     "name": "stderr",
     "output_type": "stream",
     "text": [
      "\r",
      "37it [00:46,  1.22s/it]"
     ]
    },
    {
     "name": "stdout",
     "output_type": "stream",
     "text": [
      "36 | 37 | Troquet | Croque Monsieur | https://www.chicagomag.com/Chicago-Magazine/November-2012/Best-Sandwiches-in-Chicago-Troquet-Croque-Monsieur/\n",
      "$8. | 1834 W. Montrose Ave\n",
      "==================================================\n"
     ]
    },
    {
     "name": "stderr",
     "output_type": "stream",
     "text": [
      "\r",
      "38it [00:48,  1.20s/it]"
     ]
    },
    {
     "name": "stdout",
     "output_type": "stream",
     "text": [
      "37 | 38 | Grahamwich | Green Garbanzo | https://www.chicagomag.com/Chicago-Magazine/November-2012/Best-Sandwiches-in-Chicago-Grahamwich-Green-Garbanzo/\n",
      "$8. | 615 N. State St\n",
      "==================================================\n"
     ]
    },
    {
     "name": "stderr",
     "output_type": "stream",
     "text": [
      "\r",
      "39it [00:49,  1.18s/it]"
     ]
    },
    {
     "name": "stdout",
     "output_type": "stream",
     "text": [
      "38 | 39 | Saigon Sisters | The Hen House | https://www.chicagomag.com/Chicago-Magazine/November-2012/Best-Sandwiches-in-Chicago-Saigon-Sisters-The-Hen-House/\n",
      "$7. | Multiple location\n",
      "==================================================\n"
     ]
    },
    {
     "name": "stderr",
     "output_type": "stream",
     "text": [
      "\r",
      "40it [00:50,  1.18s/it]"
     ]
    },
    {
     "name": "stdout",
     "output_type": "stream",
     "text": [
      "39 | 40 | Rosalia’s Deli | Tuscan Chicken | https://www.chicagomag.com/Chicago-Magazine/November-2012/Best-Sandwiches-in-Chicago-Rosalias-Deli-Tuscan-Chicken/\n",
      "$6. | 241 N. York Rd\n",
      "==================================================\n"
     ]
    },
    {
     "name": "stderr",
     "output_type": "stream",
     "text": [
      "\r",
      "41it [00:51,  1.16s/it]"
     ]
    },
    {
     "name": "stdout",
     "output_type": "stream",
     "text": [
      "40 | 41 | Z&H MarketCafe | The Marty  | https://www.chicagomag.com/Chicago-Magazine/November-2012/Best-Sandwiches-in-Chicago-Z-and-H-MarketCafe-The-Marty/\n",
      "$7.25 |  1323 E. 57th St\n",
      "==================================================\n"
     ]
    },
    {
     "name": "stderr",
     "output_type": "stream",
     "text": [
      "\r",
      "42it [00:52,  1.14s/it]"
     ]
    },
    {
     "name": "stdout",
     "output_type": "stream",
     "text": [
      "41 | 42 | Market House on the Square | Whitefish | https://www.chicagomag.com/Chicago-Magazine/November-2012/Best-Sandwiches-in-Chicago-Market-House-on-the-Square-Whitefish/\n",
      "$11. | 655 Forest Ave\n",
      "==================================================\n"
     ]
    },
    {
     "name": "stderr",
     "output_type": "stream",
     "text": [
      "\r",
      "43it [00:53,  1.13s/it]"
     ]
    },
    {
     "name": "stdout",
     "output_type": "stream",
     "text": [
      "42 | 43 | Elaine’s Coffee Call | Oat Bread, Pecan Butter, and Fruit Jam | https://www.chicagomag.com/Chicago-Magazine/November-2012/Best-Sandwiches-in-Chicago-Elaines-Coffee-Call-Oat-Bread-Pecan-Butter-and-Fruit-Jam/\n",
      "$6. | Hotel Lincol\n",
      "==================================================\n"
     ]
    },
    {
     "name": "stderr",
     "output_type": "stream",
     "text": [
      "\r",
      "44it [00:55,  1.26s/it]"
     ]
    },
    {
     "name": "stdout",
     "output_type": "stream",
     "text": [
      "43 | 44 | Marion Street Cheese Market | Cauliflower Melt | https://www.chicagomag.com/Chicago-Magazine/November-2012/Best-Sandwiches-in-Chicago-Marion-Street-Cheese-Market-Cauliflower-Melt/\n",
      "$9. | 100 S. Marion St\n",
      "==================================================\n"
     ]
    },
    {
     "name": "stderr",
     "output_type": "stream",
     "text": [
      "\r",
      "45it [00:56,  1.32s/it]"
     ]
    },
    {
     "name": "stdout",
     "output_type": "stream",
     "text": [
      "44 | 45 | Cafecito | Cubana | https://www.chicagomag.com/Chicago-Magazine/November-2012/Best-Sandwiches-in-Chicago-Cafecito-Cubano/\n",
      "$5.49 |  26 E. Congress Pkwy\n",
      "==================================================\n"
     ]
    },
    {
     "name": "stderr",
     "output_type": "stream",
     "text": [
      "\r",
      "46it [00:57,  1.27s/it]"
     ]
    },
    {
     "name": "stdout",
     "output_type": "stream",
     "text": [
      "45 | 46 | Chickpea | Kufta | https://www.chicagomag.com/Chicago-Magazine/November-2012/Best-Sandwiches-in-Chicago-Chickpea-Kufta/\n",
      "$8. | 2018 W. Chicago Ave\n",
      "==================================================\n"
     ]
    },
    {
     "name": "stderr",
     "output_type": "stream",
     "text": [
      "\r",
      "47it [00:58,  1.23s/it]"
     ]
    },
    {
     "name": "stdout",
     "output_type": "stream",
     "text": [
      "46 | 47 | The Goddess and Grocer | Debbie’s Egg Salad | https://www.chicagomag.com/Chicago-Magazine/November-2012/Best-Sandwiches-in-Chicago-The-Goddess-and-Grocer-Debbies-Egg-Salad/\n",
      "$6.50 |  25 E. Delaware Pl\n",
      "==================================================\n"
     ]
    },
    {
     "name": "stderr",
     "output_type": "stream",
     "text": [
      "\r",
      "48it [01:00,  1.22s/it]"
     ]
    },
    {
     "name": "stdout",
     "output_type": "stream",
     "text": [
      "47 | 48 | Zenwich | Beef Curry | https://www.chicagomag.com/Chicago-Magazine/November-2012/Best-Sandwiches-in-Chicago-Zenwich-Beef-Curry/\n",
      "$7.50 |  416 N. York St\n",
      "==================================================\n"
     ]
    },
    {
     "name": "stderr",
     "output_type": "stream",
     "text": [
      "\r",
      "49it [01:01,  1.22s/it]"
     ]
    },
    {
     "name": "stdout",
     "output_type": "stream",
     "text": [
      "48 | 49 | Toni Patisserie | Le Végétarien | https://www.chicagomag.com/Chicago-Magazine/November-2012/Best-Sandwiches-in-Chicago-Toni-Patisserie-Le-Vegetarien/\n",
      "$8.75 |  65 E. Washington St\n",
      "==================================================\n"
     ]
    },
    {
     "name": "stderr",
     "output_type": "stream",
     "text": [
      "50it [01:02,  1.25s/it]"
     ]
    },
    {
     "name": "stdout",
     "output_type": "stream",
     "text": [
      "49 | 50 | Phoebe’s Bakery | The Gatsby | https://www.chicagomag.com/Chicago-Magazine/November-2012/Best-Sandwiches-in-Chicago-Phoebes-Bakery-The-Gatsby/\n",
      "$6.85 |  3351 N. Broadwa\n",
      "==================================================\n"
     ]
    },
    {
     "name": "stderr",
     "output_type": "stream",
     "text": [
      "\n"
     ]
    }
   ],
   "source": [
    "from tqdm import tqdm\n",
    "\n",
    "prices = []\n",
    "addresses = []\n",
    "\n",
    "for idx, rows in tqdm(df.iterrows()):\n",
    "    req = Request(rows[\"URL\"], headers={\"user-agent\":ua.ie})\n",
    "    html = urlopen(req).read()\n",
    "    soup = bs4(html, \"html.parser\")\n",
    "    \n",
    "    gettings = soup.find(\"p\", class_=\"addy\").get_text()\n",
    "    tmp = re.split(\".,\", gettings)[0]\n",
    "    price = re.search(\"\\$\\d+\\.(\\d+)?\", tmp).group()\n",
    "    address = tmp[len(price) + 2:]\n",
    "    \n",
    "    prices.append(price)\n",
    "    addresses.append(address)\n",
    "    \n",
    "    print(idx, rows[\"Rank\"], rows[\"Cafe\"], rows[\"Menu\"], rows[\"URL\"], sep=\" | \")\n",
    "    print(price, address, sep=\" | \")\n",
    "    print(\"=\"*50)"
   ]
  },
  {
   "cell_type": "code",
   "execution_count": 42,
   "metadata": {},
   "outputs": [
    {
     "data": {
      "text/html": [
       "<div>\n",
       "<style scoped>\n",
       "    .dataframe tbody tr th:only-of-type {\n",
       "        vertical-align: middle;\n",
       "    }\n",
       "\n",
       "    .dataframe tbody tr th {\n",
       "        vertical-align: top;\n",
       "    }\n",
       "\n",
       "    .dataframe thead th {\n",
       "        text-align: right;\n",
       "    }\n",
       "</style>\n",
       "<table border=\"1\" class=\"dataframe\">\n",
       "  <thead>\n",
       "    <tr style=\"text-align: right;\">\n",
       "      <th></th>\n",
       "      <th>Rank</th>\n",
       "      <th>Cafe</th>\n",
       "      <th>Menu</th>\n",
       "      <th>URL</th>\n",
       "    </tr>\n",
       "  </thead>\n",
       "  <tbody>\n",
       "    <tr>\n",
       "      <th>0</th>\n",
       "      <td>1</td>\n",
       "      <td>Old Oak Tap</td>\n",
       "      <td>BLT</td>\n",
       "      <td>https://www.chicagomag.com/Chicago-Magazine/No...</td>\n",
       "    </tr>\n",
       "    <tr>\n",
       "      <th>1</th>\n",
       "      <td>2</td>\n",
       "      <td>Au Cheval</td>\n",
       "      <td>Fried Bologna</td>\n",
       "      <td>https://www.chicagomag.com/Chicago-Magazine/No...</td>\n",
       "    </tr>\n",
       "    <tr>\n",
       "      <th>2</th>\n",
       "      <td>3</td>\n",
       "      <td>Xoco</td>\n",
       "      <td>Woodland Mushroom</td>\n",
       "      <td>https://www.chicagomag.com/Chicago-Magazine/No...</td>\n",
       "    </tr>\n",
       "  </tbody>\n",
       "</table>\n",
       "</div>"
      ],
      "text/plain": [
       "   Rank         Cafe               Menu  \\\n",
       "0     1  Old Oak Tap                BLT   \n",
       "1     2    Au Cheval      Fried Bologna   \n",
       "2     3         Xoco  Woodland Mushroom   \n",
       "\n",
       "                                                 URL  \n",
       "0  https://www.chicagomag.com/Chicago-Magazine/No...  \n",
       "1  https://www.chicagomag.com/Chicago-Magazine/No...  \n",
       "2  https://www.chicagomag.com/Chicago-Magazine/No...  "
      ]
     },
     "execution_count": 42,
     "metadata": {},
     "output_type": "execute_result"
    }
   ],
   "source": [
    "df.head(3)"
   ]
  },
  {
   "cell_type": "code",
   "execution_count": 43,
   "metadata": {},
   "outputs": [],
   "source": [
    "df[\"Price\"] = prices\n",
    "df[\"Address\"] = addresses"
   ]
  },
  {
   "cell_type": "code",
   "execution_count": 44,
   "metadata": {},
   "outputs": [
    {
     "data": {
      "text/html": [
       "<div>\n",
       "<style scoped>\n",
       "    .dataframe tbody tr th:only-of-type {\n",
       "        vertical-align: middle;\n",
       "    }\n",
       "\n",
       "    .dataframe tbody tr th {\n",
       "        vertical-align: top;\n",
       "    }\n",
       "\n",
       "    .dataframe thead th {\n",
       "        text-align: right;\n",
       "    }\n",
       "</style>\n",
       "<table border=\"1\" class=\"dataframe\">\n",
       "  <thead>\n",
       "    <tr style=\"text-align: right;\">\n",
       "      <th></th>\n",
       "      <th>Rank</th>\n",
       "      <th>Cafe</th>\n",
       "      <th>Menu</th>\n",
       "      <th>URL</th>\n",
       "      <th>Price</th>\n",
       "      <th>Address</th>\n",
       "    </tr>\n",
       "  </thead>\n",
       "  <tbody>\n",
       "    <tr>\n",
       "      <th>0</th>\n",
       "      <td>1</td>\n",
       "      <td>Old Oak Tap</td>\n",
       "      <td>BLT</td>\n",
       "      <td>https://www.chicagomag.com/Chicago-Magazine/No...</td>\n",
       "      <td>$10.</td>\n",
       "      <td>2109 W. Chicago Ave</td>\n",
       "    </tr>\n",
       "    <tr>\n",
       "      <th>1</th>\n",
       "      <td>2</td>\n",
       "      <td>Au Cheval</td>\n",
       "      <td>Fried Bologna</td>\n",
       "      <td>https://www.chicagomag.com/Chicago-Magazine/No...</td>\n",
       "      <td>$9.</td>\n",
       "      <td>800 W. Randolph St</td>\n",
       "    </tr>\n",
       "    <tr>\n",
       "      <th>2</th>\n",
       "      <td>3</td>\n",
       "      <td>Xoco</td>\n",
       "      <td>Woodland Mushroom</td>\n",
       "      <td>https://www.chicagomag.com/Chicago-Magazine/No...</td>\n",
       "      <td>$9.50</td>\n",
       "      <td>445 N. Clark St</td>\n",
       "    </tr>\n",
       "  </tbody>\n",
       "</table>\n",
       "</div>"
      ],
      "text/plain": [
       "   Rank         Cafe               Menu  \\\n",
       "0     1  Old Oak Tap                BLT   \n",
       "1     2    Au Cheval      Fried Bologna   \n",
       "2     3         Xoco  Woodland Mushroom   \n",
       "\n",
       "                                                 URL  Price  \\\n",
       "0  https://www.chicagomag.com/Chicago-Magazine/No...   $10.   \n",
       "1  https://www.chicagomag.com/Chicago-Magazine/No...    $9.   \n",
       "2  https://www.chicagomag.com/Chicago-Magazine/No...  $9.50   \n",
       "\n",
       "               Address  \n",
       "0  2109 W. Chicago Ave  \n",
       "1   800 W. Randolph St  \n",
       "2      445 N. Clark St  "
      ]
     },
     "execution_count": 44,
     "metadata": {},
     "output_type": "execute_result"
    }
   ],
   "source": [
    "df.head(3)"
   ]
  },
  {
   "cell_type": "code",
   "execution_count": 45,
   "metadata": {},
   "outputs": [
    {
     "data": {
      "text/html": [
       "<div>\n",
       "<style scoped>\n",
       "    .dataframe tbody tr th:only-of-type {\n",
       "        vertical-align: middle;\n",
       "    }\n",
       "\n",
       "    .dataframe tbody tr th {\n",
       "        vertical-align: top;\n",
       "    }\n",
       "\n",
       "    .dataframe thead th {\n",
       "        text-align: right;\n",
       "    }\n",
       "</style>\n",
       "<table border=\"1\" class=\"dataframe\">\n",
       "  <thead>\n",
       "    <tr style=\"text-align: right;\">\n",
       "      <th></th>\n",
       "      <th>Cafe</th>\n",
       "      <th>Menu</th>\n",
       "      <th>Price</th>\n",
       "      <th>Address</th>\n",
       "    </tr>\n",
       "    <tr>\n",
       "      <th>Rank</th>\n",
       "      <th></th>\n",
       "      <th></th>\n",
       "      <th></th>\n",
       "      <th></th>\n",
       "    </tr>\n",
       "  </thead>\n",
       "  <tbody>\n",
       "    <tr>\n",
       "      <th>1</th>\n",
       "      <td>Old Oak Tap</td>\n",
       "      <td>BLT</td>\n",
       "      <td>$10.</td>\n",
       "      <td>2109 W. Chicago Ave</td>\n",
       "    </tr>\n",
       "    <tr>\n",
       "      <th>2</th>\n",
       "      <td>Au Cheval</td>\n",
       "      <td>Fried Bologna</td>\n",
       "      <td>$9.</td>\n",
       "      <td>800 W. Randolph St</td>\n",
       "    </tr>\n",
       "    <tr>\n",
       "      <th>3</th>\n",
       "      <td>Xoco</td>\n",
       "      <td>Woodland Mushroom</td>\n",
       "      <td>$9.50</td>\n",
       "      <td>445 N. Clark St</td>\n",
       "    </tr>\n",
       "    <tr>\n",
       "      <th>4</th>\n",
       "      <td>Al’s Deli</td>\n",
       "      <td>Roast Beef</td>\n",
       "      <td>$9.40</td>\n",
       "      <td>914 Noyes St</td>\n",
       "    </tr>\n",
       "    <tr>\n",
       "      <th>5</th>\n",
       "      <td>Publican Quality Meats</td>\n",
       "      <td>PB&amp;L</td>\n",
       "      <td>$10.</td>\n",
       "      <td>825 W. Fulton Mkt</td>\n",
       "    </tr>\n",
       "  </tbody>\n",
       "</table>\n",
       "</div>"
      ],
      "text/plain": [
       "                        Cafe               Menu  Price              Address\n",
       "Rank                                                                       \n",
       "1                Old Oak Tap                BLT   $10.  2109 W. Chicago Ave\n",
       "2                  Au Cheval      Fried Bologna    $9.   800 W. Randolph St\n",
       "3                       Xoco  Woodland Mushroom  $9.50      445 N. Clark St\n",
       "4                  Al’s Deli         Roast Beef  $9.40         914 Noyes St\n",
       "5     Publican Quality Meats               PB&L   $10.    825 W. Fulton Mkt"
      ]
     },
     "execution_count": 45,
     "metadata": {},
     "output_type": "execute_result"
    }
   ],
   "source": [
    "df = df.loc[:, [\"Rank\", \"Cafe\", \"Menu\", \"Price\", \"Address\"]]\n",
    "df.set_index(\"Rank\", inplace=True)\n",
    "df.head()"
   ]
  },
  {
   "cell_type": "code",
   "execution_count": 46,
   "metadata": {},
   "outputs": [],
   "source": [
    "df.to_csv(\n",
    "    \"../data/03. best_sandwiches_list_chicago2.csv\", sep=\",\", encoding=\"UTF-8\"\n",
    ")"
   ]
  },
  {
   "cell_type": "code",
   "execution_count": 47,
   "metadata": {},
   "outputs": [
    {
     "data": {
      "text/html": [
       "<div>\n",
       "<style scoped>\n",
       "    .dataframe tbody tr th:only-of-type {\n",
       "        vertical-align: middle;\n",
       "    }\n",
       "\n",
       "    .dataframe tbody tr th {\n",
       "        vertical-align: top;\n",
       "    }\n",
       "\n",
       "    .dataframe thead th {\n",
       "        text-align: right;\n",
       "    }\n",
       "</style>\n",
       "<table border=\"1\" class=\"dataframe\">\n",
       "  <thead>\n",
       "    <tr style=\"text-align: right;\">\n",
       "      <th></th>\n",
       "      <th>Cafe</th>\n",
       "      <th>Menu</th>\n",
       "      <th>Price</th>\n",
       "      <th>Address</th>\n",
       "    </tr>\n",
       "    <tr>\n",
       "      <th>Rank</th>\n",
       "      <th></th>\n",
       "      <th></th>\n",
       "      <th></th>\n",
       "      <th></th>\n",
       "    </tr>\n",
       "  </thead>\n",
       "  <tbody>\n",
       "    <tr>\n",
       "      <th>1</th>\n",
       "      <td>Old Oak Tap</td>\n",
       "      <td>BLT</td>\n",
       "      <td>$10.</td>\n",
       "      <td>2109 W. Chicago Ave</td>\n",
       "    </tr>\n",
       "    <tr>\n",
       "      <th>2</th>\n",
       "      <td>Au Cheval</td>\n",
       "      <td>Fried Bologna</td>\n",
       "      <td>$9.</td>\n",
       "      <td>800 W. Randolph St</td>\n",
       "    </tr>\n",
       "    <tr>\n",
       "      <th>3</th>\n",
       "      <td>Xoco</td>\n",
       "      <td>Woodland Mushroom</td>\n",
       "      <td>$9.50</td>\n",
       "      <td>445 N. Clark St</td>\n",
       "    </tr>\n",
       "    <tr>\n",
       "      <th>4</th>\n",
       "      <td>Al’s Deli</td>\n",
       "      <td>Roast Beef</td>\n",
       "      <td>$9.40</td>\n",
       "      <td>914 Noyes St</td>\n",
       "    </tr>\n",
       "    <tr>\n",
       "      <th>5</th>\n",
       "      <td>Publican Quality Meats</td>\n",
       "      <td>PB&amp;L</td>\n",
       "      <td>$10.</td>\n",
       "      <td>825 W. Fulton Mkt</td>\n",
       "    </tr>\n",
       "  </tbody>\n",
       "</table>\n",
       "</div>"
      ],
      "text/plain": [
       "                        Cafe               Menu  Price              Address\n",
       "Rank                                                                       \n",
       "1                Old Oak Tap                BLT   $10.  2109 W. Chicago Ave\n",
       "2                  Au Cheval      Fried Bologna    $9.   800 W. Randolph St\n",
       "3                       Xoco  Woodland Mushroom  $9.50      445 N. Clark St\n",
       "4                  Al’s Deli         Roast Beef  $9.40         914 Noyes St\n",
       "5     Publican Quality Meats               PB&L   $10.    825 W. Fulton Mkt"
      ]
     },
     "execution_count": 47,
     "metadata": {},
     "output_type": "execute_result"
    }
   ],
   "source": [
    "pd.read_csv(\"../data/03. best_sandwiches_list_chicago2.csv\", index_col=0).head()"
   ]
  },
  {
   "cell_type": "markdown",
   "metadata": {},
   "source": [
    "---"
   ]
  },
  {
   "cell_type": "markdown",
   "metadata": {},
   "source": [
    "## 5. 시카고 맛집 데이터 지도 시각화\n"
   ]
  },
  {
   "cell_type": "code",
   "execution_count": 48,
   "metadata": {},
   "outputs": [],
   "source": [
    "import folium\n",
    "import pandas as pd\n",
    "import numpy as np\n",
    "import googlemaps\n",
    "from tqdm import tqdm"
   ]
  },
  {
   "cell_type": "code",
   "execution_count": 50,
   "metadata": {},
   "outputs": [
    {
     "data": {
      "text/html": [
       "<div>\n",
       "<style scoped>\n",
       "    .dataframe tbody tr th:only-of-type {\n",
       "        vertical-align: middle;\n",
       "    }\n",
       "\n",
       "    .dataframe tbody tr th {\n",
       "        vertical-align: top;\n",
       "    }\n",
       "\n",
       "    .dataframe thead th {\n",
       "        text-align: right;\n",
       "    }\n",
       "</style>\n",
       "<table border=\"1\" class=\"dataframe\">\n",
       "  <thead>\n",
       "    <tr style=\"text-align: right;\">\n",
       "      <th></th>\n",
       "      <th>Cafe</th>\n",
       "      <th>Menu</th>\n",
       "      <th>Price</th>\n",
       "      <th>Address</th>\n",
       "    </tr>\n",
       "    <tr>\n",
       "      <th>Rank</th>\n",
       "      <th></th>\n",
       "      <th></th>\n",
       "      <th></th>\n",
       "      <th></th>\n",
       "    </tr>\n",
       "  </thead>\n",
       "  <tbody>\n",
       "    <tr>\n",
       "      <th>46</th>\n",
       "      <td>Chickpea</td>\n",
       "      <td>Kufta</td>\n",
       "      <td>$8.</td>\n",
       "      <td>2018 W. Chicago Ave</td>\n",
       "    </tr>\n",
       "    <tr>\n",
       "      <th>47</th>\n",
       "      <td>The Goddess and Grocer</td>\n",
       "      <td>Debbie’s Egg Salad</td>\n",
       "      <td>$6.50</td>\n",
       "      <td>25 E. Delaware Pl</td>\n",
       "    </tr>\n",
       "    <tr>\n",
       "      <th>48</th>\n",
       "      <td>Zenwich</td>\n",
       "      <td>Beef Curry</td>\n",
       "      <td>$7.50</td>\n",
       "      <td>416 N. York St</td>\n",
       "    </tr>\n",
       "    <tr>\n",
       "      <th>49</th>\n",
       "      <td>Toni Patisserie</td>\n",
       "      <td>Le Végétarien</td>\n",
       "      <td>$8.75</td>\n",
       "      <td>65 E. Washington St</td>\n",
       "    </tr>\n",
       "    <tr>\n",
       "      <th>50</th>\n",
       "      <td>Phoebe’s Bakery</td>\n",
       "      <td>The Gatsby</td>\n",
       "      <td>$6.85</td>\n",
       "      <td>3351 N. Broadwa</td>\n",
       "    </tr>\n",
       "  </tbody>\n",
       "</table>\n",
       "</div>"
      ],
      "text/plain": [
       "                        Cafe                Menu  Price               Address\n",
       "Rank                                                                         \n",
       "46                  Chickpea               Kufta    $8.   2018 W. Chicago Ave\n",
       "47    The Goddess and Grocer  Debbie’s Egg Salad  $6.50     25 E. Delaware Pl\n",
       "48                   Zenwich          Beef Curry  $7.50        416 N. York St\n",
       "49           Toni Patisserie       Le Végétarien  $8.75   65 E. Washington St\n",
       "50           Phoebe’s Bakery          The Gatsby  $6.85       3351 N. Broadwa"
      ]
     },
     "execution_count": 50,
     "metadata": {},
     "output_type": "execute_result"
    }
   ],
   "source": [
    "df = pd.read_csv(\"../data/03. best_sandwiches_list_chicago2.csv\", index_col=0)\n",
    "df.tail()"
   ]
  },
  {
   "cell_type": "code",
   "execution_count": 51,
   "metadata": {},
   "outputs": [
    {
     "data": {
      "text/plain": [
       "<googlemaps.client.Client at 0x23c23e478b0>"
      ]
     },
     "execution_count": 51,
     "metadata": {},
     "output_type": "execute_result"
    }
   ],
   "source": [
    "gmaps_key = \"xxxxxxxxxxxxxx\"\n",
    "gmaps = googlemaps.Client(key=gmaps_key)\n",
    "gmaps"
   ]
  },
  {
   "cell_type": "code",
   "execution_count": 61,
   "metadata": {},
   "outputs": [
    {
     "name": "stderr",
     "output_type": "stream",
     "text": [
      "50it [00:18,  2.73it/s]\n"
     ]
    }
   ],
   "source": [
    "lat = []\n",
    "lng = []\n",
    "\n",
    "for idx, rows in tqdm(df.iterrows()):\n",
    "    if not rows[\"Address\"] == \"Multiple location\":\n",
    "        target_name = rows[\"Address\"] + \", Chicago\"\n",
    "        gmaps_output = gmaps.geocode(target_name)[0]\n",
    "        geometry = gmaps_output[\"geometry\"]\n",
    "        location = geometry[\"location\"]\n",
    "        lat.append(location[\"lat\"])\n",
    "        lng.append(location[\"lng\"])\n",
    "    else:\n",
    "        lat.append(np.nan)\n",
    "        lng.append(np.nan)  "
   ]
  },
  {
   "cell_type": "code",
   "execution_count": 62,
   "metadata": {},
   "outputs": [
    {
     "data": {
      "text/plain": [
       "(50, 50)"
      ]
     },
     "execution_count": 62,
     "metadata": {},
     "output_type": "execute_result"
    }
   ],
   "source": [
    "len(lat), len(lng)"
   ]
  },
  {
   "cell_type": "code",
   "execution_count": 64,
   "metadata": {},
   "outputs": [],
   "source": [
    "df[\"lat\"] = lat\n",
    "df[\"lng\"] = lng"
   ]
  },
  {
   "cell_type": "code",
   "execution_count": 66,
   "metadata": {},
   "outputs": [
    {
     "data": {
      "text/html": [
       "<div>\n",
       "<style scoped>\n",
       "    .dataframe tbody tr th:only-of-type {\n",
       "        vertical-align: middle;\n",
       "    }\n",
       "\n",
       "    .dataframe tbody tr th {\n",
       "        vertical-align: top;\n",
       "    }\n",
       "\n",
       "    .dataframe thead th {\n",
       "        text-align: right;\n",
       "    }\n",
       "</style>\n",
       "<table border=\"1\" class=\"dataframe\">\n",
       "  <thead>\n",
       "    <tr style=\"text-align: right;\">\n",
       "      <th></th>\n",
       "      <th>Cafe</th>\n",
       "      <th>Menu</th>\n",
       "      <th>Price</th>\n",
       "      <th>Address</th>\n",
       "      <th>lat</th>\n",
       "      <th>lng</th>\n",
       "    </tr>\n",
       "    <tr>\n",
       "      <th>Rank</th>\n",
       "      <th></th>\n",
       "      <th></th>\n",
       "      <th></th>\n",
       "      <th></th>\n",
       "      <th></th>\n",
       "      <th></th>\n",
       "    </tr>\n",
       "  </thead>\n",
       "  <tbody>\n",
       "    <tr>\n",
       "      <th>48</th>\n",
       "      <td>Zenwich</td>\n",
       "      <td>Beef Curry</td>\n",
       "      <td>$7.50</td>\n",
       "      <td>416 N. York St</td>\n",
       "      <td>41.910583</td>\n",
       "      <td>-87.940488</td>\n",
       "    </tr>\n",
       "    <tr>\n",
       "      <th>49</th>\n",
       "      <td>Toni Patisserie</td>\n",
       "      <td>Le Végétarien</td>\n",
       "      <td>$8.75</td>\n",
       "      <td>65 E. Washington St</td>\n",
       "      <td>41.883106</td>\n",
       "      <td>-87.625438</td>\n",
       "    </tr>\n",
       "    <tr>\n",
       "      <th>50</th>\n",
       "      <td>Phoebe’s Bakery</td>\n",
       "      <td>The Gatsby</td>\n",
       "      <td>$6.85</td>\n",
       "      <td>3351 N. Broadwa</td>\n",
       "      <td>41.943163</td>\n",
       "      <td>-87.644507</td>\n",
       "    </tr>\n",
       "  </tbody>\n",
       "</table>\n",
       "</div>"
      ],
      "text/plain": [
       "                 Cafe           Menu  Price               Address        lat  \\\n",
       "Rank                                                                           \n",
       "48            Zenwich     Beef Curry  $7.50        416 N. York St  41.910583   \n",
       "49    Toni Patisserie  Le Végétarien  $8.75   65 E. Washington St  41.883106   \n",
       "50    Phoebe’s Bakery     The Gatsby  $6.85       3351 N. Broadwa  41.943163   \n",
       "\n",
       "            lng  \n",
       "Rank             \n",
       "48   -87.940488  \n",
       "49   -87.625438  \n",
       "50   -87.644507  "
      ]
     },
     "execution_count": 66,
     "metadata": {},
     "output_type": "execute_result"
    }
   ],
   "source": [
    "df.tail(3)"
   ]
  },
  {
   "cell_type": "code",
   "execution_count": 79,
   "metadata": {},
   "outputs": [
    {
     "data": {
      "text/html": [
       "<div style=\"width:100%;\"><div style=\"position:relative;width:100%;height:0;padding-bottom:60%;\"><span style=\"color:#565656\">Make this Notebook Trusted to load map: File -> Trust Notebook</span><iframe src=\"about:blank\" style=\"position:absolute;width:100%;height:100%;left:0;top:0;border:none !important;\" data-html=%3C%21DOCTYPE%20html%3E%0A%3Chead%3E%20%20%20%20%0A%20%20%20%20%3Cmeta%20http-equiv%3D%22content-type%22%20content%3D%22text/html%3B%20charset%3DUTF-8%22%20/%3E%0A%20%20%20%20%0A%20%20%20%20%20%20%20%20%3Cscript%3E%0A%20%20%20%20%20%20%20%20%20%20%20%20L_NO_TOUCH%20%3D%20false%3B%0A%20%20%20%20%20%20%20%20%20%20%20%20L_DISABLE_3D%20%3D%20false%3B%0A%20%20%20%20%20%20%20%20%3C/script%3E%0A%20%20%20%20%0A%20%20%20%20%3Cstyle%3Ehtml%2C%20body%20%7Bwidth%3A%20100%25%3Bheight%3A%20100%25%3Bmargin%3A%200%3Bpadding%3A%200%3B%7D%3C/style%3E%0A%20%20%20%20%3Cstyle%3E%23map%20%7Bposition%3Aabsolute%3Btop%3A0%3Bbottom%3A0%3Bright%3A0%3Bleft%3A0%3B%7D%3C/style%3E%0A%20%20%20%20%3Cscript%20src%3D%22https%3A//cdn.jsdelivr.net/npm/leaflet%401.6.0/dist/leaflet.js%22%3E%3C/script%3E%0A%20%20%20%20%3Cscript%20src%3D%22https%3A//code.jquery.com/jquery-1.12.4.min.js%22%3E%3C/script%3E%0A%20%20%20%20%3Cscript%20src%3D%22https%3A//maxcdn.bootstrapcdn.com/bootstrap/3.2.0/js/bootstrap.min.js%22%3E%3C/script%3E%0A%20%20%20%20%3Cscript%20src%3D%22https%3A//cdnjs.cloudflare.com/ajax/libs/Leaflet.awesome-markers/2.0.2/leaflet.awesome-markers.js%22%3E%3C/script%3E%0A%20%20%20%20%3Clink%20rel%3D%22stylesheet%22%20href%3D%22https%3A//cdn.jsdelivr.net/npm/leaflet%401.6.0/dist/leaflet.css%22/%3E%0A%20%20%20%20%3Clink%20rel%3D%22stylesheet%22%20href%3D%22https%3A//maxcdn.bootstrapcdn.com/bootstrap/3.2.0/css/bootstrap.min.css%22/%3E%0A%20%20%20%20%3Clink%20rel%3D%22stylesheet%22%20href%3D%22https%3A//maxcdn.bootstrapcdn.com/bootstrap/3.2.0/css/bootstrap-theme.min.css%22/%3E%0A%20%20%20%20%3Clink%20rel%3D%22stylesheet%22%20href%3D%22https%3A//maxcdn.bootstrapcdn.com/font-awesome/4.6.3/css/font-awesome.min.css%22/%3E%0A%20%20%20%20%3Clink%20rel%3D%22stylesheet%22%20href%3D%22https%3A//cdnjs.cloudflare.com/ajax/libs/Leaflet.awesome-markers/2.0.2/leaflet.awesome-markers.css%22/%3E%0A%20%20%20%20%3Clink%20rel%3D%22stylesheet%22%20href%3D%22https%3A//cdn.jsdelivr.net/gh/python-visualization/folium/folium/templates/leaflet.awesome.rotate.min.css%22/%3E%0A%20%20%20%20%0A%20%20%20%20%20%20%20%20%20%20%20%20%3Cmeta%20name%3D%22viewport%22%20content%3D%22width%3Ddevice-width%2C%0A%20%20%20%20%20%20%20%20%20%20%20%20%20%20%20%20initial-scale%3D1.0%2C%20maximum-scale%3D1.0%2C%20user-scalable%3Dno%22%20/%3E%0A%20%20%20%20%20%20%20%20%20%20%20%20%3Cstyle%3E%0A%20%20%20%20%20%20%20%20%20%20%20%20%20%20%20%20%23map_29a1928139fb4af2831384dd6ff20e6c%20%7B%0A%20%20%20%20%20%20%20%20%20%20%20%20%20%20%20%20%20%20%20%20position%3A%20relative%3B%0A%20%20%20%20%20%20%20%20%20%20%20%20%20%20%20%20%20%20%20%20width%3A%20100.0%25%3B%0A%20%20%20%20%20%20%20%20%20%20%20%20%20%20%20%20%20%20%20%20height%3A%20100.0%25%3B%0A%20%20%20%20%20%20%20%20%20%20%20%20%20%20%20%20%20%20%20%20left%3A%200.0%25%3B%0A%20%20%20%20%20%20%20%20%20%20%20%20%20%20%20%20%20%20%20%20top%3A%200.0%25%3B%0A%20%20%20%20%20%20%20%20%20%20%20%20%20%20%20%20%7D%0A%20%20%20%20%20%20%20%20%20%20%20%20%3C/style%3E%0A%20%20%20%20%20%20%20%20%0A%3C/head%3E%0A%3Cbody%3E%20%20%20%20%0A%20%20%20%20%0A%20%20%20%20%20%20%20%20%20%20%20%20%3Cdiv%20class%3D%22folium-map%22%20id%3D%22map_29a1928139fb4af2831384dd6ff20e6c%22%20%3E%3C/div%3E%0A%20%20%20%20%20%20%20%20%0A%3C/body%3E%0A%3Cscript%3E%20%20%20%20%0A%20%20%20%20%0A%20%20%20%20%20%20%20%20%20%20%20%20var%20map_29a1928139fb4af2831384dd6ff20e6c%20%3D%20L.map%28%0A%20%20%20%20%20%20%20%20%20%20%20%20%20%20%20%20%22map_29a1928139fb4af2831384dd6ff20e6c%22%2C%0A%20%20%20%20%20%20%20%20%20%20%20%20%20%20%20%20%7B%0A%20%20%20%20%20%20%20%20%20%20%20%20%20%20%20%20%20%20%20%20center%3A%20%5B41.8781136%2C%20-87.6297982%5D%2C%0A%20%20%20%20%20%20%20%20%20%20%20%20%20%20%20%20%20%20%20%20crs%3A%20L.CRS.EPSG3857%2C%0A%20%20%20%20%20%20%20%20%20%20%20%20%20%20%20%20%20%20%20%20zoom%3A%2011%2C%0A%20%20%20%20%20%20%20%20%20%20%20%20%20%20%20%20%20%20%20%20zoomControl%3A%20true%2C%0A%20%20%20%20%20%20%20%20%20%20%20%20%20%20%20%20%20%20%20%20preferCanvas%3A%20false%2C%0A%20%20%20%20%20%20%20%20%20%20%20%20%20%20%20%20%7D%0A%20%20%20%20%20%20%20%20%20%20%20%20%29%3B%0A%0A%20%20%20%20%20%20%20%20%20%20%20%20%0A%0A%20%20%20%20%20%20%20%20%0A%20%20%20%20%0A%20%20%20%20%20%20%20%20%20%20%20%20var%20tile_layer_af5f0523ca1346c68e645453c93b908b%20%3D%20L.tileLayer%28%0A%20%20%20%20%20%20%20%20%20%20%20%20%20%20%20%20%22https%3A//%7Bs%7D.tile.openstreetmap.org/%7Bz%7D/%7Bx%7D/%7By%7D.png%22%2C%0A%20%20%20%20%20%20%20%20%20%20%20%20%20%20%20%20%7B%22attribution%22%3A%20%22Data%20by%20%5Cu0026copy%3B%20%5Cu003ca%20href%3D%5C%22http%3A//openstreetmap.org%5C%22%5Cu003eOpenStreetMap%5Cu003c/a%5Cu003e%2C%20under%20%5Cu003ca%20href%3D%5C%22http%3A//www.openstreetmap.org/copyright%5C%22%5Cu003eODbL%5Cu003c/a%5Cu003e.%22%2C%20%22detectRetina%22%3A%20false%2C%20%22maxNativeZoom%22%3A%2018%2C%20%22maxZoom%22%3A%2018%2C%20%22minZoom%22%3A%200%2C%20%22noWrap%22%3A%20false%2C%20%22opacity%22%3A%201%2C%20%22subdomains%22%3A%20%22abc%22%2C%20%22tms%22%3A%20false%7D%0A%20%20%20%20%20%20%20%20%20%20%20%20%29.addTo%28map_29a1928139fb4af2831384dd6ff20e6c%29%3B%0A%20%20%20%20%20%20%20%20%0A%20%20%20%20%0A%20%20%20%20%20%20%20%20%20%20%20%20var%20marker_3d03848f703843b682fe99dd674b43e2%20%3D%20L.marker%28%0A%20%20%20%20%20%20%20%20%20%20%20%20%20%20%20%20%5B41.8955577%2C%20-87.6799673%5D%2C%0A%20%20%20%20%20%20%20%20%20%20%20%20%20%20%20%20%7B%7D%0A%20%20%20%20%20%20%20%20%20%20%20%20%29.addTo%28map_29a1928139fb4af2831384dd6ff20e6c%29%3B%0A%20%20%20%20%20%20%20%20%0A%20%20%20%20%0A%20%20%20%20%20%20%20%20%20%20%20%20var%20icon_fc290888576a41f5b6e4ce667efbe432%20%3D%20L.AwesomeMarkers.icon%28%0A%20%20%20%20%20%20%20%20%20%20%20%20%20%20%20%20%7B%22extraClasses%22%3A%20%22fa-rotate-0%22%2C%20%22icon%22%3A%20%22coffee%22%2C%20%22iconColor%22%3A%20%22white%22%2C%20%22markerColor%22%3A%20%22blue%22%2C%20%22prefix%22%3A%20%22fa%22%7D%0A%20%20%20%20%20%20%20%20%20%20%20%20%29%3B%0A%20%20%20%20%20%20%20%20%20%20%20%20marker_3d03848f703843b682fe99dd674b43e2.setIcon%28icon_fc290888576a41f5b6e4ce667efbe432%29%3B%0A%20%20%20%20%20%20%20%20%0A%20%20%20%20%0A%20%20%20%20%20%20%20%20var%20popup_2953944aa7bf41dc8d395aa847d78829%20%3D%20L.popup%28%7B%22maxWidth%22%3A%20%22100%25%22%7D%29%3B%0A%0A%20%20%20%20%20%20%20%20%0A%20%20%20%20%20%20%20%20%20%20%20%20var%20html_e9fddbba551a4ba69df9d88d2e7f71e6%20%3D%20%24%28%60%3Cdiv%20id%3D%22html_e9fddbba551a4ba69df9d88d2e7f71e6%22%20style%3D%22width%3A%20100.0%25%3B%20height%3A%20100.0%25%3B%22%3EOld%20Oak%20Tap%3C/div%3E%60%29%5B0%5D%3B%0A%20%20%20%20%20%20%20%20%20%20%20%20popup_2953944aa7bf41dc8d395aa847d78829.setContent%28html_e9fddbba551a4ba69df9d88d2e7f71e6%29%3B%0A%20%20%20%20%20%20%20%20%0A%0A%20%20%20%20%20%20%20%20marker_3d03848f703843b682fe99dd674b43e2.bindPopup%28popup_2953944aa7bf41dc8d395aa847d78829%29%0A%20%20%20%20%20%20%20%20%3B%0A%0A%20%20%20%20%20%20%20%20%0A%20%20%20%20%0A%20%20%20%20%0A%20%20%20%20%20%20%20%20%20%20%20%20marker_3d03848f703843b682fe99dd674b43e2.bindTooltip%28%0A%20%20%20%20%20%20%20%20%20%20%20%20%20%20%20%20%60%3Cdiv%3E%0A%20%20%20%20%20%20%20%20%20%20%20%20%20%20%20%20%20%20%20%20%202109%20W.%20Chicago%20Ave%0A%20%20%20%20%20%20%20%20%20%20%20%20%20%20%20%20%20%3C/div%3E%60%2C%0A%20%20%20%20%20%20%20%20%20%20%20%20%20%20%20%20%7B%22sticky%22%3A%20true%7D%0A%20%20%20%20%20%20%20%20%20%20%20%20%29%3B%0A%20%20%20%20%20%20%20%20%0A%20%20%20%20%0A%20%20%20%20%20%20%20%20%20%20%20%20var%20marker_3da7e6ea97684321b04fb5fc5fe04dac%20%3D%20L.marker%28%0A%20%20%20%20%20%20%20%20%20%20%20%20%20%20%20%20%5B41.8846392%2C%20-87.6475897%5D%2C%0A%20%20%20%20%20%20%20%20%20%20%20%20%20%20%20%20%7B%7D%0A%20%20%20%20%20%20%20%20%20%20%20%20%29.addTo%28map_29a1928139fb4af2831384dd6ff20e6c%29%3B%0A%20%20%20%20%20%20%20%20%0A%20%20%20%20%0A%20%20%20%20%20%20%20%20%20%20%20%20var%20icon_b26123959c774bfa80299f5021d30b43%20%3D%20L.AwesomeMarkers.icon%28%0A%20%20%20%20%20%20%20%20%20%20%20%20%20%20%20%20%7B%22extraClasses%22%3A%20%22fa-rotate-0%22%2C%20%22icon%22%3A%20%22coffee%22%2C%20%22iconColor%22%3A%20%22white%22%2C%20%22markerColor%22%3A%20%22blue%22%2C%20%22prefix%22%3A%20%22fa%22%7D%0A%20%20%20%20%20%20%20%20%20%20%20%20%29%3B%0A%20%20%20%20%20%20%20%20%20%20%20%20marker_3da7e6ea97684321b04fb5fc5fe04dac.setIcon%28icon_b26123959c774bfa80299f5021d30b43%29%3B%0A%20%20%20%20%20%20%20%20%0A%20%20%20%20%0A%20%20%20%20%20%20%20%20var%20popup_7c51b53e82d24ab4b3f6af23f1687777%20%3D%20L.popup%28%7B%22maxWidth%22%3A%20%22100%25%22%7D%29%3B%0A%0A%20%20%20%20%20%20%20%20%0A%20%20%20%20%20%20%20%20%20%20%20%20var%20html_6751628c142e40adb5621057a586ef4c%20%3D%20%24%28%60%3Cdiv%20id%3D%22html_6751628c142e40adb5621057a586ef4c%22%20style%3D%22width%3A%20100.0%25%3B%20height%3A%20100.0%25%3B%22%3EAu%20Cheval%3C/div%3E%60%29%5B0%5D%3B%0A%20%20%20%20%20%20%20%20%20%20%20%20popup_7c51b53e82d24ab4b3f6af23f1687777.setContent%28html_6751628c142e40adb5621057a586ef4c%29%3B%0A%20%20%20%20%20%20%20%20%0A%0A%20%20%20%20%20%20%20%20marker_3da7e6ea97684321b04fb5fc5fe04dac.bindPopup%28popup_7c51b53e82d24ab4b3f6af23f1687777%29%0A%20%20%20%20%20%20%20%20%3B%0A%0A%20%20%20%20%20%20%20%20%0A%20%20%20%20%0A%20%20%20%20%0A%20%20%20%20%20%20%20%20%20%20%20%20marker_3da7e6ea97684321b04fb5fc5fe04dac.bindTooltip%28%0A%20%20%20%20%20%20%20%20%20%20%20%20%20%20%20%20%60%3Cdiv%3E%0A%20%20%20%20%20%20%20%20%20%20%20%20%20%20%20%20%20%20%20%20%20800%20W.%20Randolph%20St%0A%20%20%20%20%20%20%20%20%20%20%20%20%20%20%20%20%20%3C/div%3E%60%2C%0A%20%20%20%20%20%20%20%20%20%20%20%20%20%20%20%20%7B%22sticky%22%3A%20true%7D%0A%20%20%20%20%20%20%20%20%20%20%20%20%29%3B%0A%20%20%20%20%20%20%20%20%0A%20%20%20%20%0A%20%20%20%20%20%20%20%20%20%20%20%20var%20marker_057f2cc329b1469b95242e0098548cd3%20%3D%20L.marker%28%0A%20%20%20%20%20%20%20%20%20%20%20%20%20%20%20%20%5B41.8905226%2C%20-87.6307834%5D%2C%0A%20%20%20%20%20%20%20%20%20%20%20%20%20%20%20%20%7B%7D%0A%20%20%20%20%20%20%20%20%20%20%20%20%29.addTo%28map_29a1928139fb4af2831384dd6ff20e6c%29%3B%0A%20%20%20%20%20%20%20%20%0A%20%20%20%20%0A%20%20%20%20%20%20%20%20%20%20%20%20var%20icon_1df2d80dbfa4487c83d1c7ccf505eb66%20%3D%20L.AwesomeMarkers.icon%28%0A%20%20%20%20%20%20%20%20%20%20%20%20%20%20%20%20%7B%22extraClasses%22%3A%20%22fa-rotate-0%22%2C%20%22icon%22%3A%20%22coffee%22%2C%20%22iconColor%22%3A%20%22white%22%2C%20%22markerColor%22%3A%20%22blue%22%2C%20%22prefix%22%3A%20%22fa%22%7D%0A%20%20%20%20%20%20%20%20%20%20%20%20%29%3B%0A%20%20%20%20%20%20%20%20%20%20%20%20marker_057f2cc329b1469b95242e0098548cd3.setIcon%28icon_1df2d80dbfa4487c83d1c7ccf505eb66%29%3B%0A%20%20%20%20%20%20%20%20%0A%20%20%20%20%0A%20%20%20%20%20%20%20%20var%20popup_3bf4e1b2c8464b1c9b89add6c9a692d0%20%3D%20L.popup%28%7B%22maxWidth%22%3A%20%22100%25%22%7D%29%3B%0A%0A%20%20%20%20%20%20%20%20%0A%20%20%20%20%20%20%20%20%20%20%20%20var%20html_02967be66f234298898ab0067b7cde7c%20%3D%20%24%28%60%3Cdiv%20id%3D%22html_02967be66f234298898ab0067b7cde7c%22%20style%3D%22width%3A%20100.0%25%3B%20height%3A%20100.0%25%3B%22%3EXoco%3C/div%3E%60%29%5B0%5D%3B%0A%20%20%20%20%20%20%20%20%20%20%20%20popup_3bf4e1b2c8464b1c9b89add6c9a692d0.setContent%28html_02967be66f234298898ab0067b7cde7c%29%3B%0A%20%20%20%20%20%20%20%20%0A%0A%20%20%20%20%20%20%20%20marker_057f2cc329b1469b95242e0098548cd3.bindPopup%28popup_3bf4e1b2c8464b1c9b89add6c9a692d0%29%0A%20%20%20%20%20%20%20%20%3B%0A%0A%20%20%20%20%20%20%20%20%0A%20%20%20%20%0A%20%20%20%20%0A%20%20%20%20%20%20%20%20%20%20%20%20marker_057f2cc329b1469b95242e0098548cd3.bindTooltip%28%0A%20%20%20%20%20%20%20%20%20%20%20%20%20%20%20%20%60%3Cdiv%3E%0A%20%20%20%20%20%20%20%20%20%20%20%20%20%20%20%20%20%20%20%20%20%20445%20N.%20Clark%20St%0A%20%20%20%20%20%20%20%20%20%20%20%20%20%20%20%20%20%3C/div%3E%60%2C%0A%20%20%20%20%20%20%20%20%20%20%20%20%20%20%20%20%7B%22sticky%22%3A%20true%7D%0A%20%20%20%20%20%20%20%20%20%20%20%20%29%3B%0A%20%20%20%20%20%20%20%20%0A%20%20%20%20%0A%20%20%20%20%20%20%20%20%20%20%20%20var%20marker_718ca520220543078ed62c3f16f6f0dc%20%3D%20L.marker%28%0A%20%20%20%20%20%20%20%20%20%20%20%20%20%20%20%20%5B42.0583217%2C%20-87.6837479%5D%2C%0A%20%20%20%20%20%20%20%20%20%20%20%20%20%20%20%20%7B%7D%0A%20%20%20%20%20%20%20%20%20%20%20%20%29.addTo%28map_29a1928139fb4af2831384dd6ff20e6c%29%3B%0A%20%20%20%20%20%20%20%20%0A%20%20%20%20%0A%20%20%20%20%20%20%20%20%20%20%20%20var%20icon_09c31ed542c34557aa12114e2db09a13%20%3D%20L.AwesomeMarkers.icon%28%0A%20%20%20%20%20%20%20%20%20%20%20%20%20%20%20%20%7B%22extraClasses%22%3A%20%22fa-rotate-0%22%2C%20%22icon%22%3A%20%22coffee%22%2C%20%22iconColor%22%3A%20%22white%22%2C%20%22markerColor%22%3A%20%22blue%22%2C%20%22prefix%22%3A%20%22fa%22%7D%0A%20%20%20%20%20%20%20%20%20%20%20%20%29%3B%0A%20%20%20%20%20%20%20%20%20%20%20%20marker_718ca520220543078ed62c3f16f6f0dc.setIcon%28icon_09c31ed542c34557aa12114e2db09a13%29%3B%0A%20%20%20%20%20%20%20%20%0A%20%20%20%20%0A%20%20%20%20%20%20%20%20var%20popup_0470da7053e04c05aba472d7bdc53ea2%20%3D%20L.popup%28%7B%22maxWidth%22%3A%20%22100%25%22%7D%29%3B%0A%0A%20%20%20%20%20%20%20%20%0A%20%20%20%20%20%20%20%20%20%20%20%20var%20html_e4ce4088cb2145d6999b0065183acf0d%20%3D%20%24%28%60%3Cdiv%20id%3D%22html_e4ce4088cb2145d6999b0065183acf0d%22%20style%3D%22width%3A%20100.0%25%3B%20height%3A%20100.0%25%3B%22%3EAl%E2%80%99s%20Deli%3C/div%3E%60%29%5B0%5D%3B%0A%20%20%20%20%20%20%20%20%20%20%20%20popup_0470da7053e04c05aba472d7bdc53ea2.setContent%28html_e4ce4088cb2145d6999b0065183acf0d%29%3B%0A%20%20%20%20%20%20%20%20%0A%0A%20%20%20%20%20%20%20%20marker_718ca520220543078ed62c3f16f6f0dc.bindPopup%28popup_0470da7053e04c05aba472d7bdc53ea2%29%0A%20%20%20%20%20%20%20%20%3B%0A%0A%20%20%20%20%20%20%20%20%0A%20%20%20%20%0A%20%20%20%20%0A%20%20%20%20%20%20%20%20%20%20%20%20marker_718ca520220543078ed62c3f16f6f0dc.bindTooltip%28%0A%20%20%20%20%20%20%20%20%20%20%20%20%20%20%20%20%60%3Cdiv%3E%0A%20%20%20%20%20%20%20%20%20%20%20%20%20%20%20%20%20%20%20%20%20%20914%20Noyes%20St%0A%20%20%20%20%20%20%20%20%20%20%20%20%20%20%20%20%20%3C/div%3E%60%2C%0A%20%20%20%20%20%20%20%20%20%20%20%20%20%20%20%20%7B%22sticky%22%3A%20true%7D%0A%20%20%20%20%20%20%20%20%20%20%20%20%29%3B%0A%20%20%20%20%20%20%20%20%0A%20%20%20%20%0A%20%20%20%20%20%20%20%20%20%20%20%20var%20marker_bd376e92b61749a7925e5d96dabc3ef2%20%3D%20L.marker%28%0A%20%20%20%20%20%20%20%20%20%20%20%20%20%20%20%20%5B41.8866036%2C%20-87.64853649999999%5D%2C%0A%20%20%20%20%20%20%20%20%20%20%20%20%20%20%20%20%7B%7D%0A%20%20%20%20%20%20%20%20%20%20%20%20%29.addTo%28map_29a1928139fb4af2831384dd6ff20e6c%29%3B%0A%20%20%20%20%20%20%20%20%0A%20%20%20%20%0A%20%20%20%20%20%20%20%20%20%20%20%20var%20icon_635cc32bb0f147fabb283cd25a579530%20%3D%20L.AwesomeMarkers.icon%28%0A%20%20%20%20%20%20%20%20%20%20%20%20%20%20%20%20%7B%22extraClasses%22%3A%20%22fa-rotate-0%22%2C%20%22icon%22%3A%20%22coffee%22%2C%20%22iconColor%22%3A%20%22white%22%2C%20%22markerColor%22%3A%20%22blue%22%2C%20%22prefix%22%3A%20%22fa%22%7D%0A%20%20%20%20%20%20%20%20%20%20%20%20%29%3B%0A%20%20%20%20%20%20%20%20%20%20%20%20marker_bd376e92b61749a7925e5d96dabc3ef2.setIcon%28icon_635cc32bb0f147fabb283cd25a579530%29%3B%0A%20%20%20%20%20%20%20%20%0A%20%20%20%20%0A%20%20%20%20%20%20%20%20var%20popup_19cc1a8d3d504c2dabc33c6438406c20%20%3D%20L.popup%28%7B%22maxWidth%22%3A%20%22100%25%22%7D%29%3B%0A%0A%20%20%20%20%20%20%20%20%0A%20%20%20%20%20%20%20%20%20%20%20%20var%20html_d32ba8967c0b4572bc2fe4e1fe4417dd%20%3D%20%24%28%60%3Cdiv%20id%3D%22html_d32ba8967c0b4572bc2fe4e1fe4417dd%22%20style%3D%22width%3A%20100.0%25%3B%20height%3A%20100.0%25%3B%22%3EPublican%20Quality%20Meats%3C/div%3E%60%29%5B0%5D%3B%0A%20%20%20%20%20%20%20%20%20%20%20%20popup_19cc1a8d3d504c2dabc33c6438406c20.setContent%28html_d32ba8967c0b4572bc2fe4e1fe4417dd%29%3B%0A%20%20%20%20%20%20%20%20%0A%0A%20%20%20%20%20%20%20%20marker_bd376e92b61749a7925e5d96dabc3ef2.bindPopup%28popup_19cc1a8d3d504c2dabc33c6438406c20%29%0A%20%20%20%20%20%20%20%20%3B%0A%0A%20%20%20%20%20%20%20%20%0A%20%20%20%20%0A%20%20%20%20%0A%20%20%20%20%20%20%20%20%20%20%20%20marker_bd376e92b61749a7925e5d96dabc3ef2.bindTooltip%28%0A%20%20%20%20%20%20%20%20%20%20%20%20%20%20%20%20%60%3Cdiv%3E%0A%20%20%20%20%20%20%20%20%20%20%20%20%20%20%20%20%20%20%20%20%20825%20W.%20Fulton%20Mkt%0A%20%20%20%20%20%20%20%20%20%20%20%20%20%20%20%20%20%3C/div%3E%60%2C%0A%20%20%20%20%20%20%20%20%20%20%20%20%20%20%20%20%7B%22sticky%22%3A%20true%7D%0A%20%20%20%20%20%20%20%20%20%20%20%20%29%3B%0A%20%20%20%20%20%20%20%20%0A%20%20%20%20%0A%20%20%20%20%20%20%20%20%20%20%20%20var%20marker_42d6e21f4b884df59209271e2d31d736%20%3D%20L.marker%28%0A%20%20%20%20%20%20%20%20%20%20%20%20%20%20%20%20%5B41.9002501%2C%20-87.6250781%5D%2C%0A%20%20%20%20%20%20%20%20%20%20%20%20%20%20%20%20%7B%7D%0A%20%20%20%20%20%20%20%20%20%20%20%20%29.addTo%28map_29a1928139fb4af2831384dd6ff20e6c%29%3B%0A%20%20%20%20%20%20%20%20%0A%20%20%20%20%0A%20%20%20%20%20%20%20%20%20%20%20%20var%20icon_df1ddd11d9fb4caba0f3de3d904c5044%20%3D%20L.AwesomeMarkers.icon%28%0A%20%20%20%20%20%20%20%20%20%20%20%20%20%20%20%20%7B%22extraClasses%22%3A%20%22fa-rotate-0%22%2C%20%22icon%22%3A%20%22coffee%22%2C%20%22iconColor%22%3A%20%22white%22%2C%20%22markerColor%22%3A%20%22blue%22%2C%20%22prefix%22%3A%20%22fa%22%7D%0A%20%20%20%20%20%20%20%20%20%20%20%20%29%3B%0A%20%20%20%20%20%20%20%20%20%20%20%20marker_42d6e21f4b884df59209271e2d31d736.setIcon%28icon_df1ddd11d9fb4caba0f3de3d904c5044%29%3B%0A%20%20%20%20%20%20%20%20%0A%20%20%20%20%0A%20%20%20%20%20%20%20%20var%20popup_baa6803a7df64465858c1aa432d5c856%20%3D%20L.popup%28%7B%22maxWidth%22%3A%20%22100%25%22%7D%29%3B%0A%0A%20%20%20%20%20%20%20%20%0A%20%20%20%20%20%20%20%20%20%20%20%20var%20html_01e5d95a2067406faa773778563be378%20%3D%20%24%28%60%3Cdiv%20id%3D%22html_01e5d95a2067406faa773778563be378%22%20style%3D%22width%3A%20100.0%25%3B%20height%3A%20100.0%25%3B%22%3EHendrickx%20Belgian%20Bread%20Crafter%3C/div%3E%60%29%5B0%5D%3B%0A%20%20%20%20%20%20%20%20%20%20%20%20popup_baa6803a7df64465858c1aa432d5c856.setContent%28html_01e5d95a2067406faa773778563be378%29%3B%0A%20%20%20%20%20%20%20%20%0A%0A%20%20%20%20%20%20%20%20marker_42d6e21f4b884df59209271e2d31d736.bindPopup%28popup_baa6803a7df64465858c1aa432d5c856%29%0A%20%20%20%20%20%20%20%20%3B%0A%0A%20%20%20%20%20%20%20%20%0A%20%20%20%20%0A%20%20%20%20%0A%20%20%20%20%20%20%20%20%20%20%20%20marker_42d6e21f4b884df59209271e2d31d736.bindTooltip%28%0A%20%20%20%20%20%20%20%20%20%20%20%20%20%20%20%20%60%3Cdiv%3E%0A%20%20%20%20%20%20%20%20%20%20%20%20%20%20%20%20%20%20%20%20%20%20100%20E.%20Walton%20St%0A%20%20%20%20%20%20%20%20%20%20%20%20%20%20%20%20%20%3C/div%3E%60%2C%0A%20%20%20%20%20%20%20%20%20%20%20%20%20%20%20%20%7B%22sticky%22%3A%20true%7D%0A%20%20%20%20%20%20%20%20%20%20%20%20%29%3B%0A%20%20%20%20%20%20%20%20%0A%20%20%20%20%0A%20%20%20%20%20%20%20%20%20%20%20%20var%20marker_46d2980a04704438b4a5765f66090638%20%3D%20L.marker%28%0A%20%20%20%20%20%20%20%20%20%20%20%20%20%20%20%20%5B41.8590541%2C%20-87.6252007%5D%2C%0A%20%20%20%20%20%20%20%20%20%20%20%20%20%20%20%20%7B%7D%0A%20%20%20%20%20%20%20%20%20%20%20%20%29.addTo%28map_29a1928139fb4af2831384dd6ff20e6c%29%3B%0A%20%20%20%20%20%20%20%20%0A%20%20%20%20%0A%20%20%20%20%20%20%20%20%20%20%20%20var%20icon_205c5b091f764ceda653393bada39bd1%20%3D%20L.AwesomeMarkers.icon%28%0A%20%20%20%20%20%20%20%20%20%20%20%20%20%20%20%20%7B%22extraClasses%22%3A%20%22fa-rotate-0%22%2C%20%22icon%22%3A%20%22coffee%22%2C%20%22iconColor%22%3A%20%22white%22%2C%20%22markerColor%22%3A%20%22blue%22%2C%20%22prefix%22%3A%20%22fa%22%7D%0A%20%20%20%20%20%20%20%20%20%20%20%20%29%3B%0A%20%20%20%20%20%20%20%20%20%20%20%20marker_46d2980a04704438b4a5765f66090638.setIcon%28icon_205c5b091f764ceda653393bada39bd1%29%3B%0A%20%20%20%20%20%20%20%20%0A%20%20%20%20%0A%20%20%20%20%20%20%20%20var%20popup_29f9700d6554498db6ba96d46f400402%20%3D%20L.popup%28%7B%22maxWidth%22%3A%20%22100%25%22%7D%29%3B%0A%0A%20%20%20%20%20%20%20%20%0A%20%20%20%20%20%20%20%20%20%20%20%20var%20html_706dc7c1a9cd49239300f31a8ecb8cf1%20%3D%20%24%28%60%3Cdiv%20id%3D%22html_706dc7c1a9cd49239300f31a8ecb8cf1%22%20style%3D%22width%3A%20100.0%25%3B%20height%3A%20100.0%25%3B%22%3EAcadia%3C/div%3E%60%29%5B0%5D%3B%0A%20%20%20%20%20%20%20%20%20%20%20%20popup_29f9700d6554498db6ba96d46f400402.setContent%28html_706dc7c1a9cd49239300f31a8ecb8cf1%29%3B%0A%20%20%20%20%20%20%20%20%0A%0A%20%20%20%20%20%20%20%20marker_46d2980a04704438b4a5765f66090638.bindPopup%28popup_29f9700d6554498db6ba96d46f400402%29%0A%20%20%20%20%20%20%20%20%3B%0A%0A%20%20%20%20%20%20%20%20%0A%20%20%20%20%0A%20%20%20%20%0A%20%20%20%20%20%20%20%20%20%20%20%20marker_46d2980a04704438b4a5765f66090638.bindTooltip%28%0A%20%20%20%20%20%20%20%20%20%20%20%20%20%20%20%20%60%3Cdiv%3E%0A%20%20%20%20%20%20%20%20%20%20%20%20%20%20%20%20%20%20%20%20%201639%20S.%20Wabash%20Ave%0A%20%20%20%20%20%20%20%20%20%20%20%20%20%20%20%20%20%3C/div%3E%60%2C%0A%20%20%20%20%20%20%20%20%20%20%20%20%20%20%20%20%7B%22sticky%22%3A%20true%7D%0A%20%20%20%20%20%20%20%20%20%20%20%20%29%3B%0A%20%20%20%20%20%20%20%20%0A%20%20%20%20%0A%20%20%20%20%20%20%20%20%20%20%20%20var%20marker_d0fc932596c6414999cd2774131b96f6%20%3D%20L.marker%28%0A%20%20%20%20%20%20%20%20%20%20%20%20%20%20%20%20%5B41.9102031%2C%20-87.68287529999999%5D%2C%0A%20%20%20%20%20%20%20%20%20%20%20%20%20%20%20%20%7B%7D%0A%20%20%20%20%20%20%20%20%20%20%20%20%29.addTo%28map_29a1928139fb4af2831384dd6ff20e6c%29%3B%0A%20%20%20%20%20%20%20%20%0A%20%20%20%20%0A%20%20%20%20%20%20%20%20%20%20%20%20var%20icon_bd1346a6bc5349a8a27fce24c039794e%20%3D%20L.AwesomeMarkers.icon%28%0A%20%20%20%20%20%20%20%20%20%20%20%20%20%20%20%20%7B%22extraClasses%22%3A%20%22fa-rotate-0%22%2C%20%22icon%22%3A%20%22coffee%22%2C%20%22iconColor%22%3A%20%22white%22%2C%20%22markerColor%22%3A%20%22blue%22%2C%20%22prefix%22%3A%20%22fa%22%7D%0A%20%20%20%20%20%20%20%20%20%20%20%20%29%3B%0A%20%20%20%20%20%20%20%20%20%20%20%20marker_d0fc932596c6414999cd2774131b96f6.setIcon%28icon_bd1346a6bc5349a8a27fce24c039794e%29%3B%0A%20%20%20%20%20%20%20%20%0A%20%20%20%20%0A%20%20%20%20%20%20%20%20var%20popup_8b90fb54c01c4e5d83fb22c164647b3f%20%3D%20L.popup%28%7B%22maxWidth%22%3A%20%22100%25%22%7D%29%3B%0A%0A%20%20%20%20%20%20%20%20%0A%20%20%20%20%20%20%20%20%20%20%20%20var%20html_b11afc50454c41ec9072544d81bf4457%20%3D%20%24%28%60%3Cdiv%20id%3D%22html_b11afc50454c41ec9072544d81bf4457%22%20style%3D%22width%3A%20100.0%25%3B%20height%3A%20100.0%25%3B%22%3EBirchwood%20Kitchen%3C/div%3E%60%29%5B0%5D%3B%0A%20%20%20%20%20%20%20%20%20%20%20%20popup_8b90fb54c01c4e5d83fb22c164647b3f.setContent%28html_b11afc50454c41ec9072544d81bf4457%29%3B%0A%20%20%20%20%20%20%20%20%0A%0A%20%20%20%20%20%20%20%20marker_d0fc932596c6414999cd2774131b96f6.bindPopup%28popup_8b90fb54c01c4e5d83fb22c164647b3f%29%0A%20%20%20%20%20%20%20%20%3B%0A%0A%20%20%20%20%20%20%20%20%0A%20%20%20%20%0A%20%20%20%20%0A%20%20%20%20%20%20%20%20%20%20%20%20marker_d0fc932596c6414999cd2774131b96f6.bindTooltip%28%0A%20%20%20%20%20%20%20%20%20%20%20%20%20%20%20%20%60%3Cdiv%3E%0A%20%20%20%20%20%20%20%20%20%20%20%20%20%20%20%20%20%20%20%20%202211%20W.%20North%20Ave%0A%20%20%20%20%20%20%20%20%20%20%20%20%20%20%20%20%20%3C/div%3E%60%2C%0A%20%20%20%20%20%20%20%20%20%20%20%20%20%20%20%20%7B%22sticky%22%3A%20true%7D%0A%20%20%20%20%20%20%20%20%20%20%20%20%29%3B%0A%20%20%20%20%20%20%20%20%0A%20%20%20%20%0A%20%20%20%20%20%20%20%20%20%20%20%20var%20marker_5d242454365d40d7bc25e04fac1b3966%20%3D%20L.marker%28%0A%20%20%20%20%20%20%20%20%20%20%20%20%20%20%20%20%5B41.9097558%2C%20-87.7176727%5D%2C%0A%20%20%20%20%20%20%20%20%20%20%20%20%20%20%20%20%7B%7D%0A%20%20%20%20%20%20%20%20%20%20%20%20%29.addTo%28map_29a1928139fb4af2831384dd6ff20e6c%29%3B%0A%20%20%20%20%20%20%20%20%0A%20%20%20%20%0A%20%20%20%20%20%20%20%20%20%20%20%20var%20icon_ea7d2b28df8f42f0a8c831626d8c043a%20%3D%20L.AwesomeMarkers.icon%28%0A%20%20%20%20%20%20%20%20%20%20%20%20%20%20%20%20%7B%22extraClasses%22%3A%20%22fa-rotate-0%22%2C%20%22icon%22%3A%20%22coffee%22%2C%20%22iconColor%22%3A%20%22white%22%2C%20%22markerColor%22%3A%20%22blue%22%2C%20%22prefix%22%3A%20%22fa%22%7D%0A%20%20%20%20%20%20%20%20%20%20%20%20%29%3B%0A%20%20%20%20%20%20%20%20%20%20%20%20marker_5d242454365d40d7bc25e04fac1b3966.setIcon%28icon_ea7d2b28df8f42f0a8c831626d8c043a%29%3B%0A%20%20%20%20%20%20%20%20%0A%20%20%20%20%0A%20%20%20%20%20%20%20%20var%20popup_c5a365be604e48e785ba851dd2fc7c9e%20%3D%20L.popup%28%7B%22maxWidth%22%3A%20%22100%25%22%7D%29%3B%0A%0A%20%20%20%20%20%20%20%20%0A%20%20%20%20%20%20%20%20%20%20%20%20var%20html_3d5d24ab246b4749bf682ed0605f8f53%20%3D%20%24%28%60%3Cdiv%20id%3D%22html_3d5d24ab246b4749bf682ed0605f8f53%22%20style%3D%22width%3A%20100.0%25%3B%20height%3A%20100.0%25%3B%22%3ECemitas%20Puebla%3C/div%3E%60%29%5B0%5D%3B%0A%20%20%20%20%20%20%20%20%20%20%20%20popup_c5a365be604e48e785ba851dd2fc7c9e.setContent%28html_3d5d24ab246b4749bf682ed0605f8f53%29%3B%0A%20%20%20%20%20%20%20%20%0A%0A%20%20%20%20%20%20%20%20marker_5d242454365d40d7bc25e04fac1b3966.bindPopup%28popup_c5a365be604e48e785ba851dd2fc7c9e%29%0A%20%20%20%20%20%20%20%20%3B%0A%0A%20%20%20%20%20%20%20%20%0A%20%20%20%20%0A%20%20%20%20%0A%20%20%20%20%20%20%20%20%20%20%20%20marker_5d242454365d40d7bc25e04fac1b3966.bindTooltip%28%0A%20%20%20%20%20%20%20%20%20%20%20%20%20%20%20%20%60%3Cdiv%3E%0A%20%20%20%20%20%20%20%20%20%20%20%20%20%20%20%20%20%20%20%20%203619%20W.%20North%20Ave%0A%20%20%20%20%20%20%20%20%20%20%20%20%20%20%20%20%20%3C/div%3E%60%2C%0A%20%20%20%20%20%20%20%20%20%20%20%20%20%20%20%20%7B%22sticky%22%3A%20true%7D%0A%20%20%20%20%20%20%20%20%20%20%20%20%29%3B%0A%20%20%20%20%20%20%20%20%0A%20%20%20%20%0A%20%20%20%20%20%20%20%20%20%20%20%20var%20marker_b7d60e09614d4068a74ee10e3e159e25%20%3D%20L.marker%28%0A%20%20%20%20%20%20%20%20%20%20%20%20%20%20%20%20%5B41.8345302%2C%20-87.6456492%5D%2C%0A%20%20%20%20%20%20%20%20%20%20%20%20%20%20%20%20%7B%7D%0A%20%20%20%20%20%20%20%20%20%20%20%20%29.addTo%28map_29a1928139fb4af2831384dd6ff20e6c%29%3B%0A%20%20%20%20%20%20%20%20%0A%20%20%20%20%0A%20%20%20%20%20%20%20%20%20%20%20%20var%20icon_c605cd382fb943c996de3980297d8477%20%3D%20L.AwesomeMarkers.icon%28%0A%20%20%20%20%20%20%20%20%20%20%20%20%20%20%20%20%7B%22extraClasses%22%3A%20%22fa-rotate-0%22%2C%20%22icon%22%3A%20%22coffee%22%2C%20%22iconColor%22%3A%20%22white%22%2C%20%22markerColor%22%3A%20%22blue%22%2C%20%22prefix%22%3A%20%22fa%22%7D%0A%20%20%20%20%20%20%20%20%20%20%20%20%29%3B%0A%20%20%20%20%20%20%20%20%20%20%20%20marker_b7d60e09614d4068a74ee10e3e159e25.setIcon%28icon_c605cd382fb943c996de3980297d8477%29%3B%0A%20%20%20%20%20%20%20%20%0A%20%20%20%20%0A%20%20%20%20%20%20%20%20var%20popup_a1d85d1497cc49958f1b1f3ca929c0dd%20%3D%20L.popup%28%7B%22maxWidth%22%3A%20%22100%25%22%7D%29%3B%0A%0A%20%20%20%20%20%20%20%20%0A%20%20%20%20%20%20%20%20%20%20%20%20var%20html_a5c9cb20683748ed86323f600fef602a%20%3D%20%24%28%60%3Cdiv%20id%3D%22html_a5c9cb20683748ed86323f600fef602a%22%20style%3D%22width%3A%20100.0%25%3B%20height%3A%20100.0%25%3B%22%3ENana%3C/div%3E%60%29%5B0%5D%3B%0A%20%20%20%20%20%20%20%20%20%20%20%20popup_a1d85d1497cc49958f1b1f3ca929c0dd.setContent%28html_a5c9cb20683748ed86323f600fef602a%29%3B%0A%20%20%20%20%20%20%20%20%0A%0A%20%20%20%20%20%20%20%20marker_b7d60e09614d4068a74ee10e3e159e25.bindPopup%28popup_a1d85d1497cc49958f1b1f3ca929c0dd%29%0A%20%20%20%20%20%20%20%20%3B%0A%0A%20%20%20%20%20%20%20%20%0A%20%20%20%20%0A%20%20%20%20%0A%20%20%20%20%20%20%20%20%20%20%20%20marker_b7d60e09614d4068a74ee10e3e159e25.bindTooltip%28%0A%20%20%20%20%20%20%20%20%20%20%20%20%20%20%20%20%60%3Cdiv%3E%0A%20%20%20%20%20%20%20%20%20%20%20%20%20%20%20%20%20%20%20%20%203267%20S.%20Halsted%20St%0A%20%20%20%20%20%20%20%20%20%20%20%20%20%20%20%20%20%3C/div%3E%60%2C%0A%20%20%20%20%20%20%20%20%20%20%20%20%20%20%20%20%7B%22sticky%22%3A%20true%7D%0A%20%20%20%20%20%20%20%20%20%20%20%20%29%3B%0A%20%20%20%20%20%20%20%20%0A%20%20%20%20%0A%20%20%20%20%20%20%20%20%20%20%20%20var%20marker_355d09f454614503b3a119e9da5ec5b1%20%3D%20L.marker%28%0A%20%20%20%20%20%20%20%20%20%20%20%20%20%20%20%20%5B41.9276207%2C%20-87.706792%5D%2C%0A%20%20%20%20%20%20%20%20%20%20%20%20%20%20%20%20%7B%7D%0A%20%20%20%20%20%20%20%20%20%20%20%20%29.addTo%28map_29a1928139fb4af2831384dd6ff20e6c%29%3B%0A%20%20%20%20%20%20%20%20%0A%20%20%20%20%0A%20%20%20%20%20%20%20%20%20%20%20%20var%20icon_3b1a7c6569d148f2971e1490f9269ef2%20%3D%20L.AwesomeMarkers.icon%28%0A%20%20%20%20%20%20%20%20%20%20%20%20%20%20%20%20%7B%22extraClasses%22%3A%20%22fa-rotate-0%22%2C%20%22icon%22%3A%20%22coffee%22%2C%20%22iconColor%22%3A%20%22white%22%2C%20%22markerColor%22%3A%20%22blue%22%2C%20%22prefix%22%3A%20%22fa%22%7D%0A%20%20%20%20%20%20%20%20%20%20%20%20%29%3B%0A%20%20%20%20%20%20%20%20%20%20%20%20marker_355d09f454614503b3a119e9da5ec5b1.setIcon%28icon_3b1a7c6569d148f2971e1490f9269ef2%29%3B%0A%20%20%20%20%20%20%20%20%0A%20%20%20%20%0A%20%20%20%20%20%20%20%20var%20popup_902bf316466b4a4aad381ed4fba9d723%20%3D%20L.popup%28%7B%22maxWidth%22%3A%20%22100%25%22%7D%29%3B%0A%0A%20%20%20%20%20%20%20%20%0A%20%20%20%20%20%20%20%20%20%20%20%20var%20html_798db7185a2f405ab2d2865ab6a7306d%20%3D%20%24%28%60%3Cdiv%20id%3D%22html_798db7185a2f405ab2d2865ab6a7306d%22%20style%3D%22width%3A%20100.0%25%3B%20height%3A%20100.0%25%3B%22%3ELula%20Cafe%3C/div%3E%60%29%5B0%5D%3B%0A%20%20%20%20%20%20%20%20%20%20%20%20popup_902bf316466b4a4aad381ed4fba9d723.setContent%28html_798db7185a2f405ab2d2865ab6a7306d%29%3B%0A%20%20%20%20%20%20%20%20%0A%0A%20%20%20%20%20%20%20%20marker_355d09f454614503b3a119e9da5ec5b1.bindPopup%28popup_902bf316466b4a4aad381ed4fba9d723%29%0A%20%20%20%20%20%20%20%20%3B%0A%0A%20%20%20%20%20%20%20%20%0A%20%20%20%20%0A%20%20%20%20%0A%20%20%20%20%20%20%20%20%20%20%20%20marker_355d09f454614503b3a119e9da5ec5b1.bindTooltip%28%0A%20%20%20%20%20%20%20%20%20%20%20%20%20%20%20%20%60%3Cdiv%3E%0A%20%20%20%20%20%20%20%20%20%20%20%20%20%20%20%20%20%20%20%20%202537%20N.%20Kedzie%20Blvd%0A%20%20%20%20%20%20%20%20%20%20%20%20%20%20%20%20%20%3C/div%3E%60%2C%0A%20%20%20%20%20%20%20%20%20%20%20%20%20%20%20%20%7B%22sticky%22%3A%20true%7D%0A%20%20%20%20%20%20%20%20%20%20%20%20%29%3B%0A%20%20%20%20%20%20%20%20%0A%20%20%20%20%0A%20%20%20%20%20%20%20%20%20%20%20%20var%20marker_5877f9bbd5624a4f84e2c9f8d8f0ab6f%20%3D%20L.marker%28%0A%20%20%20%20%20%20%20%20%20%20%20%20%20%20%20%20%5B41.8781136%2C%20-87.6297982%5D%2C%0A%20%20%20%20%20%20%20%20%20%20%20%20%20%20%20%20%7B%7D%0A%20%20%20%20%20%20%20%20%20%20%20%20%29.addTo%28map_29a1928139fb4af2831384dd6ff20e6c%29%3B%0A%20%20%20%20%20%20%20%20%0A%20%20%20%20%0A%20%20%20%20%20%20%20%20%20%20%20%20var%20icon_bcfc47fef52e4109906ae4a4940c893b%20%3D%20L.AwesomeMarkers.icon%28%0A%20%20%20%20%20%20%20%20%20%20%20%20%20%20%20%20%7B%22extraClasses%22%3A%20%22fa-rotate-0%22%2C%20%22icon%22%3A%20%22coffee%22%2C%20%22iconColor%22%3A%20%22white%22%2C%20%22markerColor%22%3A%20%22blue%22%2C%20%22prefix%22%3A%20%22fa%22%7D%0A%20%20%20%20%20%20%20%20%20%20%20%20%29%3B%0A%20%20%20%20%20%20%20%20%20%20%20%20marker_5877f9bbd5624a4f84e2c9f8d8f0ab6f.setIcon%28icon_bcfc47fef52e4109906ae4a4940c893b%29%3B%0A%20%20%20%20%20%20%20%20%0A%20%20%20%20%0A%20%20%20%20%20%20%20%20var%20popup_9598ea1c16c448c18f2075e46e14415c%20%3D%20L.popup%28%7B%22maxWidth%22%3A%20%22100%25%22%7D%29%3B%0A%0A%20%20%20%20%20%20%20%20%0A%20%20%20%20%20%20%20%20%20%20%20%20var%20html_0ba6dde2bb05418a975e5d01f157f719%20%3D%20%24%28%60%3Cdiv%20id%3D%22html_0ba6dde2bb05418a975e5d01f157f719%22%20style%3D%22width%3A%20100.0%25%3B%20height%3A%20100.0%25%3B%22%3ERicobene%E2%80%99s%3C/div%3E%60%29%5B0%5D%3B%0A%20%20%20%20%20%20%20%20%20%20%20%20popup_9598ea1c16c448c18f2075e46e14415c.setContent%28html_0ba6dde2bb05418a975e5d01f157f719%29%3B%0A%20%20%20%20%20%20%20%20%0A%0A%20%20%20%20%20%20%20%20marker_5877f9bbd5624a4f84e2c9f8d8f0ab6f.bindPopup%28popup_9598ea1c16c448c18f2075e46e14415c%29%0A%20%20%20%20%20%20%20%20%3B%0A%0A%20%20%20%20%20%20%20%20%0A%20%20%20%20%0A%20%20%20%20%0A%20%20%20%20%20%20%20%20%20%20%20%20marker_5877f9bbd5624a4f84e2c9f8d8f0ab6f.bindTooltip%28%0A%20%20%20%20%20%20%20%20%20%20%20%20%20%20%20%20%60%3Cdiv%3E%0A%20%20%20%20%20%20%20%20%20%20%20%20%20%20%20%20%20%20%20%20%20%20Multiple%20location%0A%20%20%20%20%20%20%20%20%20%20%20%20%20%20%20%20%20%3C/div%3E%60%2C%0A%20%20%20%20%20%20%20%20%20%20%20%20%20%20%20%20%7B%22sticky%22%3A%20true%7D%0A%20%20%20%20%20%20%20%20%20%20%20%20%29%3B%0A%20%20%20%20%20%20%20%20%0A%20%20%20%20%0A%20%20%20%20%20%20%20%20%20%20%20%20var%20marker_00528d21492b4101a7b73551aeb3df3f%20%3D%20L.marker%28%0A%20%20%20%20%20%20%20%20%20%20%20%20%20%20%20%20%5B41.9384419%2C%20-87.64464369999999%5D%2C%0A%20%20%20%20%20%20%20%20%20%20%20%20%20%20%20%20%7B%7D%0A%20%20%20%20%20%20%20%20%20%20%20%20%29.addTo%28map_29a1928139fb4af2831384dd6ff20e6c%29%3B%0A%20%20%20%20%20%20%20%20%0A%20%20%20%20%0A%20%20%20%20%20%20%20%20%20%20%20%20var%20icon_cf7a26c75ec1444b84b7601a324986ae%20%3D%20L.AwesomeMarkers.icon%28%0A%20%20%20%20%20%20%20%20%20%20%20%20%20%20%20%20%7B%22extraClasses%22%3A%20%22fa-rotate-0%22%2C%20%22icon%22%3A%20%22coffee%22%2C%20%22iconColor%22%3A%20%22white%22%2C%20%22markerColor%22%3A%20%22blue%22%2C%20%22prefix%22%3A%20%22fa%22%7D%0A%20%20%20%20%20%20%20%20%20%20%20%20%29%3B%0A%20%20%20%20%20%20%20%20%20%20%20%20marker_00528d21492b4101a7b73551aeb3df3f.setIcon%28icon_cf7a26c75ec1444b84b7601a324986ae%29%3B%0A%20%20%20%20%20%20%20%20%0A%20%20%20%20%0A%20%20%20%20%20%20%20%20var%20popup_72fcdf2c335a45d3a04bd52b205fa03b%20%3D%20L.popup%28%7B%22maxWidth%22%3A%20%22100%25%22%7D%29%3B%0A%0A%20%20%20%20%20%20%20%20%0A%20%20%20%20%20%20%20%20%20%20%20%20var%20html_55a0e30949ca4886ab3cca41954d5915%20%3D%20%24%28%60%3Cdiv%20id%3D%22html_55a0e30949ca4886ab3cca41954d5915%22%20style%3D%22width%3A%20100.0%25%3B%20height%3A%20100.0%25%3B%22%3EFrog%20n%20Snail%3C/div%3E%60%29%5B0%5D%3B%0A%20%20%20%20%20%20%20%20%20%20%20%20popup_72fcdf2c335a45d3a04bd52b205fa03b.setContent%28html_55a0e30949ca4886ab3cca41954d5915%29%3B%0A%20%20%20%20%20%20%20%20%0A%0A%20%20%20%20%20%20%20%20marker_00528d21492b4101a7b73551aeb3df3f.bindPopup%28popup_72fcdf2c335a45d3a04bd52b205fa03b%29%0A%20%20%20%20%20%20%20%20%3B%0A%0A%20%20%20%20%20%20%20%20%0A%20%20%20%20%0A%20%20%20%20%0A%20%20%20%20%20%20%20%20%20%20%20%20marker_00528d21492b4101a7b73551aeb3df3f.bindTooltip%28%0A%20%20%20%20%20%20%20%20%20%20%20%20%20%20%20%20%60%3Cdiv%3E%0A%20%20%20%20%20%20%20%20%20%20%20%20%20%20%20%20%20%20%20%20%203124%20N.%20Broadwa%0A%20%20%20%20%20%20%20%20%20%20%20%20%20%20%20%20%20%3C/div%3E%60%2C%0A%20%20%20%20%20%20%20%20%20%20%20%20%20%20%20%20%7B%22sticky%22%3A%20true%7D%0A%20%20%20%20%20%20%20%20%20%20%20%20%29%3B%0A%20%20%20%20%20%20%20%20%0A%20%20%20%20%0A%20%20%20%20%20%20%20%20%20%20%20%20var%20marker_15f6558a51db47e9989895a3511a660b%20%3D%20L.marker%28%0A%20%20%20%20%20%20%20%20%20%20%20%20%20%20%20%20%5B41.9451044%2C%20-87.6636812%5D%2C%0A%20%20%20%20%20%20%20%20%20%20%20%20%20%20%20%20%7B%7D%0A%20%20%20%20%20%20%20%20%20%20%20%20%29.addTo%28map_29a1928139fb4af2831384dd6ff20e6c%29%3B%0A%20%20%20%20%20%20%20%20%0A%20%20%20%20%0A%20%20%20%20%20%20%20%20%20%20%20%20var%20icon_f60d5d1eb6d74b90ae46f8777d21507d%20%3D%20L.AwesomeMarkers.icon%28%0A%20%20%20%20%20%20%20%20%20%20%20%20%20%20%20%20%7B%22extraClasses%22%3A%20%22fa-rotate-0%22%2C%20%22icon%22%3A%20%22coffee%22%2C%20%22iconColor%22%3A%20%22white%22%2C%20%22markerColor%22%3A%20%22blue%22%2C%20%22prefix%22%3A%20%22fa%22%7D%0A%20%20%20%20%20%20%20%20%20%20%20%20%29%3B%0A%20%20%20%20%20%20%20%20%20%20%20%20marker_15f6558a51db47e9989895a3511a660b.setIcon%28icon_f60d5d1eb6d74b90ae46f8777d21507d%29%3B%0A%20%20%20%20%20%20%20%20%0A%20%20%20%20%0A%20%20%20%20%20%20%20%20var%20popup_4c6d846fd3904875b830ecf222f9fedc%20%3D%20L.popup%28%7B%22maxWidth%22%3A%20%22100%25%22%7D%29%3B%0A%0A%20%20%20%20%20%20%20%20%0A%20%20%20%20%20%20%20%20%20%20%20%20var%20html_bef37102f0344ac3a1b8b2b6000bf169%20%3D%20%24%28%60%3Cdiv%20id%3D%22html_bef37102f0344ac3a1b8b2b6000bf169%22%20style%3D%22width%3A%20100.0%25%3B%20height%3A%20100.0%25%3B%22%3ECrosby%E2%80%99s%20Kitchen%3C/div%3E%60%29%5B0%5D%3B%0A%20%20%20%20%20%20%20%20%20%20%20%20popup_4c6d846fd3904875b830ecf222f9fedc.setContent%28html_bef37102f0344ac3a1b8b2b6000bf169%29%3B%0A%20%20%20%20%20%20%20%20%0A%0A%20%20%20%20%20%20%20%20marker_15f6558a51db47e9989895a3511a660b.bindPopup%28popup_4c6d846fd3904875b830ecf222f9fedc%29%0A%20%20%20%20%20%20%20%20%3B%0A%0A%20%20%20%20%20%20%20%20%0A%20%20%20%20%0A%20%20%20%20%0A%20%20%20%20%20%20%20%20%20%20%20%20marker_15f6558a51db47e9989895a3511a660b.bindTooltip%28%0A%20%20%20%20%20%20%20%20%20%20%20%20%20%20%20%20%60%3Cdiv%3E%0A%20%20%20%20%20%20%20%20%20%20%20%20%20%20%20%20%20%20%20%20%203455%20N.%20Southport%20Ave%0A%20%20%20%20%20%20%20%20%20%20%20%20%20%20%20%20%20%3C/div%3E%60%2C%0A%20%20%20%20%20%20%20%20%20%20%20%20%20%20%20%20%7B%22sticky%22%3A%20true%7D%0A%20%20%20%20%20%20%20%20%20%20%20%20%29%3B%0A%20%20%20%20%20%20%20%20%0A%20%20%20%20%0A%20%20%20%20%20%20%20%20%20%20%20%20var%20marker_a283bcccefe442bfbf03f30115223888%20%3D%20L.marker%28%0A%20%20%20%20%20%20%20%20%20%20%20%20%20%20%20%20%5B41.930109%2C%20-87.7072408%5D%2C%0A%20%20%20%20%20%20%20%20%20%20%20%20%20%20%20%20%7B%7D%0A%20%20%20%20%20%20%20%20%20%20%20%20%29.addTo%28map_29a1928139fb4af2831384dd6ff20e6c%29%3B%0A%20%20%20%20%20%20%20%20%0A%20%20%20%20%0A%20%20%20%20%20%20%20%20%20%20%20%20var%20icon_70bff1134d3445a780776f899f503c47%20%3D%20L.AwesomeMarkers.icon%28%0A%20%20%20%20%20%20%20%20%20%20%20%20%20%20%20%20%7B%22extraClasses%22%3A%20%22fa-rotate-0%22%2C%20%22icon%22%3A%20%22coffee%22%2C%20%22iconColor%22%3A%20%22white%22%2C%20%22markerColor%22%3A%20%22blue%22%2C%20%22prefix%22%3A%20%22fa%22%7D%0A%20%20%20%20%20%20%20%20%20%20%20%20%29%3B%0A%20%20%20%20%20%20%20%20%20%20%20%20marker_a283bcccefe442bfbf03f30115223888.setIcon%28icon_70bff1134d3445a780776f899f503c47%29%3B%0A%20%20%20%20%20%20%20%20%0A%20%20%20%20%0A%20%20%20%20%20%20%20%20var%20popup_f0fbc4d2ba304ec787d99ecb198df6ba%20%3D%20L.popup%28%7B%22maxWidth%22%3A%20%22100%25%22%7D%29%3B%0A%0A%20%20%20%20%20%20%20%20%0A%20%20%20%20%20%20%20%20%20%20%20%20var%20html_3c360e4117b540d59217a67be9e47889%20%3D%20%24%28%60%3Cdiv%20id%3D%22html_3c360e4117b540d59217a67be9e47889%22%20style%3D%22width%3A%20100.0%25%3B%20height%3A%20100.0%25%3B%22%3ELongman%20%26%20Eagle%3C/div%3E%60%29%5B0%5D%3B%0A%20%20%20%20%20%20%20%20%20%20%20%20popup_f0fbc4d2ba304ec787d99ecb198df6ba.setContent%28html_3c360e4117b540d59217a67be9e47889%29%3B%0A%20%20%20%20%20%20%20%20%0A%0A%20%20%20%20%20%20%20%20marker_a283bcccefe442bfbf03f30115223888.bindPopup%28popup_f0fbc4d2ba304ec787d99ecb198df6ba%29%0A%20%20%20%20%20%20%20%20%3B%0A%0A%20%20%20%20%20%20%20%20%0A%20%20%20%20%0A%20%20%20%20%0A%20%20%20%20%20%20%20%20%20%20%20%20marker_a283bcccefe442bfbf03f30115223888.bindTooltip%28%0A%20%20%20%20%20%20%20%20%20%20%20%20%20%20%20%20%60%3Cdiv%3E%0A%20%20%20%20%20%20%20%20%20%20%20%20%20%20%20%20%20%20%20%20%202657%20N.%20Kedzie%20Ave%0A%20%20%20%20%20%20%20%20%20%20%20%20%20%20%20%20%20%3C/div%3E%60%2C%0A%20%20%20%20%20%20%20%20%20%20%20%20%20%20%20%20%7B%22sticky%22%3A%20true%7D%0A%20%20%20%20%20%20%20%20%20%20%20%20%29%3B%0A%20%20%20%20%20%20%20%20%0A%20%20%20%20%0A%20%20%20%20%20%20%20%20%20%20%20%20var%20marker_9967ee226ce04f1087b087965bca88c3%20%3D%20L.marker%28%0A%20%20%20%20%20%20%20%20%20%20%20%20%20%20%20%20%5B41.8912971%2C%20-87.6555453%5D%2C%0A%20%20%20%20%20%20%20%20%20%20%20%20%20%20%20%20%7B%7D%0A%20%20%20%20%20%20%20%20%20%20%20%20%29.addTo%28map_29a1928139fb4af2831384dd6ff20e6c%29%3B%0A%20%20%20%20%20%20%20%20%0A%20%20%20%20%0A%20%20%20%20%20%20%20%20%20%20%20%20var%20icon_62adb10580144f17bdb7e5ed840975a0%20%3D%20L.AwesomeMarkers.icon%28%0A%20%20%20%20%20%20%20%20%20%20%20%20%20%20%20%20%7B%22extraClasses%22%3A%20%22fa-rotate-0%22%2C%20%22icon%22%3A%20%22coffee%22%2C%20%22iconColor%22%3A%20%22white%22%2C%20%22markerColor%22%3A%20%22blue%22%2C%20%22prefix%22%3A%20%22fa%22%7D%0A%20%20%20%20%20%20%20%20%20%20%20%20%29%3B%0A%20%20%20%20%20%20%20%20%20%20%20%20marker_9967ee226ce04f1087b087965bca88c3.setIcon%28icon_62adb10580144f17bdb7e5ed840975a0%29%3B%0A%20%20%20%20%20%20%20%20%0A%20%20%20%20%0A%20%20%20%20%20%20%20%20var%20popup_b4eb776f2ae34eba8f7d750c75f7f616%20%3D%20L.popup%28%7B%22maxWidth%22%3A%20%22100%25%22%7D%29%3B%0A%0A%20%20%20%20%20%20%20%20%0A%20%20%20%20%20%20%20%20%20%20%20%20var%20html_3915cfd0e61a4aeab0272ab925b33a38%20%3D%20%24%28%60%3Cdiv%20id%3D%22html_3915cfd0e61a4aeab0272ab925b33a38%22%20style%3D%22width%3A%20100.0%25%3B%20height%3A%20100.0%25%3B%22%3EBari%3C/div%3E%60%29%5B0%5D%3B%0A%20%20%20%20%20%20%20%20%20%20%20%20popup_b4eb776f2ae34eba8f7d750c75f7f616.setContent%28html_3915cfd0e61a4aeab0272ab925b33a38%29%3B%0A%20%20%20%20%20%20%20%20%0A%0A%20%20%20%20%20%20%20%20marker_9967ee226ce04f1087b087965bca88c3.bindPopup%28popup_b4eb776f2ae34eba8f7d750c75f7f616%29%0A%20%20%20%20%20%20%20%20%3B%0A%0A%20%20%20%20%20%20%20%20%0A%20%20%20%20%0A%20%20%20%20%0A%20%20%20%20%20%20%20%20%20%20%20%20marker_9967ee226ce04f1087b087965bca88c3.bindTooltip%28%0A%20%20%20%20%20%20%20%20%20%20%20%20%20%20%20%20%60%3Cdiv%3E%0A%20%20%20%20%20%20%20%20%20%20%20%20%20%20%20%20%20%20%20%20%20%201120%20W.%20Grand%20Ave%0A%20%20%20%20%20%20%20%20%20%20%20%20%20%20%20%20%20%3C/div%3E%60%2C%0A%20%20%20%20%20%20%20%20%20%20%20%20%20%20%20%20%7B%22sticky%22%3A%20true%7D%0A%20%20%20%20%20%20%20%20%20%20%20%20%29%3B%0A%20%20%20%20%20%20%20%20%0A%20%20%20%20%0A%20%20%20%20%20%20%20%20%20%20%20%20var%20marker_d09c0dd878bf40bfba9214b02e804a5a%20%3D%20L.marker%28%0A%20%20%20%20%20%20%20%20%20%20%20%20%20%20%20%20%5B41.8678529%2C%20-87.6419289%5D%2C%0A%20%20%20%20%20%20%20%20%20%20%20%20%20%20%20%20%7B%7D%0A%20%20%20%20%20%20%20%20%20%20%20%20%29.addTo%28map_29a1928139fb4af2831384dd6ff20e6c%29%3B%0A%20%20%20%20%20%20%20%20%0A%20%20%20%20%0A%20%20%20%20%20%20%20%20%20%20%20%20var%20icon_81d47a45a0ab4e3f8a0b981e1acac697%20%3D%20L.AwesomeMarkers.icon%28%0A%20%20%20%20%20%20%20%20%20%20%20%20%20%20%20%20%7B%22extraClasses%22%3A%20%22fa-rotate-0%22%2C%20%22icon%22%3A%20%22coffee%22%2C%20%22iconColor%22%3A%20%22white%22%2C%20%22markerColor%22%3A%20%22blue%22%2C%20%22prefix%22%3A%20%22fa%22%7D%0A%20%20%20%20%20%20%20%20%20%20%20%20%29%3B%0A%20%20%20%20%20%20%20%20%20%20%20%20marker_d09c0dd878bf40bfba9214b02e804a5a.setIcon%28icon_81d47a45a0ab4e3f8a0b981e1acac697%29%3B%0A%20%20%20%20%20%20%20%20%0A%20%20%20%20%0A%20%20%20%20%20%20%20%20var%20popup_7784603c90ab45b4999f9532c3aea249%20%3D%20L.popup%28%7B%22maxWidth%22%3A%20%22100%25%22%7D%29%3B%0A%0A%20%20%20%20%20%20%20%20%0A%20%20%20%20%20%20%20%20%20%20%20%20var%20html_df1dafea4fd3411e9de038497ca12689%20%3D%20%24%28%60%3Cdiv%20id%3D%22html_df1dafea4fd3411e9de038497ca12689%22%20style%3D%22width%3A%20100.0%25%3B%20height%3A%20100.0%25%3B%22%3EManny%E2%80%99s%3C/div%3E%60%29%5B0%5D%3B%0A%20%20%20%20%20%20%20%20%20%20%20%20popup_7784603c90ab45b4999f9532c3aea249.setContent%28html_df1dafea4fd3411e9de038497ca12689%29%3B%0A%20%20%20%20%20%20%20%20%0A%0A%20%20%20%20%20%20%20%20marker_d09c0dd878bf40bfba9214b02e804a5a.bindPopup%28popup_7784603c90ab45b4999f9532c3aea249%29%0A%20%20%20%20%20%20%20%20%3B%0A%0A%20%20%20%20%20%20%20%20%0A%20%20%20%20%0A%20%20%20%20%0A%20%20%20%20%20%20%20%20%20%20%20%20marker_d09c0dd878bf40bfba9214b02e804a5a.bindTooltip%28%0A%20%20%20%20%20%20%20%20%20%20%20%20%20%20%20%20%60%3Cdiv%3E%0A%20%20%20%20%20%20%20%20%20%20%20%20%20%20%20%20%20%20%20%20%20%201141%20S.%20Jefferson%20St%0A%20%20%20%20%20%20%20%20%20%20%20%20%20%20%20%20%20%3C/div%3E%60%2C%0A%20%20%20%20%20%20%20%20%20%20%20%20%20%20%20%20%7B%22sticky%22%3A%20true%7D%0A%20%20%20%20%20%20%20%20%20%20%20%20%29%3B%0A%20%20%20%20%20%20%20%20%0A%20%20%20%20%0A%20%20%20%20%20%20%20%20%20%20%20%20var%20marker_0687a33b6433433592049c63e8c5914b%20%3D%20L.marker%28%0A%20%20%20%20%20%20%20%20%20%20%20%20%20%20%20%20%5B41.8852691%2C%20-87.6184837%5D%2C%0A%20%20%20%20%20%20%20%20%20%20%20%20%20%20%20%20%7B%7D%0A%20%20%20%20%20%20%20%20%20%20%20%20%29.addTo%28map_29a1928139fb4af2831384dd6ff20e6c%29%3B%0A%20%20%20%20%20%20%20%20%0A%20%20%20%20%0A%20%20%20%20%20%20%20%20%20%20%20%20var%20icon_dae96f3f578f44938f3ae46ab1eb1ac6%20%3D%20L.AwesomeMarkers.icon%28%0A%20%20%20%20%20%20%20%20%20%20%20%20%20%20%20%20%7B%22extraClasses%22%3A%20%22fa-rotate-0%22%2C%20%22icon%22%3A%20%22coffee%22%2C%20%22iconColor%22%3A%20%22white%22%2C%20%22markerColor%22%3A%20%22blue%22%2C%20%22prefix%22%3A%20%22fa%22%7D%0A%20%20%20%20%20%20%20%20%20%20%20%20%29%3B%0A%20%20%20%20%20%20%20%20%20%20%20%20marker_0687a33b6433433592049c63e8c5914b.setIcon%28icon_dae96f3f578f44938f3ae46ab1eb1ac6%29%3B%0A%20%20%20%20%20%20%20%20%0A%20%20%20%20%0A%20%20%20%20%20%20%20%20var%20popup_49bcfdef4a004307aebab79113c28250%20%3D%20L.popup%28%7B%22maxWidth%22%3A%20%22100%25%22%7D%29%3B%0A%0A%20%20%20%20%20%20%20%20%0A%20%20%20%20%20%20%20%20%20%20%20%20var%20html_b15b4e8706be4671a37209dfefacab3e%20%3D%20%24%28%60%3Cdiv%20id%3D%22html_b15b4e8706be4671a37209dfefacab3e%22%20style%3D%22width%3A%20100.0%25%3B%20height%3A%20100.0%25%3B%22%3EEggy%E2%80%99s%3C/div%3E%60%29%5B0%5D%3B%0A%20%20%20%20%20%20%20%20%20%20%20%20popup_49bcfdef4a004307aebab79113c28250.setContent%28html_b15b4e8706be4671a37209dfefacab3e%29%3B%0A%20%20%20%20%20%20%20%20%0A%0A%20%20%20%20%20%20%20%20marker_0687a33b6433433592049c63e8c5914b.bindPopup%28popup_49bcfdef4a004307aebab79113c28250%29%0A%20%20%20%20%20%20%20%20%3B%0A%0A%20%20%20%20%20%20%20%20%0A%20%20%20%20%0A%20%20%20%20%0A%20%20%20%20%20%20%20%20%20%20%20%20marker_0687a33b6433433592049c63e8c5914b.bindTooltip%28%0A%20%20%20%20%20%20%20%20%20%20%20%20%20%20%20%20%60%3Cdiv%3E%0A%20%20%20%20%20%20%20%20%20%20%20%20%20%20%20%20%20%20%20%20%20%20333%20E.%20Benton%20Pl%0A%20%20%20%20%20%20%20%20%20%20%20%20%20%20%20%20%20%3C/div%3E%60%2C%0A%20%20%20%20%20%20%20%20%20%20%20%20%20%20%20%20%7B%22sticky%22%3A%20true%7D%0A%20%20%20%20%20%20%20%20%20%20%20%20%29%3B%0A%20%20%20%20%20%20%20%20%0A%20%20%20%20%0A%20%20%20%20%20%20%20%20%20%20%20%20var%20marker_d124941665d0471a97be18112934c42d%20%3D%20L.marker%28%0A%20%20%20%20%20%20%20%20%20%20%20%20%20%20%20%20%5B41.9080539%2C%20-87.6343113%5D%2C%0A%20%20%20%20%20%20%20%20%20%20%20%20%20%20%20%20%7B%7D%0A%20%20%20%20%20%20%20%20%20%20%20%20%29.addTo%28map_29a1928139fb4af2831384dd6ff20e6c%29%3B%0A%20%20%20%20%20%20%20%20%0A%20%20%20%20%0A%20%20%20%20%20%20%20%20%20%20%20%20var%20icon_4e4ef6bc8fdb4704a9b1324b440c1dad%20%3D%20L.AwesomeMarkers.icon%28%0A%20%20%20%20%20%20%20%20%20%20%20%20%20%20%20%20%7B%22extraClasses%22%3A%20%22fa-rotate-0%22%2C%20%22icon%22%3A%20%22coffee%22%2C%20%22iconColor%22%3A%20%22white%22%2C%20%22markerColor%22%3A%20%22blue%22%2C%20%22prefix%22%3A%20%22fa%22%7D%0A%20%20%20%20%20%20%20%20%20%20%20%20%29%3B%0A%20%20%20%20%20%20%20%20%20%20%20%20marker_d124941665d0471a97be18112934c42d.setIcon%28icon_4e4ef6bc8fdb4704a9b1324b440c1dad%29%3B%0A%20%20%20%20%20%20%20%20%0A%20%20%20%20%0A%20%20%20%20%20%20%20%20var%20popup_cca2a8ec2756449897b20864db4f41bf%20%3D%20L.popup%28%7B%22maxWidth%22%3A%20%22100%25%22%7D%29%3B%0A%0A%20%20%20%20%20%20%20%20%0A%20%20%20%20%20%20%20%20%20%20%20%20var%20html_73c84b07dc6b4346a5a95d32321ebea2%20%3D%20%24%28%60%3Cdiv%20id%3D%22html_73c84b07dc6b4346a5a95d32321ebea2%22%20style%3D%22width%3A%20100.0%25%3B%20height%3A%20100.0%25%3B%22%3EOld%20Jerusalem%3C/div%3E%60%29%5B0%5D%3B%0A%20%20%20%20%20%20%20%20%20%20%20%20popup_cca2a8ec2756449897b20864db4f41bf.setContent%28html_73c84b07dc6b4346a5a95d32321ebea2%29%3B%0A%20%20%20%20%20%20%20%20%0A%0A%20%20%20%20%20%20%20%20marker_d124941665d0471a97be18112934c42d.bindPopup%28popup_cca2a8ec2756449897b20864db4f41bf%29%0A%20%20%20%20%20%20%20%20%3B%0A%0A%20%20%20%20%20%20%20%20%0A%20%20%20%20%0A%20%20%20%20%0A%20%20%20%20%20%20%20%20%20%20%20%20marker_d124941665d0471a97be18112934c42d.bindTooltip%28%0A%20%20%20%20%20%20%20%20%20%20%20%20%20%20%20%20%60%3Cdiv%3E%0A%20%20%20%20%20%20%20%20%20%20%20%20%20%20%20%20%20%20%20%20%20%201411%20N.%20Wells%20St%0A%20%20%20%20%20%20%20%20%20%20%20%20%20%20%20%20%20%3C/div%3E%60%2C%0A%20%20%20%20%20%20%20%20%20%20%20%20%20%20%20%20%7B%22sticky%22%3A%20true%7D%0A%20%20%20%20%20%20%20%20%20%20%20%20%29%3B%0A%20%20%20%20%20%20%20%20%0A%20%20%20%20%0A%20%20%20%20%20%20%20%20%20%20%20%20var%20marker_62df665d450244a9bc8e92712a2a0d0b%20%3D%20L.marker%28%0A%20%20%20%20%20%20%20%20%20%20%20%20%20%20%20%20%5B41.91369539999999%2C%20-87.6771273%5D%2C%0A%20%20%20%20%20%20%20%20%20%20%20%20%20%20%20%20%7B%7D%0A%20%20%20%20%20%20%20%20%20%20%20%20%29.addTo%28map_29a1928139fb4af2831384dd6ff20e6c%29%3B%0A%20%20%20%20%20%20%20%20%0A%20%20%20%20%0A%20%20%20%20%20%20%20%20%20%20%20%20var%20icon_01e609076054427da36212ddd4b2a464%20%3D%20L.AwesomeMarkers.icon%28%0A%20%20%20%20%20%20%20%20%20%20%20%20%20%20%20%20%7B%22extraClasses%22%3A%20%22fa-rotate-0%22%2C%20%22icon%22%3A%20%22coffee%22%2C%20%22iconColor%22%3A%20%22white%22%2C%20%22markerColor%22%3A%20%22blue%22%2C%20%22prefix%22%3A%20%22fa%22%7D%0A%20%20%20%20%20%20%20%20%20%20%20%20%29%3B%0A%20%20%20%20%20%20%20%20%20%20%20%20marker_62df665d450244a9bc8e92712a2a0d0b.setIcon%28icon_01e609076054427da36212ddd4b2a464%29%3B%0A%20%20%20%20%20%20%20%20%0A%20%20%20%20%0A%20%20%20%20%20%20%20%20var%20popup_3234c4f53e7d45dd8fd7574bdc3507f0%20%3D%20L.popup%28%7B%22maxWidth%22%3A%20%22100%25%22%7D%29%3B%0A%0A%20%20%20%20%20%20%20%20%0A%20%20%20%20%20%20%20%20%20%20%20%20var%20html_c49856e24bbd43669b4ff7becc56224f%20%3D%20%24%28%60%3Cdiv%20id%3D%22html_c49856e24bbd43669b4ff7becc56224f%22%20style%3D%22width%3A%20100.0%25%3B%20height%3A%20100.0%25%3B%22%3EMindy%E2%80%99s%20HotChocolate%3C/div%3E%60%29%5B0%5D%3B%0A%20%20%20%20%20%20%20%20%20%20%20%20popup_3234c4f53e7d45dd8fd7574bdc3507f0.setContent%28html_c49856e24bbd43669b4ff7becc56224f%29%3B%0A%20%20%20%20%20%20%20%20%0A%0A%20%20%20%20%20%20%20%20marker_62df665d450244a9bc8e92712a2a0d0b.bindPopup%28popup_3234c4f53e7d45dd8fd7574bdc3507f0%29%0A%20%20%20%20%20%20%20%20%3B%0A%0A%20%20%20%20%20%20%20%20%0A%20%20%20%20%0A%20%20%20%20%0A%20%20%20%20%20%20%20%20%20%20%20%20marker_62df665d450244a9bc8e92712a2a0d0b.bindTooltip%28%0A%20%20%20%20%20%20%20%20%20%20%20%20%20%20%20%20%60%3Cdiv%3E%0A%20%20%20%20%20%20%20%20%20%20%20%20%20%20%20%20%20%20%20%20%201747%20N.%20Damen%20Ave%0A%20%20%20%20%20%20%20%20%20%20%20%20%20%20%20%20%20%3C/div%3E%60%2C%0A%20%20%20%20%20%20%20%20%20%20%20%20%20%20%20%20%7B%22sticky%22%3A%20true%7D%0A%20%20%20%20%20%20%20%20%20%20%20%20%29%3B%0A%20%20%20%20%20%20%20%20%0A%20%20%20%20%0A%20%20%20%20%20%20%20%20%20%20%20%20var%20marker_529b646237e547c581766463e68405a4%20%3D%20L.marker%28%0A%20%20%20%20%20%20%20%20%20%20%20%20%20%20%20%20%5B41.9536887%2C%20-87.7084498%5D%2C%0A%20%20%20%20%20%20%20%20%20%20%20%20%20%20%20%20%7B%7D%0A%20%20%20%20%20%20%20%20%20%20%20%20%29.addTo%28map_29a1928139fb4af2831384dd6ff20e6c%29%3B%0A%20%20%20%20%20%20%20%20%0A%20%20%20%20%0A%20%20%20%20%20%20%20%20%20%20%20%20var%20icon_fec5beca7e514963815cb0fa63907cee%20%3D%20L.AwesomeMarkers.icon%28%0A%20%20%20%20%20%20%20%20%20%20%20%20%20%20%20%20%7B%22extraClasses%22%3A%20%22fa-rotate-0%22%2C%20%22icon%22%3A%20%22coffee%22%2C%20%22iconColor%22%3A%20%22white%22%2C%20%22markerColor%22%3A%20%22blue%22%2C%20%22prefix%22%3A%20%22fa%22%7D%0A%20%20%20%20%20%20%20%20%20%20%20%20%29%3B%0A%20%20%20%20%20%20%20%20%20%20%20%20marker_529b646237e547c581766463e68405a4.setIcon%28icon_fec5beca7e514963815cb0fa63907cee%29%3B%0A%20%20%20%20%20%20%20%20%0A%20%20%20%20%0A%20%20%20%20%20%20%20%20var%20popup_04dd04db8cc64afcb2465c26a8f30b44%20%3D%20L.popup%28%7B%22maxWidth%22%3A%20%22100%25%22%7D%29%3B%0A%0A%20%20%20%20%20%20%20%20%0A%20%20%20%20%20%20%20%20%20%20%20%20var%20html_5e7d22b66f71437b85ae24f0c920059c%20%3D%20%24%28%60%3Cdiv%20id%3D%22html_5e7d22b66f71437b85ae24f0c920059c%22%20style%3D%22width%3A%20100.0%25%3B%20height%3A%20100.0%25%3B%22%3EOlga%E2%80%99s%20Delicatessen%3C/div%3E%60%29%5B0%5D%3B%0A%20%20%20%20%20%20%20%20%20%20%20%20popup_04dd04db8cc64afcb2465c26a8f30b44.setContent%28html_5e7d22b66f71437b85ae24f0c920059c%29%3B%0A%20%20%20%20%20%20%20%20%0A%0A%20%20%20%20%20%20%20%20marker_529b646237e547c581766463e68405a4.bindPopup%28popup_04dd04db8cc64afcb2465c26a8f30b44%29%0A%20%20%20%20%20%20%20%20%3B%0A%0A%20%20%20%20%20%20%20%20%0A%20%20%20%20%0A%20%20%20%20%0A%20%20%20%20%20%20%20%20%20%20%20%20marker_529b646237e547c581766463e68405a4.bindTooltip%28%0A%20%20%20%20%20%20%20%20%20%20%20%20%20%20%20%20%60%3Cdiv%3E%0A%20%20%20%20%20%20%20%20%20%20%20%20%20%20%20%20%20%20%20%20%203209%20W.%20Irving%20Park%20Rd%0A%20%20%20%20%20%20%20%20%20%20%20%20%20%20%20%20%20%3C/div%3E%60%2C%0A%20%20%20%20%20%20%20%20%20%20%20%20%20%20%20%20%7B%22sticky%22%3A%20true%7D%0A%20%20%20%20%20%20%20%20%20%20%20%20%29%3B%0A%20%20%20%20%20%20%20%20%0A%20%20%20%20%0A%20%20%20%20%20%20%20%20%20%20%20%20var%20marker_2eae115ea67542c0afc2629339ee1761%20%3D%20L.marker%28%0A%20%20%20%20%20%20%20%20%20%20%20%20%20%20%20%20%5B41.9794496%2C%20-87.66795719999999%5D%2C%0A%20%20%20%20%20%20%20%20%20%20%20%20%20%20%20%20%7B%7D%0A%20%20%20%20%20%20%20%20%20%20%20%20%29.addTo%28map_29a1928139fb4af2831384dd6ff20e6c%29%3B%0A%20%20%20%20%20%20%20%20%0A%20%20%20%20%0A%20%20%20%20%20%20%20%20%20%20%20%20var%20icon_6754326cd612400cbdde377a529ae57d%20%3D%20L.AwesomeMarkers.icon%28%0A%20%20%20%20%20%20%20%20%20%20%20%20%20%20%20%20%7B%22extraClasses%22%3A%20%22fa-rotate-0%22%2C%20%22icon%22%3A%20%22coffee%22%2C%20%22iconColor%22%3A%20%22white%22%2C%20%22markerColor%22%3A%20%22blue%22%2C%20%22prefix%22%3A%20%22fa%22%7D%0A%20%20%20%20%20%20%20%20%20%20%20%20%29%3B%0A%20%20%20%20%20%20%20%20%20%20%20%20marker_2eae115ea67542c0afc2629339ee1761.setIcon%28icon_6754326cd612400cbdde377a529ae57d%29%3B%0A%20%20%20%20%20%20%20%20%0A%20%20%20%20%0A%20%20%20%20%20%20%20%20var%20popup_e5cba005015f492793cf3f1385a84697%20%3D%20L.popup%28%7B%22maxWidth%22%3A%20%22100%25%22%7D%29%3B%0A%0A%20%20%20%20%20%20%20%20%0A%20%20%20%20%20%20%20%20%20%20%20%20var%20html_926d267bccb044ba9176b2a02693219b%20%3D%20%24%28%60%3Cdiv%20id%3D%22html_926d267bccb044ba9176b2a02693219b%22%20style%3D%22width%3A%20100.0%25%3B%20height%3A%20100.0%25%3B%22%3EBig%20Jones%3C/div%3E%60%29%5B0%5D%3B%0A%20%20%20%20%20%20%20%20%20%20%20%20popup_e5cba005015f492793cf3f1385a84697.setContent%28html_926d267bccb044ba9176b2a02693219b%29%3B%0A%20%20%20%20%20%20%20%20%0A%0A%20%20%20%20%20%20%20%20marker_2eae115ea67542c0afc2629339ee1761.bindPopup%28popup_e5cba005015f492793cf3f1385a84697%29%0A%20%20%20%20%20%20%20%20%3B%0A%0A%20%20%20%20%20%20%20%20%0A%20%20%20%20%0A%20%20%20%20%0A%20%20%20%20%20%20%20%20%20%20%20%20marker_2eae115ea67542c0afc2629339ee1761.bindTooltip%28%0A%20%20%20%20%20%20%20%20%20%20%20%20%20%20%20%20%60%3Cdiv%3E%0A%20%20%20%20%20%20%20%20%20%20%20%20%20%20%20%20%20%20%20%20%205347%20N.%20Clark%20St%0A%20%20%20%20%20%20%20%20%20%20%20%20%20%20%20%20%20%3C/div%3E%60%2C%0A%20%20%20%20%20%20%20%20%20%20%20%20%20%20%20%20%7B%22sticky%22%3A%20true%7D%0A%20%20%20%20%20%20%20%20%20%20%20%20%29%3B%0A%20%20%20%20%20%20%20%20%0A%20%20%20%20%0A%20%20%20%20%20%20%20%20%20%20%20%20var%20marker_81c49bb27bbf4618ad849de40fa9077e%20%3D%20L.marker%28%0A%20%20%20%20%20%20%20%20%20%20%20%20%20%20%20%20%5B41.9541592%2C%20-87.70271079999999%5D%2C%0A%20%20%20%20%20%20%20%20%20%20%20%20%20%20%20%20%7B%7D%0A%20%20%20%20%20%20%20%20%20%20%20%20%29.addTo%28map_29a1928139fb4af2831384dd6ff20e6c%29%3B%0A%20%20%20%20%20%20%20%20%0A%20%20%20%20%0A%20%20%20%20%20%20%20%20%20%20%20%20var%20icon_1f082c1ade9e43b3b0fce557af0650bd%20%3D%20L.AwesomeMarkers.icon%28%0A%20%20%20%20%20%20%20%20%20%20%20%20%20%20%20%20%7B%22extraClasses%22%3A%20%22fa-rotate-0%22%2C%20%22icon%22%3A%20%22coffee%22%2C%20%22iconColor%22%3A%20%22white%22%2C%20%22markerColor%22%3A%20%22blue%22%2C%20%22prefix%22%3A%20%22fa%22%7D%0A%20%20%20%20%20%20%20%20%20%20%20%20%29%3B%0A%20%20%20%20%20%20%20%20%20%20%20%20marker_81c49bb27bbf4618ad849de40fa9077e.setIcon%28icon_1f082c1ade9e43b3b0fce557af0650bd%29%3B%0A%20%20%20%20%20%20%20%20%0A%20%20%20%20%0A%20%20%20%20%20%20%20%20var%20popup_8d79df0dcb234f9c9b794af45e4d8371%20%3D%20L.popup%28%7B%22maxWidth%22%3A%20%22100%25%22%7D%29%3B%0A%0A%20%20%20%20%20%20%20%20%0A%20%20%20%20%20%20%20%20%20%20%20%20var%20html_e7437abffbb444e6b7248f87e7a145ce%20%3D%20%24%28%60%3Cdiv%20id%3D%22html_e7437abffbb444e6b7248f87e7a145ce%22%20style%3D%22width%3A%20100.0%25%3B%20height%3A%20100.0%25%3B%22%3ELa%20Pane%3C/div%3E%60%29%5B0%5D%3B%0A%20%20%20%20%20%20%20%20%20%20%20%20popup_8d79df0dcb234f9c9b794af45e4d8371.setContent%28html_e7437abffbb444e6b7248f87e7a145ce%29%3B%0A%20%20%20%20%20%20%20%20%0A%0A%20%20%20%20%20%20%20%20marker_81c49bb27bbf4618ad849de40fa9077e.bindPopup%28popup_8d79df0dcb234f9c9b794af45e4d8371%29%0A%20%20%20%20%20%20%20%20%3B%0A%0A%20%20%20%20%20%20%20%20%0A%20%20%20%20%0A%20%20%20%20%0A%20%20%20%20%20%20%20%20%20%20%20%20marker_81c49bb27bbf4618ad849de40fa9077e.bindTooltip%28%0A%20%20%20%20%20%20%20%20%20%20%20%20%20%20%20%20%60%3Cdiv%3E%0A%20%20%20%20%20%20%20%20%20%20%20%20%20%20%20%20%20%20%20%20%20%202954%20W.%20Irving%20Park%20Rd%0A%20%20%20%20%20%20%20%20%20%20%20%20%20%20%20%20%20%3C/div%3E%60%2C%0A%20%20%20%20%20%20%20%20%20%20%20%20%20%20%20%20%7B%22sticky%22%3A%20true%7D%0A%20%20%20%20%20%20%20%20%20%20%20%20%29%3B%0A%20%20%20%20%20%20%20%20%0A%20%20%20%20%0A%20%20%20%20%20%20%20%20%20%20%20%20var%20marker_6dca10a4f6ea4077ba1c3d43b86c4a4c%20%3D%20L.marker%28%0A%20%20%20%20%20%20%20%20%20%20%20%20%20%20%20%20%5B41.8781136%2C%20-87.6297982%5D%2C%0A%20%20%20%20%20%20%20%20%20%20%20%20%20%20%20%20%7B%7D%0A%20%20%20%20%20%20%20%20%20%20%20%20%29.addTo%28map_29a1928139fb4af2831384dd6ff20e6c%29%3B%0A%20%20%20%20%20%20%20%20%0A%20%20%20%20%0A%20%20%20%20%20%20%20%20%20%20%20%20var%20icon_f40b58187ea64d7d82373dcd1aba1403%20%3D%20L.AwesomeMarkers.icon%28%0A%20%20%20%20%20%20%20%20%20%20%20%20%20%20%20%20%7B%22extraClasses%22%3A%20%22fa-rotate-0%22%2C%20%22icon%22%3A%20%22coffee%22%2C%20%22iconColor%22%3A%20%22white%22%2C%20%22markerColor%22%3A%20%22blue%22%2C%20%22prefix%22%3A%20%22fa%22%7D%0A%20%20%20%20%20%20%20%20%20%20%20%20%29%3B%0A%20%20%20%20%20%20%20%20%20%20%20%20marker_6dca10a4f6ea4077ba1c3d43b86c4a4c.setIcon%28icon_f40b58187ea64d7d82373dcd1aba1403%29%3B%0A%20%20%20%20%20%20%20%20%0A%20%20%20%20%0A%20%20%20%20%20%20%20%20var%20popup_9fcea4c6064a413abbb19511e8db275f%20%3D%20L.popup%28%7B%22maxWidth%22%3A%20%22100%25%22%7D%29%3B%0A%0A%20%20%20%20%20%20%20%20%0A%20%20%20%20%20%20%20%20%20%20%20%20var%20html_418d4a6760da4dd797494fe910887a17%20%3D%20%24%28%60%3Cdiv%20id%3D%22html_418d4a6760da4dd797494fe910887a17%22%20style%3D%22width%3A%20100.0%25%3B%20height%3A%20100.0%25%3B%22%3EPastoral%3C/div%3E%60%29%5B0%5D%3B%0A%20%20%20%20%20%20%20%20%20%20%20%20popup_9fcea4c6064a413abbb19511e8db275f.setContent%28html_418d4a6760da4dd797494fe910887a17%29%3B%0A%20%20%20%20%20%20%20%20%0A%0A%20%20%20%20%20%20%20%20marker_6dca10a4f6ea4077ba1c3d43b86c4a4c.bindPopup%28popup_9fcea4c6064a413abbb19511e8db275f%29%0A%20%20%20%20%20%20%20%20%3B%0A%0A%20%20%20%20%20%20%20%20%0A%20%20%20%20%0A%20%20%20%20%0A%20%20%20%20%20%20%20%20%20%20%20%20marker_6dca10a4f6ea4077ba1c3d43b86c4a4c.bindTooltip%28%0A%20%20%20%20%20%20%20%20%20%20%20%20%20%20%20%20%60%3Cdiv%3E%0A%20%20%20%20%20%20%20%20%20%20%20%20%20%20%20%20%20%20%20%20%20%20Multiple%20location%0A%20%20%20%20%20%20%20%20%20%20%20%20%20%20%20%20%20%3C/div%3E%60%2C%0A%20%20%20%20%20%20%20%20%20%20%20%20%20%20%20%20%7B%22sticky%22%3A%20true%7D%0A%20%20%20%20%20%20%20%20%20%20%20%20%29%3B%0A%20%20%20%20%20%20%20%20%0A%20%20%20%20%0A%20%20%20%20%20%20%20%20%20%20%20%20var%20marker_791298155c1348ea9b091b29a8d4d2fc%20%3D%20L.marker%28%0A%20%20%20%20%20%20%20%20%20%20%20%20%20%20%20%20%5B42.1567073%2C%20-87.8036345%5D%2C%0A%20%20%20%20%20%20%20%20%20%20%20%20%20%20%20%20%7B%7D%0A%20%20%20%20%20%20%20%20%20%20%20%20%29.addTo%28map_29a1928139fb4af2831384dd6ff20e6c%29%3B%0A%20%20%20%20%20%20%20%20%0A%20%20%20%20%0A%20%20%20%20%20%20%20%20%20%20%20%20var%20icon_17c0b3730f87400c876e7addb6a1bb12%20%3D%20L.AwesomeMarkers.icon%28%0A%20%20%20%20%20%20%20%20%20%20%20%20%20%20%20%20%7B%22extraClasses%22%3A%20%22fa-rotate-0%22%2C%20%22icon%22%3A%20%22coffee%22%2C%20%22iconColor%22%3A%20%22white%22%2C%20%22markerColor%22%3A%20%22blue%22%2C%20%22prefix%22%3A%20%22fa%22%7D%0A%20%20%20%20%20%20%20%20%20%20%20%20%29%3B%0A%20%20%20%20%20%20%20%20%20%20%20%20marker_791298155c1348ea9b091b29a8d4d2fc.setIcon%28icon_17c0b3730f87400c876e7addb6a1bb12%29%3B%0A%20%20%20%20%20%20%20%20%0A%20%20%20%20%0A%20%20%20%20%20%20%20%20var%20popup_83e7abc5821642a1bbd0a80386971ff2%20%3D%20L.popup%28%7B%22maxWidth%22%3A%20%22100%25%22%7D%29%3B%0A%0A%20%20%20%20%20%20%20%20%0A%20%20%20%20%20%20%20%20%20%20%20%20var%20html_3b2fbbca65384c248f4cbd8cd85249f8%20%3D%20%24%28%60%3Cdiv%20id%3D%22html_3b2fbbca65384c248f4cbd8cd85249f8%22%20style%3D%22width%3A%20100.0%25%3B%20height%3A%20100.0%25%3B%22%3EMax%E2%80%99s%20Deli%3C/div%3E%60%29%5B0%5D%3B%0A%20%20%20%20%20%20%20%20%20%20%20%20popup_83e7abc5821642a1bbd0a80386971ff2.setContent%28html_3b2fbbca65384c248f4cbd8cd85249f8%29%3B%0A%20%20%20%20%20%20%20%20%0A%0A%20%20%20%20%20%20%20%20marker_791298155c1348ea9b091b29a8d4d2fc.bindPopup%28popup_83e7abc5821642a1bbd0a80386971ff2%29%0A%20%20%20%20%20%20%20%20%3B%0A%0A%20%20%20%20%20%20%20%20%0A%20%20%20%20%0A%20%20%20%20%0A%20%20%20%20%20%20%20%20%20%20%20%20marker_791298155c1348ea9b091b29a8d4d2fc.bindTooltip%28%0A%20%20%20%20%20%20%20%20%20%20%20%20%20%20%20%20%60%3Cdiv%3E%0A%20%20%20%20%20%20%20%20%20%20%20%20%20%20%20%20%20%20%20%20%20%20191%20Skokie%20Valley%20Rd%0A%20%20%20%20%20%20%20%20%20%20%20%20%20%20%20%20%20%3C/div%3E%60%2C%0A%20%20%20%20%20%20%20%20%20%20%20%20%20%20%20%20%7B%22sticky%22%3A%20true%7D%0A%20%20%20%20%20%20%20%20%20%20%20%20%29%3B%0A%20%20%20%20%20%20%20%20%0A%20%20%20%20%0A%20%20%20%20%20%20%20%20%20%20%20%20var%20marker_48f067a17e41460ea98354249eb898c8%20%3D%20L.marker%28%0A%20%20%20%20%20%20%20%20%20%20%20%20%20%20%20%20%5B41.8781136%2C%20-87.6297982%5D%2C%0A%20%20%20%20%20%20%20%20%20%20%20%20%20%20%20%20%7B%7D%0A%20%20%20%20%20%20%20%20%20%20%20%20%29.addTo%28map_29a1928139fb4af2831384dd6ff20e6c%29%3B%0A%20%20%20%20%20%20%20%20%0A%20%20%20%20%0A%20%20%20%20%20%20%20%20%20%20%20%20var%20icon_31ed3b3b84914db78ff7fd5064103af0%20%3D%20L.AwesomeMarkers.icon%28%0A%20%20%20%20%20%20%20%20%20%20%20%20%20%20%20%20%7B%22extraClasses%22%3A%20%22fa-rotate-0%22%2C%20%22icon%22%3A%20%22coffee%22%2C%20%22iconColor%22%3A%20%22white%22%2C%20%22markerColor%22%3A%20%22blue%22%2C%20%22prefix%22%3A%20%22fa%22%7D%0A%20%20%20%20%20%20%20%20%20%20%20%20%29%3B%0A%20%20%20%20%20%20%20%20%20%20%20%20marker_48f067a17e41460ea98354249eb898c8.setIcon%28icon_31ed3b3b84914db78ff7fd5064103af0%29%3B%0A%20%20%20%20%20%20%20%20%0A%20%20%20%20%0A%20%20%20%20%20%20%20%20var%20popup_9c8ec66052494948ad80160e23d53ced%20%3D%20L.popup%28%7B%22maxWidth%22%3A%20%22100%25%22%7D%29%3B%0A%0A%20%20%20%20%20%20%20%20%0A%20%20%20%20%20%20%20%20%20%20%20%20var%20html_e95cef1b80f646f7ad0bcda4306f9374%20%3D%20%24%28%60%3Cdiv%20id%3D%22html_e95cef1b80f646f7ad0bcda4306f9374%22%20style%3D%22width%3A%20100.0%25%3B%20height%3A%20100.0%25%3B%22%3ELucky%E2%80%99s%20Sandwich%20Co.%3C/div%3E%60%29%5B0%5D%3B%0A%20%20%20%20%20%20%20%20%20%20%20%20popup_9c8ec66052494948ad80160e23d53ced.setContent%28html_e95cef1b80f646f7ad0bcda4306f9374%29%3B%0A%20%20%20%20%20%20%20%20%0A%0A%20%20%20%20%20%20%20%20marker_48f067a17e41460ea98354249eb898c8.bindPopup%28popup_9c8ec66052494948ad80160e23d53ced%29%0A%20%20%20%20%20%20%20%20%3B%0A%0A%20%20%20%20%20%20%20%20%0A%20%20%20%20%0A%20%20%20%20%0A%20%20%20%20%20%20%20%20%20%20%20%20marker_48f067a17e41460ea98354249eb898c8.bindTooltip%28%0A%20%20%20%20%20%20%20%20%20%20%20%20%20%20%20%20%60%3Cdiv%3E%0A%20%20%20%20%20%20%20%20%20%20%20%20%20%20%20%20%20%20%20%20%20%20Multiple%20location%0A%20%20%20%20%20%20%20%20%20%20%20%20%20%20%20%20%20%3C/div%3E%60%2C%0A%20%20%20%20%20%20%20%20%20%20%20%20%20%20%20%20%7B%22sticky%22%3A%20true%7D%0A%20%20%20%20%20%20%20%20%20%20%20%20%29%3B%0A%20%20%20%20%20%20%20%20%0A%20%20%20%20%0A%20%20%20%20%20%20%20%20%20%20%20%20var%20marker_f65d861cfcf049b5b0bfabdf52b0d1c8%20%3D%20L.marker%28%0A%20%20%20%20%20%20%20%20%20%20%20%20%20%20%20%20%5B41.9652694%2C%20-87.6755415%5D%2C%0A%20%20%20%20%20%20%20%20%20%20%20%20%20%20%20%20%7B%7D%0A%20%20%20%20%20%20%20%20%20%20%20%20%29.addTo%28map_29a1928139fb4af2831384dd6ff20e6c%29%3B%0A%20%20%20%20%20%20%20%20%0A%20%20%20%20%0A%20%20%20%20%20%20%20%20%20%20%20%20var%20icon_081ba95878a147ddb60874cafae8de1f%20%3D%20L.AwesomeMarkers.icon%28%0A%20%20%20%20%20%20%20%20%20%20%20%20%20%20%20%20%7B%22extraClasses%22%3A%20%22fa-rotate-0%22%2C%20%22icon%22%3A%20%22coffee%22%2C%20%22iconColor%22%3A%20%22white%22%2C%20%22markerColor%22%3A%20%22blue%22%2C%20%22prefix%22%3A%20%22fa%22%7D%0A%20%20%20%20%20%20%20%20%20%20%20%20%29%3B%0A%20%20%20%20%20%20%20%20%20%20%20%20marker_f65d861cfcf049b5b0bfabdf52b0d1c8.setIcon%28icon_081ba95878a147ddb60874cafae8de1f%29%3B%0A%20%20%20%20%20%20%20%20%0A%20%20%20%20%0A%20%20%20%20%20%20%20%20var%20popup_688bb4f5bad74267979f147920d3e73a%20%3D%20L.popup%28%7B%22maxWidth%22%3A%20%22100%25%22%7D%29%3B%0A%0A%20%20%20%20%20%20%20%20%0A%20%20%20%20%20%20%20%20%20%20%20%20var%20html_983e2bb0948345f694173ddd622ed18a%20%3D%20%24%28%60%3Cdiv%20id%3D%22html_983e2bb0948345f694173ddd622ed18a%22%20style%3D%22width%3A%20100.0%25%3B%20height%3A%20100.0%25%3B%22%3ECity%20Provisions%3C/div%3E%60%29%5B0%5D%3B%0A%20%20%20%20%20%20%20%20%20%20%20%20popup_688bb4f5bad74267979f147920d3e73a.setContent%28html_983e2bb0948345f694173ddd622ed18a%29%3B%0A%20%20%20%20%20%20%20%20%0A%0A%20%20%20%20%20%20%20%20marker_f65d861cfcf049b5b0bfabdf52b0d1c8.bindPopup%28popup_688bb4f5bad74267979f147920d3e73a%29%0A%20%20%20%20%20%20%20%20%3B%0A%0A%20%20%20%20%20%20%20%20%0A%20%20%20%20%0A%20%20%20%20%0A%20%20%20%20%20%20%20%20%20%20%20%20marker_f65d861cfcf049b5b0bfabdf52b0d1c8.bindTooltip%28%0A%20%20%20%20%20%20%20%20%20%20%20%20%20%20%20%20%60%3Cdiv%3E%0A%20%20%20%20%20%20%20%20%20%20%20%20%20%20%20%20%20%20%20%20%20%201818%20W.%20Wilson%20Ave%0A%20%20%20%20%20%20%20%20%20%20%20%20%20%20%20%20%20%3C/div%3E%60%2C%0A%20%20%20%20%20%20%20%20%20%20%20%20%20%20%20%20%7B%22sticky%22%3A%20true%7D%0A%20%20%20%20%20%20%20%20%20%20%20%20%29%3B%0A%20%20%20%20%20%20%20%20%0A%20%20%20%20%0A%20%20%20%20%20%20%20%20%20%20%20%20var%20marker_52d82923427f41629d955a39b55c3585%20%3D%20L.marker%28%0A%20%20%20%20%20%20%20%20%20%20%20%20%20%20%20%20%5B41.9027178%2C%20-87.6902192%5D%2C%0A%20%20%20%20%20%20%20%20%20%20%20%20%20%20%20%20%7B%7D%0A%20%20%20%20%20%20%20%20%20%20%20%20%29.addTo%28map_29a1928139fb4af2831384dd6ff20e6c%29%3B%0A%20%20%20%20%20%20%20%20%0A%20%20%20%20%0A%20%20%20%20%20%20%20%20%20%20%20%20var%20icon_01cff4aff210461493b6447324e4e356%20%3D%20L.AwesomeMarkers.icon%28%0A%20%20%20%20%20%20%20%20%20%20%20%20%20%20%20%20%7B%22extraClasses%22%3A%20%22fa-rotate-0%22%2C%20%22icon%22%3A%20%22coffee%22%2C%20%22iconColor%22%3A%20%22white%22%2C%20%22markerColor%22%3A%20%22blue%22%2C%20%22prefix%22%3A%20%22fa%22%7D%0A%20%20%20%20%20%20%20%20%20%20%20%20%29%3B%0A%20%20%20%20%20%20%20%20%20%20%20%20marker_52d82923427f41629d955a39b55c3585.setIcon%28icon_01cff4aff210461493b6447324e4e356%29%3B%0A%20%20%20%20%20%20%20%20%0A%20%20%20%20%0A%20%20%20%20%20%20%20%20var%20popup_5ae60d2d2f2d46a1abae2c74099d2a73%20%3D%20L.popup%28%7B%22maxWidth%22%3A%20%22100%25%22%7D%29%3B%0A%0A%20%20%20%20%20%20%20%20%0A%20%20%20%20%20%20%20%20%20%20%20%20var%20html_f030b3e4a8c64e06961d3a309166e771%20%3D%20%24%28%60%3Cdiv%20id%3D%22html_f030b3e4a8c64e06961d3a309166e771%22%20style%3D%22width%3A%20100.0%25%3B%20height%3A%20100.0%25%3B%22%3EPapa%E2%80%99s%20Cache%20Sabroso%3C/div%3E%60%29%5B0%5D%3B%0A%20%20%20%20%20%20%20%20%20%20%20%20popup_5ae60d2d2f2d46a1abae2c74099d2a73.setContent%28html_f030b3e4a8c64e06961d3a309166e771%29%3B%0A%20%20%20%20%20%20%20%20%0A%0A%20%20%20%20%20%20%20%20marker_52d82923427f41629d955a39b55c3585.bindPopup%28popup_5ae60d2d2f2d46a1abae2c74099d2a73%29%0A%20%20%20%20%20%20%20%20%3B%0A%0A%20%20%20%20%20%20%20%20%0A%20%20%20%20%0A%20%20%20%20%0A%20%20%20%20%20%20%20%20%20%20%20%20marker_52d82923427f41629d955a39b55c3585.bindTooltip%28%0A%20%20%20%20%20%20%20%20%20%20%20%20%20%20%20%20%60%3Cdiv%3E%0A%20%20%20%20%20%20%20%20%20%20%20%20%20%20%20%20%20%20%20%20%202517%20W.%20Division%20St%0A%20%20%20%20%20%20%20%20%20%20%20%20%20%20%20%20%20%3C/div%3E%60%2C%0A%20%20%20%20%20%20%20%20%20%20%20%20%20%20%20%20%7B%22sticky%22%3A%20true%7D%0A%20%20%20%20%20%20%20%20%20%20%20%20%29%3B%0A%20%20%20%20%20%20%20%20%0A%20%20%20%20%0A%20%20%20%20%20%20%20%20%20%20%20%20var%20marker_bfc35ec68b124a9ea08d71f029ef2503%20%3D%20L.marker%28%0A%20%20%20%20%20%20%20%20%20%20%20%20%20%20%20%20%5B41.8893683%2C%20-87.6349487%5D%2C%0A%20%20%20%20%20%20%20%20%20%20%20%20%20%20%20%20%7B%7D%0A%20%20%20%20%20%20%20%20%20%20%20%20%29.addTo%28map_29a1928139fb4af2831384dd6ff20e6c%29%3B%0A%20%20%20%20%20%20%20%20%0A%20%20%20%20%0A%20%20%20%20%20%20%20%20%20%20%20%20var%20icon_ea84d3291e2b4a0f8ecb95bd81ed07ba%20%3D%20L.AwesomeMarkers.icon%28%0A%20%20%20%20%20%20%20%20%20%20%20%20%20%20%20%20%7B%22extraClasses%22%3A%20%22fa-rotate-0%22%2C%20%22icon%22%3A%20%22coffee%22%2C%20%22iconColor%22%3A%20%22white%22%2C%20%22markerColor%22%3A%20%22blue%22%2C%20%22prefix%22%3A%20%22fa%22%7D%0A%20%20%20%20%20%20%20%20%20%20%20%20%29%3B%0A%20%20%20%20%20%20%20%20%20%20%20%20marker_bfc35ec68b124a9ea08d71f029ef2503.setIcon%28icon_ea84d3291e2b4a0f8ecb95bd81ed07ba%29%3B%0A%20%20%20%20%20%20%20%20%0A%20%20%20%20%0A%20%20%20%20%20%20%20%20var%20popup_bcc90c55b8944ffab34dc3c910a1751e%20%3D%20L.popup%28%7B%22maxWidth%22%3A%20%22100%25%22%7D%29%3B%0A%0A%20%20%20%20%20%20%20%20%0A%20%20%20%20%20%20%20%20%20%20%20%20var%20html_05b81ad02ee84f358473d0ce2fc8acc7%20%3D%20%24%28%60%3Cdiv%20id%3D%22html_05b81ad02ee84f358473d0ce2fc8acc7%22%20style%3D%22width%3A%20100.0%25%3B%20height%3A%20100.0%25%3B%22%3EBavette%E2%80%99s%20Bar%20%26%20Boeuf%3C/div%3E%60%29%5B0%5D%3B%0A%20%20%20%20%20%20%20%20%20%20%20%20popup_bcc90c55b8944ffab34dc3c910a1751e.setContent%28html_05b81ad02ee84f358473d0ce2fc8acc7%29%3B%0A%20%20%20%20%20%20%20%20%0A%0A%20%20%20%20%20%20%20%20marker_bfc35ec68b124a9ea08d71f029ef2503.bindPopup%28popup_bcc90c55b8944ffab34dc3c910a1751e%29%0A%20%20%20%20%20%20%20%20%3B%0A%0A%20%20%20%20%20%20%20%20%0A%20%20%20%20%0A%20%20%20%20%0A%20%20%20%20%20%20%20%20%20%20%20%20marker_bfc35ec68b124a9ea08d71f029ef2503.bindTooltip%28%0A%20%20%20%20%20%20%20%20%20%20%20%20%20%20%20%20%60%3Cdiv%3E%0A%20%20%20%20%20%20%20%20%20%20%20%20%20%20%20%20%20%20%20%20%20218%20W.%20Kinzie%20St%0A%20%20%20%20%20%20%20%20%20%20%20%20%20%20%20%20%20%3C/div%3E%60%2C%0A%20%20%20%20%20%20%20%20%20%20%20%20%20%20%20%20%7B%22sticky%22%3A%20true%7D%0A%20%20%20%20%20%20%20%20%20%20%20%20%29%3B%0A%20%20%20%20%20%20%20%20%0A%20%20%20%20%0A%20%20%20%20%20%20%20%20%20%20%20%20var%20marker_df73acf86b47421aa7d29ab645a91f1e%20%3D%20L.marker%28%0A%20%20%20%20%20%20%20%20%20%20%20%20%20%20%20%20%5B41.8781136%2C%20-87.6297982%5D%2C%0A%20%20%20%20%20%20%20%20%20%20%20%20%20%20%20%20%7B%7D%0A%20%20%20%20%20%20%20%20%20%20%20%20%29.addTo%28map_29a1928139fb4af2831384dd6ff20e6c%29%3B%0A%20%20%20%20%20%20%20%20%0A%20%20%20%20%0A%20%20%20%20%20%20%20%20%20%20%20%20var%20icon_8384b1169c9948a1a8efcd4c0d40e69e%20%3D%20L.AwesomeMarkers.icon%28%0A%20%20%20%20%20%20%20%20%20%20%20%20%20%20%20%20%7B%22extraClasses%22%3A%20%22fa-rotate-0%22%2C%20%22icon%22%3A%20%22coffee%22%2C%20%22iconColor%22%3A%20%22white%22%2C%20%22markerColor%22%3A%20%22blue%22%2C%20%22prefix%22%3A%20%22fa%22%7D%0A%20%20%20%20%20%20%20%20%20%20%20%20%29%3B%0A%20%20%20%20%20%20%20%20%20%20%20%20marker_df73acf86b47421aa7d29ab645a91f1e.setIcon%28icon_8384b1169c9948a1a8efcd4c0d40e69e%29%3B%0A%20%20%20%20%20%20%20%20%0A%20%20%20%20%0A%20%20%20%20%20%20%20%20var%20popup_0039ff00d4b1419ba4b138c3b872e636%20%3D%20L.popup%28%7B%22maxWidth%22%3A%20%22100%25%22%7D%29%3B%0A%0A%20%20%20%20%20%20%20%20%0A%20%20%20%20%20%20%20%20%20%20%20%20var%20html_0e8188e7795443c6ae10170aa2c4a185%20%3D%20%24%28%60%3Cdiv%20id%3D%22html_0e8188e7795443c6ae10170aa2c4a185%22%20style%3D%22width%3A%20100.0%25%3B%20height%3A%20100.0%25%3B%22%3EHannah%E2%80%99s%20Bretzel%3C/div%3E%60%29%5B0%5D%3B%0A%20%20%20%20%20%20%20%20%20%20%20%20popup_0039ff00d4b1419ba4b138c3b872e636.setContent%28html_0e8188e7795443c6ae10170aa2c4a185%29%3B%0A%20%20%20%20%20%20%20%20%0A%0A%20%20%20%20%20%20%20%20marker_df73acf86b47421aa7d29ab645a91f1e.bindPopup%28popup_0039ff00d4b1419ba4b138c3b872e636%29%0A%20%20%20%20%20%20%20%20%3B%0A%0A%20%20%20%20%20%20%20%20%0A%20%20%20%20%0A%20%20%20%20%0A%20%20%20%20%20%20%20%20%20%20%20%20marker_df73acf86b47421aa7d29ab645a91f1e.bindTooltip%28%0A%20%20%20%20%20%20%20%20%20%20%20%20%20%20%20%20%60%3Cdiv%3E%0A%20%20%20%20%20%20%20%20%20%20%20%20%20%20%20%20%20%20%20%20%20%20Multiple%20location%0A%20%20%20%20%20%20%20%20%20%20%20%20%20%20%20%20%20%3C/div%3E%60%2C%0A%20%20%20%20%20%20%20%20%20%20%20%20%20%20%20%20%7B%22sticky%22%3A%20true%7D%0A%20%20%20%20%20%20%20%20%20%20%20%20%29%3B%0A%20%20%20%20%20%20%20%20%0A%20%20%20%20%0A%20%20%20%20%20%20%20%20%20%20%20%20var%20marker_19483f73619841978b69b7d6597df4e9%20%3D%20L.marker%28%0A%20%20%20%20%20%20%20%20%20%20%20%20%20%20%20%20%5B41.9105258%2C%20-87.6343775%5D%2C%0A%20%20%20%20%20%20%20%20%20%20%20%20%20%20%20%20%7B%7D%0A%20%20%20%20%20%20%20%20%20%20%20%20%29.addTo%28map_29a1928139fb4af2831384dd6ff20e6c%29%3B%0A%20%20%20%20%20%20%20%20%0A%20%20%20%20%0A%20%20%20%20%20%20%20%20%20%20%20%20var%20icon_3507e8b92dfd4bc7ae8ef7d6edf61b68%20%3D%20L.AwesomeMarkers.icon%28%0A%20%20%20%20%20%20%20%20%20%20%20%20%20%20%20%20%7B%22extraClasses%22%3A%20%22fa-rotate-0%22%2C%20%22icon%22%3A%20%22coffee%22%2C%20%22iconColor%22%3A%20%22white%22%2C%20%22markerColor%22%3A%20%22blue%22%2C%20%22prefix%22%3A%20%22fa%22%7D%0A%20%20%20%20%20%20%20%20%20%20%20%20%29%3B%0A%20%20%20%20%20%20%20%20%20%20%20%20marker_19483f73619841978b69b7d6597df4e9.setIcon%28icon_3507e8b92dfd4bc7ae8ef7d6edf61b68%29%3B%0A%20%20%20%20%20%20%20%20%0A%20%20%20%20%0A%20%20%20%20%20%20%20%20var%20popup_c91844fd45e04538ae2d27dc6d121e17%20%3D%20L.popup%28%7B%22maxWidth%22%3A%20%22100%25%22%7D%29%3B%0A%0A%20%20%20%20%20%20%20%20%0A%20%20%20%20%20%20%20%20%20%20%20%20var%20html_454f0fb927d14773b3024774ccb8e959%20%3D%20%24%28%60%3Cdiv%20id%3D%22html_454f0fb927d14773b3024774ccb8e959%22%20style%3D%22width%3A%20100.0%25%3B%20height%3A%20100.0%25%3B%22%3ELa%20Fournette%3C/div%3E%60%29%5B0%5D%3B%0A%20%20%20%20%20%20%20%20%20%20%20%20popup_c91844fd45e04538ae2d27dc6d121e17.setContent%28html_454f0fb927d14773b3024774ccb8e959%29%3B%0A%20%20%20%20%20%20%20%20%0A%0A%20%20%20%20%20%20%20%20marker_19483f73619841978b69b7d6597df4e9.bindPopup%28popup_c91844fd45e04538ae2d27dc6d121e17%29%0A%20%20%20%20%20%20%20%20%3B%0A%0A%20%20%20%20%20%20%20%20%0A%20%20%20%20%0A%20%20%20%20%0A%20%20%20%20%20%20%20%20%20%20%20%20marker_19483f73619841978b69b7d6597df4e9.bindTooltip%28%0A%20%20%20%20%20%20%20%20%20%20%20%20%20%20%20%20%60%3Cdiv%3E%0A%20%20%20%20%20%20%20%20%20%20%20%20%20%20%20%20%20%20%20%20%20%201547%20N.%20Wells%20St%0A%20%20%20%20%20%20%20%20%20%20%20%20%20%20%20%20%20%3C/div%3E%60%2C%0A%20%20%20%20%20%20%20%20%20%20%20%20%20%20%20%20%7B%22sticky%22%3A%20true%7D%0A%20%20%20%20%20%20%20%20%20%20%20%20%29%3B%0A%20%20%20%20%20%20%20%20%0A%20%20%20%20%0A%20%20%20%20%20%20%20%20%20%20%20%20var%20marker_4935c2dc4d0141a99936788833483640%20%3D%20L.marker%28%0A%20%20%20%20%20%20%20%20%20%20%20%20%20%20%20%20%5B41.8896188%2C%20-87.64484259999999%5D%2C%0A%20%20%20%20%20%20%20%20%20%20%20%20%20%20%20%20%7B%7D%0A%20%20%20%20%20%20%20%20%20%20%20%20%29.addTo%28map_29a1928139fb4af2831384dd6ff20e6c%29%3B%0A%20%20%20%20%20%20%20%20%0A%20%20%20%20%0A%20%20%20%20%20%20%20%20%20%20%20%20var%20icon_70cd92d24cad41f6b75d9e121135a77d%20%3D%20L.AwesomeMarkers.icon%28%0A%20%20%20%20%20%20%20%20%20%20%20%20%20%20%20%20%7B%22extraClasses%22%3A%20%22fa-rotate-0%22%2C%20%22icon%22%3A%20%22coffee%22%2C%20%22iconColor%22%3A%20%22white%22%2C%20%22markerColor%22%3A%20%22blue%22%2C%20%22prefix%22%3A%20%22fa%22%7D%0A%20%20%20%20%20%20%20%20%20%20%20%20%29%3B%0A%20%20%20%20%20%20%20%20%20%20%20%20marker_4935c2dc4d0141a99936788833483640.setIcon%28icon_70cd92d24cad41f6b75d9e121135a77d%29%3B%0A%20%20%20%20%20%20%20%20%0A%20%20%20%20%0A%20%20%20%20%20%20%20%20var%20popup_8bb7aaa31f324c82a44aa36bfc94989b%20%3D%20L.popup%28%7B%22maxWidth%22%3A%20%22100%25%22%7D%29%3B%0A%0A%20%20%20%20%20%20%20%20%0A%20%20%20%20%20%20%20%20%20%20%20%20var%20html_818cbd1e96f7411eb0f24e70427c4c01%20%3D%20%24%28%60%3Cdiv%20id%3D%22html_818cbd1e96f7411eb0f24e70427c4c01%22%20style%3D%22width%3A%20100.0%25%3B%20height%3A%20100.0%25%3B%22%3EParamount%20Room%3C/div%3E%60%29%5B0%5D%3B%0A%20%20%20%20%20%20%20%20%20%20%20%20popup_8bb7aaa31f324c82a44aa36bfc94989b.setContent%28html_818cbd1e96f7411eb0f24e70427c4c01%29%3B%0A%20%20%20%20%20%20%20%20%0A%0A%20%20%20%20%20%20%20%20marker_4935c2dc4d0141a99936788833483640.bindPopup%28popup_8bb7aaa31f324c82a44aa36bfc94989b%29%0A%20%20%20%20%20%20%20%20%3B%0A%0A%20%20%20%20%20%20%20%20%0A%20%20%20%20%0A%20%20%20%20%0A%20%20%20%20%20%20%20%20%20%20%20%20marker_4935c2dc4d0141a99936788833483640.bindTooltip%28%0A%20%20%20%20%20%20%20%20%20%20%20%20%20%20%20%20%60%3Cdiv%3E%0A%20%20%20%20%20%20%20%20%20%20%20%20%20%20%20%20%20%20%20%20%20415%20N.%20Milwaukee%20Ave%0A%20%20%20%20%20%20%20%20%20%20%20%20%20%20%20%20%20%3C/div%3E%60%2C%0A%20%20%20%20%20%20%20%20%20%20%20%20%20%20%20%20%7B%22sticky%22%3A%20true%7D%0A%20%20%20%20%20%20%20%20%20%20%20%20%29%3B%0A%20%20%20%20%20%20%20%20%0A%20%20%20%20%0A%20%20%20%20%20%20%20%20%20%20%20%20var%20marker_055e6df80f5f4213851c520263a31449%20%3D%20L.marker%28%0A%20%20%20%20%20%20%20%20%20%20%20%20%20%20%20%20%5B41.91504990000001%2C%20-87.6778047%5D%2C%0A%20%20%20%20%20%20%20%20%20%20%20%20%20%20%20%20%7B%7D%0A%20%20%20%20%20%20%20%20%20%20%20%20%29.addTo%28map_29a1928139fb4af2831384dd6ff20e6c%29%3B%0A%20%20%20%20%20%20%20%20%0A%20%20%20%20%0A%20%20%20%20%20%20%20%20%20%20%20%20var%20icon_0212fca4be0c4b10b6be2360858de7b4%20%3D%20L.AwesomeMarkers.icon%28%0A%20%20%20%20%20%20%20%20%20%20%20%20%20%20%20%20%7B%22extraClasses%22%3A%20%22fa-rotate-0%22%2C%20%22icon%22%3A%20%22coffee%22%2C%20%22iconColor%22%3A%20%22white%22%2C%20%22markerColor%22%3A%20%22blue%22%2C%20%22prefix%22%3A%20%22fa%22%7D%0A%20%20%20%20%20%20%20%20%20%20%20%20%29%3B%0A%20%20%20%20%20%20%20%20%20%20%20%20marker_055e6df80f5f4213851c520263a31449.setIcon%28icon_0212fca4be0c4b10b6be2360858de7b4%29%3B%0A%20%20%20%20%20%20%20%20%0A%20%20%20%20%0A%20%20%20%20%20%20%20%20var%20popup_be44686ccf3449189da24185220e8f80%20%3D%20L.popup%28%7B%22maxWidth%22%3A%20%22100%25%22%7D%29%3B%0A%0A%20%20%20%20%20%20%20%20%0A%20%20%20%20%20%20%20%20%20%20%20%20var%20html_d3488ad71bba4d93b9c555a891698924%20%3D%20%24%28%60%3Cdiv%20id%3D%22html_d3488ad71bba4d93b9c555a891698924%22%20style%3D%22width%3A%20100.0%25%3B%20height%3A%20100.0%25%3B%22%3EMelt%20Sandwich%20Shoppe%3C/div%3E%60%29%5B0%5D%3B%0A%20%20%20%20%20%20%20%20%20%20%20%20popup_be44686ccf3449189da24185220e8f80.setContent%28html_d3488ad71bba4d93b9c555a891698924%29%3B%0A%20%20%20%20%20%20%20%20%0A%0A%20%20%20%20%20%20%20%20marker_055e6df80f5f4213851c520263a31449.bindPopup%28popup_be44686ccf3449189da24185220e8f80%29%0A%20%20%20%20%20%20%20%20%3B%0A%0A%20%20%20%20%20%20%20%20%0A%20%20%20%20%0A%20%20%20%20%0A%20%20%20%20%20%20%20%20%20%20%20%20marker_055e6df80f5f4213851c520263a31449.bindTooltip%28%0A%20%20%20%20%20%20%20%20%20%20%20%20%20%20%20%20%60%3Cdiv%3E%0A%20%20%20%20%20%20%20%20%20%20%20%20%20%20%20%20%20%20%20%20%20%201840%20N.%20Damen%20Ave%0A%20%20%20%20%20%20%20%20%20%20%20%20%20%20%20%20%20%3C/div%3E%60%2C%0A%20%20%20%20%20%20%20%20%20%20%20%20%20%20%20%20%7B%22sticky%22%3A%20true%7D%0A%20%20%20%20%20%20%20%20%20%20%20%20%29%3B%0A%20%20%20%20%20%20%20%20%0A%20%20%20%20%0A%20%20%20%20%20%20%20%20%20%20%20%20var%20marker_3cec4a8dc14f48dc917ca88e3e12ab21%20%3D%20L.marker%28%0A%20%20%20%20%20%20%20%20%20%20%20%20%20%20%20%20%5B41.9218521%2C%20-87.6592124%5D%2C%0A%20%20%20%20%20%20%20%20%20%20%20%20%20%20%20%20%7B%7D%0A%20%20%20%20%20%20%20%20%20%20%20%20%29.addTo%28map_29a1928139fb4af2831384dd6ff20e6c%29%3B%0A%20%20%20%20%20%20%20%20%0A%20%20%20%20%0A%20%20%20%20%20%20%20%20%20%20%20%20var%20icon_7053944080374c46ab563fa8228539d9%20%3D%20L.AwesomeMarkers.icon%28%0A%20%20%20%20%20%20%20%20%20%20%20%20%20%20%20%20%7B%22extraClasses%22%3A%20%22fa-rotate-0%22%2C%20%22icon%22%3A%20%22coffee%22%2C%20%22iconColor%22%3A%20%22white%22%2C%20%22markerColor%22%3A%20%22blue%22%2C%20%22prefix%22%3A%20%22fa%22%7D%0A%20%20%20%20%20%20%20%20%20%20%20%20%29%3B%0A%20%20%20%20%20%20%20%20%20%20%20%20marker_3cec4a8dc14f48dc917ca88e3e12ab21.setIcon%28icon_7053944080374c46ab563fa8228539d9%29%3B%0A%20%20%20%20%20%20%20%20%0A%20%20%20%20%0A%20%20%20%20%20%20%20%20var%20popup_08f3a793ee4d484c86f2a7fc4716d3d6%20%3D%20L.popup%28%7B%22maxWidth%22%3A%20%22100%25%22%7D%29%3B%0A%0A%20%20%20%20%20%20%20%20%0A%20%20%20%20%20%20%20%20%20%20%20%20var%20html_acac1cd1845b4e8b90134aed09fa73f1%20%3D%20%24%28%60%3Cdiv%20id%3D%22html_acac1cd1845b4e8b90134aed09fa73f1%22%20style%3D%22width%3A%20100.0%25%3B%20height%3A%20100.0%25%3B%22%3EFloriole%20Cafe%20%26%20Bakery%3C/div%3E%60%29%5B0%5D%3B%0A%20%20%20%20%20%20%20%20%20%20%20%20popup_08f3a793ee4d484c86f2a7fc4716d3d6.setContent%28html_acac1cd1845b4e8b90134aed09fa73f1%29%3B%0A%20%20%20%20%20%20%20%20%0A%0A%20%20%20%20%20%20%20%20marker_3cec4a8dc14f48dc917ca88e3e12ab21.bindPopup%28popup_08f3a793ee4d484c86f2a7fc4716d3d6%29%0A%20%20%20%20%20%20%20%20%3B%0A%0A%20%20%20%20%20%20%20%20%0A%20%20%20%20%0A%20%20%20%20%0A%20%20%20%20%20%20%20%20%20%20%20%20marker_3cec4a8dc14f48dc917ca88e3e12ab21.bindTooltip%28%0A%20%20%20%20%20%20%20%20%20%20%20%20%20%20%20%20%60%3Cdiv%3E%0A%20%20%20%20%20%20%20%20%20%20%20%20%20%20%20%20%20%20%20%20%201220%20W.%20Webster%20Ave%0A%20%20%20%20%20%20%20%20%20%20%20%20%20%20%20%20%20%3C/div%3E%60%2C%0A%20%20%20%20%20%20%20%20%20%20%20%20%20%20%20%20%7B%22sticky%22%3A%20true%7D%0A%20%20%20%20%20%20%20%20%20%20%20%20%29%3B%0A%20%20%20%20%20%20%20%20%0A%20%20%20%20%0A%20%20%20%20%20%20%20%20%20%20%20%20var%20marker_9f7b63fd1b144746be1bdca21c4ef734%20%3D%20L.marker%28%0A%20%20%20%20%20%20%20%20%20%20%20%20%20%20%20%20%5B41.9797099%2C%20-87.66934409999999%5D%2C%0A%20%20%20%20%20%20%20%20%20%20%20%20%20%20%20%20%7B%7D%0A%20%20%20%20%20%20%20%20%20%20%20%20%29.addTo%28map_29a1928139fb4af2831384dd6ff20e6c%29%3B%0A%20%20%20%20%20%20%20%20%0A%20%20%20%20%0A%20%20%20%20%20%20%20%20%20%20%20%20var%20icon_63c971c88349488e828c95a0edb4afff%20%3D%20L.AwesomeMarkers.icon%28%0A%20%20%20%20%20%20%20%20%20%20%20%20%20%20%20%20%7B%22extraClasses%22%3A%20%22fa-rotate-0%22%2C%20%22icon%22%3A%20%22coffee%22%2C%20%22iconColor%22%3A%20%22white%22%2C%20%22markerColor%22%3A%20%22blue%22%2C%20%22prefix%22%3A%20%22fa%22%7D%0A%20%20%20%20%20%20%20%20%20%20%20%20%29%3B%0A%20%20%20%20%20%20%20%20%20%20%20%20marker_9f7b63fd1b144746be1bdca21c4ef734.setIcon%28icon_63c971c88349488e828c95a0edb4afff%29%3B%0A%20%20%20%20%20%20%20%20%0A%20%20%20%20%0A%20%20%20%20%20%20%20%20var%20popup_1fd3ea56143d4d27a67a5da17afe53ed%20%3D%20L.popup%28%7B%22maxWidth%22%3A%20%22100%25%22%7D%29%3B%0A%0A%20%20%20%20%20%20%20%20%0A%20%20%20%20%20%20%20%20%20%20%20%20var%20html_14362727942b41338232c5598d584cbf%20%3D%20%24%28%60%3Cdiv%20id%3D%22html_14362727942b41338232c5598d584cbf%22%20style%3D%22width%3A%20100.0%25%3B%20height%3A%20100.0%25%3B%22%3EFirst%20Slice%20Pie%20Caf%C3%A9%3C/div%3E%60%29%5B0%5D%3B%0A%20%20%20%20%20%20%20%20%20%20%20%20popup_1fd3ea56143d4d27a67a5da17afe53ed.setContent%28html_14362727942b41338232c5598d584cbf%29%3B%0A%20%20%20%20%20%20%20%20%0A%0A%20%20%20%20%20%20%20%20marker_9f7b63fd1b144746be1bdca21c4ef734.bindPopup%28popup_1fd3ea56143d4d27a67a5da17afe53ed%29%0A%20%20%20%20%20%20%20%20%3B%0A%0A%20%20%20%20%20%20%20%20%0A%20%20%20%20%0A%20%20%20%20%0A%20%20%20%20%20%20%20%20%20%20%20%20marker_9f7b63fd1b144746be1bdca21c4ef734.bindTooltip%28%0A%20%20%20%20%20%20%20%20%20%20%20%20%20%20%20%20%60%3Cdiv%3E%0A%20%20%20%20%20%20%20%20%20%20%20%20%20%20%20%20%20%20%20%20%205357%20N.%20Ashland%20Ave%0A%20%20%20%20%20%20%20%20%20%20%20%20%20%20%20%20%20%3C/div%3E%60%2C%0A%20%20%20%20%20%20%20%20%20%20%20%20%20%20%20%20%7B%22sticky%22%3A%20true%7D%0A%20%20%20%20%20%20%20%20%20%20%20%20%29%3B%0A%20%20%20%20%20%20%20%20%0A%20%20%20%20%0A%20%20%20%20%20%20%20%20%20%20%20%20var%20marker_4fc2c23e3c8b4418b716d352c7e8c6fd%20%3D%20L.marker%28%0A%20%20%20%20%20%20%20%20%20%20%20%20%20%20%20%20%5B41.9617122%2C%20-87.67581620000001%5D%2C%0A%20%20%20%20%20%20%20%20%20%20%20%20%20%20%20%20%7B%7D%0A%20%20%20%20%20%20%20%20%20%20%20%20%29.addTo%28map_29a1928139fb4af2831384dd6ff20e6c%29%3B%0A%20%20%20%20%20%20%20%20%0A%20%20%20%20%0A%20%20%20%20%20%20%20%20%20%20%20%20var%20icon_6dfad09699c0488e8764a5ff8130092d%20%3D%20L.AwesomeMarkers.icon%28%0A%20%20%20%20%20%20%20%20%20%20%20%20%20%20%20%20%7B%22extraClasses%22%3A%20%22fa-rotate-0%22%2C%20%22icon%22%3A%20%22coffee%22%2C%20%22iconColor%22%3A%20%22white%22%2C%20%22markerColor%22%3A%20%22blue%22%2C%20%22prefix%22%3A%20%22fa%22%7D%0A%20%20%20%20%20%20%20%20%20%20%20%20%29%3B%0A%20%20%20%20%20%20%20%20%20%20%20%20marker_4fc2c23e3c8b4418b716d352c7e8c6fd.setIcon%28icon_6dfad09699c0488e8764a5ff8130092d%29%3B%0A%20%20%20%20%20%20%20%20%0A%20%20%20%20%0A%20%20%20%20%20%20%20%20var%20popup_8b238ba8db744ae1907fb4d99bbaefcf%20%3D%20L.popup%28%7B%22maxWidth%22%3A%20%22100%25%22%7D%29%3B%0A%0A%20%20%20%20%20%20%20%20%0A%20%20%20%20%20%20%20%20%20%20%20%20var%20html_2156be63cb0c4a99bb085ef3107594e5%20%3D%20%24%28%60%3Cdiv%20id%3D%22html_2156be63cb0c4a99bb085ef3107594e5%22%20style%3D%22width%3A%20100.0%25%3B%20height%3A%20100.0%25%3B%22%3ETroquet%3C/div%3E%60%29%5B0%5D%3B%0A%20%20%20%20%20%20%20%20%20%20%20%20popup_8b238ba8db744ae1907fb4d99bbaefcf.setContent%28html_2156be63cb0c4a99bb085ef3107594e5%29%3B%0A%20%20%20%20%20%20%20%20%0A%0A%20%20%20%20%20%20%20%20marker_4fc2c23e3c8b4418b716d352c7e8c6fd.bindPopup%28popup_8b238ba8db744ae1907fb4d99bbaefcf%29%0A%20%20%20%20%20%20%20%20%3B%0A%0A%20%20%20%20%20%20%20%20%0A%20%20%20%20%0A%20%20%20%20%0A%20%20%20%20%20%20%20%20%20%20%20%20marker_4fc2c23e3c8b4418b716d352c7e8c6fd.bindTooltip%28%0A%20%20%20%20%20%20%20%20%20%20%20%20%20%20%20%20%60%3Cdiv%3E%0A%20%20%20%20%20%20%20%20%20%20%20%20%20%20%20%20%20%20%20%20%201834%20W.%20Montrose%20Ave%0A%20%20%20%20%20%20%20%20%20%20%20%20%20%20%20%20%20%3C/div%3E%60%2C%0A%20%20%20%20%20%20%20%20%20%20%20%20%20%20%20%20%7B%22sticky%22%3A%20true%7D%0A%20%20%20%20%20%20%20%20%20%20%20%20%29%3B%0A%20%20%20%20%20%20%20%20%0A%20%20%20%20%0A%20%20%20%20%20%20%20%20%20%20%20%20var%20marker_01a5b889cf4f43a287cbd2a2a6eb4b14%20%3D%20L.marker%28%0A%20%20%20%20%20%20%20%20%20%20%20%20%20%20%20%20%5B41.89296119999999%2C%20-87.6278214%5D%2C%0A%20%20%20%20%20%20%20%20%20%20%20%20%20%20%20%20%7B%7D%0A%20%20%20%20%20%20%20%20%20%20%20%20%29.addTo%28map_29a1928139fb4af2831384dd6ff20e6c%29%3B%0A%20%20%20%20%20%20%20%20%0A%20%20%20%20%0A%20%20%20%20%20%20%20%20%20%20%20%20var%20icon_9d32bd13d22342829d16113056c4c7b7%20%3D%20L.AwesomeMarkers.icon%28%0A%20%20%20%20%20%20%20%20%20%20%20%20%20%20%20%20%7B%22extraClasses%22%3A%20%22fa-rotate-0%22%2C%20%22icon%22%3A%20%22coffee%22%2C%20%22iconColor%22%3A%20%22white%22%2C%20%22markerColor%22%3A%20%22blue%22%2C%20%22prefix%22%3A%20%22fa%22%7D%0A%20%20%20%20%20%20%20%20%20%20%20%20%29%3B%0A%20%20%20%20%20%20%20%20%20%20%20%20marker_01a5b889cf4f43a287cbd2a2a6eb4b14.setIcon%28icon_9d32bd13d22342829d16113056c4c7b7%29%3B%0A%20%20%20%20%20%20%20%20%0A%20%20%20%20%0A%20%20%20%20%20%20%20%20var%20popup_d7c49f89f39c4709b63aeeec6737eef0%20%3D%20L.popup%28%7B%22maxWidth%22%3A%20%22100%25%22%7D%29%3B%0A%0A%20%20%20%20%20%20%20%20%0A%20%20%20%20%20%20%20%20%20%20%20%20var%20html_df5a66bc680f4c32b565106024a229b2%20%3D%20%24%28%60%3Cdiv%20id%3D%22html_df5a66bc680f4c32b565106024a229b2%22%20style%3D%22width%3A%20100.0%25%3B%20height%3A%20100.0%25%3B%22%3EGrahamwich%3C/div%3E%60%29%5B0%5D%3B%0A%20%20%20%20%20%20%20%20%20%20%20%20popup_d7c49f89f39c4709b63aeeec6737eef0.setContent%28html_df5a66bc680f4c32b565106024a229b2%29%3B%0A%20%20%20%20%20%20%20%20%0A%0A%20%20%20%20%20%20%20%20marker_01a5b889cf4f43a287cbd2a2a6eb4b14.bindPopup%28popup_d7c49f89f39c4709b63aeeec6737eef0%29%0A%20%20%20%20%20%20%20%20%3B%0A%0A%20%20%20%20%20%20%20%20%0A%20%20%20%20%0A%20%20%20%20%0A%20%20%20%20%20%20%20%20%20%20%20%20marker_01a5b889cf4f43a287cbd2a2a6eb4b14.bindTooltip%28%0A%20%20%20%20%20%20%20%20%20%20%20%20%20%20%20%20%60%3Cdiv%3E%0A%20%20%20%20%20%20%20%20%20%20%20%20%20%20%20%20%20%20%20%20%20615%20N.%20State%20St%0A%20%20%20%20%20%20%20%20%20%20%20%20%20%20%20%20%20%3C/div%3E%60%2C%0A%20%20%20%20%20%20%20%20%20%20%20%20%20%20%20%20%7B%22sticky%22%3A%20true%7D%0A%20%20%20%20%20%20%20%20%20%20%20%20%29%3B%0A%20%20%20%20%20%20%20%20%0A%20%20%20%20%0A%20%20%20%20%20%20%20%20%20%20%20%20var%20marker_b4f059caaeca4a42adcc67772da9aeb3%20%3D%20L.marker%28%0A%20%20%20%20%20%20%20%20%20%20%20%20%20%20%20%20%5B41.9608129%2C%20-87.9394449%5D%2C%0A%20%20%20%20%20%20%20%20%20%20%20%20%20%20%20%20%7B%7D%0A%20%20%20%20%20%20%20%20%20%20%20%20%29.addTo%28map_29a1928139fb4af2831384dd6ff20e6c%29%3B%0A%20%20%20%20%20%20%20%20%0A%20%20%20%20%0A%20%20%20%20%20%20%20%20%20%20%20%20var%20icon_2b205ee66fa64e13a40e6409758c8329%20%3D%20L.AwesomeMarkers.icon%28%0A%20%20%20%20%20%20%20%20%20%20%20%20%20%20%20%20%7B%22extraClasses%22%3A%20%22fa-rotate-0%22%2C%20%22icon%22%3A%20%22coffee%22%2C%20%22iconColor%22%3A%20%22white%22%2C%20%22markerColor%22%3A%20%22blue%22%2C%20%22prefix%22%3A%20%22fa%22%7D%0A%20%20%20%20%20%20%20%20%20%20%20%20%29%3B%0A%20%20%20%20%20%20%20%20%20%20%20%20marker_b4f059caaeca4a42adcc67772da9aeb3.setIcon%28icon_2b205ee66fa64e13a40e6409758c8329%29%3B%0A%20%20%20%20%20%20%20%20%0A%20%20%20%20%0A%20%20%20%20%20%20%20%20var%20popup_9b987b0286624a73b743d2b5593973c8%20%3D%20L.popup%28%7B%22maxWidth%22%3A%20%22100%25%22%7D%29%3B%0A%0A%20%20%20%20%20%20%20%20%0A%20%20%20%20%20%20%20%20%20%20%20%20var%20html_840fea49aa474f9594e9b94deb705c61%20%3D%20%24%28%60%3Cdiv%20id%3D%22html_840fea49aa474f9594e9b94deb705c61%22%20style%3D%22width%3A%20100.0%25%3B%20height%3A%20100.0%25%3B%22%3ERosalia%E2%80%99s%20Deli%3C/div%3E%60%29%5B0%5D%3B%0A%20%20%20%20%20%20%20%20%20%20%20%20popup_9b987b0286624a73b743d2b5593973c8.setContent%28html_840fea49aa474f9594e9b94deb705c61%29%3B%0A%20%20%20%20%20%20%20%20%0A%0A%20%20%20%20%20%20%20%20marker_b4f059caaeca4a42adcc67772da9aeb3.bindPopup%28popup_9b987b0286624a73b743d2b5593973c8%29%0A%20%20%20%20%20%20%20%20%3B%0A%0A%20%20%20%20%20%20%20%20%0A%20%20%20%20%0A%20%20%20%20%0A%20%20%20%20%20%20%20%20%20%20%20%20marker_b4f059caaeca4a42adcc67772da9aeb3.bindTooltip%28%0A%20%20%20%20%20%20%20%20%20%20%20%20%20%20%20%20%60%3Cdiv%3E%0A%20%20%20%20%20%20%20%20%20%20%20%20%20%20%20%20%20%20%20%20%20241%20N.%20York%20Rd%0A%20%20%20%20%20%20%20%20%20%20%20%20%20%20%20%20%20%3C/div%3E%60%2C%0A%20%20%20%20%20%20%20%20%20%20%20%20%20%20%20%20%7B%22sticky%22%3A%20true%7D%0A%20%20%20%20%20%20%20%20%20%20%20%20%29%3B%0A%20%20%20%20%20%20%20%20%0A%20%20%20%20%0A%20%20%20%20%20%20%20%20%20%20%20%20var%20marker_c4ee3a99f10e4aae8a719d9734c04c16%20%3D%20L.marker%28%0A%20%20%20%20%20%20%20%20%20%20%20%20%20%20%20%20%5B41.7913185%2C%20-87.5938456%5D%2C%0A%20%20%20%20%20%20%20%20%20%20%20%20%20%20%20%20%7B%7D%0A%20%20%20%20%20%20%20%20%20%20%20%20%29.addTo%28map_29a1928139fb4af2831384dd6ff20e6c%29%3B%0A%20%20%20%20%20%20%20%20%0A%20%20%20%20%0A%20%20%20%20%20%20%20%20%20%20%20%20var%20icon_20ff0a2278b84db1b6df2a3ebe19c442%20%3D%20L.AwesomeMarkers.icon%28%0A%20%20%20%20%20%20%20%20%20%20%20%20%20%20%20%20%7B%22extraClasses%22%3A%20%22fa-rotate-0%22%2C%20%22icon%22%3A%20%22coffee%22%2C%20%22iconColor%22%3A%20%22white%22%2C%20%22markerColor%22%3A%20%22blue%22%2C%20%22prefix%22%3A%20%22fa%22%7D%0A%20%20%20%20%20%20%20%20%20%20%20%20%29%3B%0A%20%20%20%20%20%20%20%20%20%20%20%20marker_c4ee3a99f10e4aae8a719d9734c04c16.setIcon%28icon_20ff0a2278b84db1b6df2a3ebe19c442%29%3B%0A%20%20%20%20%20%20%20%20%0A%20%20%20%20%0A%20%20%20%20%20%20%20%20var%20popup_5f1e8dadd2754659ad3d2a9c50031216%20%3D%20L.popup%28%7B%22maxWidth%22%3A%20%22100%25%22%7D%29%3B%0A%0A%20%20%20%20%20%20%20%20%0A%20%20%20%20%20%20%20%20%20%20%20%20var%20html_33bb47e86eeb41418e444b7c22f28450%20%3D%20%24%28%60%3Cdiv%20id%3D%22html_33bb47e86eeb41418e444b7c22f28450%22%20style%3D%22width%3A%20100.0%25%3B%20height%3A%20100.0%25%3B%22%3EZ%26H%20MarketCafe%3C/div%3E%60%29%5B0%5D%3B%0A%20%20%20%20%20%20%20%20%20%20%20%20popup_5f1e8dadd2754659ad3d2a9c50031216.setContent%28html_33bb47e86eeb41418e444b7c22f28450%29%3B%0A%20%20%20%20%20%20%20%20%0A%0A%20%20%20%20%20%20%20%20marker_c4ee3a99f10e4aae8a719d9734c04c16.bindPopup%28popup_5f1e8dadd2754659ad3d2a9c50031216%29%0A%20%20%20%20%20%20%20%20%3B%0A%0A%20%20%20%20%20%20%20%20%0A%20%20%20%20%0A%20%20%20%20%0A%20%20%20%20%20%20%20%20%20%20%20%20marker_c4ee3a99f10e4aae8a719d9734c04c16.bindTooltip%28%0A%20%20%20%20%20%20%20%20%20%20%20%20%20%20%20%20%60%3Cdiv%3E%0A%20%20%20%20%20%20%20%20%20%20%20%20%20%20%20%20%20%20%20%20%20%201323%20E.%2057th%20St%0A%20%20%20%20%20%20%20%20%20%20%20%20%20%20%20%20%20%3C/div%3E%60%2C%0A%20%20%20%20%20%20%20%20%20%20%20%20%20%20%20%20%7B%22sticky%22%3A%20true%7D%0A%20%20%20%20%20%20%20%20%20%20%20%20%29%3B%0A%20%20%20%20%20%20%20%20%0A%20%20%20%20%0A%20%20%20%20%20%20%20%20%20%20%20%20var%20marker_5089926b10c24520809ae8c104f6ba3b%20%3D%20L.marker%28%0A%20%20%20%20%20%20%20%20%20%20%20%20%20%20%20%20%5B41.64891170000001%2C%20-87.6148855%5D%2C%0A%20%20%20%20%20%20%20%20%20%20%20%20%20%20%20%20%7B%7D%0A%20%20%20%20%20%20%20%20%20%20%20%20%29.addTo%28map_29a1928139fb4af2831384dd6ff20e6c%29%3B%0A%20%20%20%20%20%20%20%20%0A%20%20%20%20%0A%20%20%20%20%20%20%20%20%20%20%20%20var%20icon_857272084e664f3caa41030d1a7d4a8c%20%3D%20L.AwesomeMarkers.icon%28%0A%20%20%20%20%20%20%20%20%20%20%20%20%20%20%20%20%7B%22extraClasses%22%3A%20%22fa-rotate-0%22%2C%20%22icon%22%3A%20%22coffee%22%2C%20%22iconColor%22%3A%20%22white%22%2C%20%22markerColor%22%3A%20%22blue%22%2C%20%22prefix%22%3A%20%22fa%22%7D%0A%20%20%20%20%20%20%20%20%20%20%20%20%29%3B%0A%20%20%20%20%20%20%20%20%20%20%20%20marker_5089926b10c24520809ae8c104f6ba3b.setIcon%28icon_857272084e664f3caa41030d1a7d4a8c%29%3B%0A%20%20%20%20%20%20%20%20%0A%20%20%20%20%0A%20%20%20%20%20%20%20%20var%20popup_6a5dec5d0d5b47a68898c4c3da1195e6%20%3D%20L.popup%28%7B%22maxWidth%22%3A%20%22100%25%22%7D%29%3B%0A%0A%20%20%20%20%20%20%20%20%0A%20%20%20%20%20%20%20%20%20%20%20%20var%20html_3b95071cc254490590957c8505ce4823%20%3D%20%24%28%60%3Cdiv%20id%3D%22html_3b95071cc254490590957c8505ce4823%22%20style%3D%22width%3A%20100.0%25%3B%20height%3A%20100.0%25%3B%22%3EMarket%20House%20on%20the%20Square%3C/div%3E%60%29%5B0%5D%3B%0A%20%20%20%20%20%20%20%20%20%20%20%20popup_6a5dec5d0d5b47a68898c4c3da1195e6.setContent%28html_3b95071cc254490590957c8505ce4823%29%3B%0A%20%20%20%20%20%20%20%20%0A%0A%20%20%20%20%20%20%20%20marker_5089926b10c24520809ae8c104f6ba3b.bindPopup%28popup_6a5dec5d0d5b47a68898c4c3da1195e6%29%0A%20%20%20%20%20%20%20%20%3B%0A%0A%20%20%20%20%20%20%20%20%0A%20%20%20%20%0A%20%20%20%20%0A%20%20%20%20%20%20%20%20%20%20%20%20marker_5089926b10c24520809ae8c104f6ba3b.bindTooltip%28%0A%20%20%20%20%20%20%20%20%20%20%20%20%20%20%20%20%60%3Cdiv%3E%0A%20%20%20%20%20%20%20%20%20%20%20%20%20%20%20%20%20%20%20%20%20655%20Forest%20Ave%0A%20%20%20%20%20%20%20%20%20%20%20%20%20%20%20%20%20%3C/div%3E%60%2C%0A%20%20%20%20%20%20%20%20%20%20%20%20%20%20%20%20%7B%22sticky%22%3A%20true%7D%0A%20%20%20%20%20%20%20%20%20%20%20%20%29%3B%0A%20%20%20%20%20%20%20%20%0A%20%20%20%20%0A%20%20%20%20%20%20%20%20%20%20%20%20var%20marker_5f8f6b79661440bf94764bc2286e3065%20%3D%20L.marker%28%0A%20%20%20%20%20%20%20%20%20%20%20%20%20%20%20%20%5B41.9152875%2C%20-87.6343888%5D%2C%0A%20%20%20%20%20%20%20%20%20%20%20%20%20%20%20%20%7B%7D%0A%20%20%20%20%20%20%20%20%20%20%20%20%29.addTo%28map_29a1928139fb4af2831384dd6ff20e6c%29%3B%0A%20%20%20%20%20%20%20%20%0A%20%20%20%20%0A%20%20%20%20%20%20%20%20%20%20%20%20var%20icon_471b334bcc10424aaf584f225558e34a%20%3D%20L.AwesomeMarkers.icon%28%0A%20%20%20%20%20%20%20%20%20%20%20%20%20%20%20%20%7B%22extraClasses%22%3A%20%22fa-rotate-0%22%2C%20%22icon%22%3A%20%22coffee%22%2C%20%22iconColor%22%3A%20%22white%22%2C%20%22markerColor%22%3A%20%22blue%22%2C%20%22prefix%22%3A%20%22fa%22%7D%0A%20%20%20%20%20%20%20%20%20%20%20%20%29%3B%0A%20%20%20%20%20%20%20%20%20%20%20%20marker_5f8f6b79661440bf94764bc2286e3065.setIcon%28icon_471b334bcc10424aaf584f225558e34a%29%3B%0A%20%20%20%20%20%20%20%20%0A%20%20%20%20%0A%20%20%20%20%20%20%20%20var%20popup_1d72260ddb1c44d8883066a4e06819ef%20%3D%20L.popup%28%7B%22maxWidth%22%3A%20%22100%25%22%7D%29%3B%0A%0A%20%20%20%20%20%20%20%20%0A%20%20%20%20%20%20%20%20%20%20%20%20var%20html_7251a6226af844128968af8b2eb8a8a5%20%3D%20%24%28%60%3Cdiv%20id%3D%22html_7251a6226af844128968af8b2eb8a8a5%22%20style%3D%22width%3A%20100.0%25%3B%20height%3A%20100.0%25%3B%22%3EElaine%E2%80%99s%20Coffee%20Call%3C/div%3E%60%29%5B0%5D%3B%0A%20%20%20%20%20%20%20%20%20%20%20%20popup_1d72260ddb1c44d8883066a4e06819ef.setContent%28html_7251a6226af844128968af8b2eb8a8a5%29%3B%0A%20%20%20%20%20%20%20%20%0A%0A%20%20%20%20%20%20%20%20marker_5f8f6b79661440bf94764bc2286e3065.bindPopup%28popup_1d72260ddb1c44d8883066a4e06819ef%29%0A%20%20%20%20%20%20%20%20%3B%0A%0A%20%20%20%20%20%20%20%20%0A%20%20%20%20%0A%20%20%20%20%0A%20%20%20%20%20%20%20%20%20%20%20%20marker_5f8f6b79661440bf94764bc2286e3065.bindTooltip%28%0A%20%20%20%20%20%20%20%20%20%20%20%20%20%20%20%20%60%3Cdiv%3E%0A%20%20%20%20%20%20%20%20%20%20%20%20%20%20%20%20%20%20%20%20%20Hotel%20Lincol%0A%20%20%20%20%20%20%20%20%20%20%20%20%20%20%20%20%20%3C/div%3E%60%2C%0A%20%20%20%20%20%20%20%20%20%20%20%20%20%20%20%20%7B%22sticky%22%3A%20true%7D%0A%20%20%20%20%20%20%20%20%20%20%20%20%29%3B%0A%20%20%20%20%20%20%20%20%0A%20%20%20%20%0A%20%20%20%20%20%20%20%20%20%20%20%20var%20marker_c770381386fd4338bc17433cc99bbf4a%20%3D%20L.marker%28%0A%20%20%20%20%20%20%20%20%20%20%20%20%20%20%20%20%5B41.8863622%2C%20-87.8022297%5D%2C%0A%20%20%20%20%20%20%20%20%20%20%20%20%20%20%20%20%7B%7D%0A%20%20%20%20%20%20%20%20%20%20%20%20%29.addTo%28map_29a1928139fb4af2831384dd6ff20e6c%29%3B%0A%20%20%20%20%20%20%20%20%0A%20%20%20%20%0A%20%20%20%20%20%20%20%20%20%20%20%20var%20icon_b566e43ae3d74385a2878564349340c5%20%3D%20L.AwesomeMarkers.icon%28%0A%20%20%20%20%20%20%20%20%20%20%20%20%20%20%20%20%7B%22extraClasses%22%3A%20%22fa-rotate-0%22%2C%20%22icon%22%3A%20%22coffee%22%2C%20%22iconColor%22%3A%20%22white%22%2C%20%22markerColor%22%3A%20%22blue%22%2C%20%22prefix%22%3A%20%22fa%22%7D%0A%20%20%20%20%20%20%20%20%20%20%20%20%29%3B%0A%20%20%20%20%20%20%20%20%20%20%20%20marker_c770381386fd4338bc17433cc99bbf4a.setIcon%28icon_b566e43ae3d74385a2878564349340c5%29%3B%0A%20%20%20%20%20%20%20%20%0A%20%20%20%20%0A%20%20%20%20%20%20%20%20var%20popup_384c616714e14d4790723339ed48a670%20%3D%20L.popup%28%7B%22maxWidth%22%3A%20%22100%25%22%7D%29%3B%0A%0A%20%20%20%20%20%20%20%20%0A%20%20%20%20%20%20%20%20%20%20%20%20var%20html_43fc1c2e30464f2b8866b6d6c2024b48%20%3D%20%24%28%60%3Cdiv%20id%3D%22html_43fc1c2e30464f2b8866b6d6c2024b48%22%20style%3D%22width%3A%20100.0%25%3B%20height%3A%20100.0%25%3B%22%3EMarion%20Street%20Cheese%20Market%3C/div%3E%60%29%5B0%5D%3B%0A%20%20%20%20%20%20%20%20%20%20%20%20popup_384c616714e14d4790723339ed48a670.setContent%28html_43fc1c2e30464f2b8866b6d6c2024b48%29%3B%0A%20%20%20%20%20%20%20%20%0A%0A%20%20%20%20%20%20%20%20marker_c770381386fd4338bc17433cc99bbf4a.bindPopup%28popup_384c616714e14d4790723339ed48a670%29%0A%20%20%20%20%20%20%20%20%3B%0A%0A%20%20%20%20%20%20%20%20%0A%20%20%20%20%0A%20%20%20%20%0A%20%20%20%20%20%20%20%20%20%20%20%20marker_c770381386fd4338bc17433cc99bbf4a.bindTooltip%28%0A%20%20%20%20%20%20%20%20%20%20%20%20%20%20%20%20%60%3Cdiv%3E%0A%20%20%20%20%20%20%20%20%20%20%20%20%20%20%20%20%20%20%20%20%20100%20S.%20Marion%20St%0A%20%20%20%20%20%20%20%20%20%20%20%20%20%20%20%20%20%3C/div%3E%60%2C%0A%20%20%20%20%20%20%20%20%20%20%20%20%20%20%20%20%7B%22sticky%22%3A%20true%7D%0A%20%20%20%20%20%20%20%20%20%20%20%20%29%3B%0A%20%20%20%20%20%20%20%20%0A%20%20%20%20%0A%20%20%20%20%20%20%20%20%20%20%20%20var%20marker_26964f2417c446c9b8865cd5a101ebf5%20%3D%20L.marker%28%0A%20%20%20%20%20%20%20%20%20%20%20%20%20%20%20%20%5B41.8758102%2C%20-87.6264489%5D%2C%0A%20%20%20%20%20%20%20%20%20%20%20%20%20%20%20%20%7B%7D%0A%20%20%20%20%20%20%20%20%20%20%20%20%29.addTo%28map_29a1928139fb4af2831384dd6ff20e6c%29%3B%0A%20%20%20%20%20%20%20%20%0A%20%20%20%20%0A%20%20%20%20%20%20%20%20%20%20%20%20var%20icon_ee624e7d67784809a28a80bdec6497b9%20%3D%20L.AwesomeMarkers.icon%28%0A%20%20%20%20%20%20%20%20%20%20%20%20%20%20%20%20%7B%22extraClasses%22%3A%20%22fa-rotate-0%22%2C%20%22icon%22%3A%20%22coffee%22%2C%20%22iconColor%22%3A%20%22white%22%2C%20%22markerColor%22%3A%20%22blue%22%2C%20%22prefix%22%3A%20%22fa%22%7D%0A%20%20%20%20%20%20%20%20%20%20%20%20%29%3B%0A%20%20%20%20%20%20%20%20%20%20%20%20marker_26964f2417c446c9b8865cd5a101ebf5.setIcon%28icon_ee624e7d67784809a28a80bdec6497b9%29%3B%0A%20%20%20%20%20%20%20%20%0A%20%20%20%20%0A%20%20%20%20%20%20%20%20var%20popup_d12ad458949b4556b21f998dd0286287%20%3D%20L.popup%28%7B%22maxWidth%22%3A%20%22100%25%22%7D%29%3B%0A%0A%20%20%20%20%20%20%20%20%0A%20%20%20%20%20%20%20%20%20%20%20%20var%20html_930f902bf34e4e219139b4baa31fe27a%20%3D%20%24%28%60%3Cdiv%20id%3D%22html_930f902bf34e4e219139b4baa31fe27a%22%20style%3D%22width%3A%20100.0%25%3B%20height%3A%20100.0%25%3B%22%3ECafecito%3C/div%3E%60%29%5B0%5D%3B%0A%20%20%20%20%20%20%20%20%20%20%20%20popup_d12ad458949b4556b21f998dd0286287.setContent%28html_930f902bf34e4e219139b4baa31fe27a%29%3B%0A%20%20%20%20%20%20%20%20%0A%0A%20%20%20%20%20%20%20%20marker_26964f2417c446c9b8865cd5a101ebf5.bindPopup%28popup_d12ad458949b4556b21f998dd0286287%29%0A%20%20%20%20%20%20%20%20%3B%0A%0A%20%20%20%20%20%20%20%20%0A%20%20%20%20%0A%20%20%20%20%0A%20%20%20%20%20%20%20%20%20%20%20%20marker_26964f2417c446c9b8865cd5a101ebf5.bindTooltip%28%0A%20%20%20%20%20%20%20%20%20%20%20%20%20%20%20%20%60%3Cdiv%3E%0A%20%20%20%20%20%20%20%20%20%20%20%20%20%20%20%20%20%20%20%20%20%2026%20E.%20Congress%20Pkwy%0A%20%20%20%20%20%20%20%20%20%20%20%20%20%20%20%20%20%3C/div%3E%60%2C%0A%20%20%20%20%20%20%20%20%20%20%20%20%20%20%20%20%7B%22sticky%22%3A%20true%7D%0A%20%20%20%20%20%20%20%20%20%20%20%20%29%3B%0A%20%20%20%20%20%20%20%20%0A%20%20%20%20%0A%20%20%20%20%20%20%20%20%20%20%20%20var%20marker_cd32bad4b7ef43eea7058e9e9e8a1c2a%20%3D%20L.marker%28%0A%20%20%20%20%20%20%20%20%20%20%20%20%20%20%20%20%5B41.8961134%2C%20-87.677857%5D%2C%0A%20%20%20%20%20%20%20%20%20%20%20%20%20%20%20%20%7B%7D%0A%20%20%20%20%20%20%20%20%20%20%20%20%29.addTo%28map_29a1928139fb4af2831384dd6ff20e6c%29%3B%0A%20%20%20%20%20%20%20%20%0A%20%20%20%20%0A%20%20%20%20%20%20%20%20%20%20%20%20var%20icon_2d66709cc0d54b5791ba4b703529eeea%20%3D%20L.AwesomeMarkers.icon%28%0A%20%20%20%20%20%20%20%20%20%20%20%20%20%20%20%20%7B%22extraClasses%22%3A%20%22fa-rotate-0%22%2C%20%22icon%22%3A%20%22coffee%22%2C%20%22iconColor%22%3A%20%22white%22%2C%20%22markerColor%22%3A%20%22blue%22%2C%20%22prefix%22%3A%20%22fa%22%7D%0A%20%20%20%20%20%20%20%20%20%20%20%20%29%3B%0A%20%20%20%20%20%20%20%20%20%20%20%20marker_cd32bad4b7ef43eea7058e9e9e8a1c2a.setIcon%28icon_2d66709cc0d54b5791ba4b703529eeea%29%3B%0A%20%20%20%20%20%20%20%20%0A%20%20%20%20%0A%20%20%20%20%20%20%20%20var%20popup_30f1e46bc12d4ed196773654b4c6fa27%20%3D%20L.popup%28%7B%22maxWidth%22%3A%20%22100%25%22%7D%29%3B%0A%0A%20%20%20%20%20%20%20%20%0A%20%20%20%20%20%20%20%20%20%20%20%20var%20html_b15faf7a4f884400a121b9ddf7f9cbc7%20%3D%20%24%28%60%3Cdiv%20id%3D%22html_b15faf7a4f884400a121b9ddf7f9cbc7%22%20style%3D%22width%3A%20100.0%25%3B%20height%3A%20100.0%25%3B%22%3EChickpea%3C/div%3E%60%29%5B0%5D%3B%0A%20%20%20%20%20%20%20%20%20%20%20%20popup_30f1e46bc12d4ed196773654b4c6fa27.setContent%28html_b15faf7a4f884400a121b9ddf7f9cbc7%29%3B%0A%20%20%20%20%20%20%20%20%0A%0A%20%20%20%20%20%20%20%20marker_cd32bad4b7ef43eea7058e9e9e8a1c2a.bindPopup%28popup_30f1e46bc12d4ed196773654b4c6fa27%29%0A%20%20%20%20%20%20%20%20%3B%0A%0A%20%20%20%20%20%20%20%20%0A%20%20%20%20%0A%20%20%20%20%0A%20%20%20%20%20%20%20%20%20%20%20%20marker_cd32bad4b7ef43eea7058e9e9e8a1c2a.bindTooltip%28%0A%20%20%20%20%20%20%20%20%20%20%20%20%20%20%20%20%60%3Cdiv%3E%0A%20%20%20%20%20%20%20%20%20%20%20%20%20%20%20%20%20%20%20%20%202018%20W.%20Chicago%20Ave%0A%20%20%20%20%20%20%20%20%20%20%20%20%20%20%20%20%20%3C/div%3E%60%2C%0A%20%20%20%20%20%20%20%20%20%20%20%20%20%20%20%20%7B%22sticky%22%3A%20true%7D%0A%20%20%20%20%20%20%20%20%20%20%20%20%29%3B%0A%20%20%20%20%20%20%20%20%0A%20%20%20%20%0A%20%20%20%20%20%20%20%20%20%20%20%20var%20marker_d4a9f5a2e1e4407b85e8e61605d54925%20%3D%20L.marker%28%0A%20%20%20%20%20%20%20%20%20%20%20%20%20%20%20%20%5B41.89897850000001%2C%20-87.6273926%5D%2C%0A%20%20%20%20%20%20%20%20%20%20%20%20%20%20%20%20%7B%7D%0A%20%20%20%20%20%20%20%20%20%20%20%20%29.addTo%28map_29a1928139fb4af2831384dd6ff20e6c%29%3B%0A%20%20%20%20%20%20%20%20%0A%20%20%20%20%0A%20%20%20%20%20%20%20%20%20%20%20%20var%20icon_a17b42beeaa44197a4cd0d3c053a0a1e%20%3D%20L.AwesomeMarkers.icon%28%0A%20%20%20%20%20%20%20%20%20%20%20%20%20%20%20%20%7B%22extraClasses%22%3A%20%22fa-rotate-0%22%2C%20%22icon%22%3A%20%22coffee%22%2C%20%22iconColor%22%3A%20%22white%22%2C%20%22markerColor%22%3A%20%22blue%22%2C%20%22prefix%22%3A%20%22fa%22%7D%0A%20%20%20%20%20%20%20%20%20%20%20%20%29%3B%0A%20%20%20%20%20%20%20%20%20%20%20%20marker_d4a9f5a2e1e4407b85e8e61605d54925.setIcon%28icon_a17b42beeaa44197a4cd0d3c053a0a1e%29%3B%0A%20%20%20%20%20%20%20%20%0A%20%20%20%20%0A%20%20%20%20%20%20%20%20var%20popup_63a5d49b3c124f37b932f277a4b58fd4%20%3D%20L.popup%28%7B%22maxWidth%22%3A%20%22100%25%22%7D%29%3B%0A%0A%20%20%20%20%20%20%20%20%0A%20%20%20%20%20%20%20%20%20%20%20%20var%20html_0dcd272b6d6f4a2b849ddccb3b97c9e7%20%3D%20%24%28%60%3Cdiv%20id%3D%22html_0dcd272b6d6f4a2b849ddccb3b97c9e7%22%20style%3D%22width%3A%20100.0%25%3B%20height%3A%20100.0%25%3B%22%3EThe%20Goddess%20and%20Grocer%3C/div%3E%60%29%5B0%5D%3B%0A%20%20%20%20%20%20%20%20%20%20%20%20popup_63a5d49b3c124f37b932f277a4b58fd4.setContent%28html_0dcd272b6d6f4a2b849ddccb3b97c9e7%29%3B%0A%20%20%20%20%20%20%20%20%0A%0A%20%20%20%20%20%20%20%20marker_d4a9f5a2e1e4407b85e8e61605d54925.bindPopup%28popup_63a5d49b3c124f37b932f277a4b58fd4%29%0A%20%20%20%20%20%20%20%20%3B%0A%0A%20%20%20%20%20%20%20%20%0A%20%20%20%20%0A%20%20%20%20%0A%20%20%20%20%20%20%20%20%20%20%20%20marker_d4a9f5a2e1e4407b85e8e61605d54925.bindTooltip%28%0A%20%20%20%20%20%20%20%20%20%20%20%20%20%20%20%20%60%3Cdiv%3E%0A%20%20%20%20%20%20%20%20%20%20%20%20%20%20%20%20%20%20%20%20%20%2025%20E.%20Delaware%20Pl%0A%20%20%20%20%20%20%20%20%20%20%20%20%20%20%20%20%20%3C/div%3E%60%2C%0A%20%20%20%20%20%20%20%20%20%20%20%20%20%20%20%20%7B%22sticky%22%3A%20true%7D%0A%20%20%20%20%20%20%20%20%20%20%20%20%29%3B%0A%20%20%20%20%20%20%20%20%0A%20%20%20%20%0A%20%20%20%20%20%20%20%20%20%20%20%20var%20marker_856de1706a42472ba5bb12448bb92ecd%20%3D%20L.marker%28%0A%20%20%20%20%20%20%20%20%20%20%20%20%20%20%20%20%5B41.9105832%2C%20-87.94048839999999%5D%2C%0A%20%20%20%20%20%20%20%20%20%20%20%20%20%20%20%20%7B%7D%0A%20%20%20%20%20%20%20%20%20%20%20%20%29.addTo%28map_29a1928139fb4af2831384dd6ff20e6c%29%3B%0A%20%20%20%20%20%20%20%20%0A%20%20%20%20%0A%20%20%20%20%20%20%20%20%20%20%20%20var%20icon_6370c596c0f544ad88c788c7c8935a1e%20%3D%20L.AwesomeMarkers.icon%28%0A%20%20%20%20%20%20%20%20%20%20%20%20%20%20%20%20%7B%22extraClasses%22%3A%20%22fa-rotate-0%22%2C%20%22icon%22%3A%20%22coffee%22%2C%20%22iconColor%22%3A%20%22white%22%2C%20%22markerColor%22%3A%20%22blue%22%2C%20%22prefix%22%3A%20%22fa%22%7D%0A%20%20%20%20%20%20%20%20%20%20%20%20%29%3B%0A%20%20%20%20%20%20%20%20%20%20%20%20marker_856de1706a42472ba5bb12448bb92ecd.setIcon%28icon_6370c596c0f544ad88c788c7c8935a1e%29%3B%0A%20%20%20%20%20%20%20%20%0A%20%20%20%20%0A%20%20%20%20%20%20%20%20var%20popup_34ba19a1a973482493c491010fccddec%20%3D%20L.popup%28%7B%22maxWidth%22%3A%20%22100%25%22%7D%29%3B%0A%0A%20%20%20%20%20%20%20%20%0A%20%20%20%20%20%20%20%20%20%20%20%20var%20html_b8d0a3abed664f958dd7f9be20e21a66%20%3D%20%24%28%60%3Cdiv%20id%3D%22html_b8d0a3abed664f958dd7f9be20e21a66%22%20style%3D%22width%3A%20100.0%25%3B%20height%3A%20100.0%25%3B%22%3EZenwich%3C/div%3E%60%29%5B0%5D%3B%0A%20%20%20%20%20%20%20%20%20%20%20%20popup_34ba19a1a973482493c491010fccddec.setContent%28html_b8d0a3abed664f958dd7f9be20e21a66%29%3B%0A%20%20%20%20%20%20%20%20%0A%0A%20%20%20%20%20%20%20%20marker_856de1706a42472ba5bb12448bb92ecd.bindPopup%28popup_34ba19a1a973482493c491010fccddec%29%0A%20%20%20%20%20%20%20%20%3B%0A%0A%20%20%20%20%20%20%20%20%0A%20%20%20%20%0A%20%20%20%20%0A%20%20%20%20%20%20%20%20%20%20%20%20marker_856de1706a42472ba5bb12448bb92ecd.bindTooltip%28%0A%20%20%20%20%20%20%20%20%20%20%20%20%20%20%20%20%60%3Cdiv%3E%0A%20%20%20%20%20%20%20%20%20%20%20%20%20%20%20%20%20%20%20%20%20%20416%20N.%20York%20St%0A%20%20%20%20%20%20%20%20%20%20%20%20%20%20%20%20%20%3C/div%3E%60%2C%0A%20%20%20%20%20%20%20%20%20%20%20%20%20%20%20%20%7B%22sticky%22%3A%20true%7D%0A%20%20%20%20%20%20%20%20%20%20%20%20%29%3B%0A%20%20%20%20%20%20%20%20%0A%20%20%20%20%0A%20%20%20%20%20%20%20%20%20%20%20%20var%20marker_59a09eb1b486412aadcfc6fc96708da2%20%3D%20L.marker%28%0A%20%20%20%20%20%20%20%20%20%20%20%20%20%20%20%20%5B41.8831061%2C%20-87.6254381%5D%2C%0A%20%20%20%20%20%20%20%20%20%20%20%20%20%20%20%20%7B%7D%0A%20%20%20%20%20%20%20%20%20%20%20%20%29.addTo%28map_29a1928139fb4af2831384dd6ff20e6c%29%3B%0A%20%20%20%20%20%20%20%20%0A%20%20%20%20%0A%20%20%20%20%20%20%20%20%20%20%20%20var%20icon_b2e8b67967a34f11a31e3860b9a45b37%20%3D%20L.AwesomeMarkers.icon%28%0A%20%20%20%20%20%20%20%20%20%20%20%20%20%20%20%20%7B%22extraClasses%22%3A%20%22fa-rotate-0%22%2C%20%22icon%22%3A%20%22coffee%22%2C%20%22iconColor%22%3A%20%22white%22%2C%20%22markerColor%22%3A%20%22blue%22%2C%20%22prefix%22%3A%20%22fa%22%7D%0A%20%20%20%20%20%20%20%20%20%20%20%20%29%3B%0A%20%20%20%20%20%20%20%20%20%20%20%20marker_59a09eb1b486412aadcfc6fc96708da2.setIcon%28icon_b2e8b67967a34f11a31e3860b9a45b37%29%3B%0A%20%20%20%20%20%20%20%20%0A%20%20%20%20%0A%20%20%20%20%20%20%20%20var%20popup_ec7d67e546fa45c8b37760144a84119d%20%3D%20L.popup%28%7B%22maxWidth%22%3A%20%22100%25%22%7D%29%3B%0A%0A%20%20%20%20%20%20%20%20%0A%20%20%20%20%20%20%20%20%20%20%20%20var%20html_f3643553d1ec453fa3d5ed1d16335ec5%20%3D%20%24%28%60%3Cdiv%20id%3D%22html_f3643553d1ec453fa3d5ed1d16335ec5%22%20style%3D%22width%3A%20100.0%25%3B%20height%3A%20100.0%25%3B%22%3EToni%20Patisserie%3C/div%3E%60%29%5B0%5D%3B%0A%20%20%20%20%20%20%20%20%20%20%20%20popup_ec7d67e546fa45c8b37760144a84119d.setContent%28html_f3643553d1ec453fa3d5ed1d16335ec5%29%3B%0A%20%20%20%20%20%20%20%20%0A%0A%20%20%20%20%20%20%20%20marker_59a09eb1b486412aadcfc6fc96708da2.bindPopup%28popup_ec7d67e546fa45c8b37760144a84119d%29%0A%20%20%20%20%20%20%20%20%3B%0A%0A%20%20%20%20%20%20%20%20%0A%20%20%20%20%0A%20%20%20%20%0A%20%20%20%20%20%20%20%20%20%20%20%20marker_59a09eb1b486412aadcfc6fc96708da2.bindTooltip%28%0A%20%20%20%20%20%20%20%20%20%20%20%20%20%20%20%20%60%3Cdiv%3E%0A%20%20%20%20%20%20%20%20%20%20%20%20%20%20%20%20%20%20%20%20%20%2065%20E.%20Washington%20St%0A%20%20%20%20%20%20%20%20%20%20%20%20%20%20%20%20%20%3C/div%3E%60%2C%0A%20%20%20%20%20%20%20%20%20%20%20%20%20%20%20%20%7B%22sticky%22%3A%20true%7D%0A%20%20%20%20%20%20%20%20%20%20%20%20%29%3B%0A%20%20%20%20%20%20%20%20%0A%20%20%20%20%0A%20%20%20%20%20%20%20%20%20%20%20%20var%20marker_2f8076efe506481a8e4e70608cfb4220%20%3D%20L.marker%28%0A%20%20%20%20%20%20%20%20%20%20%20%20%20%20%20%20%5B41.9431632%2C%20-87.6445071%5D%2C%0A%20%20%20%20%20%20%20%20%20%20%20%20%20%20%20%20%7B%7D%0A%20%20%20%20%20%20%20%20%20%20%20%20%29.addTo%28map_29a1928139fb4af2831384dd6ff20e6c%29%3B%0A%20%20%20%20%20%20%20%20%0A%20%20%20%20%0A%20%20%20%20%20%20%20%20%20%20%20%20var%20icon_c555af208c2a4694ada068899916fc17%20%3D%20L.AwesomeMarkers.icon%28%0A%20%20%20%20%20%20%20%20%20%20%20%20%20%20%20%20%7B%22extraClasses%22%3A%20%22fa-rotate-0%22%2C%20%22icon%22%3A%20%22coffee%22%2C%20%22iconColor%22%3A%20%22white%22%2C%20%22markerColor%22%3A%20%22blue%22%2C%20%22prefix%22%3A%20%22fa%22%7D%0A%20%20%20%20%20%20%20%20%20%20%20%20%29%3B%0A%20%20%20%20%20%20%20%20%20%20%20%20marker_2f8076efe506481a8e4e70608cfb4220.setIcon%28icon_c555af208c2a4694ada068899916fc17%29%3B%0A%20%20%20%20%20%20%20%20%0A%20%20%20%20%0A%20%20%20%20%20%20%20%20var%20popup_7a70936e745e4193b8a546ea9c3a3860%20%3D%20L.popup%28%7B%22maxWidth%22%3A%20%22100%25%22%7D%29%3B%0A%0A%20%20%20%20%20%20%20%20%0A%20%20%20%20%20%20%20%20%20%20%20%20var%20html_ac4a15e883464e03af15a23904e9beab%20%3D%20%24%28%60%3Cdiv%20id%3D%22html_ac4a15e883464e03af15a23904e9beab%22%20style%3D%22width%3A%20100.0%25%3B%20height%3A%20100.0%25%3B%22%3EPhoebe%E2%80%99s%20Bakery%3C/div%3E%60%29%5B0%5D%3B%0A%20%20%20%20%20%20%20%20%20%20%20%20popup_7a70936e745e4193b8a546ea9c3a3860.setContent%28html_ac4a15e883464e03af15a23904e9beab%29%3B%0A%20%20%20%20%20%20%20%20%0A%0A%20%20%20%20%20%20%20%20marker_2f8076efe506481a8e4e70608cfb4220.bindPopup%28popup_7a70936e745e4193b8a546ea9c3a3860%29%0A%20%20%20%20%20%20%20%20%3B%0A%0A%20%20%20%20%20%20%20%20%0A%20%20%20%20%0A%20%20%20%20%0A%20%20%20%20%20%20%20%20%20%20%20%20marker_2f8076efe506481a8e4e70608cfb4220.bindTooltip%28%0A%20%20%20%20%20%20%20%20%20%20%20%20%20%20%20%20%60%3Cdiv%3E%0A%20%20%20%20%20%20%20%20%20%20%20%20%20%20%20%20%20%20%20%20%20%203351%20N.%20Broadwa%0A%20%20%20%20%20%20%20%20%20%20%20%20%20%20%20%20%20%3C/div%3E%60%2C%0A%20%20%20%20%20%20%20%20%20%20%20%20%20%20%20%20%7B%22sticky%22%3A%20true%7D%0A%20%20%20%20%20%20%20%20%20%20%20%20%29%3B%0A%20%20%20%20%20%20%20%20%0A%3C/script%3E onload=\"this.contentDocument.open();this.contentDocument.write(    decodeURIComponent(this.getAttribute('data-html')));this.contentDocument.close();\" allowfullscreen webkitallowfullscreen mozallowfullscreen></iframe></div></div>"
      ],
      "text/plain": [
       "<folium.folium.Map at 0x23c25b78280>"
      ]
     },
     "execution_count": 79,
     "metadata": {},
     "output_type": "execute_result"
    }
   ],
   "source": [
    "mapping = folium.Map(location=[\"41.8781136\", \"-87.6297982\"], zoom_start=11)\n",
    "\n",
    "for idx, rows in df.iterrows():\n",
    "    if not rows[\"Address\"] == \"Multiple location\":\n",
    "        folium.Marker(\n",
    "            location=[rows[\"lat\"], rows[\"lng\"]],\n",
    "            popup=rows[\"Cafe\"],\n",
    "            tooltip=rows[\"Address\"],\n",
    "            icon=folium.Icon(\n",
    "                icon=\"coffee\",\n",
    "                prefix=\"fa\",\n",
    "            )\n",
    "        ).add_to(mapping)\n",
    "\n",
    "mapping"
   ]
  },
  {
   "cell_type": "markdown",
   "metadata": {},
   "source": [
    "---"
   ]
  }
 ],
 "metadata": {
  "interpreter": {
   "hash": "852ffbd54b93776a006f6e912c9caa67ee6d3889e8d5af8e94bd9864a0a08bba"
  },
  "kernelspec": {
   "display_name": "Python 3 (ipykernel)",
   "language": "python",
   "name": "python3"
  },
  "language_info": {
   "codemirror_mode": {
    "name": "ipython",
    "version": 3
   },
   "file_extension": ".py",
   "mimetype": "text/x-python",
   "name": "python",
   "nbconvert_exporter": "python",
   "pygments_lexer": "ipython3",
   "version": "3.9.7"
  }
 },
 "nbformat": 4,
 "nbformat_minor": 2
}

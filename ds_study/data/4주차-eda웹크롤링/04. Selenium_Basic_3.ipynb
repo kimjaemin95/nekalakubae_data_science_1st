{
 "cells": [
  {
   "cell_type": "markdown",
   "id": "288ee852",
   "metadata": {},
   "source": [
    "- selenium_basic_1 => iframe \n",
    "- selenium_basic_2 => headless \n",
    "- selenium_basic_3 => wait"
   ]
  },
  {
   "cell_type": "markdown",
   "id": "7a07eab9",
   "metadata": {},
   "source": [
    "## Wait \n",
    "- time.sleep(5): 물리적으로 5초 동안 멈추고 기다리죠\n",
    "- implicityly_wait(10)\n",
    "    - 전체 페이지 로딩을 최대 10초 간 기다리고, 10초 안에 페이지 로딩이 완료되면 다음 코드 실행\n",
    "    - 한 번만 실행하면, 전역(global)로 실행이 가능합니다. \n",
    "- explicitly wait \n",
    "    - 지정한 태그만 로딩이 완료되면, 다음 코드 실행"
   ]
  },
  {
   "cell_type": "markdown",
   "id": "d175f6e5",
   "metadata": {},
   "source": [
    "- 무신사 스토어 \n",
    "- https://store.musinsa.com/app/\n",
    "- 인기 => 후드 집업 \n",
    "- 단독상품, 세일상품 조건을 선택\n",
    "- 최소~최대 금액 입력\n",
    "- 옷 이름, 가격, 할인율, 링크, 이미지"
   ]
  },
  {
   "cell_type": "code",
   "execution_count": 167,
   "id": "a87dc4d6",
   "metadata": {},
   "outputs": [],
   "source": [
    "import pandas as pd \n",
    "import time \n",
    "from selenium import webdriver\n",
    "\n",
    "# explicitly wait\n",
    "from selenium.webdriver.common.by import By\n",
    "from selenium.webdriver.support.ui import WebDriverWait\n",
    "from selenium.webdriver.support import expected_conditions as EC"
   ]
  },
  {
   "cell_type": "code",
   "execution_count": 168,
   "id": "57979435",
   "metadata": {},
   "outputs": [],
   "source": [
    "url = \"https://store.musinsa.com/app/\"\n",
    "driver = webdriver.Chrome(\"../driver/chromedriver\") \n",
    "# 웹 페이지 전체가 로딩 될 때까지 10초간 대기하고, \n",
    "# 10초안에 로딩이 완료되면 다음 코드를 실행\n",
    "driver.implicitly_wait(10) \n",
    "driver.get(url)"
   ]
  },
  {
   "cell_type": "code",
   "execution_count": 6,
   "id": "256c0bd7",
   "metadata": {},
   "outputs": [],
   "source": [
    "# 로그인 버튼 클릭 - 1 \n",
    "driver.find_element_by_css_selector(\"#default_top > div.header-member > button\").click()"
   ]
  },
  {
   "cell_type": "code",
   "execution_count": 7,
   "id": "984cc491",
   "metadata": {},
   "outputs": [],
   "source": [
    "# 아이디 입력 \n",
    "driver.find_element_by_css_selector(\"body > div.musinsa-wrapper.wrapper-member.devicePC > div > form > input:nth-child(2)\").send_keys(\"zerobase\")"
   ]
  },
  {
   "cell_type": "code",
   "execution_count": 8,
   "id": "f0dce1a4",
   "metadata": {},
   "outputs": [],
   "source": [
    "# 패스워드 입력\n",
    "driver.find_element_by_css_selector(\"body > div.musinsa-wrapper.wrapper-member.devicePC > div > form > input:nth-child(3)\").send_keys(\"zerobase\")"
   ]
  },
  {
   "cell_type": "code",
   "execution_count": 9,
   "id": "25048997",
   "metadata": {},
   "outputs": [],
   "source": [
    "# 로그인 버튼 클릭 - 2 \n",
    "driver.find_element_by_css_selector(\"body > div.musinsa-wrapper.wrapper-member.devicePC > div > form > button\").click()"
   ]
  },
  {
   "cell_type": "code",
   "execution_count": 10,
   "id": "e6eb41e9",
   "metadata": {},
   "outputs": [],
   "source": [
    "# alert \n",
    "driver.switch_to.alert.accpet()"
   ]
  },
  {
   "cell_type": "code",
   "execution_count": 12,
   "id": "95ae9fa5",
   "metadata": {},
   "outputs": [],
   "source": [
    "WebDriverWait(driver, 5).\\\n",
    "until(EC.presence_of_element_located((By.CSS_SELECTOR, \"#default_top > div.header-member > button\"))).click()"
   ]
  },
  {
   "cell_type": "code",
   "execution_count": 14,
   "id": "fcf0636d",
   "metadata": {},
   "outputs": [],
   "source": [
    "#  아이디(wait)\n",
    "WebDriverWait(driver, 5).\\\n",
    "until(EC.presence_of_element_located((By.CSS_SELECTOR, \"body > div.musinsa-wrapper.wrapper-member.devicePC > div > form > input:nth-child(2)\"))).send_keys(\"zerobase\")\n",
    "\n",
    "# 패스워드(wait)\n",
    "WebDriverWait(driver, 5).\\\n",
    "until(EC.presence_of_element_located((By.CSS_SELECTOR, \"body > div.musinsa-wrapper.wrapper-member.devicePC > div > form > input:nth-child(3)\"))).send_keys(\"zerobase\")\n",
    "\n",
    "# 로그인 버튼 클릭(wait)\n",
    "WebDriverWait(driver, 5).\\\n",
    "until(EC.presence_of_element_located((By.CSS_SELECTOR, \"body > div.musinsa-wrapper.wrapper-member.devicePC > div > form > button\"))).click()"
   ]
  },
  {
   "cell_type": "code",
   "execution_count": 146,
   "id": "5812416f",
   "metadata": {},
   "outputs": [
    {
     "data": {
      "text/plain": [
       "'https://search.musinsa.com/category/002022'"
      ]
     },
     "execution_count": 146,
     "metadata": {},
     "output_type": "execute_result"
    }
   ],
   "source": [
    "# 인기 => 후드 집업 \n",
    "best_link = driver.find_element_by_css_selector(\"#ui-id-2 > ul:nth-child(1) > li:nth-child(1) > a\").get_attribute(\"href\")\n",
    "best_link"
   ]
  },
  {
   "cell_type": "code",
   "execution_count": 147,
   "id": "6dfdc9f4",
   "metadata": {},
   "outputs": [],
   "source": [
    "# 인기 => 후드 집업 링크 => 새 탭으로 열기 \n",
    "driver.execute_script(\"window.open('{}')\".format(best_link))"
   ]
  },
  {
   "cell_type": "code",
   "execution_count": 148,
   "id": "04ccf0c2",
   "metadata": {},
   "outputs": [
    {
     "name": "stderr",
     "output_type": "stream",
     "text": [
      "/var/folders/8c/jb57288j6xlb3s_tkmys1kj00000gn/T/ipykernel_4503/827030677.py:2: DeprecationWarning: use driver.switch_to.window instead\n",
      "  driver.switch_to_window(driver.window_handles[1])\n"
     ]
    }
   ],
   "source": [
    "# 후드 집업 탭으로 이동 \n",
    "driver.switch_to_window(driver.window_handles[1])"
   ]
  },
  {
   "cell_type": "code",
   "execution_count": 169,
   "id": "0f96d1b5",
   "metadata": {},
   "outputs": [],
   "source": [
    "# 단독 상품 \n",
    "# driver.find_element_by_css_selector(\"#btn_exclusive\").click()\n",
    "\n",
    "WebDriverWait(driver, 5).\\\n",
    "until(EC.presence_of_element_located((By.CSS_SELECTOR, \"#btn_exclusive\"))).click()\n",
    "\n",
    "# 세일 상품 \n",
    "WebDriverWait(driver, 5).\\\n",
    "until(EC.presence_of_element_located((By.CSS_SELECTOR, \"#btn_sale\"))).click()"
   ]
  },
  {
   "cell_type": "code",
   "execution_count": 170,
   "id": "e60e2ba4",
   "metadata": {},
   "outputs": [],
   "source": [
    "# 최소 ~ 최대 금액 설정  \n",
    "WebDriverWait(driver, 5).\\\n",
    "until(EC.presence_of_element_located((By.CSS_SELECTOR, \"#minPrice\"))).send_keys(\"10000\")\n",
    "WebDriverWait(driver, 5).\\\n",
    "until(EC.presence_of_element_located((By.CSS_SELECTOR, \"#maxPrice\"))).send_keys(\"100000\")\n",
    "WebDriverWait(driver, 5).\\\n",
    "until(EC.presence_of_element_located((By.CSS_SELECTOR, \"#btn_price_search\"))).click()"
   ]
  },
  {
   "cell_type": "code",
   "execution_count": 175,
   "id": "5fb16ed7",
   "metadata": {},
   "outputs": [
    {
     "data": {
      "text/plain": [
       "90"
      ]
     },
     "execution_count": 175,
     "metadata": {},
     "output_type": "execute_result"
    }
   ],
   "source": [
    "# 부모 태그 \n",
    "\n",
    "outers = driver.find_elements_by_css_selector(\"#searchList > li\")\n",
    "len(outers)"
   ]
  },
  {
   "cell_type": "code",
   "execution_count": 176,
   "id": "f7d93379",
   "metadata": {},
   "outputs": [
    {
     "data": {
      "text/plain": [
       "'[F/W] 이지 셋업 스웨트 투웨이 집업 후드 [BLACK]'"
      ]
     },
     "execution_count": 176,
     "metadata": {},
     "output_type": "execute_result"
    }
   ],
   "source": [
    "# 자식 태그 \n",
    "# 옷 이름\n",
    "outers[39].find_element_by_css_selector(\"p.list_info > a\").get_attribute(\"title\")"
   ]
  },
  {
   "cell_type": "code",
   "execution_count": 177,
   "id": "988b6e96",
   "metadata": {},
   "outputs": [
    {
     "data": {
      "text/plain": [
       "'49,600'"
      ]
     },
     "execution_count": 177,
     "metadata": {},
     "output_type": "execute_result"
    }
   ],
   "source": [
    "# 옷 가격 \n",
    "outers[39].find_element_by_css_selector(\"p.price\").text.split(\" \")[1][:-1]"
   ]
  },
  {
   "cell_type": "code",
   "execution_count": 178,
   "id": "e910163a",
   "metadata": {},
   "outputs": [
    {
     "data": {
      "text/plain": [
       "'20'"
      ]
     },
     "execution_count": 178,
     "metadata": {},
     "output_type": "execute_result"
    }
   ],
   "source": [
    "# 할인율\n",
    "outers[39].find_element_by_css_selector(\".icon_new\").text.split(\" \")[1][:-1]"
   ]
  },
  {
   "cell_type": "code",
   "execution_count": 193,
   "id": "dc22314d",
   "metadata": {},
   "outputs": [
    {
     "data": {
      "text/plain": [
       "'https://store.musinsa.com/app/goods/2138390'"
      ]
     },
     "execution_count": 193,
     "metadata": {},
     "output_type": "execute_result"
    }
   ],
   "source": [
    "# 세부 링크 \n",
    "outers[39].find_element_by_css_selector(\"p.list_info > a\").get_attribute(\"href\")"
   ]
  },
  {
   "cell_type": "code",
   "execution_count": 203,
   "id": "10bca92b",
   "metadata": {},
   "outputs": [
    {
     "name": "stdout",
     "output_type": "stream",
     "text": [
      "https://image.msscdn.net/images/goods_img/20210916/2138390/2138390_1_125.jpg\n"
     ]
    }
   ],
   "source": [
    "# 이미지 \n",
    "\n",
    "try: \n",
    "    print(outers[39].find_element_by_css_selector(\"img\").get_attribute(\"src\"))\n",
    "except:\n",
    "    print(outers[39].find_element_by_css_selector(\"img\").get_attribute(\"data-original\"))"
   ]
  },
  {
   "cell_type": "code",
   "execution_count": 201,
   "id": "c5e09ab3",
   "metadata": {},
   "outputs": [
    {
     "data": {
      "text/plain": [
       "'https://image.msscdn.net/images/goods_img/20180914/858549/858549_2_125.jpg'"
      ]
     },
     "execution_count": 201,
     "metadata": {},
     "output_type": "execute_result"
    }
   ],
   "source": [
    "outers[10].find_element_by_css_selector(\"img\").get_attribute(\"src\")"
   ]
  },
  {
   "cell_type": "code",
   "execution_count": 202,
   "id": "13e0b457",
   "metadata": {},
   "outputs": [
    {
     "data": {
      "text/plain": [
       "'https://image.msscdn.net/images/goods_img/20210817/2066200/2066200_1_125.jpg'"
      ]
     },
     "execution_count": 202,
     "metadata": {},
     "output_type": "execute_result"
    }
   ],
   "source": [
    "outers[13].find_element_by_css_selector(\"img\").get_attribute(\"data-original\")"
   ]
  },
  {
   "cell_type": "code",
   "execution_count": 156,
   "id": "d8c6b7b7",
   "metadata": {},
   "outputs": [
    {
     "name": "stdout",
     "output_type": "stream",
     "text": [
      "mkdir: musinsa: File exists\r\n"
     ]
    }
   ],
   "source": [
    "!mkdir musinsa "
   ]
  },
  {
   "cell_type": "code",
   "execution_count": null,
   "id": "0effd1f3",
   "metadata": {},
   "outputs": [],
   "source": []
  },
  {
   "cell_type": "code",
   "execution_count": null,
   "id": "78f49ea9",
   "metadata": {},
   "outputs": [],
   "source": []
  },
  {
   "cell_type": "code",
   "execution_count": 97,
   "id": "651141e3",
   "metadata": {},
   "outputs": [],
   "source": [
    "import requests"
   ]
  },
  {
   "cell_type": "code",
   "execution_count": 100,
   "id": "e7ec4bef",
   "metadata": {},
   "outputs": [
    {
     "data": {
      "text/plain": [
       "b'\\xff\\xd8\\xff\\xe0\\x00'"
      ]
     },
     "execution_count": 100,
     "metadata": {},
     "output_type": "execute_result"
    }
   ],
   "source": [
    "res = requests.get(outers[0].find_element_by_css_selector(\"img\").get_attribute(\"src\"))\n",
    "res.content[:5]"
   ]
  },
  {
   "cell_type": "code",
   "execution_count": 102,
   "id": "24d356cb",
   "metadata": {},
   "outputs": [],
   "source": [
    "with open(\"./musinsa/outer.png\", \"wb\") as f: \n",
    "    f.write(res.content)"
   ]
  },
  {
   "cell_type": "code",
   "execution_count": 105,
   "id": "744c301f",
   "metadata": {},
   "outputs": [],
   "source": [
    "driver.quit()"
   ]
  },
  {
   "cell_type": "code",
   "execution_count": 220,
   "id": "23a80cea",
   "metadata": {},
   "outputs": [
    {
     "name": "stderr",
     "output_type": "stream",
     "text": [
      "/var/folders/8c/jb57288j6xlb3s_tkmys1kj00000gn/T/ipykernel_4503/1904951123.py:7: TqdmDeprecationWarning: This function will be removed in tqdm==5.0.0\n",
      "Please use `tqdm.notebook.tqdm` instead of `tqdm.tqdm_notebook`\n",
      "  for outer in tqdm_notebook(outers[:3]):\n"
     ]
    },
    {
     "data": {
      "application/vnd.jupyter.widget-view+json": {
       "model_id": "4699bd807c89411ab195a0cfa85b83dd",
       "version_major": 2,
       "version_minor": 0
      },
      "text/plain": [
       "  0%|          | 0/3 [00:00<?, ?it/s]"
      ]
     },
     "metadata": {},
     "output_type": "display_data"
    },
    {
     "data": {
      "text/html": [
       "<div>\n",
       "<style scoped>\n",
       "    .dataframe tbody tr th:only-of-type {\n",
       "        vertical-align: middle;\n",
       "    }\n",
       "\n",
       "    .dataframe tbody tr th {\n",
       "        vertical-align: top;\n",
       "    }\n",
       "\n",
       "    .dataframe thead th {\n",
       "        text-align: right;\n",
       "    }\n",
       "</style>\n",
       "<table border=\"1\" class=\"dataframe\">\n",
       "  <thead>\n",
       "    <tr style=\"text-align: right;\">\n",
       "      <th></th>\n",
       "      <th>title</th>\n",
       "      <th>price</th>\n",
       "      <th>sale</th>\n",
       "      <th>link</th>\n",
       "      <th>img</th>\n",
       "    </tr>\n",
       "  </thead>\n",
       "  <tbody>\n",
       "    <tr>\n",
       "      <th>0</th>\n",
       "      <td>2WAY 스웻 후드 집업 (MELANGE GREY)</td>\n",
       "      <td>39,000</td>\n",
       "      <td>13</td>\n",
       "      <td>https://store.musinsa.com/app/goods/1778404</td>\n",
       "      <td>https://image.msscdn.net/images/goods_img/2021...</td>\n",
       "    </tr>\n",
       "    <tr>\n",
       "      <th>1</th>\n",
       "      <td>엔젤 와펜 집업 후드 그레이</td>\n",
       "      <td>63,200</td>\n",
       "      <td>20</td>\n",
       "      <td>https://store.musinsa.com/app/goods/1134355</td>\n",
       "      <td>https://image.msscdn.net/images/goods_img/2019...</td>\n",
       "    </tr>\n",
       "    <tr>\n",
       "      <th>2</th>\n",
       "      <td>스탠다드 후드 스웨트 집업 - 멜란지 그레이</td>\n",
       "      <td>35,890</td>\n",
       "      <td>10</td>\n",
       "      <td>https://store.musinsa.com/app/goods/640839</td>\n",
       "      <td>https://image.msscdn.net/images/goods_img/2017...</td>\n",
       "    </tr>\n",
       "  </tbody>\n",
       "</table>\n",
       "</div>"
      ],
      "text/plain": [
       "                          title   price sale  \\\n",
       "0  2WAY 스웻 후드 집업 (MELANGE GREY)  39,000   13   \n",
       "1               엔젤 와펜 집업 후드 그레이  63,200   20   \n",
       "2      스탠다드 후드 스웨트 집업 - 멜란지 그레이  35,890   10   \n",
       "\n",
       "                                          link  \\\n",
       "0  https://store.musinsa.com/app/goods/1778404   \n",
       "1  https://store.musinsa.com/app/goods/1134355   \n",
       "2   https://store.musinsa.com/app/goods/640839   \n",
       "\n",
       "                                                 img  \n",
       "0  https://image.msscdn.net/images/goods_img/2021...  \n",
       "1  https://image.msscdn.net/images/goods_img/2019...  \n",
       "2  https://image.msscdn.net/images/goods_img/2017...  "
      ]
     },
     "execution_count": 220,
     "metadata": {},
     "output_type": "execute_result"
    }
   ],
   "source": [
    "# 전체 데이터 크롤링 \n",
    "\n",
    "from tqdm import tqdm_notebook\n",
    "\n",
    "datas = [] \n",
    "\n",
    "for outer in tqdm_notebook(outers[:3]):\n",
    "    title = outer.find_element_by_css_selector(\"p.list_info > a\").get_attribute(\"title\")\n",
    "    price = outer.find_element_by_css_selector(\"p.price\").text.split(\" \")[1][:-1]\n",
    "    sale = outer.find_element_by_css_selector(\".icon_new\").text.split(\" \")[1][:-1]\n",
    "    link = outer.find_element_by_css_selector(\"p.list_info > a\").get_attribute(\"href\")\n",
    "    img = outer.find_element_by_css_selector(\"img\").get_attribute(\"src\")\n",
    "    datas.append({\n",
    "        \"title\": title, \n",
    "        \"price\": price, \n",
    "        \"sale\": sale, \n",
    "        \"link\": link,\n",
    "        \"img\": img\n",
    "    })\n",
    "driver.quit()\n",
    "df = pd.DataFrame(datas)\n",
    "df"
   ]
  },
  {
   "cell_type": "code",
   "execution_count": 221,
   "id": "4e52ce03",
   "metadata": {},
   "outputs": [],
   "source": [
    "driver.quit()"
   ]
  },
  {
   "cell_type": "code",
   "execution_count": 226,
   "id": "7977281c",
   "metadata": {},
   "outputs": [
    {
     "name": "stderr",
     "output_type": "stream",
     "text": [
      "/var/folders/8c/jb57288j6xlb3s_tkmys1kj00000gn/T/ipykernel_4503/2255818728.py:3: TqdmDeprecationWarning: This function will be removed in tqdm==5.0.0\n",
      "Please use `tqdm.notebook.tqdm` instead of `tqdm.tqdm_notebook`\n",
      "  for idx, rows in tqdm_notebook(df.iterrows()):\n"
     ]
    },
    {
     "data": {
      "application/vnd.jupyter.widget-view+json": {
       "model_id": "b9fab8cad4a443fbb367458ed5962621",
       "version_major": 2,
       "version_minor": 0
      },
      "text/plain": [
       "0it [00:00, ?it/s]"
      ]
     },
     "metadata": {},
     "output_type": "display_data"
    }
   ],
   "source": [
    "# 이미지 다운로드 \n",
    "\n",
    "for idx, rows in tqdm_notebook(df.iterrows()):\n",
    "    thumb_link = rows[\"img\"]\n",
    "    response = requests.get(thumb_link)\n",
    "    name = str(idx) + \"_\" + rows[\"title\"]\n",
    "    with open(\"./musinsa/{}.png\".format(name), \"wb\") as f: \n",
    "        f.write(response.content)"
   ]
  },
  {
   "cell_type": "code",
   "execution_count": 2,
   "id": "80a35d81",
   "metadata": {},
   "outputs": [
    {
     "name": "stdout",
     "output_type": "stream",
     "text": [
      "Overwriting ./musinsa.py\n"
     ]
    }
   ],
   "source": [
    "%%writefile ./musinsa.py\n",
    "\n",
    "import pandas as pd \n",
    "import time \n",
    "import requests\n",
    "from selenium import webdriver\n",
    "# explicitly wait\n",
    "from selenium.webdriver.common.by import By\n",
    "from selenium.webdriver.support.ui import WebDriverWait\n",
    "from selenium.webdriver.support import expected_conditions as EC\n",
    "\n",
    "print(\"#1. selenium get url\")\n",
    "options = webdriver.ChromeOptions()\n",
    "options.add_argument(\"headless\")\n",
    "url = \"https://store.musinsa.com/app/\"\n",
    "driver = webdriver.Chrome(\"../driver/chromedriver\", options=options) \n",
    "# 웹 페이지 전체가 로딩 될 때까지 10초간 대기하고, \n",
    "# 10초안에 로딩이 완료되면 다음 코드를 실행\n",
    "driver.implicitly_wait(10) \n",
    "driver.get(url)\n",
    "\n",
    "print(\"#2. maximize window\")\n",
    "# 화면 최대화 \n",
    "driver.maximize_window()\n",
    "\n",
    "print(\"#3. best item\")\n",
    "# 인기 => 후드 집업 \n",
    "best_link = driver.find_element_by_css_selector(\"#ui-id-2 > ul:nth-child(1) > li:nth-child(1) > a\").get_attribute(\"href\")\n",
    "# 인기 => 후드 집업 링크 => 새 탭으로 열기 \n",
    "driver.execute_script(\"window.open('{}')\".format(best_link))\n",
    "# 후드 집업 탭으로 이동 \n",
    "driver.switch_to_window(driver.window_handles[1])\n",
    "print(\"#4. tab open ok! I'm waiting..\")\n",
    "time.sleep(3)\n",
    "\n",
    "print(\"#5. item option check\")\n",
    "# 단독 상품 \n",
    "# driver.find_element_by_css_selector(\"#btn_exclusive\").click()\n",
    "WebDriverWait(driver, 5).\\\n",
    "until(EC.presence_of_element_located((By.CSS_SELECTOR, \"#btn_exclusive\"))).click()\n",
    "# 세일 상품 \n",
    "WebDriverWait(driver, 5).\\\n",
    "until(EC.presence_of_element_located((By.CSS_SELECTOR, \"#btn_sale\"))).click()\n",
    "# 최소 ~ 최대 금액 설정  \n",
    "WebDriverWait(driver, 5).\\\n",
    "until(EC.presence_of_element_located((By.CSS_SELECTOR, \"#minPrice\"))).send_keys(\"10000\")\n",
    "WebDriverWait(driver, 5).\\\n",
    "until(EC.presence_of_element_located((By.CSS_SELECTOR, \"#maxPrice\"))).send_keys(\"100000\")\n",
    "WebDriverWait(driver, 5).\\\n",
    "until(EC.presence_of_element_located((By.CSS_SELECTOR, \"#btn_price_search\"))).click()\n",
    "print(\"#6. item option check done! I'm waiting\")\n",
    "time.sleep(3)\n",
    "\n",
    "print(\"#7. outers crawling start\")\n",
    "# 부모 태그 \n",
    "outers = driver.find_elements_by_css_selector(\"#searchList > li\")\n",
    "\n",
    "# 전체 데이터 크롤링 \n",
    "datas = [] \n",
    "for idx, outer in enumerate(outers[:30]):\n",
    "    title = outer.find_element_by_css_selector(\"p.list_info > a\").get_attribute(\"title\")\n",
    "    price = outer.find_element_by_css_selector(\"p.price\").text.split(\" \")[1][:-1]\n",
    "    sale = outer.find_element_by_css_selector(\".icon_new\").text.split(\" \")[1][:-1]\n",
    "    link = outer.find_element_by_css_selector(\"p.list_info > a\").get_attribute(\"href\")\n",
    "    img = outer.find_element_by_css_selector(\"img\").get_attribute(\"data-original\")\n",
    "    print(img)\n",
    "    datas.append({\n",
    "        \"title\": title, \n",
    "        \"price\": price, \n",
    "        \"sale\": sale, \n",
    "        \"link\": link,\n",
    "        \"img\": img\n",
    "    })\n",
    "    print(\"#8. idx: {}, title: {}\".format(idx, title))\n",
    "driver.quit()\n",
    "df = pd.DataFrame(datas)\n",
    "df.to_excel(\"./musinsa/musinsa.xlsx\", encoding=\"utf-8\")\n",
    "print(\"#9. crawling Done! driver quit & excel save\")\n",
    "\n",
    "print(\"#10. img download\")\n",
    "# 이미지 다운로드 \n",
    "for idx, rows in df.iterrows():\n",
    "    thumb_link = rows[\"img\"]\n",
    "    response = requests.get(thumb_link)\n",
    "    name = str(idx) + \"_\" + rows[\"title\"]\n",
    "    with open(\"./musinsa/{}.png\".format(name), \"wb\") as f: \n",
    "        f.write(response.content)\n",
    "print(\"#11. img download done!\")\n",
    "print(\"#12. Good Job!\")"
   ]
  },
  {
   "cell_type": "code",
   "execution_count": 3,
   "id": "ac2d893f",
   "metadata": {},
   "outputs": [],
   "source": [
    "!rm -rf musinsa/\n",
    "!mkdir musinsa/"
   ]
  },
  {
   "cell_type": "code",
   "execution_count": 4,
   "id": "affeb63c",
   "metadata": {},
   "outputs": [
    {
     "name": "stdout",
     "output_type": "stream",
     "text": [
      "#1. selenium get url\n",
      "#2. maximize window\n",
      "#3. best item\n",
      "musinsa.py:31: DeprecationWarning: use driver.switch_to.window instead\n",
      "  driver.switch_to_window(driver.window_handles[1])\n",
      "#4. tab open ok! I'm waiting..\n",
      "#5. item option check\n",
      "#6. item option check done! I'm waiting\n",
      "#7. outers crawling start\n",
      "https://image.msscdn.net/images/goods_img/20210204/1778404/1778404_1_125.jpg\n",
      "#8. idx: 0, title: 2WAY 스웻 후드 집업 (MELANGE GREY)\n",
      "https://image.msscdn.net/images/goods_img/20190828/1134355/1134355_2_125.jpg\n",
      "#8. idx: 1, title: 엔젤 와펜 집업 후드 그레이\n",
      "https://image.msscdn.net/images/goods_img/20170922/640839/640839_5_125.jpg\n",
      "#8. idx: 2, title: 스탠다드 후드 스웨트 집업 - 멜란지 그레이\n",
      "https://image.msscdn.net/images/goods_img/20200123/1280576/1280576_2_125.jpg\n",
      "#8. idx: 3, title: 코드 후드 집업 자켓 스모크 그레이\n",
      "https://image.msscdn.net/images/goods_img/20210204/1778408/1778408_1_125.jpg\n",
      "#8. idx: 4, title: 2WAY 스웻 후드 집업 (BLACK)\n",
      "https://image.msscdn.net/images/goods_img/20190828/1134354/1134354_2_125.jpg\n",
      "#8. idx: 5, title: 엔젤 와펜 집업 후드 블랙\n",
      "https://image.msscdn.net/images/goods_img/20210105/1737051/1737051_2_125.jpg\n",
      "#8. idx: 6, title: 트위치 로고 스탠다드 후드 집업 그레이\n",
      "https://image.msscdn.net/images/goods_img/20210204/1778406/1778406_1_125.jpg\n",
      "#8. idx: 7, title: 2WAY 스웻 후드 집업 (CHARCOAL)\n",
      "https://image.msscdn.net/images/goods_img/20210105/1737049/1737049_2_125.jpg\n",
      "#8. idx: 8, title: 트위치 로고 스탠다드 후드 집업 블랙\n",
      "https://image.msscdn.net/images/goods_img/20180914/858548/858548_2_125.jpg\n",
      "#8. idx: 9, title: 사인 로고 집업 후드 블랙\n",
      "https://image.msscdn.net/images/goods_img/20180914/858549/858549_2_125.jpg\n",
      "#8. idx: 10, title: 사인 로고 집업 후드 그레이\n",
      "https://image.msscdn.net/images/goods_img/20170922/640838/640838_5_125.jpg\n",
      "#8. idx: 11, title: 스탠다드 후드 스웨트 집업 - 블랙\n",
      "https://image.msscdn.net/images/goods_img/20200123/1280570/1280570_2_125.jpg\n",
      "#8. idx: 12, title: 코드 후드 집업 자켓 블랙\n",
      "https://image.msscdn.net/images/goods_img/20210817/2066200/2066200_1_125.jpg\n",
      "#8. idx: 13, title: EMBROIDERY HANDSOME DAN HOODIE ZIP UP BLACK\n",
      "https://image.msscdn.net/images/goods_img/20200901/1576565/1576565_4_125.jpg\n",
      "#8. idx: 14, title: 스몰 어센틱 로고 후디 집업 그레이\n",
      "https://image.msscdn.net/images/goods_img/20200901/1576564/1576564_4_125.jpg\n",
      "#8. idx: 15, title: 스몰 어센틱 로고 후디 집업 블랙\n",
      "https://image.msscdn.net/images/goods_img/20210817/2066202/2066202_1_125.jpg\n",
      "#8. idx: 16, title: EMBROIDERY HANDSOME DAN HOODIE ZIP UP PG CHARCOAL\n",
      "https://image.msscdn.net/images/goods_img/20200805/1537506/1537506_2_125.jpg\n",
      "#8. idx: 17, title: [SET]트래블러 피그먼트 트레이닝 셋업 블랙 차콜\n",
      "https://image.msscdn.net/images/goods_img/20200818/1551961/1551961_2_125.jpg\n",
      "#8. idx: 18, title: [패키지] BASIC LOGO EMB HOOD ZIP-UP [LRPWCTZ341M]\n",
      "https://image.msscdn.net/images/goods_img/20210204/1778401/1778401_1_125.jpg\n",
      "#8. idx: 19, title: 2WAY 스웻 후드 집업 (OATMEAL)\n",
      "https://image.msscdn.net/images/goods_img/20210915/2131991/2131991_1_125.jpg\n",
      "#8. idx: 20, title: (기모VER.) 2WAY 스웻 후드 집업 (MELANGE GRAY)\n",
      "https://image.msscdn.net/images/goods_img/20200901/1573774/1573774_3_125.jpg\n",
      "#8. idx: 21, title: 유니섹스 오버핏 듀얼라이즈 로고 후드 집 업-그레이\n",
      "https://image.msscdn.net/images/goods_img/20210209/1788019/1788019_1_125.jpg\n",
      "#8. idx: 22, title: [블랙 워치] 코드 후드 집업 자켓\n",
      "https://image.msscdn.net/images/goods_img/20190808/1114466/1114466_3_125.jpg\n",
      "#8. idx: 23, title: 2ND 프론트 원스 후드집업[블랙]\n",
      "https://image.msscdn.net/images/goods_img/20210913/2126642/2126642_1_125.jpg\n",
      "#8. idx: 24, title: 더블택 오버핏 2Way 후드집업 (멜란지)\n",
      "https://image.msscdn.net/images/goods_img/20210915/2131977/2131977_1_125.jpg\n",
      "#8. idx: 25, title: (기모VER.) 2WAY 스웻 후드 집업 (BLACK)\n",
      "https://image.msscdn.net/images/goods_img/20210915/2131974/2131974_1_125.jpg\n",
      "#8. idx: 26, title: (기모VER.) 2WAY 스웻 후드 집업 (CHARCOAL)\n",
      "https://image.msscdn.net/images/goods_img/20210913/2126647/2126647_1_125.jpg\n",
      "#8. idx: 27, title: 더블택 오버핏 2Way 후드집업 (블랙)\n",
      "https://image.msscdn.net/images/goods_img/20190808/1114467/1114467_3_125.jpg\n",
      "#8. idx: 28, title: 2ND 프론트 원스 후드집업[그레이]\n",
      "https://image.msscdn.net/images/goods_img/20170922/640840/640840_5_125.jpg\n",
      "#8. idx: 29, title: 스탠다드 후드 스웨트 집업 - 네이비\n",
      "#9. crawling Done! driver quit & excel save\n",
      "#10. img download\n",
      "#11. img download done!\n",
      "#12. Good Job!\n"
     ]
    }
   ],
   "source": [
    "!python musinsa.py"
   ]
  },
  {
   "cell_type": "code",
   "execution_count": null,
   "id": "27c444a1",
   "metadata": {},
   "outputs": [],
   "source": []
  }
 ],
 "metadata": {
  "kernelspec": {
   "display_name": "Python 3.8.10 64-bit ('ds_study': conda)",
   "language": "python",
   "name": "python3810jvsc74a57bd03610ee91c5c4f402e2a221b72d3f307d9026c816703f030e60b79f72e150867e"
  },
  "language_info": {
   "codemirror_mode": {
    "name": "ipython",
    "version": 3
   },
   "file_extension": ".py",
   "mimetype": "text/x-python",
   "name": "python",
   "nbconvert_exporter": "python",
   "pygments_lexer": "ipython3",
   "version": "3.8.10"
  }
 },
 "nbformat": 4,
 "nbformat_minor": 5
}
